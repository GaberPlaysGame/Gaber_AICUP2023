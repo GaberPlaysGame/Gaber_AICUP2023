{
  "cells": [
    {
      "attachments": {},
      "cell_type": "markdown",
      "metadata": {},
      "source": [
        "# Baseline\n",
        "python: 3.8.*\n",
        "\n",
        "use ```Ctrl + ]``` to collapse all section :)"
      ]
    },
    {
      "attachments": {},
      "cell_type": "markdown",
      "metadata": {},
      "source": [
        "Download our starter pack (3~5 min)"
      ]
    },
    {
      "cell_type": "code",
      "execution_count": null,
      "metadata": {},
      "outputs": [],
      "source": [
        "!gdown 1Xq2Fv6UGA1pc25pF0qwEc_l7Fa5jPP6p"
      ]
    },
    {
      "cell_type": "code",
      "execution_count": 2,
      "metadata": {},
      "outputs": [
        {
          "name": "stdout",
          "output_type": "stream",
          "text": [
            "Retrieving folder 15cJ_K2Tm95UkHgnvvPdMqGQy0_At6lRI checkpoints\n",
            "Retrieving folder 1jIWaLk4VLXEEm7au12mH80bKqFS3-ZKk claim_verification\n",
            "Retrieving folder 1DVfRginiE0thVjKELz7DCsEMYltRaTDG e20_bs32_7e-05_top5\n",
            "Processing file 1AGMfElEghEnYWLYU0YURZrBzmskYuovm val_acc=0.4259_model.750.pt\n",
            "Retrieving folder 19-pRgA1elB6U2UklW6DmUUm9R4qraAu8 sent_retrieval\n",
            "Retrieving folder 15zhuj7t3s5vG4JtFS_PNRTtE5l9mv0nZ e1_bs64_2e-05_neg0.03_top5\n",
            "Processing file 1PBBfgu9lV8_hHdmZRT99bAk_Zl51MZcr model.50.pt\n",
            "Retrieving folder 1r742uPeVnqUm04qUEZpzzpxXZFbj4gNd data\n",
            "Processing file 1hBMys30E2Tw-QCt8FDKKnu-eF_G1tGio dev_doc5sent5.jsonl\n",
            "Processing file 1iHSNpooXDLurizn9sxUbY1Fpk-h9La3i dev_doc5sent5.pkl\n",
            "Processing file 1a0e__D64L8CWhZsvuYZZuXiOZ7a99Bnj hanlp_con_results.pkl\n",
            "Processing file 1BFeoxCm5n0fauW9rbNqy6Se9dK9RnbEJ hanlp_con_test_results.pkl\n",
            "Processing file 1rTvOEQAZG7Hs5aVlTvpnZSW89JWNTUzK public_test.jsonl\n",
            "Processing file 1TbIsMs71WZP2kRpgnn2U383mPavu1G-b public_train.jsonl\n",
            "Processing file 1PDGOk2CCw7LFsATSN02TO8Q3qWIZEnon test_doc5.jsonl\n",
            "Processing file 1xOwH__ssVWnlCbyQfMXgkedqryKluY3x test_doc5sent5.jsonl\n",
            "Processing file 1P6nFa4heHDJFjiEbdN0m7kn_MpzuSEgR test_doc5sent5.pkl\n",
            "Processing file 1y8MJPXUIUxL5siqjS9lB1eQcLAt_5TbE train_doc5.jsonl\n",
            "Processing file 1mQNvv0M0g7aXql9tUQXXI6rMZh0HdRpD train_doc5sent5.jsonl\n",
            "Processing file 1np70uYaVLVqep62qTKL6nC9COXKHze81 train_doc5sent5.pkl\n",
            "Retrieving folder 1kop6Pkva0oORDU9BFpmN_UOiXCLCAe0c wiki-pages\n",
            "Processing file 1sTVRjhZKNQjIR8K88CMJUCSLw4vveLTg wiki-001.jsonl\n",
            "Processing file 1q6K_oCn22WkKk5ajIhzn8KgzYXuFgVSQ wiki-002.jsonl\n",
            "Processing file 1qG0vV8Mx824puUL3Pg_4twiJTvoiXxdk wiki-003.jsonl\n",
            "Processing file 1uyZjqwcj_098mSMgtmak9SLlMZthrk6o wiki-004.jsonl\n",
            "Processing file 1x9OixQWwGivGWsvgZL8dabi4587E3uy9 wiki-005.jsonl\n",
            "Processing file 1OgFP5P7ZztQHeU_xUk21ycNLzoflfJQy wiki-006.jsonl\n",
            "Processing file 1JJwlu2FGm_dyAd28dQjroQmi1fb8_5Sx wiki-007.jsonl\n",
            "Processing file 1sH6X5JheiEkfOwZRq7HPE5U1pueMqsjF wiki-008.jsonl\n",
            "Processing file 1eMguWqUTjo0Q6HYJvT4pf3YLuEdF8aUV wiki-009.jsonl\n",
            "Processing file 1R9HW0GeQXBo5Bi6mcDXXqi_me6ARW3g3 wiki-010.jsonl\n",
            "Processing file 1TlvJf5lP62-a7PCCd7O42JnJso6ppnqN wiki-011.jsonl\n",
            "Processing file 1QDEKOyShPsSGQrGzw8ChJrjrjSBzzmr- wiki-012.jsonl\n",
            "Processing file 1kfREF9TzQXLo2RYhjfYah1EunZopx48r wiki-013.jsonl\n",
            "Processing file 1qmxE66ewfRvKPEdqZ6FzqpWl-jFb_-cU wiki-014.jsonl\n",
            "Processing file 1MRRMRWX7Ig1jB5uMVr-El3CP8eLxY63G wiki-015.jsonl\n",
            "Processing file 1soh98CaH5tyPuLo0QpvUGuy9Nw_0g4c5 wiki-016.jsonl\n",
            "Processing file 1qkTBd7LKsUf97j8LSUKZhlpPfLguQ9dx wiki-017.jsonl\n",
            "Processing file 16LF2Z-WUGJFRe8y851O6_F3_vNOrA2Ky wiki-018.jsonl\n",
            "Processing file 1IU2m8Cm3LPNNlteGNyjeVfFc1orddsch wiki-019.jsonl\n",
            "Processing file 108HqVkaZm4uxehs3R5YJAdr-x3HSLirD wiki-020.jsonl\n",
            "Processing file 14UgYxH3rOg_DSU-ZgIh-AJFqlXAhQYkB wiki-021.jsonl\n",
            "Processing file 1D5E8liujJNzSUsDup8F4Ew2jZrc4domM wiki-022.jsonl\n",
            "Processing file 1EFzRoQvvis8REbL6q1z4K0zGVzO6oFGi wiki-023.jsonl\n",
            "Processing file 15C701SJCcj__2rqbyeNUI6hKjHSPQZT3 wiki-024.jsonl\n",
            "Processing file 15pH4nITCgsGPoQQaqC2ga1xOLO-A_OjB dataset.py\n",
            "Processing file 1NI--USaKNFZOJfWRSCiN-i7twL-2mhFm requirements.txt\n",
            "Processing file 1omVZDMgvWvH15-yegcfNBmJvmBRcG2Rs utils.py\n",
            "Building directory structure completed\n",
            "Access denied with the following error:\n"
          ]
        },
        {
          "name": "stderr",
          "output_type": "stream",
          "text": [
            "Retrieving folder list\n",
            "Retrieving folder list completed\n",
            "Building directory structure\n",
            "\n",
            " \tToo many users have viewed or downloaded this file recently. Please\n",
            "\ttry accessing the file again later. If the file you are trying to\n",
            "\taccess is particularly large or is shared with many people, it may\n",
            "\ttake up to 24 hours to be able to view or download the file. If you\n",
            "\tstill can't access a file after 24 hours, contact your domain\n",
            "\tadministrator. \n",
            "\n",
            "You may still be able to access the file from the browser:\n",
            "\n",
            "\t https://drive.google.com/uc?id=1AGMfElEghEnYWLYU0YURZrBzmskYuovm \n",
            "\n",
            "Download ended unsuccessfully\n",
            "'mv' ���O�����Υ~���R�O�B�i���檺�{���Χ妸�ɡC\n"
          ]
        }
      ],
      "source": [
        "!gdown --folder 1T6jpOtdf_i6XNYA6F_lqU4mRRh1xYPcl\n",
        "!mv baseline/* ./"
      ]
    },
    {
      "cell_type": "code",
      "execution_count": null,
      "metadata": {},
      "outputs": [],
      "source": [
        "!gdown --folder 1hnVYEgN-gYzFCeBZo8cbKjGLBP-YTnTW"
      ]
    },
    {
      "cell_type": "code",
      "execution_count": 3,
      "metadata": {},
      "outputs": [
        {
          "name": "stdout",
          "output_type": "stream",
          "text": [
            "Looking in links: https://download.pytorch.org/whl/torch_stable.html\n",
            "Collecting ipywidgets==8.0.5\n",
            "  Using cached ipywidgets-8.0.5-py3-none-any.whl (138 kB)\n",
            "Requirement already satisfied: pandarallel==1.6.4 in c:\\users\\gaberil0903\\anaconda3\\lib\\site-packages (from -r requirements.txt (line 4)) (1.6.4)\n",
            "Requirement already satisfied: pandas==1.5.3 in c:\\users\\gaberil0903\\anaconda3\\lib\\site-packages (from -r requirements.txt (line 5)) (1.5.3)\n",
            "Requirement already satisfied: scikit-learn==1.2.2 in c:\\users\\gaberil0903\\anaconda3\\lib\\site-packages (from -r requirements.txt (line 6)) (1.2.2)\n",
            "Collecting tensorboard==2.11.0\n",
            "  Using cached tensorboard-2.11.0-py3-none-any.whl (6.0 MB)\n",
            "Requirement already satisfied: torch==1.13.1+cu116 in c:\\users\\gaberil0903\\anaconda3\\lib\\site-packages (from -r requirements.txt (line 8)) (1.13.1+cu116)\n",
            "Requirement already satisfied: tqdm==4.65.0 in c:\\users\\gaberil0903\\anaconda3\\lib\\site-packages (from -r requirements.txt (line 9)) (4.65.0)\n",
            "Requirement already satisfied: opencc in c:\\users\\gaberil0903\\anaconda3\\lib\\site-packages (from -r requirements.txt (line 10)) (1.1.1)\n",
            "Requirement already satisfied: hanlp in c:\\users\\gaberil0903\\anaconda3\\lib\\site-packages (from -r requirements.txt (line 11)) (2.1.0b47)\n",
            "Requirement already satisfied: transformers==4.27.1 in c:\\users\\gaberil0903\\anaconda3\\lib\\site-packages (from -r requirements.txt (line 12)) (4.27.1)\n",
            "Requirement already satisfied: wikipedia==1.4.0 in c:\\users\\gaberil0903\\anaconda3\\lib\\site-packages (from -r requirements.txt (line 13)) (1.4.0)\n",
            "Requirement already satisfied: tcsp in c:\\users\\gaberil0903\\anaconda3\\lib\\site-packages (from -r requirements.txt (line 14)) (0.0.9)\n",
            "Requirement already satisfied: traitlets>=4.3.1 in c:\\users\\gaberil0903\\anaconda3\\lib\\site-packages (from ipywidgets==8.0.5->-r requirements.txt (line 3)) (5.7.1)\n",
            "Requirement already satisfied: widgetsnbextension~=4.0 in c:\\users\\gaberil0903\\anaconda3\\lib\\site-packages (from ipywidgets==8.0.5->-r requirements.txt (line 3)) (4.0.7)\n",
            "Requirement already satisfied: ipython>=6.1.0 in c:\\users\\gaberil0903\\anaconda3\\lib\\site-packages (from ipywidgets==8.0.5->-r requirements.txt (line 3)) (8.10.0)\n",
            "Requirement already satisfied: jupyterlab-widgets~=3.0 in c:\\users\\gaberil0903\\anaconda3\\lib\\site-packages (from ipywidgets==8.0.5->-r requirements.txt (line 3)) (3.0.7)\n",
            "Requirement already satisfied: dill>=0.3.1 in c:\\users\\gaberil0903\\anaconda3\\lib\\site-packages (from pandarallel==1.6.4->-r requirements.txt (line 4)) (0.3.6)\n",
            "Requirement already satisfied: psutil in c:\\users\\gaberil0903\\anaconda3\\lib\\site-packages (from pandarallel==1.6.4->-r requirements.txt (line 4)) (5.9.0)\n",
            "Requirement already satisfied: python-dateutil>=2.8.1 in c:\\users\\gaberil0903\\anaconda3\\lib\\site-packages (from pandas==1.5.3->-r requirements.txt (line 5)) (2.8.2)\n",
            "Requirement already satisfied: numpy>=1.21.0 in c:\\users\\gaberil0903\\anaconda3\\lib\\site-packages (from pandas==1.5.3->-r requirements.txt (line 5)) (1.23.5)\n",
            "Requirement already satisfied: pytz>=2020.1 in c:\\users\\gaberil0903\\anaconda3\\lib\\site-packages (from pandas==1.5.3->-r requirements.txt (line 5)) (2022.7)\n",
            "Requirement already satisfied: scipy>=1.3.2 in c:\\users\\gaberil0903\\anaconda3\\lib\\site-packages (from scikit-learn==1.2.2->-r requirements.txt (line 6)) (1.10.0)\n",
            "Requirement already satisfied: threadpoolctl>=2.0.0 in c:\\users\\gaberil0903\\anaconda3\\lib\\site-packages (from scikit-learn==1.2.2->-r requirements.txt (line 6)) (2.2.0)\n",
            "Requirement already satisfied: joblib>=1.1.1 in c:\\users\\gaberil0903\\anaconda3\\lib\\site-packages (from scikit-learn==1.2.2->-r requirements.txt (line 6)) (1.1.1)\n",
            "Requirement already satisfied: google-auth<3,>=1.6.3 in c:\\users\\gaberil0903\\anaconda3\\lib\\site-packages (from tensorboard==2.11.0->-r requirements.txt (line 7)) (2.17.0)\n",
            "Requirement already satisfied: grpcio>=1.24.3 in c:\\users\\gaberil0903\\anaconda3\\lib\\site-packages (from tensorboard==2.11.0->-r requirements.txt (line 7)) (1.53.0)\n",
            "Requirement already satisfied: markdown>=2.6.8 in c:\\users\\gaberil0903\\anaconda3\\lib\\site-packages (from tensorboard==2.11.0->-r requirements.txt (line 7)) (3.4.1)\n",
            "Requirement already satisfied: tensorboard-plugin-wit>=1.6.0 in c:\\users\\gaberil0903\\anaconda3\\lib\\site-packages (from tensorboard==2.11.0->-r requirements.txt (line 7)) (1.8.1)\n",
            "Requirement already satisfied: werkzeug>=1.0.1 in c:\\users\\gaberil0903\\anaconda3\\lib\\site-packages (from tensorboard==2.11.0->-r requirements.txt (line 7)) (2.2.2)\n",
            "Requirement already satisfied: protobuf<4,>=3.9.2 in c:\\users\\gaberil0903\\anaconda3\\lib\\site-packages (from tensorboard==2.11.0->-r requirements.txt (line 7)) (3.20.3)\n",
            "Requirement already satisfied: tensorboard-data-server<0.7.0,>=0.6.0 in c:\\users\\gaberil0903\\anaconda3\\lib\\site-packages (from tensorboard==2.11.0->-r requirements.txt (line 7)) (0.6.1)\n",
            "Requirement already satisfied: wheel>=0.26 in c:\\users\\gaberil0903\\anaconda3\\lib\\site-packages (from tensorboard==2.11.0->-r requirements.txt (line 7)) (0.38.4)\n",
            "Requirement already satisfied: setuptools>=41.0.0 in c:\\users\\gaberil0903\\anaconda3\\lib\\site-packages (from tensorboard==2.11.0->-r requirements.txt (line 7)) (65.6.3)\n",
            "Requirement already satisfied: google-auth-oauthlib<0.5,>=0.4.1 in c:\\users\\gaberil0903\\anaconda3\\lib\\site-packages (from tensorboard==2.11.0->-r requirements.txt (line 7)) (0.4.6)\n",
            "Requirement already satisfied: absl-py>=0.4 in c:\\users\\gaberil0903\\anaconda3\\lib\\site-packages (from tensorboard==2.11.0->-r requirements.txt (line 7)) (1.4.0)\n",
            "Requirement already satisfied: requests<3,>=2.21.0 in c:\\users\\gaberil0903\\anaconda3\\lib\\site-packages (from tensorboard==2.11.0->-r requirements.txt (line 7)) (2.28.1)\n",
            "Requirement already satisfied: typing-extensions in c:\\users\\gaberil0903\\anaconda3\\lib\\site-packages (from torch==1.13.1+cu116->-r requirements.txt (line 8)) (4.4.0)\n",
            "Requirement already satisfied: colorama in c:\\users\\gaberil0903\\anaconda3\\lib\\site-packages (from tqdm==4.65.0->-r requirements.txt (line 9)) (0.4.6)\n",
            "Requirement already satisfied: tokenizers!=0.11.3,<0.14,>=0.11.1 in c:\\users\\gaberil0903\\anaconda3\\lib\\site-packages (from transformers==4.27.1->-r requirements.txt (line 12)) (0.11.6)\n",
            "Requirement already satisfied: huggingface-hub<1.0,>=0.11.0 in c:\\users\\gaberil0903\\anaconda3\\lib\\site-packages (from transformers==4.27.1->-r requirements.txt (line 12)) (0.13.4)\n",
            "Requirement already satisfied: packaging>=20.0 in c:\\users\\gaberil0903\\anaconda3\\lib\\site-packages (from transformers==4.27.1->-r requirements.txt (line 12)) (22.0)\n",
            "Requirement already satisfied: regex!=2019.12.17 in c:\\users\\gaberil0903\\anaconda3\\lib\\site-packages (from transformers==4.27.1->-r requirements.txt (line 12)) (2022.7.9)\n",
            "Requirement already satisfied: filelock in c:\\users\\gaberil0903\\anaconda3\\lib\\site-packages (from transformers==4.27.1->-r requirements.txt (line 12)) (3.9.0)\n",
            "Requirement already satisfied: pyyaml>=5.1 in c:\\users\\gaberil0903\\anaconda3\\lib\\site-packages (from transformers==4.27.1->-r requirements.txt (line 12)) (6.0)\n",
            "Requirement already satisfied: beautifulsoup4 in c:\\users\\gaberil0903\\anaconda3\\lib\\site-packages (from wikipedia==1.4.0->-r requirements.txt (line 13)) (4.11.1)\n",
            "Requirement already satisfied: toposort==1.5 in c:\\users\\gaberil0903\\anaconda3\\lib\\site-packages (from hanlp->-r requirements.txt (line 11)) (1.5)\n",
            "Requirement already satisfied: hanlp-common>=0.0.19 in c:\\users\\gaberil0903\\anaconda3\\lib\\site-packages (from hanlp->-r requirements.txt (line 11)) (0.0.19)\n",
            "Requirement already satisfied: pynvml in c:\\users\\gaberil0903\\anaconda3\\lib\\site-packages (from hanlp->-r requirements.txt (line 11)) (11.5.0)\n",
            "Requirement already satisfied: hanlp-trie>=0.0.4 in c:\\users\\gaberil0903\\anaconda3\\lib\\site-packages (from hanlp->-r requirements.txt (line 11)) (0.0.5)\n",
            "Requirement already satisfied: sentencepiece>=0.1.91 in c:\\users\\gaberil0903\\anaconda3\\lib\\site-packages (from hanlp->-r requirements.txt (line 11)) (0.1.97)\n",
            "Requirement already satisfied: hanlp-downloader in c:\\users\\gaberil0903\\anaconda3\\lib\\site-packages (from hanlp->-r requirements.txt (line 11)) (0.0.25)\n",
            "Requirement already satisfied: termcolor in c:\\users\\gaberil0903\\anaconda3\\lib\\site-packages (from hanlp->-r requirements.txt (line 11)) (2.2.0)\n",
            "Requirement already satisfied: rsa<5,>=3.1.4 in c:\\users\\gaberil0903\\anaconda3\\lib\\site-packages (from google-auth<3,>=1.6.3->tensorboard==2.11.0->-r requirements.txt (line 7)) (4.9)\n",
            "Requirement already satisfied: six>=1.9.0 in c:\\users\\gaberil0903\\anaconda3\\lib\\site-packages (from google-auth<3,>=1.6.3->tensorboard==2.11.0->-r requirements.txt (line 7)) (1.16.0)\n",
            "Requirement already satisfied: cachetools<6.0,>=2.0.0 in c:\\users\\gaberil0903\\anaconda3\\lib\\site-packages (from google-auth<3,>=1.6.3->tensorboard==2.11.0->-r requirements.txt (line 7)) (5.3.0)\n",
            "Requirement already satisfied: pyasn1-modules>=0.2.1 in c:\\users\\gaberil0903\\anaconda3\\lib\\site-packages (from google-auth<3,>=1.6.3->tensorboard==2.11.0->-r requirements.txt (line 7)) (0.2.8)\n",
            "Requirement already satisfied: requests-oauthlib>=0.7.0 in c:\\users\\gaberil0903\\anaconda3\\lib\\site-packages (from google-auth-oauthlib<0.5,>=0.4.1->tensorboard==2.11.0->-r requirements.txt (line 7)) (1.3.1)\n",
            "Requirement already satisfied: phrasetree in c:\\users\\gaberil0903\\anaconda3\\lib\\site-packages (from hanlp-common>=0.0.19->hanlp->-r requirements.txt (line 11)) (0.0.8)\n",
            "Requirement already satisfied: pygments>=2.4.0 in c:\\users\\gaberil0903\\anaconda3\\lib\\site-packages (from ipython>=6.1.0->ipywidgets==8.0.5->-r requirements.txt (line 3)) (2.11.2)\n",
            "Requirement already satisfied: matplotlib-inline in c:\\users\\gaberil0903\\anaconda3\\lib\\site-packages (from ipython>=6.1.0->ipywidgets==8.0.5->-r requirements.txt (line 3)) (0.1.6)\n",
            "Requirement already satisfied: pickleshare in c:\\users\\gaberil0903\\anaconda3\\lib\\site-packages (from ipython>=6.1.0->ipywidgets==8.0.5->-r requirements.txt (line 3)) (0.7.5)\n",
            "Requirement already satisfied: decorator in c:\\users\\gaberil0903\\anaconda3\\lib\\site-packages (from ipython>=6.1.0->ipywidgets==8.0.5->-r requirements.txt (line 3)) (5.1.1)\n",
            "Requirement already satisfied: stack-data in c:\\users\\gaberil0903\\anaconda3\\lib\\site-packages (from ipython>=6.1.0->ipywidgets==8.0.5->-r requirements.txt (line 3)) (0.2.0)\n",
            "Requirement already satisfied: prompt-toolkit<3.1.0,>=3.0.30 in c:\\users\\gaberil0903\\anaconda3\\lib\\site-packages (from ipython>=6.1.0->ipywidgets==8.0.5->-r requirements.txt (line 3)) (3.0.36)\n",
            "Requirement already satisfied: backcall in c:\\users\\gaberil0903\\anaconda3\\lib\\site-packages (from ipython>=6.1.0->ipywidgets==8.0.5->-r requirements.txt (line 3)) (0.2.0)\n",
            "Requirement already satisfied: jedi>=0.16 in c:\\users\\gaberil0903\\anaconda3\\lib\\site-packages (from ipython>=6.1.0->ipywidgets==8.0.5->-r requirements.txt (line 3)) (0.18.1)\n",
            "Requirement already satisfied: urllib3<1.27,>=1.21.1 in c:\\users\\gaberil0903\\anaconda3\\lib\\site-packages (from requests<3,>=2.21.0->tensorboard==2.11.0->-r requirements.txt (line 7)) (1.26.14)\n",
            "Requirement already satisfied: certifi>=2017.4.17 in c:\\users\\gaberil0903\\anaconda3\\lib\\site-packages (from requests<3,>=2.21.0->tensorboard==2.11.0->-r requirements.txt (line 7)) (2022.12.7)\n",
            "Requirement already satisfied: idna<4,>=2.5 in c:\\users\\gaberil0903\\anaconda3\\lib\\site-packages (from requests<3,>=2.21.0->tensorboard==2.11.0->-r requirements.txt (line 7)) (3.4)\n",
            "Requirement already satisfied: charset-normalizer<3,>=2 in c:\\users\\gaberil0903\\anaconda3\\lib\\site-packages (from requests<3,>=2.21.0->tensorboard==2.11.0->-r requirements.txt (line 7)) (2.0.4)\n",
            "Requirement already satisfied: MarkupSafe>=2.1.1 in c:\\users\\gaberil0903\\anaconda3\\lib\\site-packages (from werkzeug>=1.0.1->tensorboard==2.11.0->-r requirements.txt (line 7)) (2.1.1)\n",
            "Requirement already satisfied: soupsieve>1.2 in c:\\users\\gaberil0903\\anaconda3\\lib\\site-packages (from beautifulsoup4->wikipedia==1.4.0->-r requirements.txt (line 13)) (2.3.2.post1)\n",
            "Requirement already satisfied: parso<0.9.0,>=0.8.0 in c:\\users\\gaberil0903\\anaconda3\\lib\\site-packages (from jedi>=0.16->ipython>=6.1.0->ipywidgets==8.0.5->-r requirements.txt (line 3)) (0.8.3)\n",
            "Requirement already satisfied: wcwidth in c:\\users\\gaberil0903\\anaconda3\\lib\\site-packages (from prompt-toolkit<3.1.0,>=3.0.30->ipython>=6.1.0->ipywidgets==8.0.5->-r requirements.txt (line 3)) (0.2.5)\n",
            "Requirement already satisfied: pyasn1<0.5.0,>=0.4.6 in c:\\users\\gaberil0903\\anaconda3\\lib\\site-packages (from pyasn1-modules>=0.2.1->google-auth<3,>=1.6.3->tensorboard==2.11.0->-r requirements.txt (line 7)) (0.4.8)\n",
            "Requirement already satisfied: oauthlib>=3.0.0 in c:\\users\\gaberil0903\\anaconda3\\lib\\site-packages (from requests-oauthlib>=0.7.0->google-auth-oauthlib<0.5,>=0.4.1->tensorboard==2.11.0->-r requirements.txt (line 7)) (3.2.2)\n",
            "Requirement already satisfied: asttokens in c:\\users\\gaberil0903\\anaconda3\\lib\\site-packages (from stack-data->ipython>=6.1.0->ipywidgets==8.0.5->-r requirements.txt (line 3)) (2.0.5)\n",
            "Requirement already satisfied: executing in c:\\users\\gaberil0903\\anaconda3\\lib\\site-packages (from stack-data->ipython>=6.1.0->ipywidgets==8.0.5->-r requirements.txt (line 3)) (0.8.3)\n",
            "Requirement already satisfied: pure-eval in c:\\users\\gaberil0903\\anaconda3\\lib\\site-packages (from stack-data->ipython>=6.1.0->ipywidgets==8.0.5->-r requirements.txt (line 3)) (0.2.2)\n",
            "Installing collected packages: tensorboard, ipywidgets\n",
            "Note: you may need to restart the kernel to use updated packages.\n"
          ]
        },
        {
          "name": "stderr",
          "output_type": "stream",
          "text": [
            "WARNING: Ignoring invalid distribution -ensorboard (c:\\users\\gaberil0903\\anaconda3\\lib\\site-packages)\n",
            "WARNING: Ignoring invalid distribution -ensorboard (c:\\users\\gaberil0903\\anaconda3\\lib\\site-packages)\n",
            "WARNING: Ignoring invalid distribution -ensorboard (c:\\users\\gaberil0903\\anaconda3\\lib\\site-packages)\n",
            "  WARNING: Failed to write executable - trying to use .deleteme logic\n",
            "ERROR: Could not install packages due to an OSError: [WinError 32] 程序無法存取檔案，因為檔案正由另一個程序使用。: 'c:\\\\Users\\\\Gaberil0903\\\\anaconda3\\\\Scripts\\\\tensorboard.exe' -> 'c:\\\\Users\\\\Gaberil0903\\\\anaconda3\\\\Scripts\\\\tensorboard.exe.deleteme'\n",
            "Consider using the `--user` option or check the permissions.\n",
            "\n",
            "WARNING: Ignoring invalid distribution -ensorboard (c:\\users\\gaberil0903\\anaconda3\\lib\\site-packages)\n",
            "WARNING: Ignoring invalid distribution -ensorboard (c:\\users\\gaberil0903\\anaconda3\\lib\\site-packages)\n",
            "WARNING: Ignoring invalid distribution -ensorboard (c:\\users\\gaberil0903\\anaconda3\\lib\\site-packages)\n"
          ]
        }
      ],
      "source": [
        "%pip install -r requirements.txt"
      ]
    },
    {
      "attachments": {},
      "cell_type": "markdown",
      "metadata": {
        "id": "h7MSEcenjVrL"
      },
      "source": [
        "## PART 1. Document retrieval"
      ]
    },
    {
      "attachments": {},
      "cell_type": "markdown",
      "metadata": {},
      "source": [
        "Prepare the environment and import all library we need"
      ]
    },
    {
      "cell_type": "code",
      "execution_count": 1,
      "metadata": {
        "id": "niqu9pLajYC_"
      },
      "outputs": [],
      "source": [
        "import json\n",
        "import pickle\n",
        "from dataclasses import dataclass\n",
        "from pathlib import Path\n",
        "from typing import Dict, List, Set, Tuple, Union\n",
        "from functools import partial\n",
        "\n",
        "# 3rd party libs\n",
        "import hanlp\n",
        "import opencc\n",
        "import pandas as pd\n",
        "from hanlp.components.pipeline import Pipeline\n",
        "from pandarallel import pandarallel\n",
        "\n",
        "# our own libs\n",
        "from utils import load_json\n",
        "\n",
        "pandarallel.initialize(progress_bar=True, verbose=0, nb_workers=10)"
      ]
    },
    {
      "cell_type": "code",
      "execution_count": 2,
      "metadata": {},
      "outputs": [],
      "source": [
        "from TCSP import read_stopwords_list\n",
        "\n",
        "stopwords = read_stopwords_list()"
      ]
    },
    {
      "attachments": {},
      "cell_type": "markdown",
      "metadata": {},
      "source": [
        "Preload the data."
      ]
    },
    {
      "cell_type": "code",
      "execution_count": 3,
      "metadata": {},
      "outputs": [],
      "source": [
        "TRAIN_DATA = load_json(\"data/public_train.jsonl\")\n",
        "TEST_DATA = load_json(\"data/public_test.jsonl\")\n",
        "CONVERTER_T2S = opencc.OpenCC(\"t2s.json\")\n",
        "CONVERTER_S2T = opencc.OpenCC(\"s2t.json\")"
      ]
    },
    {
      "attachments": {},
      "cell_type": "markdown",
      "metadata": {},
      "source": [
        "Data class for type hinting"
      ]
    },
    {
      "cell_type": "code",
      "execution_count": 4,
      "metadata": {},
      "outputs": [],
      "source": [
        "@dataclass\n",
        "class Claim:\n",
        "    data: str\n",
        "\n",
        "@dataclass\n",
        "class AnnotationID:\n",
        "    id: int\n",
        "\n",
        "@dataclass\n",
        "class EvidenceID:\n",
        "    id: int\n",
        "\n",
        "@dataclass\n",
        "class PageTitle:\n",
        "    title: str\n",
        "\n",
        "@dataclass\n",
        "class SentenceID:\n",
        "    id: int\n",
        "\n",
        "@dataclass\n",
        "class Evidence:\n",
        "    data: List[List[Tuple[AnnotationID, EvidenceID, PageTitle, SentenceID]]]"
      ]
    },
    {
      "attachments": {},
      "cell_type": "markdown",
      "metadata": {},
      "source": [
        "### Helper function"
      ]
    },
    {
      "attachments": {},
      "cell_type": "markdown",
      "metadata": {},
      "source": [
        "For the sake of consistency, we convert traditional to simplified Chinese first before converting it back to traditional Chinese.  This is due to some errors occuring when converting traditional to traditional Chinese."
      ]
    },
    {
      "cell_type": "code",
      "execution_count": 5,
      "metadata": {
        "id": "A3NU01DnjKp-"
      },
      "outputs": [],
      "source": [
        "def do_st_corrections(text: str) -> str:\n",
        "    simplified = CONVERTER_T2S.convert(text)\n",
        "\n",
        "    return CONVERTER_S2T.convert(simplified)"
      ]
    },
    {
      "attachments": {},
      "cell_type": "markdown",
      "metadata": {},
      "source": [
        "We use constituency parsing to separate part of speeches or so called constituent to extract noun phrases.  In the later stages, we will use the noun phrases as the query to search for relevant documents.  "
      ]
    },
    {
      "cell_type": "code",
      "execution_count": 6,
      "metadata": {},
      "outputs": [],
      "source": [
        "def get_nps_hanlp(\n",
        "    predictor: Pipeline,\n",
        "    d: Dict[str, Union[int, Claim, Evidence]],\n",
        ") -> List[str]:\n",
        "    claim = d[\"claim\"]\n",
        "    tree = predictor(claim)[\"con\"]\n",
        "    nps = [\n",
        "        do_st_corrections(\"\".join(subtree.leaves()))\n",
        "        for subtree in tree.subtrees(lambda t: t.label() == \"NP\")\n",
        "    ]\n",
        "\n",
        "    return nps"
      ]
    },
    {
      "attachments": {},
      "cell_type": "markdown",
      "metadata": {},
      "source": [
        "Precision refers to how many related documents are retrieved.  Recall refers to how many relevant documents are retrieved.  "
      ]
    },
    {
      "cell_type": "code",
      "execution_count": 7,
      "metadata": {},
      "outputs": [],
      "source": [
        "def calculate_precision(\n",
        "    data: List[Dict[str, Union[int, Claim, Evidence]]],\n",
        "    predictions: pd.Series,\n",
        ") -> float:\n",
        "    precision = 0\n",
        "    count = 0\n",
        "\n",
        "    for i, d in enumerate(data):\n",
        "        if d[\"label\"] == \"NOT ENOUGH INFO\":\n",
        "            continue\n",
        "\n",
        "        # Extract all ground truth of titles of the wikipedia pages\n",
        "        # evidence[2] refers to the title of the wikipedia page\n",
        "        gt_pages = set([\n",
        "            evidence[2]\n",
        "            for evidence_set in d[\"evidence\"]\n",
        "            for evidence in evidence_set\n",
        "        ])\n",
        "\n",
        "        predicted_pages = predictions.iloc[i]\n",
        "        hits = predicted_pages.intersection(gt_pages)\n",
        "        if len(predicted_pages) != 0:\n",
        "            precision += len(hits) / len(predicted_pages)\n",
        "\n",
        "        count += 1\n",
        "\n",
        "    # Macro precision\n",
        "    print(f\"Precision: {precision / count}\")\n",
        "    return precision / count\n",
        "\n",
        "\n",
        "def calculate_recall(\n",
        "    data: List[Dict[str, Union[int, Claim, Evidence]]],\n",
        "    predictions: pd.Series,\n",
        ") -> float:\n",
        "    recall = 0\n",
        "    count = 0\n",
        "\n",
        "    for i, d in enumerate(data):\n",
        "        if d[\"label\"] == \"NOT ENOUGH INFO\":\n",
        "            continue\n",
        "\n",
        "        gt_pages = set([\n",
        "            evidence[2]\n",
        "            for evidence_set in d[\"evidence\"]\n",
        "            for evidence in evidence_set\n",
        "        ])\n",
        "        predicted_pages = predictions.iloc[i]\n",
        "        hits = predicted_pages.intersection(gt_pages)\n",
        "        recall += len(hits) / len(gt_pages)\n",
        "        count += 1\n",
        "\n",
        "    print(f\"Recall: {recall / count}\")\n",
        "    return recall / count"
      ]
    },
    {
      "cell_type": "code",
      "execution_count": 8,
      "metadata": {},
      "outputs": [],
      "source": [
        "def calculate_f1(precision: float, recall: float) -> float:\n",
        "    return 2*(precision*recall)/(precision+recall)"
      ]
    },
    {
      "attachments": {},
      "cell_type": "markdown",
      "metadata": {},
      "source": [
        "The default amount of documents retrieved is at most five documents.  This `num_pred_doc` can be adjusted based on your objective.  Save data in jsonl format."
      ]
    },
    {
      "cell_type": "code",
      "execution_count": 9,
      "metadata": {},
      "outputs": [],
      "source": [
        "def save_doc(\n",
        "    data: List[Dict[str, Union[int, Claim, Evidence]]],\n",
        "    predictions: pd.Series,\n",
        "    mode: str = \"train\",\n",
        "    suffix: str = \"\",\n",
        "    num_pred_doc: int = 5,\n",
        ") -> None:\n",
        "    with open(\n",
        "        f\"data/{mode}_doc{num_pred_doc}{suffix}.jsonl\",\n",
        "        \"w\",\n",
        "        encoding=\"utf8\",\n",
        "    ) as f:\n",
        "        for i, d in enumerate(data):\n",
        "            d[\"predicted_pages\"] = list(predictions.iloc[i])\n",
        "            f.write(json.dumps(d, ensure_ascii=False) + \"\\n\")"
      ]
    },
    {
      "attachments": {},
      "cell_type": "markdown",
      "metadata": {},
      "source": [
        "### Tfidf Init"
      ]
    },
    {
      "cell_type": "code",
      "execution_count": 10,
      "metadata": {},
      "outputs": [],
      "source": [
        "def tokenize(text: str, stopwords: list) -> str:\n",
        "    import jieba\n",
        "    tokens = jieba.cut(text)\n",
        "\n",
        "    return \" \".join([w for w in tokens if w not in stopwords])"
      ]
    },
    {
      "cell_type": "code",
      "execution_count": 11,
      "metadata": {},
      "outputs": [],
      "source": [
        "wiki_path = \"data/wiki-pages\"\n",
        "min_wiki_length = 15\n",
        "num_of_samples = 500\n",
        "topk = 15\n",
        "min_df = 1\n",
        "max_df = 0.8\n",
        "use_idf = True\n",
        "sublinear_tf = True\n",
        "\n",
        "# Set up the experiment name for logging\n",
        "exp_name = (\n",
        "    f\"len{min_wiki_length}_top{topk}_min_df={min_df}_\"\n",
        "    + f\"max_df={max_df}_{num_of_samples}s\"\n",
        ")\n",
        "if sublinear_tf:\n",
        "    exp_name = \"sublinearTF_\" + exp_name\n",
        "if not use_idf:\n",
        "    exp_name = \"no_idf_\" + exp_name"
      ]
    },
    {
      "cell_type": "code",
      "execution_count": 12,
      "metadata": {},
      "outputs": [],
      "source": [
        "wiki_cache = \"wiki\"\n",
        "target_column = \"text\"\n",
        "\n",
        "wiki_cache_path = Path(f\"data/{wiki_cache}.pkl\")\n",
        "if wiki_cache_path.exists():\n",
        "    wiki_pages = pd.read_pickle(wiki_cache_path)\n",
        "else:\n",
        "    # You need to download `wiki-pages.zip` from the AICUP website\n",
        "    wiki_pages = jsonl_dir_to_df(wiki_path)\n",
        "    # wiki_pages are combined into one dataframe, so we need to reset the index\n",
        "    wiki_pages = wiki_pages.reset_index(drop=True)\n",
        "\n",
        "    # tokenize the text and keep the result in a new column `processed_text`\n",
        "    wiki_pages[\"processed_text\"] = wiki_pages[target_column].parallel_apply(\n",
        "        partial(tokenize, stopwords=stopwords)\n",
        "    )\n",
        "    # save the result to a pickle file\n",
        "    wiki_pages.to_pickle(wiki_cache_path, protocol=4)"
      ]
    },
    {
      "cell_type": "code",
      "execution_count": 13,
      "metadata": {},
      "outputs": [],
      "source": [
        "wiki_pages = wiki_pages[\n",
        "    wiki_pages['processed_text'].str.len() > min_wiki_length\n",
        "]\n",
        "corpus = wiki_pages[\"processed_text\"].tolist()"
      ]
    },
    {
      "cell_type": "code",
      "execution_count": 14,
      "metadata": {},
      "outputs": [],
      "source": [
        "from sklearn.feature_extraction.text import TfidfVectorizer\n",
        "import numpy as np\n",
        "import scipy\n",
        "\n",
        "vectorizer = TfidfVectorizer(\n",
        "    min_df=min_df,\n",
        "    max_df=max_df,\n",
        "    use_idf=use_idf,\n",
        "    sublinear_tf=sublinear_tf,\n",
        "    dtype=np.float64,\n",
        ")"
      ]
    },
    {
      "cell_type": "code",
      "execution_count": 15,
      "metadata": {},
      "outputs": [],
      "source": [
        "X = vectorizer.fit_transform(corpus)"
      ]
    },
    {
      "attachments": {},
      "cell_type": "markdown",
      "metadata": {},
      "source": [
        "### Main function for document retrieval"
      ]
    },
    {
      "cell_type": "code",
      "execution_count": 16,
      "metadata": {},
      "outputs": [],
      "source": [
        "def get_pred_pages(\n",
        "        series_data: pd.Series, \n",
        "        ) -> Set[Dict[int, str]]:\n",
        "    import wikipedia\n",
        "    import re\n",
        "    import opencc\n",
        "    import pandas as pd\n",
        "\n",
        "    from TCSP import read_stopwords_list\n",
        "    stopwords = read_stopwords_list()\n",
        "\n",
        "    import numpy as np\n",
        "    from sklearn.feature_extraction.text import TfidfVectorizer\n",
        "    from sklearn.metrics.pairwise import cosine_similarity\n",
        "\n",
        "    wikipedia.set_lang(\"zh\")\n",
        "    CONVERTER_T2S = opencc.OpenCC(\"t2s.json\")\n",
        "    CONVERTER_S2T = opencc.OpenCC(\"s2t.json\")\n",
        "    \n",
        "    def do_st_corrections(text: str) -> str:\n",
        "        simplified = CONVERTER_T2S.convert(text)\n",
        "        return CONVERTER_S2T.convert(simplified)\n",
        "\n",
        "    results = []\n",
        "    tmp_muji = []\n",
        "    # wiki_page: its index showned in claim\n",
        "    mapping = {}\n",
        "    claim = series_data[\"claim\"]\n",
        "    nps = series_data[\"hanlp_results\"]\n",
        "    first_wiki_term = []\n",
        "    repeated_mention = []\n",
        "    quote_search = []\n",
        "\n",
        "    def clean_claim(claim) -> str:     # Clean claim function because hanlp has error when conducting cons\n",
        "        def multiple_replacer(*kv):\n",
        "            replace_dict = dict(kv)\n",
        "            replace_func = lambda match: replace_dict[match.group(0)]\n",
        "            pattern = re.compile(\"|\".join([re.escape(k) for k, v in kv]), re.M)\n",
        "            return lambda string: pattern.sub(replace_func, string) \n",
        "        def multiple_replace(string, *kv):\n",
        "            return multiple_replacer(*replace_dict)(claim)\n",
        "\n",
        "        replace_dict = (\" \", \"\"), (\"牠\", \"它\"), (\"（\", \"(\"), (\"）\", \")\"), (\"，\", \",\"), (\"、\", \",\"), (\"群\", \"羣\"), (\"“\", \"\\\"\"), (\"”\", \"\\\"\"), (\"「\", \"“\"), (\"」\", \"”\")\n",
        "        claim = multiple_replace(claim, *replace_dict)\n",
        "        claim = claim.lower()\n",
        "        return claim\n",
        "\n",
        "    claim = clean_claim(claim)\n",
        "\n",
        "    def post_processing(np, page, loc):\n",
        "        page = do_st_corrections(page)\n",
        "        page = page.replace(\" \", \"_\")\n",
        "        page = page.replace(\"-\", \"\")\n",
        "        search_pos = claim.find(np)\n",
        "        if search_pos != -1:\n",
        "            if page in results:\n",
        "                repeated_mention.append(page)\n",
        "                # results.insert(0, results.pop(results.index(page)))     # Fresh page to front if it was mention before\n",
        "            else:\n",
        "                results.append(page)\n",
        "            if loc == 0:\n",
        "                pass\n",
        "                # print(f\"Add: {page}, at page direct search, np={np}\")\n",
        "            elif loc == 1:\n",
        "                pass\n",
        "                # print(f\"Add: {page}, at match, new term={np}\")\n",
        "            mapping[page] = search_pos\n",
        "            tmp_muji.append(np)\n",
        "\n",
        "    def if_page_exists(page: str) -> bool:\n",
        "        import requests\n",
        "        url_base = \"https://zh.wikipedia.org/wiki/\"\n",
        "        new_url = [url_base + page, url_base + page.upper()]\n",
        "        for url in new_url:\n",
        "            r = requests.head(url)\n",
        "            if r.status_code == 200:\n",
        "                return True\n",
        "            else:\n",
        "                continue\n",
        "        return False\n",
        "    \n",
        "    def clean_time_format(np: str):\n",
        "        if (matched := re.search(r\"\\d+年\", np)) != None:\n",
        "            return True\n",
        "        if (matched := re.search(r\"\\d+月\\d+日\", np)) != None:\n",
        "            return True\n",
        "        if (matched := re.search(r\"\\d+小時\", np)) != None:\n",
        "            return True\n",
        "        if (matched := re.search(r\"\\d+天\", np)) != None:\n",
        "            return True\n",
        "        if (matched := re.search(r\"\\d+世紀\", np)) != None:\n",
        "            return True\n",
        "        if (matched := re.search(r\"\\d+年代\", np)) != None:\n",
        "            return True\n",
        "        return False\n",
        "    \n",
        "    def tokenize(text: str, stopwords: list) -> str:\n",
        "        import jieba\n",
        "        \"\"\"This function performs Chinese word segmentation and removes stopwords.\n",
        "\n",
        "        Args:\n",
        "            text (str): claim or wikipedia article\n",
        "            stopwords (list): common words that contribute little to the meaning of a sentence\n",
        "\n",
        "        Returns:\n",
        "            str: word segments separated by space (e.g. \"我 喜歡 吃 蘋果\")\n",
        "        \"\"\"\n",
        "\n",
        "        tokens = jieba.cut(text)\n",
        "\n",
        "        return \" \".join([w for w in tokens if w not in stopwords])\n",
        "\n",
        "    for i, np in enumerate(nps):\n",
        "        # print(f\"searching {np}\")\n",
        "        quote_dup = False\n",
        "        if np in stopwords:         # 如果包含停用詞\n",
        "            continue\n",
        "        if clean_time_format(np):   # 如果包含時間\n",
        "            continue\n",
        "        \n",
        "        # Ignore parsing among quotation mark, for example, if《仲夏夜之夢》exists, ignore「仲夏夜」and「夢」\n",
        "        for search in quote_search:\n",
        "            if search.find(np) != -1:\n",
        "                quote_dup = True\n",
        "        if quote_dup == True:\n",
        "            continue\n",
        "\n",
        "        # Delete Bookname Mark, Quote Mark\n",
        "        np_no_quote = re.sub(r\"《|》|〈|〉|【|】|「|」|『|』|（|）\", \"\", np)\n",
        "        if np != np_no_quote:\n",
        "            quote_search.append(np_no_quote)\n",
        "            np = np_no_quote\n",
        "\n",
        "        # Simplified Traditional Chinese Correction\n",
        "        wiki_search_results = [\n",
        "            do_st_corrections(w) for w in wikipedia.search(np)\n",
        "        ]\n",
        "\n",
        "        # Directly Search by Redirection\n",
        "            # Check if a page exists\n",
        "        if (if_page_exists(np)):\n",
        "            try:\n",
        "                page = do_st_corrections(wikipedia.page(title=np).title)\n",
        "                if page == np:\n",
        "                    # print(f\"Found, np={np}, page={page}\")\n",
        "                    post_processing(np=np, page=page, loc=0)\n",
        "                else:\n",
        "                    # print(f\"Redirect, np={np}, page={page}\")\n",
        "                    post_processing(np=np, page=page, loc=0)\n",
        "            except wikipedia.DisambiguationError as diserr:\n",
        "                page = do_st_corrections(wikipedia.search(np)[0])\n",
        "                if page == np:\n",
        "                    # print(f\"Disambig, np={np}, page={page}\")\n",
        "                    post_processing(np=np, page=page, loc=0)\n",
        "            except wikipedia.PageError as pageerr:\n",
        "                pass\n",
        "\n",
        "        # Remove the wiki page's description in brackets\n",
        "        wiki_set = [re.sub(r\"\\s\\(\\S+\\)\", \"\", w) for w in wiki_search_results]\n",
        "        wiki_df = pd.DataFrame({\n",
        "            \"wiki_set\": wiki_set,\n",
        "            \"wiki_results\": wiki_search_results\n",
        "        })\n",
        "\n",
        "        # Elements in wiki_set --> index\n",
        "        # Extracting only the first element is one way to avoid extracting\n",
        "        # too many of the similar wiki pages\n",
        "        grouped_df = wiki_df.groupby(\"wiki_set\", sort=False).first()\n",
        "        candidates = grouped_df[\"wiki_results\"].tolist()\n",
        "        # muji refers to wiki_set\n",
        "        muji = grouped_df.index.tolist()\n",
        "\n",
        "        for prefix, term in zip(muji, candidates):\n",
        "            if prefix not in tmp_muji:  #忽略掉括號，如果括號有重複的話。假設如果有\" 1 (數字)\", 則\"1 (符號)\" 會被忽略\n",
        "                matched = False\n",
        "\n",
        "                # Take at least one term from the first noun phrase\n",
        "                if i == 0:\n",
        "                    first_wiki_term.append(term)\n",
        "\n",
        "                # try:\n",
        "                #     print(term)\n",
        "                #     term_idx = wiki_pages.index[wiki_pages['id'] == do_st_corrections(term.replace(\" \", \"_\").replace(\"-\", \"\"))].tolist()[0]\n",
        "                #     processed_tokens = wiki_pages['processed_text'][term_idx]\n",
        "                #     processed_text_vector = vectorizer.transform([processed_tokens])\n",
        "                #     sim_score = cosine_similarity(processed_text_vector, claim_vector)[0][0]\n",
        "                #     if sim_score > 0.25: # 0.25 is hyperparam\n",
        "                #         score_mapping[term] = sim_score\n",
        "                #         print(sim_score, term)\n",
        "                # except IndexError:\n",
        "                #     pass\n",
        "                # except wikipedia.DisambiguationError:\n",
        "                #     pass\n",
        "                # except wikipedia.PageError:\n",
        "                #     pass\n",
        "\n",
        "                # Walrus operator :=\n",
        "                # https://docs.python.org/3/whatsnew/3.8.html#assignment-expressions\n",
        "                # Through these filters, we are trying to figure out if the term\n",
        "                # is within the claim\n",
        "                if (((new_term := term) in claim) or\n",
        "                    ((new_term := term) in claim.replace(\" \", \"\")) or\n",
        "                    ((new_term := term.replace(\"·\", \"\")) in claim) or                                   # 過濾人名\n",
        "                    ((new_term := re.sub(r\"\\s\\(\\S+\\)\", \"\", term)) in claim) or                          # 過濾空格 / 消歧義\n",
        "                    ((new_term := term.replace(\"(\", \"\").replace(\")\", \"\").split()[0]) in claim and       # 消歧義與括號內皆有在裡面\n",
        "                     (new_term := term.replace(\"(\", \"\").replace(\")\", \"\").split()[1]) in claim) or\n",
        "                    ((new_term := term.replace(\"-\", \" \")) in claim) or                                  # 過濾槓號\n",
        "                    ((new_term := term.lower()) in claim) or                                            # 過濾大小寫\n",
        "                    ((new_term := term.lower().replace(\"-\", \"\")) in claim) or                           # 過濾大小寫及槓號\n",
        "                    ((new_term := re.sub(r\"\\s\\(\\S+\\)\", \"\", term.lower().replace(\"-\", \"\"))) in claim)    # 過濾大小寫、槓號及消歧義\n",
        "                    ):\n",
        "                    matched = True\n",
        "                    # print(new_term, term)\n",
        "\n",
        "                # 人名匹配\n",
        "                elif \"·\" in term:\n",
        "                    splitted = term.split(\"·\")\n",
        "                    if \"·\" not in claim:        # 要求claim顯示的不為全名，不然都需要全名\n",
        "                        for split in splitted:\n",
        "                            if (new_term := split) in claim:\n",
        "                                matched = True\n",
        "                                break\n",
        "\n",
        "                if matched:\n",
        "                    post_processing(np=new_term, page=term, loc=1)\n",
        "\n",
        "    # score_results = sorted(score_mapping, key=score_mapping.get)[:-5]\n",
        "\n",
        "    # 8 is a hyperparameter\n",
        "    if len(results) > 8:\n",
        "        assert -1 not in mapping.values()\n",
        "        # print(\"長度大於8\", results)\n",
        "\n",
        "        results = repeated_mention + sorted(mapping, key=mapping.get)[:8]\n",
        "        results = list(set(results))            # remove duplicates\n",
        "        # print(\"排序後\", results)\n",
        "    if len(results) < 1:\n",
        "        results = first_wiki_term\n",
        "        # print(\"第一搜尋結果\", results)\n",
        "    \n",
        "    print(results)\n",
        "    return set(results)"
      ]
    },
    {
      "cell_type": "code",
      "execution_count": 17,
      "metadata": {},
      "outputs": [],
      "source": [
        "def get_pred_pages_search(\n",
        "        series_data: pd.Series, \n",
        "        ) -> Set[Dict[int, str]]:\n",
        "    import wikipedia\n",
        "    import re\n",
        "    import opencc\n",
        "    import pandas as pd\n",
        "\n",
        "    import numpy as np\n",
        "\n",
        "    wikipedia.set_lang(\"zh\")\n",
        "    CONVERTER_T2S = opencc.OpenCC(\"t2s.json\")\n",
        "    CONVERTER_S2T = opencc.OpenCC(\"s2t.json\")\n",
        "    \n",
        "    def do_st_corrections(text: str) -> str:\n",
        "        simplified = CONVERTER_T2S.convert(text)\n",
        "        return CONVERTER_S2T.convert(simplified)\n",
        "\n",
        "    results = []\n",
        "    tmp_muji = []\n",
        "    nps = series_data[\"hanlp_results\"]\n",
        "\n",
        "    def post_processing(page):\n",
        "        page = do_st_corrections(page)\n",
        "        page = page.replace(\" \", \"_\")\n",
        "        page = page.replace(\"-\", \"\")\n",
        "\n",
        "    for i, np in enumerate(nps):\n",
        "        # print(f\"searching {np}\")\n",
        "\n",
        "        # Simplified Traditional Chinese Correction\n",
        "        wiki_search_results = [\n",
        "            do_st_corrections(w) for w in wikipedia.search(np)\n",
        "        ]\n",
        "\n",
        "        # Remove the wiki page's description in brackets\n",
        "        wiki_set = [re.sub(r\"\\s\\(\\S+\\)\", \"\", w) for w in wiki_search_results]\n",
        "        wiki_df = pd.DataFrame({\n",
        "            \"wiki_set\": wiki_set,\n",
        "            \"wiki_results\": wiki_search_results\n",
        "        })\n",
        "\n",
        "        # Elements in wiki_set --> index\n",
        "        # Extracting only the first element is one way to avoid extracting\n",
        "        # too many of the similar wiki pages\n",
        "        grouped_df = wiki_df.groupby(\"wiki_set\", sort=False).first()\n",
        "        candidates = grouped_df[\"wiki_results\"].tolist()\n",
        "        # muji refers to wiki_set\n",
        "        muji = grouped_df.index.tolist()\n",
        "\n",
        "        for prefix, term in zip(muji, candidates):\n",
        "            if prefix not in tmp_muji:  #忽略掉括號，如果括號有重複的話。假設如果有\" 1 (數字)\", 則\"1 (符號)\" 會被忽略\n",
        "                post_processing(term)\n",
        "                results.append(term)\n",
        "\n",
        "    results = list(set(results))            # remove duplicates\n",
        "    print(results)\n",
        "    return set(results)"
      ]
    },
    {
      "cell_type": "code",
      "execution_count": 18,
      "metadata": {},
      "outputs": [],
      "source": [
        "def get_pred_pages_tfidf(\n",
        "    series_data: pd.Series, \n",
        "    tokenizing_method: callable,\n",
        "    vectorizer: TfidfVectorizer,\n",
        "    tf_idf_matrix: scipy.sparse.csr_matrix,\n",
        "    wiki_pages: pd.DataFrame,\n",
        "    topk: int\n",
        ") -> set:\n",
        "    import numpy as np\n",
        "    from sklearn.metrics.pairwise import cosine_similarity\n",
        "\n",
        "    claim = series_data[\"claim\"]\n",
        "    search_list = series_data[\"predicted_pages\"]\n",
        "    results = []\n",
        "    mapping = {}\n",
        "\n",
        "    tokens = tokenizing_method(claim)\n",
        "    claim_vector = vectorizer.transform([tokens])\n",
        "    for search_id in search_list:\n",
        "        search_tokens = wiki_pages.loc[wiki_pages['id'] == search_id]\n",
        "        if search_tokens.empty:\n",
        "            continue\n",
        "        search_processed_text = search_tokens[\"processed_text\"]\n",
        "        search_vector = vectorizer.transform(search_processed_text)\n",
        "        sim_scores = cosine_similarity(search_vector, claim_vector)\n",
        "        sim_scores = sim_scores[0][0]\n",
        "        if sim_scores > 0.25:\n",
        "            mapping[search_id] = sim_scores\n",
        "            print(sim_scores, search_id)\n",
        "\n",
        "    print(mapping)\n",
        "    results = sorted(mapping, key=mapping.get, reverse=True)[:5]\n",
        "    print(results)\n",
        "    return set(results)\n"
      ]
    },
    {
      "attachments": {},
      "cell_type": "markdown",
      "metadata": {},
      "source": [
        "### Step 1. Get noun phrases from hanlp consituency parsing tree"
      ]
    },
    {
      "attachments": {},
      "cell_type": "markdown",
      "metadata": {},
      "source": [
        "Setup [HanLP](https://github.com/hankcs/HanLP) predictor (1 min)"
      ]
    },
    {
      "cell_type": "code",
      "execution_count": 37,
      "metadata": {},
      "outputs": [
        {
          "name": "stderr",
          "output_type": "stream",
          "text": [
            "                                             \r"
          ]
        }
      ],
      "source": [
        "predictor = (hanlp.pipeline().append(\n",
        "    hanlp.load(\"FINE_ELECTRA_SMALL_ZH\"),\n",
        "    output_key=\"tok\",\n",
        ").append(\n",
        "    hanlp.load(\"CTB9_CON_ELECTRA_SMALL\"),\n",
        "    output_key=\"con\",\n",
        "    input_key=\"tok\",\n",
        "))"
      ]
    },
    {
      "attachments": {},
      "cell_type": "markdown",
      "metadata": {},
      "source": [
        "We will skip this process which for creating parsing tree when demo on class"
      ]
    },
    {
      "cell_type": "code",
      "execution_count": 38,
      "metadata": {},
      "outputs": [],
      "source": [
        "hanlp_file = f\"data/hanlp_con_results.pkl\"\n",
        "if Path(hanlp_file).exists():\n",
        "    with open(hanlp_file, \"rb\") as f:\n",
        "        hanlp_results = pickle.load(f)\n",
        "else:\n",
        "    hanlp_results = [get_nps_hanlp(predictor, d) for d in TRAIN_DATA]\n",
        "    with open(hanlp_file, \"wb\") as f:\n",
        "        pickle.dump(hanlp_results, f)"
      ]
    },
    {
      "attachments": {},
      "cell_type": "markdown",
      "metadata": {},
      "source": [
        "Get pages via wiki online api"
      ]
    },
    {
      "cell_type": "code",
      "execution_count": null,
      "metadata": {},
      "outputs": [],
      "source": [
        "from google.colab import output\n",
        "output.enable_custom_widget_manager()"
      ]
    },
    {
      "cell_type": "code",
      "execution_count": 64,
      "metadata": {},
      "outputs": [
        {
          "data": {
            "application/vnd.jupyter.widget-view+json": {
              "model_id": "b5dde81776c844fca1eab85c7642cb16",
              "version_major": 2,
              "version_minor": 0
            },
            "text/plain": [
              "VBox(children=(HBox(children=(IntProgress(value=0, description='0.00%', max=1323), Label(value='0 / 1323'))), …"
            ]
          },
          "metadata": {},
          "output_type": "display_data"
        }
      ],
      "source": [
        "doc_path = f\"data/train_doc5.jsonl\"\n",
        "doc_path_aicup = f\"data/train_doc5_aicup.jsonl\"\n",
        "doc_path_search = f\"data/train_doc5_search.jsonl\"\n",
        "doc_path_tfidf = f\"data/train_doc5_tfidf.jsonl\"\n",
        "\n",
        "if Path(doc_path).exists():\n",
        "    with open(doc_path_aicup, \"r\", encoding=\"utf8\") as f:\n",
        "        predicted_results = pd.Series([\n",
        "            set(json.loads(line)[\"predicted_pages\"])\n",
        "            for line in f\n",
        "        ])\n",
        "else:\n",
        "    if Path(doc_path_search).exists():\n",
        "        with open(doc_path_search, \"r\", encoding=\"utf8\") as f:\n",
        "            predicted_results_search = pd.Series([\n",
        "                set(json.loads(line)[\"predicted_pages\"])\n",
        "                for line in f\n",
        "            ], name=\"search\")\n",
        "    else:\n",
        "        pandarallel.initialize(progress_bar=True, verbose=0, nb_workers=10)\n",
        "        train_df = pd.DataFrame(TRAIN_DATA)\n",
        "        train_df.loc[:, \"hanlp_results\"] = hanlp_results\n",
        "        # predicted_results = train_df.progress_apply(get_pred_pages, axis=1)\n",
        "        predicted_results_search = train_df.parallel_apply(\n",
        "            get_pred_pages_search, axis=1)\n",
        "        save_doc(TRAIN_DATA, predicted_results_search, mode=\"train\", suffix=\"_search\")\n",
        "\n",
        "    if Path(doc_path_aicup).exists():\n",
        "        with open(doc_path_aicup, \"r\", encoding=\"utf8\") as f:\n",
        "            predicted_results_aicup = pd.Series([\n",
        "                set(json.loads(line)[\"predicted_pages\"])\n",
        "                for line in f\n",
        "            ], name=\"aicup\")\n",
        "    else:\n",
        "        pandarallel.initialize(progress_bar=True, verbose=0, nb_workers=10)\n",
        "        train_df = pd.DataFrame(TRAIN_DATA)\n",
        "        train_df.loc[:, \"hanlp_results\"] = hanlp_results\n",
        "        # predicted_results = train_df.progress_apply(get_pred_pages, axis=1)\n",
        "        predicted_results_aicup = train_df.parallel_apply(\n",
        "            get_pred_pages, axis=1)\n",
        "        save_doc(TRAIN_DATA, predicted_results_aicup, mode=\"train\", suffix=\"_aicup\")\n",
        "\n",
        "    if Path(doc_path_tfidf).exists():\n",
        "        with open(doc_path_tfidf, \"r\", encoding=\"utf8\") as f:\n",
        "            predicted_results_tfidf = pd.Series([\n",
        "                set(json.loads(line)[\"predicted_pages\"])\n",
        "                for line in f\n",
        "            ], name=\"tfidf\")\n",
        "    else:\n",
        "        pandarallel.initialize(progress_bar=True, verbose=0, nb_workers=3)\n",
        "        TRAIN_DATA_SEARCH = load_json(doc_path_search)\n",
        "        train_df_search = pd.DataFrame(TRAIN_DATA_SEARCH)\n",
        "        predicted_results_tfidf = train_df_search.parallel_apply(\n",
        "            partial(\n",
        "                get_pred_pages_tfidf,\n",
        "                tokenizing_method=partial(tokenize, stopwords=stopwords),\n",
        "                vectorizer=vectorizer,\n",
        "                tf_idf_matrix=X,\n",
        "                wiki_pages=wiki_pages,\n",
        "                topk=topk,\n",
        "            ), axis=1)\n",
        "        save_doc(TRAIN_DATA, predicted_results_tfidf, mode=\"train\", suffix=\"_tfidf\")"
      ]
    },
    {
      "attachments": {},
      "cell_type": "markdown",
      "metadata": {},
      "source": [
        "Save Memory"
      ]
    },
    {
      "cell_type": "code",
      "execution_count": 65,
      "metadata": {},
      "outputs": [
        {
          "name": "stdout",
          "output_type": "stream",
          "text": [
            "On AICUP Data:\n",
            "Precision: 0.24198516414141477\n",
            "Recall: 0.8701666666666668\n",
            "On Search Data:\n",
            "Precision: 0.01760738788282119\n",
            "Recall: 0.9074270833333332\n",
            "On Search-TFIDF Data:\n",
            "Precision: 0.34753645833333563\n",
            "Recall: 0.5376666666666666\n"
          ]
        },
        {
          "data": {
            "text/plain": [
              "0.5376666666666666"
            ]
          },
          "execution_count": 65,
          "metadata": {},
          "output_type": "execute_result"
        }
      ],
      "source": [
        "print(\"On AICUP Data:\")\n",
        "calculate_precision(TRAIN_DATA, predicted_results_aicup)\n",
        "calculate_recall(TRAIN_DATA, predicted_results_aicup)\n",
        "print(\"On Search Data:\")\n",
        "calculate_precision(TRAIN_DATA, predicted_results_search)\n",
        "calculate_recall(TRAIN_DATA, predicted_results_search)\n",
        "print(\"On Search-TFIDF Data:\")\n",
        "calculate_precision(TRAIN_DATA, predicted_results_tfidf)\n",
        "calculate_recall(TRAIN_DATA, predicted_results_tfidf)"
      ]
    },
    {
      "attachments": {},
      "cell_type": "markdown",
      "metadata": {},
      "source": [
        "Merge Two Pandas Series."
      ]
    },
    {
      "cell_type": "code",
      "execution_count": 22,
      "metadata": {},
      "outputs": [],
      "source": [
        "def union_result(series_data: pd.Series,) -> set:\n",
        "    aicup = series_data[\"aicup\"]\n",
        "    tfidf = series_data[\"tfidf\"]\n",
        "    print(aicup, tfidf)\n",
        "    return set(aicup).union(set(tfidf))"
      ]
    },
    {
      "cell_type": "code",
      "execution_count": 68,
      "metadata": {},
      "outputs": [
        {
          "name": "stdout",
          "output_type": "stream",
          "text": [
            "{'緹坦妮雅', '天王星', '軌道', '天衛三', '仲夏夜_(羅文專輯)', '仲夏夜之夢', '磁層'} {'奧伯隆', '緹坦妮雅', '尼克·博特姆', '天衛三', '磁層'}\n",
            "{'太平洋', '北冰洋', '世界', '鳥', '南太平洋', '翼展', '信天翁科'} {'桑氏遠洋鳥', '南方皇家信天翁', '漂泊信天翁', '翼展', '信天翁科'}\n",
            "{'音樂產業', '詹雯婷', '男性', '陳建寧', '亞洲', '女性', '阿沁', '樂團'} {'F.I.R.飛兒樂團'}\n",
            "{'世界', '香港國際機場', '小時', '宇宙', '機場', '24小時'} {'香港國際機場'}\n",
            "{'中央部屬高校', '北京理工大學', '中華人民共和國', '校長', '學校', '高等學校', '黨委書記和校長列入中央管理的高校', '歷史'} {'中央部屬高校', '中華人民共和國副省部級以上單位列表', '黨委書記和校長列入中央管理的高校', '地方所屬高校'}\n",
            "{'南京大學附屬中學', '南京大學', '中學', '江蘇省_(中華民國)'} {'師範大學附屬中學列表', '南京市金陵中學', '南京大學附屬中學', '南京航空航天大學附屬高級中學', '南京師範大學附屬中學'}\n",
            "{'印度', '毒魚豆', '萃取', '原住民', '魚', '西'} {'毒魚豆'}\n",
            "{'版本控制', '軟件開發', '系統工程', '軟件', '軟件測試', '活動'} {'軟件項目管理', '軟件開發', '軟件開發工具', '版本控制軟件比較', '軟件工程'}\n",
            "{'中央研究院院士', '中央研究院', '研究生', '院士', '理論', '國立臺灣大學', '國立臺灣大學應用力學研究所', '研究所', '工程力學', '力學', '專業人士'} {'林啓萬', '劉佩玲', '國立臺灣大學應用力學研究所', '鮑亦興', '吳光鍾'}\n",
            "{'威廉·倫琴', 'X射線', '倫琴_(單位)', '電子'} {'威廉·倫琴'}\n",
            "{'數學', '世紀', '幾何學', '中世紀', '西方', '教育'} set()\n",
            "{'昆蟲', '國立臺灣大學昆蟲標本館', '標本', '國立臺灣大學'} {'國立臺灣大學昆蟲標本館'}\n",
            "{'湯姆·班克斯', '湯姆·希林', '湯姆·克魯斯', '湯姆·漢克斯', '收入', '獎勵'} set()\n",
            "{'漢斯·愛因斯坦', '阿爾伯特·愛因斯坦'} set()\n",
            "{'蜀漢', '黃忠', '三國', '武將'} {'南開五虎', '五虎將', '黃忠', '鄧家五虎'}\n",
            "{'妙義山', '效用'} set()\n",
            "{'獎盃', '獎勵', '球_(數學)', '領域', '人物'} set()\n",
            "{'清朝', '朱一貴', '市場', '政府', '清朝政府', '王禮'} {'王禮'}\n",
            "{'大韓民國', '韓國政治', '高建_(韓國)', '政治人物'} {'樸順天'}\n",
            "{'微軟', 'MSDOS', '操作系統', 'DOS'} {'MS-DOS', '高效能檔案系統', '微軟作業系統列表', '微軟', 'DOS'}\n",
            "{'市', '酒', '四川省', '烏魚子', '地級市', '宜賓市'} set()\n",
            "{'乳', '原材料', '食物', '冰淇淋', '奶製品'} {'義式冰淇淋', '蛋卷冰淇淋', '蕎麥冰淇淋', '冰淇淋', '樹莓漩渦冰淇淋'}\n",
            "{'五穀', '冰淇淋', '甜品', '原材料'} {'冰淇淋', '蛋卷冰淇淋', '蕎麥冰淇淋', '木子甜品'}\n",
            "{'新北市', '法院', '中華民國法務部', '法務部矯正署臺北少年觀護所', '中華民國', '臺灣', '土城區', '法務部矯正署'} {'法務部矯正署高雄監獄', '法務部矯正署臺南第二監獄', '法務部矯正署巖灣技能訓練所', '法務部矯正署臺南監獄', '法務部矯正署臺北少年觀護所'}\n",
            "{'靜脈', '活性度', '阿托品', '靜脈注射'} {'阿托品', '靜脈注射'}\n",
            "{'神話', '木衛三十九', '希臘神話', '名稱', '希臘', '女神'} {'陳美惠', '霍爾三十九族', '希臘神話生物列表'}\n",
            "{'米夏埃爾·科爾曼', '雙打', '網球', '今天', '歐洲', 'ATP'} {'米夏埃爾·科爾曼', '科麗娜·莫拉留', '約翰·皮爾斯', '彼得·高若尼茲克'}\n",
            "{'密碼學', '密碼', '量化_(信號處理)', '科學', '信息'} {'密碼學', '密碼學主題列表'}\n",
            "{'人字拖', '習慣', '家', '赤足'} {'人字拖'}\n",
            "{'徐翔_(投資家)', '公安機關', '徐翔', '證券市場', '公安_(消歧義)', '中國人', '中國'} {'徐翔'}\n",
            "{'桂皮'} set()\n",
            "{'加利福尼亞大學柏克萊分校', 'SETI@home', '政府', '分佈式計算', '計算', '歐洲商學院'} {'BOINC'}\n",
            "{'硬度', '鑽石', '今天'} {'莫氏硬度', '鑽石', '硬度試驗'}\n",
            "{'化學元素', '硫'} {'第5週期元素', '第4週期元素', '硫'}\n",
            "{'明朝皇族', '清朝', '八大山人', '宗室', '明朝', '輔國中尉', '中尉'} {'輔國中尉', '八大山人', '奉國中尉'}\n",
            "{'作品', '英國', '托馬斯·潘恩', '教條', '美國', '派對', '潘恩', '托馬斯'} {'托馬斯·潘恩', '潘恩'}\n",
            "{'北冰洋', '北極圈', '冰山', '海冰', '荷蘭', '中央', '冰', '海水'} {'北冰洋'}\n",
            "{'計算機科學', '圖像壓縮技術', '圖像壓縮', '數據壓縮'} {'圖像壓縮', '圖像壓縮技術', '加殼壓縮', '有損數據壓縮', '紋理壓縮'}\n",
            "{'微處理器', '單片機', '集成電路'} {'SuperH', '嶋正利', 'Rock微處理器', '單片機', '4位元'}\n",
            "{'東京', '智庫', '世界', '報告', '國家', '經濟學人信息社'} {'全球最昂貴城市', '經濟學人信息社'}\n",
            "{'J·D·德魯', '綽號', '校園', '大學', '德魯大學', '新澤西州', '森林'} {'德魯大學', '費爾裏·狄金生大學'}\n",
            "{'角色', '虛構', '史詩', '荷馬', '人物', '集'} set()\n",
            "{'海嘯', '波', '地震波', '聲波', '檢測', '反射', '次聲波', '地震'} {'地震波'}\n",
            "{'宗教', '新興宗教', '共識決策法'} set()\n",
            "{'親本', '日本', '富士', '本地人', '貴之富士三造'} set()\n",
            "{'冷戰', '應用科學', '第二次世界大戰', '科學', '世界大戰', '工程學', '麻省理工學院'} {'麻省理工學院理學院', '哈佛-麻省理工醫療科技學院', '麻省理工學院工學院'}\n",
            "{'90年', '唐朝', '大佛', '樂山大佛'} {'樂山大佛'}\n",
            "{'喬木_(消歧義)', '胡喬木', '中國社會科學院', '院長'} {'胡石英'}\n",
            "{'蕈類', '味覺', '香杏麗蘑', '中國', '中國內地', '杏_(演員)', '地方', '內地'} {'香杏麗蘑'}\n",
            "{'喬治·羅傑斯·克拉克', '喬治亞州', '北美洲', '喬治·華盛頓', '喬治·赫伯特·沃克·布什', '伯茲克里克_(喬治亞州)', '東部'} set()\n",
            "{'面_(幾何)', '行星', '木星的衛星', '木衛二', '太陽系'} {'木衛二', '木衛二表面特徵列表'}\n",
            "{'伊拉克', '美國聯邦政府', '伊拉克戰爭', '美國', '政府', '醜聞', '戰爭'} {'伊拉克軍事', '伊拉克戰爭', '伊拉克戰爭列表', '伊拉克空軍'}\n",
            "{'模特兒', '教育階段', '蔡卓妍', '臺灣國中教育', '兼職', '九年級'} {'盧慧敏', '石天欣'}\n",
            "{'黑豹_(專輯)', '中國音樂', '竇唯', '黑豹樂隊', '中國', '搖滾', '音樂類型'} {'黑豹樂隊', '竇唯音樂作品列表', '丁武'}\n",
            "{'盧卡斯·迪奧多斯基'} {'鄭頌衡', '盧卡斯·迪奧多斯基', '車菊紅'}\n",
            "{'生物分類學', '分類學', '不確定性', '動物', '族', '科_(生物)', '確定性', '牛亞科'} {'牛亞科', '奈特氏不確定性', '不確定性推理', '不確定性'}\n",
            "{'臺灣省政府', '功能', '政府', '臺灣省', '1998年'} {'花蓮縣政府', '雲林縣政府', '臺灣省政府', '臺東縣政府', '南投縣政府'}\n",
            "{'武功', '慕容復'} {'武功鎮'}\n",
            "{'韓式泡菜', '地獄新娘', '導演', '辛奇_(臺灣導演)', '辛奇·羅卡', '臺語電影'} set()\n",
            "{'寒武紀', '寒武紀大爆發', '世界', '寒武紀_(消歧義)'} {'寒武紀大爆發'}\n",
            "{'若竹町_(臺南市)', '行政區劃', '世界大戰', '若竹町', '北海道'} {'汐見町', '青葉町', '伏見町'}\n",
            "{'望遠鏡', '自然科學', '工具', '天文現象'} {'天文學'}\n",
            "{'世界百大外來入侵種', '貓', '生命', '世界', '犬', '入侵物種', '物種'} {'貓'}\n",
            "{'路易斯·伊納西奧·盧拉·達席爾瓦', '政府', '罷工'} {'路易斯·伊納西奧·盧拉·達席爾瓦'}\n",
            "{'生物分類學', '屬', '日本鶺鴒', '日本', '鳥', '分類學', '鶺鴒科', '陸地', '雀形目', '目_(生物)'} {'灰鶺鴒', '鶺鴒科', '印度鶺鴒', '白鶺鴒', '山鶺鴒'}\n",
            "{'航空', '航空交通管制', '交通管制', '飛機', '工作人員', '工作'} {'航空管制員', '東京航空交通管制部', '航空交通管制部', '航空交通管制'}\n",
            "{'妻子', '俄刻阿諾斯', '神', '忒堤斯', '提坦'} {'俄刻阿諾斯號', '俄刻阿諾斯', '俄刻阿尼得斯', '忒堤斯'}\n",
            "{'隕石', '撞擊坑', '量_(物理)', '面_(幾何)', '天衛三', '天衛四'} set()\n",
            "{'練馬師', '松柏塱', '香港', '圍村', '簡炳墀', '現在', '本地人'} {'松柏塱'}\n",
            "{'吳天威'} {'吳天威'}\n",
            "{'古蹟'} set()\n",
            "{'名', '豫劇'} {'苗文華', '趙國安'}\n",
            "{'講談社', '榮譽', '三年坂火之夢', '講談社·中國的歷史', '美洲'} {'三年坂火之夢', '講談社BOX'}\n",
            "{'共和國勳章', '水稻', '袁隆平', '勳章', '突破'} {'袁隆平', '小行星8117', '果靖霖', '雜交水稻國家重點實驗室'}\n",
            "{'李商隱', '唐詩', '詩人', '唐詩三百首', '唐朝末年'} {'柳枝', '李商隱'}\n",
            "{'河南省_(中華民國)', '中國人民解放軍', '中國人民解放軍武漢軍區', '湖北省', '河南省'} {'中國人民解放軍河南省軍區', '中國人民解放軍武漢軍區空軍', '中國人民解放軍湖北省軍區', '中國人民解放軍武漢軍區', '中國人民解放軍昆明軍區'}\n",
            "{'投資型硬幣', '銀', '硬幣', '光澤_(礦物)'} {'投資型硬幣', '諾亞方舟銀幣'}\n",
            "{'荷西·馬利', '臺灣荷西統治時期', '荷西·摩里納', '荷西·韋拿斯基斯', '荷西·安歷基·山齊士', '臺灣', '荷西·瓦爾迪茲', '奧莉花·荷西', '荷西·坎諾'} {'臺灣織布'}\n",
            "{'恆星', '黃道帶', '黃道', '獅子座'} {'人馬座', '巨蟹座', '天蠍座', '獅子座', '寶瓶座'}\n",
            "{'語言學', '方言', '入聲', '淮劇', '概念'} {'淮劇'}\n",
            "{'喬瓦尼·多梅尼科·卡西尼', '塞薩爾弗朗索瓦·卡西尼·德·蒂裏', '天文臺', '亨利·卡西尼', '讓多米尼克·卡西尼', '雅克·卡西尼', '卡西尼'} {'塞薩爾-弗朗索瓦·卡西尼·德·蒂裏', '亨利·卡西尼', '卡西尼'}\n",
            "{'雉科', '馴化', '人類', '雞'} {'雞'}\n",
            "{'溫室', '溫室氣體', '氟化合物', '化學', '碳氟化合物', '化學鍵'} set()\n",
            "{'工業設計', '人因工程學', '設計', '工程學'} set()\n",
            "{'法院', '避病院', '臺南市', '法定傳染病', '臺南避病院'} {'臺南避病院'}\n",
            "{'中日修好條規', '甲午戰爭', '宗主權', '清朝', '帝國', '日本', '朝鮮', '馬關條約'} {'中日修好條規', '江華條約', '馬關條約'}\n",
            "{'2020', '臺灣團結聯盟', '劉一德', '黨', '臺灣', '全國不分區及僑居國外國民立法委員選舉區', '立法院立法委員選舉', '司機'} {'臺灣團結聯盟'}\n",
            "{'產業', '地區', '美洲', '美國', '本土', '通用電氣', '美國本土'} set()\n",
            "{'法律', '論語', '孔子', '行爲', '伊斯蘭教法', '人民'} {'伊斯蘭教法', '論語', '孔子文化獎'}\n",
            "{'喬瓦尼·多梅尼科·卡西尼', '塞薩爾弗朗索瓦·卡西尼·德·蒂裏', '天文臺', '巴黎天文臺', '亨利·卡西尼', '讓多米尼克·卡西尼', '雅克·卡西尼', '卡西尼'} {'喬瓦尼·多梅尼科·卡西尼', '塞薩爾-弗朗索瓦·卡西尼·德·蒂裏', '亨利·卡西尼', '卡西尼'}\n",
            "{'艾倫', '伍迪·艾倫'} set()\n",
            "{'選舉', '蔡英文'} {'九合一選舉'}\n",
            "{'藤島康介', '卡通', '作品'} {'藤島康介', '大卡通資料庫'}\n",
            "{'木衛三', '衛', '木衛三十八', '木星的衛星', '木星', '南極', '衛星', '木材'} {'木衛五十', '木衛三十八', '木衛五十二', '木衛五十三', '木衛十一'}\n",
            "{'再造人卡辛', '賽博格', '龍', '子', '龍之子製作'} set()\n",
            "{'利沃夫', '2020', '桑比爾', '圖爾卡區', '舊桑比爾區', '行政區劃', '桑比爾區', '利沃夫州', '改革'} {'舊桑比爾區', '桑比爾區', '圖爾卡區'}\n",
            "{'烏克蘭'} {'郵政編碼', 'POSTNET'}\n",
            "{'宗教音樂', '世紀', '歌曲', '聲音', '作者', '單聲', '天佑國王', '文藝復興'} set()\n",
            "{'冷戰', '應用科學', '科學', '第一次世界大戰', '世界大戰', '技能', '工程學', '麻省理工學院'} {'麻省理工學院理學院', '哈佛-麻省理工醫療科技學院', '麻省理工學院工學院'}\n",
            "{'宋朝', '鴟尾', '宋朝_(人物)'} {'鴟尾'}\n",
            "{'流產', '胎兒', '死亡'} {'產前發育', '流產'}\n",
            "{'行政機關', '艾根訴加拿大案', '奧林·艾根', '加拿大', '案', '曼弗雷德·艾根'} {'艾根訴加拿大案'}\n",
            "{'世界', '寒武紀_(消歧義)', '寒武紀', '生物', '寒武紀大爆發'} {'寒武紀大爆發'}\n",
            "{'卡呂普索', '王'} {'奧吉吉亞島'}\n",
            "{'泰晤士', '泰晤士高等教育', '車站', '英國', '泰晤士高等教育世界大學排名', '倫敦大學學院', '高等教育', '倫敦大學'} {'泰晤士高等教育-QS世界大學排名', '泰晤士', '泰晤士高等教育世界大學排名'}\n",
            "{'熱', '火', '人類', '宇宙', '生態系統'} {'火'}\n",
            "{'班距', '基隆市', '新北市', '新北市市區公車', '公車', '新北市區公車790路線', '終點站_(消歧義)', '金山'} {'新北市區公車573路線', '新北市區公車813路線', '新北市區公車790路線', '新北市區公車570路線', '新北市區公車575路線'}\n",
            "{'自動步槍', '輕機槍', '步槍'} {'88式自動步槍', '白朗寧自動步槍', '大正十一年式輕機槍', '81式自動步槍'}\n",
            "{'心', '我的愛_(1986年電影)', '電視劇', '以你的心詮釋我的愛', '越南', '同性', '愛'} {'以你的心詮釋我的愛'}\n",
            "{'泉州市'} set()\n",
            "{'永嘉之亂', '五胡十六國', '永嘉_(消歧義)'} set()\n",
            "{'佛教', '釋迦牟尼', '世界'} set()\n",
            "{'劍橋', '盧卡斯', '盧卡斯數學教授席位', '理論物理學', '劍橋大學', '保羅·狄拉克', '物理學家', '柬埔寨'} {'保羅·狄拉克'}\n",
            "{'民族', '歐洲民族', '民族國家', '歐洲', '語言', '國家'} {'歐洲民族'}\n",
            "{'分辨率', '照相機', '市場', '功能', '時間', '數碼相機'} {'賓得士Optio系列', '數碼相機'}\n",
            "{'天主教會', '科隆'} {'臺灣文化活動列表'}\n",
            "{'花', '少花茴芹', '茴芹', '茴芹屬', '植物'} {'茴芹屬', '少花茴芹'}\n",
            "{'神話', '希臘神話', '歐洲', '希臘', '文明'} {'希臘神話', '希臘神祇及神話人物列表', '希臘神話生物列表'}\n",
            "{'戴安娜·瑞格', '威爾士王妃', '世紀', '戴安娜·艾嘉朗', '戴安娜_(電影)', '威爾斯王妃戴安娜'} {'威爾士的喬治王子', '戴安娜廣場'}\n",
            "{'崇義郡', '中國', '位置', '南北朝'} {'崇義郡'}\n",
            "{'博物館', '肇慶市', '梅庵_(肇慶)'} {'香港都會大學（肇慶）'}\n",
            "{'學生', '吸血鬼'} set()\n",
            "{'葬禮', '作品', '英國', '托馬斯·潘恩', '教條', '潘恩', '法國', '托馬斯'} {'托馬斯·潘恩', '潘恩'}\n",
            "{'三好市_(愛知縣)', '三好市', '西祖谷山村', '德島縣', '行政區劃'} {'三好市', '東祖谷山村', '西祖谷山村', '新祖谷溫泉', '美馬郡'}\n",
            "{'蘇格蘭', '面積', '加布艾萊西島', '村', '大西洋', '海'} {'加布艾萊西島', '杜布莫爾島'}\n",
            "{'李賦寧'} {'李賦寧'}\n",
            "{'軍營', '中國人民解放軍', '中國人民解放軍武漢軍區'} {'九龍東軍營', '中國人民解放軍陸軍第八綜合訓練基地', '中國人民解放軍武漢軍區空軍', '中國人民解放軍湖北省軍區', '中國人民解放軍武漢軍區'}\n",
            "{'太平洋', '西南_(索馬里聯邦成員州)', '西亞', '阿曼', '阿曼蘇丹'} {'阿曼', '阿曼首相', '阿曼蘇丹'}\n",
            "{'城市', '芝加哥', '人口', '總部', '花旗銀行'} {'花旗（臺灣）商業銀行', '花旗銀行', '花旗銀行（中國）'}\n",
            "{'北阿坎德邦', '奈尼塔爾', '考試院'} {'奈尼塔爾總督府', '奈尼塔爾'}\n",
            "{'白蟻', '人類', '昆蟲', '農作物', '木材', '蝗蟲'} set()\n",
            "{'左旋與右旋', '氫', '芳香烴', '乙烯', '烴', 'Groove_(音樂)', '苯乙烯', '苯'} {'二乙烯酮', '苯乙烯', '二苯乙烯酮'}\n",
            "{'午夜巴黎', '幽靈', '艾倫', '起士蛋糕', '伍迪·艾倫', '背景', '巴黎'} {'午夜巴黎', '第64屆戛納電影節'}\n",
            "{'南匈奴', '漢', '劉淵', '南', '漢趙', '政權', '君主制', '匈奴'} {'劉淵', '南匈奴', '漢趙'}\n",
            "{'省部共建', '部', '面積', '四川省_(中華民國)', '燕山_(消歧義)', '大學', '三省六部', '燕山大學'} {'燕山大學', '燕山大學科技園'}\n",
            "{'住宅', '大韓民國', '憲法法院', '總統'} {'韓國總統'}\n",
            "{'行爲', '姓', '漢姓', '漢', '朝廷', '漢服', '金朝', '漢化'} set()\n",
            "{'學生', '史丹佛大學', '斯坦福', '小利蘭·斯坦福', '朱棣文'} {'小利蘭·斯坦福', '斯坦福醫學院'}\n",
            "{'本傑明·富蘭克林', '鳳凰城', '通信系統', '郵政', '富蘭克林_(維吉尼亞州)', '第一人'} set()\n",
            "{'家', '拖鞋', '習慣', '人', '動物', '赤足'} set()\n",
            "{'集合論', '德國', '格奧爾格·康托爾', '維特根斯坦_(消歧義)', '奧地利', '哲學家', '數學家', '學術'} {'格奧爾格·康托爾', '卡爾·維特根斯坦', '格奧爾格·康托爾獎章', '康托爾函數'}\n",
            "{'張學良', '一生', '地區', '亞洲'} set()\n",
            "{'泉州市'} set()\n",
            "{'氧化劑', '乙醇', '化學式', '錳酸鉀', '高錳酸鉀', '水'} {'高錳酸鉀', '錳酸鈉', '高錳酸鈉'}\n",
            "{'島嶼國家', '南歐', '島嶼', '地中海', '國家', '馬耳他'} set()\n",
            "{'制度', '隋朝', '政策', '反駁'} set()\n",
            "{'李賦寧', '祖籍'} {'李賦寧', '李賦都'}\n",
            "{'墨西哥', '墨西哥國徽', '仙人掌', '國徽', '樹枝', '岩石', '湖泊'} {'墨西哥國徽'}\n",
            "{'信道', '富士電視臺', '8頻道_(泰國)'} {'頻道號碼', '西日本放送電視臺', 'BS富士', '富士電視臺動畫列表'}\n",
            "{'小行星9027', '星等', '太陽', '行星', '絕對', '絕對星等'} {'小行星9027', '小行星9901', '小行星9665', '小行星7672', '小行星7799'}\n",
            "{'秋紅谷廣場', '暴雨'} {'秋紅谷廣場'}\n",
            "{'喬治·哈里森', '喬治·桑', '疾病', '喬治三世', '三酸甘油酯'} set()\n",
            "{'人類', '人類學', '分支', '民族學'} {'民族學'}\n",
            "{'學院', '北京市'} set()\n",
            "set() {'虛擬教研中心'}\n",
            "{'臺灣總督府民政部', '總督府', '民政部', '臺灣', '臺灣總督府'} {'臺灣總督府民政部', '臺灣總督府評議會', '民政部', '臺灣總督府', '臺灣總督府醫學校'}\n",
            "{'現象', '液體', '社會現象'} set()\n",
            "{'商輅', '明憲宗', '李賢_(大學士)', '土地'} {'明憲宗'}\n",
            "{'社會問題', '認識', '王安石'} set()\n",
            "{'中學', '教師', '臺中市私立曉明女子高級中學', '臺中市', '女性'} {'臺中市私立曉明女子高級中學', '臺中市私立明德高級中學', '臺中市立臺中女子高級中等學校'}\n",
            "{'聲音', '速度', '外層空間', '飛機', '物體', '爆炸', '音障', '聲爆'} set()\n",
            "{'運河', '域_(數學)', '地形', '嘉興市', '京杭大運河'} {'運河區', '京杭運河大橋'}\n",
            "{'魔戒', 'J·R·R·托爾金', '哈比', '伊迪絲·托爾金', '哈比人', '前傳', '克里斯托夫·托爾金', '哈比人歷險記'} {'樂高：哈比人歷險記', '魔戒現身', '哈比人', '哈比人列表', '霍比特人電影系列'}\n",
            "{'熱帶氣旋', '溫帶', '地區', '氣旋', '氣象廳_(日本)', '亞熱帶', '世界氣象組織', '颱風', '洋流'} {'熱帶氣旋', '南大西洋熱帶氣旋', '後熱帶氣旋', '氣旋史蒂芬妮', '颱風'}\n",
            "{'休斯敦火箭', '美國', '南部', '本名', '美國南部'} {'休斯敦火箭', '休士頓火箭歷屆冠軍成員'}\n",
            "{'中華人民共和國紡織工業部', '北京市', '二輕工業', '中華人民共和國', '輕工業', '現在', '1970年', '1978年'} {'中華人民共和國紡織工業部', '曹魯', '羅日運', '姜時彥', '中華人民共和國第二輕工業部'}\n",
            "{'真理', '日本', '麻原彰晃', '九州', '九州_(日本)', '真理國'} {'真理國', '麻原彰晃'}\n",
            "{'殖民主義'} set()\n",
            "{'宗教', '自然', '人類', '哲學', '人', '工具', '現象', '物種'} {'人'}\n",
            "{'太平洋', '輻鰭魚綱', '桑吉巴蝴蝶魚', '蝴蝶魚科', '鱸形目'} {'深水前頷蝴蝶魚', '領蝴蝶魚', '桑吉巴蝴蝶魚', '鰭斑蝴蝶魚', '黑鰭蝴蝶魚'}\n",
            "{'行政法'} {'行政法'}\n",
            "{'氣體', '液體', '物質狀態', '狀態', '空氣污染', '物質', '空氣'} {'空氣污染', '液體', '氣體', '理想氣體狀態方程'}\n",
            "{'SETI@home', '程序'} set()\n",
            "{'羅馬女神', '羅馬', '神', '彌涅耳瓦', '哲學家', '宇宙', '命運', '女神'} {'彌涅耳瓦'}\n",
            "{'大理寺', '唐朝', '宰相', '公案小說', '武周', '中國', '狄仁傑', '公案_(消歧義)'} {'狄仁傑'}\n",
            "{'北', '三國', '領土', '人口', '曹', '魏', '政權', '曹魏'} {'曹魏'}\n",
            "{'醋', '原材料', '釀造醋'} {'釀造醋'}\n",
            "{'祭海節', '田橫', '節', '即墨區', '海'} {'田橫五百義士冢', '即墨區', '即墨城牆', '即墨縣'}\n",
            "{'艾倫', '喜劇中心', '伍迪·艾倫', '2004年'} set()\n",
            "{'目', '鯡形目', '魚', '存活率', '獵物', '大魚_(歌曲)'} set()\n",
            "{'漢科科柳山', '安地斯山脈', '玻利維亞'} {'皮爾瓦尼山', '漢科科柳山'}\n",
            "{'熱帶氣旋', '地區', '日本', '氣象廳_(日本)', '氣旋', '亞熱帶', '世界氣象組織', '颱風', '洋流'} {'熱帶氣旋', '南大西洋熱帶氣旋', '後熱帶氣旋', '氣象廳', '颱風'}\n",
            "{'生物分類學', '分類學', '動物', '族', '科_(生物)', '族_(化學)', '牛亞科', '親屬'} {'牛亞科'}\n",
            "{'艾倫', '伍迪·艾倫', '神經質', '煩躁', '情緒'} {'煩躁'}\n",
            "{'電', '可見光', '波長', '燈', '汞', '電流', '螢光燈', '電磁波'} set()\n",
            "{'1982年', '學院', '1977年', '現在', '名稱', '華南師範大學'} {'華南師範大學', '華南師範大學附屬中學'}\n",
            "{'北京市', '時間', '新聞聯播', '北京時間', '晚上'} {'香港十年', '全國新聞聯播', '家文看北京', '新聞聯播天氣預報', '新聞聯播'}\n",
            "{'分類學', '生物分類學', '屬'} set()\n",
            "{'康沃爾冰川', '今天'} {'康沃爾峯', '迪圖瓦冰原島峯', '麥克貝恩山', '康沃爾冰川', '福派峯'}\n",
            "{'毒魚豆', '魚', '西'} {'毒魚豆'}\n",
            "{'亞伯拉罕·林肯', '美國', '美國總統', '蓋茲堡演說', '林肯_(消歧義)', '總統'} {'華盛頓生日', '北與南蓋茲堡戰役', '蓋茲堡演說', '羅伯特·託德·林肯', '亞伯拉罕·林肯'}\n",
            "{'黨委書記', '中央民族大學', '中國', '張京澤', '書記'} {'張京澤'}\n",
            "{'語氣', '地形', '張谷英', '排水', '中國', '張谷英村', '佈局_(圍棋)'} {'張谷英村', '張谷英'}\n",
            "{'高級中學', '臺北市私立道明外僑學校', '臺北市'} {'臺北市私立東山高級中學', '臺北市私立道明外僑學校'}\n",
            "{'上海市', '鎖麟囊'} {'鎖麟囊'}\n",
            "{'查理曼', '身材矮小症', '矮子丕平', '丕平·卡洛曼', '查理·曼紐爾'} {'嘉當子代數'}\n",
            "{'肢', '內臟', '透明', '神農'} set()\n",
            "{'學術領域大綱', '木衛三', '神話', '希臘神話', '名稱', '希臘'} {'天體粒子物理學', '天文學家', '希臘神話生物列表'}\n",
            "{'氏', '神農', '數據', '傳說'} {'神農', '稷'}\n",
            "{'斯科特·布赫茲', '保守主義', '政黨', '澳大利亞', '政治人物'} {'斯科特·布赫茲'}\n",
            "{'沈鈞儒', '進士', '嘉興市', '祖籍', '江蘇省_(中華民國)', '江蘇省'} {'沈鈞儒'}\n",
            "{'悖論', '邏輯', '法律邏輯學'} set()\n",
            "{'金雞獎', '金雞獎最佳男主角', '最佳男主角', '香港', '演員', '主人公', '黃秋生'} {'金雞獎最佳音樂'}\n",
            "{'維京人', '古代文學', '冰島語', '文學', '時代', '維京時代', '古諾斯語', '語言', '冰島'} {'冰島語'}\n",
            "{'國富論', '資本主義', '市場', '代表作', '資本主義政治經濟學', '政府', '功能', '亞當·斯密', '政治經濟學'} {'資本主義政治經濟學'}\n",
            "{'科', '性', '猛禽', '隼', '隼科', '虛幻_(電視劇)'} {'隼形目', '猛禽'}\n",
            "{'菌', '粗糙擬迷孔菌'} {'粗糙擬迷孔菌'}\n",
            "{'技術', 'ACM', '訊息_(蘋果)', 'SIG'} set()\n",
            "{'礦產資源', '中國', '六盤水市'} {'水大支線鐵路', '六盤水師範學院', '六盤水市'}\n",
            "{'刺激', '性愉悅', '性慾低下症', '刺激_(心理學)'} {'性愉悅'}\n",
            "{'電腦性能', '玻璃纖維', '複合材料', '材料', '高性能轎車', '纖維'} {'陶瓷基複合材料', '複合材料', '樹脂基複合材料', '玻璃纖維'}\n",
            "{'行政院', '臺北市私立華岡藝術學校', '行政院院長', '張其昀'} {'行政院祕書長'}\n",
            "{'大同', '近代', '1901年', '康有爲', '大同書', '中國', '思想家', '思想'} {'康有爲墓', '大同書'}\n",
            "{'士兵', '輕機槍', '班_(軍事)', '自動步槍', '步槍', '機槍', '通用機槍'} {'輕機槍', '88式通用機槍', '通用機槍'}\n",
            "{'聖經', '猶太教與基督教', '新約', '猶太教', '舊約聖經', '基督教'} {'新約聖經', '聖經', '猶太教與基督教'}\n",
            "{'中國共產黨', '中華人民共和國元帥', '軍銜', '中華人民共和國', '元帥', '羅榮桓'} {'羅榮桓', '中華人民共和國大元帥'}\n",
            "{'佳麗', '考試', '制度', '後宮', '隋煬帝'} set()\n",
            "{'中華人民共和國', '1970年', '中華人民共和國地質礦產部'} {'朱訓', '地質出版社', '中華人民共和國地質礦產部'}\n",
            "{'若奧·米蘭達·德索薩·菲略', '米蘭達·凱爾', '米蘭達·蘭伯特', '胡安·米蘭達', '米蘭達·蔻思葛芙', '米蘭達·霍布斯', '名稱', '天衛五'} {'天衛五表面特徵列表'}\n",
            "{'李祖德', '臺北醫學大學', '臺北', '經營者', '牙醫學系'} {'李祖德'}\n",
            "{'海嘯', '波', '地震波', '聲波', '檢測', '反射', '次聲波', '地震'} set()\n",
            "{'宋教仁', '政治家', '中華民國', '中國國民黨', '軍事'} {'宋教仁', '潯陽街道'}\n",
            "{'建築學', '文化中心', '大灣', '賀龍體育文化中心', '灣裏_(臺南市)', '賀龍'} {'賀龍體育文化中心', '天心閣', '賀龍事件'}\n",
            "{'民族', '歐洲民族', '民族國家', '歐洲', '語言', '國家'} {'歐洲民族'}\n",
            "{'佛教', '印度', '佛經', '發展'} {'印度佛教', '佛經目錄', '中國佛教'}\n",
            "{'王震', '鄧小平'} {'王震起'}\n",
            "{'俄羅斯', '伏爾加湖', '流域', '國'} {'伏爾加湖'}\n",
            "{'許世友', '農村'} {'許家窪', '許世友'}\n",
            "{'特殊教育', '臺中市立啓明學校', '學校', '臺灣', '臺中市', '教育', '后里區', '聽覺'} {'臺中市立后里國民中學', '臺中市立啓聰學校', '臺中市立啓明學校', '臺北市立啓明學校'}\n",
            "{'臺北醫學大學', '經營者', '北漂'} {'李祖德'}\n",
            "{'博古', '亞洲'} {'博古恰爾區', '博古埃'}\n",
            "{'外星人', '家', '程式', '個人電腦', 'SETI@home', '用戶_(計算機)'} {'Astropulse', 'SETI@home'}\n",
            "{'楊過', '神鵰俠侶_(動畫)', '三部曲', '射鵰三部曲', '神鵰俠侶', '黃蓉', '襄陽市', '小龍女'} {'郭芙', '小龍女'}\n",
            "{'強酸', '水', '濃度', '腐蝕性物質', '硫酸', '酸'} {'硫酸'}\n",
            "{'潮州市', '文化'} {'潮州市職業技術學校', '潮州市城南中學', '潮州市文物保護單位'}\n",
            "{'羅馬', '紀念日', '維納斯'} {'迴歸紀念日'}\n",
            "{'太平洋', '臺北製糖所', '太平洋戰爭', '人力', '力', '臺北', '太平洋_(電視劇)', '戰爭'} set()\n",
            "{'黑血_(漫畫)', '血液', '黑血'} {'黑血'}\n",
            "{'商店', '象徵', '動物', '全買', '臺灣', '買', '代表'} {'全買'}\n",
            "{'溴', '藥'} set()\n",
            "{'意見', '身分標識方式', '網路用戶'} {'意見'}\n",
            "{'殖民主義', '領土'} set()\n",
            "{'民族', '地區', '歐洲民族', '民族國家', '歐洲', '語言'} {'歐洲民族'}\n",
            "{'教育', '力', '文森特·梵高'} set()\n",
            "{'粵菜', '廚師', '美國', '菜系', '廣東省', '貿易', '移民', '興盛'} set()\n",
            "{'中國', '演員', '謝芳'} {'謝芳'}\n",
            "{'行政機關', '艾根訴加拿大案', '奧林·艾根', '加拿大', '案', '曼弗雷德·艾根'} {'艾根訴加拿大案'}\n",
            "{'光學顯微鏡', '凸', '透鏡', '肉眼', '成像', '顯微鏡'} {'顯微鏡'}\n",
            "{'河北省_(中華民國)', '中國', '山脈', '山西省_(中華民國)', '太行山'} {'太行山針藺'}\n",
            "{'斯卡帕灣', '商船', '公海艦隊自沉事件'} {'公海艦隊自沉事件', '路德維希·馮·羅伊特'}\n",
            "{'布魯塞爾', '會議', '1927年', '諾貝爾獎', '索爾·勒維特', '索爾維會議', '獎勵'} set()\n",
            "{'生物分類學', '分類學', '動物', '科_(生物)', '族', '牛亞科', '親屬'} {'牛亞科'}\n",
            "{'邦', '汶萊', '國家', '東南亞'} {'北婆羅洲聯邦'}\n",
            "{'了不起的蓋茨比', '大亨小傳_(2013年電影)', '弗朗西斯·斯科特·菲茨傑拉德', '薇拉·費茲傑羅', '喬治·費茲傑羅'} {'弗朗西斯·斯科特·菲茨傑拉德', '尼克·卡拉威'}\n",
            "{'制度', '隋煬帝', '考試', '宰相'} set()\n",
            "{'角色', '昆蟲', '捕食', '花粉'} set()\n",
            "{'外爾特徵標公式', '可解羣', '分佈式參數系統', 'Mozilla Thunderbird', '第一屆國民大會第一次會議', '德拉姆上同調', 'GNU Octave', '大五碼', '開放街圖', '秦煌'} set()\n",
            "{'組合', '個人電腦', '電路板', '蘋果公司', '集成電路', '蘋果_(消歧義)'} set()\n",
            "{'天皇', '臺灣總督', '日治時期', '總督', '臺灣'} {'臺灣總督府'}\n",
            "{'領域', '科學史', '托馬斯·庫恩', '科學革命的結構'} {'科學史學會', '托馬斯·庫恩', '科學革命的結構'}\n",
            "{'勃列日涅夫_(消歧義)', '列昂尼德·勃列日涅夫', '蘇聯', '政權'} {'列昂尼德·勃列日涅夫所獲獎項列表', '列昂尼德·勃列日涅夫遇刺案', '安德烈·尤里耶維奇·勃列日涅夫'}\n",
            "{'分裂_(生物學)', '配子', '蒲公英', '個體'} set()\n",
            "{'小米', '鐵器時代'} set()\n",
            "{'馬詩慧', '模特兒', '香港', '雙性戀'} {'同性戀與雙性戀者列表：Bi–Bz', '安琪拉·琳德沃'}\n",
            "{'九江市', '人口'} {'斯哈亨'}\n",
            "{'古法語', '法語', '獅', '英國', '英國皇家徽章', '紋章', '獨角獸'} {'英國皇家徽章', '蘇格蘭皇家徽章'}\n",
            "{'相關性', '竹內瑪莉亞', '日本', '演藝界'} {'純愛狂詩曲', '山下達郎', '不思議的桃子派'}\n",
            "{'力學', '研究', '進步_(雜誌)', '經典力學'} {'經典物理術語', '拉格朗日力學', '經典力學', '分析力學'}\n",
            "{'組別_(體育)', '電子藝術大獎', '21世紀', '世紀', '維基百科', '2004年'} {'電子藝術大獎'}\n",
            "{'藝術品', '故事', '神話', '證明', '希臘神話', '考古學', '希臘', '神'} {'希臘神話'}\n",
            "{'科', '鳥', '性', '猛禽', '隼', '隼科', '動物', '肉食性動物'} {'隼形目'}\n",
            "{'醫院', '避病院', '臺南市', '法定傳染病', '臺南避病院'} {'臺南避病院'}\n",
            "{'太原市', '水源', '汾河', '河', '母親', '中國人', '上游'} {'汾河街道', '汾河站', '汾河鎮', '汾河公園', '汾河水庫'}\n",
            "{'哆啦A夢', '藤子·F·不二雄', '漫畫家', '德國', '本名', '血型', '奇天烈大百科'} {'藤子·F·不二雄', '藤子·F·不二雄創作', '奇天烈大百科', '藤子不二雄', '藤子不二雄Ⓐ'}\n",
            "{'電子科技大學'} set()\n",
            "{'宗教', '宗教哲學', '學術', '哲學'} {'宗教哲學', '宗教信仰哲學'}\n",
            "{'威廉·亨利·哈里森', '美國總統', '總統', '美國'} {'美國總統列表', '安娜·哈里遜', '1840年美國總統選舉', '任內逝世的美國總統'}\n",
            "{'盧卡斯·迪奧多斯基', '波蘭'} {'盧卡斯·迪奧多斯基'}\n",
            "{'葡萄', '果實'} {'葡萄科', '山葡萄'}\n",
            "{'克里斯·約翰遜', '肖恩·約翰遜', '斯蒂夫·約翰遜', '塞繆爾·約翰遜', '林登·約翰遜', '鮑里斯·約翰遜'} {'2020年美國總統特朗普支持率列表'}\n",
            "{'單片機', '微型計算機'} {'單片機'}\n",
            "{'超人', '動作漫畫'} {'動作漫畫'}\n",
            "{'分鐘', '字', '圖示_(範疇論)', '複數', 'Min'} {'Min', '分鐘', 'MIN·MIN·MIN'}\n",
            "{'文字', '少數民族', '拼音文字', '日耳曼語族', '俄羅斯', '楚瓦什人'} {'楚瓦什人'}\n",
            "{'文學', '作品', '藝術', '世紀', '表現主義', '奧地利', '20世紀', '北歐', '藝術類型'} {'表現主義文學', '表現主義'}\n",
            "{'羅馬女神', '摧毀者', '羅馬', '彌涅耳瓦', '宇宙', '命運', '女神'} {'彌涅耳瓦'}\n",
            "{'園林設計', '價值觀', '園林'} {'園林設計'}\n",
            "{'洲', '史考特·普魯特', '克莉斯汀·史考特·湯瑪斯', '史考特·詹森', '史考特·朗恩', '西恩·威廉·史考特', '雷利·史考特', '麥可·史考特', '歐洲', '蒙哥馬利·史考特'} set()\n",
            "{'豫劇'} {'豫劇'}\n",
            "{'民族', '地區', '歐洲民族', '民族國家', '歐洲', '語言'} {'歐洲民族'}\n",
            "{'布利茲紐基區', '布利茲紐基', '甘尼夫卡_(布利茲紐基區)'} {'布利茲紐基', '甘諾-魯達埃韋', '布利茲紐基區'}\n",
            "{'官僚', '考試', '制度', '隋煬帝', '政策'} set()\n",
            "{'中國共產黨', '鄧小平', '理論', '社會主義初級階段', '鄧小平理論', '社會主義', '中國'} {'社會主義初級階段', '鄧小平理論', '一箇中心、兩個基本點'}\n",
            "{'地表', '衛', '木星的衛星', '處_(佛教)', '木衛四', '木材', '海'} {'木衛四表面特徵列表'}\n",
            "{'臺北市客家文化主題公園', '臺南市', '中正區_(臺北市)', '臺北市'} {'桃園市客家文化館', '臺北市客家文化主題公園'}\n",
            "{'醫療疏失', '全球', '2013年', '死亡'} {'醫療疏失'}\n",
            "{'美國風情畫', '弗朗西斯·科波拉'} {'美國風情畫', '李察·德雷福斯'}\n",
            "{'語言', '諾維亞語'} {'諾維亞語'}\n",
            "{'金獅獎', '威尼斯', '電影節', '電影', '侯孝賢'} {'金獅獎', '威尼斯影展評審團大獎', '第15屆威尼斯影展'}\n",
            "{'伊拉克', '伊拉克戰爭', '美國', '醜聞', '美國總統', '總統', '戰爭'} {'伊拉克軍事', '伊拉克戰爭', '伊拉克戰爭列表', '伊拉克空軍'}\n",
            "{'藍絲黛爾石', '硬度', '今天', '樞要寶石', '物質', '鑽石'} {'藍絲黛爾石', '鑽石', '樞要寶石'}\n",
            "{'美洲', '克氏無齒翎電鰻', '電鰻'} {'克氏無齒翎電鰻', '委內瑞拉短身電鰻'}\n",
            "{'楊梅區', '桃園市', '楊梅_(大字)', '南部', '中華民國'} {'楊梅區', '桃園市立楊梅高級中等學校'}\n",
            "{'環', '奧迪', '汽車品牌列表'} {'茨維考', '奧迪'}\n",
            "{'艾伯特·吉奧索', '名稱', '鐒'} set()\n",
            "{'民主進步黨', '黨', '民進', '謝長廷'} {'謝長廷'}\n",
            "{'索爾_(漫威漫畫)', '雷神', '國家', '神', '索爾', '安全', '費爾南多·索爾', '雷神_(電影)'} {'索爾'}\n",
            "{'郵政編碼', '塘湖站', '鐵路車站', '濟寧市'} {'塘湖站'}\n",
            "{'第八代史賓賽伯爵約翰·史賓賽', '父親', '第四代史賓賽伯爵腓特烈·史賓賽', '第九代史賓賽伯爵查爾斯·史賓賽', '第七代史賓賽伯爵阿爾伯特·史賓賽', '黛安娜', '威爾斯王妃戴安娜', '第二代史賓賽伯爵喬治·史賓賽'} {'威爾斯王妃戴安娜'}\n",
            "{'北', '北阿坎德邦', '奈尼塔爾', '法院'} {'奈尼塔爾總督府', '奈尼塔爾'}\n",
            "{'臺北市私立華岡藝術學校', '司', '教育', '高等教育', '張其昀'} set()\n",
            "{'方法', '軟件', '軟件測試'} {'軟件測試模型', '黑盒測試', '自動化測試', '探索性測試', '軟件工程'}\n",
            "{'東晉', '字', '君主', '琅琊', '晉元帝', '琅邪王'} {'彭桓'}\n",
            "{'健康', '醃', '韓式泡菜', '世界', '法', '泡菜', '問題', '卡路里'} {'蘿蔔泡菜', '韓式泡菜'}\n",
            "{'司馬光', '西晉', '司馬孚', '紀傳體', '通史'} {'司馬瓌', '司馬顒', '司馬光'}\n",
            "{'90年', '大佛', '樂山大佛'} {'樂山大佛'}\n",
            "{'果', '草莓', '物', '人類', '果實', '附果'} {'草莓'}\n",
            "{'古希臘', '古代史', '古希臘哲學', '哲學', '希臘', '斯多葛主義'} {'永嘉學派', '京都學派', '古希臘哲學', '新柏拉圖主義', '第歐根尼'}\n",
            "{'臺灣', '臺北醫學大學', '經營者'} {'李祖德'}\n",
            "{'羅盤方位', '球'} set()\n",
            "{'真金', '元武宗', '妃', '武宗', '忽必烈', '部長', '曲樞', '元朝'} {'曲樞'}\n",
            "{'水力帝國', '帝國', '人口', '貨幣', '人口自然增長率'} {'水力帝國'}\n",
            "{'竹內瑪莉亞', '歌手', '日本', '山下達郎', '創作歌手', '女性', '歌手·當打之年'} {'鈕大可', '山下達郎', '一直在一起吧', '我們的夏日夢'}\n",
            "{'許世友', '紅軍', '派系'} set()\n",
            "{'建築學', '臺北市萬華區老松國民小學', '萬華區', '臺北市'} {'臺北市萬華區老松國民小學', '臺北市萬華區大理國民小學', '臺北市萬華區雙園國民小學', '臺北市立龍山國民中學', '臺北市萬華區新和國民小學'}\n",
            "{'一邊一國', '中國', '國'} {'一邊一國'}\n",
            "{'文化大革命', '處_(佛教)', '定居', '吸血鬼', '親屬'} set()\n",
            "{'新北市', '醫院', '院長', '妻子', '聯合醫院', '新北市政府', '臺北', '臺北市立聯合醫院'} {'臺南市政府衛生局', '聯合醫院', '臺北市立聯合醫院', '臺北市立萬芳醫院', '臺北市政府衛生局'}\n",
            "{'晶體', '馮端', '中國人', '中國'} {'離子晶體', '晶體結構'}\n",
            "{'馴化', '鳥', '飛行', '人類', '雞'} {'雞'}\n",
            "{'中華民國', '報紙', '自由', '戒嚴'} {'澳門報紙列表', '香港言論自由'}\n",
            "{'羽毛', '雉雞', '馴化', '差異_(哲學)'} {'雉雞'}\n",
            "{'臺灣總督', '天皇', '日治時期', '總督', '臺灣', '草根'} {'臺灣總督府'}\n",
            "{'臺灣民衆黨', '臺灣', '民衆黨', '蔡英文', '朱立倫'} {'朱立倫市府', '2019年堺市長選舉', '臺灣民衆黨', '臺灣民衆黨參政選舉列表'}\n",
            "{'微積分學', '問題', '微分方程', '地方'} {'伯努利微分方程', '全微分方程', '微積分學', '多元微積分'}\n",
            "{'巴哈歐拉', '以色列'} {'巴哈歐拉陵寢'}\n",
            "{'監獄', '行憲紀念日', '行憲', '犯罪'} {'中華民國節日與歲時列表', '先總統蔣公誕辰紀念日', '行憲紀念日'}\n",
            "{'氧化鈉', '溶液', '氫氧化鈉', '鹼石灰'} {'拜耳法', '亞當斯脫羧反應', '鹼石灰'}\n",
            "{'氣候', '北马里亞納羣島', '雨', '面積'} {'熱帶海洋性氣候', '.mp', '卡皮托爾希爾', '密克羅尼西亞運動會'}\n",
            "{'經濟', '中央銀行'} set()\n",
            "{'手語', '1940年代', '英國', '學校', '年代', '英國手語'} {'愛爾蘭手語', '手語翻譯', '英澳新手語', '英國手語', '香港手語'}\n",
            "{'電荷', '夸克'} {'粲夸克', '夸克禁閉', '下夸克', '上夸克', '頂夸克'}\n",
            "{'大足石刻', '大足', '中國'} {'大足石刻', '大足'}\n",
            "{'音樂節目', '香港電臺', '今天', '香港', '編劇', '陳韻文'} {'香港商業電臺節目列表'}\n",
            "{'目標', '現在', '國際LGBTI聯合會'} set()\n",
            "{'動物', '爬行動物', '環境'} set()\n",
            "{'音樂產業', '竹內瑪莉亞'} set()\n",
            "{'政治家', '章伯鈞', '中國', '體育運動', '1957年'} {'章伯鈞', '汪先烺'}\n",
            "{'世界', '類', '魚', '骨鰾類', '淡水魚'} set()\n",
            "{'電荷', '電子陶瓷', '陶瓷', '材料', '電話'} {'陶瓷基複合材料', '陶瓷', '電子陶瓷', '介電陶瓷'}\n",
            "{'城市', '世界', '首都', '國內', '冰島'} {'冰島國立博物館', '中國首都', '首都足球會', '多首都國家', '冰島歷史'}\n",
            "{'汝州站', '鐵路車站', '河南省'} {'汝州站'}\n",
            "{'熱帶', '臺灣氣候', '熱帶季風氣候', '氣候', '季風', '臺灣', '副熱帶季風氣候'} {'臺灣氣候', '溫帶季風氣候', '西南季風', '副熱帶季風氣候', '副熱帶溼潤氣候'}\n",
            "{'江都區', '楊素', '舉事', '618年', '618', '隋煬帝'} set()\n",
            "{'周慧敏·新曲+精選', '周慧敏·最愛V25', '歌手', '香港歌手列表', '方文琳', '香港', '歌手·當打之年', '周慧敏'} {'沈雁', '失物招領：周慧敏精選', '周慧敏', '周慧敏音樂作品列表'}\n",
            "{'密西根大學', '美國'} {'密歇根大學法學院', '密西根大學狼獾隊', '密西根大學羅斯商學院', '密西根體育場'}\n",
            "{'北', '六朝', '東晉', '朝代', '琅琊', '戰爭', '琅邪王'} {'六朝'}\n",
            "{'美國', '劇場藝術', '黑色電影', '電影', '美國電影', '先驅', '化石森林'} {'罪惡鎖鏈', '賊中之王', '偉大的奧馬利', '直搗黃龍', '化石森林'}\n",
            "{'全國人民代表大會代表', '國', '全國人民代表大會', '主席', '香港', '葉國華_(香港政治人物)', '人民代表大會', '葉國華'} {'中華人民共和國香港特別行政區第十二屆全國人民代表大會代表選舉', '葉國華', '第十三屆全國人民代表大會第三次會議', '香港特別行政區全國人民代表大會代表'}\n",
            "{'運河', '京杭大運河', '世界遺產', '大運河'} {'大運河', '京杭大運河'}\n",
            "{'人權', '行爲', '身體', '國際LGBTI聯合會', '美國人', '性別特徵'} set()\n",
            "{'小龍女', '楊過', '江南'} {'小龍女'}\n",
            "{'ATP', '德意志裔人', '今天'} {'米哈伊爾·庫庫什金', '托馬斯·穆斯特', '保羅-亨利·馬蒂厄', '菲利普·科爾施賴伯', '阿爾伯特·蒙塔涅斯'}\n",
            "{'文字', '獅', '英國', '英國皇家徽章', '紋章', '獨角獸'} {'英國皇家徽章', '蘇格蘭皇家徽章'}\n",
            "{'斯拉夫人', '文字', '少數民族', '西裏爾字母', '楚瓦什共和國', '字母', '俄羅斯', '楚瓦什人', '人種'} {'楚瓦什人'}\n",
            "{'馬克思主義', '格魯喬·馬克思', '馬克思主義政治經濟學', '卡爾·馬克思', '資本論', '政治經濟學', '馬克思·多爾穆瓦站', '海因裏希·馬克思'} {'河上肇', '資本論', '女人資本論'}\n",
            "{'臺北101', '唐朝'} set()\n",
            "{'晶體', '化合價', '硫'} {'金化合物', '硫'}\n",
            "{'代謝', '睡眠', '代謝途徑', '能量', '離子'} {'嘌呤代謝', '同化作用', '慢波睡眠'}\n",
            "{'習慣', '家', '鞋', '赤足'} set()\n",
            "{'乾草市場', '工人', '警察', '勞動節', '芝加哥', '國際勞動節'} {'乾草市場站'}\n",
            "{'麻婆豆腐', '鷹嘴豆', '麻', '原材料', '豆腐', '豆瓣醬', '豆製品'} {'麻婆豆腐'}\n",
            "{'土庫曼斯坦', '歧義', '蘇聯', '加盟共和國'} {'土庫曼蘇維埃社會主義共和國', '蘇維埃社會主義自治共和國', '加盟共和國'}\n",
            "{'抄襲', '事件'} {'文章相似度檢測', '高雄捷運路線圖抄襲事件', '獨創性', '西南交大副校長黃慶博士論文抄襲事件'}\n",
            "{'首都', '世界', '新西蘭', '博物館', '惠靈頓'} {'惠靈頓', '紐西蘭國立博物館'}\n",
            "{'金屬', '草地', '自然', '人類', '哲學', '人', '現象', '宗教', '好奇'} {'人'}\n",
            "{'醫生', '臺北醫學大學', '經營者', '臺北市'} {'李祖德'}\n",
            "{'曼哈頓', '首飛', '泰坦尼克號'} {'南非航空航點', '鐵達尼號船員列表'}\n",
            "{'聖保羅書院', '學校', '香港', '銀色·性·男女', '男女'} {'史超域'}\n",
            "{'文類', 'Fairytale_(Kalafina歌曲)', '小說', '短篇小說', '童話', '西方', 'Fairytale', 'FAIRYTALE'} {'童話'}\n",
            "{'色', '圖書', '波長', '紅色', '書包', '小紅書', '毛主席語錄'} {'小紅書'}\n",
            "{'黃初平', '藝術品', '白髮', '飄然臺'} set()\n",
            "{'宋高宗', '宋朝', '北宋', '宋神宗', '兒子', '南宋', '皇帝', '高宗'} {'宋高宗', '懿靜貴妃', '宋朝君主列表', '宋神宗'}\n",
            "{'1996年', '元首_(納粹德國)', '中華民國', '東亞', '蔡英文'} {'2020年中華民國總統選舉'}\n",
            "{'清華大學', '水木清華BBS', '教育', '中國', '水木', 'BBS'} {'天津大學BBS', '西交兵馬俑BBS', '水木清華BBS', '芙蓉姐姐', '水木'}\n",
            "{'天皇', '神話', '態度', '日本', '日本神話', '民俗', '漫畫', '天武天皇'} {'日本神話'}\n",
            "{'費城', '公路', '本傑明·富蘭克林', '郵政', '富蘭克林_(維吉尼亞州)', '第一人', '系統', '高速公路'} set()\n",
            "{'臺北101', '90年', '臺北'} {'前90年代', '90年代'}\n",
            "{'印象主義音樂', '世紀', '印象派', '年代', '法國'} {'印象主義音樂'}\n",
            "{'張飛', '馬超', '黃忠', '三國', '武將', '關羽', '蜀漢', '三國演義'} {'馬超', '黃忠', '趙雲', '關羽', '五虎將'}\n",
            "{'雉科', '馴化', '人類', '雞'} {'雞'}\n",
            "{'餐廳', '沃斯科縣', '達爾·斯蒂芬斯', '組織_(生物學)', '1984年羅傑尼希教生物恐怖攻擊', '參選人', '奧修', '選民'} {'1984年羅傑尼希教生物恐怖攻擊', '羅傑尼希社區'}\n",
            "{'過去', '吸血', '一起_(政黨聯盟)', '紫質症', '恐慌', '生物', '卟啉', '吸血鬼'} {'吸血', '吸血鬼', '吸血毯'}\n",
            "{'臺北市議會', '臺北市_(省轄市)', '臺北', '清潔工人', '新黨'} set()\n",
            "{'突厥', '卡拉卡爾帕克斯坦共和國', '卡拉卡爾帕克人', '斯坦', '突厥語族', '本地人'} {'卡拉卡爾帕克斯坦共和國', '卡拉卡爾帕克蘇維埃社會主義自治共和國', '卡拉卡爾帕克自治州', '穆薩·葉爾尼亞佐夫', '卡拉卡爾帕克語'}\n",
            "{'城市', '胡利亞卡', '祕魯'} set()\n",
            "{'主義', '世界', '度_(角)', '國際標準化組織', '信念', '歐洲中心主義', '歐洲'} {'歐洲中心主義'}\n",
            "{'學校', '遠東集團', '徐有庠', '組織創始人', '遠東集團_(臺灣)'} {'徐旭東', '遠東集團', '徐有庠'}\n",
            "{'電', '短波', '波長', '燈', '汞', '電流', '螢光燈', '紫外線'} set()\n",
            "{'核子', '吳健雄', '美國物理學會', '美國', '女王', '女性', '物理學家'} {'沈呂九', '吳健雄', '葉軍', '小行星2752'}\n",
            "{'隕石', '撞擊坑', '量_(物理)', '面_(幾何)', '天衛三', '天衛四'} set()\n",
            "{'哆啦A夢', '藤子·F·不二雄', '雕塑家', '日本', '本名', '奇天烈大百科'} {'藤子·F·不二雄', '藤子·F·不二雄創作', '奇天烈大百科', '藤子不二雄', '藤子不二雄Ⓐ'}\n",
            "{'化學物質', '精神', '化學', '藥理學', '精神狀態', '藥物', '疾病', '身體質量指數'} {'藥物'}\n",
            "{'刺激', '性愉悅', '刺激_(心理學)', '性高潮'} {'刺激', '性愉悅', '性高潮障礙', '強制性高潮'}\n",
            "{'理論物理學', '宇宙', '光速', '速度'} {'超光速運動', '超光速', '光速', '光速可變理論'}\n",
            "{'北京理工大學'} {'瀋陽市科研機構列表', '華北理工大學'}\n",
            "{'王室', '過去', '宦官', '血親'} set()\n",
            "{'黃子韜', '歌手', '大韓民國', '中國', '歌手·當打之年'} set()\n",
            "{'夏季', '立夏'} set()\n",
            "{'閩南語維基百科', '文字', '閩南語', '白話字', '白話', '羅馬化', 'WMF', '知識'} {'閩南語維基百科', 'WMF'}\n",
            "{'色素', '蕉鵑', '鳥', '綠色', '鸚形目', '冠蕉鵑'} {'白梢冠蕉鵑', '冠蕉鵑'}\n",
            "{'芭蕾舞', '古典芭蕾', '古典'} {'俄派芭蕾', '現代芭蕾舞', '2013年夏季世界大學運動會水上芭蕾比賽'}\n",
            "{'中國共產黨', '政治局', '中國共產黨中央政治局', '韓正'} set()\n",
            "{'阿米納·J·穆罕默德', '穆罕默德·本·沙特', '伊斯蘭教', '古蘭經', '穆罕默德', '穆罕默德·本·薩勒曼', '穆罕默德·阿里帕夏'} {'多哥伊斯蘭教', '斯里蘭卡伊斯蘭教', '古蘭經', '薩哈巴', '伊斯蘭教的先知'}\n",
            "{'後衛', '盧卡斯·赫賈', '捷克國家足球隊', '場', '位置'} {'帕維爾·切爾尼', '盧卡斯·赫賈', '捷克21歲以下國家足球隊', '捷克國家五人制足球隊', '伊萬·哈謝克'}\n",
            "{'陶瓷', '材料', '電導體'} {'二氧化鋯', '陶瓷基複合材料', '陶瓷', '擊穿電壓'}\n",
            "{'超人', '動作漫畫'} {'超人', '動作漫畫'}\n",
            "{'工程', '基因', '基因工程', '生物', '生物技術', '細胞'} {'基因工程', '遺傳修飾生物體'}\n",
            "{'蛋白質', '名詞'} {'蛋白質組'}\n",
            "{'特別攻擊隊', '力_(佛教)', '資源_(計算機科學)', '同盟國_(第二次世界大戰)', '亞洲', '跟蹤支援隊'} set()\n",
            "{'漢朝', '漢初三傑', '漢'} set()\n",
            "{'基督徒', '教會', '禮拜'} {'個別教會', '教會', '天主教禮儀', '基督徒會堂', '禮拜站'}\n",
            "{'遺蹟化石', '卡呂普索', '王'} set()\n",
            "{'克洛里斯', '老公', '洛里斯_(沃克呂茲省)', '雨果·洛里斯', '神'} {'國民老公', '西風翠灰蝶'}\n",
            "{'失樂園'} {'青春失樂園'}\n",
            "{'質量', '行星', '衛星', '太陽系', '海衛十'} set()\n",
            "{'礦物', '海星', '口腔', '胃', '食物', 'In_vitro'} {'十字海星', '海星街道', '海星'}\n",
            "{'北阿坎德邦', '奈尼塔爾', '地方法院'} {'丹德拉', '北阿坎德邦', '奈尼塔爾', '北阿坎德邦行政區劃'}\n",
            "{'身分標識方式', '封建', '奴隸制度', '日本', '科舉', '社會', '世僕', '封建社會'} {'世僕'}\n",
            "{'全羅北道', '中部', '大韓民國', '全州', '行政區劃', '道_(行政區劃)', '首府'} {'全州市', '全羅北道', '全北日報', '全州', '北道門街道'}\n",
            "{'藍橋', '魂斷藍橋', '橋'} {'魂斷藍橋', '藍橋'}\n",
            "{'馬龍·白蘭度', '馬龍·馬利奧·白蘭度·達·施維拉', '演員', '美國電影學會'} {'AFI百年百大愛情電影', 'AFI百年百大勵志電影', 'AFI百年百大電影歌曲', 'AFI百年系列', 'AFI百年百大驚悚電影'}\n",
            "{'世界', '香港劇集', '香港', '劇集', '美國人'} set()\n",
            "{'三角函數', '三角學', '三角'} {'三角函數精確值', '三角恆等式', '三角', '三角函數積分表', '反三角函數'}\n",
            "{'華人地區', '華人', '黑紗', '袖章', '漢語'} {'黑紗', '袖章'}\n",
            "{'民進', '民進黨_(日本)', '發言人', '民主進步黨', '蔡英文'} set()\n",
            "{'船', '波濤', '東海', '南小島', '臺灣', '漁民'} {'橄欖門', '北小島', '南小島'}\n",
            "{'宋朝', '宋', '羅盤方位', '絲綢之路'} {'絲綢之路巡禮名曲集', '兩浙東路', '兩浙西路', '絲綢之路'}\n",
            "{'學生', '聖保羅書院', '校長', '學校', '周', '源迪恩'} {'聖保羅書院'}\n",
            "{'中部大學_(日本)', '中部大學', '中學', '愛知縣'} {'中部學院大學短期大學部', '愛知縣', '愛知大學', '中部大學女子短期大學', '元朗公立中學校友會鄧兆棠中學'}\n",
            "{'科', '馴化', '飛行', '人類', '雉科', '雞'} {'雞'}\n",
            "{'學院', '劍橋', '劍橋大學'} {'劍橋大學出版社', '劍橋大學國王學院', '香港大學附屬學院', '劍橋大學', '劍橋大學基督聖體學院'}\n",
            "{'代表', '民意代表', '臺灣'} set()\n",
            "{'秋紅谷廣場', '功能', '暴雨', '洪水'} {'秋紅谷廣場'}\n",
            "{'旅行證件', '護照'} {'中華人民共和國澳門特別行政區旅行證', '葡萄牙護照', '護照', '旅行證件', '中華人民共和國旅行證'}\n",
            "{'加利福尼亞大學洛杉磯分校', '蘇菲亞·柯波拉', '成人電影', '加利福尼亞大學'} {'加州州立大學洛杉磯分校站', '加州州立大學洛杉磯分校', '加州大學洛杉磯分校棕熊隊', '海港–加州大學洛杉磯分校醫學中心'}\n",
            "{'獎盃', '領域', '獎勵', '人物'} set()\n",
            "{'城市規劃'} {'南京大學城市規劃與設計系'}\n",
            "{'剛果民主共和國', '道路'} {'老楞佐·蒙森沃·帕辛亞', '剛果民主共和國華人', '2019年剛果民主共和國參議院選舉', '剛果奧林匹克委員會', '開賽河'}\n",
            "{'臺北醫學大學', '經營者', '北漂'} {'李祖德'}\n",
            "{'超人', '馬龍·白蘭度', '美國', '演員', '電影', '工作', '美國電影', '馬龍'} set()\n",
            "{'古希臘', '朱庇特', '神話', '希臘神話', '希臘', '宇宙', '天神'} {'朱庇特', '天神町'}\n",
            "{'志摩', '徐志摩', '家庭', '經濟學'} {'徐志摩', '徐志摩墓'}\n",
            "{'超人', '馬龍·白蘭度', '美國', '演員', '電影', '美國電影', '收入', '馬龍'} {'馬龍·白蘭度'}\n",
            "{'畫家', '藝術家', '藝術', '世紀', '巴勃羅·畢卡索', '20世紀', '現代藝術', '人物'} {'巴勃羅·畢卡索', '博比尼-巴勃羅·畢卡索站', '弗洛裏安·畢卡索'}\n",
            "{'中華民國', '報紙', '自由', '戒嚴'} set()\n",
            "{'合金', '可見光', '材料', '牙齒', '銀', '汞', '汞齊'} {'汞'}\n",
            "{'香港國際機場', '全球', '小時', '亞洲', '機場', '24小時'} {'啓德機場', '香港國際機場'}\n",
            "{'演員', '香港', '黃秋生'} set()\n",
            "{'職業', '女性'} set()\n",
            "{'殺菌劑', '殺菌', '環氧乙烷', '人體'} {'苯基環氧乙烷', '環氧乙烷', '環硫乙烷', '環氧化合物'}\n",
            "{'馬龍·白蘭度', '馬龍·馬利奧·白蘭度·達·施維拉', '演員'} {'AFI百年百大愛情電影', 'AFI百年百大勵志電影', 'AFI百年百大電影歌曲', 'AFI百年百大驚悚電影', 'AFI百年百大電影'}\n",
            "{'南北朝時代_(日本)', '宋武帝', '東晉', '南北朝_(消歧義)'} set()\n",
            "{'兒玉利國', '首長', '臺灣', '明治', '臺灣縣'} set()\n",
            "{'榴彈炮', '炮兵'} {'280毫米榴彈炮', '榴彈炮', 'M101榴彈炮', 'M-68榴彈炮'}\n",
            "{'張衡', '西鄂縣', '漢', '天文學', '南陽郡', '賦', '侍', '漢賦'} {'張衡'}\n",
            "{'西奧多·羅斯福', '羅斯福', '資源', '法案', '政策'} {'西奧多·羅斯福', '西奧多·羅斯福三世', '西奧多·羅斯福第二次總統就職典禮', '老西奧多·羅斯福'}\n",
            "{'電荷', '電', '夸克'} {'粲夸克', '夸克禁閉', '下夸克', '上夸克', '頂夸克'}\n",
            "{'藤子·F·不二雄', '雄性', '筆名'} {'藤子·F·不二雄', '藤子·F·不二雄創作', '藤子不二雄', '大雄與風之使者', '藤子不二雄Ⓐ'}\n",
            "{'國慶日', '武昌區', '政變', '雍正', '日期'} set()\n",
            "{'地理極點', '風_(太陽探測器)', '太陽風', '地球', '電離層', '極光', '中文數字'} {'極光', '太陽風'}\n",
            "{'溴', '出身成分', '藥水'} set()\n",
            "{'Starship', '經紀公司', 'STARSHIP娛樂', '本名'} {'安性珉', '金泰永', '徐宇璸', '鹹元進', 'STARSHIP娛樂'}\n",
            "{'古羅馬', '法律', '騎士', '羅馬', '遊牧民族', '羅馬元老院'} {'古羅馬'}\n",
            "{'麥', '穀物', '大麥', '禾本科', '世界', '耕作', '植物'} {'大麥'}\n",
            "{'戰略', '海上絲綢之路', '一·二八事變', '一帶一路', '泉州市', '中國', '路', '一帶一路·與我何干'} {'21世紀海上絲綢之路博覽會', '國家推進“一帶一路”建設工作領導小組', '海上絲綢之路博物館', '泉州市', '一帶一路'}\n",
            "{'微處理器', '單片機', '集成電路'} {'SuperH', '嶋正利', 'Rock微處理器', '單片機', '4位元'}\n",
            "{'伊斯法罕地鐵', '車站', '伊斯法罕', '城市軌道交通', '2015年'} {'伊斯法罕省', '馬鞍山城市軌道交通列表', '伊斯法罕地鐵', '伊斯法罕佐帕罕籃球俱樂部', '伊斯法罕佐布阿漢足球俱樂部'}\n",
            "{'德州', 'J·D·德魯', '大學', '德魯大學'} {'德魯大學'}\n",
            "{'熱', '殭屍', '火'} {'火'}\n",
            "{'中央大學·明星大學站', '電機', '電機工程學', '科系', '1949年', '中央大學', '中央大學_(日本)', '講師_(消歧義)'} {'南京大學工學院', '管致中', '國立中央大學工學院'}\n",
            "{'伍德羅·威爾遜', '十四點和平原則', '德', '第一次世界大戰', '交涉', '政治人物'} {'十四點和平原則'}\n",
            "{'奧黛麗_(搞笑組合)', '兒童', '奧黛麗·赫本演藝作品列表', '奧黛麗·赫本', '國家'} {'奧黛麗·赫本'}\n",
            "{'廣東省', '粵菜', '菜'} {'粵菜'}\n",
            "{'首都', '世界', '新西蘭', '博物館', '惠靈頓'} {'紐西蘭國立博物館'}\n",
            "{'船', '過去', '北小島', '小島', '南小島', '目標', '小島_(臺東區)', '漁民'} {'橄欖門', '北小島', '南小島'}\n",
            "{'劍橋', '盧卡斯數學教授席位', '理論物理學', '劍橋大學', '英國', '保羅·狄拉克', '佛羅里達州', '大學', '物理學家'} {'保羅·狄拉克'}\n",
            "{'洲', '非洲', '溼地', '歐亞大陸', '模式種', '蒼鷺', '鷺科', '鷺屬', '物種'} {'蒼鷺'}\n",
            "{'城市', '耶路撒冷', '重量', '東西_(作家)'} set()\n",
            "{'清朝', '八大山人', '宗室', '明朝', '輔國中尉'} {'輔國中尉', '八大山人'}\n",
            "{'巴哈歐拉', '以色列', '百姓'} {'巴哈歐拉', '巴哈歐拉陵寢'}\n",
            "{'方法', '新臺幣'} {'新臺幣'}\n",
            "{'四書五經', '中學', '臺北', '臺北市立明倫高級中學', '孔廟'} {'臺北市立明倫高級中學', '臺灣的孔廟'}\n",
            "{'藥物', '食物'} set()\n",
            "{'教育家', '李賦寧', '中國'} {'李賦都'}\n",
            "{'航空', '國', '航空器', '飛行員', '民用航空'} {'飛行員'}\n",
            "{'形象', '木衛十二', '名稱', '電影', '希臘', '女神'} {'瓦爾迪瓦紡錘魷'}\n",
            "{'聖靈', '聖父', '和子說'} {'聖靈', '撒伯流主義', '和子說'}\n",
            "{'中學', '2000', '麗山', '臺北', '內湖_(臺北市內湖區大字)', '臺北市立麗山高級中學', '內湖區'} {'臺北市內湖區麗山國民小學', '臺北市立南湖高級中學', '柯明樹', '麗山', '臺北市立麗山高級中學'}\n",
            "{'黛安娜·迪莫娃', '黛安娜·馬西森', '黛安娜·羅', '黛安娜·羅斯', '黛安·韋斯特', '黛安娜', '反對黨', '崇拜'} {'黛安娜·迪莫娃', '黛安娜·羅'}\n",
            "{'共和國勳章', '水稻', '共和制', '2019年', '袁隆平', '勳章', '突破', '成就'} {'袁隆平', '雜交水稻國家重點實驗室'}\n",
            "{'計算機科學', '圖像壓縮技術', '圖像壓縮', '數據壓縮'} {'圖像壓縮', '圖像壓縮技術', '加殼壓縮', '有損數據壓縮', '紋理壓縮'}\n",
            "{'亞伯拉罕諸教', '亞伯拉罕', '亞伯拉罕·範海辛', 'F·莫瑞·亞伯拉罕', '亞伯拉罕·路易·佈雷蓋', '斯賓塞·亞伯拉罕', '亞伯拉罕·林肯總統圖書館和博物館', '亞伯拉罕·林肯'} {'有經者', '伊斯蘭教與基督教關係', '亞伯拉罕諸教', '亞伯拉罕', '一神論'}\n",
            "{'人類', '圖書', '波長', '肉眼', '小紅書', '毛主席語錄'} {'小紅書'}\n",
            "{'吉林省', '長春市', '教育部', '中華人民共和國', '全國重點大學', '吉林大學', '中華人民共和國教育部'} {'吉林大學附屬中學', '中華人民共和國教育部直屬高等學校列表', '吉林工業大學', '吉林大學西區', '吉林大學'}\n",
            "{'漢', '天下', '劉邦', '韓信', '漢初三傑', '蕭何', '漢朝', '張良'} {'張良', '蕭何', '漢初三傑'}\n",
            "{'第八代史賓賽伯爵約翰·史賓賽', '第四代史賓賽伯爵腓特烈·史賓賽', '第九代史賓賽伯爵查爾斯·史賓賽', '第六代史賓賽伯爵查爾斯·史賓賽', '第七代史賓賽伯爵阿爾伯特·史賓賽', '黛安娜', '威爾斯王妃戴安娜', '第二代史賓賽伯爵喬治·史賓賽'} {'威爾斯王妃戴安娜'}\n",
            "{'道教', '臺灣明鄭時期', '北極殿', '明鄭', '臺南北極殿'} set()\n",
            "{'太陽日', '禮拜_(伊斯蘭教)', '星期', '日', '星期六', '禮拜'} set()\n",
            "{'兒童', '家庭', '阿希爾克洛德·德彪西'} set()\n",
            "{'豫劇'} set()\n",
            "{'蛋白質', '肥料', '硫'} {'硫'}\n",
            "{'榴槤', '亞洲'} set()\n",
            "{'廣東省', '粵菜', '菜'} set()\n",
            "{'理想', '性幻想', '幻想'} {'強暴幻想', '性幻想'}\n",
            "{'乾草市場', '工人', '警察', '勞動節', '芝加哥', '小時', '國際勞動節', '工作'} {'乾草市場站'}\n",
            "{'動物', '墨西哥國徽', '墨西哥', '國徽'} {'墨西哥國旗', '蒙古國國徽'}\n",
            "{'真理', '日本', '麻原彰晃', '九州', '九州_(日本)', '真理國'} {'真理國', '麻原彰晃'}\n",
            "{'血液', '林義雄', '事件', '美麗島事件', '政府', '美麗島', '親屬'} set()\n",
            "{'馬德里', '梁朝偉', '作品'} set()\n",
            "{'色', '圖書', '波長', '紅色', '小紅書', '毛主席語錄'} {'小紅書'}\n",
            "{'劍橋', '劍橋大學', '駱駝'} {'古駱駝'}\n",
            "{'遠東集團', '徐有庠'} {'徐旭東', '遠東集團', '徐有庠'}\n",
            "{'目', '鯡形目', '魚', '存活率', '寄生蟲', '大魚_(歌曲)'} set()\n",
            "{'弗朗西斯科', '西班牙', '大元帥', '內戰', '獨裁', '弗朗西斯科·佛朗哥', '政權', '西班牙內戰'} {'弗朗西斯科·佛朗哥', '卡門·波羅'}\n",
            "{'恆星', '參宿五', '星等', '參宿', '室女座', '視星等'} {'參宿七', '參宿五', '室女座'}\n",
            "{'水', '碳化鈣', '反應'} set()\n",
            "{'河流', '淡水河', '臺灣河流列表', '臺灣', '淡水_(消歧義)', '污染'} set()\n",
            "{'占星術'} set()\n",
            "{'金馬獎', '武俠', '張學友', '香港', '1990年', '武俠片', '電影'} {'張學友87演唱會'}\n",
            "{'地殼', '岩石', '水', '冰', '比例', '天衛四'} set()\n",
            "{'發明', '造紙術', '古代史', '人類', '中國', '四大發明', '紙'} {'造紙術', '四大發明'}\n",
            "{'威廉·薩默塞特·毛姆', '成功', '作品'} {'威廉·薩默塞特·毛姆', '人性的枷鎖', '月亮和六便士', '情天恨海', '毛姆文學獎'}\n",
            "{'論文', '媒介', '鍼灸', '研究', '西方世界', '國家', '結締組織'} {'固有結締組織', '媒介環境學'}\n",
            "{'珠江', '晶圓', '電路', '集成電路', '中國', '中芯國際', '總部'} {'集成電路設計', '超大規模集成電路', '半導體廠商銷售排名', '中芯國際', '半導體器件製造'}\n",
            "{'香港城市大學'} {'虛擬教研中心'}\n",
            "{'兒玉利國', '臺灣', '臺灣縣'} {'兒玉利國'}\n",
            "{'中生代', '被子植物', '植物', '新生代', '哺乳動物'} {'新生代'}\n",
            "{'大韓民國', '憲法法院', '總統', '韓國總統'} {'韓國總統', '朴槿惠彈劾案'}\n",
            "{'德國', '國號', '魏瑪', '魏瑪共和國', '第一次世界大戰'} {'聯邦大總統', '魏瑪共和國上議院'}\n",
            "{'李商隱', '唐詩', '詩人', '唐詩三百首', '唐朝末年'} {'柳枝', '李商隱'}\n",
            "{'音樂節目', '香港電臺', '今天', '香港', '加拿大', '多倫多', '編劇', '陳韻文'} {'香港商業電臺節目列表'}\n",
            "{'世界', '地區議會_(德國)', '政府', '懷俄明州', '女性', '法案', '選舉權'} {'女性參政權', '懷俄明州'}\n",
            "{'身分標識方式', '網路用戶'} set()\n",
            "{'基因組', '突變', '細胞', '癌細胞'} {'癌基因', '癌變', '突變'}\n",
            "{'西方哲學史', '劍橋', '西方哲學', '劍橋大學', '哲學史', '伯特蘭·羅素', '哲學', '保安'} set()\n",
            "{'玉山', '南投縣'} set()\n",
            "{'唐玄宗', '子', '固安公主', '丈夫', '嫡庶'} {'固安公主'}\n",
            "{'氫', '芳香烴', '乙烯', '烴', '苯'} {'乙酸乙烯酯', '二乙烯酮', '乙烯酮'}\n",
            "{'創新', '麗臺科技', '全球'} set()\n",
            "{'美術館', '中西區', '中西區_(臺灣)', '西區_(臺南市)', '臺灣', '臺南市', '半官方機構', '臺南市美術館'} {'原臺南合同廳舍', '臺南市美術館', '原臺南警察署'}\n",
            "{'體積', '天衛一', '天衛二'} {'天衛十五', '天衛十', '天衛二十二'}\n",
            "{'燕山_(消歧義)', '燕山大學'} {'趙丁選', '天津科技大學', '郭競坤', '燕山大學科技園', '燕山大學'}\n",
            "{'馬克思主義', '格魯喬·馬克思', '作品', '馬克思主義政治經濟學', '卡爾·馬克思', '政治經濟學', '馬克思·多爾穆瓦站', '海因裏希·馬克思'} set()\n",
            "{'語言', '拿督', '馬來語'} {'拿督'}\n",
            "{'果實', '種子', '子房'} {'瘦果', '梨果', '子房街道', '子房', '蒴果'}\n",
            "{'污染源監測', '化學物質', '環境監測', '化學', '監測', '環境影響評價', '污染'} {'污染源監測', '環境監測', '環境質量評價', '點源污染', '最佳可行控制技術'}\n",
            "{'網頁', '網頁瀏覽器', '網景通訊家', '網景'} {'網頁瀏覽器時間線', '網頁瀏覽器列表', '網景導航者', '網景通訊家', '網景'}\n",
            "{'廣東省', '貿易', '粵菜', '興盛'} set()\n",
            "{'傳染病', '應用科學', '肺炎', '2019冠狀病毒病疫情', '技能', '工程學', '麻省理工學院'} {'麻省理工學院理學院', '麻省理工學院工學院'}\n",
            "{'五天工作制', '行憲紀念日', '公務員', '行憲'} {'五天工作制', '行憲紀念日'}\n",
            "{'百合屬', '花萼', '百合_(消歧義)', '棘皮動物', '海百合', '板', '始海百合', '海'} {'棘皮動物', '擬海百合', '海百合亞門', '海百合', '始海百合'}\n",
            "{'數字', '物種', '靈長目'} set()\n",
            "{'國家', '共和制', '祕魯'} {'議會共和制'}\n",
            "{'上帝', '世紀', '英國', '自然神論', '神', '宇宙', '法國', '觀點_(哲學)'} {'泛自然神論', '自然神論'}\n",
            "{'城市', '城市規劃'} {'南京大學城市規劃與設計系', '巴基斯坦建築師及城市規劃師協會'}\n",
            "{'象', '唐朝'} {'大象露西'}\n",
            "{'富豪', '世界', '住宅', '今天', '德', '德意志裔人'} set()\n",
            "{'園林設計', '園林'} {'園林設計'}\n",
            "{'開元路_(臺南市北區)', '全姓', '全長', '道路', '臺北市'} {'開元路街道', '臺北市道路列表'}\n",
            "{'經濟體系', '公司', '全球', '麻省理工學院', '校友'} set()\n",
            "{'本·佐布里斯特', '目標', '籃球', '好球'} set()\n",
            "{'楊梅區', '桃園市', '楊梅_(大字)', '南部', '中華民國', '臺灣', '臺灣客家語', '教科書'} {'峨眉鄉'}\n",
            "{'兒童', '普羅米修斯', '小孩_(電影)'} {'普羅米修斯', '被縛的普羅米修斯', '解放了的普羅米修斯'}\n",
            "{'現象', '金', '女真', '安東尼·西尼蘇卡·金廷'} {'安東尼·西尼蘇卡·金廷'}\n",
            "{'馮端', '原子', '中國', '中國人', '晶體', '振動'} {'晶體結構'}\n",
            "{'淡水', '波濤', '東海', '釣魚臺', '釣魚臺列嶼', '陸地', '島嶼', '土壤'} {'釣魚臺細辛', '釣魚臺列嶼'}\n",
            "{'張飛', '新解釋·三國志', '萬人敵', '關羽', '三國志'} {'張飛', '關羽', '五虎將'}\n",
            "{'公路', '鐵路', '臺灣交通', '臺灣', '電氣化鐵路', '發展', '高速公路', '交通'} set()\n",
            "{'醫生', '臺北醫學大學', '經營者', '臺北市'} {'李祖德'}\n",
            "{'芭蕾舞', '古典芭蕾', '浪漫主義', '作曲家', '派', '吉賽爾_(消歧義)', '古典', '法國'} {'古典芭蕾', '吉賽爾'}\n",
            "{'教育', '語言', '文森特·梵高', '學習'} set()\n",
            "{'文化遺產', '布魯塞爾', '古蹟', '地標', '世界遺產', '食物'} set()\n",
            "{'月', 'Gmail'} {'Gmail'}\n",
            "{'年齡', '中華東路_(臺南市)', '中華民國', '臺1線', '線', '臺南市', '道路'} {'中華南路'}\n",
            "{'法律', '人類', '社會', '人', '道德'} {'社會建構主義'}\n",
            "{'天佑國王'} {'天佑新西蘭', '天佑國王', '天佑安圭拉'}\n",
            "{'馬克思主義', '格魯喬·馬克思', '作品', '馬克思主義政治經濟學', '卡爾·馬克思', '政治經濟學', '馬克思·多爾穆瓦站', '海因裏希·馬克思'} set()\n",
            "{'新聞聯播'} {'NBC晚間新聞', '新聞聯播天氣預報', '新聞聯播'}\n",
            "{'經典物理學', '物理學', '錢偉長', '中國科學院'} {'李家明', '錢偉長', '路德維希·普朗特', '現代物理學'}\n",
            "{'蕈類', '草原', '味覺', '香杏麗蘑', '中國內地', '杏_(演員)', '蒙古高原草原內蒙古草原東北草原', '地方', '內地'} {'香杏麗蘑'}\n",
            "{'日本', '第二次世界大戰', '京城帝國大學', '帝國大學', '大學', '朝鮮半島'} {'帝國大學', '京城帝國大學', '金日成綜合大學'}\n",
            "{'英屬婆羅洲', '汶萊', '邦', '各國兵役制度', '國家', '東南亞'} {'汶萊'}\n",
            "{'城市規劃'} set()\n",
            "{'季蒂昂的芝諾', '西方哲學', '芝諾', '基提翁', '埃利亞的芝諾', '哈芝芝·諾', '哲學', '斯多葛主義'} {'季蒂昂的芝諾', '克里安西斯', '芝諾', '基提翁', '埃利亞的芝諾'}\n",
            "{'Dandelion', '蒲公英'} {'短啄蒲公英', '淺沼晉太郎', '小五臺蒲公英', '蒲公英', 'Dandelion'}\n",
            "{'德國', '臺灣機車', '跑車', '汽車', '超級跑車', '豪華汽車', '奧迪', '總部'} {'奧迪', '豪華汽車', '汽車產業', '意大利設計-喬治亞羅公司'}\n",
            "{'中華民國', '報紙', '過去', '自由'} {'澳門報紙列表', '香港言論自由'}\n",
            "{'木星', '土衛一', '土星的衛星'} set()\n",
            "{'晉懷帝', '五胡十六國', '懷帝', '劉聰', '帝', '建安', '永嘉之亂', '永嘉_(西晉)'} set()\n",
            "{'車站', '伊斯法罕', '城市軌道交通', '伊斯法罕地鐵'} {'伊斯法罕省', '馬鞍山城市軌道交通列表', '伊斯法罕地鐵', '伊斯法罕佐帕罕籃球俱樂部', '伊斯法罕佐布阿漢足球俱樂部'}\n",
            "{'人權', '行爲', '身體', '國際LGBTI聯合會', '性別特徵'} set()\n",
            "{'剛果民主共和國', '首都'} {'剛果民主共和國華人', '剛果民主共和國地理', '剛果民主共和國國家足球隊', '2019年剛果民主共和國參議院選舉'}\n",
            "{'機構', '教會', '聖誕節', '行憲', '行憲紀念日'} {'行憲紀念日'}\n",
            "{'海濱站', '地鐵', '車站', '瓦西里·貝科夫號巡邏艦', '瓦西里島', '聖彼得堡', '聖彼得堡地鐵', '海濱站_(聖彼得堡地鐵)'} {'涅瓦-瓦西里島線', '基洛夫-維堡線', '瓦西里島站'}\n",
            "{'單片機', '集成電路', '微型計算機'} {'英特爾晶片組列表', '單片機'}\n",
            "{'共和制', '地區', '剛果民主共和國', '非洲', '面積', '總統制', '陸地', '北非', '馬格里布'} set()\n",
            "{'中華民國', '南亞', '蔡英文', '元首_(納粹德國)'} {'2020年中華民國總統選舉'}\n",
            "{'首都', '新西蘭', '美國', '博物館', '惠靈頓'} {'紐西蘭國立博物館'}\n",
            "{'臺北', '國立臺北教育大學', '經營者'} {'李祖德'}\n",
            "{'綱', '百靈科', '屬', '兩棲動物', '雀百靈屬', '百靈屬', '雀形目', '目'} {'雀百靈屬', '歌百靈屬', '林百靈'}\n",
            "{'名_(人名)', '張惠妹', '滾石_(雜誌)', '2021', '卑南族', '漢名'} {'張惠妹音樂作品列表', '張惠妹現場表演列表'}\n",
            "{'繁殖', '性', '有性生殖', '女性', '後代'} set()\n",
            "{'地形', '撞擊坑', '彗星', '小行星', '面_(幾何)', '行星', '天衛四'} {'哈姆雷特撞擊坑', '天衛四'}\n",
            "{'稱謂', '羅慕路斯·奧古斯都', '奧古斯都·勞裏克殖民地', '奧古斯都_(稱號)', '奧古斯都·艾迪生·古爾德', '奧古斯都', '奧古斯都·腓特烈_(薩塞克斯公爵)'} {'奧古斯都神的功業', '家長', '奧古斯都神廟'}\n",
            "{'研究', '學術', '政府', '倫敦大學學院', '大學', '倫敦大學'} set()\n",
            "{'平衡', '太陽', '質量', '行星', '土衛一', '物質', '太陽系', '壓強'} {'平衡', '土衛一'}\n",
            "{'經濟', '經濟發展', '商業', '波士頓', '金融'} {'波士頓', '金融服務', '臺灣金融機構列表'}\n",
            "{'食', '生物分類學', '日本鶺鴒', '日本', '鳥', '分類學', '昆蟲', '雀形目', '目_(生物)'} {'灰鶺鴒', '印度鶺鴒', '白鶺鴒', '西方黃鶺鴒', '山鶺鴒'}\n",
            "{'徐太志'} {'徐太志', '徐太志和孩子們'}\n",
            "{'數', '問題', '導數', '微分方程', '地方'} {'伯努利微分方程', '全微分方程'}\n",
            "{'藤子·F·不二雄', '稱謂', '飛行', 'F', '雄性'} {'藤子·F·不二雄', '藤子·F·不二雄創作', '藤子不二雄', '大雄與風之使者', '藤子不二雄Ⓐ'}\n",
            "{'隼', '隼科', '猛禽'} {'臺灣猛禽研究會', '隼形目', '猛禽'}\n",
            "{'瑤池', '洞天', '名', '西王母'} {'瑤池'}\n",
            "{'人類'} set()\n",
            "{'淡水', '今天', '鄱陽湖', '廣東省', '中國'} {'鄱陽湖', '洞庭湖'}\n",
            "{'民主革命', '1917年', '支配', '沙皇', '俄羅斯', '亞歷山大·克倫斯基', '1917', '俄羅斯人'} {'亞歷山大·克倫斯基'}\n",
            "{'民族', '地區', '歐洲民族', '民族國家', '歐洲', '語言'} {'歐洲民族'}\n",
            "{'明朝', '八大山人', '清朝'} {'八大山人'}\n",
            "{'村莊', '張谷英', '張谷英村'} {'張谷英'}\n",
            "{'大波士頓', '臺南都會區', '都市圈', '波士頓', '臺南市'} {'大波士頓', '波士頓'}\n",
            "{'皇帝', '御座', '北宋', '宋仁宗'} {'宋英宗', '宋仁宗'}\n",
            "{'伊俄卡斯忒', '妻子', '小說', '木衛二十四', '木星的衛星', '母親', '希臘', '俄狄浦斯'} {'伊俄卡斯忒', '伊底帕斯王', '木衛二十四', '小行星899', '俄狄浦斯'}\n",
            "{'蘇聯', '博古'} {'博古埃'}\n",
            "{'新約', '猶太教', '聖經', '基督教'} {'新約聖經', '聖經', '猶太教與基督教', '聖經研究'}\n",
            "{'哥本哈根標準', '經濟', '歐洲聯盟', '哥本哈根', '歐洲'} {'歐洲聯盟擴大', '哥本哈根標準', '歐洲聯盟', '歐洲聯盟成員國政治制度列表', '歐洲聯盟成員國'}\n",
            "{'開元路_(臺南市北區)', '全姓', '臺南市', '全長'} {'開元路街道'}\n",
            "{'香港聖公會', '聖保羅書院', '性別'} {'史超域'}\n",
            "{'北冰洋', '深度'} set()\n",
            "{'查爾斯·狄更斯', '愛丁堡', '查理·卓別林', '童年'} {'狄更斯博物館', '老查理·卓別林'}\n",
            "{'傳說_(2010年電視劇)', '苗', '傳說', '長江', '堯', '中國', '黃帝', '三苗'} {'三苗'}\n",
            "{'氧化鈣', '塑料', '碳', '乙炔', '氧化', '水', '鈣'} {'乙炔銀', '苯乙炔', '乙炔', '乙炔二醇'}\n",
            "{'佛教', '上座部佛教', '幻想', '解脫道', '上座_(佛教)', '解脫', '上座部'} set()\n",
            "{'民主', '佛朗哥·裏卡爾迪', '若昂·費雷拉·佛朗哥·平託·卡斯特洛布蘭科', '西班牙', '傑斯·佛朗哥', '西班牙第二共和國', '弗朗西斯科·佛朗哥', '伊塔馬爾·佛朗哥', '韋羅妮卡·佛朗哥'} {'西班牙共和國', '西班牙共和國流亡政府', '西班牙第二共和國'}\n",
            "{'教育', '文森特·梵高'} set()\n",
            "{'紫質症', '三氧化二砷', '症狀', '唾液', '喬治三世', '卟啉'} {'喬治三世'}\n",
            "{'馬克思主義', '格魯喬·馬克思', '馬克思主義政治經濟學', '卡爾·馬克思', '資本論', '政治經濟學', '馬克思·多爾穆瓦站', '海因裏希·馬克思'} {'河上肇', '馬克思主義政治經濟學', '資本論', '女人資本論'}\n",
            "{'藤島康介', '日本', '職業', '女性', '卡通'} {'藤島康介'}\n",
            "{'太陽', '小行星', '行星', '軌道_(力學)', '軌道'} set()\n",
            "{'湯姆·班克斯', '奧斯卡最佳男配角獎', '八點檔', '湯姆·克魯斯', '湯姆·漢克斯', '奧斯卡', '奧斯卡·埃爾南德斯', '配角'} {'畢·彼特', '安東尼·奎恩'}\n",
            "{'身分標識方式', '國民黨_(1912年)', '謝長廷', '民意代表', '民國', '選舉', '臺北市'} set()\n",
            "{'糖_(消歧義)', '營養', '糧食', '糖類'} {'營養', '營養學', '糖類'}\n",
            "{'因果關係', '蘇聯', '博古'} {'博古', '博古埃'}\n",
            "{'國會議員', '大韓民國', '國會_(日本)', '韓國國務總理', '工作', '總理', '總統', '國務總理'} {'韓國國務總理列表', '金滉植', '越南共和國總理', '韓國國務總理'}\n",
            "{'行政機關', '立法機關', '政府首腦', '總統制', '總統', '祕魯'} {'總統制'}\n",
            "{'靖康', '皇帝', '北宋', '趙匡胤', '宋欽宗'} {'宋欽宗', '靖康'}\n",
            "{'密西根大學', '美國'} set()\n",
            "{'葉綠體', '植物', '細胞核', '細菌', '真菌', '界', '界_(生物)', '動物', '生物', '細胞'} set()\n",
            "{'春秋', '穀梁傳', '春秋_(書)'} {'春秋三傳', '穀梁傳', '公羊傳'}\n",
            "{'城', '英國', '英國國籍法', '國籍', '臺北市'} {'英國國籍法', '居英權計劃', '1981年英國國籍法令'}\n",
            "{'正壬醇', '液體', '碳', '壬醇'} {'正壬醇', '壬醇'}\n",
            "{'文字', '信史', '人類', '石器時代', '石器', '歷史'} {'新石器時代', '信史', '史前時代'}\n",
            "{'臺南市東區復興國民小學', '東區', '臺灣國中教育', '臺南市_(州轄市)', '東區_(臺南市)', '臺灣', '虎尾寮_(臺南市)'} {'臺南市東區裕文國民小學', '裕忠路', '裕孝路', '臺南市東區復興國民小學', '裕信路'}\n",
            "{'多年生植物', '植物', '新月沃土', '生', '種子'} {'新月沃土'}\n",
            "{'肥胖症'} set()\n",
            "{'方言學', '地區'} {'方言學'}\n",
            "{'伊斯蘭教', '黎巴嫩', '西亞', '信仰', '阿拉伯語', '北非'} {'黎巴嫩', '北非阿拉伯人', '愛情大魔咒'}\n",
            "{'斯卡帕灣', '公海艦隊自沉事件', '事件', '德國', '公海艦隊', '小時'} {'公海艦隊自沉事件', '路德維希·馮·羅伊特'}\n",
            "{'昆蟲', '體育運動', '節'} {'N-乙酰胞壁酸', 'N-乙酰葡糖胺'}\n",
            "{'戰爭與和平', '拿破崙戰爭', '拿破崙_(消歧義)'} {'博羅金諾戰役'}\n",
            "{'強酸', '水', '濃度', '腐蝕性物質', '硫酸', '酸'} set()\n",
            "{'戰列巡洋艦', '世紀', '英國', '胡德', '巡洋艦', '胡德號戰列巡洋艦'} {'天城級巡洋戰艦', '皇家海軍戰列巡洋艦列表', '虎號戰列巡洋艦', '獅級戰列巡洋艦', '胡德號戰列巡洋艦'}\n",
            "{'西安理工大學', '南洋理工大學', '華南理工大學體育學院', '華南理工大學', '澳門理工大學體育館', '澳門理工大學', '仰光理工大學', '香港理工大學', '香港理工大學衝突', '昆特侖理工大學'} {'瀋陽市科研機構列表'}\n",
            "{'盧卡斯·迪奧多斯基'} {'盧卡斯·迪奧多斯基'}\n",
            "{'馬克思主義', '格魯喬·馬克思', '馬克思主義政治經濟學', '卡爾·馬克思', '資本論', '政治經濟學', '馬克思·多爾穆瓦站', '海因裏希·馬克思'} {'河上肇', '馬克思主義政治經濟學', '資本論', '女人資本論'}\n",
            "{'中國共產黨', '中華人民共和國香港特別行政區維護國家安全法', '香港人', '本名', '香港', '國家安全法', '長毛', '梁國雄', '陳獨秀'} {'梁國雄'}\n",
            "{'黑海', '撒丁島', '西南', '大島', '島嶼', '意大利半島', '家畜'} {'撒丁島'}\n",
            "{'阿茲特克', '費爾南多·阿隆索', '阿索斯山', '吉倫特派', '吉爾吉特-巴爾蒂斯坦', '阿爾伯特親王', '丹尼爾·奧爾特加', '凱克豪斯魯·沙帕吉·索拉布吉', '美索不達米亞', '阿拉貢的阿方索'} set()\n",
            "{'密碼學', '數學', '目標'} {'信息論'}\n",
            "{'兄弟_(無線電視劇)', '晉國', '嫡長子', '亂', '君主', '驪姬之亂', '晉文公', '驪姬'} set()\n",
            "{'美國', '邦', '北马里亞納羣島', '大西洋', '屬地'} {'美國非合併屬地'}\n",
            "{'天琴座', '肉眼'} {'天琴座HR'}\n",
            "{'運動鞋', '標準舞', '鞋', '女性'} set()\n",
            "{'亂世佳人', '費雯·麗'} {'AFI百年百大電影臺詞', 'AFI百年系列', '費雯·麗', 'AFI百年百大電影', 'AFI百年百大喜劇電影'}\n",
            "{'區域', '高雄縣'} {'高雄縣'}\n",
            "{'九龍', '教師', '周星馳', '神仙·老師·狗'} {'星輝海外有限公司', '星女郎'}\n",
            "{'效率', '航空', '航空交通管制', '航空管制員', '航空器', '交通管制', '陸地', '意外事故'} {'航空交通管制', '航空交通管制部'}\n",
            "{'中部', '交通部中央氣象局', '中彰投', '苗栗縣', '臺灣', '行政院'} {'苗栗縣'}\n",
            "{'亞當·迪凡', '耶和華', '亞當·列維', '平特爾·亞當', '亞當', '夏娃', '亞當·斯密', '芬妮·亞當'} {'震旦肋骨介', '商羊肋骨介', '範睢肋骨介', '管夷吾肋骨介', '肋骨戳花介'}\n",
            "{'神話', '阿德剌斯忒亞', '衛星', '忒亞', '木星的衛星', '希臘神話', '希臘', '木衛十五'} {'木衛十二', '木衛十五'}\n",
            "{'20世紀', '世紀', '科隆', '伊斯蘭教'} set()\n",
            "{'礦物', '鑽石', '今天', '硬度'} {'莫氏硬度', '刻劃硬度', '硬度試驗', '碳酸鹽礦物', '鑽石'}\n",
            "{'麻薩諸塞州', '美國', '美國總統', '唐納·川普', '體育運動', '總統'} set()\n",
            "{'音樂', '流行音樂', '查理·卓別林', '流行_(音樂類型)', '偶像', '偶像_(日本)'} {'悉尼·厄爾·卓別林', '小查理·卓別林', '悉尼·約翰·卓別林', '漢娜·卓別林', '摩登時代'}\n",
            "{'音樂', '小號', '動物', '古典音樂', '爵士樂'} set()\n",
            "{'慕容復', '幸福結局', '武俠', '金庸', '圖書', '武俠小說', '反派角色', '慕容'} {'左冷禪', '金庸筆下武功列表', '笑傲江湖角色列表', '射鵰英雄傳角色列表', '康敏'}\n",
            "{'聖經', '猶太教與基督教', '新約', '猶太教', '基督教'} {'新約聖經', '聖經漢語譯本', '聖經', '猶太教與基督教', '猶太教'}\n",
            "{'園林設計', '園林'} {'園林設計'}\n",
            "{'加利福尼亞大學柏克萊分校', '加利福尼亞大學', 'SETI@home', '政府', '計算'} {'BOINC'}\n",
            "{'一次文獻', '證據'} {'一次文獻'}\n",
            "{'鄧小平', '理論', '鄧小平理論', '社會主義', '中國', '中國特色社會主義'} {'鄧小平理論', '武漢社會主義青年團'}\n",
            "{'臺北101', '唐朝'} set()\n",
            "{'火山', '臺灣清治時期', '地區', '清朝', '臺灣', '現在', '澎湖鎮', '澎湖羣島', '臺灣海峽'} {'澎湖本島', '衛生福利部澎湖醫院', '澎湖廳長', '張其光', '澎湖鎮'}\n",
            "{'縣_(中華民國)', '受害者', '臺東縣', '案例', '臺東垃圾焚化廠', '派系', '臺東', '地方'} {'岡山垃圾焚化廠', '崁頂垃圾焚化廠', '永康垃圾焚化廠', '臺東垃圾焚化廠', '臺灣垃圾焚化廠列表'}\n",
            "{'選集', '故事', '弗朗茨·卡夫卡', '長篇_(電影術語)'} {'卡夫卡博物館', '一隻雜種', '弗朗茨·卡夫卡'}\n",
            "{'綱', '納尼氏囊鰓鯰', '輻鰭魚綱', '水魚', '生物分類法', '輻鰭魚'} {'水魚'}\n",
            "{'政治局', '韓正'} set()\n",
            "{'松前城', '備後國', '美國軍隊', '廣島', '廣島縣', '福山城_(備後國)'} {'備後國'}\n",
            "{'劉丹', '劉丹_(香港)', '本名', '演員', '民意代表'} set()\n",
            "{'海港', '城市', '民族', '焦點', '格但斯克', '荷蘭', '岸'} {'格但斯克'}\n",
            "{'星等', '安東寧·姆爾科斯', '太陽', '行星', '絕對', '絕對星等'} {'小行星8479', '小行星4090', '小行星7864', '小行星9575', '小行星3716'}\n",
            "{'李賦寧', '陝西省', '祖籍'} {'李賦寧', '李賦都'}\n",
            "{'天皇', '神話', '態度', '日本', '日本神話', '歷史書', '中國', '天武天皇'} {'日本神話'}\n",
            "{'民族', '歐洲民族', '民族國家', '歐洲', '語言', '國家'} {'歐洲民族'}\n",
            "{'中央研究院院士', '中央研究院', '研究生', '院士', '國立臺灣大學', '國立臺灣大學應用力學研究所', '研究所', '工程力學', '力學', '1984年', '1984'} {'林啓萬', '劉佩玲', '國立臺灣大學應用力學研究所', '鮑亦興', '吳光鍾'}\n",
            "{'大理寺', '範式', '小說', '發展', '公案小說', '中國', '狄仁傑', '公案_(消歧義)'} {'狄仁傑'}\n",
            "{'唐明宗', '五代十國', '十國', '後唐', '晉王', '北平王', '北平_(五代十國)', '王', '政權', '北平市'} {'李繼儔'}\n",
            "{'臺灣機車', '跑車', '汽車', '超級跑車', '歐洲', '豪華汽車', '奧迪', '總部'} {'奧迪', '豪華汽車', '汽車產業', '意大利設計-喬治亞羅公司'}\n",
            "{'埃爾邁拉_(紐約州)', '作家', '馬克·吐溫'} {'馬克·吐溫'}\n",
            "{'行政區劃', '大韓民國', '韓國行政區劃', '國'} {'韓國行政區劃', '2010年大韓民國地方選舉', '2014年大韓民國地方選舉'}\n",
            "{'霍亨索倫王朝', '共和制', '德國', '魏瑪', '魏瑪共和國', '德國曆史', '制度', '王室'} {'魏瑪共和國', '魏瑪共和國上議院'}\n",
            "{'葉巒', '鄉試'} {'葉巒'}\n",
            "{'鳩鴿科', '行爲'} {'行爲地理學'}\n",
            "{'人物_(美國雜誌)', '啓示', '新著龍虎門', '蚩尤_(消歧義)', '後人', '龍虎門', '蚩尤'} {'新著龍虎門角色列表', '石黑龍'}\n",
            "{'馬克思主義', '格魯喬·馬克思', '馬克思主義政治經濟學', '卡爾·馬克思', '資本論', '政治經濟學', '馬克思·多爾穆瓦站', '海因裏希·馬克思'} {'河上肇', '馬克思主義政治經濟學', '資本論', '女人資本論'}\n",
            "{'隋文帝', '攝政', '庶出子女', '隋朝', '楊勇_(隋朝)', '老年', '長子', '隋煬帝'} set()\n",
            "{'目', '綠頭鴨', '鴨', '鯡形目', '魚', '獵物', '頭', '大魚_(歌曲)'} set()\n",
            "{'寒武紀', '寒武紀大爆發', '地球', '寒武紀_(消歧義)'} {'寒武紀大爆發'}\n",
            "{'鄭氏鸞', '親子關係'} set()\n",
            "{'單位', '1981年', '1', '圓', '新臺幣', '1949年', '花旗銀行'} {'貨幣基數'}\n",
            "{'愛丁堡大學', '愛丁堡', '排名'} {'愛丁堡大學圖書館'}\n",
            "{'佛教', '佛經', '發展'} {'中國佛教'}\n",
            "{'橫濱市', '大學', '電視劇'} {'橫濱美術短期大學', '橫濱美術大學'}\n",
            "{'蠍子', '蟲', '蛛形綱', '昆蟲', '蜘蛛', '環節動物門'} {'蛛形綱', '無鞭目', '香港純蛛', '鷲蛛總科'}\n",
            "{'苗', '長江', '鄱陽湖', '觀點', '洞庭湖', '上古時代', '部落', '三苗', '河南省'} {'三苗'}\n",
            "{'伍德羅·威爾遜', '公務員', '美國', '校長', '美國總統', '新澤西州', '美國大學', '總統'} {'伍德羅·威爾遜總統圖書館', '伊迪斯·威爾遜', '伍德羅·威爾遜國際學者中心'}\n",
            "{'馬克思主義', '格魯喬·馬克思', '馬克思主義政治經濟學', '卡爾·馬克思', '資本論', '政治經濟學', '馬克思·多爾穆瓦站', '海因裏希·馬克思'} {'河上肇', '馬克思主義政治經濟學', '資本論', '女人資本論'}\n",
            "{'脊索', '脊索動物', '生物分類學', '日本鶺鴒', '日本', '分類學', '鶺鴒屬', '屬'} {'日本鶺鴒', '灰鶺鴒', '印度鶺鴒', '白鶺鴒', '山鶺鴒'}\n",
            "{'對日民間索賠', '甲午戰爭', '類型', '創傷', '武器', '經濟補償'} {'對日民間索賠'}\n",
            "{'柯伊伯帶', '傑拉德·柯伊伯', '矮行星', '行星', '衛星', '銀河系'} set()\n",
            "{'機構', '臺北市政府捷運工程局', '臺北市政府', '政府', '1987年', '臺北市'} {'臺北市政府文化局', '臺北市政府捷運工程局', '桃園市政府捷運工程局', '新北市政府捷運工程局', '臺北市政府民政局'}\n",
            "{'阿米納·J·穆罕默德', '穆罕默德·本·沙特', '伊斯蘭教', '古蘭經', '穆罕默德', '穆罕默德·本·薩勒曼', '穆罕默德·阿里帕夏'} {'薩哈巴', '古蘭經', '伊斯蘭教的先知'}\n",
            "{'溫室', '玻璃', '氣球_(2018年電影)', '熱氣球'} {'溫室', '臺灣國際熱氣球嘉年華'}\n",
            "{'頭髮', '光導纖維', '折射率'} set()\n",
            "{'世紀', '觀點', '時間', '教堂', '宗教', '新興宗教', '觀點_(哲學)'} set()\n",
            "{'藝術', '墊子', '獎勵'} set()\n",
            "{'馬克思主義', '格魯喬·馬克思', '馬克思主義政治經濟學', '卡爾·馬克思', '資本論', '政治經濟學', '馬克思·多爾穆瓦站', '海因裏希·馬克思'} {'伊拉里昂·伊格納切維奇·考夫曼', '政治經濟學批判大綱', '河上肇', '馬克思主義政治經濟學', '資本論'}\n",
            "{'生命', '時間', '暗殺'} set()\n",
            "{'公民', '埃塔'} {'埃塔'}\n",
            "{'科學園區', '竹東_(大字)', '東區_(新竹市)', '新竹_(大字)', '臺灣', '工業技術研究院', '年代', '竹東鎮', '新竹市_(1945年—1950年)'} {'竹東鎮'}\n",
            "{'鳥', '傳說', '龍', '鳳凰', '王'} {'百鳥公園站', '百鳥朝鳳', '鳳凰', '丹鳥'}\n",
            "{'嘉南', '中心', '嘉南平原', '臺南縣', '臺灣', '平原', '臺南市', '山脈'} {'嘉南', '嘉南平原', '臺南縣', '南瀛文學獎', '屏東平原'}\n",
            "{'1月', '平年', '陽曆'} {'3月26日', '1月26日', '7月26日', '5月26日', '4月26日'}\n",
            "{'衛星', '太陽系', '行星', '海衛十'} set()\n",
            "{'馬克思主義', '格魯喬·馬克思', '作品', '馬克思主義政治經濟學', '卡爾·馬克思', '政治經濟學', '馬克思·多爾穆瓦站', '海因裏希·馬克思'} set()\n",
            "{'提貝里烏斯', '提比略·克勞狄烏斯·尼祿', '70', '奧古斯都', '蓋烏斯·屋大維', '御座', '提比略·格拉古'} set()\n",
            "{'公司', '伊藤洋華堂', '日本', '2005年'} {'伊藤洋華堂', '鈴木敏文'}\n",
            "{'殺菌劑', '殺菌', '環氧乙烷', '物質'} {'苯基環氧乙烷', '環氧乙烷', '環硫乙烷', '環氧化合物'}\n",
            "{'日本料理', '2013年', '日本', '世紀', '菜系', '飲食文化', '聯合國', '19世紀'} {'日本料理', '聯合國教科文組織人類非物質文化遺產代表作名錄中國項目', '江蘇省非物質文化遺產', '北京市市級非物質文化遺產', '加拿大世界遺產列表'}\n",
            "{'克里斯·潘恩', '法語', '托馬斯·潘恩', '迦勒·潘恩', '羅伯特·崔特·潘恩', '國民公會', '潘·巴奇利', '潘恩'} {'國民公會站'}\n",
            "{'蒂姆·伯頓', '電影導演', '美國', '伯頓', '美國電影'} {'蒂姆·伯頓'}\n",
            "{'語氣', '張谷英', '張谷英村', '亞洲'} {'張谷英村', '張谷英'}\n",
            "{'平年'} {'1月26日'}\n",
            "{'手工藝', '推銷員', '工藝', '美學'} {'手工藝'}\n",
            "{'愛爾蘭', '領土'} set()\n",
            "{'岩石', '天衛四', '地殼'} {'天衛四'}\n",
            "{'調', '字', '律', '南宋', '念奴嬌_(專輯)', '念奴嬌·赤壁懷古', '詩人'} {'念奴嬌', '離亭宴'}\n",
            "{'自由中國', '茶壺', '聶華苓'} {'龍嘴大茶壺', '聶華苓'}\n",
            "{'問題', '高地', '決策', '爬山算法'} {'爬山算法'}\n",
            "{'慕容復', '燕國', '武俠', '金庸', '編輯', '悲劇', '武俠小說'} {'金庸筆下武功列表', '金庸學', '慕容復'}\n",
            "{'諾貝爾獎', '吉米', '美國', '阿爾弗雷德·諾貝爾', '美國總統', '吉米·卡特', '卡特', '總統'} {'吉米·卡特圖書館暨博物館'}\n",
            "{'商人', '美國', '尼克·貝爾格'} {'尼克·貝爾格'}\n",
            "{'心', '我的愛_(1986年電影)', '泰國', '電視劇', '以你的心詮釋我的愛', '愛'} {'以你的心詮釋我的愛'}\n",
            "{'乾草市場', '工人', '密西西比州', '勞動節', '密西西比·約翰·赫特', '國際勞動節', '工作'} {'乾草市場站'}\n",
            "{'孟加拉國', '庫爾納縣', '魯普薩烏帕齊拉', '烏帕齊拉'} {'達庫佩烏帕齊拉', '迪加里亞烏帕齊拉', '富爾塔拉烏帕齊拉', '魯普薩烏帕齊拉', '庫伊拉烏帕齊拉'}\n",
            "{'組織', '國際LGBTI聯合會', '人權'} {'國際LGBTI聯合會'}\n",
            "{'愛倫·坡', '美國', '作品'} {'愛倫·坡'}\n",
            "{'氧化劑', '乙醇', '化學式', '錳酸鉀', '高錳酸鉀', '水'} {'高錳酸鉀', '錳酸鈉', '高錳酸鈉'}\n",
            "{'佛教', '上座部佛教', '部', '解脫道', '上座_(佛教)', '菩薩道', '解脫', '上座部'} {'上座部佛教', '上座部'}\n",
            "{'後_(消歧義)', '隋朝', '盛世', '清朝'} {'盛世', '永樂盛世'}\n",
            "{'臺北市客家文化主題公園', '2011年', '2008年', '中正區_(臺北市)', '臺北市'} {'臺北市議員列表', '桃園市客家文化館', '臺北市客家文化主題公園', '臺北市中正區螢橋國民小學'}\n",
            "{'馬世莉', '兄弟姊妹', '心肌梗死'} {'馬世莉'}\n",
            "{'尤里·勃列日涅夫', '衛生局_(澳門)', '安德烈·尤里耶維奇·勃列日涅夫', '中央委員會', '列昂尼德·勃列日涅夫'} {'臺南市政府衛生局', '維多利亞·勃列日涅娃', '列昂尼德·勃列日涅夫所獲獎項列表', '安德烈·尤里耶維奇·勃列日涅夫', '臺北市政府衛生局'}\n",
            "{'杜鵑科', '杜鵑'} {'走鵑', '杜鵑科', '杜鵑屬', '鴉鵑屬'}\n",
            "{'劉丹', '劉丹_(香港)', '本名', '演員', '工作', '民意代表'} set()\n",
            "{'俄羅斯', '伏爾加湖', '流域', '聖彼得堡'} {'伏爾加湖'}\n",
            "{'仁濟醫院 (香港)', '香港城市大學', '橋本環奈', '任家萱', '臺北市立聯合醫院松德院區', '波茨坦大學', '中共中央黨校', '丁寧', '郭位', '中華大學'} {'查爾斯·巴赫曼', '虛擬教研中心'}\n",
            "{'制度', '身分標識方式', '奴婢', '日本', '社會', '中國', '古代社會', '世僕'} {'世僕'}\n",
            "{'熱帶', '咬鵑科', '氣候', '細胞'} set()\n",
            "{'1999', '總督府', '學校', '臺北', '日治時期', '臺灣總督府臺北高等學校', '臺灣', '臺灣總督府'} {'臺灣總督府民政部', '臺灣總督府評議會', '臺灣總督府臺北高等學校', '臺北高等學校講堂', '臺灣總督府高等商業學校'}\n",
            "{'研究', '荷馬史詩', '東西_(作家)', '史詩', '學術', '荷馬'} set()\n",
            "{'錫林郭勒盟', '緬甸', '盟_(行政區劃)', '內蒙古自治區', '烏蘭巴托', '鐵路', '縣級市', '縣_(緬甸)'} {'二連浩特市', '錫林浩特市', '烏蘭巴托', '烏蘭巴托站'}\n",
            "{'代數', '問題', '最短路問題', '算法', '短路', '路'} {'Floyd-Warshall算法', '代數', '最短路問題', '代數拓撲', '戴克斯特拉算法'}\n",
            "{'大韓民國', '韓國總統', '憲法法院', '總理', '總統'} {'韓國總統', '朴槿惠彈劾案'}\n",
            "{'影片', '午夜巴黎', '艾倫', '伍迪·艾倫', '奇幻電影', '喜劇', '背景', '浪漫喜劇', '巴黎'} {'午夜巴黎', '第64屆戛納電影節', '魔力月光', '六場危事'}\n",
            "{'臺獨', '一邊一國', '中國', '國'} {'一邊一國', '一邊一國連線'}\n",
            "{'陸羽', '茶經', '茶', '茶文化'} {'中國茶文化', '陸羽', '茶經', '茶學文獻列表'}\n",
            "{'香港科技大學', '香港', '科技大學'} {'學府街道'}\n",
            "{'火山', '海底火山', '日本', '海盆', '海', '日本海'} {'海盆', '阿拉伯海盆', '北極海盆', '海底火山列表', '日本海'}\n",
            "{'臺中市政府陽明大樓', '政府', '臺中市政府', '臺中市', '豐原區'} {'臺中市政府陽明大樓', '臺中市豐原區翁子國民小學', '臺中市政府衛生局', '臺中市豐原區豐原國民小學', '臺中市政府勞工局'}\n",
            "{'臺北醫學大學', '經營者', '北漂'} {'李祖德'}\n",
            "{'阿美族', '亞洲'} {'阿美族'}\n",
            "{'學院', '廣東省', '華南師範大學'} {'華南師範大學', '華南師範大學附屬中學'}\n",
            "{'經濟學家', '楊小凱', '古典經濟學', '分析', '教授', '邊際', '哈佛大學', '經濟學'} {'羅伯特·巴羅', '楊小凱'}\n",
            "{'大同', '近代', '雕塑家', '1901年', '康有爲', '大同書', '中國', '思想'} {'大同書'}\n",
            "{'首都', '世界', '新西蘭', '博物館', '惠靈頓'} set()\n",
            "{'幫助', '人類', '昆蟲', '農作物', '蝗蟲'} {'草蜢'}\n",
            "{'總督府', '學校', '臺北', '臺灣總督府臺北高等學校', '臺灣', '臺灣總督府'} {'臺灣總督府民政部', '臺灣總督府評議會', '臺灣總督府臺北高等學校', '臺北高等學校講堂', '臺灣總督府高等商業學校'}\n",
            "{'馬克思主義', '卡爾·馬克思', '馬克思主義政治經濟學', '圖書', '資本論', '政治經濟學', '概念'} {'資本論', '女人資本論'}\n",
            "{'目標', '政黨'} {'非營利組織', '臺灣NPO資源列表'}\n",
            "{'民族', '地區', '歐洲民族', '民族國家', '歐洲', '語言'} {'歐洲民族'}\n",
            "{'臺北醫學大學', '經營者', '北漂'} {'李祖德'}\n",
            "{'若竹町_(臺南市)', '日本', '第二次世界大戰', '行政區劃', '世界大戰', '若竹町'} {'汐見町', '青葉町', '伏見町'}\n",
            "{'秦國', '燕國', '戰國時期', '趙國', '王翦'} set()\n",
            "{'美國', '劇場藝術', '電視劇', '電影', '美國電影', '先驅', '化石森林'} {'罪惡鎖鏈', '賊中之王', '偉大的奧馬利', '直搗黃龍', '化石森林'}\n",
            "{'金星', '日', '金星凌日', '天文單位'} {'金星凌日', '天文臺', '1874年金星凌日', '黑滴現象', '2012年金星凌日'}\n",
            "{'安七炫', '男子音樂組合', '臺灣', '吳建豪'} set()\n",
            "{'波濤', '東海', '釣魚臺', '南部', '釣魚臺列嶼', '陸地', '島嶼', '土壤'} {'釣魚臺細辛', '釣魚臺列嶼'}\n",
            "{'殺菌劑', '殺菌', '環氧乙烷', '物質'} {'苯基環氧乙烷', '環氧乙烷', '環硫乙烷', '環氧化合物'}\n",
            "{'數據科學家', '疾病', '機體', '科學家_(歌曲)'} {'病理學'}\n",
            "{'波斯語', '維吾爾語', '洋蔥'} {'洋蔥'}\n",
            "{'指南車', '王天木', '史記', '史記·刺客列傳'} {'王天木'}\n",
            "{'伊利亞特', '奧德賽', '傳說_(Raidas專輯)', '傳說', '金鐘獎', '史詩', '詩人', '荷馬'} {'奧德賽', '荷馬', '伊利亞特', '荷馬史詩'}\n",
            "{'小米', '史前時代', '時代'} set()\n",
            "{'遊戲'} {'國際象棋'}\n",
            "{'羅慕路斯·奧古斯都', '奧古斯都·勞裏克殖民地', '羅馬皇帝', '羅馬', '奧古斯都·普金', '奧古斯都', '皇帝'} {'奧古斯都神的功業', '奧古斯都神廟'}\n",
            "{'Google', '網頁郵件', '服務', '郵件_(Windows)'} {'網頁郵件', 'Google搜索'}\n",
            "{'心', '我的愛_(1986年電影)', '泰國', '克里特·安努艾德奇康', '電視劇', '以你的心詮釋我的愛', '愛'} {'克里特·安努艾德奇康', '以你的心詮釋我的愛'}\n",
            "{'水稻', '父親', '袁隆平', '中國', '稻', '雜交水稻'} {'雜交水稻', '袁隆平', '湖南雜交水稻研究中心', '雜交水稻國家重點實驗室'}\n",
            "{'水滸傳', '黃忠', '三國', '武將', '蜀漢', '水滸傳·天命之誓'} set()\n",
            "{'鹿鼎記', '金庸', '作品'} {'金庸學', '金庸作品', '金庸', '鹿鼎記', '金庸筆下門派列表'}\n",
            "{'恆星', '拜耳', '字母', '希臘字母', '恆星命名', '約翰·拜耳', '希臘', '拜耳命名法'} {'拜耳命名法', '古德命名法'}\n",
            "{'產品', '程序', '任天堂'} set()\n",
            "{'伍德羅·威爾遜', '公務員', '校長', '普林斯頓大學', '美國總統', '新澤西州', '普林斯頓', '總統'} {'伍德羅·威爾遜總統圖書館', '伍德羅·威爾遜國際學者中心', '伍德羅·威爾遜高中', '伊迪斯·威爾遜', '約翰·希本'}\n",
            "{'弗朗茨·卡夫卡'} {'卡夫卡博物館', '張皓宸', '一隻雜種', '弗朗茨·卡夫卡'}\n",
            "{'本質', '形上學'} {'現實', '形上學', '形上學大綱'}\n",
            "{'狼', '捕食', '白俄羅斯', '野牛', '歐洲野牛', '天敵_(電視劇)', '歐洲', '動物'} {'野牛屬', '野牛', '古偶蹄獸'}\n",
            "{'效率', '航空', '航空公司', '航空器', '飛行員', '工作', '意外事故', '信息'} {'航空交通管制'}\n",
            "{'美國', '老人院', '康奈爾大學'} set()\n",
            "{'英格蘭足球超級聯賽', '英格蘭足球聯賽系統', '聯賽系統', '英格蘭'} {'英格蘭足球全國聯賽', '英格蘭足球全國聯賽南', '英格蘭甲組聯賽', '英格蘭足球聯賽系統', '英格蘭足球丁級聯賽'}\n",
            "{'葉黃素', '原雞屬', '雞', '原雞'} {'雞'}\n",
            "{'荷西·馬利', '臺北市立建國高級中學', '臺灣荷西統治時期', '荷西·摩里納', '荷西·安歷基·山齊士', '荷西·瓦爾迪茲', '奧莉花·荷西', '荷西·坎諾'} {'臺北州立臺北第一中學校'}\n",
            "{'城市', '國際足球聯合會', '2006年', '德國'} {'國際足協U-17世界盃', '國際足協世界盃', '國際足協U-20女子世界盃'}\n",
            "{'固體', '面_(幾何)', '木衛二', '物質', '銀河系'} {'木衛二', '木衛二表面特徵列表'}\n",
            "{'邛州直隸州', '字', '同治', '本名', '四川省_(中華民國)', '曾光爔', '邛州', '祖籍', '民國'} {'曾光爔'}\n",
            "{'世界', '地區議會_(德國)', '政府', '懷俄明州', '女性', '年代', '法案', '選舉權'} {'懷俄明州'}\n",
            "{'即墨區', '田橫', '民俗'} {'田橫五百義士冢', '即墨區', '即墨城牆', '即墨縣'}\n",
            "{'學術領域大綱', '中心', '問題', '哲學', '客觀性', '概念'} {'戰爭哲學', '哲學', '資訊哲學'}\n",
            "{'基隆市', '雍正'} {'基隆山', '基隆客運', '雞籠生', '臺灣基隆地方法院'}\n",
            "{'查理曼', '查理·曼紐爾', '主教座堂'} set()\n",
            "{'城市', '德意志', 'CUP', '德國', '國際足球聯合會', '2006年'} {'國際足協U-17世界盃', '國際足協世界盃', '國際足協U-20女子世界盃'}\n",
            "{'北', '六朝', '東晉', '朝代', '司馬懿', '後代', '戰爭'} {'六朝'}\n",
            "{'榴彈炮', '炮兵'} {'280毫米榴彈炮', '榴彈炮', 'M101榴彈炮', 'M-68榴彈炮'}\n",
            "{'豫劇'} set()\n",
            "{'音韻學', '漢語音韻學', '語言學', '漢語'} {'音韻學', '漢語史', '漢語音韻學', '等韻學', '音系學'}\n",
            "{'天龍八部_(2013年電視劇)', '天龍', '慕容復', '部', '鮮卑', '龍', '天龍八部', '反派角色'} {'康敏', '天龍八部', '慕容復', '北喬峯，南慕容'}\n",
            "{'新異教主義', '黛安娜·迪莫娃', '黛安娜·馬西森', '黛安娜·羅', '黛安娜·羅斯', '黛安·韋斯特', '異教', '黛安娜'} {'新異教主義'}\n",
            "{'經歷', '蘇聯', '博古'} {'博古恰爾區', '博古埃'}\n",
            "{'船', '波濤', '南小島', '臺灣', '漁民'} {'北小島', '南小島'}\n",
            "{'大韓民國', '金泳三', '內閣', '決策', '韓國國務總理', '工作', '總理', '國務總理'} {'韓國國務總理列表', '韓國國務總理'}\n",
            "{'南美洲', '克氏無齒翎電鰻', '電鰻'} {'克氏無齒翎電鰻', '委內瑞拉短身電鰻'}\n",
            "{'質子', '核'} set()\n",
            "{'宋朝', '府', '府_(行政區劃)', '字', '州', '宋朝君主列表', '皇帝', '潛藩升府', '字_(計算機)'} {'潛藩升府'}\n",
            "{'電子藝術大獎', '金尼·伍德利·蘭伯特', '獎勵'} {'電子藝術大獎'}\n",
            "{'市政府站_(臺北市)', '站', '臺中市'} set()\n",
            "{'兒子', '阿卜杜勒侯賽因·米爾扎·法爾曼法爾馬', '政治家', '波斯'} {'阿卜杜勒-侯賽因·米爾扎·法爾曼法爾馬'}\n",
            "{'斗六_(大字)', '兒玉利國', '斗六廳', '政府首腦'} {'斗六郡', '斗六街'}\n",
            "{'商店', '文化中心', '首都', '大洋洲', '新西蘭', '惠靈頓', '大洋洲_(太平洋諸島嶼)', '人種'} {'惠靈頓'}\n",
            "{'百貨公司', '南海', '沖積平原', '南部', '南海潮', '蜑家', '平原', '中國'} set()\n",
            "{'主義', '世界', '度_(角)', '信念', '歐洲中心主義', '本初子午線', '紀年', '公元', '歐洲'} {'歐洲中心主義'}\n",
            "{'高峯', '金', '馬丁·路德·金', '金章宗', '金朝', '宗'} set()\n",
            "{'行政法'} {'美國聯邦行政部門', '行政法'}\n",
            "{'弗拉基米爾·普京', '代理_(政治)', '俄羅斯總理', '俄羅斯', '總理', '羅曼·伊戈列維奇·普京', '總統'} {'柳德米拉·普京娜', '俄羅斯代理總統'}\n",
            "{'花蓮縣', '恆星'} {'和歌山縣旗', '山形縣旗', '花蓮縣議員列表', '鳥取縣旗'}\n",
            "{'高峯', '三國', '東漢末年', '國力', '東漢', '太平盛世', '盛世', '漢朝'} {'太平盛世'}\n",
            "{'Dreamcast', '世嘉'} {'Dreamcast遊戲列表', '街頭霸王III'}\n",
            "{'比利時', '魔戒', '埃爾熱', '漫畫家', '彼得·傑克遜', '漫畫', '丁丁_(丁丁歷險記)', '丁丁歷險記'} {'奔向月球', '714航班', '丁丁與流浪漢', '紅海鯊魚', '丁丁歷險記'}\n",
            "{'宋教仁', '政治家', '國民黨_(消歧義)', '臺灣國民黨', '中華民國'} {'宋教仁', '潯陽街道'}\n",
            "{'納米比亞', '太平洋', '平面'} {'西南非洲', '納米比亞駐外機構列表', '納米比亞總統', '中國駐納米比亞大使列表', '納米比亞，勇氣之地'}\n",
            "{'盟_(行政區劃)', '傳統', '內蒙古自治區', '東北', '中國東北地區', '盟', '人口', '中國', '東蒙'} set()\n",
            "{'繼承', '所有權', '繼承人'} set()\n",
            "{'楊梅區', '桃園市', '楊梅_(大字)', '南部', '中華民國', '臺灣', '四縣話', '臺灣客家語'} {'峨眉鄉'}\n",
            "{'悖論', '訴訟', '法律邏輯學', '文本'} {'半費之訟'}\n",
            "{'發現者', '木星的衛星', '木星環', '木星', '名稱', '環', '木衛十五'} {'木衛五十二', '木衛十五'}\n",
            "{'古希臘', '祭祀', '酒神', '華特迪士尼公司', '酒', '悲劇', '希臘', '古希臘悲劇'} {'狄俄倪索斯', '邁那得斯', '悲劇的誕生', '古希臘悲劇', '古希臘喜劇'}\n",
            "{'科學家', '北京理工大學'} {'華北理工大學'}\n",
            "{'章回小說', '張飛', '劉備', '小說', '金蘭', '關羽', '三國演義'} {'關羽'}\n",
            "{'兒童', '普羅米修斯'} {'普羅米修斯', '被縛的普羅米修斯', '解放了的普羅米修斯'}\n",
            "{'網路用戶', '言論自由'} set()\n",
            "{'燧人氏', '氏_(消歧義)', '父系制度', '火', '河套', '氏族'} set()\n",
            "{'相_(物質)', '混合物', '物質', '溶液'} set()\n",
            "{'聚合酶鏈式反應', '聚合', '蛋白質組', '葡萄糖', '基因', '蛋白質', '時間', '即時聚合酶鏈式反應'} {'人類蛋白質組計劃', '蛋白質組', '人類蛋白質組組織', '蛋白質組學', 'GeneCards'}\n",
            "{'企業', '世界', '奇異', '荷蘭', '通用電氣', '波士頓', '國家', '總部'} {'通用電氣'}\n",
            "{'護照'} {'葡萄牙護照', '乘坐民航飛機臨時身份證明', '韓國護照', '護照'}\n",
            "{'漢朝', '太守', '玄菟郡', '扶餘國'} {'耿臨', '扶餘國'}\n",
            "{'臺北101', '臺北'} {'前90年代', '90年代'}\n",
            "{'神話', '塞壬', '埃裏希·瑪利亞·雷馬克', '宙斯', '希臘神話', '希臘', '木衛六', '希瑪利亞'} {'木衛六', '希瑪利亞'}\n",
            "{'臺灣', '組織創始人', '學校', '徐有庠'} {'徐有庠'}\n",
            "{'馬詩慧', '藝人', '香港', '雙性戀'} {'雙性戀自豪日', '雙性戀恐懼症', '雙性戀擦除', '同性戀與雙性戀者列表：Bi–Bz'}\n",
            "{'發展', '藏', '佛教', '佛經'} {'印度佛教'}\n",
            "{'博士', '普拉桑塔·帕坦尼克', '哈佛大學', '教授'} {'普拉桑塔·帕坦尼克'}\n",
            "{'超級名模', '神話', '木衛三十九', '希臘神話', '名稱', '希臘'} {'霍爾三十九族', '希臘神話生物列表', '加拿大超級名模生死鬥第一季'}\n",
            "{'微處理器', '單片機', '集成電路'} {'SuperH', '嶋正利', 'Rock微處理器', '單片機', '4位元'}\n",
            "{'抽象', '角', '空間', '空間_(數學)', '內積空間', '畢達哥拉斯'} {'畢達哥拉斯主義', '畢達哥拉斯樹', '內積空間', '新畢達哥拉斯主義', '希爾伯特空間'}\n",
            "{'紅軍', '列夫·托洛茨基', '蘇聯', '蘇聯紅軍'} {'托洛茨基主義'}\n",
            "{'學術領域大綱', '中心', '問題', '法院', '客觀性', '概念'} {'哲學'}\n",
            "{'物理學', '吳健雄'} {'吳健雄學院'}\n",
            "{'兄弟_(無線電視劇)', '晉國', '亂', '君主', '卿', '儲君', '驪姬之亂', '晉文公', '驪姬'} set()\n",
            "{'天琴座', '古希臘', '星', '形狀', '廂座', '星座', '豎琴', '希臘'} {'天琴座'}\n",
            "{'羅生門', '劇情片', '羅生門_(2015年歌曲)', '多用戶'} set()\n",
            "{'臺灣醫界聯盟基金會', '2016', '陳水扁', '政府', '記者會', '總統'} {'臺灣醫界聯盟基金會'}\n",
            "{'恆星', '星座', '恆星命名'} {'變星命名法'}\n",
            "{'論文', '媒介', '電', '鍼灸', '研究', '西方世界', '電流', '國家'} {'媒介環境學'}\n",
            "{'什葉派', '伊斯蘭教', '組織', '古賽爾戰役', '古賽爾_(敘利亞)'} {'阿富汗什葉派伊斯蘭教'}\n",
            "{'北', '亞洲', '遼朝', '遊牧', '遊牧民族', '政權', '君主制'} set()\n",
            "{'古巴', '經濟', '勃列日涅夫_(消歧義)', '美國', '蘇聯', '政權', '列昂尼德·勃列日涅夫'} {'列昂尼德·勃列日涅夫所獲獎項列表', '列昂尼德·勃列日涅夫', '列昂尼德·勃列日涅夫遇刺案', '安德烈·尤里耶維奇·勃列日涅夫'}\n",
            "{'臺北市文山區永建國民小學', '考試院', '臺中市'} {'臺北市文山區永建國民小學'}\n",
            "{'國立中央大學天文研究所', '臺灣天文觀測', '天文臺', '天文觀測', '領域', '臺灣', '國立中央大學_(南京)', '大學', '地震'} {'國立中央大學天文研究所', '與鹿林天文臺有關的小行星列表', '臺灣天文觀測', '天文臺', '鹿林天文臺'}\n",
            "{'南北朝時代_(日本)', '宋武帝', '東晉', '南北朝_(消歧義)'} {'宋武帝'}\n",
            "{'品牌', '世界', '大衆集團', '司法機關', '大衆汽車'} set()\n",
            "{'大衛·貝克漢姆', '資產'} set()\n",
            "{'醫院', '新北市', '院長', '聯合醫院', '新北市政府', '臺北', '臺北市立聯合醫院', '配偶'} {'臺南市政府衛生局', '聯合醫院', '臺北市立聯合醫院', '臺北市立萬芳醫院', '臺北市政府衛生局'}\n",
            "{'城市', '帆', '南島', '南島_(新西蘭)', '奧克蘭'} {'華裔新西蘭人', '紐西蘭人口'}\n",
            "{'音樂', '管樂器', '銅管樂器', '爵士樂', '古典音樂', '小號'} set()\n",
            "{'元素週期表', '金屬', '化學元素'} {'D區元素', '11族元素', '5族元素', '以科學家命名的化學元素列表', '主族元素'}\n",
            "{'物理學', '研究', '荷馬史詩', '東西_(作家)', '史詩', '荷馬'} set()\n",
            "{'銀川市', '銀川平原', '中部'} {'銀川專區', '銀川市', '石嘴山市', '銀川平原'}\n",
            "{'博士後', '英國', '美國', '沈宗瀛'} {'博士後', '法學博士'}\n",
            "{'嘉南', '中心', '嘉南平原', '行政區_(消歧義)', '臺南縣', '臺灣', '平原', '臺南_(消歧義)'} {'嘉南', '嘉南平原', '臺南縣', '高雄平原', '屏東平原'}\n",
            "{'恐龍', '迷_(無線電視劇)', '龍', '敏迷龍屬', '尾', '屬'} set()\n",
            "{'肥胖症'} set()\n",
            "{'水溶液', '溶液', '氰化氫', '頻率', '人類', '氰化鈉', '鹼', '氰化鋰'} {'氰化鋁', '氰化氫', '氰化鈉', '氰化鐿', '氰化鋰'}\n",
            "{'柏林自由大學', '柏林', '自由大學'} {'柏林工業大學', '柏林自由大學', '柏林洪堡大學'}\n",
            "{'鷺屬', '溼地', '蒼鷺', '模式種'} {'鷺屬', '蒼鷺', '麻鳽屬'}\n",
            "{'米開朗基羅', '義大利文藝復興', '城邦', '藝術家', '米開朗基羅·法爾瑪提諾', '意大利', '文藝復興', '米開朗基羅·樂孔特'} {'佛羅倫薩共和國', '義大利文藝復興'}\n",
            "{'皇帝', '宮女', '紫微垣'} {'紫微垣'}\n",
            "{'土衛十一', '木星', '土衛十', '土星的衛星'} {'土衛十一', '土衛三', '土衛一', '土衛四十九'}\n",
            "{'藝術品', '神話', '證明', '希臘神話', '考古學', '希臘'} {'希臘神話', '希臘神話生物列表'}\n",
            "{'卡拉卡爾帕克斯坦共和國', '卡拉卡爾帕克人', '斯坦', '陳水扁', '烏茲別克人'} {'卡拉卡爾帕克斯坦共和國', '卡拉卡爾帕克蘇維埃社會主義自治共和國', '木伊那克', '穆薩·葉爾尼亞佐夫', '在日烏茲別克人'}\n",
            "{'國立中央大學天文研究所', '臺灣天文觀測', '天文臺', '天文觀測', '領域', '臺灣', '國立中央大學_(南京)', '大學', '國立中央大學'} {'國立中央大學天文研究所', '與鹿林天文臺有關的小行星列表', '臺灣天文觀測', '天文臺', '鹿林天文臺'}\n",
            "{'披頭四樂隊', '單曲', '頭', '歐洲'} {'橡皮靈魂'}\n",
            "{'中國共產黨', '綽號', '中華人民共和國香港特別行政區維護國家安全法', '香港人', '香港', '國家安全法', '長毛', '梁國雄', '陳獨秀'} {'梁國雄'}\n",
            "{'貨幣', '出版', '中央銀行'} set()\n",
            "{'金獅獎', '金獅獎_(消歧義)', '威尼斯', '電影節', '意大利'} {'第52屆威尼斯影展'}\n",
            "{'自由中國', '自由中國_(雜誌)', '聶華苓'} {'聶華苓'}\n",
            "{'慈禧太后', '戊戌', '光緒', '戊戌變法', '權力', '光緒帝', '謠言', '戊', '康有爲'} set()\n",
            "{'水力帝國', '帝國', '水資源', '人口', '人口自然增長率'} {'水力帝國'}\n",
            "{'秦國', '燕國', '秦', '滅亡', '趙國', '王翦'} {'羌瘣', '楊端和'}\n",
            "{'Fairytale', '童話', '西方', 'FAIRYTALE'} {'童話'}\n",
            "{'臺灣', '淡水河', '河流', '淡水_(消歧義)'} set()\n",
            "{'路', '赤足'} {'赤足'}\n",
            "{'許世友', '紅四軍'} {'許家窪'}\n",
            "{'面積', '愛爾蘭'} {'愛爾蘭總統', '愛爾蘭自由邦', '愛爾蘭國家的名稱'}\n",
            "{'佛教', '佛', '世界', '薄伽梵', '詞_(文學)', '詞', '釋迦牟尼'} set()\n",
            "{'角色', '天龍', '慕容復', '部', '龍', '天龍八部', '名稱', '天龍八部_(1982年電視劇)'} {'慕容博', '天龍八部', '北喬峯，南慕容'}\n",
            "{'仇恨', '貝塔·雷·比爾', '貝雷特'} {'貝雷特'}\n",
            "{'非營利組織', '目標'} {'非營利組織', '.org', '臺灣NPO資源列表'}\n",
            "{'朝花夕拾', '方中信', '1985年', '電影', '1987年', '夏文汐'} {'朝花夕拾'}\n",
            "{'運河', '嘉興市', '京杭大運河', '杭嘉湖平原'} {'嘉興市', '杭嘉湖平原', '嘉善縣', '浙北'}\n",
            "{'英國皇家郵輪', '泰坦尼克號_(消歧義)', '英國', '郵輪', '紐約', '泰坦尼克號'} {'英國皇家郵輪'}\n",
            "{'新北市', '醫院', '院長', '妻子', '聯合醫院', '新北市政府', '臺北', '臺北市立聯合醫院'} {'聯合醫院', '陳伸賢', '臺北市立萬芳醫院', '臺北市立關渡醫院', '臺北市政府公務人員訓練處'}\n",
            "{'弗朗西斯科', '西班牙', '內戰', '獨裁', '弗朗西斯科·佛朗哥', '吉祥物', '政權', '西班牙內戰'} {'西班牙共和國流亡政府', '弗朗西斯科·佛朗哥'}\n",
            "{'2020', '中部', '交通部中央氣象局', '中彰投', '苗栗縣', '臺灣', '行政院'} {'苗栗縣'}\n",
            "{'安七炫', '導演', 'F_(音名)', '吳建豪', 'F4'} {'吳建豪'}\n",
            "{'饕餮'} set()\n",
            "{'許世友', '紅軍'} {'許家窪'}\n",
            "{'北京市', '趙守福', '于化虎', '武將', '中國人民解放軍', '全國戰鬥英雄代表會議', '爆炸', '虎'} {'趙守福', '于化虎', '全國戰鬥英雄代表會議'}\n",
            "{'馬克思主義', '格魯喬·馬克思', '馬克思主義政治經濟學', '卡爾·馬克思', '資本論', '政治經濟學', '馬克思·多爾穆瓦站', '海因裏希·馬克思'} {'河上肇', '馬克思主義政治經濟學', '資本論', '女人資本論'}\n",
            "{'仁皇后', '教師', '雍正帝', '孝恭仁皇后', '神仙·老師·狗'} {'仁皇后'}\n",
            "{'許世友', '紅軍'} {'許家窪', '許世友反革命集團案'}\n",
            "{'忠', '墨西哥', '墨西哥國徽', '仙人掌', '力量', '國徽', '岩石', '湖泊'} {'墨西哥國徽'}\n",
            "{'碳化鎂', '氧化鈣', '碳', '乙炔', '鎂', '氧化', '水', '鈣'} {'乙炔銅', '乙炔', '乙炔二醇', '苯乙炔', '乙炔銀'}\n",
            "{'蠍子', '蟲', '蛛形綱', '昆蟲', '節肢動物', '蜘蛛'} {'無鞭目', '螯肢', '蛛形綱', '香港純蛛', '蜘蛛'}\n",
            "{'船', '過去', '北小島', '波濤', '東海', '南小島', '南', '小島_(臺東區)', '漁民'} {'橄欖門', '北小島', '南小島'}\n",
            "{'美術館', '中西區', '中西區_(臺灣)', '西區_(臺南市)', '臺灣', '臺南市', '臺南市美術館', '位置'} {'臺南市美術館'}\n",
            "{'西北部_(越南)', '綽號', '西北', '元智大學', '臺灣', '名稱'} {'香港幼稚園列表'}\n",
            "{'密碼學', '數學', '密碼', '信息'} {'密碼學', '密碼學主題列表'}\n",
            "{'馬世莉', '兄弟姊妹', '心肌梗死'} {'馬世莉'}\n",
            "{'小說', '作家', '托爾斯泰_(消歧義)', '俄羅斯', '戰爭與和平', '列夫·托爾斯泰'} {'列夫·托爾斯泰著作列表', '戰爭與和平', '亞斯納亞波利亞納', '列夫·托爾斯泰區', '索菲亞·別爾斯'}\n",
            "{'商人', '加拿大', '尼克·貝爾格'} {'尼克·貝爾格'}\n",
            "{'光導纖維', '硬幣', '折射率'} {'香港五元硬幣'}\n",
            "{'臣', '漢', '天下', '漢初三傑', '漢朝', '劉邦'} {'白登山', '漢初三傑', '蕭何'}\n",
            "{'北京市', '馬寅初', '校長', '北京大學', '老年'} set()\n",
            "{'葬禮', '作品', '托馬斯·潘恩', '教條', '美國', '潘恩', '托馬斯'} {'托馬斯·潘恩', '潘恩'}\n",
            "{'線', '京九鐵路'} {'京九鐵路吉安贛江特大橋'}\n",
            "{'衛星', '木星'} {'木星的衛星'}\n",
            "{'稱謂', '德國', '魏瑪', '魏瑪共和國', '政府'} set()\n",
            "{'蕈類', '食用蕈', '粗糙擬迷孔菌'} {'粗糙擬迷孔菌'}\n",
            "{'科學園區', '竹東_(大字)', '東區_(新竹市)', '新竹_(大字)', '臺灣', '工業技術研究院', '竹東鎮', '新竹市_(1945年—1950年)'} {'竹東鎮'}\n",
            "{'淮揚', '味_(粒子物理學)', '菜系', '淮揚菜', '中國', '蘇菜', '江蘇省', '菜'} {'海南菜', '蟹黃湯包', '淮揚菜', '登州府'}\n",
            "{'康熙帝', '鰲拜', '清朝', '部長'} {'鰲拜'}\n",
            "{'相關性', '臺灣大學卡通漫畫研究社', '國立臺灣大學', '臺灣', '大學', '動漫', '社團', '卡通'} {'臺灣大學卡通漫畫研究社'}\n",
            "{'澳門特別行政區政府', '澳門威尼斯人'} {'澳門2013年度頒授勳章、獎章和獎狀名單', '澳門2010年度頒授勳章、獎章和獎狀名單', '澳門2018年度頒授勳章、獎章和獎狀名單', '澳門2011年度頒授勳章、獎章和獎狀名單', '澳門2016年度頒授勳章、獎章和獎狀名單'}\n",
            "{'羅馬', '4月2日', '紀念日', '維納斯'} {'維納斯'}\n",
            "{'洲', '歐陸舞曲', '兒歌', '南美洲', '歐洲大陸', '北美洲'} {'歐陸舞曲'}\n",
            "{'墨西哥', '墨西哥總統', '貝尼託·胡亞雷斯', '亞伯拉罕·林肯', '總統'} {'貝尼託·胡亞雷斯', '法國武裝干涉墨西哥'}\n",
            "{'足球場', '排球'} {'排球', '亞洲排球錦標賽', '沙灘排球'}\n",
            "{'肥料', '硫', '鹼'} {'硫'}\n",
            "{'若竹町_(臺南市)', '行政區劃', '日本', '若竹町'} {'汐見町', '青葉町', '伏見町'}\n",
            "{'百合屬', '百合_(消歧義)', '海百合', '始海百合', '脊椎動物', '氣門', '海'} set()\n",
            "{'張飛', '關羽', '小說', '三國演義'} {'五虎將', '趙雲', '演義', '武安國'}\n",
            "{'印度', '莫拉爾吉·德賽', '1977年', '印度國民大會黨', '印度總理', '總理'} {'莫拉爾吉·德賽', '印度總理'}\n",
            "{'城市', '耶路撒冷', '地區'} {'耶路撒冷國王', '新耶路撒冷'}\n",
            "{'萊比錫', '小弗里德里希·艾伯特', '艾伯特·金_(籃球運動員)', '文獻學', '弗里德里希·艾伯特', '圖書館', '維滕貝格', '弗里德里希·阿道夫·艾伯特', '學習'} {'弗里德里希·阿道夫·艾伯特'}\n",
            "{'艾倫', '喜劇中心', '伍迪·艾倫', '2004年'} {'保羅·萊瑟', '評論家選擇電影獎最佳喜劇男主角', '喜劇中心吐槽大會', '評論家選擇電影獎最佳喜劇電影', '評論家選擇電影獎最佳喜劇女主角'}\n",
            "{'地方自治', '臺灣省政府', '功能', '政府', '臺灣省', '1998年'} {'花蓮縣政府', '雲林縣政府', '臺灣省政府', '臺東縣政府', '南投縣政府'}\n",
            "{'安德斯·海爾斯伯格', '安德斯', '編譯器', '作者', '丹麥', 'Borland', '微軟'} {'Borland數據引擎', '安德斯·海爾斯伯格', 'Borland'}\n",
            "{'分子', '氫氣'} set()\n",
            "{'隋朝'} set()\n",
            "{'處女作', '詩', '朱塞佩·威爾第'} {'朱塞佩·威爾第'}\n",
            "{'制度', '隋朝'} set()\n",
            "{'日本人', '實藤惠秀', '中國'} set()\n",
            "{'英格蘭', '湖區', '代表', '民意代表', '威廉·華茲華斯'} {'赫爾維林峯', '湖畔詩人'}\n",
            "{'孟菲斯_(田納西州)', '酒店', '馬丁·路德·金', '馬丁·路德'} {'孟菲斯大學', '馬丁·路德·金恩遇刺案'}\n",
            "{'米開朗基羅', '政治家', '邦', '中世紀', '米開朗基羅·法爾瑪提諾', '城邦', '國家', '米開朗基羅·樂孔特'} {'佛羅倫薩共和國'}\n",
            "{'縣_(中華民國)', '關山', '受害者', '臺東縣', '案例', '臺東垃圾焚化廠', '臺東'} {'岡山垃圾焚化廠', '崁頂垃圾焚化廠', '永康垃圾焚化廠', '臺東垃圾焚化廠', '臺灣垃圾焚化廠列表'}\n",
            "{'洋蔥', '波斯語', '植物', '單子葉植物', '維吾爾語', '子葉'} {'洋蔥'}\n",
            "{'中國共產黨', '李嵐清', '中國', '中國政法大學', '教育', '法學'} set()\n",
            "{'力', 'Change.org', '實體', '顏色'} set()\n",
            "{'籃球'} set()\n",
            "{'民族', '地區', '歐洲民族', '民族國家', '歐洲', '語言'} {'歐洲民族'}\n",
            "{'平面', '圓', '圓周率', '軌跡', '距離', '不動點'} {'圓'}\n",
            "{'酶', '核', '代謝', '真核生物', '細菌', '古菌', '代謝途徑', '生物'} {'真核翻譯', '嘌呤代謝', '真核生物', '雙鞭毛生物', '古菌'}\n",
            "{'弗朗西斯科', '西班牙', '大元帥', '內戰', '獨裁', '弗朗西斯科·佛朗哥', '國民軍_(西班牙)', '西班牙內戰'} {'弗朗西斯科·佛朗哥'}\n",
            "{'馬克思主義', '格魯喬·馬克思', '馬克思主義政治經濟學', '卡爾·馬克思', '資本論', '政治經濟學', '馬克思·多爾穆瓦站', '海因裏希·馬克思'} {'河上肇', '馬克思主義政治經濟學', '資本論', '女人資本論'}\n",
            "{'民族', '歐洲民族', '民族國家', '歐洲', '語言', '國家'} {'歐洲民族'}\n",
            "{'即墨區'} {'即墨城牆', '即墨縣'}\n",
            "{'剛果民主共和國', '首都'} {'老楞佐·蒙森沃·帕辛亞', '剛果民主共和國', '剛果民主共和國華人', '剛果奧林匹克委員會', '開賽河'}\n",
            "{'寒武紀', '寒武紀大爆發', '世界', '寒武紀_(消歧義)'} {'寒武紀大爆發'}\n",
            "{'五胡十六國', '士兵', '洛陽市', '懷帝', '劉聰', '帝', '晉懷帝', '永嘉之亂', '永嘉_(西晉)'} set()\n",
            "{'印度', '東北部_(越南)', '印度教', '東北', '印度東北部', '本地人', '那加蘭邦'} {'隆格倫格縣', '尼泊爾印度教', '科希馬縣'}\n",
            "{'沙丁魚', '鯡科', '鯡形目', '物種', '沙丁魚罐頭'} {'沙丁魚', '繸鱗小沙丁魚', '隆背小沙丁魚', '白小沙丁魚', '沙丁魚罐頭'}\n",
            "{'技術', '工藝美術', '世紀'} set()\n",
            "{'科學家_(歌曲)', '因果關係', '疾病', '數據科學家', '機體'} {'病理學'}\n",
            "{'90年', '長頸鹿'} {'前90年代', '90年代'}\n",
            "{'世紀'} {'前9世紀'}\n",
            "{'喜劇', '朱塞佩·威爾第', '作品'} {'朱塞佩·威爾第'}\n",
            "{'分支', '漢語音韻學', '語言學', '漢語'} {'漢語史', '漢語音韻學', '等韻學', '音系學', '統計語言學'}\n",
            "{'作品', '版稅', '作曲家', '音樂出版社', '詞曲作家'} {'音樂出版社'}\n",
            "{'食_(天文現象)', '月食', '區域', '光', '天體'} {'19世紀月食列表', '月食'}\n",
            "{'西部', '地區', '薩爾波勒扎哈卜', '伊朗', '震度', '地震'} {'震度', '薩爾波勒扎哈卜'}\n",
            "{'流產', '出血', '母體', '胎兒'} set()\n",
            "{'字', '宋潢_(嘉慶壬戌進士)', '山西省', '星海', '山西省_(中華民國)', '政治人物'} {'星海生活廣場', '星海街道', '星海街'}\n",
            "{'軌道共振', '共振', '軌道', '太陽系', '天體'} {'軌道共振'}\n",
            "{'臺灣大學卡通漫畫研究社', '國立臺灣大學', '臺灣', '大學', '動漫', '卡通'} {'臺灣大學卡通漫畫研究社'}\n",
            "{'楚', '鍾祥市', '面積', '中華人民共和國', '中國', '楚文化', '文化'} set()\n",
            "{'文學', '馬雅各', '雅各_(西庇太的兒子)', '白話字', '白話', '臺南市'} {'白話字', '海南話白話字', '客家白話字'}\n",
            "{'弗朗茨·卡夫卡', '作品'} {'卡夫卡博物館', '一隻雜種', '弗朗茨·卡夫卡', '卡夫卡鬆餅君'}\n",
            "{'海平面', '納米比亞'} {'西南非洲', '納米比亞駐外機構列表', '納米比亞總統', '中國駐納米比亞大使列表', '納米比亞，勇氣之地'}\n",
            "{'謝雪心'} set()\n",
            "{'物理學', '漢斯·愛因斯坦', '阿爾弗雷德·諾貝爾', '光', '諾貝爾物理學獎', '阿爾伯特·愛因斯坦', '光子', '概念'} {'光電效應', '光子'}\n",
            "{'查理·卓別林', '偶像_(日本)'} {'悉尼·厄爾·卓別林', '小查理·卓別林', '悉尼·約翰·卓別林', '漢娜·卓別林', '摩登時代'}\n",
            "{'臺南天馬電臺', '雲林定遠電臺', '冷戰', '短波', '臺灣人', '人民', '短波廣播', '臺灣'} {'雲林定遠電臺'}\n",
            "{'上海市', '鎖麟囊'} {'鎖麟囊'}\n",
            "{'三山', '臺灣三山善社', '臺灣', '明治', '山'} {'臺灣三山善社', '方幼祥'}\n",
            "set() set()\n",
            "{'山下達郎', '1982年', '竹內瑪莉亞', '演員'} {'一直在一起吧', '我們的夏日夢'}\n",
            "{'上座_(佛教)', '上座部佛教', '上座部', '法_(佛教)'} {'斯里蘭卡佛教', '部派佛教', '藍胸佛法僧', '上座部'}\n",
            "{'太陽', '小行星', '行星', '軌道_(力學)', '軌道', '天體'} set()\n",
            "{'餐廳', '香港科技大學', '香港', '科技大學'} set()\n",
            "{'地區', '非建制', '非建制地區', '建制', '北美洲', '北美東部時區', '伯茲克里克_(喬治亞州)'} {'墨西哥時區'}\n",
            "{'志摩', '徐志摩', '英國', '家庭'} {'徐志摩', '徐志摩墓'}\n",
            "{'伊利諾伊大學厄巴納香檳分校', '厄巴納_(伊利諾伊州)', '芝加哥', '今天', '藝術類型', '大學', '香檳', '研究型大學'} {'布蘭登·保羅', '伊利諾伊大學厄巴納-香檳分校', '艾科·伊本', '伊利諾大學', '伊利諾伊大學威拉德機場'}\n",
            "{'九江市', '省', '市', '九江市_(縣級)', '長江', '地級市', '九江_(消歧義)', '江西省'} {'九江市', '彭澤縣', '湖口縣', '永修縣', '瑞昌市'}\n",
            "{'英國', '國家', '廣播'} {'BBC自然知性臺', '英國廣播公司', 'BBC廣播四臺', 'BBC電影'}\n",
            "{'國', '中華人民共和國外交', '中華人民共和國', '大國', '大國外交', '年代', '詞', '外交'} {'大國外交', '中華人民共和國外交'}\n",
            "{'1990年', '音樂劇'} set()\n",
            "{'姓', '安東尼·西尼蘇卡·金廷', '漢姓', '漢服', '現象'} {'安東尼·西尼蘇卡·金廷'}\n",
            "{'英國', '1000', '伯明翰大學', '伯明翰', '紅磚大學', '1900年'} {'伯明翰藝術學院', '伯明翰城市大學', '伯明翰新街站', '紅磚大學', '伯明翰機場'}\n",
            "{'墨西哥', '墨西哥總統', '貝尼託·胡亞雷斯', '亞伯拉罕·林肯', '總統'} {'貝尼託·胡亞雷斯'}\n",
            "{'角色', '捕食', '昆蟲', '蟲媒花', '花粉'} set()\n",
            "{'利物浦大學', '英國', '1000', '伯明翰大學', '伯明翰', '紅磚大學', '1900年', '利物浦'} {'伯明翰藝術學院', '伯明翰城市大學', '伯明翰新街站', '紅磚大學', '伯明翰機場'}\n",
            "{'布魯塞爾', '會議', '1927年', '諾貝爾獎', '索爾·勒維特', '索爾維會議'} set()\n",
            "{'語言系屬分類', '組合', '印度', '印度教', '金剛經', '印度教神話', '系統', '歐羅巴'} set()\n",
            "{'北京市', '節目', '時間', '中國', '新聞聯播', '北京時間', '晚上'} {'香港十年', '全國新聞聯播', '家文看北京', '新聞聯播天氣預報', '新聞聯播'}\n",
            "{'花', '科', '植物', '真雙子葉植物', '雙子葉植物', '子葉', '向日葵'} {'向日葵之裏', '內蒙古雙子葉植物列表', '向日葵'}\n",
            "{'吉林大學', '吉林省'} {'吉林大學附屬中學', '皓月集團', '吉林工業大學', '吉林大學西區'}\n",
            "{'印度', '總理', '印度國民大會黨', '印度總理'} set()\n",
            "{'少女小漁_(電影)', '1995年', '亞太影展', '劉若英', '1995', '我的美麗與哀愁'} {'少女小漁劉若英的美麗與哀愁', '劉若英'}\n",
            "{'澎湖羣島', '臺灣海峽'} {'衛生福利部澎湖醫院', '澎湖廳長', '澎湖縣', '澎湖縣文化資產'}\n",
            "{'澳門特別行政區政府', '澳門文化中心', '劇場'} {'澳門2013年度頒授勳章、獎章和獎狀名單', '澳門2010年度頒授勳章、獎章和獎狀名單', '澳門2018年度頒授勳章、獎章和獎狀名單', '澳門2011年度頒授勳章、獎章和獎狀名單', '澳門2016年度頒授勳章、獎章和獎狀名單'}\n",
            "{'公民', '受害者', '案例', '臺東垃圾焚化廠', '臺東市', '臺東'} {'岡山垃圾焚化廠', '崁頂垃圾焚化廠', '永康垃圾焚化廠', '臺東垃圾焚化廠', '臺灣垃圾焚化廠列表'}\n",
            "{'工人', '路易斯·伊納西奧·盧拉·達席爾瓦', '伊朗', '巴西', '總統', '巴西總統'} {'路易斯·伊納西奧·盧拉·達席爾瓦'}\n",
            "{'Dandelion', '蒲公英'} {'短啄蒲公英', '淺沼晉太郎', '小五臺蒲公英', '蒲公英', 'Dandelion'}\n",
            "{'橫濱國立大學', '橫濱市', '大學', '電視劇'} set()\n",
            "{'湯姆·班克斯', '湯姆·克魯斯', '湯姆·漢克斯', '收入', '獎勵'} set()\n",
            "{'隋書', '月氏', '昭武', '姓', '祖先', '昭武九姓', '朝代'} {'昭武九姓'}\n",
            "{'有限集合', '集合_(數學)', '集合'} {'餘有限空間', '集合族', '無限集合', '集合', '有限集合'}\n",
            "{'文字', '羌', '史前時代', '山羌', '石器時代', '時代', '石器', '歷史'} {'中國中石器文化列表', '史前時代', '中國史前文化', '史前朝鮮', '石器'}\n",
            "{'奧斯卡金像獎', '小說', '奧斯卡', '奧斯卡·埃爾南德斯', '名', '獎勵'} set()\n",
            "{'莫斯科', '莫斯科大劇院', '劇場'} set()\n",
            "{'古羅馬', '法律', '騎士', '羅馬', '世紀', '平民'} {'古羅馬', '羅馬騎士階級', '平民會議'}\n",
            "{'數學', '數學家', '證明完畢', '證明'} {'證明完畢', '電腦協助證明'}\n",
            "{'索馬里蘭', '清真言', '索馬利蘭國旗', '顏色', '索馬利蘭國', '言', '國旗', '半旗', '旗幟'} {'索馬利蘭國旗'}\n",
            "{'教會', '耶穌受難', '日子', '星期五', '禮拜', '基督徒', '耶穌'} {'星期五', '13號星期五', '元日'}\n",
            "{'羅盤方位', '漢', '絲綢之路', '漢朝', '戰爭'} {'絲綢之路巡禮名曲集', '絲綢之路世界文化遺產', '南方絲綢之路', '絲綢之路'}\n",
            "{'馬援', '四方', '漢光武帝', '問題', '書信'} {'漢光武帝'}\n",
            "{'皇帝', '御座', '宋仁宗'} {'宋仁宗'}\n",
            "{'先決條件', '商業', '行爲'} set()\n",
            "{'煎餅餜子', '煎餅_(日本)', '天津市'} {'煎餅餜子'}\n",
            "{'分類學', '性', '生物分類學', '屬'} set()\n",
            "{'一邊一國', '中國', '國'} set()\n",
            "{'人權', '1978年'} {'國際LGBTI聯合會', '灣東願景', '觀塘願景'}\n",
            "{'養生_(道教)', '洞天', '道教', '洞_(小說)', '西王母', '瑤池'} {'瑤池'}\n",
            "{'中國共產黨', '汕頭大學', '全球', '汕頭市', '大學', '私人基金會', '廣東省_(中華民國)'} {'汕頭大學'}\n",
            "{'大佛', '樂山大佛'} set()\n",
            "{'黛安娜·迪莫娃', '黛安娜·馬西森', '黛安娜·羅', '黛安娜·羅斯', '黛安·韋斯特', '異教', '黛安娜', '崇拜'} {'黛安娜·迪莫娃', '黛安娜·羅'}\n",
            "{'地方自治', '臺灣省政府', '費用', '功能', '政府', '臺灣省', '1998年'} {'花蓮縣政府', '雲林縣政府', '臺灣省政府', '臺東縣政府', '南投縣政府'}\n",
            "{'年少', '中國', '許世友', '功夫_(電影)', '功夫'} set()\n",
            "{'妻子', '羅曼諾·貝尼託·弗洛里亞尼·墨索里尼', '妻子_(2003年電視劇)', '亞歷山德拉·墨索里尼', '雷切爾·墨索里尼', '屍體', '貝尼託·墨索里尼'} {'雷切爾·墨索里尼'}\n",
            "{'合', '小龍女'} {'四合木', '四合城鎮'}\n",
            "{'代號', 'H', '常數', '速率', '真空', '物理常數'} {'氣體常數'}\n",
            "{'積_(範疇論)', '原理', '積·施利', '物體', '重量'} {'靜力平衡', '重量'}\n",
            "{'斯卡帕灣', '公海艦隊自沉事件', '事件', '德國', '軍艦', '公海艦隊', '小時', '海牀'} {'公海艦隊自沉事件', '路德維希·馮·羅伊特'}\n",
            "{'美國人', '亞裔美國人', '美國', '定義'} {'亞裔美國人', '日裔美國人'}\n",
            "{'大韓民國', '內閣', '決策', '韓國國務總理', '工作', '總理', '總統', '國務總理'} {'韓國國務總理列表', '韓國國務總理'}\n",
            "{'鳥', '女性'} set()\n",
            "{'人類', '熱', '火'} {'火'}\n",
            "{'城市', '剛果民主共和國'} {'老楞佐·蒙森沃·帕辛亞', '根蓋', '博馬', '開賽河', '姆班扎恩古恩古'}\n",
            "{'湖南省', '北朝', '南北朝', '中國', '崇義郡'} set()\n",
            "{'蘇聯', '博古'} {'博古恰爾區', '博古埃'}\n",
            "{'古巴', '勃列日涅夫_(消歧義)', '美國', '蘇聯', '政權', '危機', '列昂尼德·勃列日涅夫'} {'列昂尼德·勃列日涅夫所獲獎項列表', '列昂尼德·勃列日涅夫', '列昂尼德·勃列日涅夫遇刺案', '安德烈·尤里耶維奇·勃列日涅夫'}\n",
            "{'臺灣清治時期', '地區', '清朝', '臺灣', '澎湖鎮', '島嶼', '海峽', '澎湖羣島', '臺灣海峽'} {'澎湖本島', '衛生福利部澎湖醫院', '澎湖廳長', '澎湖鎮', '澎湖縣文化資產'}\n",
            "{'三國', '領土', '人口', '曹', '魏', '政權', '曹魏'} {'三國殺Online', '三國時期君主列表', '曹魏'}\n",
            "{'狼', '捕食', '白俄羅斯', '野牛', '歐洲野牛', '歐洲', '天敵_(電視劇)', '生物'} {'西伯利亞野牛', '歐洲野牛', '野牛', '印度野牛', '野牛屬'}\n",
            "{'兒子', '曹鼎', '大司馬'} {'曹鼎'}\n",
            "{'奧斯卡金像獎', '維多利亞女王', '維多利亞', '皮特·烏斯蒂諾夫', '奧斯卡', '獎勵'} {'皮特·烏斯蒂諾夫'}\n",
            "{'家', '拖鞋', '習慣', '犬', '赤足'} set()\n",
            "{'第二國際', '馬克思主義', '修正主義_(馬克思主義)', '1889年', '派別', '工人鬥爭', '國際', '慕尼黑'} {'第二國際', '工人鬥爭'}\n",
            "{'印度', '總理', '印度總理'} {'印度獨立運動', '馬來西亞印度國民大會黨', '印度國民大會黨', '印度總理', '印度政治'}\n",
            "{'立法機關', '專制', '國家', '議會'} {'專制主義', '各國立法機關列表'}\n",
            "{'政區首長', '宇航員', '加利福尼亞州', '加利福尼亞州州長'} {'加利福尼亞州州長'}\n",
            "{'約瑟_(舊約聖經)', '約瑟的神奇彩衣', '安德魯·勞埃德·韋伯'} {'約瑟的神奇彩衣'}\n",
            "{'八片魔板', '父親', '魔方'} {'3x3x7魔術方塊', '八片魔板', '2x2x1魔術方塊', '十二片魔板', '2x2x3魔術方塊'}\n",
            "set() set()\n",
            "{'馬六甲_(消歧義)', '馬六甲海峽', '現在', '海峽', '國家'} {'馬六甲海峽歷史城市', '海峽殖民地'}\n",
            "{'奧斯卡', '獎勵', '奧斯卡·埃爾南德斯'} set()\n",
            "{'美國語言', '置標語言', '美國', 'XBRL', '標記_(程式語言)', '語言'} {'XBRL', '輕量級標記語言', 'XML'}\n",
            "{'光速', '速度', '宇宙', '狹義相對論', '相對論'} {'光速', '光速不變原理', '超光速運動', '狹義相對論發現史', '雙重狹義相對論'}\n",
            "{'島嶼國家', '南歐', '島嶼', '科米諾島', '君主制', '地中海', '馬耳他'} {'希臘王國', '科米諾島'}\n",
            "{'克里斯·潘恩', '法語', '托馬斯·潘恩', '迦勒·潘恩', '羅伯特·崔特·潘恩', '國民公會', '潘·巴奇利', '潘恩'} {'潘恩'}\n",
            "{'楊虎', '楊虎城', '西安事變', '張學友'} {'兵諫亭', '張學友87演唱會', '楊虎城', '西安事變'}\n",
            "{'狼', '捕食', '白俄羅斯', '歐洲野牛', '天敵_(電視劇)', '野牛', '動物', '歐洲'} {'歐洲野牛', '野牛', '野牛屬'}\n",
            "{'活動', '軟件', '軟件開發'} {'軟件開發過程', '軟件開發', '軟件項目管理', '軟件工程'}\n",
            "{'中央', '中央部屬高校', '世界一流大學和一流學科建設'} {'中央部屬高校', '世界一流大學和一流學科建設', '海南大學', '中央音樂學院', '中國政法大學'}\n",
            "{'國', '爭論', '今天', '大國', '大國外交', '中國', '年代', '外交政策', '詞', '外交'} {'大國外交'}\n",
            "{'1940年', '鎖麟囊'} {'鎖麟囊'}\n",
            "{'現在', '1987年', '臺北市政府捷運工程局', '臺北市政府'} {'臺北市政府捷運工程局', '臺北市政府教育局', '新北市政府捷運工程局', '桃園市政府捷運工程局', '臺北市政府民政局'}\n",
            "{'桃園市', '面積', '境', '中華民國', '直轄市', '臺灣海峽', '直轄市_(中華民國)'} {'桃園市市長', '桃園市', '桃園市公車'}\n",
            "{'質量', '土衛一', '物質', '太陽系', '壓強', '天體'} set()\n",
            "{'高錳酸鉀', '昆蟲', '錳酸鉀'} set()\n",
            "{'葡萄', '簇', '果實', '一起_(政黨聯盟)'} {'葡萄', '山葡萄'}\n",
            "{'幻覺', '目標', '執法', '暗殺'} set()\n",
            "{'昆蟲'} set()\n",
            "{'科學家', '土衛六', '平流層', '甲烷'} {'土衛六'}\n",
            "{'木衛三', '伽利略·伽利萊', '神話', '神', '希臘神話', '希臘'} {'木衛三'}\n",
            "{'美國', '林登·約翰遜', '約翰遜_(姓氏)', '總統', '軍事', '戰爭', '朝鮮戰爭'} set()\n",
            "{'高安公寓', '公園'} {'高安公寓'}\n",
            "{'輿論調查', '倒數', '香港商報', '商報', '文匯報', '香港', '文匯報_(上海)', '大公報'} {'大公報'}\n",
            "{'民族', '歐洲民族', '指', '歐洲', '國家', '腳趾'} set()\n",
            "{'NBA'} {'美國籃球協會', '2016–17年東南亞職業籃球聯賽賽季', '2015–16年東南亞職業籃球聯賽賽季', 'NBA吉祥物列表', '2009–10年東南亞職業籃球聯賽賽季'}\n",
            "{'古蹟', '外交部', '臺北賓館', '中華民國', '中華民國外交部', '國定古蹟'} {'臺北賓館', '臺北市國定古蹟列表'}\n",
            "{'臺中市私立曉明女子高級中學', '中學', '臺中市', '女性'} {'臺中市私立曉明女子高級中學', '臺中市私立明德高級中學', '臺中市立臺中女子高級中等學校'}\n",
            "{'寶石', '紅寶石', '工業'} {'紅寶石'}\n",
            "{'陸羽', '世界', '茶經', '茶', '茶文化'} {'陸羽', '茶經', '中國茶文化', '澳門茶文化館', '茶學文獻列表'}\n",
            "{'1919年', '總督府', '單位_(社會組織)', '臺灣總督府', '民政局'} {'臺灣總督府民政部', '臺灣總督府評議會', '臺灣總督府', '民政局', '臺灣總督府醫學校'}\n",
            "{'埃塔', '公益_(消歧義)', '專業'} set()\n",
            "{'愛丁堡大學', '愛丁堡', 'QS', '世界'} {'QS世界大學排名', '泰晤士高等教育-QS世界大學排名', 'QS'}\n",
            "{'Dandelion', '英語人名', '蒲公英'} {'短啄蒲公英', '小五臺蒲公英', '各國警察數量列表', '蒲公英', 'Dandelion'}\n",
            "{'社會規範', '自由', '規範'} set()\n",
            "{'英國', '1000', '伯明翰大學', '伯明翰', '紅磚大學', '1900年'} {'伯明翰藝術學院', '伯明翰城市大學', '伯明翰新街站', '紅磚大學', '伯明翰機場'}\n",
            "{'體育運動', '麻薩諸塞州'} set()\n",
            "{'1938年', '美國隊長', '超人'} set()\n",
            "{'表演藝術', '導演'} {'導演'}\n",
            "{'投資型硬幣', '金屬', '光澤_(礦物)', '金', '銀', '硬幣', '貴金屬'} {'投資型硬幣', '銀'}\n",
            "{'大佛', '樂山大佛'} {'樂山大佛', '大佛'}\n",
            "{'桂皮', '糖尿病'} {'抗糖尿病藥'}\n",
            "{'分支', '人類學', '民族學', '動物', '語言'} {'語言人類學', '應用人類學', '民族學'}\n",
            "{'北京市', '馬寅初', '校長', '東京大學', '老年'} set()\n",
            "{'法律主體', '非法移民', '抄襲', '權利'} {'高雄捷運路線圖抄襲事件'}\n",
            "{'教育', '李賦寧'} {'李賦都'}\n",
            "{'金章宗', '政治文化', '金世宗', '金朝'} {'完顏洪靖'}\n",
            "{'比薩斜塔', '泉州市', '比薩', '面積'} {'斜塔列表', '比薩省', '迪奧提撒威'}\n",
            "{'排球', '全球', '體育運動'} {'2008年夏季奧林匹克運動會排球比賽', '排球', '亞洲排球錦標賽', '沙灘排球'}\n",
            "{'蛋白', '生物技術'} {'互補脫氧核糖核酸'}\n",
            "{'諾貝爾獎', '藝術', '公民', '高行健', '小說', '戲劇', '道路', '法國'} {'高行健'}\n",
            "{'國家', '廣播', '中國'} {'BBC自然知性臺', '英國廣播公司', 'BBC廣播四臺', 'BBC電影'}\n",
            "{'行政機關', '總統_(韓國電視劇)', '大韓民國', '韓國總統', '權力', '政權', '總統'} set()\n",
            "{'上海市', '鎖麟囊'} {'鎖麟囊'}\n",
            "{'馴化', '飛行', '人類', '雉科', '雞'} {'雞'}\n",
            "{'大佛', '樂山大佛'} {'樂山大佛'}\n",
            "{'經濟體系', '公司', '全球', '麻省理工學院', '校友'} {'麻省理工學院工學院'}\n",
            "{'速率', '狀態', '常數', '物理常數'} {'氣體常數'}\n",
            "{'球', '體育運動'} set()\n",
            "{'臺中市', '臺中市西大墩婦女中心'} {'臺中市議會', '臺中市西大墩婦女中心'}\n",
            "{'水', '菓子', '濃度', '腐蝕性物質', '硫酸', '酸'} {'硫酸'}\n",
            "{'摩納哥', '南部', '面', '法國', '地中海', '法國南部'} {'摩納哥', '摩納哥城', '摩納哥巖'}\n",
            "{'哺乳動物', '魚', '新生代'} {'新生代'}\n",
            "{'文化遺產', '建築學', '布魯塞爾', '地標', '世界遺產', '食物'} set()\n",
            "{'商店', '象徵', '全買', '雲嘉南', '臺灣', '買', '長頸鹿'} {'全買'}\n",
            "{'學名', '東方', '山斑鳩'} {'山斑鳩', '東方蠊'}\n",
            "{'宋欽宗', '靖康', '北宋', '趙匡胤'} {'靖康'}\n",
            "{'1_(披頭士專輯)', '西方世界', '時代100人：本世紀最重要的人物', '時代', '搖滾樂', '頭', '披頭四樂隊', '樂團'} set()\n",
            "{'兒子', '阿卜杜勒侯賽因·米爾扎·法爾曼法爾馬', '政治家'} {'阿卜杜勒-侯賽因·米爾扎·法爾曼法爾馬'}\n",
            "{'美國', '越南戰爭', '林登·約翰遜', '約翰遜_(姓氏)', '總統'} {'約翰遜總統', '林登·B·約翰遜號驅逐艦', '林登·約翰遜總統圖書館暨博物館'}\n",
            "{'鵜鶘', '冰原', '北極點', '白鵜鶘'} {'斑嘴鵜鶘', '白鵜鶘', '鵜鶘', '澳洲鵜鶘', '卷羽鵜鶘'}\n",
            "{'中學', '2000', '麗山', '臺北', '臺北市立麗山高級中學'} {'柯明樹', '臺北市立麗山高級中學', '鄭顯三', '麗山'}\n",
            "{'琉球', '琉球嶼', '古代史', '臺灣', '聯合國'} {'琉球歷史', '小琉球三隆宮'}\n",
            "{'稱謂', '霍亨索倫王朝', '德國', '魏瑪', '魏瑪共和國', '政府', '政體'} {'魏瑪共和國'}\n",
            "{'素描'} {'素描'}\n",
            "{'吳天威'} {'吳天威'}\n",
            "{'文森特·梵高'} set()\n",
            "{'導演', '美國', '劇場藝術', '黑色電影', '演員', '電影', '美國電影', '先驅', '化石森林'} {'罪惡鎖鏈', '賊中之王', '偉大的奧馬利', '直搗黃龍', '化石森林'}\n",
            "{'音樂', '音階', '傳統'} {'音階'}\n",
            "{'腎功能衰竭', '健康', '腎_(臟腑)', '腎功能', '尤里·安德羅波夫'} {'尤里·安德羅波夫'}\n",
            "{'環境', '質量'} set()\n",
            "{'勇度', '漫威', '皮膚', '藍色', '漫畫', '漫威漫畫', '人物'} {'漫威', '勇度'}\n",
            "{'真菌', '高錳酸鉀', '界_(生物)', '錳酸鉀'} {'高錳酸鉀'}\n",
            "{'龍', '龍之子製作', '再造人卡辛', '子'} {'再造人卡辛'}\n",
            "{'馬克思主義', '格魯喬·馬克思', '馬克思主義政治經濟學', '卡爾·馬克思', '資本論', '政治經濟學', '馬克思·多爾穆瓦站', '海因裏希·馬克思'} {'河上肇', '馬克思主義政治經濟學', '資本論', '女人資本論'}\n",
            "{'離子', '比例', '硫酸'} set()\n",
            "{'院長', '1977年', '中國社會科學院', '喬木_(消歧義)', '胡喬木'} {'胡石英', '中國社會科學院民族學與人類學研究所', '中國科學院哲學社會科學部'}\n",
            "{'表演藝術', '導演'} {'導演'}\n",
            "{'佛', '無生老母', '一貫道', '路中一', '彌勒菩薩', '路', '神'} {'無生老母'}\n",
            "{'萬年國會', '國會_(日本)', '李登輝', '中華民國', '中華民國國會在臺灣之全面選舉與罷免', '臺灣', '總統', '罷免'} {'寧靜革命', '中華民國總統及副總統在臺灣之公民直接選舉與罷免'}\n",
            "{'糖_(消歧義)', '糧食', '糖類', '抗生素'} set()\n",
            "{'臺南市立安平水產專修學校', '臺南市', '日治時期'} {'臺南市立安平水產專修學校'}\n",
            "{'吉林市', '教育部', '中華人民共和國', '全國重點大學', '吉林大學', '中華人民共和國教育部'} {'吉林大學', '中華人民共和國教育部直屬高等學校列表'}\n",
            "{'語言系屬分類', '民族', '歐洲民族', '歐洲', '語言', '文化', '國家'} {'民族國家'}\n",
            "{'精', '蜘蛛俠百戰曱甴精', '蜘蛛人', '菲律賓', '電影', '主人公', '蜘蛛', '蟑螂'} {'蜘蛛俠百戰曱甴精'}\n",
            "{'王震', '鄧小平'} {'王震起'}\n",
            "{'臺北醫學大學', '經營者', '北漂'} {'李祖德'}\n",
            "{'勃列日涅夫_(消歧義)', '列昂尼德·勃列日涅夫', '蘇聯'} {'維多利亞·勃列日涅娃', '列昂尼德·勃列日涅夫所獲獎項列表', '列昂尼德·勃列日涅夫遇刺案', '安德烈·尤里耶維奇·勃列日涅夫', '列昂尼德·勃列日涅夫的影響'}\n",
            "{'忠烈祠', '忠烈祠_(臺灣)', '中華民國國民', '中華民國', '中國國民黨', '國民', '詞', '國民政府'} {'中華民國國家元首列表'}\n",
            "{'學術領域大綱', '疾病', '病理學'} {'法醫病理學', '婦產科學', '病理學', '血液學', '古病理學'}\n",
            "{'釋一行', '號', '法名和法號', '一行', '行'} {'釋真空', '一行'}\n",
            "{'水稻', '父親', '袁隆平', '中國', '稻', '雜交水稻'} {'袁隆平', '周開達', '雜交水稻', '湖南雜交水稻研究中心', '雜交水稻國家重點實驗室'}\n",
            "{'二氧化硫', '木星的衛星', '高原', '木衛一', '霜', '硫'} set()\n",
            "{'六腳_(大字)', '胸節_(昆蟲)', '身體', '體', '昆蟲', '腳'} set()\n",
            "{'機構', '首都', '世界', '新西蘭', '惠靈頓'} {'惠靈頓'}\n",
            "{'辦公室', '臺中市政府陽明大樓', '臺南市_(州轄市)', '臺中市政府', '區_(中華民國)', '臺中市'} {'臺中市政府陽明大樓'}\n",
            "{'亞美尼亞飲食', '國', '飲食', '原材料', '地理環境', '亞美尼亞'} {'阿塞拜疆飲食', '亞美尼亞飲食'}\n",
            "{'臺中市大里區大元國民小學'} {'臺中市大里區大里國民小學', '臺中市大里區永隆國民小學', '臺中市大里區大元國民小學', '臺中市大里區益民國民小學'}\n",
            "{'配子', '蒲公英', '個體'} {'無性生殖'}\n",
            "{'象', '唐朝'} {'大象露西'}\n",
            "{'卡呂普索', '王'} set()\n",
            "{'午餐', '地球人', '地球', '餅乾', '乾酪'} {'午餐女王', '乾酪白汁', '威爾士乾酪', '免費午餐'}\n",
            "{'民族', '地區', '歐洲民族', '民族國家', '歐洲', '語言'} {'歐洲民族'}\n",
            "{'楊素', '舉事', '隋煬帝'} set()\n",
            "{'衛星', '火衛二'} {'火星日食', '火衛二'}\n",
            "{'禮拜_(伊斯蘭教)', '星期六', '禮拜'} {'星期六'}\n",
            "{'元素週期表', '物', '波動性', '位置', '藝術類型', '鐒'} {'鐒'}\n",
            "{'中華東路_(臺南市)', '中華民國', '臺1線', '線', '臺南市', '道路'} {'臺南市主要道路列表', '中華南路'}\n",
            "{'主食', '米飯', '中國'} {'穀粉', '主食', '摩爾多瓦飲食'}\n",
            "{'遺囑', '諾貝爾獎', '阿爾弗雷德·諾貝爾', '物理學家', '獎勵'} set()\n",
            "{'威廉·亨利·哈里森', '立法院', '美國'} {'安娜·哈里遜', '1840年美國總統選舉'}\n",
            "{'幻覺', '暗殺', '目標', '執法', '意外事故'} set()\n",
            "{'臺灣', '泰安市', '公路服務區', '泰安服務區_(臺灣)'} {'泰安街道', '泰安休息站', '公路服務區', '臺灣公路服務區與休息站列表'}\n",
            "{'布魯塞爾', '會議', '1927年', '索爾·勒維特', '索爾維會議'} set()\n",
            "{'大陸架', '克氏無齒翎電鰻', '電鰻'} {'克氏無齒翎電鰻'}\n",
            "{'失樂園', '電視劇'} {'青春失樂園'}\n",
            "{'臺北', '國立臺北教育大學', '經營者'} {'李祖德'}\n",
            "{'車站', '伊斯法罕', '伊斯法罕地鐵'} {'伊斯法罕省', '伊斯法罕地鐵', '伊斯法罕老廣場', '伊斯法罕佐帕罕籃球俱樂部', '伊斯法罕佐布阿漢足球俱樂部'}\n",
            "{'小行星9027', '星等', '月球', '行星', '主小行星帶', '絕對', '絕對星等'} {'小行星9027', '小行星9901', '小行星9665', '小行星7672', '小行星7799'}\n",
            "{'韋伯', '輻鰭魚綱', '演化支', '類', '魚', '魚鰭', '長度', '演化', '骨鰾類', '體重'} {'骨鰾類'}\n",
            "{'阿托品'} set()\n",
            "{'木衛三', '夏威夷大學', '木衛三十八', '木星的衛星', '木星', '衛星'} {'木衛四十一', '木衛三十八', '木衛五十二', '木衛五十三', '木衛十一'}\n",
            "{'土庫曼斯坦', '歧義', '土庫曼_(消歧義)', '蘇聯'} set()\n",
            "{'太平洋', '城市', '墨西哥', '瓜達拉哈拉_(墨西哥)', '西南'} {'阿特拉斯足球俱樂部', '瓜達拉哈拉體育會'}\n",
            "{'臺灣總督府民政部', '總督府', '民政部', '臺灣', '臺灣總督府'} {'臺灣總督府民政部', '臺灣總督府評議會', '民政部', '臺灣總督府', '臺灣總督府醫學校'}\n",
            "{'合唱', '古希臘', '祭祀', '狄俄倪索斯', '酒', '悲劇', '希臘', '古希臘悲劇'} {'狄俄倪索斯', '古希臘悲劇', '古希臘喜劇'}\n",
            "{'身', '玲子·艾爾斯沃斯', '亞洲'} {'玲子·艾爾斯沃斯'}\n",
            "{'彗星', '天', '穀神星'} set()\n",
            "{'克洛里斯', '妻子', '洛里斯_(沃克呂茲省)', '雨果·洛里斯', '神'} {'西風翠灰蝶'}\n",
            "{'特別攻擊隊', '力_(佛教)', '資源_(計算機科學)', '同盟國_(第二次世界大戰)', '美國', '跟蹤支援隊'} set()\n",
            "{'英格蘭', '威廉·華茲華斯', '湖區'} {'赫爾維林峯', '湖畔詩人'}\n",
            "{'古巴', '勃列日涅夫_(消歧義)', '美國', '蘇聯', '政權', '列昂尼德·勃列日涅夫'} {'列昂尼德·勃列日涅夫所獲獎項列表', '列昂尼德·勃列日涅夫', '列昂尼德·勃列日涅夫遇刺案', '安德烈·尤里耶維奇·勃列日涅夫'}\n",
            "{'聖保羅書院', '男性', '學校', '香港', '西區'} {'符潤光'}\n",
            "{'魏雅欣', '羽毛球'} {'魏雅欣'}\n",
            "{'民族', '歐洲民族', '民族國家', '歐洲', '語言', '國家'} {'歐洲民族'}\n",
            "{'印度', '總理', '現在', '印度總理'} {'印度獨立運動', '印度國民大會黨', '查蘭·辛格', '印度總理', '曼莫漢·辛格'}\n",
            "{'英格蘭', '威廉·華茲華斯', '湖區'} {'赫爾維林峯', '湖畔詩人'}\n",
            "{'漢', '絲綢', '路', '絲綢之路', '漢朝'} set()\n",
            "{'蔡元培', '翰林院', '庶吉士', '中華民國', '元培'} {'蔡元培舊居', '蔡元培故居', '上海蔡元培故居', '蔡元培獎', '元培'}\n",
            "{'天皇', '神話', '態度', '日本', '日本神話', '民俗', '歷史書', '天武天皇'} {'日本神話'}\n",
            "{'物體', '重量', '質量', '原理'} set()\n",
            "{'1_(披頭士專輯)', '英國', '時代100人：本世紀最重要的人物', '時代', '搖滾樂', '頭', '披頭四樂隊', '樂團'} set()\n",
            "{'公路服務區', '泰安市', '泰安服務區_(臺灣)', '臺灣', '中山', '公園'} {'泰安街道', '臺灣公路服務區與休息站列表', '泰安休息站', '西湖服務區'}\n",
            "{'氣體', '碳', '壬醇', '橘', '脂肪醇', '正壬醇'} {'壬醇', '脂肪醇', '正癸醇', '正壬醇', '1-辛醇'}\n",
            "{'大豆'} {'植酸', '大豆苷', '擬大豆'}\n",
            "{'礦物', '化學性質', '岩石', '物理性質', '溫度'} {'碳酸鹽礦物', '礦物', '礦物學'}\n",
            "{'立法機關', '國立臺灣民主紀念館'} {'國立臺灣民主紀念館', '國立中正紀念堂管理處組織條例'}\n",
            "{'效率', '航空', '航空交通管制', '航空管制員', '航空器', '交通管制', '陸地', '意外事故'} {'航空交通管制', '航空交通管制部'}\n",
            "{'黃初平', '藝術品', '飄然臺', '白玉'} {'白玉', '飄然臺'}\n",
            "{'琉球', '香港學界體育聯會', '琉球嶼', '古代史', '臺灣'} {'琉球歷史', '小琉球三隆宮'}\n",
            "{'爬山算法', '高地', '問題', '地圖'} {'爬山算法'}\n",
            "{'英格蘭足球聯賽', '英格蘭足球超級聯賽', '英格蘭足球聯賽系統', '英格蘭'} {'英格蘭足球全國聯賽', '英格蘭足球全國聯賽南', '英格蘭甲組聯賽', '英格蘭足球全國聯賽北', '英格蘭足球丁級聯賽'}\n",
            "{'董事長', '元智大學', '陌生人', '組織創始人'} set()\n",
            "{'亞伯拉罕諸教', '亞伯拉罕', '亞伯拉罕·範海辛', 'F·莫瑞·亞伯拉罕', '亞伯拉罕·路易·佈雷蓋', '斯賓塞·亞伯拉罕', '亞伯拉罕·林肯總統圖書館和博物館', '亞伯拉罕·林肯'} {'有經者', '伊斯蘭教與基督教關係', '亞伯拉罕諸教', '亞伯拉罕', '一神論'}\n",
            "{'心', '泰國', '我的愛_(1986年電影)', '電視劇', '以你的心詮釋我的愛', '愛'} {'以你的心詮釋我的愛'}\n",
            "{'軟件開發', '軟件開發工具', '程式', '軟件', '語言'} {'軟件開發工具包', '軟件開發', '軟件開發工具', '蘋果開發工具', '軟件工程'}\n",
            "{'總體', '元素_(數學)', '集合_(數學)', '集合', '有限集合'} {'繼承有限集合', '有限集合', '總體', '集合'}\n",
            "{'馬克思主義', '格魯喬·馬克思', '馬克思主義政治經濟學', '卡爾·馬克思', '資本論', '政治經濟學', '馬克思·多爾穆瓦站', '海因裏希·馬克思'} {'河上肇', '資本論', '女人資本論'}\n",
            "{'妙義山', '日本'} set()\n",
            "{'電', '可見光', '波長', '燈', '汞', '電流', '螢光燈', '紫外線'} set()\n",
            "{'畫家', '作品', '世紀', '表現主義', '奧地利', '印象派', '20世紀', '詞'} {'那比派', '表現主義'}\n",
            "{'香港國際機場', '機場', '全球', '世界'} set()\n",
            "{'香港商報', '得分', '2019年', '商報', '傳播媒體', '文匯報', '文匯報_(上海)', '大公報'} {'大公報'}\n",
            "{'臺中市大里區大元國民小學', '校長'} {'臺中市大里區益民國民小學', '臺中市大里區大里國民小學', '臺中市大里區崇光國民小學', '臺中市大里區永隆國民小學', '臺中市大里區大元國民小學'}\n",
            "{'物種', '靈長目'} set()\n",
            "{'西部', '波蘭', '山城', '綠山城', '綠山城縣'} {'山城路街道', '綠山城縣', '盧布斯卡省', '山城街道'}\n",
            "{'民族', '歐洲民族', '民族國家', '歐洲', '語言', '國家'} {'歐洲民族'}\n",
            "{'小行星', '太陽黑子', '行星', '軌道_(力學)', '軌道'} set()\n",
            "{'名譽主席', '主席', '男爵', '奧林匹克運動會', '皮埃爾·德·顧拜旦'} {'奧林匹克運動會藝術比賽', '皮埃爾·德·顧拜旦'}\n",
            "{'中國共產黨', '政治局', '中國共產黨中央政治局', '韓正'} {'中國共產黨中央政治局常務委員會', '韓正'}\n",
            "{'劉兆玄內閣', '遊行', '劉兆玄', '馬', '政府', '劉兆', '高雄市_(1979年—2010年)', '517嗆馬保臺大遊行', '馬英九', '馬英九政府'} {'劉兆玄內閣', '517嗆馬保臺大遊行'}\n",
            "{'機構', '臺北市政府捷運工程局', '臺北市政府', '政府', '1987年', '臺北市'} {'臺北市政府捷運工程局', '臺北市政府教育局', '新北市政府捷運工程局', '桃園市政府捷運工程局', '臺北市政府民政局'}\n",
            "{'鹼石灰'} {'石灰鹼釉', '鹼石灰'}\n",
            "{'射電天文學', '卡爾·央斯基', '無線電', '美國', '天文學', '央斯基', '卡爾'} {'射電天文學', '格羅特·雷伯', '卡爾·央斯基', '央斯基', '央斯基環形山'}\n",
            "{'愛丁堡', '世紀', '大學', '愛丁堡大學', '19世紀'} {'愛丁堡舊城', '愛丁堡大學圖書館', '愛丁堡大學舊學院'}\n",
            "{'公權力', '權力', '死刑', '新生', '犯罪'} {'新生站'}\n",
            "{'SETI@home', '個人電腦', '程序', '用戶_(計算機)'} set()\n",
            "{'絕對君主制', '官僚', '君主制', '凡爾賽宮', '歐洲', '霸權', '法國', '路易十四'} {'朕即國家'}\n",
            "{'蘋果公司', '蘋果_(消歧義)'} set()\n",
            "{'燕山_(消歧義)', '燕山大學', '合併', '學校'} {'趙丁選', '燕山大學科技園'}\n",
            "{'中學', '2000', '麗山', '臺北', '內湖_(臺北市內湖區大字)', '臺北市立麗山高級中學', '內湖區'} {'臺北市內湖區麗山國民小學', '柯明樹', '麗山', '臺北市立麗山高級中學', '鄭顯三'}\n",
            "{'神_(一神教)', '北非', '黎巴嫩', '西亞', '信仰', '阿拉伯語', '一神論', '語言'} {'黎巴嫩', '黎巴嫩阿拉伯語', '阿拉伯語國家和地區列表'}\n",
            "{'馬克思主義', '格魯喬·馬克思', '馬克思主義政治經濟學', '卡爾·馬克思', '資本論', '政治經濟學', '馬克思·多爾穆瓦站', '海因裏希·馬克思'} {'河上肇', '資本論', '女人資本論'}\n",
            "{'盟_(行政區劃)', '傳統', '數', '內蒙古自治區', '東北', '中國東北地區', '人口', '中國', '東蒙'} set()\n",
            "{'行星', '太陽系', '海衛十'} set()\n",
            "{'佛教', '釋迦牟尼'} set()\n",
            "{'愛丁堡大學', '愛丁堡', '世界'} {'愛丁堡大學圖書館'}\n",
            "{'動物', '系統', '爬行動物'} set()\n",
            "{'社會問題', '認識', '王安石', '社會'} set()\n",
            "{'經濟發展', '經濟', '波士頓', '旅行社'} set()\n",
            "{'馬克思主義', '格魯喬·馬克思', '馬克思主義政治經濟學', '卡爾·馬克思', '資本論', '政治經濟學', '馬克思·多爾穆瓦站', '海因裏希·馬克思'} {'河上肇', '馬克思主義政治經濟學', '資本論', '女人資本論'}\n",
            "{'小龍女', '懸崖', '楊過'} set()\n",
            "{'獅', '龍生九子', '文獻', '子', '龍', '中國', '狻猊', '黃鈴馨'} {'狻猊'}\n",
            "{'淡水河', '臺灣河流列表', '臺灣', '淡水_(消歧義)', '河流'} {'淡水紅樹林', '淡水河橋', '淡水河流域橋樑隧道列表', '淡水河'}\n",
            "{'西祖谷山村', '德島縣', '村_(日本)', '行政區劃', '直轄市'} {'西祖谷山村', '新祖谷溫泉', '東祖谷山村'}\n",
            "{'數學', '問題', '最短路問題', '短路'} {'最短路問題'}\n",
            "{'偶像', '美國偶像', '孔慶翔'} {'瑞安·西克雷斯特', '孔慶翔'}\n",
            "{'國家', '罪', '議會', '古'} set()\n",
            "{'人類', '語言', '人類學', '民族學'} {'民族學'}\n",
            "{'偶像', '查理·卓別林', '偶像_(日本)'} {'悉尼·厄爾·卓別林', '小查理·卓別林', '悉尼·約翰·卓別林', '漢娜·卓別林', '摩登時代'}\n",
            "{'摩納哥', '領土', '南部', '面', '法國', '地中海', '法國南部'} set()\n",
            "{'西北', '昭武', '姓', '中國', '昭武九姓', '回族', '維吾爾族'} set()\n",
            "{'市', '古', '航天中心', '鎮江市', '京口區'} {'江蘇省鎮江第一中學', '京口閘遺址', '潤州區', '鎮江古城牆遺址', '京口區'}\n",
            "{'生物', '真核生物', 'MacOS'} {'MacOS版本歷史', 'MacOS'}\n",
            "{'亞當·迪凡', '耶和華', '亞當·列維', '平特爾·亞當', '亞當', '夏娃', '亞當·斯密', '芬妮·亞當'} {'骨細胞'}\n",
            "{'色', '圖書', '波長', '小紅書', '毛主席語錄'} {'小紅書'}\n",
            "{'體育運動', '麻薩諸塞州'} set()\n",
            "{'中華人民共和國', '華南理工大學'} {'華南理工大學食品科學與工程學院', '華南理工大學出版社', '華南理工大學經濟與金融學院', '電子科技大學', '華南理工大學旅遊管理系'}\n",
            "{'中國共產黨', '社會主義初級階段', '鄧小平理論', '社會主義', '中國'} {'社會主義初級階段', '鄧小平理論', '一箇中心、兩個基本點'}\n",
            "{'明朝皇族', '宗室_(清朝)', '清朝', '八大山人', '宗室', '明朝', '輔國中尉', '中尉'} {'輔國中尉', '八大山人'}\n",
            "{'殺菌劑', '殺菌', '環氧乙烷', '物質'} {'環氧乙烷'}\n",
            "{'刺激', '性愉悅', '涅槃', '刺激_(心理學)'} {'刺激', '性愉悅'}\n",
            "{'中國共產黨', '鄧小平', '理論', '鄧小平理論', '社會主義', '中國'} {'鄧小平理論', '習近平新時代中國特色社會主義思想', '四個自信'}\n",
            "{'日本', '京城帝國大學', '帝國大學', '大學', '朝鮮半島'} {'帝國大學', '首爾大學', '京城帝國大學', '金日成綜合大學'}\n",
            "{'史', '二十四史', '宋史', '歷史書', '中國', '丞相', '宋', '元朝'} {'宋史'}\n",
            "{'胸節_(昆蟲)', '身體', '體', '昆蟲', '血管'} set()\n",
            "{'勇度', '漫威', '皮膚', '藍色', '漫畫', '漫威漫畫', '人物'} {'漫威', '勇度'}\n",
            "{'世界', '期貨', '量_(物理)', '期貨交易所', '芝加哥', '美國', '國內生產總值', '期權', '交易所'} {'芝加哥', '芝加哥期貨交易所大樓', '韓國期貨交易所', '交易所', '芝加哥期貨交易所'}\n",
            "{'鐵路局', '中華人民共和國鐵路車站', '新槐站', '中國鐵路上海局集團', '站'} {'新槐站'}\n",
            "{'世界', '量_(物理)', '鳥', '雞', '求和符號'} set()\n",
            "{'北', '六朝', '東晉', '朝代', '琅琊', '晉元帝', '戰爭', '琅邪王'} {'六朝', '東晉'}\n",
            "{'喬瓦尼·多梅尼科·卡西尼', '塞薩爾弗朗索瓦·卡西尼·德·蒂裏', '天文臺', '巴黎天文臺', '亨利·卡西尼', '讓多米尼克·卡西尼', '職業', '卡西尼'} {'喬瓦尼·多梅尼科·卡西尼', '塞薩爾-弗朗索瓦·卡西尼·德·蒂裏', '亨利·卡西尼', '雅克·卡西尼', '卡西尼'}\n",
            "{'造紙術', '人類', '傳播論', '中國', '傳播', '紙'} {'造紙術'}\n",
            "{'微處理器', '單片機', '集成電路'} {'SuperH', '嶋正利', 'Rock微處理器', '單片機', '4位元'}\n",
            "{'指標', '坡度', '汽車', '汽車理論'} {'汽車動力性'}\n",
            "{'軍', '綠林軍', '長安', '王莽', '皇帝', '新朝'} {'王捷', '張卬', '王莽幣', '綠林軍', '新朝行政區劃'}\n",
            "{'公路', '公路服務區', '中山高速公路', '泰安市', '泰安服務區_(臺灣)', '臺灣', '中山', '高速公路'} {'公路服務區', '泰安街道', '泰安休息站', '西湖服務區', '關西服務區'}\n",
            "{'教育局', '臺北市政府', '萬芳_(消歧義)', '臺北市文山區興華國民小學', '臺北市立萬芳高級中學', '小學', '文山區', '臺北市立萬芳醫院', '興華國小', '臺北市'} {'臺北市文山區萬芳國民小學', '臺北市文山區興華國民小學'}\n",
            "{'音樂產業', '竹內瑪莉亞', '歌手', '作品', '1999', '1999年', '創作歌手'} set()\n",
            "{'了不起的蓋茨比', '大亨小傳_(2013年電影)', '弗朗西斯·斯科特·菲茨傑拉德', '薇拉·費茲傑羅', '喬治·費茲傑羅'} {'弗朗西斯·斯科特·菲茨傑拉德', '尼克·卡拉威'}\n",
            "{'對流', '臺北松山機場'} set()\n",
            "{'魏雅欣', '籃球_(電視劇)'} {'魏雅欣', '藤本愛妃'}\n",
            "{'2020', '中部', '中彰投', '苗栗縣', '交通部', '臺灣', '行政院'} {'苗栗縣'}\n",
            "{'電', '電腦性能', '電子', '電子陶瓷', '陶瓷', '材料'} {'陶瓷基複合材料', '陶瓷', '電子陶瓷', '介電陶瓷'}\n",
            "{'粉末', '海洛因'} {'粉末酒精'}\n",
            "{'小說', '威廉·薩默塞特·毛姆', '醫學'} {'情天恨海', '毛姆文學獎', '月亮和六便士'}\n",
            "{'達拉斯', '電子計算器', '德州儀器'} {'TI-89'}\n",
            "{'清朝', '嘉慶皇帝_(電視劇)', '乾隆', '永琮', '嘉慶', '嘉慶帝', '子'} {'永琮'}\n",
            "{'勇度', '漫威', '皮膚', '藍色', '人物'} {'勇度'}\n",
            "{'內畫壺', '工藝美術', '世紀', '技術'} {'內畫壺'}\n",
            "{'青光眼', '心率', '口腔', '心跳過速', '阿托品', '副作用', '瞳孔', '瞳孔放大'} {'阿托品'}\n",
            "{'臺南避病院', '避病院', '醫院', '法定傳染病'} {'臺南避病院'}\n",
            "{'東漢'} set()\n",
            "{'失樂園'} {'青春失樂園'}\n",
            "{'九江市', '省', '市', '九江市_(縣級)', '地級市', '簡稱', '九江_(消歧義)', '江西省'} {'九江市', '九江地區'}\n",
            "{'人類', '昆蟲', '農作物', '蝗蟲'} {'草蜢'}\n",
            "{'秋紅谷廣場', '暴雨', '功能', '洪水', '溫度'} {'秋紅谷廣場'}\n",
            "{'中華人民共和國', '中華民國', '衝突', '地方', '政權', '金門炮戰', '軍事', '戰爭'} {'福建金門地方法院', '金門炮戰', '八二三戰史館'}\n",
            "{'皇帝', '國號', '金朝', '國家'} set()\n",
            "{'亞伯拉罕諸教', '亞伯拉罕', '亞伯拉罕·範海辛', 'F·莫瑞·亞伯拉罕', '亞伯拉罕·路易·佈雷蓋', '斯賓塞·亞伯拉罕', '亞伯拉罕·林肯總統圖書館和博物館', '亞伯拉罕·林肯'} {'有經者', '易卜拉欣', '亞伯拉罕諸教', '亞伯拉罕', '一神論'}\n",
            "{'數', '問題', '導數', '微分方程', '地方'} {'伯努利微分方程', '全微分方程'}\n",
            "{'田橫', '節', '祭海節', '即墨區'} {'田橫五百義士冢', '即墨城牆', '即墨區', '即墨縣'}\n",
            "{'微處理器', '單片機', '集成電路'} {'SuperH', '嶋正利', 'Rock微處理器', '單片機', '4位元'}\n",
            "{'東南', '碟', '日本', '西南', '海盆', '東南部_(越南)', '海', '日本海'} {'酒海紀', '北極海盆', '阿拉伯海盆', '海盆', '日本海'}\n",
            "{'非營利組織', '組織', '個人', '利潤'} {'非營利組織'}\n",
            "{'吸血', '紫質症', '虛構', '生物', '卟啉', '吸血鬼'} {'吸血', '吸血鬼', '吸血毯'}\n",
            "{'若瑟·蘇格拉底', '學生', '對話', '蘇格拉底·布拉濟萊羅·奧利維拉', '作品', '倫理學', '柏拉圖', '蘇格拉底'} {'蘇格拉底'}\n",
            "{'J·D·德魯', '綽號', '美國', '大學', '德魯大學'} {'美國各州暱稱列表', '德魯大學'}\n",
            "{'長頸鹿'} {'前90年代', '90年代'}\n",
            "{'美國', '羅斯福', '富蘭克林', '美國總統', '富蘭克林·德拉諾·羅斯福', '總統'} {'羅斯福家族', '埃莉諾·羅斯福', '富蘭克林·德拉諾·羅斯福總統圖書館暨博物館', '羅斯福總統', '小富蘭克林·德拉諾·羅斯福'}\n",
            "{'國家', '罪', '議會', '古'} set()\n",
            "{'天衛三', '撞擊坑', '面_(幾何)'} {'天衛三'}\n",
            "{'大衛·赫伯特·勞倫斯'} {'長野健'}\n",
            "{'海濱站', '地鐵', '瓦西里·貝科夫號巡邏艦', '瓦西里島', '聖彼得堡', '便利商店', '聖彼得堡地鐵'} {'涅瓦-瓦西里島線', '瓦西里島站'}\n",
            "{'船', '乘客', '遊輪', '渡輪', '客輪'} {'珠海高速客輪', '客輪', '遊輪'}\n",
            "{'張飛', '關羽', '萬人敵', '三國演義'} {'五虎將', '演義'}\n",
            "{'天衛一', '質量', '天衛二'} {'天衛二'}\n",
            "{'臺南市東區復興國民小學', '臺灣國中教育', '東區_(臺南市)', '臺南市', '臺南市_(省轄市)'} {'臺南市東區裕文國民小學', '復興國小', '臺南市東區復興國民小學', '臺南市東區崇明國民小學', '臺南市第四期市地重劃區'}\n",
            "{'鄭氏鸞', '兒子'} set()\n",
            "{'液體', '物體', '目標', '武器', '槍械'} set()\n",
            "{'馬來西亞', '榴槤', '味覺', '國家', '氣味', '東南亞'} {'榴槤'}\n",
            "{'教會', '聖保羅書院', '書院', '男性'} {'史超域', '後舍男生'}\n",
            "{'歷史_(希羅多德)', '布魯塞爾', '地標'} set()\n",
            "{'精', '蜘蛛俠百戰曱甴精', '蜘蛛人', '菲律賓', '電影', '主人公', '蜘蛛', '蟑螂'} {'蜘蛛俠百戰曱甴精'}\n",
            "{'臺灣桃園國際機場', '臺灣', '今天', '跑道'} {'最長機場跑道列表', '臺灣桃園國際機場跑滑道系統', '桃園機場保全'}\n",
            "{'目標'} {'非營利組織', '.org', '臺灣NPO資源列表'}\n",
            "{'季蒂昂的芝諾', '古希臘', '芝諾', '基提翁', '哈芝芝·諾', '希臘', '斯多葛主義', '蘇格拉底', '前蘇格拉底哲學'} {'季蒂昂的芝諾', '克里安西斯', '芝諾', '基提翁', '埃利亞的芝諾'}\n",
            "{'古希臘', '古希臘文學', '文學', '史詩', '荷馬史詩', '希臘', '希臘文學', '荷馬'} {'荷馬史詩'}\n",
            "{'酮', '脂類', '分子', '戊二烯', '公寓', '生物', '異戊二烯'} {'脂類'}\n",
            "{'大足石刻', '刻', '南', '永徽', '石窟', '中國', '唐朝末年', '大足'} {'大足石刻'}\n",
            "{'家庭', '阿希爾克洛德·德彪西'} set()\n",
            "{'梁_(南朝)', '侯景之亂', '亂', '國庫', '宗教', '老年', '侯景', '梁武帝'} set()\n",
            "{'恆星', '角宿', '星等', '角_(星官)', '室女座', '角宿一', '視星等', '天空'} {'角宿一', '室女座'}\n",
            "{'極光', '經度', '磁暴'} {'極光', '1989年3月磁暴', '磁暴'}\n",
            "{'臺北', '剛果民主共和國', '首都'} {'剛果民主共和國國家足球隊', '剛果民主共和國華人', '2019年剛果民主共和國參議院選舉', '剛果民主共和國行政區劃', '剛果民主共和國地理'}\n",
            "{'榮譽', '王國', '英國', '英國授勳及嘉獎制度', '個體', '服務', '本土', '制度'} {'爵士', '英國授勳及嘉獎制度'}\n",
            "{'臺北市', '學校', '臺北市私立新民國民小學'} {'臺北市國語實驗國民小學', '臺北市中山區長安國民小學', '臺北市國民小學列表', '臺北市私立新民國民小學'}\n",
            "{'炮兵', '兵種', '榴彈炮'} {'280毫米榴彈炮', '榴彈炮', 'M101榴彈炮', 'M-68榴彈炮'}\n",
            "{'宋高宗', '北宋', '父親', '南宋', '宋徽宗', '皇帝'} {'宋欽宗', '明達皇后', '宋朝君主列表', '宋高宗'}\n",
            "{'島嶼國家', '共和制', '亞洲', '南歐', '國家', '馬耳他'} {'南歐黑松', '希臘王國', '議會共和制', '共和國列表'}\n",
            "{'人物_(美國雜誌)', '啓示', '蚩尤_(消歧義)', '漫畫', '蚩尤'} {'九黎', '帝榆罔', '涿鹿之戰'}\n",
            "{'李祖德', '臺北醫學大學', '臺北', '經營者', '牙醫學系'} {'李祖德'}\n",
            "{'秋紅谷廣場', '功能', '暴雨'} {'秋紅谷廣場'}\n",
            "{'文字', '石器時代_(遊戲)', '人類', '石器時代', '石器', '歷史'} {'石器', '舊石器時代', '打製石器'}\n",
            "{'震盪波蠕蟲', '小時', '少年', '歐洲'} {'震盪波蠕蟲'}\n",
            "{'喬治·卡特萊特·馬歇爾', '美國陸軍參謀長', '美國', '美國陸軍', '陸軍參謀長_(印度)', '第一次世界大戰', '參謀長', '世界大戰'} {'羅斯福家族', '喬治·卡特萊特·馬歇爾', '小富蘭克林·德拉諾·羅斯福'}\n",
            "{'制度', '隋朝'} set()\n",
            "{'印度', '司法機關', '北阿坎德邦', '奈尼塔爾'} {'奈尼塔爾總督府', '丹德拉', '奈尼塔爾', '北阿坎德邦行政區劃'}\n",
            "{'狹義相對論', '光速', '相對論', '速度'} {'狹義相對論入門', '光速', '狹義相對論發現史', '雙重狹義相對論', '狹義相對論'}\n",
            "{'馬六甲_(消歧義)', '地區', '馬六甲海峽', '現在', '海峽'} set()\n",
            "{'俄羅斯', '伏爾加湖', '流域', '國'} {'伏爾加湖'}\n",
            "{'史東', '電影導演', '奧利華·史東', '美國', '肯尼迪', '電影', '美國電影', '美國政治'} set()\n",
            "{'柯伊伯帶', '彗星', '傑拉德·柯伊伯'} {'柯伊伯隕石坑', '傑拉德·柯伊伯獎'}\n",
            "{'加利福尼亞大學洛杉磯分校', '蘇菲亞·柯波拉', '學生', '加利福尼亞大學'} {'加州大學洛杉磯分校棕熊隊', '海港–加州大學洛杉磯分校醫學中心'}\n",
            "{'平均數', '洋', '北冰洋', '世界', '世界洋', '重量'} {'弗拉姆海峽', '北冰洋'}\n",
            "{'李賦寧', '中國'} {'李賦都'}\n",
            "{'死者能舞', '英國', '杭州駐防城'} {'4AD', 'DCD', 'XL唱片'}\n",
            "{'納米比亞'} {'納米比亞總統', '中國駐納米比亞大使列表', '納米比亞駐外機構列表', '納米比亞，勇氣之地'}\n",
            "{'畫家', '表現主義'} set()\n",
            "{'中國共產黨', '中華人民共和國元帥', '軍銜', '中華人民共和國', '元帥', '羅榮桓'} {'羅榮桓', '中華人民共和國大元帥'}\n",
            "{'地形', '撞擊坑', '面_(幾何)', '近地天體', '天衛四'} {'哈姆雷特撞擊坑', '天衛四'}\n",
            "{'足球', '比爾森_(消歧義)', '捷克足球甲級聯賽', '盧卡斯·赫賈', '捷克', '捷克國家足球隊', '比爾森勝利足球俱樂部', '足球俱樂部'} {'盧卡斯·赫賈', '拉迪姆·雷茲尼克', '托馬斯·霍拉瓦', '大衛·林貝爾斯基', '揚·克利門特'}\n",
            "{'哈爾科夫', '布利茲紐基', '甘尼夫卡_(諾索夫卡區)', '哈爾科夫州', '布利茲紐基區', '烏克蘭'} {'布利茲紐基區', '甘尼夫卡-捷爾尼夫西卡', '布利茲紐基', '哈爾科夫省'}\n",
            "{'乙酰基', '殼', '昆蟲', '氨基葡萄糖', '體育運動', '糖胺'} {'N-乙酰葡糖胺'}\n",
            "{'船', '過去', '北小島', '波濤', '東海', '南小島', '南', '小島_(臺東區)', '漁民'} {'橄欖門', '北小島', '南小島'}\n",
            "{'博士', '博士後', '化學', '英國', '亞洲', '有機化學', '沈宗瀛', '學位'} set()\n",
            "{'文學', '馬雅各', '白話字', '白話', '臺灣'} set()\n",
            "{'紅葡萄酒', '傳說', '非婚生子女', '吟遊詩人', '加拉哈德', '尤瑟王', '耶穌'} set()\n",
            "{'湯姆·班克斯', '湯姆·克魯斯', '湯姆·漢克斯', '費用', '獎勵'} set()\n",
            "{'克里斯·潘恩', '法語', '托馬斯·潘恩', '迦勒·潘恩', '羅伯特·崔特·潘恩', '潘·巴奇利', '潘恩'} set()\n",
            "{'熱點_(地質學)', '生物', '生物多樣性', '馬達加斯加'} set()\n",
            "{'柴犬', '伊萬·巴甫洛夫', '制約', '古典制約'} {'古典制約', '制約'}\n",
            "{'同性戀', '艾根訴加拿大案', '奧林·艾根', '加拿大', '人民', '案', '曼弗雷德·艾根', '加拿大人'} set()\n",
            "{'楊梅區', '桃園市', '楊梅_(大字)', '南部', '中華民國', '臺灣', '臺灣客家語'} set()\n",
            "{'紅葡萄酒', '亞瑟王傳說', '吟遊詩人', '加拉哈德', '亞瑟王', '耶穌'} set()\n",
            "{'柯伊伯帶', '蘋果', '傑拉德·柯伊伯', '衛星', '太陽系'} set()\n",
            "{'漫畫家', '灰姑娘', '夏菜', '廣島縣', '川瀨夏菜'} {'藤澤志月', '矢神椎野', '現代灰姑娘'}\n",
            "{'影片', '榮譽', '獅', '金獅獎', '冠軍', '1949年', '電影節', '獎勵'} {'威尼斯影展評審團大獎', '金獅獎', '第57屆威尼斯影展', '芝加哥影展', '第15屆威尼斯影展'}\n",
            "{'三山', '世界', '臺灣三山善社', '臺灣', '明治', '山'} {'臺灣三山善社', '方幼祥'}\n",
            "{'影片', '榮譽', '金獅獎', '冠軍', '威尼斯', '電影節', '威尼斯電影節'} {'威尼斯影展評審團大獎', '金獅獎', '芝加哥影展', '第10屆威尼斯影展', '第15屆威尼斯影展'}\n",
            "{'亂世佳人', '費雯·麗'} {'AFI百年百大愛情電影', 'AFI百年百大電影臺詞', 'AFI百年系列', 'AFI百年百大電影', 'AFI百年百大喜劇電影'}\n",
            "{'詹雯婷', '男性', '陳建寧', '夜市', '女性', '阿沁', '樂團'} {'F.I.R.飛兒樂團'}\n",
            "{'氫', '分子', '氫氣'} set()\n",
            "{'音樂', '林肯_(消歧義)', '美國', '演講', '美國總統', '美國曆史', '亞伯拉罕·林肯', '總統'} {'華盛頓生日', '亞伯拉罕·林肯', '蓋茲堡演說', '羅伯特·託德·林肯'}\n",
            "{'民進', '國號', '黨', '謝長廷', '民主進步黨'} {'謝長廷'}\n",
            "{'馬克思主義', '格魯喬·馬克思', '馬克思主義政治經濟學', '卡爾·馬克思', '資本論', '政治經濟學', '馬克思·多爾穆瓦站', '海因裏希·馬克思'} {'河上肇', '馬克思主義政治經濟學', '資本論', '女人資本論'}\n",
            "{'金馬獎', '劇情片', '傳奇_(小說)', '電影', '侯孝賢', '獎勵'} {'第27屆金馬獎', '刺客聶隱娘', '金馬獎最佳劇情長片', '金馬獎最佳劇情短片', '侯孝賢'}\n",
            "{'毒魚豆', '魚', '原住民', '西'} {'毒魚豆'}\n",
            "{'克里斯·約翰遜', '肖恩·約翰遜', '斯蒂夫·約翰遜', '美國', '塞繆爾·約翰遜', '越南戰爭', '林登·約翰遜', '鮑里斯·約翰遜'} set()\n",
            "{'標準舞', '女性'} set()\n",
            "{'埃迪·康托爾', '數學', '話語', '格奧爾格·康托爾'} set()\n",
            "{'疾病', '病理學', '患者'} {'病理學'}\n",
            "{'怪物', '犀渠', '中國', '犀皮', '盾'} {'犀渠'}\n",
            "{'村長', '練馬師', '松柏塱', '香港', '圍村', '簡炳墀', '現在', '本地人'} {'松柏塱'}\n",
            "{'馬克思主義', '格魯喬·馬克思', '馬克思主義政治經濟學', '卡爾·馬克思', '資本論', '政治經濟學', '馬克思·多爾穆瓦站', '海因裏希·馬克思'} {'河上肇', '資本論', '女人資本論'}\n",
            "{'馬克思主義', '格魯喬·馬克思', '馬克思主義政治經濟學', '卡爾·馬克思', '資本論', '政治經濟學', '馬克思·多爾穆瓦站', '海因裏希·馬克思'} {'河上肇', '資本論', '女人資本論'}\n",
            "{'女性', '焦慮'} set()\n",
            "{'貝雷特', '貝塔·雷·比爾', '愛'} set()\n",
            "{'德州儀器', '晶體管', '世界', '德州', '年代'} {'德州儀器'}\n",
            "{'家庭', '阿希爾克洛德·德彪西'} set()\n",
            "{'素食主義', '茶葉蛋', '茶'} {'茶葉蛋'}\n",
            "{'宋高宗', '宋朝', '北宋', '兒子', '南宋', '宋徽宗', '皇帝'} {'宋欽宗', '南宋', '宋朝君主列表', '宋高宗'}\n",
            "{'學生', '中學', '2000', '麗山', '臺北', '內湖_(臺北市內湖區大字)', '臺北市立麗山高級中學', '內湖區'} {'臺北市內湖區麗山國民小學', '柯明樹', '麗山', '臺北市立麗山高級中學', '鄭顯三'}\n",
            "{'松前城', '備後國', '地段', '美國軍隊', '廣島縣', '福山市', '福山城_(備後國)'} {'備後國'}\n",
            "{'王實甫', '西廂記'} {'王實甫', '牆頭馬上', '西廂記', '吟風閣雜劇', '紅娘'}\n",
            "{'弗拉基米爾·普京', '羅曼·伊戈列維奇·普京'} {'柳德米拉·普京娜', '每天五個蘋果，普京遠離我'}\n",
            "{'葡萄', '簇', '果實', '一起_(政黨聯盟)'} {'葡萄', '山葡萄'}\n",
            "{'維京人', '冰島語', '分支', '夏爾·古諾', '維京時代', '古諾斯語', '語言', '冰島'} {'冰島語', '古諾斯語'}\n",
            "{'馬克思主義', '格魯喬·馬克思', '馬克思主義政治經濟學', '卡爾·馬克思', '資本論', '政治經濟學', '馬克思·多爾穆瓦站', '海因裏希·馬克思'} {'河上肇', '資本論', '女人資本論'}\n",
            "{'公路', '鐵路', '臺灣交通', '臺灣', '電氣化鐵路', '發展', '高速公路', '交通'} set()\n",
            "{'末', '城市規劃'} set()\n",
            "{'宗教', '宗教哲學', '哲學', '信仰'} {'宗教哲學', '無宗教', '宗教信仰哲學'}\n",
            "{'車站', '伊斯法罕', '城市軌道交通', '伊斯法罕地鐵'} {'伊斯法罕省', '馬鞍山城市軌道交通列表', '伊斯法罕地鐵', '伊斯法罕佐帕罕籃球俱樂部', '伊斯法罕佐布阿漢足球俱樂部'}\n",
            "{'電荷', '電', '反粒子', '夸克'} {'粲夸克', 'Σ粒子', '下夸克', '上夸克', '頂夸克'}\n",
            "{'煎餅餜子', '煎餅_(日本)', '天津市'} {'煎餅餜子'}\n",
            "{'晶體', '化合價', '硫'} set()\n",
            "{'神仙·老師·狗', '教師', '阿托品'} {'阿托品'}\n",
            "{'葉巒'} {'葉巒'}\n",
            "{'語言', '國家', '諾維亞語'} {'諾維亞語'}\n",
            "{'禮拜_(伊斯蘭教)', '星期六', '禮拜'} set()\n",
            "{'初學者', '程序員', '領域', '程序設計', '專業'} {'程序設計實踐', '程序設計', '圍棋術語', '程序員'}\n",
            "{'餐廳', '傷寒', '腸道沙門氏菌', '沃斯科縣', '達爾·斯蒂芬斯', '1984年羅傑尼希教生物恐怖攻擊', '奧修', '沙門氏菌屬'} {'1984年羅傑尼希教生物恐怖攻擊'}\n",
            "{'馬克思主義', '格魯喬·馬克思', '馬克思主義政治經濟學', '卡爾·馬克思', '資本論', '政治經濟學', '馬克思·多爾穆瓦站', '海因裏希·馬克思'} {'河上肇', '馬克思主義政治經濟學', '資本論', '女人資本論'}\n",
            "{'阿爾及利亞', '剛果民主共和國', '非洲', '人民共和國', '陸地'} {'剛果民主共和國', '中國駐阿爾及利亞大使列表'}\n",
            "{'死者能舞', '音樂專輯', '1990年'} set()\n",
            "{'風俗', '文化', '撒丁島'} set()\n",
            "{'教育局', '臺北市政府', '萬芳_(消歧義)', '臺北市文山區興華國民小學', '臺北市立萬芳高級中學', '小學', '文山區', '臺北市立萬芳醫院', '興華國小', '臺北市'} {'臺北市文山區萬芳國民小學', '臺北市私立東山高級中學', '臺北市政府教育局', '臺北市文山區興華國民小學'}\n",
            "{'液體', '比例', '硫酸'} set()\n",
            "{'廖文毅', '一生', '民主運動_(法國)'} {'臺灣共和國臨時政府'}\n",
            "{'小說', '名'} {'羅伯特·本頓'}\n",
            "{'科技大學_(臺灣學制)', '大安區_(臺北市)', '大學', '大安_(臺北市)', '國立臺灣科技大學研揚大樓', '國立臺灣科技大學'} {'國立臺灣科技大學管理研究所', '國立臺灣科技大學校史室', '國立臺灣科技大學研揚大樓'}\n",
            "{'天文單位', '彗星', '大小', '地球', '彗尾'} set()\n",
            "{'若瑟·蘇格拉底', '學生', '對話', '蘇格拉底·布拉濟萊羅·奧利維拉', '作品', '柏拉圖', '蘇格拉底'} {'柏拉圖', '蘇格拉底'}\n",
            "{'20世紀', '世紀', '目標', '均勻碼理事會'} {'通用產品代碼', '均勻碼理事會'}\n",
            "{'臺北市私立協和祐德高級中學', '中學', '臺灣國中教育', '高職', '2015年', '臺北市'} {'臺北市私立協和祐德高級中學'}\n",
            "{'身體', '透明', '神農', '內臟'} set()\n",
            "{'紫微垣', '皇后', '故宮'} {'紫微垣'}\n",
            "{'體育場', '遠東集團', '組織創始人', '徐有庠', '遠東集團_(臺灣)'} {'徐旭東', '遠東集團', '徐有庠'}\n",
            "{'歌手', '蔡卓妍', '加拿大', '香港', '西端區_(溫哥華)', '歌手·當打之年'} set()\n",
            "{'姚明', '凱蒂·史密斯', '今天', '奈史密斯籃球名人紀念堂', '威爾·史密斯', '考·奈史密斯', '詹姆斯·奈史密斯', 'J·R·史密斯'} {'姚明', '大衛·斯托克頓', '奈史密斯籃球名人紀念堂'}\n",
            "{'處理器', '資源_(計算機科學)', 'SETI@home'} {'搜尋地外文明計劃', 'SETI@home'}\n",
            "{'哈爾科夫', '基留希', '瑞典', '聚落', '哈爾科夫州'} {'基留希'}\n",
            "{'內畫壺', '工藝美術', '世紀', '技術'} {'內畫壺'}\n",
            "{'衰變', '夸克', '質量', '上夸克', '下夸克', '過程', '粒子', '粒子衰變'} {'Λ粒子', 'Σ粒子', '上夸克', '下夸克', '頂夸克'}\n",
            "{'詹雯婷', '男性', '陳建寧', '女性', '阿沁', '樂團'} {'F.I.R.飛兒樂團'}\n",
            "{'春秋', '穀梁傳', '春秋_(書)'} {'春秋三傳', '穀梁傳', '公羊傳'}\n",
            "{'戰爭與和平', '拿破崙戰爭', '拿破崙_(消歧義)'} {'博羅金諾戰役'}\n",
            "{'臺北', '臺北市立建國高級中學', '明治'} {'臺北州立臺北第一中學校'}\n",
            "{'臺中市西大墩婦女中心', '臺中市', '臺南市', '女性'} {'臺中市婦女福利服務中心', '臺中市西大墩婦女中心'}\n",
            "{'一生', '皮特·烏斯蒂諾夫', '作品'} set()\n",
            "{'情書_(1997年電影)', '童話', '西方', 'Fairytale', 'FAIRYTALE'} {'童話'}\n",
            "{'動漫', '臺灣大學卡通漫畫研究社', '臺灣', '國立臺灣大學'} {'臺灣大學卡通漫畫研究社'}\n",
            "{'阿姆斯特丹'} {'阿姆斯特丹地鐵'}\n",
            "{'颱風', '食物'} {'食物安全中心'}\n",
            "{'絕對君主制', '官僚', '君主制', '凡爾賽宮', '權力', '法國大革命', '法國', '路易十四', '凡爾賽'} {'朕即國家'}\n",
            "{'土衛十', '神話', '政府', '土星的衛星', '希臘神話', '希臘', '女神', '海'} set()\n",
            "{'楊小凱', '古典經濟學', '分析', '理論', '教授', '哈佛大學', '經濟學'} {'楊小凱'}\n",
            "{'馬克思主義', '格魯喬·馬克思', '馬克思主義政治經濟學', '卡爾·馬克思', '資本論', '政治經濟學', '馬克思·多爾穆瓦站', '海因裏希·馬克思'} {'河上肇', '馬克思主義政治經濟學', '資本論', '女人資本論'}\n",
            "{'普利策獎'} {'普利策歷史獎'}\n",
            "{'外省人', '粵菜', '菜系', '廣東省', '貿易', '興盛'} set()\n",
            "{'專屬經濟區', '美國'} {'公海公約', '國際海洋法法庭', '專屬經濟區', '公海', '聯合國海洋法公約'}\n",
            "{'少女蝶', '3T_(香港音樂組合)'} {'鄭希怡'}\n",
            "{'北', '三國', '領土', '人口', '曹', '魏', '政權', '曹魏'} {'中國疆域史', '曹魏'}\n",
            "{'元培', '蔡元培', '庶吉士', '中華民國', '翰林院', '總統'} {'庶吉士'}\n",
            "{'古蹟', '世界', '寒武紀_(消歧義)', '寒武紀', '寒武紀大爆發'} {'寒武紀大爆發', '埃迪卡拉紀末期滅絕事件'}\n",
            "{'藝術品', '神話', '證明', '希臘神話', '考古學', '希臘'} {'希臘神話生物列表', '希臘神話'}\n",
            "{'手工藝', '工藝', '作品'} {'手工藝'}\n",
            "{'山脈', '漢科科柳山', '安地斯山脈', '玻利維亞'} {'皮爾瓦尼山', '漢科科柳山'}\n",
            "{'二十四小時_(綜藝節目)', '便利商店', '小時', '立夏'} {'每天愛你二十四小時', '福客多便利商店'}\n",
            "{'神話', '路易·德·奧爾良_(1703年—1752年)', '記錄', '君主', '國家', '法國', '路易十四'} set()\n",
            "{'嘉南', '嘉南平原', '今天', '臺南縣', '平原', '臺南市'} {'嘉南', '嘉南平原', '臺南縣', '高雄平原', '屏東平原'}\n",
            "{'哺乳動物', '新生代', '植物', '被子植物'} {'新生代'}\n",
            "{'文化中心', '賀龍體育文化中心', '行政區劃', '長沙市', '賀龍'} {'賀龍體育文化中心'}\n",
            "{'計算機科學', '圖像壓縮技術', '圖像壓縮'} {'圖像壓縮', '數據壓縮', '圖像壓縮技術', '有損數據壓縮', '紋理壓縮'}\n",
            "{'洲', '克莉斯汀·史考特·湯瑪斯', '史考特·朗恩', '西恩·威廉·史考特', '雷利·史考特', '麥可·史考特', '南極洲', '森林'} set()\n",
            "{'湯姆·班克斯', '奧斯卡最佳男配角獎', '木蘭花_(電視劇)', '湯姆·克魯斯', '湯姆·漢克斯', '奧斯卡', '配角'} {'征服情海', '安東尼·奎恩'}\n",
            "{'總督府', '學校', '臺北', '日治時期', '臺灣總督府臺北高等學校', '臺灣', '臺灣總督府', '島嶼'} {'臺灣總督府評議會', '臺灣總督府高等商業學校', '臺灣總督府臺北高等學校', '臺灣總督府民政部'}\n",
            "{'邁爾康·福布斯', '成龍', '伯蒂·查爾斯·福布斯', '2006年', '福布斯'} {'成龍'}\n",
            "{'胸節_(昆蟲)', '身體', '體', '頭胸部', '昆蟲', '特徵', '腳', '處_(佛教)'} set()\n",
            "{'北京理工大學'} {'武漢大學水資源與水電工程科學國家重點實驗室', '華北理工大學', '青島市科研院所列表'}\n",
            "{'殖民主義', '領土'} set()\n",
            "{'洲', '富士', '身', '北美洲', '血親', '貴之富士三造'} set()\n",
            "{'埃爾熱', '丁丁_(丁丁歷險記)', '丁丁歷險記', '漫畫'} {'卡爾庫魯斯案件', '丁丁與字母藝術', '丁丁與流浪漢', '丁丁在西藏', '丁丁在蘇聯'}\n",
            "{'液體', '面_(幾何)', '木衛二', '物質', '太陽系'} {'木衛二', '木衛二表面特徵列表'}\n",
            "{'交通號誌', '列夫·托洛茨基', '蘇聯'} set()\n",
            "{'身分標識方式', '臺北市議員列表', '黨', '臺北市_(省轄市)', '謝長廷', '民意代表', '民國', '臺北市'} set()\n",
            "{'于化虎', '虎'} set()\n",
            "{'淋巴', '淋巴結腫大', '狀態', '淋巴結'} {'淋巴結腫大', '前哨淋巴結', '淋巴系統'}\n",
            "{'行星', '軌道_(力學)', '小行星', '日心軌道'} set()\n",
            "{'動物', '陸地', '脊柱', '棘皮動物'} {'棘皮動物', '脊柱外科', '舒爾曼病', '無脊椎動物'}\n",
            "{'伊斯蘭教', '黎巴嫩', '北非', '信仰', '阿拉伯語', '語言'} {'黎巴嫩', '阿拉伯世界', '黎巴嫩阿拉伯語', '阿拉伯語國家和地區列表'}\n",
            "{'SETI@home'} {'Astropulse', '搜尋地外文明計劃', 'SETI@home', 'SHGb02+14a無線電信號'}\n",
            "{'杉崎由綺琉', '天使怪盜', '角川書店', '漫畫雜誌', '漫畫', '書店'} {'杉崎由綺琉', '天使怪盜', '月刊Asuka', '封魔少年焰&陣', '炸彈小新娘'}\n",
            "{'自殺', '有期徒刑', '1998年', '波爾布特', '因果關係', '政府', '無期徒刑', '宋成'} set()\n",
            "{'變溫動物', '爬行動物', '熱量', '溫', '冷血', '動物', '冷血動物_(歌曲)'} {'爬行動物', '恆溫動物', '冷血'}\n",
            "{'吉林省', '中國共產黨', '教育部', '中華人民共和國', '大學', '吉林大學', '中華人民共和國教育', '中華人民共和國教育部'} {'吉林大學', '中華人民共和國教育部直屬高等學校列表', '吉林大學西區'}\n",
            "{'蛛形綱', '節肢動物', '蟲', '昆蟲'} {'蛛形綱', '無鞭目', '地中海蚰蜒'}\n",
            "{'美國', '劇場藝術', '電影', '先驅', '化石森林'} {'罪惡鎖鏈', '賊中之王', '偉大的奧馬利', '直搗黃龍', '化石森林'}\n",
            "{'黎曼ζ函數', 'Ζ', '函數', '伯恩哈德·黎曼', '統計學'} {'黎曼ζ函數', '黎曼ξ函數', '數理統計學', '生物統計學', '赫爾維茨ζ函數'}\n",
            "{'大理寺', '臣', '範式', '古代史', '中國', '狄仁傑', '發展'} {'狄仁傑'}\n",
            "{'鹿兒島縣', '少將', '將軍', '兒玉利國', '牡丹社', '牡丹', '明治'} {'兒玉利國'}\n",
            "{'韓國國會議長', '議長', '大韓民國', '高建_(韓國)', '韓國國會'} {'韓國國會議長', '樸炳錫', '金振杓', '韓國國會'}\n",
            "{'雷', '效用', '妙義山', '江戶時代', '江戶'} set()\n",
            "{'太平洋', '城市', '墨西哥', '瓜達拉哈拉', '西班牙', '瓜達拉哈拉_(墨西哥)', '名稱'} {'瓜達拉哈拉', '瓜達拉哈拉主教座堂', '阿特拉斯足球俱樂部', '瓜達拉哈拉新村', '瓜達拉哈拉體育會'}\n",
            "{'自體受體', '受體_(生物化學)', '突觸', '神經遞質'} {'神經肌肉接點', '突觸後電位', '再攝取', '自體受體', '突觸可塑性'}\n",
            "set() set()\n",
            "{'音階'} set()\n",
            "{'昆蟲', '體育運動', '殼'} {'N-乙酰胞壁酸'}\n",
            "{'對日民間索賠', '器具', '類型', '創傷', '第二次世界大戰', '經濟補償'} {'對日民間索賠'}\n",
            "{'表皮', '花椒'} {'屏東花椒', '簕欓花椒', '翼柄花椒', '嶺南花椒', '異葉花椒'}\n",
            "{'路易斯·伊納西奧·盧拉·達席爾瓦', '巴西', '總統', '巴西總統'} {'路易斯·伊納西奧·盧拉·達席爾瓦', '賀·維埃加斯'}\n",
            "{'佛教', '釋迦牟尼', '土地', '世界'} set()\n",
            "{'埃迪·康托爾', '格奧爾格·康托爾', '數學家', '理論'} {'康托爾環形山', '格奧爾格·康托爾', '康托爾函數'}\n",
            "{'佛教', '上座部佛教', '阿羅漢', '上座_(佛教)', '羅漢_(消歧義)', '上座部'} {'斯里蘭卡佛教', '善阿羅漢', '上座部'}\n",
            "{'電子排布', '語態', '元素週期表', '物', '電子', '期待', '位置', '鐒'} {'D區元素', '鐒'}\n",
            "{'墨西哥', '海', '瓜達拉哈拉_(墨西哥)'} {'瓜達拉哈拉新村', '瓜達拉哈拉體育會'}\n",
            "{'杜鵑科', '鳥', '杜鵑'} {'杜鵑科', '鴉鵑屬'}\n",
            "{'美國', '都市圈', '大波士頓', '波士頓'} {'大波士頓'}\n",
            "{'劑量', '小時', '注射', '藥物', '中毒', '阿托品', '靜脈注射'} {'阿托品'}\n",
            "{'世界百大外來入侵種', '鯊魚', '生命', '世界', '鳥', '犬', '入侵物種'} {'貓'}\n",
            "{'北京市', '深化國防和軍隊改革', '2016', '中國人民解放軍南京軍區', '大軍區', '中國人民解放軍', '軍區'} {'中國人民解放軍南京軍區', '中央軍委深化國防和軍隊改革領導小組', '中國人民解放軍瀋陽軍區', '中國人民解放軍濟南軍區', '中國人民解放軍廣州軍區'}\n",
            "{'百靈屬', '雀百靈屬', '百靈科', '分支'} {'百靈屬', '林百靈', '短尾百靈', '短趾百靈屬'}\n",
            "{'國家安全會議', '弗拉基米爾·普京', '主席', '國家安全委員會_(蘇聯)', '蘇聯', '羅曼·伊戈列維奇·普京'} set()\n",
            "{'國際機場', '香港國際機場'} {'機場稅'}\n",
            "{'洋蔥', '波斯語', '植物', '維吾爾語', '雙子葉植物', '子葉'} {'洋蔥'}\n",
            "{'三立國際臺', '三立電視', '杭州駐防城', '國際臺'} {'三立國際臺', '三立戲劇臺', '三立都會臺', '三立綜合臺', '三立iNEWS'}\n",
            "{'皇帝', '中國皇帝', '軍', '綠林軍', '王莽', '中國', '長安'} {'王莽街道', '王捷', '綠林軍', '王莽鄉'}\n",
            "{'木衛三', '衛', '木衛三十九', '赤道', '木星的衛星', '木星', '翻轉角', '木材'} {'木衛五十', '木衛五十二', '木衛三十九'}\n",
            "{'盟_(行政區劃)', '行政區_(紐約市)', '內蒙古自治區', '中華人民共和國', '行政區劃', '中華人民共和國曆史', '地級行政區'} {'中華人民共和國行政區劃', '縣級行政區', '地級市'}\n",
            "{'萬華區', '捷運車站', '西門站_(臺北捷運)', '西門站', '捷運', '中正區_(臺北市)'} {'西門地下街', '臺電大樓站', '臺北市萬華區新和國民小學'}\n",
            "{'馬克思主義', '格魯喬·馬克思', '馬克思主義政治經濟學', '卡爾·馬克思', '資本論', '政治經濟學', '馬克思·多爾穆瓦站', '海因裏希·馬克思'} {'河上肇', '馬克思主義政治經濟學', '資本論', '女人資本論'}\n",
            "{'邁爾康·福布斯', '伯蒂·查爾斯·福布斯', '成龍', '福布斯'} {'福布斯中國富豪榜'}\n",
            "{'遠東集團', '學校'} {'遠東集團'}\n",
            "{'哈爾科夫', '布利茲紐基', '甘尼夫卡_(諾索夫卡區)', '聚落', '哈爾科夫州', '布利茲紐基區', '烏克蘭'} {'布利茲紐基區', '甘尼夫卡-捷爾尼夫西卡', '布利茲紐基', '哈爾科夫省'}\n",
            "{'格', '拜耳', '字母', '星座', '希臘字母', '希臘', '拉丁語', '拜耳命名法'} {'拜耳命名法'}\n",
            "{'數據科學家', '疾病', '機體', '科學家_(歌曲)'} {'病理學'}\n",
            "{'美國風情畫', '劇本', '弗朗西斯·科波拉'} {'李察·德雷福斯', '美國風情畫'}\n",
            "{'中學', '僑民', '臺北市私立道明外僑學校', '臺北市'} {'臺北市私立東山高級中學', '臺北市私立道明外僑學校'}\n",
            "{'三立國際臺', '三立電視', '杭州駐防城', '國際臺'} {'三立國際臺', '三立臺灣台', '三立戲劇臺', '三立都會臺', '三立綜合臺'}\n",
            "{'腎功能衰竭', '健康', '腎_(臟腑)', '腎功能', '尤里·安德羅波夫'} {'尤里·安德羅波夫'}\n",
            "{'產業', '世紀', '科隆', '20世紀', '第三產業'} set()\n",
            "{'專屬經濟區', '條約', '美國', '國際公約'} {'國際海洋法法庭', '專屬經濟區', '國際海底管理局', '公海', '聯合國海洋法公約'}\n",
            "{'領域', '專業人士', '程序員', '專業'} {'程序員', '專業協會'}\n",
            "{'神話', '形象', '木衛十二', '希臘神話', '名稱', '希臘', '女神'} {'瓦爾迪瓦紡錘魷'}\n",
            "{'英國', '英國皇家徽章', '紋章'} set()\n",
            "{'單位', '核心家庭', '核心', '人類', '社會', '家庭'} {'核心家庭', '家庭', '美國家庭結構'}\n",
            "{'成龍', '妻子', '動作片演員', '元龍', '演員'} {'元龍'}\n",
            "{'東京', '學校', '1915年', '師範學校_(日本舊制)', '高等師範學校', '筑波大學', '倪尚達'} {'國立武昌高等師範學校', '高等師範學校'}\n",
            "{'三山', '臺灣三山善社', '臺灣', '明治', '山'} {'臺灣三山善社', '方幼祥'}\n",
            "{'遊戲', '國際象棋', '裁判_(足球)'} {'國際象棋'}\n",
            "{'歌曲', '美國', '歌詞', '天佑國王', '愛國歌曲'} {'天佑新西蘭', '在那邊', '天佑安圭拉', '天佑國王', '愛國歌曲'}\n",
            "{'馬爾切洛·馬爾皮吉', '女兒', '名稱', '馬氏管', '意大利', '解剖學'} set()\n",
            "{'羅盤方位', '漢', '絲綢', '路', '絲綢之路', '漢朝'} {'絲綢之路巡禮名曲集', '絲綢之路世界文化遺產', '絲綢之路'}\n",
            "{'性狀', '人權', '行爲', '身體', '國際LGBTI聯合會'} set()\n",
            "{'魏雅欣'} {'魏雅欣'}\n",
            "{'科', '草鴞科', '草鴞'} set()\n",
            "{'人體', '結締組織'} {'非營利組織', '固有結締組織'}\n",
            "{'美洲', '馬爾代夫', '南部'} {'馬爾地夫國家男子籃球隊', '馬爾地夫拉菲亞'}\n",
            "{'序曲', '入侵', '1812序曲', '俄法戰爭', '人民', '俄羅斯', '米哈伊爾·伊拉里奧諾維奇·庫圖佐夫', '羅曼·庫圖佐夫'} {'米哈伊爾·伊拉里奧諾維奇·庫圖佐夫', '1812序曲'}\n",
            "{'附庸國', '扶餘國', '國'} {'鄂圖曼帝國的附屬國'}\n",
            "{'唐明宗', '五代十國', '十國', '後唐', '晉王', '北平王', '北平_(五代十國)', '王', '政權', '北平市'} {'李繼儔'}\n",
            "{'經濟', '經濟發展', '商業', '波士頓', '金融'} {'波士頓', '金融服務', '臺灣金融機構列表'}\n",
            "{'富士', '貴之富士三造', '菲律賓', '混血兒'} set()\n",
            "{'震盪波蠕蟲', '小時'} {'震盪波蠕蟲'}\n",
            "{'東晉', '琅琊', '晉元帝', '電視劇', '琅邪王'} {'五馬渡江'}\n",
            "{'光學顯微鏡', '視野', '功能', '顯微鏡', '樣品', '細胞'} set()\n",
            "{'張飛', '劉備', '小說', '金蘭', '關羽', '三國演義'} {'關羽'}\n",
            "{'麻婆豆腐', '大豆', '麻', '原材料', '豆腐', '豆瓣醬', '豆製品'} {'麻婆豆腐'}\n",
            "{'逮捕', '1998年', '波爾布特', '政府', '無期徒刑', '蔡英文', '有期徒刑'} set()\n",
            "{'弗拉基米爾·普京', '俘虜_(電影)', '1999', '1999年', '總理', '羅曼·伊戈列維奇·普京'} set()\n",
            "{'圖書館員', '萊比錫', '小弗里德里希·艾伯特', '艾伯特·金_(籃球運動員)', '勃蘭登堡_(1945年—1952年)', '弗里德里希·艾伯特', '市鎮', '圖書館', '弗里德里希·阿道夫·艾伯特'} {'弗里德里希·阿道夫·艾伯特'}\n",
            "{'大理寺', '小說', '發展', '公案小說', '中國', '狄仁傑', '公案_(消歧義)'} set()\n",
            "{'文化遺產', '布魯塞爾', '世界遺產', '車站', '運輸', '科技'} set()\n",
            "{'王朝的女人·楊貴妃', '綾', '天子', '楊貴妃', '楊貴妃_(2000年電視劇)', '唐憲宗', '安史之亂', '綾羅綢緞'} {'楊貴妃'}\n",
            "{'宗教團體', '科隆'} {'臺灣文化活動列表'}\n",
            "{'巴勃羅·畢卡索', '藝術家', '畫家'} {'博比尼-巴勃羅·畢卡索站', '美術家列表', '卡洛斯·卡薩吉瑪斯', '弗洛裏安·畢卡索'}\n",
            "{'政治家', '德國', '章伯鈞', '社會', '政治運動', '1957年'} {'章伯鈞', '汪先烺'}\n",
            "{'人權', '1978年'} {'國際LGBTI聯合會'}\n",
            "{'明成皇后', '皇后', '李美妍', '配角'} {'李美妍'}\n",
            "{'家庭', '阿希爾克洛德·德彪西'} set()\n",
            "{'民族', '美國', '漢族'} {'日本民族問題'}\n",
            "{'固體', '大氣層', '太陽', '木衛二', '物質', '太陽系'} {'木衛二', '木衛二表面特徵列表'}\n",
            "{'哆啦A夢', '藤子·F·不二雄', '漫畫家', '日本', '本名', '奇天烈大百科', '日本漫畫家', '日本漫畫'} {'藤子·F·不二雄', '藤子·F·不二雄創作', '奇天烈大百科', '藤子不二雄', '藤子不二雄Ⓐ'}\n",
            "{'勝利_(歌手)', '記錄', '主權', '君主', '國家', '主權國家', '法國', '路易十四'} set()\n",
            "{'水星凌日', '凌_(天體)', '2006年', '凌日'} {'水星凌日', '凌日'}\n",
            "{'人物_(美國雜誌)', '苗', '黃河', '戰國_(漫畫)', '上古時代', '戰國時期', '部落', '三苗', '河南省'} {'三苗'}\n",
            "{'許世友', '紅軍', '中國工農紅軍第四方面軍', '方面軍'} {'許家窪'}\n",
            "{'皇帝', '梁武帝', '梁_(南朝)', '南北朝'} {'在位時間最長的君主列表', '梁武帝', '在位時間最短的君主列表'}\n",
            "{'日本料理', '日本', '世紀', '菜系', '飲食文化', '19世紀'} {'日本料理', '聯合國教科文組織人類非物質文化遺產代表作名錄中國項目', '加拿大世界遺產列表', '北京市市級非物質文化遺產', '江蘇省非物質文化遺產'}\n",
            "{'西部', '薩爾波勒扎哈卜', '地區', '伊朗', '地震'} {'薩爾波勒扎哈卜'}\n",
            "set() set()\n",
            "{'艾伯特縣', '警長_(香港)', '縣', '艾伯特_(科羅拉多州)', '科羅拉多州', '警長', '東部'} {'艾伯特縣', '警長'}\n",
            "{'植物', '細胞核', '細菌', '真菌', '界', '界_(生物)', '動物', '生物', '細胞'} {'真菌分類表'}\n",
            "{'四大名旦', '梅蘭芳'} {'四大名旦', '舒繡文', '梅蘭芳', '京劇四大名旦', '尚小云'}\n",
            "{'概念', '證據', '一次文獻', '文獻', '二次文獻', '知識'} {'一次文獻'}\n",
            "{'佛教', '釋迦牟尼'} set()\n",
            "{'宋朝', '府_(行政區劃)', '宋朝君主列表', '行政區劃', '藩', '皇帝', '潛藩升府', '字_(計算機)'} {'潛藩升府'}\n",
            "{'漢', '天下', '漢初三傑', '漢朝', '劉邦'} {'蕭何', '漢初三傑', '白登山'}\n",
            "{'史東', '刺殺肯尼迪', '作品', '奧利華·史東', '世紀', '美國', '20世紀'} {'奧利華·史東'}\n",
            "{'國慶日', '共和制', '開端', '清朝', '革命', '辛亥革命'} {'辛亥革命'}\n",
            "{'宇宙', '狹義相對論', '光速', '相對論'} {'光速', '光速不變原理', '超光速運動', '狹義相對論發現史', '雙重狹義相對論'}\n",
            "{'芝加哥'} set()\n",
            "{'戴安娜·瑞格', '威爾士王妃', '組織', '英國', '戴安娜·艾嘉朗', '政府', '戴安娜_(電影)', '非政府組織', '威爾斯王妃戴安娜'} set()\n",
            "{'商店', '地區', '全買', '雲嘉南', '買', '代表', '長頸鹿'} {'全買'}\n",
            "{'澳大利亞', '世界地質公園列表', '地質公園', '嵩山'} {'安徽省風景名勝區列表', '中華人民共和國國家級風景名勝區', '地質公園', '泰寧世界地質公園', '嵩山'}\n",
            "{'順天時報', '梅蘭芳', '中國', '京劇四大名旦', '京劇'} {'譚元壽', '四大名旦', '梅蘭芳', '高慶奎', '京劇四大名旦'}\n",
            "{'臺中_(大字)', '臺中市', '臺中市立臺中女子高級中等學校'} {'臺中市私立明德高級中學', '臺中市議會', '臺中市立臺中女子高級中等學校', '聖言中學'}\n",
            "{'代表', '民意代表', '學術'} set()\n",
            "{'民族', '歐洲民族', '指', '歐洲', '國家', '腳趾'} set()\n",
            "{'斯坦', '卡拉卡爾帕克斯坦共和國', '花剌子模', '烏茲別克人'} {'卡拉卡爾帕克蘇維埃社會主義自治共和國', '木伊那克', '卡拉卡爾帕克斯坦共和國', '在日烏茲別克人'}\n",
            "{'九江市', '人口'} set()\n",
            "{'共和黨', '美國', '今天', '政黨', '華盛頓哥倫比亞特區', '共和黨_(美國)', '總部'} set()\n",
            "{'明朝', '名', '進士', '謝磷'} {'芬蘭官方榜單'}\n",
            "{'香港大學', '英語'} set()\n",
            "{'芭蕾舞', '吉賽爾', '古典芭蕾', '作曲家', '派', '吉賽爾_(消歧義)', '古典', '法國', '吉賽爾·邦辰'} {'古典芭蕾', '吉賽爾'}\n",
            "{'史東', '傀儡戲', '奧利華·史東', '世紀', '美國', '傀儡', '20世紀', '電影'} set()\n",
            "{'萬華區', '城鎮', '西門站_(臺北捷運)', '西門站', '中正區_(臺北市)'} {'西門地下街', '臺北市萬華區新和國民小學'}\n",
            "{'政治', '島嶼國家', '世界', '數字', '島嶼'} {'島嶼國家'}\n",
            "{'西點軍校', '美國', '西點_(紐約州)'} set()\n",
            "{'土星', '土衛一', '土星的衛星'} {'土衛四十', '土衛一', '土衛三'}\n",
            "{'質數', '因數'} {'質數列表', '質數冪', '質數', '因數基底', '質數階乘'}\n",
            "{'中華人民共和國水利部', '中華人民共和國'} {'中華人民共和國水利部', '水利部松遼水利委員會', '水利部淮河水利委員會', '中央人民政府水利部', '水利部珠江水利委員會'}\n",
            "{'亞洲', '寶石', '紅寶石', '電影'} {'紅寶石'}\n",
            "{'錫', '錫克人', '克', '信徒', '錫克教'} set()\n",
            "{'古羅馬', '羅馬公民', '古希臘', '拜占庭', '羅馬', '神廟', '希臘', '古代_(上加龍省)'} set()\n",
            "{'城市', '城市規劃'} {'南京大學城市規劃與設計系'}\n",
            "{'西曆', '行憲紀念日', '聖誕節', '行憲', '12月', '教會學校'} {'行憲紀念日'}\n",
            "{'馬克思主義', '格魯喬·馬克思', '馬克思主義政治經濟學', '卡爾·馬克思', '資本論', '政治經濟學', '馬克思·多爾穆瓦站', '海因裏希·馬克思'} {'伊拉里昂·伊格納切維奇·考夫曼', '政治經濟學批判大綱', '河上肇', '馬克思主義政治經濟學', '資本論'}\n",
            "{'赫歇爾_(消歧義)', '恆星', '土星', '土衛一'} {'土衛一', '土衛四十一'}\n",
            "{'金馬獎', '國家兩廳院', '中華電視公司', '金馬獎頒獎典禮', '主持人', '蕭芳芳', '第18屆金馬獎', '高雄市'} {'第18屆金馬獎'}\n",
            "{'馬克思主義', '格魯喬·馬克思', '馬克思主義政治經濟學', '卡爾·馬克思', '資本論', '政治經濟學', '馬克思·多爾穆瓦站', '海因裏希·馬克思'} {'河上肇', '資本論', '女人資本論'}\n",
            "{'皇帝', '宋朝', '宋仁宗'} {'宋英宗', '宋朝皇室', '宋仁宗'}\n",
            "{'體溫', '向陽', '爬行動物', '環境', '動物'} {'爬行動物'}\n",
            "{'燧人氏', '氏_(消歧義)', '父系制度', '河套', '氏族', '木材'} {'燧人氏'}\n",
            "{'許世友', '紅四軍_(紅四方面軍)'} {'許世友', '許家窪'}\n",
            "{'物理學', '吳健雄', '會長', '世界'} {'吳健雄學院', '吳健雄', '美國物理學會'}\n",
            "{'固體', '氣體', '空氣污染'} {'空氣污染'}\n",
            "{'教育', '臺中_(大字)', '臺中市', '臺中市立臺中女子高級中等學校'} {'臺中市私立明德高級中學', '臺中市議會', '臺中市立臺中女子高級中等學校'}\n",
            "{'克洛里斯', '陌生人', '洛里斯_(沃克呂茲省)', '雨果·洛里斯', '神', '克洛里斯_(寧芙)'} {'西風翠灰蝶'}\n",
            "{'美國英語', '美國', '英語'} {'美式機車', '胖老爹美式炸雞', '通用美式英語', '美式中國菜', '美國英語'}\n",
            "{'角宿', '星等', '角_(星官)', '室女座', '電燈', '角宿一', '視星等'} {'角宿二', '角宿', '室女座', '角宿一', '室女座流星雨'}\n",
            "{'土衛十', '神話', '土星的衛星', '希臘神話', '希臘', '土衛十四', '女神', '海'} set()\n",
            "{'疾病'} set()\n",
            "{'赫拉', '荷馬史詩', '史詩', '名', '荷馬'} set()\n",
            "{'香港聖公會', '聖保羅書院', '女性'} {'史超域', '聖保羅堂'}\n",
            "{'T', '歌手', '香港歌手列表', '香港', '3T', '傳記', '歌手·當打之年', '鄭希怡', '3T_(美國音樂組合)'} {'上海娃娃'}\n",
            "{'耶穌'} set()\n",
            "{'經濟學人', '經濟學'} set()\n",
            "{'村長', '練馬師', '松柏塱', '香港', '圍村', '簡炳墀', '現在', '村民'} {'松柏塱'}\n",
            "{'威爾斯王妃戴安娜', '第八代史賓賽伯爵約翰·史賓賽', '父親', '黛安娜'} {'威爾斯王妃戴安娜'}\n",
            "{'化學物質', '精神', '化學', '藥理學', '精神狀態', '藥物', '疾病', '身體質量指數'} {'藥物'}\n",
            "{'金瓶梅', '形象', '圖書', '饕餮'} {'饕餮', '金瓶梅學'}\n",
            "{'跟蹤支援隊', '特別攻擊隊'} set()\n",
            "{'傳播史', '廣播', '第二次世界大戰', '特性_(計算機科學)', '傳播'} {'傳播史'}\n",
            "{'衛星', '木星'} {'木衛十三', '木衛二十一', '木衛八', '木衛十一', '木衛五十七'}\n",
            "{'跟蹤支援隊', '特別攻擊隊', '攻擊'} set()\n",
            "{'京畿道', '人口', '美國', '京畿'} {'京畿道知事', '中京畿道'}\n",
            "{'臺南市東區復興國民小學', '東區', '臺南市_(州轄市)', '東區_(臺南市)', '小溪', '溪', '臺灣', '虎尾寮_(臺南市)'} {'臺南市東區裕文國民小學', '裕忠路', '裕孝路', '臺南市東區復興國民小學', '裕信路'}\n",
            "{'多年生植物', '植物', '新月沃土', '種子', '家畜'} {'新月沃土'}\n",
            "{'西部', '塞內奇區', '斯洛伐克'} {'尼特拉', '斯洛伐克國家銀行', '塞內奇區', '斯洛伐克總統列表'}\n",
            "{'歐洲聯盟', '日內瓦', '經濟'} {'歐洲聯盟擴大', '歐洲聯盟', '歐洲聯盟成員國政治制度列表', '歐洲中央銀行體系', '歐洲聯盟成員國'}\n",
            "{'元培', '官僚', '蔡元培', '庶吉士', '中華民國', '翰林院'} {'庶吉士'}\n",
            "{'學生', '披巾', '維克多·奧塔', '冬季'} set()\n",
            "{'金門炮戰'} {'福建金門地方法院', '金門機場', '八二三戰史館', '國立金門高級中學'}\n",
            "{'普利策獎'} {'普利策音樂獎', '約瑟夫·普立茲', '普利策國際報道獎', '普利策歷史獎', '普利策戲劇獎'}\n",
            "{'米夏埃爾·科爾曼', '雙打', '今天', 'ATP', '德意志裔人'} {'米夏埃爾·科爾曼', '阿爾伯特·蒙塔涅斯', '約翰·皮爾斯', '彼得·高若尼茲克'}\n",
            "{'博士', '化學', '英國', '有機化學', '沈宗瀛'} set()\n",
            "{'月氏', '國', '昭武', '姓', '尚書', '祖先', '小國', '昭武九姓'} {'昭武九姓'}\n",
            "{'學校', '遠東集團', '徐有庠'} {'徐旭東', '遠東集團', '徐有庠'}\n",
            "{'東漢'} set()\n",
            "{'史', '英國', '搖滾樂', '披頭四樂隊', '樂團'} {'橡皮靈魂'}\n",
            "{'元素週期表', '金屬', '化學元素'} {'D區元素', 'F區元素', '化學元素髮現年表', '11族元素', '主族元素'}\n",
            "{'著作權', '作品', '版稅', '作曲家', '音樂出版社', '詞曲作家'} {'上海音樂出版社', '詞曲作家', '音樂出版社'}\n",
            "{'印度洋', '地區', '馬爾代夫', '亞洲', '南', '西南偏南'} {'馬爾代夫超級足球聯賽', '馬爾代夫奧林匹克委員會', '馬爾代夫國家足球隊'}\n",
            "{'古', '天衛三', '坑洞', '面_(幾何)'} {'天衛十五'}\n",
            "{'半導體器件', '德州儀器', '半導體', '世界', '德州', '年代', '閥門'} {'德州儀器'}\n",
            "{'若竹町_(臺南市)', '日本', '第二次世界大戰', '行政區劃', '世界大戰', '若竹町'} {'伏見町', '青葉町', '汐見町'}\n",
            "{'詹雯婷', '男性', '陳建寧', '女性', '阿沁', '樂團'} {'F.I.R.飛兒樂團'}\n",
            "{'方言學'} set()\n",
            "{'民族', '歐洲民族', '指', '歐洲', '國家', '腳趾'} set()\n",
            "{'查理曼', '身材矮小症', '矮子丕平', '丕平·卡洛曼', '法蘭克·馬歇爾', '法蘭克王國', '王', '法蘭克·葛裏洛', '長子'} set()\n",
            "{'粵菜', '廚師', '美國', '菜系', '廣東省', '貿易', '移民', '興盛'} set()\n",
            "{'昭和天皇', '天皇', '日本', '昭和', '名'} {'昭和天皇', '大正天皇', '昭和', '昭和天皇之死', '昭和天皇戰後巡幸都道府縣列表'}\n",
            "{'阿姆斯特丹'} {'阿姆斯特丹地鐵'}\n",
            "{'朝花夕拾', '1987年', '魯迅', '1987年香港'} {'朝花夕拾'}\n",
            "{'臺灣', '臺北醫學大學', '經營者'} {'李祖德'}\n",
            "{'潮汕文化', '潮州市', '文化'} {'潮州市城南中學', '潮州街', '潮州市職業技術學校', '潮州市文物保護單位', '潮州市高級中學'}\n",
            "{'佛教', '釋一行', '一行', '行', '禪師', '名稱'} {'尼泊爾驅逐佛教僧侶事件', '禪師', '喇嘛'}\n",
            "{'富士', '貴之富士三造', '身', '血親'} set()\n",
            "{'埃爾邁拉_(紐約州)', '作家', '馬克', '馬克·吐溫'} set()\n",
            "{'海港', '城市', '民族', '波蘭', '焦點', '格但斯克', '辯論', '岸'} {'格但斯克'}\n",
            "{'國立臺灣大學昆蟲標本館', '標本', '國立臺灣大學'} {'國立臺灣大學昆蟲標本館'}\n",
            "{'稱謂', '德國', '魏瑪', '魏瑪共和國', '政府', '政體'} {'魏瑪共和國'}\n",
            "{'鮪魚', '俄羅斯', '三明治', '伊萬·屠格涅夫'} {'屠格涅夫卡市鎮', '屠格涅夫站', '阿霞', '羅亭'}\n",
            "{'角色', '紅白勝利', '董至成', '妻子'} {'董至成'}\n",
            "{'南京市', '師範學校', '學校', '國立中央大學_(南京)', '1915年', '倪尚達'} {'國立武昌高等師範學校', '倪尚達'}\n",
            "{'MacOS', '虎'} {'老虎灘街道', 'MacOS', '全球老虎日', 'MacOS版本歷史', '老虎臺街道'}\n",
            "{'造紙術', '傳播論', '中國', '中國人', '紙'} {'造紙術'}\n",
            "{'關羽', '形象', '神'} set()\n",
            "{'孔廟', '臺北市立明倫高級中學', '中學', '臺北'} {'臺北市立明倫高級中學', '臺灣的孔廟'}\n",
            "{'科學園區', '竹東_(大字)', '東區_(新竹市)', '新竹_(大字)', '臺灣', '工業技術研究院', '年代', '竹東鎮', '新竹市_(1945年—1950年)'} {'竹東鎮'}\n",
            "{'時間', '保險合同', '暗殺'} {'暗殺'}\n",
            "{'核', '真核生物', '覓食', '細菌', '古菌', '生物'} {'雙鞭毛生物', '真核翻譯', '古菌', '真核生物'}\n",
            "{'謝雪心'} {'白雪仙'}\n",
            "{'處理器', '資源_(計算機科學)', '程序', 'SETI@home'} {'搜尋地外文明計劃', 'SETI@home'}\n",
            "set() set()\n",
            "{'溫帶氣旋', '颱風', '氣旋'} {'溫帶氣旋', '2012年4月溫帶氣旋', '2011年11月白令海氣旋', '副熱帶氣旋'}\n",
            "{'遊戲', '國際象棋'} {'國際象棋'}\n",
            "{'公司集團', '汝州站', '鐵路車站', '統一企業', '河南省'} {'汝州站'}\n",
            "{'性_(語法)', '女性'} set()\n",
            "{'花', '科', '植物', '真雙子葉植物', '花序', '雙子葉植物', '子葉', '向日葵'} {'太陽花', '向日葵'}\n",
            "{'祖先', '李賦寧'} {'常若柱', '李儀祉', '李賦都', '李賦寧'}\n",
            "{'經濟', '德國', '國內生產總值', '邦', '符騰堡', '總部', '巴登符騰堡'} {'巴登-符騰堡'}\n",
            "{'保', '遊行', '馬', '花蓮', '517嗆馬保臺大遊行'} {'517嗆馬保臺大遊行'}\n",
            "{'查理曼', '身材矮小症', '矮子丕平', '丕平·卡洛曼', '查理·曼紐爾', '長子'} {'矮子丕平', '卡洛曼一世'}\n",
            "{'學生', '聖保羅書院', '全日制學校', '校長', '學校', '源迪恩'} {'源迪恩', '聖保羅書院'}\n",
            "{'城市', '俄羅斯人口', '人口', '聖彼得堡', '俄羅斯', '俄羅斯人'} set()\n",
            "{'物理學', '突破獎', '漢斯·愛因斯坦', '光', '阿爾伯特·愛因斯坦', '基礎物理學突破獎', '光子', '概念'} {'光電效應', '光子'}\n",
            "{'本傑明·富蘭克林', '通信系統', '富蘭克林_(維吉尼亞州)', '郵政', '費城'} {'富蘭克林研究所'}\n",
            "{'水稻', '父親', '研究', '袁隆平', '品種', '中國', '稻', '雜交水稻'} {'寧粳7號', '袁隆平', '雜交水稻', '湖南雜交水稻研究中心', '雜交水稻國家重點實驗室'}\n",
            "{'了不起的蓋茨比', '大亨小傳_(2013年電影)', '弗朗西斯·斯科特·菲茨傑拉德', '薇拉·費茲傑羅', '喬治·費茲傑羅'} {'弗朗西斯·斯科特·菲茨傑拉德', '尼克·卡拉威'}\n",
            "{'馬六甲_(消歧義)', '海峽', '現在', '馬六甲海峽'} {'馬六甲海峽'}\n",
            "{'歧義', '土庫曼_(消歧義)', '土庫曼斯坦', '加盟共和國'} {'加盟共和國'}\n",
            "{'孝恭仁皇后', '兄弟姊妹', '仁皇后', '雍正帝'} {'仁皇后'}\n",
            "{'行政機關', '艾根訴加拿大案', '奧林·艾根', '加拿大', '案', '曼弗雷德·艾根'} {'艾根訴加拿大案'}\n",
            "{'愛爾蘭共和國_(1919年—1922年)', '面積', '愛爾蘭'} {'愛爾蘭國旗', '愛爾蘭總統', '愛爾蘭足球代表隊', '愛爾蘭國家的名稱'}\n",
            "{'伊俄卡斯忒', '神話', '木衛二十四', '木星的衛星', '母親', '希臘神話', '希臘', '俄狄浦斯'} {'伊俄卡斯忒', '伊底帕斯王', '木衛二十四', '小行星899', '安提戈涅'}\n",
            "{'唐朝', '謝磷'} set()\n",
            "{'西部', '波蘭', '數', '山城', '綠山城', '土地', '綠山城縣'} {'綠山城縣', '山城路街道', '盧布斯卡省', '山城街道'}\n",
            "{'臺北', '國立臺北教育大學', '經營者'} {'李祖德'}\n",
            "{'獨立唱片公司', '死者能舞', '英國', '杭州駐防城', '唱片公司'} set()\n",
            "{'航空', '航空器', '飛行員', '國'} {'飛行員', '中華民國汽車駕駛執照'}\n",
            "{'小米', '石器', '石器時代'} {'石器', '中國中石器文化列表', '打製石器', '中石器時代'}\n",
            "{'六腳_(大字)', '身體', '體', '昆蟲', '腳'} set()\n",
            "{'土衛十', '神話', '政府', '土星的衛星', '雅典', '名稱', '女神', '海'} set()\n",
            "{'奧黛麗_(搞笑組合)', '兒童', '厄瓜多爾', '奧黛麗·赫本演藝作品列表', '奧黛麗·赫本'} {'奧黛麗·赫本'}\n",
            "{'同學', '漢', '天下', '漢初三傑', '漢朝', '劉邦'} {'白登山', '漢初三傑'}\n",
            "{'謝芳'} set()\n",
            "{'食_(天文現象)', '區域', '月食'} {'19世紀月食列表', '月食'}\n",
            "{'墨西哥', '城市', '西南', '瓜達拉哈拉_(墨西哥)'} {'阿特拉斯足球俱樂部', '瓜達拉哈拉體育會'}\n",
            "{'德國', '1928年', '莫斯科', '法國', '瓦西里·康定斯基', '國籍'} {'瓦西里·康定斯基'}\n",
            "{'楚國', '鳥', '傳說', '龍', '鳳凰', '王'} {'百鳥公園站', '百鳥朝鳳', '鳳凰'}\n",
            "{'史前時代', '人類', '石器時代', '時代', '石器', '歷史'} {'石器', '中國史前文化'}\n",
            "{'金融', '經濟發展', '經濟', '波士頓'} set()\n",
            "{'標準舞', '女性'} set()\n",
            "{'鍾祥市', '面積', '中華人民共和國', '中國'} set()\n",
            "{'妙義山', '德川慶喜', '效用'} {'德川慶喜'}\n",
            "{'角色', '慕容復', '燕國', '武俠', '金庸', '悲劇', '武俠小說'} {'慕容復'}\n",
            "{'電子計算機', '蘋果', '技術', '蘋果公司', '喬布斯_(電影)', '史蒂夫·喬布斯'} set()\n",
            "{'熱帶氣旋', '風', '氣象廳_(日本)', '世界氣象組織', '颱風'} {'颱風', '日本氣象廳命名颱風列表', '世界氣象日', '澳門熱帶氣旋信號紀錄列表'}\n",
            "{'大韓民國', '政府首腦', '政府', '內閣', '韓國國務總理', '國務總理', '總理', '大韓民國政府'} {'韓國國務總理列表', '金滉植', '韓國國務總理', '鄭雲燦', '內閣官房長官'}\n",
            "{'釣魚臺', '島嶼', '釣魚臺列嶼'} {'中華民國臺灣地區島嶼列表', '釣魚臺列嶼', '釣魚臺列嶼主權問題', '衝南巖', '釣魚臺燈塔'}\n",
            "{'懷化市', '地區', '亞洲'} {'中國共產黨懷化市委員會'}\n",
            "{'紙錢', '教會', '組織', '基督徒', '紙'} {'教會', '個別教會'}\n",
            "{'大氣層', '緹坦妮雅', '天王星', '軌道', '天衛三', '仲夏夜_(羅文專輯)', '仲夏夜之夢'} {'緹坦妮雅', '天衛三', '尼克·博特姆', '奧伯隆'}\n",
            "{'天主教會', '科隆'} {'臺灣文化活動列表', '世界青年日'}\n",
            "{'臼井儀人', '蠟筆小新', '作者', '谷地', '情節'} {'動感超人', '蠟筆小新動畫集數列表', '蠟筆小新角色列表', '臼井儀人'}\n",
            "{'土衛十一', '土衛十', '土星'} {'土衛四十', '土衛十一', '土衛四十二', '土衛四十一', '土衛一'}\n",
            "{'隕石', '撞擊坑', '量_(物理)', '面_(幾何)', '天衛三', '紅茶', '天衛四'} set()\n",
            "{'國際機場', '時間', '香港國際機場'} {'機場稅'}\n",
            "{'天琴座', '古希臘', '星', '星等', '廂座', '形狀', '豎琴', '希臘'} {'天琴座'}\n",
            "{'人性', '傳統', '惡', '韓國電視劇', '電視劇', '成年人', '儒家'} set()\n",
            "{'運動員', '吉祥物', '男爵', '奧林匹克運動會', '皮埃爾·德·顧拜旦', '裁判'} {'奧林匹克運動會藝術比賽', '皮埃爾·德·顧拜旦'}\n",
            "{'學院', '月球', '卡西尼', '法蘭西學會', '法國', '籍', '國籍', '喬瓦尼·多梅尼科·卡西尼'} {'雅克·卡西尼', '喬瓦尼·多梅尼科·卡西尼', '卡西尼'}\n",
            "{'許世友', '武術'} {'許家窪'}\n",
            "{'皇帝', '東晉', '晉元帝'} set()\n",
            "{'春秋', '穀梁傳', '春秋_(書)'} {'春秋三傳', '穀梁傳', '公羊傳'}\n",
            "{'公司', '百貨公司', '日本', '7&I控股', '日本百貨公司', '控股公司', '2005年', '伊藤洋華堂'} {'伊藤洋華堂', '鈴木敏文'}\n",
            "{'古希臘', '逍遙學派', '柏拉圖', '柏拉圖學院', '古希臘哲學', '哲學', '伊比鳩魯學派', '希臘', '斯多葛主義'} {'新柏拉圖主義', '逍遙學派', '柏拉圖學院', '古希臘哲學'}\n",
            "{'羅盤方位', '漢', '絲綢', '路', '絲綢之路', '漢朝'} {'絲綢之路巡禮名曲集', '絲綢之路'}\n",
            "{'作品', '馬龍·白蘭度', '電影', '美國', '演員', '2004年', '美國電影', '馬龍'} set()\n",
            "{'唐朝', '大佛', '樂山大佛'} {'樂山大佛'}\n",
            "{'公司', '公司集團', '兒子', '現代集團', '世界大戰', '鄭周永', '親屬'} {'現代集團'}\n",
            "{'東京', '世界', '報告', '世界最佳宜居城市', '經濟學人'} {'經濟學人信息社'}\n",
            "{'速率', '真空', '常數', '物理常數'} {'光學介質', '氣體常數', '真空磁導率', '速率常數', '物理常數'}\n",
            "{'血液', '林義雄', '事件', '美麗島事件', '政府', '美麗島', '親屬'} set()\n",
            "{'臺灣', '2010年臺北國際花卉博覽會'} {'2014年世界園藝博覽會', '2018年臺中世界花卉博覽會', '2010年臺北國際花卉博覽會'}\n",
            "{'貓', '大麥'} {'大麥地文化'}\n",
            "{'秦朝', '太守', '玄菟郡', '扶餘國'} {'耿臨', '扶餘國'}\n",
            "{'希吉拉', 'BH', '代號', 'Bh_(二合字母)', '伊斯蘭曆', 'AD'} set()\n",
            "{'小說', '戰爭與和平'} {'戰爭與和平中人們的故事', '戰爭與和平'}\n",
            "{'導火線_(電影)', '事件', '亞羅號事件', '教案_(宗教)', '清朝', '廣西西林教案', '咸豐', '戰爭'} {'西林教案發生地', '第二次鴉片戰爭'}\n",
            "{'司馬光', '編年體', '西晉', '司馬孚'} {'司馬珪', '司馬瓌', '司馬顒', '司馬光'}\n",
            "{'楊梅區', '桃園市', '市_(中華民國)', '楊梅_(大字)', '中華民國', '西南', '臺灣', '四縣話', '臺灣客家語'} {'峨眉鄉'}\n",
            "{'機器', 'X射線', '射線', '倫琴_(單位)', '校長', 'X射線機', '威廉·倫琴'} {'威廉·倫琴', '倫琴衛星'}\n",
            "{'講談社', '榮譽', '日本', '2006年', '三年坂火之夢', '講談社·中國的歷史', '推理小說'} {'三年坂火之夢', '講談社BOX'}\n",
            "{'倒數', '香港商報', '商報', '文匯報', '文匯報_(上海)', '大公報'} {'大公報'}\n",
            "{'人物_(美國雜誌)', '新著龍虎門', '啓示', '蚩尤_(消歧義)', '龍虎門', '蚩尤'} {'新著龍虎門角色列表', '石黑龍', '涿鹿之戰'}\n",
            "{'死者能舞', '1999年', '音樂專輯', '1999'} set()\n",
            "{'臺灣醫界聯盟基金會', '2016', '陳水扁', '政府', '總統'} {'臺灣醫界聯盟基金會'}\n",
            "{'性狀', '陰', '基因', '陽', '陰陽'} {'相對性狀', '數量性狀基因座'}\n",
            "{'邊_(幾何)', '三角函數', '三角學', '三角', '三角形'} {'三角形數', '三角函數', '三角學', '三角', '反三角函數'}\n",
            "{'T·S·艾略特', '鮑伯·艾略特', '喬治·艾略特', '查爾斯·艾略特', '1948年', '阿爾弗雷德·諾貝爾', '文學獎', '艾略特', '約翰·艾略特·加德納', '艾略特·卡特'} {'T·S·艾略特', '查爾斯·艾略特', '艾略特·卡特'}\n",
            "{'南京大學附屬中學', '南京大學', '中學', '山東省_(中華民國)'} {'師範大學附屬中學列表', '南京大學政府管理學院', '南京大學附屬中學', '南京航空航天大學附屬高級中學', '南京師範大學附屬中學'}\n",
            "{'亞當·列維', '亞當', '亞當·福格森', '聖經', '亞當·山德勒', '亞當·斯密', '亞當·蘭伯特', '亞當·科利'} set()\n",
            "{'波斯語', '植物', '維吾爾語', '洋蔥'} {'洋蔥'}\n",
            "{'臺灣', '目標', '籃球'} {'籃球'}\n",
            "{'九龍', '路', '周星馳', '喜劇演員'} {'無敵幸運星', '周星馳'}\n",
            "{'期貨', '地區', '期貨交易所', '芝加哥', '世界', '國內生產總值', '期權', '交易所'} {'芝加哥', '芝加哥期貨交易所大樓', '韓國期貨交易所', '交易所', '芝加哥期貨交易所'}\n",
            "{'水溶液', '溶液', '氰化氫', '頻率', '氰化鈉', '氰化鋰', '酸'} {'氰化鋁', '氰化氫', '氰化銣', '氰化鐿', '氰化鋰'}\n",
            "{'示威', '事件', '天安門_(紀錄片)', '天安門', '人名', '王維', '坦克人', '坦克'} {'坦克人'}\n",
            "{'BI', '組織', '決策', '工具'} set()\n",
            "{'祖父母', '阿卜杜勒侯賽因·米爾扎·法爾曼法爾馬', '政治家'} {'阿卜杜勒-侯賽因·米爾扎·法爾曼法爾馬'}\n",
            "{'古羅馬', '法律', '騎士', '庶民', '羅馬', '羅馬元老院'} set()\n",
            "{'節氣', '立夏'} {'二十四節氣公園', '中氣', '立夏', '節氣', '雨水'}\n",
            "{'1938年', '超人', '動作漫畫'} {'超人', '動作漫畫'}\n",
            "{'黨委書記', '中央民族大學', '中國', '張京澤', '書記'} {'中央民族大學民族博物館', '張京澤'}\n",
            "{'中國', '演員', '謝芳'} {'謝芳'}\n",
            "{'複合材料', '材料', '樹脂', '玻璃纖維'} {'陶瓷基複合材料', '玻璃纖維', '複合材料', '清華大學材料學院', '樹脂基複合材料'}\n",
            "{'代謝', '減肥', '節食', '營養', '水平', '生物'} {'減肥', '節食'}\n",
            "{'獎盃', '獎勵', '人物'} set()\n",
            "{'國家圖書館_(中華民國)', '中華人民共和國', '華南理工大學'} {'華南理工大學食品科學與工程學院', '華南理工大學出版社', '華南理工大學經濟與金融學院', '華南理工大學旅遊管理系', '華南理工大學電子商務系'}\n",
            "{'歌手', '蔡卓妍', '音樂會', '紅館', '歌手·當打之年', '未來'} set()\n",
            "{'臺南市立安平水產專修學校', '學校', '臺灣明鄭時期', '目標', '臺南市'} {'臺南市立安平水產專修學校'}\n",
            "{'元智大學', '桃園市', '綽號', '名稱'} {'香港幼稚園列表'}\n",
            "{'內臟', '透明', '神農', '軀幹'} set()\n",
            "{'疾病', '病理學', '患者'} {'病理學'}\n",
            "{'師傅', '謝雪心'} {'白雪仙'}\n",
            "{'酶', '代謝', '病毒', '類', '細菌', '代謝途徑', '古菌'} set()\n",
            "{'芭蕾舞', '古典芭蕾', '浪漫主義', '派', '服裝', '舞者', '古典', '盛·舞者', '法國'} {'古典芭蕾', '吉賽爾'}\n",
            "{'英語人名', '蒲公英'} {'短啄蒲公英', '小五臺蒲公英', '各國警察數量列表', '朝鮮蒲公英', '蒲公英'}\n",
            "{'歧義', '土庫曼_(消歧義)', '美國', '土庫曼斯坦', '加盟共和國'} {'土庫曼蘇維埃社會主義共和國', '亞美尼亞蘇維埃社會主義共和國', '加盟共和國'}\n",
            "{'實藤惠秀', '日本人', '美國'} set()\n",
            "{'衛星', '木星'} {'木星的衛星'}\n",
            "{'印度', '傳統', '地區', '南', '北阿坎德邦', '海'} {'阿爾莫拉', '魯德勒布勒亞格縣', '丹德拉', '北阿坎德邦行政區劃', '北阿坎德邦'}\n",
            "{'古羅馬', '拜占庭', '古希臘', '羅馬', '神廟', '希臘', '古代_(上加龍省)'} set()\n",
            "{'媒介', '論文', '鍼灸', '筋膜', '研究', '西方世界', '國家'} {'膜層', '媒介環境學'}\n",
            "{'溼地', '鷺科', '模式種', '蒼鷺', '鷺屬'} {'鷺屬', '蒼鷺', '麻鳽屬'}\n",
            "{'王實甫', '西廂記', '元朝'} {'王實甫', '牆頭馬上', '西廂記', '吟風閣雜劇', '紅娘'}\n",
            "{'生物分類學', '信天翁屬', '小鷿鷈屬', '體型', '分類學', '小鸊鷉', '屬', '信天翁科', '鸊鷉科'} {'漂泊信天翁', '灰背信天翁', '黑腳信天翁', '大信天翁屬', '特島信天翁'}\n",
            "{'技術', '手工藝', '世紀', '內畫壺'} {'手工藝'}\n",
            "{'SETI@home'} {'Astropulse', '搜尋地外文明計劃', 'SETI@home', 'SHGb02+14a無線電信號'}\n",
            "{'釣魚臺', '島嶼', '顯示器', '釣魚臺列嶼'} {'釣魚臺列嶼', '釣魚臺列嶼主權問題', '中華民國臺灣地區島嶼列表', '釣魚臺燈塔'}\n",
            "{'東亞', '臺灣', '臺灣時報', '1909年'} {'看守臺灣協會'}\n",
            "{'徐太志'} {'徐太志', '徐太志和孩子們'}\n",
            "{'羅馬_(電視連續劇)', '冥王'} {'冥王'}\n",
            "{'模式'} {'虛擬教研中心', '教學研究'}\n",
            "{'皇帝', '明憲宗', '明朝', '帝'} set()\n",
            "{'專屬經濟區', '美國', '聯合國海洋法公約'} {'公海公約', '國際海洋法法庭', '專屬經濟區', '公海', '聯合國海洋法公約'}\n",
            "{'希吉拉', 'BH', '代號', 'Bh_(二合字母)', '伊斯蘭教', '伊斯蘭曆', 'AD'} set()\n",
            "{'角色', '神話', '兒子', '埃裏希·瑪利亞·雷馬克', '宙斯', '木衛六', '希瑪利亞'} {'木衛六', '希瑪利亞'}\n",
            "{'魯普薩烏帕齊拉', '烏帕齊拉'} {'魯普薩烏帕齊拉', '烏帕齊拉'}\n",
            "{'馬丁·路德·金', '金', '金章宗', '金朝', '宗'} set()\n",
            "{'皇帝', '宋朝', '御座', '宋仁宗'} {'宋仁宗'}\n",
            "{'藤島康介', '藝術家', '職業', '卡通', 'BBS'} {'天津大學BBS', '藤島康介'}\n",
            "{'宋教仁', '政治家', '國民黨_(1912年)', '中華民國', '中國國民黨'} {'宋教仁', '潯陽街道'}\n",
            "{'意', '學名', '東方', '山斑鳩'} {'山斑鳩', '東方扁蝦', '東方蠊'}\n",
            "{'城市', '海', '格但斯克', '波蘭'} {'格但斯克電車', '天主教格但斯克總教區', '格但斯克橋', '格但斯克理工大學', '格但斯克國家博物館'}\n",
            "{'喬治·卡特萊特·馬歇爾', '美國陸軍參謀長', '戰爭', '美國', '美國陸軍', '陸軍參謀長_(印度)', '參謀長', '日俄戰爭'} {'羅斯福家族', '喬治·卡特萊特·馬歇爾', '小富蘭克林·德拉諾·羅斯福'}\n",
            "{'曹鼎', '孫子', '大司馬'} {'曹鼎'}\n",
            "{'哈爾科夫', '基留希', '聚落', '哈爾科夫州', '烏克蘭'} {'基留希'}\n",
            "{'張衡', '豎笛', '西鄂縣', '漢', '南陽郡', '賦', '侍', '漢賦'} {'張衡', '二京賦'}\n",
            "{'生物', '色素', '蕉鵑', '綠色', '鸚形目', '冠蕉鵑'} {'白梢冠蕉鵑', '冠蕉鵑'}\n",
            "{'科技大學_(臺灣學制)', '國立臺灣科技大學', '國立成功大學', '國立臺灣科技大學研揚大樓'} {'國立成功大學博物館', '國立臺灣科技大學管理研究所', '國立臺灣科技大學校史室', '國立臺灣科技大學研揚大樓', '國立成功大學附設高級工業職業進修學校'}\n",
            "{'金馬獎', '羅馬假期', '羅馬', '假日', '主人公', '奧黛麗·赫本'} {'奧黛麗·赫本', '羅馬假期'}\n",
            "{'燕_(安史之亂)', '河北省', '燕山_(消歧義)', '秦皇島市', '大學', '燕大', '燕山大學'} {'秦皇島市第一中學', '燕大', '秦皇島職業技術大學', '燕山大學科技園', '燕山大學'}\n",
            "{'姚明', '凱蒂·史密斯', '今天', '奈史密斯籃球名人紀念堂', '威爾·史密斯', '考·奈史密斯', '詹姆斯·奈史密斯', 'J·R·史密斯'} {'傑克·希克馬', '姚明', '大衛·斯托克頓', '奈史密斯籃球名人紀念堂'}\n",
            "{'2018年', '臺灣', '臺灣土地銀行', '臺北市'} set()\n",
            "{'美國', '羅斯福', '富蘭克林', '美國總統', '1945年', '富蘭克林·德拉諾·羅斯福', '總統'} {'羅斯福家族', '埃莉諾·羅斯福', '富蘭克林·德拉諾·羅斯福總統圖書館暨博物館', '羅斯福總統', '小富蘭克林·德拉諾·羅斯福'}\n",
            "{'軍官·情人', '軍官', '蝦夷', '德川家康'} set()\n",
            "{'孟加拉國', '作家', '魯普薩烏帕齊拉', '烏帕齊拉'} {'魯普薩烏帕齊拉', '孟加拉族'}\n",
            "{'中國共產黨', '中山大學_(消歧義)', '莫斯科中山大學', '博古'} set()\n",
            "{'水星凌日', '凌_(天體)', '2006年', '凌日'} {'水星凌日', '凌日'}\n",
            "{'妻子', '俄刻阿諾斯', '山神', '神', '忒堤斯', '提坦'} {'俄刻阿諾斯號', '俄刻阿諾斯', '俄刻阿尼得斯', '忒堤斯'}\n",
            "{'月球', '卡西尼', '法蘭西學會', '水利工程', '法國', '籍', '國籍', '喬瓦尼·多梅尼科·卡西尼'} {'雅克·卡西尼'}\n",
            "{'地形', '撞擊坑', '彗星', '面_(幾何)', '天衛四'} {'哈姆雷特撞擊坑', '天衛四'}\n",
            "{'士兵', '生命', '時間', '暗殺'} {'暗殺'}\n",
            "{'盧卡斯·巴斯克斯', '盧卡斯·埃爾南德斯', '喬治·盧卡斯', '盧卡斯·佩雷斯', '盧卡斯·古博特', '星際大戰', '盧卡斯·雷瓦'} {'星際大戰正傳三部曲'}\n",
            "{'數據', 'MacOS'} set()\n",
            "{'古希臘', '逍遙學派', '柏拉圖', '柏拉圖學院', '古希臘哲學', '哲學', '伊比鳩魯學派', '希臘', '斯多葛主義'} {'逍遙學派', '柏拉圖學院', '古希臘哲學', '新柏拉圖主義', '定義篇'}\n",
            "{'米開朗基羅', '米開朗基羅·法爾瑪提諾', '米開朗基羅·樂孔特'} {'米開朗基羅', '米開朗基羅撞擊坑', '卡普雷塞-米開朗基羅', '博納羅蒂之家'}\n",
            "{'北京市', '趙守福', '于化虎', '武將', '中國人民解放軍', '全國戰鬥英雄代表會議', '爆炸', '虎'} {'于化虎', '趙守福', '全國戰鬥英雄代表會議'}\n",
            "{'住宅', '集合_(數學)', '客體', '集合', '有限集合'} {'平房子鎮', '有限集合', '康托爾定理'}\n",
            "{'指標', '長度', '汽車', '汽車理論'} {'汽車動力性', '汽車理論'}\n",
            "{'縣', '波蘭', '山城', '綠山城', '土地', '東部'} {'山城路街道', '山城街道'}\n",
            "{'內燃機', '運動_(物理學)', '燃燒'} {'靜止參考系', '相對靜止'}\n",
            "{'動物', '棘皮動物', '培養皿'} set()\n",
            "{'喬木_(消歧義)', '胡喬木', '中國社會科學院', '院長'} {'中國社會科學院歐洲研究所', '中國社會科學院民族學與人類學研究所', '胡石英'}\n",
            "{'非營利組織', '組織', '個人', '利潤'} {'非營利組織'}\n",
            "{'士兵', '輕機槍', '班_(軍事)', '自動步槍', '軍隊', '步槍', '機槍', '通用機槍'} {'布倫輕機槍', '67式通用機槍', '輕機槍', '88式通用機槍', '通用機槍'}\n",
            "{'貓', 'MacOS', '貓科'} {'MacOS版本歷史', 'MacOS'}\n",
            "{'劇種', '戲曲', '中國', '豫劇'} {'豫劇'}\n",
            "{'河', '日治時期', '臺北', '臺灣日治時期', '行政區劃', '臺灣', '川端町', '臺北市'} {'川端町'}\n",
            "{'城市', '首都', '世界', '主權', '新西蘭', '惠靈頓', '大洋洲_(太平洋諸島嶼)', '人種'} {'惠靈頓'}\n",
            "{'弗拉基米爾·普京', '代理_(政治)', '小時', '總理', '羅曼·伊戈列維奇·普京', '總統'} {'俄羅斯反對普京的聲音', '柳德米拉·普京娜', '俄羅斯代理總統', '弗拉基米爾·普京的政治生涯'}\n",
            "{'恐龍', '奧薩馬·本·拉登', '艾山·買合蘇木', '伊斯蘭教'} {'基地組織', '艾山·買合蘇木'}\n",
            "{'阿里·卡特', '霍華德·卡特', '美國', '政區首長', '美國總統', '吉米·卡特', '卡特', '總統'} {'吉米·卡特'}\n",
            "{'倫敦', '查理·卓別林'} {'悉尼·厄爾·卓別林', '小查理·卓別林', '悉尼·約翰·卓別林', '漢娜·卓別林', '摩登時代'}\n",
            "{'民主革命', '亞歷山大·克倫斯基'} {'克倫斯基攻勢', '亞歷山大·克倫斯基'}\n",
            "{'中央研究院院士', '中央研究院', '研究生', '院士', '國立臺灣大學', '國立臺灣大學應用力學研究所', '研究所', '工程力學', '力學', '專業人士', '學士'} {'林啓萬', '劉佩玲', '國立臺灣大學應用力學研究所', '鮑亦興', '吳光鍾'}\n",
            "{'處理器', '資源_(計算機科學)', '程序', 'SETI@home'} {'搜尋地外文明計劃', 'SETI@home'}\n",
            "{'方言', '入聲', '淮劇', '生理學', '概念'} {'淮劇'}\n",
            "{'亂世佳人', '亂世佳人_(2007年電視劇)', '費雯·麗'} {'AFI百年百大愛情電影', 'AFI百年百大電影臺詞', 'AFI百年系列', 'AFI百年百大電影', 'AFI百年百大喜劇電影'}\n",
            "{'天氣', '氣象衛星', '月球', '地球'} {'氣象衛星', '向日葵系列衛星', '氣象學', '天氣預報'}\n",
            "{'程序員'} {'程序員', '軟體度量'}\n",
            "{'馬克思主義', '格魯喬·馬克思', '作品', '馬克思主義政治經濟學', '卡爾·馬克思', '政治經濟學', '馬克思·多爾穆瓦站', '海因裏希·馬克思'} set()\n",
            "{'中國共產黨', '中華人民共和國元帥', '軍銜', '中華人民共和國', '元帥', '羅榮桓'} {'羅榮桓', '中華人民共和國大元帥'}\n",
            "{'京畿道', '大韓民國', '人口', '京畿'} {'京畿道知事', '中京畿道'}\n",
            "{'衛', '木星的衛星', '木星', '衛星', '木衛四', '木材'} {'木衛四', '木衛五十二', '木衛十四'}\n",
            "{'金邊', '洞裏薩湖', '柬埔寨', '東南亞'} set()\n",
            "{'桑吉巴蝴蝶魚', '門', '印度洋', '脊索動物'} {'桑吉巴蝴蝶魚'}\n",
            "{'明朝皇族', '僧侶', '宗室_(清朝)', '八大山人', '宗室', '明朝', '輔國中尉', '中尉'} {'輔國中尉', '八大山人'}\n",
            "{'國立臺灣師範大學', '教師', '臺灣', '大學', '朱棣文', '神仙·老師·狗'} {'國立臺灣師範大學圖文傳播學系', '國立臺灣師範大學教育學院'}\n",
            "{'法耶茲·薩拉傑', '利比亞', '的黎波里', '民意代表', '議會', '政治人物'} {'的黎波里阿赫利體育俱樂部', '的黎波里大學', '法耶茲·薩拉傑', '阿基拉·薩拉赫·伊薩'}\n",
            "{'版本控制', '軟件開發', '軟件', '軟件測試', '活動'} {'軟件開發過程', '軟件項目管理', '軟件開發', '版本控制軟件比較', '軟件工程'}\n",
            "{'加利福尼亞大學洛杉磯分校', '蘇菲亞·柯波拉', '成人電影', '加利福尼亞大學'} {'加州州立大學洛杉磯分校', '加州大學洛杉磯分校棕熊隊', '海港–加州大學洛杉磯分校醫學中心'}\n",
            "{'輻鰭魚綱', '流域', '南美洲', '隱兵鯰', '輻鰭魚'} {'大刺棘杆鮠', '亞馬遜河咽鱂', '熱帶烏溪鱂', '黑帶直線脂鯉', '阿氏喉鰭魚'}\n",
            "{'臺南天馬電臺', '雲林定遠電臺', '冷戰', '價值', '地區', '短波', '亞洲', '短波廣播'} {'雲林定遠電臺'}\n",
            "{'亞洲', '身', '血親', '歐洲', '玲子·艾爾斯沃斯'} {'玲子·艾爾斯沃斯'}\n",
            "{'民族', '歐洲民族', '民族國家', '歐洲', '語言', '國家'} {'歐洲民族'}\n",
            "{'兒玉利國', '公務員', '臺灣縣'} {'兒玉利國', '臺灣縣'}\n",
            "{'麻婆豆腐', '大豆', '麻', '原材料', '豆腐', '種子', '豆瓣醬', '豆製品'} {'麻婆豆腐'}\n",
            "{'班距', '基隆市', '新北市', '新北市市區公車', '公車', '新北市區公車790路線', '金山'} {'新北市區公車573路線', '新北市區公車813路線', '新北市區公車790路線', '新北市區公車570路線', '新北市區公車575路線'}\n",
            "{'敘事詩', '奧德賽', '傳說', '荷馬史詩', '荷蘭', '歐洲', '史詩', '詩人', '荷馬'} {'荷馬', '荷馬史詩'}\n",
            "{'人類', '果實', '植物', '農業'} set()\n",
            "{'1982年', '竹內瑪莉亞', '藝人', '山下達郎'} {'一直在一起吧', '我們的夏日夢'}\n",
            "{'液體', '物質狀態', '狀態', '空氣污染', '物質', '空氣'} {'港澳空氣污染', '馬來西亞空氣污染', '香港空氣污染指數', '空氣污染', '空氣'}\n",
            "{'辦公室', '臺中市政府陽明大樓', '政府', '臺中市政府', '臺中市', '豐原區'} {'臺中市政府陽明大樓', '臺中市豐原區翁子國民小學', '臺中市政府衛生局', '臺中市豐原區豐原國民小學', '臺中市政府勞工局'}\n",
            "{'王震', '鄧小平'} {'王震起'}\n",
            "{'血液', '傳說', '民俗', '虛構', '食物', '生物', '吸血鬼'} {'吸血鬼'}\n",
            "{'楊小凱', '古典經濟學', '分析', '理論', '教授', '邊際', '哈佛大學', '經濟學'} {'楊小凱'}\n",
            "{'創新', '麗臺科技', '科學', '全球'} set()\n",
            "{'蕈類', '杏', '香杏麗蘑', '中國', '中國內地', '杏_(演員)', '蒙古高原草原內蒙古草原東北草原', '內地'} {'香杏麗蘑'}\n",
            "{'世紀', '科隆', '20世紀', '第三產業', '比例'} set()\n",
            "{'北京大學', '畫夢錄', '哲學系', '何其芳', '漢園三詩人', '詩人'} {'畫夢錄', '何其芳', '漢園三詩人', '李廣田', '卞之琳'}\n",
            "{'教育局', '臺北市政府', '萬芳_(消歧義)', '臺北市文山區興華國民小學', '臺北市立萬芳高級中學', '小學', '文山區', '臺北市立萬芳醫院', '興華國小', '臺北市'} {'萬芳醫院站', '臺北市文山區萬芳國民小學', '臺北市政府教育局', '臺北市文山區興華國民小學'}\n",
            "{'地形', '象山', '象山公園', '象山公園_(臺北市)', '高層建築物'} {'象山公園'}\n",
            "{'文化遺產', '布魯塞爾', '古蹟', '地標', '世界遺產', '食物', '窩夫', '聯合國教育、科學及文化組織'} set()\n",
            "{'臺南天馬電臺', '雲林定遠電臺', '價值', '地區', '短波', '中國大陸', '越南戰爭', '短波廣播'} {'雲林定遠電臺'}\n",
            "{'劉丹', '劉丹_(香港)', '本名', '演員', '工作', '民意代表'} set()\n",
            "{'核', '代謝', '真核生物', '細菌', '古菌', '代謝途徑', '生物', '演化'} {'嘌呤代謝', '古菌', '真核生物', '雙鞭毛生物'}\n",
            "{'手語', '1940年代', '英國', '學校', '1940年', '年代', '英國手語'} {'手語翻譯', '英澳新手語', '手語拼寫法', '英國手語', '香港手語'}\n",
            "{'達拉斯', '美國', '總部'} set()\n",
            "{'明朝', '謝磷'} set()\n",
            "{'萬安_(正統進士)', '商輅', '明憲宗', '李賢_(大學士)', '土地'} {'明憲宗'}\n",
            "{'奧斯卡', '文學', '獎勵'} set()\n",
            "{'德語正寫法', '香港大學', '授課語言'} {'授課語言'}\n",
            "{'達悟族', '海里', '蘭嶼', '文化', '行政院', '漁船', '外海街道', '海'} {'達悟族'}\n",
            "{'澳門特別行政區政府'} {'澳門2013年度頒授勳章、獎章和獎狀名單', '澳門2010年度頒授勳章、獎章和獎狀名單', '澳門2018年度頒授勳章、獎章和獎狀名單', '澳門2014年度頒授勳章、獎章和獎狀名單', '澳門2016年度頒授勳章、獎章和獎狀名單'}\n",
            "{'美國', '蓋茲堡演說', '林肯_(2012年電影)', '美國曆史', '亞伯拉罕·林肯', '總統'} {'蓋茲堡演說', '羅伯特·託德·林肯'}\n",
            "{'九州縹緲錄', '小說', '九州', '背景', '九州·天空城'} {'九州'}\n",
            "{'總督府', '學校', '臺北', '臺灣總督府臺北高等學校', '臺灣', '臺灣總督府'} {'臺灣總督府民政部', '臺灣總督府評議會', '臺灣總督府臺北高等學校', '臺北高等學校講堂', '臺灣總督府高等商業學校'}\n",
            "{'核', '葡萄', '植物', '莖', '藝術類型', '汁'} set()\n",
            "{'中央部屬高校', '類型', '教育部', '學校', '中央', '中國政法大學'} {'中央部屬高校'}\n",
            "{'詹姆斯·諾克斯·波爾克', '選舉'} set()\n",
            "{'英國', '單曲', '披頭四樂隊'} set()\n",
            "{'魔戒', 'J·R·R·托爾金', '哈比', '伊迪絲·托爾金', '哈比人', '小說', '克里斯托夫·托爾金', '哈比人歷險記'} {'阿爾達的語言', '魔戒現身', '哈比人列表', '哈比人', '瑟蘭督伊'}\n",
            "{'客家民系', '林鈺婷'} {'林鈺婷'}\n",
            "{'北', '中國北方航空', '遼朝', '遊牧', '遊牧民族', '中國', '政權', '君主制'} set()\n",
            "{'美國', '阿爾·戈爾', '政治家'} set()\n",
            "{'宋高宗', '宋朝', '兒子', '宋朝君主列表', '宋徽宗', '皇帝'} {'趙檉'}\n",
            "{'電子計算機', '計算機協會', '亞洲', '學會', '區域', '計算機', '現在'} {'計算機協會'}\n",
            "{'熱帶', '熱帶海洋性氣候', '氣候', '面積', '北马里亞納羣島', '海洋性氣候'} {'塞班國際機場', '熱帶海洋性氣候', '密克羅尼西亞運動會', '卡皮托爾希爾', '.mp'}\n",
            "{'教父', '弗朗西斯·科波拉', '奧斯卡金像獎', '對話', '金像獎', '奧斯卡', '教父_(基督教歷史)', '電影', '教父2'} {'金像獎', '1930年奧斯卡金像獎', '蘇菲亞·柯波拉', '第47屆奧斯卡金像獎', '教父2'}\n",
            "{'史', '二十四史', '宋史', '歷史書', '中國', '丞相', '宋', '元朝'} {'宋史'}\n",
            "{'動物', '系統', '爬行動物'} set()\n",
            "{'艾薩克·牛頓', '研究', '經典力學', '進步_(雜誌)', '力學'} {'拉格朗日方程式', '經典力學', '哈密頓力學', '拉格朗日力學', '分析力學'}\n",
            "{'城市', '俄羅斯人口', '人口', '聖彼得堡', '俄羅斯'} set()\n",
            "{'路易斯·伊納西奧·盧拉·達席爾瓦', '伊朗', '轉化_(生物)', '社會', '巴西', '民意代表', '總統', '巴西總統'} {'路易斯·伊納西奧·盧拉·達席爾瓦'}\n",
            "{'分子生物學', '核', '真核生物', '微生物', '古菌', '生物', '過程'} {'信使核糖核酸', '已測序真核生物基因組列表', '蛋白質生物合成', '真核轉錄'}\n",
            "{'洋', '近代', '北冰洋', '世界', '海冰', '冰', '海'} {'北冰洋'}\n",
            "{'繼承', '所有權', '繼承人'} set()\n",
            "{'企業', '火衛二', '火星'} {'火星的衛星', '火星日食', '火衛二'}\n",
            "{'首部', '城市規劃'} set()\n",
            "{'CAT', 'Cat_(Unix)', '英語人名', '蒲公英'} {'短啄蒲公英', '小五臺蒲公英', '各國警察數量列表', '朝鮮蒲公英', '蒲公英'}\n",
            "{'伊俄卡斯忒', '神話', '木衛二十四', '木星的衛星', '木衛二', '希臘神話', '希臘', '俄狄浦斯'} {'伊俄卡斯忒', '伊底帕斯王', '木衛二十四', '小行星899', '俄狄浦斯'}\n",
            "{'自由中國', '記者', '聶華苓'} {'聶華苓'}\n",
            "{'有期徒刑', '1998年', '波爾布特', '武將', '塔莫克', '無期徒刑', '政治人物'} set()\n",
            "{'夏威夷大學', '斯科特·謝潑德'} set()\n",
            "{'趙青', '趙丹', '妻子'} set()\n",
            "{'模特兒', '高級中學', '蔡卓妍', '兼職'} {'石天欣'}\n",
            "{'王室', '過去', '宦官'} set()\n",
            "{'醋', '釀造醋'} {'釀造醋'}\n",
            "{'功能', '樣品', '視野'} set()\n",
            "{'蒂姆·伯頓', '電影導演', '美國', '伯頓', '美國電影'} {'蒂姆·伯頓'}\n",
            "{'俄羅斯', '瓦西里·康定斯基', '國籍'} {'瓦西里·康定斯基'}\n",
            "{'熱帶氣旋', '地區', '雷暴', '颱風', '氣旋', '氣象廳_(日本)', '亞熱帶', '世界氣象組織', '風', '旋轉', '洋流'} {'後熱帶氣旋', '颱風', '熱帶氣旋', '南大西洋熱帶氣旋'}\n",
            "{'內畫壺', '類型', '桶_(單位)', '乾隆', '水桶'} {'內畫壺'}\n",
            "{'碳化鈣', '氧化鈣', '碳', '乙炔', '氧化', '水', '鈣'} {'碳化鈣', '乙炔銅', '乙炔', '苯乙炔', '乙炔銀'}\n",
            "{'蘋果公司', '個人電腦', '蘋果_(消歧義)'} set()\n",
            "{'米開朗基羅', '藝術家', '中世紀', '米開朗基羅·法爾瑪提諾', '義大利人', '米開朗基羅·樂孔特'} {'米開朗基羅撞擊坑'}\n",
            "{'90年', '大佛', '樂山大佛'} {'樂山大佛'}\n",
            "{'動物', '腦幹', '海', '棘皮動物'} set()\n",
            "{'揮發性', '尾', '物質', '花椒'} {'屏東花椒', '簕欓花椒', '翼柄花椒', '嶺南花椒', '異葉花椒'}\n",
            "{'兄弟_(無線電視劇)', '晉國', '君主', '儲君', '族', '政權', '晉文公', '歷史'} set()\n",
            "{'遊戲', '國際象棋'} {'國際象棋'}\n",
            "{'恐怖主義', '艾山·買合蘇木'} {'艾山·買合蘇木'}\n",
            "{'中國人民解放軍', '中國人民解放軍武漢軍區'} {'中國人民解放軍武漢軍區空軍', '中國人民解放軍武漢軍區'}\n",
            "{'世界', '地區議會_(德國)', '政府', '懷俄明州', '女性', '法案'} {'懷俄明州'}\n",
            "{'宋高宗', '宋朝', '北宋', '兒子', '南宋', '宋徽宗', '皇帝', '高宗'} {'宋欽宗', '南宋', '宋朝君主列表', '宋高宗'}\n",
            "{'水族箱', '南美洲', '克氏無齒翎電鰻', '電鰻'} {'克氏無齒翎電鰻'}\n",
            "{'開元路_(臺南市北區)', '亞洲', '全姓', '全長', '道路'} {'開元路街道'}\n",
            "{'導彈'} set()\n",
            "{'內衣', '乳房', '胸圍'} {'胸圍'}\n",
            "{'亞當·迪凡', '耶和華', '亞當·列維', '平特爾·亞當', '亞當', '夏娃', '亞當·斯密', '芬妮·亞當'} set()\n",
            "{'世界', '量_(物理)', '熨斗', '雞', '求和符號'} {'熨斗', '熨斗區', '熨斗鎮'}\n",
            "{'中正區_(臺北市)', '鄰里社區', '臺北市客家文化主題公園', '臺北市'} {'臺北市議員列表', '臺北市客家文化主題公園', '臺北市立中正國民中學', '桃園市客家文化館', '臺北市中正區螢橋國民小學'}\n",
            "{'君主立憲制', '戊戌', '光緒', '戊戌變法', '權力', '光緒帝', '中國', '戊'} {'戊戌變法'}\n",
            "{'簇', '一起_(政黨聯盟)', '葡萄', '果實', '呼吸'} {'葡萄', '山葡萄'}\n",
            "{'果酒', '酒', '蘋果酒', '世界'} {'蘋果酒'}\n",
            "{'大氣層', '太陽', '天王星', '行星', '太陽系'} {'內側行星和外側行星', '天王星軌道探測器', '天王星', '冰巨行星'}\n",
            "{'液體'} set()\n",
            "{'民族', '斯科特·布赫茲', '傳統', '政黨', '澳大利亞', '政治人物'} {'斯科特·布赫茲'}\n",
            "{'梅庵_(肇慶)'} set()\n",
            "{'摩托車', '中華人民共和國', '中華人民共和國勞動人事部', '水'} {'中華人民共和國人事部', '中華人民共和國勞動人事部', '何光', '中華人民共和國勞動和社會保障部'}\n",
            "{'現實', '性幻想', '幻想'} {'強暴幻想', '性幻想'}\n",
            "{'行政機關', '艾根訴加拿大案', '奧林·艾根', '加拿大', '因果關係', '案', '曼弗雷德·艾根'} {'艾根訴加拿大案'}\n",
            "{'比例', '水', '硫酸'} set()\n",
            "{'Microsoft Messenger service', 'Windows Live Messenger', 'Adium', 'YM', 'Kopete', 'Yahoo! Messenger', 'Yahoo! Voice', 'Yahoo! Mail', 'Meebo', '即時通'} {'YM', 'Kopete', 'Meebo'}\n",
            "{'艾伯特縣', '艾伯特_(科羅拉多州)'} {'艾伯特縣'}\n",
            "{'恆星', '最長壽者', '同位素', '巨星', '98', '壽命', '鍀', '紅巨星'} {'鍀'}\n",
            "{'歐陸舞曲', '洲', '北美洲', '南美洲'} {'歐陸舞曲'}\n",
            "{'城市', '奧斯陸', '奧斯陸協議', '發明家', '諾貝爾和平獎', '挪威_(愛荷華州)', '阿爾弗雷德·諾貝爾', '瑞典', '挪威'} {'奧斯陸城市博物館', '奧斯陸證券交易所', '奧斯陸市政廳', '奧斯陸中央車站', '奧斯陸主教座堂'}\n",
            "{'慈禧太后', '戊戌', '光緒', '老撾', '戊戌變法', '光緒帝', '謠言', '戊', '康有爲'} {'戊戌變法'}\n",
            "{'電子藝術大獎', '獎勵'} set()\n",
            "{'成龍', '英國', '美國', '票房', '演員', '電影', '好萊塢', '成功'} {'成龍'}\n",
            "{'硬度', '物質', '鑽石', '今天'} {'鑽石', '硬度試驗'}\n",
            "{'閩南語維基百科', '閩南語', '白話字', '白話', 'WMF'} {'閩南語維基百科', '中文維基百科', '英語維基百科', 'WMF', '湖南省經濟'}\n",
            "{'麥', '2013年', '世界', '小麥', '糧食'} {'小麥', '玉米'}\n",
            "{'社會', '共和黨_(美國)'} set()\n",
            "{'模特兒', '香港', '兩人_(aiko單曲)', '鍾凱瑩', '藝人', '何基佑', '配偶'} {'鍾凱瑩'}\n",
            "{'狸', '貓', '馬島長尾狸貓'} {'馬島長尾狸貓'}\n",
            "{'毛皮', '熱帶', '咬鵑科', '氣候'} set()\n",
            "{'古希臘', '神話', '希臘神話', '歐洲', '希臘', '文明'} set()\n",
            "{'2020', '中學', '內湖_(臺北市內湖區大字)', '麗山', '臺北', '臺北市立麗山高級中學', '內湖區'} {'臺北市內湖區麗山國民小學', '柯明樹', '麗山', '臺北市立麗山高級中學', '鄭顯三'}\n",
            "{'衛星', '土星', '赫歇爾_(消歧義)', '土衛一'} {'土衛三', '土衛四十九', '土衛四十一', '土衛一', '土衛一表面特徵列表'}\n",
            "{'家畜', '種子', '植物', '新月沃土'} {'新月沃土'}\n",
            "{'雞', '量_(物理)'} set()\n",
            "{'春秋', '穀梁傳', '春秋_(書)'} {'春秋三傳', '穀梁傳', '公羊傳'}\n",
            "{'恐怖主義', '刑罰', '麻原彰晃', '本名', '罪', '邪教'} {'麻原彰晃'}\n",
            "{'第二次鴉片戰爭', '鴉片', '天津條約', '1958年', '第一次鴉片戰爭'} {'第二次大沽口之戰', '天津條約'}\n",
            "{'一次文獻', '二手貨', '文獻', '證據'} {'一次文獻'}\n",
            "{'京畿道', '京畿', '人口', '首爾特別市'} set()\n",
            "{'納米比亞', '火山', '海底火山'} {'納米比亞駐外機構列表', '納米比亞總統', '中國駐納米比亞大使列表', '納米比亞，勇氣之地', '海底火山列表'}\n",
            "{'橫濱國立大學', '橫濱市', '大學', '電視劇'} set()\n",
            "{'果實', '揮發性', '物質', '花椒'} {'簕欓花椒', '翼柄花椒'}\n",
            "{'上海市', '電路', '集成電路', '中國', '中芯國際', '總部'} {'集成電路設計', '超大規模集成電路', '半導體廠商銷售排名', '兆芯', '中芯國際'}\n",
            "{'戰略', '導彈', '戰術'} {'戰術'}\n",
            "{'丘陵', '基隆市', '丘', '新北市', '市', '市_(中華民國)', '臺灣', '土地'} {'基隆市'}\n",
            "{'電子藝術大獎', '獎勵'} set()\n",
            "{'大公報', '香港'} set()\n",
            "{'路易斯·伊納西奧·盧拉·達席爾瓦', '罷工', '組織', '軍政_(政體)', '軍政府'} {'路易斯·伊納西奧·盧拉·達席爾瓦'}\n",
            "{'民國時期', '民國', '大佛', '樂山大佛'} {'樂山大佛'}\n",
            "{'總體', '元素_(數學)', '集合_(數學)', '客體', '化學元素', '集合', '有限集合'} {'有限集合', '總體'}\n",
            "{'三立國際臺', '三立電視', '總部', '杭州駐防城', '內湖區', '國際臺'} {'三立國際臺', '三立戲劇臺', '三立都會臺', '三立電視', '三立綜合臺'}\n",
            "{'盟_(行政區劃)', '傳統', '數', '內蒙古自治區', '東北', '中國東北地區', '人口', '中國', '東蒙'} set()\n",
            "{'藤子·F·不二雄', '匿名', '飛行'} {'藤子·F·不二雄', '藤子·F·不二雄創作', '藤子不二雄', '大雄與風之使者', '藤子不二雄Ⓐ'}\n",
            "{'水稻', '父親', '德國', '袁隆平', '稻', '雜交水稻'} {'袁隆平', '雜交水稻', '湖南雜交水稻研究中心', '黃耀祥', '雜交水稻國家重點實驗室'}\n",
            "{'國', '中華人民共和國外交', '中華人民共和國', '大國', '大國外交', '中國', '年代', '外交政策', '詞', '外交'} {'大國外交', '中華人民共和國外交'}\n",
            "{'溫室', '熱空氣', '空氣'} {'溫室'}\n",
            "{'西北', '昭武', '姓', '美國', '昭武九姓', '回族', '維吾爾族'} set()\n",
            "{'精英大學', '柏林自由大學', '柏林', '自由大學'} {'柏林工業大學', '柏林自由大學', '柏林洪堡大學'}\n",
            "{'阿爾·戈爾', '政治家'} set()\n",
            "{'湯姆·麥克阿瑟', '老亞瑟·麥克阿瑟', '杜魯門總統解職道格拉斯·麥克阿瑟', '道格拉斯·麥克阿瑟', '約翰·海克特·麥克阿瑟', '小亞瑟·麥克阿瑟', '美國', '西點軍校'} {'湯姆·麥克阿瑟', '小亞瑟·麥克阿瑟', '李武陵', '麥克阿瑟堡'}\n",
            "{'漢四郡', '郡', '漢', '扶餘國', '漢朝', '太守'} {'扶餘國'}\n",
            "{'共和國勳章', '水稻', '袁隆平', '勳章', '突破'} {'袁隆平', '小行星8117', '雜交水稻國家重點實驗室'}\n",
            "{'文字', '維京人', '冰島語', '分支', '夏爾·古諾', '維京時代', '古諾斯語', '語言', '冰島'} {'冰島語'}\n",
            "{'若竹町_(臺南市)', '日本', '行政區劃', '若竹町', '戰爭'} {'伏見町', '青葉町', '汐見町'}\n",
            "{'狼', '白俄羅斯', '野牛', '歐洲野牛', '宿主', '歐洲', '動物'} {'古風野牛', '歐洲野牛', '野牛', '印度野牛', '野牛屬'}\n",
            "{'象', '唐朝'} {'大象露西'}\n",
            "{'金酸莓獎', '艾倫·狄珍妮', '艾倫', '伍迪·艾倫', '帚', '艾倫·狄珍妮秀', '艾倫·鮑絲汀', '艾倫·艾佛森', '獎勵'} set()\n",
            "{'提貝里烏斯', '提比略·克勞狄烏斯·尼祿', '70', '奧古斯都', '蓋烏斯·屋大維', '御座', '提比略·格拉古'} set()\n",
            "{'臺灣省政府', '功能', '政府', '臺灣省', '1998年'} {'花蓮縣政府', '雲林縣政府', '臺灣省政府', '臺東縣政府', '南投縣政府'}\n",
            "{'二氧化硫', '木星的衛星', '平原', '木衛一', '霜', '硫'} set()\n",
            "{'維基百科', '組別_(體育)', '電子藝術大獎', '1987年'} {'電子藝術大獎'}\n",
            "{'城市', '耶路撒冷', '東西_(作家)'} set()\n",
            "{'教父', '弗朗西斯·科波拉', '奧斯卡金像獎', '對話', '金像獎', '奧斯卡', '教父_(基督教歷史)', '電影', '教父2'} {'金像獎', '1930年奧斯卡金像獎', '蘇菲亞·柯波拉', '最後的教父', '教父2'}\n",
            "{'天佑國王', '歌曲', '愛國歌_(朝鮮民主主義人民共和國)', '亞洲'} {'天佑新西蘭', '天佑國王', '天佑安圭拉'}\n",
            "{'明朝', '賈繼之'} {'賈繼之'}\n",
            "{'披頭四樂隊', '單曲', '臺南市'} {'橡皮靈魂'}\n",
            "{'淋巴結腫大', '淋巴結'} {'淋巴結腫大', '前哨淋巴結'}\n",
            "{'馬爾切洛·馬爾皮吉', '名稱', '馬氏管', '意大利', '解剖學'} set()\n",
            "{'示威', '象徵', '前線', '人名', '王維', '坦克人', '坦克', '歷史'} {'坦克人'}\n",
            "{'漫畫家', '作品', '夏菜', '廣島縣', '川瀨夏菜'} {'小林俊彥', '矢神椎野', '八神健', '新久千映', '藤澤志月'}\n",
            "{'跟蹤支援隊', '特別攻擊隊'} set()\n",
            "{'2020', '臺灣團結聯盟', '劉一德', '主席', '臺灣', '全國不分區及僑居國外國民立法委員選舉區', '政黨領袖', '立法院立法委員選舉'} {'臺灣團結聯盟'}\n",
            "{'波斯語', '數學', '維吾爾語', '洋蔥'} {'洋蔥'}\n",
            "{'喬治·卡特萊特·馬歇爾', '美國陸軍參謀長', '美國', '美國陸軍', '陸軍參謀長_(印度)', '第一次世界大戰', '參謀長', '世界大戰'} {'羅斯福家族', '喬治·卡特萊特·馬歇爾', '第二次世界大戰戰役列表', '小富蘭克林·德拉諾·羅斯福', '第二次世界大戰年表'}\n",
            "{'桑·馬達', '發動機', '電動機', '能量', '差異_(哲學)', '加查·馬達'} {'電動機'}\n",
            "{'大學'} {'巴黎聖母院大學', '劉立方', '聖母院大學'}\n",
            "{'加利福尼亞大學柏克萊分校', '加利福尼亞大學', 'SETI@home', '政府', '分佈式計算', '計算'} {'BOINC'}\n",
            "{'秦國', '燕國', '滅亡', '戰國時期', '趙國', '王翦'} set()\n",
            "{'金馬獎', '張學友', '笑', '電影', '江湖'} {'張學友87演唱會', '張學友'}\n",
            "{'少女小漁_(電影)', '1995年', '亞太影展', '劉若英', '主人公', '1995', '我的美麗與哀愁'} {'少女小漁劉若英的美麗與哀愁', '劉若英'}\n",
            "{'衛', '木星的衛星', '火箭', '木星', '木衛四', '木材'} set()\n",
            "{'狼', '捕食', '野牛', '歐洲野牛', '動物園', '天敵_(電視劇)', '歐洲', '動物'} {'歐洲野牛', '寧波野生動物園', '野牛', '印度野牛', '野牛屬'}\n",
            "{'泰晤士', '排名', '英國', '全球', '倫敦大學學院', '大學排名', '倫敦大學'} {'泰晤士'}\n",
            "{'鄧小平', '理論', '鄧小平理論', '社會主義', '中國'} {'鄧小平理論'}\n",
            "{'城市', '美國', '芝加哥'} {'芝加哥太陽報'}\n",
            "{'土城', '土衛一', '土星的衛星'} set()\n",
            "{'郊區', '日治時期', '臺北', '臺灣日治時期', '行政區劃', '臺灣', '川端町', '臺北市'} {'川端町'}\n",
            "{'東京', '智庫', '世界', '報告', '世界最佳宜居城市', '經濟學人信息社'} {'全球最昂貴城市', '經濟學人信息社'}\n",
            "{'主人公', '藍橋', '魂斷藍橋'} {'藍橋', '魂斷藍橋'}\n",
            "{'綠色', '蕉鵑', '鸚形目', '冠蕉鵑'} {'冠蕉鵑'}\n",
            "{'藝術', '印象派', '法國', '派系'} set()\n",
            "{'九龍鄉_(鄰水縣)', '邛州直隸州', '同治', '四川省_(中華民國)', '曾光爔', '邛州', '祖籍', '民國'} {'曾光爔'}\n",
            "{'若昂·費雷拉·佛朗哥·平託·卡斯特洛布蘭科', '佛朗哥·裏卡爾迪', '西班牙', '傑斯·佛朗哥', '西班牙第二共和國', '民族主義', '弗朗西斯科·佛朗哥', '伊塔馬爾·佛朗哥', '韋羅妮卡·佛朗哥'} {'西班牙共和國流亡政府'}\n",
            "{'形象', '饕餮', '現實', '生活', '現實生活'} {'饕餮', '現實生活'}\n",
            "{'企業', '世界', '奇異', '美國', '波士頓', '通用電氣', '總部', '海'} {'通用電氣'}\n",
            "{'男性', '代謝', '減肥', '營養', '水平', '女性', '生物'} {'減肥', '節食'}\n",
            "{'縣_(中華民國)', '縣', '州', '市轄區_(中華人民共和國)', '區_(中華民國)', '潮州市', '市轄區', '巴蜀文化'} {'2005年中華人民共和國縣級以上行政區劃變更列表', '2015年中華人民共和國縣級以上行政區劃變更列表', '潮州市城南中學', '2016年中華人民共和國縣級以上行政區劃變更列表'}\n",
            "{'中國東部經濟區', '港口', '港埠都市', '泉州市', '中國'} {'泉州港', '港口城市大學聯盟'}\n",
            "{'博士', '博士後', '格林尼治', '化學', '美國', '有機化學', '沈宗瀛', '學位'} set()\n",
            "{'鄭氏鸞', '兒子'} set()\n",
            "{'西亞', '西南', '中東', '亞洲'} {'西亞'}\n",
            "{'中華人民共和國紡織工業部', '輕工業', '中華人民共和國', '中國'} {'中華人民共和國紡織工業部', '中央人民政府紡織工業部', '曹魯', '姜時彥', '中華人民共和國第二輕工業部'}\n",
            "{'西部', '薩爾波勒扎哈卜', '地區', '伊朗', '地震'} {'2017年兩伊邊境地震', '薩爾波勒扎哈卜'}\n",
            "{'臺南市東區復興國民小學', '東區', '臺灣國中教育', '東區_(臺南市)', '虎尾寮_(臺南市)', '臺南市'} {'臺南市東區裕文國民小學', '裕忠路', '裕孝路', '臺南市東區復興國民小學', '裕信路'}\n",
            "{'王實甫', '西廂記', '西廂記_(1927年電影)', '元朝'} {'王實甫', '牆頭馬上', '西廂記', '西廂傳奇', '四大名劇'}\n",
            "{'寒武紀', '寒武紀大爆發', '世界', '寒武紀_(消歧義)'} set()\n",
            "{'戴安娜·瑞格', '威爾士王妃', '組織', '戴安娜·艾嘉朗', '威爾斯', '政府', '戴安娜_(電影)', '非政府組織', '威爾斯王妃戴安娜', '王妃'} {'戴安娜廣場', '國際反地雷組織'}\n",
            "{'船', '波濤', '東海', '南小島', '臺灣', '岸', '漁民'} {'橄欖門', '北小島', '南小島'}\n",
            "{'聖保羅書院', '男性', '學校', '西區', '冰島'} {'符潤光'}\n",
            "{'榮譽', '成就_(電子遊戲)', '英國', '英國授勳及嘉獎制度', '個體', '服務', '成就', '制度'} {'馬來西亞聯邦授勳及嘉獎制度', '香港1968年元旦授勳名單', '英國授勳及嘉獎制度', '爵士'}\n",
            "{'賽普勒斯'} {'賽普勒斯', '賽普勒斯鎊', '賽普勒斯問題'}\n",
            "{'伊斯蘭教', '黎巴嫩', '北非', '西亞', '信仰', '阿拉伯語', '語言'} {'阿拉伯世界', '黎巴嫩阿拉伯語', '阿拉伯語國家和地區列表'}\n",
            "{'亞洲·矽谷計劃', '楊梅區', '桃園市', '楊梅_(大字)', '南部', '臺灣', '四縣話', '臺灣客家語'} {'峨眉鄉'}\n",
            "{'一生', '經濟學家', '楊小凱', '香港學界體育聯會'} {'楊小凱', '楊第甫'}\n",
            "{'桂皮', '糖尿病', '胰島素'} {'成人隱匿遲發性自體免疫糖尿病'}\n",
            "{'什葉派', '伊斯蘭教', '組織', '古賽爾戰役', '古賽爾_(敘利亞)'} set()\n",
            "{'船', '乘客', '遠洋定期船', '遊輪', '渡輪', '客輪'} {'遠洋定期船', '郵輪母港', '客輪', '遊輪', '客運樓'}\n",
            "{'北京理工大學', '電影院'} {'華北理工大學'}\n",
            "{'腎功能衰竭', '健康', '腎_(臟腑)', '腎功能', '尤里·安德羅波夫'} {'尤里·安德羅波夫'}\n",
            "{'維京人', '冰島語', '分支', '夏爾·古諾', '維京時代', '古諾斯語', '語言', '冰島'} {'冰島語', '古諾斯語'}\n",
            "{'電影', '荷馬', '集'} set()\n",
            "{'貝雷特', '貝塔·雷·比爾', '愛'} set()\n",
            "{'唐朝', '大佛', '樂山大佛'} {'樂山大佛'}\n",
            "{'90年', '長頸鹿'} {'前90年代', '90年代'}\n",
            "{'法律', '字', '宋潢_(嘉慶壬戌進士)', '星海', '山東省', '山東省_(中華民國)'} {'星海生活廣場', '星海街道'}\n",
            "{'許世友', '中國武術', '武術', '中國'} {'許家窪'}\n",
            "{'縣_(中華民國)', '臺東縣', '案例', '臺東垃圾焚化廠', '臺東'} {'岡山垃圾焚化廠', '崁頂垃圾焚化廠', '永康垃圾焚化廠', '臺東垃圾焚化廠', '臺灣垃圾焚化廠列表'}\n",
            "{'酒', '蘋果酒', '世界'} {'蘋果酒', '蘋果西打'}\n",
            "{'松山新店線', '萬華區', '臺北捷運', '板南線', '線', '西門站_(臺北捷運)', '西門站', '捷運', '中正區_(臺北市)'} {'臺電大樓站', '新店區公所站', '南港機廠', '臺北捷運341型電聯車'}\n",
            "{'力', '形狀', '幫助', '實體'} set()\n",
            "{'蝴蝶', '赫拉', '荷馬史詩', '史詩', '荷馬'} set()\n",
            "{'地面車站', '大韓民國', '煉武臺站'} {'地面車站', '江景線', '煉武臺站'}\n",
            "{'1994年', '香港', '中國', '法輪功', '口耳相傳'} {'法輪功在臺灣'}\n",
            "{'語言系屬分類', '組合', '印度', '印度教', '印度教神話', '系統', '歐羅巴', '吠陀'} {'吠陀梵語', '吠陀宗教', '吠陀文化', '吠陀', '娑摩吠陀'}\n",
            "{'張衡', '西鄂縣', '漢', '天文學', '南陽郡', '賦', '侍', '漢賦'} {'張衡', '二京賦'}\n",
            "{'成龍', '好萊塢', '美國', '電影', '美國電影', '成功'} set()\n",
            "{'倫敦', '查爾斯·狄更斯', '查理·卓別林', '童年'} {'悉尼·厄爾·卓別林', '小查理·卓別林', '悉尼·約翰·卓別林', '漢娜·卓別林', '摩登時代'}\n",
            "{'白俄羅斯', '捕食', '境', '歐洲', '牛族'} set()\n",
            "{'馬丁·路德·金', '金', '金章宗', '金朝', '宗'} set()\n",
            "{'本傑明·富蘭克林', '通信系統', '郵政', '富蘭克林_(維吉尼亞州)', '第一人', '費城'} set()\n",
            "{'洋', '北冰洋', '深度', '世界', '世界洋'} {'北冰洋'}\n",
            "{'丘陵', '淄博市', '山東省'} {'淄博市', '棗莊市'}\n",
            "{'路易·德·奧爾良_(1703年—1752年)', '路易十四', '軍事'} set()\n",
            "{'鉻', '金屬', '玉', '藍寶石', '寶石', '紅色', '剛玉', '紅寶石'} {'剛玉', '藍寶石', '紅寶石'}\n",
            "{'突厥', '卡拉卡爾帕克斯坦共和國', '卡拉卡爾帕克人', '斯坦', '突厥語族', '本地人'} {'卡拉卡爾帕克蘇維埃社會主義自治共和國', '卡拉卡爾帕克斯坦共和國', '穆薩·葉爾尼亞佐夫', '卡拉卡爾帕克語'}\n",
            "{'古埃及', '古代史', '科學', '外科學', '埃及', '頭', '兵馬俑'} {'兵馬俑'}\n",
            "{'馬六甲_(消歧義)', '馬六甲海峽', '現在', '海峽', '國家'} set()\n",
            "{'科技大學_(臺灣學制)', '國立臺灣科技大學', '國立臺灣科技大學研揚大樓'} {'國立臺灣科技大學管理研究所', '國立高雄海洋科技大學', '國立臺灣科技大學校史室', '國立臺灣科技大學研揚大樓'}\n",
            "{'行業', '產品', '世紀', '科隆', '20世紀', '供應鏈'} {'第一產業', '第二產業', '第三產業'}\n",
            "{'馬克思主義', '格魯喬·馬克思', '馬克思主義政治經濟學', '卡爾·馬克思', '資本論', '政治經濟學', '馬克思·多爾穆瓦站', '海因裏希·馬克思'} {'河上肇', '資本論', '女人資本論'}\n",
            "{'約瑟_(舊約聖經)', '約瑟的神奇彩衣', '安德魯·勞埃德·韋伯'} {'約瑟的神奇彩衣'}\n",
            "{'土衛六大氣層', '科學家', '土衛六', '甲烷', '大氣層'} {'土衛六大氣層'}\n",
            "{'世界', '舞曲', '歐陸舞曲', '歐洲大陸', '北美洲'} {'歐陸舞曲', '亞歷山大·瓦爾澤'}\n",
            "{'謝雪心'} {'黃大仙上邨'}\n",
            "{'鍵', '氫', '氫氣', '物質'} set()\n",
            "{'歌手', '香港歌手列表', '3T_(香港音樂組合)', '香港', '歌手·當打之年', '鄭希怡', '少女蝶'} {'鄭希怡', '少女蝶'}\n",
            "{'方法', '答案', '思想', '問卷調查'} set()\n",
            "{'馬克', '作家', '馬克·吐溫', '海'} set()\n",
            "{'健康', '醃', '2012', '韓式泡菜', '世界', '泡菜', '食物', '葉黃素'} {'蘿蔔泡菜', '韓式泡菜'}\n",
            "{'不孕', '男性'} set()\n",
            "{'醫院', '避病院', '臺灣', '法定傳染病', '臺南避病院'} {'臺南避病院'}\n",
            "{'人生', '查理·卓別林', '馬戲', '美洲'} {'悉尼·厄爾·卓別林', '小查理·卓別林', '悉尼·約翰·卓別林', '漢娜·卓別林', '摩登時代'}\n",
            "{'癌症', '李賦寧', '中國', '思想家', '死亡'} {'李賦寧'}\n",
            "{'珠江', '城鎮', '聚落', '珠江三角洲', '三角洲'} set()\n",
            "{'女性'} set()\n",
            "{'名譽主席', '環', '主席', '男爵', '奧林匹克運動會', '皮埃爾·德·顧拜旦'} {'奧林匹克運動會藝術比賽', '皮埃爾·德·顧拜旦'}\n",
            "{'國立中央大學天文研究所', '臺灣天文觀測', '天文臺', '天文觀測', '領域', '臺灣', '國立中央大學_(南京)', '大學', '國立中央大學'} {'國立中央大學天文研究所', '與鹿林天文臺有關的小行星列表', '臺灣天文觀測', '天文臺', '鹿林天文臺'}\n",
            "{'教育局', '臺北市政府', '萬芳_(消歧義)', '臺北市文山區興華國民小學', '臺北市立萬芳高級中學', '小學', '文山區', '臺北市立萬芳醫院', '興華國小', '臺北市'} {'臺北市文山區萬芳國民小學', '臺北市私立東山高級中學', '臺北市政府教育局', '臺北市文山區興華國民小學'}\n",
            "{'熱帶', '臺灣氣候', '熱帶季風氣候', '氣候', '北迴歸線', '亞熱帶', '臺灣', '副熱帶季風氣候'} {'臺灣氣候', '亞熱帶', '溫帶季風氣候', '東石北迴歸線地標', '副熱帶季風氣候'}\n",
            "{'能量', '內燃機', '介質'} {'內燃機', '介質', '空氣標準'}\n",
            "{'浪漫奇幻', '午夜巴黎', '艾倫', '伍迪·艾倫', '奇幻電影', '電影', '巴黎'} {'午夜巴黎', '第64屆戛納電影節', '魔力月光', '六場危事'}\n",
            "{'路易十四', '戰爭'} set()\n",
            "{'歌手', '歌手·當打之年', '齊豫', '齊秦', '親屬'} {'齊豫'}\n",
            "{'認識', '生活', '王安石'} set()\n",
            "{'市', '酒', '四川省', '地級市', '宜賓市', '五糧液'} set()\n",
            "{'柏林國際電影節', '馬純岱'} {'馬純岱'}\n",
            "{'淮揚', '味_(粒子物理學)', '菜系', '淮揚菜', '中國', '蘇菜', '江蘇省', '菜'} {'海南菜', '登州府', '淮揚菜'}\n",
            "{'電子科技大學'} set()\n",
            "{'金馬獎', '江湖', '張學友', '電影'} {'張學友87演唱會', '張學友2002音樂之旅世界巡迴演唱會', '張學友'}\n",
            "{'馬克思主義', '格魯喬·馬克思', '馬克思主義政治經濟學', '卡爾·馬克思', '資本論', '政治經濟學', '馬克思·多爾穆瓦站', '海因裏希·馬克思'} {'河上肇', '馬克思主義政治經濟學', '資本論', '女人資本論'}\n",
            "{'北', '中國北方航空', '遼朝', '遊牧', '遊牧民族', '中國', '國家'} {'遼朝皇后及妃嬪列表'}\n",
            "{'楊小凱', '古典經濟學', '分析', '理論', '教授', '邊際', '哈佛大學', '經濟學'} {'楊小凱'}\n",
            "{'形象', '木星的衛星', '木衛十二', '名稱', '女神'} {'木衛十二'}\n",
            "{'千與千尋'} set()\n",
            "{'米開朗基羅', '米開朗基羅·法爾瑪提諾', '米開朗基羅·樂孔特'} {'米開朗基羅撞擊坑'}\n",
            "{'豫劇'} {'洛陽市豫劇團', '豫劇'}\n",
            "{'中國', '豫劇'} set()\n",
            "{'漢朝', '杜臻'} set()\n",
            "{'西安市', '楊虎城', '屠殺', '楊虎'} set()\n",
            "{'清朝', '進士', '康熙', '杜臻', '兵部', '兵部尚書', '人物'} {'杜臻'}\n",
            "{'化合物', '炔烴', '鍵', '三鍵', '烴', '汞'} {'不飽和烴'}\n",
            "{'大理寺', '範式', '小說', '君主', '公案小說', '中國', '狄仁傑', '公案_(消歧義)'} set()\n",
            "{'城市', '胡利亞卡', '祕魯'} set()\n",
            "{'跟蹤支援隊', '特別攻擊隊', '攻擊'} set()\n",
            "{'音樂', '中國音樂', '竇唯', '中國', '流行_(音樂類型)', '搖滾', '音樂類型'} {'黑豹樂隊', '獨立搖滾'}\n",
            "{'講談社', '榮譽', '日本', '三年坂火之夢', '講談社·中國的歷史', '推理小說'} {'三年坂火之夢', '講談社BOX'}\n",
            "{'聯合國', '專屬經濟區', '聯合國海洋法公約'} {'公海公約', '國際海洋法法庭', '專屬經濟區', '國際海底管理局', '聯合國海洋法公約'}\n",
            "{'馬純岱', '德國'} {'馬純岱'}\n",
            "{'餐廳', '懷化市', '中華人民共和國', '湖南省_(中華民國)', '湖南省'} {'懷化市', '懷化市第三中學'}\n",
            "{'臺北市政府捷運工程局', '臺北市政府', '臺北市'} {'臺北市政府捷運工程局', '桃園市政府捷運工程局', '臺北市政府消防局', '新北市政府捷運工程局', '臺北市政府民政局'}\n",
            "{'鹿兒島縣', '官僚', '少將', '兒玉利國', '牡丹社', '牡丹', '明治'} {'兒玉利國', '牧樸真'}\n",
            "{'克洛里斯', '老公', '洛里斯_(沃克呂茲省)', '雨果·洛里斯', '神', '女神'} {'西風翠灰蝶'}\n",
            "{'披頭四樂隊', '時代'} set()\n",
            "{'公司', '公司集團', '兒子', '經濟復甦', '現代集團', '鄭周永', '親屬'} {'現代集團'}\n",
            "{'傳說_(2010年電視劇)', '傳說', '堯', '中國', '時代', '黃帝', '禹', '三苗'} {'中國傳說時代君主列表'}\n",
            "{'李祖德', '臺北醫學大學', '臺北', '經營者', '牙醫學系'} {'李祖德'}\n",
            "{'趙', '皇帝', '漢趙', '劉聰'} set()\n",
            "{'實藤惠秀', '中國'} set()\n",
            "{'技術', 'ACM', '訊息_(蘋果)', 'SIG'} {'ACM學生研究競賽'}\n",
            "{'大衛·貝克漢姆', '足球員'} set()\n",
            "{'電腦性能', '玻璃纖維', '複合材料', '材料', '高性能轎車', '纖維'} {'陶瓷基複合材料', '玻璃纖維', '複合材料', '纖維材料改性國家重點實驗室', '樹脂基複合材料'}\n",
            "{'基督教', '作品', '激進民主主義', '托馬斯·潘恩', '美國', '現在', '潘恩', '托馬斯'} set()\n",
            "{'梁_(南朝)', '侯景之亂', '亂', '國庫', '宗教', '老年', '侯景', '梁武帝'} set()\n",
            "{'羅曼諾·貝尼託·弗洛里亞尼·墨索里尼', '亞歷山德拉·墨索里尼', '雷切爾·墨索里尼', '屍體', '貝尼託·墨索里尼'} set()\n",
            "{'中華人民共和國', '鐵路車站', '汝州站', '中國鐵路鄭州局集團'} {'汝州站'}\n",
            "{'內畫壺', '工藝美術', '北京市'} {'武昌府'}\n",
            "{'地面車站', '大韓民國', '煉武臺站'} {'地面車站', '江景線', '煉武臺站', '我新站'}\n",
            "{'乙酰基', '殼', '昆蟲', '果糖', '體育運動'} set()\n",
            "{'伊萬·巴甫洛夫', '犬', '古典制約', '古典'} {'古典制約'}\n",
            "{'汕頭大學', '全球', '中華人民共和國', '汕頭市', '大學', '私人基金會'} {'汕頭大學', '仙城'}\n",
            "{'北宋', '字', '包青天_(亞洲電視劇集)', '後世', '包拯'} {'劍臨天下', '包拯'}\n",
            "{'關羽', '形象', '神'} set()\n",
            "{'艾倫', '伍迪·艾倫'} set()\n",
            "{'劉丹', '政治'} set()\n",
            "{'核武器', '核', '訊息', '最高機密', '國家', '信息', '祕密', '活動'} set()\n",
            "{'王室', '過去', '宦官', '血親'} set()\n",
            "{'突變', '細胞', '癌細胞'} {'癌變', '突變'}\n",
            "{'氣體', '原理', '物體', '目標', '槍械'} set()\n",
            "{'城市', '奧克蘭市', '新西蘭', '北島', '都市圈', '島嶼', '奧克蘭'} {'華裔新西蘭人', '紐西蘭人口'}\n",
            "{'行政機關', '立法機關', '地區', '政府首腦', '總統制', '總統', '祕魯'} {'總統制'}\n",
            "{'會員', '比爾·比紹普', '比爾', '2004年'} {'比爾·比紹普'}\n",
            "{'寒武紀', '寒武紀大爆發', '世界', '寒武紀_(消歧義)'} {'寒武紀大爆發'}\n",
            "{'標示', '方法', '新臺幣'} {'新臺幣'}\n",
            "{'爻', '周文王', '左傳'} set()\n",
            "{'祖先', '美國人', '亞裔美國人', '美國'} {'俄裔美國人', '歐裔美國人', '亞裔美國人軍事史', '越南裔美國人', '日裔美國人'}\n",
            "{'公益_(消歧義)', '中國歷史', '古代史', '物流', '中國', '概念'} {'物流'}\n",
            "{'古蹟', '外交部', '臺北賓館', '中華民國外交部', '中華民國', '國定古蹟'} {'臺北賓館', '臺北市國定古蹟列表'}\n",
            "{'國家', '殖民地'} set()\n",
            "{'女孩', '震盪波蠕蟲', '小時', '德國'} set()\n",
            "{'殖民地'} {'殖民地'}\n",
            "{'臺北醫學大學', '經營者', '北漂'} {'李祖德'}\n",
            "{'歐洲聯盟'} {'歐洲聯盟經濟暨貨幣聯盟', '歐洲聯盟', '歐洲聯盟成員國政治制度列表', '歐洲中央銀行體系', '歐洲聯盟成員國'}\n",
            "{'弗拉基米爾·普京', '鮑里斯·葉利欽', '小時', '2000', '葉利欽·特赫達', '總理', '羅曼·伊戈列維奇·普京', '總統'} {'2000年俄羅斯總統選舉', '俄羅斯代理總統'}\n",
            "{'臺中市西大墩婦女中心', '屏東縣'} {'臺灣屏東地方法院', '臺中市西大墩婦女中心'}\n",
            "{'拿破崙一世', '序曲', '1812序曲', '俄法戰爭', '人民', '俄羅斯', '米哈伊爾·伊拉里奧諾維奇·庫圖佐夫', '年代', '羅曼·庫圖佐夫'} {'1812序曲'}\n",
            "{'馬克思主義', '格魯喬·馬克思', '馬克思主義政治經濟學', '卡爾·馬克思', '資本論', '政治經濟學', '馬克思·多爾穆瓦站', '海因裏希·馬克思'} {'河上肇', '資本論', '女人資本論'}\n",
            "{'丘陵', '基隆市', '丘', '新北市', '市', '市_(中華民國)', '臺灣', '土地'} set()\n",
            "{'臺北醫學大學', '經營者', '北漂'} {'李祖德'}\n",
            "{'卡呂普索', '王'} set()\n",
            "{'瘟疫', '戰爭與和平', '拿破崙戰爭', '拿破崙_(消歧義)'} set()\n",
            "{'自由中國', '自由中國_(雜誌)', '聶華苓', '編輯'} {'聶華苓'}\n",
            "{'九江市', '江西省', '省'} {'九江市'}\n",
            "{'馬克思主義', '格魯喬·馬克思', '馬克思主義政治經濟學', '卡爾·馬克思', '資本論', '政治經濟學', '馬克思·多爾穆瓦站', '海因裏希·馬克思'} {'河上肇', '資本論', '女人資本論'}\n",
            "{'標準舞', '女性'} set()\n",
            "{'電子科技大學'} set()\n",
            "{'株式會社', '臺東製糖', '臺東廳', '明治製糖', '臺灣日治時期', '臺灣', '馬蘭', '1943', '臺東'} {'臺東廳長', '臺東製糖'}\n",
            "{'立法機關', '徐翔_(投資家)', '徐翔', '證券市場', '寧波人'} {'徐翔'}\n",
            "{'臺灣時報', '1909年', '日本', '電影', '日本電影'} {'1909年體育'}\n",
            "{'蘇菲亞·柯波拉', '成人電影', '學生', '加利福尼亞大學洛杉磯分校'} set()\n",
            "{'稱謂', '動詞', '國際組織', '世界', '感覺', '西亞', '中東', '歐洲'} set()\n",
            "{'中華民國', '區域', '西南', '臺灣', '高雄縣'} set()\n",
            "{'鳥', '雀形目'} set()\n",
            "{'作者', '情節', '臼井儀人', '蠟筆小新'} {'動感超人', '蠟筆小新角色列表', '蠟筆小新：風起雲湧的叢林冒險', '蠟筆小新動畫集數列表', '蠟筆小新：搞怪遊樂園大冒險'}\n",
            "{'經濟學家', '楊小凱', '古典經濟學', '分析', '本名', '理論', '邊際', '經濟學'} {'楊小凱'}\n",
            "{'立法機關', '微軟', '議會'} {'臺北市議會', '委任立法', '各國立法機關列表'}\n",
            "{'中國共產黨', '中華人民共和國元帥', '軍銜', '中華人民共和國', '元帥', '羅榮桓'} {'羅榮桓', '中華人民共和國大元帥'}\n",
            "{'不可否認', '工程', '價值', '中國'} set()\n",
            "{'熱帶', '氣候', '亞熱帶', '羽毛', '咬鵑科'} set()\n",
            "{'民族', '歐洲民族', '指', '歐洲', '國家', '腳趾'} set()\n",
            "{'包青天_(1974年電視劇)', '字', '後世', '南宋', '包拯', '神'} {'劍臨天下', '包拯'}\n",
            "{'太平', '主權', '中華民國', '中華民國政府', '政府', '太平島', '島嶼'} set()\n",
            "{'詩詞', '音階'} set()\n",
            "{'好奇', '自然', '人類', '工具', '人', '現象', '生物'} {'人'}\n",
            "{'阿美族', '臺灣'} set()\n",
            "{'語言系屬分類', '組合', '印度', '印度教', '印度教神話', '系統', '歐羅巴', '吠陀'} {'吠陀', '吠陀梵語', '娑摩吠陀', '印度教神話'}\n",
            "{'SETI@home'} {'Astropulse', '搜尋地外文明計劃', 'SETI@home', 'SHGb02+14a無線電信號'}\n",
            "{'艾伯特縣', '艾伯特_(科羅拉多州)', '科羅拉多州', '美國', '政區首長', '艾伯特縣_(科羅拉多州)', '東部'} {'艾伯特縣'}\n",
            "{'羅盤方位', '中國', '絲綢之路'} {'絲綢之路巡禮名曲集', '絲綢之路'}\n",
            "{'亞洲金融風暴', '公司', '金融危機', '兒子', '亞洲', '現代集團', '危機', '鄭周永'} {'現代集團'}\n",
            "{'和子說', '基督教神學', '聖子', '聖父', '聖靈', '神學', '基督教'} {'和子說', '聖子', '聖父', '耶和華見證人和三位一體', '聖靈'}\n",
            "{'聖經', '猶太教與基督教', '新約', '猶太教', '基督教'} {'新約聖經', '聖經批評', '聖經', '猶太教與基督教', '猶太教'}\n",
            "{'衛星', '行星', '海衛十'} {'海衛十'}\n",
            "{'家庭', '阿希爾克洛德·德彪西', '巴黎', '音樂學院'} set()\n",
            "{'星系', '柯伊伯帶', '傑拉德·柯伊伯', '矮行星', '仙女座星系', '行星', '仙女座', '衛星'} {'仙女座X', '仙女座IV', '仙女座υb', '天大將軍六', '仙女座V'}\n",
            "{'春秋', '穀梁傳', '春秋_(書)'} {'春秋三傳', '穀梁傳', '公羊傳'}\n",
            "{'小米', '石器', '石器時代'} {'石器', '中國中石器文化列表', '中石器時代'}\n",
            "{'計算機科學', '密碼學', '分支', '原理'} {'密碼學', '信息論'}\n",
            "{'孝恭仁皇后', '母親', '仁皇后', '雍正帝'} {'仁皇后'}\n",
            "{'喬治·桑', '喬治·桑普森', '組織', '喬治·坎寧', '三氧化二砷', '疾病', '喬治三世'} {'喬治三世'}\n",
            "{'芳香烴', '乙烯', '烴', '苯乙烯', '苯'} {'二乙烯酮', '二苯乙烯酮', '乙酸乙烯酯', '乙烯', '苯乙烯'}\n",
            "{'艾根訴加拿大案', '奧林·艾根', '美國', '加拿大', '案', '各地LGBT權利', '法官', '曼弗雷德·艾根'} set()\n",
            "{'J·D·德魯', '新澤西州', '德魯大學'} {'德魯大學'}\n",
            "{'昭武帝', '國號', '漢', '劉淵', '劉聰', '漢趙', '政權', '君主制'} {'漢趙'}\n",
            "{'教會學校', '行憲紀念日', '聖誕節', '行憲'} {'行憲紀念日'}\n",
            "{'望遠鏡', '自然科學'} {'國家自然科學獎', '自然科學'}\n",
            "{'蛇', '二胡'} set()\n",
            "{'索爾_(漫威漫畫)', '神話', '雷神', '日本', '日本神話', '神', '索爾', '費爾南多·索爾', '雷神_(電影)'} {'索爾'}\n",
            "{'桂皮', '糖尿病'} {'抗糖尿病藥'}\n",
            "{'狸', '貓', '馬島長尾狸貓'} {'馬島長尾狸貓'}\n",
            "{'富士', '貴之富士三造', '身', '菲律賓'} set()\n",
            "{'斯特拉特福_(安大略省)', '英國', '威廉·莎士比亞', '兒童', '演員', '埃文河畔斯特拉特福', '雙胞胎'} {'埃文河畔斯特拉特福', '威廉·莎士比亞', '皇家莎士比亞劇團'}\n",
            "{'複數_(數學)', '分鐘', '數'} {'分鐘'}\n",
            "{'馬世莉', '兄弟姊妹', '心肌梗死'} {'馬世莉'}\n",
            "{'研究', '數學', '問題', '最短路問題', '算法', '路', '短路'} {'代數組合學', 'Floyd-Warshall算法', '最短路問題', '戴克斯特拉算法'}\n",
            "{'新槐站', '中華人民共和國鐵路車站', '站'} {'新槐站'}\n",
            "{'政治', '商輅', '明憲宗', '李賢_(大學士)', '明朝政治', '明朝'} {'明憲宗'}\n",
            "{'麥', '世界', '玉米', '米', '小麥', '糧食', '稻', '歷史'} {'玉米', '小麥', '稻'}\n",
            "{'颱風', '氣候'} set()\n",
            "{'核心家庭', '核心', '人類', '社會', '家庭'} {'核心家庭', '家庭', '大家庭'}\n",
            "{'榮譽', '成就_(電子遊戲)', '英國', '英國授勳及嘉獎制度', '個體', '勳章', '服務', '制度'} {'馬來西亞聯邦授勳及嘉獎制度', '英國授勳及嘉獎制度', '爵士'}\n",
            "{'東帝汶'} {'東帝汶歷史', '英國歐共體成員身份公投', '2006年黑山獨立公投', '1991年阿塞拜疆獨立公投'}\n",
            "{'馬克思主義', '格魯喬·馬克思', '馬克思主義政治經濟學', '卡爾·馬克思', '資本論', '政治經濟學', '馬克思·多爾穆瓦站', '海因裏希·馬克思'} {'河上肇', '馬克思主義政治經濟學', '資本論', '女人資本論'}\n",
            "{'語言', '程式', '軟件', '軟件開發'} {'系統軟件', '開源硬件'}\n",
            "{'變流技術', '技術', '流', '交流電', '直流電', '電流', '訓練'} {'直流-直流轉換器', '電力電子學', '變流技術'}\n",
            "{'胚珠', '種子植物', '植物', '種子', '子房'} {'裸子植物', '珠被', '子房'}\n",
            "{'特別攻擊隊', '力_(佛教)', '資源_(計算機科學)', '日本', '同盟國_(第二次世界大戰)', '跟蹤支援隊'} set()\n",
            "{'蔡卓妍', '香港', '舞者', '溫哥華', '盛·舞者', '大溫哥華'} set()\n",
            "{'藝術家', '數學', '保羅·狄拉克', '力學', '量子力學'} {'狄拉克方程式', '保羅·狄拉克'}\n",
            "{'聖保羅書院', '學校', '香港', '西區', '女性'} {'符潤光'}\n",
            "{'基因', '功能', '基因表現', '細菌'} {'基因表現'}\n",
            "{'印度', '阿薩姆邦', '新移民', '人口', '邦', '移民', '那加蘭邦'} {'那加蘭邦行政區劃', '那加蘭邦'}\n",
            "{'特別攻擊隊', '力_(佛教)', '資源_(計算機科學)', '日本', '同盟國_(第二次世界大戰)', '跟蹤支援隊'} set()\n",
            "{'地球', '氣象衛星', '天氣', '人造衛星', '衛星'} {'向日葵系列衛星', '天氣預報', '氣象衛星', '地球觀測衛星', '風雲系列衛星'}\n",
            "{'太平洋', '美國', '邦', '北马里亞納羣島', '屬地'} set()\n",
            "{'晟碟公司', '東漢', '年齡'} set()\n",
            "{'氣體', '啤酒', '酒', '飲料', '澱粉'} {'啤酒', '華潤啤酒', '拉格啤酒', '自釀啤酒'}\n",
            "{'民族', '歐洲民族', '指', '歐洲', '國家', '腳趾'} set()\n",
            "{'政府', '旅行證件', '護照', '中央政府'} {'護照'}\n",
            "{'佛教', '上座部佛教', '佛', '師', '解脫道', '上座_(佛教)', '菩薩', '解脫', '上座部'} {'菩薩道'}\n",
            "{'MacOS'} {'MacOS版本歷史'}\n",
            "{'環', '奧迪'} {'奧迪'}\n",
            "{'馬克思主義', '格魯喬·馬克思', '馬克思主義政治經濟學', '卡爾·馬克思', '資本論', '政治經濟學', '馬克思·多爾穆瓦站', '海因裏希·馬克思'} {'伊拉里昂·伊格納切維奇·考夫曼', '政治經濟學批判大綱', '河上肇', '馬克思主義政治經濟學', '資本論'}\n",
            "{'科學家', '兄弟姊妹', '齊秦', '齊豫'} {'齊豫'}\n",
            "{'冷戰', '導航', '第二次世界大戰', '雷達', '慣性', '世界大戰', '麻省理工學院', '慣性導航系統'} {'麻省理工學院工學院'}\n",
            "{'埃爾多拉多縣', '地區', '非建制', '非建制地區', '建制', '希登瓦利_(印地安納州)', '埃爾多拉多_(加利福尼亞州)'} {'埃爾多拉多縣'}\n",
            "{'衛', '木星的衛星', '衛星', '木衛四', '木材'} {'木衛四', '木衛四表面特徵列表'}\n",
            "{'戰略', '破壞', '生物多樣性公約', '生物多樣性'} {'坎昆宣言', '生物多樣性國際日', '生物多樣性行動計劃', '生物多樣性公約'}\n",
            "{'古羅馬', '塑像', '古希臘', '拜占庭', '羅馬', '神廟', '希臘', '古代_(上加龍省)'} set()\n",
            "{'懷化市', '市', '中華人民共和國', '地級市', '湖南省_(中華民國)', '湖南省'} {'懷化市', '懷化市第三中學', '中華人民共和國地級市列表'}\n",
            "{'伊拉克', '伊拉克戰爭', '美國', '中東', '醜聞', '戰爭'} {'伊拉克戰爭', '伊拉克空軍'}\n",
            "{'臺北市立建國高級中學'} {'臺北州立臺北第一中學校'}\n",
            "{'王實甫', '西廂記'} {'牆頭馬上', '王實甫', '西廂記', '吟風閣雜劇'}\n",
            "{'路', '心理作用', '赤足'} set()\n",
            "{'關站', '中國大陸', '知名度', '水木清華BBS', '中國', '水木', 'BBS'} {'天津大學BBS', '水木', '水木清華BBS'}\n",
            "{'萬華區', '臺北市萬華區老松國民小學', '小學', '松山區', '臺北市'} {'臺北市松山區松山國民小學', '臺北市萬華區老松國民小學', '臺北市萬華區大理國民小學', '臺北市萬華區雙園國民小學', '臺北市萬華區新和國民小學'}\n",
            "{'英國皇家郵輪', '英國', '郵輪', '紐約', '1912年', '泰坦尼克號', '首飛'} {'泰坦尼克號紀念燈塔', '英國皇家郵輪'}\n",
            "{'科技公司', '臺灣', '國', '英業達集團'} {'英業達集團'}\n",
            "{'華南師範大學'} {'華南師範大學', '華南師範大學附屬中學'}\n",
            "{'若昂·費雷拉·佛朗哥·平託·卡斯特洛布蘭科', '佛朗哥·裏卡爾迪', '西班牙', '傑斯·佛朗哥', '西班牙第二共和國', '民族主義', '弗朗西斯科·佛朗哥', '伊塔馬爾·佛朗哥', '韋羅妮卡·佛朗哥'} set()\n",
            "{'喬治·羅傑斯·克拉克', '喬治亞州', '喬治·華盛頓', '喬治·赫伯特·沃克·布什', '喬治·弗洛伊德之死引發的示威活動', '伯茲克里克_(喬治亞州)'} set()\n",
            "{'水稻', '父親', '袁隆平', '中國', '稻', '雜交水稻'} {'袁隆平', '果靖霖', '湖南雜交水稻研究中心', '小行星8117', '雜交水稻國家重點實驗室'}\n",
            "{'孟加拉國', '魯普薩烏帕齊拉', '烏帕齊拉'} {'謝瓦拉亞烏帕齊拉', '魯普薩烏帕齊拉', '米塔馬因烏帕齊拉', '烏帕齊拉'}\n",
            "{'美術館', '中西區', '中西區_(臺灣)', '西區_(臺南市)', '臺灣', '臺南市', '半官方機構', '臺南市美術館'} {'臺南市美術館'}\n",
            "{'參選人', '中國國民黨', '蔡英文'} {'2019年堺市長選舉'}\n",
            "{'波美拉尼亞省_(普魯士)', '海港', '城市', '波蘭', '波美拉尼亞', '格但斯克', '省會_(越南)', '岸'} {'格但斯克'}\n",
            "{'千與千尋'} set()\n",
            "{'城市', '首都', '大洋洲', '新西蘭', '惠靈頓', '人種'} {'惠靈頓'}\n",
            "{'偶像', '美國偶像', '孔慶翔'} {'孔慶翔'}\n",
            "{'政治', '琉球', '琉球嶼', '古代史', '臺灣'} {'琉球歷史', '小琉球三隆宮'}\n",
            "{'楊素', '舉事', '隋煬帝'} set()\n",
            "{'班長', '兒子', '組織創始人', '元智大學'} set()\n",
            "{'古希臘', '敘事詩', '伊利亞特', '路德維希·範·貝多芬', '奧德賽', '傳說', '荷馬史詩', '歐洲', '史詩', '荷馬'} {'荷馬', '荷馬史詩'}\n",
            "{'蛛形綱', '昆蟲', '動物'} {'蛛形綱'}\n",
            "{'少數民族', '漢族', '中國'} {'少數民族', '全國少數民族文學創作駿馬獎', '中國少數民族漢語水平等級考試', '在臺大陸少數民族'}\n",
            "{'人權', '行爲', '身體', '國際LGBTI聯合會', '性別特徵'} set()\n",
            "{'營養', '澱粉', '糧食'} {'五大營養素', '2007-08年全球糧食價格危機', '人類鐵代謝', '營養', '營養學'}\n",
            "{'木星的衛星', '木衛四', '衛星', '木星'} {'木衛五十一', '木衛五十', '伽利略衛星', '木衛五十二', '木衛五十三'}\n",
            "{'芝加哥', '倒數', '美國', '地區'} set()\n",
            "{'御座', '楊素', '舉事', '隋煬帝'} set()\n",
            "{'國', '中華人民共和國外交', '1940年代', '大國', '大國外交', '年代', '詞', '外交'} {'大國外交', '中華人民共和國外交'}\n",
            "{'吳天威'} {'吳天威'}\n",
            "{'伊藤洋華堂'} {'伊藤洋華堂', '鈴木敏文'}\n",
            "{'城市', '鍾祥市', '歷史'} set()\n",
            "{'艾倫', '伍迪·艾倫'} set()\n",
            "{'力學', '數學', '應用數學', '錢偉長'} {'錢偉長', '路德維希·普朗特'}\n",
            "{'科', '太陽', '植物', '真雙子葉植物', '花序', '雙子葉植物', '子葉', '向日葵'} {'太陽花', '向日葵'}\n",
            "{'醫院', '院長', '聯合醫院', '教師', '新北市政府', '臺北', '臺北市立聯合醫院', '神仙·老師·狗'} {'臺南市政府衛生局', '聯合醫院', '臺北市立聯合醫院', '臺北市立萬芳醫院', '臺北市政府衛生局'}\n",
            "{'重量', 'IPad'} {'IPad'}\n",
            "{'街頭籃球', '籃球'} set()\n",
            "{'支流', '珠江', '珠江三角洲', '三角洲'} {'珠江三角洲'}\n",
            "{'平衡木', '赤足'} set()\n",
            "{'哺乳動物', '新生代', '植物', '被子植物'} {'新生代'}\n",
            "{'影片', '類星體', '星系'} {'HE0450-2958'}\n",
            "{'狸', '出生', '馬島長尾狸貓'} {'馬島長尾狸貓'}\n",
            "{'趙元任', '陳寅恪', '梁啓超', '南昌府', '江西省_(中華民國)', '清華大學', '中華民國大陸時期', '語言', '王國維'} {'陳寅恪'}\n",
            "{'政治家', '加利福尼亞州', '美國', '政區首長', '美國總統', '共和黨_(美國)', '總統', '加利福尼亞州州長'} {'加利福尼亞州州長'}\n",
            "{'桃園市', '面積', '市_(中華民國)', '中華民國', '直轄市', '西', '臺灣海峽', '直轄市_(中華民國)'} {'桃園市'}\n",
            "{'廣州_(古代)', '號', '康平路', '公寓', '高安公寓'} {'高安公寓', '建國公寓', '西湖公寓', '公寓'}\n",
            "{'彗星', '差異_(哲學)', '大小', '天文單位'} set()\n",
            "{'核', '地殼', '岩石', '水', '冰', '天衛四'} {'天衛四'}\n",
            "{'城市', '首都', '世界', '南端', '國內', '冰島'} {'冰島國立博物館', '中國首都', '首都足球會', '冰島歷史'}\n",
            "{'木衛三', '衛', '夏威夷大學', '木衛三十八', '木星的衛星', '木材'} {'木衛五十', '斯科特·謝潑德', '木衛三十八', '木衛五十三'}\n",
            "{'花', '茶', '氣味', '花茶'} {'新茶鄉', '花茶'}\n",
            "{'世界', '香港國際機場', '全球', '小時', '機場', '24小時'} {'香港國際機場'}\n",
            "{'黃子韜', '歌手·當打之年', '歌手', '中國'} {'黃子韜', '周覓'}\n",
            "{'臺灣時報', '1909年'} {'看守臺灣協會'}\n",
            "{'季節', '星期六'} set()\n",
            "{'英語', '美國', '語言', '美國英語', '文化'} {'美國英語', '美式機車'}\n",
            "{'洞天', '洞_(小說)', '西王母', '農', '瑤池'} {'瑤池'}\n",
            "{'名_(人名)', '張惠妹', '19_(蔡旻佑專輯)', '時代', '漢名', '卑南族', '時代雜誌'} {'張惠妹音樂作品列表'}\n",
            "{'癌症', '李賦寧', '中國', '教育家', '死亡'} {'李賦寧'}\n",
            "{'數學家', '查理·卓別林'} {'悉尼·厄爾·卓別林', '小查理·卓別林', '悉尼·約翰·卓別林', '漢娜·卓別林', '摩登時代'}\n",
            "{'隋書', '訊息', '昭武', '姓', '昭武九姓'} set()\n",
            "{'香港聖公會', '聖保羅書院', '男性'} {'史超域'}\n",
            "{'90年', '大佛', '樂山大佛'} {'樂山大佛'}\n",
            "{'餅乾', '乾酪'} {'威爾士乾酪'}\n",
            "{'處女作', '喜劇', '朱塞佩·威爾第'} {'朱塞佩·威爾第'}\n",
            "{'維基百科', '抄襲', '美國'} set()\n",
            "{'羽毛', '洲', '差異_(哲學)', '雉雞'} {'雉雞'}\n",
            "{'著作權', '作品', '版稅', '作曲家', '音樂出版社', '詞曲作家'} {'音樂出版社'}\n",
            "{'再造人卡辛', '賽博格', '龍', '子', '龍之子製作'} {'再造人卡辛'}\n",
            "{'動畫', '馬龍·白蘭度', '馬龍·馬利奧·白蘭度·達·施維拉', '演員'} set()\n",
            "{'香港聖公會', '聖保羅書院', '基督教'} {'香港聖公會澳門傳道地區', '聖保羅堂', '史超域', '聖公會港澳教區'}\n",
            "{'米夏埃爾·科爾曼', '雙打', '今天', '哈根', 'ATP'} {'米夏埃爾·科爾曼', '阿爾伯特·蒙塔涅斯', '約翰·皮爾斯', '彼得·高若尼茲克'}\n",
            "{'流星', '顏色'} {'散亂流星', '流星'}\n",
            "{'文字', '書寫', '史前時代', '人類', '石器時代', '時代', '石器', '歷史'} {'史前時代', '中國史前文化', '文字列表', '史前朝鮮', '石器'}\n",
            "{'城市', '大都市', '美國', '芝加哥'} {'大都市', '大都市帶', '芝加哥大都市區'}\n",
            "{'人口', '生物', '生物多樣性', '馬達加斯加'} set()\n",
            "{'自由', '陳其昌'} {'陳其昌'}\n",
            "{'光學顯微鏡', '肉眼', '顯微鏡'} {'顯微鏡'}\n",
            "{'星期', '單簧管', '艾倫', '伍迪·艾倫', '曼哈頓', '書店'} set()\n",
            "{'美術館', '中西區', '中西區_(臺灣)', '西區_(臺南市)', '臺灣', '臺南市', '半官方機構', '臺南市美術館'} {'臺南市美術館'}\n",
            "{'機構', '軌道共振', '因爲·愛', '共振', '軌道', '太陽系', '天體'} {'軌道共振'}\n",
            "{'學術領域大綱', '教育部', '1924年', '大學', '中國海洋大學', '中國', '海洋大學'} {'中國海洋大學出版社', '中國海洋大學', '廣東海洋大學'}\n",
            "{'菌', '核', '粗糙擬迷孔菌', '真核生物', '生物'} {'粗糙擬迷孔菌'}\n",
            "{'市', '酒', '四川省', '地級市', '宜賓市', '五糧液'} set()\n",
            "{'粵菜', '京菜'} set()\n",
            "{'民主革命', '1917年', '治理', '沙皇', '俄羅斯', '亞歷山大·克倫斯基', '1917', '俄羅斯人'} {'亞歷山大·克倫斯基'}\n",
            "{'事件', '威尼斯', '電影節', '電影', '二二八事件', '侯孝賢', '威尼斯電影節'} set()\n",
            "{'BI', '企業', '決策', '工具'} set()\n",
            "{'泉州港', '泉州_(消歧義)', '中國東部經濟區', '泉州市', '中國'} {'泉州港'}\n",
            "{'全羅北道', '州', '羅', '首府', '朝鮮半島', '聯合國教育、科學及文化組織'} {'全州市', '全羅北道', '聯合國教科文科學技術統計工作手冊的分類法', '聯合國教科文組織分類法', '聯合國教科文組織吉列爾莫·卡諾世界新聞自由獎'}\n",
            "{'孟加拉國', '魯普薩烏帕齊拉', '烏帕齊拉'} {'阿克爾普爾烏帕齊拉', '法蒂克恰阿里烏帕齊拉', '魯普薩烏帕齊拉', '米塔馬因烏帕齊拉', '烏帕齊拉'}\n",
            "{'洲', '非洲', '寶石', '亞洲', '澳大利亞', '工業', '紅寶石'} {'紅寶石'}\n",
            "{'郊區', '河', '臺北', '臺灣日治時期', '行政區劃', '臺灣', '川端町', '臺北市'} {'川端町'}\n",
            "{'上海市', '晶圓', '電路', '集成電路', '中國', '中芯國際', '總部'} {'集成電路設計', '超大規模集成電路', '半導體廠商銷售排名', '兆芯', '中芯國際'}\n",
            "{'張惠妹', '大巴六九部落', '卑南鄉', '公共汽車', '部落', '滾石_(雜誌)', '2021', '卑南族'} {'張惠妹音樂作品列表', '巴代', '大巴六九山', '下賓朗部落', '大巴六九部落'}\n",
            "{'弗朗西斯科', '西班牙', '大元帥', '內戰', '國民軍', '弗朗西斯科·佛朗哥', '政權', '國民軍_(西班牙)', '西班牙內戰'} {'拉蒙·佛朗哥', '西班牙共和國流亡政府', '弗朗西斯科·佛朗哥', '弗朗西斯科·佛朗哥獨裁', '西班牙內戰'}\n",
            "{'鄱陽湖', '鹹水湖'} {'鄱江', '鄱陽湖平原', '德勒湖'}\n",
            "{'編程語言', '軟件', '軟件開發'} {'工具鏈', '軟件開發', '軟件開發工具', '集成開發環境', '程序設計'}\n",
            "{'桃園市', '面積', '境', '中華民國', '西', '臺灣海峽'} {'桃園市'}\n",
            "{'新北市', '醫院', '院長', '老公', '聯合醫院', '新北市政府', '臺北', '臺北市立聯合醫院'} {'臺南市政府衛生局', '聯合醫院', '臺北市立聯合醫院', '臺北市立萬芳醫院', '臺北市政府衛生局'}\n",
            "{'癡_(佛教)', '梁朝偉', '音癡'} set()\n",
            "{'因果關係', '疾病', '機體', '流行病學'} {'流行病學', '地景流行病學', '病理學'}\n",
            "{'共振', '軌道共振', '太陽系', '天體'} {'林達博共振', '柯克伍德空隙', '共振海王星外天體', '軌道共振', '長期共振'}\n",
            "{'生物分類學', '日本鶺鴒', '日本', '鳥', '分類學', '鶺鴒科', '科_(生物)', '雀形目', '目_(生物)'} {'日本鶺鴒', '鶺鴒科', '鶺鴒屬', '東方黃鶺鴒', '山鶺鴒'}\n",
            "{'古希臘', '柏拉圖', '柏拉圖學院', '古希臘哲學', '古代史', '哲學', '伊比鳩魯學派', '希臘', '亞里士多德'} {'柏拉圖', '柏拉圖學院', '古希臘哲學', '新柏拉圖主義', '亞里斯多德主義'}\n",
            "{'政府', '旅行證件', '護照', '中央政府'} {'護照'}\n",
            "{'麥', '世界', '玉米', '米', '糧食', '稻'} {'玉米'}\n",
            "{'阿美族', '美國'} {'美國原住民', '阿美族'}\n",
            "{'恆星', '最長壽者', '同位素', '重元素', '巨星', '壽命', '鍀', '紅巨星'} {'鍀'}\n",
            "{'碟', '日本', '海盆', '海', '日本海'} {'酒海紀', '北極海盆', '阿拉伯海盆', '海盆', '日本海'}\n",
            "{'臺北101', '唐朝'} set()\n",
            "{'第二國際', '第一次世界大戰', '國際'} set()\n",
            "{'質數', '因數'} {'質數階乘', '質數冪', '因數基底', '合數', '質數列表'}\n",
            "{'蒂姆·伯頓', '美國人', '伯頓'} {'蒂姆·伯頓'}\n",
            "{'城市', '國際足球聯合會', '2006年', '美國'} {'國際足協U-17世界盃', '國際足協U-20世界盃', '國際足協世界盃', '國際足協U-20女子世界盃'}\n",
            "{'位移', '電荷', '電', '電子陶瓷', '陶瓷', '材料'} {'陶瓷基複合材料', '陶瓷', '電子陶瓷', '介電陶瓷'}\n",
            "{'淄博市', '山東省', '海'} set()\n",
            "{'馬克思主義', '格魯喬·馬克思', '馬克思主義政治經濟學', '卡爾·馬克思', '資本論', '政治經濟學', '馬克思·多爾穆瓦站', '海因裏希·馬克思'} {'河上肇', '資本論', '女人資本論'}\n",
            "{'行星', '太陽系', '衛星', '海衛十'} {'海衛十'}\n",
            "{'FDA_(消歧義)', '印度人民黨'} set()\n",
            "{'古埃及', '古代史', '科學', '外科學', '木乃伊', '埃及', '頭'} {'外科學', '關切人的木乃伊'}\n",
            "{'質量'} {'行動作業系統', '作業系統歷史年表'}\n",
            "{'現實', '性幻想', '幻想'} {'性幻想'}\n",
            "{'南京市', '師範學校', '學校', '國立中央大學_(南京)', '倪尚達'} {'國立武昌高等師範學校', '倪尚達'}\n",
            "{'社會', '共和黨'} set()\n",
            "{'紐約州州長', '政治家', '紐約州', '政區首長', '共和黨_(美國)'} set()\n",
            "{'歐洲聯盟'} set()\n",
            "{'網站', '新華社', '事業單位', '中國', '國務院', '新華網'} {'新華社布拉格分社', '新華社', '新華網', '新華社莫斯科分社', '新華社平壤分社'}\n",
            "{'足球', '盧卡斯·迪奧多斯基'} {'盧卡斯·迪奧多斯基'}\n",
            "{'SETI@home', '程序'} {'搜尋地外文明計劃', 'SETI@home'}\n",
            "{'指南車', '王天木'} {'王天錫'}\n",
            "{'晶體', '化合價', '硫'} {'金化合物', '亞鐵', '硫'}\n",
            "{'蘇克_(卑詩省)', '車站', '阿比讓', '亞穆蘇克羅', '科特迪瓦', '月臺'} {'阿比讓非洲體育會', '阿比讓省', '亞穆蘇克羅', '和平之後大殿', '科特迪瓦'}\n",
            "{'城市', '基隆市', '臺灣'} {'基隆市公車'}\n",
            "{'野生火雞', '馴化', '飛行', '人類', '火雞', '雞'} {'家養火雞'}\n",
            "{'古希臘', '蘇格拉底·布拉濟萊羅·奧利維拉', '芝諾', '埃利亞的芝諾', '哈芝芝·諾', '希臘', '蘇格拉底', '前蘇格拉底哲學'} {'季蒂昂的芝諾', '克里安西斯', '芝諾', '基提翁', '埃利亞的芝諾'}\n",
            "{'身分標識方式', '臺北市議員列表', '臺北市_(省轄市)', '謝長廷', '民意代表', '民國', '臺北市'} set()\n",
            "{'金', '安東尼·西尼蘇卡·金廷', '唐朝', '漢姓', '馬丁·路德·金', '姓', '衫', '現象'} {'安東尼·西尼蘇卡·金廷'}\n",
            "{'許世友', '中國武術', '武術', '中國'} {'許家窪'}\n",
            "{'查理·卓別林', '偶像_(日本)'} {'悉尼·厄爾·卓別林', '小查理·卓別林', '悉尼·約翰·卓別林', '漢娜·卓別林', '摩登時代'}\n",
            "{'泉州港', '泉州_(消歧義)', '中國東部經濟區', '港口', '港埠都市', '泉州市', '中國'} {'泉州港', '泉州市'}\n",
            "{'分辨率', '照相機', '市場', '功能', '時間', '數碼相機'} {'數碼相機'}\n",
            "{'臺北101', '90年', '臺北'} {'前90年代', '90年代'}\n",
            "{'王朝的女人·楊貴妃', '綾', '唐玄宗', '天子', '楊貴妃', '因果關係', '安史之亂', '綾羅綢緞'} {'楊貴妃'}\n",
            "{'公司', '全球', '影視公司', '麻省理工學院', '校友'} {'麻省理工學院理學院', '麻省理工學院工學院'}\n",
            "{'辦公室', '臺中市政府陽明大樓', '臺中市政府', '臺中市', '豐原區'} {'臺中市政府陽明大樓', '臺中市豐原區翁子國民小學', '臺中市政府衛生局', '臺中市豐原區豐原國民小學', '臺中市政府勞工局'}\n",
            "{'指甲', '光導纖維', '纖維', '折射率'} {'光導纖維', '扇脣指甲蘭', '指甲蘭', '香花指甲蘭'}\n",
            "{'師範學校', '1915年', '學校', '倪尚達'} {'高等師範學校', '1915年體育'}\n",
            "{'講談社', '榮譽', '日本', '2006年', '三年坂火之夢', '講談社·中國的歷史'} {'三年坂火之夢', '講談社BOX'}\n",
            "{'臺南市立安平水產專修學校', '臺南市', '日治時期'} {'臺南市立安平水產專修學校'}\n",
            "{'志摩', '徐志摩', '英國', '家庭'} {'徐志摩', '徐志摩墓'}\n",
            "{'火星', '罪', '尊嚴', '國家', '議會'} set()\n",
            "{'2020', '臺灣團結聯盟', '劉一德', '主席', '臺灣', '全國不分區及僑居國外國民立法委員選舉區', '政黨領袖', '立法院立法委員選舉'} {'劉一德', '臺灣團結聯盟'}\n",
            "{'日本', '煉武臺站'} {'1958年', '江景線', '煉武臺站'}\n",
            "{'摩納哥', '非洲', '南部', '面', '法國', '法國南部'} {'摩納哥', '摩納哥巖'}\n",
            "{'奧迪', '總部', '德國'} {'英國汽車控股', '意大利設計-喬治亞羅公司', '奧迪A3'}\n",
            "{'尤里·勃列日涅夫', '列昂尼德·勃列日涅夫', '政治局', '安德烈·尤里耶維奇·勃列日涅夫'} {'列昂尼德·勃列日涅夫所獲獎項列表', '朝鮮勞動黨中央委員會政治局', '安德烈·尤里耶維奇·勃列日涅夫'}\n",
            "{'芭蕾舞', '莫斯科', '天鵝湖', '莫斯科大劇院', '劇場'} {'天鵝湖'}\n",
            "{'沙漠', '漢語', '黑紗', '袖章'} {'黑紗', '袖章'}\n",
            "{'物理學', '吳健雄', '會長', '世界'} {'吳健雄學院', '美國物理學會'}\n",
            "{'卑南莊', '臺東飛行場', '第二次世界大戰', '日治時期'} {'臺東飛行場'}\n",
            "{'網頁郵件', '互聯網', '產品', '郵件_(Windows)', 'Google', '服務'} {'網頁郵件'}\n",
            "{'普利策獎'} {'普利策歷史獎', '蔣中正遺囑', '普利策戲劇獎'}\n",
            "{'天衛三', '面_(幾何)', '湖泊'} {'天衛三'}\n",
            "{'城', '臺北市'} set()\n",
            "{'金馬獎', '國家兩廳院', '中華電視公司', '金馬獎頒獎典禮', '攝錄', '蕭芳芳', '第18屆金馬獎', '高雄市'} {'第18屆金馬獎'}\n",
            "{'星期一', '月', 'Gmail'} {'體育之日', 'Gmail'}\n",
            "{'月', 'Gmail'} {'Gmail'}\n",
            "{'印象派', '法國', '1000'} {'那比派', '1870年美國'}\n",
            "{'朱立倫', '中國國民黨', '蔡英文'} {'朱立倫市府', '2019年堺市長選舉', '朱立倫', '習朱會'}\n",
            "{'代謝', '高分子', '睡眠', '分子', '小分子', '能量', '代謝途徑'} {'同化作用', '嘌呤代謝'}\n",
            "{'臺北市萬華區老松國民小學', '萬華區', '臺北市'} {'剝皮寮', '臺北市萬華區老松國民小學', '臺北市萬華區西園國民小學', '臺北市萬華區雙園國民小學', '臺北市萬華區新和國民小學'}\n",
            "{'舜', '傳說_(2010年電視劇)', '傳說', '禹', '堯', '中國', '時代', '黃帝', '黑龍江', '三苗'} {'中國傳說時代君主列表'}\n",
            "{'南京市', '師範學校', '學校', '國立中央大學_(南京)', '1915年', '倪尚達'} {'國立武昌高等師範學校', '倪尚達'}\n",
            "{'埃爾多拉多縣', '希登瓦利_(加利福尼亞州埃爾多拉多縣)', '地區', '非建制', '數', '非建制地區', '建制', '埃爾多拉多_(堪薩斯州)'} set()\n",
            "{'臺獨', '一邊一國', '世界', '國'} {'一邊一國', '一邊一國連線'}\n",
            "{'印度', '傳統', '地區', '北方邦', '南', '北阿坎德邦'} {'丹德拉', '北阿坎德邦', '北阿坎德邦行政區劃'}\n",
            "{'機場', '2019年', '國內', '2019冠狀病毒病疫情', '白雲', '2019冠狀病毒病', '廣州白雲國際機場', '傳染病'} {'2019冠狀病毒病疫情全球反應與影響', '全球機場客運量列表', '2019冠狀病毒病巴基斯坦疫情', '廣州白雲國際機場', '2019冠狀病毒病疫情相關條目索引'}\n",
            "{'瑤池', '洞天', '洞_(小說)'} {'瑤池'}\n",
            "{'紫荊文化集團', '投資者', '鳳凰衛視', '中央企業'} {'鳳凰衛視電影臺', '鳳凰衛視相關爭議', '鳳凰衛視香港臺', '鳳凰衛視中文臺'}\n",
            "{'流星', '顏色'} {'散亂流星'}\n",
            "{'音樂產業', '竹內瑪莉亞', '作品', '1984年', '1984'} {'司徒夢巖'}\n",
            "{'武力', '列夫·托洛茨基', '蘇聯'} set()\n",
            "{'約翰·布爾_(作曲家)', '約翰_(英格蘭國王)', '天佑國王'} {'天佑安圭拉'}\n",
            "{'緹坦妮雅', '天王星', '軌道', '天衛三', '仲夏夜_(羅文專輯)', '仲夏夜之夢', '磁層'} {'奧伯隆', '緹坦妮雅', '尼克·博特姆', '天衛三', '磁層'}\n",
            "{'燕山_(消歧義)', '燕山大學', '中國', '境'} set()\n",
            "{'諾貝爾獎', '吉米', '美國', '美國總統', '吉米·卡特', '卡特', '總統'} {'吉米·卡特'}\n",
            "{'戴安娜·瑞格', '威爾士王妃', '組織', '籌款', '戴安娜·艾嘉朗', '政府', '非政府組織', '威爾斯王妃戴安娜'} {'國際反地雷組織'}\n",
            "{'克里斯·潘恩', '法語', '托馬斯·潘恩', '迦勒·潘恩', '羅伯特·崔特·潘恩', '國民公會', '潘·巴奇利', '潘恩'} set()\n",
            "{'人類', '賽普勒斯', '歷史'} {'墨西哥歷史', '賽普勒斯問題', '賽普勒斯教會', '賽普勒斯鎊', '賽普勒斯'}\n",
            "{'盛世', '隋朝', '唐朝', '奠基石'} {'開元盛世', '大唐電信'}\n",
            "{'蘋果公司', '個人電腦', '蘋果_(消歧義)'} set()\n",
            "{'古希臘', '逍遙學派', '柏拉圖學院', '古希臘哲學', '古代史', '哲學', '伊比鳩魯學派', '希臘', '斯多葛主義'} {'新柏拉圖主義', '逍遙學派', '柏拉圖學院', '古希臘哲學'}\n",
            "{'臺灣清治時期', '軍事', '地區', '軍事組織', '清朝', '臺灣', '澎湖鎮', '澎湖羣島'} {'衛生福利部澎湖醫院', '澎湖廳長', '張其光', '澎湖鎮', '澎湖縣文化資產'}\n",
            "{'山東省_(中華民國)', '字', '宋潢_(嘉慶壬戌進士)', '星海', '山東省', '政治人物'} {'星海生活廣場', '星海街道', '星海街'}\n",
            "{'宋朝', '府_(行政區劃)', '格式', '宋朝君主列表', '行政區劃', '藩', '皇帝', '潛藩升府'} {'常德府', '潛藩升府'}\n",
            "{'鎮江市', '京口區'} {'江蘇省鎮江第一中學', '鎮江經濟技術開發區', '京口閘遺址', '潤州區', '京口區'}\n",
            "{'文學', '秦腔', '普羅文學', '革命', '無產階級', '1966年'} {'秦腔', '小林多喜二', '1966年體育', '劉毓中', '柳萍'}\n",
            "{'印度', '民族', '神話', '作品', '印度教', '印度教神話', '吠陀'} {'吠陀梵語', '吠陀', '印度教神話'}\n",
            "{'家庭', '阿希爾克洛德·德彪西'} set()\n",
            "set() set()\n",
            "{'代表', '民意代表', '臺灣'} set()\n",
            "{'司馬光', '編年體', '西晉', '司馬孚'} {'司馬瓌', '司馬顒', '司馬光'}\n",
            "{'硬度', '鑽石', '今天', '樞要寶石'} {'祖母綠', '樞要寶石', '鑽石', '硬度試驗'}\n",
            "{'籃球'} {'三對三世界盃籃球賽'}\n",
            "{'素描'} set()\n",
            "{'華南地區', '學院', '學校', '廣東省', '華南師範大學'} {'華南師範大學', '華南師範大學附屬中學'}\n",
            "{'錫克人', '克', '錫克教', '信徒', '旁遮普邦', '錫'} {'錫克教'}\n",
            "{'首都', '世界', '新西蘭', '博物館', '惠靈頓'} {'惠靈頓'}\n",
            "{'吉林省', '教育部', '中華人民共和國', '全國重點大學', '吉林大學', '中華人民共和國教育部'} {'吉林大學附屬中學', '中華人民共和國教育部直屬高等學校列表', '吉林工業大學', '吉林大學西區', '吉林大學'}\n",
            "{'臺北101', '唐朝'} set()\n",
            "{'天鵝', '貝雷特', '創造神', '前鋒'} set()\n",
            "{'銀川市', '銀川平原', '中部'} {'石嘴山市', '銀川市', '銀川平原', '銀川專區'}\n",
            "{'大豆'} {'植酸', '大豆苷', '擬大豆'}\n",
            "{'城市', '文化中心', '首都', '大洋洲', '新西蘭', '惠靈頓', '大洋洲_(太平洋諸島嶼)', '人種'} {'惠靈頓'}\n",
            "{'古蹟'} set()\n",
            "{'犬', '竹內瑪莉亞', '山下達郎'} {'山下達郎'}\n",
            "{'蠍子', '門', '蛛形綱', '昆蟲', '節肢動物', '蜘蛛'} {'蛛形綱', '無鞭目', '節肢動物'}\n",
            "{'世界', '香港劇集', '香港', '劇集', '人類'} set()\n",
            "{'衆議院_(日本)', '議長', '田納西州', '奧斯華·波爾克', '詹姆斯·諾克斯·波爾克', '政區首長', '衆議院議長_(日本)', '總統'} {'詹姆斯·諾克斯·波爾克'}\n",
            "{'中華人民共和國勞動人事部', '中華人民共和國'} {'中華人民共和國人事部', '中華人民共和國勞動人事部', '趙守一', '何光', '中華人民共和國勞動和社會保障部'}\n",
            "{'土衛六大氣層', '科學家', '土衛六', '甲烷', '大氣層', '生物'} {'土衛六大氣層', '海衛一大氣層'}\n",
            "{'維基百科', '組別_(體育)', '電子藝術大獎', '1987年'} {'電子藝術大獎'}\n",
            "{'歌手', '蔡卓妍', '加拿大', '香港', '歌手·當打之年'} set()\n",
            "{'生物分類學', '體型', '小鷿鷈屬', '鸊鷉屬', '分類學', '小鸊鷉', '屬', '鸊鷉科'} set()\n",
            "{'楊素', '舉事', '隋煬帝'} set()\n",
            "{'學院', '北京理工大學'} {'華北理工大學'}\n",
            "{'什葉派', '軍事組織', '伊斯蘭教', '組織', '讓皮埃爾·塞爾', '軍事'} {'阿富汗什葉派伊斯蘭教'}\n",
            "{'班距', '區間', '七堵區', '今天', '潮州市', '臺鐵區間車', '臺灣鐵路', '載具'} {'臺鐵區間車'}\n",
            "{'訊息', '占卜', '術數', '數', '自然', '占星術', '超自然現象', '天體'} {'占卜'}\n",
            "{'發動機', '差異_(哲學)', '電動機', '卡路里'} {'電動機'}\n",
            "{'美國風情畫', '劇本', '弗朗西斯·科波拉'} {'李察·德雷福斯', '美國風情畫'}\n",
            "{'城市', '國際足球聯合會', '2006年', '德國'} {'國際足協U-20世界盃', '國際足協U-17世界盃', '國際足協U-20女子世界盃', '國際足協U-17女子世界盃', '國際足協世界盃'}\n",
            "{'長頸鹿'} {'前90年代', '90年代'}\n",
            "{'鳩鴿科'} set()\n",
            "{'奧斯卡金像獎', '艾倫·狄珍妮', '英國電影和電視藝術學院', '艾倫', '伍迪·艾倫', '艾倫·狄珍妮秀', '艾倫·鮑絲汀', '艾倫·艾佛森', '獎勵'} {'伍迪·艾倫', '英國電影學院獎最佳原創劇本', '肯尼斯·洛勒根', '日本電影學院獎最佳導演獎', '韋斯·安德森'}\n",
            "{'花', '科', '向日葵', '脫落酸', '植物', '真雙子葉植物', '雙子葉植物', '子葉'} {'太陽花', '向日葵'}\n",
            "{'西部', '薩爾波勒扎哈卜', '地區', '伊朗', '自然災害'} {'薩爾波勒扎哈卜'}\n",
            "{'北', '地區', '東北', '馬爾代夫', '亞洲', '斯里蘭卡'} {'印度叫姑魚', '馬爾代夫國家足球隊'}\n",
            "{'現象', '液體'} {'過冷', '液體', '空穴現象'}\n",
            "{'密西根大學', '美國'} set()\n",
            "{'國', '國號', '漢', '劉淵', '漢趙'} set()\n",
            "{'平均數', '洋', '深度', '北冰洋', '世界', '大洋_(消歧義)', '世界洋'} {'大洋站', '北冰洋'}\n",
            "{'花', '科', '植物', '真雙子葉植物', '花序', '雙子葉植物', '子葉', '向日葵'} {'太陽花', '向日葵'}\n",
            "{'摩納哥', '地中海'} {'摩納哥', '摩納哥城', '摩納哥巖'}\n",
            "{'錫林郭勒盟', '盟_(行政區劃)', '內蒙古自治區', '烏蘭巴托', '鐵路', '起點', '縣級市', '蒙古國'} {'二連浩特市', '錫林浩特市', '烏蘭巴托', '烏蘭巴托站'}\n",
            "{'物種', '靈長目'} set()\n",
            "{'小說', '哈比人', '現實', '哈比人歷險記'} {'哈比人'}\n",
            "{'維基百科', '電子藝術大獎', '獎勵'} {'電子藝術大獎', '中文維基百科', '英語維基百科', '法語維基百科', '韓語維基百科'}\n",
            "{'單位', '醫院', '核心家庭', '核心', '家庭', '病房'} {'核心家庭', '家庭', '美國家庭結構'}\n",
            "{'三國', '英雄豪傑', '亂世', '南北朝', '時代', '世界歷史', '魏晉南北朝', '文化'} set()\n",
            "{'單片機', '微型計算機'} {'單片機'}\n",
            "{'中華人民共和國紡織工業部', '北京市', '二輕工業', '中華人民共和國', '輕工業', '1970年', '中國', '1978年'} {'中華人民共和國紡織工業部', '曹魯', '羅日運', '姜時彥', '中華人民共和國第二輕工業部'}\n",
            "{'法語', '獅', '金湯匙_(電視劇)', '英國', '湯匙', '英國皇家徽章', '紋章', '獨角獸', '匙'} {'英國皇家徽章', '蘇格蘭皇家徽章'}\n",
            "{'邛州直隸州', '字', '同治', '本名', '四川省_(中華民國)', '曾光爔', '邛州', '祖籍', '民國'} {'曾光爔'}\n",
            "{'史', '二十四史', '宋史', '歷史書', '中國', '丞相', '宋', '元朝'} {'宋史'}\n",
            "{'克里斯·約翰遜', '肖恩·約翰遜', '斯蒂夫·約翰遜', '內戰', '美國', '國共內戰', '林登·約翰遜', '鮑里斯·約翰遜'} set()\n",
            "{'喬治·卡特萊特·馬歇爾', '美國陸軍參謀長', '美國', '美國陸軍', '陸軍參謀長_(印度)', '參謀長', '戰爭', '馬歇爾'} set()\n",
            "{'電子計算機', '計算機協會', '世界', '全球', '科學', '學會', '計算機'} {'計算機協會'}\n",
            "{'行憲紀念日', '公務員', '行憲'} {'先總統蔣公誕辰紀念日', '行憲紀念日'}\n",
            "{'印度', '諾貝爾獎', '阿馬蒂亞·庫馬爾·森', '福利經濟學', '經濟學'} {'阿馬蒂亞·庫馬爾·森'}\n",
            "{'恐怖主義', '1988', '1988年', '伊斯蘭教', '艾山·買合蘇木', '奧薩馬·本·拉登'} {'基地組織', '艾山·買合蘇木'}\n",
            "{'航空母艦', '戰列巡洋艦', '英國', '戰爭', '胡德', '巡洋艦', '胡德號戰列巡洋艦'} {'英國皇家海軍航空母艦列表', '天城級巡洋戰艦', '皇家海軍戰列巡洋艦列表', '獅級戰列巡洋艦', '胡德號戰列巡洋艦'}\n",
            "{'殖民主義', '領土'} set()\n",
            "{'西部', '薩爾波勒扎哈卜', '地區', '伊朗', '地震'} {'2017年兩伊邊境地震', '薩爾波勒扎哈卜'}\n",
            "{'技術', 'ACM', '訊息_(蘋果)', 'SIG'} {'ACM學生研究競賽', '計算機協會'}\n",
            "{'史詩', '荷馬'} set()\n",
            "{'臺南市立安平水產專修學校', '目標', '臺南市', '學校'} {'臺南市立安平水產專修學校'}\n",
            "{'茶葉蛋', '茶', '食物'} {'茶葉蛋'}\n",
            "{'科', '隼', '隼科', '猛禽'} {'隼形目', '猛禽'}\n",
            "{'燕山_(消歧義)', '燕山大學', '河北省'} {'趙丁選', '郭競坤', '燕山大學', '燕山大學科技園'}\n",
            "{'香港', '香港科技大學', '學校', '科技大學'} set()\n",
            "{'千與千尋'} set()\n",
            "{'水溶液', '溶液', '氰化氫', '頻率', '氰化鈉', '鹼', '氰化鋰'} {'氰化鋁', '氰化氫', '氰化鈉', '氰化鐿', '氰化鋰'}\n",
            "{'法律', '伊斯蘭教', '行爲', '伊斯蘭教法', '人民', '伊斯蘭教聖書'} {'伊斯蘭教法', '伊斯蘭教典籍列表', '剛果民主共和國伊斯蘭教'}\n",
            "{'馬克思主義', '格魯喬·馬克思', '馬克思主義政治經濟學', '卡爾·馬克思', '資本論', '政治經濟學', '馬克思·多爾穆瓦站', '海因裏希·馬克思'} {'伊拉里昂·伊格納切維奇·考夫曼', '政治經濟學批判大綱', '河上肇', '馬克思主義政治經濟學', '資本論'}\n",
            "{'殖民地'} {'宗主權', '殖民地'}\n",
            "{'漫展', '臺灣交通', '臺灣', '發展', '偶像', '虛擬偶像', '交通'} {'櫻巫女', '漫展', '紐約漫畫展'}\n",
            "{'肥胖症'} set()\n",
            "{'新著龍虎門', '蚩尤_(消歧義)', '門_(生物)', '名稱', '龍虎門', '蚩尤'} {'新著龍虎門角色列表', '石黑龍', '新著龍虎門', '龍虎門'}\n",
            "{'死者能舞', '音樂專輯', '1990年'} set()\n",
            "{'黑血_(漫畫)', '血液', '黑血'} {'黑血'}\n",
            "{'楊素', '中央集權', '隋煬帝'} set()\n",
            "{'楊過', '神鵰俠侶_(動畫)', '三部曲', '射鵰三部曲', '郭靖', '神鵰俠侶', '黃蓉', '小龍女'} {'郭芙', '小龍女'}\n",
            "{'生物分類學', '表達方式', '性', '分類學', '屬'} set()\n",
            "{'研究院', '古蹟', '臺北賓館', '中華民國', '國定古蹟'} {'臺北賓館', '臺北市國定古蹟列表'}\n",
            "{'代表', '民意代表', '臺灣'} set()\n",
            "{'魔戒', '丁丁_(丁丁歷險記)', '丁丁歷險記', '漫畫'} {'彼得·傑克遜', '丁丁與流浪漢', '丁丁與字母藝術', '丁丁在蘇聯', '碧安卡·卡斯塔菲歐蕾'}\n",
            "{'環境', '質量'} {'狹義相對論中的質量'}\n",
            "{'學術領域大綱', '中心', '問題', '哲學', '概念'} {'資訊哲學', '戰爭哲學', '哲學'}\n",
            "{'數學', '世紀', '幾何學', '教授', '中世紀', '大學', '發展', '文化'} {'幾何學家列表', '幾何學'}\n",
            "{'中國人民解放軍', '遊樂園', '中國人民解放軍武漢軍區'} {'中國人民解放軍武漢軍區空軍', '中國人民解放軍陸軍第八綜合訓練基地', '中國人民解放軍武漢軍區'}\n",
            "{'1981年', '新臺幣', '臺灣銀行', '1949年'} {'新臺幣硬幣', '第一套直式新臺幣'}\n",
            "{'臺北101', '90年', '臺北'} {'前90年代', '90年代'}\n",
            "{'內臟', '透明', '神農', '軀幹'} set()\n",
            "{'百科全書派', '百科全書', '啓蒙時代', '德尼·狄德羅', '法國', '思想家', '尼古拉·德·孔多塞'} {'讓-弗朗索瓦·馬蒙泰爾', '百科全書派', '網絡百科全書', '德尼·狄德羅', '百科全書，或科學、藝術和工藝詳解詞典'}\n",
            "{'鉻', '金屬', '玉', '藍寶石', '寶石', '紅色', '剛玉', '紅寶石'} {'剛玉', '藍寶石', '紅寶石'}\n",
            "{'臺北市_(省轄市)', '日治時期', '河', '臺北', '臺灣日治時期', '臺灣', '川端町', '臺北市'} {'川端町'}\n",
            "{'刑罰', '波爾布特', '宋成', '生命', '1998年'} {'宋成'}\n",
            "{'稱謂', '共和制', '德國', '魏瑪', '魏瑪共和國', '1918年', '政府', '政體'} {'魏瑪共和國'}\n",
            "{'諾貝爾和平獎', '吉米', '美國', '阿爾弗雷德·諾貝爾', '美國總統', '吉米·卡特', '卡特', '總統'} {'陶德曼調停', '卡特中心', '和平獎', '吉米·卡特', '吉米·卡特圖書館暨博物館'}\n",
            "{'海平面', '納米比亞'} {'西南非洲', '納米比亞駐外機構列表', '納米比亞總統', '中國駐納米比亞大使列表', '納米比亞，勇氣之地'}\n",
            "{'冥王星', '彗星'} {'冥王星日食', '小說中的冥王星', '冥王星地理', '冥王星地質'}\n",
            "{'紫質症', '三氧化二砷', '器官', '症狀', '喬治·邁克爾', '喬治三世', '卟啉'} {'喬治三世'}\n",
            "{'寧波人', '徐翔', '證券市場'} {'徐翔'}\n",
            "{'衛', '火星', '木星的衛星', '衛星', '木衛四', '木材'} set()\n",
            "{'臺中市', '臺中市西大墩婦女中心', '本名'} {'嘉義市政府社會處', '臺中市婦女福利服務中心', '臺中市議會', '臺中市西大墩婦女中心'}\n",
            "{'古羅馬', '神話', '羅馬', '羅馬神話', '百姓', '平民', '朱庇特'} {'朱庇特'}\n",
            "{'關羽', '形象', '後世'} set()\n",
            "{'沙丁魚罐頭', '沙丁魚', '物種'} set()\n",
            "{'胸', '胸圍'} {'胸圍'}\n",
            "{'網絡遊戲', '形象', '饕餮'} {'饕餮'}\n",
            "{'表演藝術', '導演'} {'導演'}\n",
            "{'巴哈歐拉', '巴勒斯坦'} {'巴哈歐拉陵寢', '巴哈歐拉的使徒', '巴哈歐拉', '巴勒斯坦總理'}\n",
            "{'衝擊', '衝擊波_(漫畫)', '速度', '飛機', '物體', '音障', '聲爆', '空氣'} {'聲爆'}\n",
            "{'中華人民共和國紡織工業部', '北京市', '長安街', '東長安街', '中華人民共和國', '1970年', '中國', '東城區', '1978年'} {'中華人民共和國紡織工業部', '曹魯', '東長安街', '姜時彥', '中華人民共和國第二輕工業部'}\n",
            "{'綱', '納尼氏囊鰓鯰', '輻鰭魚綱', '生物分類法', '輻鰭魚'} {'瓦氏擬鱯', '梅氏平鰭鮠', '海防鰍'}\n",
            "{'共和國勳章', '玉米', '袁隆平', '勳章', '突破'} {'袁隆平', '小行星8117'}\n",
            "{'羅慕路斯·奧古斯都', '奧古斯都·勞裏克殖民地', '羅馬', '奧古斯都·普金', '頭銜', '奧古斯都_(稱號)', '奧古斯都·艾迪生·古爾德', '奧古斯都'} set()\n",
            "{'綁票', '尼克·貝爾格'} set()\n",
            "{'盧卡斯·巴斯克斯', '盧卡斯·埃爾南德斯', '喬治·盧卡斯', '盧卡斯·佩雷斯', '盧卡斯·古博特', '星際大戰', '電影', '盧卡斯·雷瓦'} set()\n",
            "{'邏輯', '代表', '墨家'} {'辯證邏輯', '墨家'}\n",
            "{'伊利諾伊大學厄巴納香檳分校', '厄巴納_(伊利諾伊州)', '公立大學', '芝加哥', '今天', '大學', '香檳'} {'布蘭登·保羅', '伊利諾伊大學厄巴納-香檳分校', '艾科·伊本', '伊利諾大學', '伊利諾伊大學威拉德機場'}\n",
            "{'BI', '企業', '決策', '玩具'} set()\n",
            "{'臺北', '臺北市立建國高級中學', '日治時期'} {'臺北州立臺北第一中學校'}\n",
            "{'宋朝', '鴟尾', '宋朝_(人物)'} set()\n",
            "{'茶葉蛋', '茶', '食物'} {'茶葉蛋'}\n",
            "{'戒嚴', '臺南市七股區後港國民小學', '臺南市', '七股_(臺南市大字)', '七股區'} {'七股莊', '臺南市七股區龍山國民小學', '臺南市七股區後港國民小學'}\n",
            "{'商輅', '明憲宗', '李賢_(大學士)', '土地'} {'明憲宗'}\n",
            "{'南京大學', '中學', '南京大學附屬中學', '華東地區', '中國', '東部'} {'師範大學附屬中學列表', '南京大學政府管理學院', '南京大學附屬中學', '南京航空航天大學附屬高級中學', '南京師範大學附屬中學'}\n",
            "{'計算機科學', '圖像壓縮技術', '圖像壓縮', '數據壓縮'} {'圖像壓縮', '數據壓縮', '圖像壓縮技術', '有損數據壓縮', '紋理壓縮'}\n",
            "{'安德斯·海爾斯伯格', '安德斯', '編譯器', '作者', '哥本哈根', 'TypeScript', 'Borland', '微軟'} {'安德斯·海爾斯伯格', 'Borland', 'TypeScript'}\n",
            "{'城市', '城市規劃', '企劃', '自行車', '首部', '龍頭'} set()\n",
            "{'珠江', '流量', '全長', '中國', '河流'} {'珠江'}\n",
            "{'羅慕路斯·奧古斯都', '奧古斯都·勞裏克殖民地', '皇帝', '奧古斯都_(稱號)', '奧古斯都·艾迪生·古爾德', '奧古斯都', '奧古斯都·腓特烈_(薩塞克斯公爵)', '希臘'} {'奧古斯都神廟'}\n",
            "{'李商隱', '大韓民國', '唐詩', '詩人', '唐詩三百首'} {'柳枝', '李商隱'}\n",
            "{'數學', '數學領域', 'Ζ', '函數', '黎曼ζ函數', '數論', '伯恩哈德·黎曼', '統計學', '數學家'} {'黎曼ξ函數', '黎曼ζ函數', '數論'}\n",
            "{'恆星', '黃道帶', '黃道', '獅子座'} {'獅子座ρ', '獅子座A', '巨蟹座', '獅子座'}\n",
            "{'代碼風格', '錯誤'} {'代碼風格'}\n",
            "{'撒丁島', '島嶼', '家畜', '地中海', '羊'} {'牧場', '撒丁島'}\n",
            "{'家庭', '阿希爾克洛德·德彪西'} set()\n",
            "{'內畫壺', '工藝美術', '清朝', '中國'} set()\n",
            "{'神話', '證明', '公車', '希臘神話', '希臘', '考古學', '司機'} {'希臘神話生物列表'}\n",
            "{'沈鈞儒', '進士', '嘉興市', '祖籍', '江蘇省_(中華民國)', '明朝', '江蘇省'} {'沈鈞儒'}\n",
            "{'平均數', '光速', '宇宙', '狹義相對論', '相對論'} {'光速', '光速不變原理', '超光速運動', '狹義相對論發現史', '雙重狹義相對論'}\n",
            "{'企業', '公司', '世界', '美國', '通用電氣', '波士頓', '國家', '總部'} set()\n",
            "{'衛', '關島大學', '木星的衛星', '木星', '天文學家', '衛星', '木衛四', '木材'} {'木衛五十', '木衛五十一', '衛星的命名', '木衛五十二', '木衛五十三'}\n",
            "{'索爾·巴斯', '索爾_(漫威漫畫)', '北歐神話', '雷神', '神', '索爾', '費爾南多·索爾', '雷神_(電影)'} {'索爾'}\n",
            "{'科學園區', '北京理工大學'} {'華北理工大學'}\n",
            "{'新約', '宗教', '聖經', '基督教'} {'新約聖經', '聖經批評', '聖經漢語譯本', '聖經', '聖經研究'}\n",
            "{'果實', '種子', '目標', '雌花器'} {'聚合瘦果', '薔薇果', '蓇葖果', '子房', '蒴果'}\n",
            "{'船', '斯卡帕灣', '公海艦隊自沉事件', '量_(物理)', '棲息地', '魚', '海牀'} {'斯卡帕灣', '路德維希·馮·羅伊特'}\n",
            "{'公司', '經濟', '德國', '國內生產總值', '符騰堡', '總部', '巴登符騰堡'} {'巴登-符騰堡'}\n",
            "{'化學', '鄭集', '中國', '定居者', '生物'} {'鄭集', '生物化學'}\n",
            "{'北马里亞納羣島', '美國', '屬地'} {'美國非合併屬地'}\n",
            "{'醫療疏失', '全球'} {'醫療疏失'}\n",
            "{'法律', '同性戀', '艾根訴加拿大案', '奧林·艾根', '加拿大', '案', '各地LGBT權利', '曼弗雷德·艾根'} set()\n",
            "{'古埃及', '古代史', '科學', '外科學', '埃及', '頭'} set()\n",
            "{'土衛十', '神話', '土星的衛星', '希臘神話', '名稱', '希臘', '女神', '海'} {'土衛一', '土衛四十九'}\n",
            "{'字', '宋潢_(嘉慶壬戌進士)', '中國人', '星海', '政治人物'} {'星海生活廣場'}\n",
            "{'域_(生物)', '域', '法', '界', '界_(生物)', '乾酪'} set()\n",
            "{'2008年', '臺北市客家文化主題公園', '中正區_(臺北市)', '臺北市'} {'臺北市議員列表', '臺北市客家文化主題公園', '臺北市中正區螢橋國民小學'}\n",
            "{'淡水河', '臺南市', '淡水_(消歧義)', '長度', '河流'} set()\n",
            "{'太陽', '小行星', '行星', '軌道_(力學)', '軌道', '明星'} set()\n",
            "{'宗', '金章宗', '金朝', '金'} set()\n",
            "{'行政區劃', '大韓民國', '韓國行政區劃', '國'} {'日本行政區劃', '韓國行政區劃', '2010年大韓民國地方選舉'}\n",
            "{'路', '赤足', '感覺'} set()\n",
            "{'馬克思主義', '格魯喬·馬克思', '馬克思主義政治經濟學', '卡爾·馬克思', '資本論', '政治經濟學', '馬克思·多爾穆瓦站', '海因裏希·馬克思'} {'河上肇', '資本論', '女人資本論'}\n",
            "{'西北', '昭武', '姓', '中國', '昭武九姓', '回族', '維吾爾族'} set()\n",
            "{'臺灣', '臺北醫學大學', '經營者'} {'李祖德'}\n",
            "{'數獨', '金球獎', '主角_(小說)', '金球獎劇情類電影最佳女主角', '遊戲', '奧黛麗·赫本'} {'蕾妮·齊薇格', '金球獎劇情類電影最佳男主角', '奧黛麗·赫本', '金球獎劇情類電影最佳女主角'}\n",
            "{'人類', '昆蟲', '農作物', '蝴蝶'} set()\n",
            "{'米開朗基羅', '米開朗基羅·法爾瑪提諾', '米開朗基羅·樂孔特'} set()\n",
            "{'礦產資源', '中國', '六盤水市'} {'六盤水站', '六盤水師範學院', '六盤水市'}\n",
            "{'血親', '身', '玲子·艾爾斯沃斯', '亞洲'} {'玲子·艾爾斯沃斯'}\n",
            "{'音樂', '音階'} set()\n",
            "{'洲', '史考特·普魯特', '克莉斯汀·史考特·湯瑪斯', '史考特·詹森', '史考特·朗恩', '西恩·威廉·史考特', '雷利·史考特', '麥可·史考特', '蒙哥馬利·史考特'} set()\n",
            "{'語言系屬分類', '民族', '世界', '歐洲民族', '歐洲', '語言', '文化', '國家'} {'民族國家'}\n",
            "{'歐內斯特·勞倫斯', '鐒'} {'長野健', '鐒'}\n",
            "{'鳥', '冠蕉鵑'} {'冠蕉鵑'}\n",
            "{'衛星', '衛', '木材', '木星'} set()\n",
            "{'英國', '1000', '伯明翰大學', '伯明翰', '紅磚大學', '1900年'} {'伯明翰藝術學院', '伯明翰城市大學', '伯明翰新街站', '紅磚大學', '伯明翰機場'}\n",
            "{'邏輯', '代表', '墨家'} {'非經典邏輯', '墨家', '邏輯史'}\n",
            "{'機構', '聯合國專門機構', '中國', '世界地質公園列表', '聯合國', '嵩山'} {'安徽省風景名勝區列表', '中華人民共和國國家級風景名勝區', '泰寧世界地質公園', '黃龍風景名勝區', '嵩山'}\n",
            "{'象徵', '全買', '臺灣', '買', '代表', '長頸鹿'} {'全買'}\n",
            "{'UCL', '研究', '政府', '學術'} {'UCL主樓', '嶺南教育機構'}\n",
            "{'稱謂', '琉球', '香港學界體育聯會', '琉球嶼', '古代史', '臺灣'} {'琉球歷史', '小琉球三隆宮'}\n",
            "{'燧人氏', '狩獵', '父系制度', '河套', '氏族', '木材'} {'燧人氏', '父系制度'}\n",
            "{'詹姆斯·諾克斯·波爾克', '總統', '選舉'} set()\n",
            "{'海港', '泉州港', '泉州_(消歧義)', '泉州市', '中國', '港都'} {'泉州港', '海港鎮'}\n",
            "{'熱帶氣旋', '氣象廳_(日本)', '強度', '世界氣象組織', '颱風'} {'南大西洋熱帶氣旋', '氣象紀念日', '日本氣象廳命名颱風列表', '世界氣象日', '颱風'}\n",
            "{'國家', '馬爾代夫', '南部', '亞洲'} {'馬爾地夫國家男子籃球隊', '馬爾地夫拉菲亞', '馬爾代夫'}\n",
            "{'資本主義政治經濟學', '社會科學', '資本主義', '政治經濟學'} {'資本主義政治經濟學'}\n",
            "{'果酒', '酒', '原材料', '微生物', '果實', '生物'} {'大果酒餅簕'}\n",
            "{'喬瓦尼·多梅尼科·卡西尼', '塞薩爾弗朗索瓦·卡西尼·德·蒂裏', '亨利·卡西尼', '讓多米尼克·卡西尼', '卡西尼'} {'雅克·卡西尼', '塞薩爾-弗朗索瓦·卡西尼·德·蒂裏', '亨利·卡西尼', '卡西尼'}\n",
            "{'北京理工大學'} {'瀋陽市科研機構列表', '華北理工大學'}\n",
            "{'松前城', '備後國', '福山城_(備後國)', '備後'} {'備後國'}\n",
            "{'氫氧化鈣', '鹼', '石灰', '鹼石灰', '鹽酸', '酸'} {'氫氧化鈣', '石灰鋪鎮', '石灰', '扁葉石灰蘚', '鹼石灰'}\n",
            "{'醫生', '臺北醫學大學', '經營者', '臺北市'} {'李祖德'}\n",
            "{'程序員', '程序設計', '領域', '專業', '專業人士'} {'程序設計實踐', '程序設計', '程序員'}\n",
            "{'志摩', '徐志摩', '海外'} {'徐志摩', '徐志摩墓'}\n",
            "{'動能', '內燃機', '介質'} {'內燃機'}\n",
            "{'國家', '領土'} {'領土糾紛', '領土'}\n",
            "{'新石器時代', '人類', '石器時代', '賽普勒斯', '時代', '石器'} {'賽普勒斯', '賽普勒斯教會', '賽普勒斯鎊', '賽普勒斯問題'}\n",
            "{'機構', '臺北市政府捷運工程局', '臺北市政府', '政府', '1987年', '臺北市'} {'臺北市政府文化局', '臺北市政府捷運工程局', '桃園市政府捷運工程局', '新北市政府捷運工程局', '臺北市政府民政局'}\n",
            "{'印度', '北', '傳統', '地區', '南', '北阿坎德邦'} {'阿爾莫拉', '丹德拉', '北阿坎德邦', '北阿坎德邦行政區劃'}\n",
            "{'馬克思主義', '格魯喬·馬克思', '馬克思主義政治經濟學', '卡爾·馬克思', '資本論', '政治經濟學', '馬克思·多爾穆瓦站', '海因裏希·馬克思'} {'伊拉里昂·伊格納切維奇·考夫曼', '政治經濟學批判大綱', '河上肇', '馬克思主義政治經濟學', '資本論'}\n",
            "{'科', '形狀', '性', '猛禽', '隼', '隼科', '肉食性動物', '目'} {'隼形目'}\n",
            "{'目', '鳥', '草鴞科', '草鴞'} {'草鴞屬', '隼形目', '慄鴞屬', '草鴞科'}\n",
            "{'亞洲·矽谷計劃', '馬爾代夫', '亞洲'} {'馬爾地夫國家男子籃球隊', '馬爾地夫拉菲亞'}\n",
            "{'奧斯卡金像獎', '小說', '電影', '奧斯卡', '奧斯卡·埃爾南德斯', '名', '獎勵'} set()\n",
            "{'衛星', '金星', '火衛二'} {'火星日食', '火衛二'}\n",
            "{'火星', '寒武紀_(消歧義)', '寒武紀', '生物', '寒武紀大爆發'} {'顯生宙', '埃迪卡拉紀末期滅絕事件', '寒武紀大爆發'}\n",
            "{'動物', '爬行動物', '環境'} set()\n",
            "{'民主進步黨', '民進', '謝長廷'} {'謝長廷'}\n",
            "{'占星術', '身體', '海星'} {'古海星', '海星', '十字海星', '海星街道', '赭色海星'}\n",
            "{'墨魚科', '玉', '國', '玄菟郡', '君主', '扶餘國', '玉衣'} {'扶餘國'}\n",
            "{'船', '過去', '北小島', '小島', '波濤', '東海', '南小島', '南', '小島_(臺東區)', '漁民'} {'橄欖門', '北小島', '南小島'}\n",
            "{'出版物', '明報', '香港'} {'明報月刊', '明報兒童週刊', '通通識'}\n",
            "{'醫生', '臺北醫學大學', '經營者', '臺北市'} {'李祖德'}\n",
            "{'人類', '石器', '石器時代', '史前時代'} {'磨製石器', '中國中石器文化列表', '馬來西亞史前時期', '中國史前文化', '石器'}\n",
            "{'許世友', '年少', '功夫'} set()\n",
            "{'蘋果公司', '個人電腦', '蘋果_(消歧義)'} {'蘋果音樂節', '蘋果公司產品列表', '蘋果標準鍵盤'}\n",
            "{'戒嚴', '自由', '日本', '報紙'} {'澳門報紙列表', '香港言論自由'}\n",
            "{'紐約州州長', '紐約州', '阿里·卡特', '霍華德·卡特', '政區首長', '美國總統', '吉米·卡特', '卡特'} set()\n",
            "{'疾病'} set()\n",
            "{'軍事組織', '組織', '古賽爾戰役', '古賽爾_(敘利亞)', '軍事'} set()\n",
            "{'自由中國', '聶華苓', '編輯'} {'聶華苓'}\n",
            "{'清朝', '北極殿', '神', '明朝', '臺南北極殿'} set()\n",
            "{'加利福尼亞大學柏克萊分校', 'SETI@home', '政府', '洛杉磯', '計算'} {'BOINC'}\n",
            "{'長度', '分子', '氫氣'} set()\n",
            "{'民族', '歐洲民族', '指', '歐洲', '國家', '腳趾'} set()\n",
            "{'勝利_(歌手)', '路易·德·奧爾良_(1703年—1752年)', '記錄', '主權', '君主', '國家', '主權國家', '路易十四'} set()\n",
            "{'舞蹈', '古希臘', '狄俄倪索斯', '悲劇', '希臘', '愛神', '古希臘悲劇'} {'古希臘悲劇'}\n",
            "{'竹內瑪莉亞', '女性', '山下智久'} {'山下達郎'}\n",
            "{'蒂姆·伯頓', '電影導演', '美國', '伯頓', '美國電影', '重生_(基督教)'} {'蒂姆·伯頓'}\n",
            "{'中東', '尼克·貝爾格', '2004年'} {'尼克·貝爾格'}\n",
            "{'亞當·斯密', '國富論', '經濟學', '歐洲'} {'亞當·斯密'}\n",
            "{'太平洋', '南冰洋', '洋', '世界', '鳥', '翼展', '信天翁科'} {'桑氏遠洋鳥', '黑背信天翁', '南方皇家信天翁', '漂泊信天翁', '翼展'}\n",
            "{'縣_(中華民國)', '臺東縣', '案例', '臺東垃圾焚化廠', '臺東'} {'岡山垃圾焚化廠', '崁頂垃圾焚化廠', '永康垃圾焚化廠', '臺東垃圾焚化廠', '臺灣垃圾焚化廠列表'}\n",
            "{'氏', '神農', '隋唐', '傳說'} {'神農'}\n",
            "{'海星', '胃', '食物', '動物', 'In_vitro'} {'古海星', '海星', '十字海星', '海星街道', '赭色海星'}\n",
            "{'音樂', '小號', '樂器', '古典音樂', '爵士樂'} {'小號'}\n",
            "{'力', '形狀', 'Change.org', '實體'} set()\n",
            "{'晶體', '馮端', '中國人', '中國'} {'晶體', '晶體結構'}\n",
            "{'臺灣醫界聯盟基金會', '元首', '2016', '陳水扁', '政府', '記者會'} {'臺灣醫界聯盟基金會'}\n",
            "{'甜品', '乳', '原材料', '冰淇淋', '奶製品'} {'木子甜品', '蛋卷冰淇淋', '蕎麥冰淇淋', '冰淇淋', '樹莓漩渦冰淇淋'}\n",
            "{'大理寺', '範式', '古代史', '冤獄', '公案小說', '中國', '狄仁傑', '公案_(消歧義)'} set()\n",
            "{'美國', '阿爾·戈爾', '政治家'} set()\n",
            "{'北宋', '字', '包青天_(亞洲電視劇集)', '後世', '包拯', '神'} {'劍臨天下', '包拯'}\n",
            "{'成龍', '動作片演員', '元龍', '本名', '演員', '藝名'} {'成龍', '元龍'}\n",
            "{'維克多·雨果', '文學', '浪漫主義', '文學史', '作家', '雨果_(電影)', '浪漫主義文學', '法國'} {'維克多·雨果', '維克多·雨果站', '維克多·雨果博物館', '維克多·雨果故居'}\n",
            "{'珠江', '流量', '海拔', '中國', '上游', '河流'} set()\n",
            "{'藤子·F·不二雄'} {'藤子·F·不二雄', '藤子·F·不二雄創作', '大雄的平行西遊記', '藤子不二雄', '藤子不二雄Ⓐ'}\n",
            "{'日本', '城', '國籍', '臺北市'} {'臺北市議員列表', '特別永住者', '日本人'}\n",
            "{'封建', '日本', '社會', '世僕', '封建社會'} {'世僕'}\n",
            "{'蘇格蘭', '高度', '無人島', '加布艾萊西島', '海拔', '大西洋', '島嶼', '海'} {'加布艾萊西島', '杜布莫爾島'}\n",
            "{'馬來西亞', '榴槤', '味覺', '國家', '氣味', '東南亞'} {'榴槤'}\n",
            "{'史詩', '荷馬', '荷馬史詩'} {'荷馬詩頌', '荷馬'}\n",
            "{'弗拉基米爾·普京', '伊拉克', '伊拉克戰爭', '醜聞', '戰爭'} {'伊拉克軍事', '伊拉克戰爭', '伊拉克戰爭列表', '伊拉克空軍'}\n",
            "{'因果關係', '晉文公', '晉國', '政權'} set()\n",
            "{'臺中_(大字)', '臺中市', '臺中市立臺中女子高級中等學校'} {'臺中市議會', '臺中市立臺中女子高級中等學校'}\n",
            "{'古羅馬', '神話', '羅馬', '羅馬神話', '神', '朱庇特', '宇宙', '天神'} {'朱庇特', '天神町'}\n",
            "{'醫院', '院長', '羅漢腳', '聯合醫院', '臺北', '臺北市立聯合醫院'} {'臺北市立聯合醫院松德院區', '聯合醫院', '臺北市立聯合醫院', '臺北市立萬芳醫院', '臺北市立關渡醫院'}\n",
            "{'明成皇后', '皇后', '李美妍', '輕·功'} {'明成皇后'}\n",
            "{'奧斯卡金像獎', '艾倫·狄珍妮', '英國電影和電視藝術學院', '艾倫', '伍迪·艾倫', '奧斯卡', '艾倫·狄珍妮秀', '艾倫·鮑絲汀', '艾倫·艾佛森', '獎勵'} set()\n",
            "{'物種', '靈長目'} set()\n",
            "{'國', '中心', '行', '遼朝', '運氣', '後晉', '木材', '五行'} set()\n",
            "{'盧卡斯·巴斯克斯', '盧卡斯·埃爾南德斯', '喬治·盧卡斯', '盧卡斯·佩雷斯', '盧卡斯·古博特', '授權', '星際大戰', '盧卡斯·雷瓦'} set()\n",
            "{'民族', '歐洲民族', '民族國家', '歐洲', '語言', '國家'} {'歐洲民族'}\n",
            "{'土星', '小時', '土衛一', '土星的衛星'} {'土衛三', '土衛四十', '土衛一', '土衛四十九'}\n",
            "{'色素', '蕉鵑', '鳥', '綠色', '鸚形目', '冠蕉鵑'} {'白梢冠蕉鵑', '冠蕉鵑'}\n",
            "{'住宅', '康平路', '集合住宅', '高安公寓'} {'高安公寓'}\n",
            "{'編程語言', '軟件開發工具', '軟件', '軟件開發'} {'軟件開發工具包', '軟件開發', '軟件開發工具', '蘋果開發工具', '軟件工程'}\n",
            "{'英國', '國家', '體育場'} {'BBC自然知性臺', '英國廣播公司', 'BBC電影'}\n",
            "{'巴哈歐拉', '以色列'} {'巴哈歐拉', '巴哈歐拉的使徒', '巴哈歐拉陵寢'}\n",
            "{'奧斯卡金像獎', '艾倫·狄珍妮', '英國電影和電視藝術學院', '艾倫', '伍迪·艾倫', '奧斯卡', '艾倫·狄珍妮秀', '艾倫·鮑絲汀', '艾倫·艾佛森', '獎勵'} {'英國電影學院獎最佳影片'}\n",
            "{'春秋', '穀梁傳', '春秋_(書)'} {'春秋三傳', '穀梁傳', '公羊傳'}\n",
            "{'軍事', '物流', '概念'} {'物流'}\n",
            "{'劍橋', '盧卡斯數學教授席位', '理論物理學', '劍橋大學', '英國', '保羅·狄拉克', '物理學家', '盧卡斯'} {'保羅·狄拉克'}\n",
            "{'NDA', '印度人民黨'} set()\n",
            "{'出家_(佛教)', '一行', '行', '出家衆', '名稱'} {'沙彌尼', '出家衆'}\n",
            "{'部落', '領土'} set()\n",
            "{'日本', '城', '國籍', '臺北市'} {'臺北市議員列表', '特別永住者', '日本人'}\n",
            "{'臺北市文山區永建國民小學', '醫院', '臺北市'} {'臺北市文山區永建國民小學'}\n",
            "{'行動限制', '金庸作品', '鹿鼎記', '金庸'} {'金庸筆下門派列表', '金庸作品', '鹿鼎記'}\n",
            "{'電子計算機', '計算機協會', '全球', '科學', '座談會', '學會', '計算機', 'ACM'} {'計算機協會', 'ACM計算概觀'}\n",
            "{'古希臘', '古希臘文學', '文學', '史詩', '荷馬史詩', '希臘', '希臘文學', '荷馬'} {'吉爾伽美什史詩', '荷馬'}\n",
            "{'西部', '緬甸', '面積', '塞內奇區'} {'塞內奇區'}\n",
            "{'北京市', '中國共產黨', '薄熙來', '秦城監獄', '秦城', '今天'} {'興壽鎮', '北京市監獄列表', '薄熙來', '秦城', '秦城監獄囚犯列表'}\n",
            "{'慕容復'} {'慕容衝'}\n",
            "{'威廉·亨利·哈里森', '美國總統', '總統', '美國'} {'美國總統列表', '安娜·哈里遜', '1840年美國總統選舉', '任內逝世的美國總統'}\n",
            "{'亞當·迪凡', '耶和華', '亞當·列維', '平特爾·亞當', '亞當', '夏娃', '亞當·斯密', '芬妮·亞當'} {'震旦肋骨介', '商羊肋骨介', '範睢肋骨介', '管夷吾肋骨介', '肋骨戳花介'}\n",
            "{'紫微垣', '皇后'} {'紫微垣'}\n",
            "{'慕容復', '慕容'} {'慕容衝', '慕容瑤', '慕容姓', '慕容顗', '慕容'}\n",
            "{'羅生門_(電影)', '羅生門', '多用戶', '電影'} set()\n",
            "{'講談社', '榮譽', '日本', '三年坂火之夢', '講談社·中國的歷史', '推理小說'} {'本格推理大獎', '三年坂火之夢', '講談社BOX'}\n",
            "{'昭和天皇', '天皇', '名', '昭和'} {'昭和之日', '大正天皇', '昭和', '昭和天皇之死', '昭和天皇戰後巡幸都道府縣列表'}\n",
            "{'柯伊伯帶', '傑拉德·柯伊伯', '矮行星', '行星', '衛星', '太陽系'} {'柯伊伯帶', '太陽系的假設天體列表', '太陽系天體列表', '傑拉德·柯伊伯獎'}\n",
            "{'亂世佳人', '費雯·麗'} {'AFI百年百大愛情電影', 'AFI百年百大電影臺詞', 'AFI百年系列', 'AFI百年百大電影', 'AFI百年百大喜劇電影'}\n",
            "{'果', '草莓', '物', '器官', '附果'} {'草莓'}\n",
            "{'聾', '手語', '1940年代', '日本', '英國', '學校', '年代', '英國手語'} {'愛爾蘭手語', '手語翻譯', '英澳新手語', '英國手語', '香港手語'}\n",
            "{'環氧乙烷', '化合物'} {'苯基環氧乙烷', '環氧乙烷', '環氧化合物'}\n",
            "{'朝花夕拾', '方中信', '夏文汐', '電影'} {'朝花夕拾'}\n",
            "{'倫敦', '威廉·華茲華斯', '湖區_(乍得)'} {'赫爾維林峯'}\n",
            "{'燧人氏', '氏_(消歧義)', '母系制度', '河套', '氏族', '木材'} {'燧人氏'}\n",
            "{'臺北101', '臺北'} {'前90年代', '90年代'}\n",
            "{'物體', '重量', '顏色', '原理'} {'靜力平衡', '重量'}\n",
            "{'教育局', '臺北市政府', '萬芳_(消歧義)', '臺北市文山區興華國民小學', '臺北市立萬芳高級中學', '小學', '文山區', '臺北市立萬芳醫院', '興華國小', '臺北市'} {'臺北市文山區萬芳國民小學', '臺北市私立東山高級中學', '臺北市政府教育局', '臺北市文山區興華國民小學'}\n",
            "{'安七炫', '吳建豪', 'F4', 'F_(音名)'} {'吳建豪'}\n",
            "{'晟碟公司', '東漢', '年齡'} set()\n",
            "{'許世友', '中國武術', '武術', '中國'} {'許家窪', '中國武術段位制'}\n",
            "{'犬', 'MacOS', '犬科'} {'原犬屬', 'MacOS版本歷史'}\n",
            "{'藥物', '病毒', '食物'} {'藥物'}\n",
            "{'意', '學名', '東方', '山斑鳩'} {'山斑鳩', '東方扁蝦'}\n",
            "{'突厥', '卡拉卡爾帕克斯坦共和國', '卡拉卡爾帕克人', '斯坦', '突厥語族', '本地人'} {'卡拉卡爾帕克斯坦共和國', '卡拉卡爾帕克蘇維埃社會主義自治共和國', '卡拉卡爾帕克自治州', '穆薩·葉爾尼亞佐夫', '卡拉卡爾帕克語'}\n",
            "{'古希臘', '芝諾', '柏拉圖', '埃利亞的芝諾', '哈芝芝·諾', '哲學家', '希臘', '斯多葛主義'} {'季蒂昂的芝諾', '克里安西斯', '芝諾', '基提翁', '埃利亞的芝諾'}\n",
            "{'無', '新潟縣', '上越市', '蟲川大杉車站', '無中生有', '名稱'} set()\n",
            "{'梅克倫堡_(1945年—1952年)', '西波美拉尼亞', '德國', '梅克倫堡前波美拉尼亞', '州', '波美拉尼亞', '梅克倫堡', '西南'} {'西北梅克倫堡縣', '東前波美拉尼亞縣', '後波美拉尼亞', '前波美拉尼亞-呂根縣', '梅克倫堡-前波美拉尼亞'}\n",
            "{'人類', '語言', '人類學', '民族學'} {'民族學'}\n",
            "{'裸子植物', '子房', '被子植物'} {'裸子植物'}\n",
            "{'熱帶', '熱帶海洋性氣候', '氣候', '面積', '北马里亞納羣島', '島嶼', '海洋性氣候'} {'.mp', '卡皮托爾希爾', '密克羅尼西亞運動會', '塞班國際機場'}\n",
            "{'諾貝爾獎', '吉米', '美國', '阿爾弗雷德·諾貝爾', '美國總統', '吉米·卡特', '卡特', '總統'} {'吉米·卡特', '吉米·卡特圖書館暨博物館'}\n",
            "{'溴', '量', '水', '消毒'} set()\n",
            "{'奧斯卡金像獎', '泰勒', '伊麗莎白·泰勒', '伊麗莎白', '奧斯卡', '演員', '獎勵'} {'伊麗莎白·泰勒'}\n",
            "{'古羅馬', '文學', '羅馬', '荷馬史詩', '古羅馬文學', '史詩', '荷馬'} {'荷馬史詩'}\n",
            "{'量_(物理)', '鳥', '全球', '雞', '求和符號'} set()\n",
            "{'共和國勳章', '2019年', '袁隆平', '勳章', '水質', '突破'} {'袁隆平', '小行星8117'}\n",
            "{'八片魔板', '板', '父親', '魔方'} {'八片魔板', '2x2x1魔術方塊', '十二片魔板', '魯比克·艾爾諾', '2x2x3魔術方塊'}\n",
            "{'雲南省_(中華民國)', '鹿城', '鹿城鎮_(阜南縣)'} {'鹿城'}\n",
            "{'鳥', '菌', '粗糙擬迷孔菌'} {'粗糙擬迷孔菌'}\n",
            "{'聶華苓', '編輯'} {'聶華苓'}\n",
            "{'雅虎', '網頁', '地球村', '1994年', '服務', '雅虎地球村', '地球村_(消歧義)', '網頁寄存服務'} {'免費網頁寄存服務', '雅虎地球村', '網頁寄存服務'}\n",
            "{'李賦寧', '政治家', '中國'} {'李賦都'}\n",
            "{'上海市', '晶圓', '電路', '集成電路', '中國', '中芯國際', '總部'} {'集成電路設計', '超大規模集成電路', '兆芯', '中芯國際', '半導體器件製造'}\n",
            "{'體溫', '變溫動物', '爬行動物', '熱量', '溫', '冷血', '動物', '冷血動物_(歌曲)'} {'爬行動物', '恆溫動物', '變溫動物'}\n",
            "{'印象主義音樂', '印象派'} {'印象主義音樂'}\n",
            "{'章回小說', '張飛', '劉備', '小說', '漢', '金蘭', '關羽', '三國演義'} {'關羽'}\n",
            "{'東京', '特別攻擊隊', '力_(佛教)', '資源_(計算機科學)', '同盟國_(第二次世界大戰)', '跟蹤支援隊'} set()\n",
            "{'彼得·傑克遜', '數學家', '中世紀'} set()\n",
            "{'社會', '抄襲'} {'高雄捷運路線圖抄襲事件'}\n",
            "{'素描'} set()\n",
            "{'聖保羅書院', '男性', '學校', '亞洲', '西區'} {'符潤光'}\n",
            "{'雅虎', '網頁', '1994年', '服務', '地球村_(消歧義)', '雅虎地球村', '廣告', '投資報酬率'} {'雅虎空間', '雅虎相冊', '雅虎臺灣', '雅虎地球村', '雅虎視頻'}\n",
            "{'天龍', '慕容復', '部', '燕國', '龍', '天龍八部', '反派角色'} {'慕容復', '北喬峯，南慕容', '天龍八部', '慕容博', '康敏'}\n",
            "{'六盤水市', '氣候', '地級市', '礦產資源', '貴州省'} {'六盤水市'}\n",
            "{'城市', '蘇克_(卑詩省)', '首都', '行政中心', '阿比讓', '亞穆蘇克羅', '科特迪瓦'} {'阿比讓之歌', '阿比讓非洲體育會', '亞穆蘇克羅', '和平之後大殿', '科特迪瓦'}\n",
            "{'科學家_(歌曲)', '因果關係', '疾病', '數據科學家', '機體'} {'病理學'}\n",
            "{'路易斯·伊納西奧·盧拉·達席爾瓦', '軍政_(政體)', '罷工', '軍政府'} set()\n",
            "{'手工藝', '大量生產', '機械', '方法', '生產', '工藝', '美學', '生產方式'} {'手工藝'}\n",
            "{'酮', '脂類', '性', '分子', '公寓', '生物'} {'脂類'}\n",
            "{'月', 'Gmail'} {'Gmail'}\n",
            "{'世紀', '觀點', '時間', '宗教', '新興宗教', '觀點_(哲學)'} set()\n",
            "{'角色', '原型', '小說', '弗朗西斯·斯科特·菲茨傑拉德', '電影製作', '製作人', '製作', '電影製片人'} {'尼克·卡拉威'}\n",
            "{'公路', '公路服務區', '中山高速公路', '泰安市', '泰安服務區_(臺灣)', '臺灣', '中山', '高速公路'} {'公路服務區', '泰安街道', '泰安休息站', '西湖服務區', '關西服務區'}\n",
            "{'英國', '籃球'} {'2009–10年東南亞職業籃球聯賽賽季'}\n",
            "{'固體', '木衛四', '木星的衛星'} {'木衛四表面特徵列表'}\n",
            "{'中國共產黨', '鄧小平', '英國', '理論', '鄧小平理論', '社會主義'} {'鄧小平理論'}\n",
            "{'奧利華·史東', '史東', '喜劇電影'} set()\n",
            "{'尤里·安德羅波夫', '健康'} {'尤里·安德羅波夫'}\n",
            "{'兒子', '副總理', '薄熙來', '國務院'} {'薄熙來'}\n",
            "{'醫學', '小說', '威廉·薩默塞特·毛姆', '成功'} {'威廉·薩默塞特·毛姆', '人性的枷鎖', '月亮和六便士', '情天恨海', '毛姆文學獎'}\n",
            "{'宋教仁', '政治家', '中國國民黨', '亞洲'} {'宋教仁', '潯陽街道'}\n",
            "{'音韻學', '語言學', '漢語音韻學', '音系學', '漢語'} {'音韻學', '漢語史', '漢語音韻學', '等韻學', '音系學'}\n",
            "{'第一次鴉片戰爭', '天津條約', '第二次鴉片戰爭', '鴉片'} {'第二次大沽口之戰', '天津條約', '第二次鴉片戰爭'}\n",
            "{'派', '觀點', '時間', '宗教', '新興宗教', '觀點_(哲學)'} set()\n",
            "{'伊俄卡斯忒', '木衛二十四', '希臘史', '木星的衛星', '木衛二', '名稱', '希臘'} {'小行星899', '木衛二十四'}\n",
            "{'中華人民共和國紡織工業部', '國務院_(聖座)', '中華人民共和國國務院', '上海市', '中華人民共和國', '輕工業', '1970年', '中國', '1978年'} {'中華人民共和國紡織工業部', '曹魯', '羅日運', '姜時彥', '中華人民共和國第二輕工業部'}\n",
            "{'少數民族', '楚瓦什語', '楚瓦什共和國', '西裏爾字母', '俄羅斯', '楚瓦什人', '語言', '人種'} {'楚瓦什蘇維埃社會主義自治共和國', '楚瓦什共和國國歌', '楚瓦什人', '楚瓦什語'}\n",
            "{'教會學校', '行憲紀念日', '聖誕節', '行憲'} set()\n",
            "{'人類', '女性'} {'女性'}\n",
            "{'臺灣', '法輪功', '中國', '口耳相傳'} {'法輪功在臺灣'}\n",
            "{'鳥', '草鴞科', '草鴞'} {'草鴞屬', '慄鴞屬', '草鴞科'}\n",
            "{'光學顯微鏡', '視野', '功能', '顯微鏡', '樣品'} {'光學顯微鏡'}\n",
            "{'西亞', '中東', '視角', '區域_(英格蘭)', '差異_(哲學)'} set()\n",
            "{'BI', '企業', '決策', '工具'} set()\n",
            "{'哈爾科夫', '布利茲紐基', '甘尼夫卡_(諾索夫卡區)', '聚落', '荷蘭', '哈爾科夫州', '布利茲紐基區'} {'布利茲紐基', '布利茲紐基區'}\n",
            "{'麥', '世界', '玉米', '米', '小麥', '糧食', '稻', '歷史'} {'小麥', '稻', '玉米'}\n",
            "{'北京市', '馬寅初', '校長', '北京大學', '高壽', '老年'} {'吳樹青', '北京大學圖書館', '馬寅初', '北京大學物理學院'}\n",
            "{'棘皮動物', '身體', '海星'} {'海星', '棘皮動物', '海星亞門', '十字海星', '海星街道'}\n",
            "{'香港醫院列表', '串列_(抽象資料型別)', '醫院', '香港'} {'香港醫院列表'}\n",
            "{'衆議院_(日本)', '議長', '民主黨_(香港)', '田納西州', '奧斯華·波爾克', '詹姆斯·諾克斯·波爾克', '衆議院議長_(日本)', '民主黨'} {'詹姆斯·諾克斯·波爾克'}\n",
            "{'真菌', '高錳酸鉀', '界_(生物)', '錳酸鉀'} set()\n",
            "{'現實', '性幻想', '慾望', '幻想'} {'性幻想'}\n",
            "{'粵菜', '菜系', '廣東省', '貿易', '興盛', '菜'} {'粵菜'}\n",
            "{'傳播史', '廣播', '第二次世界大戰', '特性_(計算機科學)', '感知'} set()\n",
            "{'公權力', '權力', '死刑'} set()\n",
            "{'王實甫', '西廂記', '元朝'} {'王實甫', '牆頭馬上', '西廂記', '四大名劇', '紅娘'}\n",
            "{'輻鰭魚綱', '鮎形目', '隱兵鯰', '美鯰科', '巴西', '美鯰', '輻鰭魚', '目'} {'大刺棘杆鮠', '黑帶直線脂鯉', '亞馬遜河咽鱂'}\n",
            "{'變溫動物', '爬行動物', '溫', '冷血', '動物', '冷血動物_(歌曲)'} {'冷血'}\n",
            "{'疾病', '機體', '病理學'} {'病理學', '古病理學'}\n",
            "{'蛇', '二胡'} set()\n",
            "{'科', '物種', '屬', '今天'} set()\n",
            "{'京都', '第二次世界大戰', '京城帝國大學', '帝國大學', '大學', '朝鮮半島'} {'帝國大學', '京城帝國大學'}\n",
            "{'臺灣', '臺灣織布', '大正'} {'臺灣織布'}\n",
            "{'省', '共和制', '荷蘭共和國', '荷蘭', '臺灣', '臺灣糖業史', '櫃檯買賣'} {'臺灣荷蘭統治時期'}\n",
            "{'228', '示威', '象徵', '人名', '王維', '坦克人', '二二八事件', '坦克'} {'坦克人'}\n",
            "{'論文', '鍼灸', '筋膜', '研究', '西方世界', '國家'} {'筋膜炎', '膜層', '筋膜'}\n",
            "{'角色', '艾倫', '伍迪·艾倫', '喜劇演員', '神經質', '煩躁', '1961年'} set()\n",
            "{'麥', '穀物', '大麥', '禾本科', '世界', '植物'} {'大麥'}\n",
            "{'極光', '緯度', '磁暴'} {'極光', '1989年3月磁暴', '磁暴'}\n",
            "{'臺北市立大學博愛校區', '師範學校', '臺北', '大學', '臺北市立大學'} {'臺北市立天文科學教育館', '臺灣教育大學系統', '臺北市立大學天母校區', '臺北市立大學', '臺北市立大學附設實驗國民小學'}\n",
            "{'海軍', '法西戰爭', '軍艦', '法國', '四十年戰爭', '路易十四', '戰爭'} set()\n",
            "{'恐怖主義', '恐怖活動', '麻原彰晃', '教主', '本名', '邪教'} {'麻原彰晃'}\n",
            "{'全國人民代表大會代表', '國', '全國人民代表大會', '主席', '香港', '葉國華_(香港政治人物)', '人民代表大會', '葉國華'} {'中華人民共和國香港特別行政區第十二屆全國人民代表大會代表選舉', '葉國華', '香港特別行政區全國人民代表大會代表'}\n",
            "{'西部', '科學園區', '竹東_(大字)', '東區_(新竹市)', '新竹_(大字)', '臺灣', '工業技術研究院', '年代', '竹東鎮'} {'二重埔', '竹東鎮'}\n",
            "{'喬木_(消歧義)', '兄弟姊妹', '中國社會科學院', '胡喬木'} set()\n",
            "{'阿爾·戈爾', '美國'} set()\n",
            "{'小說', '赫拉'} set()\n",
            "{'工程', '基因', '菜系', '基因工程', '細胞'} {'基因工程'}\n",
            "{'T·S·艾略特', '喬治·艾略特', '艾略特·高登索', '查爾斯·艾略特', '艾略特·克雷松獎章', '阿爾弗雷德·諾貝爾', '艾略特·內斯', '艾略特', '諾貝爾化學獎'} {'諾貝爾化學獎', 'T·S·艾略特', '查爾斯·艾略特', '卡爾·巴里·沙普利斯'}\n",
            "{'漢族'} set()\n",
            "{'伊朗', '尼克·貝爾格'} {'尼克·貝爾格'}\n",
            "{'宋高宗', '宋朝', '北宋', '兒子', '南宋', '宋徽宗', '皇帝', '高宗'} {'宋欽宗', '宋高宗', '宋朝君主列表', '南宋'}\n",
            "{'熱點_(地質學)', '生物', '生物多樣性', '馬達加斯加'} set()\n",
            "{'印度', '1977年', '印度總理', '總理', '乾酪'} {'茅屋起司', '起司濃湯'}\n",
            "{'佛教', '上座部佛教', '阿羅漢', '部', '羅漢果', '修行', '上座_(佛教)', '目標', '上座部'} {'菩薩道', '修道', '上座部', '三明六通'}\n",
            "{'IPod', '重量'} {'IPod'}\n",
            "{'柏林自由大學', '名_(人名)', '號', '柏林', '自由大學', '精英大學'} {'柏林工業大學', '柏林自由大學', '柏林洪堡大學'}\n",
            "{'佛教', '佛經', '籍', '發展'} set()\n",
            "{'巴比倫戰爭', '巴比倫', '戰爭', '戰爭與和平'} {'巴比倫戰爭'}\n",
            "{'楊素', '舉事', '618年', '618', '隋煬帝'} set()\n",
            "{'許世友', '紅四軍_(紅四方面軍)'} set()\n",
            "{'馬克思主義', '格魯喬·馬克思', '馬克思主義政治經濟學', '卡爾·馬克思', '資本論', '政治經濟學', '馬克思·多爾穆瓦站', '海因裏希·馬克思'} {'河上肇', '馬克思主義政治經濟學', '資本論', '女人資本論'}\n",
            "{'石器', '生物', '石器時代', '史前時代'} {'磨製石器', '中國中石器文化列表', '中石器時代', '中國史前文化', '石器'}\n",
            "{'馬克思主義', '格魯喬·馬克思', '馬克思主義政治經濟學', '卡爾·馬克思', '資本論', '政治經濟學', '馬克思·多爾穆瓦站', '海因裏希·馬克思'} {'伊拉里昂·伊格納切維奇·考夫曼', '政治經濟學批判大綱', '河上肇', '馬克思主義政治經濟學', '資本論'}\n",
            "{'二氧化硫', '木星的衛星', '木衛一', '霜', '硫', '原稿'} set()\n",
            "{'特殊教育', '廣福裏', '臺中市立啓明學校', '學校', '生', '臺灣', '臺中市', '教育'} {'臺中市立啓明學校', '臺中市立啓聰學校'}\n",
            "{'無人島', '釣魚臺', '島嶼', '釣魚臺列嶼'} {'釣魚臺列嶼', '釣魚臺列嶼主權問題', '中華民國臺灣地區島嶼列表', '釣魚臺燈塔'}\n",
            "{'北', '民族', '狩獵採集', '中國北方航空', '狩獵', '遼朝', '中國', '君主制'} {'遼朝皇后及妃嬪列表'}\n",
            "{'現代史', '數碼相機', '照相機'} {'賓得士Optio系列'}\n",
            "{'軍事組織', '中國歷史', '物流', '古代史', '中國', '概念'} {'物流'}\n",
            "{'內畫壺', '中國'} {'武昌府'}\n",
            "{'化合物', '化學式', '炔烴', '乙炔', '烴'} {'乙炔銅', '碳化鈣', '乙炔', '苯乙炔', '乙炔銀'}\n",
            "{'佛教', '大衆部', '上座部', '教派'} {'教派分裂', '斯里蘭卡佛教', '部派佛教', '教派', '上座部'}\n",
            "{'清華大學基礎工業訓練中心', '清華大學社會科學學院', '沙姆地區', '先驗唯心論', '南開大學日本研究院', '中國人民解放軍戰略支援部隊信息工程大學', '經濟法', '華東師範大學', '中國民用航空飛行學院', '兩個中國'} set()\n",
            "{'東京', '智庫', '報告', '亞洲', '經濟學人信息社'} {'全球最昂貴城市', '經濟學人信息社'}\n",
            "{'香港科技大學', '香港', '科技大學'} {'香港科技大學', '學府街道'}\n",
            "{'犀牛', '怪物', '犀渠', '中國', '盾'} {'犀渠'}\n",
            "{'太行山', '東部地區', '中國', '東部'} {'王母宮石窟', '太行山', '太行山針藺'}\n",
            "{'差異_(哲學)', '電動機', '蛋糕'} {'鱷梨蛋糕', '奶油蛋糕', '巧克力蛋糕'}\n",
            "{'神話', '考古學', '證明', '希臘神話', '希臘'} {'希臘神話生物列表', '希臘神話'}\n",
            "{'廣東省', '貿易', '粵菜', '興盛'} set()\n",
            "{'皇帝', '世紀', '北宋', '趙匡胤'} set()\n",
            "{'法國', '路易十四'} set()\n",
            "{'英國', '單曲', '披頭四樂隊'} {'披頭四作品列表', '橡皮靈魂'}\n",
            "{'柯伊伯帶', '傑拉德·柯伊伯', '週期', '流星'} {'散亂流星', '柯伊伯隕石坑'}\n",
            "{'路德', '馬丁·路德·金', '美國', '音樂會', '馬丁·路德', '亞伯拉罕·林肯', '林肯紀念堂'} {'我有一個夢想'}\n",
            "{'趙青', '趙丹', '丈夫'} set()\n",
            "{'角色', '德斯汀·荷夫曼'} set()\n",
            "{'行政機關', '艾根訴加拿大案', '奧林·艾根', '加拿大', '約翰·奈斯比特', '案', '曼弗雷德·艾根', '配偶'} {'艾根訴加拿大案'}\n",
            "{'阿姆斯特丹', '全球城市', '總部', '歐洲'} set()\n",
            "{'目', '死亡率', '鯡形目', '魚', '獵物', '大魚_(歌曲)'} {'鯡形目'}\n",
            "{'泉州市'} set()\n",
            "{'吸血', '一起_(政黨聯盟)', '紫質症', '虛構', '1985年', '生物', '卟啉', '吸血鬼'} {'吸血', '吸血鬼', '吸血毯'}\n",
            "{'西部', '薩爾波勒扎哈卜', '地區', '伊朗', '地震'} {'薩爾波勒扎哈卜'}\n",
            "{'奧斯陸', '奧斯陸協議', '首都', '發明家', '全球城市', '阿爾弗雷德·諾貝爾', '瑞典', '以色列', '挪威'} {'諾貝爾和平獎', '奧斯陸市政廳', '奧斯陸協議', '奧斯陸主教座堂'}\n",
            "{'中學', '臺北市私立協和祐德高級中學', '臺北市'} {'臺北市私立協和祐德高級中學'}\n",
            "{'鹿兒島縣', '少將', '兒玉利國', '牡丹社', '牡丹', '明治', '演員'} {'兒玉利國'}\n",
            "{'獎盃', '領域', '獎勵', '人物'} {'獎盃'}\n",
            "{'經濟體系', '公司', '全球', '麻省理工學院', '校友'} set()\n",
            "{'物理學', '科學哲學', '化學', '主題', '工具', '工廠', '載具'} set()\n",
            "{'搖滾', '中國音樂', '竇唯', '中國', '豹', '音樂類型'} {'黑豹樂隊', '獨立搖滾'}\n",
            "{'語言', '授課語言', '香港大學', '英語'} set()\n",
            "{'淮劇', '音系學'} {'何叫天', '音韻學'}\n",
            "{'阿茲特克', '費爾南多·阿隆索', '阿索斯山', '吉倫特派', '吉爾吉特-巴爾蒂斯坦', '阿爾伯特親王', '丹尼爾·奧爾特加', '凱克豪斯魯·沙帕吉·索拉布吉', '美索不達米亞', '阿拉貢的阿方索'} set()\n",
            "{'小米', '石器', '石器時代'} {'石器', '中國中石器文化列表', '中石器時代'}\n",
            "{'牛肉麪', '威廉·倫琴', '射線', '倫琴_(單位)'} {'威廉·倫琴'}\n",
            "{'臺灣醫界聯盟基金會', '陳水扁', '政府', '記者會', '總統'} {'臺灣醫界聯盟基金會'}\n",
            "{'臺灣時報', '1909年'} {'看守臺灣協會'}\n",
            "{'亞美尼亞飲食', '國', '飲食', '地理環境', '亞美尼亞'} {'阿塞拜疆飲食', '亞美尼亞飲食', '波蘭飲食', '奧地利飲食'}\n",
            "{'鰓棘杜父魚', '魚', '海'} {'泰氏棘吻杜父魚', '梳鰭鬼杜父魚', '鰓棘杜父魚', '連鰭杜父魚', '玫瑰裸腹杜父魚'}\n",
            "{'苗', '長江', '觀點', '上古時代', '三苗', '河南省'} {'三苗'}\n",
            "{'政府', '加利福尼亞大學', 'SETI@home', '加利福尼亞大學柏克萊分校'} {'BOINC'}\n",
            "{'獅', '船', '遠洋定期船', '遊輪', '渡輪', '客輪'} {'珠海高速客輪', '遠洋定期船', '郵輪母港', '遊輪', '客輪'}\n",
            "{'死者能舞', '音樂專輯', '1990年', '出版'} set()\n",
            "{'東晉', '南北朝_(消歧義)', '南北朝時代_(日本)', '南北朝', '時代', '宋武帝'} set()\n",
            "{'地區', '株式會社', '臺東製糖', '臺東廳', '明治製糖', '臺灣日治時期', '臺灣', '1943', '臺東'} {'臺東廳長', '臺東製糖'}\n",
            "{'謝雪心', '香港'} set()\n",
            "{'靜脈', '阿托品'} set()\n",
            "{'天琴座', '古希臘', '星', '廂座', '形狀', '星座', '口琴', '希臘'} {'天琴座'}\n",
            "{'隋文帝', '太子_(香港)', '國力', '庶出子女', '楊勇_(隋朝)', '隋朝', '老年', '長子', '隋煬帝'} {'隋朝'}\n",
            "{'天氣', '質量'} set()\n",
            "{'蔡卓妍', '香港', '藝人', '溫哥華', '大溫哥華'} {'常在我心'}\n",
            "{'足球', '盧卡斯·迪奧多斯基'} {'盧卡斯·迪奧多斯基'}\n",
            "{'查理曼', '查理·曼紐爾', '世紀', '主教座堂'} {'查理曼'}\n",
            "{'廣東省', '貿易', '粵菜'} set()\n",
            "{'國際機場', '時間', '香港國際機場'} {'機場稅'}\n",
            "{'脊索', '脊索動物', '龍', '敏迷龍屬', '屬'} {'脊索'}\n",
            "{'宋高宗', '宋朝', '學生', '北宋', '南宋', '宋徽宗', '皇帝'} {'宋欽宗', '宋高宗', '宋朝君主列表', '南宋'}\n",
            "{'果', '草莓', '物', '人類', '果實', '附果'} {'草莓'}\n",
            "{'城市', '俄羅斯人口', '人口', '聖彼得堡', '俄羅斯', '動物', '俄羅斯人'} set()\n",
            "{'行政機關', '臺灣總督府民政部', '總督府', '臺灣', '現在', '臺灣總督府', '行政院'} {'臺灣總督府評議會', '臺灣總督府氣象臺', '臺灣總督府', '臺灣總督府民政部'}\n",
            "{'北', '中國北方航空', '遼朝', '遊牧', '遊牧民族', '中國', '遼', '君主制'} set()\n",
            "{'斯卡帕灣', '如今', '公海艦隊自沉事件'} {'斯卡帕灣', '公海艦隊自沉事件', '路德維希·馮·羅伊特'}\n",
            "{'民族', '印歐語系', '歐洲民族', '日耳曼語族', '歐洲'} {'波羅的語族', '印歐語系', '歐洲民族', '北日耳曼語支', '東日耳曼語支'}\n",
            "{'南極', '康沃爾冰川', '南極條約體系', '今天'} {'康沃爾冰川', '迪圖瓦冰原島峯', '麥克貝恩山'}\n",
            "{'弗拉基米爾·普京', '代理_(政治)', '小時', '俄羅斯代理總統', '俄羅斯', '羅曼·伊戈列維奇·普京', '總統'} {'柳德米拉·普京娜', '2000年俄羅斯總統選舉', '俄羅斯代理總統'}\n",
            "{'答案', '思想'} set()\n",
            "{'醫生', '臺北醫學大學', '經營者', '臺北市'} {'李祖德'}\n",
            "{'廖文毅', '臺灣獨立運動', '中華民國', '中華民國政府', '政府', '臺灣', '1965年', '先驅', '三民主義'} {'臺灣共和國臨時政府', '廖文毅', '廖史豪'}\n",
            "{'民族', '地區', '歐洲民族', '民族國家', '歐洲', '語言'} {'歐洲民族'}\n",
            "{'衛', '埃裏希·瑪利亞·雷馬克', '宙斯', '希瑪利亞', '木星的衛星', '羅馬神話', '木星', '衛星', '木衛六', '女神'} {'木衛六', '希瑪利亞'}\n",
            "{'陌生人', '俄刻阿諾斯', '神', '水神', '忒堤斯', '提坦'} {'斯堤克斯', '俄刻阿諾斯', '俄刻阿尼得斯', '俄刻阿諾斯號', '忒堤斯'}\n",
            "{'臺北', '日治時期'} {'臺北州立臺北第一中學校'}\n",
            "{'地面車站', '大韓民國', '世紀', '20世紀', '煉武臺站'} {'地面車站', '我新站', '江景線', '煉武臺站'}\n",
            "{'歐內斯特·勞倫斯', '鐒'} {'勞倫斯伯克利國家實驗室', '歐內斯特·勞倫斯'}\n",
            "{'紅館', '音樂會', '藝術家', '蔡卓妍'} set()\n",
            "{'尤里·勃列日涅夫', '政治局', '安德烈·尤里耶維奇·勃列日涅夫', '中央委員會', '列昂尼德·勃列日涅夫'} {'維多利亞·勃列日涅娃', '列昂尼德·勃列日涅夫所獲獎項列表', '朝鮮勞動黨中央委員會政治局', '安德烈·尤里耶維奇·勃列日涅夫', '列昂尼德·勃列日涅夫'}\n",
            "{'馬克思主義', '格魯喬·馬克思', '作品', '馬克思主義政治經濟學', '卡爾·馬克思', '政治經濟學', '馬克思·多爾穆瓦站', '海因裏希·馬克思'} set()\n",
            "{'妙義山', '功能', '江戶時代', '江戶'} {'妙義荒船佐久高原國定公園'}\n",
            "{'春秋', '穀梁傳', '春秋_(書)'} {'春秋三傳', '穀梁傳', '公羊傳'}\n",
            "{'曹鼎', '司儀', '孫子'} {'曹鼎'}\n",
            "{'新北市', '朱立倫', '中國國民黨', '新北市市長', '蔡英文'} {'換柱爭議', '2019年堺市長選舉', '習朱會', '朱立倫市府', '朱立倫'}\n",
            "{'梁_(南朝)', '侯景之亂', '國庫', '亂', '老年', '侯景', '梁武帝'} {'梁武帝'}\n",
            "{'宋高宗', '宋朝', '學生', '北宋', '南宋', '宋徽宗', '皇帝', '高宗'} {'宋欽宗', '宋高宗', '宋朝君主列表', '南宋'}\n",
            "{'元素週期表', '物', '波動性', '科系', '同系物', '差異_(哲學)', '位置', '鐒'} {'D區元素', '鐒'}\n",
            "{'墨魚科', '玉', '國', '玄菟郡', '壽衣', '君主', '扶餘國', '玉衣'} set()\n",
            "{'美國國務卿', '美國', '國務卿', '蓋茲堡演說', '美國曆史', '亞伯拉罕·林肯'} {'羅伯特·託德·林肯', '蓋茲堡演說'}\n",
            "{'船', '乘客', '遠洋定期船', '遊輪', '渡輪', '客輪'} {'遠洋定期船', '郵輪母港', '遊輪', '客輪', '客運樓'}\n",
            "{'韋伯', '馬克斯·韋伯', '作曲家', '音樂劇', '尼爾·韋伯', '安德魯·勞埃德·韋伯', '貓_(音樂劇)', '卡爾·馬利亞·馮·韋伯'} set()\n",
            "{'美國', '富蘭克林·德拉諾·羅斯福', '羅斯福', '富蘭克林', '美國總統', '交通事故', '總統'} {'羅斯福總統', '富蘭克林·德拉諾·羅斯福總統圖書館暨博物館'}\n",
            "{'木衛三', '神話', '木衛三十九', '木星的衛星', '名稱', '希臘神話', '希臘', '女神'} {'陳美惠', '赫革摩涅', '霍爾三十九族', '希臘神話生物列表'}\n",
            "{'桂皮', '妊娠糖尿病', '糖尿病'} {'妊娠糖尿病', '抗糖尿病藥'}\n",
            "{'首飛', '紐約', '泰坦尼克號'} {'南非航空航點', '鐵達尼號船員列表'}\n",
            "{'家畜', '地中海', '島嶼', '撒丁島'} {'撒丁島'}\n",
            "{'奧斯陸', '奧斯陸協議', '首都', '發明家', '諾貝爾和平獎', '阿爾弗雷德·諾貝爾', '瑞典', '以色列', '挪威'} {'奧斯陸協議', '奧斯陸城市博物館', '奧斯陸市政廳', '奧斯陸猶太會堂', '奧斯陸主教座堂'}\n",
            "{'衛', '木星的衛星', '希臘神話', '名稱', '希臘', '木材', '木衛十五', '樹'} {'木衛十二', '木衛十五'}\n",
            "{'20世紀', '阿斯泰·妮爾森', '世紀', '深淵'} {'阿斯泰·妮爾森', '深淵'}\n",
            "{'馬克', '作家', '現在', '馬克·吐溫'} set()\n",
            "{'李賦寧', '祖籍'} {'常若柱', '李儀祉', '李賦都', '李賦寧'}\n",
            "{'烏克蘭'} set()\n",
            "{'訊息_(蘋果)', 'SIG', '技術', '組織', '非營利組織', 'ACM', '利潤'} set()\n",
            "{'國慶日', '武昌區', '政變', '明朝', '日期'} set()\n",
            "{'盧卡斯·巴斯克斯', '盧卡斯·埃爾南德斯', '喬治·盧卡斯', '盧卡斯·佩雷斯', '盧卡斯·古博特', '授權', '星際大戰', '盧卡斯·雷瓦'} set()\n",
            "{'隋文帝', '太子_(香港)', '庶出子女', '楊勇_(隋朝)', '隋朝', '老年', '長子', '隋煬帝'} set()\n",
            "{'地勢', '嘉興市', '尼羅河'} set()\n",
            "{'錢偉長', '院士', '中國科學院院士', '中國科學院'} set()\n",
            "{'亞美尼亞飲食', '香料', '國', '亞美尼亞'} {'阿塞拜疆飲食', '亞美尼亞飲食'}\n",
            "{'三國', '領土', '人口', '曹', '魏', '南', '政權', '曹魏'} {'曹魏'}\n",
            "{'喬治·哈里森', '喬治·桑', '評書', '疾病', '喬治三世', '卟啉'} set()\n",
            "{'多年生植物', '植物', '新月沃土', '種子', '動物'} {'新月沃土'}\n",
            "{'達悟族', '海里', '蘭嶼', '文化', '行政院', '漁船', '外海街道', '海'} {'達悟族'}\n",
            "{'對日民間索賠', '歧視', '類型', '創傷', '第二次世界大戰', '經濟補償'} {'對日民間索賠'}\n",
            "{'名', '亦舒', '朝花夕拾', '方中信', '電影', '夏文汐'} {'朝花夕拾'}\n",
            "{'古羅馬', '神話', '羅馬', '羅馬神話', '歐洲', '朱庇特', '天神'} {'朱庇特', '天神町'}\n",
            "{'人類', '工具'} {'園藝工具', '工具'}\n",
            "{'古希臘', '古希臘文學', '文學', '史詩', '荷馬史詩', '希臘', '希臘文學', '荷馬'} {'荷馬史詩'}\n",
            "{'周慧敏·新曲+精選', '周慧敏·最愛V25', '立法院', '方文琳', '香港', '周慧敏'} {'沈雁', '失物招領：周慧敏精選', '周慧敏'}\n",
            "{'藤島康介', '日本', '卡通', '職業'} {'藤島康介', '大卡通資料庫'}\n",
            "{'氧化劑', '化學式', '錳酸鉀', '昆蟲', '高錳酸鉀', '水'} {'伯醇氧化至羧酸', '高錳酸鉀', '高錳酸銀'}\n",
            "{'國家', '駕駛執照', '護照'} set()\n",
            "{'一邊一國', '標語', '中國', '國'} {'一邊一國', '中華職棒年度口號'}\n",
            "{'經濟學人', '經濟學'} {'非主流經濟學'}\n",
            "{'恆星', '星等', '黃道', '黃道帶', '獅子座', '視星等'} {'獅子座ψ', '獅子座ρ', '巨蟹座', '獅子座'}\n",
            "{'沈鈞儒', '進士', '嘉興市', '江蘇省_(中華民國)', '江蘇省'} {'沈鈞儒'}\n",
            "{'塑像', '羅馬', '維納斯'} {'米洛的維納斯'}\n",
            "{'C', 'C++', 'GCC', 'C_(音名)', '系統'} {'GCC'}\n",
            "{'威廉·倫琴', '倫琴_(單位)', 'X射線'} {'威廉·倫琴'}\n",
            "{'莫斯科', '博古'} set()\n",
            "{'克里斯·約翰遜', '肖恩·約翰遜', '斯蒂夫·約翰遜', '美國', '塞繆爾·約翰遜', '越南戰爭', '林登·約翰遜', '鮑里斯·約翰遜'} set()\n",
            "{'民族', '地區', '歐洲民族', '民族國家', '歐洲', '語言'} {'歐洲民族'}\n",
            "{'傳說_(2010年電視劇)', '傳說', '龍', '鳳凰', '王', '中國', '哺乳動物'} set()\n",
            "{'張谷英村', '中國歷史文化名村', '張谷英', '中國'} {'張谷英村', '張谷英', '張谷英鎮'}\n",
            "{'歐內斯特', '美國', '名稱', '物理學家', '勞倫斯', '歐內斯特·勞倫斯', '鐒'} {'勞倫斯隕石坑', '迴旋加速器', '歐內斯特·沃爾頓', '歐內斯特·勞倫斯'}\n",
            "{'周慧敏·新曲+精選', '周慧敏·最愛V25', '歌手', '方文琳', '歌手·當打之年', '美洲', '周慧敏'} {'沈雁', '周慧敏音樂作品列表', '失物招領：周慧敏精選', '周慧敏'}\n",
            "{'得分', '目標', '籃球'} set()\n",
            "{'透明國際', '政治', '政治家', '會長', '腐敗', '越南', '高建_(韓國)', '國際', '反腐敗'} {'高建'}\n",
            "{'奧克蘭_(加利福尼亞州)', '奧克蘭市', '都市圈', '南半球', '區_(英格蘭)'} set()\n",
            "{'濺射', '沉積', '化學氣相沉積'} {'表面改性技術'}\n",
            "{'假說', '人屬', '人類演化', '人類', '南', '演化'} {'人類演化', '宏觀演化', '人類演化歷程', '演化生物學'}\n",
            "{'國富論', '資本主義', '代表作', '資本主義政治經濟學', '功能', '亞當·斯密', '政治經濟學', '競爭', '自由'} {'資本主義政治經濟學', '亞當·斯密'}\n",
            "{'問題', '微分方程', '地方', '詞_(語言)'} {'伯努利微分方程', '全微分方程'}\n",
            "{'威廉·倫琴', '倫琴_(單位)', 'X射線', '物質'} {'威廉·倫琴'}\n",
            "{'靈長大目', '真靈長大目', '目', '目_(生物)'} {'靈長大目', '靈長總目', '真靈長大目'}\n",
            "{'紗', '華人地區', '華人', '黑紗', '袖章', '德語正寫法'} {'黑紗', '袖章'}\n",
            "{'粉末', '海洛因'} set()\n",
            "{'黎巴嫩', '北非', '西亞', '伊斯蘭教'} {'北非阿拉伯人', '阿拉伯世界', '黎巴嫩', '黎巴嫩阿拉伯語', '中華人民共和國省級行政區人均地區生產總值列表'}\n",
            "{'罪', '古代史', '尊嚴', '國家', '議會'} set()\n",
            "{'聖靈', '聖子', '聖父', '和子說'} {'聖靈', '耶和華見證人和三位一體', '聖父', '和子說'}\n",
            "{'棘皮動物', '脊柱'} {'舒爾曼病', '無脊椎動物', '棘皮動物', '海旋板', '脊柱外科'}\n",
            "{'啤酒', '酒', '食糖', '飲料', '澱粉'} {'啤酒', '酒精發酵', '拉格啤酒', '釀造酒', '自釀啤酒'}\n",
            "{'沈鈞儒', '民國', '民國時期'} {'沈鈞儒'}\n",
            "{'揮發性', '物質', '花椒'} {'屏東花椒', '簕欓花椒', '翼柄花椒', '嶺南花椒', '異葉花椒'}\n",
            "{'世界', '地區議會_(德國)', '政府', '懷俄明州', '女性', '法案', '選舉權'} {'懷俄明州'}\n",
            "{'土星', '土衛一', '土星的衛星'} set()\n",
            "{'語言系屬分類', '民族', '印歐語系', '歐洲民族', '突厥語族', '歐洲', '語言'} {'波羅的語族', '印歐語系', '突厥語族', '高加索民族', '安那託利亞語族'}\n",
            "{'變流技術', '技術', '流', '交流電', '直流電', '電流'} {'直流-直流轉換器', '變流技術', '電力電子學'}\n",
            "{'城市', '首都', '國內', '緯度', '冰島'} {'冰島國立博物館'}\n",
            "{'密西根大學', '美國'} set()\n",
            "{'星期六'} set()\n",
            "{'湯姆·班克斯', '木蘭花_(電視劇)', '湯姆·克魯斯', '湯姆·漢克斯', '奧斯卡', '奧斯卡·埃爾南德斯'} {'減字木蘭花'}\n",
            "{'電子科技大學'} {'中山大學管理學院'}\n",
            "{'喬治·哈里森', '喬治三世', '疾病', '喬治·桑'} set()\n",
            "{'羅馬女神', '羅馬', '兒童', '神', '彌涅耳瓦', '宇宙', '命運', '女神'} {'彌涅耳瓦'}\n",
            "{'美國英語', '美國', '英語'} {'美國英語', '美式機車', '美式中國菜', '通用美式英語'}\n",
            "{'閩南語維基百科', '閩南語', '組織', '維基百科', '非營利組織', '慈善組織', '利潤', '慈善'} {'閩南語維基百科', '中文維基百科', '英語維基百科', '法語維基百科', '西班牙語維基百科'}\n",
            "{'馬克思主義', '格魯喬·馬克思', '馬克思主義政治經濟學', '卡爾·馬克思', '資本論', '政治經濟學', '馬克思·多爾穆瓦站', '海因裏希·馬克思'} {'河上肇', '馬克思主義政治經濟學', '資本論', '女人資本論'}\n",
            "{'杉崎由綺琉', '盜', '天使怪盜', '角川書店', '漫畫雜誌', '書店'} {'杉崎由綺琉', '女神候補生', '月刊Asuka', '天使怪盜', '炸彈小新娘'}\n",
            "{'九州·天空城II', '九州縹緲錄', '世界', '小說', '九州', '背景'} {'九州'}\n",
            "{'政治家', '章伯鈞', '社會', '政治運動', '1957年'} set()\n",
            "{'馬來西亞', '榴槤', '味覺', '國家', '氣味', '東南亞'} {'榴槤'}\n",
            "{'桃園市', '面積', '市_(中華民國)', '中華民國', '直轄市', '西', '海', '直轄市_(中華民國)'} {'桃園市政府', '桃園市'}\n",
            "{'國際園藝博覽會', '臺灣', '2010年臺北國際花卉博覽會'} {'德國聯邦園藝博覽會', '2018年臺中世界花卉博覽會', '2010年臺北國際花卉博覽會', '2014年世界園藝博覽會', '2019年中國北京世界園藝博覽會'}\n",
            "{'閩南語維基百科', '閩南語', '白話字', '白話', '羅馬化', 'WMF', '阿拉斯加州', '總部'} {'閩南語維基百科', 'WMF'}\n",
            "{'鉻', '金屬', '玉', '寶石', '東方藍巨人', '紅色', '剛玉', '紅寶石'} {'剛玉', '藍寶石', '紅寶石'}\n",
            "{'公司', '子公司'} set()\n",
            "{'創新', '麗臺科技', '全球'} set()\n",
            "{'溫室', '玻璃', '功能', '熱空氣', '空氣'} {'溫室'}\n",
            "{'流星'} {'散亂流星'}\n",
            "{'社會', '共和黨'} set()\n",
            "{'美國', '農村', '總部', '花旗銀行'} set()\n",
            "{'作家', '柴灣', '明報', '香港', '金庸', '香港島'} {'世界華文媒體', '明報'}\n",
            "{'國務院_(聖座)', '網站', '新華社', '事業單位', '中華人民共和國國務院', '新華網'} {'新華社布拉格分社', '新華社', '新華網', '新華社莫斯科分社', '新華社平壤分社'}\n",
            "{'作家'} set()\n",
            "{'程序員'} {'程序員'}\n",
            "{'內畫壺', '工藝美術', '世紀', '技術'} {'內畫壺'}\n",
            "{'人類', '人類演化', '事實', '演化'} {'事實', '人類演化歷程'}\n",
            "{'榴彈炮', '炮兵'} {'280毫米榴彈炮', '榴彈炮', 'M101榴彈炮', 'M-68榴彈炮'}\n",
            "{'棘皮動物', '身體', '代表', '海星'} {'海星', '棘皮動物', '海星亞門', '十字海星', '海星街道'}\n",
            "{'象徵', '地區', '尼泊爾', '1949年', '人類', '家牛', '文化', '牛族'} set()\n",
            "{'西安市', '楊虎城', '西安事變', '楊虎'} {'兵諫亭', '西安事變'}\n",
            "{'元朝君主列表', '府_(行政區劃)', '行政區劃', '藩', '皇帝', '潛藩升府', '元朝', '字_(計算機)'} {'潛藩升府'}\n",
            "{'生物分類學', '屬', '日本鶺鴒', '日本', '鳥', '分類學', '鶺鴒科', '雀形目', '目_(生物)'} {'灰鶺鴒', '印度鶺鴒', '白鶺鴒', '西方黃鶺鴒', '山鶺鴒'}\n",
            "{'廖文毅', '臺灣獨立運動', '2000', '民族主義', '中華民國', '中華民國政府', '政府', '臺灣', '臺灣民族主義', '先驅'} {'臺灣共和國臨時政府國旗', '臺灣共和國臨時政府', '廖文毅', '廖史豪'}\n",
            "{'拿督', '馬來語'} {'拿督'}\n",
            "{'元培', '蔡元培', '價值', '民族主義'} set()\n",
            "{'熱帶', '熱帶海洋性氣候', '氣候', '面積', '北马里亞納羣島', '海洋性氣候'} {'.mp', '卡皮托爾希爾', '密克羅尼西亞運動會'}\n",
            "{'百靈科', '屬', '鳥', '雀百靈屬', '百靈屬', '雀形目', '目'} {'雀百靈屬', '林百靈', '歌百靈屬'}\n",
            "{'部長', '張其昀', '臺北市'} {'張其昀'}\n",
            "{'國慶日', '清朝', '政變', '中國', '日期'} set()\n",
            "{'SETI@home', '程序', '用戶_(計算機)'} {'SETI@home'}\n",
            "{'霍亨索倫王朝', '共和制', '德國', '魏瑪', '魏瑪共和國', '德國曆史'} {'魏瑪共和國', '魏瑪共和國上議院'}\n",
            "{'藥物', '化學', '化學物質'} {'化學物質'}\n",
            "{'大佛', '樂山大佛'} {'海通和尚', '樂山大佛'}\n",
            "{'地理學家', '土衛一', '地理學', '衛星', '宇宙'} {'土衛三', '土衛一', '土衛四十九', '土衛一表面特徵列表'}\n",
            "{'健康', '醃', '韓式泡菜', '亞硝酸鹽', '世界', '泡菜', '食物', '卡路里'} {'蘿蔔泡菜', '韓式泡菜'}\n",
            "{'問題', '方法', '答案'} {'問題', '答案'}\n",
            "{'庫爾納縣', '孟加拉國', '行政區劃', '魯普薩烏帕齊拉', '區_(英格蘭)', '烏帕齊拉'} {'達庫佩烏帕齊拉', '富爾塔拉烏帕齊拉', '魯普薩烏帕齊拉', '庫伊拉烏帕齊拉', '烏帕齊拉'}\n",
            "{'維基百科', '組別_(體育)', '電子藝術大獎', '1987年'} {'電子藝術大獎'}\n",
            "{'文盲', '經濟學人', '經濟學'} {'功能性文盲', '中央人民政府掃除文盲工作委員會'}\n",
            "{'近視', '阿托品', '患者'} {'阿托品'}\n",
            "{'航空母艦', '跟蹤支援隊', '特別攻擊隊'} {'特別攻擊隊'}\n",
            "{'排球', '世界'} {'沙灘排球'}\n",
            "{'百慕達三角', '島嶼', '殖民主義', '領土'} set()\n",
            "{'臺灣清治時期', '地區', '軍事組織', '清朝', '臺灣', '澎湖鎮', '巴士海峽', '海峽', '澎湖羣島'} {'衛生福利部澎湖醫院', '澎湖廳長', '張其光', '澎湖鎮', '澎湖縣文化資產'}\n",
            "{'新北市', '醫院', '院長', '妻子', '新北市政府', '士林區', '衛生局', '部長'} {'臺中市政府衛生局', '臺南市政府衛生局', '臺北市政府衛生局'}\n",
            "{'伊藤洋華堂', '日本', '日本百貨公司', '百貨公司'} {'伊藤洋華堂', '鈴木敏文'}\n",
            "{'工業設計', '人體', '人因工程學'} set()\n",
            "{'果酒', '酒', '原材料', '人類', '果實'} {'酒', '標準酒度', '蘋果酒', '大果酒餅簕'}\n",
            "{'語態', '理論', '流體力學', '名稱', '力學'} {'水力學'}\n",
            "{'金馬獎', '香港', '演員', '配角', '金馬獎最佳男配角', '黃秋生'} set()\n",
            "{'果酒', '世界', '酒', '葡萄酒', '蘋果酒'} {'蘋果酒'}\n",
            "{'亞洲', '寒武紀_(消歧義)', '寒武紀', '生物', '寒武紀大爆發'} {'顯生宙', '埃迪卡拉紀末期滅絕事件', '寒武紀大爆發'}\n",
            "{'文森特·梵高'} set()\n",
            "{'艾伯特縣', '縣', '艾伯特_(科羅拉多州)', '科羅拉多州', '美國', '南部', '政區首長'} {'艾伯特縣'}\n",
            "{'桑比爾', '面積', '烏克蘭', '桑比爾區', '改革'} {'桑比爾區', '圖爾卡區'}\n",
            "{'穎果', '葡萄', '類', '果實'} {'穎果', '山葡萄'}\n",
            "{'藤島康介', '藝術家', '亞洲', '職業', '卡通'} {'藤島康介'}\n",
            "{'明成皇后', '皇后', '李美妍'} {'李美妍'}\n",
            "{'上腔靜脈', '腔靜脈', '阿托品', '靜脈注射', '靜脈'} set()\n",
            "{'島嶼國家', '世界', '數字', '島嶼', '動物'} {'島嶼國家'}\n",
            "{'省部共建', '省', '部', '河北省', '燕山_(消歧義)', '工廠', '三省六部', '燕山大學'} {'燕山大學', '燕山大學科技園'}\n",
            "{'黃忠', '三國', '武將', '蜀漢', '三國演義'} {'馬超', '五虎將', '黃忠', '演義'}\n",
            "{'造紙術', '病毒', '人類', '中國', '紙'} {'造紙術'}\n",
            "{'臺灣總督', '天皇', '清朝', '總督', '臺灣', '地方行政首長'} {'臺灣總督府'}\n",
            "{'洲', '史考特·普魯特', '克莉斯汀·史考特·湯瑪斯', '史考特·詹森', '史考特·朗恩', '西恩·威廉·史考特', '雷利·史考特', '麥可·史考特', '蒙哥馬利·史考特'} set()\n",
            "{'文字', '史前時代', '人類', '石器時代', '時代', '石器', '歷史'} {'史前時代', '中國史前文化', '香港史前時期', '史前朝鮮', '石器'}\n",
            "{'科技大學_(臺灣學制)', '國立臺灣科技大學', '國立臺灣科技大學研揚大樓'} {'國立臺灣科技大學管理研究所', '國立高雄海洋科技大學', '國立臺灣科技大學校史室', '國立臺灣科技大學研揚大樓'}\n",
            "{'紫荊文化集團', '鳳凰衛視', '中央企業'} {'鳳凰衛視相關爭議', '鳳凰衛視中文臺', '紫荊文化集團', '鳳凰衛視電影臺', '鳳凰衛視香港臺'}\n",
            "{'四川省', '北京大學', '畫夢錄', '巴蜀人', '哲學系', '何其芳', '漢園三詩人', '詩人'} {'畫夢錄', '何其芳', '漢園三詩人', '李廣田', '卞之琳'}\n",
            "{'李賦寧', '中國', '教育家', '交通事故', '死亡'} {'李賦寧'}\n",
            "{'流產', '出生', '胎兒'} {'產前發育', '流產'}\n",
            "{'城市', '美國', '人口', '美國人口', '總部', '花旗銀行'} {'花旗銀行（中國）', '花旗（臺灣）商業銀行', '花旗銀行'}\n",
            "{'亞洲金融風暴', '公司', '金融危機', '兒子', '亞洲', '現代集團', '危機', '鄭周永'} {'現代集團'}\n",
            "{'孝恭仁皇后', '清朝', '仁皇后', '母親', '雍正帝', '皇帝'} {'仁皇后'}\n",
            "{'文字', '史前時代', '客體', '人類', '石器時代', '時代', '石器'} {'史前時代', '中國史前文化', '香港史前時期', '史前朝鮮', '石器'}\n",
            "{'自體受體', '受體_(生物化學)', '神經元', '神經遞質'} {'自體受體'}\n",
            "{'古羅馬', '拜占庭', '古希臘', '羅馬', '神廟', '希臘', '古代_(上加龍省)'} set()\n",
            "{'美國', '越南戰爭', '醫事人員', '林登·約翰遜', '約翰遜_(姓氏)', '總統', '戰爭'} {'醫事放射師'}\n",
            "{'泉州市', '絲綢之路'} {'絲綢之路'}\n",
            "{'漢語音韻學', '語言學', '分支'} {'漢語音韻學', '等韻學', '音系學', '臺灣漢語音韻學研究', '漢語方言'}\n",
            "{'琉球', '香港學界體育聯會', '琉球嶼', '古代史', '臺灣'} {'琉球歷史', '小琉球三隆宮'}\n",
            "{'淡水河', '亞洲', '淡水_(消歧義)', '長度', '河流'} set()\n",
            "{'晟碟公司', '年齡', '東漢', '帝', '現象'} set()\n",
            "{'酮', '脂類', '分子', '戊二烯', '公寓', '生物', '異戊二烯'} {'脂類'}\n",
            "{'查理曼', '查理·曼紐爾', '主教座堂'} set()\n",
            "{'城市', '文化中心', '首都', '大洋洲', '新西蘭', '惠靈頓', '大洋洲_(太平洋諸島嶼)', '人種'} {'惠靈頓'}\n",
            "{'若瑟·蘇格拉底', '對話', '蘇格拉底·布拉濟萊羅·奧利維拉', '作品', '後人', '蘇格拉底'} set()\n",
            "{'忠', '墨西哥', '墨西哥國徽', '仙人掌', '月桂', '國徽'} {'墨西哥國徽'}\n",
            "{'湯姆·班克斯', '奧斯卡最佳男配角獎', '花木蘭', '湯姆·克魯斯', '湯姆·漢克斯', '奧斯卡', '奧斯卡·埃爾南德斯', '配角'} {'安東尼·奎恩'}\n",
            "{'主教', '月球', '卡西尼', '法蘭西學會', '法國', '籍', '國籍', '喬瓦尼·多梅尼科·卡西尼'} {'雅克·卡西尼', '喬瓦尼·多梅尼科·卡西尼', '卡西尼'}\n",
            "{'現象', '金朝', '大學'} set()\n",
            "{'民意代表', '新黨'} set()\n",
            "{'內臟', '透明', '神農', '腹'} set()\n",
            "{'姚明', '凱蒂·史密斯', '今天', '奈史密斯籃球名人紀念堂', '威爾·史密斯', '考·奈史密斯', '詹姆斯·奈史密斯', 'J·R·史密斯'} {'傑克·希克馬', '姚明', '奈史密斯籃球名人紀念堂', '大衛·斯托克頓'}\n",
            "{'教會', '組織', '道教'} {'教會', '個別教會'}\n",
            "{'飲_(中醫)', '治療', '肥胖症'} set()\n",
            "{'收養', '孝恭仁皇后', '仁皇后', '雍正帝'} {'仁皇后'}\n",
            "{'呼吸管', '德州儀器', '晶體管', '世界', '德州', '年代', '呼吸'} set()\n",
            "{'斯坦福', '朱棣文', '小利蘭·斯坦福', '史丹佛大學'} {'斯坦福醫學院'}\n",
            "{'營養', '類', '糧食'} {'五大營養素', '2007-08年全球糧食價格危機', '人類鐵代謝', '營養', '營養學'}\n",
            "{'毒魚豆', '魚', '印度人'} {'毒魚豆'}\n",
            "{'程序員', '程序設計', '領域', '專業', '專業人士'} {'教育編程語言列表', '程序設計方法學', '程序員', '程序設計', '程序設計實踐'}\n",
            "{'處_(佛教)', '區域', '大波士頓', '波士頓'} set()\n",
            "{'社會'} set()\n",
            "{'對日民間索賠', '創傷', '問題', '第二次世界大戰', '武器'} {'對日民間索賠'}\n",
            "{'哈爾科夫', '基留希', '哈爾科夫州', '高樓_(消歧義)', '烏克蘭'} {'基留希'}\n",
            "{'淡水湖', '鄱陽湖', '中國', '鄱陽', '江西省'} {'鄱江', '鄱陽縣', '漳田河', '鄱陽湖平原', '鄱陽'}\n",
            "{'有期徒刑', '1998年', '波爾布特', '武將', '政府', '塔莫克', '無期徒刑', '宋成'} {'波爾布特'}\n",
            "{'乙醇', '化學式', '錳酸鉀', '化學', '高錳酸鉀', '水'} {'高錳酸鉀', '高錳酸銀'}\n",
            "{'音樂', '小號', '畫筆', '古典音樂', '爵士樂'} {'畫筆'}\n",
            "{'廖文毅', '臺灣獨立運動', '民族主義', '中華民國', '中華民國政府', '政府', '臺灣', '1965年', '臺灣民族主義', '先驅'} {'臺灣共和國臨時政府', '廖文毅'}\n",
            "{'隋文帝', '太子_(香港)', '庶出子女', '楊勇_(隋朝)', '隋朝', '老年', '長子', '隋煬帝'} {'隋朝行政區劃', '隋朝'}\n",
            "{'夏威夷大學', '斯科特·謝潑德'} set()\n",
            "{'SETI@home', '程序'} set()\n",
            "{'網絡遊戲', '形象', '饕餮', '作品'} {'饕餮'}\n",
            "{'喬治·羅傑斯·克拉克', '喬治亞州', '北美洲', '信息', '北美東部時區', '喬治·赫伯特·沃克·布什', '伯茲克里克_(喬治亞州)'} set()\n",
            "{'劉丹', '劉丹_(香港)', '本名', '香港', '工作', '民意代表'} set()\n",
            "{'手工藝', '工藝', '美學'} {'手工藝'}\n",
            "{'月球表面', '月球', '月食'} {'2011年6月15日月食', '月食', '2006年9月7日月食', '19世紀月食列表', '2014年10月8日月食'}\n",
            "{'太平洋', '城市', '墨西哥', '瓜達拉哈拉_(墨西哥)', '西南'} {'瓜達拉哈拉體育會'}\n",
            "{'京九鐵路'} set()\n",
            "{'首部', '城市規劃', '龍頭'} {'城市規劃'}\n",
            "{'成龍', '動作片演員', '演員'} {'成龍', '成龍歷險記'}\n",
            "{'中華人民共和國國務院', '中華人民共和國水利部', '中華人民共和國', '1949年', '單位_(社會組織)', '國務院'} {'中華人民共和國環境保護部', '中華人民共和國水利部', '中華人民共和國煤炭工業部', '中央人民政府水利部', '有關部門'}\n",
            "{'行星', '大氣層', '太陽系', '天王星'} {'天王星', '冰巨行星'}\n",
            "{'兒子', '70', '奧古斯都', '蓋烏斯·屋大維', '御座'} set()\n",
            "{'美國風情畫', '劇本', '弗朗西斯·科波拉'} {'李察·德雷福斯', '美國風情畫'}\n",
            "{'颱風', '食物'} {'食物安全中心'}\n",
            "{'北美洲', '伯茲克里克_(喬治亞州)', '北美東部時區'} {'墨西哥時區', 'UTC+11:00', '北美東部時區'}\n",
            "{'馬詩慧', '模特兒', '異性戀', '香港'} set()\n",
            "{'神話_(書)', '普路託', '羅馬', '羅馬神話', '冥王'} {'普路託', '冥王', '冥神', '哈得斯'}\n",
            "{'伊萬·巴甫洛夫', '貓', '制約', '古典制約'} {'古典制約'}\n",
            "{'語言系屬分類', '印度', '民族', '神話', '印度教', '印度教神話', '系統', '吠陀'} {'吠陀梵語', '吠陀宗教', '印度教神話', '吠陀', '娑摩吠陀'}\n",
            "{'大同_(思想)', '思想', '康有爲'} {'康有爲墓', '大同書'}\n",
            "{'政區首長'} set()\n",
            "{'大氣層', '天王星', '行星', '溫', '太陽系'} {'天王星軌道探測器', '天王星', '冰巨行星'}\n",
            "{'夫人', '婚姻'} set()\n",
            "{'電', '可見光', '燈', '汞', '電流', '螢光燈', '紫外線'} set()\n",
            "{'班距', '區間', '七堵區', '今天', '堵姓', '潮州市', '臺鐵區間車', '臺灣鐵路'} {'臺鐵區間車'}\n",
            "{'釣魚臺', '釣魚臺列嶼'} {'中華民國臺灣地區島嶼列表', '釣魚臺列嶼', '釣魚臺列嶼主權問題', '衝南巖', '釣魚臺燈塔'}\n",
            "{'馬克思主義', '格魯喬·馬克思', '馬克思主義政治經濟學', '卡爾·馬克思', '資本論', '政治經濟學', '馬克思·多爾穆瓦站', '海因裏希·馬克思'} {'河上肇', '馬克思主義政治經濟學', '資本論', '女人資本論'}\n",
            "{'青色', '行星_(占星術)', '大氣層', '太陽', '天王星', '行星', '面_(幾何)', '溫度', '太陽系'} {'天王星'}\n",
            "{'成龍', '美國', '本名', '票房', '演員', '時代', '好萊塢', '成功'} {'成龍'}\n",
            "{'基因', '性狀'} {'性狀', '基因表現', '數量性狀基因座', '人工選擇', '相對性狀'}\n",
            "{'威廉·倫琴', '射線', 'X射線', '倫琴_(單位)'} {'威廉·倫琴'}\n",
            "{'教育家', '李賦寧', '癌症', '中國'} {'李賦都'}\n",
            "{'古法語', '法語', '獅', '紋章', '獨角獸', '法國'} {'英國皇家徽章', '蘇格蘭皇家徽章'}\n",
            "{'聲音', '速度', '物體', '音速', '爆炸', '音障', '聲爆', '空氣'} set()\n",
            "{'香港大學', '英語'} set()\n",
            "{'沙丁魚', '星', '別名', '七星', '物種'} {'沙丁魚', '隆背小沙丁魚', '沙丁魚罐頭'}\n",
            "{'方程', '德國', '馬克士威_(單位)', '形式', '馬克士威方程組', '詹姆斯·克拉克·麥克斯韋', '物理學家'} {'電磁場的動力學理論', '馬克士威方程組的歷史', '馬克士威山脈', '馬克士威方程組'}\n",
            "{'畫家', '作品', '世紀', '表現主義', '印象派', '20世紀', '法國', '詞'} {'那比派', '表現主義'}\n",
            "{'民族', '地區', '歐洲民族', '民族國家', '歐洲', '語言'} {'歐洲民族'}\n",
            "{'民族', '歐洲民族', '民族國家', '歐洲', '語言', '國家'} {'歐洲民族'}\n",
            "{'大佛', '民國時期', '民國', '地震', '樂山大佛'} {'樂山大佛'}\n",
            "{'光學顯微鏡', '光學', '肉眼', '武器', '顯微鏡'} {'顯微鏡'}\n",
            "{'洲', '科技公司', '馬來西亞', '中國大陸', '英業達集團', '臺灣', '中國'} {'英業達集團'}\n",
            "{'校長', '臺灣省政府', '政府', '臺中市大里區大元國民小學', '民國'} {'臺中市大里區永隆國民小學', '臺中市大里區大元國民小學', '臺中市大里區益民國民小學'}\n",
            "{'遊戲', '國際象棋', '電'} {'國際象棋'}\n",
            "{'漫畫', '奧斯卡', '奧斯卡·埃爾南德斯', '名', '獎勵'} set()\n",
            "{'行政法', '活動'} {'行政法'}\n",
            "{'單片機', '微型計算機'} {'單片機'}\n",
            "{'中華人民共和國勞動人事部', '中華人民共和國', '勞動部'} {'中華人民共和國人事部', '中華人民共和國勞動人事部', '何光', '勞動部', '中華人民共和國勞動和社會保障部'}\n",
            "{'2004年', '比爾·比紹普', '現在', '比爾', '世'} {'比爾·比紹普'}\n",
            "{'民族', '歐洲民族', '指', '歐洲', '國家', '腳趾'} set()\n",
            "{'戴安娜·瑞格', '威爾士王妃', '組織', '戴安娜·艾嘉朗', '威爾斯', '政府', '戴安娜_(電影)', '非政府組織', '威爾斯王妃戴安娜', '王妃'} {'戴安娜廣場'}\n",
            "{'日語', '臺北市', '日語學校', '臺北市私立新民國民小學'} {'臺北市中山區長安國民小學', '臺北市國民小學列表', '臺北市私立新民國民小學'}\n",
            "{'理論物理學', '保羅·狄拉克', '物理學家'} {'狄拉克費米子', '狄拉克之海', '保羅·狄拉克', '狄拉克方程式', '物理學家'}\n",
            "{'太原市', '汾河', '河', '母親', '上游', '山西省'} {'汾河街道', '汾河', '汾河鎮', '汾河公園'}\n",
            "{'中國共產黨', '韓正', '政治局', '中國共產黨中央政治局', '製造業'} set()\n",
            "{'認識', '生活', '王安石'} {'王安石'}\n",
            "{'音樂產業', '竹內瑪莉亞', '歌手', '作品', '創作歌手', '年代'} set()\n",
            "{'醫療疏失', '全球'} {'醫療疏失'}\n",
            "{'中子', '夸克', '核'} set()\n",
            "{'主義', '斯科特·布赫茲', '保守主義', '公衆人物', '政黨', '澳大利亞'} {'斯科特·布赫茲'}\n",
            "{'領域', '專業人士', '程序員', '專業'} set()\n",
            "{'葡萄', '果實'} {'葡萄科'}\n",
            "{'胸', '內衣', '乳房', '胸圍'} {'胸圍'}\n",
            "{'國務院_(聖座)', '中華人民共和國國務院', '浙江省', '自然保護區', '湖南省'} {'臥龍國家級自然保護區', '中華人民共和國國家級自然保護區列表'}\n",
            "{'蘇格蘭', '面積', '高度', '加布艾萊西島', '海拔', '大西洋', '島嶼', '海'} {'加布艾萊西島', '杜布莫爾島'}\n",
            "{'門', '扁盤動物門', '動物', '今天', '絲綢', '動物分類表', '黏絲盤蟲', '物種'} {'黏絲盤蟲', '扁盤動物門', '副同源異形基因動物'}\n",
            "{'許世友', '跆拳道'} {'許家窪'}\n",
            "{'屏東縣', '潮州鎮', '李·安克里奇', '導演', '潮州_(大字)', '柏林國際電影節', '李安', '新加坡'} {'李安'}\n",
            "{'佛教', '印度', '法律', '發展', '佛經'} {'佛經翻譯'}\n",
            "{'綱', '輻鰭魚綱', '俗名', '脊索動物', '鯡形目', '魚', '輻鰭魚', '目'} {'鯡形目', '鯡亞目', '蟾魚科', '狗魚目'}\n",
            "{'問題', '答案', '思想'} {'問題'}\n",
            "{'昭和天皇', '天皇', '神話', '態度', '日本', '昭和', '日本神話', '歷史書'} {'日本神話'}\n",
            "{'流域', '流域面積', '珠江', '全長', '中國', '河流'} set()\n",
            "{'張飛', '關羽', '萬人敵', '三國演義'} {'張飛', '關羽', '五虎將'}\n",
            "{'音樂', '梁朝偉', '鼓手', '流行_(音樂類型)'} {'爲情所困', '從前…以後'}\n",
            "{'許世友', '紅四軍', '代表'} {'許家窪', '中華民國駐日本大使列表', '義大利排球聯賽', '英格蘭行政區劃'}\n",
            "{'傷寒', '電影院', '腸道沙門氏菌', '沃斯科縣', '達爾·斯蒂芬斯', '1984年羅傑尼希教生物恐怖攻擊', '奧修', '沙門氏菌屬'} {'1984年羅傑尼希教生物恐怖攻擊'}\n",
            "{'大將軍_(東亞)', '德川家康', '後陽成天皇', '大將軍', '幕府_(日本)', '徵夷大將軍', '夷', '陽成天皇', '江戶'} {'德川家康', '鎌倉幕府將軍列表'}\n",
            "{'太原市', '水源', '汾河', '河', '母親', '上游'} {'汾河街道', '山西省太原市中級人民法院', '汾河鎮', '汾河公園', '汾河水庫'}\n",
            "{'世紀', '派別', '印象派', '年代', '法國'} set()\n",
            "{'金馬獎', '傳奇', '侯孝賢', '電影'} set()\n",
            "{'名譽主席', '奧林匹克五環', '主席', '男爵', '五環', '奧林匹克運動會', '皮埃爾·德·顧拜旦'} {'奧林匹克運動會藝術比賽', '奧林匹克五環', '皮埃爾·德·顧拜旦'}\n",
            "{'斯拉夫人', '少數民族', '西裏爾字母', '楚瓦什共和國', '字母', '俄羅斯', '楚瓦什人', '人種'} {'楚瓦什人'}\n",
            "{'主席', '比爾·比紹普', '比爾'} {'比爾·比紹普'}\n",
            "{'北京市', '馬寅初', '校長', '北京大學', '高壽'} {'吳樹青'}\n",
            "{'辦公室', '臺中市政府', '臺中市', '臺中市政府陽明大樓'} {'臺中市政府交通局', '臺中世界花卉博覽會辦公室', '臺中市政府陽明大樓', '臺中市政府運動局', '臺中市政府勞工局'}\n",
            "{'卡拉卡爾帕克斯坦共和國', '卡拉卡爾帕克人', '斯坦', '哈薩克斯坦', '烏茲別克斯坦', '花剌子模', '烏茲別克人'} {'卡拉卡爾帕克斯坦共和國', '卡拉卡爾帕克蘇維埃社會主義自治共和國', '木伊那克', '穆薩·葉爾尼亞佐夫', '卡拉卡爾帕克語'}\n",
            "{'李賦寧'} {'李賦都'}\n",
            "{'輻鰭魚綱', '流域', '南美洲', '隱兵鯰', '美鯰科', '鯰科', '輻鰭魚', '淡水魚'} {'亞馬遜河咽鱂', '大刺棘杆鮠', '黑帶直線脂鯉', '阿氏喉鰭魚'}\n",
            "{'個人電腦', 'SETI@home'} {'搜尋地外文明計劃', 'SETI@home'}\n",
            "{'蘇格蘭', '方程', '馬克士威_(單位)', '方程組', '形式', '馬克士威方程組', '詹姆斯·克拉克·麥克斯韋', '物理學家'} {'電磁場的動力學理論', '馬克士威方程組的歷史', '馬克士威山脈', '馬克士威方程組'}\n",
            "{'天琴座', '星', '星等', '形狀', '星座', '中國', '豎琴', '廂座'} {'天琴座'}\n",
            "{'事件', '金獅獎', '威尼斯', '電影節', '電影', '二二八事件', '侯孝賢', '威尼斯電影節'} {'威尼斯影展評審團大獎', '金獅獎', '第10屆威尼斯影展', '悲情城市', '第15屆威尼斯影展'}\n",
            "{'墨西哥', '墨西哥總統', '貝尼託·胡亞雷斯', '亞伯拉罕·林肯', '總統'} {'貝尼託·胡亞雷斯', '法國武裝干涉墨西哥'}\n",
            "{'北京市', '化學', '生物', '鄭集'} {'生物化學'}\n",
            "{'班距', '區間', '七堵區', '今天', '堵姓', '潮州市', '臺鐵區間車', '臺灣鐵路', '載具'} {'臺鐵區間車'}\n",
            "{'導演', '視覺藝術'} {'導演', '視覺藝術博物館'}\n",
            "{'妙義山', '明治', '效用'} set()\n",
            "{'杜鵑花目', '嘉義縣', '阿里山', '臺灣', '杜鵑'} {'阿里山號', '石楠'}\n",
            "{'國家', '護照'} set()\n",
            "{'能量', '發動機', '差異_(哲學)', '電動機'} {'電動機'}\n",
            "{'國務院_(聖座)', '中華人民共和國國務院', '浙江省', '自然保護區', '中國', '臨安'} {'臥龍國家級自然保護區', '中華人民共和國國家級自然保護區列表'}\n",
            "{'愛國歌曲', '天佑國王', '歌曲', '美國'} {'天佑新西蘭', '在那邊', '天佑安圭拉', '天佑國王', '愛國歌曲'}\n",
            "{'系統', '數據', 'MacOS'} {'MacOS版本歷史'}\n",
            "{'效率', '航空', '航空交通管制', '航空管制員', '航空器', '交通管制', '陸地', '意外事故', '機場'} {'航空交通管制部', '航空交通管制'}\n",
            "{'眼壓', '阿托品'} {'葡萄膜炎'}\n",
            "{'教研室'} {'虛擬教研中心', '深圳大學計算機與軟件學院', '北京大學信息管理系', '教研室'}\n",
            "{'訊息', '占卜', '術數', '占星術', '人造衛星', '衛星'} {'占卜'}\n",
            "{'人類', '昆蟲'} set()\n",
            "{'烏蘭', '內蒙古自治區', '烏蘭巴托', '鐵路', '縣級市', '蒙古國', '中國', '自治區'} {'烏蘭巴托', '天主教烏蘭巴托宗座監牧區', '成吉思汗國際機場', '烏蘭巴托站'}\n",
            "{'年代', '目標', '均勻碼理事會'} {'通用產品代碼', '均勻碼理事會'}\n",
            "{'屏東縣', '臺灣電影', '潮州鎮', '李·安克里奇', '導演', '臺北', '臺灣', '李安'} set()\n",
            "{'臺灣', '臺灣織布', '日治時期'} {'臺灣織布'}\n",
            "{'中部大學', '私立大學', '日本', '中部大學_(日本)', '大學'} {'中部學院大學短期大學部', '南山大學', '中部大學女子短期大學', '私立廣州大學', '私立文化大學'}\n",
            "{'夏威夷大學', '斯科特·謝潑德'} set()\n",
            "{'指南車', '王天木', '歷史書', '失敗'} set()\n",
            "{'珠江', '流量', '國內', '全長', '中國'} set()\n",
            "{'葡萄', '類', '果實'} {'單果谷木', '山葡萄'}\n",
            "{'亞洲金融風暴', '金融危機', '賭場', '兒子', '亞洲', '現代集團', '危機', '鄭周永'} {'現代集團'}\n",
            "{'米開朗基羅', '米開朗基羅·法爾瑪提諾', '米開朗基羅·樂孔特'} set()\n",
            "{'僞科學', '訊息', '占卜', '占星術', '天體'} {'占星術', '占卜'}\n",
            "{'老闆', '羅曼諾·貝尼託·弗洛里亞尼·墨索里尼', '亞歷山德拉·墨索里尼', '雷切爾·墨索里尼', '屍體', '貝尼託·墨索里尼'} set()\n",
            "{'主席', '比爾', '比爾·比紹普', '2004年'} {'比爾·比紹普'}\n",
            "{'春秋', '穀梁傳', '春秋_(書)'} {'春秋三傳', '穀梁傳', '公羊傳'}\n",
            "{'東亞', '中華民國', '蔡英文', '元首_(納粹德國)'} {'2020年中華民國總統選舉'}\n",
            "{'柯伊伯帶', '傑拉德·柯伊伯', '科學家', '矮行星', '行星'} {'柯伊伯帶', '柯伊伯機載天文臺', '最亮柯伊伯帶天體列表', '柯伊伯隕石坑', '傑拉德·柯伊伯獎'}\n",
            "{'手工藝', '工藝'} {'犀皮', '手工藝', '手工藝人', '手工業'}\n",
            "{'科學理論', '術語', '科學哲學', '理論', '主題', '科學'} set()\n",
            "{'震盪波蠕蟲', '小時', '少年', '德國'} {'震盪波蠕蟲'}\n",
            "{'皇帝', '北宋', '宋高宗'} set()\n",
            "{'立法機關', '民主', '國家', '議會'} {'各國立法機關列表', '伊斯蘭議會', '1982年印度尼西亞立法機構選舉', '臺南市議會', '臺中市議會'}\n",
            "{'尤里·勃列日涅夫', '選舉委員會', '政治局', '安德烈·尤里耶維奇·勃列日涅夫', '列昂尼德·勃列日涅夫'} {'列昂尼德·勃列日涅夫所獲獎項列表', '朝鮮勞動黨中央委員會政治局', '選舉委員會', '安德烈·尤里耶維奇·勃列日涅夫'}\n",
            "{'德斯汀·荷夫曼', '菜系'} set()\n",
            "{'獎盃', '人類', '領域', '人', '獎勵'} {'獎盃'}\n",
            "{'邦', '汶萊', '英屬婆羅洲', '國家'} set()\n",
            "{'岩石', '水', '冰', '天衛四'} {'天衛四'}\n",
            "{'民主黨_(香港)', '董事長', '奧斯華·波爾克', '詹姆斯·諾克斯·波爾克', '國立臺灣大學', '臺灣積體電路製造', '民主黨', '總統'} {'劉德音'}\n",
            "{'對日民間索賠', '類型', '創傷', '第二次世界大戰', '武器'} {'對日民間索賠'}\n",
            "{'分子', '氫氣'} {'氫氣'}\n",
            "{'貴族', '埃塔'} {'埃塔'}\n",
            "{'利器_(電視劇)', '秦二世', '幫助', '聖經', '頸', '世'} {'自刎'}\n",
            "{'粵菜'} set()\n",
            "{'質數', '數學家', '問題'} set()\n",
            "{'穆斯林', '流域', '伊斯蘭教', '西亞', '黃河', '中亞', '回族'} {'尼泊爾伊斯蘭教', '回族'}\n",
            "{'脂類', '分子', '生物', '公寓'} {'脂類', '脂質體'}\n",
            "{'特倫甘納邦', '阿馬拉瓦蒂', '安得拉邦', '海得拉巴_(印度)', '海得拉巴', '首府', '政府機構'} {'特倫甘納邦', '海得拉巴'}\n",
            "{'疾病', '機體', '流行病學'} {'病理學'}\n",
            "{'北歐神話', '木衛三', '學術領域大綱', '名稱'} {'天體粒子物理學', '天文學家'}\n",
            "{'心', '電影', '我的愛_(1986年電影)', '泰國', '以你的心詮釋我的愛', '愛'} set()\n",
            "{'衰變', '質量', '上夸克', '下夸克', '過程', '重量', '夸克', '粒子衰變'} {'五夸克態', '上夸克', '下夸克', '頂夸克', '夸克'}\n",
            "{'臺北101', '唐朝'} set()\n",
            "{'共享', '分辨率', '照相機', '市場', '功能', '時間', '數碼相機'} {'數碼相機'}\n",
            "{'馬克思主義', '格魯喬·馬克思', '作品', '馬克思主義政治經濟學', '卡爾·馬克思', '政治經濟學', '馬克思·多爾穆瓦站', '海因裏希·馬克思'} set()\n",
            "{'趙青', '趙丹', '女性'} set()\n",
            "{'科技公司', '臺灣', '英業達集團'} {'英業達集團'}\n",
            "{'梁國雄', '立法會', '今天', '香港'} {'梁國雄2017年香港行政長官選舉活動'}\n",
            "{'地區', '方言學', '人口', '特徵', '語言', '新地區', '移民'} {'方言學'}\n",
            "{'芝加哥'} set()\n",
            "{'輻鰭魚綱', '印度洋', '桑吉巴蝴蝶魚', '蝴蝶魚科', '鱸形目', '西'} {'深水前頷蝴蝶魚', '領蝴蝶魚', '桑吉巴蝴蝶魚', '鰭斑蝴蝶魚', '黑鰭蝴蝶魚'}\n",
            "{'葉巒', '鄉試', '福建省'} {'葉巒'}\n",
            "{'多細胞生物', '門', '扁盤動物門', '動物', '今天', '動物分類表', '黏絲盤蟲', '物種', '細胞'} {'黏絲盤蟲', '扁盤動物門', '副同源異形基因動物'}\n",
            "{'個人電腦', 'SETI@home'} {'搜尋地外文明計劃', 'Astropulse', 'SETI@home', 'SHGb02+14a無線電信號'}\n",
            "{'動物', '脊柱', '海', '棘皮動物'} {'舒爾曼病', '無脊椎動物', '棘皮動物', '海旋板', '脊柱外科'}\n",
            "{'古典制約', '伊萬·巴甫洛夫', '制約'} {'古典制約'}\n",
            "{'慕容復', '反派角色', '燕國', '武俠', '金庸', '武俠小說'} {'笑傲江湖角色列表', '康敏', '慕容復'}\n",
            "{'學習'} {'香港都會大學李嘉誠專業進修學院'}\n",
            "{'果酒', '酒', '葡萄酒', '蘋果酒', '宇宙'} {'蘋果酒'}\n",
            "{'花', '聲優', '河北省', '豫劇'} set()\n",
            "{'臺灣醫療勞動正義與病人安全促進聯盟', '電子科技大學'} set()\n",
            "{'紅館', '歌手·當打之年', '歌手', '蔡卓妍'} set()\n",
            "{'何基佑', '模特兒', '藝人', '香港'} {'鍾凱瑩'}\n",
            "{'路德', '馬丁·路德·金', '美國', '演講', '馬丁·路德', '亞伯拉罕·林肯', '林肯紀念堂'} {'我有一個夢想'}\n",
            "{'元曲', '曲', '內蒙古自治區', '豫劇'} set()\n",
            "{'忠', '墨西哥', '鳳仙花', '墨西哥國徽', '力量', '國徽', '岩石', '湖泊'} {'墨西哥國徽'}\n",
            "{'世界百大外來入侵種', '貓', '世界', '鳥', '生命', '入侵物種'} {'貓'}\n",
            "{'臺東郡', '臺東飛行場', '第二次世界大戰', '日治時期', '卑南莊'} {'臺東飛行場'}\n",
            "{'鹽水', '比例', '硫酸'} set()\n",
            "{'報紙', '公共服務', '孫', '約瑟夫·普立茲', '普利策獎', '服務', '獎勵'} {'普立茲公共服務獎'}\n",
            "{'拿破崙一世', '序曲', '1812序曲', '俄法戰爭', '米哈伊爾·伊拉里奧諾維奇·庫圖佐夫', '路易·拿破崙', '年代', '維克多·拿破崙', '羅曼·庫圖佐夫'} {'1812序曲'}\n",
            "{'行爲', '商業', '目標', '利潤', '交易', '心願'} {'商業', '心願'}\n",
            "{'行政法'} {'行政法', '美國聯邦行政部門'}\n",
            "{'百貨公司', '漢', '天下', '漢初三傑', '漢朝', '劉邦'} {'白登山', '漢初三傑'}\n",
            "{'科學理論', '術語', '科學哲學', '化學', '理論', '主題', '心理學', '科學'} {'科學哲學'}\n",
            "{'南京市', '美國', '學校', '1915年', '倪尚達'} {'國立武昌高等師範學校', '倪尚達'}\n",
            "{'可持續發展', '戰略', '生物多樣性', '生物多樣性公約', '發展'} {'坎昆宣言', '生物多樣性國際日', '生物多樣性行動計劃', '生物多樣性公約'}\n",
            "{'沙洛特·蔡', '波爾布特', '政治人物', '化名', '柬埔寨'} {'宋成'}\n",
            "{'核', '真核生物', '古菌', '生物', '演化'} {'雙鞭毛生物', '真核生物', '已測序古菌基因組列表', '演化生物學'}\n",
            "{'島嶼國家', '世界', '數字', '島嶼', '政權'} {'島嶼國家'}\n",
            "{'地區', '臺東製糖', '明治製糖', '臺灣日治時期', '臺灣', '臺中市', '臺中廳', '臺中_(大字)'} {'臺東製糖'}\n",
            "{'藥物', '化學', '藥理學', '化學物質'} {'藥物', '生物藥理學', '系統藥理學'}\n",
            "{'羽毛', '洲', '差異_(哲學)', '雉雞'} set()\n",
            "{'T·S·艾略特', '喬治·艾略特', '艾略特·高登索', '查爾斯·艾略特', '艾略特·克雷松獎章', '阿爾弗雷德·諾貝爾', '文學獎', '艾略特·內斯', '艾略特', '諾貝爾文學獎'} {'T·S·艾略特', '查爾斯·艾略特'}\n",
            "{'教育局', '臺北市政府', '幼稚園', '臺北市文山區興華國民小學', '政府', '臺北市政府教育局'} {'臺北市文山區萬芳國民小學', '臺北市文山區興華國民小學', '萬芳醫院站', '臺北市私立東山高級中學', '臺北市政府教育局'}\n",
            "{'馬克思主義', '格魯喬·馬克思', '馬克思主義政治經濟學', '卡爾·馬克思', '資本論', '政治經濟學', '馬克思·多爾穆瓦站', '海因裏希·馬克思'} {'河上肇', '馬克思主義政治經濟學', '資本論', '女人資本論'}\n",
            "{'盧卡斯·巴斯克斯', '盧卡斯·埃爾南德斯', '喬治·盧卡斯', '盧卡斯·佩雷斯', '盧卡斯·古博特', '授權', '星際大戰', '盧卡斯·雷瓦'} set()\n",
            "{'中華人民共和國', '中華民國', '政權', '金門炮戰', '地方'} {'八二三戰史館'}\n",
            "{'合唱', '古希臘', '祭祀', '酒', '悲劇', '希臘', '古希臘悲劇'} {'狄俄倪索斯', '悲劇的誕生', '古希臘悲劇', '古希臘喜劇'}\n",
            "{'金馬獎', '張學友', '1990年', '電影', '江湖'} {'張學友87演唱會', '張學友'}\n",
            "{'活動', '軟件', '軟件開發'} {'軟件開發過程', '軟件項目管理', '軟件開發', '產品激活', '軟件工程'}\n",
            "{'計算機科學', '實踐', '理論', '概念'} {'實踐'}\n",
            "{'沙丁魚', '沙丁魚罐頭'} {'沙丁魚', '隆背小沙丁魚', '沙丁魚罐頭'}\n",
            "{'蒂姆·伯頓', '伯頓'} {'牀戲'}\n",
            "{'若昂·費雷拉·佛朗哥·平託·卡斯特洛布蘭科', '共和制', '第二共和國', '西班牙', '傑斯·佛朗哥', '西班牙第二共和國', '弗朗西斯科·佛朗哥', '伊塔馬爾·佛朗哥'} set()\n",
            "{'電子藝術大獎', '獎勵'} {'2018年世界女子冰球錦標賽'}\n",
            "{'處_(佛教)', '木衛四', '地表', '俱樂部'} {'木衛四表面特徵列表'}\n",
            "{'智利', '政治家', '路易斯·伊納西奧·盧拉·達席爾瓦', '罷工', '軍政_(政體)', '軍政府'} {'路易斯·伊納西奧·盧拉·達席爾瓦'}\n",
            "{'南極', '康沃爾冰川', '南極條約體系', '今天'} {'康沃爾峯', '迪圖瓦冰原島峯', '麥克貝恩山', '康沃爾冰川', '福派峯'}\n",
            "{'流域', '文明', '四大文明古國', '河', '美索不達米亞'} {'伊拉克歷史', '四大文明古國'}\n",
            "{'臺灣團結聯盟', '劉一德', '主席', '全國不分區及僑居國外國民立法委員選舉區', '政黨領袖', '立法院立法委員選舉'} {'政黨補助金', '臺灣團結聯盟'}\n",
            "{'安七炫', '吳建豪', 'F4', 'F_(音名)'} set()\n",
            "{'問題', '微分方程', '地方', '中華民國國語'} {'伯努利微分方程', '全微分方程'}\n",
            "{'亞當·斯密', '國富論', '經濟學', '歐洲'} {'亞當·斯密'}\n",
            "{'方言學', '地區'} {'方言學'}\n",
            "{'狸', '貓', '馬島長尾狸貓'} {'馬島長尾狸貓'}\n",
            "{'註解_(程式設計)', '代碼風格', '程序員', '錯誤'} set()\n",
            "{'產業', '啤酒', '酒', '市場', '食糖', '競爭力', '飲料', '澱粉'} {'釀造酒', '啤酒', '酒精發酵'}\n",
            "{'古希臘', '神話', '中華', '希臘神話', '希臘', '文化', '中華文化'} set()\n",
            "{'衛', '面_(幾何)', '木星的衛星', '木衛二', '物質', '太陽系', '木材'} {'木衛二'}\n",
            "{'邛州直隸州', '字', '四川省', '同治', '四川省_(中華民國)', '曾光爔', '邛州', '祖籍', '民國'} {'曾光爔'}\n",
            "{'城市規劃'} {'南京大學城市規劃與設計系'}\n",
            "{'地球', '寒武紀_(消歧義)', '寒武紀', '生物', '寒武紀大爆發'} {'埃迪卡拉紀末期滅絕事件', '寒武紀大爆發'}\n",
            "{'遺囑', '諾貝爾獎', '化學家', '化學', '阿爾弗雷德·諾貝爾', '獎勵'} set()\n",
            "{'春秋', '穀梁傳', '春秋_(書)'} {'春秋三傳', '穀梁傳', '公羊傳'}\n",
            "{'鰓棘杜父魚', '魚', '日本', '海'} {'長鰭喬氏杜父魚', '梳鰭鬼杜父魚', '鰓棘杜父魚', '連鰭杜父魚', '玫瑰裸腹杜父魚'}\n",
            "{'國慶日', '清朝', '羅盤方位', '武昌區', '日子', '舉事', '國家'} set()\n",
            "{'支流', '珠江', '珠江三角洲', '三角洲'} {'珠江三角洲'}\n",
            "{'李賦寧', '中國', '教育家', '前列腺癌', '死亡'} {'李賦寧'}\n",
            "{'亞美尼亞飲食', '飲食', '原材料', '環境', '亞美尼亞'} {'亞美尼亞飲食', '奧地利飲食', '飲食', '波蘭飲食', '阿塞拜疆飲食'}\n",
            "{'喬木_(消歧義)', '胡喬木', '中國社會科學院', '院長'} {'胡石英'}\n",
            "{'尊稱', '夫人', '婚姻', '男性'} {'郎君'}\n",
            "{'忠烈祠', '忠烈祠_(臺灣)', '中華民國國民', '中華民國', '中國國民黨', '國民', '詞', '國民政府'} {'中華民國國家元首列表', '國民政府軍事委員會'}\n",
            "{'熱帶', '熱帶海洋性氣候', '氣候', '面積', '北马里亞納羣島', '海洋性氣候'} {'熱帶海洋性氣候'}\n",
            "{'20世紀', '阿斯泰·妮爾森', '世紀', '深淵'} {'阿斯泰·妮爾森', '深淵'}\n",
            "{'孔廟', '臺北市立明倫高級中學', '中學', '臺北'} {'臺北市立明倫高級中學', '臺灣的孔廟'}\n",
            "{'塘湖站', '鐵路車站', '濟寧市', '電話號碼'} {'塘湖站', '中國電話號碼', '澳門電話號碼'}\n",
            "{'布魯塞爾', '會議', '1927年', '索爾·勒維特', '索爾維會議'} set()\n",
            "{'元智大學', '桃園市', '本名', '名稱'} {'香港幼稚園列表'}\n",
            "{'翰林院', '元培', '蔡元培', '點'} {'蔡元培獎', '蔡元培舊居', '蔡元培故居'}\n",
            "{'美國風情畫', '小說', '弗朗西斯·科波拉'} {'李察·德雷福斯', '美國風情畫', '瑪西亞·盧卡斯'}\n",
            "{'喬治·桑普森', '組織', '喬治·坎寧', '紫質症', '三氧化二砷', '症狀', '喬治三世', '卟啉'} {'喬治三世'}\n",
            "{'歌曲', '美國', '儀式', '天佑國王', '愛國歌曲'} {'天佑新西蘭', '在那邊', '天佑安圭拉', '天佑國王', '愛國歌曲'}\n",
            "{'餐廳', '傷寒', '腸道沙門氏菌', '沃斯科縣', '達爾·斯蒂芬斯', '1984年羅傑尼希教生物恐怖攻擊', '奧修', '沙門氏菌屬'} {'1984年羅傑尼希教生物恐怖攻擊'}\n",
            "{'西奧多·羅斯福', '公平交易', '羅斯福', '交易', '資源', '法案', '政策'} {'西奧多·羅斯福', '西奧多·羅斯福三世', '老西奧多·羅斯福', '西奧多·羅斯福第二次總統就職典禮', '公平交易委員會'}\n",
            "{'地方政府', '臺北市政府捷運工程局', '臺北市政府'} {'臺北市政府文化局', '臺北市政府捷運工程局', '桃園市政府捷運工程局', '新北市政府捷運工程局', '臺北市政府民政局'}\n",
            "{'康熙帝', '清朝', '鰲拜', '禁', '性格'} {'鰲拜'}\n",
            "{'企劃'} set()\n",
            "{'潮', '南海', '沖積平原', '南部', '南海潮', '平原', '中國', '山'} {'南海潮', '民歌'}\n",
            "{'天皇', '神話', '態度', '日本', '傳說', '日本神話', '民俗', '歷史書'} {'日本神話'}\n",
            "{'宗教', '宗教哲學', '哲學', '信仰'} {'宗教哲學', '無宗教', '宗教信仰哲學', '宗教學'}\n",
            "{'國務院_(聖座)', '中華人民共和國國務院', '浙江省', '自然保護區', '安徽省'} {'臥龍國家級自然保護區', '中華人民共和國國家級自然保護區列表'}\n",
            "{'強酸', '水', '濃度', '腐蝕性物質', '硫酸', '酸'} {'硫酸'}\n",
            "{'許世友', '紅軍'} set()\n",
            "{'染色體', '流產'} {'先兆流產', '流產', '反覆流產'}\n",
            "{'會員', '政治人物', '法耶茲·薩拉傑', '利比亞'} {'法耶茲·薩拉傑', '阿基拉·薩拉赫·伊薩'}\n",
            "{'英國', '威廉·莎士比亞', '兒童', '運動員', '雙胞胎'} set()\n",
            "{'人口', '愛爾蘭'} {'愛爾蘭總統', '愛爾蘭華人'}\n",
            "{'悖論', '邏輯', '訴訟', '法律邏輯學'} {'半費之訟', '法律邏輯學'}\n",
            "{'柯伊伯帶', '彗星', '傑拉德·柯伊伯', '週期'} set()\n",
            "{'指南車', '王天木', '歷史書'} set()\n",
            "{'音樂', '音階'} set()\n",
            "{'方言學'} {'方言學'}\n",
            "{'傳說', '長江', '堯', '漢族', '黃帝', '時代', '中國', '禹', '三苗'} set()\n",
            "{'晉國', '亂', '君主', '曲沃縣', '儲君', '驪姬之亂', '晉文公', '驪姬'} {'曲沃代翼', '曲沃縣', '晉國'}\n",
            "{'輿論調查', '倒數', '香港商報', '商報', '文匯報', '香港', '文匯報_(上海)', '大公報'} {'大公報'}\n",
            "{'英屬婆羅洲', '汶萊', '邦', '國家', '東南亞'} {'汶萊'}\n",
            "{'精英大學', '柏林自由大學', '柏林', '自由大學'} {'柏林工業大學', '柏林自由大學', '柏林洪堡大學'}\n",
            "{'STARSHIP娛樂', '合併', 'Starship'} {'珉熙', '安性珉', '金泰永', '徐宇璸', '鹹元進'}\n",
            "{'昭和天皇', '天皇', '名', '昭和'} set()\n",
            "{'雷', '效用', '妙義山', '江戶時代', '江戶'} set()\n",
            "{'海星', '動物', '胃', '食物', '牙齒', 'In_vitro'} {'古海星', '海星', '十字海星', '海星街道', '赭色海星'}\n",
            "{'星期六'} set()\n",
            "{'世僕', '日本', '約束', '譜代家臣'} {'約束'}\n",
            "{'日本人', '實藤惠秀', '中國'} set()\n",
            "{'身分標識方式', '客家民系', '林鈺婷'} {'林鈺婷'}\n",
            "{'世界', '地區', '量_(物理)', '期貨', '期貨交易所', '芝加哥', '國內生產總值', '期權', '交易所'} {'芝加哥', '芝加哥期貨交易所大樓', '韓國期貨交易所', '交易所', '芝加哥期貨交易所'}\n",
            "{'世界', '地區議會_(德國)', '政府', '懷俄明州', '女性', '法案', '選舉權'} {'懷俄明州'}\n",
            "{'康沃爾冰川', '南極條約體系', '南極'} {'康沃爾峯', '迪圖瓦冰原島峯', '麥克貝恩山', '康沃爾冰川', '福派峯'}\n",
            "{'讀者_(雜誌)', '訊息', '幻燈片'} set()\n",
            "{'科', '草鴞科', '鳥', '草鴞', '目'} {'草鴞屬', '隼形目', '慄鴞屬', '草鴞科'}\n",
            "{'莫斯科', '博古'} {'博古', '博古恰爾區', '博古埃'}\n",
            "{'制度', '隋朝'} set()\n",
            "{'屏東縣', '臺灣電影', '李·安克里奇', '柏林', '導演', '柏林國際電影節', '臺灣', '李安'} {'李安', '第46屆柏林影展'}\n",
            "{'信義區_(臺北市)', '捷運車站', '西門站_(臺北捷運)', '西門站', '捷運', '中正區_(臺北市)'} {'臺電大樓站'}\n",
            "{'諾貝爾獎', '藝術', '公民', '高行健', '小說', '阿爾弗雷德·諾貝爾', '戲劇', '道路', '法國'} {'高行健'}\n",
            "{'關羽', '三國演義'} {'東周列國志', '三國演義', '三國演義角色列表', '中國曆朝通俗演義'}\n",
            "{'歐內斯特', '加拿大', '名稱', '物理學家', '勞倫斯', '歐內斯特·勞倫斯', '鐒'} {'理查德·愛德華·泰勒', '歐內斯特·沃爾頓', '歐內斯特·勞倫斯', '威拉德·博伊爾'}\n",
            "{'水溶液', '溶液', '氰化氫', '頻率', '氰化鈉', '鹼', '氰化鋰'} {'氰化鋁', '氰化氫', '氰化銣', '氰化鐿', '氰化鋰'}\n",
            "{'建築施工', '京九鐵路'} set()\n",
            "{'河南省_(中華民國)', '中國人民解放軍', '中國人民解放軍武漢軍區', '湖北省', '河南省'} {'中國人民解放軍河南省軍區', '中國人民解放軍武漢軍區空軍', '中國人民解放軍湖北省軍區', '中國人民解放軍武漢軍區', '中國人民解放軍昆明軍區'}\n",
            "{'城市', '蘇克_(卑詩省)', '首都', '阿比讓', '亞穆蘇克羅', '科特迪瓦'} {'阿比讓之歌', '阿比讓非洲體育會', '亞穆蘇克羅', '和平之後大殿', '科特迪瓦'}\n",
            "{'教育', '臺北市', '學校', '臺北市私立新民國民小學'} {'臺北市中山區長安國民小學', '臺北市私立新民國民小學'}\n",
            "{'米開朗基羅', '藝術家', '邦', '中世紀', '米開朗基羅·法爾瑪提諾', '城邦', '國家', '米開朗基羅·樂孔特'} {'佛羅倫薩共和國', '米開朗基羅撞擊坑'}\n",
            "{'產品', '過程', '測試'} {'軟件測試'}\n",
            "{'政治', '經濟', '經濟發展', '波士頓', '政治運動', '金融'} {'波士頓'}\n",
            "{'語言', '標記_(程式語言)', 'XBRL', '置標語言'} {'InkML', 'XBRL', '輕量級標記語言', 'XML'}\n",
            "{'抽象', '歐幾里得', '空間_(數學)', '蟲洞', '內積空間', '距離'} {'內積空間', '歐幾里得整環', '歐幾里得空間', '歐幾里得距離', '希爾伯特空間'}\n",
            "{'米開朗基羅', '佛羅倫薩共和國', '出生地', '佛羅倫薩', '米開朗基羅·法爾瑪提諾', '米開朗基羅·樂孔特'} {'米開朗基羅', '米開朗基羅撞擊坑', '博納羅蒂之家'}\n",
            "{'西部', '縣', '波蘭', '山城', '綠山城', '土地', '綠山城縣'} {'山城路街道', '伊沃瓦', '山城街道', '綠山城縣', '盧布斯卡省'}\n",
            "{'馬世莉', '兄弟姊妹'} {'馬世莉'}\n",
            "{'神話', '木衛三十九', '赫革摩涅', '希臘神話', '希臘', '女神', '卡里忒斯'} {'赫革摩涅', '佩託', '木衛三十九'}\n",
            "{'報紙', '媒介', '鍼灸', '筋膜', '西方世界', '國家'} {'膜層'}\n",
            "{'中華人民共和國', '中華民國', '衝突', '政權', '金門炮戰', '軍事', '戰爭'} {'福建金門地方法院', '金門炮戰', '八二三戰史館', '金門機場'}\n",
            "{'姓', '女真', '漢姓', '族', '金朝', '現象'} set()\n",
            "{'處_(佛教)', '定居', '吸血鬼', '親屬'} set()\n",
            "{'北阿坎德邦', '奈尼塔爾', '法院'} {'丹德拉', '北阿坎德邦', '奈尼塔爾', '北阿坎德邦行政區劃'}\n",
            "{'物理學', '現代物理學', '艾薩克·牛頓', '經典力學', '領域', '力學'} {'經典物理學', '經典力學', '拉格朗日力學', '經典物理術語', '分析力學'}\n",
            "{'大足石刻', '北', '中國北方航空', '中國'} {'大足石刻', '大足石刻站', '北山摩崖造像', '石門山摩崖造像', '大足南站'}\n",
            "{'中華民國', '區域', '高雄縣'} set()\n",
            "{'非金屬性', '豫劇'} set()\n",
            "{'臺南天馬電臺', '雲林定遠電臺', '冷戰', '價值', '地區', '中國大陸'} {'雲林定遠電臺'}\n",
            "{'中央部屬高校', '類型', '學校', '中央', '中國政法大學'} {'中央部屬高校', '中國政法大學國際法學院'}\n",
            "{'晟碟公司', '東漢', '年齡'} set()\n",
            "{'總統_(韓國電視劇)', '大韓民國', '總統', '韓國總統'} {'韓國總統祕書室長'}\n",
            "{'技術', 'ACM', '訊息_(蘋果)'} set()\n",
            "{'德語正寫法', '香港大學', '授課語言'} {'授課語言'}\n",
            "{'阿姆斯特丹'} {'阿姆斯特丹證券交易所', '阿姆斯特丹史基浦機場', '阿姆斯特丹大學', '阿姆斯特丹中央車站', '阿姆斯特丹地鐵'}\n",
            "{'楊素', '即位', '軍事家', '中央集權', '隋煬帝'} {'中央集權'}\n",
            "{'楊素', '即位', '軍事家', '中央集權', '中央政府', '隋煬帝'} {'中央集權'}\n",
            "{'角色', '射鵰英雄傳_(1977年電影)', '金庸', '射鵰英雄傳', '主人公', '小龍女'} {'射鵰英雄傳', '角色歌曲', '射鵰英雄傳續集'}\n",
            "{'明朝', '謝磷'} set()\n",
            "{'太平洋', '南冰洋', '洋', '世界', '鳥', '翼展', '信天翁科'} {'桑氏遠洋鳥', '黑背信天翁', '南方皇家信天翁', '翼展', '信天翁科'}\n",
            "{'熱帶', '臺灣氣候', '熱帶季風氣候', '氣候', '北迴歸線', '臺灣', '副熱帶季風氣候'} {'臺灣氣候', '亞熱帶', '溫帶季風氣候', '東石北迴歸線地標', '副熱帶季風氣候'}\n",
            "{'英格蘭', '英國', '1000', '伯明翰大學', '伯明翰', '紅磚大學', '1900年', '大學'} {'伯明翰藝術學院', '伯明翰城市大學', '伯明翰新街站', '紅磚大學', '伯明翰機場'}\n",
            "{'臺中市立新社高級中學', '深度', '新社區', '中學', '新社河階羣', '社', '今天', '臺中市'} {'臺中市立後綜高級中學', '臺中市立新社高級中學'}\n",
            "{'印度', '阿薩姆邦', '人口', '邦', '基督徒', '那加蘭邦'} {'那加蘭邦行政區劃', '那加蘭邦'}\n",
            "{'臺中市私立曉明女子高級中學', '中學', '臺中市', '女性'} {'臺中市私立曉明女子高級中學', '臺中市私立明德高級中學', '臺中市立臺中女子高級中等學校'}\n",
            "{'春秋', '穀梁傳', '春秋_(書)'} {'穀梁傳', '春秋三傳', '公羊高', '公羊傳'}\n",
            "{'徐太志'} {'徐太志', '徐太志和孩子們'}\n",
            "{'基因', '基因工程', '工程', '細胞'} {'基因工程', '基因工程藥物'}\n",
            "{'粉末', '海洛因'} {'粉末酒精'}\n",
            "{'小龍女', '合', '楊過'} {'小龍女'}\n",
            "{'木衛三', '衛', '軌道傾角', '木衛三十九', '角', '黃道', '木星的衛星', '軌道', '木星', '木材'} {'木衛五十', '木衛三十九', '木衛二十八', '木衛四十四', '木衛十四'}\n",
            "{'湯姆·班克斯', '木蘭花_(電視劇)', '湯姆·克魯斯', '湯姆·漢克斯', '奧斯卡', '奧斯卡·埃爾南德斯', '配角'} set()\n",
            "{'甜品', '常溫', '乳', '原材料', '冰淇淋', '奶製品'} {'冰淇淋', '樹莓漩渦冰淇淋', '蕎麥冰淇淋', '木子甜品'}\n",
            "{'阿姆斯特丹', '國際金融中心', '美洲'} set()\n",
            "{'生命', '配子', '蒲公英', '個體'} set()\n",
            "{'潮', '南海', '沖積平原', '南部', '南海潮', '平原', '民歌', '中國'} {'南海潮', '民歌'}\n",
            "{'茶葉蛋', '茶'} {'茶葉蛋'}\n",
            "{'小說家', '灰姑娘', '夏菜', '廣島縣', '川瀨夏菜'} {'榎波克己', '現代灰姑娘'}\n",
            "{'羅馬', '三月', '紀念日', '維納斯'} {'三月二十', '維納斯'}\n",
            "{'平年', '千紀'} {'3月26日', '1月26日', '7月26日', '5月26日', '4月26日'}\n",
            "{'地區', '株式會社', '臺東製糖', '臺東廳', '明治製糖', '臺灣日治時期', '臺灣', '臺東'} {'臺東廳長', '臺東製糖'}\n",
            "{'果', '草莓', '物', '人類', '果實', '附果'} {'草莓'}\n",
            "{'馬克思主義', '格魯喬·馬克思', '馬克思主義政治經濟學', '卡爾·馬克思', '資本論', '政治經濟學', '馬克思·多爾穆瓦站', '海因裏希·馬克思'} {'河上肇', '馬克思主義政治經濟學', '資本論', '女人資本論'}\n",
            "{'麥', '穀物', '大麥', '禾本科', '世界', '植物'} {'大麥'}\n",
            "{'處女作', '朱塞佩·威爾第', '悲劇'} {'朱塞佩·威爾第'}\n",
            "{'麻婆豆腐', '大豆', '麻', '原材料', '豆腐', '菜系', '豆瓣醬', '豆製品'} {'麻婆豆腐'}\n",
            "{'被子植物', '古生代', '植物', '代_(地質學)', '哺乳動物'} {'新生代'}\n",
            "{'北美洲', '排球', '體育運動'} {'排球', '亞洲排球錦標賽', '沙灘排球'}\n",
            "{'徐太志', '婚姻'} {'徐太志', '徐太志和孩子們'}\n",
            "{'披頭四樂隊'} set()\n",
            "{'目標', '均勻碼理事會'} {'通用產品代碼', '均勻碼理事會'}\n",
            "{'犬', '竹內瑪莉亞', '山下達郎'} {'山下達郎'}\n",
            "{'赫歇爾_(消歧義)', '約翰·赫歇爾', '作品', '威廉·莎士比亞', '天衛十三', '天王星', '名稱', '人物'} {'皇家莎士比亞劇院', '天衛九', '天衛十三'}\n",
            "{'稱謂', '拿督'} {'家長'}\n",
            "{'貓', '馬島長尾狸貓'} {'馬島長尾狸貓'}\n",
            "{'狸', '馬島長尾狸貓'} {'馬島長尾狸貓'}\n",
            "{'水星', '2006年', '凌日', '水星凌日_(土星)', '凌_(天體)', '水星凌日'} {'水星凌日', '凌日'}\n",
            "{'上訴', '薄熙來'} {'薄熙來'}\n",
            "{'機構', '香港醫院列表', '香港', '醫療', '政府', '公園'} {'香港醫院列表'}\n",
            "{'慈禧太后', '戊戌', '光緒', '戊戌變法', '權力', '光緒帝', '謠言', '戊', '康有爲'} {'戊戌變法'}\n",
            "{'克洛里斯', '妻子', '洛里斯_(沃克呂茲省)', '雨果·洛里斯', '神'} {'西風翠灰蝶'}\n",
            "{'共和制', '省', '荷蘭東印度公司', '荷蘭', '臺灣', '臺灣糖業史'} {'臺灣荷蘭統治時期'}\n",
            "{'古蹟', '外交部', '博愛', '博愛特區', '臺北賓館', '中華民國外交部', '中華民國', '國定古蹟'} {'臺北賓館'}\n",
            "{'英格蘭足球超級聯賽', '英格蘭'} {'英格蘭足球超級聯賽', '英超亞洲盃'}\n",
            "{'烏拉圭'} {'烏拉圭足球甲級聯賽'}\n",
            "{'沈鈞儒', '進士', '嘉興市', '祖籍', '江蘇省_(中華民國)', '江蘇省'} {'沈鈞儒'}\n",
            "{'共和制', '剛果民主共和國', '非洲', '面積', '總統制', '北非', '馬格里布', '半總統制'} {'北非阿拉伯人', '剛果民主共和國華人'}\n",
            "{'沙洛特·蔡', '波爾布特', '化名', '明星', '柬埔寨'} {'波爾布特', '宋成'}\n",
            "{'冷戰', '應用科學', '第二次世界大戰', '科學', '世界大戰', '技能', '工程學', '麻省理工學院'} {'哈佛-麻省理工醫療科技學院', '麻省理工學院理學院', '麻省理工學院工學院'}\n",
            "{'軌道共振', '共振', '軌道', '太陽系', '天體'} {'軌道共振'}\n",
            "{'百科全書派', '百科全書', '啓蒙時代', '德尼·狄德羅', '法國', '思想家', '尼古拉·德·孔多塞'} {'讓-弗朗索瓦·馬蒙泰爾', '百科全書派', '網絡百科全書', '德尼·狄德羅', '百科全書，或科學、藝術和工藝詳解詞典'}\n",
            "{'僑民', '臺北市私立道明外僑學校', '診所', '臺北市'} {'臺北市私立道明外僑學校'}\n",
            "{'茶葉蛋', '茶'} {'茶葉蛋'}\n",
            "{'民族_(消歧義)', '語言', '民族', '諾維亞語'} {'諾維亞語'}\n",
            "{'邊_(幾何)', '三角函數', '三角學', '三角', '三角形'} {'三角形數', '三角函數', '三角學', '三角', '反三角函數'}\n",
            "{'碟', '日本', '海盆', '海', '日本海'} {'酒海紀', '北極海盆', '阿拉伯海盆', '海盆', '日本海'}\n",
            "{'恆星', '黃道帶', '黃道', '獅子座'} {'獅子座A', '巨蟹座', '獅子座'}\n",
            "{'環境', '質量'} set()\n",
            "{'趙元任', '陳寅恪', '梁啓超', '清華大學', '中華民國大陸時期', '語言', '江西省', '王國維'} {'陳寅恪'}\n",
            "{'愛丁堡大學', '昆蟲', '愛丁堡'} {'愛丁堡大學圖書館'}\n",
            "{'馬克思主義', '格魯喬·馬克思', '馬克思主義政治經濟學', '卡爾·馬克思', '資本論', '政治經濟學', '馬克思·多爾穆瓦站', '海因裏希·馬克思'} {'河上肇', '馬克思主義政治經濟學', '資本論', '女人資本論'}\n",
            "{'訊息', '幻燈片'} set()\n",
            "{'秦腔', '大躍進', '無產階級', '1966年', '文化'} {'劉毓中', '柳萍', '秦腔'}\n",
            "{'五胡十六國', '軍', '劉聰', '永嘉_(消歧義)', '帝', '永嘉之亂'} set()\n",
            "{'珠江', '流量', '國內', '中國', '長度', '河流'} set()\n",
            "{'真理', '日本', '麻原彰晃', '九州', '九州_(日本)', '真理國'} {'真理國'}\n",
            "{'北京市', '時間', '中國', '新聞聯播', '北京時間', '收視率', '晚上'} {'全國新聞聯播', '家文看北京', '新聞聯播天氣預報', '新聞聯播', '焦點訪談'}\n",
            "{'歌手', '蔡卓妍', '香港', '溫哥華', '歌手·當打之年', '大溫哥華'} {'蔡卓妍'}\n",
            "{'磁', '中子', '核'} {'中子發射', '中子溫度', '同中子素', '中子衍射技術'}\n",
            "{'英格蘭', '威廉·華茲華斯', '湖區'} {'赫爾維林峯', '湖畔詩人'}\n",
            "{'標準舞', '服裝', '女性'} set()\n",
            "set() set()\n",
            "{'宗教', '宗教哲學'} {'宗教哲學', '宗教信仰哲學', '宗教學'}\n",
            "{'象山_(九龍)', '公園', '地形', '象山公園'} {'象山公園'}\n",
            "{'史考特·普魯特', '克莉斯汀·史考特·湯瑪斯', '史考特·詹森', '史考特·朗恩', '西恩·威廉·史考特', '雷利·史考特', '麥可·史考特', '蒙哥馬利·史考特'} set()\n",
            "{'熱帶', '市', '氣候', '酒', '亞熱帶', '宜賓市', '中亞', '五糧液'} set()\n",
            "{'世界政策', '官僚', '考試', '制度', '隋煬帝', '政策'} set()\n",
            "{'克里斯·潘恩', '法語', '托馬斯·潘恩', '迦勒·潘恩', '羅伯特·崔特·潘恩', '潘·巴奇利', '潘恩', '法國'} {'中古法語'}\n",
            "{'程序員'} {'程序員'}\n",
            "{'百度百科', '行爲', '百度', '抄襲', '維基百科', '中國'} {'互動百科訴百度百科侵權事件', '百度百科', '搜狗百科', '快懂百科', '百度經驗'}\n",
            "{'行政機關', '臺灣政府', '政府', '臺灣', '功能', '1998年'} {'花蓮縣政府', '雲林縣政府', '臺灣省政府', '臺東縣政府', '南投縣政府'}\n",
            "{'開元路_(臺南市北區)', '秀水鄉', '秀水', '全長', '全姓', '道路'} {'秀水莊', '秀水鄉', '開元路街道', '秀水', '陝西村'}\n",
            "{'印度', '曼尼普爾邦', '人口', '邦', '基督徒', '那加蘭邦'} {'那加蘭邦行政區劃', '那加蘭邦'}\n",
            "{'金', '安東尼·西尼蘇卡·金廷', '漢姓', '唐朝', '馬丁·路德·金', '姓', '衫', '家畜'} {'安東尼·西尼蘇卡·金廷'}\n",
            "{'史詩', '荷馬', '集'} {'荷馬史詩'}\n",
            "{'著作權', '作品', '版稅', '作曲家', '音樂出版社', '詞曲作家'} {'上海音樂出版社', '音樂出版社', '廣播音樂公司'}\n",
            "{'分工', '器官移植'} set()\n",
            "{'墨西哥', '墨西哥總統', '螃蟹', '寄居蟹', '貝尼託·胡亞雷斯', '總統'} {'貝尼託·胡亞雷斯'}\n",
            "{'鄭氏鸞', '兒子'} set()\n",
            "{'域_(生物)', '域', '核', '真核生物', '界', '界_(生物)', '生物'} {'雙鞭毛生物'}\n",
            "{'液體', '化合價', '硫'} {'金化合物', '亞鐵', '硫'}\n",
            "{'母校', '管致中', '1949年', '大學', '講師_(消歧義)'} set()\n",
            "{'標準舞', '裙', '女性'} {'迷你裙'}\n",
            "{'安德斯·海爾斯伯格', '安德斯', '編譯器', '作者', '丹麥', '微軟'} {'安德斯·海爾斯伯格'}\n",
            "{'製作', '茶葉蛋', '茶'} {'茶葉蛋事件', '茶葉蛋'}\n",
            "{'閩南民系', '林鈺婷'} {'林鈺婷'}\n",
            "{'朱立倫', '董事長', '中國國民黨', '蔡英文'} {'朱立倫市府', '中國國民黨主席', '朱立倫', '習朱會'}\n",
            "{'練馬師', '松柏塱', '香港', '圍村', '簡炳墀', '現在', '本地人'} {'松柏塱'}\n",
            "{'開元路_(臺南市北區)', '境', '全姓', '全長', '臺南市'} set()\n",
            "{'秦腔', '革命', '無產階級', '1966年', '文化'} {'中共中央關於農村無產階級文化大革命的指示', '秦腔', '無產階級文化大革命就是好', '劉毓中', '柳萍'}\n",
            "{'軒轅', '嫘祖', '傳說', '昌意', '元妃', '黃帝', '子'} {'嫘祖', '嚳', '昌意'}\n",
            "{'花', '科', '植物', '真雙子葉植物', '花序', '雙子葉植物', '子葉', '向日葵'} {'向日葵'}\n",
            "{'特徵', '方言學', '地區'} {'方言學'}\n",
            "{'人類', '火'} set()\n",
            "{'貨幣', '法定貨幣', '新臺幣', '中央銀行'} {'阿塞拜疆中央銀行', '阿聯酋中央銀行'}\n",
            "{'尼克·貝爾格', '釋放'} set()\n",
            "{'海濱站', '地鐵', '車站', '瓦西里·貝科夫號巡邏艦', '瓦西里島', '聖彼得堡', '聖彼得堡地鐵', '海濱站_(聖彼得堡地鐵)'} {'涅瓦-瓦西里島線', '基洛夫-維堡線', '瓦西里島站'}\n",
            "{'經濟學家', '五常', '態度', '中國', '張五常'} {'五常', '雅明·艾智仁'}\n",
            "{'公司', '麻省理工學院', '校友'} {'麻省理工學院理學院', '麻省理工學院工學院'}\n",
            "{'北冰洋', '海冰', '南極圈', '中央', '冰', '大西洋', '南極', '海水'} {'北冰洋'}\n",
            "{'流體', '海洛因'} set()\n",
            "{'羽毛', '雉雞', '差異_(哲學)'} set()\n",
            "{'國家', '護照'} {'葡萄牙護照', '護照'}\n",
            "{'朱塞佩·威爾第', '作品'} {'朱塞佩·威爾第'}\n",
            "{'羅慕路斯·奧古斯都', '奧古斯都·勞裏克殖民地', '羅馬皇帝', '羅馬', '奧古斯都_(稱號)', '奧古斯都·艾迪生·古爾德', '奧古斯都', '奧古斯都·腓特烈_(薩塞克斯公爵)', '皇帝'} {'奧古斯都神廟'}\n",
            "{'糖_(消歧義)', '營養', '糧食', '糖類'} set()\n",
            "{'英語', '美國英語', '中國'} {'美國英語', '美式機車', '美式中國菜', '通用美式英語'}\n",
            "{'臺灣氣候', '氣候', '北迴歸線', '臺灣', '位置'} {'臺灣氣候'}\n",
            "{'亂世佳人', '費雯·麗'} {'AFI百年百大愛情電影', 'AFI百年百大電影臺詞', 'AFI百年系列', 'AFI百年百大電影', 'AFI百年百大喜劇電影'}\n",
            "{'墨西哥', '墨西哥國徽', '仙人掌', '力量', '月桂', '國徽', '岩石', '湖泊'} {'墨西哥國徽'}\n",
            "{'許世友', '農村', '品質'} {'許家窪'}\n",
            "{'事件', '美麗島事件', '政府', '美麗島', '林義雄'} {'美麗島'}\n",
            "{'運動學', '力', '問題', '動力學', '力學', '微分方程', '地方'} {'全微分方程', '微分方程', '理論力學'}\n",
            "{'三國', '特徵', '盛世', '中國', '時代', '世界歷史', '南北朝', '魏晉南北朝'} set()\n",
            "{'民族', '歐洲民族', '民族國家', '歐洲', '語言', '國家'} {'歐洲民族'}\n",
            "{'北京市', '北京航空航天大學'} {'北京航空航天大學飛行學院', '去年聖誕', '北京航空航天大學出版社', '北京航空航天大學沙河校區'}\n",
            "{'阿曼', '孤島', '印度洋', '阿曼蘇丹'} {'阿曼', '阿曼首相', '阿曼蘇丹'}\n",
            "{'德川家康', '老闆', '幕府', '後陽成天皇', '海南', '夷', '陽成天皇'} set()\n",
            "{'流星', '顏色'} {'流星人間', '散亂流星', '流星'}\n",
            "{'城市', '蘇克_(卑詩省)', '首都', '阿比讓', '亞穆蘇克羅', '科特迪瓦'} {'阿比讓之歌', '阿比讓非洲體育會', '亞穆蘇克羅', '和平之後大殿', '科特迪瓦'}\n",
            "{'齊豫', '歌手', '歌手·當打之年', '兄弟姊妹', '齊秦'} {'齊豫'}\n",
            "{'小米', '石器', '石器時代'} {'中國中石器文化列表', '打製石器', '中石器時代', '小米手機1', '石器'}\n",
            "{'水', '鹼', '濃度', '腐蝕性物質', '硫酸', '酸'} {'硫酸'}\n",
            "{'縣_(中華民國)', '受害者', '臺東縣', '案例', '臺東垃圾焚化廠', '臺東'} {'岡山垃圾焚化廠', '崁頂垃圾焚化廠', '永康垃圾焚化廠', '臺東垃圾焚化廠', '臺灣垃圾焚化廠列表'}\n",
            "{'節目', '上海市', '時間', '中國', '新聞聯播', '收視率', '晚上'} {'全國新聞聯播', '東方新聞', '新聞聯播天氣預報', '新聞聯播', '東方衛視節目列表'}\n",
            "{'太平洋', '南冰洋', '洋', '世界', '鳥', '信天翁科'} {'黑背信天翁', '南方皇家信天翁', '黑腳信天翁', '特島信天翁', '信天翁科'}\n",
            "{'爻', '周文王'} {'爻'}\n",
            "{'阿美族', '臺灣', '臺灣人'} {'阿美族'}\n",
            "{'乙酰基', '殼', '昆蟲', '氨基葡萄糖', '體育運動', '糖胺'} set()\n",
            "{'佛教用語列表', '食譜', '風', '六和敬'} set()\n",
            "{'漢光武帝', '馬援', '問題', '書信'} {'漢光武帝'}\n",
            "{'學術領域大綱', '木衛三', '神話', '萬神殿_(動畫)', '希臘神話', '名稱', '希臘'} {'天體粒子物理學', '天文學家', '希臘神話生物列表'}\n",
            "{'神話', '形象', '木星的衛星', '希臘神話', '希臘', '名', '女神'} {'瓦爾迪瓦紡錘魷'}\n",
            "{'董事長', '元智大學', '組織創始人', '父親'} set()\n",
            "{'科', '臺中市立新社高級中學', '新社區', '中學', '新社河階羣', '今天', '臺中市'} {'臺中市立後綜高級中學', '臺中市立中港高級中學', '臺中市立新社高級中學'}\n",
            "{'16世紀', '英格蘭', '教會', '亨利', '亨利八世', '世紀', '英格蘭教會', '王', '世'} set()\n",
            "{'人類', '果實', '原材料', '果酒'} {'大果酒餅簕'}\n",
            "{'光學顯微鏡', '狀態', '光學', '顯微鏡', '圖像'} {'數碼顯微鏡', '顯微鏡'}\n",
            "{'刑罰', '清朝', '朱一貴', '市場', '政府', '清朝政府', '王禮'} {'王禮'}\n",
            "{'國民議會', '立法機關', '意向性', '民主', '人民', '國家', '議會'} {'臺北市議會', '議會'}\n",
            "{'餐廳', '沃斯科縣', '達爾·斯蒂芬斯', '組織_(生物學)', '1984年羅傑尼希教生物恐怖攻擊', '奧修', '選民', '沙門氏菌屬'} {'羅傑尼希社區', '1984年羅傑尼希教生物恐怖攻擊'}\n",
            "{'餐廳', '傷寒', '腸道沙門氏菌', '沃斯科縣', '達爾·斯蒂芬斯', '1984年羅傑尼希教生物恐怖攻擊', '奧修', '沙門氏菌屬'} {'1984年羅傑尼希教生物恐怖攻擊'}\n",
            "{'法院', '薄熙來'} set()\n",
            "{'柯伊伯帶', '傑拉德·柯伊伯', '矮行星', '行星', '衛星', '太陽系'} {'柯伊伯帶', '太陽系的假設天體列表', '太陽系天體列表'}\n",
            "{'公權力', '權力', '死刑'} set()\n",
            "{'國民軍', '許世友'} {'許世友反革命集團案', '上將許世友', '許家窪'}\n",
            "{'克里斯·約翰遜', '斯蒂夫·約翰遜', '美國', '越南戰爭', '美國總統', '林登·約翰遜', '總統', '加里·約翰遜'} {'2020年美國總統特朗普支持率列表'}\n",
            "{'三國', '太平盛世', '盛世', '南北朝', '魏晉南北朝'} {'太平盛世'}\n",
            "{'稱謂', '國際組織', '名詞', '世界', '感覺', '西亞', '中東', '歐洲'} {'西亞'}\n",
            "{'洲', '非洲', '寶石', '亞洲', '澳大利亞', '工業', '紅寶石'} {'紅寶石'}\n",
            "{'臺灣總督', '天皇', '日治時期', '總督', '臺灣', '地方行政首長'} {'臺灣總督府'}\n",
            "{'船', '過去', '北小島', '小島', '波濤', '東海', '南小島', '南', '小島_(臺東區)', '漁民'} {'橄欖門', '北小島', '南小島'}\n",
            "{'行星', '捷克', '天文學家', '茲德內克·莫拉維克'} {'小行星7711', '小行星7796', '小行星8573', '小行星8556', '小行星7896'}\n",
            "{'盧卡斯·巴斯克斯', '盧卡斯·埃爾南德斯', '喬治·盧卡斯', '盧卡斯·佩雷斯', '盧卡斯·古博特', '星際大戰', '盧卡斯·雷瓦'} set()\n",
            "{'玉', '玄菟郡', '扶餘國', '玉衣', '服裝', '漢朝', '銀', '太守'} {'扶餘國'}\n",
            "{'愛·情歌', '梁朝偉', '情歌', '作品'} {'無4情歌', '爲情所困', '從前…以後'}\n",
            "{'花蓮縣', '太祖'} {'和歌山縣旗', '花蓮縣議員列表', '山形縣旗', '鳥取縣旗'}\n",
            "{'金馬獎', '國家兩廳院', '中華電視公司', '金馬獎頒獎典禮', '主持人', '蕭芳芳', '第18屆金馬獎', '高雄市'} {'第18屆金馬獎'}\n",
            "{'神仙·老師·狗', '教師', '普羅米修斯'} {'被縛的普羅米修斯', '普羅米修斯', '解放了的普羅米修斯'}\n",
            "{'查理·卓別林'} {'悉尼·厄爾·卓別林', '小查理·卓別林', '悉尼·約翰·卓別林', '漢娜·卓別林', '摩登時代'}\n",
            "{'土衛十', '神話', '政府', '中國神話', '土星的衛星', '中國', '女神', '海'} set()\n",
            "{'關站', '中國大陸', '知名度', '中國', '水木清華BBS', '水木', 'BBS'} {'水木', '水木清華BBS'}\n",
            "{'燕山_(消歧義)', '燕山大學', '河北省'} {'趙丁選', '部校共建新聞學院', '河北石油職業技術大學承德校區', '燕山大學科技園', '燕山大學'}\n",
            "{'韓式泡菜', '地獄新娘', '辛奇_(臺灣導演)', '辛奇·羅卡', '臺語電影'} set()\n",
            "{'高層建築物', '北阿坎德邦', '奈尼塔爾'} {'奈尼塔爾總督府', '丹德拉', '奈尼塔爾'}\n",
            "{'市鎮', '基隆市', '雍正'} {'基隆山', '臺灣基隆地方法院', '雞籠生', '基隆客運'}\n",
            "{'民族', '歐洲民族', '指', '歐洲', '國家', '腳趾'} set()\n",
            "{'意', '學名', '西方', '山斑鳩'} {'山斑鳩'}\n",
            "{'世界', '香港劇集', '香港', '華人', '劇集'} set()\n",
            "{'英國', '披頭四樂隊', '頭'} set()\n",
            "{'若昂·費雷拉·佛朗哥·平託·卡斯特洛布蘭科', '佛朗哥·裏卡爾迪', '共和制', '西班牙', '傑斯·佛朗哥', '民族主義', '弗朗西斯科·佛朗哥', '伊塔馬爾·佛朗哥', '韋羅妮卡·佛朗哥'} set()\n",
            "{'孟菲斯_(田納西州)', '酒店', '馬丁·路德·金', '馬丁·路德'} {'孟菲斯大學', '馬丁·路德·金恩遇刺案'}\n",
            "{'東歐'} set()\n",
            "{'臺灣總督府民政部', '總督府', '民政部', '臺灣', '臺灣總督府'} {'臺灣總督府民政部', '臺灣總督府評議會', '臺灣總督府總督官房', '民政部', '臺灣總督府'}\n",
            "{'中國人民解放軍武漢軍區', '中國人民解放軍', '高雄市', '臺北市'} {'中國人民解放軍武漢軍區空軍', '中國人民解放軍湖北省軍區', '中國人民解放軍內蒙古軍區', '中國人民解放軍武漢軍區', '中國人民解放軍昆明軍區'}\n",
            "{'中原', '行', '火', '晉_(五代十國)', '遼朝', '運氣', '後晉', '木材', '五行'} {'遼朝'}\n",
            "{'安全', '護照', '政府', '中央政府', '旅行證件'} {'護照'}\n",
            "{'邊_(幾何)', '三角函數', '三角學', '三角'} {'三角函數', '三角學', '三角', '反三角函數', '超越三角函數'}\n",
            "{'喬木_(消歧義)', '中國社會科學院', '胡喬木'} set()\n",
            "{'配子', '個體'} set()\n",
            "{'平面', '圓', '軌跡', '常數', '距離', '不動點'} {'圓'}\n",
            "{'編劇', '陳韻文', '香港'} set()\n",
            "{'徐翔_(投資家)', '公安機關', '徐翔', '證券市場', '公安_(消歧義)', '寧波人'} {'徐翔'}\n",
            "{'宋高宗', '宋朝', '北宋', '宋神宗', '兒子', '南宋', '皇帝'} {'宋高宗', '懿靜貴妃', '宋朝君主列表', '宋神宗'}\n",
            "{'蘇格蘭', '愛丁堡', '英語', '大學', '愛丁堡大學', '首府', '研究型大學', '英語世界'} {'愛丁堡舊城', '愛丁堡城堡', '愛丁堡皇家天文臺', '愛丁堡市政廳', '愛丁堡大學圖書館'}\n",
            "{'古羅馬', '神話', '羅馬', '羅馬神話', '朱庇特', '宇宙', '天神'} {'朱庇特', '天神町'}\n",
            "{'練馬師', '松柏塱', '香港', '圍村', '簡炳墀', '現在'} {'松柏塱'}\n",
            "{'劇場藝術', '黑色電影', '電影', '先驅', '化石森林'} {'罪惡鎖鏈', '賊中之王', '直搗黃龍', '偉大的奧馬利', '化石森林'}\n",
            "{'不孕', '女性'} set()\n",
            "{'木衛三', '衛', '軌道傾角', '木衛三十九', '角', '黃道', '木星的衛星', '軌道', '木星', '木材'} {'木衛五十', '木衛三十九', '木衛二十八', '木衛四十四', '木衛十四'}\n",
            "{'康沃爾冰川', '今天'} {'康沃爾峯', '康沃爾冰川', '迪圖瓦冰原島峯', '麥克貝恩山'}\n",
            "{'地形', '象山', '象山公園', '象山公園_(臺北市)', '公園'} {'象山公園'}\n",
            "{'地址', '轅門', '馬車'} {'轅門'}\n",
            "{'因果關係', '疾病', '機體', '流行病學'} {'流行病學', '地景流行病學', '病理學'}\n",
            "{'工業設計', '特徵', '人體', '人因工程學'} set()\n",
            "{'和子說', '基督教神學', '聖子', '聖父', '聖靈', '神學'} {'和子說', '耶和華見證人和三位一體', '聖父', '聖子', '聖靈'}\n",
            "{'稱謂', '名詞', '世界', '感覺', '西亞', '中東', '歐洲', '教科書'} {'西亞'}\n",
            "{'芭蕾舞', '莫斯科', '天鵝湖', '莫斯科大劇院', '劇場'} {'天鵝湖'}\n",
            "{'洲', '經濟學家', '五常', '中國大陸', '批評', '大災難', '中國', '張五常'} {'張五常'}\n",
            "{'意', '學名', '東方', '山斑鳩'} {'山斑鳩', '東方扁蝦', '東方蠊'}\n",
            "{'釣魚臺', '島嶼', '釣魚臺列嶼', '本地人'} {'釣魚臺列嶼', '釣魚臺列嶼主權問題', '中華民國臺灣地區島嶼列表', '釣魚臺燈塔'}\n",
            "{'喜馬拉雅山脈', '山脈', '漢科科柳山', '玻利維亞'} {'漢科科柳山'}\n",
            "{'司馬懿', '孫', '東晉', '君主'} set()\n",
            "{'人性', '傳統', '美', '韓國電視劇', '人性_(異世奇人)', '家庭', '電視劇', '儒家'} {'韓國電視劇'}\n",
            "{'詹雯婷', '陳建寧', '女性', '阿沁', '樂團'} {'F.I.R.飛兒樂團'}\n",
            "{'蔣經國', '美國', '李登輝', '張學良', '軟禁'} {'張學良', '蔣經國之死'}\n",
            "{'答案'} {'答案就是妳'}\n",
            "{'玉山', '酒', '南投縣', '茶'} set()\n",
            "{'立法機關', '新北市', '臺北', '法務部矯正署臺北少年觀護所', '土城區', '法務部矯正署'} {'法務部矯正署高雄監獄', '法務部矯正署臺南監獄', '法務部矯正署高雄第二監獄', '法務部矯正署臺北少年觀護所', '法務部矯正署'}\n",
            "{'污染源監測', '環境監測', '監測', '污染', '環境影響評價', '污染物'} {'污染源監測', '環境監測', '環境質量評價', '最佳可行控制技術', '大氣擴散模式'}\n",
            "{'抄襲', '權利客體', '權利'} {'文章相似度檢測', '高雄捷運路線圖抄襲事件', '獨創性', '西南交大副校長黃慶博士論文抄襲事件'}\n",
            "{'唐明宗', '五代十國', '十國', '後唐', '晉王', '北平王', '北平_(五代十國)', '王', '政權', '北平市'} {'李繼儔'}\n",
            "{'歌手', '陌生人', '兩人_(aiko單曲)', '歌手·當打之年', '齊豫', '齊秦'} {'齊豫'}\n",
            "{'亞伯拉罕·林肯', '貝尼託·胡亞雷斯', '總統'} {'貝尼託·胡亞雷斯'}\n",
            "{'臺南市立安平水產專修學校', '日治時期', '學校', '目標', '臺南市'} {'臺南市立安平水產專修學校'}\n",
            "{'護照', '自動櫃員機', '國內'} set()\n",
            "{'印度', '地區', '馬爾代夫', '亞洲', '西南', '南', '斯里蘭卡'} {'印度叫姑魚', '馬爾代夫', '馬爾代夫國家足球隊'}\n",
            "{'秦國', '燕國', '滅亡', '戰國時期', '趙國', '王翦'} set()\n",
            "{'風_(太陽探測器)', '太陽', '太陽風', '地球', '極光', '粒子'} {'極光', '太陽風'}\n",
            "{'班距', '基隆市', '新北市', '公車', '新北市區公車790路線', '桃園車站_(臺鐵)', '金山'} {'新北市區公車790路線', '新北市區公車813路線'}\n",
            "{'太平洋', '南冰洋', '洋', '世界', '飛行', '鳥', '翼展', '信天翁科'} {'桑氏遠洋鳥', '南方皇家信天翁', '漂泊信天翁', '翼展', '信天翁科'}\n",
            "{'建築學', '文化中心', '賀龍體育文化中心', '賀龍', '海'} {'賀龍體育文化中心', '天心閣', '賀龍事件'}\n",
            "{'艾倫', '喜劇中心', '伍迪·艾倫', '2004年'} {'顧竹君', '王雙慶'}\n",
            "{'城市', '數', '胡利亞卡', '洞口縣', '祕魯'} set()\n",
            "{'嫘祖', '兒子', '黃帝', '昌意'} {'嫘祖', '嚳', '昌意'}\n",
            "{'食_(天文現象)', '月球', '月食', '區域', '太陽光'} {'2011年6月15日月食', '2006年9月7日月食', '19世紀月食列表', '2008年8月16日月食', '2014年10月8日月食'}\n",
            "{'航空', '國', '飛行員', '民用航空', '自行車'} {'飛行員', '中華民國汽車駕駛執照'}\n",
            "{'南北朝時代_(日本)', '宋武帝', '東晉', '南北朝_(消歧義)'} set()\n",
            "{'碳氟化合物', '化學', '化學鍵', '氟化合物'} set()\n",
            "{'郊區', '日治時期', '臺北', '臺灣日治時期', '行政區劃', '臺灣', '川端町', '臺北市'} {'川端町'}\n",
            "{'動物', '爬行動物', '生殖系統'} set()\n",
            "{'名', '亦舒', '朝花夕拾', '方中信', '影集', '夏文汐'} {'朝花夕拾'}\n",
            "{'唐鳳', '微軟認證', '程序員', '集成開發環境', '對百度的爭議', '人月神話', '華碩', '中藥', '李宗仁回憶錄', '臺北市立松山高級商業家事職業學校'} set()\n",
            "{'光學顯微鏡', '視野', '功能', '顯微鏡', '樣品'} set()\n",
            "{'臺中_(大字)', '臺中市', '臺中市立臺中女子高級中等學校'} {'萬鈞匯知中學', '臺中市私立明德高級中學', '臺中市立臺中女子高級中等學校', '上海市第三女子中學', '臺中市議會'}\n",
            "{'鐵路局', '中華人民共和國鐵路車站', '新槐站', '中國鐵路上海局集團', '站'} {'新槐站'}\n",
            "{'力量', '雄性', '鳩鴿科'} {'鳩鴿科'}\n",
            "{'礦物', '溫度', '化學性質', '物理性質'} {'碳酸鹽礦物', '礦物', '礦物學'}\n",
            "{'中央研究院院士', '中央研究院', '研究生', '院士', '理論', '國立臺灣大學', '國立臺灣大學應用力學研究所', '研究所', '工程力學', '力學', '專業人士'} {'林啓萬', '劉佩玲', '國立臺灣大學應用力學研究所', '鮑亦興', '吳光鍾'}\n",
            "{'祭海節', '即墨區', '田橫', '節'} {'田橫五百義士冢', '即墨城牆', '即墨區', '即墨縣'}\n",
            "{'糖類', '糖_(消歧義)', '肥料', '硫'} {'糖生物學', '硫'}\n",
            "{'國富論', '資本主義', '代表作', '人民', '資本主義政治經濟學', '亞當·斯密', '政治經濟學', '競爭', '自由'} {'資本主義政治經濟學', '亞當·斯密'}\n",
            "{'阿斯泰·妮爾森', '深淵', '好萊塢'} {'阿斯泰·妮爾森', '深淵'}\n",
            "{'北區_(臺南市)', '美術館', '法人', '臺灣', '臺南市', '半官方機構', '臺南市美術館', '北區'} {'臺南市美術館'}\n",
            "{'電腦性能', '樹脂', '玻璃纖維', '複合材料', '材料', '高性能轎車', '纖維'} {'陶瓷基複合材料', '玻璃纖維', '複合材料', '纖維材料改性國家重點實驗室', '樹脂基複合材料'}\n",
            "{'臺北市立大學博愛校區', '師範學校', '相對方位', '臺北', '臺北市立大學天母校區', '大學', '臺北市立大學'} {'臺北市立大學', '臺北市立大學天母校區', '臺北市立大學天母校區體育館', '臺北市立大學博愛校區'}\n",
            "{'湯姆·班克斯', '湯姆·克魯斯', '湯姆·漢克斯', '財產', '獎勵'} set()\n",
            "{'魔戒', '彼得·傑克遜', '漫畫', '丁丁_(丁丁歷險記)', '丁丁歷險記'} {'彼得·傑克遜', '丁丁與流浪漢', '丁丁與字母藝術', '丁丁在蘇聯', '碧安卡·卡斯塔菲歐蕾'}\n",
            "{'北冰洋', '冰山', '航運', '冰', '大西洋', '海水'} {'北冰洋'}\n",
            "{'比例', '硫酸'} set()\n",
            "{'英國', '大學', '康奈爾大學'} {'康乃爾大學文理學院'}\n",
            "{'蕈類', '粗糙擬迷孔菌'} {'粗糙擬迷孔菌'}\n",
            "{'北京理工大學'} {'華北理工大學'}\n",
            "{'貝雷特', '貝塔·雷·比爾', '愛'} {'貝雷特'}\n",
            "{'縣', '市', '州', '市轄區_(中華人民共和國)', '區_(中華民國)', '潮州市', '動漫', '市轄區'} {'2005年中華人民共和國縣級以上行政區劃變更列表', '2015年中華人民共和國縣級以上行政區劃變更列表', '2016年中華人民共和國縣級以上行政區劃變更列表'}\n",
            "{'昆蟲', '國立臺灣大學昆蟲標本館', '標本', '國立臺灣大學'} {'貝蒂生物多樣性博物館', '國立臺灣大學昆蟲標本館', '植物標本館列表', '植物標本館', '國立臺灣大學植物標本館'}\n",
            "{'突厥', '沙洛特·蔡', '東', '波爾布特', '化名', '東突厥', '政治人物'} set()\n",
            "{'真理', '真理國', '日本人', '麻原彰晃'} {'真理國'}\n",
            "{'能量轉換', '發動機', '電動機', '能量', '差異_(哲學)'} {'電動機'}\n",
            "{'九江市', '省', '市', '九江市_(縣級)', '地級市', '九江_(消歧義)', '江西省'} {'九江市', '彭澤縣', '九江地區', '湖口縣', '永修縣'}\n",
            "{'唐朝', '大佛', '樂山大佛'} {'樂山大佛'}\n",
            "{'形上學'} {'形上學', '形上學大綱'}\n",
            "{'行政機關', '民主', '國家', '議會'} set()\n",
            "{'三立國際臺', '三立電視', '杭州駐防城', '國際臺'} {'三立國際臺', '三立戲劇臺', '三立都會臺', '三立綜合臺', '三立iNEWS'}\n",
            "{'馬克思主義', '格魯喬·馬克思', '馬克思主義政治經濟學', '卡爾·馬克思', '資本論', '政治經濟學', '馬克思·多爾穆瓦站', '海因裏希·馬克思'} {'河上肇', '資本論', '女人資本論'}\n",
            "{'妊娠', '染色體', '流產'} {'先兆流產', '流產', '反覆流產'}\n",
            "{'主唱', '梁朝偉', '樂團'} set()\n",
            "{'蔡元培', '價值', '元培', '廣告', '自由'} {'蔡元培獎', '蔡元培舊居', '蔡元培故居'}\n",
            "{'輕機槍', '班_(軍事)', '兒童', '自動步槍', '步槍', '機槍', '通用機槍'} {'80式通用機槍', '67式通用機槍', '輕機槍', '88式通用機槍', '通用機槍'}\n",
            "{'彗星', '大小', '天文單位'} {'彗星塵'}\n",
            "{'赤道', '風_(太陽探測器)', '太陽', '太陽風', '地球', '光', '極光', '粒子'} {'極光', '太陽風'}\n",
            "{'深度', '日本', '鰓棘杜父魚', '魚', '海'} {'泰氏棘吻杜父魚', '梳鰭鬼杜父魚', '鰓棘杜父魚', '連鰭杜父魚', '玫瑰裸腹杜父魚'}\n",
            "{'平衡', '質量', '土星的衛星', '物質', '土衛一', '太陽系', '壓強', '天體'} {'平衡', '土衛一'}\n",
            "{'京畿道', '人口', '京畿', '亞洲'} {'中京畿道'}\n",
            "{'喬瓦尼·多梅尼科·卡西尼', '塞薩爾弗朗索瓦·卡西尼·德·蒂裏', '天文臺', '巴黎天文臺', '亨利·卡西尼', '讓多米尼克·卡西尼', '卡西尼'} {'塞薩爾-弗朗索瓦·卡西尼·德·蒂裏', '亨利·卡西尼', '卡西尼'}\n",
            "{'產品', '測試', '軟件', '軟件測試', '過程'} {'軟件測試'}\n",
            "{'名譽主席', '奧林匹克五環', '主席', '五環', '奧林匹克運動會'} {'奧林匹克五環', '皮埃爾·德·顧拜旦'}\n",
            "{'松前城', '備後國', '攻擊', '廣島', '廣島縣', '福山城_(備後國)', '戰爭'} {'備後國'}\n",
            "{'事件', '動作片', '金獅獎', '威尼斯', '電影節', '二二八事件', '侯孝賢', '威尼斯電影節'} set()\n",
            "{'品牌', '世界', '酒', '葡萄酒', '蘋果酒'} {'蘋果酒'}\n"
          ]
        }
      ],
      "source": [
        "results_df = pd.merge(pd.Series([line for line in predicted_results_aicup], name=\"aicup\"), \n",
        "                      pd.Series([line for line in predicted_results_tfidf], name=\"tfidf\"), right_index=True, left_index=True)\n",
        "predicted_results = results_df.apply(union_result, axis=1)\n",
        "save_doc(TRAIN_DATA, predicted_results, mode=\"train\")"
      ]
    },
    {
      "attachments": {},
      "cell_type": "markdown",
      "metadata": {},
      "source": [
        "### Step 2. Calculate our results"
      ]
    },
    {
      "cell_type": "code",
      "execution_count": 69,
      "metadata": {},
      "outputs": [
        {
          "name": "stdout",
          "output_type": "stream",
          "text": [
            "Precision: 0.20428677312271076\n",
            "Recall: 0.8992031250000001\n",
            "F1 Score: 0.3329351815555636\n"
          ]
        }
      ],
      "source": [
        "precision = calculate_precision(TRAIN_DATA, predicted_results)\n",
        "recall = calculate_recall(TRAIN_DATA, predicted_results)\n",
        "f1_score = 2*(precision*recall)/(precision+recall)\n",
        "print(f\"F1 Score: {f1_score}\")"
      ]
    },
    {
      "attachments": {},
      "cell_type": "markdown",
      "metadata": {},
      "source": [
        "### Step 3. Repeat the same process on test set\n",
        "Create parsing tree"
      ]
    },
    {
      "cell_type": "code",
      "execution_count": 19,
      "metadata": {},
      "outputs": [],
      "source": [
        "hanlp_test_file = f\"data/hanlp_con_test_results.pkl\"\n",
        "if Path(hanlp_test_file).exists():\n",
        "    with open(hanlp_test_file, \"rb\") as f:\n",
        "        hanlp_test_results = pickle.load(f)\n",
        "else:\n",
        "    hanlp_test_results = [get_nps_hanlp(predictor, d) for d in TEST_DATA]\n",
        "    with open(hanlp_test_file, \"wb\") as f:\n",
        "        pickle.dump(hanlp_test_results, f)"
      ]
    },
    {
      "attachments": {},
      "cell_type": "markdown",
      "metadata": {},
      "source": [
        "Get pages via wiki online api"
      ]
    },
    {
      "cell_type": "code",
      "execution_count": 20,
      "metadata": {},
      "outputs": [
        {
          "data": {
            "application/vnd.jupyter.widget-view+json": {
              "model_id": "ee976845b00b41beb53337271c9f4782",
              "version_major": 2,
              "version_minor": 0
            },
            "text/plain": [
              "VBox(children=(HBox(children=(IntProgress(value=0, description='0.00%', max=330), Label(value='0 / 330'))), HB…"
            ]
          },
          "metadata": {},
          "output_type": "display_data"
        }
      ],
      "source": [
        "test_doc_path = f\"data/test_doc5.jsonl\"\n",
        "test_doc_path_aicup = f\"data/test_doc5_aicup.jsonl\"\n",
        "test_doc_path_search = f\"data/test_doc5_search.jsonl\"\n",
        "test_doc_path_tfidf = f\"data/test_doc5_tfidf.jsonl\"\n",
        "\n",
        "if Path(test_doc_path).exists():\n",
        "    with open(test_doc_path, \"r\", encoding=\"utf8\") as f:\n",
        "        test_results = pd.Series([\n",
        "            set(json.loads(line)[\"predicted_pages\"])\n",
        "            for line in f\n",
        "        ])\n",
        "else:\n",
        "    if Path(test_doc_path_search).exists():\n",
        "        with open(test_doc_path_search, \"r\", encoding=\"utf8\") as f:\n",
        "            test_results_search = pd.Series([\n",
        "                set(json.loads(line)[\"predicted_pages\"])\n",
        "                for line in f\n",
        "            ], name=\"search\")\n",
        "    else:\n",
        "        pandarallel.initialize(progress_bar=True, verbose=0, nb_workers=10)\n",
        "        test_df = pd.DataFrame(TEST_DATA)\n",
        "        test_df.loc[:, \"hanlp_results\"] = hanlp_test_results\n",
        "        # predicted_results = test_df.progress_apply(get_pred_pages, axis=1)\n",
        "        test_results_search = test_df.parallel_apply(\n",
        "            get_pred_pages_search, axis=1)\n",
        "        save_doc(TEST_DATA, test_results_search, mode=\"test\", suffix=\"_search\")\n",
        "\n",
        "    if Path(test_doc_path_aicup).exists():\n",
        "        with open(test_doc_path_aicup, \"r\", encoding=\"utf8\") as f:\n",
        "            test_results_aicup = pd.Series([\n",
        "                set(json.loads(line)[\"predicted_pages\"])\n",
        "                for line in f\n",
        "            ], name=\"aicup\")\n",
        "    else:\n",
        "        pandarallel.initialize(progress_bar=True, verbose=0, nb_workers=10)\n",
        "        test_df = pd.DataFrame(TEST_DATA)\n",
        "        test_df.loc[:, \"hanlp_results\"] = hanlp_test_results\n",
        "        # predicted_results = test_df.progress_apply(get_pred_pages, axis=1)\n",
        "        test_results_aicup = test_df.parallel_apply(\n",
        "            get_pred_pages, axis=1)\n",
        "        save_doc(TEST_DATA, test_results_aicup, mode=\"test\", suffix=\"_aicup\")\n",
        "\n",
        "    if Path(test_doc_path_tfidf).exists():\n",
        "        with open(test_doc_path_tfidf, \"r\", encoding=\"utf8\") as f:\n",
        "            test_results_tfidf = pd.Series([\n",
        "                set(json.loads(line)[\"predicted_pages\"])\n",
        "                for line in f\n",
        "            ], name=\"tfidf\")\n",
        "    else:\n",
        "        pandarallel.initialize(progress_bar=True, verbose=0, nb_workers=3)\n",
        "        TEST_DATA_SEARCH = load_json(test_doc_path_search)\n",
        "        test_df_search = pd.DataFrame(TEST_DATA_SEARCH)\n",
        "        test_results_tfidf = test_df_search.parallel_apply(\n",
        "            partial(\n",
        "                get_pred_pages_tfidf,\n",
        "                tokenizing_method=partial(tokenize, stopwords=stopwords),\n",
        "                vectorizer=vectorizer,\n",
        "                tf_idf_matrix=X,\n",
        "                wiki_pages=wiki_pages,\n",
        "                topk=topk,\n",
        "            ), axis=1)\n",
        "        save_doc(TEST_DATA, test_results_tfidf, mode=\"test\", suffix=\"_tfidf\")"
      ]
    },
    {
      "cell_type": "code",
      "execution_count": 23,
      "metadata": {},
      "outputs": [
        {
          "name": "stdout",
          "output_type": "stream",
          "text": [
            "{'顯微鏡', '肉眼', '光學顯微鏡', '電磁學'} {'顯微鏡'}\n",
            "{'絲綢', '蜜蜂屬', '花蜜', '蠶', '昆蟲'} set()\n",
            "{'西部', '山城', '土地', '綠山城縣', '0', '波蘭', '綠山城'} {'山城路街道', '山城街道', '綠山城縣', '伊沃瓦', '盧布斯卡省'}\n",
            "{'魂斷藍橋', '橋', '藍橋', '配角'} {'魂斷藍橋', '藍橋'}\n",
            "{'金馬獎', '侯孝賢', '獎勵', '文學', '文言文', '電影', '唐朝', '劇情片'} {'侯孝賢', '刺客聶隱娘', '金馬獎最佳劇情短片'}\n",
            "{'國務院', '副總理', '薄熙來', '姪'} {'薄熙來'}\n",
            "{'凌日', '水星', '水星凌日'} {'凌日', '2012年金星凌日', '水星計劃7人', '水星凌日'}\n",
            "{'作品', '卡爾·馬克思', '馬克思主義政治經濟學', '馬克思主義', '馬克思·多爾穆瓦站', '格魯喬·馬克思', '政治經濟學', '海因裏希·馬克思'} set()\n",
            "{'生', '神', '母親', '彌勒菩薩', '路', '一貫道', '祖師', '無生老母'} {'無生老母'}\n",
            "{'中亞', '伊斯蘭教', '西亞', '新疆維吾爾自治區', '內蒙古自治區', '回族', '穆斯林'} {'回族', '尼泊爾伊斯蘭教'}\n",
            "{'地形', '行星', '撞擊坑', '天衛四', '小行星', '彗星', '面_(幾何)'} {'哈姆雷特撞擊坑', '天衛四'}\n",
            "{'美洲', '身', '血親', '玲子·艾爾斯沃斯', '亞洲'} {'亞非混血', '玲子·艾爾斯沃斯'}\n",
            "{'口耳相傳', '中國', '法輪功', '臺灣'} {'法輪功在臺灣'}\n",
            "{'小說', '獎勵', '名', '奧斯卡·埃爾南德斯', '奧斯卡'} set()\n",
            "{'反射', '地震', '地震波', '檢測', '海嘯'} {'地震波', '海嘯'}\n",
            "{'彌涅耳瓦', '命運', '宇宙'} {'彌涅耳瓦'}\n",
            "{'大佛', '唐朝', '樂山大佛'} {'樂山大佛'}\n",
            "{'韓國電視劇', '真善美', '電視劇', '家庭', '人性'} set()\n",
            "{'標記_(程式語言)', '置標語言', 'XBRL'} {'XML', 'XBRL', '輕量級標記語言', 'InkML', '文檔標記語言比較'}\n",
            "{'史蒂夫·喬布斯', '喬布斯_(電影)', '電子計算機', '蘋果', '蘋果公司'} {'史蒂夫·喬布斯'}\n",
            "{'中國政法大學', '大學', '211_(消歧義)', '工程', '機構', '211工程'} {'中國政法大學'}\n",
            "{'三角洲', '珠江三角洲', '珠江'} {'珠江三角洲'}\n",
            "{'F·莫瑞·亞伯拉罕', '亞伯拉罕·路易·佈雷蓋', '亞伯拉罕', '斯賓塞·亞伯拉罕', '亞伯拉罕諸教', '亞伯拉罕·林肯總統圖書館和博物館', '亞伯拉罕·林肯', '亞伯拉罕·範海辛'} {'伊斯蘭教與基督教關係', '亞伯拉罕', '亞伯拉罕諸教', '有經者', '一神論'}\n",
            "{'意大利', '電影節', '獎勵', '金獅獎', '影片', '金獅獎_(消歧義)', '獅', '冠軍'} {'第15屆威尼斯影展', '芝加哥影展', '第73屆威尼斯影展', '金獅獎', '威尼斯影展評審團大獎'}\n",
            "{'經濟補償', '對日民間索賠', '炸彈', '創傷', '第二次世界大戰', '類型'} {'對日民間索賠'}\n",
            "{'上游', '太原市', '汾河', '山西省'} {'汾河街道', '汾河鎮', '汾河公園', '汾河'}\n",
            "{'電影', '東帝汶', '地區'} {'東帝汶'}\n",
            "{'弗拉基米爾·普京', '代理_(政治)', '1999', '羅曼·伊戈列維奇·普京', '1999年', '總理'} set()\n",
            "{'阿曼', '印度洋', '半島', '國', '蘇丹_(稱謂)', '阿拉伯半島', '阿曼蘇丹'} {'阿曼蘇丹', '阿曼首相', '半島阿拉伯語', '阿曼'}\n",
            "{'神', '費爾南多·索爾', '交通', '人間', '雷暴', '索爾', '載具', '北歐'} {'索爾'}\n",
            "{'行政法'} {'行政法'}\n",
            "{'廣播', '英國廣播公司', '英國', '國家', '部長'} {'BBC自然知性臺', '英國廣播公司', 'BBC電影', 'BBC廣播四臺'}\n",
            "{'函數', '托爾斯泰_(消歧義)', '列夫·托爾斯泰', '俄羅斯', '戰爭與和平', '作家'} {'列夫·托爾斯泰區', '列夫·托爾斯泰著作列表', '戰爭與和平', '索菲亞·別爾斯', '亞斯納亞波利亞納'}\n",
            "{'燕_(安史之亂)', '燕山_(消歧義)', '燕山大學', '秦皇島市', '鱷目', '燕大', '河北省'} {'秦皇島市第一中學', '秦皇島職業技術大學', '燕山大學科技園', '燕山大學', '燕大'}\n",
            "{'高建_(韓國)', '訊息', '大韓民國', '政治家', '高建'} {'高建'}\n",
            "{'湖北省', '懷化市', '中華人民共和國', '湖北省_(中華民國)', '地級市', '市'} {'懷化市', '中華人民共和國地級市列表'}\n",
            "{'口腔', '動物', '螺旋動物', '分支', '原口動物'} {'原口動物', '螺旋動物'}\n",
            "{'佛教用語列表', '六和敬', '態度'} {'六和敬'}\n",
            "{'弗朗茨·卡夫卡', '短篇小說'} {'一隻雜種', '弗朗茨·卡夫卡', '張皓宸', '卡夫卡博物館'}\n",
            "{'皇帝', '標語', '國府', '金朝'} set()\n",
            "{'物理量', 'IPod'} {'IPod'}\n",
            "{'歐洲民族', '腳趾', '民族', '指', '國家', '歐洲'} set()\n",
            "{'少將', '鹿兒島縣', '官僚', '牡丹', '明治', '兒玉利國', '牡丹社'} {'兒玉利國'}\n",
            "{'斯坦福', '小利蘭·斯坦福', '朱棣文', '史丹佛大學'} {'斯坦福醫學院', '小利蘭·斯坦福'}\n",
            "{'湖區', '威廉·華茲華斯', '蘇格蘭'} {'赫爾維林峯'}\n",
            "{'進士', '江蘇省_(中華民國)', '祖籍', '嘉興市', '沈鈞儒'} {'沈鈞儒'}\n",
            "{'法國', '世', '女王', '1990年', '伊麗莎白二世', '皮特·烏斯蒂諾夫', '血親', '伊麗莎白'} {'皮特·烏斯蒂諾夫'}\n",
            "{'波長', '毛主席語錄', '可見光', '顏色', '色'} {'毛主席語錄'}\n",
            "{'陰間', '多米那特製', '普路託', '神話_(書)', '羅馬神話'} {'冥神', '普路託'}\n",
            "{'纖維', '電腦性能', '材料', '玻璃纖維', '樹脂', '高性能轎車', '複合材料'} {'樹脂基複合材料', '玻璃纖維', '纖維材料改性國家重點實驗室', '陶瓷基複合材料', '複合材料'}\n",
            "{'阿爾瑪·馬勒', '古斯塔夫·馬勒', '交響曲', '早晨', '作曲家', '安娜·馬勒', '奧地利', '歌曲'} set()\n",
            "{'1982年', '山下達郎', '竹內瑪莉亞', '身分標識方式'} {'一直在一起吧', '我們的夏日夢'}\n",
            "{'古典經濟學', '理論', '經濟學', '哈佛大學', '分析', '邊際', '楊小凱', '經濟學家'} {'楊小凱', '羅伯特·巴羅'}\n",
            "{'亞歷山大·克倫斯基', '1917年', '民主革命', '沙皇', '俄羅斯', '俄羅斯人', '1917', '治理'} {'亞歷山大·克倫斯基'}\n",
            "{'賓州', '羅', '大韓民國', '道_(行政區劃)', '首府', '全羅北道', '聯合國教育、科學及文化組織'} {'聯合國教科文組織分類法', '聯合國教科文科學技術統計工作手冊的分類法', '忠清北道', '全羅北道', '聯合國教科文組織吉列爾莫·卡諾世界新聞自由獎'}\n",
            "{'角色', '艾倫', '神經質', '伍迪·艾倫'} set()\n",
            "{'艾倫', '時代', '時代雜誌', '伍迪·艾倫'} {'王雙慶', '顧竹君'}\n",
            "{'醋', '釀造醋', '原材料'} {'釀造醋'}\n",
            "{'突厥', '本地人', '斯坦', '卡拉卡爾帕克斯坦共和國', '突厥語族'} {'卡拉卡爾帕克人', '卡拉卡爾帕克蘇維埃社會主義自治共和國', '卡拉卡爾帕克斯坦共和國'}\n",
            "{'上海市', '鎖麟囊'} {'鎖麟囊'}\n",
            "{'張其昀', '臺北市私立華岡藝術學校'} {'張其昀'}\n",
            "{'炔烴', '需要', '乙烯基', '乙炔', '烴'} {'炔烴', '苯乙炔', '乙炔', '乙炔銀', '乙炔二醇'}\n",
            "{'數學', '理論', '數學家', '格奧爾格·康托爾', '埃迪·康托爾'} set()\n",
            "{'上座部', '根本分裂', '大衆部', '佛教', '佛教歷史', '印度', '分裂', '印度佛教'} {'上座部', '根本分裂', '大衆部', '部派佛教', '教派分裂'}\n",
            "{'劉備', '三國演義', '小說', '章回小說', '關羽', '金蘭'} {'三國演義', '關羽'}\n",
            "{'GL', '向量', 'F', '一般線性羣', '對稱', '研究', '向量空間', '規約符號'} set()\n",
            "{'土衛十', '土衛十一', '土星的衛星', '木星'} {'土衛四十九', '土衛十一', '土衛一', '土衛三'}\n",
            "{'墨家', '邏輯', '代表'} {'墨家'}\n",
            "{'公寓', '號', '高安公寓', '康平路'} {'西湖公寓', '公寓', '高安公寓', '建國公寓'}\n",
            "{'流產', '基因', '突變', '胎兒'} {'流產', '產前發育'}\n",
            "{'原子', '氫氣', '長度', '分子', '鍵', '鍵長', '雙原子分子'} {'鍵長'}\n",
            "{'弗拉基米爾·普京', '總統', '弗拉基米爾'} {'弗拉基米爾·普京關於克里米亞的講話', '弗拉基米爾·普京的公衆形象', '弗拉基米爾·普京推行的外交政策', '弗拉基米爾·普京的政治生涯', '柳德米拉·普京娜'}\n",
            "{'南北朝', '湖北省', '崇義郡', '湖北省_(中華民國)', '北朝', '中國'} set()\n",
            "{'體積', '愛爾蘭'} {'控制體積', '愛爾蘭總統', '分佈體積', '體積莫耳濃度'}\n",
            "{'臺北市', '臺北市_(州轄市)'} {'臺北市萬華區老松國民小學', '臺北市議會', '臺北市議員列表'}\n",
            "{'世界', '植物', '大麥', '禾本科', '麥', '中東'} {'大麥地文化', '大麥屬', '大麥'}\n",
            "{'屬', '生物', '形容詞', '生物分類學', '病毒', '生物學', '分類學_(消歧義)'} set()\n",
            "{'荷馬', '美洲', '史詩', '詩人', '荷馬史詩'} set()\n",
            "{'江蘇省_(中華民國)', '南京大學', '南京大學附屬中學', '中學'} {'南京大學附屬中學', '南京航空航天大學附屬高級中學', '師範大學附屬中學列表', '南京市金陵中學', '南京師範大學附屬中學'}\n",
            "{'科隆', '世紀', '農業', '20世紀'} set()\n",
            "{'人物', '勇度', '藍色', '漫畫'} {'勇度'}\n",
            "{'中西區_(臺灣)', '臺南市', '西區_(臺南市)', '臺南市美術館', '中西區'} {'原臺南警察署'}\n",
            "{'大學', '朱棣文', '教師', '神仙·老師·狗', '泰國'} set()\n",
            "{'全球', '食糖', '飲料', '酒', '澱粉', '啤酒'} {'釀造酒', '酒精發酵', '自釀啤酒', '拉格啤酒', '啤酒'}\n",
            "{'不可否認', '價值', '中國', '工程'} set()\n",
            "{'程序員', '代碼風格'} {'代碼風格'}\n",
            "{'華南理工大學', '中華人民共和國'} {'華南理工大學旅遊管理系', '華南理工大學出版社', '華南理工大學經濟與金融學院', '電子科技大學', '華南理工大學食品科學與工程學院'}\n",
            "{'同盟國_(第二次世界大戰)', '力_(佛教)', '日本', '跟蹤支援隊', '資源_(計算機科學)', '特別攻擊隊'} set()\n",
            "{'尼克·貝爾格', '2004年'} {'阿班·貝爾格四重奏團', '阿爾班·貝爾格'}\n",
            "{'酒', '茶', '南投縣', '臺灣'} set()\n",
            "{'馬寅初', '北京大學', '校長'} {'吳樹青'}\n",
            "{'伊拉克', '尼克·貝爾格'} {'尼克·貝爾格'}\n",
            "{'康奈爾大學', '大學', '美國'} {'巴黎聖母院大學', '康乃爾大學文理學院', '聖母院大學', '西北大學', '普洛威頓斯學院'}\n",
            "{'章伯鈞'} {'汪先烺', '何唐', '方治', '光仁洪', '章伯鈞'}\n",
            "{'溫', '濃度', '溶液'} {'濃度', '體積莫耳濃度'}\n",
            "{'1966年', '革命', '秦腔', '文化大革命'} {'柳萍', '秦腔', '無產階級文化大革命就是好', '劉毓中', '中共中央關於農村無產階級文化大革命的指示'}\n",
            "{'排球', '北美洲', '全球'} {'排球'}\n",
            "{'直流電', '變流技術', '技術', '流', '電流', '交流電', '電'} {'直流-直流轉換器', '變流技術', '電力電子學'}\n",
            "{'大運河', '京杭大運河', '運河'} {'大運河', '京杭大運河'}\n",
            "{'國立臺灣大學昆蟲標本館', '標本', '昆蟲', '國立臺灣大學'} {'植物標本館列表', '植物標本館', '國立臺灣大學昆蟲標本館', '貝蒂生物多樣性博物館', '國立臺灣大學植物標本館'}\n",
            "{'波美拉尼亞', '東北部_(越南)', '梅克倫堡', '西波美拉尼亞', '德國', '梅克倫堡前波美拉尼亞', '東北', '州'} {'前波美拉尼亞-格賴夫斯瓦爾德縣', '前波美拉尼亞-呂根縣', '西北梅克倫堡縣', '梅克倫堡-前波美拉尼亞', '東前波美拉尼亞縣'}\n",
            "{'教室'} set()\n",
            "{'敏迷龍屬', '目_(生物)', '龍', '過去', '恐龍'} set()\n",
            "{'地址', '轅門', '士兵', '馬車'} {'轅門'}\n",
            "{'設計師', '臺灣', '李·安克里奇', '屏東縣', '李安', '潮州_(大字)', '服裝設計', '潮州鎮'} set()\n",
            "{'基督徒', '聖週五', '日子', '耶穌受難', '禮拜', '教會'} {'星期五'}\n",
            "{'史詩', '集', '荷馬'} {'荷馬史詩'}\n",
            "{'金邊', '蒙古國', '東南亞', '洞裏薩湖', '淡水湖'} {'柬埔寨'}\n",
            "{'詩人', '作家', '伊萬·屠格涅夫', '俄羅斯'} {'阿霞', '伊萬·屠格涅夫博物館', '屠格涅夫站', '屠格涅夫卡市鎮'}\n",
            "{'作品', '人物', '黑血', '血液', '黑血_(漫畫)'} {'黑血'}\n",
            "{'安德斯', '安德斯·海爾斯伯格', '微軟', '編譯器', '作者', '丹麥'} {'安德斯·海爾斯伯格'}\n",
            "{'金庸', '鹿鼎記', '筆'} {'鹿鼎記', '月雲', '金庸筆下門派列表', '越女劍', '金庸學'}\n",
            "{'喬治·費茲傑羅', '薇拉·費茲傑羅', '弗朗西斯·斯科特·菲茨傑拉德', '了不起的蓋茨比'} {'尼克·卡拉威', '弗朗西斯·斯科特·菲茨傑拉德'}\n",
            "{'生物', '生物多樣性', '熱點_(地質學)', '馬達加斯加'} set()\n",
            "{'澎湖羣島', '名稱', '臺灣', '過去', '臺灣海峽', '現在'} {'衛生福利部澎湖醫院', '澎湖縣', '澎湖縣文化資產', '澎湖廳長'}\n",
            "{'法國', '瓦西里·康定斯基', '1928年', '俄羅斯', '國籍', '美國'} {'瓦西里·康定斯基'}\n",
            "{'入聲', '腳', '淮劇', '音系學', '概念', '方言'} {'淮劇'}\n",
            "{'服務', '信使號'} {'YM', 'Kopete', 'Meebo'}\n",
            "{'臺南市', '阿美族'} {'阿美族'}\n",
            "{'STARSHIP娛樂', 'Starship', '娛樂'} {'安性珉', '徐宇璸', 'STARSHIP娛樂', '金泰永', '鹹元進'}\n",
            "{'女性', '臺中市', '臺中市私立曉明女子高級中學', '中學'} {'臺中市私立明德高級中學', '臺中市私立曉明女子高級中學', '臺中市立臺中女子高級中等學校'}\n",
            "{'虛擬化'} {'硬件虛擬化'}\n",
            "{'燕山_(消歧義)', '河北省', '燕山大學'} {'燕山大學科技園', '燕山大學', '趙丁選', '天津科技大學', '郭競坤'}\n",
            "{'卡爾·馬克思', '馬克思主義政治經濟學', '馬克思主義', '馬克思·多爾穆瓦站', '格魯喬·馬克思', '政治經濟學', '資本論', '海因裏希·馬克思'} {'河上肇', '資本論', '女人資本論'}\n",
            "{'中東', '亞洲', '西亞'} {'西亞'}\n",
            "{'喪慟', '現代史', '袖章'} set()\n",
            "{'事件', '斯卡帕灣', '公海艦隊自沉事件', '公海艦隊'} {'路德維希·馮·羅伊特'}\n",
            "{'猶太教與基督教', '基督教', '猶太教', '新約', '聖經'} {'猶太教與基督教', '聖經研究', '新約聖經', '聖經批評', '聖經'}\n",
            "{'公寓', '高安公寓', '康平路'} {'西湖公寓', '公寓', '高安公寓'}\n",
            "{'食物', '人類', '藥物'} set()\n",
            "{'行星', '海衛十', '太陽系', '衛星'} set()\n",
            "{'時間', '觀點', '觀點_(哲學)', '宗教', '新興宗教', '世紀'} set()\n",
            "{'蟲川大杉車站', '自然紀念物', '國家'} {'臺灣史跡名勝天然紀念物', '蟲川大杉車站'}\n",
            "{'李祖德', '臺北醫學大學', '經營者', '臺灣'} {'李祖德'}\n",
            "{'華盛頓哥倫比亞特區', '共和黨_(美國)', '共和黨', '今天', '美國', '總部', '公司'} set()\n",
            "{'數學', '人類', '賽普勒斯'} {'賽普勒斯鎊', '賽普勒斯問題', '賽普勒斯教會', '賽普勒斯'}\n",
            "{'熱帶', '熱帶海洋性氣候', '面積', '氣候', '北马里亞納羣島', '海洋性氣候'} {'.mp', '熱帶海洋性氣候', '密克羅尼西亞運動會', '塞班國際機場', '卡皮托爾希爾'}\n",
            "{'世界', '晶體管', '年代', '德州儀器', '德州'} set()\n",
            "{'北京理工大學'} set()\n",
            "{'炔烴', '三鍵', '鍵', '烴', '物質'} {'不飽和烴'}\n",
            "{'政府', 'SETI@home', '加利福尼亞大學', '加利福尼亞大學柏克萊分校', '計算'} {'SETI@home', 'BOINC'}\n",
            "{'語言', '文森特·梵高', '教育'} set()\n",
            "{'過程', '粒子衰變', '夸克', '衰變', '下夸克', '質量', '上夸克'} {'頂夸克', '重子列表', '下夸克', '底夸克', '上夸克'}\n",
            "{'皇帝', '東晉', '南北朝時代_(日本)', '南北朝_(消歧義)', '劉宋', '宋'} {'宋武帝'}\n",
            "{'手語', '學校', '英國'} set()\n",
            "{'資產', '世界', '大衛·貝克漢姆', '足球員', '價值'} set()\n",
            "{'數學', '幾何學', '大學', '文化', '中世紀', '教授', '世紀', '發展'} {'幾何學', '幾何學家列表'}\n",
            "{'學院', '劍橋', '劍橋大學'} set()\n",
            "{'臼井儀人', '蠟筆小新', '情節', '作者'} {'臼井儀人', '蠟筆小新動畫集數列表', '動感超人', '蠟筆小新角色列表', '蠟筆小新'}\n",
            "{'美國總統', '總統', '威廉·亨利·哈里森', '美國'} {'安娜·哈里遜', '1840年美國總統選舉'}\n",
            "{'世界', '植物', '小麥', '禾本科', '麥', '糧食'} {'小麥', '玉米'}\n",
            "{'成龍', '福布斯', '邁爾康·福布斯', '伯蒂·查爾斯·福布斯'} set()\n",
            "{'蟲川大杉車站', '自然紀念物', '新潟縣', '上越市'} {'蟲川大杉車站'}\n",
            "{'人類', '演化', '人屬', '動物', '人科', '假說', '猿', '人類演化', '分支', '學說'} {'人類演化歷程'}\n",
            "{'考古學', '希臘', '證明', '藝術品', '希臘神話', '神話'} {'希臘神話', '希臘神話生物列表'}\n",
            "{'醜聞', '伊拉克戰爭', '政府', '英國', '英國政府', '伊拉克', '戰爭'} {'伊拉克空軍', '伊拉克軍事', '伊拉克戰爭', '伊拉克戰爭列表'}\n",
            "{'徐有庠', '學校', '遠東集團_(臺灣)', '組織創始人'} {'徐有庠'}\n",
            "{'聖保羅書院', '男性', '香港聖公會'} {'後舍男生', '史超域', '聖保羅堂'}\n",
            "{'赤足'} set()\n",
            "{'1952年', '尤里·勃列日涅夫', '中央委員會', '政治局', '安德烈·尤里耶維奇·勃列日涅夫', '列昂尼德·勃列日涅夫'} {'朝鮮勞動黨中央委員會政治局', '維多利亞·勃列日涅娃', '蘇聯共產黨中央政治局', '安德烈·尤里耶維奇·勃列日涅夫', '列昂尼德·勃列日涅夫'}\n",
            "{'朱立倫', '蔡英文', '中國國民黨'} {'習朱會', '朱立倫', '2019年堺市長選舉', '中國國民黨主席', '朱立倫市府'}\n",
            "{'北宋', '包拯', '字', '貪污'} {'包拯', '包綬', '鄭舜臣', '包玉書'}\n",
            "{'漢初三傑', '漢', '劉邦'} {'劉肥', '蕭何', '漢初三傑', '劉邦高'}\n",
            "{'香杏麗蘑', '蒙古高原草原內蒙古草原東北草原', '地方', '龍', '杏_(演員)', '蕈類', '草原', '味覺'} {'香杏麗蘑'}\n",
            "{'沉積', '濺射', '物理氣相沉積'} {'表面改性技術', '物理氣相沉積'}\n",
            "{'地球村', '雅虎', '地球村_(消歧義)', '相關性', '名稱', '雅虎地球村'} {'雅虎相冊', '雅虎視頻', '雅虎臺灣', '雅虎空間', '雅虎地球村'}\n",
            "{'阿里山', '動物', '嘉義縣', '臺灣'} {'嘉義縣議員列表', '阿里山', '阿里山號'}\n",
            "{'印度人民黨', '綠色聯盟'} set()\n",
            "{'環氧乙烷', '身體', '化合物', '有機化合物', '氧'} {'環氧乙烷', '環氧化合物', '苯基環氧乙烷', '環硫乙烷', '過氧化酮'}\n",
            "{'家', '赤足', '習慣', '拖鞋'} set()\n",
            "{'文化中心', '賀龍', '建築學', '非洲', '賀龍體育文化中心'} {'天心閣', '賀龍事件', '賀捷生', '賀龍體育文化中心'}\n",
            "{'靈魂', '主人公', '橋', '藍橋', '魂斷藍橋'} {'魂斷藍橋', '藍橋'}\n",
            "{'世界', '泡菜', '醃', '法', '卡路里', '健康', '韓式泡菜', '問題'} {'蘿蔔泡菜', '韓式泡菜'}\n",
            "{'李賦寧', '祖籍'} {'李賦都', '李賦寧'}\n",
            "{'炔烴', '溫度', '乙炔', '烴', '苯'} {'炔烴', '苯乙炔', '乙炔', '乙炔銀', '乙炔二醇'}\n",
            "{'永琮', '乾隆', '子'} {'永琮'}\n",
            "{'作品', '皆大歡喜', '人物', '名稱', '威廉·莎士比亞', '天王星', '天衛十三', '悲劇'} {'第一對開本', '天衛九', '天衛十三', '天衛二十三', '皇家莎士比亞劇院'}\n",
            "{'數學家', '格奧爾格·康托爾', '德國'} {'康托爾函數', '格奧爾格·康托爾獎章'}\n",
            "{'印度人民黨', 'NDA'} set()\n",
            "{'伍德羅·威爾遜', '大學', '總統', '公務員', '新澤西州', '教授', '美國', '美國大學'} {'伍德羅·威爾遜國際學者中心', '伍德羅·威爾遜總統圖書館', '伊迪斯·威爾遜'}\n",
            "{'豆瓣醬', '麻婆豆腐', '豆腐', '菜系', '豆製品', '麻', '原材料', '大豆'} {'麻婆豆腐'}\n",
            "{'子房', '種子', '果實', '目標'} {'梨果', '草莓', '子房街道', '草莓屬', '蒴果'}\n",
            "{'戊戌變法', '戊', '權力', '光緒', '戊戌', '康有爲', '光緒帝', '謠言'} {'戊戌變法'}\n",
            "{'蝴蝶_(2002年電影)', '國立臺灣大學昆蟲標本館', '蝴蝶', '標本', '國立臺灣大學'} {'植物標本館', '國立臺灣大學昆蟲標本館', '植物標本館列表', '國立臺灣大學植物標本館'}\n",
            "{'中央大學', '中央大學·明星大學站', '管致中', '母校'} set()\n",
            "{'作品', '人物', '皮膚', '漫威', '勇度', '藍色'} {'勇度'}\n",
            "{'書院', '劍橋', '劍橋大學'} set()\n",
            "{'晶體學', '晶體', '衍射'} {'晶體學'}\n",
            "{'SETI@home', '食物', '程序'} {'SETI@home', '搜尋地外文明計劃'}\n",
            "{'寶麗金', '臺灣', '杭州駐防城', '劉文正', '藝人'} set()\n",
            "{'金馬獎', '最佳男主角', '演員', '喜劇電影', '黃秋生', '主人公', '香港', '金馬獎最佳男主角'} {'香港電影金像獎最佳男主角'}\n",
            "{'畢業生', '電視劇'} set()\n",
            "{'嵩山', '世界地質公園列表', '概率'} {'嵩山', '嵩山路'}\n",
            "{'名稱', '一天一點愛戀', '梁朝偉', '音樂專輯'} {'梁朝偉', '一天一點愛戀', '爲情所困', '從前…以後'}\n",
            "{'東部', '縣城', '科羅拉多州', '縣', '基奧瓦_(堪薩斯州)', '艾伯特_(科羅拉多州)', '艾伯特縣', '美國'} {'艾伯特縣'}\n",
            "{'張惠妹', '幕'} {'張惠妹音樂作品列表'}\n",
            "{'杜魯門總統解職道格拉斯·麥克阿瑟', '小亞瑟·麥克阿瑟', '道格拉斯·麥克阿瑟', '約翰·海克特·麥克阿瑟', '老亞瑟·麥克阿瑟', '西點軍校', '湯姆·麥克阿瑟', '美國'} {'小亞瑟·麥克阿瑟', '湯姆·麥克阿瑟', '麥克阿瑟堡', '李武陵'}\n",
            "{'漿果', '植物', '代表', '果實'} {'漿果', '鯔漿果吸蟲'}\n",
            "{'吉祥物', '蔡英文', '民主進步黨', '民進'} set()\n",
            "{'佛教用語列表', '六和敬', '態度'} {'六和敬'}\n",
            "{'君_(消歧義)', '孟嘗君', '爻'} set()\n",
            "{'筆名', '藤子·F·不二雄'} {'藤子不二雄Ⓐ', '大雄的平行西遊記', '藤子·F·不二雄創作', '藤子不二雄', '藤子·F·不二雄'}\n",
            "{'哈比人歷險記', '旅途·愉快', '圖書', '片段', '故事', '段落', '哈比人', '風之旅人'} {'哈比人歷險記'}\n",
            "{'卡爾·馬克思', '馬克思主義政治經濟學', '馬克思主義', '馬克思·多爾穆瓦站', '格魯喬·馬克思', '政治經濟學', '資本論', '海因裏希·馬克思'} {'河上肇', '資本論', '女人資本論'}\n",
            "{'社會規範', '人類', '社會', '規範'} {'社會建構主義'}\n",
            "{'京畿道', '大韓民國', '路口', '京畿'} {'京畿道知事', '中京畿道', '兩路口街道', '周路口街道'}\n",
            "{'春秋_(書)', '春秋', '穀梁傳'} {'春秋三傳', '公羊傳', '穀梁傳'}\n",
            "{'格奧爾格·康托爾', '廚師', '埃迪·康托爾', '食譜'} set()\n",
            "{'藥物', '溴'} set()\n",
            "{'黃大仙', '周慧敏', '周慧敏·新曲+精選', '黃大仙_(香港地方)', '黃大仙區', '歌手', '周慧敏·最愛V25', '歌手·當打之年'} {'黃大仙上邨', '周慧敏', '失物招領：周慧敏精選', '沈雁', '周慧敏音樂作品列表'}\n",
            "{'黃河', '全長', '湖北省_(中華民國)', '支流', '汾河', '山西省'} {'汾河鎮', '汾河街道', '汾河公園', '汾河片', '汾河'}\n",
            "{'西部', '北海', '土壤', '釣魚臺列嶼', '釣魚臺', '島嶼', '波濤', '陸地'} {'釣魚臺列嶼', '釣魚臺細辛'}\n",
            "{'石灰', '氧化鈣', '氫氧化鈉', '氧化鈉', '鹼石灰', '溶液'} {'石灰', '亞當斯脫羧反應', '氧化鈣', '鹼石灰'}\n",
            "{'境', '自然保護區', '中國'} {'臥龍國家級自然保護區', '中華人民共和國國家級自然保護區列表'}\n",
            "{'全國人民代表大會', '人民代表大會', '澳門', '國', '葉國華', '主席', '全國人民代表大會代表'} {'中華人民共和國香港特別行政區第十二屆全國人民代表大會代表選舉', '李成俊', '葉國華', '澳門特別行政區全國人民代表大會代表'}\n",
            "{'古希臘', '荷馬史詩', '荷馬', '希臘', '史詩', '希臘文學', '文學', '古希臘文學'} {'荷馬史詩'}\n",
            "{'葡萄', '一起_(政黨聯盟)', '花瓣', '簇'} {'葡萄', '山葡萄'}\n",
            "{'宋仁宗', '皇帝', '中國', '御座'} {'宋仁宗'}\n",
            "{'歐洲民族', '腳趾', '民族', '指', '國家', '歐洲'} set()\n",
            "{'天文學', '金星凌日'} {'2012年金星凌日', '1874年金星凌日', '金星凌日'}\n",
            "{'法國', '南部', '面', '摩納哥', '地中海'} {'摩納哥巖', '摩納哥歷史', '摩納哥'}\n",
            "{'熱帶', '熱帶海洋性氣候', '面積', '氣候', '北马里亞納羣島', '海洋性氣候'} {'.mp', '卡皮托爾希爾', '密克羅尼西亞運動會'}\n",
            "{'唐詩三百首', '李商隱', '詩人', '唐朝末年', '唐詩'} {'李商隱', '柳枝'}\n",
            "{'2006年', '國際足球聯合會', '德', '國', '德國', '國際足協世界盃'} {'國際足協U-17女子世界盃', '國際足協世界盃', '國際足協U-17世界盃', '國際足協U-20女子世界盃'}\n",
            "{'講師_(消歧義)', '管致中', '科系', '中央大學_(日本)', '土木工程', '母校'} {'南京大學工學院', '國立中央大學工學院', '管致中'}\n",
            "{'土星的衛星', '土衛十一', '土衛十', '衛星'} {'土衛四十九', '土衛一', '土衛四十一', '土衛十一', '土衛三'}\n",
            "{'歷史書', '二十四史', '史', '宋史', '元朝', '丞相', '中國', '宋'} {'宋史'}\n",
            "{'茴芹屬', '植物', '花', '茴芹', '中國', '火山'} {'茴芹屬', '溫州葡萄', '落新婦茴芹', '雲南茴芹', '木裏茴芹'}\n",
            "{'行爲', '商業'} set()\n",
            "{'共振', '軌道', '天體', '太陽系', '軌道共振'} {'軌道共振'}\n",
            "{'杜鵑科', '杜鵑', '科'} {'杜鵑科', '鴉鵑屬'}\n",
            "{'實惠', '希臘', '名稱', '木衛三十九', '傳說', '女神'} set()\n",
            "{'黃初平', '飄然臺', '白玉'} set()\n",
            "{'化學家', '獎勵', '阿爾弗雷德·諾貝爾', '化學', '遺囑', '諾貝爾獎'} set()\n",
            "{'亂世', '魏晉南北朝', '南北朝', '時代', '世界歷史', '特徵', '中國', '三國'} set()\n",
            "{'中國人民解放軍', '軍區', '中國人民解放軍武漢軍區', '大軍區'} {'中國人民解放軍武漢軍區空軍', '中國人民解放軍武漢軍區', '中國人民解放軍昆明軍區', '中國人民解放軍福州軍區', '中國人民解放軍北京軍區'}\n",
            "{'馬世莉', '兄弟姊妹', '心肌梗死'} {'馬世莉'}\n",
            "{'伊斯蘭教', '古賽爾_(敘利亞)', '古賽爾戰役', '軍事', '組織', '軍事組織', '什葉派'} {'阿富汗什葉派伊斯蘭教'}\n",
            "{'Bh_(二合字母)', 'AD', '希吉拉', 'BH', '伊斯蘭曆', '代號'} set()\n",
            "{'聖彼得堡地鐵', '聖彼得堡', '瓦西里·貝科夫號巡邏艦', '海濱站_(聖彼得堡地鐵)', '地鐵', '車站', '瓦西里島', '海濱站'} {'涅瓦-瓦西里島線', '瓦西里島站'}\n",
            "{'榮譽', '日本', '講談社·中國的歷史', '三年坂火之夢', '講談社', '推理小說'} {'三年坂火之夢', '講談社BOX'}\n",
            "{'袁隆平', '共和國勳章', '穀物', '勳章', '突破'} {'袁隆平', '小行星8117', '果靖霖'}\n",
            "{'域_(生物)', '界_(生物)', '域', '生物', '界', '法'} set()\n",
            "{'美國總統', '林肯_(消歧義)', '蓋茲堡演說', '美國曆史', '總統', '亞伯拉罕·林肯', '美國'} {'亞伯拉罕·林肯', '蓋茲堡演說', '羅伯特·託德·林肯'}\n",
            "{'銅管樂器', '古典音樂', '管樂器', '小號', '音樂', '爵士樂'} {'小號', '大號'}\n",
            "{'數學', '算法', '最短路問題', '路', '短路', '問題'} {'戴克斯特拉算法', 'Floyd-Warshall算法', '最短路問題'}\n",
            "{'穆罕默德', '伊斯蘭教', '穆罕默德·本·沙特', '古蘭經', '穆罕默德·默罕馬杜拉', '穆罕默德·阿里帕夏', '穆罕默德·本·薩勒曼'} {'斯里蘭卡伊斯蘭教', '伊斯蘭教的先知', '薩哈巴', '古蘭經', '多哥伊斯蘭教'}\n",
            "{'霸權', '路易·德·奧爾良_(1703年—1752年)', '法國', '官僚', '絕對君主制', '路易十四', '君主制', '法國大革命', '歐洲'} {'朕即國家'}\n",
            "{'雙胞胎', '英國', '威廉·莎士比亞', '導演', '兒童'} {'尼可拉斯·莎士比亞'}\n",
            "{'氧化鈣', '乙炔', '氧化', '星期三', '碳', '鈣'} {'苯乙炔', '乙炔', '乙炔二醇', '乙炔銀', '乙炔銅'}\n",
            "{'京畿道', '人口', '大韓民國', '京畿'} {'京畿道知事', '中京畿道', '京畿道'}\n",
            "{'美國陸軍參謀長', '喬治·卡特萊特·馬歇爾', '世界大戰', '美國陸軍', '第一次世界大戰', '陸軍參謀長_(印度)', '參謀長', '美國'} {'喬治·卡特萊特·馬歇爾'}\n",
            "{'賽普勒斯', '獅'} {'賽普勒斯鎊', '賽普勒斯問題', '賽普勒斯教會', '賽普勒斯'}\n",
            "{'領域', '林鈺婷', '職業'} set()\n",
            "{'20世紀', '英國皇家海軍', '胡德號戰列巡洋艦', '英國', '巡洋艦', '世紀', '胡德', '戰列巡洋艦'} {'胡德號戰列巡洋艦', '皇家海軍戰列巡洋艦列表', '獅級戰列巡洋艦', '希佩爾海軍上將級重巡洋艦'}\n",
            "{'瑤池', '名', '洞天', '洞_(小說)', '西王母'} {'瑤池'}\n",
            "{'運動_(物理學)', '占星術', '超自然現象', '天體', '體育運動', '位置', '占卜', '自然'} {'占卜'}\n",
            "{'世界', '通用電氣', '奇異', '麻薩諸塞州', '國家', '企業', '美國', '總部'} set()\n",
            "{'歷史', '月氏', '信史', '姓', '小國', '昭武九姓', '祖先', '昭武'} {'昭武九姓'}\n",
            "{'埃裏希·瑪利亞·雷馬克', '木星的衛星', '希臘', '木衛六', '衛', '木材', '女神', '希臘神話', '神話'} {'希瑪利亞', '木衛六'}\n",
            "{'總統', '大韓民國', '刑法'} {'韓國總統'}\n",
            "{'資源_(計算機科學)', '抄襲'} {'文章相似度檢測', '高雄捷運路線圖抄襲事件', '獨創性', '西南交大副校長黃慶博士論文抄襲事件'}\n",
            "{'德川家康', '軍官·情人', '軍官', '阿美族'} {'少年德川家康'}\n",
            "{'城市', '休斯敦', '南部', '人口', '休斯敦火箭', '美國', '美國南部', '本名'} {'休斯敦火箭', '休斯敦', '休斯敦縣', '休士頓火箭歷屆冠軍成員'}\n",
            "{'文化', '海', '漁船', '行政院', '海里', '蘭嶼', '外海街道', '達悟族'} {'達悟族'}\n",
            "{'體積', '泉州市'} set()\n",
            "{'矩陣', '保羅_(人名)', '理論物理學', '英國', '物理學家', '矩陣力學', '量子力學', '力學', '保羅·狄拉克'} {'路徑積分表述', '正則量子化', '路徑積分', '保羅·狄拉克'}\n",
            "{'蒙哥馬利', '公共汽車', '牧師', '浸禮宗', '路德', '美國', '馬丁·路德·金', '馬丁·路德'} {'聯合抵制蒙哥馬利公車運動'}\n",
            "{'管理學', '列夫·托洛茨基', '蘇聯紅軍', '紅軍', '蘇聯'} {'列夫·謝多夫旅', '托洛茨基主義'}\n",
            "{'非營利組織', '組織', '利潤'} {'非營利組織'}\n",
            "{'90年', '臺北', '臺北101'} {'前90年代', '90年代'}\n",
            "{'質數'} set()\n",
            "{'汽車', '指標', '汽車理論', '坡度'} {'汽車動力性'}\n",
            "{'日本', '兩人_(aiko單曲)', '鍾凱瑩', '何基佑', '配偶', '藝人', '模特兒'} {'鍾凱瑩'}\n",
            "{'牙醫學系', '臺北', '臺北醫學大學', '經營者', '李祖德'} {'李祖德'}\n",
            "{'煎餅_(日本)', '煎餅餜子', '小喫'} {'煎餅餜子'}\n",
            "{'毅進文憑', '香港神託會培敦中學', '香港都會大學李嘉誠專業進修學院'} {'社區學院', '香港都會大學李嘉誠專業進修學院'}\n",
            "{'周星馳', '九龍', '喜劇演員'} {'周星馳', '無敵幸運星', '金峻鉉'}\n",
            "{'核心', '單位', '家', '家庭', '社會', '核心家庭'} {'家庭', '美國家庭結構', '核心家庭', '大家庭'}\n",
            "{'董至成', '婚姻生活', '現實生活', '角色', '現實', '婚姻'} {'董至成'}\n",
            "{'上座部', '根本分裂', '大衆部', '佛教', '佛教歷史', '印度', '分裂', '印度佛教'} {'部派佛教', '上座部', '根本分裂', '教派分裂'}\n",
            "{'星期三', '錳酸鉀', '高錳酸鉀', '化學式'} {'高錳酸鉀', '高錳酸銀'}\n",
            "{'疾病', '形狀'} set()\n",
            "{'春秋_(書)', '春秋', '穀梁傳'} {'春秋三傳', '公羊傳', '穀梁傳'}\n",
            "{'九龍', '演員', '周星馳', '喜劇'} {'星女郎', '星輝海外有限公司', '周星馳', '新喜劇之王'}\n",
            "{'實藤惠秀', '中國', '日本人'} set()\n",
            "{'國家', '北歐', '奧斯陸'} {'奧斯陸證券交易所', '奧斯陸主教座堂', '奧斯陸地鐵', '奧斯陸加勒穆恩機場', '奧斯陸市政廳'}\n",
            "{'喬治·桑', '疾病', '喬治三世', '喬治·哈里森', '卟啉'} set()\n",
            "{'直徑', '撞擊坑', '天衛三', '量_(物理)', '隕石', '天衛四', '面_(幾何)'} {'天衛二'}\n",
            "{'硬幣', '光澤_(礦物)', '金屬', '銀', '金'} {'銀'}\n",
            "{'三省六部', '大學', '燕山_(消歧義)', '燕山大學', '面積', '省部共建', '中國'} {'燕山大學', '燕山大學科技園', '趙丁選'}\n",
            "{'白話字', '英國', '英國長老會差會', '臺南市', '馬雅各', '白話', '雅各_(西庇太的兒子)'} {'海南話白話字', '馬雅各'}\n",
            "{'訊息', '幻燈片'} set()\n",
            "{'個人', '園林', '園林設計'} set()\n",
            "{'戰爭', '東漢', '東漢末年', '三國'} set()\n",
            "{'歷史書', '日本神話', '天皇', '日本', '民俗', '天武天皇', '態度', '神話'} {'日本神話'}\n",
            "{'功夫', '許世友'} {'許家窪'}\n",
            "{'算法', '最短路問題', '路', '短路', '問題'} {'戴克斯特拉算法', 'Floyd-Warshall算法', '最短路問題'}\n",
            "{'獎勵', '普利策獎', '消防員', '金牌', '約瑟夫·普立茲', '報紙'} {'普立茲公共服務獎'}\n",
            "{'人類', '地區', '文化', '牛族', '印度憲法', '家牛', '象徵', '1949年'} {'家牛'}\n",
            "{'氣象衛星', '衛星'} {'地球觀測衛星', '風雲系列衛星', '向日葵系列衛星', '小型衛星', '氣象衛星'}\n",
            "{'世界', '西亞', '名詞', '中東', '感覺', '國際組織', '歐洲'} set()\n",
            "{'法國', '瓦西里·康定斯基', '國籍', '俄羅斯', '德國'} {'瓦西里·康定斯基'}\n",
            "{'法國', '浪漫主義文學', '文學', '作家', '雨果_(電影)', '浪漫主義', '文學史', '維克多·雨果'} {'維克多·雨果站', '維克多·雨果', '維克多·雨果博物館', '維克多·雨果故居'}\n",
            "{'汽車旅館', '馬丁·路德·金', '馬丁·路德'} {'馬丁·路德·金恩遇刺案'}\n",
            "{'人類', '英國', '獨立', '古', '1959年', '賽普勒斯', '紀元'} {'賽普勒斯鎊', '賽普勒斯問題', '賽普勒斯教會', '賽普勒斯'}\n",
            "{'昭武', '姓', '回族', '昭武九姓', '維吾爾族', '少數民族', '中國', '西北'} set()\n",
            "{'法國', '芭蕾舞', '派', '浪漫主義', '小提琴', '古典', '吉賽爾', '古典芭蕾'} {'吉賽爾', '古典芭蕾'}\n",
            "{'園林', '園林設計'} {'園林設計'}\n",
            "{'講師_(消歧義)', '管致中', '電機工程學', '科系', '中央大學_(日本)', '電機', '母校'} {'南京大學工學院', '國立中央大學工學院', '管致中'}\n",
            "{'計算機科學', '理論', '研究', '概念'} {'南京大學計算機科學與技術系', '理論計算機科學'}\n",
            "{'卡爾·馬克思', '馬克思主義政治經濟學', '馬克思主義', '馬克思·多爾穆瓦站', '格魯喬·馬克思', '政治經濟學', '資本論', '海因裏希·馬克思'} {'馬克思主義政治經濟學', '河上肇', '資本論', '女人資本論'}\n",
            "{'歷史', '奴婢', '日本', '奴隸制度', '世僕', '身分標識方式', '制度'} {'世僕'}\n",
            "{'祖父母', '大司馬', '曹鼎'} {'曹鼎'}\n",
            "{'上游', '太原市', '母親', '水源', '河', '汾河', '山西省'} {'汾河鎮', '汾河街道', '汾河公園', '汾河水庫', '汾河'}\n",
            "{'元素週期表', '位置'} {'第8週期元素', '主族元素', 'D區元素', '第1週期元素', 'F區元素'}\n",
            "{'古羅馬', '法律', '平民', '羅馬', '騎士', '羅馬元老院'} {'古羅馬'}\n",
            "{'災害', '洲', '張五常', '五常', '中國大陸', '大災難', '中國', '經濟學家'} {'張五常'}\n",
            "{'公安機關', '寧波人', '犯罪', '證券市場', '內線交易', '公安_(消歧義)', '徐翔', '徐翔_(投資家)'} {'徐翔', '道瓊斯內幕交易案'}\n",
            "{'質數', '問題'} {'哥德巴赫猜想', '2'}\n",
            "{'湖區_(乍得)', '白鵜鶘', '鵜鶘', '亞洲', '歐洲'} {'白鵜鶘', '澳洲鵜鶘', '鵜鶘', '美洲鵜鶘', '卷羽鵜鶘'}\n",
            "{'物', '語態', '鐒', '電子', '電子排布', '元素週期表', '位置'} {'鐒', 'D區元素'}\n",
            "{'神話', '埃及', '冥王', '埃及神話'} {'冥神', '冥王'}\n",
            "{'元武宗', '國公', '曲樞', '應國', '元朝', '忽必烈', '武宗', '部長'} set()\n",
            "{'中華民國國民', '國民政府', '國民黨_(南非)', '國民', '中華民國', '忠烈祠', '詞', '忠烈祠_(臺灣)'} {'中華民國國家元首列表'}\n",
            "{'職業', '藤島康介', '卡通', '藝術家', '歐洲'} {'藤島康介'}\n",
            "{'歐洲', '工藝美術', '內畫壺'} {'武昌府'}\n",
            "{'重量', 'IPod'} {'IPod'}\n",
            "{'女性', '人類'} {'女性'}\n",
            "{'方法', '新臺幣'} {'新臺幣'}\n",
            "{'德尼·狄德羅', '安託萬·德斯蒂·德·特拉西', '尼古拉·德·孔多塞', '法國', '讓雅克·盧梭', '孟德斯鳩', '伏爾泰', '啓蒙時代'} {'德尼·狄德羅', '百科全書，或科學、藝術和工藝詳解詞典', '網絡百科全書', '讓-弗朗索瓦·馬蒙泰爾', '百科全書派'}\n",
            "{'京九鐵路'} {'京九鐵路吉安贛江特大橋'}\n",
            "{'考古學', '希臘', '美學', '證據', '希臘神話', '神話'} {'希臘神話', '希臘神話生物列表'}\n",
            "{'楊虎城', '人物', '西安事變', '楊虎', '西安市'} {'兵諫亭', '楊虎城', '西安事變'}\n",
            "{'絲綢', '科學', '蜜蜂屬', '花蜜', '蠶', '利益', '昆蟲'} set()\n",
            "{'硬幣', '光澤_(礦物)', '金屬', '銀', '投資型硬幣'} {'投資型硬幣', '諾亞方舟銀幣'}\n",
            "{'金馬獎', '張學友', '笑', '音樂劇', '江湖'} {'張學友每天愛你多一些全國巡迴演唱會91', '張學友', '張學友87演唱會'}\n",
            "{'歐幾里得', '積'} {'點積', '歐幾里得空間', '正交', '希爾伯特空間', '歐幾里得距離'}\n",
            "{'面積', '愛爾蘭'} {'愛爾蘭總統'}\n",
            "{'北極殿', '臺灣明鄭時期', '臺南北極殿', '明鄭', '黑帝', '明朝'} {'臺南北極殿'}\n",
            "{'意大利', '安尼巴萊·德·加斯帕里斯', '神', '希臘', '木衛三', '天文學家', '希臘神話', '神話'} {'木衛三'}\n",
            "{'豫劇'} set()\n",
            "{'罷課', '軍政府', '路易斯·伊納西奧·盧拉·達席爾瓦', '組織', '軍政_(政體)'} set()\n",
            "{'今天', '鑽石', '物質'} {'鑽石'}\n",
            "{'鐒', '歐內斯特·勞倫斯'} {'長野健', '歐內斯特·勞倫斯'}\n",
            "{'後代', '均勻碼理事會', '目標'} {'通用產品代碼', '均勻碼理事會'}\n",
            "{'詹姆斯·克拉克·麥克斯韋', '雕塑家', '方程', '方程組', '英國', '形式', '馬克士威_(單位)', '馬克士威方程組'} {'馬克士威方程組'}\n",
            "{'城市', '奧克蘭', '新西蘭', '北島', '都市圈', '人口', '奧克蘭市', '島嶼'} {'華裔新西蘭人', '紐西蘭人口'}\n",
            "{'醋', '釀造醋', '原材料'} {'釀造醋'}\n",
            "{'月氏', '國', '姓', '小國', '隋書', '昭武九姓', '祖先', '昭武'} {'昭武九姓'}\n",
            "{'雍正', '市鎮', '基隆市'} {'基隆山', '臺灣基隆地方法院', '雞籠生'}\n",
            "{'全球', '創新', '信念', '麗臺科技', '品質'} set()\n",
            "{'帝', '明憲宗'} set()\n",
            "{'謝磷', '明朝', '考試'} set()\n",
            "{'卡爾·馬克思', '馬克思主義政治經濟學', '馬克思主義', '馬克思·多爾穆瓦站', '格魯喬·馬克思', '政治經濟學', '資本論', '海因裏希·馬克思'} {'馬克思主義政治經濟學', '河上肇', '資本論', '女人資本論'}\n",
            "{'大學', '西貢區', '清水灣半島', '新界', '香港科技大學', '清水灣', '科技大學', '香港'} {'清水灣第一灣', '香港科技大學', '清水灣半島', '清水灣'}\n",
            "{'馬援', '書信', '四方', '漢光武帝', '雞蛋', '骨骼'} {'漢光武帝'}\n",
            "{'C++', 'GCC', '系統', 'C_(音名)'} {'GCC'}\n",
            "{'女性', '臺中市', '臺中市私立曉明女子高級中學', '中學'} {'臺中市私立明德高級中學', '臺中市私立曉明女子高級中學', '臺中市立臺中女子高級中等學校'}\n",
            "{'宦官', '亂', '黃巾之亂', '外戚', '東漢', '東漢末年', '毛巾', '戰爭'} {'夏惲', '慄嵩', '何進'}\n",
            "{'蛋白質組', '時間', '即時聚合酶鏈式反應', '聚合酶鏈式反應', '基因', '蛋白質', '酶', '聚合'} {'蛋白質組', 'GeneCards', '蛋白質組學', '人類蛋白質組計劃', '人類蛋白質組組織'}\n",
            "{'土壤', '釣魚臺列嶼', '東海', '釣魚臺', '南部', '島嶼', '波濤', '陸地'} {'釣魚臺列嶼', '釣魚臺細辛'}\n",
            "{'屬地', '太平洋', '邦', '北马里亞納羣島', '美國'} {'美國非合併屬地'}\n",
            "{'龍虎綜藝王', '董至成', '角色', '妻子'} {'龍虎綜藝王', '董至成'}\n",
            "{'古希臘', '荷馬史詩', '荷馬', '希臘', '史詩', '希臘文學', '文學', '古希臘文學'} {'荷馬史詩'}\n",
            "{'桂皮', '慢性病'} set()\n",
            "{'世界最佳宜居城市', '世界', '東京', '經濟學人信息社', '報告', '智庫'} {'經濟學人信息社', '全球最昂貴城市'}\n",
            "{'琅邪王', '琅琊', '六朝', '南京市', '朝代', '東晉', '北', '戰爭', '晉元帝'} {'六朝'}\n",
            "{'Gmail'} {'Gmail'}\n",
            "{'南北朝', '梁武帝', '梁_(南朝)'} {'在位時間最短的君主列表', '在位時間最長的君主列表'}\n",
            "{'摩爾門', '科隆', '摩爾門教'} set()\n",
            "{'星座', '字母', '拜耳命名法', '希臘', '拉丁語', '約翰·拜耳', '格', '希臘字母'} {'拜耳命名法'}\n",
            "{'電子陶瓷', '材料', '電荷', '陶瓷', '電'} {'電子陶瓷', '介電陶瓷', '陶瓷基複合材料', '陶瓷'}\n",
            "{'河套', '父系制度', '氏族', '蒸汽機車', '氏_(消歧義)', '燧人氏'} {'燧人氏'}\n",
            "{'死者能舞', '年代', '音樂專輯'} set()\n",
            "{'海', '鍀', '巨星', '壽命', '同位素', '最長壽命', '紅巨星', '98'} {'鍀'}\n",
            "{'哈比人歷險記', '小說', 'J·R·R·托爾金', '民族', '前傳', '魔戒', '哈比人', '哈比'} {'袋底洞', '哈比人列表', '羅索·塞克維爾-巴金斯', '哈比人', '比爾博·巴金斯'}\n",
            "{'湯姆·漢克斯', '湯姆·班克斯', '湯姆·克魯斯', '收入', '住宅'} {'平房子鎮', '劉房子街道'}\n",
            "{'古希臘', '祭祀', '希臘', '古希臘悲劇', '酒神', '酒', '合唱', '悲劇'} {'古希臘喜劇', '赫耳墨斯和嬰兒酒神', '古希臘悲劇'}\n",
            "{'臺灣織布', '臺灣', '日治時期', '日本人'} set()\n",
            "{'軟件開發', '軟件測試', '活動', '版本控制', '系統工程'} {'版本控制軟件比較', '軟件開發', '軟件項目管理', '軟件開發工具', '軟件工程'}\n",
            "{'古羅馬', '天神', '朱庇特', '羅馬', '羅馬神話', '宇宙', '神話'} {'朱庇特', '天神町'}\n",
            "{'劉若英', '1995', '亞太影展', '1995年', '少女小漁_(電影)', '我的美麗與哀愁'} {'少女小漁劉若英的美麗與哀愁', '劉若英'}\n",
            "{'護照', '駕駛執照', '政府', '旅行證件', '中央政府'} {'護照', '旅行證件'}\n",
            "{'世界', '大衆集團', '大衆汽車', '阿勒爾河', '品牌', '處_(佛教)', '總部'} {'現代汽車集團'}\n",
            "{'素描'} set()\n",
            "{'紀念日', '維納斯', '四月', '羅馬'} {'維納斯', '四月十九'}\n",
            "{'卡爾·馬克思', '馬克思主義政治經濟學', '馬克思主義', '馬克思·多爾穆瓦站', '格魯喬·馬克思', '政治經濟學', '資本論', '海因裏希·馬克思'} {'伊拉里昂·伊格納切維奇·考夫曼', '馬克思主義政治經濟學', '河上肇', '資本論', '政治經濟學批判大綱'}\n",
            "{'印度洋'} set()\n",
            "{'災害', '批評', '張五常', '五常', '大災難', '中國', '經濟學家'} {'張五常'}\n",
            "{'大學', '日本', '動漫', '臺灣', '臺灣大學卡通漫畫研究社', '卡通', '國立臺灣大學'} {'臺灣大學卡通漫畫研究社'}\n",
            "{'城市', '全球城市', '證券交易所', '阿姆斯特丹證券交易所', '阿姆斯特丹', '總部'} {'世界證券交易所列表', '阿姆斯特丹舊證券交易所', '證券交易所', '阿姆斯特丹證券交易所', '阿姆斯特丹'}\n",
            "{'北漂', '臺北醫學大學', '經營者', '李祖德'} {'李祖德'}\n",
            "{'鳥', '鳳凰', '王', '中國'} set()\n",
            "{'石灰', '鹼石灰', '鹼', '氫氧化鈣', '溶液', '酸'} {'石灰', '石灰鋪鎮', '鹼石灰', '扁葉石灰蘚', '氫氧化鈣'}\n",
            "{'第二次鴉片戰爭', '鴉片', '第一次鴉片戰爭', '天津條約'} {'第二次鴉片戰爭', '天津條約', '第二次大沽口之戰'}\n",
            "{'鯡形目', '魚', '輻鰭魚', '綱', '輻鰭魚綱', '學名', '脊索動物', '目'} {'鯡形目', '蟾魚科', '鮭鱸目', '鯡亞目', '狗魚目'}\n",
            "{'殖民地'} set()\n",
            "{'硼'} set()\n",
            "{'百貨公司', '伊藤洋華堂', '日本百貨公司', '日本', '2005年', '子公司'} {'伊藤洋華堂', '鈴木敏文'}\n",
            "{'20世紀', '巴勃羅·畢卡索', '導演', '電影', '世紀'} {'弗洛裏安·畢卡索', '博比尼-巴勃羅·畢卡索站'}\n",
            "{'女性', '創作歌手', '日本', '山下達郎', '竹內瑪莉亞', '歌手', '歌手·當打之年'} {'山下達郎', '我們的夏日夢', '鈕大可', '一直在一起吧'}\n",
            "{'歐洲民族', '腳趾', '民族', '指', '國家', '歐洲'} set()\n",
            "{'清朝', '馬關條約', '日韓合併', '日本', '帝國', '日韓合併條約', '朝鮮', '宗主權'} {'馬關條約', '中日修好條規', '江華條約'}\n",
            "{'歐洲民族', '腳趾', '民族', '指', '國家', '歐洲'} set()\n",
            "{'烏克蘭'} set()\n",
            "{'遊輪', '遠洋定期船', '船', '客輪'} {'客輪'}\n",
            "{'柏林國際電影節', '馬純岱'} {'馬純岱'}\n",
            "{'龍', '敏迷龍屬', '恐龍', '屬'} set()\n",
            "{'演員', '中國', '謝芳'} {'謝芳'}\n",
            "{'日本', '山下達郎', '竹內瑪莉亞', '1982年', '身分標識方式', '偶像'} {'一直在一起吧', '我們的夏日夢'}\n",
            "{'小說', '童年', '查理·卓別林', '倫敦', '筆'} {'摩登時代', '悉尼·厄爾·卓別林', '小查理·卓別林', '悉尼·約翰·卓別林', '漢娜·卓別林'}\n",
            "{'方中信', '夏文汐', '電影', '名', '亦舒', '朝花夕拾'} {'朝花夕拾'}\n",
            "{'千與千尋'} set()\n",
            "{'QS世界大學排名', '愛丁堡大學', 'QS', '大學排名', '愛丁堡'} {'QS世界大學排名', 'QS', '泰晤士高等教育世界大學排名', '泰晤士高等教育-QS世界大學排名', '愛丁堡大學圖書館'}\n",
            "{'屬地', '太平洋', '邦', '塞班島', '北马里亞納羣島', '美國'} {'塞班島'}\n",
            "{'集成電路', '微處理器', '單片機'} {'嶋正利', 'SuperH', 'Rock微處理器', '單片機', '4位元'}\n",
            "{'裸子植物', '銀杏'} {'裸子植物'}\n",
            "{'洲', '南美洲', '舞曲', '北美洲', '歐陸舞曲'} {'歐陸舞曲', '亞歷山大·瓦爾澤'}\n",
            "{'臺灣團結聯盟', '劉一德', '臺灣', '政黨領袖'} {'賴振昌', '劉一德'}\n",
            "{'剛果民主共和國', '首都', '本名'} {'天主教金沙薩總教區', '剛果民主共和國', '剛果民主共和國行政區劃', '金夏沙'}\n",
            "{'機構', '串列_(抽象資料型別)', '政府', '醫院', '醫療', '香港', '香港醫院列表'} {'公立', '葛量洪醫院', '醫療機構', '法定機構', '香港醫院列表'}\n",
            "{'門', '動物分類表', '動物', '扁盤動物門'} {'副同源異形基因動物', '浮浪幼蟲樣動物', '扁盤動物門'}\n",
            "{'赤足', '人行道'} set()\n",
            "{'甜品', '鮮奶油', '冰淇淋', '奶油', '原材料'} {'奶油蛋糕', '鮮奶油', '摜奶油', '冰淇淋', '奶油'}\n",
            "{'語言', '卡拉伊姆人', '印歐語系', '歐洲民族', '羅曼語族', '民族', '突厥語族', '歐洲', '語言系屬分類'} {'歐洲語言', '歐洲民族', '波羅的語族', '安那託利亞語族', '波羅的-斯拉夫語族'}\n",
            "{'公共服務', '獎勵', '普利策獎', '服務', '金牌', '約瑟夫·普立茲'} {'普立茲公共服務獎'}\n",
            "{'氣候', '颱風'} set()\n",
            "{'領域', '人物', '杯子', '糧食', '獎盃'} set()\n",
            "{'妻子', '趙青', '趙丹'} set()\n",
            "{'丘陵', '平原', '山東省', '山東_(古代)', '淄博市', '山東丘陵', '華北平原'} {'棗莊市', '淄博市'}\n",
            "{'制約', '犬', '伊萬·巴甫洛夫', '古典制約'} {'古典制約'}\n",
            "{'性狀', '染色體'} set()\n",
            "{'鍀', '巨星', '衛星', '壽命', '同位素', '最長壽命', '紅巨星', '98'} {'鍀'}\n",
            "{'馬島長尾狸貓', '狸', '貓'} {'馬島長尾狸貓'}\n",
            "{'銀川市', '南亞', '中部'} {'南亞運動會'}\n",
            "{'球', '羅盤方位'} set()\n",
            "{'弗朗西斯科·佛朗哥', '弗朗西斯科', '國民軍_(西班牙)', '西班牙內戰', '獨裁', '內戰', '西班牙', '大元帥'} {'弗朗西斯科·佛朗哥', '西班牙共和國流亡政府'}\n",
            "{'美國', '首飛', '泰坦尼克號'} {'鐵達尼號船員列表', '南非航空航點', '不列特航空航點'}\n",
            "{'全球', '世界', '計算機協會', '學會', '電子計算機', '計算機', '科學', '今天'} {'計算機協會'}\n",
            "{'國定古蹟', '臺北賓館'} set()\n",
            "{'汞', '牙齒', '可見光', '紫外線', '銀', '熒光'} set()\n",
            "{'性別特徵', '國際LGBTI聯合會', '身體', '義務', '行爲'} set()\n",
            "{'人類', '迪亞布羅·科蒂', '新石器時代', '喬伊魯科蒂亞', '賽普勒斯', '石器時代', '石器', '年'} {'賽普勒斯問題', '賽普勒斯', '喬伊魯科蒂亞'}\n",
            "{'戊戌變法', '慈禧太后', '戊', '權力', '光緒', '帝', '戊戌', '光緒帝', '因果關係'} {'戊戌變法'}\n",
            "{'磷酸', '肌醇', '動物', '大豆'} {'肌醇三磷酸', '大豆苷', '肌醇單磷酸酶', '肌醇', '植酸'}\n",
            "{'吳天威'} {'吳天威'}\n",
            "{'搖滾', '披頭四樂隊', '曲', '頭', '化學元素', '謠曲'} set()\n",
            "{'操作系統', '數據', 'MacOS'} {'MacOS版本歷史', 'MacOS'}\n",
            "{'集成電路', '微處理器', '單片機'} {'嶋正利', 'SuperH', 'Rock微處理器', '單片機', '4位元'}\n",
            "{'教研室'} {'教研室'}\n",
            "{'長頸鹿', '90年'} {'前90年代', '90年代'}\n",
            "{'許世友', '紅軍'} {'許家窪'}\n",
            "{'步槍', '輕機槍', '士兵', '機槍', '班_(軍事)', '自動步槍', '通用機槍'} {'輕機槍', '67式通用機槍', '80式通用機槍', '88式通用機槍', '通用機槍'}\n",
            "{'弗朗西斯·科波拉', '美國風情畫', '劇本'} {'李察·德雷福斯', '美國風情畫'}\n",
            "{'卡爾·馬克思', '馬克思主義政治經濟學', '馬克思主義', '馬克思·多爾穆瓦站', '格魯喬·馬克思', '政治經濟學', '資本論', '海因裏希·馬克思'} {'馬克思主義政治經濟學', '河上肇', '資本論', '女人資本論'}\n",
            "{'貝雷特', '貝塔·雷·比爾', '兒童', '愛'} set()\n",
            "{'真核生物', '錳酸鉀', '核', '生物', '高錳酸鉀'} {'真核翻譯', '真核轉錄', '雙鞭毛生物', '已測序真核生物基因組列表'}\n",
            "{'中國', '李賦寧'} {'李賦都'}\n",
            "{'卡爾·馬克思', '馬克思主義政治經濟學', '馬克思主義', '馬克思·多爾穆瓦站', '格魯喬·馬克思', '政治經濟學', '資本論', '海因裏希·馬克思'} {'馬克思主義政治經濟學', '河上肇', '資本論', '女人資本論'}\n",
            "{'臺東飛行場', '臺東'} {'臺東飛行場'}\n",
            "{'吳天威'} {'吳天威'}\n",
            "{'臺北市立建國高級中學', '日治時期', '臺北', '名'} {'臺北州立臺北第一中學校'}\n",
            "{'室女座', '星等', 'Z', '視星等', '恆星'} set()\n",
            "{'巴哈歐拉', '以色列'} {'巴哈歐拉的使徒', '巴哈歐拉', '巴哈歐拉陵寢'}\n",
            "{'麻省理工學院', '世界大戰', '冷戰', '工程學', '科學', '技能', '應用科學', '第二次世界大戰'} {'哈佛-麻省理工醫療科技學院', '麻省理工學院理學院', '麻省理工學院工學院'}\n",
            "{'艾倫', '伍迪·艾倫'} {'六場危事'}\n",
            "{'丁丁_(丁丁歷險記)', '如今', '歐洲', '丁丁歷險記'} {'丁丁與流浪漢', '丁丁在西藏', '丁丁歷險記', '丁丁與字母藝術'}\n",
            "{'世界遺產', '大運河', '京杭大運河', '運河'} {'大運河', '京杭大運河'}\n",
            "{'加拉哈德', '耶穌', '紅葡萄酒', '亞瑟王傳說', '傳說', '亞瑟王'} set()\n",
            "{'午夜快車', '20世紀', '肯尼迪', '電影', '世紀', '奧利華·史東', '美國', '史東'} {'奧利華·史東'}\n",
            "{'圖書館', '學習', '弗里德里希·阿道夫·艾伯特', '弗里德里希·艾伯特', '艾伯特·金_(籃球運動員)', '萊比錫', '市鎮', '青少年', '勃蘭登堡_(1945年—1952年)'} {'弗里德里希·阿道夫·艾伯特'}\n",
            "{'變溫動物', '冷血', '溫', '爬行動物', '熱量', '動物', '冷血動物_(歌曲)'} {'冷血', '爬行動物', '恆溫動物'}\n",
            "{'電子科技大學', '國際組織'} set()\n",
            "{'哥本哈根', '首飛', '泰坦尼克號'} {'鐵達尼號船員列表', '南非航空航點'}\n",
            "{'進士', '中國人', '祖籍', '嘉興市', '沈鈞儒'} {'沈鈞儒'}\n",
            "{'世界', 'QS世界大學排名', '愛丁堡大學', 'QS', '大學排名', '愛丁堡'} {'卡迪夫大學', 'QS世界大學排名', 'QS', '泰晤士高等教育-QS世界大學排名', '愛丁堡大學圖書館'}\n",
            "{'兒子', '阿卜杜勒侯賽因·米爾扎·法爾曼法爾馬', '政治家'} {'阿卜杜勒-侯賽因·米爾扎·法爾曼法爾馬'}\n",
            "{'J·D·德魯', '德魯大學'} set()\n",
            "{'水溶液', '氰化鋰', '頻率', '毒性', '氰化鈉', '溶液', '氰化氫'} {'氰化鋰', '氰化鈉', '氰化鋁', '氰化鐿', '氰化氫'}\n",
            "{'公立大學', '大學', '英語', '愛丁堡大學', '蘇格蘭', '首府', '愛丁堡', '英語世界'} {'愛丁堡市政廳', '愛丁堡舊城', '愛丁堡皇家天文臺', '愛丁堡城堡', '愛丁堡大學圖書館'}\n",
            "{'宰相', '武周', '公案小說', '大理寺', '唐朝', '狄仁傑', '公案_(消歧義)', '中國'} {'狄仁傑'}\n",
            "{'立法院', '罷免', '臺灣', '中華民國', '改革', '年代', '國民議會', '中華民國國會在臺灣之全面選舉與罷免'} {'中華民國國會在臺灣之全面選舉與罷免', '寧靜革命'}\n",
            "{'古希臘', '文明', '希臘', '希臘神話', '歐洲', '神話'} {'希臘神話'}\n",
            "{'納米比亞', '本土', '獨立', '舉事', '政治家'} {'納米比亞科技大學', '納米比亞', '納米比亞，勇氣之地', '納米比亞總統'}\n",
            "{'語言', '程式', '警察局', '軟件開發'} set()\n",
            "{'$', '方法', '新臺幣', '規約符號'} set()\n",
            "{'春秋_(書)', '春秋', '穀梁傳'} {'春秋三傳', '公羊傳', '穀梁傳'}\n",
            "{'桃園市', '大學', '1997年', '綽號', '名稱', '元智大學'} set()\n",
            "{'敏迷龍屬', '甲龍科', '屬', '龍'} {'甲龍科'}\n",
            "{'兒童', '國家', '奧黛麗_(搞笑組合)', '奧黛麗·赫本', '奧黛麗·赫本演藝作品列表'} {'奧黛麗·赫本'}\n",
            "{'林肯紀念堂', '演講', '紐約', '路德', '亞伯拉罕·林肯', '馬丁·路德·金', '馬丁·路德'} {'我有一個夢想'}\n",
            "{'荷馬', '史詩', '西班牙', '荷馬史詩', '東西_(作家)', '研究'} set()\n",
            "{'中華人民共和國', '機構', '中華人民共和國勞動人事部'} {'中華人民共和國人事部', '中華人民共和國勞動和社會保障部', '何光', '中華人民共和國勞動人事部'}\n",
            "{'安德斯', '安德斯·海爾斯伯格', '微軟', '發展研究', 'TypeScript', '編譯器', '作者'} {'TypeScript', '安德斯·海爾斯伯格'}\n",
            "{'國務院', '英國', '事業單位', '網站', '新華網', '新華社'} {'新華社平壤分社', '新華社莫斯科分社', '新華社布拉格分社', '新華網', '新華社'}\n",
            "{'印度', '阿馬蒂亞·庫馬爾·森', '經濟學', '聯合國人權獎', '福利經濟學', '聯合國'} {'阿馬蒂亞·庫馬爾·森'}\n",
            "{'大韓民國', '煉武臺站', '地面車站'} {'地面車站', '我新站', '煉武臺站', '江景線'}\n",
            "{'蛋白質組', '即時聚合酶鏈式反應', '聚合酶鏈式反應', '信息', '蛋白質', '反應', '酶', '聚合'} {'蛋白質組', '蛋白質組學', '基因', '人類蛋白質組組織'}\n",
            "{'語言', '民族國家', '歐洲民族', '民族', '國家', '歐洲'} {'歐洲民族'}\n",
            "{'差異_(哲學)', '羽毛', '雉雞'} {'雉雞'}\n",
            "{'城市', '國際足球聯合會', '票', '德國', '國際足協世界盃'} {'國際足協U-17女子世界盃', '國際足協U-17世界盃', '國際足協U-20女子世界盃'}\n",
            "{'加拉哈德', '耶穌', '紅葡萄酒', '吟遊詩人', '亞瑟王傳說', '傳說', '亞瑟王'} set()\n",
            "{'分子', '氫氣'} set()\n",
            "{'南', '人類', '演化', '人屬', '假說', '人類演化', '學說'} {'人類演化', '人類演化歷程'}\n",
            "{'宗教', '信仰', '宗教哲學'} {'宗教信仰哲學', '宗教哲學', '無宗教', '中華人民共和國政府認定的邪教組織列表', '宗教學'}\n",
            "{'大佛', '樂山大佛'} {'樂山大佛'}\n",
            "{'阿爾伯特·愛因斯坦', '光', '概念', '阿爾弗雷德·諾貝爾', '物理學', '諾貝爾物理學獎', '漢斯·愛因斯坦', '光子'} {'光電效應', '光子'}\n",
            "{'流行_(音樂類型)', '梁朝偉', '流行音樂', '歌手', '音樂', '男性', '歌手·當打之年'} {'新裏宏太', '爲情所困', '從前…以後'}\n",
            "{'行政區劃', '桑比爾', '荷蘭', '2020', '舊桑比爾', '改革', '桑比爾區', '圖爾卡區', '舊桑比爾區'} {'桑比爾區', '舊桑比爾區'}\n",
            "{'提坦', '神', '妻子', '忒堤斯', '俄刻阿諾斯', '水神'} {'俄刻阿諾斯號', '忒堤斯', '俄刻阿諾斯', '俄刻阿尼得斯', '斯堤克斯'}\n",
            "{'古蹟', '中華民國外交部', '中華民國', '國定古蹟', '外交部', '南投市', '臺北賓館'} {'臺北賓館', '南投稅務出張所'}\n",
            "{'流產', '染色體', '妊娠'} {'流產', '反覆流產', '先兆流產'}\n",
            "{'印度洋', '脊柱', '動物', '棘皮動物'} {'棘皮動物', '脊柱前凸', '脊柱外科', '舒爾曼病'}\n",
            "{'種子', '今天', '果實', '目標'} set()\n",
            "{'中華民國國民', '國民政府', '國民', '政府', '中華民國', '忠烈祠', '詞', '忠烈祠_(臺灣)'} {'中華民國國家元首列表'}\n",
            "{'洲', '白鵜鶘', '鵜鶘', '亞洲', '歐洲', '非洲'} {'白鵜鶘', '澳洲鵜鶘', '鵜鶘', '美洲鵜鶘', '卷羽鵜鶘'}\n",
            "{'國立臺灣民主紀念館', '中正紀念堂'} {'國立臺灣民主紀念館', '國立中正紀念堂管理處組織條例'}\n",
            "{'雙胞胎', '演員', '英國', '威廉·莎士比亞', '兒童'} {'尼可拉斯·莎士比亞'}\n",
            "{'阿曼', '印度洋', '西亞', '邊界', '阿曼蘇丹', '西南_(索馬里聯邦成員州)'} {'阿曼', '馬斯喀特省', '阿曼駐華大使列表', '阿曼蘇丹', '阿曼首相'}\n",
            "{'城市', '東西_(作家)', '耶路撒冷'} set()\n",
            "{'語言', '標記_(程式語言)', '置標語言', 'XBRL'} {'XML', 'XBRL', '輕量級標記語言', 'XHTML', 'InkML'}\n",
            "{'米蘭達·蔻思葛芙', '若奧·米蘭達·德索薩·菲略', '米蘭達·霍布斯', '名稱', '米蘭達·蘭伯特', '米蘭達·凱爾', '胡安·米蘭達', '天衛五'} {'天衛五表面特徵列表'}\n",
            "{'山脈', '四川省', '河北省', '太行山', '中國'} {'王母宮石窟', '太行山針藺'}\n",
            "{'內衣', '透明', '神農', '軀幹'} set()\n",
            "{'縣_(中華民國)', '臺灣縣', '政府首腦', '兒玉利國'} {'兒玉利國', '臺灣縣'}\n",
            "{'高層建築物', '大波士頓', '波士頓', '美國'} {'大波士頓'}\n",
            "{'梁國雄', '陳獨秀', '國家安全法', '綽號', '中國共產黨', '越南人', '中華人民共和國香港特別行政區維護國家安全法', '越南', '長毛', '香港'} {'梁國雄'}\n",
            "{'流產', '胎兒'} {'流產', '五芳齋黴糉子事件', '死產', '反覆流產', '先兆流產'}\n",
            "{'歌手', '3T_(香港音樂組合)', '少女蝶', '鄭希怡', '香港歌手列表', '歌手·當打之年', '香港'} {'少女蝶', '鄭希怡', '劉思惠', '蔣雅文', '上海娃娃'}\n",
            "{'東南亞', '洞裏薩湖', '金邊', '淡水湖'} {'金邊鳳蝶', '金邊王宮', '金邊皇冠足球會', '金邊國際機場', '柬埔寨'}\n",
            "{'約瑟_(舊約聖經)', '約瑟的神奇彩衣', '安德魯·勞埃德·韋伯'} {'約瑟的神奇彩衣'}\n",
            "{'本雅明·斯泰拉', '教宗', '樞機', '2030年'} {'天主教波多-聖魯菲納羅馬城郊教區', '本雅明·斯泰拉', '樞機', '2030年代'}\n",
            "{'松前城', '備後國', '福山城_(備後國)', '美國軍隊', '清水'} {'備後國'}\n",
            "{'2010年臺北國際花卉博覽會', '授權', '國際園藝博覽會', '臺灣'} {'2010年臺北國際花卉博覽會', '德國聯邦園藝博覽會', '2018年臺中世界花卉博覽會', '2019年中國北京世界園藝博覽會', '2014年世界園藝博覽會'}\n",
            "{'君主', '小說', '公案小說', '範式', '大理寺', '狄仁傑', '公案_(消歧義)', '中國'} set()\n",
            "{'啓示', '穆罕默德', '書記', '穆罕默德·伊本·阿卜杜勒·瓦哈卜', '古蘭經', '伊斯蘭教的神'} {'古蘭經'}\n",
            "{'政治人物', '書記', '黨委書記', '張京澤', '世界一流大學和一流學科建設', '中央民族大學', '類', '中國'} {'全國重點大學', '世界一流大學和一流學科建設', '中央民族大學民族博物館', '張京澤'}\n",
            "{'普羅米修斯', '獨生子女'} {'普羅米修斯', '解放了的普羅米修斯', '被縛的普羅米修斯'}\n",
            "{'超人', '動作漫畫', '1938年'} {'超人', '動作漫畫'}\n",
            "{'木衛四', '夏威夷大學', '木星的衛星', '衛星', '木材', '天文學家', '木星', '衛'} {'木衛五十二', '南京大學天文與空間科學學院', '木衛五十三', '木衛五十', '北京師範大學天文系'}\n",
            "{'東部', '世界遺產', '京杭大運河', '華東地區', '大運河', '中國', '運河'} {'浙東運河', '大運河站', '京杭大運河', '大運河', '京杭運河大橋'}\n",
            "{'國家', '現在', '馬六甲海峽', '馬六甲_(消歧義)', '海峽'} set()\n",
            "{'聖地牙哥', '火箭', '休斯敦', '南部', '人口', '休斯敦火箭', '美國', '美國南部', '本名'} {'休斯敦火箭', '休斯敦縣', '休士頓火箭歷屆冠軍成員'}\n",
            "{'大學', '中國海洋大學', '教育部', '海洋大學', '政府'} {'吉林大學', '中國海洋大學', '中華人民共和國教育部直屬高等學校列表', '中國海洋大學出版社'}\n",
            "{'1970年', '中華人民共和國地質礦產部', '中華人民共和國'} {'中華人民共和國地質礦產部', '朱訓', '地質出版社'}\n",
            "{'許世友', '親屬', '紅軍'} set()\n",
            "{'詹姆斯·諾克斯·波爾克', '選舉', '班長'} set()\n",
            "{'四大名旦', '京劇四大名旦', '首部', '梅蘭芳', '京劇', '順天時報'} {'四大名旦', '京劇四大名旦'}\n",
            "{'侯孝賢', '電影節', '威尼斯', '電視劇', '事件', '威尼斯電影節', '金獅獎', '二二八事件'} {'第15屆威尼斯影展', '第9屆威尼斯影展', '第10屆威尼斯影展', '金獅獎', '威尼斯影展評審團大獎'}\n",
            "{'天文學', '天文單位', '金星', '日', '金星凌日', '天文學家'} {'黑滴現象', '1874年金星凌日', '金星凌日', '2012年金星凌日', '天文臺'}\n",
            "{'學校', '臺中市', '臺灣', '教育', '特殊教育', '臺中市立啓明學校', '后里區'} {'臺中市立后里國民中學', '臺中市立啓聰學校', '臺中市立啓明學校'}\n",
            "{'功能', '產品', '程序'} set()\n",
            "{'穆罕默德', '穆罕默德·伊本·阿卜杜勒·瓦哈卜', '晚餐', '古蘭經', '伊斯蘭教的神', '廚師'} {'古蘭經'}\n",
            "{'埃塔', '公民'} {'埃塔'}\n",
            "{'淋巴結', '淋巴結腫大'} {'前哨淋巴結', '淋巴結腫大'}\n",
            "{'商店', '蔡卓妍', '紅館', '歌手', '歌手·當打之年'} set()\n",
            "{'中正區_(臺北市)', '臺北市客家文化主題公園', '臺北市'} {'臺北市立中正國民中學', '臺北市客家文化主題公園', '臺北市中正區螢橋國民小學', '臺北市議員列表', '桃園市客家文化館'}\n",
            "{'主權國家', '路易·德·奧爾良_(1703年—1752年)', '君主', '主權', '勝利_(歌手)', '記錄', '路易十四', '神聖羅馬帝國', '國家'} set()\n",
            "{'物體', '重量', '原理'} set()\n",
            "{'北京理工大學'} {'華北理工大學'}\n",
            "{'臺北醫學大學', '經營者', '臺灣', '李祖德'} {'李祖德'}\n",
            "{'琅邪王', '琅琊', '六朝', '南京市', '東晉', '北', '戰爭', '晉元帝'} {'六朝'}\n",
            "{'網頁', '網頁瀏覽器', '網景', '網景通訊家'} {'網頁瀏覽器列表', '網景導航者', '網景', '網景通訊家', '網頁瀏覽器時間線'}\n",
            "{'世界', '果酒', '蘋果酒', '酒', '葡萄酒'} {'蘋果酒'}\n",
            "{'答案', '思想', '方法', '真相'} set()\n",
            "{'隋朝', '後_(消歧義)', '文明', '日本'} set()\n",
            "{'真空', '物理常數', '常數'} {'氣體常數', '真空磁導率', '物理常數'}\n",
            "{'錳酸鉀', '乙醇', '氧化劑', '水', '高錳酸鉀', '化學式'} {'伯醇氧化至羧酸', '高錳酸鉀', '高錳酸銀'}\n",
            "{'人類', '新石器時代', '時代', '賽普勒斯', '石器時代', '石器'} {'賽普勒斯問題', '賽普勒斯鎊', '賽普勒斯教會', '賽普勒斯'}\n",
            "{'舉事', '隋煬帝', '楊素'} set()\n",
            "{'艾略特', '查爾斯·艾略特', 'T·S·艾略特', '文學獎', '艾略特·克雷松獎章', '阿爾弗雷德·諾貝爾', '艾略特·高登索', '艾略特·內斯', '諾貝爾文學獎', '喬治·艾略特'} {'查爾斯·艾略特', 'T·S·艾略特'}\n",
            "{'中國人民解放軍', '趙守福', '上海市', '爆炸', '武將', '全國戰鬥英雄代表會議', '虎', '于化虎'} {'全國戰鬥英雄代表會議', '趙守福', '于化虎'}\n",
            "{'國立臺灣大學昆蟲標本館', '動物', '標本', '針', '國立臺灣大學'} {'植物標本館', '國立臺灣大學昆蟲標本館', '植物標本館列表', '國立臺灣大學植物標本館'}\n",
            "{'妙義山', '日本'} {'妙義荒船佐久高原國定公園'}\n",
            "{'作品', '卡爾·馬克思', '馬克思主義政治經濟學', '馬克思主義', '馬克思·多爾穆瓦站', '格魯喬·馬克思', '政治經濟學', '海因裏希·馬克思'} set()\n",
            "{'文字', '法輪功', '臺灣'} {'法輪功在臺灣'}\n",
            "{'徐太志'} {'徐太志', '徐太志和孩子們'}\n",
            "{'總理', '韓國總統', '憲法法院', '大韓民國'} {'韓國總統'}\n",
            "{'艾略特', '查爾斯·艾略特', 'T·S·艾略特', '艾略特·克雷松獎章', '阿爾弗雷德·諾貝爾', '艾略特·高登索', '艾略特·內斯', '喬治·艾略特'} {'查爾斯·艾略特', '王力語言學獎', 'T·S·艾略特'}\n",
            "{'胸圍', '乳房', '襪子'} {'胸圍', '乳房疼痛', '船襪'}\n",
            "{'艾倫', '巴黎', '動畫', '背景', '午夜巴黎', '伍迪·艾倫', '悲劇'} {'午夜巴黎', '第64屆戛納電影節'}\n",
            "{'羅', '大韓民國', '道_(行政區劃)', '首府', '全羅北道', '聯合國教育、科學及文化組織', '州'} {'聯合國教科文組織分類法', '聯合國教科文科學技術統計工作手冊的分類法', '全州市', '忠清北道', '全羅北道'}\n",
            "{'圍村', '簡炳墀', '村長', '松柏塱', '本地人', '現在', '香港', '練馬師'} {'松柏塱'}\n",
            "{'寧波人', '寧波市', '犯罪', '證券市場', '內線交易', '浙江省', '徐翔', '徐翔_(投資家)'} {'徐翔'}\n",
            "{'主權', '太平_(霹靂)', '島嶼', '太平島', '總督府'} set()\n",
            "{'茲德內克·莫拉維克', '土壤', '捷克', '天文學家'} {'小行星8573', '小行星7896', '小行星7796', '小行星8556', '小行星6801'}\n",
            "{'奧薩馬·本·拉登', '伊斯蘭教', '艾山·買合蘇木', '恐怖主義'} {'基地組織', '艾山·買合蘇木'}\n",
            "{'葡萄糖', '殼', '化合物', '體育運動', '昆蟲'} {'葡萄糖苷', '葡萄糖酸鋅'}\n",
            "{'若竹町', '第二次世界大戰', '日本', '行政區劃'} set()\n",
            "{'2002', '地區', '東帝汶'} {'東帝汶'}\n",
            "{'塘湖站', '郵政編碼', '鐵路車站'} {'塘湖站'}\n",
            "{'16世紀', '亨利八世', '蒂埃裏·亨利', '王', '世', '約瑟·亨利', '亨利', '歐·亨利'} {'英格蘭教會', '徹底的宗教改革', '英格蘭宗教改革', '波蘭宗教改革'}\n",
            "{'尤里·勃列日涅夫', '中央委員會', '政治局', '安德烈·尤里耶維奇·勃列日涅夫', '列昂尼德·勃列日涅夫'} {'列昂尼德·勃列日涅夫', '朝鮮勞動黨中央委員會政治局', '維多利亞·勃列日涅娃', '列昂尼德·勃列日涅夫所獲獎項列表', '安德烈·尤里耶維奇·勃列日涅夫'}\n",
            "{'古羅馬', '羅馬', '法律', '平民'} {'古羅馬', '羅馬騎士階級'}\n",
            "{'幻覺', '意外事故', '目標', '執法', '暗殺', '單位_(社會組織)'} set()\n",
            "{'品質', '跟蹤支援隊', '特別攻擊隊'} set()\n",
            "{'徐太志'} {'徐太志', '徐太志和孩子們'}\n",
            "{'民族', '漢族', '中國', '中國民族列表'} {'中華人民共和國未識別民族'}\n",
            "{'西亞', '中東', '亞洲', '西南'} {'西亞'}\n",
            "{'九江市', '人口', '面積'} set()\n",
            "{'靈長大目', '形狀', '目標', '兔', '兔形目', '真靈長大目', '目'} {'靈長總目', '真靈長大目', '靈長大目'}\n",
            "{'上游', '太原市', '父親', '水源', '河', '汾河', '山西省'} {'汾河鎮', '汾河街道', '汾河公園', '汾河水庫', '汾河'}\n",
            "{'伊斯蘭教', '信仰', '回族'} {'伊斯蘭教末世論', '伊斯蘭教與基督教關係', '回族', '伊斯蘭教神學'}\n",
            "{'功能', '信息', '知識', '文獻', '文'} set()\n",
            "{'領土', '國家'} {'充分必要條件', '領土糾紛', '領土'}\n",
            "{'鄱陽湖', '海南島', '今天', '中國', '淡水'} set()\n",
            "{'鳥', '杜鵑科', '杜鵑', '科'} {'杜鵑科', '鴉鵑屬'}\n",
            "{'大豆'} {'擬大豆', '大豆苷'}\n",
            "{'高雄縣', '美國'} set()\n",
            "{'黛安娜·羅', '黛安娜·羅斯', '新異教主義', '黛安娜·馬西森', '黛安娜', '黛安娜·迪莫娃', '異教', '黛安·韋斯特'} {'新異教主義'}\n",
            "{'拿破崙戰爭', '戰爭與和平', '拿破崙_(消歧義)'} {'博羅金諾戰役'}\n",
            "{'桃園市', '海'} {'四面城鎮'}\n",
            "{'主人公', '皇后', '明成皇后', '李美妍'} {'李美妍'}\n",
            "{'乙烯', '氯', '芳香烴', '烴', '苯', '苯乙烯'} {'乙酸乙烯酯', '乙烯', '二苯乙烯酮', '苯乙烯', '二乙烯酮'}\n",
            "{'水', '溫度', '硫酸'} set()\n",
            "{'蜘蛛', '蟑螂', '蜘蛛俠百戰曱甴精', '蜘蛛人', '電視劇', '精', '主人公', '菲律賓'} {'蜘蛛俠百戰曱甴精'}\n",
            "{'女兒', '元智大學', '董事長', '組織創始人'} set()\n",
            "{'生物', '化學', '鄭集', '亞洲'} {'生物化學'}\n",
            "{'阿比讓', '科特迪瓦'} {'科特迪瓦國家元首列表', '科特迪瓦'}\n",
            "{'週期', '柯伊伯帶', '傑拉德·柯伊伯', '天體'} {'柯伊伯隕石坑', '傑拉德·柯伊伯獎', '最亮柯伊伯帶天體列表'}\n",
            "{'卡爾·馬克思', '馬克思主義政治經濟學', '馬克思主義', '馬克思·多爾穆瓦站', '格魯喬·馬克思', '政治經濟學', '資本論', '海因裏希·馬克思'} {'馬克思主義政治經濟學', '河上肇', '資本論', '女人資本論'}\n",
            "{'炔烴', '三鍵', '碳', '鍵', '烴', '化合物'} {'不飽和烴', '有機化合物'}\n",
            "{'劉備', '義', '小說', '張飛', '關羽', '金蘭'} {'關羽'}\n",
            "{'乾酪', '祭品', '餅乾'} {'威爾士乾酪'}\n",
            "{'人類發展指數', '南部', '馬爾代夫', '亞洲'} {'馬爾地夫拉菲亞', '馬爾地夫國家男子籃球隊'}\n",
            "{'兄弟姊妹', '歌手', '齊秦', '歌手·當打之年', '齊豫'} {'齊豫'}\n",
            "{'功能', '信息', '知識', '文獻', '文'} {'文獻'}\n",
            "{'荷馬', '民俗學', '民俗', '史詩', '荷馬史詩', '東西_(作家)', '研究'} set()\n",
            "{'明朝', '賈繼之', '朝廷'} {'賈繼之'}\n",
            "{'肇慶市', '梅庵_(肇慶)'} {'香港都會大學（肇慶）'}\n",
            "{'桂皮', '糖尿病'} {'抗糖尿病藥'}\n",
            "{'若竹町', '日本', '若竹町_(臺南市)', '行政區劃', '世界大戰', '第二次世界大戰'} {'伏見町', '青葉町', '汐見町'}\n",
            "{'妙義山', '菲律賓'} set()\n",
            "{'塔里木盆地', '盆地', '塔里木', '支流', '汾河', '山西省'} {'汾河鎮', '汾河街道', '汾河公園', '汾河片', '汾河'}\n",
            "{'暗殺', '目標'} set()\n",
            "{'古', '文獻'} set()\n",
            "{'極光', '磁暴', '音階'} {'極光', '磁暴', '1989年3月磁暴'}\n",
            "{'世界', '入侵物種', '世界百大外來入侵種', '貓', '物種', '生命'} {'貓'}\n",
            "{'鳥', '骨鰾類', '寄生', '生活'} {'骨鰾類'}\n",
            "{'城市', '聖彼得堡', '俄羅斯', '世界人口', '人口'} set()\n",
            "{'論文', '文森特·梵高'} set()\n",
            "{'春秋_(書)', '春秋', '穀梁傳'} {'春秋三傳', '公羊傳', '穀梁傳'}\n",
            "{'死者能舞', '杭州駐防城', '澳大利亞', '英國'} set()\n",
            "{'總統', '墨西哥總統', '墨西哥', '貝尼託·胡亞雷斯', '唐玄宗'} {'法國武裝干涉墨西哥', '貝尼託·胡亞雷斯'}\n",
            "{'天文觀測', '臺灣', '臺灣天文觀測'} {'天文學', '天文觀測', '天文航海', '臺灣天文觀測', '天文臺'}\n",
            "{'很久', '人類', '英國', '獨立', '古', '1959年', '賽普勒斯', '久'} {'賽普勒斯問題', '賽普勒斯鎊', '賽普勒斯教會', '賽普勒斯'}\n",
            "{'1909年', '臺灣時報'} {'看守臺灣協會'}\n",
            "{'春秋_(書)', '春秋', '穀梁傳'} {'春秋三傳', '公羊傳', '穀梁傳'}\n",
            "{'食物', '原雞', '蛋白質', '原雞屬', '雞'} {'雞'}\n",
            "{'人民', '艾根訴加拿大案', '案', '各地LGBT權利', '奧林·艾根', '同性戀', '加拿大', '曼弗雷德·艾根'} set()\n",
            "{'贅生物', '哈比人歷險記', '章節', '圖書', '片段', '征途', '故事', '哈比人'} {'哈比人歷險記'}\n",
            "{'宗教', '宗教哲學'} {'宗教學', '宗教信仰哲學', '世界主要宗教', '宗教哲學'}\n",
            "{'金屬', '元素週期表', '化學元素'} {'第5週期元素'}\n",
            "{'塘湖站', '郵政編碼', '鐵路車站', '山東省'} {'塘湖站'}\n",
            "{'客家民系', '林鈺婷'} {'林鈺婷'}\n",
            "{'劍橋大學', '盧卡斯數學教授席位', '理論物理學', '英國', '物理學家', '劍橋', '保羅·狄拉克', '盧卡斯'} {'保羅·狄拉克'}\n",
            "{'蛇', '二胡'} set()\n",
            "{'普利策獎'} {'蔣中正遺囑', '普利策國際報道獎', '普利策歷史獎', '普利策戲劇獎'}\n",
            "{'臺中市', '站', '市政府站_(臺北市)'} set()\n",
            "{'歷史書', '指南車', '王天木'} {'王天木'}\n",
            "{'政治', '山東省_(中華民國)', '山東省', '宋潢_(嘉慶壬戌進士)', '星海', '字'} {'星海生活廣場', '星海街道'}\n",
            "{'嵩山', '地質公園', '中國'} {'嵩山', '泰寧世界地質公園', '安徽省風景名勝區列表', '中華人民共和國國家級風景名勝區', '地質公園'}\n",
            "{'索馬里蘭', '旗幟', '清真言', '索馬利蘭國', '言', '海陸', '國旗', '索馬利蘭國旗'} {'索馬利蘭國旗'}\n",
            "{'行政機關', '政府首腦', '立法機關', '總統', '祕魯', '總統制'} {'總統制'}\n",
            "{'新北市區公車790路線', '公車', '金山', '班距', '新北市', '竹圍_(桃園市)', '竹圍漁港', '基隆市'} {'新北市區公車790路線'}\n",
            "{'形上學'} {'形上學', '形上學大綱'}\n",
            "{'世界', '愛丁堡大學', '排名', '大學排名', '愛丁堡'} {'QS世界大學排名'}\n",
            "{'江景線', '煉武臺站', '地面車站'} {'1958年', '江景站', '地面車站', '煉武臺站', '彩雲信號場'}\n",
            "{'莫斯科大劇院', '天鵝湖', '劇場', '芭蕾舞', '莫斯科'} {'天鵝湖'}\n",
            "{'穆罕默德', '伊斯蘭教', '穆罕默德·本·沙特', '古蘭經', '穆罕默德·默罕馬杜拉', '穆罕默德·阿里帕夏', '穆罕默德·本·薩勒曼'} {'斯里蘭卡伊斯蘭教', '伊斯蘭教的先知', '薩哈巴', '古蘭經', '多哥伊斯蘭教'}\n",
            "{'弗朗西斯·科波拉', '續集', '教父'} set()\n",
            "{'法案', '交易', '象', '動物', '西奧多·羅斯福', '政策', '公平交易', '羅斯福'} {'厚皮動物', '西奧多·羅斯福第二次總統就職典禮', '西奧多·羅斯福', '西奧多·羅斯福三世', '老西奧多·羅斯福'}\n",
            "{'殖民地', '英國', '婆羅洲', '國家', '汶萊', '東南亞'} {'英屬婆羅洲'}\n",
            "{'歐洲民族', '腳趾', '民族', '指', '國家', '歐洲'} set()\n",
            "{'臺北市_(省轄市)', '籍', '臺北市議員列表', '民國', '身分標識方式', '謝長廷', '中國', '中國國民黨'} {'臺北市議員列表'}\n",
            "{'意外事故', '航空', '航空器', '效率', '交通管制', '航空管制員', '陸地', '航空交通管制'} {'航空交通管制部', '航空交通管制'}\n",
            "{'大波士頓', '波士頓'} {'大波士頓', '波士頓'}\n",
            "{'女性', '吳健雄', '女王', '華僑華人', '物理學家', '核子', '美國物理學會'} {'吳健雄', '葉軍', '沈呂九', '小行星2752'}\n",
            "{'賽博格', '再造人卡辛', '子', '龍', '龍之子製作'} set()\n",
            "{'2010年臺北國際花卉博覽會'} {'舞蝶館', '流行館', '2010年臺北國際花卉博覽會', '美術公園', '新生公園'}\n",
            "{'植物', '界_(生物)', '動物', '細菌', '真菌', '生物', '界', '獨立', '染色體'} {'真菌分類表'}\n",
            "{'人類', '果酒', '果實', '酒', '原材料'} {'蘋果酒', '大果酒餅簕'}\n",
            "{'音樂節目', '香港電臺', '編劇', '香港', '陳韻文'} {'香港商業電臺節目列表'}\n",
            "{'虛擬現實', '實踐大學設計學院', '國立臺灣大學綜合教學館', '資訊共享空間', '獅子會中學', 'Inferno (網站服務)', 'KDE Plasma 4', '遙距教育', '硬件虛擬化', '虛擬社區列表'} set()\n",
            "{'尤里·安德羅波夫', '腎_(臟腑)', '腎功能', '腎功能衰竭'} set()\n",
            "{'神', '經濟', '彌勒菩薩', '佛', '路', '一貫道', '路中一', '無生老母'} {'無生老母'}\n",
            "{'鄉試', '葉巒'} {'葉巒'}\n",
            "{'百合_(消歧義)', '海百合', '海', '氣門', '軟體動物', '始海百合', '百合屬'} set()\n",
            "{'木星'} set()\n",
            "{'商店', '買', '代表', '象徵', '長頸鹿', '全買'} {'全買'}\n",
            "{'貝雷特', '貝塔·雷·比爾', '財富'} set()\n",
            "{'學校', '中部', '臺灣', '教育', '特殊教育', '臺中市立啓明學校', '中臺灣', '臺中市'} {'臺北市立啓明學校', '臺中市立啓聰學校', '臺中市立啓明學校'}\n",
            "{'國立臺灣科技大學研揚大樓', '科技大學_(臺灣學制)', '國立臺灣科技大學'} {'國立臺灣科技大學校史室', '國立臺灣科技大學研揚大樓', '國立臺灣科技大學管理研究所'}\n",
            "{'證明完畢', '證明'} {'證明完畢'}\n",
            "{'線上學習', '教學研究', '模式'} {'虛擬教研中心', '教學研究'}\n",
            "{'橘', '壬醇', '液體', '碳', '脂肪醇', '正壬醇'} {'壬醇', '脂肪醇', '正癸醇', '正壬醇', '1-辛醇'}\n",
            "{'城市', '花旗銀行', '蔬果', '美國', '總部'} {'蔬果', '花旗銀行', '花旗（臺灣）商業銀行', '花旗銀行（中國）'}\n",
            "{'山下智久', '竹內瑪莉亞', '女性'} {'山下達郎'}\n",
            "{'地區', '明報', '東區', '香港島', '東區_(香港)', '金庸', '作家', '香港'} {'世界華文媒體', '明報'}\n",
            "{'編程語言', '英語', '香港大學'} {'香港語文', '第四代程式語言', '程式語言歷史'}\n",
            "{'艾倫', '伍迪·艾倫'} set()\n",
            "{'全球', '世界', '計算機協會', '學會', '電子計算機', '計算機', '現在', '科學'} {'計算機協會'}\n",
            "{'塘湖站', '郵政編碼', '鐵路車站', '濟寧市'} {'塘湖站'}\n",
            "{'1945年', '總統', '富蘭克林·德拉諾·羅斯福', '德國'} {'小富蘭克林·德拉諾·羅斯福', '羅斯福家族', '未完成的羅斯福肖像', '埃莉諾·羅斯福', '羅斯福大學'}\n",
            "{'地方政府', '大韓民國'} {'韓國行政區劃', '2014年大韓民國地方選舉', '2010年大韓民國地方選舉'}\n",
            "{'昭武', '胡', '姓', '回族', '昭武九姓', '維吾爾族', '中國'} {'昭武九姓'}\n",
            "{'團隊'} {'微軟工程團隊'}\n",
            "{'春秋_(書)', '春秋', '穀梁傳'} {'春秋三傳', '公羊傳', '穀梁傳'}\n",
            "{'北平_(消歧義)', '北京市', '西方', '歧義', '北平市'} {'北平淪陷', '國立北平大學', '國立北平研究院', '北平王', '北平臨時大學'}\n",
            "{'馬丁·路德', '醫院', '馬丁·路德·金', '孟菲斯_(田納西州)'} {'馬丁·路德·金恩遇刺案', '孟菲斯大學', '聯邦快遞705號班機劫機事件'}\n",
            "{'城市', '花旗銀行', '美國人口', '人口', '美國', '總部'} {'花旗銀行', '花旗（臺灣）商業銀行', '花旗銀行（中國）', '花旗'}\n",
            "{'金屬', '化學元素'} set()\n",
            "{'大佛', '90年', '唐朝', '樂山大佛'} {'樂山大佛'}\n",
            "{'土地銀行', '臺灣土地銀行', '臺灣'} set()\n",
            "{'火衛二', '火星', '衛星'} {'火星日食', '火衛二', '火星的衛星'}\n",
            "{'墨家', '邏輯', '代表'} {'墨家'}\n",
            "{'作品', '印象派', '20世紀', '表現主義', '詞_(文學)', '商人', '詞', '世紀'} {'表現主義', '那比派'}\n",
            "{'今天', '鑽石', '美度'} {'祖母綠', '鑽石', '美度'}\n",
            "{'亞當·列維', '亞當', '亞當·魏薩普', '亞當·溫賴特', '亞當·斯密', '平特爾·亞當', '聖經', '芬妮·亞當'} {'命令'}\n",
            "{'理論', '名稱', '語態'} set()\n",
            "{'上座部', '大衆部', '佛教', '佛教歷史', '印度', '分裂', '教派', '印度佛教'} {'部派佛教', '上座部', '根本分裂'}\n",
            "{'南京大學', '南京大學附屬中學', '中學', '江西省'} {'南京大學附屬中學', '南京航空航天大學附屬高級中學', '南京大學政府管理學院', '師範大學附屬中學列表', '南京師範大學附屬中學'}\n",
            "{'卡爾·馬克思', '馬克思主義政治經濟學', '馬克思主義', '馬克思·多爾穆瓦站', '格魯喬·馬克思', '政治經濟學', '資本論', '海因裏希·馬克思'} {'馬克思主義政治經濟學', '河上肇', '資本論', '女人資本論'}\n",
            "{'分析', '污染物', '監測', '污染', '環境監測'} {'上海市環境監測中心', '環境監測', '地球觀測衛星'}\n",
            "{'臺中_(大字)', '臺中市', '臺中市立臺中女子高級中等學校'} {'臺中市私立明德高級中學', '臺中市議會', '臺中市私立曉明女子高級中學', '臺中市立臺中女子高級中等學校'}\n",
            "{'哲學', '西方哲學', '伯特蘭·羅素', '劍橋大學', '西方哲學史', '劍橋', '教授', '哲學史'} set()\n",
            "{'提比略·克勞狄烏斯·尼祿', '蓋烏斯·屋大維', '御座', '提比略·格拉古', '奧古斯都', '提貝里烏斯'} set()\n",
            "{'女性', '夫人', '婚姻'} {'夫人', '冼夫人'}\n",
            "{'世紀', '數'} set()\n",
            "{'議會', '機構', '國家'} {'臺中市議會', '伊斯蘭議會', '國家安全機關', '各國立法機關列表', '臺北市議會'}\n",
            "{'鯡形目', '魚', '輻鰭魚', '綱', '輻鰭魚綱', '學名', '脊索動物', '目'} {'鮭鱸目', '鯡形目', '鯡亞目', '狗魚目'}\n",
            "{'古希臘', '祭祀', '希臘', '舞蹈', '古希臘悲劇', '酒', '合唱', '悲劇'} {'古希臘喜劇', '古希臘悲劇', '狄俄倪索斯'}\n",
            "{'醫學院', '普拉桑塔·帕坦尼克', '哈佛大學', '博士', '教授'} {'普拉桑塔·帕坦尼克'}\n",
            "{'特倫甘納邦', '鐵路列車', '阿馬拉瓦蒂', '海得拉巴', '總站', '海得拉巴_(印度)'} set()\n",
            "{'馬世莉', '兄弟姊妹'} {'馬世莉'}\n",
            "{'聖保羅書院', '學生', '香港聖公會'} {'史超域', '香港聖公會澳門傳道地區', '聖保羅堂', '符潤光'}\n",
            "{'家庭', '成功', '威廉·薩默塞特·毛姆', '小說'} {'威廉·薩默塞特·毛姆', '人性的枷鎖', '情天恨海', '毛姆文學獎', '月亮和六便士'}\n",
            "{'東方哲學史', '伯特蘭·羅素', '羅素', '劍橋大學', '劍橋', '教授', '哲學史', '東方哲學'} set()\n",
            "{'慕容復', '金庸', '圖書', '燕國', '武俠小說', '反派角色', '悲劇', '武俠'} {'笑傲江湖角色列表', '慕容復', '康敏', '射鵰英雄傳角色列表'}\n",
            "{'民主進步黨', '黨', '民進', '謝長廷'} {'謝長廷內閣', '民進', '謝長廷'}\n",
            "{'庶吉士', '工程師', '翰林院', 'Google', '蔡元培', '元培'} {'庶吉士'}\n",
            "{'中華民國國民', '國民政府', '中華民國', '軍事', '忠烈祠', '詞', '中國國民黨', '忠烈祠_(臺灣)'} set()\n",
            "{'胸圍', '胸', '乳房', '胸罩'} {'罩杯', '胸圍', '胸罩', '運動胸罩', '男士胸罩'}\n",
            "{'百科全書', '維基百科', '維基'} {'中文維基百科', '韓語維基百科', '維基百科標誌', '英語維基百科', '法語維基百科'}\n",
            "{'遜尼派', '伊斯蘭教', '古賽爾_(敘利亞)', '古賽爾戰役', '軍事', '組織', '軍事組織'} set()\n",
            "{'若瑟·蘇格拉底', '作品', '蘇格拉底', '學生', '柏拉圖', '蘇格拉底·布拉濟萊羅·奧利維拉'} set()\n",
            "{'趙', '漢趙', '政權', '國號', '君主制', '劉淵'} {'河瑞', '劉淵'}\n",
            "{'中正區_(臺北市)', '西門站_(臺北捷運)', '車站', '萬華區', '西門站'} {'臺北市萬華區新和國民小學', '西門地下街'}\n",
            "{'女媧', '山西省_(中華民國)', '山脈', '河北省', '太行山', '中國'} {'太行山針藺'}\n",
            "{'地區', '東帝汶'} {'1991年阿塞拜疆獨立公投', '2006年黑山獨立公投', '東帝汶'}\n",
            "{'演員', '英國君主', '女王', '伊麗莎白二世', '英國', '奧斯卡最佳男配角獎', '皮特·烏斯蒂諾夫', '奧斯卡'} {'皮特·烏斯蒂諾夫'}\n",
            "{'聖誕節', '教會學校', '行憲', '行憲紀念日'} {'行憲紀念日'}\n",
            "{'黃鈴馨', '龍生九子', '狻猊', '子', '龍', '獅', '文獻', '中國'} {'狻猊'}\n",
            "{'地形', '法國', '張谷英村', '排水', '佈局_(圍棋)', '張谷英', '語氣'} {'張谷英村', '張谷英'}\n",
            "{'茲德內克·莫拉維克', '捷克', '行星'} {'小行星8573', '小行星7896', '小行星7796', '小行星8556', '小行星6801'}\n",
            "{'歐洲民族', '腳趾', '民族', '指', '國家', '歐洲'} set()\n",
            "{'神', '路', '一貫道', '路中一', '觀世音菩薩', '無生老母'} {'無生老母'}\n",
            "{'地勢', '京杭大運河', '嘉興市', '運河'} set()\n",
            "{'百合_(消歧義)', '海百合', '海', '棘皮動物', '始海百合', '百合屬'} {'海百合亞門', '擬海百合', '始海百合', '海百合'}\n",
            "{'高度', '海', '大西洋', '英國', '無人島', '加布艾萊西島', '島嶼', '海拔'} {'加布艾萊西島', '杜布莫爾島'}\n",
            "{'城市規劃', '龍頭', '首部'} set()\n",
            "{'動能', '燃燒', '介質', '內燃機'} set()\n",
            "{'文化中心', '劇場', '澳門特別行政區政府', '澳門文化中心'} {'澳門2016年度頒授勳章、獎章和獎狀名單', '澳門2018年度頒授勳章、獎章和獎狀名單', '澳門2011年度頒授勳章、獎章和獎狀名單', '澳門2013年度頒授勳章、獎章和獎狀名單', '澳門2010年度頒授勳章、獎章和獎狀名單'}\n",
            "{'小時', '震盪波蠕蟲', '清潔', '德國', '少年'} set()\n",
            "{'石灰', '氫氧化鈉', '氧化鈉', '鹼石灰', '鹼', '氫氧化鈣', '溶液'} {'石灰', '拜耳法', '亞當斯脫羧反應', '鹼石灰', '氫氧化鈣'}\n",
            "{'徵夷大將軍', '德川家康', '後陽成天皇', '大將軍_(東亞)', '陽成天皇', '詔令文書', '夷', '慶長'} {'慶長', '德川家康'}\n",
            "{'橘', '壬醇', '香茅', '液體', '碳', '鏈', '脂肪醇', '正壬醇'} {'壬醇', '脂肪醇', '正癸醇', '正壬醇', '1-辛醇'}\n",
            "{'江蘇省', '江蘇省_(中華民國)', '長江', '潤州_(隋朝)', '古', '南部', '鎮江市', '京口區', '地級市', '市'} {'潤州區', '鎮江古城牆遺址', '鎮江市', '京口區', '江蘇省鎮江第一中學'}\n",
            "{'城市', '世界', '國內', '冰島', '首都'} {'中國首都', '雷克雅維克', '冰島國立博物館', '冰島歷史'}\n",
            "{'數學', '離散', '算法', '問題', '最短路問題', '短路', '離散數學'} {'戴克斯特拉算法', 'Floyd-Warshall算法', '最短路問題', '離散數學'}\n",
            "{'蟲川大杉車站', '上越市', '自然紀念物', '國家', '新潟縣'} {'臺灣史跡名勝天然紀念物', '蟲川大杉車站'}\n",
            "{'臺北市', '臺北市私立道明外僑學校', '中學', '原住民'} {'臺北市私立立人高級中學', '臺北市私立東山高級中學', '臺北市私立道明外僑學校'}\n",
            "{'紐約', '首飛', '泰坦尼克號'} {'鐵達尼號船員列表'}\n",
            "{'鹿兒島縣', '牡丹', '總統', '明治', '兒玉利國', '牡丹社'} {'兒玉利國'}\n",
            "{'綠色', '鳥', '鸚形目', '蕉鵑', '冠蕉鵑'} {'白梢冠蕉鵑', '冠蕉鵑'}\n",
            "{'氏', '神農', '傳說', '先秦', '文字'} {'神農'}\n",
            "{'劉若英', '1995', '亞太影展', '1995年', '少女小漁_(電影)', '我的美麗與哀愁'} {'少女小漁劉若英的美麗與哀愁', '劉若英'}\n",
            "{'張谷英村', '張谷英', '村莊'} {'張谷英'}\n",
            "{'科隆', '教會'} {'臺灣文化活動列表'}\n",
            "{'毒魚豆', '東', '原住民', '魚'} {'毒魚豆'}\n",
            "{'操作系統', '數據', 'MacOS'} {'MacOS版本歷史', 'MacOS'}\n",
            "{'市_(中華民國)', '新竹市_(州轄市)', '丘陵', '土地', '臺灣', '丘', '市', '新北市', '新竹市'} set()\n",
            "{'市_(中華民國)', '丘陵', '東北部_(越南)', '臺灣', '氣候', '市', '雨', '東北', '基隆市'} {'基隆市'}\n",
            "{'貝雷特', '情感', '貝塔·雷·比爾'} set()\n",
            "{'阿馬蒂亞·庫馬爾·森', '福利經濟學', '諾貝爾獎', '經濟學'} {'阿馬蒂亞·庫馬爾·森'}\n",
            "{'美國人', '定義', '亞裔美國人', '美國'} {'亞裔美國人', '日裔美國人'}\n",
            "{'不可否認', '工程', '中國', '價值'} set()\n",
            "{'球', '羅盤方位'} set()\n",
            "{'門票', '千與千尋', '收入'} set()\n",
            "{'中華人民共和國', '中華人民共和國勞動人事部', '單位_(社會組織)'} {'中華人民共和國人事部', '中華人民共和國勞動和社會保障部', '何光', '中華人民共和國勞動人事部'}\n",
            "{'世界', '島嶼國家', '島嶼'} set()\n",
            "{'金屬', '元素週期表'} {'主族元素', 'D區元素', '11族元素', 'F區元素', '金屬'}\n",
            "{'許世友', '中國', '農村'} {'許家窪'}\n",
            "{'教育家', '死亡', '慢性病', '李賦寧', '中國'} {'李賦寧'}\n",
            "{'藥學', '排卵'} {'月經失調', '避孕貼', '排卵試紙'}\n",
            "{'軌道', '行星', '太陽', '軌道_(力學)', '小行星'} set()\n",
            "{'春秋_(書)', '春秋', '穀梁傳'} {'春秋三傳', '公羊傳', '穀梁傳'}\n",
            "{'軒轅', '黃帝', '嫘祖', '子', '傳說_(2010年電視劇)', '帝', '傳說', '元妃', '昌意'} {'嫘祖', '昌意', '嚳'}\n",
            "{'全球', '世界', '計算機協會', '學會', '電子計算機', '計算機', '現在', '科學'} {'計算機協會'}\n",
            "{'銀川市', '銀川平原', '西部'} {'銀川市', '賀蘭縣', '銀川專區', '銀川平原'}\n",
            "{'世紀', '拿督', '詞', '稱謂'} set()\n",
            "{'植物', '界_(生物)', '細菌', '真菌', '生物', '生物分類學'} {'舊熱帶植物界'}\n",
            "{'史前時代', '石器時代', '石器', '人類'} {'中國史前文化', '打製石器', '磨製石器', '石器', '中國中石器文化列表'}\n",
            "{'行', '名稱', '釋一行', '禪師', '一行'} {'慧忠禪師', '釋真空', '一行'}\n",
            "{'歐洲民族', '腳趾', '民族', '指', '國家', '歐洲'} set()\n",
            "{'北平_(消歧義)', '南京市', '北', '歧義', '北平市'} {'北平淪陷', '國立北平大學', '國立北平研究院', '北平王', '北平臨時大學'}\n",
            "{'20世紀', '納米比亞', '本土', '獨立', '孕婦', '世紀'} {'納米比亞科技大學', '納米比亞，勇氣之地', '納米比亞', '納米比亞總統'}\n",
            "{'藥物', '身體質量指數', '疾病', '藥理學', '精神狀態', '精神', '物質'} {'藥物'}\n",
            "{'如今', '丁丁歷險記', '埃爾熱', '丁丁_(丁丁歷險記)', '歐洲'} {'丁丁與字母藝術', '張充仁', '丁丁在西藏', '丁丁與流浪漢', '卡爾庫魯斯案件'}\n",
            "{'焦點', '城市', '海港', '民族', '波蘭', '格但斯克', '岸'} {'格但斯克'}\n",
            "{'路易·德·奧爾良_(1703年—1752年)', '建築施工', '王國', '路易十四', '法蘭西王國', '量_(物理)', '盧福瓦侯爵', '陸軍', '陸'} {'路易十四'}\n",
            "{'綱', '輻鰭魚', '生物分類法', '輻鰭魚綱'} {'海防鰍'}\n",
            "{'臺北市', '城'} {'臺北市議員列表'}\n",
            "{'北非', '半總統制', '剛果民主共和國', '馬格里布', '共和制', '陸地', '非洲', '總統制'} set()\n",
            "{'富士', '貴之富士三造', '血親', '身', '越南'} set()\n",
            "{'作品', '藤子·F·不二雄', '日本'} {'桃太郎', '藤子不二雄Ⓐ', '大雄的平行西遊記', '藤子·F·不二雄創作', '藤子不二雄'}\n",
            "{'企業', '決策', '工具', 'BI'} set()\n",
            "{'基督教', '牧師', '路德', '體育運動', '美國', '馬丁·路德·金', '馬丁·路德'} {'聯合抵制蒙哥馬利公車運動'}\n",
            "{'作品', '歌手', '鄭希怡', '3T', '香港歌手列表', '歌手·當打之年', '香港', 'T'} {'重案黐孖GUN', '上海娃娃', '少女蝶'}\n",
            "{'漫畫雜誌', '天使怪盜', '漫畫', '杉崎由綺琉'} {'天使怪盜', '杉崎由綺琉', '封魔少年焰&陣', '月刊Asuka', '炸彈小新娘'}\n",
            "{'洲', '差異_(哲學)', '語言', '雉雞'} {'雉雞'}\n",
            "{'國立臺灣科技大學研揚大樓', '科技大學_(臺灣學制)', '公館_(臺北市)', '國立臺灣科技大學'} {'國立臺灣科技大學校史室', '國立臺灣科技大學研揚大樓', '國立臺灣科技大學管理研究所'}\n",
            "{'沙丁魚', '物種'} set()\n",
            "{'子房', '種子', '果實', '目標'} {'梨果', '草莓', '子房街道', '瘦果', '蒴果'}\n",
            "{'蘇格拉底', '若瑟·蘇格拉底', '對話', '蘇格拉底·布拉濟萊羅·奧利維拉'} {'蘇格拉底'}\n",
            "{'隋煬帝', '隋文帝'} {'遣隋使'}\n",
            "{'張惠妹', '卑南族', '漢名', '名_(人名)', '歌手', '滾石_(雜誌)', '歌手·當打之年', '2021'} {'張惠妹音樂作品列表'}\n",
            "{'淄博市', '平原', '山東省'} {'淄博市'}\n",
            "{'阿爾·戈爾', '牧場', '美國'} set()\n",
            "{'臺灣總督府民政部', '臺灣總督府', '民政部', '臺灣', '總督府'} {'臺灣總督府醫學校', '臺灣總督府', '臺灣總督府民政部', '民政部', '臺灣總督府評議會'}\n",
            "{'馬爾切洛·馬爾皮吉', '解剖學', '馬氏管', '名稱', '西班牙'} set()\n",
            "{'法國', '瓦西里·康定斯基', '1928年', '俄羅斯', '國籍', '德國'} {'瓦西里·康定斯基'}\n",
            "{'動能', '介質', '電子', '內燃機'} set()\n",
            "{'藥', '人類', '藥物', '食物'} {'藥', '藥物', '藥物相互作用'}\n",
            "{'城市', '新西蘭', '人種', '首都', '惠靈頓', '大洋洲'} {'惠靈頓'}\n",
            "set() set()\n",
            "{'角色', '正能量', '艾倫', '伍迪·艾倫'} set()\n",
            "{'語言', '丹麥語', '民族', '語言學家列表', '諾維亞語', '語言學', '丹麥'} {'諾維亞語'}\n",
            "{'競爭力', '市場'} {'全球競爭力報告'}\n",
            "{'汽車', '指標', '坡度', '速度', '汽車理論'} {'汽車動力性'}\n",
            "{'順天時報', '梅蘭芳', '京劇四大名旦'} {'四大名旦', '梅蘭芳', '京劇四大名旦'}\n",
            "{'非營利組織', '個人', '組織', '利潤'} {'非營利組織'}\n",
            "{'微型計算機', '單片機'} {'單片機'}\n",
            "{'桃園市', '臺灣客家語', '臺灣', '楊梅_(大字)', '中華民國', '腔', '四縣話', '楊梅區'} {'峨眉鄉'}\n",
            "{'法國', '代表', '浪漫主義文學', '文學', '雨果_(電影)', '浪漫主義', '文學史', '維克多·雨果'} {'維克多·雨果站', '維克多·雨果', '維克多·雨果博物館', '維克多·雨果故居'}\n",
            "{'羅馬', '天主教會', '博古', '莫斯科'} set()\n",
            "{'醜聞', '美國聯邦政府', '伊拉克戰爭', '政府', '伊拉克', '戰爭', '美國'} {'伊拉克戰爭', '伊拉克軍事', '伊拉克空軍', '伊拉克戰爭列表'}\n",
            "{'洲', '南美洲', '舞曲', '北美洲', '歐陸舞曲', '歐洲大陸', '美國'} {'歐陸舞曲', '亞歷山大·瓦爾澤'}\n",
            "{'全球', '汕頭大學', '城市', '大學', '廣東省', '私人基金會', '中華人民共和國'} {'汕頭大學'}\n",
            "{'折射率', '光導纖維', '頭髮'} set()\n",
            "{'猛禽', '科', '性', '隼', '肉食性動物', '雙翅目', '隼科'} {'隼形目'}\n",
            "{'顯微鏡', '光學', '肉眼', '光學顯微鏡'} {'顯微鏡'}\n",
            "{'食', '鳩鴿科', '玉米'} set()\n",
            "{'主教座堂', '查理曼', '查理·曼紐爾'} {'查理曼'}\n",
            "{'區_(英格蘭)', '行政區劃', '韓國行政區劃', '大韓民國', '國', '自治區', '自治市', '郡'} {'韓國行政區劃'}\n",
            "{'大學', 'UCL', '學術', '研究', '公司'} {'UCL主樓'}\n",
            "{'西廂記', '王實甫', '元朝'} {'西廂記', '牆頭馬上', '王實甫'}\n",
            "{'天龍八部', '部', '慕容復', '名稱', '龍', '天龍', '德國', '反派角色'} {'天龍八部', '慕容博', '康敏', '北喬峯，南慕容'}\n",
            "{'雀百靈屬', '鳥', '百靈科', '屬', '雀形目', '百靈屬', '目'} {'雀百靈屬', '雀科', '林百靈', '歌百靈屬'}\n",
            "{'稱謂', '天衛十'} set()\n",
            "{'氣味', '花', '茶', '花茶'} {'花茶'}\n",
            "{'政權', '曹', '魏', '北', '人口', '領土', '曹魏', '三國'} {'曹魏'}\n",
            "{'淡水魚', '骨鰾類', '生活', '魚', '寄生'} {'骨鰾類'}\n",
            "{'公主', '琅邪王', '東晉', '琅琊', '晉元帝'} {'五馬渡江'}\n",
            "{'狩獵', '黃河', '父系制度', '地區', '氏族', '燧人氏', '氏_(消歧義)', '河漫灘'} {'燧人氏'}\n",
            "{'中華人民共和國國務院', '事業單位', '網站', '國務院_(聖座)', '新華網', '新華社'} {'新華社平壤分社', '新華社莫斯科分社', '新華社布拉格分社', '新華網', '新華社'}\n",
            "{'捷克', '場', '捷克國家足球隊', '盧卡斯·赫賈', '位置', '後衛'} {'帕維爾·霍瓦特', '帕維爾·切爾尼', '捷克國家五人制足球隊', '盧卡斯·赫賈', '伊萬·哈謝克'}\n",
            "{'隋朝', '唐朝', '盛世'} {'永樂盛世', '開元盛世', '大唐電信'}\n",
            "{'癌細胞', '細胞', '突變', '基因組'} {'突變'}\n",
            "{'組合', '印度', '印度教', '民族', '語言系屬分類', '吠陀', '系統', '印度教神話'} {'吠陀', '吠陀梵語', '娑摩吠陀', '印度教神話'}\n",
            "{'客家民系', '林鈺婷', '工作人員'} {'林鈺婷'}\n",
            "{'凍頂烏龍茶', '玉山', '烏龍茶', '紹興酒', '香蕉', '南投縣'} {'南投縣'}\n",
            "{'溫度', '木星的衛星', '木衛三', '木材', '木衛三十九', '衛'} {'霍爾三十九族', '斯科特·謝潑德'}\n",
            "{'生物', '中國', '鄭集'} set()\n",
            "{'搖滾樂', '披頭四樂隊'} set()\n",
            "{'語言', '民族國家', '地區', '歐洲民族', '民族', '歐洲'} {'歐洲民族'}\n",
            "{'語言', '民族國家', '歐洲民族', '民族', '國家', '歐洲'} {'歐洲民族'}\n",
            "{'社會問題', '認識', '生活', '王安石'} set()\n",
            "{'李商隱', '詞_(文學)', '宋詞三百首', '詩人', '唐朝末年', '唐詩'} {'宋詞三百首', '李商隱', '柳枝'}\n",
            "{'網頁', '網頁瀏覽器', '網景', '網景通訊家'} {'網頁瀏覽器列表', '網景導航者', '網景', '網景通訊家', '網頁瀏覽器時間線'}\n",
            "{'江戶時代', '江戶', '妙義山'} set()\n",
            "{'史蒂夫·喬布斯', '一生', '喬布斯_(電影)', '蘋果公司'} {'蘋果公司產品列表', '微軟英雄', '史蒂夫·喬布斯傳', '勞倫·鮑威爾·喬布斯'}\n",
            "{'市鎮', '基隆市', '康熙'} {'臺灣基隆地方法院', '基隆山', '雞籠生', '基隆客運'}\n",
            "{'SETI@home', '程序'} set()\n",
            "{'二氧化硫', '木星的衛星', '平原', '木衛一', '硫', '固體'} set()\n",
            "{'作品', '愛倫·坡', '一生', '法國', '小說', '作家', '驚悚'} set()\n",
            "{'錫克教', '阿薩姆邦', '錫克人', '信徒'} {'錫克教'}\n",
            "{'泰安服務區_(臺灣)', '泰安市', '中山高速公路', '公路服務區', '臺南市', '公路', '中山'} {'泰安休息站', '公路服務區', '泰安街道', '臺灣公路服務區與休息站列表', '西湖服務區'}\n",
            "{'徐太志'} {'徐太志', '徐太志和孩子們'}\n",
            "{'戲劇', '法國', '道路', '小說', '藝術', '公民', '諾貝爾獎', '高行健'} {'高行健'}\n",
            "{'人類', '地區', '文化', '家', '牛族', '家牛', '象徵', '1949年'} set()\n",
            "{'獎勵', '英國君主', '女王', '伊麗莎白二世', '英國', '奧斯卡金像獎', '皮特·烏斯蒂諾夫', '奧斯卡'} {'皮特·烏斯蒂諾夫'}\n",
            "{'F·莫瑞·亞伯拉罕', '亞伯拉罕·路易·佈雷蓋', '亞伯拉罕', '斯賓塞·亞伯拉罕', '亞伯拉罕諸教', '亞伯拉罕·林肯總統圖書館和博物館', '亞伯拉罕·林肯', '亞伯拉罕·範海辛'} {'伊斯蘭教與基督教關係', '亞伯拉罕', '亞伯拉罕諸教', '有經者', '一神論'}\n",
            "{'EXOM', 'EXO', '會計師', '黃子韜', '大韓民國', '男子音樂組合', '中國'} {'黃子韜', 'EXO-K', 'EXO-M', '鹿晗', 'Xiumin'}\n",
            "{'透明', '神農', '內臟', '軀幹'} set()\n",
            "{'隋煬帝', '楊勇_(隋朝)', '長子', '隋文帝', '隋朝', '太子_(香港)', '老年', '庶出子女'} set()\n",
            "{'提比略·克勞狄烏斯·尼祿', '蓋烏斯·屋大維', '提比略·格拉古', '70', '奧古斯都', '提貝里烏斯', '住宅'} set()\n",
            "{'學校', '臺中市', '流浪貓', '臺灣', '教育', '特殊教育', '臺中市立啓明學校', '后里區'} {'臺中市立后里國民中學', '臺灣特殊教育學校列表', '臺中市立臺中特殊教育學校', '臺中市立啓明學校', '臺北市立啓明學校'}\n",
            "{'紐約州', '政府', 'SETI@home', '加利福尼亞大學柏克萊分校', '計算'} {'BOINC'}\n",
            "{'類星體', '圖像'} {'HE0450-2958', '類星體'}\n",
            "{'索馬里蘭', '綠色', '清真言', '索馬利蘭國', '言', '國旗', '索馬利蘭國旗'} {'索馬利蘭國旗'}\n",
            "{'核', '中子'} {'中子溫度'}\n",
            "{'司馬光'} set()\n",
            "{'卡爾·馬克思', '馬克思主義政治經濟學', '馬克思主義', '馬克思·多爾穆瓦站', '格魯喬·馬克思', '政治經濟學', '資本論', '海因裏希·馬克思'} {'伊拉里昂·伊格納切維奇·考夫曼', '馬克思主義政治經濟學', '河上肇', '資本論', '政治經濟學批判大綱'}\n",
            "{'原子', '馮端', '中國人', '晶體', '中國'} {'晶體', '晶體缺陷', '晶體結構', '固體物理學'}\n",
            "{'詹姆斯·諾克斯·波爾克', '總統', '選舉'} set()\n",
            "{'分類學', '綱', '桑吉巴蝴蝶魚', '生物分類學', '印度洋', '腕鰭魚綱'} {'桑吉巴蝴蝶魚'}\n",
            "{'世界', '寒武紀', '寒武紀大爆發', '壁畫', '寒武紀_(消歧義)'} {'寒武紀大爆發'}\n",
            "{'唐朝', '象'} {'大象露西'}\n",
            "{'世界', '事業單位', '網站', '新華網', '新華社'} {'新華社平壤分社', '新華社莫斯科分社', '新華社布拉格分社', '新華網', '新華社'}\n",
            "{'北極殿', '臺灣明鄭時期', '臺南北極殿', '神', '明鄭', '寺廟', '明朝'} set()\n",
            "{'凱蒂·史密斯', '詹姆斯·奈史密斯', '姚明', '威爾·史密斯', '奈史密斯籃球名人紀念堂', '考·奈史密斯', 'J·R·史密斯', '今天'} {'姚明', '奈史密斯籃球名人紀念堂', '大衛·斯托克頓'}\n",
            "{'碼', '均勻碼理事會'} {'通用產品代碼', '均勻碼理事會'}\n",
            "{'懷化市', '湖南省', '中華人民共和國'} {'長沙市境內的湖南省文物保護單位列表', '湖南省博物館列表', '湖南省林業局', '懷化市第三中學', '湖南省監察委員會'}\n",
            "{'發動機', '差異_(哲學)', '電動機'} {'電動機'}\n",
            "{'北歐神話', '雷神_(電影)', '神', '費爾南多·索爾', '索爾', '索爾_(漫威漫畫)', '索爾·巴斯', '雷神'} {'索爾'}\n",
            "{'世紀', '作品', '技術', '內畫壺'} set()\n",
            "{'國務院', '王立軍', '兒子', '副總理', '事件', '王立軍事件', '薄熙來', '王立_(1966年)'} {'薄熙來', '王立軍案', '薄熙來事件'}\n",
            "{'親屬', '美麗島', '美麗島事件', '政府', '事件', '林義雄'} set()\n",
            "{'軍艦', '路易·德·奧爾良_(1703年—1752年)', '法國', '路易十四', '海軍', '戰爭'} set()\n",
            "{'牙醫學系', '臺北', '臺北醫學大學', '經營者', '李祖德'} {'李祖德'}\n",
            "{'奧迪', '環'} {'奧迪'}\n",
            "{'共和黨'} set()\n",
            "{'SETI@home', '用戶_(計算機)', '程序'} {'SETI@home'}\n",
            "{'提坦', '神', '太平洋', '忒堤斯', '俄刻阿諾斯', '妻子'} {'俄刻阿諾斯', '忒堤斯'}\n",
            "{'壬醇', '液體', '汽油', '碳', '脂肪醇', '正壬醇'} {'壬醇', '脂肪醇', '正壬醇', '環戊烯', '1-辛醇'}\n",
            "{'美學', '工藝', '手工藝', '餐'} {'手工藝'}\n",
            "{'16世紀', '亨利八世', '王', '世', '亨利', '宗教改革', '改革', '英格蘭', '英格蘭教會', '世紀', '教會'} {'英格蘭教會', '徹底的宗教改革', '英格蘭宗教改革'}\n",
            "{'費雯·麗', '美國電影學會', '亂世佳人_(2007年電視劇)', '明星', '亂世佳人'} {'AFI百年系列', 'AFI百年百大電影臺詞', 'AFI百年百大電影', 'AFI百年百大愛情電影', 'AFI百年百大喜劇電影'}\n",
            "{'茶葉蛋', '茶'} {'茶葉蛋', '茶葉蛋事件'}\n",
            "{'香港', '印象派'} set()\n",
            "{'臺灣交通', '臺灣', '交通', '電氣化鐵路', '發展'} {'馬來西亞鐵路電氣化項目', '電氣化鐵路'}\n",
            "{'先驅', '中華民國政府', '臺灣獨立運動', '1965年', '政府', '臺灣', '中華民國', '廖文毅', '民族主義', '臺灣民族主義'} {'臺灣共和國臨時政府國旗', '廖文毅', '廖史豪', '黃紀男', '臺灣共和國臨時政府'}\n",
            "{'科學革命', '作品', '科學史', '科學革命的結構', '托馬斯·庫恩', '庫恩'} {'亞歷山大·誇黑', '托馬斯·庫恩', '科學革命的結構'}\n",
            "{'民國', '臺灣省政府', '臺中市大里區大元國民小學'} {'臺中市大里區永隆國民小學', '臺中市大里區大里國民小學', '臺中市大里區大元國民小學', '臺中市大里區益民國民小學'}\n",
            "{'肥胖症'} set()\n",
            "{'幻想', '鐵路列車', '性幻想'} {'性幻想', '強暴幻想'}\n",
            "{'主幹_(軟件)', '停雲詩社', '中國語文學系', '臺灣', '國立臺灣師範大學', '教授'} {'停雲詩社', '林保淳', '餘培林'}\n",
            "{'兒子', '阿卜杜勒侯賽因·米爾扎·法爾曼法爾馬', '政治家'} {'阿卜杜勒·馬吉德·米爾扎', '阿卜杜勒-侯賽因·米爾扎·法爾曼法爾馬'}\n",
            "{'希臘', '神話_(組合)', '木衛三', '名稱', '天體物理學', '處_(佛教)', '希臘神話', '神話'} {'天體粒子物理學', '天文學家'}\n",
            "{'藥物', '阿托品', '小時', '注射', '癲癇', '靜脈注射', '劑量'} {'阿托品'}\n",
            "{'地形', '張谷英村', '水', '佈局_(圍棋)', '張谷英', '漢族', '中國', '語氣'} {'張谷英村', '張谷英'}\n",
            "{'粵菜', '廣東省', '貿易', '菜系', '興盛'} set()\n",
            "{'銀川市', '城市', '銀川平原', '中部'} {'銀川市', '銀川平原', '銀川專區', '石嘴山市'}\n",
            "{'茴芹屬', '植物', '花', '動物', '茴芹', '中國'} {'茴芹屬', '木裏茴芹', '雲南茴芹', '中甸茴芹'}\n",
            "{'工藝', '作品', '手工藝', '靈感'} {'手工業', '手工藝'}\n",
            "{'喬治·費茲傑羅', '薇拉·費茲傑羅', '弗朗西斯·斯科特·菲茨傑拉德', '了不起的蓋茨比'} {'尼克·卡拉威', '鱷梨蛋糕', '弗朗西斯·斯科特·菲茨傑拉德', '巧克力蛋糕'}\n",
            "{'城市', '花旗銀行', '美洲', '人口', '總部'} {'花旗銀行', '花旗（臺灣）商業銀行', '花旗銀行（中國）'}\n",
            "{'阿美族', '臺灣', '祭祀', '祭_(日本)'} {'國家祭典', '日本祭典列表', '阿美族'}\n",
            "{'晶體學', '波', '晶體', '衍射'} {'晶體學', 'X射線衍射儀', 'X射線晶體學'}\n",
            "{'好萊塢', '成龍', '餐廳', '成功', '廚師', '美國'} {'屬貓廚師'}\n",
            "{'奧迪', '汽車', '臺灣機車', '跑車', '非洲', '超級跑車', '豪華汽車', '總部'} {'奧迪', '意大利設計-喬治亞羅公司', '豪華汽車', '汽車產業'}\n",
            "{'阿曼', '拉丁美洲', '國', '蘇丹_(稱謂)', '阿曼蘇丹'} {'中國駐阿曼大使列表', '馬斯喀特省', '阿曼駐華大使列表', '阿曼蘇丹', '阿曼首相'}\n",
            "{'人類', '法律', '地區', '文化', '牛族', '家牛', '象徵', '2020'} set()\n",
            "{'客家民系', '竹東_(大字)', '林鈺婷'} {'林鈺婷'}\n",
            "{'少年', '震盪波蠕蟲', '德國'} set()\n",
            "{'世界', '金邊', '洞裏薩湖', '柬埔寨', '淡水湖'} {'柬埔寨機場列表', '柬埔寨王家空軍', '柬埔寨', '金邊國際機場'}\n",
            "{'全國不分區及僑居國外國民立法委員選舉區', '立法院立法委員選舉', '黨', '政黨領袖', '國', '劉一德', '主席', '臺灣團結聯盟', '2020'} {'臺灣團結聯盟'}\n",
            "{'水溶液', '氰化鋰', '鹼', '頻率', '氰化鈉', '溶液', '氰化氫'} {'氰化鋰', '氰化鈉', '氰化鋁', '氰化鐿', '氰化氫'}\n",
            "{'人物', '漫畫', '漫威', '勇度', '漫威漫畫', '藍色'} {'勇度', '漫威'}\n",
            "{'學校', '特殊教育', '臺灣', '教育', '臺中市立啓明學校', '臺中市'} {'臺中市立啓聰學校', '臺中市立啓明學校'}\n",
            "{'上海市', '北京航空航天大學', '本名'} {'北京航空航天大學飛行學院', '北京航空航天大學沙河校區', '北京航空航天大學校友列表', '北京航空航天大學校史', '北京航空航天大學出版社'}\n",
            "{'行政機關', '政府首腦', '立法機關', '總統', '總統制'} {'總統制'}\n",
            "{'楊過', '小龍女'} {'小龍女'}\n",
            "{'傳教士', '文森特·梵高'} {'文森特·梵高'}\n",
            "{'北京理工大學', '學院'} {'華北理工大學'}\n",
            "{'金馬獎', '艾略特', '查爾斯·艾略特', 'T·S·艾略特', '艾略特·克雷松獎章', '艾略特·高登索', '艾略特·內斯', '喬治·艾略特'} {'查爾斯·艾略特', 'T·S·艾略特'}\n",
            "{'蘇格蘭足球聯賽', '蘇格蘭足球聯賽系統', '蘇格蘭', '英格蘭足球超級聯賽'} {'香港足球聯賽系統', '英格蘭足球超級聯賽', '蘇格蘭足球聯賽超級聯賽', '蘇格蘭足球冠軍聯賽', '蘇格蘭足球超級聯賽'}\n",
            "{'撞擊坑', '天衛三', '量_(物理)', '隕石', '天衛四', '面_(幾何)'} set()\n",
            "{'先驅', '天文學', '卡爾', '卡爾·央斯基', '美國', '央斯基', '射電天文學', '無線電'} {'卡爾·央斯基', '央斯基環形山', '央斯基', '格羅特·雷伯'}\n",
            "{'雷切爾·墨索里尼', '貝尼託·墨索里尼', '羅曼諾·貝尼託·弗洛里亞尼·墨索里尼', '屍體', '亞歷山德拉·墨索里尼', '妻子'} set()\n",
            "{'古羅馬', '古希臘', '河南省', '長江', '戰國_(漫畫)', '戰國時期', '上古時代', '部落', '三苗', '人物_(美國雜誌)', '苗'} {'三苗'}\n",
            "{'海', '漁船', '行政院', '兒童節', '海里', '蘭嶼', '外海街道', '達悟族'} {'達悟族'}\n",
            "{'世紀', '印象派', '法國'} {'後印象派', '那比派'}\n",
            "{'河南省', '長江', '戰國_(漫畫)', '戰國時期', '上古時代', '部落', '三苗', '人物_(美國雜誌)', '苗'} {'三苗'}\n",
            "{'演員', '英國', '威廉·莎士比亞', '小孩_(電影)', '兒童'} {'威廉·莎士比亞', '尼可拉斯·莎士比亞', '莎士比亞全集'}\n",
            "{'富蘭克林_(維吉尼亞州)', '本傑明·富蘭克林', '第一人', '通信系統'} set()\n",
            "{'1922年', '臺灣總督府臺北高等學校', '學校', '臺灣總督府', '臺北', '日治時期', '臺灣', '總督府'} {'臺灣總督府高等商業學校', '臺灣總督府臺北高等學校', '臺灣總督府民政部', '臺北高等學校講堂', '臺灣總督府評議會'}\n",
            "{'大學', '泰晤士', '英國', '高等教育', '倫敦大學', '倫敦大學學院', '泰晤士高等教育世界大學排名', '泰晤士高等教育'} {'泰晤士高等教育世界大學排名', '泰晤士高等教育-QS世界大學排名'}\n",
            "{'湘江', '資興市', '魚'} set()\n",
            "{'分鐘', 'Min', '複數', '字', '分'} {'MIN·MIN·MIN', 'Min', '分鐘'}\n",
            "{'管理學', '威廉·亨利·哈里森'} {'安娜·哈里遜', '1840年美國總統選舉'}\n",
            "{'主流', '白話字', '臺灣', '白話', '文字'} {'客家白話字'}\n",
            "{'汾河', '中國', '長江'} {'汾河鎮', '汾河街道', '汾河公園', '汾河鱷屬', '汾河片'}\n",
            "{'紐約', '贊助', '首飛', '泰坦尼克號'} {'鐵達尼號船員列表'}\n",
            "{'創新', '亞洲', '信念', '麗臺科技', '品質'} set()\n",
            "{'功能', '自然災害', '秋紅谷廣場'} {'秋紅谷廣場'}\n",
            "{'斯科特·布赫茲', '澳大利亞', '保守主義', '政黨', '主義'} {'斯科特·布赫茲'}\n"
          ]
        }
      ],
      "source": [
        "results_df = pd.merge(pd.Series([line for line in test_results_aicup], name=\"aicup\"), \n",
        "                      pd.Series([line for line in test_results_tfidf], name=\"tfidf\"), right_index=True, left_index=True)\n",
        "test_results = results_df.apply(union_result, axis=1)\n",
        "save_doc(TEST_DATA, test_results, mode=\"test\")"
      ]
    },
    {
      "attachments": {},
      "cell_type": "markdown",
      "metadata": {
        "id": "Ol4zFkSbjgXF"
      },
      "source": [
        "notebook2\n",
        "## PART 2. Sentence retrieval"
      ]
    },
    {
      "attachments": {},
      "cell_type": "markdown",
      "metadata": {},
      "source": [
        "Import some libs"
      ]
    },
    {
      "cell_type": "code",
      "execution_count": 40,
      "metadata": {
        "id": "GlliDsgXjisj"
      },
      "outputs": [],
      "source": [
        "from pathlib import Path\n",
        "from typing import Dict, List, Set, Tuple, Union\n",
        "\n",
        "# third-party libs\n",
        "import numpy as np\n",
        "import pandas as pd\n",
        "from pandarallel import pandarallel\n",
        "from sklearn.model_selection import train_test_split\n",
        "from tqdm.auto import tqdm\n",
        "\n",
        "import torch\n",
        "import torch.nn as nn\n",
        "from torch.optim import AdamW\n",
        "from torch.utils.data import DataLoader\n",
        "from torch.utils.tensorboard import SummaryWriter\n",
        "from transformers import (\n",
        "    AutoModelForSequenceClassification,\n",
        "    AutoTokenizer,\n",
        "    get_scheduler,\n",
        ")\n",
        "\n",
        "from dataset import BERTDataset, Dataset\n",
        "\n",
        "# local libs\n",
        "from utils import (\n",
        "    generate_evidence_to_wiki_pages_mapping,\n",
        "    jsonl_dir_to_df,\n",
        "    load_json,\n",
        "    load_model,\n",
        "    save_checkpoint,\n",
        "    set_lr_scheduler,\n",
        ")\n",
        "\n",
        "pandarallel.initialize(progress_bar=True, verbose=0, nb_workers=10)"
      ]
    },
    {
      "attachments": {},
      "cell_type": "markdown",
      "metadata": {},
      "source": [
        "Global variable"
      ]
    },
    {
      "cell_type": "code",
      "execution_count": 41,
      "metadata": {
        "id": "J3BBLE3_hlPi"
      },
      "outputs": [],
      "source": [
        "SEED = 42\n",
        "\n",
        "TRAIN_DATA = load_json(\"data/public_train.jsonl\")\n",
        "TEST_DATA = load_json(\"data/public_test.jsonl\")\n",
        "DOC_DATA = load_json(\"data/train_doc5.jsonl\")\n",
        "\n",
        "LABEL2ID: Dict[str, int] = {\n",
        "    \"supports\": 0,\n",
        "    \"refutes\": 1,\n",
        "    \"NOT ENOUGH INFO\": 2,\n",
        "}\n",
        "ID2LABEL: Dict[int, str] = {v: k for k, v in LABEL2ID.items()}\n",
        "\n",
        "_y = [LABEL2ID[data[\"label\"]] for data in TRAIN_DATA]\n",
        "# GT means Ground Truth\n",
        "TRAIN_GT, DEV_GT = train_test_split(\n",
        "    DOC_DATA,\n",
        "    test_size=0.2,\n",
        "    random_state=SEED,\n",
        "    shuffle=True,\n",
        "    stratify=_y,\n",
        ")"
      ]
    },
    {
      "attachments": {},
      "cell_type": "markdown",
      "metadata": {},
      "source": [
        "Preload wiki database (1 min)"
      ]
    },
    {
      "cell_type": "code",
      "execution_count": 42,
      "metadata": {},
      "outputs": [
        {
          "name": "stdout",
          "output_type": "stream",
          "text": [
            "Reading and concatenating jsonl files in data/wiki-pages\n",
            "Generate parse mapping\n"
          ]
        },
        {
          "data": {
            "application/vnd.jupyter.widget-view+json": {
              "model_id": "7614094f1524426bba142f977c869449",
              "version_major": 2,
              "version_minor": 0
            },
            "text/plain": [
              "VBox(children=(HBox(children=(IntProgress(value=0, description='0.00%', max=118776), Label(value='0 / 118776')…"
            ]
          },
          "metadata": {},
          "output_type": "display_data"
        }
      ],
      "source": [
        "wiki_pages = jsonl_dir_to_df(\"data/wiki-pages\")\n",
        "mapping = generate_evidence_to_wiki_pages_mapping(wiki_pages)\n",
        "del wiki_pages"
      ]
    },
    {
      "attachments": {},
      "cell_type": "markdown",
      "metadata": {},
      "source": [
        "### Helper function"
      ]
    },
    {
      "attachments": {},
      "cell_type": "markdown",
      "metadata": {},
      "source": [
        "Calculate precision for sentence retrieval"
      ]
    },
    {
      "cell_type": "code",
      "execution_count": null,
      "metadata": {},
      "outputs": [],
      "source": [
        "def evidence_macro_precision(\n",
        "    instance: Dict,\n",
        "    top_rows: pd.DataFrame,\n",
        ") -> Tuple[float, float]:\n",
        "    \"\"\"Calculate precision for sentence retrieval\n",
        "    This function is modified from fever-scorer.\n",
        "    https://github.com/sheffieldnlp/fever-scorer/blob/master/src/fever/scorer.py\n",
        "\n",
        "    Args:\n",
        "        instance (dict): a row of the dev set (dev.jsonl) of test set (test.jsonl)\n",
        "        top_rows (pd.DataFrame): our predictions with the top probabilities\n",
        "\n",
        "        IMPORTANT!!!\n",
        "        instance (dict) should have the key of `evidence`.\n",
        "        top_rows (pd.DataFrame) should have a column `predicted_evidence`.\n",
        "\n",
        "    Returns:\n",
        "        Tuple[float, float]:\n",
        "        [1]: relevant and retrieved (numerator of precision)\n",
        "        [2]: retrieved (denominator of precision)\n",
        "    \"\"\"\n",
        "    this_precision = 0.0\n",
        "    this_precision_hits = 0.0\n",
        "\n",
        "    # Return 0, 0 if label is not enough info since not enough info does not\n",
        "    # contain any evidence.\n",
        "    if instance[\"label\"].upper() != \"NOT ENOUGH INFO\":\n",
        "        # e[2] is the page title, e[3] is the sentence index\n",
        "        all_evi = [[e[2], e[3]]\n",
        "                   for eg in instance[\"evidence\"]\n",
        "                   for e in eg\n",
        "                   if e[3] is not None]\n",
        "        claim = instance[\"claim\"]\n",
        "        predicted_evidence = top_rows[top_rows[\"claim\"] ==\n",
        "                                      claim][\"predicted_evidence\"].tolist()\n",
        "\n",
        "        for prediction in predicted_evidence:\n",
        "            if prediction in all_evi:\n",
        "                this_precision += 1.0\n",
        "            this_precision_hits += 1.0\n",
        "\n",
        "        return (this_precision /\n",
        "                this_precision_hits) if this_precision_hits > 0 else 1.0, 1.0\n",
        "\n",
        "    return 0.0, 0.0"
      ]
    },
    {
      "attachments": {},
      "cell_type": "markdown",
      "metadata": {},
      "source": [
        "Calculate recall for sentence retrieval"
      ]
    },
    {
      "cell_type": "code",
      "execution_count": null,
      "metadata": {},
      "outputs": [],
      "source": [
        "def evidence_macro_recall(\n",
        "    instance: Dict,\n",
        "    top_rows: pd.DataFrame,\n",
        ") -> Tuple[float, float]:\n",
        "    \"\"\"Calculate recall for sentence retrieval\n",
        "    This function is modified from fever-scorer.\n",
        "    https://github.com/sheffieldnlp/fever-scorer/blob/master/src/fever/scorer.py\n",
        "\n",
        "    Args:\n",
        "        instance (dict): a row of the dev set (dev.jsonl) of test set (test.jsonl)\n",
        "        top_rows (pd.DataFrame): our predictions with the top probabilities\n",
        "\n",
        "        IMPORTANT!!!\n",
        "        instance (dict) should have the key of `evidence`.\n",
        "        top_rows (pd.DataFrame) should have a column `predicted_evidence`.\n",
        "\n",
        "    Returns:\n",
        "        Tuple[float, float]:\n",
        "        [1]: relevant and retrieved (numerator of recall)\n",
        "        [2]: relevant (denominator of recall)\n",
        "    \"\"\"\n",
        "    # We only want to score F1/Precision/Recall of recalled evidence for NEI claims\n",
        "    if instance[\"label\"].upper() != \"NOT ENOUGH INFO\":\n",
        "        # If there's no evidence to predict, return 1\n",
        "        if len(instance[\"evidence\"]) == 0 or all(\n",
        "            [len(eg) == 0 for eg in instance]):\n",
        "            return 1.0, 1.0\n",
        "\n",
        "        claim = instance[\"claim\"]\n",
        "\n",
        "        predicted_evidence = top_rows[top_rows[\"claim\"] ==\n",
        "                                      claim][\"predicted_evidence\"].tolist()\n",
        "\n",
        "        for evidence_group in instance[\"evidence\"]:\n",
        "            evidence = [[e[2], e[3]] for e in evidence_group]\n",
        "            if all([item in predicted_evidence for item in evidence]):\n",
        "                # We only want to score complete groups of evidence. Incomplete\n",
        "                # groups are worthless.\n",
        "                return 1.0, 1.0\n",
        "        return 0.0, 1.0\n",
        "    return 0.0, 0.0"
      ]
    },
    {
      "attachments": {},
      "cell_type": "markdown",
      "metadata": {},
      "source": [
        "Calculate the scores of sentence retrieval"
      ]
    },
    {
      "cell_type": "code",
      "execution_count": null,
      "metadata": {},
      "outputs": [],
      "source": [
        "def evaluate_retrieval(\n",
        "    probs: np.ndarray,\n",
        "    df_evidences: pd.DataFrame,\n",
        "    ground_truths: pd.DataFrame,\n",
        "    top_n: int = 5,\n",
        "    cal_scores: bool = True,\n",
        "    save_name: str = None,\n",
        ") -> Dict[str, float]:\n",
        "    \"\"\"Calculate the scores of sentence retrieval\n",
        "\n",
        "    Args:\n",
        "        probs (np.ndarray): probabilities of the candidate retrieved sentences\n",
        "        df_evidences (pd.DataFrame): the candiate evidence sentences paired with claims\n",
        "        ground_truths (pd.DataFrame): the loaded data of dev.jsonl or test.jsonl\n",
        "        top_n (int, optional): the number of the retrieved sentences. Defaults to 2.\n",
        "\n",
        "    Returns:\n",
        "        Dict[str, float]: F1 score, precision, and recall\n",
        "    \"\"\"\n",
        "    df_evidences[\"prob\"] = probs\n",
        "    top_rows = (\n",
        "        df_evidences.groupby(\"claim\").apply(\n",
        "        lambda x: x.nlargest(top_n, \"prob\"))\n",
        "        .reset_index(drop=True)\n",
        "    )\n",
        "\n",
        "    if cal_scores:\n",
        "        macro_precision = 0\n",
        "        macro_precision_hits = 0\n",
        "        macro_recall = 0\n",
        "        macro_recall_hits = 0\n",
        "\n",
        "        for i, instance in enumerate(ground_truths):\n",
        "            macro_prec = evidence_macro_precision(instance, top_rows)\n",
        "            macro_precision += macro_prec[0]\n",
        "            macro_precision_hits += macro_prec[1]\n",
        "\n",
        "            macro_rec = evidence_macro_recall(instance, top_rows)\n",
        "            macro_recall += macro_rec[0]\n",
        "            macro_recall_hits += macro_rec[1]\n",
        "\n",
        "        pr = (macro_precision /\n",
        "              macro_precision_hits) if macro_precision_hits > 0 else 1.0\n",
        "        rec = (macro_recall /\n",
        "               macro_recall_hits) if macro_recall_hits > 0 else 0.0\n",
        "        f1 = 2.0 * pr * rec / (pr + rec)\n",
        "\n",
        "    if save_name is not None:\n",
        "        # write doc7_sent5 file\n",
        "        with open(f\"data/{save_name}\", \"w\", encoding=\"utf8\") as f:\n",
        "            for instance in ground_truths:\n",
        "                claim = instance[\"claim\"]\n",
        "                predicted_evidence = top_rows[\n",
        "                    top_rows[\"claim\"] == claim][\"predicted_evidence\"].tolist()\n",
        "                instance[\"predicted_evidence\"] = predicted_evidence\n",
        "                f.write(json.dumps(instance, ensure_ascii=False) + \"\\n\")\n",
        "\n",
        "    if cal_scores:\n",
        "        return {\"F1 score\": f1, \"Precision\": pr, \"Recall\": rec}"
      ]
    },
    {
      "attachments": {},
      "cell_type": "markdown",
      "metadata": {},
      "source": [
        "Inference script to get probabilites for the candidate evidence sentences"
      ]
    },
    {
      "cell_type": "code",
      "execution_count": null,
      "metadata": {},
      "outputs": [],
      "source": [
        "def get_predicted_probs(\n",
        "    model: nn.Module,\n",
        "    dataloader: Dataset,\n",
        "    device: torch.device,\n",
        ") -> np.ndarray:\n",
        "    \"\"\"Inference script to get probabilites for the candidate evidence sentences\n",
        "\n",
        "    Args:\n",
        "        model: the one from HuggingFace Transformers\n",
        "        dataloader: devset or testset in torch dataloader\n",
        "\n",
        "    Returns:\n",
        "        np.ndarray: probabilites of the candidate evidence sentences\n",
        "    \"\"\"\n",
        "    model.eval()\n",
        "    probs = []\n",
        "\n",
        "    with torch.no_grad():\n",
        "        for batch in tqdm(dataloader):\n",
        "            batch = {k: v.to(device) for k, v in batch.items()}\n",
        "            outputs = model(**batch)\n",
        "            logits = outputs.logits\n",
        "            probs.extend(torch.softmax(logits, dim=1)[:, 1].tolist())\n",
        "\n",
        "    return np.array(probs)"
      ]
    },
    {
      "attachments": {},
      "cell_type": "markdown",
      "metadata": {},
      "source": [
        "AicupTopkEvidenceBERTDataset class for AICUP dataset with top-k evidence sentences"
      ]
    },
    {
      "cell_type": "code",
      "execution_count": null,
      "metadata": {},
      "outputs": [],
      "source": [
        "class SentRetrievalBERTDataset(BERTDataset):\n",
        "    \"\"\"AicupTopkEvidenceBERTDataset class for AICUP dataset with top-k evidence sentences.\"\"\"\n",
        "\n",
        "    def __getitem__(\n",
        "        self,\n",
        "        idx: int,\n",
        "        **kwargs,\n",
        "    ) -> Tuple[Dict[str, torch.Tensor], int]:\n",
        "        item = self.data.iloc[idx]\n",
        "        sentA = item[\"claim\"]\n",
        "        sentB = item[\"text\"]\n",
        "\n",
        "        # claim [SEP] text\n",
        "        concat = self.tokenizer(\n",
        "            sentA,\n",
        "            sentB,\n",
        "            padding=\"max_length\",\n",
        "            max_length=self.max_length,\n",
        "            truncation=True,\n",
        "        )\n",
        "        concat_ten = {k: torch.tensor(v) for k, v in concat.items()}\n",
        "        if \"label\" in item:\n",
        "            concat_ten[\"labels\"] = torch.tensor(item[\"label\"])\n",
        "\n",
        "        return concat_ten"
      ]
    },
    {
      "attachments": {},
      "cell_type": "markdown",
      "metadata": {},
      "source": [
        "### Main function for sentence retrieval"
      ]
    },
    {
      "cell_type": "code",
      "execution_count": null,
      "metadata": {
        "id": "gpvXpFwXszfv"
      },
      "outputs": [],
      "source": [
        "def pair_with_wiki_sentences(\n",
        "    mapping: Dict[str, Dict[int, str]],\n",
        "    df: pd.DataFrame,\n",
        "    negative_ratio: float,\n",
        ") -> pd.DataFrame:\n",
        "    \"\"\"Only for creating train sentences.\"\"\"\n",
        "    claims = []\n",
        "    sentences = []\n",
        "    labels = []\n",
        "\n",
        "    # positive\n",
        "    for i in range(len(df)):\n",
        "        if df[\"label\"].iloc[i] == \"NOT ENOUGH INFO\":\n",
        "            continue\n",
        "\n",
        "        claim = df[\"claim\"].iloc[i]\n",
        "        evidence_sets = df[\"evidence\"].iloc[i]\n",
        "        for evidence_set in evidence_sets:\n",
        "            sents = []\n",
        "            for evidence in evidence_set:\n",
        "                # evidence[2] is the page title\n",
        "                page = evidence[2].replace(\" \", \"_\")\n",
        "                # the only page with weird name\n",
        "                if page == \"臺灣海峽危機#第二次臺灣海峽危機（1958）\":\n",
        "                    continue\n",
        "                # evidence[3] is in form of int however, mapping requires str\n",
        "                sent_idx = str(evidence[3])\n",
        "                sents.append(mapping[page][sent_idx])\n",
        "\n",
        "            whole_evidence = \" \".join(sents)\n",
        "\n",
        "            claims.append(claim)\n",
        "            sentences.append(whole_evidence)\n",
        "            labels.append(1)\n",
        "\n",
        "    # negative\n",
        "    for i in range(len(df)):\n",
        "        if df[\"label\"].iloc[i] == \"NOT ENOUGH INFO\":\n",
        "            continue\n",
        "        claim = df[\"claim\"].iloc[i]\n",
        "\n",
        "        evidence_set = set([(evidence[2], evidence[3])\n",
        "                            for evidences in df[\"evidence\"][i]\n",
        "                            for evidence in evidences])\n",
        "        predicted_pages = df[\"predicted_pages\"][i]\n",
        "        for page in predicted_pages:\n",
        "            page = page.replace(\" \", \"_\")\n",
        "            try:\n",
        "                page_sent_id_pairs = [\n",
        "                    (page, sent_idx) for sent_idx in mapping[page].keys()\n",
        "                ]\n",
        "            except KeyError:\n",
        "                # print(f\"{page} is not in our Wiki db.\")\n",
        "                continue\n",
        "\n",
        "            for pair in page_sent_id_pairs:\n",
        "                if pair in evidence_set:\n",
        "                    continue\n",
        "                text = mapping[page][pair[1]]\n",
        "                # `np.random.rand(1) <= 0.05`: Control not to add too many negative samples\n",
        "                if text != \"\" and np.random.rand(1) <= negative_ratio:\n",
        "                    claims.append(claim)\n",
        "                    sentences.append(text)\n",
        "                    labels.append(0)\n",
        "\n",
        "    return pd.DataFrame({\"claim\": claims, \"text\": sentences, \"label\": labels})\n",
        "\n",
        "\n",
        "def pair_with_wiki_sentences_eval(\n",
        "    mapping: Dict[str, Dict[int, str]],\n",
        "    df: pd.DataFrame,\n",
        "    is_testset: bool = False,\n",
        ") -> pd.DataFrame:\n",
        "    \"\"\"Only for creating dev and test sentences.\"\"\"\n",
        "    claims = []\n",
        "    sentences = []\n",
        "    evidence = []\n",
        "    predicted_evidence = []\n",
        "\n",
        "    # negative\n",
        "    for i in range(len(df)):\n",
        "        # if df[\"label\"].iloc[i] == \"NOT ENOUGH INFO\":\n",
        "        #     continue\n",
        "        claim = df[\"claim\"].iloc[i]\n",
        "\n",
        "        predicted_pages = df[\"predicted_pages\"][i]\n",
        "        for page in predicted_pages:\n",
        "            page = page.replace(\" \", \"_\")\n",
        "            try:\n",
        "                page_sent_id_pairs = [(page, k) for k in mapping[page]]\n",
        "            except KeyError:\n",
        "                # print(f\"{page} is not in our Wiki db.\")\n",
        "                continue\n",
        "\n",
        "            for page_name, sentence_id in page_sent_id_pairs:\n",
        "                text = mapping[page][sentence_id]\n",
        "                if text != \"\":\n",
        "                    claims.append(claim)\n",
        "                    sentences.append(text)\n",
        "                    if not is_testset:\n",
        "                        evidence.append(df[\"evidence\"].iloc[i])\n",
        "                    predicted_evidence.append([page_name, int(sentence_id)])\n",
        "\n",
        "    return pd.DataFrame({\n",
        "        \"claim\": claims,\n",
        "        \"text\": sentences,\n",
        "        \"evidence\": evidence if not is_testset else None,\n",
        "        \"predicted_evidence\": predicted_evidence,\n",
        "    })"
      ]
    },
    {
      "attachments": {},
      "cell_type": "markdown",
      "metadata": {},
      "source": [
        "### Step 1. Setup training environment"
      ]
    },
    {
      "attachments": {},
      "cell_type": "markdown",
      "metadata": {},
      "source": [
        "Hyperparams"
      ]
    },
    {
      "cell_type": "code",
      "execution_count": null,
      "metadata": {},
      "outputs": [],
      "source": [
        "MODEL_NAME = \"bert-base-chinese\"  #@param {type:\"string\"}\n",
        "NUM_EPOCHS = 1  #@param {type:\"integer\"}\n",
        "LR = 2e-5  #@param {type:\"number\"}\n",
        "TRAIN_BATCH_SIZE = 64  #@param {type:\"integer\"}\n",
        "TEST_BATCH_SIZE = 256  #@param {type:\"integer\"}\n",
        "NEGATIVE_RATIO = 0.05  #@param {type:\"number\"}\n",
        "VALIDATION_STEP = 25  #@param {type:\"integer\"}\n",
        "TOP_N = 5  #@param {type:\"integer\"}\n",
        "#@title  { display-mode: \"form\" }"
      ]
    },
    {
      "attachments": {},
      "cell_type": "markdown",
      "metadata": {},
      "source": [
        "Experiment Directory"
      ]
    },
    {
      "cell_type": "code",
      "execution_count": null,
      "metadata": {
        "id": "ToLvE9oxIXQo"
      },
      "outputs": [],
      "source": [
        "EXP_DIR = f\"sent_retrieval/e{NUM_EPOCHS}_bs{TRAIN_BATCH_SIZE}_\" + f\"{LR}_neg{NEGATIVE_RATIO}_top{TOP_N}\"\n",
        "LOG_DIR = \"logs/\" + EXP_DIR\n",
        "CKPT_DIR = \"checkpoints/\" + EXP_DIR\n",
        "\n",
        "if not Path(LOG_DIR).exists():\n",
        "    Path(LOG_DIR).mkdir(parents=True)\n",
        "\n",
        "if not Path(CKPT_DIR).exists():\n",
        "    Path(CKPT_DIR).mkdir(parents=True)"
      ]
    },
    {
      "attachments": {},
      "cell_type": "markdown",
      "metadata": {},
      "source": [
        "### Step 2. Combine claims and evidences"
      ]
    },
    {
      "cell_type": "code",
      "execution_count": 17,
      "metadata": {
        "id": "4A5vWEzPiXGF"
      },
      "outputs": [
        {
          "name": "stdout",
          "output_type": "stream",
          "text": [
            "Now using the following train data with 0 (Negative) and 1 (Positive)\n",
            "0    3347\n",
            "1    2774\n",
            "Name: label, dtype: int64\n"
          ]
        }
      ],
      "source": [
        "train_df = pair_with_wiki_sentences(\n",
        "    mapping,\n",
        "    pd.DataFrame(TRAIN_GT),\n",
        "    NEGATIVE_RATIO,\n",
        ")\n",
        "counts = train_df[\"label\"].value_counts()\n",
        "print(\"Now using the following train data with 0 (Negative) and 1 (Positive)\")\n",
        "print(counts)\n",
        "\n",
        "dev_evidences = pair_with_wiki_sentences_eval(mapping, pd.DataFrame(DEV_GT))"
      ]
    },
    {
      "attachments": {},
      "cell_type": "markdown",
      "metadata": {},
      "source": [
        "### Step 3. Start training"
      ]
    },
    {
      "attachments": {},
      "cell_type": "markdown",
      "metadata": {},
      "source": [
        "Dataloader things"
      ]
    },
    {
      "cell_type": "code",
      "execution_count": 18,
      "metadata": {
        "id": "l48WifjeIGui"
      },
      "outputs": [],
      "source": [
        "tokenizer = AutoTokenizer.from_pretrained(MODEL_NAME)\n",
        "\n",
        "train_dataset = SentRetrievalBERTDataset(train_df, tokenizer=tokenizer)\n",
        "val_dataset = SentRetrievalBERTDataset(dev_evidences, tokenizer=tokenizer)\n",
        "\n",
        "train_dataloader = DataLoader(\n",
        "    train_dataset,\n",
        "    shuffle=True,\n",
        "    batch_size=TRAIN_BATCH_SIZE,\n",
        ")\n",
        "eval_dataloader = DataLoader(val_dataset, batch_size=TEST_BATCH_SIZE)"
      ]
    },
    {
      "attachments": {},
      "cell_type": "markdown",
      "metadata": {},
      "source": [
        "Save your memory."
      ]
    },
    {
      "cell_type": "code",
      "execution_count": 19,
      "metadata": {},
      "outputs": [],
      "source": [
        "del train_df"
      ]
    },
    {
      "attachments": {},
      "cell_type": "markdown",
      "metadata": {},
      "source": [
        "Trainer"
      ]
    },
    {
      "cell_type": "code",
      "execution_count": 20,
      "metadata": {
        "id": "4rl_u0YbeQtY"
      },
      "outputs": [
        {
          "name": "stdout",
          "output_type": "stream",
          "text": [
            "True\n"
          ]
        },
        {
          "name": "stderr",
          "output_type": "stream",
          "text": [
            "Some weights of the model checkpoint at bert-base-chinese were not used when initializing BertForSequenceClassification: ['cls.predictions.transform.dense.bias', 'cls.predictions.decoder.weight', 'cls.predictions.transform.LayerNorm.bias', 'cls.seq_relationship.bias', 'cls.predictions.transform.LayerNorm.weight', 'cls.seq_relationship.weight', 'cls.predictions.transform.dense.weight', 'cls.predictions.bias']\n",
            "- This IS expected if you are initializing BertForSequenceClassification from the checkpoint of a model trained on another task or with another architecture (e.g. initializing a BertForSequenceClassification model from a BertForPreTraining model).\n",
            "- This IS NOT expected if you are initializing BertForSequenceClassification from the checkpoint of a model that you expect to be exactly identical (initializing a BertForSequenceClassification model from a BertForSequenceClassification model).\n",
            "Some weights of BertForSequenceClassification were not initialized from the model checkpoint at bert-base-chinese and are newly initialized: ['classifier.bias', 'classifier.weight']\n",
            "You should probably TRAIN this model on a down-stream task to be able to use it for predictions and inference.\n"
          ]
        }
      ],
      "source": [
        "device = torch.device(\"cuda\") if torch.cuda.is_available() else torch.device(\n",
        "    \"cpu\")\n",
        "print(torch.cuda.is_available())\n",
        "model = AutoModelForSequenceClassification.from_pretrained(MODEL_NAME)\n",
        "model.to(device)\n",
        "\n",
        "optimizer = AdamW(model.parameters(), lr=LR)\n",
        "num_training_steps = NUM_EPOCHS * len(train_dataloader)\n",
        "lr_scheduler = set_lr_scheduler(optimizer, num_training_steps)\n",
        "\n",
        "writer = SummaryWriter(LOG_DIR)"
      ]
    },
    {
      "attachments": {},
      "cell_type": "markdown",
      "metadata": {},
      "source": [
        "Please make sure that you are using gpu when training (5 min)"
      ]
    },
    {
      "cell_type": "code",
      "execution_count": 35,
      "metadata": {
        "id": "1AHGaKh1eKmg"
      },
      "outputs": [
        {
          "data": {
            "application/vnd.jupyter.widget-view+json": {
              "model_id": "4cfe5d685d6d4c179e3a4411624aa779",
              "version_major": 2,
              "version_minor": 0
            },
            "text/plain": [
              "  0%|          | 0/185 [00:00<?, ?it/s]"
            ]
          },
          "metadata": {},
          "output_type": "display_data"
        },
        {
          "name": "stdout",
          "output_type": "stream",
          "text": [
            "Start validation\n"
          ]
        },
        {
          "data": {
            "application/vnd.jupyter.widget-view+json": {
              "model_id": "c1d2a95527de47f2bb0282cf53c14c33",
              "version_major": 2,
              "version_minor": 0
            },
            "text/plain": [
              "  0%|          | 0/128 [00:00<?, ?it/s]"
            ]
          },
          "metadata": {},
          "output_type": "display_data"
        }
      ],
      "source": [
        "progress_bar = tqdm(range(num_training_steps))\n",
        "current_steps = 0\n",
        "\n",
        "for epoch in range(NUM_EPOCHS):\n",
        "    model.train()\n",
        "\n",
        "    for batch in train_dataloader:\n",
        "        batch = {k: v.to(device) for k, v in batch.items()}\n",
        "        outputs = model(**batch)\n",
        "        loss = outputs.loss\n",
        "        loss.backward()\n",
        "\n",
        "        optimizer.step()\n",
        "        lr_scheduler.step()\n",
        "        optimizer.zero_grad()\n",
        "        progress_bar.update(1)\n",
        "        writer.add_scalar(\"training_loss\", loss.item(), current_steps)\n",
        "\n",
        "        y_pred = torch.argmax(outputs.logits, dim=1).tolist()\n",
        "        y_true = batch[\"labels\"].tolist()\n",
        "\n",
        "        current_steps += 1\n",
        "\n",
        "        if current_steps % VALIDATION_STEP == 0 and current_steps > 0:\n",
        "            print(\"Start validation\")\n",
        "            probs = get_predicted_probs(model, eval_dataloader, device)\n",
        "\n",
        "            val_results = evaluate_retrieval(\n",
        "                probs=probs,\n",
        "                df_evidences=dev_evidences,\n",
        "                ground_truths=DEV_GT,\n",
        "                top_n=TOP_N,\n",
        "            )\n",
        "            print(val_results)\n",
        "\n",
        "            # log each metric separately to TensorBoard\n",
        "            for metric_name, metric_value in val_results.items():\n",
        "                writer.add_scalar(\n",
        "                    f\"dev_{metric_name}\",\n",
        "                    metric_value,\n",
        "                    current_steps,\n",
        "                )\n",
        "\n",
        "            save_checkpoint(model, CKPT_DIR, current_steps)\n",
        "\n",
        "print(\"Finished training!\")"
      ]
    },
    {
      "cell_type": "code",
      "execution_count": 34,
      "metadata": {},
      "outputs": [
        {
          "data": {
            "text/plain": [
              "Reusing TensorBoard on port 6006 (pid 17672), started 0:15:52 ago. (Use '!kill 17672' to kill it.)"
            ]
          },
          "metadata": {},
          "output_type": "display_data"
        },
        {
          "data": {
            "text/html": [
              "\n",
              "      <iframe id=\"tensorboard-frame-cc81d59ee39cb06f\" width=\"100%\" height=\"800\" frameborder=\"0\">\n",
              "      </iframe>\n",
              "      <script>\n",
              "        (function() {\n",
              "          const frame = document.getElementById(\"tensorboard-frame-cc81d59ee39cb06f\");\n",
              "          const url = new URL(\"http://localhost\");\n",
              "          const port = 6006;\n",
              "          if (port) {\n",
              "            url.port = port;\n",
              "          }\n",
              "          frame.src = url;\n",
              "        })();\n",
              "      </script>\n",
              "    "
            ],
            "text/plain": [
              "<IPython.core.display.HTML object>"
            ]
          },
          "metadata": {},
          "output_type": "display_data"
        }
      ],
      "source": [
        "%load_ext tensorboard\n",
        "%tensorboard --logdir logs"
      ]
    },
    {
      "attachments": {},
      "cell_type": "markdown",
      "metadata": {},
      "source": [
        "Validation part (15 mins)"
      ]
    },
    {
      "cell_type": "code",
      "execution_count": 37,
      "metadata": {
        "id": "QS1Ei5DAIO5p"
      },
      "outputs": [
        {
          "name": "stdout",
          "output_type": "stream",
          "text": [
            "Start final evaluations and write prediction files.\n",
            "Start calculating training scores\n"
          ]
        },
        {
          "data": {
            "application/vnd.jupyter.widget-view+json": {
              "model_id": "40032c4d44dd408aaf5d0b7eddb7b3be",
              "version_major": 2,
              "version_minor": 0
            },
            "text/plain": [
              "  0%|          | 0/505 [00:00<?, ?it/s]"
            ]
          },
          "metadata": {},
          "output_type": "display_data"
        },
        {
          "name": "stdout",
          "output_type": "stream",
          "text": [
            "Training scores => {'F1 score': 0.4025395110732468, 'Precision': 0.26937664041994885, 'Recall': 0.7960629921259843}\n",
            "Start validation\n"
          ]
        },
        {
          "data": {
            "application/vnd.jupyter.widget-view+json": {
              "model_id": "59596f0baaae4f3680483ccf8d1ecbb4",
              "version_major": 2,
              "version_minor": 0
            },
            "text/plain": [
              "  0%|          | 0/128 [00:00<?, ?it/s]"
            ]
          },
          "metadata": {},
          "output_type": "display_data"
        },
        {
          "name": "stdout",
          "output_type": "stream",
          "text": [
            "Validation scores => {'F1 score': 0.3646408438320653, 'Precision': 0.23765723270440292, 'Recall': 0.7830188679245284}\n"
          ]
        }
      ],
      "source": [
        "ckpt_name = \"model.50.pt\"  #@param {type:\"string\"}\n",
        "model = load_model(model, ckpt_name, CKPT_DIR)\n",
        "print(\"Start final evaluations and write prediction files.\")\n",
        "\n",
        "train_evidences = pair_with_wiki_sentences_eval(\n",
        "    mapping=mapping,\n",
        "    df=pd.DataFrame(TRAIN_GT),\n",
        ")\n",
        "train_set = SentRetrievalBERTDataset(train_evidences, tokenizer)\n",
        "train_dataloader = DataLoader(train_set, batch_size=TEST_BATCH_SIZE)\n",
        "\n",
        "print(\"Start calculating training scores\")\n",
        "probs = get_predicted_probs(model, train_dataloader, device)\n",
        "train_results = evaluate_retrieval(\n",
        "    probs=probs,\n",
        "    df_evidences=train_evidences,\n",
        "    ground_truths=TRAIN_GT,\n",
        "    top_n=TOP_N,\n",
        "    save_name=f\"train_doc5sent{TOP_N}.jsonl\",\n",
        ")\n",
        "print(f\"Training scores => {train_results}\")\n",
        "\n",
        "print(\"Start validation\")\n",
        "probs = get_predicted_probs(model, eval_dataloader, device)\n",
        "val_results = evaluate_retrieval(\n",
        "    probs=probs,\n",
        "    df_evidences=dev_evidences,\n",
        "    ground_truths=DEV_GT,\n",
        "    top_n=TOP_N,\n",
        "    save_name=f\"dev_doc5sent{TOP_N}.jsonl\",\n",
        ")\n",
        "\n",
        "print(f\"Validation scores => {val_results}\")"
      ]
    },
    {
      "attachments": {},
      "cell_type": "markdown",
      "metadata": {},
      "source": [
        "Load the model we want."
      ]
    },
    {
      "cell_type": "code",
      "execution_count": 39,
      "metadata": {},
      "outputs": [],
      "source": [
        "ckpt_name = \"model.50.pt\"\n",
        "model = load_model(model, ckpt_name, CKPT_DIR)"
      ]
    },
    {
      "attachments": {},
      "cell_type": "markdown",
      "metadata": {},
      "source": [
        "### Step 4. Check on our test data\n",
        "(5 min)"
      ]
    },
    {
      "cell_type": "code",
      "execution_count": 40,
      "metadata": {
        "id": "lVFusJqjmex-"
      },
      "outputs": [
        {
          "name": "stdout",
          "output_type": "stream",
          "text": [
            "Start predicting the test data\n"
          ]
        },
        {
          "data": {
            "application/vnd.jupyter.widget-view+json": {
              "model_id": "f4d71e0e18b64334b131f01da0068afa",
              "version_major": 2,
              "version_minor": 0
            },
            "text/plain": [
              "  0%|          | 0/162 [00:00<?, ?it/s]"
            ]
          },
          "metadata": {},
          "output_type": "display_data"
        }
      ],
      "source": [
        "test_data = load_json(\"data/test_doc5.jsonl\")\n",
        "\n",
        "test_evidences = pair_with_wiki_sentences_eval(\n",
        "    mapping,\n",
        "    pd.DataFrame(test_data),\n",
        "    is_testset=True,\n",
        ")\n",
        "test_set = SentRetrievalBERTDataset(test_evidences, tokenizer)\n",
        "test_dataloader = DataLoader(test_set, batch_size=TEST_BATCH_SIZE)\n",
        "\n",
        "print(\"Start predicting the test data\")\n",
        "probs = get_predicted_probs(model, test_dataloader, device)\n",
        "evaluate_retrieval(\n",
        "    probs=probs,\n",
        "    df_evidences=test_evidences,\n",
        "    ground_truths=test_data,\n",
        "    top_n=TOP_N,\n",
        "    cal_scores=False,\n",
        "    save_name=f\"test_doc5sent{TOP_N}.jsonl\",\n",
        ")"
      ]
    },
    {
      "cell_type": "code",
      "execution_count": null,
      "metadata": {},
      "outputs": [],
      "source": [
        "del wiki_pages"
      ]
    },
    {
      "attachments": {},
      "cell_type": "markdown",
      "metadata": {
        "id": "lGzl8a5JteT7"
      },
      "source": [
        "notebook3\n",
        "## PART 3. Claim verification"
      ]
    },
    {
      "attachments": {},
      "cell_type": "markdown",
      "metadata": {},
      "source": [
        "import libs"
      ]
    },
    {
      "cell_type": "code",
      "execution_count": 1,
      "metadata": {
        "id": "tgA1vcUyzjlx"
      },
      "outputs": [],
      "source": [
        "import pickle\n",
        "from pathlib import Path\n",
        "from typing import Dict, Tuple\n",
        "\n",
        "import numpy as np\n",
        "import pandas as pd\n",
        "from pandarallel import pandarallel\n",
        "from tqdm.auto import tqdm\n",
        "\n",
        "import torch\n",
        "from sklearn.metrics import accuracy_score\n",
        "from torch.optim import AdamW\n",
        "from torch.utils.data import DataLoader\n",
        "from torch.utils.tensorboard import SummaryWriter\n",
        "from transformers import (\n",
        "    AutoModelForSequenceClassification,\n",
        "    AutoTokenizer,\n",
        "    get_scheduler,\n",
        ")\n",
        "\n",
        "from dataset import BERTDataset\n",
        "from utils import (\n",
        "    generate_evidence_to_wiki_pages_mapping,\n",
        "    jsonl_dir_to_df,\n",
        "    load_json,\n",
        "    load_model,\n",
        "    save_checkpoint,\n",
        "    set_lr_scheduler,\n",
        ")\n",
        "\n",
        "pandarallel.initialize(progress_bar=True, verbose=0, nb_workers=4)"
      ]
    },
    {
      "attachments": {},
      "cell_type": "markdown",
      "metadata": {},
      "source": [
        "Global variables"
      ]
    },
    {
      "cell_type": "code",
      "execution_count": 2,
      "metadata": {},
      "outputs": [],
      "source": [
        "LABEL2ID: Dict[str, int] = {\n",
        "    \"supports\": 0,\n",
        "    \"refutes\": 1,\n",
        "    \"NOT ENOUGH INFO\": 2,\n",
        "}\n",
        "ID2LABEL: Dict[int, str] = {v: k for k, v in LABEL2ID.items()}\n",
        "\n",
        "TRAIN_DATA = load_json(\"data/train_doc5sent5.jsonl\")\n",
        "DEV_DATA = load_json(\"data/dev_doc5sent5.jsonl\")\n",
        "\n",
        "TRAIN_PKL_FILE = Path(\"data/train_doc5sent5.pkl\")\n",
        "DEV_PKL_FILE = Path(\"data/dev_doc5sent5.pkl\")"
      ]
    },
    {
      "attachments": {},
      "cell_type": "markdown",
      "metadata": {},
      "source": [
        "Preload wiki database (same as part 2.)"
      ]
    },
    {
      "cell_type": "code",
      "execution_count": 3,
      "metadata": {},
      "outputs": [
        {
          "name": "stdout",
          "output_type": "stream",
          "text": [
            "Reading and concatenating jsonl files in data/wiki-pages\n",
            "Generate parse mapping\n"
          ]
        },
        {
          "data": {
            "application/vnd.jupyter.widget-view+json": {
              "model_id": "85bd6625690d4a20b17614621559c9e9",
              "version_major": 2,
              "version_minor": 0
            },
            "text/plain": [
              "VBox(children=(HBox(children=(IntProgress(value=0, description='0.00%', max=296938), Label(value='0 / 296938')…"
            ]
          },
          "metadata": {},
          "output_type": "display_data"
        },
        {
          "name": "stdout",
          "output_type": "stream",
          "text": [
            "Transform to id to evidence_map mapping\n"
          ]
        }
      ],
      "source": [
        "wiki_pages = jsonl_dir_to_df(\"data/wiki-pages\")\n",
        "mapping = generate_evidence_to_wiki_pages_mapping(wiki_pages,)\n",
        "del wiki_pages"
      ]
    },
    {
      "attachments": {},
      "cell_type": "markdown",
      "metadata": {},
      "source": [
        "### Helper function"
      ]
    },
    {
      "attachments": {},
      "cell_type": "markdown",
      "metadata": {},
      "source": [
        "AICUP dataset with top-k evidence sentences."
      ]
    },
    {
      "cell_type": "code",
      "execution_count": 4,
      "metadata": {},
      "outputs": [],
      "source": [
        "class AicupTopkEvidenceBERTDataset(BERTDataset):\n",
        "    \"\"\"AICUP dataset with top-k evidence sentences.\"\"\"\n",
        "\n",
        "    def __getitem__(\n",
        "        self,\n",
        "        idx: int,\n",
        "        **kwargs,\n",
        "    ) -> Tuple[Dict[str, torch.Tensor], int]:\n",
        "        item = self.data.iloc[idx]\n",
        "        claim = item[\"claim\"]\n",
        "        evidence = item[\"evidence_list\"]\n",
        "\n",
        "        # In case there are less than topk evidence sentences\n",
        "        pad = [\"[PAD]\"] * (self.topk - len(evidence))\n",
        "        evidence += pad\n",
        "        concat_claim_evidence = \" [SEP] \".join([*claim, *evidence])\n",
        "\n",
        "        concat = self.tokenizer(\n",
        "            concat_claim_evidence,\n",
        "            padding=\"max_length\",\n",
        "            max_length=self.max_length,\n",
        "            truncation=True,\n",
        "        )\n",
        "        label = LABEL2ID[item[\"label\"]] if \"label\" in item else -1\n",
        "        concat_ten = {k: torch.tensor(v) for k, v in concat.items()}\n",
        "\n",
        "        if \"label\" in item:\n",
        "            concat_ten[\"labels\"] = torch.tensor(label)\n",
        "\n",
        "        return concat_ten"
      ]
    },
    {
      "attachments": {},
      "cell_type": "markdown",
      "metadata": {},
      "source": [
        "Evaluation function"
      ]
    },
    {
      "cell_type": "code",
      "execution_count": 5,
      "metadata": {},
      "outputs": [],
      "source": [
        "def run_evaluation(model: torch.nn.Module, dataloader: DataLoader, device):\n",
        "    model.eval()\n",
        "\n",
        "    loss = 0\n",
        "    y_true = []\n",
        "    y_pred = []\n",
        "    with torch.no_grad():\n",
        "        for batch in tqdm(dataloader):\n",
        "            y_true.extend(batch[\"labels\"].tolist())\n",
        "\n",
        "            batch = {k: v.to(device) for k, v in batch.items()}\n",
        "            outputs = model(**batch)\n",
        "            loss += outputs.loss.item()\n",
        "            logits = outputs.logits\n",
        "            y_pred.extend(torch.argmax(logits, dim=1).tolist())\n",
        "\n",
        "    acc = accuracy_score(y_true, y_pred)\n",
        "\n",
        "    return {\"val_loss\": loss / len(dataloader), \"val_acc\": acc}"
      ]
    },
    {
      "attachments": {},
      "cell_type": "markdown",
      "metadata": {},
      "source": [
        "Prediction"
      ]
    },
    {
      "cell_type": "code",
      "execution_count": 6,
      "metadata": {},
      "outputs": [],
      "source": [
        "def run_predict(model: torch.nn.Module, test_dl: DataLoader, device) -> list:\n",
        "    model.eval()\n",
        "\n",
        "    preds = []\n",
        "    for batch in tqdm(test_dl,\n",
        "                      total=len(test_dl),\n",
        "                      leave=False,\n",
        "                      desc=\"Predicting\"):\n",
        "        batch = {k: v.to(device) for k, v in batch.items()}\n",
        "        pred = model(**batch).logits\n",
        "        pred = torch.argmax(pred, dim=1)\n",
        "        preds.extend(pred.tolist())\n",
        "    return preds"
      ]
    },
    {
      "attachments": {},
      "cell_type": "markdown",
      "metadata": {},
      "source": [
        "### Main function"
      ]
    },
    {
      "cell_type": "code",
      "execution_count": 7,
      "metadata": {},
      "outputs": [],
      "source": [
        "def join_with_topk_evidence(\n",
        "    df: pd.DataFrame,\n",
        "    mapping: dict,\n",
        "    mode: str = \"train\",\n",
        "    topk: int = 5,\n",
        ") -> pd.DataFrame:\n",
        "    \"\"\"join_with_topk_evidence join the dataset with topk evidence.\n",
        "\n",
        "    Note:\n",
        "        After extraction, the dataset will be like this:\n",
        "               id     label         claim                           evidence            evidence_list\n",
        "        0    4604  supports       高行健...     [[[3393, 3552, 高行健, 0], [...  [高行健 （ ）江西赣州出...\n",
        "        ..    ...       ...            ...                                ...                     ...\n",
        "        945  2095  supports       美國總...  [[[1879, 2032, 吉米·卡特, 16], [...  [卸任后 ， 卡特積極參與...\n",
        "        停各种战争及人質危機的斡旋工作 ， 反对美国小布什政府攻打伊拉克...\n",
        "\n",
        "        [946 rows x 5 columns]\n",
        "\n",
        "    Args:\n",
        "        df (pd.DataFrame): The dataset with evidence.\n",
        "        wiki_pages (pd.DataFrame): The wiki pages dataframe\n",
        "        topk (int, optional): The topk evidence. Defaults to 5.\n",
        "        cache(Union[Path, str], optional): The cache file path. Defaults to None.\n",
        "            If cache is None, return the result directly.\n",
        "\n",
        "    Returns:\n",
        "        pd.DataFrame: The dataset with topk evidence_list.\n",
        "            The `evidence_list` column will be: List[str]\n",
        "    \"\"\"\n",
        "\n",
        "    # format evidence column to List[List[Tuple[str, str, str, str]]]\n",
        "    if \"evidence\" in df.columns:\n",
        "        df[\"evidence\"] = df[\"evidence\"].parallel_map(\n",
        "            lambda x: [[x]] if not isinstance(x[0], list) else [x]\n",
        "            if not isinstance(x[0][0], list) else x)\n",
        "\n",
        "    print(f\"Extracting evidence_list for the {mode} mode ...\")\n",
        "    if mode == \"eval\":\n",
        "        # extract evidence\n",
        "        df[\"evidence_list\"] = df[\"predicted_evidence\"].parallel_map(lambda x: [\n",
        "            mapping.get(evi_id, {}).get(str(evi_idx), \"\")\n",
        "            for evi_id, evi_idx in x  # for each evidence list\n",
        "        ][:topk] if isinstance(x, list) else [])\n",
        "        print(df[\"evidence_list\"][:5])\n",
        "    else:\n",
        "        # extract evidence\n",
        "        df[\"evidence_list\"] = df[\"evidence\"].parallel_map(lambda x: [\n",
        "            \" \".join([  # join evidence\n",
        "                mapping.get(evi_id, {}).get(str(evi_idx), \"\")\n",
        "                for _, _, evi_id, evi_idx in evi_list\n",
        "            ]) if isinstance(evi_list, list) else \"\"\n",
        "            for evi_list in x  # for each evidence list\n",
        "        ][:1] if isinstance(x, list) else [])\n",
        "\n",
        "    return df"
      ]
    },
    {
      "attachments": {},
      "cell_type": "markdown",
      "metadata": {},
      "source": [
        "### Step 1. Setup training environment"
      ]
    },
    {
      "attachments": {},
      "cell_type": "markdown",
      "metadata": {},
      "source": [
        "Hyperparams"
      ]
    },
    {
      "cell_type": "code",
      "execution_count": 8,
      "metadata": {},
      "outputs": [],
      "source": [
        "#@title  { display-mode: \"form\" }\n",
        "\n",
        "MODEL_NAME = \"bert-base-chinese\"  #@param {type:\"string\"}\n",
        "TRAIN_BATCH_SIZE = 32  #@param {type:\"integer\"}\n",
        "TEST_BATCH_SIZE = 32  #@param {type:\"integer\"}\n",
        "SEED = 42  #@param {type:\"integer\"}\n",
        "LR = 7e-5  #@param {type:\"number\"}\n",
        "NUM_EPOCHS = 20  #@param {type:\"integer\"}\n",
        "MAX_SEQ_LEN = 256  #@param {type:\"integer\"}\n",
        "EVIDENCE_TOPK = 5  #@param {type:\"integer\"}\n",
        "VALIDATION_STEP = 25  #@param {type:\"integer\"}\n"
      ]
    },
    {
      "attachments": {},
      "cell_type": "markdown",
      "metadata": {},
      "source": [
        "Experiment Directory"
      ]
    },
    {
      "cell_type": "code",
      "execution_count": 9,
      "metadata": {},
      "outputs": [],
      "source": [
        "OUTPUT_FILENAME = \"submission.jsonl\"\n",
        "\n",
        "EXP_DIR = f\"claim_verification/e{NUM_EPOCHS}_bs{TRAIN_BATCH_SIZE}_\" + f\"{LR}_top{EVIDENCE_TOPK}\"\n",
        "LOG_DIR = \"logs/\" + EXP_DIR\n",
        "CKPT_DIR = \"checkpoints/\" + EXP_DIR\n",
        "\n",
        "if not Path(LOG_DIR).exists():\n",
        "    Path(LOG_DIR).mkdir(parents=True)\n",
        "\n",
        "if not Path(CKPT_DIR).exists():\n",
        "    Path(CKPT_DIR).mkdir(parents=True)"
      ]
    },
    {
      "attachments": {},
      "cell_type": "markdown",
      "metadata": {},
      "source": [
        "### Step 2. Concat claim and evidences\n",
        "join topk evidence"
      ]
    },
    {
      "cell_type": "code",
      "execution_count": 11,
      "metadata": {},
      "outputs": [],
      "source": [
        "if not TRAIN_PKL_FILE.exists():\n",
        "    train_df = join_with_topk_evidence(\n",
        "        pd.DataFrame(TRAIN_DATA),\n",
        "        mapping,\n",
        "        topk=EVIDENCE_TOPK,\n",
        "    )\n",
        "    train_df.to_pickle(TRAIN_PKL_FILE, protocol=4)\n",
        "else:\n",
        "    with open(TRAIN_PKL_FILE, \"rb\") as f:\n",
        "        train_df = pickle.load(f)\n",
        "\n",
        "if not DEV_PKL_FILE.exists():\n",
        "    dev_df = join_with_topk_evidence(\n",
        "        pd.DataFrame(DEV_DATA),\n",
        "        mapping,\n",
        "        mode=\"eval\",\n",
        "        topk=EVIDENCE_TOPK,\n",
        "    )\n",
        "    dev_df.to_pickle(DEV_PKL_FILE, protocol=4)\n",
        "else:\n",
        "    with open(DEV_PKL_FILE, \"rb\") as f:\n",
        "        dev_df = pickle.load(f)"
      ]
    },
    {
      "attachments": {},
      "cell_type": "markdown",
      "metadata": {},
      "source": [
        "### Step 3. Training"
      ]
    },
    {
      "attachments": {},
      "cell_type": "markdown",
      "metadata": {},
      "source": [
        "Prevent CUDA out of memory"
      ]
    },
    {
      "cell_type": "code",
      "execution_count": 14,
      "metadata": {},
      "outputs": [],
      "source": [
        "torch.cuda.empty_cache()"
      ]
    },
    {
      "cell_type": "code",
      "execution_count": 12,
      "metadata": {
        "id": "O0rVk3990DlD"
      },
      "outputs": [],
      "source": [
        "tokenizer = AutoTokenizer.from_pretrained(MODEL_NAME)\n",
        "\n",
        "train_dataset = AicupTopkEvidenceBERTDataset(\n",
        "    train_df,\n",
        "    tokenizer=tokenizer,\n",
        "    max_length=MAX_SEQ_LEN,\n",
        ")\n",
        "val_dataset = AicupTopkEvidenceBERTDataset(\n",
        "    dev_df,\n",
        "    tokenizer=tokenizer,\n",
        "    max_length=MAX_SEQ_LEN,\n",
        ")\n",
        "\n",
        "train_dataloader = DataLoader(\n",
        "    train_dataset,\n",
        "    shuffle=True,\n",
        "    batch_size=TRAIN_BATCH_SIZE,\n",
        "    num_workers=0,\n",
        ")\n",
        "eval_dataloader = DataLoader(val_dataset, batch_size=TEST_BATCH_SIZE, num_workers=0,)"
      ]
    },
    {
      "cell_type": "code",
      "execution_count": 13,
      "metadata": {
        "id": "CzMgs-Zs3sTN"
      },
      "outputs": [
        {
          "name": "stderr",
          "output_type": "stream",
          "text": [
            "Some weights of the model checkpoint at bert-base-chinese were not used when initializing BertForSequenceClassification: ['cls.predictions.decoder.weight', 'cls.predictions.transform.LayerNorm.weight', 'cls.predictions.transform.dense.bias', 'cls.predictions.bias', 'cls.seq_relationship.bias', 'cls.predictions.transform.LayerNorm.bias', 'cls.seq_relationship.weight', 'cls.predictions.transform.dense.weight']\n",
            "- This IS expected if you are initializing BertForSequenceClassification from the checkpoint of a model trained on another task or with another architecture (e.g. initializing a BertForSequenceClassification model from a BertForPreTraining model).\n",
            "- This IS NOT expected if you are initializing BertForSequenceClassification from the checkpoint of a model that you expect to be exactly identical (initializing a BertForSequenceClassification model from a BertForSequenceClassification model).\n",
            "Some weights of BertForSequenceClassification were not initialized from the model checkpoint at bert-base-chinese and are newly initialized: ['classifier.bias', 'classifier.weight']\n",
            "You should probably TRAIN this model on a down-stream task to be able to use it for predictions and inference.\n"
          ]
        }
      ],
      "source": [
        "device = torch.device(\"cuda\") if torch.cuda.is_available() else torch.device(\"cpu\")\n",
        "# device = torch.device(\"cpu\")\n",
        "\n",
        "model = AutoModelForSequenceClassification.from_pretrained(\n",
        "    MODEL_NAME,\n",
        "    num_labels=len(LABEL2ID),\n",
        ")\n",
        "torch.cuda.empty_cache()\n",
        "model.to(device)\n",
        "optimizer = AdamW(model.parameters(), lr=LR)\n",
        "num_training_steps = NUM_EPOCHS * len(train_dataloader)\n",
        "lr_scheduler = set_lr_scheduler(optimizer, num_training_steps)\n",
        "\n",
        "writer = SummaryWriter(LOG_DIR)"
      ]
    },
    {
      "attachments": {},
      "cell_type": "markdown",
      "metadata": {},
      "source": [
        "Training (30 mins)"
      ]
    },
    {
      "cell_type": "code",
      "execution_count": 48,
      "metadata": {
        "id": "_aqMjEek3wmu"
      },
      "outputs": [
        {
          "data": {
            "application/vnd.jupyter.widget-view+json": {
              "model_id": "7027a95f703145abb427614d252627fe",
              "version_major": 2,
              "version_minor": 0
            },
            "text/plain": [
              "  0%|          | 0/7900 [00:00<?, ?it/s]"
            ]
          },
          "metadata": {},
          "output_type": "display_data"
        },
        {
          "name": "stdout",
          "output_type": "stream",
          "text": [
            "Start validation\n"
          ]
        },
        {
          "data": {
            "application/vnd.jupyter.widget-view+json": {
              "model_id": "3d104e7ac251430a80c9a329ea28d286",
              "version_major": 2,
              "version_minor": 0
            },
            "text/plain": [
              "  0%|          | 0/99 [00:00<?, ?it/s]"
            ]
          },
          "metadata": {},
          "output_type": "display_data"
        },
        {
          "name": "stdout",
          "output_type": "stream",
          "text": [
            "val_loss: 1.114389246762401\n",
            "val_acc: 0.39923954372623577\n",
            "Start validation\n"
          ]
        },
        {
          "data": {
            "application/vnd.jupyter.widget-view+json": {
              "model_id": "68cd83d8b49945a0bba023882defbe47",
              "version_major": 2,
              "version_minor": 0
            },
            "text/plain": [
              "  0%|          | 0/99 [00:00<?, ?it/s]"
            ]
          },
          "metadata": {},
          "output_type": "display_data"
        },
        {
          "name": "stdout",
          "output_type": "stream",
          "text": [
            "val_loss: 1.1316226064556776\n",
            "val_acc: 0.4017743979721166\n",
            "Start validation\n"
          ]
        },
        {
          "data": {
            "application/vnd.jupyter.widget-view+json": {
              "model_id": "20c3c1b056544429af57bc2f48f7f00b",
              "version_major": 2,
              "version_minor": 0
            },
            "text/plain": [
              "  0%|          | 0/99 [00:00<?, ?it/s]"
            ]
          },
          "metadata": {},
          "output_type": "display_data"
        },
        {
          "name": "stdout",
          "output_type": "stream",
          "text": [
            "val_loss: 1.19079269905283\n",
            "val_acc: 0.40304182509505704\n",
            "Start validation\n"
          ]
        },
        {
          "data": {
            "application/vnd.jupyter.widget-view+json": {
              "model_id": "0b0a86a626ab46d0890a14d4601bb1ed",
              "version_major": 2,
              "version_minor": 0
            },
            "text/plain": [
              "  0%|          | 0/99 [00:00<?, ?it/s]"
            ]
          },
          "metadata": {},
          "output_type": "display_data"
        },
        {
          "name": "stdout",
          "output_type": "stream",
          "text": [
            "val_loss: 1.1761916279792786\n",
            "val_acc: 0.39036755386565275\n",
            "Start validation\n"
          ]
        },
        {
          "data": {
            "application/vnd.jupyter.widget-view+json": {
              "model_id": "fe6b030a4de8494392ae70282d3d838f",
              "version_major": 2,
              "version_minor": 0
            },
            "text/plain": [
              "  0%|          | 0/99 [00:00<?, ?it/s]"
            ]
          },
          "metadata": {},
          "output_type": "display_data"
        },
        {
          "name": "stdout",
          "output_type": "stream",
          "text": [
            "val_loss: 1.279089006510648\n",
            "val_acc: 0.39923954372623577\n",
            "Start validation\n"
          ]
        },
        {
          "data": {
            "application/vnd.jupyter.widget-view+json": {
              "model_id": "dc4eafaeee814a299632ee91df335793",
              "version_major": 2,
              "version_minor": 0
            },
            "text/plain": [
              "  0%|          | 0/99 [00:00<?, ?it/s]"
            ]
          },
          "metadata": {},
          "output_type": "display_data"
        },
        {
          "name": "stdout",
          "output_type": "stream",
          "text": [
            "val_loss: 1.3377732556275648\n",
            "val_acc: 0.41191381495564006\n",
            "Start validation\n"
          ]
        },
        {
          "data": {
            "application/vnd.jupyter.widget-view+json": {
              "model_id": "891ee70ea2fe4d3db246dd3bb34dbddb",
              "version_major": 2,
              "version_minor": 0
            },
            "text/plain": [
              "  0%|          | 0/99 [00:00<?, ?it/s]"
            ]
          },
          "metadata": {},
          "output_type": "display_data"
        },
        {
          "name": "stdout",
          "output_type": "stream",
          "text": [
            "val_loss: 1.3664308292697174\n",
            "val_acc: 0.4017743979721166\n",
            "Start validation\n"
          ]
        },
        {
          "data": {
            "application/vnd.jupyter.widget-view+json": {
              "model_id": "c6bbba60f5d9414ea78e0189a9ad09bb",
              "version_major": 2,
              "version_minor": 0
            },
            "text/plain": [
              "  0%|          | 0/99 [00:00<?, ?it/s]"
            ]
          },
          "metadata": {},
          "output_type": "display_data"
        },
        {
          "name": "stdout",
          "output_type": "stream",
          "text": [
            "val_loss: 1.442280523102693\n",
            "val_acc: 0.39923954372623577\n",
            "Start validation\n"
          ]
        },
        {
          "data": {
            "application/vnd.jupyter.widget-view+json": {
              "model_id": "d332a9af3da647b38623e7e6ab9d1382",
              "version_major": 2,
              "version_minor": 0
            },
            "text/plain": [
              "  0%|          | 0/99 [00:00<?, ?it/s]"
            ]
          },
          "metadata": {},
          "output_type": "display_data"
        },
        {
          "name": "stdout",
          "output_type": "stream",
          "text": [
            "val_loss: 1.4725218969162064\n",
            "val_acc: 0.40430925221799746\n",
            "Start validation\n"
          ]
        },
        {
          "data": {
            "application/vnd.jupyter.widget-view+json": {
              "model_id": "7597399294524709960d3e6ddb7b00b8",
              "version_major": 2,
              "version_minor": 0
            },
            "text/plain": [
              "  0%|          | 0/99 [00:00<?, ?it/s]"
            ]
          },
          "metadata": {},
          "output_type": "display_data"
        },
        {
          "name": "stdout",
          "output_type": "stream",
          "text": [
            "val_loss: 1.456760449240906\n",
            "val_acc: 0.40304182509505704\n",
            "Start validation\n"
          ]
        },
        {
          "data": {
            "application/vnd.jupyter.widget-view+json": {
              "model_id": "a2294ec7441c4ba7af7ef7566bceabd2",
              "version_major": 2,
              "version_minor": 0
            },
            "text/plain": [
              "  0%|          | 0/99 [00:00<?, ?it/s]"
            ]
          },
          "metadata": {},
          "output_type": "display_data"
        },
        {
          "name": "stdout",
          "output_type": "stream",
          "text": [
            "val_loss: 1.3379164584959395\n",
            "val_acc: 0.4005069708491762\n",
            "Start validation\n"
          ]
        },
        {
          "data": {
            "application/vnd.jupyter.widget-view+json": {
              "model_id": "8ef5bb5509dd4bdbb5c0826afe8052bd",
              "version_major": 2,
              "version_minor": 0
            },
            "text/plain": [
              "  0%|          | 0/99 [00:00<?, ?it/s]"
            ]
          },
          "metadata": {},
          "output_type": "display_data"
        },
        {
          "name": "stdout",
          "output_type": "stream",
          "text": [
            "val_loss: 1.5474961592693521\n",
            "val_acc: 0.4017743979721166\n",
            "Start validation\n"
          ]
        },
        {
          "data": {
            "application/vnd.jupyter.widget-view+json": {
              "model_id": "1e4348aabf8947379e51a93bdd47bc26",
              "version_major": 2,
              "version_minor": 0
            },
            "text/plain": [
              "  0%|          | 0/99 [00:00<?, ?it/s]"
            ]
          },
          "metadata": {},
          "output_type": "display_data"
        },
        {
          "name": "stdout",
          "output_type": "stream",
          "text": [
            "val_loss: 1.6274360466485072\n",
            "val_acc: 0.4005069708491762\n",
            "Start validation\n"
          ]
        },
        {
          "data": {
            "application/vnd.jupyter.widget-view+json": {
              "model_id": "7cb299fb324c4dbaac942a4625374366",
              "version_major": 2,
              "version_minor": 0
            },
            "text/plain": [
              "  0%|          | 0/99 [00:00<?, ?it/s]"
            ]
          },
          "metadata": {},
          "output_type": "display_data"
        },
        {
          "name": "stdout",
          "output_type": "stream",
          "text": [
            "val_loss: 1.3992377730331036\n",
            "val_acc: 0.3979721166032953\n",
            "Start validation\n"
          ]
        },
        {
          "data": {
            "application/vnd.jupyter.widget-view+json": {
              "model_id": "ed0a2b309dc3472db9875572a7e63c81",
              "version_major": 2,
              "version_minor": 0
            },
            "text/plain": [
              "  0%|          | 0/99 [00:00<?, ?it/s]"
            ]
          },
          "metadata": {},
          "output_type": "display_data"
        },
        {
          "name": "stdout",
          "output_type": "stream",
          "text": [
            "val_loss: 1.5774370040556398\n",
            "val_acc: 0.4017743979721166\n",
            "Start validation\n"
          ]
        },
        {
          "data": {
            "application/vnd.jupyter.widget-view+json": {
              "model_id": "5debf7a825c74dbe8e6dd2e9f8757d2d",
              "version_major": 2,
              "version_minor": 0
            },
            "text/plain": [
              "  0%|          | 0/99 [00:00<?, ?it/s]"
            ]
          },
          "metadata": {},
          "output_type": "display_data"
        },
        {
          "name": "stdout",
          "output_type": "stream",
          "text": [
            "val_loss: 1.6046950558219293\n",
            "val_acc: 0.39923954372623577\n",
            "Start validation\n"
          ]
        },
        {
          "data": {
            "application/vnd.jupyter.widget-view+json": {
              "model_id": "a99a69c1b4bf430ab03c591d604dc4d4",
              "version_major": 2,
              "version_minor": 0
            },
            "text/plain": [
              "  0%|          | 0/99 [00:00<?, ?it/s]"
            ]
          },
          "metadata": {},
          "output_type": "display_data"
        },
        {
          "name": "stdout",
          "output_type": "stream",
          "text": [
            "val_loss: 1.7114758515598798\n",
            "val_acc: 0.4005069708491762\n",
            "Start validation\n"
          ]
        },
        {
          "data": {
            "application/vnd.jupyter.widget-view+json": {
              "model_id": "0678d0cd1f1a48a4868c3c0519f37f88",
              "version_major": 2,
              "version_minor": 0
            },
            "text/plain": [
              "  0%|          | 0/99 [00:00<?, ?it/s]"
            ]
          },
          "metadata": {},
          "output_type": "display_data"
        },
        {
          "name": "stdout",
          "output_type": "stream",
          "text": [
            "val_loss: 1.6305967120811193\n",
            "val_acc: 0.4017743979721166\n",
            "Start validation\n"
          ]
        },
        {
          "data": {
            "application/vnd.jupyter.widget-view+json": {
              "model_id": "113d69e835ad44a48e2ee049e0ae5bbc",
              "version_major": 2,
              "version_minor": 0
            },
            "text/plain": [
              "  0%|          | 0/99 [00:00<?, ?it/s]"
            ]
          },
          "metadata": {},
          "output_type": "display_data"
        },
        {
          "name": "stdout",
          "output_type": "stream",
          "text": [
            "val_loss: 1.6619010350920937\n",
            "val_acc: 0.39923954372623577\n",
            "Start validation\n"
          ]
        },
        {
          "data": {
            "application/vnd.jupyter.widget-view+json": {
              "model_id": "db3db36974a043338ee7599a69d05fdd",
              "version_major": 2,
              "version_minor": 0
            },
            "text/plain": [
              "  0%|          | 0/99 [00:00<?, ?it/s]"
            ]
          },
          "metadata": {},
          "output_type": "display_data"
        },
        {
          "name": "stdout",
          "output_type": "stream",
          "text": [
            "val_loss: 1.5201638870769076\n",
            "val_acc: 0.4017743979721166\n",
            "Start validation\n"
          ]
        },
        {
          "data": {
            "application/vnd.jupyter.widget-view+json": {
              "model_id": "cd7e61601c6648e5b270dd5ca1117849",
              "version_major": 2,
              "version_minor": 0
            },
            "text/plain": [
              "  0%|          | 0/99 [00:00<?, ?it/s]"
            ]
          },
          "metadata": {},
          "output_type": "display_data"
        },
        {
          "name": "stdout",
          "output_type": "stream",
          "text": [
            "val_loss: 1.5772019179180414\n",
            "val_acc: 0.40430925221799746\n",
            "Start validation\n"
          ]
        },
        {
          "data": {
            "application/vnd.jupyter.widget-view+json": {
              "model_id": "e9054838abc84fe0bad4faec66a3eb20",
              "version_major": 2,
              "version_minor": 0
            },
            "text/plain": [
              "  0%|          | 0/99 [00:00<?, ?it/s]"
            ]
          },
          "metadata": {},
          "output_type": "display_data"
        },
        {
          "name": "stdout",
          "output_type": "stream",
          "text": [
            "val_loss: 1.6082600812719325\n",
            "val_acc: 0.39923954372623577\n",
            "Start validation\n"
          ]
        },
        {
          "data": {
            "application/vnd.jupyter.widget-view+json": {
              "model_id": "3c4c5e833c62447f9a3322f3c454da31",
              "version_major": 2,
              "version_minor": 0
            },
            "text/plain": [
              "  0%|          | 0/99 [00:00<?, ?it/s]"
            ]
          },
          "metadata": {},
          "output_type": "display_data"
        },
        {
          "name": "stdout",
          "output_type": "stream",
          "text": [
            "val_loss: 1.4425658607723737\n",
            "val_acc: 0.40304182509505704\n",
            "Start validation\n"
          ]
        },
        {
          "data": {
            "application/vnd.jupyter.widget-view+json": {
              "model_id": "df9171a2a2d34fd4aaebdbc415dff195",
              "version_major": 2,
              "version_minor": 0
            },
            "text/plain": [
              "  0%|          | 0/99 [00:00<?, ?it/s]"
            ]
          },
          "metadata": {},
          "output_type": "display_data"
        },
        {
          "name": "stdout",
          "output_type": "stream",
          "text": [
            "val_loss: 1.5432460416447034\n",
            "val_acc: 0.39543726235741444\n",
            "Start validation\n"
          ]
        },
        {
          "data": {
            "application/vnd.jupyter.widget-view+json": {
              "model_id": "456967af30e447909b43a49a530ab727",
              "version_major": 2,
              "version_minor": 0
            },
            "text/plain": [
              "  0%|          | 0/99 [00:00<?, ?it/s]"
            ]
          },
          "metadata": {},
          "output_type": "display_data"
        },
        {
          "name": "stdout",
          "output_type": "stream",
          "text": [
            "val_loss: 1.6776298838432389\n",
            "val_acc: 0.40430925221799746\n",
            "Start validation\n"
          ]
        },
        {
          "data": {
            "application/vnd.jupyter.widget-view+json": {
              "model_id": "f85f650390a14e6086da78e8f2727e69",
              "version_major": 2,
              "version_minor": 0
            },
            "text/plain": [
              "  0%|          | 0/99 [00:00<?, ?it/s]"
            ]
          },
          "metadata": {},
          "output_type": "display_data"
        },
        {
          "name": "stdout",
          "output_type": "stream",
          "text": [
            "val_loss: 1.6333725133327524\n",
            "val_acc: 0.3979721166032953\n",
            "Start validation\n"
          ]
        },
        {
          "data": {
            "application/vnd.jupyter.widget-view+json": {
              "model_id": "315828cedda74f1b95f0cac2c93cb0c7",
              "version_major": 2,
              "version_minor": 0
            },
            "text/plain": [
              "  0%|          | 0/99 [00:00<?, ?it/s]"
            ]
          },
          "metadata": {},
          "output_type": "display_data"
        },
        {
          "name": "stdout",
          "output_type": "stream",
          "text": [
            "val_loss: 1.6597484482659235\n",
            "val_acc: 0.3979721166032953\n",
            "Start validation\n"
          ]
        },
        {
          "data": {
            "application/vnd.jupyter.widget-view+json": {
              "model_id": "f3d378f32e8341a2b1d191c0ead9675b",
              "version_major": 2,
              "version_minor": 0
            },
            "text/plain": [
              "  0%|          | 0/99 [00:00<?, ?it/s]"
            ]
          },
          "metadata": {},
          "output_type": "display_data"
        },
        {
          "name": "stdout",
          "output_type": "stream",
          "text": [
            "val_loss: 1.565665921779594\n",
            "val_acc: 0.4005069708491762\n",
            "Start validation\n"
          ]
        },
        {
          "data": {
            "application/vnd.jupyter.widget-view+json": {
              "model_id": "67ebe95a24e24a119bf694cc050a4ec4",
              "version_major": 2,
              "version_minor": 0
            },
            "text/plain": [
              "  0%|          | 0/99 [00:00<?, ?it/s]"
            ]
          },
          "metadata": {},
          "output_type": "display_data"
        },
        {
          "name": "stdout",
          "output_type": "stream",
          "text": [
            "val_loss: 1.6728206439451738\n",
            "val_acc: 0.4005069708491762\n",
            "Start validation\n"
          ]
        },
        {
          "data": {
            "application/vnd.jupyter.widget-view+json": {
              "model_id": "c985637048624d16bdc61294d828e9cd",
              "version_major": 2,
              "version_minor": 0
            },
            "text/plain": [
              "  0%|          | 0/99 [00:00<?, ?it/s]"
            ]
          },
          "metadata": {},
          "output_type": "display_data"
        },
        {
          "name": "stdout",
          "output_type": "stream",
          "text": [
            "val_loss: 1.7221430214968594\n",
            "val_acc: 0.4005069708491762\n",
            "Start validation\n"
          ]
        },
        {
          "data": {
            "application/vnd.jupyter.widget-view+json": {
              "model_id": "972f752157bc400fa3fbe0151849b75b",
              "version_major": 2,
              "version_minor": 0
            },
            "text/plain": [
              "  0%|          | 0/99 [00:00<?, ?it/s]"
            ]
          },
          "metadata": {},
          "output_type": "display_data"
        },
        {
          "name": "stdout",
          "output_type": "stream",
          "text": [
            "val_loss: 1.788847894379587\n",
            "val_acc: 0.39923954372623577\n",
            "Start validation\n"
          ]
        },
        {
          "data": {
            "application/vnd.jupyter.widget-view+json": {
              "model_id": "6143ede1834044858e3432b45f4fa285",
              "version_major": 2,
              "version_minor": 0
            },
            "text/plain": [
              "  0%|          | 0/99 [00:00<?, ?it/s]"
            ]
          },
          "metadata": {},
          "output_type": "display_data"
        },
        {
          "name": "stdout",
          "output_type": "stream",
          "text": [
            "val_loss: 1.6063556057034116\n",
            "val_acc: 0.4005069708491762\n",
            "Start validation\n"
          ]
        },
        {
          "data": {
            "application/vnd.jupyter.widget-view+json": {
              "model_id": "4d573a43ef494e158c4c81600d54e490",
              "version_major": 2,
              "version_minor": 0
            },
            "text/plain": [
              "  0%|          | 0/99 [00:00<?, ?it/s]"
            ]
          },
          "metadata": {},
          "output_type": "display_data"
        },
        {
          "name": "stdout",
          "output_type": "stream",
          "text": [
            "val_loss: 1.6055542092130641\n",
            "val_acc: 0.4005069708491762\n",
            "Start validation\n"
          ]
        },
        {
          "data": {
            "application/vnd.jupyter.widget-view+json": {
              "model_id": "0c6c523305914625bbabf998ae538efe",
              "version_major": 2,
              "version_minor": 0
            },
            "text/plain": [
              "  0%|          | 0/99 [00:00<?, ?it/s]"
            ]
          },
          "metadata": {},
          "output_type": "display_data"
        },
        {
          "name": "stdout",
          "output_type": "stream",
          "text": [
            "val_loss: 1.6360067761305608\n",
            "val_acc: 0.4005069708491762\n",
            "Start validation\n"
          ]
        },
        {
          "data": {
            "application/vnd.jupyter.widget-view+json": {
              "model_id": "3d37fda5423445c2b741e4dca7bf307f",
              "version_major": 2,
              "version_minor": 0
            },
            "text/plain": [
              "  0%|          | 0/99 [00:00<?, ?it/s]"
            ]
          },
          "metadata": {},
          "output_type": "display_data"
        },
        {
          "name": "stdout",
          "output_type": "stream",
          "text": [
            "val_loss: 1.688050759561134\n",
            "val_acc: 0.39670468948035487\n",
            "Start validation\n"
          ]
        },
        {
          "data": {
            "application/vnd.jupyter.widget-view+json": {
              "model_id": "ed06cbd657944cf9b7e13e8765401b3d",
              "version_major": 2,
              "version_minor": 0
            },
            "text/plain": [
              "  0%|          | 0/99 [00:00<?, ?it/s]"
            ]
          },
          "metadata": {},
          "output_type": "display_data"
        },
        {
          "name": "stdout",
          "output_type": "stream",
          "text": [
            "val_loss: 1.7771392651278564\n",
            "val_acc: 0.40304182509505704\n",
            "Start validation\n"
          ]
        },
        {
          "data": {
            "application/vnd.jupyter.widget-view+json": {
              "model_id": "a9c6fe7e61634a60a10f1c32c8522558",
              "version_major": 2,
              "version_minor": 0
            },
            "text/plain": [
              "  0%|          | 0/99 [00:00<?, ?it/s]"
            ]
          },
          "metadata": {},
          "output_type": "display_data"
        },
        {
          "name": "stdout",
          "output_type": "stream",
          "text": [
            "val_loss: 2.0613622436619767\n",
            "val_acc: 0.39670468948035487\n",
            "Start validation\n"
          ]
        },
        {
          "data": {
            "application/vnd.jupyter.widget-view+json": {
              "model_id": "3df43a3965d94f41ad44464d3f1a8395",
              "version_major": 2,
              "version_minor": 0
            },
            "text/plain": [
              "  0%|          | 0/99 [00:00<?, ?it/s]"
            ]
          },
          "metadata": {},
          "output_type": "display_data"
        },
        {
          "name": "stdout",
          "output_type": "stream",
          "text": [
            "val_loss: 1.3851500550905864\n",
            "val_acc: 0.41698352344740175\n",
            "Start validation\n"
          ]
        },
        {
          "data": {
            "application/vnd.jupyter.widget-view+json": {
              "model_id": "db7da096ba724674b34ad4243f76e7dd",
              "version_major": 2,
              "version_minor": 0
            },
            "text/plain": [
              "  0%|          | 0/99 [00:00<?, ?it/s]"
            ]
          },
          "metadata": {},
          "output_type": "display_data"
        },
        {
          "name": "stdout",
          "output_type": "stream",
          "text": [
            "val_loss: 1.759592714333775\n",
            "val_acc: 0.41064638783269963\n",
            "Start validation\n"
          ]
        },
        {
          "data": {
            "application/vnd.jupyter.widget-view+json": {
              "model_id": "98794ff38f794dc1a7b49654ed3024af",
              "version_major": 2,
              "version_minor": 0
            },
            "text/plain": [
              "  0%|          | 0/99 [00:00<?, ?it/s]"
            ]
          },
          "metadata": {},
          "output_type": "display_data"
        },
        {
          "name": "stdout",
          "output_type": "stream",
          "text": [
            "val_loss: 2.0486410573275404\n",
            "val_acc: 0.4017743979721166\n",
            "Start validation\n"
          ]
        },
        {
          "data": {
            "application/vnd.jupyter.widget-view+json": {
              "model_id": "ccd764d6cd794e5cbf94e4d27ca2ee7b",
              "version_major": 2,
              "version_minor": 0
            },
            "text/plain": [
              "  0%|          | 0/99 [00:00<?, ?it/s]"
            ]
          },
          "metadata": {},
          "output_type": "display_data"
        },
        {
          "name": "stdout",
          "output_type": "stream",
          "text": [
            "val_loss: 2.036674429069866\n",
            "val_acc: 0.4055766793409379\n",
            "Start validation\n"
          ]
        },
        {
          "data": {
            "application/vnd.jupyter.widget-view+json": {
              "model_id": "0be37ac57f254072aa5f5032fec12b11",
              "version_major": 2,
              "version_minor": 0
            },
            "text/plain": [
              "  0%|          | 0/99 [00:00<?, ?it/s]"
            ]
          },
          "metadata": {},
          "output_type": "display_data"
        },
        {
          "name": "stdout",
          "output_type": "stream",
          "text": [
            "val_loss: 1.836132632361518\n",
            "val_acc: 0.394169835234474\n",
            "Start validation\n"
          ]
        },
        {
          "data": {
            "application/vnd.jupyter.widget-view+json": {
              "model_id": "2a943ba9b2b3465fa4a1fa737a470275",
              "version_major": 2,
              "version_minor": 0
            },
            "text/plain": [
              "  0%|          | 0/99 [00:00<?, ?it/s]"
            ]
          },
          "metadata": {},
          "output_type": "display_data"
        },
        {
          "name": "stdout",
          "output_type": "stream",
          "text": [
            "val_loss: 1.8691654301653005\n",
            "val_acc: 0.4055766793409379\n",
            "Start validation\n"
          ]
        },
        {
          "data": {
            "application/vnd.jupyter.widget-view+json": {
              "model_id": "04d115eeee8a4300b4da6d05416f16ef",
              "version_major": 2,
              "version_minor": 0
            },
            "text/plain": [
              "  0%|          | 0/99 [00:00<?, ?it/s]"
            ]
          },
          "metadata": {},
          "output_type": "display_data"
        },
        {
          "name": "stdout",
          "output_type": "stream",
          "text": [
            "val_loss: 1.9113480069420554\n",
            "val_acc: 0.4055766793409379\n",
            "Start validation\n"
          ]
        },
        {
          "data": {
            "application/vnd.jupyter.widget-view+json": {
              "model_id": "94de1370da8741c2a2d54e052cbe925f",
              "version_major": 2,
              "version_minor": 0
            },
            "text/plain": [
              "  0%|          | 0/99 [00:00<?, ?it/s]"
            ]
          },
          "metadata": {},
          "output_type": "display_data"
        },
        {
          "name": "stdout",
          "output_type": "stream",
          "text": [
            "val_loss: 1.5370751360450128\n",
            "val_acc: 0.4055766793409379\n",
            "Start validation\n"
          ]
        },
        {
          "data": {
            "application/vnd.jupyter.widget-view+json": {
              "model_id": "5bba39b6147049848533b2b309944890",
              "version_major": 2,
              "version_minor": 0
            },
            "text/plain": [
              "  0%|          | 0/99 [00:00<?, ?it/s]"
            ]
          },
          "metadata": {},
          "output_type": "display_data"
        },
        {
          "name": "stdout",
          "output_type": "stream",
          "text": [
            "val_loss: 1.3365787207478224\n",
            "val_acc: 0.4005069708491762\n",
            "Start validation\n"
          ]
        },
        {
          "data": {
            "application/vnd.jupyter.widget-view+json": {
              "model_id": "f3e42eb6418f4ad9b821878df93debec",
              "version_major": 2,
              "version_minor": 0
            },
            "text/plain": [
              "  0%|          | 0/99 [00:00<?, ?it/s]"
            ]
          },
          "metadata": {},
          "output_type": "display_data"
        },
        {
          "name": "stdout",
          "output_type": "stream",
          "text": [
            "val_loss: 1.624794015378663\n",
            "val_acc: 0.4055766793409379\n",
            "Start validation\n"
          ]
        },
        {
          "data": {
            "application/vnd.jupyter.widget-view+json": {
              "model_id": "0ad16599bc18408e984be3477a8b1ae7",
              "version_major": 2,
              "version_minor": 0
            },
            "text/plain": [
              "  0%|          | 0/99 [00:00<?, ?it/s]"
            ]
          },
          "metadata": {},
          "output_type": "display_data"
        },
        {
          "name": "stdout",
          "output_type": "stream",
          "text": [
            "val_loss: 1.5801026429792848\n",
            "val_acc: 0.4055766793409379\n",
            "Start validation\n"
          ]
        },
        {
          "data": {
            "application/vnd.jupyter.widget-view+json": {
              "model_id": "d999fad55be043c3a3adb4fd5b7d3c3c",
              "version_major": 2,
              "version_minor": 0
            },
            "text/plain": [
              "  0%|          | 0/99 [00:00<?, ?it/s]"
            ]
          },
          "metadata": {},
          "output_type": "display_data"
        },
        {
          "name": "stdout",
          "output_type": "stream",
          "text": [
            "val_loss: 1.2080159837549382\n",
            "val_acc: 0.4005069708491762\n",
            "Start validation\n"
          ]
        },
        {
          "data": {
            "application/vnd.jupyter.widget-view+json": {
              "model_id": "33a5ee9622104dadb2bfb3b29864d124",
              "version_major": 2,
              "version_minor": 0
            },
            "text/plain": [
              "  0%|          | 0/99 [00:00<?, ?it/s]"
            ]
          },
          "metadata": {},
          "output_type": "display_data"
        },
        {
          "name": "stdout",
          "output_type": "stream",
          "text": [
            "val_loss: 1.2133192444088483\n",
            "val_acc: 0.40304182509505704\n",
            "Start validation\n"
          ]
        },
        {
          "data": {
            "application/vnd.jupyter.widget-view+json": {
              "model_id": "58fe843a4ffa48b4962be7ceb55cfe11",
              "version_major": 2,
              "version_minor": 0
            },
            "text/plain": [
              "  0%|          | 0/99 [00:00<?, ?it/s]"
            ]
          },
          "metadata": {},
          "output_type": "display_data"
        },
        {
          "name": "stdout",
          "output_type": "stream",
          "text": [
            "val_loss: 1.5159313865382262\n",
            "val_acc: 0.4055766793409379\n",
            "Start validation\n"
          ]
        },
        {
          "data": {
            "application/vnd.jupyter.widget-view+json": {
              "model_id": "0cbd0bb3f0a846f6bac7baf3a33cd6db",
              "version_major": 2,
              "version_minor": 0
            },
            "text/plain": [
              "  0%|          | 0/99 [00:00<?, ?it/s]"
            ]
          },
          "metadata": {},
          "output_type": "display_data"
        },
        {
          "name": "stdout",
          "output_type": "stream",
          "text": [
            "val_loss: 1.2682004414423547\n",
            "val_acc: 0.4055766793409379\n",
            "Start validation\n"
          ]
        },
        {
          "data": {
            "application/vnd.jupyter.widget-view+json": {
              "model_id": "1993c32977ff4450a0f540863b532131",
              "version_major": 2,
              "version_minor": 0
            },
            "text/plain": [
              "  0%|          | 0/99 [00:00<?, ?it/s]"
            ]
          },
          "metadata": {},
          "output_type": "display_data"
        },
        {
          "name": "stdout",
          "output_type": "stream",
          "text": [
            "val_loss: 1.4858153974167023\n",
            "val_acc: 0.4055766793409379\n",
            "Start validation\n"
          ]
        },
        {
          "data": {
            "application/vnd.jupyter.widget-view+json": {
              "model_id": "b0b9084e71564bab80fcfab0dd181ef5",
              "version_major": 2,
              "version_minor": 0
            },
            "text/plain": [
              "  0%|          | 0/99 [00:00<?, ?it/s]"
            ]
          },
          "metadata": {},
          "output_type": "display_data"
        },
        {
          "name": "stdout",
          "output_type": "stream",
          "text": [
            "val_loss: 1.5088602045569757\n",
            "val_acc: 0.4005069708491762\n",
            "Start validation\n"
          ]
        },
        {
          "data": {
            "application/vnd.jupyter.widget-view+json": {
              "model_id": "24c725a7c1e24c9bbc15148d5ae75f6f",
              "version_major": 2,
              "version_minor": 0
            },
            "text/plain": [
              "  0%|          | 0/99 [00:00<?, ?it/s]"
            ]
          },
          "metadata": {},
          "output_type": "display_data"
        },
        {
          "name": "stdout",
          "output_type": "stream",
          "text": [
            "val_loss: 1.6082136354061087\n",
            "val_acc: 0.4055766793409379\n",
            "Start validation\n"
          ]
        },
        {
          "data": {
            "application/vnd.jupyter.widget-view+json": {
              "model_id": "1bc5c2650a73479e955a32db40e0fcf8",
              "version_major": 2,
              "version_minor": 0
            },
            "text/plain": [
              "  0%|          | 0/99 [00:00<?, ?it/s]"
            ]
          },
          "metadata": {},
          "output_type": "display_data"
        },
        {
          "name": "stdout",
          "output_type": "stream",
          "text": [
            "val_loss: 1.6596766914984193\n",
            "val_acc: 0.4005069708491762\n",
            "Start validation\n"
          ]
        },
        {
          "data": {
            "application/vnd.jupyter.widget-view+json": {
              "model_id": "e174334817de417e8f5a50b7e1de0f9e",
              "version_major": 2,
              "version_minor": 0
            },
            "text/plain": [
              "  0%|          | 0/99 [00:00<?, ?it/s]"
            ]
          },
          "metadata": {},
          "output_type": "display_data"
        },
        {
          "name": "stdout",
          "output_type": "stream",
          "text": [
            "val_loss: 1.5790591468714705\n",
            "val_acc: 0.4005069708491762\n",
            "Start validation\n"
          ]
        },
        {
          "data": {
            "application/vnd.jupyter.widget-view+json": {
              "model_id": "54463fd1b6c3449cb7af8ac600517821",
              "version_major": 2,
              "version_minor": 0
            },
            "text/plain": [
              "  0%|          | 0/99 [00:00<?, ?it/s]"
            ]
          },
          "metadata": {},
          "output_type": "display_data"
        },
        {
          "name": "stdout",
          "output_type": "stream",
          "text": [
            "val_loss: 1.5893238849110074\n",
            "val_acc: 0.4005069708491762\n",
            "Start validation\n"
          ]
        },
        {
          "data": {
            "application/vnd.jupyter.widget-view+json": {
              "model_id": "500d3e4017be4a17b80e77c91b48348e",
              "version_major": 2,
              "version_minor": 0
            },
            "text/plain": [
              "  0%|          | 0/99 [00:00<?, ?it/s]"
            ]
          },
          "metadata": {},
          "output_type": "display_data"
        },
        {
          "name": "stdout",
          "output_type": "stream",
          "text": [
            "val_loss: 1.6433561396117162\n",
            "val_acc: 0.4005069708491762\n",
            "Start validation\n"
          ]
        },
        {
          "data": {
            "application/vnd.jupyter.widget-view+json": {
              "model_id": "7008ab4aaf5b44e788f86b64fe7af3cb",
              "version_major": 2,
              "version_minor": 0
            },
            "text/plain": [
              "  0%|          | 0/99 [00:00<?, ?it/s]"
            ]
          },
          "metadata": {},
          "output_type": "display_data"
        },
        {
          "name": "stdout",
          "output_type": "stream",
          "text": [
            "val_loss: 1.6717540356847975\n",
            "val_acc: 0.4055766793409379\n",
            "Start validation\n"
          ]
        },
        {
          "data": {
            "application/vnd.jupyter.widget-view+json": {
              "model_id": "78f8ea343c724fd68c57d38677a8a2d2",
              "version_major": 2,
              "version_minor": 0
            },
            "text/plain": [
              "  0%|          | 0/99 [00:00<?, ?it/s]"
            ]
          },
          "metadata": {},
          "output_type": "display_data"
        },
        {
          "name": "stdout",
          "output_type": "stream",
          "text": [
            "val_loss: 1.754118314897171\n",
            "val_acc: 0.4005069708491762\n",
            "Start validation\n"
          ]
        },
        {
          "data": {
            "application/vnd.jupyter.widget-view+json": {
              "model_id": "eda2e7b28c464b3b83ea19c2fb60adc6",
              "version_major": 2,
              "version_minor": 0
            },
            "text/plain": [
              "  0%|          | 0/99 [00:00<?, ?it/s]"
            ]
          },
          "metadata": {},
          "output_type": "display_data"
        },
        {
          "name": "stdout",
          "output_type": "stream",
          "text": [
            "val_loss: 1.7130930893348926\n",
            "val_acc: 0.4055766793409379\n",
            "Start validation\n"
          ]
        },
        {
          "data": {
            "application/vnd.jupyter.widget-view+json": {
              "model_id": "f9760edc1e16414ea50ff41a83699ec6",
              "version_major": 2,
              "version_minor": 0
            },
            "text/plain": [
              "  0%|          | 0/99 [00:00<?, ?it/s]"
            ]
          },
          "metadata": {},
          "output_type": "display_data"
        },
        {
          "name": "stdout",
          "output_type": "stream",
          "text": [
            "val_loss: 1.7489637750567812\n",
            "val_acc: 0.4055766793409379\n",
            "Start validation\n"
          ]
        },
        {
          "data": {
            "application/vnd.jupyter.widget-view+json": {
              "model_id": "8cb737b3bf3949e8a43c4642652964ad",
              "version_major": 2,
              "version_minor": 0
            },
            "text/plain": [
              "  0%|          | 0/99 [00:00<?, ?it/s]"
            ]
          },
          "metadata": {},
          "output_type": "display_data"
        },
        {
          "name": "stdout",
          "output_type": "stream",
          "text": [
            "val_loss: 1.7651879058943853\n",
            "val_acc: 0.4005069708491762\n",
            "Start validation\n"
          ]
        },
        {
          "data": {
            "application/vnd.jupyter.widget-view+json": {
              "model_id": "b687ba6d870c438ba6d13c8f0ae1da21",
              "version_major": 2,
              "version_minor": 0
            },
            "text/plain": [
              "  0%|          | 0/99 [00:00<?, ?it/s]"
            ]
          },
          "metadata": {},
          "output_type": "display_data"
        },
        {
          "name": "stdout",
          "output_type": "stream",
          "text": [
            "val_loss: 1.7776750524838765\n",
            "val_acc: 0.4055766793409379\n",
            "Start validation\n"
          ]
        },
        {
          "data": {
            "application/vnd.jupyter.widget-view+json": {
              "model_id": "a82669a6ff154627a5222febf855ba9b",
              "version_major": 2,
              "version_minor": 0
            },
            "text/plain": [
              "  0%|          | 0/99 [00:00<?, ?it/s]"
            ]
          },
          "metadata": {},
          "output_type": "display_data"
        },
        {
          "name": "stdout",
          "output_type": "stream",
          "text": [
            "val_loss: 1.7989339798387856\n",
            "val_acc: 0.4055766793409379\n",
            "Start validation\n"
          ]
        },
        {
          "data": {
            "application/vnd.jupyter.widget-view+json": {
              "model_id": "aad5e3517e57420892a62fadb5764c3a",
              "version_major": 2,
              "version_minor": 0
            },
            "text/plain": [
              "  0%|          | 0/99 [00:00<?, ?it/s]"
            ]
          },
          "metadata": {},
          "output_type": "display_data"
        },
        {
          "name": "stdout",
          "output_type": "stream",
          "text": [
            "val_loss: 1.8128677769140764\n",
            "val_acc: 0.4055766793409379\n",
            "Start validation\n"
          ]
        },
        {
          "data": {
            "application/vnd.jupyter.widget-view+json": {
              "model_id": "b1b5239fe7754f4c94f853cf19ecaf54",
              "version_major": 2,
              "version_minor": 0
            },
            "text/plain": [
              "  0%|          | 0/99 [00:00<?, ?it/s]"
            ]
          },
          "metadata": {},
          "output_type": "display_data"
        },
        {
          "name": "stdout",
          "output_type": "stream",
          "text": [
            "val_loss: 1.82206956726132\n",
            "val_acc: 0.4055766793409379\n",
            "Start validation\n"
          ]
        },
        {
          "data": {
            "application/vnd.jupyter.widget-view+json": {
              "model_id": "88554c89c63d4a91900015bd39693911",
              "version_major": 2,
              "version_minor": 0
            },
            "text/plain": [
              "  0%|          | 0/99 [00:00<?, ?it/s]"
            ]
          },
          "metadata": {},
          "output_type": "display_data"
        },
        {
          "name": "stdout",
          "output_type": "stream",
          "text": [
            "val_loss: 1.8278968779727667\n",
            "val_acc: 0.4055766793409379\n",
            "Start validation\n"
          ]
        },
        {
          "data": {
            "application/vnd.jupyter.widget-view+json": {
              "model_id": "ec1e047e15964cf79ee1958704a04a2d",
              "version_major": 2,
              "version_minor": 0
            },
            "text/plain": [
              "  0%|          | 0/99 [00:00<?, ?it/s]"
            ]
          },
          "metadata": {},
          "output_type": "display_data"
        },
        {
          "name": "stdout",
          "output_type": "stream",
          "text": [
            "val_loss: 1.8315473042353234\n",
            "val_acc: 0.4055766793409379\n",
            "Start validation\n"
          ]
        },
        {
          "data": {
            "application/vnd.jupyter.widget-view+json": {
              "model_id": "9a5d919a0db8475ebe5acb2af3a557dc",
              "version_major": 2,
              "version_minor": 0
            },
            "text/plain": [
              "  0%|          | 0/99 [00:00<?, ?it/s]"
            ]
          },
          "metadata": {},
          "output_type": "display_data"
        },
        {
          "name": "stdout",
          "output_type": "stream",
          "text": [
            "val_loss: 1.8458542444489219\n",
            "val_acc: 0.4005069708491762\n",
            "Start validation\n"
          ]
        },
        {
          "data": {
            "application/vnd.jupyter.widget-view+json": {
              "model_id": "360ed0ac8b2f485085873dc294dd32ed",
              "version_major": 2,
              "version_minor": 0
            },
            "text/plain": [
              "  0%|          | 0/99 [00:00<?, ?it/s]"
            ]
          },
          "metadata": {},
          "output_type": "display_data"
        },
        {
          "name": "stdout",
          "output_type": "stream",
          "text": [
            "val_loss: 1.8523936259626137\n",
            "val_acc: 0.4055766793409379\n",
            "Start validation\n"
          ]
        },
        {
          "data": {
            "application/vnd.jupyter.widget-view+json": {
              "model_id": "37b82d2ef6754c0c9a71b2c25d7256a4",
              "version_major": 2,
              "version_minor": 0
            },
            "text/plain": [
              "  0%|          | 0/99 [00:00<?, ?it/s]"
            ]
          },
          "metadata": {},
          "output_type": "display_data"
        },
        {
          "name": "stdout",
          "output_type": "stream",
          "text": [
            "val_loss: 1.8644671404000484\n",
            "val_acc: 0.4005069708491762\n",
            "Start validation\n"
          ]
        },
        {
          "data": {
            "application/vnd.jupyter.widget-view+json": {
              "model_id": "a2c8966f15b7453391dc1a417152b678",
              "version_major": 2,
              "version_minor": 0
            },
            "text/plain": [
              "  0%|          | 0/99 [00:00<?, ?it/s]"
            ]
          },
          "metadata": {},
          "output_type": "display_data"
        },
        {
          "name": "stdout",
          "output_type": "stream",
          "text": [
            "val_loss: 1.87747550251508\n",
            "val_acc: 0.4055766793409379\n",
            "Start validation\n"
          ]
        },
        {
          "data": {
            "application/vnd.jupyter.widget-view+json": {
              "model_id": "790decc455754666939c2953e6a2fec5",
              "version_major": 2,
              "version_minor": 0
            },
            "text/plain": [
              "  0%|          | 0/99 [00:00<?, ?it/s]"
            ]
          },
          "metadata": {},
          "output_type": "display_data"
        },
        {
          "name": "stdout",
          "output_type": "stream",
          "text": [
            "val_loss: 1.9081054293748103\n",
            "val_acc: 0.4005069708491762\n",
            "Start validation\n"
          ]
        },
        {
          "data": {
            "application/vnd.jupyter.widget-view+json": {
              "model_id": "1f9bc3e1c0a4455bb7be16e4d331b0c2",
              "version_major": 2,
              "version_minor": 0
            },
            "text/plain": [
              "  0%|          | 0/99 [00:00<?, ?it/s]"
            ]
          },
          "metadata": {},
          "output_type": "display_data"
        },
        {
          "name": "stdout",
          "output_type": "stream",
          "text": [
            "val_loss: 1.8806627212148723\n",
            "val_acc: 0.4005069708491762\n",
            "Start validation\n"
          ]
        },
        {
          "data": {
            "application/vnd.jupyter.widget-view+json": {
              "model_id": "b6a9d28485544961955f2515ad872bb5",
              "version_major": 2,
              "version_minor": 0
            },
            "text/plain": [
              "  0%|          | 0/99 [00:00<?, ?it/s]"
            ]
          },
          "metadata": {},
          "output_type": "display_data"
        },
        {
          "name": "stdout",
          "output_type": "stream",
          "text": [
            "val_loss: 1.8887571788797475\n",
            "val_acc: 0.4005069708491762\n",
            "Start validation\n"
          ]
        },
        {
          "data": {
            "application/vnd.jupyter.widget-view+json": {
              "model_id": "b1089f827ed144e684dcf788e5a07ca4",
              "version_major": 2,
              "version_minor": 0
            },
            "text/plain": [
              "  0%|          | 0/99 [00:00<?, ?it/s]"
            ]
          },
          "metadata": {},
          "output_type": "display_data"
        },
        {
          "name": "stdout",
          "output_type": "stream",
          "text": [
            "val_loss: 1.8973556383691652\n",
            "val_acc: 0.4055766793409379\n",
            "Start validation\n"
          ]
        },
        {
          "data": {
            "application/vnd.jupyter.widget-view+json": {
              "model_id": "62d166e886734081a65b8faa3b7c09e4",
              "version_major": 2,
              "version_minor": 0
            },
            "text/plain": [
              "  0%|          | 0/99 [00:00<?, ?it/s]"
            ]
          },
          "metadata": {},
          "output_type": "display_data"
        },
        {
          "name": "stdout",
          "output_type": "stream",
          "text": [
            "val_loss: 1.904657446374797\n",
            "val_acc: 0.4055766793409379\n",
            "Start validation\n"
          ]
        },
        {
          "data": {
            "application/vnd.jupyter.widget-view+json": {
              "model_id": "788cdebd33b946b9803f19ac0e4039f9",
              "version_major": 2,
              "version_minor": 0
            },
            "text/plain": [
              "  0%|          | 0/99 [00:00<?, ?it/s]"
            ]
          },
          "metadata": {},
          "output_type": "display_data"
        },
        {
          "name": "stdout",
          "output_type": "stream",
          "text": [
            "val_loss: 1.910041412921867\n",
            "val_acc: 0.4005069708491762\n",
            "Start validation\n"
          ]
        },
        {
          "data": {
            "application/vnd.jupyter.widget-view+json": {
              "model_id": "a3b26c9acad5413a8c7c928a47c5c028",
              "version_major": 2,
              "version_minor": 0
            },
            "text/plain": [
              "  0%|          | 0/99 [00:00<?, ?it/s]"
            ]
          },
          "metadata": {},
          "output_type": "display_data"
        },
        {
          "name": "stdout",
          "output_type": "stream",
          "text": [
            "val_loss: 1.9168186627253136\n",
            "val_acc: 0.4005069708491762\n",
            "Start validation\n"
          ]
        },
        {
          "data": {
            "application/vnd.jupyter.widget-view+json": {
              "model_id": "5527d3c84dcf461f917f353e4d9ea442",
              "version_major": 2,
              "version_minor": 0
            },
            "text/plain": [
              "  0%|          | 0/99 [00:00<?, ?it/s]"
            ]
          },
          "metadata": {},
          "output_type": "display_data"
        },
        {
          "name": "stdout",
          "output_type": "stream",
          "text": [
            "val_loss: 1.9234089797193354\n",
            "val_acc: 0.4055766793409379\n",
            "Start validation\n"
          ]
        },
        {
          "data": {
            "application/vnd.jupyter.widget-view+json": {
              "model_id": "7b47d977526e41828feb2ac6a87c4fd5",
              "version_major": 2,
              "version_minor": 0
            },
            "text/plain": [
              "  0%|          | 0/99 [00:00<?, ?it/s]"
            ]
          },
          "metadata": {},
          "output_type": "display_data"
        },
        {
          "name": "stdout",
          "output_type": "stream",
          "text": [
            "val_loss: 1.9300729343385408\n",
            "val_acc: 0.4055766793409379\n",
            "Start validation\n"
          ]
        },
        {
          "data": {
            "application/vnd.jupyter.widget-view+json": {
              "model_id": "b3526c559694412b914a81b496a8aa79",
              "version_major": 2,
              "version_minor": 0
            },
            "text/plain": [
              "  0%|          | 0/99 [00:00<?, ?it/s]"
            ]
          },
          "metadata": {},
          "output_type": "display_data"
        },
        {
          "name": "stdout",
          "output_type": "stream",
          "text": [
            "val_loss: 1.950245231691033\n",
            "val_acc: 0.4055766793409379\n",
            "Start validation\n"
          ]
        },
        {
          "data": {
            "application/vnd.jupyter.widget-view+json": {
              "model_id": "7c4c5849a12146e29807aa0902987c1e",
              "version_major": 2,
              "version_minor": 0
            },
            "text/plain": [
              "  0%|          | 0/99 [00:00<?, ?it/s]"
            ]
          },
          "metadata": {},
          "output_type": "display_data"
        },
        {
          "name": "stdout",
          "output_type": "stream",
          "text": [
            "val_loss: 1.942913289021964\n",
            "val_acc: 0.4055766793409379\n",
            "Start validation\n"
          ]
        },
        {
          "data": {
            "application/vnd.jupyter.widget-view+json": {
              "model_id": "ee0951397e2a4b78bdc1eb1524e283ab",
              "version_major": 2,
              "version_minor": 0
            },
            "text/plain": [
              "  0%|          | 0/99 [00:00<?, ?it/s]"
            ]
          },
          "metadata": {},
          "output_type": "display_data"
        },
        {
          "name": "stdout",
          "output_type": "stream",
          "text": [
            "val_loss: 1.9610961609416537\n",
            "val_acc: 0.4005069708491762\n",
            "Start validation\n"
          ]
        },
        {
          "data": {
            "application/vnd.jupyter.widget-view+json": {
              "model_id": "9ac34d9f910c437a9837a01ac5fb7110",
              "version_major": 2,
              "version_minor": 0
            },
            "text/plain": [
              "  0%|          | 0/99 [00:00<?, ?it/s]"
            ]
          },
          "metadata": {},
          "output_type": "display_data"
        },
        {
          "name": "stdout",
          "output_type": "stream",
          "text": [
            "val_loss: 1.9480240465414644\n",
            "val_acc: 0.4055766793409379\n",
            "Start validation\n"
          ]
        },
        {
          "data": {
            "application/vnd.jupyter.widget-view+json": {
              "model_id": "593c8bdde03445feb9d1252cc6e8e161",
              "version_major": 2,
              "version_minor": 0
            },
            "text/plain": [
              "  0%|          | 0/99 [00:00<?, ?it/s]"
            ]
          },
          "metadata": {},
          "output_type": "display_data"
        },
        {
          "name": "stdout",
          "output_type": "stream",
          "text": [
            "val_loss: 1.956796215640174\n",
            "val_acc: 0.4005069708491762\n",
            "Start validation\n"
          ]
        },
        {
          "data": {
            "application/vnd.jupyter.widget-view+json": {
              "model_id": "f76591951efd4cbb8e77f3f7362a7c10",
              "version_major": 2,
              "version_minor": 0
            },
            "text/plain": [
              "  0%|          | 0/99 [00:00<?, ?it/s]"
            ]
          },
          "metadata": {},
          "output_type": "display_data"
        },
        {
          "name": "stdout",
          "output_type": "stream",
          "text": [
            "val_loss: 1.9471057039318662\n",
            "val_acc: 0.4055766793409379\n",
            "Start validation\n"
          ]
        },
        {
          "data": {
            "application/vnd.jupyter.widget-view+json": {
              "model_id": "a9da0ac65566435ea04b05ac187534c9",
              "version_major": 2,
              "version_minor": 0
            },
            "text/plain": [
              "  0%|          | 0/99 [00:00<?, ?it/s]"
            ]
          },
          "metadata": {},
          "output_type": "display_data"
        },
        {
          "name": "stdout",
          "output_type": "stream",
          "text": [
            "val_loss: 1.8823885863477534\n",
            "val_acc: 0.4005069708491762\n",
            "Start validation\n"
          ]
        },
        {
          "data": {
            "application/vnd.jupyter.widget-view+json": {
              "model_id": "3112fab00c4b40fa8399674a0c9bb29d",
              "version_major": 2,
              "version_minor": 0
            },
            "text/plain": [
              "  0%|          | 0/99 [00:00<?, ?it/s]"
            ]
          },
          "metadata": {},
          "output_type": "display_data"
        },
        {
          "name": "stdout",
          "output_type": "stream",
          "text": [
            "val_loss: 1.8816798485890784\n",
            "val_acc: 0.4005069708491762\n",
            "Start validation\n"
          ]
        },
        {
          "data": {
            "application/vnd.jupyter.widget-view+json": {
              "model_id": "0d9cedf49db64909ae7b35dafc46f17d",
              "version_major": 2,
              "version_minor": 0
            },
            "text/plain": [
              "  0%|          | 0/99 [00:00<?, ?it/s]"
            ]
          },
          "metadata": {},
          "output_type": "display_data"
        },
        {
          "name": "stdout",
          "output_type": "stream",
          "text": [
            "val_loss: 1.8693001186004792\n",
            "val_acc: 0.4055766793409379\n",
            "Start validation\n"
          ]
        },
        {
          "data": {
            "application/vnd.jupyter.widget-view+json": {
              "model_id": "8ea953494ee349dd9c7f53e2297e9de6",
              "version_major": 2,
              "version_minor": 0
            },
            "text/plain": [
              "  0%|          | 0/99 [00:00<?, ?it/s]"
            ]
          },
          "metadata": {},
          "output_type": "display_data"
        },
        {
          "name": "stdout",
          "output_type": "stream",
          "text": [
            "val_loss: 1.8905226919386122\n",
            "val_acc: 0.4055766793409379\n",
            "Start validation\n"
          ]
        },
        {
          "data": {
            "application/vnd.jupyter.widget-view+json": {
              "model_id": "e138563ed9f849a78234f1b46d95ae7d",
              "version_major": 2,
              "version_minor": 0
            },
            "text/plain": [
              "  0%|          | 0/99 [00:00<?, ?it/s]"
            ]
          },
          "metadata": {},
          "output_type": "display_data"
        },
        {
          "name": "stdout",
          "output_type": "stream",
          "text": [
            "val_loss: 1.8981373984404284\n",
            "val_acc: 0.4005069708491762\n",
            "Start validation\n"
          ]
        },
        {
          "data": {
            "application/vnd.jupyter.widget-view+json": {
              "model_id": "68915da940dd481e9d19707f49150595",
              "version_major": 2,
              "version_minor": 0
            },
            "text/plain": [
              "  0%|          | 0/99 [00:00<?, ?it/s]"
            ]
          },
          "metadata": {},
          "output_type": "display_data"
        },
        {
          "name": "stdout",
          "output_type": "stream",
          "text": [
            "val_loss: 1.9113300165744742\n",
            "val_acc: 0.4055766793409379\n",
            "Start validation\n"
          ]
        },
        {
          "data": {
            "application/vnd.jupyter.widget-view+json": {
              "model_id": "7fe7e4a744e44553875f427c2440ceb2",
              "version_major": 2,
              "version_minor": 0
            },
            "text/plain": [
              "  0%|          | 0/99 [00:00<?, ?it/s]"
            ]
          },
          "metadata": {},
          "output_type": "display_data"
        },
        {
          "name": "stdout",
          "output_type": "stream",
          "text": [
            "val_loss: 1.910336140430335\n",
            "val_acc: 0.4055766793409379\n",
            "Start validation\n"
          ]
        },
        {
          "data": {
            "application/vnd.jupyter.widget-view+json": {
              "model_id": "e5bb3140ba66455ba45c3d1af6b00a25",
              "version_major": 2,
              "version_minor": 0
            },
            "text/plain": [
              "  0%|          | 0/99 [00:00<?, ?it/s]"
            ]
          },
          "metadata": {},
          "output_type": "display_data"
        },
        {
          "name": "stdout",
          "output_type": "stream",
          "text": [
            "val_loss: 1.9045647581418355\n",
            "val_acc: 0.4005069708491762\n",
            "Start validation\n"
          ]
        },
        {
          "data": {
            "application/vnd.jupyter.widget-view+json": {
              "model_id": "610497fc2614401ca0708d9a27ff384a",
              "version_major": 2,
              "version_minor": 0
            },
            "text/plain": [
              "  0%|          | 0/99 [00:00<?, ?it/s]"
            ]
          },
          "metadata": {},
          "output_type": "display_data"
        },
        {
          "name": "stdout",
          "output_type": "stream",
          "text": [
            "val_loss: 1.873437609937456\n",
            "val_acc: 0.4055766793409379\n",
            "Start validation\n"
          ]
        },
        {
          "data": {
            "application/vnd.jupyter.widget-view+json": {
              "model_id": "af603a23703748e3b208d7c7305e61e3",
              "version_major": 2,
              "version_minor": 0
            },
            "text/plain": [
              "  0%|          | 0/99 [00:00<?, ?it/s]"
            ]
          },
          "metadata": {},
          "output_type": "display_data"
        },
        {
          "name": "stdout",
          "output_type": "stream",
          "text": [
            "val_loss: 1.8850812315940857\n",
            "val_acc: 0.4005069708491762\n",
            "Start validation\n"
          ]
        },
        {
          "data": {
            "application/vnd.jupyter.widget-view+json": {
              "model_id": "be551d85f85146b8b0a3df9e856c3d76",
              "version_major": 2,
              "version_minor": 0
            },
            "text/plain": [
              "  0%|          | 0/99 [00:00<?, ?it/s]"
            ]
          },
          "metadata": {},
          "output_type": "display_data"
        },
        {
          "name": "stdout",
          "output_type": "stream",
          "text": [
            "val_loss: 1.893773782734919\n",
            "val_acc: 0.4055766793409379\n",
            "Start validation\n"
          ]
        },
        {
          "data": {
            "application/vnd.jupyter.widget-view+json": {
              "model_id": "2fbeb9862a404f829f18c41f6ddb77c4",
              "version_major": 2,
              "version_minor": 0
            },
            "text/plain": [
              "  0%|          | 0/99 [00:00<?, ?it/s]"
            ]
          },
          "metadata": {},
          "output_type": "display_data"
        },
        {
          "name": "stdout",
          "output_type": "stream",
          "text": [
            "val_loss: 1.8821155651651247\n",
            "val_acc: 0.4005069708491762\n",
            "Start validation\n"
          ]
        },
        {
          "data": {
            "application/vnd.jupyter.widget-view+json": {
              "model_id": "f49a99b884d24b199d13691aeae88a32",
              "version_major": 2,
              "version_minor": 0
            },
            "text/plain": [
              "  0%|          | 0/99 [00:00<?, ?it/s]"
            ]
          },
          "metadata": {},
          "output_type": "display_data"
        },
        {
          "name": "stdout",
          "output_type": "stream",
          "text": [
            "val_loss: 1.8670349343858583\n",
            "val_acc: 0.4005069708491762\n",
            "Start validation\n"
          ]
        },
        {
          "data": {
            "application/vnd.jupyter.widget-view+json": {
              "model_id": "de9d15339151423c81bdc3d50173506b",
              "version_major": 2,
              "version_minor": 0
            },
            "text/plain": [
              "  0%|          | 0/99 [00:00<?, ?it/s]"
            ]
          },
          "metadata": {},
          "output_type": "display_data"
        },
        {
          "name": "stdout",
          "output_type": "stream",
          "text": [
            "val_loss: 1.8809945468950753\n",
            "val_acc: 0.4055766793409379\n",
            "Start validation\n"
          ]
        },
        {
          "data": {
            "application/vnd.jupyter.widget-view+json": {
              "model_id": "95a014c17cbe47f58f27f81678382698",
              "version_major": 2,
              "version_minor": 0
            },
            "text/plain": [
              "  0%|          | 0/99 [00:00<?, ?it/s]"
            ]
          },
          "metadata": {},
          "output_type": "display_data"
        },
        {
          "name": "stdout",
          "output_type": "stream",
          "text": [
            "val_loss: 1.8902107850469725\n",
            "val_acc: 0.4005069708491762\n",
            "Start validation\n"
          ]
        },
        {
          "data": {
            "application/vnd.jupyter.widget-view+json": {
              "model_id": "1cc1a84918d94326977b7dcfdf1adfd8",
              "version_major": 2,
              "version_minor": 0
            },
            "text/plain": [
              "  0%|          | 0/99 [00:00<?, ?it/s]"
            ]
          },
          "metadata": {},
          "output_type": "display_data"
        },
        {
          "name": "stdout",
          "output_type": "stream",
          "text": [
            "val_loss: 1.898110523368373\n",
            "val_acc: 0.4055766793409379\n",
            "Start validation\n"
          ]
        },
        {
          "data": {
            "application/vnd.jupyter.widget-view+json": {
              "model_id": "1506f270d55d46958da79ef75b33a764",
              "version_major": 2,
              "version_minor": 0
            },
            "text/plain": [
              "  0%|          | 0/99 [00:00<?, ?it/s]"
            ]
          },
          "metadata": {},
          "output_type": "display_data"
        },
        {
          "name": "stdout",
          "output_type": "stream",
          "text": [
            "val_loss: 1.9073972954894558\n",
            "val_acc: 0.4055766793409379\n",
            "Start validation\n"
          ]
        },
        {
          "data": {
            "application/vnd.jupyter.widget-view+json": {
              "model_id": "3e9d0d114eb9431a8045ae7ae65425f2",
              "version_major": 2,
              "version_minor": 0
            },
            "text/plain": [
              "  0%|          | 0/99 [00:00<?, ?it/s]"
            ]
          },
          "metadata": {},
          "output_type": "display_data"
        },
        {
          "name": "stdout",
          "output_type": "stream",
          "text": [
            "val_loss: 1.9160297055437108\n",
            "val_acc: 0.4055766793409379\n",
            "Start validation\n"
          ]
        },
        {
          "data": {
            "application/vnd.jupyter.widget-view+json": {
              "model_id": "912fc9373f0d489280065819adb12f38",
              "version_major": 2,
              "version_minor": 0
            },
            "text/plain": [
              "  0%|          | 0/99 [00:00<?, ?it/s]"
            ]
          },
          "metadata": {},
          "output_type": "display_data"
        },
        {
          "name": "stdout",
          "output_type": "stream",
          "text": [
            "val_loss: 1.9253904903777923\n",
            "val_acc: 0.4055766793409379\n",
            "Start validation\n"
          ]
        },
        {
          "data": {
            "application/vnd.jupyter.widget-view+json": {
              "model_id": "b4d5ca97e7ce4c1eac1c0131cb81e984",
              "version_major": 2,
              "version_minor": 0
            },
            "text/plain": [
              "  0%|          | 0/99 [00:00<?, ?it/s]"
            ]
          },
          "metadata": {},
          "output_type": "display_data"
        },
        {
          "name": "stdout",
          "output_type": "stream",
          "text": [
            "val_loss: 1.9358821445041232\n",
            "val_acc: 0.4055766793409379\n",
            "Start validation\n"
          ]
        },
        {
          "data": {
            "application/vnd.jupyter.widget-view+json": {
              "model_id": "11df96fb27b7479c8f9edaae89a419bd",
              "version_major": 2,
              "version_minor": 0
            },
            "text/plain": [
              "  0%|          | 0/99 [00:00<?, ?it/s]"
            ]
          },
          "metadata": {},
          "output_type": "display_data"
        },
        {
          "name": "stdout",
          "output_type": "stream",
          "text": [
            "val_loss: 1.9544267257054646\n",
            "val_acc: 0.4005069708491762\n",
            "Start validation\n"
          ]
        },
        {
          "data": {
            "application/vnd.jupyter.widget-view+json": {
              "model_id": "abf4d46d2ecf46dab3536a84b501a387",
              "version_major": 2,
              "version_minor": 0
            },
            "text/plain": [
              "  0%|          | 0/99 [00:00<?, ?it/s]"
            ]
          },
          "metadata": {},
          "output_type": "display_data"
        },
        {
          "name": "stdout",
          "output_type": "stream",
          "text": [
            "val_loss: 1.9328162387163952\n",
            "val_acc: 0.4055766793409379\n",
            "Start validation\n"
          ]
        },
        {
          "data": {
            "application/vnd.jupyter.widget-view+json": {
              "model_id": "6db628afcba44be1810799d14022dfe8",
              "version_major": 2,
              "version_minor": 0
            },
            "text/plain": [
              "  0%|          | 0/99 [00:00<?, ?it/s]"
            ]
          },
          "metadata": {},
          "output_type": "display_data"
        },
        {
          "name": "stdout",
          "output_type": "stream",
          "text": [
            "val_loss: 1.9347268108165625\n",
            "val_acc: 0.4005069708491762\n",
            "Start validation\n"
          ]
        },
        {
          "data": {
            "application/vnd.jupyter.widget-view+json": {
              "model_id": "a1a410943b0d40e58e4d681d4a92503e",
              "version_major": 2,
              "version_minor": 0
            },
            "text/plain": [
              "  0%|          | 0/99 [00:00<?, ?it/s]"
            ]
          },
          "metadata": {},
          "output_type": "display_data"
        },
        {
          "name": "stdout",
          "output_type": "stream",
          "text": [
            "val_loss: 1.9444632385716294\n",
            "val_acc: 0.4005069708491762\n",
            "Start validation\n"
          ]
        },
        {
          "data": {
            "application/vnd.jupyter.widget-view+json": {
              "model_id": "8215e81f8e274cd5913523a0b9e6a803",
              "version_major": 2,
              "version_minor": 0
            },
            "text/plain": [
              "  0%|          | 0/99 [00:00<?, ?it/s]"
            ]
          },
          "metadata": {},
          "output_type": "display_data"
        },
        {
          "name": "stdout",
          "output_type": "stream",
          "text": [
            "val_loss: 1.9486715588906798\n",
            "val_acc: 0.4055766793409379\n",
            "Start validation\n"
          ]
        },
        {
          "data": {
            "application/vnd.jupyter.widget-view+json": {
              "model_id": "fed887b7d51c4ab29b427fd7779a2a1c",
              "version_major": 2,
              "version_minor": 0
            },
            "text/plain": [
              "  0%|          | 0/99 [00:00<?, ?it/s]"
            ]
          },
          "metadata": {},
          "output_type": "display_data"
        },
        {
          "name": "stdout",
          "output_type": "stream",
          "text": [
            "val_loss: 1.9552927625299705\n",
            "val_acc: 0.4055766793409379\n",
            "Start validation\n"
          ]
        },
        {
          "data": {
            "application/vnd.jupyter.widget-view+json": {
              "model_id": "0bd76b00d3524741ad7775fa4661c0f4",
              "version_major": 2,
              "version_minor": 0
            },
            "text/plain": [
              "  0%|          | 0/99 [00:00<?, ?it/s]"
            ]
          },
          "metadata": {},
          "output_type": "display_data"
        },
        {
          "name": "stdout",
          "output_type": "stream",
          "text": [
            "val_loss: 1.9621414313412675\n",
            "val_acc: 0.4055766793409379\n",
            "Start validation\n"
          ]
        },
        {
          "data": {
            "application/vnd.jupyter.widget-view+json": {
              "model_id": "07b67c08492a4148a1d89a11c5d40c21",
              "version_major": 2,
              "version_minor": 0
            },
            "text/plain": [
              "  0%|          | 0/99 [00:00<?, ?it/s]"
            ]
          },
          "metadata": {},
          "output_type": "display_data"
        },
        {
          "name": "stdout",
          "output_type": "stream",
          "text": [
            "val_loss: 1.9700979632560653\n",
            "val_acc: 0.4005069708491762\n",
            "Start validation\n"
          ]
        },
        {
          "data": {
            "application/vnd.jupyter.widget-view+json": {
              "model_id": "f13b5b8ec32d405b9c4097fcc9598cc1",
              "version_major": 2,
              "version_minor": 0
            },
            "text/plain": [
              "  0%|          | 0/99 [00:00<?, ?it/s]"
            ]
          },
          "metadata": {},
          "output_type": "display_data"
        },
        {
          "name": "stdout",
          "output_type": "stream",
          "text": [
            "val_loss: 1.9692478047476873\n",
            "val_acc: 0.4055766793409379\n",
            "Start validation\n"
          ]
        },
        {
          "data": {
            "application/vnd.jupyter.widget-view+json": {
              "model_id": "7cf37900277949b685fe79d1b61328d6",
              "version_major": 2,
              "version_minor": 0
            },
            "text/plain": [
              "  0%|          | 0/99 [00:00<?, ?it/s]"
            ]
          },
          "metadata": {},
          "output_type": "display_data"
        },
        {
          "name": "stdout",
          "output_type": "stream",
          "text": [
            "val_loss: 1.9747218971300606\n",
            "val_acc: 0.4055766793409379\n",
            "Start validation\n"
          ]
        },
        {
          "data": {
            "application/vnd.jupyter.widget-view+json": {
              "model_id": "bcbb5234b2ff49eba60262e9e200c855",
              "version_major": 2,
              "version_minor": 0
            },
            "text/plain": [
              "  0%|          | 0/99 [00:00<?, ?it/s]"
            ]
          },
          "metadata": {},
          "output_type": "display_data"
        },
        {
          "name": "stdout",
          "output_type": "stream",
          "text": [
            "val_loss: 1.9919854258046006\n",
            "val_acc: 0.4005069708491762\n",
            "Start validation\n"
          ]
        },
        {
          "data": {
            "application/vnd.jupyter.widget-view+json": {
              "model_id": "d769e7d76fd246e989404aa3f51083c6",
              "version_major": 2,
              "version_minor": 0
            },
            "text/plain": [
              "  0%|          | 0/99 [00:00<?, ?it/s]"
            ]
          },
          "metadata": {},
          "output_type": "display_data"
        },
        {
          "name": "stdout",
          "output_type": "stream",
          "text": [
            "val_loss: 1.9857500905942436\n",
            "val_acc: 0.4055766793409379\n",
            "Start validation\n"
          ]
        },
        {
          "data": {
            "application/vnd.jupyter.widget-view+json": {
              "model_id": "d8b705bbb70845e997204f27b2f520e0",
              "version_major": 2,
              "version_minor": 0
            },
            "text/plain": [
              "  0%|          | 0/99 [00:00<?, ?it/s]"
            ]
          },
          "metadata": {},
          "output_type": "display_data"
        },
        {
          "name": "stdout",
          "output_type": "stream",
          "text": [
            "val_loss: 2.0050617450415484\n",
            "val_acc: 0.4055766793409379\n",
            "Start validation\n"
          ]
        },
        {
          "data": {
            "application/vnd.jupyter.widget-view+json": {
              "model_id": "88bdde393b7c4f49ae4386b63471fe40",
              "version_major": 2,
              "version_minor": 0
            },
            "text/plain": [
              "  0%|          | 0/99 [00:00<?, ?it/s]"
            ]
          },
          "metadata": {},
          "output_type": "display_data"
        },
        {
          "name": "stdout",
          "output_type": "stream",
          "text": [
            "val_loss: 1.996324851055338\n",
            "val_acc: 0.4005069708491762\n",
            "Start validation\n"
          ]
        },
        {
          "data": {
            "application/vnd.jupyter.widget-view+json": {
              "model_id": "be585275b399462c8430bdd40e216c42",
              "version_major": 2,
              "version_minor": 0
            },
            "text/plain": [
              "  0%|          | 0/99 [00:00<?, ?it/s]"
            ]
          },
          "metadata": {},
          "output_type": "display_data"
        },
        {
          "name": "stdout",
          "output_type": "stream",
          "text": [
            "val_loss: 1.9597034815585974\n",
            "val_acc: 0.4055766793409379\n",
            "Start validation\n"
          ]
        },
        {
          "data": {
            "application/vnd.jupyter.widget-view+json": {
              "model_id": "c6b3ecdb4d0e40ae94778c7e63a99493",
              "version_major": 2,
              "version_minor": 0
            },
            "text/plain": [
              "  0%|          | 0/99 [00:00<?, ?it/s]"
            ]
          },
          "metadata": {},
          "output_type": "display_data"
        },
        {
          "name": "stdout",
          "output_type": "stream",
          "text": [
            "val_loss: 1.9558044304751387\n",
            "val_acc: 0.4055766793409379\n",
            "Start validation\n"
          ]
        },
        {
          "data": {
            "application/vnd.jupyter.widget-view+json": {
              "model_id": "a13fb6841911484d9acef4b81fbbdf4c",
              "version_major": 2,
              "version_minor": 0
            },
            "text/plain": [
              "  0%|          | 0/99 [00:00<?, ?it/s]"
            ]
          },
          "metadata": {},
          "output_type": "display_data"
        },
        {
          "name": "stdout",
          "output_type": "stream",
          "text": [
            "val_loss: 1.9089498495814776\n",
            "val_acc: 0.4055766793409379\n",
            "Start validation\n"
          ]
        },
        {
          "data": {
            "application/vnd.jupyter.widget-view+json": {
              "model_id": "0beeb899a5df42e595689d85d5963834",
              "version_major": 2,
              "version_minor": 0
            },
            "text/plain": [
              "  0%|          | 0/99 [00:00<?, ?it/s]"
            ]
          },
          "metadata": {},
          "output_type": "display_data"
        },
        {
          "name": "stdout",
          "output_type": "stream",
          "text": [
            "val_loss: 1.922931264747273\n",
            "val_acc: 0.4005069708491762\n",
            "Start validation\n"
          ]
        },
        {
          "data": {
            "application/vnd.jupyter.widget-view+json": {
              "model_id": "26a8352c4f084c8088db5245e0ec545b",
              "version_major": 2,
              "version_minor": 0
            },
            "text/plain": [
              "  0%|          | 0/99 [00:00<?, ?it/s]"
            ]
          },
          "metadata": {},
          "output_type": "display_data"
        },
        {
          "name": "stdout",
          "output_type": "stream",
          "text": [
            "val_loss: 1.926931715974904\n",
            "val_acc: 0.4055766793409379\n",
            "Start validation\n"
          ]
        },
        {
          "data": {
            "application/vnd.jupyter.widget-view+json": {
              "model_id": "61e0d025d53948ee822cb26645524160",
              "version_major": 2,
              "version_minor": 0
            },
            "text/plain": [
              "  0%|          | 0/99 [00:00<?, ?it/s]"
            ]
          },
          "metadata": {},
          "output_type": "display_data"
        },
        {
          "name": "stdout",
          "output_type": "stream",
          "text": [
            "val_loss: 1.9450206708426427\n",
            "val_acc: 0.4055766793409379\n",
            "Start validation\n"
          ]
        },
        {
          "data": {
            "application/vnd.jupyter.widget-view+json": {
              "model_id": "0a59ed14970d4a50804b0487f56d7f65",
              "version_major": 2,
              "version_minor": 0
            },
            "text/plain": [
              "  0%|          | 0/99 [00:00<?, ?it/s]"
            ]
          },
          "metadata": {},
          "output_type": "display_data"
        },
        {
          "name": "stdout",
          "output_type": "stream",
          "text": [
            "val_loss: 1.9614314780090794\n",
            "val_acc: 0.4005069708491762\n",
            "Start validation\n"
          ]
        },
        {
          "data": {
            "application/vnd.jupyter.widget-view+json": {
              "model_id": "87cd5c5a0a0b4ea3867c8cf6344054f1",
              "version_major": 2,
              "version_minor": 0
            },
            "text/plain": [
              "  0%|          | 0/99 [00:00<?, ?it/s]"
            ]
          },
          "metadata": {},
          "output_type": "display_data"
        },
        {
          "name": "stdout",
          "output_type": "stream",
          "text": [
            "val_loss: 1.958143209568178\n",
            "val_acc: 0.4005069708491762\n",
            "Start validation\n"
          ]
        },
        {
          "data": {
            "application/vnd.jupyter.widget-view+json": {
              "model_id": "f4cbcc5abcfe46a8934630538e11607a",
              "version_major": 2,
              "version_minor": 0
            },
            "text/plain": [
              "  0%|          | 0/99 [00:00<?, ?it/s]"
            ]
          },
          "metadata": {},
          "output_type": "display_data"
        },
        {
          "name": "stdout",
          "output_type": "stream",
          "text": [
            "val_loss: 1.9757732381724349\n",
            "val_acc: 0.4055766793409379\n",
            "Start validation\n"
          ]
        },
        {
          "data": {
            "application/vnd.jupyter.widget-view+json": {
              "model_id": "a760b98170054bbb958c9fc40e7722cc",
              "version_major": 2,
              "version_minor": 0
            },
            "text/plain": [
              "  0%|          | 0/99 [00:00<?, ?it/s]"
            ]
          },
          "metadata": {},
          "output_type": "display_data"
        },
        {
          "name": "stdout",
          "output_type": "stream",
          "text": [
            "val_loss: 1.9168919818569916\n",
            "val_acc: 0.4055766793409379\n",
            "Start validation\n"
          ]
        },
        {
          "data": {
            "application/vnd.jupyter.widget-view+json": {
              "model_id": "140e712cb5184e8e94f1af771f2fbf88",
              "version_major": 2,
              "version_minor": 0
            },
            "text/plain": [
              "  0%|          | 0/99 [00:00<?, ?it/s]"
            ]
          },
          "metadata": {},
          "output_type": "display_data"
        },
        {
          "name": "stdout",
          "output_type": "stream",
          "text": [
            "val_loss: 1.911529075015675\n",
            "val_acc: 0.4055766793409379\n",
            "Start validation\n"
          ]
        },
        {
          "data": {
            "application/vnd.jupyter.widget-view+json": {
              "model_id": "6ee55fea3d65482d9cb898d685f5d457",
              "version_major": 2,
              "version_minor": 0
            },
            "text/plain": [
              "  0%|          | 0/99 [00:00<?, ?it/s]"
            ]
          },
          "metadata": {},
          "output_type": "display_data"
        },
        {
          "name": "stdout",
          "output_type": "stream",
          "text": [
            "val_loss: 1.9238110527847752\n",
            "val_acc: 0.4055766793409379\n",
            "Start validation\n"
          ]
        },
        {
          "data": {
            "application/vnd.jupyter.widget-view+json": {
              "model_id": "ebc1e15a36374e8fa4428afbf5d1d70a",
              "version_major": 2,
              "version_minor": 0
            },
            "text/plain": [
              "  0%|          | 0/99 [00:00<?, ?it/s]"
            ]
          },
          "metadata": {},
          "output_type": "display_data"
        },
        {
          "name": "stdout",
          "output_type": "stream",
          "text": [
            "val_loss: 1.9386637403507425\n",
            "val_acc: 0.4055766793409379\n",
            "Start validation\n"
          ]
        },
        {
          "data": {
            "application/vnd.jupyter.widget-view+json": {
              "model_id": "4b4856ef6e2e4882ba38ccc3bf6d4ef8",
              "version_major": 2,
              "version_minor": 0
            },
            "text/plain": [
              "  0%|          | 0/99 [00:00<?, ?it/s]"
            ]
          },
          "metadata": {},
          "output_type": "display_data"
        },
        {
          "name": "stdout",
          "output_type": "stream",
          "text": [
            "val_loss: 1.945758372846276\n",
            "val_acc: 0.4005069708491762\n",
            "Start validation\n"
          ]
        },
        {
          "data": {
            "application/vnd.jupyter.widget-view+json": {
              "model_id": "178487b15780475bb005d8573fb78e1f",
              "version_major": 2,
              "version_minor": 0
            },
            "text/plain": [
              "  0%|          | 0/99 [00:00<?, ?it/s]"
            ]
          },
          "metadata": {},
          "output_type": "display_data"
        },
        {
          "name": "stdout",
          "output_type": "stream",
          "text": [
            "val_loss: 1.9408821668287721\n",
            "val_acc: 0.4005069708491762\n",
            "Start validation\n"
          ]
        },
        {
          "data": {
            "application/vnd.jupyter.widget-view+json": {
              "model_id": "3f735f6e81ac475ca4e16b11eb7ae916",
              "version_major": 2,
              "version_minor": 0
            },
            "text/plain": [
              "  0%|          | 0/99 [00:00<?, ?it/s]"
            ]
          },
          "metadata": {},
          "output_type": "display_data"
        },
        {
          "name": "stdout",
          "output_type": "stream",
          "text": [
            "val_loss: 1.8883594900670677\n",
            "val_acc: 0.4055766793409379\n",
            "Start validation\n"
          ]
        },
        {
          "data": {
            "application/vnd.jupyter.widget-view+json": {
              "model_id": "d9f6bfe068d943d9a55c074ee32427ea",
              "version_major": 2,
              "version_minor": 0
            },
            "text/plain": [
              "  0%|          | 0/99 [00:00<?, ?it/s]"
            ]
          },
          "metadata": {},
          "output_type": "display_data"
        },
        {
          "name": "stdout",
          "output_type": "stream",
          "text": [
            "val_loss: 1.8965851122682744\n",
            "val_acc: 0.4005069708491762\n",
            "Start validation\n"
          ]
        },
        {
          "data": {
            "application/vnd.jupyter.widget-view+json": {
              "model_id": "7424302344754b2c8820086a4c70cc91",
              "version_major": 2,
              "version_minor": 0
            },
            "text/plain": [
              "  0%|          | 0/99 [00:00<?, ?it/s]"
            ]
          },
          "metadata": {},
          "output_type": "display_data"
        },
        {
          "name": "stdout",
          "output_type": "stream",
          "text": [
            "val_loss: 1.9198751130489389\n",
            "val_acc: 0.4005069708491762\n",
            "Start validation\n"
          ]
        },
        {
          "data": {
            "application/vnd.jupyter.widget-view+json": {
              "model_id": "27663c1cf53e46e4a9b469c21a7bd913",
              "version_major": 2,
              "version_minor": 0
            },
            "text/plain": [
              "  0%|          | 0/99 [00:00<?, ?it/s]"
            ]
          },
          "metadata": {},
          "output_type": "display_data"
        },
        {
          "name": "stdout",
          "output_type": "stream",
          "text": [
            "val_loss: 1.92873265827545\n",
            "val_acc: 0.4055766793409379\n",
            "Start validation\n"
          ]
        },
        {
          "data": {
            "application/vnd.jupyter.widget-view+json": {
              "model_id": "b9883a879af34b62af8cda708888cb42",
              "version_major": 2,
              "version_minor": 0
            },
            "text/plain": [
              "  0%|          | 0/99 [00:00<?, ?it/s]"
            ]
          },
          "metadata": {},
          "output_type": "display_data"
        },
        {
          "name": "stdout",
          "output_type": "stream",
          "text": [
            "val_loss: 1.9449204495458892\n",
            "val_acc: 0.4055766793409379\n",
            "Start validation\n"
          ]
        },
        {
          "data": {
            "application/vnd.jupyter.widget-view+json": {
              "model_id": "5fc012081b184eecb7d9be29683ef2f3",
              "version_major": 2,
              "version_minor": 0
            },
            "text/plain": [
              "  0%|          | 0/99 [00:00<?, ?it/s]"
            ]
          },
          "metadata": {},
          "output_type": "display_data"
        },
        {
          "name": "stdout",
          "output_type": "stream",
          "text": [
            "val_loss: 1.951263210388145\n",
            "val_acc: 0.4005069708491762\n",
            "Start validation\n"
          ]
        },
        {
          "data": {
            "application/vnd.jupyter.widget-view+json": {
              "model_id": "5cf8801d34ff43bcb7c432f23f36a418",
              "version_major": 2,
              "version_minor": 0
            },
            "text/plain": [
              "  0%|          | 0/99 [00:00<?, ?it/s]"
            ]
          },
          "metadata": {},
          "output_type": "display_data"
        },
        {
          "name": "stdout",
          "output_type": "stream",
          "text": [
            "val_loss: 1.959362561654563\n",
            "val_acc: 0.4005069708491762\n",
            "Start validation\n"
          ]
        },
        {
          "data": {
            "application/vnd.jupyter.widget-view+json": {
              "model_id": "a49c9d3943074bc1a670bfcbe263de92",
              "version_major": 2,
              "version_minor": 0
            },
            "text/plain": [
              "  0%|          | 0/99 [00:00<?, ?it/s]"
            ]
          },
          "metadata": {},
          "output_type": "display_data"
        },
        {
          "name": "stdout",
          "output_type": "stream",
          "text": [
            "val_loss: 1.9652047030853503\n",
            "val_acc: 0.4055766793409379\n",
            "Start validation\n"
          ]
        },
        {
          "data": {
            "application/vnd.jupyter.widget-view+json": {
              "model_id": "8e09c117bb32469faea0bf3622e6cb96",
              "version_major": 2,
              "version_minor": 0
            },
            "text/plain": [
              "  0%|          | 0/99 [00:00<?, ?it/s]"
            ]
          },
          "metadata": {},
          "output_type": "display_data"
        },
        {
          "name": "stdout",
          "output_type": "stream",
          "text": [
            "val_loss: 1.9647740884260698\n",
            "val_acc: 0.4055766793409379\n",
            "Start validation\n"
          ]
        },
        {
          "data": {
            "application/vnd.jupyter.widget-view+json": {
              "model_id": "ee23c460639e4ad5984ffd451a3c9fb5",
              "version_major": 2,
              "version_minor": 0
            },
            "text/plain": [
              "  0%|          | 0/99 [00:00<?, ?it/s]"
            ]
          },
          "metadata": {},
          "output_type": "display_data"
        },
        {
          "name": "stdout",
          "output_type": "stream",
          "text": [
            "val_loss: 1.9605914823936694\n",
            "val_acc: 0.4055766793409379\n",
            "Start validation\n"
          ]
        },
        {
          "data": {
            "application/vnd.jupyter.widget-view+json": {
              "model_id": "e99a0ddf3f1a4558b28954cdab18306f",
              "version_major": 2,
              "version_minor": 0
            },
            "text/plain": [
              "  0%|          | 0/99 [00:00<?, ?it/s]"
            ]
          },
          "metadata": {},
          "output_type": "display_data"
        },
        {
          "name": "stdout",
          "output_type": "stream",
          "text": [
            "val_loss: 1.918159554101\n",
            "val_acc: 0.4005069708491762\n",
            "Start validation\n"
          ]
        },
        {
          "data": {
            "application/vnd.jupyter.widget-view+json": {
              "model_id": "053ca70feafb4ad0ac083f8ea8e4be77",
              "version_major": 2,
              "version_minor": 0
            },
            "text/plain": [
              "  0%|          | 0/99 [00:00<?, ?it/s]"
            ]
          },
          "metadata": {},
          "output_type": "display_data"
        },
        {
          "name": "stdout",
          "output_type": "stream",
          "text": [
            "val_loss: 1.916269190985747\n",
            "val_acc: 0.4005069708491762\n",
            "Start validation\n"
          ]
        },
        {
          "data": {
            "application/vnd.jupyter.widget-view+json": {
              "model_id": "e46b6ee9e9d544d2bdbc59b6bb6a2cd9",
              "version_major": 2,
              "version_minor": 0
            },
            "text/plain": [
              "  0%|          | 0/99 [00:00<?, ?it/s]"
            ]
          },
          "metadata": {},
          "output_type": "display_data"
        },
        {
          "name": "stdout",
          "output_type": "stream",
          "text": [
            "val_loss: 1.9286567893895237\n",
            "val_acc: 0.4055766793409379\n",
            "Start validation\n"
          ]
        },
        {
          "data": {
            "application/vnd.jupyter.widget-view+json": {
              "model_id": "b5f7081d80244c549f07c286700704bb",
              "version_major": 2,
              "version_minor": 0
            },
            "text/plain": [
              "  0%|          | 0/99 [00:00<?, ?it/s]"
            ]
          },
          "metadata": {},
          "output_type": "display_data"
        },
        {
          "name": "stdout",
          "output_type": "stream",
          "text": [
            "val_loss: 1.9376779469576748\n",
            "val_acc: 0.4055766793409379\n",
            "Start validation\n"
          ]
        },
        {
          "data": {
            "application/vnd.jupyter.widget-view+json": {
              "model_id": "2e2faf2905b54737ba34cb6c9400a18a",
              "version_major": 2,
              "version_minor": 0
            },
            "text/plain": [
              "  0%|          | 0/99 [00:00<?, ?it/s]"
            ]
          },
          "metadata": {},
          "output_type": "display_data"
        },
        {
          "name": "stdout",
          "output_type": "stream",
          "text": [
            "val_loss: 1.9577501626929852\n",
            "val_acc: 0.4005069708491762\n",
            "Start validation\n"
          ]
        },
        {
          "data": {
            "application/vnd.jupyter.widget-view+json": {
              "model_id": "9664d4721f664b168953a4960e81b89c",
              "version_major": 2,
              "version_minor": 0
            },
            "text/plain": [
              "  0%|          | 0/99 [00:00<?, ?it/s]"
            ]
          },
          "metadata": {},
          "output_type": "display_data"
        },
        {
          "name": "stdout",
          "output_type": "stream",
          "text": [
            "val_loss: 1.958535464725109\n",
            "val_acc: 0.4005069708491762\n",
            "Start validation\n"
          ]
        },
        {
          "data": {
            "application/vnd.jupyter.widget-view+json": {
              "model_id": "ce366f59244c4727950cc4da994ddcaa",
              "version_major": 2,
              "version_minor": 0
            },
            "text/plain": [
              "  0%|          | 0/99 [00:00<?, ?it/s]"
            ]
          },
          "metadata": {},
          "output_type": "display_data"
        },
        {
          "name": "stdout",
          "output_type": "stream",
          "text": [
            "val_loss: 1.9721567642809166\n",
            "val_acc: 0.4005069708491762\n",
            "Start validation\n"
          ]
        },
        {
          "data": {
            "application/vnd.jupyter.widget-view+json": {
              "model_id": "d8c03e8f5e23437ba97dddb38b8bd17f",
              "version_major": 2,
              "version_minor": 0
            },
            "text/plain": [
              "  0%|          | 0/99 [00:00<?, ?it/s]"
            ]
          },
          "metadata": {},
          "output_type": "display_data"
        },
        {
          "name": "stdout",
          "output_type": "stream",
          "text": [
            "val_loss: 1.9643251004845206\n",
            "val_acc: 0.4055766793409379\n",
            "Start validation\n"
          ]
        },
        {
          "data": {
            "application/vnd.jupyter.widget-view+json": {
              "model_id": "ce5049b6143e4719b03542d23ce44ba9",
              "version_major": 2,
              "version_minor": 0
            },
            "text/plain": [
              "  0%|          | 0/99 [00:00<?, ?it/s]"
            ]
          },
          "metadata": {},
          "output_type": "display_data"
        },
        {
          "name": "stdout",
          "output_type": "stream",
          "text": [
            "val_loss: 1.9158637391196356\n",
            "val_acc: 0.4055766793409379\n",
            "Start validation\n"
          ]
        },
        {
          "data": {
            "application/vnd.jupyter.widget-view+json": {
              "model_id": "996cbdd0241845cf867527d468fc6b85",
              "version_major": 2,
              "version_minor": 0
            },
            "text/plain": [
              "  0%|          | 0/99 [00:00<?, ?it/s]"
            ]
          },
          "metadata": {},
          "output_type": "display_data"
        },
        {
          "name": "stdout",
          "output_type": "stream",
          "text": [
            "val_loss: 1.9252703653441534\n",
            "val_acc: 0.4005069708491762\n",
            "Start validation\n"
          ]
        },
        {
          "data": {
            "application/vnd.jupyter.widget-view+json": {
              "model_id": "f20bb0678833441ca6fcb3db51501c49",
              "version_major": 2,
              "version_minor": 0
            },
            "text/plain": [
              "  0%|          | 0/99 [00:00<?, ?it/s]"
            ]
          },
          "metadata": {},
          "output_type": "display_data"
        },
        {
          "name": "stdout",
          "output_type": "stream",
          "text": [
            "val_loss: 1.9407567165114663\n",
            "val_acc: 0.4005069708491762\n",
            "Start validation\n"
          ]
        },
        {
          "data": {
            "application/vnd.jupyter.widget-view+json": {
              "model_id": "2d295cda09ba4206ac7f3540942e1134",
              "version_major": 2,
              "version_minor": 0
            },
            "text/plain": [
              "  0%|          | 0/99 [00:00<?, ?it/s]"
            ]
          },
          "metadata": {},
          "output_type": "display_data"
        },
        {
          "name": "stdout",
          "output_type": "stream",
          "text": [
            "val_loss: 1.953162361275066\n",
            "val_acc: 0.4055766793409379\n",
            "Start validation\n"
          ]
        },
        {
          "data": {
            "application/vnd.jupyter.widget-view+json": {
              "model_id": "7116fbf213a942d5afd94e710db7a893",
              "version_major": 2,
              "version_minor": 0
            },
            "text/plain": [
              "  0%|          | 0/99 [00:00<?, ?it/s]"
            ]
          },
          "metadata": {},
          "output_type": "display_data"
        },
        {
          "name": "stdout",
          "output_type": "stream",
          "text": [
            "val_loss: 1.953540907363699\n",
            "val_acc: 0.4055766793409379\n",
            "Start validation\n"
          ]
        },
        {
          "data": {
            "application/vnd.jupyter.widget-view+json": {
              "model_id": "56dd053a1f3248c782daa8292cac42ba",
              "version_major": 2,
              "version_minor": 0
            },
            "text/plain": [
              "  0%|          | 0/99 [00:00<?, ?it/s]"
            ]
          },
          "metadata": {},
          "output_type": "display_data"
        },
        {
          "name": "stdout",
          "output_type": "stream",
          "text": [
            "val_loss: 1.8991600630259273\n",
            "val_acc: 0.4005069708491762\n",
            "Start validation\n"
          ]
        },
        {
          "data": {
            "application/vnd.jupyter.widget-view+json": {
              "model_id": "1cd5e3ea8796439684bb42aa365fa807",
              "version_major": 2,
              "version_minor": 0
            },
            "text/plain": [
              "  0%|          | 0/99 [00:00<?, ?it/s]"
            ]
          },
          "metadata": {},
          "output_type": "display_data"
        },
        {
          "name": "stdout",
          "output_type": "stream",
          "text": [
            "val_loss: 1.899287380955436\n",
            "val_acc: 0.4055766793409379\n",
            "Start validation\n"
          ]
        },
        {
          "data": {
            "application/vnd.jupyter.widget-view+json": {
              "model_id": "15ec0411aa2c4209a8116ecbb9e2881a",
              "version_major": 2,
              "version_minor": 0
            },
            "text/plain": [
              "  0%|          | 0/99 [00:00<?, ?it/s]"
            ]
          },
          "metadata": {},
          "output_type": "display_data"
        },
        {
          "name": "stdout",
          "output_type": "stream",
          "text": [
            "val_loss: 1.8972414804227424\n",
            "val_acc: 0.4005069708491762\n",
            "Start validation\n"
          ]
        },
        {
          "data": {
            "application/vnd.jupyter.widget-view+json": {
              "model_id": "c930b67c3a6d4dbcb36a22f6ea5c0149",
              "version_major": 2,
              "version_minor": 0
            },
            "text/plain": [
              "  0%|          | 0/99 [00:00<?, ?it/s]"
            ]
          },
          "metadata": {},
          "output_type": "display_data"
        },
        {
          "name": "stdout",
          "output_type": "stream",
          "text": [
            "val_loss: 1.8575215285474604\n",
            "val_acc: 0.4055766793409379\n",
            "Start validation\n"
          ]
        },
        {
          "data": {
            "application/vnd.jupyter.widget-view+json": {
              "model_id": "d3f743fc1b6e41248cd4627d32111b01",
              "version_major": 2,
              "version_minor": 0
            },
            "text/plain": [
              "  0%|          | 0/99 [00:00<?, ?it/s]"
            ]
          },
          "metadata": {},
          "output_type": "display_data"
        },
        {
          "name": "stdout",
          "output_type": "stream",
          "text": [
            "val_loss: 1.8780827925662802\n",
            "val_acc: 0.4005069708491762\n",
            "Start validation\n"
          ]
        },
        {
          "data": {
            "application/vnd.jupyter.widget-view+json": {
              "model_id": "18b02367b85e42e5b26c9fdff5cefd16",
              "version_major": 2,
              "version_minor": 0
            },
            "text/plain": [
              "  0%|          | 0/99 [00:00<?, ?it/s]"
            ]
          },
          "metadata": {},
          "output_type": "display_data"
        },
        {
          "name": "stdout",
          "output_type": "stream",
          "text": [
            "val_loss: 1.895766971087215\n",
            "val_acc: 0.4005069708491762\n",
            "Start validation\n"
          ]
        },
        {
          "data": {
            "application/vnd.jupyter.widget-view+json": {
              "model_id": "45191f21339e4411861c8508f74342f5",
              "version_major": 2,
              "version_minor": 0
            },
            "text/plain": [
              "  0%|          | 0/99 [00:00<?, ?it/s]"
            ]
          },
          "metadata": {},
          "output_type": "display_data"
        },
        {
          "name": "stdout",
          "output_type": "stream",
          "text": [
            "val_loss: 1.907292375660906\n",
            "val_acc: 0.4005069708491762\n",
            "Start validation\n"
          ]
        },
        {
          "data": {
            "application/vnd.jupyter.widget-view+json": {
              "model_id": "35aa553b50564eb6a42e0ff415c372b2",
              "version_major": 2,
              "version_minor": 0
            },
            "text/plain": [
              "  0%|          | 0/99 [00:00<?, ?it/s]"
            ]
          },
          "metadata": {},
          "output_type": "display_data"
        },
        {
          "name": "stdout",
          "output_type": "stream",
          "text": [
            "val_loss: 1.9197067516018647\n",
            "val_acc: 0.4055766793409379\n",
            "Start validation\n"
          ]
        },
        {
          "data": {
            "application/vnd.jupyter.widget-view+json": {
              "model_id": "73ceacbb663c40ab8c37f0a019ea1a72",
              "version_major": 2,
              "version_minor": 0
            },
            "text/plain": [
              "  0%|          | 0/99 [00:00<?, ?it/s]"
            ]
          },
          "metadata": {},
          "output_type": "display_data"
        },
        {
          "name": "stdout",
          "output_type": "stream",
          "text": [
            "val_loss: 1.9307089146941598\n",
            "val_acc: 0.4005069708491762\n",
            "Start validation\n"
          ]
        },
        {
          "data": {
            "application/vnd.jupyter.widget-view+json": {
              "model_id": "43aa7f96dd9b4e2ba3bfd166e248efcc",
              "version_major": 2,
              "version_minor": 0
            },
            "text/plain": [
              "  0%|          | 0/99 [00:00<?, ?it/s]"
            ]
          },
          "metadata": {},
          "output_type": "display_data"
        },
        {
          "name": "stdout",
          "output_type": "stream",
          "text": [
            "val_loss: 1.947939730653859\n",
            "val_acc: 0.4055766793409379\n",
            "Start validation\n"
          ]
        },
        {
          "data": {
            "application/vnd.jupyter.widget-view+json": {
              "model_id": "d26e4031fbfb4e0186b840e5d732a457",
              "version_major": 2,
              "version_minor": 0
            },
            "text/plain": [
              "  0%|          | 0/99 [00:00<?, ?it/s]"
            ]
          },
          "metadata": {},
          "output_type": "display_data"
        },
        {
          "name": "stdout",
          "output_type": "stream",
          "text": [
            "val_loss: 1.9515001713627516\n",
            "val_acc: 0.4055766793409379\n",
            "Start validation\n"
          ]
        },
        {
          "data": {
            "application/vnd.jupyter.widget-view+json": {
              "model_id": "5f3bdc42942f43fc87a0656c43ae88ac",
              "version_major": 2,
              "version_minor": 0
            },
            "text/plain": [
              "  0%|          | 0/99 [00:00<?, ?it/s]"
            ]
          },
          "metadata": {},
          "output_type": "display_data"
        },
        {
          "name": "stdout",
          "output_type": "stream",
          "text": [
            "val_loss: 1.9022691207702713\n",
            "val_acc: 0.4055766793409379\n",
            "Start validation\n"
          ]
        },
        {
          "data": {
            "application/vnd.jupyter.widget-view+json": {
              "model_id": "2bf917a359d34954b550b4cea2a58ee2",
              "version_major": 2,
              "version_minor": 0
            },
            "text/plain": [
              "  0%|          | 0/99 [00:00<?, ?it/s]"
            ]
          },
          "metadata": {},
          "output_type": "display_data"
        },
        {
          "name": "stdout",
          "output_type": "stream",
          "text": [
            "val_loss: 1.902116273388718\n",
            "val_acc: 0.4055766793409379\n",
            "Start validation\n"
          ]
        },
        {
          "data": {
            "application/vnd.jupyter.widget-view+json": {
              "model_id": "4d1c748b43b5495db76c186eb72e44e5",
              "version_major": 2,
              "version_minor": 0
            },
            "text/plain": [
              "  0%|          | 0/99 [00:00<?, ?it/s]"
            ]
          },
          "metadata": {},
          "output_type": "display_data"
        },
        {
          "name": "stdout",
          "output_type": "stream",
          "text": [
            "val_loss: 1.9129085480564771\n",
            "val_acc: 0.4055766793409379\n",
            "Start validation\n"
          ]
        },
        {
          "data": {
            "application/vnd.jupyter.widget-view+json": {
              "model_id": "dcc2039127dc447591881d100e2be326",
              "version_major": 2,
              "version_minor": 0
            },
            "text/plain": [
              "  0%|          | 0/99 [00:00<?, ?it/s]"
            ]
          },
          "metadata": {},
          "output_type": "display_data"
        },
        {
          "name": "stdout",
          "output_type": "stream",
          "text": [
            "val_loss: 1.9261670371498725\n",
            "val_acc: 0.4055766793409379\n",
            "Start validation\n"
          ]
        },
        {
          "data": {
            "application/vnd.jupyter.widget-view+json": {
              "model_id": "1686d187b8b24a36bc90a5c89459de03",
              "version_major": 2,
              "version_minor": 0
            },
            "text/plain": [
              "  0%|          | 0/99 [00:00<?, ?it/s]"
            ]
          },
          "metadata": {},
          "output_type": "display_data"
        },
        {
          "name": "stdout",
          "output_type": "stream",
          "text": [
            "val_loss: 1.9370805807787963\n",
            "val_acc: 0.4005069708491762\n",
            "Start validation\n"
          ]
        },
        {
          "data": {
            "application/vnd.jupyter.widget-view+json": {
              "model_id": "a84503a888944bcc944c64f1559cf36c",
              "version_major": 2,
              "version_minor": 0
            },
            "text/plain": [
              "  0%|          | 0/99 [00:00<?, ?it/s]"
            ]
          },
          "metadata": {},
          "output_type": "display_data"
        },
        {
          "name": "stdout",
          "output_type": "stream",
          "text": [
            "val_loss: 1.9501849551393529\n",
            "val_acc: 0.4005069708491762\n",
            "Start validation\n"
          ]
        },
        {
          "data": {
            "application/vnd.jupyter.widget-view+json": {
              "model_id": "78babfd0aef94f908ca70f421af42d63",
              "version_major": 2,
              "version_minor": 0
            },
            "text/plain": [
              "  0%|          | 0/99 [00:00<?, ?it/s]"
            ]
          },
          "metadata": {},
          "output_type": "display_data"
        },
        {
          "name": "stdout",
          "output_type": "stream",
          "text": [
            "val_loss: 1.9592483507262335\n",
            "val_acc: 0.4005069708491762\n",
            "Start validation\n"
          ]
        },
        {
          "data": {
            "application/vnd.jupyter.widget-view+json": {
              "model_id": "b22a7a37dd9c4807bd825aba1ddd6c2a",
              "version_major": 2,
              "version_minor": 0
            },
            "text/plain": [
              "  0%|          | 0/99 [00:00<?, ?it/s]"
            ]
          },
          "metadata": {},
          "output_type": "display_data"
        },
        {
          "name": "stdout",
          "output_type": "stream",
          "text": [
            "val_loss: 1.9667067810742542\n",
            "val_acc: 0.4005069708491762\n",
            "Start validation\n"
          ]
        },
        {
          "data": {
            "application/vnd.jupyter.widget-view+json": {
              "model_id": "372cfe4299d948f0b143eec95dd71b13",
              "version_major": 2,
              "version_minor": 0
            },
            "text/plain": [
              "  0%|          | 0/99 [00:00<?, ?it/s]"
            ]
          },
          "metadata": {},
          "output_type": "display_data"
        },
        {
          "name": "stdout",
          "output_type": "stream",
          "text": [
            "val_loss: 1.9738587472173903\n",
            "val_acc: 0.4055766793409379\n",
            "Start validation\n"
          ]
        },
        {
          "data": {
            "application/vnd.jupyter.widget-view+json": {
              "model_id": "884b2433bcd243248ae3880ca40892a3",
              "version_major": 2,
              "version_minor": 0
            },
            "text/plain": [
              "  0%|          | 0/99 [00:00<?, ?it/s]"
            ]
          },
          "metadata": {},
          "output_type": "display_data"
        },
        {
          "name": "stdout",
          "output_type": "stream",
          "text": [
            "val_loss: 1.9795717037085332\n",
            "val_acc: 0.4005069708491762\n",
            "Start validation\n"
          ]
        },
        {
          "data": {
            "application/vnd.jupyter.widget-view+json": {
              "model_id": "c4e1263700ed40119ab81e63676acbf4",
              "version_major": 2,
              "version_minor": 0
            },
            "text/plain": [
              "  0%|          | 0/99 [00:00<?, ?it/s]"
            ]
          },
          "metadata": {},
          "output_type": "display_data"
        },
        {
          "name": "stdout",
          "output_type": "stream",
          "text": [
            "val_loss: 1.9918602307637532\n",
            "val_acc: 0.4055766793409379\n",
            "Start validation\n"
          ]
        },
        {
          "data": {
            "application/vnd.jupyter.widget-view+json": {
              "model_id": "0a08de39913742289799d59a9f5818da",
              "version_major": 2,
              "version_minor": 0
            },
            "text/plain": [
              "  0%|          | 0/99 [00:00<?, ?it/s]"
            ]
          },
          "metadata": {},
          "output_type": "display_data"
        },
        {
          "name": "stdout",
          "output_type": "stream",
          "text": [
            "val_loss: 2.002118235886699\n",
            "val_acc: 0.4055766793409379\n",
            "Start validation\n"
          ]
        },
        {
          "data": {
            "application/vnd.jupyter.widget-view+json": {
              "model_id": "ef7bfb3a5a764c7188ffec93f83fb394",
              "version_major": 2,
              "version_minor": 0
            },
            "text/plain": [
              "  0%|          | 0/99 [00:00<?, ?it/s]"
            ]
          },
          "metadata": {},
          "output_type": "display_data"
        },
        {
          "name": "stdout",
          "output_type": "stream",
          "text": [
            "val_loss: 1.98721462789208\n",
            "val_acc: 0.4055766793409379\n",
            "Start validation\n"
          ]
        },
        {
          "data": {
            "application/vnd.jupyter.widget-view+json": {
              "model_id": "8670e4bb885e4bad877beee701763d62",
              "version_major": 2,
              "version_minor": 0
            },
            "text/plain": [
              "  0%|          | 0/99 [00:00<?, ?it/s]"
            ]
          },
          "metadata": {},
          "output_type": "display_data"
        },
        {
          "name": "stdout",
          "output_type": "stream",
          "text": [
            "val_loss: 1.9314115149806244\n",
            "val_acc: 0.4055766793409379\n",
            "Start validation\n"
          ]
        },
        {
          "data": {
            "application/vnd.jupyter.widget-view+json": {
              "model_id": "469742ce908940e19b92720aabea3461",
              "version_major": 2,
              "version_minor": 0
            },
            "text/plain": [
              "  0%|          | 0/99 [00:00<?, ?it/s]"
            ]
          },
          "metadata": {},
          "output_type": "display_data"
        },
        {
          "name": "stdout",
          "output_type": "stream",
          "text": [
            "val_loss: 1.8669846045850502\n",
            "val_acc: 0.4005069708491762\n",
            "Start validation\n"
          ]
        },
        {
          "data": {
            "application/vnd.jupyter.widget-view+json": {
              "model_id": "5c210a0d0bc54e4697f316d90f129392",
              "version_major": 2,
              "version_minor": 0
            },
            "text/plain": [
              "  0%|          | 0/99 [00:00<?, ?it/s]"
            ]
          },
          "metadata": {},
          "output_type": "display_data"
        },
        {
          "name": "stdout",
          "output_type": "stream",
          "text": [
            "val_loss: 1.8830660280555185\n",
            "val_acc: 0.4055766793409379\n",
            "Start validation\n"
          ]
        },
        {
          "data": {
            "application/vnd.jupyter.widget-view+json": {
              "model_id": "b10b979dfbd943fd8192b66bf38799e4",
              "version_major": 2,
              "version_minor": 0
            },
            "text/plain": [
              "  0%|          | 0/99 [00:00<?, ?it/s]"
            ]
          },
          "metadata": {},
          "output_type": "display_data"
        },
        {
          "name": "stdout",
          "output_type": "stream",
          "text": [
            "val_loss: 1.890835479654447\n",
            "val_acc: 0.4005069708491762\n",
            "Start validation\n"
          ]
        },
        {
          "data": {
            "application/vnd.jupyter.widget-view+json": {
              "model_id": "a329ba44633f4bdbafaa2f5ffff2aa0e",
              "version_major": 2,
              "version_minor": 0
            },
            "text/plain": [
              "  0%|          | 0/99 [00:00<?, ?it/s]"
            ]
          },
          "metadata": {},
          "output_type": "display_data"
        },
        {
          "name": "stdout",
          "output_type": "stream",
          "text": [
            "val_loss: 1.8436683019002278\n",
            "val_acc: 0.4055766793409379\n",
            "Start validation\n"
          ]
        },
        {
          "data": {
            "application/vnd.jupyter.widget-view+json": {
              "model_id": "19168b202fbd4545a07239ae941d2b24",
              "version_major": 2,
              "version_minor": 0
            },
            "text/plain": [
              "  0%|          | 0/99 [00:00<?, ?it/s]"
            ]
          },
          "metadata": {},
          "output_type": "display_data"
        },
        {
          "name": "stdout",
          "output_type": "stream",
          "text": [
            "val_loss: 1.8611581542275168\n",
            "val_acc: 0.4055766793409379\n",
            "Start validation\n"
          ]
        },
        {
          "data": {
            "application/vnd.jupyter.widget-view+json": {
              "model_id": "94824d37e952474cb246f2913b145cd3",
              "version_major": 2,
              "version_minor": 0
            },
            "text/plain": [
              "  0%|          | 0/99 [00:00<?, ?it/s]"
            ]
          },
          "metadata": {},
          "output_type": "display_data"
        },
        {
          "name": "stdout",
          "output_type": "stream",
          "text": [
            "val_loss: 1.8836158098596516\n",
            "val_acc: 0.4055766793409379\n",
            "Start validation\n"
          ]
        },
        {
          "data": {
            "application/vnd.jupyter.widget-view+json": {
              "model_id": "eca325d7c8ff43d8b3ac7bccd4d6e40f",
              "version_major": 2,
              "version_minor": 0
            },
            "text/plain": [
              "  0%|          | 0/99 [00:00<?, ?it/s]"
            ]
          },
          "metadata": {},
          "output_type": "display_data"
        },
        {
          "name": "stdout",
          "output_type": "stream",
          "text": [
            "val_loss: 1.9121750051325017\n",
            "val_acc: 0.4005069708491762\n",
            "Start validation\n"
          ]
        },
        {
          "data": {
            "application/vnd.jupyter.widget-view+json": {
              "model_id": "eb1c166018b3456f9849871cc8123e33",
              "version_major": 2,
              "version_minor": 0
            },
            "text/plain": [
              "  0%|          | 0/99 [00:00<?, ?it/s]"
            ]
          },
          "metadata": {},
          "output_type": "display_data"
        },
        {
          "name": "stdout",
          "output_type": "stream",
          "text": [
            "val_loss: 1.9160132751320347\n",
            "val_acc: 0.4055766793409379\n",
            "Start validation\n"
          ]
        },
        {
          "data": {
            "application/vnd.jupyter.widget-view+json": {
              "model_id": "6ac1bbe9f22f4a74bfe0ee5afa518a08",
              "version_major": 2,
              "version_minor": 0
            },
            "text/plain": [
              "  0%|          | 0/99 [00:00<?, ?it/s]"
            ]
          },
          "metadata": {},
          "output_type": "display_data"
        },
        {
          "name": "stdout",
          "output_type": "stream",
          "text": [
            "val_loss: 1.870487169183866\n",
            "val_acc: 0.4005069708491762\n",
            "Start validation\n"
          ]
        },
        {
          "data": {
            "application/vnd.jupyter.widget-view+json": {
              "model_id": "0ce9dbe23ecd4ed7aabe57268c16493d",
              "version_major": 2,
              "version_minor": 0
            },
            "text/plain": [
              "  0%|          | 0/99 [00:00<?, ?it/s]"
            ]
          },
          "metadata": {},
          "output_type": "display_data"
        },
        {
          "name": "stdout",
          "output_type": "stream",
          "text": [
            "val_loss: 1.8718265927199162\n",
            "val_acc: 0.4055766793409379\n",
            "Start validation\n"
          ]
        },
        {
          "data": {
            "application/vnd.jupyter.widget-view+json": {
              "model_id": "2a3d4778d1144ef5af370bc719eda61a",
              "version_major": 2,
              "version_minor": 0
            },
            "text/plain": [
              "  0%|          | 0/99 [00:00<?, ?it/s]"
            ]
          },
          "metadata": {},
          "output_type": "display_data"
        },
        {
          "name": "stdout",
          "output_type": "stream",
          "text": [
            "val_loss: 1.8869341768399635\n",
            "val_acc: 0.4055766793409379\n",
            "Start validation\n"
          ]
        },
        {
          "data": {
            "application/vnd.jupyter.widget-view+json": {
              "model_id": "5c76449581b04042bb7da4d2324c9951",
              "version_major": 2,
              "version_minor": 0
            },
            "text/plain": [
              "  0%|          | 0/99 [00:00<?, ?it/s]"
            ]
          },
          "metadata": {},
          "output_type": "display_data"
        },
        {
          "name": "stdout",
          "output_type": "stream",
          "text": [
            "val_loss: 1.8382199394582497\n",
            "val_acc: 0.4055766793409379\n",
            "Start validation\n"
          ]
        },
        {
          "data": {
            "application/vnd.jupyter.widget-view+json": {
              "model_id": "c044b7462b6b41258eb66862464a394c",
              "version_major": 2,
              "version_minor": 0
            },
            "text/plain": [
              "  0%|          | 0/99 [00:00<?, ?it/s]"
            ]
          },
          "metadata": {},
          "output_type": "display_data"
        },
        {
          "name": "stdout",
          "output_type": "stream",
          "text": [
            "val_loss: 1.8509901184024233\n",
            "val_acc: 0.4055766793409379\n",
            "Start validation\n"
          ]
        },
        {
          "data": {
            "application/vnd.jupyter.widget-view+json": {
              "model_id": "10416aabdbfc4e21ae15f9b3800672d5",
              "version_major": 2,
              "version_minor": 0
            },
            "text/plain": [
              "  0%|          | 0/99 [00:00<?, ?it/s]"
            ]
          },
          "metadata": {},
          "output_type": "display_data"
        },
        {
          "name": "stdout",
          "output_type": "stream",
          "text": [
            "val_loss: 1.861169129309028\n",
            "val_acc: 0.4005069708491762\n",
            "Start validation\n"
          ]
        },
        {
          "data": {
            "application/vnd.jupyter.widget-view+json": {
              "model_id": "601316ac52d94594a0eb8fc0a3c7dcf2",
              "version_major": 2,
              "version_minor": 0
            },
            "text/plain": [
              "  0%|          | 0/99 [00:00<?, ?it/s]"
            ]
          },
          "metadata": {},
          "output_type": "display_data"
        },
        {
          "name": "stdout",
          "output_type": "stream",
          "text": [
            "val_loss: 1.8112889215199635\n",
            "val_acc: 0.4055766793409379\n",
            "Start validation\n"
          ]
        },
        {
          "data": {
            "application/vnd.jupyter.widget-view+json": {
              "model_id": "57bdc314f17e4590ad771da8ac08c155",
              "version_major": 2,
              "version_minor": 0
            },
            "text/plain": [
              "  0%|          | 0/99 [00:00<?, ?it/s]"
            ]
          },
          "metadata": {},
          "output_type": "display_data"
        },
        {
          "name": "stdout",
          "output_type": "stream",
          "text": [
            "val_loss: 1.828856271926803\n",
            "val_acc: 0.4005069708491762\n",
            "Start validation\n"
          ]
        },
        {
          "data": {
            "application/vnd.jupyter.widget-view+json": {
              "model_id": "2aa807a82fab4a43a1641ff5b770fedc",
              "version_major": 2,
              "version_minor": 0
            },
            "text/plain": [
              "  0%|          | 0/99 [00:00<?, ?it/s]"
            ]
          },
          "metadata": {},
          "output_type": "display_data"
        },
        {
          "name": "stdout",
          "output_type": "stream",
          "text": [
            "val_loss: 1.847919427987301\n",
            "val_acc: 0.4055766793409379\n",
            "Start validation\n"
          ]
        },
        {
          "data": {
            "application/vnd.jupyter.widget-view+json": {
              "model_id": "422cb939404e41f58f47a308a3c3643a",
              "version_major": 2,
              "version_minor": 0
            },
            "text/plain": [
              "  0%|          | 0/99 [00:00<?, ?it/s]"
            ]
          },
          "metadata": {},
          "output_type": "display_data"
        },
        {
          "name": "stdout",
          "output_type": "stream",
          "text": [
            "val_loss: 1.8641256118061567\n",
            "val_acc: 0.4055766793409379\n",
            "Start validation\n"
          ]
        },
        {
          "data": {
            "application/vnd.jupyter.widget-view+json": {
              "model_id": "8020a220771845d9adbbf91553568105",
              "version_major": 2,
              "version_minor": 0
            },
            "text/plain": [
              "  0%|          | 0/99 [00:00<?, ?it/s]"
            ]
          },
          "metadata": {},
          "output_type": "display_data"
        },
        {
          "name": "stdout",
          "output_type": "stream",
          "text": [
            "val_loss: 1.8794542701557428\n",
            "val_acc: 0.4005069708491762\n",
            "Start validation\n"
          ]
        },
        {
          "data": {
            "application/vnd.jupyter.widget-view+json": {
              "model_id": "b468eb7888c5469596e6923ac05f0e0f",
              "version_major": 2,
              "version_minor": 0
            },
            "text/plain": [
              "  0%|          | 0/99 [00:00<?, ?it/s]"
            ]
          },
          "metadata": {},
          "output_type": "display_data"
        },
        {
          "name": "stdout",
          "output_type": "stream",
          "text": [
            "val_loss: 1.892731011515916\n",
            "val_acc: 0.4005069708491762\n",
            "Start validation\n"
          ]
        },
        {
          "data": {
            "application/vnd.jupyter.widget-view+json": {
              "model_id": "336078b171364071b93e6c7623474140",
              "version_major": 2,
              "version_minor": 0
            },
            "text/plain": [
              "  0%|          | 0/99 [00:00<?, ?it/s]"
            ]
          },
          "metadata": {},
          "output_type": "display_data"
        },
        {
          "name": "stdout",
          "output_type": "stream",
          "text": [
            "val_loss: 1.9055095519682375\n",
            "val_acc: 0.4005069708491762\n",
            "Start validation\n"
          ]
        },
        {
          "data": {
            "application/vnd.jupyter.widget-view+json": {
              "model_id": "5bb362a1d63b430db5a745a64f4e234a",
              "version_major": 2,
              "version_minor": 0
            },
            "text/plain": [
              "  0%|          | 0/99 [00:00<?, ?it/s]"
            ]
          },
          "metadata": {},
          "output_type": "display_data"
        },
        {
          "name": "stdout",
          "output_type": "stream",
          "text": [
            "val_loss: 1.9144494551600832\n",
            "val_acc: 0.4005069708491762\n",
            "Start validation\n"
          ]
        },
        {
          "data": {
            "application/vnd.jupyter.widget-view+json": {
              "model_id": "73ed6b91bb2f4b938166d4da981b7abb",
              "version_major": 2,
              "version_minor": 0
            },
            "text/plain": [
              "  0%|          | 0/99 [00:00<?, ?it/s]"
            ]
          },
          "metadata": {},
          "output_type": "display_data"
        },
        {
          "name": "stdout",
          "output_type": "stream",
          "text": [
            "val_loss: 1.926146787826461\n",
            "val_acc: 0.4005069708491762\n",
            "Start validation\n"
          ]
        },
        {
          "data": {
            "application/vnd.jupyter.widget-view+json": {
              "model_id": "3da149d4a8d348c1bc0295c2bde53d51",
              "version_major": 2,
              "version_minor": 0
            },
            "text/plain": [
              "  0%|          | 0/99 [00:00<?, ?it/s]"
            ]
          },
          "metadata": {},
          "output_type": "display_data"
        },
        {
          "name": "stdout",
          "output_type": "stream",
          "text": [
            "val_loss: 1.9202162418702635\n",
            "val_acc: 0.4005069708491762\n",
            "Start validation\n"
          ]
        },
        {
          "data": {
            "application/vnd.jupyter.widget-view+json": {
              "model_id": "c48ad465cac2435cb2d4994fa503d571",
              "version_major": 2,
              "version_minor": 0
            },
            "text/plain": [
              "  0%|          | 0/99 [00:00<?, ?it/s]"
            ]
          },
          "metadata": {},
          "output_type": "display_data"
        },
        {
          "name": "stdout",
          "output_type": "stream",
          "text": [
            "val_loss: 1.927043288645118\n",
            "val_acc: 0.4055766793409379\n",
            "Start validation\n"
          ]
        },
        {
          "data": {
            "application/vnd.jupyter.widget-view+json": {
              "model_id": "d1b7368337b04642b0c23c0cbfa985f0",
              "version_major": 2,
              "version_minor": 0
            },
            "text/plain": [
              "  0%|          | 0/99 [00:00<?, ?it/s]"
            ]
          },
          "metadata": {},
          "output_type": "display_data"
        },
        {
          "name": "stdout",
          "output_type": "stream",
          "text": [
            "val_loss: 1.935493908747278\n",
            "val_acc: 0.4005069708491762\n",
            "Start validation\n"
          ]
        },
        {
          "data": {
            "application/vnd.jupyter.widget-view+json": {
              "model_id": "a45b41211d374747a0b566aa5e2dcb00",
              "version_major": 2,
              "version_minor": 0
            },
            "text/plain": [
              "  0%|          | 0/99 [00:00<?, ?it/s]"
            ]
          },
          "metadata": {},
          "output_type": "display_data"
        },
        {
          "name": "stdout",
          "output_type": "stream",
          "text": [
            "val_loss: 1.8955080750012638\n",
            "val_acc: 0.4055766793409379\n",
            "Start validation\n"
          ]
        },
        {
          "data": {
            "application/vnd.jupyter.widget-view+json": {
              "model_id": "a89f7365d78a48e88a782ef81b7348a1",
              "version_major": 2,
              "version_minor": 0
            },
            "text/plain": [
              "  0%|          | 0/99 [00:00<?, ?it/s]"
            ]
          },
          "metadata": {},
          "output_type": "display_data"
        },
        {
          "name": "stdout",
          "output_type": "stream",
          "text": [
            "val_loss: 1.893350773387485\n",
            "val_acc: 0.4005069708491762\n",
            "Start validation\n"
          ]
        },
        {
          "data": {
            "application/vnd.jupyter.widget-view+json": {
              "model_id": "4b1a1d50205f4defba47e4a939a2f446",
              "version_major": 2,
              "version_minor": 0
            },
            "text/plain": [
              "  0%|          | 0/99 [00:00<?, ?it/s]"
            ]
          },
          "metadata": {},
          "output_type": "display_data"
        },
        {
          "name": "stdout",
          "output_type": "stream",
          "text": [
            "val_loss: 1.8773889475398593\n",
            "val_acc: 0.4005069708491762\n",
            "Start validation\n"
          ]
        },
        {
          "data": {
            "application/vnd.jupyter.widget-view+json": {
              "model_id": "1adca59cfb67411aa65690e86eb24acd",
              "version_major": 2,
              "version_minor": 0
            },
            "text/plain": [
              "  0%|          | 0/99 [00:00<?, ?it/s]"
            ]
          },
          "metadata": {},
          "output_type": "display_data"
        },
        {
          "name": "stdout",
          "output_type": "stream",
          "text": [
            "val_loss: 1.853958345422841\n",
            "val_acc: 0.4005069708491762\n",
            "Start validation\n"
          ]
        },
        {
          "data": {
            "application/vnd.jupyter.widget-view+json": {
              "model_id": "c8c57e2159a546db856148f62e55cbe2",
              "version_major": 2,
              "version_minor": 0
            },
            "text/plain": [
              "  0%|          | 0/99 [00:00<?, ?it/s]"
            ]
          },
          "metadata": {},
          "output_type": "display_data"
        },
        {
          "name": "stdout",
          "output_type": "stream",
          "text": [
            "val_loss: 1.815235632838625\n",
            "val_acc: 0.4005069708491762\n",
            "Start validation\n"
          ]
        },
        {
          "data": {
            "application/vnd.jupyter.widget-view+json": {
              "model_id": "075746dc6eeb4976aec1c20e0ffb7738",
              "version_major": 2,
              "version_minor": 0
            },
            "text/plain": [
              "  0%|          | 0/99 [00:00<?, ?it/s]"
            ]
          },
          "metadata": {},
          "output_type": "display_data"
        },
        {
          "name": "stdout",
          "output_type": "stream",
          "text": [
            "val_loss: 1.8168292075696617\n",
            "val_acc: 0.4005069708491762\n",
            "Start validation\n"
          ]
        },
        {
          "data": {
            "application/vnd.jupyter.widget-view+json": {
              "model_id": "e34d8dee6aae4030bd85c831c7ee72bf",
              "version_major": 2,
              "version_minor": 0
            },
            "text/plain": [
              "  0%|          | 0/99 [00:00<?, ?it/s]"
            ]
          },
          "metadata": {},
          "output_type": "display_data"
        },
        {
          "name": "stdout",
          "output_type": "stream",
          "text": [
            "val_loss: 1.833876417140768\n",
            "val_acc: 0.4055766793409379\n",
            "Start validation\n"
          ]
        },
        {
          "data": {
            "application/vnd.jupyter.widget-view+json": {
              "model_id": "4cf2719034c3402f92aba5b0c4c8af30",
              "version_major": 2,
              "version_minor": 0
            },
            "text/plain": [
              "  0%|          | 0/99 [00:00<?, ?it/s]"
            ]
          },
          "metadata": {},
          "output_type": "display_data"
        },
        {
          "name": "stdout",
          "output_type": "stream",
          "text": [
            "val_loss: 1.8498192604142005\n",
            "val_acc: 0.4055766793409379\n",
            "Start validation\n"
          ]
        },
        {
          "data": {
            "application/vnd.jupyter.widget-view+json": {
              "model_id": "c93135eb139449219007c5edfb8034f6",
              "version_major": 2,
              "version_minor": 0
            },
            "text/plain": [
              "  0%|          | 0/99 [00:00<?, ?it/s]"
            ]
          },
          "metadata": {},
          "output_type": "display_data"
        },
        {
          "name": "stdout",
          "output_type": "stream",
          "text": [
            "val_loss: 1.8659137198419282\n",
            "val_acc: 0.4055766793409379\n",
            "Start validation\n"
          ]
        },
        {
          "data": {
            "application/vnd.jupyter.widget-view+json": {
              "model_id": "f597618222274d64a3c19abd78f9f30d",
              "version_major": 2,
              "version_minor": 0
            },
            "text/plain": [
              "  0%|          | 0/99 [00:00<?, ?it/s]"
            ]
          },
          "metadata": {},
          "output_type": "display_data"
        },
        {
          "name": "stdout",
          "output_type": "stream",
          "text": [
            "val_loss: 1.8836074242688188\n",
            "val_acc: 0.4055766793409379\n",
            "Start validation\n"
          ]
        },
        {
          "data": {
            "application/vnd.jupyter.widget-view+json": {
              "model_id": "f9b06d3ca82c4cbea450a79f782c7301",
              "version_major": 2,
              "version_minor": 0
            },
            "text/plain": [
              "  0%|          | 0/99 [00:00<?, ?it/s]"
            ]
          },
          "metadata": {},
          "output_type": "display_data"
        },
        {
          "name": "stdout",
          "output_type": "stream",
          "text": [
            "val_loss: 1.9070822373785155\n",
            "val_acc: 0.4005069708491762\n",
            "Start validation\n"
          ]
        },
        {
          "data": {
            "application/vnd.jupyter.widget-view+json": {
              "model_id": "3050ee9dba1b4243aef676231bc6de80",
              "version_major": 2,
              "version_minor": 0
            },
            "text/plain": [
              "  0%|          | 0/99 [00:00<?, ?it/s]"
            ]
          },
          "metadata": {},
          "output_type": "display_data"
        },
        {
          "name": "stdout",
          "output_type": "stream",
          "text": [
            "val_loss: 1.8676744440589288\n",
            "val_acc: 0.4005069708491762\n",
            "Start validation\n"
          ]
        },
        {
          "data": {
            "application/vnd.jupyter.widget-view+json": {
              "model_id": "3ac76dde7a6943d4921f9e29e8d69e1a",
              "version_major": 2,
              "version_minor": 0
            },
            "text/plain": [
              "  0%|          | 0/99 [00:00<?, ?it/s]"
            ]
          },
          "metadata": {},
          "output_type": "display_data"
        },
        {
          "name": "stdout",
          "output_type": "stream",
          "text": [
            "val_loss: 1.8641666902436151\n",
            "val_acc: 0.4055766793409379\n",
            "Start validation\n"
          ]
        },
        {
          "data": {
            "application/vnd.jupyter.widget-view+json": {
              "model_id": "ccb4267c3dce43969b6b90cdec2ed8fe",
              "version_major": 2,
              "version_minor": 0
            },
            "text/plain": [
              "  0%|          | 0/99 [00:00<?, ?it/s]"
            ]
          },
          "metadata": {},
          "output_type": "display_data"
        },
        {
          "name": "stdout",
          "output_type": "stream",
          "text": [
            "val_loss: 1.8749460246827867\n",
            "val_acc: 0.4055766793409379\n",
            "Start validation\n"
          ]
        },
        {
          "data": {
            "application/vnd.jupyter.widget-view+json": {
              "model_id": "0c18fffddea248b399826a5c51f7ce60",
              "version_major": 2,
              "version_minor": 0
            },
            "text/plain": [
              "  0%|          | 0/99 [00:00<?, ?it/s]"
            ]
          },
          "metadata": {},
          "output_type": "display_data"
        },
        {
          "name": "stdout",
          "output_type": "stream",
          "text": [
            "val_loss: 1.890156505685864\n",
            "val_acc: 0.4005069708491762\n",
            "Start validation\n"
          ]
        },
        {
          "data": {
            "application/vnd.jupyter.widget-view+json": {
              "model_id": "59bb8cb851784248ba0a1589c5e059dd",
              "version_major": 2,
              "version_minor": 0
            },
            "text/plain": [
              "  0%|          | 0/99 [00:00<?, ?it/s]"
            ]
          },
          "metadata": {},
          "output_type": "display_data"
        },
        {
          "name": "stdout",
          "output_type": "stream",
          "text": [
            "val_loss: 1.8973789750927625\n",
            "val_acc: 0.4055766793409379\n",
            "Start validation\n"
          ]
        },
        {
          "data": {
            "application/vnd.jupyter.widget-view+json": {
              "model_id": "ce6b89a3a19c4a6c8abd4d5453feb4e8",
              "version_major": 2,
              "version_minor": 0
            },
            "text/plain": [
              "  0%|          | 0/99 [00:00<?, ?it/s]"
            ]
          },
          "metadata": {},
          "output_type": "display_data"
        },
        {
          "name": "stdout",
          "output_type": "stream",
          "text": [
            "val_loss: 1.8825749357541401\n",
            "val_acc: 0.4005069708491762\n",
            "Start validation\n"
          ]
        },
        {
          "data": {
            "application/vnd.jupyter.widget-view+json": {
              "model_id": "dd5f065ddb814750b6ca52207d6961b0",
              "version_major": 2,
              "version_minor": 0
            },
            "text/plain": [
              "  0%|          | 0/99 [00:00<?, ?it/s]"
            ]
          },
          "metadata": {},
          "output_type": "display_data"
        },
        {
          "name": "stdout",
          "output_type": "stream",
          "text": [
            "val_loss: 1.8331665631496545\n",
            "val_acc: 0.4005069708491762\n",
            "Start validation\n"
          ]
        },
        {
          "data": {
            "application/vnd.jupyter.widget-view+json": {
              "model_id": "0a6f8c559a934540adc1308de1be2594",
              "version_major": 2,
              "version_minor": 0
            },
            "text/plain": [
              "  0%|          | 0/99 [00:00<?, ?it/s]"
            ]
          },
          "metadata": {},
          "output_type": "display_data"
        },
        {
          "name": "stdout",
          "output_type": "stream",
          "text": [
            "val_loss: 1.8233193827397896\n",
            "val_acc: 0.4005069708491762\n",
            "Start validation\n"
          ]
        },
        {
          "data": {
            "application/vnd.jupyter.widget-view+json": {
              "model_id": "8f4cc6ec1f41426d9ed5f4116b2388ab",
              "version_major": 2,
              "version_minor": 0
            },
            "text/plain": [
              "  0%|          | 0/99 [00:00<?, ?it/s]"
            ]
          },
          "metadata": {},
          "output_type": "display_data"
        },
        {
          "name": "stdout",
          "output_type": "stream",
          "text": [
            "val_loss: 1.8369527796302179\n",
            "val_acc: 0.4005069708491762\n",
            "Start validation\n"
          ]
        },
        {
          "data": {
            "application/vnd.jupyter.widget-view+json": {
              "model_id": "bcc6f000dab44d7e8430d9765c8265d5",
              "version_major": 2,
              "version_minor": 0
            },
            "text/plain": [
              "  0%|          | 0/99 [00:00<?, ?it/s]"
            ]
          },
          "metadata": {},
          "output_type": "display_data"
        },
        {
          "name": "stdout",
          "output_type": "stream",
          "text": [
            "val_loss: 1.8508106060702392\n",
            "val_acc: 0.4055766793409379\n",
            "Start validation\n"
          ]
        },
        {
          "data": {
            "application/vnd.jupyter.widget-view+json": {
              "model_id": "36dcc639b94b4b229c299db8bb0970cf",
              "version_major": 2,
              "version_minor": 0
            },
            "text/plain": [
              "  0%|          | 0/99 [00:00<?, ?it/s]"
            ]
          },
          "metadata": {},
          "output_type": "display_data"
        },
        {
          "name": "stdout",
          "output_type": "stream",
          "text": [
            "val_loss: 1.863029956817627\n",
            "val_acc: 0.4055766793409379\n",
            "Start validation\n"
          ]
        },
        {
          "data": {
            "application/vnd.jupyter.widget-view+json": {
              "model_id": "cee18ba1edac4040afa495c4df471798",
              "version_major": 2,
              "version_minor": 0
            },
            "text/plain": [
              "  0%|          | 0/99 [00:00<?, ?it/s]"
            ]
          },
          "metadata": {},
          "output_type": "display_data"
        },
        {
          "name": "stdout",
          "output_type": "stream",
          "text": [
            "val_loss: 1.8734649245185082\n",
            "val_acc: 0.4055766793409379\n",
            "Start validation\n"
          ]
        },
        {
          "data": {
            "application/vnd.jupyter.widget-view+json": {
              "model_id": "f6d43297a76349a38bbf66b1721d864c",
              "version_major": 2,
              "version_minor": 0
            },
            "text/plain": [
              "  0%|          | 0/99 [00:00<?, ?it/s]"
            ]
          },
          "metadata": {},
          "output_type": "display_data"
        },
        {
          "name": "stdout",
          "output_type": "stream",
          "text": [
            "val_loss: 1.8851159082518683\n",
            "val_acc: 0.4055766793409379\n",
            "Start validation\n"
          ]
        },
        {
          "data": {
            "application/vnd.jupyter.widget-view+json": {
              "model_id": "ebc50a5bd60347cdba039bf03f32d467",
              "version_major": 2,
              "version_minor": 0
            },
            "text/plain": [
              "  0%|          | 0/99 [00:00<?, ?it/s]"
            ]
          },
          "metadata": {},
          "output_type": "display_data"
        },
        {
          "name": "stdout",
          "output_type": "stream",
          "text": [
            "val_loss: 1.886540128727152\n",
            "val_acc: 0.4055766793409379\n",
            "Start validation\n"
          ]
        },
        {
          "data": {
            "application/vnd.jupyter.widget-view+json": {
              "model_id": "0df63ab8bb1a4fc4904e0d9b7bb72d38",
              "version_major": 2,
              "version_minor": 0
            },
            "text/plain": [
              "  0%|          | 0/99 [00:00<?, ?it/s]"
            ]
          },
          "metadata": {},
          "output_type": "display_data"
        },
        {
          "name": "stdout",
          "output_type": "stream",
          "text": [
            "val_loss: 1.8924893875314732\n",
            "val_acc: 0.4055766793409379\n",
            "Start validation\n"
          ]
        },
        {
          "data": {
            "application/vnd.jupyter.widget-view+json": {
              "model_id": "6c47f52ce16c48038c8d6450752951a3",
              "version_major": 2,
              "version_minor": 0
            },
            "text/plain": [
              "  0%|          | 0/99 [00:00<?, ?it/s]"
            ]
          },
          "metadata": {},
          "output_type": "display_data"
        },
        {
          "name": "stdout",
          "output_type": "stream",
          "text": [
            "val_loss: 1.8983475445496916\n",
            "val_acc: 0.4055766793409379\n",
            "Start validation\n"
          ]
        },
        {
          "data": {
            "application/vnd.jupyter.widget-view+json": {
              "model_id": "596e0a654c3547409e03eb83abed3ae0",
              "version_major": 2,
              "version_minor": 0
            },
            "text/plain": [
              "  0%|          | 0/99 [00:00<?, ?it/s]"
            ]
          },
          "metadata": {},
          "output_type": "display_data"
        },
        {
          "name": "stdout",
          "output_type": "stream",
          "text": [
            "val_loss: 1.8997215140949597\n",
            "val_acc: 0.4055766793409379\n",
            "Start validation\n"
          ]
        },
        {
          "data": {
            "application/vnd.jupyter.widget-view+json": {
              "model_id": "edd1affa11d84a8ca4b434b078f6ec51",
              "version_major": 2,
              "version_minor": 0
            },
            "text/plain": [
              "  0%|          | 0/99 [00:00<?, ?it/s]"
            ]
          },
          "metadata": {},
          "output_type": "display_data"
        },
        {
          "name": "stdout",
          "output_type": "stream",
          "text": [
            "val_loss: 1.8886984177310058\n",
            "val_acc: 0.4055766793409379\n",
            "Start validation\n"
          ]
        },
        {
          "data": {
            "application/vnd.jupyter.widget-view+json": {
              "model_id": "3f65b0f58dfa4647a49b4b7569c9d255",
              "version_major": 2,
              "version_minor": 0
            },
            "text/plain": [
              "  0%|          | 0/99 [00:00<?, ?it/s]"
            ]
          },
          "metadata": {},
          "output_type": "display_data"
        },
        {
          "name": "stdout",
          "output_type": "stream",
          "text": [
            "val_loss: 1.8721110977307716\n",
            "val_acc: 0.4055766793409379\n",
            "Start validation\n"
          ]
        },
        {
          "data": {
            "application/vnd.jupyter.widget-view+json": {
              "model_id": "f4a8c667b68042a2949bb453a068a61d",
              "version_major": 2,
              "version_minor": 0
            },
            "text/plain": [
              "  0%|          | 0/99 [00:00<?, ?it/s]"
            ]
          },
          "metadata": {},
          "output_type": "display_data"
        },
        {
          "name": "stdout",
          "output_type": "stream",
          "text": [
            "val_loss: 1.8802075078993132\n",
            "val_acc: 0.4055766793409379\n",
            "Start validation\n"
          ]
        },
        {
          "data": {
            "application/vnd.jupyter.widget-view+json": {
              "model_id": "d957a6fc8282424aa20258276a2a94f3",
              "version_major": 2,
              "version_minor": 0
            },
            "text/plain": [
              "  0%|          | 0/99 [00:00<?, ?it/s]"
            ]
          },
          "metadata": {},
          "output_type": "display_data"
        },
        {
          "name": "stdout",
          "output_type": "stream",
          "text": [
            "val_loss: 1.8923964903812216\n",
            "val_acc: 0.4005069708491762\n",
            "Start validation\n"
          ]
        },
        {
          "data": {
            "application/vnd.jupyter.widget-view+json": {
              "model_id": "e8b955d413b24ef990365e21ac9cc42a",
              "version_major": 2,
              "version_minor": 0
            },
            "text/plain": [
              "  0%|          | 0/99 [00:00<?, ?it/s]"
            ]
          },
          "metadata": {},
          "output_type": "display_data"
        },
        {
          "name": "stdout",
          "output_type": "stream",
          "text": [
            "val_loss: 1.9031694134076436\n",
            "val_acc: 0.4005069708491762\n",
            "Start validation\n"
          ]
        },
        {
          "data": {
            "application/vnd.jupyter.widget-view+json": {
              "model_id": "03e7a4017f334880a370bcfcf5130c2d",
              "version_major": 2,
              "version_minor": 0
            },
            "text/plain": [
              "  0%|          | 0/99 [00:00<?, ?it/s]"
            ]
          },
          "metadata": {},
          "output_type": "display_data"
        },
        {
          "name": "stdout",
          "output_type": "stream",
          "text": [
            "val_loss: 1.9064556890063815\n",
            "val_acc: 0.4005069708491762\n",
            "Start validation\n"
          ]
        },
        {
          "data": {
            "application/vnd.jupyter.widget-view+json": {
              "model_id": "7b09db2a61124c0891f060bcc8f03a79",
              "version_major": 2,
              "version_minor": 0
            },
            "text/plain": [
              "  0%|          | 0/99 [00:00<?, ?it/s]"
            ]
          },
          "metadata": {},
          "output_type": "display_data"
        },
        {
          "name": "stdout",
          "output_type": "stream",
          "text": [
            "val_loss: 1.9069673641763552\n",
            "val_acc: 0.4005069708491762\n",
            "Start validation\n"
          ]
        },
        {
          "data": {
            "application/vnd.jupyter.widget-view+json": {
              "model_id": "8362ed5b773e45bc83ba71b5d6233fe4",
              "version_major": 2,
              "version_minor": 0
            },
            "text/plain": [
              "  0%|          | 0/99 [00:00<?, ?it/s]"
            ]
          },
          "metadata": {},
          "output_type": "display_data"
        },
        {
          "name": "stdout",
          "output_type": "stream",
          "text": [
            "val_loss: 1.8386737806628448\n",
            "val_acc: 0.4005069708491762\n",
            "Start validation\n"
          ]
        },
        {
          "data": {
            "application/vnd.jupyter.widget-view+json": {
              "model_id": "86c6a564c5654cd8b62b8a85a842d5e9",
              "version_major": 2,
              "version_minor": 0
            },
            "text/plain": [
              "  0%|          | 0/99 [00:00<?, ?it/s]"
            ]
          },
          "metadata": {},
          "output_type": "display_data"
        },
        {
          "name": "stdout",
          "output_type": "stream",
          "text": [
            "val_loss: 1.8441867840410484\n",
            "val_acc: 0.4055766793409379\n",
            "Start validation\n"
          ]
        },
        {
          "data": {
            "application/vnd.jupyter.widget-view+json": {
              "model_id": "cddea39df9074377ae4892a74c4991b5",
              "version_major": 2,
              "version_minor": 0
            },
            "text/plain": [
              "  0%|          | 0/99 [00:00<?, ?it/s]"
            ]
          },
          "metadata": {},
          "output_type": "display_data"
        },
        {
          "name": "stdout",
          "output_type": "stream",
          "text": [
            "val_loss: 1.8554518150560784\n",
            "val_acc: 0.4055766793409379\n",
            "Start validation\n"
          ]
        },
        {
          "data": {
            "application/vnd.jupyter.widget-view+json": {
              "model_id": "63f126a541244e009ec17826d987c19f",
              "version_major": 2,
              "version_minor": 0
            },
            "text/plain": [
              "  0%|          | 0/99 [00:00<?, ?it/s]"
            ]
          },
          "metadata": {},
          "output_type": "display_data"
        },
        {
          "name": "stdout",
          "output_type": "stream",
          "text": [
            "val_loss: 1.8667356871595286\n",
            "val_acc: 0.4055766793409379\n",
            "Start validation\n"
          ]
        },
        {
          "data": {
            "application/vnd.jupyter.widget-view+json": {
              "model_id": "35d4abcd4c71413f99d7d1e387dc6f3a",
              "version_major": 2,
              "version_minor": 0
            },
            "text/plain": [
              "  0%|          | 0/99 [00:00<?, ?it/s]"
            ]
          },
          "metadata": {},
          "output_type": "display_data"
        },
        {
          "name": "stdout",
          "output_type": "stream",
          "text": [
            "val_loss: 1.8793858783413666\n",
            "val_acc: 0.4005069708491762\n",
            "Start validation\n"
          ]
        },
        {
          "data": {
            "application/vnd.jupyter.widget-view+json": {
              "model_id": "149e15169cb14807bc2c251e8062c758",
              "version_major": 2,
              "version_minor": 0
            },
            "text/plain": [
              "  0%|          | 0/99 [00:00<?, ?it/s]"
            ]
          },
          "metadata": {},
          "output_type": "display_data"
        },
        {
          "name": "stdout",
          "output_type": "stream",
          "text": [
            "val_loss: 1.8842536861246282\n",
            "val_acc: 0.4055766793409379\n",
            "Start validation\n"
          ]
        },
        {
          "data": {
            "application/vnd.jupyter.widget-view+json": {
              "model_id": "1201da97dd6341529e384ac7577c6250",
              "version_major": 2,
              "version_minor": 0
            },
            "text/plain": [
              "  0%|          | 0/99 [00:00<?, ?it/s]"
            ]
          },
          "metadata": {},
          "output_type": "display_data"
        },
        {
          "name": "stdout",
          "output_type": "stream",
          "text": [
            "val_loss: 1.8924444721202658\n",
            "val_acc: 0.4055766793409379\n",
            "Start validation\n"
          ]
        },
        {
          "data": {
            "application/vnd.jupyter.widget-view+json": {
              "model_id": "20a6e24eeb0a4e408cad0d99c9b6e6c4",
              "version_major": 2,
              "version_minor": 0
            },
            "text/plain": [
              "  0%|          | 0/99 [00:00<?, ?it/s]"
            ]
          },
          "metadata": {},
          "output_type": "display_data"
        },
        {
          "name": "stdout",
          "output_type": "stream",
          "text": [
            "val_loss: 1.8998611804210779\n",
            "val_acc: 0.4055766793409379\n",
            "Start validation\n"
          ]
        },
        {
          "data": {
            "application/vnd.jupyter.widget-view+json": {
              "model_id": "a15bb40ee28446a295da0bc684c95802",
              "version_major": 2,
              "version_minor": 0
            },
            "text/plain": [
              "  0%|          | 0/99 [00:00<?, ?it/s]"
            ]
          },
          "metadata": {},
          "output_type": "display_data"
        },
        {
          "name": "stdout",
          "output_type": "stream",
          "text": [
            "val_loss: 1.9070864410111399\n",
            "val_acc: 0.4055766793409379\n",
            "Start validation\n"
          ]
        },
        {
          "data": {
            "application/vnd.jupyter.widget-view+json": {
              "model_id": "ec8a67e710364c24aa61072eb17072cd",
              "version_major": 2,
              "version_minor": 0
            },
            "text/plain": [
              "  0%|          | 0/99 [00:00<?, ?it/s]"
            ]
          },
          "metadata": {},
          "output_type": "display_data"
        },
        {
          "name": "stdout",
          "output_type": "stream",
          "text": [
            "val_loss: 1.9136741570752076\n",
            "val_acc: 0.4055766793409379\n",
            "Start validation\n"
          ]
        },
        {
          "data": {
            "application/vnd.jupyter.widget-view+json": {
              "model_id": "09f71d3a83c641438a846f3426561c80",
              "version_major": 2,
              "version_minor": 0
            },
            "text/plain": [
              "  0%|          | 0/99 [00:00<?, ?it/s]"
            ]
          },
          "metadata": {},
          "output_type": "display_data"
        },
        {
          "name": "stdout",
          "output_type": "stream",
          "text": [
            "val_loss: 1.9239052275214532\n",
            "val_acc: 0.4005069708491762\n",
            "Start validation\n"
          ]
        },
        {
          "data": {
            "application/vnd.jupyter.widget-view+json": {
              "model_id": "dba5496f5d754e2f854d0a2b8d66de9f",
              "version_major": 2,
              "version_minor": 0
            },
            "text/plain": [
              "  0%|          | 0/99 [00:00<?, ?it/s]"
            ]
          },
          "metadata": {},
          "output_type": "display_data"
        },
        {
          "name": "stdout",
          "output_type": "stream",
          "text": [
            "val_loss: 1.9312280007083007\n",
            "val_acc: 0.4005069708491762\n",
            "Start validation\n"
          ]
        },
        {
          "data": {
            "application/vnd.jupyter.widget-view+json": {
              "model_id": "2bf8cf170a164765acefce11a35f9a23",
              "version_major": 2,
              "version_minor": 0
            },
            "text/plain": [
              "  0%|          | 0/99 [00:00<?, ?it/s]"
            ]
          },
          "metadata": {},
          "output_type": "display_data"
        },
        {
          "name": "stdout",
          "output_type": "stream",
          "text": [
            "val_loss: 1.931041778940143\n",
            "val_acc: 0.4005069708491762\n",
            "Start validation\n"
          ]
        },
        {
          "data": {
            "application/vnd.jupyter.widget-view+json": {
              "model_id": "411eb19672b14a7fbbb114da9ca245f2",
              "version_major": 2,
              "version_minor": 0
            },
            "text/plain": [
              "  0%|          | 0/99 [00:00<?, ?it/s]"
            ]
          },
          "metadata": {},
          "output_type": "display_data"
        },
        {
          "name": "stdout",
          "output_type": "stream",
          "text": [
            "val_loss: 1.9348831303191907\n",
            "val_acc: 0.4005069708491762\n",
            "Start validation\n"
          ]
        },
        {
          "data": {
            "application/vnd.jupyter.widget-view+json": {
              "model_id": "21a733d2d9e24571a46054af44e2f5d1",
              "version_major": 2,
              "version_minor": 0
            },
            "text/plain": [
              "  0%|          | 0/99 [00:00<?, ?it/s]"
            ]
          },
          "metadata": {},
          "output_type": "display_data"
        },
        {
          "name": "stdout",
          "output_type": "stream",
          "text": [
            "val_loss: 1.9327395082724215\n",
            "val_acc: 0.4055766793409379\n",
            "Start validation\n"
          ]
        },
        {
          "data": {
            "application/vnd.jupyter.widget-view+json": {
              "model_id": "70355ee61d0e41ef80f0813fd325d72d",
              "version_major": 2,
              "version_minor": 0
            },
            "text/plain": [
              "  0%|          | 0/99 [00:00<?, ?it/s]"
            ]
          },
          "metadata": {},
          "output_type": "display_data"
        },
        {
          "name": "stdout",
          "output_type": "stream",
          "text": [
            "val_loss: 1.9122241789644414\n",
            "val_acc: 0.4005069708491762\n",
            "Start validation\n"
          ]
        },
        {
          "data": {
            "application/vnd.jupyter.widget-view+json": {
              "model_id": "5f5865142e34444c8985d22843d54941",
              "version_major": 2,
              "version_minor": 0
            },
            "text/plain": [
              "  0%|          | 0/99 [00:00<?, ?it/s]"
            ]
          },
          "metadata": {},
          "output_type": "display_data"
        },
        {
          "name": "stdout",
          "output_type": "stream",
          "text": [
            "val_loss: 1.9068616863453027\n",
            "val_acc: 0.4055766793409379\n",
            "Start validation\n"
          ]
        },
        {
          "data": {
            "application/vnd.jupyter.widget-view+json": {
              "model_id": "f0f7d0e6d0774b988291c5857d454953",
              "version_major": 2,
              "version_minor": 0
            },
            "text/plain": [
              "  0%|          | 0/99 [00:00<?, ?it/s]"
            ]
          },
          "metadata": {},
          "output_type": "display_data"
        },
        {
          "name": "stdout",
          "output_type": "stream",
          "text": [
            "val_loss: 1.9126368761062622\n",
            "val_acc: 0.4005069708491762\n",
            "Start validation\n"
          ]
        },
        {
          "data": {
            "application/vnd.jupyter.widget-view+json": {
              "model_id": "e0358a36a4bb4286941abca6260b52db",
              "version_major": 2,
              "version_minor": 0
            },
            "text/plain": [
              "  0%|          | 0/99 [00:00<?, ?it/s]"
            ]
          },
          "metadata": {},
          "output_type": "display_data"
        },
        {
          "name": "stdout",
          "output_type": "stream",
          "text": [
            "val_loss: 1.9170794035449172\n",
            "val_acc: 0.4055766793409379\n",
            "Start validation\n"
          ]
        },
        {
          "data": {
            "application/vnd.jupyter.widget-view+json": {
              "model_id": "fbf5b0f032594431a9d31df6932d3acd",
              "version_major": 2,
              "version_minor": 0
            },
            "text/plain": [
              "  0%|          | 0/99 [00:00<?, ?it/s]"
            ]
          },
          "metadata": {},
          "output_type": "display_data"
        },
        {
          "name": "stdout",
          "output_type": "stream",
          "text": [
            "val_loss: 1.894884503248966\n",
            "val_acc: 0.4055766793409379\n",
            "Start validation\n"
          ]
        },
        {
          "data": {
            "application/vnd.jupyter.widget-view+json": {
              "model_id": "4f12ca5f90444fd1a4e164ec12cf778b",
              "version_major": 2,
              "version_minor": 0
            },
            "text/plain": [
              "  0%|          | 0/99 [00:00<?, ?it/s]"
            ]
          },
          "metadata": {},
          "output_type": "display_data"
        },
        {
          "name": "stdout",
          "output_type": "stream",
          "text": [
            "val_loss: 1.862934900654687\n",
            "val_acc: 0.4055766793409379\n",
            "Start validation\n"
          ]
        },
        {
          "data": {
            "application/vnd.jupyter.widget-view+json": {
              "model_id": "df8c39cd9049448f885b4db2048dd053",
              "version_major": 2,
              "version_minor": 0
            },
            "text/plain": [
              "  0%|          | 0/99 [00:00<?, ?it/s]"
            ]
          },
          "metadata": {},
          "output_type": "display_data"
        },
        {
          "name": "stdout",
          "output_type": "stream",
          "text": [
            "val_loss: 1.8683555914898111\n",
            "val_acc: 0.4055766793409379\n",
            "Start validation\n"
          ]
        },
        {
          "data": {
            "application/vnd.jupyter.widget-view+json": {
              "model_id": "5e8d28ca16134fc1beb45b5d8c1a1101",
              "version_major": 2,
              "version_minor": 0
            },
            "text/plain": [
              "  0%|          | 0/99 [00:00<?, ?it/s]"
            ]
          },
          "metadata": {},
          "output_type": "display_data"
        },
        {
          "name": "stdout",
          "output_type": "stream",
          "text": [
            "val_loss: 1.8432207926355226\n",
            "val_acc: 0.4005069708491762\n",
            "Start validation\n"
          ]
        },
        {
          "data": {
            "application/vnd.jupyter.widget-view+json": {
              "model_id": "b67a0bef7aef4b7f8ebd75849c27b08a",
              "version_major": 2,
              "version_minor": 0
            },
            "text/plain": [
              "  0%|          | 0/99 [00:00<?, ?it/s]"
            ]
          },
          "metadata": {},
          "output_type": "display_data"
        },
        {
          "name": "stdout",
          "output_type": "stream",
          "text": [
            "val_loss: 1.824076002294367\n",
            "val_acc: 0.4005069708491762\n",
            "Start validation\n"
          ]
        },
        {
          "data": {
            "application/vnd.jupyter.widget-view+json": {
              "model_id": "5139baa22458426ab08db6bcdc679870",
              "version_major": 2,
              "version_minor": 0
            },
            "text/plain": [
              "  0%|          | 0/99 [00:00<?, ?it/s]"
            ]
          },
          "metadata": {},
          "output_type": "display_data"
        },
        {
          "name": "stdout",
          "output_type": "stream",
          "text": [
            "val_loss: 1.829669855459772\n",
            "val_acc: 0.4055766793409379\n",
            "Start validation\n"
          ]
        },
        {
          "data": {
            "application/vnd.jupyter.widget-view+json": {
              "model_id": "66076658506d4bca9ca5c2c9810dfebc",
              "version_major": 2,
              "version_minor": 0
            },
            "text/plain": [
              "  0%|          | 0/99 [00:00<?, ?it/s]"
            ]
          },
          "metadata": {},
          "output_type": "display_data"
        },
        {
          "name": "stdout",
          "output_type": "stream",
          "text": [
            "val_loss: 1.8386082035122495\n",
            "val_acc: 0.4055766793409379\n",
            "Start validation\n"
          ]
        },
        {
          "data": {
            "application/vnd.jupyter.widget-view+json": {
              "model_id": "f46b58593e1048e9852f5848b6ac5994",
              "version_major": 2,
              "version_minor": 0
            },
            "text/plain": [
              "  0%|          | 0/99 [00:00<?, ?it/s]"
            ]
          },
          "metadata": {},
          "output_type": "display_data"
        },
        {
          "name": "stdout",
          "output_type": "stream",
          "text": [
            "val_loss: 1.8506405979695946\n",
            "val_acc: 0.4005069708491762\n",
            "Start validation\n"
          ]
        },
        {
          "data": {
            "application/vnd.jupyter.widget-view+json": {
              "model_id": "779d8fc5b26c4ae3936c8323fc2cb264",
              "version_major": 2,
              "version_minor": 0
            },
            "text/plain": [
              "  0%|          | 0/99 [00:00<?, ?it/s]"
            ]
          },
          "metadata": {},
          "output_type": "display_data"
        },
        {
          "name": "stdout",
          "output_type": "stream",
          "text": [
            "val_loss: 1.8583870162867537\n",
            "val_acc: 0.4005069708491762\n",
            "Start validation\n"
          ]
        },
        {
          "data": {
            "application/vnd.jupyter.widget-view+json": {
              "model_id": "a316c7c8195e403c8e30e6ad873ee661",
              "version_major": 2,
              "version_minor": 0
            },
            "text/plain": [
              "  0%|          | 0/99 [00:00<?, ?it/s]"
            ]
          },
          "metadata": {},
          "output_type": "display_data"
        },
        {
          "name": "stdout",
          "output_type": "stream",
          "text": [
            "val_loss: 1.864117818649369\n",
            "val_acc: 0.4055766793409379\n",
            "Start validation\n"
          ]
        },
        {
          "data": {
            "application/vnd.jupyter.widget-view+json": {
              "model_id": "f7b3294e0c6e422d85043a1d14770b3e",
              "version_major": 2,
              "version_minor": 0
            },
            "text/plain": [
              "  0%|          | 0/99 [00:00<?, ?it/s]"
            ]
          },
          "metadata": {},
          "output_type": "display_data"
        },
        {
          "name": "stdout",
          "output_type": "stream",
          "text": [
            "val_loss: 1.8699574344085925\n",
            "val_acc: 0.4055766793409379\n",
            "Start validation\n"
          ]
        },
        {
          "data": {
            "application/vnd.jupyter.widget-view+json": {
              "model_id": "eaed10215fc24572a55bad64f6058bc7",
              "version_major": 2,
              "version_minor": 0
            },
            "text/plain": [
              "  0%|          | 0/99 [00:00<?, ?it/s]"
            ]
          },
          "metadata": {},
          "output_type": "display_data"
        },
        {
          "name": "stdout",
          "output_type": "stream",
          "text": [
            "val_loss: 1.8777647114763356\n",
            "val_acc: 0.4055766793409379\n",
            "Start validation\n"
          ]
        },
        {
          "data": {
            "application/vnd.jupyter.widget-view+json": {
              "model_id": "971beb4c6fc1471b9dffe404ed87800d",
              "version_major": 2,
              "version_minor": 0
            },
            "text/plain": [
              "  0%|          | 0/99 [00:00<?, ?it/s]"
            ]
          },
          "metadata": {},
          "output_type": "display_data"
        },
        {
          "name": "stdout",
          "output_type": "stream",
          "text": [
            "val_loss: 1.8830173996963886\n",
            "val_acc: 0.4055766793409379\n",
            "Start validation\n"
          ]
        },
        {
          "data": {
            "application/vnd.jupyter.widget-view+json": {
              "model_id": "a0f47224336f479bb61d7a836a0d9610",
              "version_major": 2,
              "version_minor": 0
            },
            "text/plain": [
              "  0%|          | 0/99 [00:00<?, ?it/s]"
            ]
          },
          "metadata": {},
          "output_type": "display_data"
        },
        {
          "name": "stdout",
          "output_type": "stream",
          "text": [
            "val_loss: 1.8876455986138545\n",
            "val_acc: 0.4055766793409379\n",
            "Start validation\n"
          ]
        },
        {
          "data": {
            "application/vnd.jupyter.widget-view+json": {
              "model_id": "da3cd3834c534587bc58293429ca508b",
              "version_major": 2,
              "version_minor": 0
            },
            "text/plain": [
              "  0%|          | 0/99 [00:00<?, ?it/s]"
            ]
          },
          "metadata": {},
          "output_type": "display_data"
        },
        {
          "name": "stdout",
          "output_type": "stream",
          "text": [
            "val_loss: 1.8876917458543874\n",
            "val_acc: 0.4055766793409379\n",
            "Start validation\n"
          ]
        },
        {
          "data": {
            "application/vnd.jupyter.widget-view+json": {
              "model_id": "6373c0019a6d4809ba4e4785c6f8d409",
              "version_major": 2,
              "version_minor": 0
            },
            "text/plain": [
              "  0%|          | 0/99 [00:00<?, ?it/s]"
            ]
          },
          "metadata": {},
          "output_type": "display_data"
        },
        {
          "name": "stdout",
          "output_type": "stream",
          "text": [
            "val_loss: 1.87339478189295\n",
            "val_acc: 0.4055766793409379\n",
            "Start validation\n"
          ]
        },
        {
          "data": {
            "application/vnd.jupyter.widget-view+json": {
              "model_id": "04e0787686504452b7c8abc0718cb843",
              "version_major": 2,
              "version_minor": 0
            },
            "text/plain": [
              "  0%|          | 0/99 [00:00<?, ?it/s]"
            ]
          },
          "metadata": {},
          "output_type": "display_data"
        },
        {
          "name": "stdout",
          "output_type": "stream",
          "text": [
            "val_loss: 1.8741495236001833\n",
            "val_acc: 0.4055766793409379\n",
            "Start validation\n"
          ]
        },
        {
          "data": {
            "application/vnd.jupyter.widget-view+json": {
              "model_id": "0d356a57a7a843dc91ced0b5bd5c4e71",
              "version_major": 2,
              "version_minor": 0
            },
            "text/plain": [
              "  0%|          | 0/99 [00:00<?, ?it/s]"
            ]
          },
          "metadata": {},
          "output_type": "display_data"
        },
        {
          "name": "stdout",
          "output_type": "stream",
          "text": [
            "val_loss: 1.8785654432845837\n",
            "val_acc: 0.4005069708491762\n",
            "Start validation\n"
          ]
        },
        {
          "data": {
            "application/vnd.jupyter.widget-view+json": {
              "model_id": "064bf48fc3d94c60b422f7b03ea284e8",
              "version_major": 2,
              "version_minor": 0
            },
            "text/plain": [
              "  0%|          | 0/99 [00:00<?, ?it/s]"
            ]
          },
          "metadata": {},
          "output_type": "display_data"
        },
        {
          "name": "stdout",
          "output_type": "stream",
          "text": [
            "val_loss: 1.8842043720110497\n",
            "val_acc: 0.4005069708491762\n",
            "Start validation\n"
          ]
        },
        {
          "data": {
            "application/vnd.jupyter.widget-view+json": {
              "model_id": "8f6a61f9669848859580fb0de5ef12d9",
              "version_major": 2,
              "version_minor": 0
            },
            "text/plain": [
              "  0%|          | 0/99 [00:00<?, ?it/s]"
            ]
          },
          "metadata": {},
          "output_type": "display_data"
        },
        {
          "name": "stdout",
          "output_type": "stream",
          "text": [
            "val_loss: 1.8872819771670333\n",
            "val_acc: 0.4055766793409379\n",
            "Start validation\n"
          ]
        },
        {
          "data": {
            "application/vnd.jupyter.widget-view+json": {
              "model_id": "4dfcaa346de148c8a1d7941538ba30ed",
              "version_major": 2,
              "version_minor": 0
            },
            "text/plain": [
              "  0%|          | 0/99 [00:00<?, ?it/s]"
            ]
          },
          "metadata": {},
          "output_type": "display_data"
        },
        {
          "name": "stdout",
          "output_type": "stream",
          "text": [
            "val_loss: 1.891517733684694\n",
            "val_acc: 0.4055766793409379\n",
            "Start validation\n"
          ]
        },
        {
          "data": {
            "application/vnd.jupyter.widget-view+json": {
              "model_id": "f24ad41c0a5c419699042fd24b0e0967",
              "version_major": 2,
              "version_minor": 0
            },
            "text/plain": [
              "  0%|          | 0/99 [00:00<?, ?it/s]"
            ]
          },
          "metadata": {},
          "output_type": "display_data"
        },
        {
          "name": "stdout",
          "output_type": "stream",
          "text": [
            "val_loss: 1.8954879623470884\n",
            "val_acc: 0.4055766793409379\n",
            "Start validation\n"
          ]
        },
        {
          "data": {
            "application/vnd.jupyter.widget-view+json": {
              "model_id": "f534d28577b242c8b1f8eb2822e80d15",
              "version_major": 2,
              "version_minor": 0
            },
            "text/plain": [
              "  0%|          | 0/99 [00:00<?, ?it/s]"
            ]
          },
          "metadata": {},
          "output_type": "display_data"
        },
        {
          "name": "stdout",
          "output_type": "stream",
          "text": [
            "val_loss: 1.8988508491805105\n",
            "val_acc: 0.4055766793409379\n",
            "Start validation\n"
          ]
        },
        {
          "data": {
            "application/vnd.jupyter.widget-view+json": {
              "model_id": "7a78447df60944ca8ad82b35c112345e",
              "version_major": 2,
              "version_minor": 0
            },
            "text/plain": [
              "  0%|          | 0/99 [00:00<?, ?it/s]"
            ]
          },
          "metadata": {},
          "output_type": "display_data"
        },
        {
          "name": "stdout",
          "output_type": "stream",
          "text": [
            "val_loss: 1.9033363015964777\n",
            "val_acc: 0.4005069708491762\n",
            "Start validation\n"
          ]
        },
        {
          "data": {
            "application/vnd.jupyter.widget-view+json": {
              "model_id": "68f16bba0c3a49f68162d1ad4eb4ce35",
              "version_major": 2,
              "version_minor": 0
            },
            "text/plain": [
              "  0%|          | 0/99 [00:00<?, ?it/s]"
            ]
          },
          "metadata": {},
          "output_type": "display_data"
        },
        {
          "name": "stdout",
          "output_type": "stream",
          "text": [
            "val_loss: 1.9075293661368014\n",
            "val_acc: 0.4005069708491762\n",
            "Start validation\n"
          ]
        },
        {
          "data": {
            "application/vnd.jupyter.widget-view+json": {
              "model_id": "939001d831bc4596a83840062e747dd6",
              "version_major": 2,
              "version_minor": 0
            },
            "text/plain": [
              "  0%|          | 0/99 [00:00<?, ?it/s]"
            ]
          },
          "metadata": {},
          "output_type": "display_data"
        },
        {
          "name": "stdout",
          "output_type": "stream",
          "text": [
            "val_loss: 1.9101697862750353\n",
            "val_acc: 0.4005069708491762\n",
            "Start validation\n"
          ]
        },
        {
          "data": {
            "application/vnd.jupyter.widget-view+json": {
              "model_id": "151ae85d6b0949daa25456989c822ef1",
              "version_major": 2,
              "version_minor": 0
            },
            "text/plain": [
              "  0%|          | 0/99 [00:00<?, ?it/s]"
            ]
          },
          "metadata": {},
          "output_type": "display_data"
        },
        {
          "name": "stdout",
          "output_type": "stream",
          "text": [
            "val_loss: 1.910006749509561\n",
            "val_acc: 0.4005069708491762\n",
            "Start validation\n"
          ]
        },
        {
          "data": {
            "application/vnd.jupyter.widget-view+json": {
              "model_id": "26f703503720482bacf2e14071b248e7",
              "version_major": 2,
              "version_minor": 0
            },
            "text/plain": [
              "  0%|          | 0/99 [00:00<?, ?it/s]"
            ]
          },
          "metadata": {},
          "output_type": "display_data"
        },
        {
          "name": "stdout",
          "output_type": "stream",
          "text": [
            "val_loss: 1.8994662418509975\n",
            "val_acc: 0.4055766793409379\n",
            "Start validation\n"
          ]
        },
        {
          "data": {
            "application/vnd.jupyter.widget-view+json": {
              "model_id": "fe266ee971cd464b80c779125b02f341",
              "version_major": 2,
              "version_minor": 0
            },
            "text/plain": [
              "  0%|          | 0/99 [00:00<?, ?it/s]"
            ]
          },
          "metadata": {},
          "output_type": "display_data"
        },
        {
          "name": "stdout",
          "output_type": "stream",
          "text": [
            "val_loss: 1.898671188739815\n",
            "val_acc: 0.4005069708491762\n",
            "Start validation\n"
          ]
        },
        {
          "data": {
            "application/vnd.jupyter.widget-view+json": {
              "model_id": "1291968fadda4535bdfbbf4030915f46",
              "version_major": 2,
              "version_minor": 0
            },
            "text/plain": [
              "  0%|          | 0/99 [00:00<?, ?it/s]"
            ]
          },
          "metadata": {},
          "output_type": "display_data"
        },
        {
          "name": "stdout",
          "output_type": "stream",
          "text": [
            "val_loss: 1.8901634180184566\n",
            "val_acc: 0.4055766793409379\n",
            "Start validation\n"
          ]
        },
        {
          "data": {
            "application/vnd.jupyter.widget-view+json": {
              "model_id": "2857069ccb8243baaf201d7f71fb5ec6",
              "version_major": 2,
              "version_minor": 0
            },
            "text/plain": [
              "  0%|          | 0/99 [00:00<?, ?it/s]"
            ]
          },
          "metadata": {},
          "output_type": "display_data"
        },
        {
          "name": "stdout",
          "output_type": "stream",
          "text": [
            "val_loss: 1.8879606350503786\n",
            "val_acc: 0.4055766793409379\n",
            "Start validation\n"
          ]
        },
        {
          "data": {
            "application/vnd.jupyter.widget-view+json": {
              "model_id": "c585c13c04ca41b5acd4708fc0b46f9f",
              "version_major": 2,
              "version_minor": 0
            },
            "text/plain": [
              "  0%|          | 0/99 [00:00<?, ?it/s]"
            ]
          },
          "metadata": {},
          "output_type": "display_data"
        },
        {
          "name": "stdout",
          "output_type": "stream",
          "text": [
            "val_loss: 1.881472399138441\n",
            "val_acc: 0.4055766793409379\n",
            "Start validation\n"
          ]
        },
        {
          "data": {
            "application/vnd.jupyter.widget-view+json": {
              "model_id": "95dcd6277b1040c49c9f110172aad535",
              "version_major": 2,
              "version_minor": 0
            },
            "text/plain": [
              "  0%|          | 0/99 [00:00<?, ?it/s]"
            ]
          },
          "metadata": {},
          "output_type": "display_data"
        },
        {
          "name": "stdout",
          "output_type": "stream",
          "text": [
            "val_loss: 1.8795611129866705\n",
            "val_acc: 0.4005069708491762\n",
            "Start validation\n"
          ]
        },
        {
          "data": {
            "application/vnd.jupyter.widget-view+json": {
              "model_id": "deab9c8bc06740b2a5103422e3691af2",
              "version_major": 2,
              "version_minor": 0
            },
            "text/plain": [
              "  0%|          | 0/99 [00:00<?, ?it/s]"
            ]
          },
          "metadata": {},
          "output_type": "display_data"
        },
        {
          "name": "stdout",
          "output_type": "stream",
          "text": [
            "val_loss: 1.8821152514881558\n",
            "val_acc: 0.4005069708491762\n",
            "Start validation\n"
          ]
        },
        {
          "data": {
            "application/vnd.jupyter.widget-view+json": {
              "model_id": "76dc0ed7b1af42ee96f3de6d54bc680f",
              "version_major": 2,
              "version_minor": 0
            },
            "text/plain": [
              "  0%|          | 0/99 [00:00<?, ?it/s]"
            ]
          },
          "metadata": {},
          "output_type": "display_data"
        },
        {
          "name": "stdout",
          "output_type": "stream",
          "text": [
            "val_loss: 1.8844396544225288\n",
            "val_acc: 0.4005069708491762\n",
            "Start validation\n"
          ]
        },
        {
          "data": {
            "application/vnd.jupyter.widget-view+json": {
              "model_id": "cd0df19cefe34123964f625571ea6cb2",
              "version_major": 2,
              "version_minor": 0
            },
            "text/plain": [
              "  0%|          | 0/99 [00:00<?, ?it/s]"
            ]
          },
          "metadata": {},
          "output_type": "display_data"
        },
        {
          "name": "stdout",
          "output_type": "stream",
          "text": [
            "val_loss: 1.8871957322563788\n",
            "val_acc: 0.4005069708491762\n",
            "Start validation\n"
          ]
        },
        {
          "data": {
            "application/vnd.jupyter.widget-view+json": {
              "model_id": "e4eab72fe3064e53bff54527975016e4",
              "version_major": 2,
              "version_minor": 0
            },
            "text/plain": [
              "  0%|          | 0/99 [00:00<?, ?it/s]"
            ]
          },
          "metadata": {},
          "output_type": "display_data"
        },
        {
          "name": "stdout",
          "output_type": "stream",
          "text": [
            "val_loss: 1.879960054701025\n",
            "val_acc: 0.4005069708491762\n",
            "Start validation\n"
          ]
        },
        {
          "data": {
            "application/vnd.jupyter.widget-view+json": {
              "model_id": "7e67cb725fdb467796ed9e9e0b29e9b6",
              "version_major": 2,
              "version_minor": 0
            },
            "text/plain": [
              "  0%|          | 0/99 [00:00<?, ?it/s]"
            ]
          },
          "metadata": {},
          "output_type": "display_data"
        },
        {
          "name": "stdout",
          "output_type": "stream",
          "text": [
            "val_loss: 1.8813557751250989\n",
            "val_acc: 0.4005069708491762\n",
            "Start validation\n"
          ]
        },
        {
          "data": {
            "application/vnd.jupyter.widget-view+json": {
              "model_id": "9be4a75d1f0e4f6f955786000e3aa913",
              "version_major": 2,
              "version_minor": 0
            },
            "text/plain": [
              "  0%|          | 0/99 [00:00<?, ?it/s]"
            ]
          },
          "metadata": {},
          "output_type": "display_data"
        },
        {
          "name": "stdout",
          "output_type": "stream",
          "text": [
            "val_loss: 1.8750986499015732\n",
            "val_acc: 0.4005069708491762\n",
            "Start validation\n"
          ]
        },
        {
          "data": {
            "application/vnd.jupyter.widget-view+json": {
              "model_id": "5e1ce3f4817445d28e90a9f36516242f",
              "version_major": 2,
              "version_minor": 0
            },
            "text/plain": [
              "  0%|          | 0/99 [00:00<?, ?it/s]"
            ]
          },
          "metadata": {},
          "output_type": "display_data"
        },
        {
          "name": "stdout",
          "output_type": "stream",
          "text": [
            "val_loss: 1.8733888184181366\n",
            "val_acc: 0.4005069708491762\n",
            "Start validation\n"
          ]
        },
        {
          "data": {
            "application/vnd.jupyter.widget-view+json": {
              "model_id": "c4d1fd83f63740fdadf18ccc792e9de4",
              "version_major": 2,
              "version_minor": 0
            },
            "text/plain": [
              "  0%|          | 0/99 [00:00<?, ?it/s]"
            ]
          },
          "metadata": {},
          "output_type": "display_data"
        },
        {
          "name": "stdout",
          "output_type": "stream",
          "text": [
            "val_loss: 1.8743026015734432\n",
            "val_acc: 0.4005069708491762\n",
            "Start validation\n"
          ]
        },
        {
          "data": {
            "application/vnd.jupyter.widget-view+json": {
              "model_id": "697153cfa4a1499eb333d8a3fcd6b472",
              "version_major": 2,
              "version_minor": 0
            },
            "text/plain": [
              "  0%|          | 0/99 [00:00<?, ?it/s]"
            ]
          },
          "metadata": {},
          "output_type": "display_data"
        },
        {
          "name": "stdout",
          "output_type": "stream",
          "text": [
            "val_loss: 1.8750392915022494\n",
            "val_acc: 0.4005069708491762\n",
            "Start validation\n"
          ]
        },
        {
          "data": {
            "application/vnd.jupyter.widget-view+json": {
              "model_id": "3ed716dea5034d83a551a9e843057338",
              "version_major": 2,
              "version_minor": 0
            },
            "text/plain": [
              "  0%|          | 0/99 [00:00<?, ?it/s]"
            ]
          },
          "metadata": {},
          "output_type": "display_data"
        },
        {
          "name": "stdout",
          "output_type": "stream",
          "text": [
            "val_loss: 1.8759119263803117\n",
            "val_acc: 0.4005069708491762\n",
            "Start validation\n"
          ]
        },
        {
          "data": {
            "application/vnd.jupyter.widget-view+json": {
              "model_id": "b30676a7440740018516606ed4634a4b",
              "version_major": 2,
              "version_minor": 0
            },
            "text/plain": [
              "  0%|          | 0/99 [00:00<?, ?it/s]"
            ]
          },
          "metadata": {},
          "output_type": "display_data"
        },
        {
          "name": "stdout",
          "output_type": "stream",
          "text": [
            "val_loss: 1.8768047136489792\n",
            "val_acc: 0.4055766793409379\n",
            "Start validation\n"
          ]
        },
        {
          "data": {
            "application/vnd.jupyter.widget-view+json": {
              "model_id": "bbcc7e456ffa4a619182ae0a8e3bcac0",
              "version_major": 2,
              "version_minor": 0
            },
            "text/plain": [
              "  0%|          | 0/99 [00:00<?, ?it/s]"
            ]
          },
          "metadata": {},
          "output_type": "display_data"
        },
        {
          "name": "stdout",
          "output_type": "stream",
          "text": [
            "val_loss: 1.8773339715870945\n",
            "val_acc: 0.4055766793409379\n",
            "Start validation\n"
          ]
        },
        {
          "data": {
            "application/vnd.jupyter.widget-view+json": {
              "model_id": "71a74cb55f274ce6905d753577170964",
              "version_major": 2,
              "version_minor": 0
            },
            "text/plain": [
              "  0%|          | 0/99 [00:00<?, ?it/s]"
            ]
          },
          "metadata": {},
          "output_type": "display_data"
        },
        {
          "name": "stdout",
          "output_type": "stream",
          "text": [
            "val_loss: 1.8784166761118957\n",
            "val_acc: 0.4055766793409379\n",
            "Start validation\n"
          ]
        },
        {
          "data": {
            "application/vnd.jupyter.widget-view+json": {
              "model_id": "d6c70e56f1a74851ae357ca281374f24",
              "version_major": 2,
              "version_minor": 0
            },
            "text/plain": [
              "  0%|          | 0/99 [00:00<?, ?it/s]"
            ]
          },
          "metadata": {},
          "output_type": "display_data"
        },
        {
          "name": "stdout",
          "output_type": "stream",
          "text": [
            "val_loss: 1.878962141696853\n",
            "val_acc: 0.4055766793409379\n",
            "Start validation\n"
          ]
        },
        {
          "data": {
            "application/vnd.jupyter.widget-view+json": {
              "model_id": "9debf62597c64d448eb443680a473675",
              "version_major": 2,
              "version_minor": 0
            },
            "text/plain": [
              "  0%|          | 0/99 [00:00<?, ?it/s]"
            ]
          },
          "metadata": {},
          "output_type": "display_data"
        },
        {
          "name": "stdout",
          "output_type": "stream",
          "text": [
            "val_loss: 1.8775354780332008\n",
            "val_acc: 0.4055766793409379\n",
            "Start validation\n"
          ]
        },
        {
          "data": {
            "application/vnd.jupyter.widget-view+json": {
              "model_id": "2830c267ebb04507b501b338d4be76d1",
              "version_major": 2,
              "version_minor": 0
            },
            "text/plain": [
              "  0%|          | 0/99 [00:00<?, ?it/s]"
            ]
          },
          "metadata": {},
          "output_type": "display_data"
        },
        {
          "name": "stdout",
          "output_type": "stream",
          "text": [
            "val_loss: 1.8774738805462616\n",
            "val_acc: 0.4055766793409379\n",
            "Start validation\n"
          ]
        },
        {
          "data": {
            "application/vnd.jupyter.widget-view+json": {
              "model_id": "430e6fcb301843feb4cc68aff009a70e",
              "version_major": 2,
              "version_minor": 0
            },
            "text/plain": [
              "  0%|          | 0/99 [00:00<?, ?it/s]"
            ]
          },
          "metadata": {},
          "output_type": "display_data"
        },
        {
          "name": "stdout",
          "output_type": "stream",
          "text": [
            "val_loss: 1.8775473104582892\n",
            "val_acc: 0.4055766793409379\n",
            "Finished training!\n"
          ]
        }
      ],
      "source": [
        "progress_bar = tqdm(range(num_training_steps))\n",
        "current_steps = 0\n",
        "\n",
        "for epoch in range(NUM_EPOCHS):\n",
        "    model.train()\n",
        "\n",
        "    for batch in train_dataloader:\n",
        "        torch.cuda.empty_cache()\n",
        "        batch = {k: v.to(device) for k, v in batch.items()}\n",
        "        outputs = model(**batch)\n",
        "        loss = outputs.loss\n",
        "        loss.backward()\n",
        "\n",
        "        optimizer.step()\n",
        "        lr_scheduler.step()\n",
        "        optimizer.zero_grad()\n",
        "        progress_bar.update(1)\n",
        "        writer.add_scalar(\"training_loss\", loss.item(), current_steps)\n",
        "\n",
        "        y_pred = torch.argmax(outputs.logits, dim=1).tolist()\n",
        "        y_true = batch[\"labels\"].tolist()\n",
        "\n",
        "        current_steps += 1\n",
        "\n",
        "        if current_steps % VALIDATION_STEP == 0 and current_steps > 0:\n",
        "            print(f\"Start validation: current_steps={current_steps}, epoch={epoch}\")\n",
        "            val_results = run_evaluation(model, eval_dataloader, device)\n",
        "\n",
        "            # log each metric separately to TensorBoard\n",
        "            for metric_name, metric_value in val_results.items():\n",
        "                print(f\"{metric_name}: {metric_value}\")\n",
        "                writer.add_scalar(f\"{metric_name}\", metric_value, current_steps)\n",
        "\n",
        "            val_acc = val_results['val_acc']\n",
        "            if val_acc > 0.425:\n",
        "                save_checkpoint(\n",
        "                    model,\n",
        "                    CKPT_DIR,\n",
        "                    current_steps,\n",
        "                    mark=f\"val_acc={val_acc:.4f}\",\n",
        "                )\n",
        "\n",
        "print(\"Finished training!\")"
      ]
    },
    {
      "attachments": {},
      "cell_type": "markdown",
      "metadata": {},
      "source": [
        "### Step 4. Make your submission"
      ]
    },
    {
      "cell_type": "code",
      "execution_count": 16,
      "metadata": {
        "id": "zLkfuoAE49mz"
      },
      "outputs": [
        {
          "name": "stdout",
          "output_type": "stream",
          "text": [
            "Extracting evidence_list for the eval mode ...\n"
          ]
        },
        {
          "data": {
            "application/vnd.jupyter.widget-view+json": {
              "model_id": "10523c8f481041b69cb30ea1da484053",
              "version_major": 2,
              "version_minor": 0
            },
            "text/plain": [
              "VBox(children=(HBox(children=(IntProgress(value=0, description='0.00%', max=248), Label(value='0 / 248'))), HB…"
            ]
          },
          "metadata": {},
          "output_type": "display_data"
        },
        {
          "name": "stdout",
          "output_type": "stream",
          "text": [
            "0    [顯微鏡泛指將微小不可見或難見物品之影像放大 ， 而能被肉眼或其他成像儀器觀察之工具 。, ...\n",
            "1    [許多昆蟲被認爲是對生態有益的捕食者 ， 少數昆蟲提供直接的經濟利益 。, 蠶產絲 ， 蜜蜂...\n",
            "2    [綠山城 （ 波蘭語 ： ； 德語 ： ， 西里西亞的格呂恩貝格 ） 是位於波蘭西部的城市 ...\n",
            "3    [《 魂斷藍橋 》 （ Waterloo Bridge ） 是美國黑白電影 ， 由米高梅電影...\n",
            "4    [《 刺客聶隱娘 》  ， 是臺灣導演侯孝賢執導的武俠電影作品 ， 改編自唐代作家裴鉶的傳奇...\n",
            "Name: evidence_list, dtype: object\n"
          ]
        }
      ],
      "source": [
        "TEST_DATA = load_json(\"data/test_doc5sent5.jsonl\")\n",
        "TEST_PKL_FILE = Path(\"data/test_doc5sent5.pkl\")\n",
        "\n",
        "if not TEST_PKL_FILE.exists():\n",
        "    test_df = join_with_topk_evidence(\n",
        "        pd.DataFrame(TEST_DATA),\n",
        "        mapping,\n",
        "        mode=\"eval\",\n",
        "        topk=EVIDENCE_TOPK,\n",
        "    )\n",
        "    test_df.to_pickle(TEST_PKL_FILE, protocol=4)\n",
        "else:\n",
        "    with open(TEST_PKL_FILE, \"rb\") as f:\n",
        "        test_df = pickle.load(f)\n",
        "\n",
        "test_dataset = AicupTopkEvidenceBERTDataset(\n",
        "    test_df,\n",
        "    tokenizer=tokenizer,\n",
        "    max_length=MAX_SEQ_LEN,\n",
        ")\n",
        "test_dataloader = DataLoader(test_dataset, batch_size=TEST_BATCH_SIZE)"
      ]
    },
    {
      "attachments": {},
      "cell_type": "markdown",
      "metadata": {},
      "source": [
        "Prediction"
      ]
    },
    {
      "cell_type": "code",
      "execution_count": 17,
      "metadata": {
        "id": "tqIjlht8yCMA"
      },
      "outputs": [
        {
          "data": {
            "application/vnd.jupyter.widget-view+json": {
              "model_id": "fffc9a7590d440fda0b479f43745697b",
              "version_major": 2,
              "version_minor": 0
            },
            "text/plain": [
              "Predicting:   0%|          | 0/31 [00:00<?, ?it/s]"
            ]
          },
          "metadata": {},
          "output_type": "display_data"
        }
      ],
      "source": [
        "ckpt_name = \"val_acc=0.4395_model.1825.pt\"  #@param {type:\"string\"}\n",
        "model = load_model(model, ckpt_name, CKPT_DIR)\n",
        "predicted_label = run_predict(model, test_dataloader, device)"
      ]
    },
    {
      "attachments": {},
      "cell_type": "markdown",
      "metadata": {},
      "source": [
        "Write files"
      ]
    },
    {
      "cell_type": "code",
      "execution_count": 18,
      "metadata": {
        "id": "Gl9I3ZWW4pHo"
      },
      "outputs": [],
      "source": [
        "predict_dataset = test_df.copy()\n",
        "predict_dataset[\"predicted_label\"] = list(map(ID2LABEL.get, predicted_label))\n",
        "predict_dataset[[\"id\", \"predicted_label\", \"predicted_evidence\"]].to_json(\n",
        "    f\"submission/{ckpt_name[:14]}_{OUTPUT_FILENAME}\",\n",
        "    orient=\"records\",\n",
        "    lines=True,\n",
        "    force_ascii=False,\n",
        ")"
      ]
    }
  ],
  "metadata": {
    "accelerator": "GPU",
    "colab": {
      "provenance": []
    },
    "gpuClass": "standard",
    "kernelspec": {
      "display_name": "base",
      "language": "python",
      "name": "python3"
    },
    "language_info": {
      "codemirror_mode": {
        "name": "ipython",
        "version": 3
      },
      "file_extension": ".py",
      "mimetype": "text/x-python",
      "name": "python",
      "nbconvert_exporter": "python",
      "pygments_lexer": "ipython3",
      "version": "3.10.9"
    },
    "vscode": {
      "interpreter": {
        "hash": "58f38e4893e5afed24ba0416c084b8b56093319a21f96223eaba66586e962656"
      }
    }
  },
  "nbformat": 4,
  "nbformat_minor": 0
}
