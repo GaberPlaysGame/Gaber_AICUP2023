{
  "cells": [
    {
      "attachments": {},
      "cell_type": "markdown",
      "metadata": {},
      "source": [
        "# Baseline\n",
        "python: 3.8.*\n",
        "\n",
        "use ```Ctrl + ]``` to collapse all section :)"
      ]
    },
    {
      "attachments": {},
      "cell_type": "markdown",
      "metadata": {},
      "source": [
        "Download our starter pack (3~5 min)"
      ]
    },
    {
      "cell_type": "code",
      "execution_count": null,
      "metadata": {},
      "outputs": [],
      "source": [
        "!gdown 1Xq2Fv6UGA1pc25pF0qwEc_l7Fa5jPP6p"
      ]
    },
    {
      "cell_type": "code",
      "execution_count": 2,
      "metadata": {},
      "outputs": [
        {
          "name": "stdout",
          "output_type": "stream",
          "text": [
            "Retrieving folder 15cJ_K2Tm95UkHgnvvPdMqGQy0_At6lRI checkpoints\n",
            "Retrieving folder 1jIWaLk4VLXEEm7au12mH80bKqFS3-ZKk claim_verification\n",
            "Retrieving folder 1DVfRginiE0thVjKELz7DCsEMYltRaTDG e20_bs32_7e-05_top5\n",
            "Processing file 1AGMfElEghEnYWLYU0YURZrBzmskYuovm val_acc=0.4259_model.750.pt\n",
            "Retrieving folder 19-pRgA1elB6U2UklW6DmUUm9R4qraAu8 sent_retrieval\n",
            "Retrieving folder 15zhuj7t3s5vG4JtFS_PNRTtE5l9mv0nZ e1_bs64_2e-05_neg0.03_top5\n",
            "Processing file 1PBBfgu9lV8_hHdmZRT99bAk_Zl51MZcr model.50.pt\n",
            "Retrieving folder 1r742uPeVnqUm04qUEZpzzpxXZFbj4gNd data\n",
            "Processing file 1hBMys30E2Tw-QCt8FDKKnu-eF_G1tGio dev_doc5sent5.jsonl\n",
            "Processing file 1iHSNpooXDLurizn9sxUbY1Fpk-h9La3i dev_doc5sent5.pkl\n",
            "Processing file 1a0e__D64L8CWhZsvuYZZuXiOZ7a99Bnj hanlp_con_results.pkl\n",
            "Processing file 1BFeoxCm5n0fauW9rbNqy6Se9dK9RnbEJ hanlp_con_test_results.pkl\n",
            "Processing file 1rTvOEQAZG7Hs5aVlTvpnZSW89JWNTUzK public_test.jsonl\n",
            "Processing file 1TbIsMs71WZP2kRpgnn2U383mPavu1G-b public_train.jsonl\n",
            "Processing file 1PDGOk2CCw7LFsATSN02TO8Q3qWIZEnon test_doc5.jsonl\n",
            "Processing file 1xOwH__ssVWnlCbyQfMXgkedqryKluY3x test_doc5sent5.jsonl\n",
            "Processing file 1P6nFa4heHDJFjiEbdN0m7kn_MpzuSEgR test_doc5sent5.pkl\n",
            "Processing file 1y8MJPXUIUxL5siqjS9lB1eQcLAt_5TbE train_doc5.jsonl\n",
            "Processing file 1mQNvv0M0g7aXql9tUQXXI6rMZh0HdRpD train_doc5sent5.jsonl\n",
            "Processing file 1np70uYaVLVqep62qTKL6nC9COXKHze81 train_doc5sent5.pkl\n",
            "Retrieving folder 1kop6Pkva0oORDU9BFpmN_UOiXCLCAe0c wiki-pages\n",
            "Processing file 1sTVRjhZKNQjIR8K88CMJUCSLw4vveLTg wiki-001.jsonl\n",
            "Processing file 1q6K_oCn22WkKk5ajIhzn8KgzYXuFgVSQ wiki-002.jsonl\n",
            "Processing file 1qG0vV8Mx824puUL3Pg_4twiJTvoiXxdk wiki-003.jsonl\n",
            "Processing file 1uyZjqwcj_098mSMgtmak9SLlMZthrk6o wiki-004.jsonl\n",
            "Processing file 1x9OixQWwGivGWsvgZL8dabi4587E3uy9 wiki-005.jsonl\n",
            "Processing file 1OgFP5P7ZztQHeU_xUk21ycNLzoflfJQy wiki-006.jsonl\n",
            "Processing file 1JJwlu2FGm_dyAd28dQjroQmi1fb8_5Sx wiki-007.jsonl\n",
            "Processing file 1sH6X5JheiEkfOwZRq7HPE5U1pueMqsjF wiki-008.jsonl\n",
            "Processing file 1eMguWqUTjo0Q6HYJvT4pf3YLuEdF8aUV wiki-009.jsonl\n",
            "Processing file 1R9HW0GeQXBo5Bi6mcDXXqi_me6ARW3g3 wiki-010.jsonl\n",
            "Processing file 1TlvJf5lP62-a7PCCd7O42JnJso6ppnqN wiki-011.jsonl\n",
            "Processing file 1QDEKOyShPsSGQrGzw8ChJrjrjSBzzmr- wiki-012.jsonl\n",
            "Processing file 1kfREF9TzQXLo2RYhjfYah1EunZopx48r wiki-013.jsonl\n",
            "Processing file 1qmxE66ewfRvKPEdqZ6FzqpWl-jFb_-cU wiki-014.jsonl\n",
            "Processing file 1MRRMRWX7Ig1jB5uMVr-El3CP8eLxY63G wiki-015.jsonl\n",
            "Processing file 1soh98CaH5tyPuLo0QpvUGuy9Nw_0g4c5 wiki-016.jsonl\n",
            "Processing file 1qkTBd7LKsUf97j8LSUKZhlpPfLguQ9dx wiki-017.jsonl\n",
            "Processing file 16LF2Z-WUGJFRe8y851O6_F3_vNOrA2Ky wiki-018.jsonl\n",
            "Processing file 1IU2m8Cm3LPNNlteGNyjeVfFc1orddsch wiki-019.jsonl\n",
            "Processing file 108HqVkaZm4uxehs3R5YJAdr-x3HSLirD wiki-020.jsonl\n",
            "Processing file 14UgYxH3rOg_DSU-ZgIh-AJFqlXAhQYkB wiki-021.jsonl\n",
            "Processing file 1D5E8liujJNzSUsDup8F4Ew2jZrc4domM wiki-022.jsonl\n",
            "Processing file 1EFzRoQvvis8REbL6q1z4K0zGVzO6oFGi wiki-023.jsonl\n",
            "Processing file 15C701SJCcj__2rqbyeNUI6hKjHSPQZT3 wiki-024.jsonl\n",
            "Processing file 15pH4nITCgsGPoQQaqC2ga1xOLO-A_OjB dataset.py\n",
            "Processing file 1NI--USaKNFZOJfWRSCiN-i7twL-2mhFm requirements.txt\n",
            "Processing file 1omVZDMgvWvH15-yegcfNBmJvmBRcG2Rs utils.py\n",
            "Building directory structure completed\n",
            "Access denied with the following error:\n"
          ]
        },
        {
          "name": "stderr",
          "output_type": "stream",
          "text": [
            "Retrieving folder list\n",
            "Retrieving folder list completed\n",
            "Building directory structure\n",
            "\n",
            " \tToo many users have viewed or downloaded this file recently. Please\n",
            "\ttry accessing the file again later. If the file you are trying to\n",
            "\taccess is particularly large or is shared with many people, it may\n",
            "\ttake up to 24 hours to be able to view or download the file. If you\n",
            "\tstill can't access a file after 24 hours, contact your domain\n",
            "\tadministrator. \n",
            "\n",
            "You may still be able to access the file from the browser:\n",
            "\n",
            "\t https://drive.google.com/uc?id=1AGMfElEghEnYWLYU0YURZrBzmskYuovm \n",
            "\n",
            "Download ended unsuccessfully\n",
            "'mv' ���O�����Υ~���R�O�B�i���檺�{���Χ妸�ɡC\n"
          ]
        }
      ],
      "source": [
        "!gdown --folder 1T6jpOtdf_i6XNYA6F_lqU4mRRh1xYPcl\n",
        "!mv baseline/* ./"
      ]
    },
    {
      "cell_type": "code",
      "execution_count": null,
      "metadata": {},
      "outputs": [],
      "source": [
        "!gdown --folder 1hnVYEgN-gYzFCeBZo8cbKjGLBP-YTnTW"
      ]
    },
    {
      "cell_type": "code",
      "execution_count": 3,
      "metadata": {},
      "outputs": [
        {
          "name": "stdout",
          "output_type": "stream",
          "text": [
            "Looking in links: https://download.pytorch.org/whl/torch_stable.html\n",
            "Collecting ipywidgets==8.0.5\n",
            "  Using cached ipywidgets-8.0.5-py3-none-any.whl (138 kB)\n",
            "Requirement already satisfied: pandarallel==1.6.4 in c:\\users\\gaberil0903\\anaconda3\\lib\\site-packages (from -r requirements.txt (line 4)) (1.6.4)\n",
            "Requirement already satisfied: pandas==1.5.3 in c:\\users\\gaberil0903\\anaconda3\\lib\\site-packages (from -r requirements.txt (line 5)) (1.5.3)\n",
            "Requirement already satisfied: scikit-learn==1.2.2 in c:\\users\\gaberil0903\\anaconda3\\lib\\site-packages (from -r requirements.txt (line 6)) (1.2.2)\n",
            "Collecting tensorboard==2.11.0\n",
            "  Using cached tensorboard-2.11.0-py3-none-any.whl (6.0 MB)\n",
            "Requirement already satisfied: torch==1.13.1+cu116 in c:\\users\\gaberil0903\\anaconda3\\lib\\site-packages (from -r requirements.txt (line 8)) (1.13.1+cu116)\n",
            "Requirement already satisfied: tqdm==4.65.0 in c:\\users\\gaberil0903\\anaconda3\\lib\\site-packages (from -r requirements.txt (line 9)) (4.65.0)\n",
            "Requirement already satisfied: opencc in c:\\users\\gaberil0903\\anaconda3\\lib\\site-packages (from -r requirements.txt (line 10)) (1.1.1)\n",
            "Requirement already satisfied: hanlp in c:\\users\\gaberil0903\\anaconda3\\lib\\site-packages (from -r requirements.txt (line 11)) (2.1.0b47)\n",
            "Requirement already satisfied: transformers==4.27.1 in c:\\users\\gaberil0903\\anaconda3\\lib\\site-packages (from -r requirements.txt (line 12)) (4.27.1)\n",
            "Requirement already satisfied: wikipedia==1.4.0 in c:\\users\\gaberil0903\\anaconda3\\lib\\site-packages (from -r requirements.txt (line 13)) (1.4.0)\n",
            "Requirement already satisfied: tcsp in c:\\users\\gaberil0903\\anaconda3\\lib\\site-packages (from -r requirements.txt (line 14)) (0.0.9)\n",
            "Requirement already satisfied: traitlets>=4.3.1 in c:\\users\\gaberil0903\\anaconda3\\lib\\site-packages (from ipywidgets==8.0.5->-r requirements.txt (line 3)) (5.7.1)\n",
            "Requirement already satisfied: widgetsnbextension~=4.0 in c:\\users\\gaberil0903\\anaconda3\\lib\\site-packages (from ipywidgets==8.0.5->-r requirements.txt (line 3)) (4.0.7)\n",
            "Requirement already satisfied: ipython>=6.1.0 in c:\\users\\gaberil0903\\anaconda3\\lib\\site-packages (from ipywidgets==8.0.5->-r requirements.txt (line 3)) (8.10.0)\n",
            "Requirement already satisfied: jupyterlab-widgets~=3.0 in c:\\users\\gaberil0903\\anaconda3\\lib\\site-packages (from ipywidgets==8.0.5->-r requirements.txt (line 3)) (3.0.7)\n",
            "Requirement already satisfied: dill>=0.3.1 in c:\\users\\gaberil0903\\anaconda3\\lib\\site-packages (from pandarallel==1.6.4->-r requirements.txt (line 4)) (0.3.6)\n",
            "Requirement already satisfied: psutil in c:\\users\\gaberil0903\\anaconda3\\lib\\site-packages (from pandarallel==1.6.4->-r requirements.txt (line 4)) (5.9.0)\n",
            "Requirement already satisfied: python-dateutil>=2.8.1 in c:\\users\\gaberil0903\\anaconda3\\lib\\site-packages (from pandas==1.5.3->-r requirements.txt (line 5)) (2.8.2)\n",
            "Requirement already satisfied: numpy>=1.21.0 in c:\\users\\gaberil0903\\anaconda3\\lib\\site-packages (from pandas==1.5.3->-r requirements.txt (line 5)) (1.23.5)\n",
            "Requirement already satisfied: pytz>=2020.1 in c:\\users\\gaberil0903\\anaconda3\\lib\\site-packages (from pandas==1.5.3->-r requirements.txt (line 5)) (2022.7)\n",
            "Requirement already satisfied: scipy>=1.3.2 in c:\\users\\gaberil0903\\anaconda3\\lib\\site-packages (from scikit-learn==1.2.2->-r requirements.txt (line 6)) (1.10.0)\n",
            "Requirement already satisfied: threadpoolctl>=2.0.0 in c:\\users\\gaberil0903\\anaconda3\\lib\\site-packages (from scikit-learn==1.2.2->-r requirements.txt (line 6)) (2.2.0)\n",
            "Requirement already satisfied: joblib>=1.1.1 in c:\\users\\gaberil0903\\anaconda3\\lib\\site-packages (from scikit-learn==1.2.2->-r requirements.txt (line 6)) (1.1.1)\n",
            "Requirement already satisfied: google-auth<3,>=1.6.3 in c:\\users\\gaberil0903\\anaconda3\\lib\\site-packages (from tensorboard==2.11.0->-r requirements.txt (line 7)) (2.17.0)\n",
            "Requirement already satisfied: grpcio>=1.24.3 in c:\\users\\gaberil0903\\anaconda3\\lib\\site-packages (from tensorboard==2.11.0->-r requirements.txt (line 7)) (1.53.0)\n",
            "Requirement already satisfied: markdown>=2.6.8 in c:\\users\\gaberil0903\\anaconda3\\lib\\site-packages (from tensorboard==2.11.0->-r requirements.txt (line 7)) (3.4.1)\n",
            "Requirement already satisfied: tensorboard-plugin-wit>=1.6.0 in c:\\users\\gaberil0903\\anaconda3\\lib\\site-packages (from tensorboard==2.11.0->-r requirements.txt (line 7)) (1.8.1)\n",
            "Requirement already satisfied: werkzeug>=1.0.1 in c:\\users\\gaberil0903\\anaconda3\\lib\\site-packages (from tensorboard==2.11.0->-r requirements.txt (line 7)) (2.2.2)\n",
            "Requirement already satisfied: protobuf<4,>=3.9.2 in c:\\users\\gaberil0903\\anaconda3\\lib\\site-packages (from tensorboard==2.11.0->-r requirements.txt (line 7)) (3.20.3)\n",
            "Requirement already satisfied: tensorboard-data-server<0.7.0,>=0.6.0 in c:\\users\\gaberil0903\\anaconda3\\lib\\site-packages (from tensorboard==2.11.0->-r requirements.txt (line 7)) (0.6.1)\n",
            "Requirement already satisfied: wheel>=0.26 in c:\\users\\gaberil0903\\anaconda3\\lib\\site-packages (from tensorboard==2.11.0->-r requirements.txt (line 7)) (0.38.4)\n",
            "Requirement already satisfied: setuptools>=41.0.0 in c:\\users\\gaberil0903\\anaconda3\\lib\\site-packages (from tensorboard==2.11.0->-r requirements.txt (line 7)) (65.6.3)\n",
            "Requirement already satisfied: google-auth-oauthlib<0.5,>=0.4.1 in c:\\users\\gaberil0903\\anaconda3\\lib\\site-packages (from tensorboard==2.11.0->-r requirements.txt (line 7)) (0.4.6)\n",
            "Requirement already satisfied: absl-py>=0.4 in c:\\users\\gaberil0903\\anaconda3\\lib\\site-packages (from tensorboard==2.11.0->-r requirements.txt (line 7)) (1.4.0)\n",
            "Requirement already satisfied: requests<3,>=2.21.0 in c:\\users\\gaberil0903\\anaconda3\\lib\\site-packages (from tensorboard==2.11.0->-r requirements.txt (line 7)) (2.28.1)\n",
            "Requirement already satisfied: typing-extensions in c:\\users\\gaberil0903\\anaconda3\\lib\\site-packages (from torch==1.13.1+cu116->-r requirements.txt (line 8)) (4.4.0)\n",
            "Requirement already satisfied: colorama in c:\\users\\gaberil0903\\anaconda3\\lib\\site-packages (from tqdm==4.65.0->-r requirements.txt (line 9)) (0.4.6)\n",
            "Requirement already satisfied: tokenizers!=0.11.3,<0.14,>=0.11.1 in c:\\users\\gaberil0903\\anaconda3\\lib\\site-packages (from transformers==4.27.1->-r requirements.txt (line 12)) (0.11.6)\n",
            "Requirement already satisfied: huggingface-hub<1.0,>=0.11.0 in c:\\users\\gaberil0903\\anaconda3\\lib\\site-packages (from transformers==4.27.1->-r requirements.txt (line 12)) (0.13.4)\n",
            "Requirement already satisfied: packaging>=20.0 in c:\\users\\gaberil0903\\anaconda3\\lib\\site-packages (from transformers==4.27.1->-r requirements.txt (line 12)) (22.0)\n",
            "Requirement already satisfied: regex!=2019.12.17 in c:\\users\\gaberil0903\\anaconda3\\lib\\site-packages (from transformers==4.27.1->-r requirements.txt (line 12)) (2022.7.9)\n",
            "Requirement already satisfied: filelock in c:\\users\\gaberil0903\\anaconda3\\lib\\site-packages (from transformers==4.27.1->-r requirements.txt (line 12)) (3.9.0)\n",
            "Requirement already satisfied: pyyaml>=5.1 in c:\\users\\gaberil0903\\anaconda3\\lib\\site-packages (from transformers==4.27.1->-r requirements.txt (line 12)) (6.0)\n",
            "Requirement already satisfied: beautifulsoup4 in c:\\users\\gaberil0903\\anaconda3\\lib\\site-packages (from wikipedia==1.4.0->-r requirements.txt (line 13)) (4.11.1)\n",
            "Requirement already satisfied: toposort==1.5 in c:\\users\\gaberil0903\\anaconda3\\lib\\site-packages (from hanlp->-r requirements.txt (line 11)) (1.5)\n",
            "Requirement already satisfied: hanlp-common>=0.0.19 in c:\\users\\gaberil0903\\anaconda3\\lib\\site-packages (from hanlp->-r requirements.txt (line 11)) (0.0.19)\n",
            "Requirement already satisfied: pynvml in c:\\users\\gaberil0903\\anaconda3\\lib\\site-packages (from hanlp->-r requirements.txt (line 11)) (11.5.0)\n",
            "Requirement already satisfied: hanlp-trie>=0.0.4 in c:\\users\\gaberil0903\\anaconda3\\lib\\site-packages (from hanlp->-r requirements.txt (line 11)) (0.0.5)\n",
            "Requirement already satisfied: sentencepiece>=0.1.91 in c:\\users\\gaberil0903\\anaconda3\\lib\\site-packages (from hanlp->-r requirements.txt (line 11)) (0.1.97)\n",
            "Requirement already satisfied: hanlp-downloader in c:\\users\\gaberil0903\\anaconda3\\lib\\site-packages (from hanlp->-r requirements.txt (line 11)) (0.0.25)\n",
            "Requirement already satisfied: termcolor in c:\\users\\gaberil0903\\anaconda3\\lib\\site-packages (from hanlp->-r requirements.txt (line 11)) (2.2.0)\n",
            "Requirement already satisfied: rsa<5,>=3.1.4 in c:\\users\\gaberil0903\\anaconda3\\lib\\site-packages (from google-auth<3,>=1.6.3->tensorboard==2.11.0->-r requirements.txt (line 7)) (4.9)\n",
            "Requirement already satisfied: six>=1.9.0 in c:\\users\\gaberil0903\\anaconda3\\lib\\site-packages (from google-auth<3,>=1.6.3->tensorboard==2.11.0->-r requirements.txt (line 7)) (1.16.0)\n",
            "Requirement already satisfied: cachetools<6.0,>=2.0.0 in c:\\users\\gaberil0903\\anaconda3\\lib\\site-packages (from google-auth<3,>=1.6.3->tensorboard==2.11.0->-r requirements.txt (line 7)) (5.3.0)\n",
            "Requirement already satisfied: pyasn1-modules>=0.2.1 in c:\\users\\gaberil0903\\anaconda3\\lib\\site-packages (from google-auth<3,>=1.6.3->tensorboard==2.11.0->-r requirements.txt (line 7)) (0.2.8)\n",
            "Requirement already satisfied: requests-oauthlib>=0.7.0 in c:\\users\\gaberil0903\\anaconda3\\lib\\site-packages (from google-auth-oauthlib<0.5,>=0.4.1->tensorboard==2.11.0->-r requirements.txt (line 7)) (1.3.1)\n",
            "Requirement already satisfied: phrasetree in c:\\users\\gaberil0903\\anaconda3\\lib\\site-packages (from hanlp-common>=0.0.19->hanlp->-r requirements.txt (line 11)) (0.0.8)\n",
            "Requirement already satisfied: pygments>=2.4.0 in c:\\users\\gaberil0903\\anaconda3\\lib\\site-packages (from ipython>=6.1.0->ipywidgets==8.0.5->-r requirements.txt (line 3)) (2.11.2)\n",
            "Requirement already satisfied: matplotlib-inline in c:\\users\\gaberil0903\\anaconda3\\lib\\site-packages (from ipython>=6.1.0->ipywidgets==8.0.5->-r requirements.txt (line 3)) (0.1.6)\n",
            "Requirement already satisfied: pickleshare in c:\\users\\gaberil0903\\anaconda3\\lib\\site-packages (from ipython>=6.1.0->ipywidgets==8.0.5->-r requirements.txt (line 3)) (0.7.5)\n",
            "Requirement already satisfied: decorator in c:\\users\\gaberil0903\\anaconda3\\lib\\site-packages (from ipython>=6.1.0->ipywidgets==8.0.5->-r requirements.txt (line 3)) (5.1.1)\n",
            "Requirement already satisfied: stack-data in c:\\users\\gaberil0903\\anaconda3\\lib\\site-packages (from ipython>=6.1.0->ipywidgets==8.0.5->-r requirements.txt (line 3)) (0.2.0)\n",
            "Requirement already satisfied: prompt-toolkit<3.1.0,>=3.0.30 in c:\\users\\gaberil0903\\anaconda3\\lib\\site-packages (from ipython>=6.1.0->ipywidgets==8.0.5->-r requirements.txt (line 3)) (3.0.36)\n",
            "Requirement already satisfied: backcall in c:\\users\\gaberil0903\\anaconda3\\lib\\site-packages (from ipython>=6.1.0->ipywidgets==8.0.5->-r requirements.txt (line 3)) (0.2.0)\n",
            "Requirement already satisfied: jedi>=0.16 in c:\\users\\gaberil0903\\anaconda3\\lib\\site-packages (from ipython>=6.1.0->ipywidgets==8.0.5->-r requirements.txt (line 3)) (0.18.1)\n",
            "Requirement already satisfied: urllib3<1.27,>=1.21.1 in c:\\users\\gaberil0903\\anaconda3\\lib\\site-packages (from requests<3,>=2.21.0->tensorboard==2.11.0->-r requirements.txt (line 7)) (1.26.14)\n",
            "Requirement already satisfied: certifi>=2017.4.17 in c:\\users\\gaberil0903\\anaconda3\\lib\\site-packages (from requests<3,>=2.21.0->tensorboard==2.11.0->-r requirements.txt (line 7)) (2022.12.7)\n",
            "Requirement already satisfied: idna<4,>=2.5 in c:\\users\\gaberil0903\\anaconda3\\lib\\site-packages (from requests<3,>=2.21.0->tensorboard==2.11.0->-r requirements.txt (line 7)) (3.4)\n",
            "Requirement already satisfied: charset-normalizer<3,>=2 in c:\\users\\gaberil0903\\anaconda3\\lib\\site-packages (from requests<3,>=2.21.0->tensorboard==2.11.0->-r requirements.txt (line 7)) (2.0.4)\n",
            "Requirement already satisfied: MarkupSafe>=2.1.1 in c:\\users\\gaberil0903\\anaconda3\\lib\\site-packages (from werkzeug>=1.0.1->tensorboard==2.11.0->-r requirements.txt (line 7)) (2.1.1)\n",
            "Requirement already satisfied: soupsieve>1.2 in c:\\users\\gaberil0903\\anaconda3\\lib\\site-packages (from beautifulsoup4->wikipedia==1.4.0->-r requirements.txt (line 13)) (2.3.2.post1)\n",
            "Requirement already satisfied: parso<0.9.0,>=0.8.0 in c:\\users\\gaberil0903\\anaconda3\\lib\\site-packages (from jedi>=0.16->ipython>=6.1.0->ipywidgets==8.0.5->-r requirements.txt (line 3)) (0.8.3)\n",
            "Requirement already satisfied: wcwidth in c:\\users\\gaberil0903\\anaconda3\\lib\\site-packages (from prompt-toolkit<3.1.0,>=3.0.30->ipython>=6.1.0->ipywidgets==8.0.5->-r requirements.txt (line 3)) (0.2.5)\n",
            "Requirement already satisfied: pyasn1<0.5.0,>=0.4.6 in c:\\users\\gaberil0903\\anaconda3\\lib\\site-packages (from pyasn1-modules>=0.2.1->google-auth<3,>=1.6.3->tensorboard==2.11.0->-r requirements.txt (line 7)) (0.4.8)\n",
            "Requirement already satisfied: oauthlib>=3.0.0 in c:\\users\\gaberil0903\\anaconda3\\lib\\site-packages (from requests-oauthlib>=0.7.0->google-auth-oauthlib<0.5,>=0.4.1->tensorboard==2.11.0->-r requirements.txt (line 7)) (3.2.2)\n",
            "Requirement already satisfied: asttokens in c:\\users\\gaberil0903\\anaconda3\\lib\\site-packages (from stack-data->ipython>=6.1.0->ipywidgets==8.0.5->-r requirements.txt (line 3)) (2.0.5)\n",
            "Requirement already satisfied: executing in c:\\users\\gaberil0903\\anaconda3\\lib\\site-packages (from stack-data->ipython>=6.1.0->ipywidgets==8.0.5->-r requirements.txt (line 3)) (0.8.3)\n",
            "Requirement already satisfied: pure-eval in c:\\users\\gaberil0903\\anaconda3\\lib\\site-packages (from stack-data->ipython>=6.1.0->ipywidgets==8.0.5->-r requirements.txt (line 3)) (0.2.2)\n",
            "Installing collected packages: tensorboard, ipywidgets\n",
            "Note: you may need to restart the kernel to use updated packages.\n"
          ]
        },
        {
          "name": "stderr",
          "output_type": "stream",
          "text": [
            "WARNING: Ignoring invalid distribution -ensorboard (c:\\users\\gaberil0903\\anaconda3\\lib\\site-packages)\n",
            "WARNING: Ignoring invalid distribution -ensorboard (c:\\users\\gaberil0903\\anaconda3\\lib\\site-packages)\n",
            "WARNING: Ignoring invalid distribution -ensorboard (c:\\users\\gaberil0903\\anaconda3\\lib\\site-packages)\n",
            "  WARNING: Failed to write executable - trying to use .deleteme logic\n",
            "ERROR: Could not install packages due to an OSError: [WinError 32] 程序無法存取檔案，因為檔案正由另一個程序使用。: 'c:\\\\Users\\\\Gaberil0903\\\\anaconda3\\\\Scripts\\\\tensorboard.exe' -> 'c:\\\\Users\\\\Gaberil0903\\\\anaconda3\\\\Scripts\\\\tensorboard.exe.deleteme'\n",
            "Consider using the `--user` option or check the permissions.\n",
            "\n",
            "WARNING: Ignoring invalid distribution -ensorboard (c:\\users\\gaberil0903\\anaconda3\\lib\\site-packages)\n",
            "WARNING: Ignoring invalid distribution -ensorboard (c:\\users\\gaberil0903\\anaconda3\\lib\\site-packages)\n",
            "WARNING: Ignoring invalid distribution -ensorboard (c:\\users\\gaberil0903\\anaconda3\\lib\\site-packages)\n"
          ]
        }
      ],
      "source": [
        "%pip install -r requirements.txt"
      ]
    },
    {
      "attachments": {},
      "cell_type": "markdown",
      "metadata": {
        "id": "h7MSEcenjVrL"
      },
      "source": [
        "## PART 1. Document retrieval"
      ]
    },
    {
      "attachments": {},
      "cell_type": "markdown",
      "metadata": {},
      "source": [
        "Prepare the environment and import all library we need"
      ]
    },
    {
      "cell_type": "code",
      "execution_count": 1,
      "metadata": {
        "id": "niqu9pLajYC_"
      },
      "outputs": [],
      "source": [
        "import json\n",
        "import pickle\n",
        "from dataclasses import dataclass\n",
        "from pathlib import Path\n",
        "from typing import Dict, List, Set, Tuple, Union\n",
        "from functools import partial\n",
        "\n",
        "# 3rd party libs\n",
        "import hanlp\n",
        "import opencc\n",
        "import pandas as pd\n",
        "from hanlp.components.pipeline import Pipeline\n",
        "from pandarallel import pandarallel\n",
        "\n",
        "# our own libs\n",
        "from utils import load_json\n",
        "\n",
        "pandarallel.initialize(progress_bar=True, verbose=0, nb_workers=10)"
      ]
    },
    {
      "cell_type": "code",
      "execution_count": 2,
      "metadata": {},
      "outputs": [],
      "source": [
        "from TCSP import read_stopwords_list\n",
        "\n",
        "stopwords = read_stopwords_list()"
      ]
    },
    {
      "attachments": {},
      "cell_type": "markdown",
      "metadata": {},
      "source": [
        "Preload the data."
      ]
    },
    {
      "cell_type": "code",
      "execution_count": 3,
      "metadata": {},
      "outputs": [],
      "source": [
        "TRAIN_DATA = load_json(\"data/public_train.jsonl\")\n",
        "TEST_DATA = load_json(\"data/public_test.jsonl\")\n",
        "CONVERTER_T2S = opencc.OpenCC(\"t2s.json\")\n",
        "CONVERTER_S2T = opencc.OpenCC(\"s2t.json\")"
      ]
    },
    {
      "attachments": {},
      "cell_type": "markdown",
      "metadata": {},
      "source": [
        "Data class for type hinting"
      ]
    },
    {
      "cell_type": "code",
      "execution_count": 4,
      "metadata": {},
      "outputs": [],
      "source": [
        "@dataclass\n",
        "class Claim:\n",
        "    data: str\n",
        "\n",
        "@dataclass\n",
        "class AnnotationID:\n",
        "    id: int\n",
        "\n",
        "@dataclass\n",
        "class EvidenceID:\n",
        "    id: int\n",
        "\n",
        "@dataclass\n",
        "class PageTitle:\n",
        "    title: str\n",
        "\n",
        "@dataclass\n",
        "class SentenceID:\n",
        "    id: int\n",
        "\n",
        "@dataclass\n",
        "class Evidence:\n",
        "    data: List[List[Tuple[AnnotationID, EvidenceID, PageTitle, SentenceID]]]"
      ]
    },
    {
      "attachments": {},
      "cell_type": "markdown",
      "metadata": {},
      "source": [
        "### Helper function"
      ]
    },
    {
      "attachments": {},
      "cell_type": "markdown",
      "metadata": {},
      "source": [
        "For the sake of consistency, we convert traditional to simplified Chinese first before converting it back to traditional Chinese.  This is due to some errors occuring when converting traditional to traditional Chinese."
      ]
    },
    {
      "cell_type": "code",
      "execution_count": 5,
      "metadata": {
        "id": "A3NU01DnjKp-"
      },
      "outputs": [],
      "source": [
        "def do_st_corrections(text: str) -> str:\n",
        "    simplified = CONVERTER_T2S.convert(text)\n",
        "\n",
        "    return CONVERTER_S2T.convert(simplified)"
      ]
    },
    {
      "attachments": {},
      "cell_type": "markdown",
      "metadata": {},
      "source": [
        "We use constituency parsing to separate part of speeches or so called constituent to extract noun phrases.  In the later stages, we will use the noun phrases as the query to search for relevant documents.  "
      ]
    },
    {
      "cell_type": "code",
      "execution_count": 6,
      "metadata": {},
      "outputs": [],
      "source": [
        "def get_nps_hanlp(\n",
        "    predictor: Pipeline,\n",
        "    d: Dict[str, Union[int, Claim, Evidence]],\n",
        ") -> List[str]:\n",
        "    claim = d[\"claim\"]\n",
        "    tree = predictor(claim)[\"con\"]\n",
        "    nps = [\n",
        "        do_st_corrections(\"\".join(subtree.leaves()))\n",
        "        for subtree in tree.subtrees(lambda t: t.label() == \"NP\")\n",
        "    ]\n",
        "\n",
        "    return nps"
      ]
    },
    {
      "attachments": {},
      "cell_type": "markdown",
      "metadata": {},
      "source": [
        "Precision refers to how many related documents are retrieved.  Recall refers to how many relevant documents are retrieved.  "
      ]
    },
    {
      "cell_type": "code",
      "execution_count": 7,
      "metadata": {},
      "outputs": [],
      "source": [
        "def calculate_precision(\n",
        "    data: List[Dict[str, Union[int, Claim, Evidence]]],\n",
        "    predictions: pd.Series,\n",
        ") -> None:\n",
        "    precision = 0\n",
        "    count = 0\n",
        "\n",
        "    for i, d in enumerate(data):\n",
        "        if d[\"label\"] == \"NOT ENOUGH INFO\":\n",
        "            continue\n",
        "\n",
        "        # Extract all ground truth of titles of the wikipedia pages\n",
        "        # evidence[2] refers to the title of the wikipedia page\n",
        "        gt_pages = set([\n",
        "            evidence[2]\n",
        "            for evidence_set in d[\"evidence\"]\n",
        "            for evidence in evidence_set\n",
        "        ])\n",
        "\n",
        "        predicted_pages = predictions.iloc[i]\n",
        "        hits = predicted_pages.intersection(gt_pages)\n",
        "        if len(predicted_pages) != 0:\n",
        "            precision += len(hits) / len(predicted_pages)\n",
        "\n",
        "        count += 1\n",
        "\n",
        "    # Macro precision\n",
        "    print(f\"Precision: {precision / count}\")\n",
        "\n",
        "\n",
        "def calculate_recall(\n",
        "    data: List[Dict[str, Union[int, Claim, Evidence]]],\n",
        "    predictions: pd.Series,\n",
        ") -> None:\n",
        "    recall = 0\n",
        "    count = 0\n",
        "\n",
        "    for i, d in enumerate(data):\n",
        "        if d[\"label\"] == \"NOT ENOUGH INFO\":\n",
        "            continue\n",
        "\n",
        "        gt_pages = set([\n",
        "            evidence[2]\n",
        "            for evidence_set in d[\"evidence\"]\n",
        "            for evidence in evidence_set\n",
        "        ])\n",
        "        predicted_pages = predictions.iloc[i]\n",
        "        hits = predicted_pages.intersection(gt_pages)\n",
        "        recall += len(hits) / len(gt_pages)\n",
        "        count += 1\n",
        "\n",
        "    print(f\"Recall: {recall / count}\")"
      ]
    },
    {
      "attachments": {},
      "cell_type": "markdown",
      "metadata": {},
      "source": [
        "The default amount of documents retrieved is at most five documents.  This `num_pred_doc` can be adjusted based on your objective.  Save data in jsonl format."
      ]
    },
    {
      "cell_type": "code",
      "execution_count": 8,
      "metadata": {},
      "outputs": [],
      "source": [
        "def save_doc(\n",
        "    data: List[Dict[str, Union[int, Claim, Evidence]]],\n",
        "    predictions: pd.Series,\n",
        "    mode: str = \"train\",\n",
        "    suffix: str = \"\",\n",
        "    num_pred_doc: int = 5,\n",
        ") -> None:\n",
        "    with open(\n",
        "        f\"data/{mode}_doc{num_pred_doc}{suffix}.jsonl\",\n",
        "        \"w\",\n",
        "        encoding=\"utf8\",\n",
        "    ) as f:\n",
        "        for i, d in enumerate(data):\n",
        "            d[\"predicted_pages\"] = list(predictions.iloc[i])\n",
        "            f.write(json.dumps(d, ensure_ascii=False) + \"\\n\")"
      ]
    },
    {
      "attachments": {},
      "cell_type": "markdown",
      "metadata": {},
      "source": [
        "### Tfidf Init"
      ]
    },
    {
      "cell_type": "code",
      "execution_count": 9,
      "metadata": {},
      "outputs": [],
      "source": [
        "def tokenize(text: str, stopwords: list) -> str:\n",
        "    import jieba\n",
        "    tokens = jieba.cut(text)\n",
        "\n",
        "    return \" \".join([w for w in tokens if w not in stopwords])"
      ]
    },
    {
      "cell_type": "code",
      "execution_count": 10,
      "metadata": {},
      "outputs": [],
      "source": [
        "wiki_path = \"data/wiki-pages\"\n",
        "min_wiki_length = 10\n",
        "num_of_samples = 500\n",
        "topk = 15\n",
        "min_df = 2\n",
        "max_df = 0.8\n",
        "use_idf = True\n",
        "sublinear_tf = True\n",
        "\n",
        "# Set up the experiment name for logging\n",
        "exp_name = (\n",
        "    f\"len{min_wiki_length}_top{topk}_min_df={min_df}_\"\n",
        "    + f\"max_df={max_df}_{num_of_samples}s\"\n",
        ")\n",
        "if sublinear_tf:\n",
        "    exp_name = \"sublinearTF_\" + exp_name\n",
        "if not use_idf:\n",
        "    exp_name = \"no_idf_\" + exp_name"
      ]
    },
    {
      "cell_type": "code",
      "execution_count": 28,
      "metadata": {},
      "outputs": [],
      "source": [
        "wiki_cache = \"wiki\"\n",
        "target_column = \"text\"\n",
        "\n",
        "wiki_cache_path = Path(f\"data/{wiki_cache}.pkl\")\n",
        "if wiki_cache_path.exists():\n",
        "    wiki_pages = pd.read_pickle(wiki_cache_path)\n",
        "else:\n",
        "    # You need to download `wiki-pages.zip` from the AICUP website\n",
        "    wiki_pages = jsonl_dir_to_df(wiki_path)\n",
        "    # wiki_pages are combined into one dataframe, so we need to reset the index\n",
        "    wiki_pages = wiki_pages.reset_index(drop=True)\n",
        "\n",
        "    # tokenize the text and keep the result in a new column `processed_text`\n",
        "    wiki_pages[\"processed_text\"] = wiki_pages[target_column].parallel_apply(\n",
        "        partial(tokenize, stopwords=stopwords)\n",
        "    )\n",
        "    # save the result to a pickle file\n",
        "    wiki_pages.to_pickle(wiki_cache_path, protocol=4)"
      ]
    },
    {
      "cell_type": "code",
      "execution_count": 29,
      "metadata": {},
      "outputs": [],
      "source": [
        "wiki_pages = wiki_pages[\n",
        "    wiki_pages['processed_text'].str.len() > min_wiki_length\n",
        "]\n",
        "corpus = wiki_pages[\"processed_text\"].tolist()"
      ]
    },
    {
      "cell_type": "code",
      "execution_count": 30,
      "metadata": {},
      "outputs": [],
      "source": [
        "from sklearn.feature_extraction.text import TfidfVectorizer\n",
        "import numpy as np\n",
        "import scipy\n",
        "\n",
        "vectorizer = TfidfVectorizer(\n",
        "    min_df=min_df,\n",
        "    max_df=max_df,\n",
        "    use_idf=use_idf,\n",
        "    sublinear_tf=sublinear_tf,\n",
        "    dtype=np.float64,\n",
        ")"
      ]
    },
    {
      "cell_type": "code",
      "execution_count": 31,
      "metadata": {},
      "outputs": [],
      "source": [
        "X = vectorizer.fit_transform(corpus)"
      ]
    },
    {
      "attachments": {},
      "cell_type": "markdown",
      "metadata": {},
      "source": [
        "### Main function for document retrieval"
      ]
    },
    {
      "cell_type": "code",
      "execution_count": 15,
      "metadata": {},
      "outputs": [],
      "source": [
        "def get_pred_pages(\n",
        "        series_data: pd.Series, \n",
        "        ) -> Set[Dict[int, str]]:\n",
        "    import wikipedia\n",
        "    import re\n",
        "    import opencc\n",
        "    import pandas as pd\n",
        "\n",
        "    from TCSP import read_stopwords_list\n",
        "    stopwords = read_stopwords_list()\n",
        "\n",
        "    import numpy as np\n",
        "    from sklearn.feature_extraction.text import TfidfVectorizer\n",
        "    from sklearn.metrics.pairwise import cosine_similarity\n",
        "\n",
        "    wikipedia.set_lang(\"zh\")\n",
        "    CONVERTER_T2S = opencc.OpenCC(\"t2s.json\")\n",
        "    CONVERTER_S2T = opencc.OpenCC(\"s2t.json\")\n",
        "    \n",
        "    def do_st_corrections(text: str) -> str:\n",
        "        simplified = CONVERTER_T2S.convert(text)\n",
        "        return CONVERTER_S2T.convert(simplified)\n",
        "\n",
        "    results = []\n",
        "    tmp_muji = []\n",
        "    # wiki_page: its index showned in claim\n",
        "    mapping = {}\n",
        "    claim = series_data[\"claim\"]\n",
        "    nps = series_data[\"hanlp_results\"]\n",
        "    first_wiki_term = []\n",
        "    repeated_mention = []\n",
        "    quote_search = []\n",
        "\n",
        "    def clean_claim(claim) -> str:     # Clean claim function because hanlp has error when conducting cons\n",
        "        def multiple_replacer(*kv):\n",
        "            replace_dict = dict(kv)\n",
        "            replace_func = lambda match: replace_dict[match.group(0)]\n",
        "            pattern = re.compile(\"|\".join([re.escape(k) for k, v in kv]), re.M)\n",
        "            return lambda string: pattern.sub(replace_func, string) \n",
        "        def multiple_replace(string, *kv):\n",
        "            return multiple_replacer(*replace_dict)(claim)\n",
        "\n",
        "        replace_dict = (\" \", \"\"), (\"牠\", \"它\"), (\"（\", \"(\"), (\"）\", \")\"), (\"，\", \",\"), (\"、\", \",\"), (\"群\", \"羣\"), (\"“\", \"\\\"\"), (\"”\", \"\\\"\"), (\"「\", \"“\"), (\"」\", \"”\")\n",
        "        claim = multiple_replace(claim, *replace_dict)\n",
        "        claim = claim.lower()\n",
        "        return claim\n",
        "\n",
        "    claim = clean_claim(claim)\n",
        "\n",
        "    def post_processing(np, page, loc):\n",
        "        page = do_st_corrections(page)\n",
        "        page = page.replace(\" \", \"_\")\n",
        "        page = page.replace(\"-\", \"\")\n",
        "        search_pos = claim.find(np)\n",
        "        if search_pos != -1:\n",
        "            if page in results:\n",
        "                repeated_mention.append(page)\n",
        "                # results.insert(0, results.pop(results.index(page)))     # Fresh page to front if it was mention before\n",
        "            else:\n",
        "                results.append(page)\n",
        "            if loc == 0:\n",
        "                pass\n",
        "                # print(f\"Add: {page}, at page direct search, np={np}\")\n",
        "            elif loc == 1:\n",
        "                pass\n",
        "                # print(f\"Add: {page}, at match, new term={np}\")\n",
        "            mapping[page] = search_pos\n",
        "            tmp_muji.append(np)\n",
        "\n",
        "    def if_page_exists(page: str) -> bool:\n",
        "        import requests\n",
        "        url_base = \"https://zh.wikipedia.org/wiki/\"\n",
        "        new_url = [url_base + page, url_base + page.upper()]\n",
        "        for url in new_url:\n",
        "            r = requests.head(url)\n",
        "            if r.status_code == 200:\n",
        "                return True\n",
        "            else:\n",
        "                continue\n",
        "        return False\n",
        "    \n",
        "    def clean_time_format(np: str):\n",
        "        if (matched := re.search(r\"\\d+年\", np)) != None:\n",
        "            return True\n",
        "        if (matched := re.search(r\"\\d+月\\d+日\", np)) != None:\n",
        "            return True\n",
        "        if (matched := re.search(r\"\\d+小時\", np)) != None:\n",
        "            return True\n",
        "        if (matched := re.search(r\"\\d+天\", np)) != None:\n",
        "            return True\n",
        "        if (matched := re.search(r\"\\d+世紀\", np)) != None:\n",
        "            return True\n",
        "        if (matched := re.search(r\"\\d+年代\", np)) != None:\n",
        "            return True\n",
        "        return False\n",
        "    \n",
        "    def tokenize(text: str, stopwords: list) -> str:\n",
        "        import jieba\n",
        "        \"\"\"This function performs Chinese word segmentation and removes stopwords.\n",
        "\n",
        "        Args:\n",
        "            text (str): claim or wikipedia article\n",
        "            stopwords (list): common words that contribute little to the meaning of a sentence\n",
        "\n",
        "        Returns:\n",
        "            str: word segments separated by space (e.g. \"我 喜歡 吃 蘋果\")\n",
        "        \"\"\"\n",
        "\n",
        "        tokens = jieba.cut(text)\n",
        "\n",
        "        return \" \".join([w for w in tokens if w not in stopwords])\n",
        "\n",
        "    for i, np in enumerate(nps):\n",
        "        # print(f\"searching {np}\")\n",
        "        quote_dup = False\n",
        "        if np in stopwords:         # 如果包含停用詞\n",
        "            continue\n",
        "        if clean_time_format(np):   # 如果包含時間\n",
        "            continue\n",
        "        \n",
        "        # Ignore parsing among quotation mark, for example, if《仲夏夜之夢》exists, ignore「仲夏夜」and「夢」\n",
        "        for search in quote_search:\n",
        "            if search.find(np) != -1:\n",
        "                quote_dup = True\n",
        "        if quote_dup == True:\n",
        "            continue\n",
        "\n",
        "        # Delete Bookname Mark, Quote Mark\n",
        "        np_no_quote = re.sub(r\"《|》|〈|〉|【|】|「|」|『|』|（|）\", \"\", np)\n",
        "        if np != np_no_quote:\n",
        "            quote_search.append(np_no_quote)\n",
        "            np = np_no_quote\n",
        "\n",
        "        # Simplified Traditional Chinese Correction\n",
        "        wiki_search_results = [\n",
        "            do_st_corrections(w) for w in wikipedia.search(np)\n",
        "        ]\n",
        "\n",
        "        # Directly Search by Redirection\n",
        "            # Check if a page exists\n",
        "        if (if_page_exists(np)):\n",
        "            try:\n",
        "                page = do_st_corrections(wikipedia.page(title=np).title)\n",
        "                if page == np:\n",
        "                    # print(f\"Found, np={np}, page={page}\")\n",
        "                    post_processing(np=np, page=page, loc=0)\n",
        "                else:\n",
        "                    # print(f\"Redirect, np={np}, page={page}\")\n",
        "                    post_processing(np=np, page=page, loc=0)\n",
        "            except wikipedia.DisambiguationError as diserr:\n",
        "                page = do_st_corrections(wikipedia.search(np)[0])\n",
        "                if page == np:\n",
        "                    # print(f\"Disambig, np={np}, page={page}\")\n",
        "                    post_processing(np=np, page=page, loc=0)\n",
        "            except wikipedia.PageError as pageerr:\n",
        "                pass\n",
        "\n",
        "        # Remove the wiki page's description in brackets\n",
        "        wiki_set = [re.sub(r\"\\s\\(\\S+\\)\", \"\", w) for w in wiki_search_results]\n",
        "        wiki_df = pd.DataFrame({\n",
        "            \"wiki_set\": wiki_set,\n",
        "            \"wiki_results\": wiki_search_results\n",
        "        })\n",
        "\n",
        "        # Elements in wiki_set --> index\n",
        "        # Extracting only the first element is one way to avoid extracting\n",
        "        # too many of the similar wiki pages\n",
        "        grouped_df = wiki_df.groupby(\"wiki_set\", sort=False).first()\n",
        "        candidates = grouped_df[\"wiki_results\"].tolist()\n",
        "        # muji refers to wiki_set\n",
        "        muji = grouped_df.index.tolist()\n",
        "\n",
        "        for prefix, term in zip(muji, candidates):\n",
        "            if prefix not in tmp_muji:  #忽略掉括號，如果括號有重複的話。假設如果有\" 1 (數字)\", 則\"1 (符號)\" 會被忽略\n",
        "                matched = False\n",
        "\n",
        "                # Take at least one term from the first noun phrase\n",
        "                if i == 0:\n",
        "                    first_wiki_term.append(term)\n",
        "\n",
        "                # try:\n",
        "                #     print(term)\n",
        "                #     term_idx = wiki_pages.index[wiki_pages['id'] == do_st_corrections(term.replace(\" \", \"_\").replace(\"-\", \"\"))].tolist()[0]\n",
        "                #     processed_tokens = wiki_pages['processed_text'][term_idx]\n",
        "                #     processed_text_vector = vectorizer.transform([processed_tokens])\n",
        "                #     sim_score = cosine_similarity(processed_text_vector, claim_vector)[0][0]\n",
        "                #     if sim_score > 0.25: # 0.25 is hyperparam\n",
        "                #         score_mapping[term] = sim_score\n",
        "                #         print(sim_score, term)\n",
        "                # except IndexError:\n",
        "                #     pass\n",
        "                # except wikipedia.DisambiguationError:\n",
        "                #     pass\n",
        "                # except wikipedia.PageError:\n",
        "                #     pass\n",
        "\n",
        "                # Walrus operator :=\n",
        "                # https://docs.python.org/3/whatsnew/3.8.html#assignment-expressions\n",
        "                # Through these filters, we are trying to figure out if the term\n",
        "                # is within the claim\n",
        "                if (((new_term := term) in claim) or\n",
        "                    ((new_term := term) in claim.replace(\" \", \"\")) or\n",
        "                    ((new_term := term.replace(\"·\", \"\")) in claim) or                                   # 過濾人名\n",
        "                    ((new_term := re.sub(r\"\\s\\(\\S+\\)\", \"\", term)) in claim) or                          # 過濾空格 / 消歧義\n",
        "                    ((new_term := term.replace(\"(\", \"\").replace(\")\", \"\").split()[0]) in claim and       # 消歧義與括號內皆有在裡面\n",
        "                     (new_term := term.replace(\"(\", \"\").replace(\")\", \"\").split()[1]) in claim) or\n",
        "                    ((new_term := term.replace(\"-\", \" \")) in claim) or                                  # 過濾槓號\n",
        "                    ((new_term := term.lower()) in claim) or                                            # 過濾大小寫\n",
        "                    ((new_term := term.lower().replace(\"-\", \"\")) in claim) or                           # 過濾大小寫及槓號\n",
        "                    ((new_term := re.sub(r\"\\s\\(\\S+\\)\", \"\", term.lower().replace(\"-\", \"\"))) in claim)    # 過濾大小寫、槓號及消歧義\n",
        "                    ):\n",
        "                    matched = True\n",
        "                    # print(new_term, term)\n",
        "\n",
        "                # 人名匹配\n",
        "                elif \"·\" in term:\n",
        "                    splitted = term.split(\"·\")\n",
        "                    if \"·\" not in claim:        # 要求claim顯示的不為全名，不然都需要全名\n",
        "                        for split in splitted:\n",
        "                            if (new_term := split) in claim:\n",
        "                                matched = True\n",
        "                                break\n",
        "\n",
        "                if matched:\n",
        "                    post_processing(np=new_term, page=term, loc=1)\n",
        "\n",
        "    # score_results = sorted(score_mapping, key=score_mapping.get)[:-5]\n",
        "\n",
        "    # 8 is a hyperparameter\n",
        "    if len(results) > 8:\n",
        "        assert -1 not in mapping.values()\n",
        "        # print(\"長度大於8\", results)\n",
        "\n",
        "        results = repeated_mention + sorted(mapping, key=mapping.get)[:8]\n",
        "        results = list(set(results))            # remove duplicates\n",
        "        # print(\"排序後\", results)\n",
        "    if len(results) < 1:\n",
        "        results = first_wiki_term\n",
        "        # print(\"第一搜尋結果\", results)\n",
        "    \n",
        "    print(results)\n",
        "    return set(results)"
      ]
    },
    {
      "cell_type": "code",
      "execution_count": 16,
      "metadata": {},
      "outputs": [],
      "source": [
        "def get_pred_pages_search(\n",
        "        series_data: pd.Series, \n",
        "        ) -> Set[Dict[int, str]]:\n",
        "    import wikipedia\n",
        "    import re\n",
        "    import opencc\n",
        "    import pandas as pd\n",
        "\n",
        "    import numpy as np\n",
        "\n",
        "    wikipedia.set_lang(\"zh\")\n",
        "    CONVERTER_T2S = opencc.OpenCC(\"t2s.json\")\n",
        "    CONVERTER_S2T = opencc.OpenCC(\"s2t.json\")\n",
        "    \n",
        "    def do_st_corrections(text: str) -> str:\n",
        "        simplified = CONVERTER_T2S.convert(text)\n",
        "        return CONVERTER_S2T.convert(simplified)\n",
        "\n",
        "    results = []\n",
        "    tmp_muji = []\n",
        "    nps = series_data[\"hanlp_results\"]\n",
        "\n",
        "    def post_processing(page):\n",
        "        page = do_st_corrections(page)\n",
        "        page = page.replace(\" \", \"_\")\n",
        "        page = page.replace(\"-\", \"\")\n",
        "\n",
        "    for i, np in enumerate(nps):\n",
        "        # print(f\"searching {np}\")\n",
        "\n",
        "        # Simplified Traditional Chinese Correction\n",
        "        wiki_search_results = [\n",
        "            do_st_corrections(w) for w in wikipedia.search(np)\n",
        "        ]\n",
        "\n",
        "        # Remove the wiki page's description in brackets\n",
        "        wiki_set = [re.sub(r\"\\s\\(\\S+\\)\", \"\", w) for w in wiki_search_results]\n",
        "        wiki_df = pd.DataFrame({\n",
        "            \"wiki_set\": wiki_set,\n",
        "            \"wiki_results\": wiki_search_results\n",
        "        })\n",
        "\n",
        "        # Elements in wiki_set --> index\n",
        "        # Extracting only the first element is one way to avoid extracting\n",
        "        # too many of the similar wiki pages\n",
        "        grouped_df = wiki_df.groupby(\"wiki_set\", sort=False).first()\n",
        "        candidates = grouped_df[\"wiki_results\"].tolist()\n",
        "        # muji refers to wiki_set\n",
        "        muji = grouped_df.index.tolist()\n",
        "\n",
        "        for prefix, term in zip(muji, candidates):\n",
        "            if prefix not in tmp_muji:  #忽略掉括號，如果括號有重複的話。假設如果有\" 1 (數字)\", 則\"1 (符號)\" 會被忽略\n",
        "                post_processing(term)\n",
        "                results.append(term)\n",
        "\n",
        "    results = list(set(results))            # remove duplicates\n",
        "    print(results)\n",
        "    return set(results)"
      ]
    },
    {
      "cell_type": "code",
      "execution_count": 17,
      "metadata": {},
      "outputs": [],
      "source": [
        "def get_pred_pages_tfidf(\n",
        "    series_data: pd.Series, \n",
        "    tokenizing_method: callable,\n",
        "    vectorizer: TfidfVectorizer,\n",
        "    tf_idf_matrix: scipy.sparse.csr_matrix,\n",
        "    wiki_pages: pd.DataFrame,\n",
        "    topk: int\n",
        ") -> set:\n",
        "    import numpy as np\n",
        "    from sklearn.metrics.pairwise import cosine_similarity\n",
        "\n",
        "    claim = series_data[\"claim\"]\n",
        "    search_list = series_data[\"predicted_pages\"]\n",
        "    results = []\n",
        "    mapping = {}\n",
        "\n",
        "    tokens = tokenizing_method(claim)\n",
        "    claim_vector = vectorizer.transform([tokens])\n",
        "    for search_id in search_list:\n",
        "        search_tokens = wiki_pages.loc[wiki_pages['id'] == search_id]\n",
        "        if search_tokens.empty:\n",
        "            continue\n",
        "        search_processed_text = search_tokens[\"processed_text\"]\n",
        "        search_vector = vectorizer.transform(search_processed_text)\n",
        "        sim_scores = cosine_similarity(search_vector, claim_vector)\n",
        "        sim_scores = sim_scores[0][0]\n",
        "        if sim_scores > 0.25:\n",
        "            mapping[search_id] = sim_scores\n",
        "            print(sim_scores, search_id)\n",
        "\n",
        "    print(mapping)\n",
        "    results = sorted(mapping, key=mapping.get, reverse=True)[:5]\n",
        "    print(results)\n",
        "    return set(results)\n"
      ]
    },
    {
      "attachments": {},
      "cell_type": "markdown",
      "metadata": {},
      "source": [
        "### Step 1. Get noun phrases from hanlp consituency parsing tree"
      ]
    },
    {
      "attachments": {},
      "cell_type": "markdown",
      "metadata": {},
      "source": [
        "Setup [HanLP](https://github.com/hankcs/HanLP) predictor (1 min)"
      ]
    },
    {
      "cell_type": "code",
      "execution_count": 18,
      "metadata": {},
      "outputs": [
        {
          "name": "stderr",
          "output_type": "stream",
          "text": [
            "                                             \r"
          ]
        }
      ],
      "source": [
        "predictor = (hanlp.pipeline().append(\n",
        "    hanlp.load(\"FINE_ELECTRA_SMALL_ZH\"),\n",
        "    output_key=\"tok\",\n",
        ").append(\n",
        "    hanlp.load(\"CTB9_CON_ELECTRA_SMALL\"),\n",
        "    output_key=\"con\",\n",
        "    input_key=\"tok\",\n",
        "))"
      ]
    },
    {
      "attachments": {},
      "cell_type": "markdown",
      "metadata": {},
      "source": [
        "We will skip this process which for creating parsing tree when demo on class"
      ]
    },
    {
      "cell_type": "code",
      "execution_count": 18,
      "metadata": {},
      "outputs": [],
      "source": [
        "hanlp_file = f\"data/hanlp_con_results.pkl\"\n",
        "if Path(hanlp_file).exists():\n",
        "    with open(hanlp_file, \"rb\") as f:\n",
        "        hanlp_results = pickle.load(f)\n",
        "else:\n",
        "    hanlp_results = [get_nps_hanlp(predictor, d) for d in TRAIN_DATA]\n",
        "    with open(hanlp_file, \"wb\") as f:\n",
        "        pickle.dump(hanlp_results, f)"
      ]
    },
    {
      "attachments": {},
      "cell_type": "markdown",
      "metadata": {},
      "source": [
        "Get pages via wiki online api"
      ]
    },
    {
      "cell_type": "code",
      "execution_count": null,
      "metadata": {},
      "outputs": [],
      "source": [
        "from google.colab import output\n",
        "output.enable_custom_widget_manager()"
      ]
    },
    {
      "cell_type": "code",
      "execution_count": 19,
      "metadata": {},
      "outputs": [],
      "source": [
        "doc_path = f\"data/train_doc5.jsonl\"\n",
        "doc_path_aicup = f\"data/train_doc5_aicup.jsonl\"\n",
        "doc_path_search = f\"data/train_doc5_search.jsonl\"\n",
        "doc_path_tfidf = f\"data/train_doc5_tfidf.jsonl\"\n",
        "doc_path_tfidf = f\"data/train_doc5_tfidf.jsonl\"\n",
        "\n",
        "if Path(doc_path).exists():\n",
        "    with open(doc_path_aicup, \"r\", encoding=\"utf8\") as f:\n",
        "        predicted_results = pd.Series([\n",
        "            set(json.loads(line)[\"predicted_pages\"])\n",
        "            for line in f\n",
        "        ])\n",
        "else:\n",
        "    if Path(doc_path_search).exists():\n",
        "        with open(doc_path_search, \"r\", encoding=\"utf8\") as f:\n",
        "            predicted_results_search = pd.Series([\n",
        "                set(json.loads(line)[\"predicted_pages\"])\n",
        "                for line in f\n",
        "            ], name=\"search\")\n",
        "    else:\n",
        "        pandarallel.initialize(progress_bar=True, verbose=0, nb_workers=10)\n",
        "        train_df = pd.DataFrame(TRAIN_DATA)\n",
        "        train_df.loc[:, \"hanlp_results\"] = hanlp_results\n",
        "        # predicted_results = train_df.progress_apply(get_pred_pages, axis=1)\n",
        "        predicted_results_search = train_df.parallel_apply(\n",
        "            get_pred_pages_search, axis=1)\n",
        "        save_doc(TRAIN_DATA, predicted_results_search, mode=\"train\", suffix=\"_search\")\n",
        "\n",
        "    if Path(doc_path_aicup).exists():\n",
        "        with open(doc_path_aicup, \"r\", encoding=\"utf8\") as f:\n",
        "            predicted_results_aicup = pd.Series([\n",
        "                set(json.loads(line)[\"predicted_pages\"])\n",
        "                for line in f\n",
        "            ], name=\"aicup\")\n",
        "    else:\n",
        "        pandarallel.initialize(progress_bar=True, verbose=0, nb_workers=10)\n",
        "        train_df = pd.DataFrame(TRAIN_DATA)\n",
        "        train_df.loc[:, \"hanlp_results\"] = hanlp_results\n",
        "        # predicted_results = train_df.progress_apply(get_pred_pages, axis=1)\n",
        "        predicted_results_aicup = train_df.parallel_apply(\n",
        "            get_pred_pages, axis=1)\n",
        "        save_doc(TRAIN_DATA, predicted_results_aicup, mode=\"train\", suffix=\"_aicup\")\n",
        "\n",
        "    if Path(doc_path_tfidf).exists():\n",
        "        with open(doc_path_tfidf, \"r\", encoding=\"utf8\") as f:\n",
        "            predicted_results_tfidf = pd.Series([\n",
        "                set(json.loads(line)[\"predicted_pages\"])\n",
        "                for line in f\n",
        "            ], name=\"tfidf\")\n",
        "    else:\n",
        "        pandarallel.initialize(progress_bar=True, verbose=0, nb_workers=3)\n",
        "        TRAIN_DATA_SEARCH = load_json(doc_path_search)\n",
        "        train_df_search = pd.DataFrame(TRAIN_DATA_SEARCH)\n",
        "        predicted_results_tfidf = train_df_search.parallel_apply(\n",
        "            partial(\n",
        "                get_pred_pages_tfidf,\n",
        "                tokenizing_method=partial(tokenize, stopwords=stopwords),\n",
        "                vectorizer=vectorizer,\n",
        "                tf_idf_matrix=X,\n",
        "                wiki_pages=wiki_pages,\n",
        "                topk=topk,\n",
        "            ), axis=1)\n",
        "        save_doc(TRAIN_DATA, predicted_results_tfidf, mode=\"train\", suffix=\"_tfidf\")"
      ]
    },
    {
      "attachments": {},
      "cell_type": "markdown",
      "metadata": {},
      "source": [
        "Save Memory"
      ]
    },
    {
      "cell_type": "code",
      "execution_count": 21,
      "metadata": {},
      "outputs": [
        {
          "name": "stdout",
          "output_type": "stream",
          "text": [
            "On AICUP Data:\n",
            "Precision: 0.24198516414141477\n",
            "Recall: 0.8701666666666668\n",
            "On Search Data:\n",
            "Precision: 0.01760738788282119\n",
            "Recall: 0.9074270833333332\n",
            "On Search-TFIDF Data:\n",
            "Precision: 0.33017187500000345\n",
            "Recall: 0.5558697916666666\n"
          ]
        }
      ],
      "source": [
        "print(\"On AICUP Data:\")\n",
        "calculate_precision(TRAIN_DATA, predicted_results_aicup)\n",
        "calculate_recall(TRAIN_DATA, predicted_results_aicup)\n",
        "print(\"On Search Data:\")\n",
        "calculate_precision(TRAIN_DATA, predicted_results_search)\n",
        "calculate_recall(TRAIN_DATA, predicted_results_search)\n",
        "print(\"On Search-TFIDF Data:\")\n",
        "calculate_precision(TRAIN_DATA, predicted_results_tfidf)\n",
        "calculate_recall(TRAIN_DATA, predicted_results_tfidf)"
      ]
    },
    {
      "attachments": {},
      "cell_type": "markdown",
      "metadata": {},
      "source": [
        "Merge Two Pandas Series."
      ]
    },
    {
      "cell_type": "code",
      "execution_count": 25,
      "metadata": {},
      "outputs": [],
      "source": [
        "def union_result(series_data: pd.Series,) -> set:\n",
        "    aicup = series_data[\"aicup\"]\n",
        "    tfidf = series_data[\"tfidf\"]\n",
        "    print(aicup, tfidf)\n",
        "    return set(aicup).union(set(tfidf))"
      ]
    },
    {
      "cell_type": "code",
      "execution_count": 26,
      "metadata": {},
      "outputs": [
        {
          "name": "stdout",
          "output_type": "stream",
          "text": [
            "{'仲夏夜之夢', '緹坦妮雅', '軌道', '天王星', '仲夏夜_(羅文專輯)', '磁層', '天衛三'} {'尼克·博特姆', '奧伯隆', '緹坦妮雅', '磁層', '天衛三'}\n",
            "{'鳥', '北冰洋', '信天翁科', '翼展', '南太平洋', '太平洋', '世界'} {'漂泊信天翁', '南方皇家信天翁', '特島信天翁', '翼展', '桑氏遠洋鳥'}\n",
            "{'樂團', '音樂產業', '亞洲', '男性', '詹雯婷', '陳建寧', '阿沁', '女性'} {'F.I.R.飛兒樂團'}\n",
            "{'機場', '小時', '宇宙', '24小時', '世界', '香港國際機場'} {'香港國際機場'}\n",
            "{'校長', '北京理工大學', '中央部屬高校', '高等學校', '學校', '黨委書記和校長列入中央管理的高校', '中華人民共和國', '歷史'} {'中華人民共和國副省部級以上單位列表', '地方所屬高校', '黨委書記和校長列入中央管理的高校', '中央部屬高校'}\n",
            "{'南京大學附屬中學', '中學', '江蘇省_(中華民國)', '南京大學'} {'南京大學附屬中學', '南京師範大學附屬中學', '南京市金陵中學', '南京航空航天大學附屬高級中學', '師範大學附屬中學列表'}\n",
            "{'原住民', '魚', '毒魚豆', '西', '萃取', '印度'} {'毒魚豆'}\n",
            "{'軟件測試', '版本控制', '系統工程', '軟件開發', '活動', '軟件'} {'軟件工程', '軟件項目管理', '軟件開發', '軟件開發工具', '版本控制軟件比較'}\n",
            "{'院士', '理論', '中央研究院', '力學', '研究生', '國立臺灣大學', '專業人士', '研究所', '國立臺灣大學應用力學研究所', '工程力學', '中央研究院院士'} {'吳光鍾', '林啓萬', '劉佩玲', '鮑亦興', '國立臺灣大學應用力學研究所'}\n",
            "{'威廉·倫琴', '倫琴_(單位)', 'X射線', '電子'} {'威廉·倫琴'}\n",
            "{'幾何學', '中世紀', '世紀', '教育', '西方', '數學'} set()\n",
            "{'國立臺灣大學', '國立臺灣大學昆蟲標本館', '標本', '昆蟲'} {'國立臺灣大學昆蟲標本館'}\n",
            "{'湯姆·漢克斯', '湯姆·希林', '湯姆·班克斯', '獎勵', '收入', '湯姆·克魯斯'} set()\n",
            "{'阿爾伯特·愛因斯坦', '漢斯·愛因斯坦'} set()\n",
            "{'蜀漢', '黃忠', '武將', '三國'} {'薛珝', '南開五虎', '五虎將', '黃忠', '鄧家五虎'}\n",
            "{'效用', '妙義山'} {'妙義荒船佐久高原國定公園'}\n",
            "{'獎盃', '球_(數學)', '獎勵', '領域', '人物'} set()\n",
            "{'政府', '市場', '清朝', '清朝政府', '朱一貴', '王禮'} {'王禮'}\n",
            "{'大韓民國', '高建_(韓國)', '政治人物', '韓國政治'} {'樸順天'}\n",
            "{'MSDOS', '微軟', '操作系統', 'DOS'} {'高效能檔案系統', '微軟', 'DOS', 'MS-DOS', '微軟作業系統列表'}\n",
            "{'四川省', '地級市', '宜賓市', '市', '烏魚子', '酒'} {'烏魚子'}\n",
            "{'冰淇淋', '奶製品', '食物', '乳', '原材料'} {'樹莓漩渦冰淇淋', '義式冰淇淋', '蕎麥冰淇淋', '冰淇淋', '蛋卷冰淇淋'}\n",
            "{'原材料', '甜品', '冰淇淋', '五穀'} {'樹莓漩渦冰淇淋', '蕎麥冰淇淋', '冰淇淋', '蛋卷冰淇淋', '意式奶凍'}\n",
            "{'法務部矯正署', '中華民國', '臺灣', '法院', '土城區', '法務部矯正署臺北少年觀護所', '中華民國法務部', '新北市'} {'法務部矯正署高雄監獄', '法務部矯正署', '法務部矯正署巖灣技能訓練所', '法務部矯正署臺南第二監獄', '法務部矯正署臺北少年觀護所'}\n",
            "{'阿托品', '靜脈注射', '活性度', '靜脈'} {'阿托品', '靜脈注射'}\n",
            "{'希臘神話', '名稱', '希臘', '神話', '木衛三十九', '女神'} {'藤井登美惠', '希臘神話生物列表', '霍爾三十九族', '陳美惠'}\n",
            "{'歐洲', 'ATP', '米夏埃爾·科爾曼', '網球', '今天', '雙打'} {'彼得·高若尼茲克', '米夏埃爾·科爾曼', '科麗娜·莫拉留', '巴博拉·斯特里措娃', '約翰·皮爾斯'}\n",
            "{'密碼', '信息', '量化_(信號處理)', '密碼學', '科學'} {'密碼學', '密碼學主題列表'}\n",
            "{'赤足', '習慣', '家', '人字拖'} {'赤足廣場', '赤足根蟎', '人字拖'}\n",
            "{'證券市場', '中國人', '公安_(消歧義)', '公安機關', '徐翔_(投資家)', '中國', '徐翔'} {'徐翔'}\n",
            "{'桂皮'} set()\n",
            "{'政府', 'SETI@home', '計算', '歐洲商學院', '分佈式計算', '加利福尼亞大學柏克萊分校'} {'Astropulse', 'BOINC'}\n",
            "{'鑽石', '今天', '硬度'} {'鑽石', '莫氏硬度', '硬度試驗'}\n",
            "{'化學元素', '硫'} {'硫', '第4週期元素', '第5週期元素'}\n",
            "{'輔國中尉', '宗室', '中尉', '明朝皇族', '八大山人', '清朝', '明朝'} {'奉國中尉', '八大山人', '輔國中尉'}\n",
            "{'托馬斯', '派對', '作品', '潘恩', '英國', '托馬斯·潘恩', '教條', '美國'} {'潘恩', '托馬斯·潘恩'}\n",
            "{'中央', '冰', '北冰洋', '海冰', '荷蘭', '北極圈', '冰山', '海水'} {'北冰洋'}\n",
            "{'計算機科學', '數據壓縮', '圖像壓縮', '圖像壓縮技術'} {'紋理壓縮', '圖像壓縮技術', '加殼壓縮', '圖像壓縮', '有損數據壓縮'}\n",
            "{'單片機', '微處理器', '集成電路'} {'SuperH', '單片機', '嶋正利', 'Rock微處理器', '4位元'}\n",
            "{'東京', '世界', '經濟學人信息社', '智庫', '報告', '國家'} {'經濟學人信息社', '全球最昂貴城市'}\n",
            "{'校園', '森林', 'J·D·德魯', '德魯大學', '綽號', '大學', '新澤西州'} {'德魯大學', '費爾裏·狄金生大學'}\n",
            "{'虛構', '史詩', '集', '角色', '荷馬', '人物'} set()\n",
            "{'次聲波', '波', '反射', '聲波', '海嘯', '地震波', '地震', '檢測'} {'地震波'}\n",
            "{'新興宗教', '宗教', '共識決策法'} set()\n",
            "{'親本', '富士', '貴之富士三造', '日本', '本地人'} set()\n",
            "{'第二次世界大戰', '世界大戰', '科學', '應用科學', '麻省理工學院', '冷戰', '工程學'} {'哈佛-麻省理工醫療科技學院', '麻省理工學院理學院', '麻省理工學院工學院'}\n",
            "{'樂山大佛', '大佛', '唐朝', '90年'} {'樂山大佛', '海通和尚'}\n",
            "{'喬木_(消歧義)', '中國社會科學院', '胡喬木', '院長'} {'雲南省社會科學院', '胡石英'}\n",
            "{'味覺', '蕈類', '香杏麗蘑', '中國內地', '杏_(演員)', '地方', '中國', '內地'} {'香杏麗蘑'}\n",
            "{'喬治·赫伯特·沃克·布什', '北美洲', '東部', '喬治·羅傑斯·克拉克', '伯茲克里克_(喬治亞州)', '喬治·華盛頓', '喬治亞州'} set()\n",
            "{'面_(幾何)', '太陽系', '木衛二', '行星', '木星的衛星'} {'木衛二表面特徵列表', '木衛二'}\n",
            "{'政府', '美國聯邦政府', '醜聞', '伊拉克', '戰爭', '伊拉克戰爭', '美國'} {'伊拉克軍事', '伊拉克空軍', '伊拉克戰爭列表', '伊拉克戰爭'}\n",
            "{'蔡卓妍', '臺灣國中教育', '兼職', '教育階段', '模特兒', '九年級'} {'盧慧敏', '石天欣'}\n",
            "{'中國音樂', '黑豹樂隊', '搖滾', '竇唯', '黑豹_(專輯)', '音樂類型', '中國'} {'丁武', '竇唯音樂作品列表', '黑豹樂隊'}\n",
            "{'盧卡斯·迪奧多斯基'} {'車菊紅', '鄭頌衡', '盧卡斯·迪奧多斯基', '楊偉基'}\n",
            "{'分類學', '不確定性', '牛亞科', '生物分類學', '確定性', '科_(生物)', '動物', '族'} {'牛亞科', '奈特氏不確定性', '不確定性推理', '不確定性'}\n",
            "{'政府', '臺灣省', '臺灣省政府', '功能', '1998年'} {'雲林縣政府', '花蓮縣政府', '南投縣政府', '臺東縣政府', '臺灣省政府'}\n",
            "{'武功', '慕容復'} {'武功鎮'}\n",
            "{'韓式泡菜', '臺語電影', '導演', '辛奇_(臺灣導演)', '辛奇·羅卡', '地獄新娘'} set()\n",
            "{'寒武紀大爆發', '世界', '寒武紀_(消歧義)', '寒武紀'} {'寒武紀大爆發'}\n",
            "{'若竹町', '行政區劃', '北海道', '世界大戰', '若竹町_(臺南市)'} {'汐見町', '伏見町', '青葉町'}\n",
            "{'工具', '望遠鏡', '自然科學', '天文現象'} {'自然科學', '天文學'}\n",
            "{'生命', '貓', '犬', '入侵物種', '物種', '世界百大外來入侵種', '世界'} {'貓'}\n",
            "{'政府', '罷工', '路易斯·伊納西奧·盧拉·達席爾瓦'} set()\n",
            "{'分類學', '鳥', '日本鶺鴒', '雀形目', '生物分類學', '屬', '陸地', '日本', '鶺鴒科', '目_(生物)'} {'山鶺鴒', '白鶺鴒', '印度鶺鴒', '鶺鴒科', '灰鶺鴒'}\n",
            "{'飛機', '交通管制', '航空', '工作', '工作人員', '航空交通管制'} {'航空交通管制部', '東京航空交通管制部', '航空交通管制', '航空管制員'}\n",
            "{'俄刻阿諾斯', '妻子', '忒堤斯', '神', '提坦'} {'俄刻阿尼得斯', '俄刻阿諾斯', '斯堤克斯', '忒堤斯', '俄刻阿諾斯號'}\n",
            "{'隕石', '量_(物理)', '面_(幾何)', '天衛三', '天衛四', '撞擊坑'} set()\n",
            "{'香港', '圍村', '練馬師', '現在', '松柏塱', '簡炳墀', '本地人'} {'松柏塱'}\n",
            "{'吳天威'} {'吳天威'}\n",
            "{'古蹟'} set()\n",
            "{'名', '豫劇'} {'趙國安', '苗文華'}\n",
            "{'講談社', '講談社·中國的歷史', '榮譽', '三年坂火之夢', '美洲'} {'講談社BOX', '虛構推理', '三年坂火之夢'}\n",
            "{'勳章', '突破', '水稻', '袁隆平', '共和國勳章'} {'雜交水稻國家重點實驗室', '袁隆平', '小行星8117', '果靖霖'}\n",
            "{'詩人', '唐朝末年', '李商隱', '唐詩', '唐詩三百首'} {'柳枝', '李商隱'}\n",
            "{'湖北省', '中國人民解放軍', '河南省', '中國人民解放軍武漢軍區', '河南省_(中華民國)'} {'中國人民解放軍武漢軍區空軍', '中國人民解放軍湖北省軍區', '中國人民解放軍河南省軍區', '中國人民解放軍武漢軍區', '中國人民解放軍昆明軍區'}\n",
            "{'光澤_(礦物)', '投資型硬幣', '硬幣', '銀'} {'投資型硬幣', '諾亞方舟銀幣'}\n",
            "{'荷西·摩里納', '荷西·坎諾', '荷西·瓦爾迪茲', '奧莉花·荷西', '臺灣', '荷西·韋拿斯基斯', '臺灣荷西統治時期', '荷西·安歷基·山齊士', '荷西·馬利'} set()\n",
            "{'黃道帶', '獅子座', '黃道', '恆星'} {'天蠍座', '巨蟹座', '人馬座', '獅子座', '寶瓶座'}\n",
            "{'概念', '方言', '語言學', '淮劇', '入聲'} {'淮劇'}\n",
            "{'喬瓦尼·多梅尼科·卡西尼', '雅克·卡西尼', '亨利·卡西尼', '卡西尼', '讓多米尼克·卡西尼', '天文臺', '塞薩爾弗朗索瓦·卡西尼·德·蒂裏'} {'卡西尼定律', '亨利·卡西尼', '卡西尼', '塞薩爾-弗朗索瓦·卡西尼·德·蒂裏'}\n",
            "{'馴化', '雉科', '人類', '雞'} {'雞'}\n",
            "{'化學鍵', '化學', '溫室', '溫室氣體', '碳氟化合物', '氟化合物'} {'碳氟化合物'}\n",
            "{'人因工程學', '設計', '工程學', '工業設計'} set()\n",
            "{'法院', '避病院', '臺南市', '臺南避病院', '法定傳染病'} {'臺南避病院'}\n",
            "{'帝國', '宗主權', '甲午戰爭', '朝鮮', '清朝', '日本', '馬關條約', '中日修好條規'} {'馬關條約', '江華條約', '中日修好條規'}\n",
            "{'立法院立法委員選舉', '臺灣', '全國不分區及僑居國外國民立法委員選舉區', '2020', '黨', '劉一德', '臺灣團結聯盟', '司機'} {'臺灣團結聯盟'}\n",
            "{'通用電氣', '產業', '美洲', '美國本土', '本土', '地區', '美國'} set()\n",
            "{'人民', '孔子', '伊斯蘭教法', '行爲', '論語', '法律'} {'論語', '孔子文化獎', '伊斯蘭教法'}\n",
            "{'喬瓦尼·多梅尼科·卡西尼', '雅克·卡西尼', '亨利·卡西尼', '卡西尼', '讓多米尼克·卡西尼', '巴黎天文臺', '天文臺', '塞薩爾弗朗索瓦·卡西尼·德·蒂裏'} {'喬瓦尼·多梅尼科·卡西尼', '亨利·卡西尼', '卡西尼', '塞薩爾-弗朗索瓦·卡西尼·德·蒂裏'}\n",
            "{'伍迪·艾倫', '艾倫'} set()\n",
            "{'蔡英文', '選舉'} {'九合一選舉'}\n",
            "{'卡通', '藤島康介', '作品'} {'大卡通資料庫', '藤島康介'}\n",
            "{'木衛三十八', '衛星', '衛', '木材', '木星', '木星的衛星', '南極', '木衛三'} {'木衛三十八', '木衛五十三', '木衛五十二', '木衛五十', '木衛十一'}\n",
            "{'賽博格', '再造人卡辛', '龍之子製作', '龍', '子'} {'再造人卡辛', '新蓋特機器人'}\n",
            "{'圖爾卡區', '行政區劃', '利沃夫', '2020', '利沃夫州', '舊桑比爾區', '桑比爾', '桑比爾區', '改革'} {'圖爾卡區', '桑比爾區', '舊桑比爾區'}\n",
            "{'烏克蘭'} {'POSTNET', '全球地址服務', '郵政編碼'}\n",
            "{'宗教音樂', '天佑國王', '單聲', '文藝復興', '世紀', '歌曲', '作者', '聲音'} {'天佑國王'}\n",
            "{'世界大戰', '第一次世界大戰', '科學', '應用科學', '麻省理工學院', '冷戰', '技能', '工程學'} {'哈佛-麻省理工醫療科技學院', '麻省理工學院理學院', '麻省理工學院工學院'}\n",
            "{'宋朝_(人物)', '鴟尾', '宋朝'} {'鴟尾'}\n",
            "{'流產', '死亡', '胎兒'} {'流產', '產前發育'}\n",
            "{'案', '艾根訴加拿大案', '奧林·艾根', '加拿大', '行政機關', '曼弗雷德·艾根'} {'艾根訴加拿大案'}\n",
            "{'寒武紀大爆發', '生物', '寒武紀', '寒武紀_(消歧義)', '世界'} {'寒武紀大爆發'}\n",
            "{'卡呂普索', '王'} {'奧吉吉亞島'}\n",
            "{'高等教育', '倫敦大學', '泰晤士高等教育', '車站', '英國', '倫敦大學學院', '泰晤士', '泰晤士高等教育世界大學排名'} {'泰晤士高等教育世界大學排名', '倫敦大學學院', '泰晤士高等教育-QS世界大學排名', '泰晤士'}\n",
            "{'人類', '熱', '生態系統', '火', '宇宙'} {'火'}\n",
            "{'終點站_(消歧義)', '新北市區公車790路線', '新北市市區公車', '班距', '公車', '基隆市', '金山', '新北市'} {'新北市區公車790路線', '新北市區公車813路線', '新北市區公車570路線', '新北市區公車573路線', '新北市區公車572路線'}\n",
            "{'輕機槍', '自動步槍', '步槍'} {'大正十一年式輕機槍', '88式自動步槍', '81式自動步槍', '白朗寧自動步槍'}\n",
            "{'我的愛_(1986年電影)', '愛', '越南', '同性', '以你的心詮釋我的愛', '電視劇', '心'} {'以你的心詮釋我的愛'}\n",
            "{'泉州市'} {'泉州市城東中學', '泉州市市長列表', '泉州市文物保護單位'}\n",
            "{'五胡十六國', '永嘉之亂', '永嘉_(消歧義)'} set()\n",
            "{'釋迦牟尼', '世界', '佛教'} set()\n",
            "{'劍橋大學', '盧卡斯', '物理學家', '盧卡斯數學教授席位', '保羅·狄拉克', '柬埔寨', '理論物理學', '劍橋'} {'保羅·狄拉克'}\n",
            "{'歐洲民族', '語言', '歐洲', '民族', '民族國家', '國家'} {'歐洲民族'}\n",
            "{'照相機', '時間', '分辨率', '數碼相機', '市場', '功能'} {'賓得士Optio系列', '數碼相機'}\n",
            "{'科隆', '天主教會'} {'世界青年日', '臺灣文化活動列表'}\n",
            "{'茴芹屬', '花', '少花茴芹', '茴芹', '植物'} {'茴芹屬', '少花茴芹', '落新婦茴芹', '木裏茴芹', '尖葉茴芹'}\n",
            "{'希臘神話', '文明', '希臘', '神話', '歐洲'} {'希臘神話生物列表', '希臘神話', '古希臘', '希臘神祇及神話人物列表'}\n",
            "{'戴安娜_(電影)', '世紀', '威爾士王妃', '戴安娜·瑞格', '戴安娜·艾嘉朗', '威爾斯王妃戴安娜'} {'戴安娜廣場', '威爾士的喬治王子', '多迪·法耶茲'}\n",
            "{'崇義郡', '中國', '南北朝', '位置'} set()\n",
            "{'肇慶市', '梅庵_(肇慶)', '博物館'} {'香港都會大學（肇慶）'}\n",
            "{'學生', '吸血鬼'} set()\n",
            "{'托馬斯', '葬禮', '作品', '潘恩', '英國', '教條', '托馬斯·潘恩', '法國'} {'潘恩', '托馬斯·潘恩'}\n",
            "{'三好市_(愛知縣)', '德島縣', '行政區劃', '西祖谷山村', '三好市'} {'東祖谷山村', '美馬郡', '西祖谷山村', '新祖谷溫泉', '三好市'}\n",
            "{'大西洋', '加布艾萊西島', '海', '蘇格蘭', '面積', '村'} {'杜布莫爾島', '加布艾萊西島'}\n",
            "{'李賦寧'} {'李賦寧', '李賦都'}\n",
            "{'軍營', '中國人民解放軍', '中國人民解放軍武漢軍區'} {'中國人民解放軍武漢軍區空軍', '中國人民解放軍湖北省軍區', '中國人民解放軍陸軍第八綜合訓練基地', '九龍東軍營', '中國人民解放軍武漢軍區'}\n",
            "{'阿曼蘇丹', '西南_(索馬里聯邦成員州)', '阿曼', '太平洋', '西亞'} {'阿曼首相', '阿曼', '阿曼蘇丹'}\n",
            "{'芝加哥', '花旗銀行', '城市', '總部', '人口'} {'花旗銀行', '花旗銀行（中國）', '花旗（臺灣）商業銀行'}\n",
            "{'奈尼塔爾', '考試院', '北阿坎德邦'} {'奈尼塔爾總督府', '丹德拉', '奈尼塔爾'}\n",
            "{'人類', '蝗蟲', '昆蟲', '木材', '農作物', '白蟻'} set()\n",
            "{'苯乙烯', '烴', '氫', '乙烯', 'Groove_(音樂)', '芳香烴', '苯', '左旋與右旋'} {'苯乙烯', '二苯乙烯酮', '二乙烯酮'}\n",
            "{'午夜巴黎', '巴黎', '起士蛋糕', '背景', '伍迪·艾倫', '艾倫', '幽靈'} {'午夜巴黎', '第64屆戛納電影節'}\n",
            "{'匈奴', '南', '政權', '劉淵', '漢趙', '南匈奴', '漢', '君主制'} {'劉淵', '南匈奴', '漢趙'}\n",
            "{'面積', '省部共建', '燕山_(消歧義)', '部', '大學', '燕山大學', '三省六部', '四川省_(中華民國)'} {'燕山大學', '燕山大學科技園', '連家創'}\n",
            "{'總統', '住宅', '憲法法院', '大韓民國'} {'韓國總統'}\n",
            "{'金朝', '姓', '漢姓', '朝廷', '漢服', '行爲', '漢', '漢化'} set()\n",
            "{'斯坦福', '小利蘭·斯坦福', '史丹佛大學', '朱棣文', '學生'} {'斯坦福醫學院', '小利蘭·斯坦福'}\n",
            "{'第一人', '本傑明·富蘭克林', '郵政', '通信系統', '鳳凰城', '富蘭克林_(維吉尼亞州)'} set()\n",
            "{'赤足', '人', '習慣', '動物', '家', '拖鞋'} {'赤足根蟎'}\n",
            "{'數學家', '學術', '維特根斯坦_(消歧義)', '奧地利', '格奧爾格·康托爾', '集合論', '德國', '哲學家'} {'格奧爾格·康托爾', '格奧爾格·康托爾獎章', '卡爾·維特根斯坦', '康托爾函數'}\n",
            "{'亞洲', '一生', '張學良', '地區'} {'張學良臺北故居'}\n",
            "{'泉州市'} {'泉州市市長列表'}\n",
            "{'錳酸鉀', '化學式', '乙醇', '水', '氧化劑', '高錳酸鉀'} {'高錳酸鈉', '錳酸鈉', '高錳酸鉀'}\n",
            "{'島嶼', '島嶼國家', '南歐', '馬耳他', '地中海', '國家'} {'南歐', '南歐黑松', '希臘王國'}\n",
            "{'反駁', '隋朝', '制度', '政策'} set()\n",
            "{'李賦寧', '祖籍'} {'李賦寧', '李賦都'}\n",
            "{'岩石', '仙人掌', '墨西哥', '墨西哥國徽', '樹枝', '國徽', '湖泊'} {'墨西哥國徽'}\n",
            "{'富士電視臺', '信道', '8頻道_(泰國)'} {'BS富士', '西日本放送電視臺', '富士電視臺動畫列表', '頻道號碼'}\n",
            "{'絕對星等', '絕對', '小行星9027', '行星', '太陽', '星等'} {'小行星7799', '小行星7672', '小行星9027', '小行星9665', '小行星9901'}\n",
            "{'暴雨', '秋紅谷廣場'} {'秋紅谷廣場'}\n",
            "{'三酸甘油酯', '喬治三世', '喬治·哈里森', '喬治·桑', '疾病'} set()\n",
            "{'人類學', '民族學', '人類', '分支'} {'民族學'}\n",
            "{'北京市', '學院'} set()\n",
            "set() {'虛擬教研中心'}\n",
            "{'臺灣總督府民政部', '臺灣總督府', '臺灣', '民政部', '總督府'} {'臺灣總督府民政部', '臺灣總督府', '臺灣總督府評議會', '民政部', '臺灣總督府總督官房'}\n",
            "{'現象', '社會現象', '液體'} {'液體'}\n",
            "{'土地', '李賢_(大學士)', '商輅', '明憲宗'} {'明憲宗'}\n",
            "{'王安石', '認識', '社會問題'} {'王安石'}\n",
            "{'臺中市', '中學', '教師', '女性', '臺中市私立曉明女子高級中學'} {'臺中市立臺中女子高級中等學校', '臺中市私立曉明女子高級中學', '祁志英', '臺中市私立明德高級中學'}\n",
            "{'爆炸', '飛機', '物體', '聲爆', '外層空間', '速度', '音障', '聲音'} set()\n",
            "{'地形', '京杭大運河', '域_(數學)', '嘉興市', '運河'} {'運河區', '京杭運河大橋'}\n",
            "{'J·R·R·托爾金', '哈比人', '克里斯托夫·托爾金', '哈比人歷險記', '哈比', '魔戒', '伊迪絲·托爾金', '前傳'} {'哈比人列表', '魔戒現身', '瑟蘭督伊', '哈比人', '樂高：哈比人歷險記'}\n",
            "{'熱帶氣旋', '世界氣象組織', '溫帶', '氣象廳_(日本)', '颱風', '氣旋', '亞熱帶', '地區', '洋流'} {'日本氣象廳命名颱風列表', '熱帶氣旋', '颱風', '南大西洋熱帶氣旋', '後熱帶氣旋'}\n",
            "{'南部', '美國南部', '本名', '休斯敦火箭', '美國'} {'休斯敦火箭', '休士頓火箭歷屆冠軍成員'}\n",
            "{'1978年', '輕工業', '現在', '北京市', '中華人民共和國紡織工業部', '1970年', '中華人民共和國', '二輕工業'} {'姜時彥', '中華人民共和國第二輕工業部', '曹魯', '中華人民共和國紡織工業部', '羅日運'}\n",
            "{'九州_(日本)', '真理', '麻原彰晃', '真理國', '九州', '日本'} {'麻原彰晃', '真理國'}\n",
            "{'殖民主義'} set()\n",
            "{'自然', '工具', '宗教', '人類', '現象', '人', '物種', '哲學'} {'人'}\n",
            "{'輻鰭魚綱', '蝴蝶魚科', '鱸形目', '太平洋', '桑吉巴蝴蝶魚'} {'鰭斑蝴蝶魚', '深水前頷蝴蝶魚', '烏頂蝴蝶魚', '領蝴蝶魚', '桑吉巴蝴蝶魚'}\n",
            "{'行政法'} {'美國聯邦行政部門', '行政法'}\n",
            "{'氣體', '物質狀態', '液體', '物質', '空氣污染', '空氣', '狀態'} {'氣體', '理想氣體狀態方程', '液體', '空氣污染', '凝結'}\n",
            "{'SETI@home', '程序'} set()\n",
            "{'命運', '神', '宇宙', '羅馬', '女神', '羅馬女神', '彌涅耳瓦', '哲學家'} {'彌涅耳瓦'}\n",
            "{'公案小說', '大理寺', '唐朝', '宰相', '武周', '狄仁傑', '公案_(消歧義)', '中國'} {'神探狄仁傑第二部', '狄仁傑'}\n",
            "{'魏', '三國', '曹魏', '政權', '北', '曹', '領土', '人口'} {'曹魏', '何祗', '三國殺Online'}\n",
            "{'原材料', '醋', '釀造醋'} {'釀造醋'}\n",
            "{'節', '海', '田橫', '祭海節', '即墨區'} {'即墨城牆', '田橫五百義士冢', '即墨縣', '即墨區'}\n",
            "{'伍迪·艾倫', '喜劇中心', '艾倫', '2004年'} {'伍迪·艾倫', '六場危事'}\n",
            "{'魚', '存活率', '獵物', '目', '鯡形目', '大魚_(歌曲)'} set()\n",
            "{'漢科科柳山', '安地斯山脈', '玻利維亞'} {'皮爾瓦尼山', '漢科科柳山'}\n",
            "{'熱帶氣旋', '世界氣象組織', '氣象廳_(日本)', '颱風', '氣旋', '亞熱帶', '日本', '地區', '洋流'} {'日本氣象廳命名颱風列表', '熱帶氣旋', '颱風', '南大西洋熱帶氣旋', '後熱帶氣旋'}\n",
            "{'分類學', '族_(化學)', '牛亞科', '生物分類學', '親屬', '科_(生物)', '動物', '族'} {'牛亞科'}\n",
            "{'神經質', '煩躁', '情緒', '伍迪·艾倫', '艾倫'} {'煩躁', '煩惱'}\n",
            "{'螢光燈', '汞', '電流', '電', '可見光', '波長', '燈', '電磁波'} set()\n",
            "{'華南師範大學', '名稱', '現在', '1982年', '學院', '1977年'} {'華南師範大學附屬中學', '華南師範大學'}\n",
            "{'晚上', '時間', '新聞聯播', '北京市', '北京時間'} {'全國新聞聯播', '新聞聯播', '香港十年', '家文看北京', '新聞聯播天氣預報'}\n",
            "{'生物分類學', '屬', '分類學'} set()\n",
            "{'康沃爾冰川', '今天'} {'迪圖瓦冰原島峯', '康沃爾冰川', '麥克貝恩山', '康沃爾峯', '福派峯'}\n",
            "{'魚', '毒魚豆', '西'} {'毒魚豆'}\n",
            "{'總統', '蓋茲堡演說', '林肯_(消歧義)', '亞伯拉罕·林肯', '美國總統', '美國'} {'羅伯特·託德·林肯', '蓋茲堡演說', '林肯遇刺案', '亞伯拉罕·林肯', '華盛頓生日'}\n",
            "{'中央民族大學', '張京澤', '黨委書記', '書記', '中國'} {'張京澤'}\n",
            "{'排水', '地形', '佈局_(圍棋)', '張谷英村', '語氣', '張谷英', '中國'} {'張谷英村', '張谷英'}\n",
            "{'高級中學', '臺北市', '臺北市私立道明外僑學校'} {'臺北市私立道明外僑學校', '臺北市私立東山高級中學'}\n",
            "{'鎖麟囊', '上海市'} set()\n",
            "{'查理·曼紐爾', '身材矮小症', '矮子丕平', '丕平·卡洛曼', '查理曼'} {'矮子丕平', '嘉當子代數'}\n",
            "{'透明', '肢', '內臟', '神農'} set()\n",
            "{'希臘神話', '名稱', '希臘', '神話', '學術領域大綱', '木衛三'} {'天體粒子物理學', '天文學家', '希臘神話生物列表'}\n",
            "{'數據', '氏', '傳說', '神農'} {'稷', '神農'}\n",
            "{'政治人物', '保守主義', '斯科特·布赫茲', '澳大利亞', '政黨'} set()\n",
            "{'進士', '嘉興市', '江蘇省_(中華民國)', '沈鈞儒', '祖籍', '江蘇省'} {'沈鈞儒', '鄭敦謹', '莊心庠'}\n",
            "{'悖論', '法律邏輯學', '邏輯'} set()\n",
            "{'金雞獎最佳男主角', '香港', '黃秋生', '主人公', '金雞獎', '演員', '最佳男主角'} {'金雞獎最佳音樂'}\n",
            "{'文學', '古諾斯語', '冰島', '維京人', '維京時代', '古代文學', '語言', '冰島語', '時代'} {'古諾斯語', '冰島語'}\n",
            "{'政府', '亞當·斯密', '資本主義政治經濟學', '市場', '資本主義', '功能', '政治經濟學', '國富論', '代表作'} {'資本主義政治經濟學'}\n",
            "{'隼科', '科', '隼', '性', '猛禽', '虛幻_(電視劇)'} {'隼形目', '猛禽'}\n",
            "{'粗糙擬迷孔菌', '菌'} {'粗糙擬迷孔菌'}\n",
            "{'訊息_(蘋果)', '技術', 'SIG', 'ACM'} set()\n",
            "{'礦產資源', '六盤水市', '中國'} {'水大支線鐵路', '六盤水師範學院', '六盤水市', '六盤水站'}\n",
            "{'刺激', '性愉悅', '刺激_(心理學)', '性慾低下症'} {'性愉悅'}\n",
            "{'電腦性能', '高性能轎車', '材料', '纖維', '玻璃纖維', '複合材料'} {'陶瓷基複合材料', '樹脂基複合材料', '玻璃纖維', '複合材料', '纖維材料改性國家重點實驗室'}\n",
            "{'臺北市私立華岡藝術學校', '行政院', '張其昀', '行政院院長'} {'行政院副院長', '行政院祕書長'}\n",
            "{'思想家', '近代', '大同書', '大同', '1901年', '康有爲', '中國', '思想'} {'康有爲墓', '大同書'}\n",
            "{'輕機槍', '士兵', '通用機槍', '機槍', '自動步槍', '班_(軍事)', '步槍'} {'67式通用機槍', '輕機槍', '通用機槍', '88式通用機槍'}\n",
            "{'基督教', '猶太教與基督教', '猶太教', '新約', '聖經', '舊約聖經'} {'新約聖經', '猶太教與基督教', '聖經'}\n",
            "{'羅榮桓', '中國共產黨', '元帥', '軍銜', '中華人民共和國元帥', '中華人民共和國'} {'中華人民共和國大元帥', '羅榮桓'}\n",
            "{'制度', '後宮', '考試', '佳麗', '隋煬帝'} set()\n",
            "{'中華人民共和國地質礦產部', '1970年', '中華人民共和國'} {'中華人民共和國地質礦產部', '地質出版社', '朱訓'}\n",
            "{'若奧·米蘭達·德索薩·菲略', '胡安·米蘭達', '名稱', '米蘭達·蔻思葛芙', '米蘭達·凱爾', '天衛五', '米蘭達·蘭伯特', '米蘭達·霍布斯'} {'天衛五表面特徵列表'}\n",
            "{'臺北', '牙醫學系', '經營者', '李祖德', '臺北醫學大學'} {'李祖德'}\n",
            "{'次聲波', '波', '反射', '聲波', '海嘯', '地震波', '地震', '檢測'} {'地震波'}\n",
            "{'宋教仁', '中華民國', '軍事', '政治家', '中國國民黨'} {'潯陽街道', '宋教仁'}\n",
            "{'建築學', '賀龍', '賀龍體育文化中心', '文化中心', '灣裏_(臺南市)', '大灣'} {'賀龍體育文化中心', '賀龍事件', '天心閣', '賀捷生'}\n",
            "{'歐洲民族', '語言', '歐洲', '民族', '民族國家', '國家'} {'歐洲民族'}\n",
            "{'佛經', '發展', '印度', '佛教'} {'佛經目錄', '印度佛教', '中國佛教'}\n",
            "{'鄧小平', '王震'} {'王震起'}\n",
            "{'國', '俄羅斯', '伏爾加湖', '流域'} set()\n",
            "{'許世友', '農村'} {'許家窪', '許世友'}\n",
            "{'臺中市', '后里區', '臺中市立啓明學校', '聽覺', '臺灣', '教育', '學校', '特殊教育'} {'臺中市立啓明學校', '臺北市立啓明學校', '臺中市立後綜高級中學', '臺中市立后里國民中學', '臺中市立啓聰學校'}\n",
            "{'經營者', '北漂', '臺北醫學大學'} {'李祖德'}\n",
            "{'亞洲', '博古'} {'博古埃', '博古恰爾區'}\n",
            "{'SETI@home', '外星人', '程式', '個人電腦', '用戶_(計算機)', '家'} {'SETI@home', 'Astropulse'}\n",
            "{'小龍女', '神鵰俠侶', '楊過', '黃蓉', '神鵰俠侶_(動畫)', '三部曲', '襄陽市', '射鵰三部曲'} {'小龍女', '郭芙'}\n",
            "{'硫酸', '酸', '腐蝕性物質', '水', '強酸', '濃度'} {'硫酸'}\n",
            "{'文化', '潮州市'} {'潮州市職業技術學校', '潮州市城南中學', '潮州市文物保護單位'}\n",
            "{'維納斯', '紀念日', '羅馬'} {'迴歸紀念日'}\n",
            "{'臺北', '力', '臺北製糖所', '人力', '戰爭', '太平洋', '太平洋戰爭', '太平洋_(電視劇)'} set()\n",
            "{'黑血', '血液', '黑血_(漫畫)'} {'黑血'}\n",
            "{'象徵', '買', '臺灣', '全買', '商店', '代表', '動物'} {'全買'}\n",
            "{'溴', '藥'} {'絮凝'}\n",
            "{'意見', '身分標識方式', '網路用戶'} {'意見'}\n",
            "{'殖民主義', '領土'} set()\n",
            "{'歐洲民族', '語言', '歐洲', '民族', '民族國家', '地區'} {'歐洲民族'}\n",
            "{'教育', '文森特·梵高', '力'} set()\n",
            "{'貿易', '興盛', '粵菜', '廣東省', '移民', '菜系', '美國', '廚師'} set()\n",
            "{'演員', '謝芳', '中國'} {'謝芳'}\n",
            "{'案', '艾根訴加拿大案', '奧林·艾根', '加拿大', '行政機關', '曼弗雷德·艾根'} {'艾根訴加拿大案'}\n",
            "{'肉眼', '凸', '光學顯微鏡', '成像', '顯微鏡', '透鏡'} {'顯微鏡', '放大鏡'}\n",
            "{'太行山', '山脈', '中國', '山西省_(中華民國)', '河北省_(中華民國)'} {'太行山針藺'}\n",
            "{'斯卡帕灣', '公海艦隊自沉事件', '商船'} {'路德維希·馮·羅伊特', '公海艦隊自沉事件'}\n",
            "{'索爾·勒維特', '1927年', '諾貝爾獎', '會議', '獎勵', '布魯塞爾', '索爾維會議'} set()\n",
            "{'分類學', '牛亞科', '生物分類學', '親屬', '科_(生物)', '動物', '族'} {'牛亞科'}\n",
            "{'東南亞', '汶萊', '邦', '國家'} {'北婆羅洲聯邦'}\n",
            "{'薇拉·費茲傑羅', '了不起的蓋茨比', '弗朗西斯·斯科特·菲茨傑拉德', '大亨小傳_(2013年電影)', '喬治·費茲傑羅'} {'尼克·卡拉威', '弗朗西斯·斯科特·菲茨傑拉德'}\n",
            "{'考試', '隋煬帝', '制度', '宰相'} set()\n",
            "{'捕食', '花粉', '昆蟲', '角色'} {'昆蟲'}\n",
            "{'大五碼', '分佈式參數系統', '德拉姆上同調', 'GNU Octave', '第一屆國民大會第一次會議', '可解羣', '開放街圖', '外爾特徵標公式', 'Mozilla Thunderbird', '秦煌'} set()\n",
            "{'蘋果_(消歧義)', '組合', '蘋果公司', '個人電腦', '集成電路', '電路板'} {'電路板'}\n",
            "{'臺灣', '臺灣總督', '天皇', '日治時期', '總督'} {'臺灣總督府'}\n",
            "{'科學革命的結構', '托馬斯·庫恩', '科學史', '領域'} {'科學史學會', '科學革命的結構', '托馬斯·庫恩'}\n",
            "{'列昂尼德·勃列日涅夫', '蘇聯', '政權', '勃列日涅夫_(消歧義)'} {'列昂尼德·勃列日涅夫遇刺案', '安德烈·尤里耶維奇·勃列日涅夫', '列昂尼德·勃列日涅夫所獲獎項列表'}\n",
            "{'蒲公英', '分裂_(生物學)', '配子', '個體'} set()\n",
            "{'小米', '鐵器時代'} {'小米'}\n",
            "{'雙性戀', '香港', '模特兒', '馬詩慧'} {'雙性戀擦除', '同性戀與雙性戀者列表：Bi–Bz', '雙性戀自豪日', '安琪拉·琳德沃'}\n",
            "{'人口', '九江市'} {'斯哈亨'}\n",
            "{'古法語', '獅', '法語', '英國', '紋章', '獨角獸', '英國皇家徽章'} {'蘇格蘭皇家徽章', '英國皇家徽章'}\n",
            "{'日本', '相關性', '竹內瑪莉亞', '演藝界'} {'不思議的桃子派', '山下達郎', '純愛狂詩曲'}\n",
            "{'研究', '進步_(雜誌)', '力學', '經典力學'} {'經典物理術語', '分析力學', '拉格朗日力學', '經典力學'}\n",
            "{'世紀', '組別_(體育)', '2004年', '維基百科', '21世紀', '電子藝術大獎'} {'電子藝術大獎'}\n",
            "{'希臘神話', '證明', '希臘', '神話', '神', '故事', '藝術品', '考古學'} {'希臘神話'}\n",
            "{'肉食性動物', '鳥', '隼科', '科', '隼', '性', '動物', '猛禽'} {'隼形目', '隼科'}\n",
            "{'避病院', '臺南市', '臺南避病院', '醫院', '法定傳染病'} {'臺南避病院'}\n",
            "{'母親', '河', '太原市', '水源', '上游', '中國人', '汾河'} {'汾河鎮', '汾河水庫', '汾河站', '汾河街道', '汾河公園'}\n",
            "{'藤子·F·不二雄', '血型', '奇天烈大百科', '哆啦A夢', '本名', '德國', '漫畫家'} {'藤子·F·不二雄', '藤子不二雄', '奇天烈大百科', '藤子不二雄Ⓐ', '藤子·F·不二雄創作'}\n",
            "{'電子科技大學'} set()\n",
            "{'宗教', '宗教哲學', '哲學', '學術'} {'宗教哲學', '宗教信仰哲學'}\n",
            "{'總統', '美國總統', '美國', '威廉·亨利·哈里森'} {'威廉·亨利·哈里森', '任內逝世的美國總統', '美國總統列表', '1840年美國總統選舉', '安娜·哈里遜'}\n",
            "{'盧卡斯·迪奧多斯基', '波蘭'} {'盧卡斯·迪奧多斯基'}\n",
            "{'葡萄', '果實'} {'山葡萄', '葡萄科'}\n",
            "{'肖恩·約翰遜', '林登·約翰遜', '鮑里斯·約翰遜', '克里斯·約翰遜', '塞繆爾·約翰遜', '斯蒂夫·約翰遜'} {'2020年美國總統特朗普支持率列表'}\n",
            "{'單片機', '微型計算機'} {'單片機'}\n",
            "{'動作漫畫', '超人'} {'動作漫畫'}\n",
            "{'字', '複數', '圖示_(範疇論)', '分鐘', 'Min'} {'MIN·MIN·MIN', '分鐘', 'Min'}\n",
            "{'文字', '拼音文字', '日耳曼語族', '俄羅斯', '楚瓦什人', '少數民族'} {'楚瓦什人'}\n",
            "{'文學', '藝術類型', '世紀', '奧地利', '作品', '北歐', '藝術', '20世紀', '表現主義'} {'表現主義', '表現主義文學', '那比派'}\n",
            "{'摧毀者', '命運', '宇宙', '羅馬', '女神', '羅馬女神', '彌涅耳瓦'} {'彌涅耳瓦', '阿皮亞斯'}\n",
            "{'園林設計', '園林', '價值觀'} {'園林設計'}\n",
            "{'蒙哥馬利·史考特', '史考特·朗恩', '麥可·史考特', '史考特·詹森', '歐洲', '史考特·普魯特', '克莉斯汀·史考特·湯瑪斯', '西恩·威廉·史考特', '洲', '雷利·史考特'} set()\n",
            "{'豫劇'} {'豫劇'}\n",
            "{'歐洲民族', '語言', '歐洲', '民族', '民族國家', '地區'} {'歐洲民族'}\n",
            "{'甘尼夫卡_(布利茲紐基區)', '布利茲紐基', '布利茲紐基區'} {'甘諾-魯達埃韋', '布利茲紐基', '布利茲紐基區'}\n",
            "{'制度', '政策', '官僚', '考試', '隋煬帝'} set()\n",
            "{'鄧小平', '理論', '社會主義', '中國共產黨', '鄧小平理論', '中國', '社會主義初級階段'} {'一箇中心、兩個基本點', '鄧小平理論', '社會主義初級階段'}\n",
            "{'木衛四', '衛', '海', '木材', '處_(佛教)', '木星的衛星', '地表'} {'木衛四表面特徵列表'}\n",
            "{'中正區_(臺北市)', '臺北市', '臺南市', '臺北市客家文化主題公園'} {'臺北市客家文化主題公園', '桃園市客家文化館'}\n",
            "{'全球', '醫療疏失', '死亡', '2013年'} {'醫療疏失'}\n",
            "{'弗朗西斯·科波拉', '美國風情畫'} {'美國風情畫', '李察·德雷福斯'}\n",
            "{'語言', '諾維亞語'} {'諾維亞語'}\n",
            "{'威尼斯', '電影節', '金獅獎', '侯孝賢', '電影'} {'第15屆威尼斯影展', '威尼斯影展評審團大獎', '金獅獎'}\n",
            "{'總統', '醜聞', '伊拉克', '美國總統', '戰爭', '伊拉克戰爭', '美國'} {'伊拉克軍事', '伊拉克空軍', '伊拉克戰爭列表', '伊拉克戰爭'}\n",
            "{'樞要寶石', '鑽石', '物質', '硬度', '今天', '藍絲黛爾石'} {'鑽石', '樞要寶石', '藍絲黛爾石'}\n",
            "{'克氏無齒翎電鰻', '美洲', '電鰻'} {'克氏無齒翎電鰻', '委內瑞拉短身電鰻'}\n",
            "{'桃園市', '中華民國', '南部', '楊梅_(大字)', '楊梅區'} {'桃園市立楊梅高級中等學校', '楊梅區', '桃園市立楊梅國民中學'}\n",
            "{'環', '汽車品牌列表', '奧迪'} {'茨維考', '奧迪', '奧迪A3'}\n",
            "{'艾伯特·吉奧索', '鐒', '名稱'} set()\n",
            "{'民進', '黨', '民主進步黨', '謝長廷'} {'謝長廷'}\n",
            "{'雷神', '雷神_(電影)', '費爾南多·索爾', '索爾', '神', '索爾_(漫威漫畫)', '安全', '國家'} {'索爾'}\n",
            "{'塘湖站', '鐵路車站', '濟寧市', '郵政編碼'} {'塘湖站', '新加坡郵政編碼'}\n",
            "{'黛安娜', '父親', '第八代史賓賽伯爵約翰·史賓賽', '第七代史賓賽伯爵阿爾伯特·史賓賽', '第四代史賓賽伯爵腓特烈·史賓賽', '第二代史賓賽伯爵喬治·史賓賽', '第九代史賓賽伯爵查爾斯·史賓賽', '威爾斯王妃戴安娜'} {'威爾斯王妃戴安娜'}\n",
            "{'北', '法院', '奈尼塔爾', '北阿坎德邦'} {'奈尼塔爾總督府', '奈尼塔爾'}\n",
            "{'高等教育', '張其昀', '司', '臺北市私立華岡藝術學校', '教育'} set()\n",
            "{'軟件', '方法', '軟件測試'} {'黑盒測試', '軟件工程', '軟件測試模型', '自動化測試', '探索性測試'}\n",
            "{'琅琊', '東晉', '字', '君主', '琅邪王', '晉元帝'} {'五馬渡江'}\n",
            "{'韓式泡菜', '卡路里', '世界', '泡菜', '法', '問題', '健康', '醃'} {'韓式泡菜', '飯饌', '洪魚膾', '蘿蔔泡菜', '高麗胡蘿蔔菜'}\n",
            "{'司馬光', '通史', '司馬孚', '西晉', '紀傳體'} {'司馬光', '司馬瓌', '司馬顒'}\n",
            "{'樂山大佛', '大佛', '90年'} {'樂山大佛'}\n",
            "{'人類', '附果', '果', '草莓', '物', '果實'} {'草莓屬', '草莓'}\n",
            "{'希臘', '古代史', '古希臘哲學', '斯多葛主義', '古希臘', '哲學'} {'第歐根尼', '京都學派', '新柏拉圖主義', '永嘉學派', '古希臘哲學'}\n",
            "{'臺灣', '經營者', '臺北醫學大學'} {'李祖德'}\n",
            "{'球', '羅盤方位'} set()\n",
            "{'忽必烈', '武宗', '元武宗', '真金', '妃', '曲樞', '元朝', '部長'} {'曲樞'}\n",
            "{'水力帝國', '帝國', '人口自然增長率', '貨幣', '人口'} {'水力帝國'}\n",
            "{'歌手', '女性', '竹內瑪莉亞', '山下達郎', '歌手·當打之年', '創作歌手', '日本'} {'鈕大可', '一直在一起吧', '竹內瑪莉亞', '我們的夏日夢', '山下達郎'}\n",
            "{'紅軍', '許世友', '派系'} {'許家窪', '許世友反革命集團案'}\n",
            "{'萬華區', '臺北市', '臺北市萬華區老松國民小學', '建築學'} {'臺北市萬華區新和國民小學', '臺北市立龍山國民中學', '臺北市萬華區雙園國民小學', '臺北市萬華區老松國民小學', '臺北市萬華區大理國民小學'}\n",
            "{'國', '一邊一國', '中國'} {'一邊一國'}\n",
            "{'吸血鬼', '文化大革命', '處_(佛教)', '定居', '親屬'} set()\n",
            "{'臺北', '臺北市立聯合醫院', '新北市政府', '妻子', '院長', '聯合醫院', '醫院', '新北市'} {'臺北市立聯合醫院', '臺北市政府衛生局', '臺南市政府衛生局', '聯合醫院', '臺北市立萬芳醫院'}\n",
            "{'馮端', '晶體', '中國人', '中國'} {'離子晶體', '晶體結構'}\n",
            "{'鳥', '人類', '雞', '馴化', '飛行'} {'鵝', '鳥飛', '雞'}\n",
            "{'自由', '戒嚴', '報紙', '中華民國'} {'香港報紙列表', '香港言論自由', '澳門報紙列表'}\n",
            "{'差異_(哲學)', '雉雞', '馴化', '羽毛'} {'雉雞'}\n",
            "{'臺灣', '臺灣總督', '天皇', '日治時期', '總督', '草根'} {'臺灣總督府'}\n",
            "{'臺灣', '蔡英文', '臺灣民衆黨', '朱立倫', '民衆黨'} {'2019年堺市長選舉', '臺灣民衆黨參政選舉列表', '臺灣民衆黨', '朱立倫市府'}\n",
            "{'問題', '微積分學', '微分方程', '地方'} {'微積分學主題列表', '全微分方程', '伯努利微分方程', '多元微積分', '微積分學'}\n",
            "{'巴哈歐拉', '以色列'} {'巴哈歐拉陵寢', '以色列國防部'}\n",
            "{'犯罪', '行憲', '行憲紀念日', '監獄'} {'行憲紀念日', '先總統蔣公誕辰紀念日', '中華民國節日與歲時列表'}\n",
            "{'鹼石灰', '氧化鈉', '溶液', '氫氧化鈉'} {'鹼石灰', '亞當斯脫羧反應', '拜耳法'}\n",
            "{'雨', '北马里亞納羣島', '氣候', '面積'} {'熱帶海洋性氣候', '密克羅尼西亞運動會', '卡皮托爾希爾', '.mp'}\n",
            "{'中央銀行', '經濟'} set()\n",
            "{'英國手語', '手語', '1940年代', '英國', '學校', '年代'} {'愛爾蘭手語', '香港手語', '手語翻譯', '英國手語', '英澳新手語'}\n",
            "{'電荷', '夸克'} {'夸克禁閉', '粲夸克', '下夸克', '上夸克', '頂夸克'}\n",
            "{'大足', '大足石刻', '中國'} {'大足石刻', '大足'}\n",
            "{'香港', '香港電臺', '編劇', '陳韻文', '音樂節目', '今天'} {'香港商業電臺節目列表', '陳韻文'}\n",
            "{'現在', '目標', '國際LGBTI聯合會'} set()\n",
            "{'爬行動物', '環境', '動物'} {'日本爬行動物列表'}\n",
            "{'音樂產業', '竹內瑪莉亞'} set()\n",
            "{'中國', '政治家', '1957年', '體育運動', '章伯鈞'} {'汪先烺', '馬瑞辰', '張聰賢', '章伯鈞'}\n",
            "{'魚', '類', '骨鰾類', '淡水魚', '世界'} {'骨鰾類'}\n",
            "{'陶瓷', '電子陶瓷', '材料', '電荷', '電話'} {'陶瓷基複合材料', '陶瓷', '電子陶瓷', '介電陶瓷'}\n",
            "{'冰島', '首都', '國內', '城市', '世界'} {'中國首都', '首都足球會', '冰島國立博物館', '多首都國家', '冰島歷史'}\n",
            "{'鐵路車站', '汝州站', '河南省'} {'汝州站'}\n",
            "{'臺灣氣候', '熱帶季風氣候', '臺灣', '季風', '熱帶', '氣候', '副熱帶季風氣候'} {'臺灣氣候', '溫帶季風氣候', '季風', '西南季風', '副熱帶季風氣候'}\n",
            "{'江都區', '618年', '舉事', '楊素', '618', '隋煬帝'} {'江都路街道'}\n",
            "{'歌手', '香港歌手列表', '香港', '周慧敏·最愛V25', '周慧敏·新曲+精選', '歌手·當打之年', '方文琳', '周慧敏'} {'周慧敏音樂作品列表', '沈雁', '失物招領：周慧敏精選', '周慧敏'}\n",
            "{'密西根大學', '美國'} {'密歇根大學法學院', '密西根體育場', '密西根大學羅斯商學院', '密西根大學狼獾隊'}\n",
            "{'東晉', '朝代', '北', '六朝', '戰爭', '琅邪王', '琅琊'} {'六朝'}\n",
            "{'劇場藝術', '黑色電影', '美國', '先驅', '化石森林', '電影', '美國電影'} {'罪惡鎖鏈', '偉大的奧馬利', '直搗黃龍', '賊中之王', '化石森林'}\n",
            "{'香港', '全國人民代表大會', '葉國華', '全國人民代表大會代表', '人民代表大會', '國', '主席', '葉國華_(香港政治人物)'} {'葉國華', '第十三屆全國人民代表大會第三次會議', '中華人民共和國香港特別行政區第十二屆全國人民代表大會代表選舉', '香港特別行政區全國人民代表大會代表'}\n",
            "{'世界遺產', '運河', '大運河', '京杭大運河'} {'浙東運河', '京杭大運河', '大運河', '大運河站', '京杭運河大橋'}\n",
            "{'人權', '國際LGBTI聯合會', '身體', '行爲', '美國人', '性別特徵'} set()\n",
            "{'小龍女', '江南', '楊過'} {'小龍女'}\n",
            "{'ATP', '德意志裔人', '今天'} {'阿爾伯特·蒙塔涅斯', '菲利普·科爾施賴伯', '托馬斯·穆斯特', '馬克·吉克爾', '保羅-亨利·馬蒂厄'}\n",
            "{'獅', '文字', '英國', '紋章', '獨角獸', '英國皇家徽章'} {'蘇格蘭皇家徽章'}\n",
            "{'西裏爾字母', '人種', '文字', '楚瓦什共和國', '俄羅斯', '楚瓦什人', '斯拉夫人', '少數民族', '字母'} {'楚瓦什人'}\n",
            "{'馬克思主義', '馬克思·多爾穆瓦站', '格魯喬·馬克思', '卡爾·馬克思', '馬克思主義政治經濟學', '資本論', '政治經濟學', '海因裏希·馬克思'} {'馬克思主義政治經濟學', '資本論', '河上肇', '女人資本論'}\n",
            "{'臺北101', '唐朝'} set()\n",
            "{'晶體', '化合價', '硫'} {'硫', '金化合物'}\n",
            "{'離子', '睡眠', '代謝途徑', '能量', '代謝'} {'同化作用', '慢波睡眠', '嘌呤代謝'}\n",
            "{'赤足', '習慣', '家', '鞋'} {'赤足廣場', '鞋帶', '赤足根蟎'}\n",
            "{'國際勞動節', '芝加哥', '工人', '警察', '乾草市場', '勞動節'} {'乾草市場站'}\n",
            "{'麻婆豆腐', '鷹嘴豆', '豆腐', '豆製品', '麻', '原材料', '豆瓣醬'} {'麻婆豆腐'}\n",
            "{'土庫曼斯坦', '歧義', '加盟共和國', '蘇聯'} {'蘇維埃社會主義自治共和國', '蘇聯加盟共和國', '土庫曼蘇維埃社會主義共和國', '加盟共和國'}\n",
            "{'事件', '抄襲'} {'高雄捷運路線圖抄襲事件', '文章相似度檢測', '人2', '獨創性', '西南交大副校長黃慶博士論文抄襲事件'}\n",
            "{'新西蘭', '首都', '博物館', '惠靈頓', '世界'} {'紐西蘭國立博物館', '惠靈頓'}\n",
            "{'自然', '宗教', '現象', '人類', '好奇', '人', '草地', '金屬', '哲學'} {'人'}\n",
            "{'醫生', '經營者', '臺北市', '臺北醫學大學'} {'李祖德'}\n",
            "{'曼哈頓', '泰坦尼克號', '首飛'} {'南非航空航點', '鐵達尼號船員列表', '突尼斯航空航點'}\n",
            "{'香港', '男女', '銀色·性·男女', '聖保羅書院', '學校'} {'史超域'}\n",
            "{'童話', '短篇小說', 'Fairytale_(Kalafina歌曲)', 'Fairytale', 'FAIRYTALE', '西方', '小說', '文類'} {'童話'}\n",
            "{'色', '毛主席語錄', '波長', '小紅書', '書包', '紅色', '圖書'} {'小紅書', '毛主席語錄'}\n",
            "{'藝術品', '白髮', '飄然臺', '黃初平'} {'飄然臺'}\n",
            "{'高宗', '宋神宗', '兒子', '宋高宗', '南宋', '北宋', '皇帝', '宋朝'} {'宋神宗', '宋高宗', '懿靜貴妃', '宋朝君主列表'}\n",
            "{'元首_(納粹德國)', '中華民國', '蔡英文', '東亞', '1996年'} {'1996年中華民國總統選舉', '2020年中華民國總統選舉'}\n",
            "{'水木', '水木清華BBS', 'BBS', '清華大學', '教育', '中國'} {'水木', '水木清華BBS', '芙蓉姐姐', '天津大學BBS', '西交兵馬俑BBS'}\n",
            "{'漫畫', '天武天皇', '神話', '日本神話', '天皇', '日本', '民俗', '態度'} {'日本神話'}\n",
            "{'第一人', '郵政', '公路', '本傑明·富蘭克林', '高速公路', '系統', '費城', '富蘭克林_(維吉尼亞州)'} set()\n",
            "{'臺北', '臺北101', '90年'} {'90年代', '前90年代'}\n",
            "{'印象主義音樂', '世紀', '印象派', '法國', '年代'} {'印象主義音樂'}\n",
            "{'蜀漢', '關羽', '馬超', '三國', '張飛', '武將', '黃忠', '三國演義'} {'馬超', '趙雲', '張飛', '五虎將', '黃忠'}\n",
            "{'馴化', '雉科', '人類', '雞'} {'雞'}\n",
            "{'達爾·斯蒂芬斯', '餐廳', '沃斯科縣', '選民', '參選人', '組織_(生物學)', '1984年羅傑尼希教生物恐怖攻擊', '奧修'} {'1984年羅傑尼希教生物恐怖攻擊', '羅傑尼希社區'}\n",
            "{'恐慌', '一起_(政黨聯盟)', '吸血', '生物', '吸血鬼', '卟啉', '過去', '紫質症'} {'吸血毯', '吸血鬼', '吸血'}\n",
            "{'臺北', '臺北市_(省轄市)', '臺北市議會', '新黨', '清潔工人'} set()\n",
            "{'卡拉卡爾帕克人', '卡拉卡爾帕克斯坦共和國', '斯坦', '突厥', '突厥語族', '本地人'} {'穆薩·葉爾尼亞佐夫', '卡拉卡爾帕克斯坦共和國', '卡拉卡爾帕克語', '卡拉卡爾帕克蘇維埃社會主義自治共和國', '木伊那克'}\n",
            "{'祕魯', '城市', '胡利亞卡'} {'胡利亞卡'}\n",
            "{'國際標準化組織', '歐洲', '信念', '歐洲中心主義', '度_(角)', '主義', '世界'} {'歐洲中心主義'}\n",
            "{'徐有庠', '遠東集團', '遠東集團_(臺灣)', '學校', '組織創始人'} {'徐有庠', '徐旭東', '遠東集團'}\n",
            "{'汞', '電流', '紫外線', '電', '波長', '燈', '短波', '螢光燈'} set()\n",
            "{'物理學家', '女王', '美國物理學會', '吳健雄', '核子', '女性', '美國'} {'小行星2752', '沈呂九', '吳健雄', '葉軍', '小行星77318'}\n",
            "{'隕石', '量_(物理)', '面_(幾何)', '天衛三', '天衛四', '撞擊坑'} set()\n",
            "{'雕塑家', '本名', '藤子·F·不二雄', '奇天烈大百科', '哆啦A夢', '日本'} {'藤子·F·不二雄', '藤子不二雄', '奇天烈大百科', '藤子不二雄Ⓐ', '藤子·F·不二雄創作'}\n",
            "{'藥理學', '藥物', '精神狀態', '化學', '疾病', '精神', '化學物質', '身體質量指數'} {'藥物'}\n",
            "{'刺激_(心理學)', '刺激', '性愉悅', '性高潮'} {'強制性高潮', '刺激', '性愉悅', '性高潮障礙'}\n",
            "{'理論物理學', '光速', '速度', '宇宙'} {'超光速運動', '光速', '超光速', '光速可變理論'}\n",
            "{'北京理工大學'} {'瀋陽市科研機構列表', '華北理工大學'}\n",
            "{'宦官', '血親', '王室', '過去'} set()\n",
            "{'歌手', '大韓民國', '黃子韜', '歌手·當打之年', '中國'} set()\n",
            "{'夏季', '立夏'} set()\n",
            "{'羅馬化', '文字', '知識', '閩南語', '閩南語維基百科', '白話', 'WMF', '白話字'} {'白話字', '閩南語維基百科', 'WMF'}\n",
            "{'鳥', '鸚形目', '綠色', '冠蕉鵑', '蕉鵑', '色素'} {'冠蕉鵑', '白梢冠蕉鵑', '膽綠素'}\n",
            "{'古典芭蕾', '古典', '芭蕾舞'} {'俄派芭蕾', '現代芭蕾舞', '2013年夏季世界大學運動會水上芭蕾比賽'}\n",
            "{'中國共產黨', '韓正', '政治局', '中國共產黨中央政治局'} {'韓正', '中國共產黨中央政治局常務委員會'}\n",
            "{'穆罕默德', '穆罕默德·本·沙特', '穆罕默德·本·薩勒曼', '伊斯蘭教', '古蘭經', '穆罕默德·阿里帕夏', '阿米納·J·穆罕默德'} {'多哥伊斯蘭教', '薩哈巴', '蒙古國伊斯蘭教', '古蘭經', '伊斯蘭教的先知'}\n",
            "{'後衛', '位置', '捷克國家足球隊', '場', '盧卡斯·赫賈'} {'帕維爾·切爾尼', '帕維爾·霍瓦特', '伊萬·哈謝克', '捷克國家五人制足球隊', '盧卡斯·赫賈'}\n",
            "{'材料', '陶瓷', '電導體'} {'陶瓷基複合材料', '陶瓷', '二氧化鋯', '電導體', '擊穿電壓'}\n",
            "{'動作漫畫', '超人'} {'動作漫畫', '超人'}\n",
            "{'工程', '基因工程', '生物', '基因', '生物技術', '細胞'} {'基因污染', '遺傳修飾生物體', '基因工程'}\n",
            "{'蛋白質', '名詞'} {'蛋白質組'}\n",
            "{'亞洲', '特別攻擊隊', '資源_(計算機科學)', '跟蹤支援隊', '力_(佛教)', '同盟國_(第二次世界大戰)'} set()\n",
            "{'漢初三傑', '漢', '漢朝'} set()\n",
            "{'教會', '基督徒', '禮拜'} {'天主教禮儀', '個別教會', '禮拜站', '教會', '基督徒會堂'}\n",
            "{'卡呂普索', '王', '遺蹟化石'} set()\n",
            "{'克洛里斯', '雨果·洛里斯', '神', '老公', '洛里斯_(沃克呂茲省)'} {'西風翠灰蝶', '國民老公'}\n",
            "{'失樂園'} {'青春失樂園'}\n",
            "{'質量', '衛星', '太陽系', '行星', '海衛十'} {'冰巨行星'}\n",
            "{'海星', '口腔', '礦物', '食物', '胃', 'In_vitro'} {'海星', '海星街道', '十字海星'}\n",
            "{'地方法院', '奈尼塔爾', '北阿坎德邦'} {'丹德拉', '臺灣台北地方法院', '北阿坎德邦行政區劃', '臺灣高雄地方法院', '奈尼塔爾'}\n",
            "{'奴隸制度', '世僕', '社會', '科舉', '日本', '封建', '身分標識方式', '封建社會'} {'世僕'}\n",
            "{'行政區劃', '全州', '大韓民國', '全羅北道', '中部', '道_(行政區劃)', '首府'} {'全州', '全羅北道', '全州市', '全北日報', '全州神社'}\n",
            "{'魂斷藍橋', '藍橋', '橋'} {'魂斷藍橋', '藍橋'}\n",
            "{'馬龍·白蘭度', '演員', '美國電影學會', '馬龍·馬利奧·白蘭度·達·施維拉'} {'AFI百年百大電影', 'AFI百年百大愛情電影', 'AFI百年百大驚悚電影', 'AFI百年系列', 'AFI百年百大電影歌曲'}\n",
            "{'香港', '美國人', '劇集', '香港劇集', '世界'} set()\n",
            "{'三角函數', '三角', '三角學'} {'三角函數精確值', '三角恆等式', '反三角函數', '三角函數積分表', '三角'}\n",
            "{'漢語', '華人地區', '華人', '袖章', '黑紗'} {'袖章', '黑紗'}\n",
            "{'發言人', '蔡英文', '民進黨_(日本)', '民主進步黨', '民進'} set()\n",
            "{'船', '東海', '臺灣', '波濤', '漁民', '南小島'} {'橄欖門', '南小島', '北小島'}\n",
            "{'羅盤方位', '宋朝', '宋', '絲綢之路'} {'絲綢之路巡禮名曲集', '兩浙東路', '兩浙西路', '絲綢之路'}\n",
            "{'校長', '周', '聖保羅書院', '學生', '學校', '源迪恩'} {'源迪恩', '聖保羅書院'}\n",
            "{'中部大學_(日本)', '中學', '中部大學', '愛知縣'} {'中部大學女子短期大學', '愛知大學', '中部學院大學短期大學部', '愛知縣', '南山大學'}\n",
            "{'人類', '科', '雞', '馴化', '雉科', '飛行'} {'雞'}\n",
            "{'劍橋大學', '劍橋', '學院'} {'劍橋大學', '劍橋大學基督聖體學院', '劍橋大學國王學院', '劍橋大學出版社', '香港大學附屬學院'}\n",
            "{'臺灣', '民意代表', '代表'} {'萬年國會'}\n",
            "{'洪水', '暴雨', '功能', '秋紅谷廣場'} {'秋紅谷廣場'}\n",
            "{'護照', '旅行證件'} {'中華人民共和國澳門特別行政區旅行證', '葡萄牙護照', '中華人民共和國旅行證', '護照', '旅行證件'}\n",
            "{'加利福尼亞大學', '加利福尼亞大學洛杉磯分校', '蘇菲亞·柯波拉', '成人電影'} {'加州州立大學洛杉磯分校', '海港–加州大學洛杉磯分校醫學中心', '加州州立大學洛杉磯分校站', '加州大學洛杉磯分校棕熊隊'}\n",
            "{'人物', '獎勵', '領域', '獎盃'} set()\n",
            "{'城市規劃'} {'南京大學城市規劃與設計系'}\n",
            "{'剛果民主共和國', '道路'} {'剛果民主共和國華人', '剛果民主共和國', '老楞佐·蒙森沃·帕辛亞', '開賽河', '剛果奧林匹克委員會'}\n",
            "{'經營者', '北漂', '臺北醫學大學'} {'李祖德'}\n",
            "{'馬龍·白蘭度', '美國', '超人', '工作', '演員', '馬龍', '電影', '美國電影'} {'馬龍·白蘭度'}\n",
            "{'希臘神話', '希臘', '神話', '宇宙', '朱庇特', '天神', '古希臘'} {'天神町', '朱庇特'}\n",
            "{'徐志摩', '經濟學', '家庭', '志摩'} {'徐志摩', '徐志摩墓'}\n",
            "{'馬龍·白蘭度', '美國', '超人', '收入', '演員', '馬龍', '電影', '美國電影'} {'馬龍·白蘭度'}\n",
            "{'藝術家', '世紀', '現代藝術', '藝術', '20世紀', '巴勃羅·畢卡索', '畫家', '人物'} {'弗洛裏安·畢卡索', '卡洛斯·卡薩吉瑪斯', '博比尼-巴勃羅·畢卡索站', '巴勃羅·畢卡索'}\n",
            "{'自由', '戒嚴', '報紙', '中華民國'} {'報紙', '香港報紙列表', '澳門報紙列表'}\n",
            "{'汞', '材料', '可見光', '合金', '汞齊', '牙齒', '銀'} {'汞'}\n",
            "{'亞洲', '機場', '小時', '全球', '24小時', '香港國際機場'} {'啓德機場', '香港國際機場'}\n",
            "{'演員', '香港', '黃秋生'} set()\n",
            "{'女性', '職業'} set()\n",
            "{'環氧乙烷', '殺菌劑', '人體', '殺菌'} {'環氧化合物', '環氧乙烷', '環硫乙烷', '苯基環氧乙烷'}\n",
            "{'馬龍·白蘭度', '演員', '馬龍·馬利奧·白蘭度·達·施維拉'} {'AFI百年百大電影', 'AFI百年百大愛情電影', 'AFI百年百大驚悚電影', 'AFI百年百大電影歌曲', 'AFI百年百大勵志電影'}\n",
            "{'南北朝時代_(日本)', '宋武帝', '東晉', '南北朝_(消歧義)'} set()\n",
            "{'臺灣', '臺灣縣', '明治', '兒玉利國', '首長'} set()\n",
            "{'榴彈炮', '炮兵'} {'M-68榴彈炮', 'M101榴彈炮', '榴彈炮', '280毫米榴彈炮'}\n",
            "{'漢', '侍', '漢賦', '天文學', '西鄂縣', '南陽郡', '賦', '張衡'} {'二京賦', '張衡'}\n",
            "{'羅斯福', '政策', '法案', '資源', '西奧多·羅斯福'} {'老西奧多·羅斯福', '西奧多·羅斯福', '西奧多·羅斯福三世', '西奧多·羅斯福第二次總統就職典禮'}\n",
            "{'電荷', '電', '夸克'} {'夸克禁閉', '粲夸克', '下夸克', '上夸克', '頂夸克'}\n",
            "{'藤子·F·不二雄', '雄性', '筆名'} {'藤子·F·不二雄', '藤子不二雄', '大雄與風之使者', '藤子不二雄Ⓐ', '藤子·F·不二雄創作'}\n",
            "{'國慶日', '日期', '雍正', '武昌區', '政變'} set()\n",
            "{'中文數字', '電離層', '地理極點', '風_(太陽探測器)', '極光', '地球', '太陽風'} {'極光', '太陽風'}\n",
            "{'溴', '藥水', '出身成分'} set()\n",
            "{'本名', '經紀公司', 'Starship', 'STARSHIP娛樂'} {'STARSHIP娛樂', '金泰永', '安性珉', '鹹元進', '徐宇璸'}\n",
            "{'古羅馬', '羅馬元老院', '羅馬', '遊牧民族', '騎士', '法律'} {'古羅馬'}\n",
            "{'麥', '大麥', '禾本科', '穀物', '植物', '耕作', '世界'} {'大麥'}\n",
            "{'一帶一路', '路', '一·二八事變', '一帶一路·與我何干', '海上絲綢之路', '泉州市', '中國', '戰略'} {'一帶一路', '國家推進“一帶一路”建設工作領導小組', '21世紀海上絲綢之路博覽會', '泉州市', '海上絲綢之路博物館'}\n",
            "{'單片機', '微處理器', '集成電路'} {'SuperH', '單片機', '嶋正利', 'Rock微處理器', '4位元'}\n",
            "{'2015年', '車站', '城市軌道交通', '伊斯法罕地鐵', '伊斯法罕'} {'伊斯法罕老廣場', '伊斯法罕省', '伊斯法罕佐布阿漢足球俱樂部', '伊斯法罕佐帕罕籃球俱樂部', '伊斯法罕地鐵'}\n",
            "{'大學', 'J·D·德魯', '德魯大學', '德州'} {'德魯大學'}\n",
            "{'火', '殭屍', '熱'} {'火'}\n",
            "{'中央大學', '科系', '1949年', '中央大學·明星大學站', '中央大學_(日本)', '講師_(消歧義)', '電機', '電機工程學'} {'管致中', '國立中央大學工學院', '南京大學工學院', '中央大學'}\n",
            "{'政治人物', '交涉', '十四點和平原則', '第一次世界大戰', '伍德羅·威爾遜', '德'} {'十四點和平原則'}\n",
            "{'奧黛麗_(搞笑組合)', '兒童', '奧黛麗·赫本', '奧黛麗·赫本演藝作品列表', '國家'} {'奧黛麗·赫本'}\n",
            "{'廣東省', '粵菜', '菜'} {'粵菜'}\n",
            "{'新西蘭', '首都', '博物館', '惠靈頓', '世界'} {'紐西蘭國立博物館'}\n",
            "{'船', '小島_(臺東區)', '北小島', '漁民', '目標', '過去', '南小島', '小島'} {'橄欖門', '南小島', '北小島'}\n",
            "{'劍橋大學', '物理學家', '盧卡斯數學教授席位', '保羅·狄拉克', '理論物理學', '英國', '大學', '劍橋', '佛羅里達州'} {'保羅·狄拉克'}\n",
            "{'蒼鷺', '溼地', '非洲', '模式種', '鷺屬', '歐亞大陸', '鷺科', '物種', '洲'} {'蒼鷺'}\n",
            "{'重量', '城市', '東西_(作家)', '耶路撒冷'} set()\n",
            "{'輔國中尉', '宗室', '八大山人', '清朝', '明朝'} {'輔國中尉', '八大山人'}\n",
            "{'巴哈歐拉', '以色列', '百姓'} {'巴哈歐拉', '巴哈歐拉陵寢', '巴哈歐拉的使徒'}\n",
            "{'新臺幣', '方法'} set()\n",
            "{'臺北', '中學', '孔廟', '四書五經', '臺北市立明倫高級中學'} {'臺灣的孔廟'}\n",
            "{'藥物', '食物'} set()\n",
            "{'李賦寧', '教育家', '中國'} {'李賦都'}\n",
            "{'民用航空', '飛行員', '航空器', '航空', '國'} {'飛行員'}\n",
            "{'名稱', '希臘', '木衛十二', '形象', '女神', '電影'} {'木衛十二', '瓦爾迪瓦紡錘魷'}\n",
            "{'聖靈', '聖父', '和子說'} {'撒伯流主義', '聖靈', '和子說'}\n",
            "{'臺北', '中學', '內湖_(臺北市內湖區大字)', '2000', '臺北市立麗山高級中學', '內湖區', '麗山'} {'柯明樹', '臺北市立南湖高級中學', '臺北市立麗山高級中學', '臺北市內湖區麗山國民小學', '麗山'}\n",
            "{'黛安娜·羅斯', '黛安娜', '崇拜', '反對黨', '黛安娜·迪莫娃', '黛安娜·羅', '黛安·韋斯特', '黛安娜·馬西森'} {'黛安娜', '習近平崇拜', '火焰崇拜', '黛安娜·迪莫娃', '黛安娜·羅'}\n",
            "{'勳章', '突破', '2019年', '水稻', '成就', '共和制', '袁隆平', '共和國勳章'} {'雜交水稻國家重點實驗室', '袁隆平'}\n",
            "{'計算機科學', '數據壓縮', '圖像壓縮', '圖像壓縮技術'} {'紋理壓縮', '圖像壓縮技術', '加殼壓縮', '圖像壓縮', '有損數據壓縮'}\n",
            "{'亞伯拉罕·範海辛', '亞伯拉罕·路易·佈雷蓋', '亞伯拉罕·林肯', '亞伯拉罕諸教', '亞伯拉罕', 'F·莫瑞·亞伯拉罕', '斯賓塞·亞伯拉罕', '亞伯拉罕·林肯總統圖書館和博物館'} {'易卜拉欣', '亞伯拉罕諸教', '一神論', '亞伯拉罕', '有經者'}\n",
            "{'人類', '肉眼', '毛主席語錄', '波長', '小紅書', '圖書'} {'小紅書', '毛主席語錄'}\n",
            "{'中華人民共和國教育部', '長春市', '吉林省', '全國重點大學', '教育部', '吉林大學', '中華人民共和國'} {'吉林大學西區', '吉林大學附屬中學', '吉林工業大學', '吉林大學', '中華人民共和國教育部直屬高等學校列表'}\n",
            "{'韓信', '漢初三傑', '張良', '蕭何', '劉邦', '漢朝', '漢', '天下'} {'漢初三傑', '張良', '蕭何'}\n",
            "{'黛安娜', '第八代史賓賽伯爵約翰·史賓賽', '第六代史賓賽伯爵查爾斯·史賓賽', '第七代史賓賽伯爵阿爾伯特·史賓賽', '第四代史賓賽伯爵腓特烈·史賓賽', '第二代史賓賽伯爵喬治·史賓賽', '第九代史賓賽伯爵查爾斯·史賓賽', '威爾斯王妃戴安娜'} {'威爾斯王妃戴安娜'}\n",
            "{'臺灣明鄭時期', '北極殿', '道教', '臺南北極殿', '明鄭'} set()\n",
            "{'星期', '日', '太陽日', '星期六', '禮拜_(伊斯蘭教)', '禮拜'} set()\n",
            "{'兒童', '家庭', '阿希爾克洛德·德彪西'} set()\n",
            "{'豫劇'} {'苗文華', '豫劇'}\n",
            "{'肥料', '蛋白質', '硫'} {'硫'}\n",
            "{'亞洲', '榴槤'} set()\n",
            "{'廣東省', '粵菜', '菜'} set()\n",
            "{'幻想', '性幻想', '理想'} {'幻想', '強暴幻想', '性幻想'}\n",
            "{'國際勞動節', '芝加哥', '工人', '小時', '警察', '乾草市場', '工作', '勞動節'} {'國際勞動節', '乾草市場站'}\n",
            "{'墨西哥', '國徽', '墨西哥國徽', '動物'} {'蒙古國國徽', '墨西哥國旗'}\n",
            "{'九州_(日本)', '真理', '麻原彰晃', '真理國', '九州', '日本'} {'麻原彰晃', '真理國'}\n",
            "{'林義雄', '政府', '美麗島', '親屬', '美麗島事件', '事件', '血液'} set()\n",
            "{'梁朝偉', '作品', '馬德里'} set()\n",
            "{'色', '毛主席語錄', '波長', '小紅書', '紅色', '圖書'} {'小紅書', '毛主席語錄'}\n",
            "{'劍橋大學', '駱駝', '劍橋'} {'古駱駝'}\n",
            "{'徐有庠', '遠東集團'} {'徐有庠', '徐旭東', '遠東集團'}\n",
            "{'魚', '存活率', '寄生蟲', '目', '鯡形目', '大魚_(歌曲)'} {'鯡形目'}\n",
            "{'獨裁', '內戰', '西班牙內戰', '弗朗西斯科·佛朗哥', '政權', '大元帥', '西班牙', '弗朗西斯科'} {'卡門·波羅', '弗朗西斯科·佛朗哥', '拉蒙·佛朗哥'}\n",
            "{'參宿', '視星等', '室女座', '恆星', '參宿五', '星等'} {'室女座', '參宿五', '室女座110', '參宿七', '室女座20'}\n",
            "{'水', '反應', '碳化鈣'} set()\n",
            "{'臺灣', '污染', '淡水河', '臺灣河流列表', '淡水_(消歧義)', '河流'} set()\n",
            "{'占星術'} set()\n",
            "{'香港', '武俠', '張學友', '金馬獎', '武俠片', '1990年', '電影'} {'張學友87演唱會'}\n",
            "{'冰', '岩石', '水', '天衛四', '比例', '地殼'} set()\n",
            "{'人類', '紙', '發明', '古代史', '中國', '造紙術', '四大發明'} {'印刷', '造紙術', '四大發明'}\n",
            "{'威廉·薩默塞特·毛姆', '作品', '成功'} {'人性的枷鎖', '月亮和六便士', '威廉·薩默塞特·毛姆', '情天恨海', '毛姆文學獎'}\n",
            "{'鍼灸', '結締組織', '研究', '媒介', '西方世界', '論文', '國家'} {'媒介環境學', '固有結締組織'}\n",
            "{'珠江', '中芯國際', '電路', '集成電路', '總部', '中國', '晶圓'} {'中芯國際', '半導體器件製造', '半導體廠商銷售排名', '集成電路設計', '超大規模集成電路'}\n",
            "{'香港城市大學'} {'虛擬教研中心'}\n",
            "{'臺灣', '臺灣縣', '兒玉利國'} {'兒玉利國'}\n",
            "{'中生代', '被子植物', '哺乳動物', '植物', '新生代'} {'新生代'}\n",
            "{'韓國總統', '憲法法院', '總統', '大韓民國'} {'韓國總統', '朴槿惠彈劾案'}\n",
            "{'第一次世界大戰', '魏瑪共和國', '魏瑪', '國號', '德國'} {'聯邦大總統', '魏瑪共和國上議院'}\n",
            "{'詩人', '唐朝末年', '李商隱', '唐詩', '唐詩三百首'} {'柳枝', '李商隱'}\n",
            "{'香港', '多倫多', '香港電臺', '音樂節目', '編劇', '陳韻文', '今天', '加拿大'} {'香港商業電臺節目列表', '陳韻文'}\n",
            "{'政府', '選舉權', '懷俄明州', '法案', '女性', '世界', '地區議會_(德國)'} {'懷俄明州', '女性參政權'}\n",
            "{'身分標識方式', '網路用戶'} set()\n",
            "{'細胞', '突變', '癌細胞', '基因組'} {'突變', '癌變', '癌基因'}\n",
            "{'劍橋大學', '保安', '西方哲學', '西方哲學史', '哲學史', '伯特蘭·羅素', '劍橋', '哲學'} set()\n",
            "{'南投縣', '玉山'} set()\n",
            "{'嫡庶', '唐玄宗', '固安公主', '丈夫', '子'} {'固安公主'}\n",
            "{'烴', '氫', '乙烯', '芳香烴', '苯'} {'乙烯酮', '二乙烯酮', '乙酸乙烯酯'}\n",
            "{'創新', '全球', '麗臺科技'} set()\n",
            "{'美術館', '臺灣', '半官方機構', '中西區_(臺灣)', '西區_(臺南市)', '臺南市美術館', '臺南市', '中西區'} {'原臺南合同廳舍', '原臺南警察署', '臺南市美術館'}\n",
            "{'天衛二', '體積', '天衛一'} {'天衛十五', '天衛二十二', '天衛十'}\n",
            "{'燕山_(消歧義)', '燕山大學'} {'趙丁選', '天津科技大學', '郭競坤', '燕山大學', '燕山大學科技園'}\n",
            "{'馬克思主義', '馬克思·多爾穆瓦站', '格魯喬·馬克思', '作品', '卡爾·馬克思', '馬克思主義政治經濟學', '政治經濟學', '海因裏希·馬克思'} set()\n",
            "{'馬來語', '語言', '拿督'} {'拿督'}\n",
            "{'種子', '子房', '果實'} {'子房街道', '梨果', '瘦果', '子房', '蒴果'}\n",
            "{'環境影響評價', '監測', '污染源監測', '污染', '化學', '化學物質', '環境監測'} {'污染源監測', '環境質量評價', '最佳可行控制技術', '點源污染', '環境監測'}\n",
            "{'網景', '網景通訊家', '網頁瀏覽器', '網頁'} {'網景導航者', '網頁瀏覽器列表', '網景', '網頁瀏覽器時間線', '網景通訊家'}\n",
            "{'興盛', '貿易', '廣東省', '粵菜'} {'粵菜'}\n",
            "{'傳染病', '2019冠狀病毒病疫情', '應用科學', '麻省理工學院', '肺炎', '技能', '工程學'} {'麻省理工學院理學院', '麻省理工學院工學院'}\n",
            "{'行憲紀念日', '行憲', '五天工作制', '公務員'} {'行憲紀念日', '五天工作制'}\n",
            "{'百合屬', '海', '始海百合', '棘皮動物', '百合_(消歧義)', '板', '花萼', '海百合'} {'始海百合', '擬海百合', '棘皮動物', '海百合亞門', '海百合'}\n",
            "{'物種', '靈長目', '數字'} set()\n",
            "{'祕魯', '共和制', '國家'} {'議會共和制'}\n",
            "{'觀點_(哲學)', '法國', '世紀', '上帝', '神', '宇宙', '英國', '自然神論'} {'泛自然神論', '基督徒自然神論', '自然神論'}\n",
            "{'城市規劃', '城市'} {'中華人民共和國城市總體規劃', '南京大學城市規劃與設計系', '巴基斯坦建築師及城市規劃師協會'}\n",
            "{'象', '唐朝'} {'大象露西'}\n",
            "{'德意志裔人', '富豪', '住宅', '今天', '德', '世界'} set()\n",
            "{'園林設計', '園林'} {'園林設計'}\n",
            "{'開元路_(臺南市北區)', '全長', '臺北市', '全姓', '道路'} {'開元路街道', '臺北市道路列表'}\n",
            "{'校友', '麻省理工學院', '全球', '經濟體系', '公司'} set()\n",
            "{'目標', '籃球', '好球', '本·佐布里斯特'} set()\n",
            "{'桃園市', '中華民國', '南部', '臺灣', '楊梅_(大字)', '楊梅區', '教科書', '臺灣客家語'} {'峨眉鄉'}\n",
            "{'兒童', '普羅米修斯', '小孩_(電影)'} {'普羅米修斯', '被縛的普羅米修斯', '解放了的普羅米修斯', '普羅米修斯計劃'}\n",
            "{'女真', '安東尼·西尼蘇卡·金廷', '現象', '金'} {'安東尼·西尼蘇卡·金廷'}\n",
            "{'原子', '晶體', '中國人', '振動', '中國', '馮端'} {'晶體結構'}\n",
            "{'東海', '釣魚臺', '島嶼', '波濤', '淡水', '土壤', '陸地', '釣魚臺列嶼'} {'釣魚臺列嶼', '釣魚臺細辛'}\n",
            "{'關羽', '萬人敵', '張飛', '新解釋·三國志', '三國志'} {'關羽', '張飛', '五虎將'}\n",
            "{'發展', '交通', '公路', '臺灣', '鐵路', '電氣化鐵路', '高速公路', '臺灣交通'} set()\n",
            "{'醫生', '經營者', '臺北市', '臺北醫學大學'} {'李祖德'}\n",
            "{'作曲家', '派', '古典芭蕾', '芭蕾舞', '吉賽爾_(消歧義)', '法國', '古典', '浪漫主義'} {'俄派芭蕾', '吉賽爾', '古典芭蕾'}\n",
            "{'學習', '教育', '文森特·梵高', '語言'} set()\n",
            "{'地標', '古蹟', '文化遺產', '食物', '世界遺產', '布魯塞爾'} set()\n",
            "{'月', 'Gmail'} {'Gmail'}\n",
            "{'年齡', '臺1線', '中華民國', '線', '中華東路_(臺南市)', '臺南市', '道路'} {'中華南路'}\n",
            "{'人類', '社會', '道德', '人', '法律'} {'社會建構主義'}\n",
            "{'天佑國王'} {'天佑國王', '天佑安圭拉', '天佑新西蘭'}\n",
            "{'馬克思主義', '馬克思·多爾穆瓦站', '格魯喬·馬克思', '作品', '卡爾·馬克思', '馬克思主義政治經濟學', '政治經濟學', '海因裏希·馬克思'} set()\n",
            "{'新聞聯播'} {'新聞聯播', '新聞聯播天氣預報', 'NBC晚間新聞'}\n",
            "{'錢偉長', '經典物理學', '物理學', '中國科學院'} {'中國科學院大學工程科學學院', '現代物理學', '錢偉長', '路德維希·普朗特', '李家明'}\n",
            "{'草原', '味覺', '蒙古高原草原內蒙古草原東北草原', '蕈類', '香杏麗蘑', '中國內地', '杏_(演員)', '地方', '內地'} {'香杏麗蘑'}\n",
            "{'第二次世界大戰', '京城帝國大學', '大學', '帝國大學', '朝鮮半島', '日本'} {'京城帝國大學', '金日成綜合大學', '帝國大學'}\n",
            "{'東南亞', '汶萊', '各國兵役制度', '邦', '英屬婆羅洲', '國家'} {'汶萊'}\n",
            "{'城市規劃'} set()\n",
            "{'哈芝芝·諾', '西方哲學', '埃利亞的芝諾', '芝諾', '季蒂昂的芝諾', '基提翁', '斯多葛主義', '哲學'} {'克里安西斯', '斯法埃魯斯', '芝諾', '季蒂昂的芝諾', '基提翁'}\n",
            "{'蒲公英', 'Dandelion'} {'蒲公英', '小五臺蒲公英', '短啄蒲公英', '淺沼晉太郎', 'Dandelion'}\n",
            "{'汽車', '超級跑車', '臺灣機車', '跑車', '總部', '豪華汽車', '德國', '奧迪'} {'豪華汽車', '汽車產業', '意大利設計-喬治亞羅公司', '奧迪'}\n",
            "{'自由', '過去', '報紙', '中華民國'} {'香港報紙列表', '香港言論自由', '澳門報紙列表'}\n",
            "{'木星', '土衛一', '土星的衛星'} set()\n",
            "{'永嘉_(西晉)', '劉聰', '永嘉之亂', '建安', '晉懷帝', '五胡十六國', '懷帝', '帝'} set()\n",
            "{'車站', '城市軌道交通', '伊斯法罕地鐵', '伊斯法罕'} {'伊斯法罕老廣場', '伊斯法罕省', '伊斯法罕佐布阿漢足球俱樂部', '伊斯法罕佐帕罕籃球俱樂部', '伊斯法罕地鐵'}\n",
            "{'人權', '國際LGBTI聯合會', '行爲', '身體', '性別特徵'} set()\n",
            "{'剛果民主共和國', '首都'} {'剛果民主共和國華人', '剛果民主共和國國家足球隊', '2019年剛果民主共和國參議院選舉', '剛果民主共和國地理'}\n",
            "{'機構', '行憲', '行憲紀念日', '聖誕節', '教會'} {'行憲紀念日'}\n",
            "{'聖彼得堡', '瓦西里島', '聖彼得堡地鐵', '海濱站_(聖彼得堡地鐵)', '車站', '地鐵', '瓦西里·貝科夫號巡邏艦', '海濱站'} {'基洛夫-維堡線', '涅瓦-瓦西里島線', '瓦西里島站'}\n",
            "{'單片機', '集成電路', '微型計算機'} {'單片機', '英特爾晶片組列表'}\n",
            "{'非洲', '北非', '剛果民主共和國', '共和制', '馬格里布', '面積', '陸地', '地區', '總統制'} set()\n",
            "{'蔡英文', '元首_(納粹德國)', '南亞', '中華民國'} {'2020年中華民國總統選舉', '蔡英文'}\n",
            "{'新西蘭', '首都', '博物館', '美國', '惠靈頓'} {'紐西蘭國立博物館'}\n",
            "{'臺北', '國立臺北教育大學', '經營者'} {'李祖德'}\n",
            "{'兩棲動物', '百靈屬', '綱', '雀百靈屬', '雀形目', '屬', '百靈科', '目'} {'雀百靈屬', '林百靈', '歌百靈屬', '角百靈屬'}\n",
            "{'2021', '漢名', '滾石_(雜誌)', '卑南族', '張惠妹', '名_(人名)'} {'張惠妹音樂作品列表', '張惠妹現場表演列表'}\n",
            "{'後代', '有性生殖', '繁殖', '性', '女性'} set()\n",
            "{'地形', '彗星', '小行星', '面_(幾何)', '天衛四', '行星', '撞擊坑'} {'天衛四', '哈姆雷特撞擊坑'}\n",
            "{'奧古斯都·艾迪生·古爾德', '稱謂', '奧古斯都_(稱號)', '奧古斯都', '奧古斯都·勞裏克殖民地', '羅慕路斯·奧古斯都', '奧古斯都·腓特烈_(薩塞克斯公爵)'} {'家長', '奧古斯都神廟', '奧古斯都神的功業'}\n",
            "{'政府', '倫敦大學', '學術', '研究', '倫敦大學學院', '大學'} {'倫敦大學學院教育研究院', '倫敦大學學院藥學院'}\n",
            "{'質量', '物質', '平衡', '壓強', '土衛一', '太陽系', '行星', '太陽'} {'土衛一', '平衡'}\n",
            "{'金融', '波士頓', '經濟', '經濟發展', '商業'} {'金融服務', '波士頓', '臺灣金融機構列表'}\n",
            "{'分類學', '鳥', '日本鶺鴒', '雀形目', '生物分類學', '昆蟲', '日本', '食', '目_(生物)'} {'山鶺鴒', '白鶺鴒', '印度鶺鴒', '鶺鴒科', '灰鶺鴒'}\n",
            "{'徐太志'} {'徐太志和孩子們', '徐太志'}\n",
            "{'微分方程', '數', '導數', '地方', '問題'} {'伯努利微分方程', '時滯微分方程', '全微分方程'}\n",
            "{'藤子·F·不二雄', 'F', '稱謂', '雄性', '飛行'} {'藤子·F·不二雄', '藤子不二雄', '大雄與風之使者', '藤子不二雄Ⓐ', '藤子·F·不二雄創作'}\n",
            "{'隼', '隼科', '猛禽'} {'臺灣猛禽研究會', '隼形目', '猛禽'}\n",
            "{'洞天', '西王母', '名', '瑤池'} {'瑤池'}\n",
            "{'人類'} set()\n",
            "{'鄱陽湖', '廣東省', '淡水', '今天', '中國'} {'鄱陽湖', '洞庭湖'}\n",
            "{'沙皇', '俄羅斯人', '民主革命', '1917', '1917年', '亞歷山大·克倫斯基', '俄羅斯', '支配'} {'亞歷山大·克倫斯基', '非裔俄羅斯人'}\n",
            "{'歐洲民族', '語言', '歐洲', '民族', '民族國家', '地區'} {'歐洲民族'}\n",
            "{'清朝', '八大山人', '明朝'} {'八大山人'}\n",
            "{'村莊', '張谷英村', '張谷英'} {'張谷英村', '張谷英'}\n",
            "{'臺南都會區', '波士頓', '都市圈', '臺南市', '大波士頓'} {'波士頓影評人協會', '大波士頓', '波士頓'}\n",
            "{'御座', '北宋', '皇帝', '宋仁宗'} {'宋英宗', '宋仁宗'}\n",
            "{'母親', '希臘', '妻子', '木衛二十四', '俄狄浦斯', '小說', '木星的衛星', '伊俄卡斯忒'} {'木衛二十四', '俄狄浦斯', '小行星899', '伊底帕斯王', '伊俄卡斯忒'}\n",
            "{'博古', '蘇聯'} {'博古埃', '博古恰爾區'}\n",
            "{'基督教', '猶太教', '聖經', '新約'} {'猶太教與基督教', '聖經研究', '新約聖經', '聖經', '聖經漢語譯本'}\n",
            "{'哥本哈根', '歐洲', '經濟', '歐洲聯盟', '哥本哈根標準'} {'歐洲聯盟成員國政治制度列表', '歐洲聯盟成員國', '哥本哈根標準', '歐洲聯盟', '歐洲聯盟擴大'}\n",
            "{'臺南市', '全姓', '全長', '開元路_(臺南市北區)'} {'開元路街道'}\n",
            "{'香港聖公會', '性別', '聖保羅書院'} {'聖保羅堂', '史超域'}\n",
            "{'深度', '北冰洋'} set()\n",
            "{'查爾斯·狄更斯', '愛丁堡', '查理·卓別林', '童年'} {'老查理·卓別林', '狄更斯博物館', '查理·卓別林'}\n",
            "{'黃帝', '三苗', '苗', '長江', '傳說_(2010年電視劇)', '傳說', '堯', '中國'} {'三苗', '中國傳說時代君主列表'}\n",
            "{'碳', '氧化', '乙炔', '氧化鈣', '水', '塑料', '鈣'} {'乙炔銅', '乙炔銀', '乙炔', '苯乙炔', '乙炔二醇'}\n",
            "{'解脫道', '幻想', '上座_(佛教)', '上座部', '佛教', '解脫', '上座部佛教'} set()\n",
            "{'若昂·費雷拉·佛朗哥·平託·卡斯特洛布蘭科', '弗朗西斯科·佛朗哥', '佛朗哥·裏卡爾迪', '西班牙第二共和國', '傑斯·佛朗哥', '韋羅妮卡·佛朗哥', '民主', '西班牙', '伊塔馬爾·佛朗哥'} {'西班牙共和國流亡政府', '西班牙共和國', '西班牙內戰', '西班牙第二共和國'}\n",
            "{'教育', '文森特·梵高'} set()\n",
            "{'喬治三世', '卟啉', '症狀', '唾液', '紫質症', '三氧化二砷'} {'喬治三世'}\n",
            "{'馬克思主義', '馬克思·多爾穆瓦站', '格魯喬·馬克思', '卡爾·馬克思', '馬克思主義政治經濟學', '資本論', '政治經濟學', '海因裏希·馬克思'} {'馬克思主義政治經濟學', '資本論', '河上肇', '女人資本論'}\n",
            "{'女性', '藤島康介', '職業', '日本', '卡通'} {'藤島康介'}\n",
            "{'軌道_(力學)', '軌道', '小行星', '行星', '太陽'} set()\n",
            "{'配角', '八點檔', '湯姆·漢克斯', '奧斯卡', '奧斯卡·埃爾南德斯', '奧斯卡最佳男配角獎', '湯姆·班克斯', '湯姆·克魯斯'} {'畢·彼特', '安東尼·奎恩'}\n",
            "{'民意代表', '民國', '臺北市', '謝長廷', '選舉', '身分標識方式', '國民黨_(1912年)'} set()\n",
            "{'糖類', '營養', '糧食', '糖_(消歧義)'} {'營養學', '糖類', '營養'}\n",
            "{'蘇聯', '博古', '因果關係'} {'博古埃', '博古恰爾區', '博古'}\n",
            "{'總統', '大韓民國', '韓國國務總理', '國會議員', '國務總理', '國會_(日本)', '工作', '總理'} {'越南共和國總理', '金滉植', '韓國國務總理列表', '韓國國務總理'}\n",
            "{'總統', '政府首腦', '立法機關', '祕魯', '行政機關', '總統制'} {'總統制'}\n",
            "{'宋欽宗', '趙匡胤', '靖康', '北宋', '皇帝'} {'宋欽宗', '靖康'}\n",
            "{'密西根大學', '美國'} set()\n",
            "{'細菌', '真菌', '生物', '界_(生物)', '植物', '動物', '細胞', '細胞核', '葉綠體', '界'} set()\n",
            "{'春秋_(書)', '春秋', '穀梁傳'} {'公羊傳', '春秋三傳', '穀梁傳'}\n",
            "{'英國國籍法', '臺北市', '國籍', '英國', '城'} {'英國國籍法', '1981年英國國籍法令', '居英權計劃'}\n",
            "{'壬醇', '正壬醇', '碳', '液體'} {'壬醇', '正壬醇'}\n",
            "{'石器時代', '人類', '文字', '信史', '石器', '歷史'} {'史前時代', '新石器時代', '中石器時代', '信史'}\n",
            "{'臺灣', '虎尾寮_(臺南市)', '東區_(臺南市)', '東區', '臺灣國中教育', '臺南市_(州轄市)', '臺南市東區復興國民小學'} {'裕孝路', '裕信路', '臺南市東區裕文國民小學', '裕忠路', '臺南市東區復興國民小學'}\n",
            "{'種子', '植物', '生', '新月沃土', '多年生植物'} {'新月沃土'}\n",
            "{'肥胖症'} set()\n",
            "{'方言學', '地區'} {'方言學'}\n",
            "{'伊斯蘭教', '北非', '阿拉伯語', '信仰', '黎巴嫩', '西亞'} {'愛情大魔咒', '黎巴嫩', '北非阿拉伯人'}\n",
            "{'公海艦隊自沉事件', '斯卡帕灣', '小時', '公海艦隊', '事件', '德國'} {'路德維希·馮·羅伊特', '公海艦隊自沉事件'}\n",
            "{'昆蟲', '體育運動', '節'} {'N-乙酰葡糖胺', 'N-乙酰胞壁酸'}\n",
            "{'戰爭與和平', '拿破崙戰爭', '拿破崙_(消歧義)'} {'博羅金諾戰役'}\n",
            "{'硫酸', '酸', '腐蝕性物質', '水', '強酸', '濃度'} set()\n",
            "{'巡洋艦', '世紀', '英國', '胡德', '胡德號戰列巡洋艦', '戰列巡洋艦'} {'獅級戰列巡洋艦', '皇家海軍戰列巡洋艦列表', '胡德號戰列巡洋艦', '虎號戰列巡洋艦', '聲望級戰列巡洋艦'}\n",
            "{'昆特侖理工大學', '西安理工大學', '仰光理工大學', '香港理工大學', '南洋理工大學', '華南理工大學', '華南理工大學體育學院', '澳門理工大學體育館', '香港理工大學衝突', '澳門理工大學'} {'瀋陽市科研機構列表'}\n",
            "{'盧卡斯·迪奧多斯基'} {'盧卡斯·迪奧多斯基'}\n",
            "{'馬克思主義', '馬克思·多爾穆瓦站', '格魯喬·馬克思', '卡爾·馬克思', '馬克思主義政治經濟學', '資本論', '政治經濟學', '海因裏希·馬克思'} {'馬克思主義政治經濟學', '資本論', '河上肇', '女人資本論'}\n",
            "{'香港', '陳獨秀', '中國共產黨', '國家安全法', '香港人', '長毛', '梁國雄', '中華人民共和國香港特別行政區維護國家安全法', '本名'} {'梁國雄2017年香港行政長官選舉活動', '梁國雄'}\n",
            "{'大島', '撒丁島', '西南', '島嶼', '意大利半島', '黑海', '家畜'} {'撒丁島'}\n",
            "{'凱克豪斯魯·沙帕吉·索拉布吉', '吉爾吉特-巴爾蒂斯坦', '阿拉貢的阿方索', '阿茲特克', '吉倫特派', '費爾南多·阿隆索', '美索不達米亞', '丹尼爾·奧爾特加', '阿索斯山', '阿爾伯特親王'} set()\n",
            "{'目標', '密碼學', '數學'} {'信息論'}\n",
            "{'亂', '兄弟_(無線電視劇)', '晉國', '晉文公', '驪姬之亂', '君主', '嫡長子', '驪姬'} {'晉國公主'}\n",
            "{'大西洋', '北马里亞納羣島', '屬地', '邦', '美國'} set()\n",
            "{'天琴座', '肉眼'} {'天琴座XY', '天琴座ν', '天琴座HR', '天琴座19', '天琴座V473'}\n",
            "{'女性', '運動鞋', '鞋', '標準舞'} set()\n",
            "{'亂世佳人', '費雯·麗'} {'AFI百年百大電影臺詞', 'AFI百年百大電影', 'AFI百年系列', 'AFI百年百大喜劇電影', '費雯·麗'}\n",
            "{'高雄縣', '區域'} {'高雄縣'}\n",
            "{'九龍', '周星馳', '教師', '神仙·老師·狗'} {'星輝海外有限公司', '星女郎'}\n",
            "{'交通管制', '航空器', '意外事故', '航空', '陸地', '航空管制員', '效率', '航空交通管制'} {'航空交通管制部', '航空交通管制'}\n",
            "{'中彰投', '臺灣', '苗栗縣', '中部', '行政院', '交通部中央氣象局'} {'苗栗縣'}\n",
            "{'耶和華', '平特爾·亞當', '亞當·列維', '亞當·迪凡', '夏娃', '亞當', '芬妮·亞當', '亞當·斯密'} {'範睢肋骨介', '商羊肋骨介', '管夷吾肋骨介', '震旦肋骨介', '肋骨戳花介'}\n",
            "{'阿德剌斯忒亞', '希臘神話', '衛星', '木衛十五', '希臘', '神話', '忒亞', '木星的衛星'} {'木衛十五', '木衛十二'}\n",
            "{'伊斯蘭教', '科隆', '20世紀', '世紀'} set()\n",
            "{'礦物', '鑽石', '今天', '硬度'} {'刻劃硬度', '鑽石', '硬度試驗', '莫氏硬度', '碳酸鹽礦物'}\n",
            "{'總統', '麻薩諸塞州', '美國總統', '唐納·川普', '美國', '體育運動'} set()\n",
            "{'偶像', '流行音樂', '偶像_(日本)', '音樂', '查理·卓別林', '流行_(音樂類型)'} {'小查理·卓別林', '悉尼·厄爾·卓別林', '摩登時代', '漢娜·卓別林', '悉尼·約翰·卓別林'}\n",
            "{'爵士樂', '小號', '音樂', '動物', '古典音樂'} set()\n",
            "{'武俠小說', '武俠', '金庸', '反派角色', '慕容復', '幸福結局', '圖書', '慕容'} {'金庸筆下武功列表', '笑傲江湖角色列表', '金庸學', '康敏', '射鵰英雄傳角色列表'}\n",
            "{'基督教', '猶太教與基督教', '猶太教', '新約', '聖經'} {'猶太教與基督教', '聖經研究', '新約聖經', '聖經', '聖經漢語譯本'}\n",
            "{'園林設計', '園林'} {'園林設計'}\n",
            "{'加利福尼亞大學', '政府', 'SETI@home', '計算', '加利福尼亞大學柏克萊分校'} {'Astropulse', 'BOINC'}\n",
            "{'證據', '一次文獻'} {'一次文獻'}\n",
            "{'鄧小平', '理論', '社會主義', '鄧小平理論', '中國特色社會主義', '中國'} {'武漢社會主義青年團', '鄧小平理論'}\n",
            "{'臺北101', '唐朝'} set()\n",
            "{'臺灣清治時期', '臺灣', '澎湖鎮', '現在', '清朝', '臺灣海峽', '澎湖羣島', '火山', '地區'} {'澎湖本島', '衛生福利部澎湖醫院', '澎湖廳長', '澎湖鎮', '張其光'}\n",
            "{'受害者', '案例', '臺東垃圾焚化廠', '縣_(中華民國)', '地方', '派系', '臺東', '臺東縣'} {'臺灣垃圾焚化廠列表', '岡山垃圾焚化廠', '臺東垃圾焚化廠', '崁頂垃圾焚化廠', '永康垃圾焚化廠'}\n",
            "{'長篇_(電影術語)', '弗朗茨·卡夫卡', '選集', '故事'} {'卡夫卡博物館', '一隻雜種', '弗朗茨·卡夫卡'}\n",
            "{'綱', '輻鰭魚綱', '水魚', '輻鰭魚', '生物分類法', '納尼氏囊鰓鯰'} {'水魚', '暹羅灣寬箬鰨'}\n",
            "{'韓正', '政治局'} set()\n",
            "{'松前城', '福山城_(備後國)', '美國軍隊', '廣島縣', '備後國', '廣島'} {'備後國'}\n",
            "{'劉丹', '民意代表', '劉丹_(香港)', '本名', '演員'} set()\n",
            "{'焦點', '海港', '荷蘭', '格但斯克', '民族', '岸', '城市'} {'格但斯克'}\n",
            "{'絕對星等', '絕對', '安東寧·姆爾科斯', '行星', '太陽', '星等'} {'小行星7864', '小行星4090', '小行星8479', '小行星3395', '小行星3716'}\n",
            "{'陝西省', '李賦寧', '祖籍'} {'李賦寧', '李賦都'}\n",
            "{'歷史書', '天武天皇', '神話', '日本神話', '天皇', '中國', '態度', '日本'} {'日本神話'}\n",
            "{'歐洲民族', '語言', '歐洲', '民族', '民族國家', '國家'} {'歐洲民族'}\n",
            "{'院士', '中央研究院', '力學', '研究生', '1984年', '國立臺灣大學', '1984', '研究所', '國立臺灣大學應用力學研究所', '工程力學', '中央研究院院士'} {'吳光鍾', '林啓萬', '劉佩玲', '鮑亦興', '國立臺灣大學應用力學研究所'}\n",
            "{'公案小說', '範式', '大理寺', '發展', '狄仁傑', '公案_(消歧義)', '小說', '中國'} {'狄仁傑'}\n",
            "{'北平王', '五代十國', '王', '北平市', '政權', '北平_(五代十國)', '晉王', '後唐', '十國', '唐明宗'} {'李繼儔'}\n",
            "{'汽車', '歐洲', '超級跑車', '跑車', '總部', '豪華汽車', '臺灣機車', '奧迪'} {'豪華汽車', '汽車產業', '意大利設計-喬治亞羅公司', '奧迪'}\n",
            "{'馬克·吐溫', '埃爾邁拉_(紐約州)', '作家'} {'馬克·吐溫'}\n",
            "{'大韓民國', '國', '行政區劃', '韓國行政區劃'} {'韓國行政區劃', '2010年大韓民國地方選舉', '2014年大韓民國地方選舉'}\n",
            "{'德國曆史', '制度', '王室', '霍亨索倫王朝', '共和制', '魏瑪共和國', '魏瑪', '德國'} {'魏瑪共和國上議院', '魏瑪共和國'}\n",
            "{'鄉試', '葉巒'} {'葉巒'}\n",
            "{'行爲', '鳩鴿科'} {'行爲地理學'}\n",
            "{'啓示', '人物_(美國雜誌)', '龍虎門', '蚩尤_(消歧義)', '蚩尤', '後人', '新著龍虎門'} {'石黑龍', '新著龍虎門角色列表', '帝榆罔'}\n",
            "{'馬克思主義', '馬克思·多爾穆瓦站', '格魯喬·馬克思', '卡爾·馬克思', '馬克思主義政治經濟學', '資本論', '政治經濟學', '海因裏希·馬克思'} {'馬克思主義政治經濟學', '資本論', '河上肇', '女人資本論'}\n",
            "{'老年', '庶出子女', '隋朝', '楊勇_(隋朝)', '隋文帝', '攝政', '長子', '隋煬帝'} set()\n",
            "{'魚', '綠頭鴨', '頭', '獵物', '鴨', '目', '鯡形目', '大魚_(歌曲)'} set()\n",
            "{'地球', '寒武紀大爆發', '寒武紀_(消歧義)', '寒武紀'} {'生米南車輛綜合基地', '寒武紀大爆發'}\n",
            "{'鄭氏鸞', '親子關係'} set()\n",
            "{'1981年', '新臺幣', '花旗銀行', '1949年', '圓', '單位', '1'} {'貨幣基數'}\n",
            "{'排名', '愛丁堡', '愛丁堡大學'} {'愛丁堡大學圖書館'}\n",
            "{'佛經', '發展', '佛教'} {'中國佛教'}\n",
            "{'大學', '電視劇', '橫濱市'} {'橫濱美術短期大學', '明治學院大學', '橫濱美術大學'}\n",
            "{'蟲', '蛛形綱', '環節動物門', '蠍子', '蜘蛛', '昆蟲'} {'無鞭目', '香港純蛛', '鷲蛛總科', '蛛形綱'}\n",
            "{'部落', '觀點', '三苗', '苗', '長江', '上古時代', '鄱陽湖', '洞庭湖', '河南省'} {'三苗'}\n",
            "{'總統', '美國大學', '校長', '伍德羅·威爾遜', '公務員', '美國總統', '美國', '新澤西州'} {'伍德羅·威爾遜總統圖書館', '伍德羅·威爾遜國際學者中心', '伊迪斯·威爾遜'}\n",
            "{'馬克思主義', '馬克思·多爾穆瓦站', '格魯喬·馬克思', '卡爾·馬克思', '馬克思主義政治經濟學', '資本論', '政治經濟學', '海因裏希·馬克思'} {'馬克思主義政治經濟學', '資本論', '河上肇', '女人資本論'}\n",
            "{'分類學', '鶺鴒屬', '日本鶺鴒', '生物分類學', '屬', '脊索', '脊索動物', '日本'} {'日本鶺鴒', '山鶺鴒', '白鶺鴒', '印度鶺鴒', '灰鶺鴒'}\n",
            "{'武器', '甲午戰爭', '對日民間索賠', '經濟補償', '創傷', '類型'} {'對日民間索賠'}\n",
            "{'銀河系', '衛星', '柯伊伯帶', '傑拉德·柯伊伯', '矮行星', '行星'} set()\n",
            "{'政府', '機構', '1987年', '臺北市政府', '臺北市', '臺北市政府捷運工程局'} {'臺北市政府文化局', '桃園市政府捷運工程局', '臺北市政府捷運工程局', '臺北市政府民政局', '新北市政府捷運工程局'}\n",
            "{'穆罕默德', '穆罕默德·本·沙特', '穆罕默德·本·薩勒曼', '伊斯蘭教', '古蘭經', '穆罕默德·阿里帕夏', '阿米納·J·穆罕默德'} {'薩哈巴', '伊斯蘭教的先知', '古蘭經'}\n",
            "{'氣球_(2018年電影)', '熱氣球', '玻璃', '溫室'} {'臺灣國際熱氣球嘉年華', '溫室'}\n",
            "{'頭髮', '折射率', '光導纖維'} set()\n",
            "{'觀點_(哲學)', '宗教', '觀點', '時間', '世紀', '新興宗教', '教堂'} set()\n",
            "{'藝術', '獎勵', '墊子'} {'胖貓坐在墊子上'}\n",
            "{'馬克思主義', '馬克思·多爾穆瓦站', '格魯喬·馬克思', '卡爾·馬克思', '馬克思主義政治經濟學', '資本論', '政治經濟學', '海因裏希·馬克思'} {'河上肇', '馬克思主義政治經濟學', '政治經濟學批判大綱', '資本論', '伊拉里昂·伊格納切維奇·考夫曼'}\n",
            "{'暗殺', '生命', '時間'} set()\n",
            "{'公民', '埃塔'} {'埃塔'}\n",
            "{'科學園區', '東區_(新竹市)', '竹東鎮', '臺灣', '工業技術研究院', '竹東_(大字)', '新竹_(大字)', '新竹市_(1945年—1950年)', '年代'} {'竹東鎮'}\n",
            "{'鳥', '王', '鳳凰', '傳說', '龍'} {'鳳凰', '百鳥朝鳳', '丹鳥', '百鳥公園站'}\n",
            "{'嘉南', '中心', '平原', '臺灣', '山脈', '臺南市', '嘉南平原', '臺南縣'} {'嘉南', '屏東平原', '南瀛文學獎', '嘉南平原', '臺南縣'}\n",
            "{'1月', '平年', '陽曆'} {'5月26日', '7月26日', '3月26日', '1月26日', '4月26日'}\n",
            "{'海衛十', '衛星', '太陽系', '行星'} set()\n",
            "{'馬克思主義', '馬克思·多爾穆瓦站', '格魯喬·馬克思', '作品', '卡爾·馬克思', '馬克思主義政治經濟學', '政治經濟學', '海因裏希·馬克思'} set()\n",
            "{'奧古斯都', '提貝里烏斯', '御座', '提比略·克勞狄烏斯·尼祿', '70', '蓋烏斯·屋大維', '提比略·格拉古'} set()\n",
            "{'日本', '2005年', '伊藤洋華堂', '公司'} {'伊藤洋華堂', '鈴木敏文'}\n",
            "{'環氧乙烷', '殺菌劑', '物質', '殺菌'} {'環氧化合物', '環氧乙烷', '環硫乙烷', '苯基環氧乙烷'}\n",
            "{'聯合國', '飲食文化', '世紀', '日本料理', '19世紀', '2013年', '日本', '菜系'} {'江蘇省非物質文化遺產', '聯合國教科文組織人類非物質文化遺產代表作名錄中國項目', '日本料理', '北京市市級非物質文化遺產', '加拿大世界遺產列表'}\n",
            "{'法語', '潘·巴奇利', '潘恩', '迦勒·潘恩', '托馬斯·潘恩', '國民公會', '羅伯特·崔特·潘恩', '克里斯·潘恩'} {'國民公會站'}\n",
            "{'蒂姆·伯頓', '電影導演', '伯頓', '美國', '美國電影'} {'蒂姆·伯頓'}\n",
            "{'語氣', '亞洲', '張谷英村', '張谷英'} {'張谷英鎮', '張谷英村', '張谷英'}\n",
            "{'平年'} {'1月26日'}\n",
            "{'工藝', '美學', '推銷員', '手工藝'} {'手工藝'}\n",
            "{'領土', '愛爾蘭'} set()\n",
            "{'天衛四', '岩石', '地殼'} {'天衛四'}\n",
            "{'字', '詩人', '調', '念奴嬌·赤壁懷古', '南宋', '念奴嬌_(專輯)', '律'} {'離亭宴', '念奴嬌'}\n",
            "{'聶華苓', '茶壺', '自由中國'} {'龍嘴大茶壺', '茶壺', '猶他茶壺', '茶壺山醜聞案', '羅素的茶壺'}\n",
            "{'爬山算法', '問題', '決策', '高地'} {'爬山算法'}\n",
            "{'武俠小說', '武俠', '悲劇', '金庸', '編輯', '燕國', '慕容復'} {'金庸筆下武功列表', '金庸學', '慕容復'}\n",
            "{'吉米·卡特', '總統', '阿爾弗雷德·諾貝爾', '吉米', '諾貝爾獎', '美國總統', '美國', '卡特'} {'吉米·卡特圖書館暨博物館'}\n",
            "{'尼克·貝爾格', '商人', '美國'} {'尼克·貝爾格'}\n",
            "{'我的愛_(1986年電影)', '愛', '以你的心詮釋我的愛', '泰國', '電視劇', '心'} {'以你的心詮釋我的愛'}\n",
            "{'國際勞動節', '密西西比州', '密西西比·約翰·赫特', '工人', '乾草市場', '工作', '勞動節'} {'乾草市場站'}\n",
            "{'庫爾納縣', '魯普薩烏帕齊拉', '孟加拉國', '烏帕齊拉'} {'迪加里亞烏帕齊拉', '庫伊拉烏帕齊拉', '特羅卡達烏帕齊拉', '魯普薩烏帕齊拉', '杜穆里亞烏帕齊拉'}\n",
            "{'人權', '組織', '國際LGBTI聯合會'} {'國際LGBTI聯合會'}\n",
            "{'美國', '愛倫·坡', '作品'} {'愛倫·坡'}\n",
            "{'錳酸鉀', '化學式', '乙醇', '水', '氧化劑', '高錳酸鉀'} {'高錳酸鈉', '錳酸鈉', '高錳酸鉀'}\n",
            "{'解脫道', '菩薩道', '上座_(佛教)', '上座部', '佛教', '部', '解脫', '上座部佛教'} {'上座部佛教', '上座部'}\n",
            "{'盛世', '隋朝', '後_(消歧義)', '清朝'} {'盛世', '永樂盛世'}\n",
            "{'中正區_(臺北市)', '2011年', '臺北市', '臺北市客家文化主題公園', '2008年'} {'川端公園', '桃園市客家文化館', '臺北市中正區螢橋國民小學', '臺北市議員列表', '臺北市客家文化主題公園'}\n",
            "{'兄弟姊妹', '馬世莉', '心肌梗死'} set()\n",
            "{'安德烈·尤里耶維奇·勃列日涅夫', '衛生局_(澳門)', '列昂尼德·勃列日涅夫', '中央委員會', '尤里·勃列日涅夫'} {'維多利亞·勃列日涅娃', '安德烈·尤里耶維奇·勃列日涅夫', '列昂尼德·勃列日涅夫所獲獎項列表', '臺北市政府衛生局', '臺南市政府衛生局'}\n",
            "{'杜鵑科', '杜鵑'} {'杜鵑屬', '走鵑', '鴉鵑屬', '杜鵑科'}\n",
            "{'劉丹', '民意代表', '劉丹_(香港)', '工作', '本名', '演員'} {'何寶珊', '曾慶珏'}\n",
            "{'俄羅斯', '聖彼得堡', '伏爾加湖', '流域'} {'聖彼得堡電車', '聖彼得堡國立科技學院', '聖彼得堡國立大學', '聖彼得堡證券交易所'}\n",
            "{'丁寧', '任家萱', '橋本環奈', '臺北市立聯合醫院松德院區', '香港城市大學', '仁濟醫院 (香港)', '波茨坦大學', '中共中央黨校', '郭位', '中華大學'} {'查爾斯·巴赫曼', '虛擬教研中心'}\n",
            "{'制度', '世僕', '社會', '中國', '日本', '奴婢', '古代社會', '身分標識方式'} {'世僕'}\n",
            "{'咬鵑科', '細胞', '氣候', '熱帶'} {'斑尾咬鵑'}\n",
            "{'臺北', '臺灣總督府臺北高等學校', '臺灣總督府', '臺灣', '1999', '總督府', '日治時期', '學校'} {'臺灣總督府民政部', '臺灣總督府臺北高等學校', '臺灣總督府評議會', '臺北高等學校講堂', '臺灣總督府高等商業學校'}\n",
            "{'荷馬', '史詩', '荷馬史詩', '學術', '研究', '東西_(作家)'} set()\n",
            "{'縣_(緬甸)', '烏蘭巴托', '鐵路', '錫林郭勒盟', '內蒙古自治區', '盟_(行政區劃)', '緬甸', '縣級市'} {'錫林浩特市', '烏蘭巴托站', '烏蘭巴托', '二連浩特市'}\n",
            "{'最短路問題', '短路', '路', '代數', '問題', '算法'} {'最短路問題', '戴克斯特拉算法', '代數', 'Floyd-Warshall算法', '代數拓撲'}\n",
            "{'韓國總統', '總統', '大韓民國', '憲法法院', '總理'} {'韓國總統', '朴槿惠彈劾案'}\n",
            "{'午夜巴黎', '巴黎', '奇幻電影', '影片', '喜劇', '背景', '浪漫喜劇', '伍迪·艾倫', '艾倫'} {'魔力月光', '午夜巴黎', '六場危事', '第64屆戛納電影節'}\n",
            "{'國', '一邊一國', '臺獨', '中國'} {'一邊一國', '一邊一國連線'}\n",
            "{'陸羽', '茶文化', '茶', '茶經'} {'陸羽', '中國茶文化', '茶學文獻列表', '茶經'}\n",
            "{'香港', '香港科技大學', '科技大學'} {'香港科技大學（廣州）', '科技大學', '香港科技大學', '學府街道', '香港科技大學學生會'}\n",
            "{'海盆', '海底火山', '日本海', '海', '日本', '火山'} {'日本海', '海底火山列表', '海盆', '中國皇帝火山', '北極海盆'}\n",
            "{'臺中市', '政府', '臺中市政府', '臺中市政府陽明大樓', '豐原區'} {'臺中市政府勞工局', '臺中市政府衛生局', '臺中世界花卉博覽會辦公室', '臺中市政府陽明大樓', '臺中市豐原區翁子國民小學'}\n",
            "{'經營者', '北漂', '臺北醫學大學'} {'李祖德'}\n",
            "{'亞洲', '阿美族'} {'阿美語', '阿美族'}\n",
            "{'華南師範大學', '學院', '廣東省'} {'華南師範大學附屬中學', '華南師範大學'}\n",
            "{'邊際', '教授', '經濟學', '經濟學家', '古典經濟學', '哈佛大學', '分析', '楊小凱'} {'楊小凱', '羅伯特·巴羅'}\n",
            "{'雕塑家', '近代', '大同書', '大同', '1901年', '康有爲', '中國', '思想'} {'大同書'}\n",
            "{'新西蘭', '首都', '博物館', '惠靈頓', '世界'} {'紐西蘭國立博物館'}\n",
            "{'人類', '蝗蟲', '昆蟲', '幫助', '農作物'} {'草蜢', '蝗蟲論', '蝗蟲'}\n",
            "{'臺北', '臺灣總督府臺北高等學校', '臺灣總督府', '臺灣', '總督府', '學校'} {'臺灣總督府民政部', '臺灣總督府臺北高等學校', '臺灣總督府評議會', '臺北高等學校講堂', '臺灣總督府高等商業學校'}\n",
            "{'概念', '馬克思主義', '卡爾·馬克思', '馬克思主義政治經濟學', '資本論', '政治經濟學', '圖書'} {'女人資本論', '資本論', '河上肇', '社會主義政治經濟學'}\n",
            "{'目標', '政黨'} {'非營利組織', '臺灣NPO資源列表', '.org'}\n",
            "{'歐洲民族', '語言', '歐洲', '民族', '民族國家', '地區'} {'歐洲民族'}\n",
            "{'經營者', '北漂', '臺北醫學大學'} {'李祖德'}\n",
            "{'若竹町', '行政區劃', '第二次世界大戰', '世界大戰', '若竹町_(臺南市)', '日本'} {'汐見町', '伏見町', '青葉町'}\n",
            "{'戰國時期', '趙國', '燕國', '王翦', '秦國'} set()\n",
            "{'劇場藝術', '美國', '電視劇', '先驅', '化石森林', '電影', '美國電影'} {'罪惡鎖鏈', '偉大的奧馬利', '直搗黃龍', '賊中之王', '化石森林'}\n",
            "{'金星凌日', '天文單位', '金星', '日'} {'2012年金星凌日', '金星凌日', '1874年金星凌日', '黑滴現象', '天文臺'}\n",
            "{'臺灣', '安七炫', '吳建豪', '男子音樂組合'} set()\n",
            "{'東海', '釣魚臺', '島嶼', '南部', '波濤', '土壤', '陸地', '釣魚臺列嶼'} {'釣魚臺列嶼', '釣魚臺細辛'}\n",
            "{'環氧乙烷', '殺菌劑', '物質', '殺菌'} {'環氧化合物', '環氧乙烷', '環硫乙烷', '苯基環氧乙烷'}\n",
            "{'數據科學家', '科學家_(歌曲)', '機體', '疾病'} {'病理學'}\n",
            "{'洋蔥', '波斯語', '維吾爾語'} {'洋蔥'}\n",
            "{'史記·刺客列傳', '史記', '指南車', '王天木'} {'王天木'}\n",
            "{'奧德賽', '詩人', '史詩', '傳說_(Raidas專輯)', '金鐘獎', '伊利亞特', '傳說', '荷馬'} {'奧德賽', '伊利亞特', '荷馬', '荷馬史詩'}\n",
            "{'時代', '小米', '史前時代'} set()\n",
            "{'遊戲'} {'國際象棋'}\n",
            "{'奧古斯都·普金', '奧古斯都', '奧古斯都·勞裏克殖民地', '羅馬皇帝', '羅馬', '羅慕路斯·奧古斯都', '皇帝'} {'羅慕路斯·奧古斯都', '奧古斯都神廟', '奧古斯都神的功業'}\n",
            "{'網頁郵件', '郵件_(Windows)', 'Google', '服務'} {'Google搜索', '網頁郵件'}\n",
            "{'我的愛_(1986年電影)', '愛', '以你的心詮釋我的愛', '克里特·安努艾德奇康', '泰國', '電視劇', '心'} {'克里特·安努艾德奇康', '以你的心詮釋我的愛'}\n",
            "{'父親', '水稻', '稻', '雜交水稻', '中國', '袁隆平'} {'非洲新稻', '雜交水稻國家重點實驗室', '雜交水稻', '湖南雜交水稻研究中心', '袁隆平'}\n",
            "{'蜀漢', '水滸傳', '三國', '武將', '水滸傳·天命之誓', '黃忠'} {'鄧家五虎', '黃忠', '五虎將'}\n",
            "{'鹿鼎記', '金庸', '作品'} {'金庸', '金庸學', '金庸筆下門派列表', '金庸作品', '鹿鼎記'}\n",
            "{'恆星命名', '希臘字母', '希臘', '恆星', '拜耳', '拜耳命名法', '約翰·拜耳', '字母'} {'古德命名法', '拜耳命名法'}\n",
            "{'任天堂', '產品', '程序'} set()\n",
            "{'總統', '校長', '普林斯頓', '伍德羅·威爾遜', '公務員', '普林斯頓大學', '美國總統', '新澤西州'} {'伍德羅·威爾遜高中', '伊迪斯·威爾遜', '伍德羅·威爾遜總統圖書館', '詹姆斯·麥考什', '約翰·希本'}\n",
            "{'弗朗茨·卡夫卡'} {'卡夫卡博物館', '一隻雜種', '張皓宸', '弗朗茨·卡夫卡'}\n",
            "{'本質', '形上學'} {'形上學', '形上學大綱', '現實'}\n",
            "{'狼', '白俄羅斯', '歐洲', '野牛', '捕食', '歐洲野牛', '動物', '天敵_(電視劇)'} {'古偶蹄獸', '印度野牛', '野牛', '野牛屬'}\n",
            "{'飛行員', '航空公司', '信息', '航空器', '意外事故', '航空', '工作', '效率'} {'航空交通管制'}\n",
            "{'老人院', '美國', '康奈爾大學'} set()\n",
            "{'英格蘭', '聯賽系統', '英格蘭足球超級聯賽', '英格蘭足球聯賽系統'} {'英格蘭足球全國聯賽', '英格蘭足球丁級聯賽', '英格蘭足球全國聯賽南', '英格蘭甲組聯賽', '英超亞洲盃'}\n",
            "{'原雞屬', '葉黃素', '原雞', '雞'} {'雞'}\n",
            "{'荷西·摩里納', '荷西·坎諾', '荷西·瓦爾迪茲', '奧莉花·荷西', '臺北市立建國高級中學', '臺灣荷西統治時期', '荷西·安歷基·山齊士', '荷西·馬利'} {'臺北州立臺北第一中學校'}\n",
            "{'2006年', '德國', '城市', '國際足球聯合會'} {'國際足協世界盃', '國際足協U-17世界盃', '國際足協U-20女子世界盃'}\n",
            "{'固體', '銀河系', '物質', '面_(幾何)', '木衛二'} {'木衛二表面特徵列表', '木衛二'}\n",
            "{'字', '同治', '曾光爔', '四川省_(中華民國)', '邛州', '邛州直隸州', '民國', '本名', '祖籍'} {'曾光爔', '嘉應直隸州', '孫之益'}\n",
            "{'政府', '選舉權', '懷俄明州', '法案', '女性', '年代', '世界', '地區議會_(德國)'} {'懷俄明州'}\n",
            "{'田橫', '民俗', '即墨區'} {'即墨城牆', '田橫五百義士冢', '即墨縣', '即墨區'}\n",
            "{'概念', '中心', '客觀性', '學術領域大綱', '問題', '哲學'} {'戰爭哲學', '哲學', '資訊哲學'}\n",
            "{'雍正', '基隆市'} {'雞籠生', '基隆客運', '臺灣基隆地方法院', '基隆山'}\n",
            "{'查理·曼紐爾', '主教座堂', '查理曼'} set()\n",
            "{'2006年', '城市', '德意志', '德國', 'CUP', '國際足球聯合會'} {'國際足協世界盃', '國際足協U-17世界盃', '國際足協U-20女子世界盃'}\n",
            "{'後代', '東晉', '司馬懿', '朝代', '北', '六朝', '戰爭'} {'六朝', '東晉'}\n",
            "{'榴彈炮', '炮兵'} {'M-68榴彈炮', 'M101榴彈炮', '榴彈炮', '280毫米榴彈炮'}\n",
            "{'豫劇'} set()\n",
            "{'漢語', '音韻學', '漢語音韻學', '語言學'} {'等韻學', '漢語音韻學', '漢語史', '音韻學', '音系學'}\n",
            "{'天龍', '反派角色', '天龍八部', '部', '龍', '鮮卑', '慕容復', '天龍八部_(2013年電視劇)'} {'康敏', '北喬峯，南慕容', '天龍八部', '慕容復'}\n",
            "{'黛安娜·羅斯', '黛安娜', '新異教主義', '黛安娜·迪莫娃', '黛安娜·羅', '黛安·韋斯特', '黛安娜·馬西森', '異教'} {'新異教主義'}\n",
            "{'博古', '經歷', '蘇聯'} {'博古埃', '博古恰爾區', '博古'}\n",
            "{'船', '臺灣', '波濤', '漁民', '南小島'} {'南小島', '北小島'}\n",
            "{'大韓民國', '金泳三', '韓國國務總理', '國務總理', '工作', '決策', '內閣', '總理'} {'韓國國務總理列表', '韓國國務總理'}\n",
            "{'南美洲', '克氏無齒翎電鰻', '電鰻'} {'克氏無齒翎電鰻', '委內瑞拉短身電鰻'}\n",
            "{'質子', '核'} set()\n",
            "{'字', '府_(行政區劃)', '字_(計算機)', '州', '潛藩升府', '宋朝君主列表', '皇帝', '宋朝', '府'} {'潛藩升府', '常德府'}\n",
            "{'獎勵', '金尼·伍德利·蘭伯特', '電子藝術大獎'} {'電子藝術大獎'}\n",
            "{'臺中市', '市政府站_(臺北市)', '站'} set()\n",
            "{'波斯', '兒子', '政治家', '阿卜杜勒侯賽因·米爾扎·法爾曼法爾馬'} {'阿卜杜勒-侯賽因·米爾扎·法爾曼法爾馬'}\n",
            "{'斗六廳', '兒玉利國', '政府首腦', '斗六_(大字)'} {'斗六郡', '斗六街'}\n",
            "{'人種', '首都', '新西蘭', '商店', '大洋洲', '文化中心', '大洋洲_(太平洋諸島嶼)', '惠靈頓'} {'惠靈頓'}\n",
            "{'平原', '南部', '南海', '沖積平原', '南海潮', '中國', '蜑家', '百貨公司'} set()\n",
            "{'公元', '本初子午線', '信念', '歐洲', '度_(角)', '歐洲中心主義', '主義', '紀年', '世界'} {'歐洲中心主義'}\n",
            "{'金朝', '宗', '馬丁·路德·金', '金', '金章宗', '高峯'} {'完顏洪靖'}\n",
            "{'行政法'} {'美國聯邦行政部門', '行政法'}\n",
            "{'總統', '俄羅斯總理', '代理_(政治)', '羅曼·伊戈列維奇·普京', '俄羅斯', '弗拉基米爾·普京', '總理'} {'柳德米拉·普京娜', '俄羅斯代理總統'}\n",
            "{'恆星', '花蓮縣'} {'和歌山縣旗', '花蓮縣議員列表', '山形縣旗', '鳥取縣旗'}\n",
            "{'太平盛世', '三國', '東漢', '國力', '東漢末年', '漢朝', '高峯', '盛世'} {'太平盛世'}\n",
            "{'Dreamcast', '世嘉'} {'Dreamcast遊戲列表', '街頭霸王III'}\n",
            "{'漫畫', '彼得·傑克遜', '魔戒', '埃爾熱', '丁丁歷險記', '丁丁_(丁丁歷險記)', '比利時', '漫畫家'} {'紅海鯊魚', '丁丁在蘇聯', '丁丁歷險記', '丁丁與流浪漢', '714航班'}\n",
            "{'宋教仁', '中華民國', '國民黨_(消歧義)', '政治家', '臺灣國民黨'} {'潯陽街道', '臺灣國民黨', '宋教仁'}\n",
            "{'納米比亞', '太平洋', '平面'} {'納米比亞，勇氣之地', '納米比亞總統', '中國駐納米比亞大使列表', '納米比亞駐外機構列表', '西南非洲'}\n",
            "{'東北', '東蒙', '中國東北地區', '傳統', '盟', '內蒙古自治區', '盟_(行政區劃)', '中國', '人口'} set()\n",
            "{'繼承人', '繼承', '所有權'} set()\n",
            "{'桃園市', '中華民國', '南部', '臺灣', '四縣話', '楊梅_(大字)', '楊梅區', '臺灣客家語'} {'峨眉鄉'}\n",
            "{'訴訟', '法律邏輯學', '悖論', '文本'} {'半費之訟'}\n",
            "{'名稱', '木衛十五', '環', '木星', '發現者', '木星環', '木星的衛星'} {'木衛十五', '木衛五十', '木衛五十二'}\n",
            "{'酒神', '古希臘悲劇', '悲劇', '希臘', '祭祀', '華特迪士尼公司', '古希臘', '酒'} {'古希臘悲劇', '悲劇的誕生', '狄俄倪索斯', '古希臘喜劇', '邁那得斯'}\n",
            "{'科學家', '北京理工大學'} {'華北理工大學'}\n",
            "{'關羽', '金蘭', '劉備', '張飛', '小說', '章回小說', '三國演義'} {'關羽', '桃園三結義', '演義', '樊城之戰', '三國演義'}\n",
            "{'兒童', '普羅米修斯'} {'普羅米修斯', '被縛的普羅米修斯', '解放了的普羅米修斯', '普羅米修斯計劃'}\n",
            "{'言論自由', '網路用戶'} set()\n",
            "{'父系制度', '燧人氏', '河套', '氏族', '火', '氏_(消歧義)'} {'燧人氏'}\n",
            "{'混合物', '物質', '相_(物質)', '溶液'} set()\n",
            "{'蛋白質組', '時間', '聚合', '葡萄糖', '蛋白質', '聚合酶鏈式反應', '即時聚合酶鏈式反應', '基因'} {'GeneCards', '人類蛋白質組組織', '蛋白質組', '蛋白質組學', '人類蛋白質組計劃'}\n",
            "{'世界', '荷蘭', '波士頓', '企業', '總部', '通用電氣', '奇異', '國家'} {'通用電氣'}\n",
            "{'護照'} {'中華人民共和國護照', '葡萄牙護照', '韓國護照', '乘坐民航飛機臨時身份證明', '護照'}\n",
            "{'扶餘國', '玄菟郡', '太守', '漢朝'} {'扶餘國', '耿臨'}\n",
            "{'臺北', '臺北101'} {'90年代', '前90年代'}\n",
            "{'埃裏希·瑪利亞·雷馬克', '希臘神話', '木衛六', '希臘', '神話', '宙斯', '塞壬', '希瑪利亞'} {'木衛六', '希瑪利亞'}\n",
            "{'臺灣', '徐有庠', '學校', '組織創始人'} {'徐有庠'}\n",
            "{'藝人', '香港', '雙性戀', '馬詩慧'} {'雙性戀恐懼症', '雙性戀擦除', '雙性戀自豪日', '同性戀與雙性戀者列表：Bi–Bz'}\n",
            "{'佛經', '發展', '藏', '佛教'} {'佛經目錄', '印度佛教'}\n",
            "{'哈佛大學', '普拉桑塔·帕坦尼克', '博士', '教授'} {'普拉桑塔·帕坦尼克'}\n",
            "{'希臘神話', '名稱', '希臘', '神話', '木衛三十九', '超級名模'} {'加拿大超級名模生死鬥第一季', '希臘神話生物列表', '霍爾三十九族'}\n",
            "{'單片機', '微處理器', '集成電路'} {'SuperH', '單片機', '嶋正利', 'Rock微處理器', '4位元'}\n",
            "{'內積空間', '空間_(數學)', '畢達哥拉斯', '抽象', '空間', '角'} {'希爾伯特空間', '畢達哥拉斯主義', '內積空間', '畢達哥拉斯樹', '新畢達哥拉斯主義'}\n",
            "{'紅軍', '蘇聯', '蘇聯紅軍', '列夫·托洛茨基'} {'列夫·謝多夫旅', '托洛茨基主義'}\n",
            "{'概念', '中心', '法院', '客觀性', '學術領域大綱', '問題'} {'哲學'}\n",
            "{'物理學', '吳健雄'} {'蘇州健雄職業技術學院', '吳健雄學院', '戴運軌'}\n",
            "{'亂', '兄弟_(無線電視劇)', '卿', '晉國', '儲君', '晉文公', '驪姬之亂', '君主', '驪姬'} set()\n",
            "{'天琴座', '廂座', '星座', '豎琴', '形狀', '希臘', '星', '古希臘'} {'天琴座'}\n",
            "{'羅生門', '羅生門_(2015年歌曲)', '多用戶', '劇情片'} set()\n",
            "{'總統', '政府', '陳水扁', '記者會', '2016', '臺灣醫界聯盟基金會'} {'臺灣醫界聯盟基金會'}\n",
            "{'星座', '恆星', '恆星命名'} {'變星命名法'}\n",
            "{'電', '電流', '鍼灸', '研究', '媒介', '西方世界', '論文', '國家'} {'媒介環境學'}\n",
            "{'伊斯蘭教', '古賽爾_(敘利亞)', '什葉派', '古賽爾戰役', '組織'} {'阿富汗什葉派伊斯蘭教'}\n",
            "{'亞洲', '遼朝', '遊牧', '政權', '北', '遊牧民族', '君主制'} {'現行君主制政權列表', '遼朝皇后及妃嬪列表'}\n",
            "{'勃列日涅夫_(消歧義)', '列昂尼德·勃列日涅夫', '政權', '經濟', '古巴', '美國', '蘇聯'} {'列昂尼德·勃列日涅夫遇刺案', '安德烈·尤里耶維奇·勃列日涅夫', '列昂尼德·勃列日涅夫所獲獎項列表', '列昂尼德·勃列日涅夫'}\n",
            "{'臺中市', '考試院', '臺北市文山區永建國民小學'} {'臺中市議會', '考試院副院長', '臺北市文山區永建國民小學'}\n",
            "{'臺灣天文觀測', '天文觀測', '臺灣', '國立中央大學天文研究所', '國立中央大學_(南京)', '天文臺', '大學', '地震', '領域'} {'臺灣天文觀測', '國立中央大學天文研究所', '鹿林天文臺', '天文臺', '與鹿林天文臺有關的小行星列表'}\n",
            "{'南北朝時代_(日本)', '宋武帝', '東晉', '南北朝_(消歧義)'} {'宋武帝'}\n",
            "{'大衆汽車', '品牌', '司法機關', '大衆集團', '世界'} set()\n",
            "{'大衛·貝克漢姆', '資產'} set()\n",
            "{'臺北', '臺北市立聯合醫院', '配偶', '新北市政府', '院長', '聯合醫院', '醫院', '新北市'} {'臺北市立聯合醫院', '臺北市政府衛生局', '臺南市政府衛生局', '聯合醫院', '臺北市立萬芳醫院'}\n",
            "{'南島_(新西蘭)', '城市', '奧克蘭', '帆', '南島'} {'華裔新西蘭人', '紐西蘭人口'}\n",
            "{'爵士樂', '小號', '銅管樂器', '音樂', '古典音樂', '管樂器'} set()\n",
            "{'金屬', '化學元素', '元素週期表'} {'以科學家命名的化學元素列表', 'D區元素', '金屬', '11族元素', '5族元素'}\n",
            "{'荷馬', '史詩', '荷馬史詩', '研究', '物理學', '東西_(作家)'} set()\n",
            "{'銀川平原', '銀川市', '中部'} {'銀川平原', '石嘴山市', '1739年平羅地震', '銀川市', '銀川專區'}\n",
            "{'美國', '博士後', '英國', '沈宗瀛'} {'博士後', '法學博士'}\n",
            "{'嘉南', '中心', '平原', '臺灣', '嘉南平原', '臺南_(消歧義)', '臺南縣', '行政區_(消歧義)'} {'嘉南', '高雄平原', '屏東平原', '嘉南平原', '臺南縣'}\n",
            "{'敏迷龍屬', '迷_(無線電視劇)', '屬', '尾', '龍', '恐龍'} set()\n",
            "{'肥胖症'} set()\n",
            "{'人類', '水溶液', '氰化氫', '頻率', '氰化鋰', '溶液', '鹼', '氰化鈉'} {'氰化鋁', '氰化氫', '氰化銀', '氰化鋰', '氰化鈉'}\n",
            "{'柏林自由大學', '自由大學', '柏林'} {'柏林洪堡大學', '柏林自由大學', '柏林工業大學'}\n",
            "{'鷺屬', '蒼鷺', '溼地', '模式種'} {'麻鳽屬', '蒼鷺', '鷺屬'}\n",
            "{'城邦', '文藝復興', '藝術家', '米開朗基羅·樂孔特', '義大利文藝復興', '意大利', '米開朗基羅·法爾瑪提諾', '米開朗基羅'} {'義大利文藝復興', '佛羅倫薩共和國', '米開朗基羅撞擊坑'}\n",
            "{'紫微垣', '皇帝', '宮女'} {'紫微垣'}\n",
            "{'土衛十', '木星', '土衛十一', '土星的衛星'} {'土衛四十九', '土衛十一', '土衛一', '土衛三'}\n",
            "{'希臘神話', '證明', '希臘', '神話', '藝術品', '考古學'} {'希臘神話生物列表', '希臘神話'}\n",
            "{'卡拉卡爾帕克人', '陳水扁', '卡拉卡爾帕克斯坦共和國', '斯坦', '烏茲別克人'} {'穆薩·葉爾尼亞佐夫', '卡拉卡爾帕克斯坦共和國', '卡拉卡爾帕克蘇維埃社會主義自治共和國', '木伊那克', '在日烏茲別克人'}\n",
            "{'臺灣天文觀測', '天文觀測', '臺灣', '國立中央大學', '國立中央大學天文研究所', '國立中央大學_(南京)', '天文臺', '大學', '領域'} {'臺灣天文觀測', '國立中央大學天文研究所', '鹿林天文臺', '天文臺', '與鹿林天文臺有關的小行星列表'}\n",
            "{'頭', '披頭四樂隊', '歐洲', '單曲'} {'橡皮靈魂'}\n",
            "{'香港', '陳獨秀', '中國共產黨', '國家安全法', '長毛', '梁國雄', '綽號', '中華人民共和國香港特別行政區維護國家安全法', '香港人'} {'梁國雄2017年香港行政長官選舉活動', '梁國雄'}\n",
            "{'中央銀行', '出版', '貨幣'} set()\n",
            "{'威尼斯', '金獅獎_(消歧義)', '電影節', '意大利', '金獅獎'} {'第52屆威尼斯影展'}\n",
            "{'聶華苓', '自由中國_(雜誌)', '自由中國'} {'科技導報社', '聶華苓'}\n",
            "{'戊', '戊戌變法', '光緒帝', '光緒', '慈禧太后', '康有爲', '謠言', '權力', '戊戌'} {'戊戌變法'}\n",
            "{'水力帝國', '帝國', '水資源', '人口自然增長率', '人口'} {'水力帝國'}\n",
            "{'秦', '趙國', '燕國', '滅亡', '王翦', '秦國'} {'楊端和', '羌瘣'}\n",
            "{'Fairytale', 'FAIRYTALE', '西方', '童話'} {'童話'}\n",
            "{'臺灣', '河流', '淡水河', '淡水_(消歧義)'} set()\n",
            "{'赤足', '路'} {'赤足', '赤足根蟎'}\n",
            "{'許世友', '紅四軍'} {'許家窪'}\n",
            "{'愛爾蘭', '面積'} {'愛爾蘭國家的名稱', '愛爾蘭自由邦', '愛爾蘭總統'}\n",
            "{'佛', '釋迦牟尼', '詞', '佛教', '詞_(文學)', '薄伽梵', '世界'} set()\n",
            "{'天龍', '名稱', '天龍八部', '部', '角色', '龍', '慕容復', '天龍八部_(1982年電視劇)'} {'阿碧', '慕容博', '天龍八部', '慕容復', '北喬峯，南慕容'}\n",
            "{'貝塔·雷·比爾', '貝雷特', '仇恨'} {'貝雷特'}\n",
            "{'目標', '非營利組織'} {'非營利組織', '臺灣NPO資源列表', '.org'}\n",
            "{'1987年', '方中信', '夏文汐', '1985年', '電影', '朝花夕拾'} {'朝花夕拾'}\n",
            "{'運河', '嘉興市', '京杭大運河', '杭嘉湖平原'} {'嘉興市', '嘉善縣', '浙北', '杭嘉湖平原'}\n",
            "{'郵輪', '泰坦尼克號', '英國皇家郵輪', '泰坦尼克號_(消歧義)', '英國', '紐約'} {'英國皇家郵輪', '亨利·懷爾德'}\n",
            "{'臺北', '臺北市立聯合醫院', '新北市政府', '妻子', '院長', '聯合醫院', '醫院', '新北市'} {'陳伸賢', '臺北市立聯合醫院', '臺北市立關渡醫院', '聯合醫院', '臺北市立萬芳醫院'}\n",
            "{'獨裁', '內戰', '西班牙內戰', '弗朗西斯科', '弗朗西斯科·佛朗哥', '政權', '西班牙', '吉祥物'} {'西班牙內戰', '弗朗西斯科·佛朗哥', '弗朗西斯科·佛朗哥獨裁', '西班牙共和國流亡政府', '卡門·波羅'}\n",
            "{'中彰投', '臺灣', '2020', '苗栗縣', '中部', '行政院', '交通部中央氣象局'} {'苗栗縣'}\n",
            "{'吳建豪', '導演', '安七炫', 'F4', 'F_(音名)'} {'吳建豪'}\n",
            "{'饕餮'} set()\n",
            "{'紅軍', '許世友'} {'許家窪', '許世友反革命集團案'}\n",
            "{'爆炸', '趙守福', '中國人民解放軍', '虎', '武將', '北京市', '全國戰鬥英雄代表會議', '于化虎'} {'全國戰鬥英雄代表會議', '趙守福', '于化虎'}\n",
            "{'馬克思主義', '馬克思·多爾穆瓦站', '格魯喬·馬克思', '卡爾·馬克思', '馬克思主義政治經濟學', '資本論', '政治經濟學', '海因裏希·馬克思'} {'馬克思主義政治經濟學', '資本論', '河上肇', '女人資本論'}\n",
            "{'神仙·老師·狗', '雍正帝', '仁皇后', '教師', '孝恭仁皇后'} {'仁皇后'}\n",
            "{'紅軍', '許世友'} {'許家窪', '許世友反革命集團案', '上將許世友'}\n",
            "{'岩石', '仙人掌', '墨西哥', '墨西哥國徽', '忠', '力量', '國徽', '湖泊'} {'墨西哥國徽'}\n",
            "{'碳', '氧化', '乙炔', '氧化鈣', '鎂', '水', '碳化鎂', '鈣'} {'乙炔銅', '乙炔銀', '乙炔', '苯乙炔', '乙炔二醇'}\n",
            "{'節肢動物', '蟲', '蛛形綱', '蠍子', '蜘蛛', '昆蟲'} {'蛛形綱', '香港純蛛', '無鞭目', '觸肢', '序足動物'}\n",
            "{'船', '東海', '小島_(臺東區)', '南', '波濤', '北小島', '漁民', '過去', '南小島'} {'橄欖門', '南小島', '北小島'}\n",
            "{'美術館', '位置', '臺灣', '中西區_(臺灣)', '西區_(臺南市)', '臺南市美術館', '臺南市', '中西區'} {'國立西洋美術館', '臺南景福祠', '臺南市美術館'}\n",
            "{'名稱', '臺灣', '西北部_(越南)', '西北', '元智大學', '綽號'} {'香港幼稚園列表'}\n",
            "{'密碼', '密碼學', '信息', '數學'} {'密碼學', '密碼學主題列表'}\n",
            "{'兄弟姊妹', '馬世莉', '心肌梗死'} set()\n",
            "{'作家', '俄羅斯', '小說', '托爾斯泰_(消歧義)', '戰爭與和平', '列夫·托爾斯泰'} {'索菲亞·別爾斯', '亞斯納亞波利亞納', '列夫·托爾斯泰著作列表', '戰爭與和平', '列夫·托爾斯泰區'}\n",
            "{'加拿大', '尼克·貝爾格', '商人'} {'尼克·貝爾格'}\n",
            "{'硬幣', '折射率', '光導纖維'} {'香港五元硬幣'}\n",
            "{'臣', '漢初三傑', '劉邦', '漢朝', '漢', '天下'} {'漢初三傑', '白登山', '蕭何'}\n",
            "{'老年', '校長', '馬寅初', '北京市', '北京大學'} {'吳樹青'}\n",
            "{'托馬斯', '葬禮', '作品', '潘恩', '托馬斯·潘恩', '教條', '美國'} {'潘恩', '托馬斯·潘恩'}\n",
            "{'京九鐵路', '線'} {'京九鐵路吉安贛江特大橋', '京九鐵路', '京港高速鐵路'}\n",
            "{'木星', '衛星'} {'太陽系天然衛星列表', '木星的衛星'}\n",
            "{'政府', '稱謂', '魏瑪', '魏瑪共和國', '德國'} set()\n",
            "{'粗糙擬迷孔菌', '食用蕈', '蕈類'} {'粗糙擬迷孔菌'}\n",
            "{'科學園區', '東區_(新竹市)', '竹東鎮', '臺灣', '工業技術研究院', '竹東_(大字)', '新竹_(大字)', '新竹市_(1945年—1950年)'} {'竹東鎮'}\n",
            "{'菜', '蘇菜', '味_(粒子物理學)', '淮揚菜', '中國', '淮揚', '菜系', '江蘇省'} {'海南菜', '蟹黃湯包', '登州府', '淮揚菜'}\n",
            "{'清朝', '鰲拜', '康熙帝', '部長'} {'鰲拜'}\n",
            "{'動漫', '臺灣大學卡通漫畫研究社', '社團', '臺灣', '國立臺灣大學', '大學', '相關性', '卡通'} {'臺灣大學卡通漫畫研究社'}\n",
            "{'澳門威尼斯人', '澳門特別行政區政府'} {'澳門2013年度頒授勳章、獎章和獎狀名單', '澳門2018年度頒授勳章、獎章和獎狀名單', '澳門2010年度頒授勳章、獎章和獎狀名單', '澳門2016年度頒授勳章、獎章和獎狀名單', '澳門2011年度頒授勳章、獎章和獎狀名單'}\n",
            "{'4月2日', '紀念日', '維納斯', '羅馬'} {'維納斯'}\n",
            "{'南美洲', '北美洲', '歐陸舞曲', '歐洲大陸', '洲', '兒歌'} {'歐陸舞曲'}\n",
            "{'總統', '貝尼託·胡亞雷斯', '墨西哥', '亞伯拉罕·林肯', '墨西哥總統'} {'貝尼託·胡亞雷斯', '法國武裝干涉墨西哥'}\n",
            "{'足球場', '排球'} {'2008年夏季奧林匹克運動會排球比賽', '亞洲排球錦標賽', '排球', '沙灘排球'}\n",
            "{'鹼', '肥料', '硫'} {'硫'}\n",
            "{'日本', '若竹町', '行政區劃', '若竹町_(臺南市)'} {'汐見町', '伏見町', '青葉町'}\n",
            "{'脊椎動物', '海', '始海百合', '百合_(消歧義)', '氣門', '百合屬', '海百合'} set()\n",
            "{'關羽', '小說', '張飛', '三國演義'} {'趙雲', '張飛', '演義', '五虎將', '武安國'}\n",
            "{'印度', '印度國民大會黨', '印度總理', '莫拉爾吉·德賽', '1977年', '總理'} {'莫拉爾吉·德賽', '印度總理'}\n",
            "{'城市', '地區', '耶路撒冷'} {'新耶路撒冷', '耶路撒冷國王'}\n",
            "{'艾伯特·金_(籃球運動員)', '弗里德里希·艾伯特', '萊比錫', '維滕貝格', '學習', '文獻學', '弗里德里希·阿道夫·艾伯特', '小弗里德里希·艾伯特', '圖書館'} {'弗里德里希·阿道夫·艾伯特'}\n",
            "{'伍迪·艾倫', '喜劇中心', '艾倫', '2004年'} {'評論家選擇電影獎最佳喜劇女主角', '保羅·萊瑟', '評論家選擇電影獎最佳喜劇電影', '喜劇中心吐槽大會', '評論家選擇電影獎最佳喜劇男主角'}\n",
            "{'政府', '臺灣省', '1998年', '地方自治', '功能', '臺灣省政府'} {'雲林縣政府', '花蓮縣政府', '南投縣政府', '臺東縣政府', '臺灣省政府'}\n",
            "{'微軟', 'Borland', '丹麥', '安德斯·海爾斯伯格', '編譯器', '安德斯', '作者'} {'Borland', '安德斯·海爾斯伯格', 'Borland數據引擎'}\n",
            "{'分子', '氫氣'} {'氫氣'}\n",
            "{'隋朝'} set()\n",
            "{'朱塞佩·威爾第', '處女作', '詩'} {'朱塞佩·威爾第'}\n",
            "{'隋朝', '制度'} {'科舉'}\n",
            "{'日本人', '實藤惠秀', '中國'} {'中國通'}\n",
            "{'英格蘭', '民意代表', '代表', '威廉·華茲華斯', '湖區'} {'湖畔詩人', '赫爾維林峯'}\n",
            "{'酒店', '孟菲斯_(田納西州)', '馬丁·路德·金', '馬丁·路德'} {'馬丁·路德·金恩遇刺案', '孟菲斯大學'}\n",
            "{'城邦', '米開朗基羅·樂孔特', '中世紀', '邦', '米開朗基羅·法爾瑪提諾', '米開朗基羅', '政治家', '國家'} {'博納羅蒂之家', '佛羅倫薩共和國', '米開朗基羅撞擊坑'}\n",
            "{'受害者', '案例', '縣_(中華民國)', '臺東垃圾焚化廠', '關山', '臺東', '臺東縣'} {'臺灣垃圾焚化廠列表', '岡山垃圾焚化廠', '臺東垃圾焚化廠', '崁頂垃圾焚化廠', '永康垃圾焚化廠'}\n",
            "{'波斯語', '維吾爾語', '子葉', '植物', '單子葉植物', '洋蔥'} {'單子葉植物', '洋蔥'}\n",
            "{'中國共產黨', '李嵐清', '教育', '中國政法大學', '法學', '中國'} set()\n",
            "{'顏色', '實體', '力', 'Change.org'} set()\n",
            "{'籃球'} set()\n",
            "{'歐洲民族', '語言', '歐洲', '民族', '民族國家', '地區'} {'歐洲民族'}\n",
            "{'圓周率', '不動點', '圓', '距離', '平面', '軌跡'} {'圓'}\n",
            "{'代謝途徑', '真核生物', '生物', '酶', '古菌', '細菌', '核', '代謝'} {'真核生物', '真核翻譯', '嘌呤代謝', '古菌', '雙鞭毛生物'}\n",
            "{'獨裁', '內戰', '西班牙內戰', '弗朗西斯科·佛朗哥', '大元帥', '西班牙', '國民軍_(西班牙)', '弗朗西斯科'} {'卡門·波羅', '弗朗西斯科·佛朗哥', '西班牙共和國流亡政府'}\n",
            "{'馬克思主義', '馬克思·多爾穆瓦站', '格魯喬·馬克思', '卡爾·馬克思', '馬克思主義政治經濟學', '資本論', '政治經濟學', '海因裏希·馬克思'} {'馬克思主義政治經濟學', '資本論', '河上肇', '女人資本論'}\n",
            "{'歐洲民族', '語言', '歐洲', '民族', '民族國家', '國家'} {'歐洲民族'}\n",
            "{'即墨區'} {'即墨城牆', '即墨縣'}\n",
            "{'剛果民主共和國', '首都'} {'剛果民主共和國華人', '剛果民主共和國', '老楞佐·蒙森沃·帕辛亞', '開賽河', '剛果奧林匹克委員會'}\n",
            "{'寒武紀大爆發', '世界', '寒武紀_(消歧義)', '寒武紀'} {'寒武紀大爆發'}\n",
            "{'永嘉_(西晉)', '士兵', '洛陽市', '劉聰', '永嘉之亂', '晉懷帝', '五胡十六國', '懷帝', '帝'} set()\n",
            "{'東北', '那加蘭邦', '東北部_(越南)', '印度教', '印度東北部', '本地人', '印度'} {'隆格倫格縣', '尼泊爾印度教', '科希馬縣'}\n",
            "{'沙丁魚罐頭', '沙丁魚', '鯡科', '物種', '鯡形目'} {'沙丁魚罐頭', '隆背小沙丁魚', '沙丁魚', '白小沙丁魚', '繸鱗小沙丁魚'}\n",
            "{'工藝美術', '技術', '世紀'} set()\n",
            "{'數據科學家', '機體', '疾病', '科學家_(歌曲)', '因果關係'} {'病理學'}\n",
            "{'90年', '長頸鹿'} {'90年代', '前90年代'}\n",
            "{'世紀'} {'前9世紀'}\n",
            "{'朱塞佩·威爾第', '作品', '喜劇'} {'朱塞佩·威爾第'}\n",
            "{'漢語', '分支', '漢語音韻學', '語言學'} {'等韻學', '漢語音韻學', '統計語言學', '漢語史', '音系學'}\n",
            "{'作曲家', '版稅', '作品', '音樂出版社', '詞曲作家'} {'詞曲作家', '古典音樂作曲家列表', '音樂出版社', '廣播音樂公司'}\n",
            "{'天體', '月食', '食_(天文現象)', '區域', '光'} {'2011年6月15日月食', '19世紀月食列表', '月食', '2006年9月7日月食'}\n",
            "{'震度', '西部', '地區', '薩爾波勒扎哈卜', '伊朗', '地震'} {'日本氣象廳震度等級', '震度', '薩爾波勒扎哈卜', '交通部中央氣象局地震震度分級'}\n",
            "{'流產', '胎兒', '母體', '出血'} set()\n",
            "{'政治人物', '字', '星海', '宋潢_(嘉慶壬戌進士)', '山西省', '山西省_(中華民國)'} {'星海街道', '星海街', '胡士相', '葉星海', '星海生活廣場'}\n",
            "{'天體', '共振', '軌道', '太陽系', '軌道共振'} {'軌道共振'}\n",
            "{'動漫', '臺灣大學卡通漫畫研究社', '臺灣', '國立臺灣大學', '大學', '卡通'} {'臺灣大學卡通漫畫研究社'}\n",
            "{'楚文化', '鍾祥市', '文化', '面積', '中國', '楚', '中華人民共和國'} set()\n",
            "{'文學', '雅各_(西庇太的兒子)', '白話', '臺南市', '白話字', '馬雅各'} {'客家白話字', '海南話白話字', '白話字', '白話'}\n",
            "{'弗朗茨·卡夫卡', '作品'} {'卡夫卡博物館', '卡夫卡鬆餅君', '一隻雜種', '弗朗茨·卡夫卡'}\n",
            "{'納米比亞', '海平面'} {'納米比亞，勇氣之地', '納米比亞總統', '中國駐納米比亞大使列表', '納米比亞駐外機構列表', '西南非洲'}\n",
            "{'謝雪心'} set()\n",
            "{'概念', '阿爾弗雷德·諾貝爾', '漢斯·愛因斯坦', '光子', '光', '諾貝爾物理學獎', '物理學', '阿爾伯特·愛因斯坦'} {'光子', '光電效應'}\n",
            "{'查理·卓別林', '偶像_(日本)'} {'小查理·卓別林', '悉尼·厄爾·卓別林', '摩登時代', '漢娜·卓別林', '悉尼·約翰·卓別林'}\n",
            "{'人民', '臺灣', '臺灣人', '短波廣播', '雲林定遠電臺', '臺南天馬電臺', '冷戰', '短波'} {'短波廣播', '雲林定遠電臺'}\n",
            "{'鎖麟囊', '上海市'} set()\n",
            "{'臺灣三山善社', '臺灣', '山', '明治', '三山'} {'方幼祥', '臺灣三山善社'}\n",
            "set() set()\n",
            "{'竹內瑪莉亞', '演員', '山下達郎', '1982年'} {'我們的夏日夢', '一直在一起吧'}\n",
            "{'上座_(佛教)', '法_(佛教)', '上座部佛教', '上座部'} {'部派佛教', '斯里蘭卡佛教', '藍胸佛法僧', '上座部'}\n",
            "{'天體', '軌道_(力學)', '軌道', '小行星', '行星', '太陽'} set()\n",
            "{'香港', '香港科技大學', '科技大學', '餐廳'} {'香港科技大學', '香港科技大學學生會', '科技大學', '峯景餐廳集團'}\n",
            "{'非建制', '非建制地區', '北美洲', '建制', '伯茲克里克_(喬治亞州)', '北美東部時區', '地區'} {'墨西哥時區'}\n",
            "{'徐志摩', '家庭', '英國', '志摩'} {'徐志摩', '徐志摩墓'}\n",
            "{'藝術類型', '芝加哥', '伊利諾伊大學厄巴納香檳分校', '研究型大學', '厄巴納_(伊利諾伊州)', '香檳', '今天', '大學'} {'章瑩穎綁架謀殺案', '伊利諾伊大學威拉德機場', '伊利諾大學', '伊利諾伊大學厄巴納-香檳分校', '艾科·伊本'}\n",
            "{'長江', '地級市', '九江_(消歧義)', '省', '江西省', '市', '九江市_(縣級)', '九江市'} {'永修縣', '九江地區', '瑞昌市', '湖口縣', '彭澤縣'}\n",
            "{'國家', '英國', '廣播'} {'BBC廣播四臺', 'BBC電影', '英國廣播公司', 'BBC自然知性臺'}\n",
            "{'中華人民共和國外交', '外交', '詞', '大國外交', '國', '年代', '中華人民共和國', '大國'} {'中華人民共和國外交', '大國外交'}\n",
            "{'1990年', '音樂劇'} set()\n",
            "{'現象', '姓', '漢姓', '安東尼·西尼蘇卡·金廷', '漢服'} {'安東尼·西尼蘇卡·金廷'}\n",
            "{'1000', '紅磚大學', '1900年', '伯明翰', '英國', '伯明翰大學'} {'伯明翰城市大學', '伯明翰機場', '赫爾大學', '紅磚大學', '伯明翰藝術學院'}\n",
            "{'總統', '貝尼託·胡亞雷斯', '墨西哥', '亞伯拉罕·林肯', '墨西哥總統'} {'貝尼託·胡亞雷斯'}\n",
            "{'昆蟲', '捕食', '角色', '蟲媒花', '花粉'} set()\n",
            "{'1000', '紅磚大學', '1900年', '利物浦', '伯明翰', '英國', '利物浦大學', '伯明翰大學'} {'伯明翰新街站', '伯明翰城市大學', '伯明翰機場', '紅磚大學', '伯明翰藝術學院'}\n",
            "{'索爾·勒維特', '1927年', '諾貝爾獎', '會議', '布魯塞爾', '索爾維會議'} set()\n",
            "{'印度', '組合', '系統', '印度教', '歐羅巴', '金剛經', '語言系屬分類', '印度教神話'} set()\n",
            "{'晚上', '節目', '時間', '新聞聯播', '北京市', '中國', '北京時間'} {'全國新聞聯播', '新聞聯播', '香港十年', '家文看北京', '新聞聯播天氣預報'}\n",
            "{'向日葵', '花', '雙子葉植物', '科', '子葉', '植物', '真雙子葉植物'} {'向日葵', '向日葵之裏', '真雙子葉植物', '內蒙古雙子葉植物列表'}\n",
            "{'吉林大學', '吉林省'} {'吉林工業大學', '吉林大學西區', '吉林大學附屬中學', '皓月集團'}\n",
            "{'總理', '印度國民大會黨', '印度總理', '印度'} set()\n",
            "{'1995', '少女小漁_(電影)', '亞太影展', '劉若英', '我的美麗與哀愁', '1995年'} {'劉若英', '少女小漁劉若英的美麗與哀愁'}\n",
            "{'臺灣海峽', '澎湖羣島'} {'衛生福利部澎湖醫院', '澎湖縣文化資產', '澎湖廳長', '澎湖縣'}\n",
            "{'澳門文化中心', '劇場', '澳門特別行政區政府'} {'澳門2013年度頒授勳章、獎章和獎狀名單', '澳門2018年度頒授勳章、獎章和獎狀名單', '澳門2010年度頒授勳章、獎章和獎狀名單', '澳門2016年度頒授勳章、獎章和獎狀名單', '澳門2011年度頒授勳章、獎章和獎狀名單'}\n",
            "{'受害者', '案例', '臺東垃圾焚化廠', '公民', '臺東', '臺東市'} {'臺灣垃圾焚化廠列表', '岡山垃圾焚化廠', '臺東垃圾焚化廠', '崁頂垃圾焚化廠', '永康垃圾焚化廠'}\n",
            "{'總統', '巴西總統', '工人', '巴西', '伊朗', '路易斯·伊納西奧·盧拉·達席爾瓦'} {'路易斯·伊納西奧·盧拉·達席爾瓦'}\n",
            "{'蒲公英', 'Dandelion'} {'蒲公英', '小五臺蒲公英', '短啄蒲公英', '淺沼晉太郎', 'Dandelion'}\n",
            "{'大學', '橫濱國立大學', '電視劇', '橫濱市'} set()\n",
            "{'湯姆·漢克斯', '湯姆·班克斯', '獎勵', '收入', '湯姆·克魯斯'} set()\n",
            "{'姓', '隋書', '昭武九姓', '月氏', '朝代', '昭武', '祖先'} {'昭武九姓'}\n",
            "{'集合', '集合_(數學)', '有限集合'} {'集合', '無限集合', '集合族', '有限集合', '餘有限空間'}\n",
            "{'石器時代', '文字', '史前時代', '羌', '山羌', '石器', '時代', '歷史'} {'史前時代', '中國中石器文化列表', '中國史前文化', '石器', '中石器時代'}\n",
            "{'名', '奧斯卡金像獎', '奧斯卡', '奧斯卡·埃爾南德斯', '小說', '獎勵'} set()\n",
            "{'莫斯科', '劇場', '莫斯科大劇院'} set()\n",
            "{'古羅馬', '世紀', '平民', '羅馬', '騎士', '法律'} {'羅馬騎士階級', '古羅馬', '平民會議'}\n",
            "{'數學家', '證明完畢', '數學', '證明'} {'電腦協助證明', '證明完畢'}\n",
            "{'半旗', '索馬利蘭國', '旗幟', '顏色', '清真言', '索馬里蘭', '索馬利蘭國旗', '言', '國旗'} {'索馬利蘭國旗'}\n",
            "{'星期五', '耶穌', '基督徒', '日子', '耶穌受難', '教會', '禮拜'} {'元日', '星期五', '13號星期五'}\n",
            "{'羅盤方位', '絲綢之路', '戰爭', '漢朝', '漢'} {'絲綢之路', '絲綢之路世界文化遺產', '絲綢之路巡禮名曲集', '南方絲綢之路'}\n",
            "{'四方', '漢光武帝', '馬援', '問題', '書信'} {'漢光武帝'}\n",
            "{'御座', '皇帝', '宋仁宗'} {'宋仁宗'}\n",
            "{'先決條件', '商業', '行爲'} {'先決條件'}\n",
            "{'天津市', '煎餅_(日本)', '煎餅餜子'} {'煎餅餜子'}\n",
            "{'生物分類學', '屬', '性', '分類學'} set()\n",
            "{'國', '一邊一國', '中國'} set()\n",
            "{'人權', '1978年'} {'灣東願景', '國際LGBTI聯合會', '觀塘願景'}\n",
            "{'養生_(道教)', '瑤池', '洞天', '道教', '西王母', '洞_(小說)'} {'瑤池'}\n",
            "{'中國共產黨', '汕頭市', '汕頭大學', '全球', '廣東省_(中華民國)', '大學', '私人基金會'} {'汕頭大學'}\n",
            "{'樂山大佛', '大佛'} set()\n",
            "{'黛安娜·羅斯', '黛安娜', '崇拜', '黛安娜·迪莫娃', '黛安娜·羅', '黛安·韋斯特', '黛安娜·馬西森', '異教'} {'黛安娜·迪莫娃', '黛安娜·羅'}\n",
            "{'政府', '臺灣省', '費用', '1998年', '地方自治', '功能', '臺灣省政府'} {'雲林縣政府', '花蓮縣政府', '南投縣政府', '臺東縣政府', '臺灣省政府'}\n",
            "{'功夫_(電影)', '年少', '功夫', '許世友', '中國'} set()\n",
            "{'妻子', '亞歷山德拉·墨索里尼', '妻子_(2003年電視劇)', '羅曼諾·貝尼託·弗洛里亞尼·墨索里尼', '貝尼託·墨索里尼', '屍體', '雷切爾·墨索里尼'} {'雷切爾·墨索里尼'}\n",
            "{'小龍女', '合'} {'四合當鎮', '四合永鎮', '四合木', '四合城鎮'}\n",
            "{'代號', '速率', 'H', '物理常數', '真空', '常數'} {'氣體常數'}\n",
            "{'重量', '原理', '物體', '積_(範疇論)', '積·施利'} {'重量', '靜力平衡'}\n",
            "{'公海艦隊自沉事件', '軍艦', '斯卡帕灣', '小時', '公海艦隊', '海牀', '事件', '德國'} {'路德維希·馮·羅伊特', '斯卡帕灣', '公海艦隊自沉事件'}\n",
            "{'亞裔美國人', '定義', '美國', '美國人'} {'亞裔美國人', '日裔美國人'}\n",
            "{'總統', '大韓民國', '韓國國務總理', '國務總理', '工作', '決策', '內閣', '總理'} {'越南共和國總理', '金滉植', '韓國國務總理列表', '韓國國務總理'}\n",
            "{'女性', '鳥'} set()\n",
            "{'火', '熱', '人類'} {'火'}\n",
            "{'城市', '剛果民主共和國'} {'利薩拉', '姆班扎恩古恩古', '根蓋', '開賽河', '剛果奧林匹克委員會'}\n",
            "{'崇義郡', '中國', '北朝', '南北朝', '湖南省'} set()\n",
            "{'博古', '蘇聯'} {'博古埃', '博古恰爾區'}\n",
            "{'勃列日涅夫_(消歧義)', '列昂尼德·勃列日涅夫', '政權', '危機', '古巴', '美國', '蘇聯'} {'列昂尼德·勃列日涅夫遇刺案', '安德烈·尤里耶維奇·勃列日涅夫', '列昂尼德·勃列日涅夫所獲獎項列表', '列昂尼德·勃列日涅夫'}\n",
            "{'臺灣清治時期', '島嶼', '臺灣', '澎湖鎮', '清朝', '臺灣海峽', '澎湖羣島', '海峽', '地區'} {'澎湖本島', '衛生福利部澎湖醫院', '澎湖廳長', '澎湖縣文化資產', '澎湖鎮'}\n",
            "{'魏', '三國', '曹魏', '政權', '曹', '領土', '人口'} {'三國時期君主列表', '曹魏', '何祗', '三國殺Online'}\n",
            "{'狼', '白俄羅斯', '歐洲', '野牛', '生物', '捕食', '歐洲野牛', '天敵_(電視劇)'} {'西伯利亞野牛', '野牛', '野牛屬', '歐洲野牛', '印度野牛'}\n",
            "{'兒子', '大司馬', '曹鼎'} {'曹鼎'}\n",
            "{'皮特·烏斯蒂諾夫', '奧斯卡金像獎', '奧斯卡', '維多利亞女王', '維多利亞', '獎勵'} {'皮特·烏斯蒂諾夫'}\n",
            "{'赤足', '習慣', '犬', '家', '拖鞋'} {'赤足廣場', '赤足根蟎', '兜蘭屬'}\n",
            "{'1889年', '馬克思主義', '國際', '派別', '修正主義_(馬克思主義)', '工人鬥爭', '慕尼黑', '第二國際'} {'第二國際', '工人鬥爭'}\n",
            "{'印度總理', '印度', '總理'} {'馬來西亞印度國民大會黨', '印度國民大會黨', '印度總理', '印度政治', '印度獨立運動'}\n",
            "{'立法機關', '議會', '專制', '國家'} {'委任立法', '專制主義', '各國立法機關列表'}\n",
            "{'宇航員', '加利福尼亞州', '加利福尼亞州州長', '政區首長'} {'加利福尼亞州州長'}\n",
            "{'安德魯·勞埃德·韋伯', '約瑟_(舊約聖經)', '約瑟的神奇彩衣'} {'約瑟的神奇彩衣'}\n",
            "{'魔方', '八片魔板', '父親'} {'八片魔板', '2x2x3魔術方塊', '3x3x7魔術方塊', '十二片魔板', '2x2x1魔術方塊'}\n",
            "set() set()\n",
            "{'馬六甲_(消歧義)', '現在', '馬六甲海峽', '海峽', '國家'} {'馬六甲海峽', '海峽殖民地', '馬六甲海峽歷史城市'}\n",
            "{'奧斯卡', '奧斯卡·埃爾南德斯', '獎勵'} set()\n",
            "{'置標語言', '語言', '標記_(程式語言)', 'XBRL', '美國語言', '美國'} {'語音合成標記語言', 'XML', '美國的語言', 'InkML', '輕量級標記語言'}\n",
            "{'狹義相對論', '相對論', '宇宙', '速度', '光速'} {'超光速運動', '狹義相對論發現史', '光速不變原理', '雙重狹義相對論', '光速'}\n",
            "{'島嶼', '島嶼國家', '南歐', '馬耳他', '地中海', '科米諾島', '君主制'} {'馬耳他總理', '科米諾島', '希臘王國'}\n",
            "{'法語', '潘·巴奇利', '潘恩', '迦勒·潘恩', '托馬斯·潘恩', '國民公會', '羅伯特·崔特·潘恩', '克里斯·潘恩'} {'潘恩'}\n",
            "{'張學友', '楊虎', '西安事變', '楊虎城'} {'張學友87演唱會', '兵諫亭', '西安事變', '楊虎城'}\n",
            "{'狼', '白俄羅斯', '歐洲', '野牛', '捕食', '歐洲野牛', '動物', '天敵_(電視劇)'} {'歐洲野牛', '印度野牛', '野牛', '野牛屬'}\n",
            "{'軟件開發', '活動', '軟件'} {'軟件開發', '軟件開發過程', '軟件工程', '軟件項目管理'}\n",
            "{'中央', '中央部屬高校', '世界一流大學和一流學科建設'} {'中央音樂學院', '海南大學', '中國政法大學', '中央部屬高校', '世界一流大學和一流學科建設'}\n",
            "{'外交', '外交政策', '詞', '大國外交', '爭論', '今天', '中國', '國', '年代', '大國'} {'大國外交'}\n",
            "{'鎖麟囊', '1940年'} {'鎖麟囊'}\n",
            "{'現在', '1987年', '臺北市政府', '臺北市政府捷運工程局'} {'臺北市政府教育局', '桃園市政府捷運工程局', '臺北市政府捷運工程局', '臺北市政府民政局', '新北市政府捷運工程局'}\n",
            "{'境', '桃園市', '直轄市', '中華民國', '直轄市_(中華民國)', '面積', '臺灣海峽'} {'桃園市市長', '桃園市', '桃園市公車'}\n",
            "{'質量', '天體', '物質', '壓強', '土衛一', '太陽系'} set()\n",
            "{'錳酸鉀', '昆蟲', '高錳酸鉀'} {'高錳酸鉀'}\n",
            "{'葡萄', '簇', '果實', '一起_(政黨聯盟)'} {'葡萄', '山葡萄'}\n",
            "{'暗殺', '目標', '幻覺', '執法'} set()\n",
            "{'昆蟲'} set()\n",
            "{'平流層', '甲烷', '科學家', '土衛六'} {'極地平流層雲', '土衛六'}\n",
            "{'伽利略·伽利萊', '希臘神話', '希臘', '神話', '神', '木衛三'} {'蓋尼米德高地', '木衛三'}\n",
            "{'總統', '林登·約翰遜', '約翰遜_(姓氏)', '朝鮮戰爭', '軍事', '戰爭', '美國'} set()\n",
            "{'高安公寓', '公園'} {'高安公寓'}\n",
            "{'輿論調查', '香港', '香港商報', '大公報', '文匯報_(上海)', '商報', '文匯報', '倒數'} {'大公報'}\n",
            "{'歐洲民族', '腳趾', '歐洲', '民族', '指', '國家'} set()\n",
            "{'NBA'} {'2015–16年東南亞職業籃球聯賽賽季', 'NBA吉祥物列表', '2009–10年東南亞職業籃球聯賽賽季', '美國籃球協會', '2016–17年東南亞職業籃球聯賽賽季'}\n",
            "{'古蹟', '中華民國外交部', '中華民國', '國定古蹟', '外交部', '臺北賓館'} {'臺北市國定古蹟列表', '臺北賓館'}\n",
            "{'臺中市', '中學', '臺中市私立曉明女子高級中學', '女性'} {'臺中市立臺中女子高級中等學校', '臺中市私立曉明女子高級中學', '祁志英', '臺中市私立明德高級中學'}\n",
            "{'紅寶石', '寶石', '工業'} {'紅寶石'}\n",
            "{'陸羽', '茶', '茶文化', '茶經', '世界'} {'陸羽', '澳門茶文化館', '茶學文獻列表', '中國茶文化', '茶經'}\n",
            "{'1919年', '臺灣總督府', '單位_(社會組織)', '民政局', '總督府'} {'臺灣總督府民政部', '臺灣總督府', '臺灣總督府評議會', '民政局', '臺灣總督府總督官房'}\n",
            "{'專業', '公益_(消歧義)', '埃塔'} set()\n",
            "{'QS', '愛丁堡', '愛丁堡大學', '世界'} {'QS', '泰晤士高等教育-QS世界大學排名', 'QS世界大學排名'}\n",
            "{'蒲公英', '英語人名', 'Dandelion'} {'各國警察數量列表', '蒲公英', '小五臺蒲公英', '淺沼晉太郎', 'Dandelion'}\n",
            "{'自由', '社會規範', '規範'} set()\n",
            "{'1000', '紅磚大學', '1900年', '伯明翰', '英國', '伯明翰大學'} {'伯明翰新街站', '伯明翰城市大學', '伯明翰機場', '紅磚大學', '伯明翰藝術學院'}\n",
            "{'體育運動', '麻薩諸塞州'} set()\n",
            "{'美國隊長', '1938年', '超人'} set()\n",
            "{'導演', '表演藝術'} {'導演', '蘇振威'}\n",
            "{'光澤_(礦物)', '硬幣', '貴金屬', '金', '金屬', '投資型硬幣', '銀'} {'投資型硬幣', '銀', '貴金屬比例'}\n",
            "{'樂山大佛', '大佛'} {'樂山大佛', '大佛'}\n",
            "{'糖尿病', '桂皮'} {'抗糖尿病藥'}\n",
            "{'人類學', '民族學', '語言', '分支', '動物'} {'語言人類學', '民族學', '應用人類學'}\n",
            "{'老年', '校長', '東京大學', '馬寅初', '北京市'} set()\n",
            "{'抄襲', '權利', '法律主體', '非法移民'} {'高雄捷運路線圖抄襲事件', '西南交大副校長黃慶博士論文抄襲事件'}\n",
            "{'教育', '李賦寧'} {'李賦都'}\n",
            "{'金朝', '金世宗', '金章宗', '政治文化'} {'完顏洪靖'}\n",
            "{'比薩', '面積', '比薩斜塔', '泉州市'} {'比薩省', '託倫斜塔', '斜塔列表', '迪奧提撒威', '奇蹟廣場'}\n",
            "{'全球', '排球', '體育運動'} {'2008年夏季奧林匹克運動會排球比賽', '亞洲排球錦標賽', '排球', '沙灘排球'}\n",
            "{'生物技術', '蛋白'} {'互補脫氧核糖核酸'}\n",
            "{'高行健', '藝術', '諾貝爾獎', '小說', '道路', '戲劇', '公民', '法國'} {'高行健', '劉景烈'}\n",
            "{'廣播', '國家', '中國'} {'BBC廣播四臺', 'BBC電影', '英國廣播公司', 'BBC自然知性臺'}\n",
            "{'韓國總統', '總統_(韓國電視劇)', '總統', '權力', '大韓民國', '政權', '行政機關'} set()\n",
            "{'鎖麟囊', '上海市'} {'鎖麟囊'}\n",
            "{'人類', '雞', '馴化', '雉科', '飛行'} {'雞'}\n",
            "{'樂山大佛', '大佛'} {'樂山大佛'}\n",
            "{'校友', '麻省理工學院', '全球', '經濟體系', '公司'} {'麻省理工學院工學院'}\n",
            "{'物理常數', '常數', '狀態', '速率'} {'氣體常數', '速率常數'}\n",
            "{'球', '體育運動'} set()\n",
            "{'臺中市', '臺中市西大墩婦女中心'} {'臺中市議會', '臺中市西大墩婦女中心', '臺中市婦女福利服務中心'}\n",
            "{'硫酸', '酸', '腐蝕性物質', '水', '菓子', '濃度'} {'硫酸'}\n",
            "{'面', '南部', '摩納哥', '地中海', '法國', '法國南部'} {'南部', '摩納哥', '摩納哥城', '摩納哥巖'}\n",
            "{'魚', '新生代', '哺乳動物'} {'新生代'}\n",
            "{'地標', '建築學', '文化遺產', '食物', '世界遺產', '布魯塞爾'} set()\n",
            "{'象徵', '買', '臺灣', '雲嘉南', '全買', '商店', '長頸鹿'} {'全買'}\n",
            "{'學名', '東方', '山斑鳩'} {'東方扁蝦', '東方蠊', '山斑鳩'}\n",
            "{'宋欽宗', '北宋', '趙匡胤', '靖康'} {'宋欽宗', '靖康'}\n",
            "{'樂團', '披頭四樂隊', '頭', '西方世界', '1_(披頭士專輯)', '搖滾樂', '時代100人：本世紀最重要的人物', '時代'} set()\n",
            "{'政治家', '兒子', '阿卜杜勒侯賽因·米爾扎·法爾曼法爾馬'} {'阿卜杜勒-侯賽因·米爾扎·法爾曼法爾馬'}\n",
            "{'總統', '林登·約翰遜', '約翰遜_(姓氏)', '越南戰爭', '美國'} {'林登·B·約翰遜號驅逐艦', '約翰遜總統', '林登·約翰遜總統圖書館暨博物館'}\n",
            "{'冰原', '白鵜鶘', '北極點', '鵜鶘'} {'斑嘴鵜鶘', '澳洲鵜鶘', '白鵜鶘', '鵜鶘', '卷羽鵜鶘'}\n",
            "{'臺北', '中學', '2000', '臺北市立麗山高級中學', '麗山'} {'柯明樹', '陳偉泓', '臺北市立麗山高級中學', '麗山', '鄭顯三'}\n",
            "{'臺灣', '琉球', '琉球嶼', '古代史', '聯合國'} {'琉球歷史', '琉球語', '小琉球三隆宮', '琉球鄉'}\n",
            "{'政府', '政體', '霍亨索倫王朝', '稱謂', '魏瑪共和國', '魏瑪', '德國'} {'魏瑪共和國'}\n",
            "{'素描'} {'素描'}\n",
            "{'吳天威'} {'吳天威'}\n",
            "{'文森特·梵高'} set()\n",
            "{'劇場藝術', '黑色電影', '導演', '美國', '先驅', '演員', '化石森林', '電影', '美國電影'} {'罪惡鎖鏈', '偉大的奧馬利', '直搗黃龍', '賊中之王', '化石森林'}\n",
            "{'音階', '音樂', '傳統'} {'音階'}\n",
            "{'尤里·安德羅波夫', '腎_(臟腑)', '腎功能衰竭', '腎功能', '健康'} {'尤里·安德羅波夫'}\n",
            "{'質量', '環境'} set()\n",
            "{'漫畫', '漫威', '藍色', '勇度', '皮膚', '漫威漫畫', '人物'} {'漫威影業：傳奇角色', '勇度', '漫威', '異人族'}\n",
            "{'界_(生物)', '錳酸鉀', '真菌', '高錳酸鉀'} {'高錳酸鉀'}\n",
            "{'再造人卡辛', '龍之子製作', '龍', '子'} {'再造人卡辛'}\n",
            "{'馬克思主義', '馬克思·多爾穆瓦站', '格魯喬·馬克思', '卡爾·馬克思', '馬克思主義政治經濟學', '資本論', '政治經濟學', '海因裏希·馬克思'} {'馬克思主義政治經濟學', '資本論', '河上肇', '女人資本論'}\n",
            "{'離子', '硫酸', '比例'} {'硫酸亞鉈', '硫酸𨥙', '硫酸亞錫'}\n",
            "{'中國社會科學院', '喬木_(消歧義)', '胡喬木', '院長', '1977年'} {'中國社會科學院民族學與人類學研究所', '胡喬木', '胡石英', '中國科學院哲學社會科學部'}\n",
            "{'導演', '表演藝術'} {'導演'}\n",
            "{'一貫道', '佛', '路', '彌勒菩薩', '神', '無生老母', '路中一'} {'一貫道', '無生老母'}\n",
            "{'總統', '萬年國會', '中華民國', '臺灣', '罷免', '李登輝', '國會_(日本)', '中華民國國會在臺灣之全面選舉與罷免'} {'中華民國總統及副總統在臺灣之公民直接選舉與罷免', '寧靜革命'}\n",
            "{'抗生素', '糖類', '糧食', '糖_(消歧義)'} set()\n",
            "{'臺南市立安平水產專修學校', '臺南市', '日治時期'} {'臺南市立安平水產專修學校'}\n",
            "{'中華人民共和國教育部', '全國重點大學', '教育部', '吉林市', '吉林大學', '中華人民共和國'} {'吉林大學', '中華人民共和國教育部直屬高等學校列表'}\n",
            "{'歐洲民族', '語言', '歐洲', '文化', '民族', '語言系屬分類', '國家'} {'民族國家'}\n",
            "{'蟑螂', '主人公', '蜘蛛', '蜘蛛人', '精', '蜘蛛俠百戰曱甴精', '菲律賓', '電影'} {'蜘蛛俠百戰曱甴精'}\n",
            "{'鄧小平', '王震'} {'王震起'}\n",
            "{'經營者', '北漂', '臺北醫學大學'} {'李祖德'}\n",
            "{'列昂尼德·勃列日涅夫', '蘇聯', '勃列日涅夫_(消歧義)'} {'維多利亞·勃列日涅娃', '列昂尼德·勃列日涅夫遇刺案', '安德烈·尤里耶維奇·勃列日涅夫', '列昂尼德·勃列日涅夫所獲獎項列表', '列昂尼德·勃列日涅夫的影響'}\n",
            "{'中華民國國民', '中華民國', '詞', '國民政府', '忠烈祠_(臺灣)', '忠烈祠', '國民', '中國國民黨'} {'中華民國國家元首列表'}\n",
            "{'學術領域大綱', '病理學', '疾病'} {'血液學', '古病理學', '婦產科學', '法醫病理學', '病理學'}\n",
            "{'一行', '號', '法名和法號', '釋一行', '行'} {'一行', '釋真空'}\n",
            "{'父親', '水稻', '稻', '雜交水稻', '中國', '袁隆平'} {'雜交水稻國家重點實驗室', '雜交水稻', '周開達', '湖南雜交水稻研究中心', '袁隆平'}\n",
            "{'霜', '高原', '硫', '木衛一', '木星的衛星', '二氧化硫'} set()\n",
            "{'腳', '昆蟲', '體', '六腳_(大字)', '身體', '胸節_(昆蟲)'} set()\n",
            "{'機構', '新西蘭', '首都', '惠靈頓', '世界'} {'惠靈頓'}\n",
            "{'臺中市', '臺中市政府', '臺中市政府陽明大樓', '臺南市_(州轄市)', '辦公室', '區_(中華民國)'} {'臺中世界花卉博覽會辦公室', '臺中市政府陽明大樓'}\n",
            "{'亞美尼亞', '飲食', '原材料', '國', '地理環境', '亞美尼亞飲食'} {'阿塞拜疆飲食', '亞美尼亞飲食'}\n",
            "{'臺中市大里區大元國民小學'} {'臺中市大里區大里國民小學', '臺中市大里區永隆國民小學', '臺中市大里區益民國民小學', '臺中市大里區大元國民小學'}\n",
            "{'蒲公英', '配子', '個體'} {'無性生殖'}\n",
            "{'象', '唐朝'} {'大象露西'}\n",
            "{'卡呂普索', '王'} set()\n",
            "{'地球人', '午餐', '地球', '餅乾', '乾酪'} {'乾酪白汁', '藍乾酪', '免費午餐', '威爾士乾酪', '午餐女王'}\n",
            "{'歐洲民族', '語言', '歐洲', '民族', '民族國家', '地區'} {'歐洲民族'}\n",
            "{'楊素', '隋煬帝', '舉事'} {'遣隋使'}\n",
            "{'火衛二', '衛星'} {'火衛二', '火星日食'}\n",
            "{'星期六', '禮拜_(伊斯蘭教)', '禮拜'} {'星期六'}\n",
            "{'鐒', '藝術類型', '元素週期表', '位置', '物', '波動性'} {'鐒', '四面體形分子構型'}\n",
            "{'臺1線', '中華民國', '線', '中華東路_(臺南市)', '臺南市', '道路'} {'中華北路', '臺南市主要道路列表', '中華南路'}\n",
            "{'主食', '米飯', '中國'} {'麪粉', '主食', '摩爾多瓦飲食', '副食品', '穀粉'}\n",
            "{'阿爾弗雷德·諾貝爾', '物理學家', '諾貝爾獎', '遺囑', '獎勵'} {'諾貝爾獎'}\n",
            "{'威廉·亨利·哈里森', '立法院', '美國'} {'安娜·哈里遜', '1840年美國總統選舉'}\n",
            "{'意外事故', '暗殺', '幻覺', '目標', '執法'} set()\n",
            "{'泰安服務區_(臺灣)', '公路服務區', '臺灣', '泰安市'} {'泰安街道', '公路服務區', '臺灣公路服務區與休息站列表', '泰安休息站'}\n",
            "{'索爾·勒維特', '1927年', '會議', '布魯塞爾', '索爾維會議'} set()\n",
            "{'大陸架', '克氏無齒翎電鰻', '電鰻'} {'克氏無齒翎電鰻'}\n",
            "{'失樂園', '電視劇'} {'青春失樂園'}\n",
            "{'臺北', '國立臺北教育大學', '經營者'} {'李祖德'}\n",
            "{'車站', '伊斯法罕地鐵', '伊斯法罕'} {'伊斯法罕老廣場', '伊斯法罕省', '伊斯法罕佐布阿漢足球俱樂部', '伊斯法罕佐帕罕籃球俱樂部', '伊斯法罕地鐵'}\n",
            "{'主小行星帶', '絕對星等', '絕對', '月球', '小行星9027', '行星', '星等'} {'小行星7799', '小行星7672', '小行星9027', '小行星9665', '小行星9901'}\n",
            "{'魚', '類', '輻鰭魚綱', '長度', '演化支', '體重', '骨鰾類', '魚鰭', '演化', '韋伯'} {'骨鰾類'}\n",
            "{'阿托品'} set()\n",
            "{'木衛三十八', '衛星', '夏威夷大學', '木星', '木星的衛星', '木衛三'} {'木衛三十八', '木衛五十三', '木衛五十二', '木衛十一', '木衛四十一'}\n",
            "{'土庫曼斯坦', '歧義', '土庫曼_(消歧義)', '蘇聯'} set()\n",
            "{'西南', '墨西哥', '瓜達拉哈拉_(墨西哥)', '城市', '太平洋'} {'阿特拉斯足球俱樂部', '瓜達拉哈拉體育會'}\n",
            "{'臺灣總督府民政部', '臺灣總督府', '臺灣', '民政部', '總督府'} {'臺灣總督府民政部', '臺灣總督府', '臺灣總督府評議會', '民政部', '臺灣總督府總督官房'}\n",
            "{'古希臘悲劇', '悲劇', '狄俄倪索斯', '希臘', '合唱', '祭祀', '古希臘', '酒'} {'狄俄倪索斯', '古希臘喜劇', '古希臘悲劇'}\n",
            "{'玲子·艾爾斯沃斯', '亞洲', '身'} {'玲子·艾爾斯沃斯'}\n",
            "{'彗星', '天', '穀神星'} set()\n",
            "{'克洛里斯', '雨果·洛里斯', '妻子', '神', '洛里斯_(沃克呂茲省)'} {'西風翠灰蝶'}\n",
            "{'特別攻擊隊', '資源_(計算機科學)', '跟蹤支援隊', '力_(佛教)', '同盟國_(第二次世界大戰)', '美國'} set()\n",
            "{'英格蘭', '威廉·華茲華斯', '湖區'} {'湖畔詩人', '赫爾維林峯'}\n",
            "{'勃列日涅夫_(消歧義)', '列昂尼德·勃列日涅夫', '政權', '古巴', '美國', '蘇聯'} {'列昂尼德·勃列日涅夫遇刺案', '安德烈·尤里耶維奇·勃列日涅夫', '列昂尼德·勃列日涅夫所獲獎項列表', '列昂尼德·勃列日涅夫'}\n",
            "{'香港', '男性', '西區', '聖保羅書院', '學校'} {'符潤光'}\n",
            "{'魏雅欣', '羽毛球'} {'泛美洲青年羽毛球錦標賽', '大洋洲青年羽毛球錦標賽', '亞洲青年羽毛球錦標賽', '歐洲青年羽毛球錦標賽', '魏雅欣'}\n",
            "{'歐洲民族', '語言', '歐洲', '民族', '民族國家', '國家'} {'歐洲民族'}\n",
            "{'現在', '印度總理', '印度', '總理'} {'查蘭·辛格', '印度國民大會黨', '印度總理', '印度獨立運動', '曼莫漢·辛格'}\n",
            "{'英格蘭', '威廉·華茲華斯', '湖區'} {'威廉·赫茲利特', '湖畔詩人', '赫爾維林峯'}\n",
            "{'路', '絲綢之路', '漢朝', '絲綢', '漢'} set()\n",
            "{'中華民國', '翰林院', '庶吉士', '蔡元培', '元培'} {'上海蔡元培故居', '蔡元培舊居', '元培', '蔡元培故居', '蔡元培獎'}\n",
            "{'歷史書', '天武天皇', '神話', '日本神話', '天皇', '日本', '民俗', '態度'} {'日本神話'}\n",
            "{'質量', '原理', '物體', '重量'} set()\n",
            "{'樂團', '披頭四樂隊', '頭', '1_(披頭士專輯)', '搖滾樂', '時代100人：本世紀最重要的人物', '英國', '時代'} {'披頭四樂隊'}\n",
            "{'公路服務區', '臺灣', '泰安服務區_(臺灣)', '中山', '公園', '泰安市'} {'泰安街道', '臺灣公路服務區與休息站列表', '泰安休息站', '西湖服務區'}\n",
            "{'橘', '氣體', '碳', '脂肪醇', '壬醇', '正壬醇'} {'脂肪醇', '壬醇', '正癸醇', '1-辛醇', '正壬醇'}\n",
            "{'大豆'} {'擬大豆', '植酸', '大豆苷'}\n",
            "{'岩石', '礦物', '溫度', '化學性質', '物理性質'} {'礦物', '碳酸鹽礦物', '礦物學'}\n",
            "{'立法機關', '國立臺灣民主紀念館'} {'國立臺灣民主紀念館', '國立中正紀念堂管理處組織條例'}\n",
            "{'交通管制', '航空器', '意外事故', '航空', '陸地', '航空管制員', '效率', '航空交通管制'} {'航空交通管制部', '航空交通管制'}\n",
            "{'藝術品', '白玉', '飄然臺', '黃初平'} {'白玉', '飄然臺'}\n",
            "{'臺灣', '琉球', '琉球嶼', '古代史', '香港學界體育聯會'} {'琉球歷史', '小琉球三隆宮'}\n",
            "{'爬山算法', '地圖', '問題', '高地'} {'爬山算法'}\n",
            "{'英格蘭足球聯賽', '英格蘭足球超級聯賽', '英格蘭足球聯賽系統', '英格蘭'} {'英格蘭足球全國聯賽', '英格蘭足球丁級聯賽', '英格蘭足球全國聯賽北', '英格蘭足球全國聯賽南', '英格蘭甲組聯賽'}\n",
            "{'董事長', '元智大學', '陌生人', '組織創始人'} set()\n",
            "{'亞伯拉罕·範海辛', '亞伯拉罕·路易·佈雷蓋', '亞伯拉罕·林肯', '亞伯拉罕諸教', '亞伯拉罕', 'F·莫瑞·亞伯拉罕', '斯賓塞·亞伯拉罕', '亞伯拉罕·林肯總統圖書館和博物館'} {'伊斯蘭教與基督教關係', '亞伯拉罕諸教', '一神論', '亞伯拉罕', '有經者'}\n",
            "{'我的愛_(1986年電影)', '愛', '以你的心詮釋我的愛', '泰國', '電視劇', '心'} {'以你的心詮釋我的愛'}\n",
            "{'軟件開發', '語言', '程式', '軟件開發工具', '軟件'} {'軟件開發工具包', '軟件工程', '軟件開發', '蘋果開發工具', '軟件開發工具'}\n",
            "{'集合', '元素_(數學)', '總體', '集合_(數學)', '有限集合'} {'總體', '集合', '有限集合', '繼承有限集合'}\n",
            "{'馬克思主義', '馬克思·多爾穆瓦站', '格魯喬·馬克思', '卡爾·馬克思', '馬克思主義政治經濟學', '資本論', '政治經濟學', '海因裏希·馬克思'} {'馬克思主義政治經濟學', '資本論', '河上肇', '女人資本論'}\n",
            "{'日本', '妙義山'} {'妙義荒船佐久高原國定公園'}\n",
            "{'汞', '電流', '紫外線', '電', '可見光', '波長', '燈', '螢光燈'} {'紫外線'}\n",
            "{'詞', '世紀', '奧地利', '作品', '20世紀', '畫家', '表現主義', '印象派'} {'表現主義', '那比派'}\n",
            "{'機場', '全球', '世界', '香港國際機場'} set()\n",
            "{'香港商報', '2019年', '大公報', '傳播媒體', '文匯報_(上海)', '商報', '得分', '文匯報'} {'大公報'}\n",
            "{'校長', '臺中市大里區大元國民小學'} {'臺中市大里區崇光國民小學', '臺中市大里區永隆國民小學', '臺中市大里區益民國民小學', '臺中市大里區大里國民小學', '臺中市大里區大元國民小學'}\n",
            "{'物種', '靈長目'} set()\n",
            "{'綠山城縣', '波蘭', '西部', '綠山城', '山城'} {'山城街道', '綠山城縣', '山城路街道', '盧布斯卡省'}\n",
            "{'歐洲民族', '語言', '歐洲', '民族', '民族國家', '國家'} {'歐洲民族'}\n",
            "{'軌道_(力學)', '小行星', '軌道', '太陽黑子', '行星'} set()\n",
            "{'奧林匹克運動會', '男爵', '皮埃爾·德·顧拜旦', '名譽主席', '主席'} {'皮埃爾·德·顧拜旦', '奧林匹克運動會藝術比賽'}\n",
            "{'中國共產黨', '韓正', '政治局', '中國共產黨中央政治局'} {'韓正', '中國共產黨中央政治局常務委員會'}\n",
            "{'政府', '517嗆馬保臺大遊行', '劉兆玄內閣', '遊行', '馬英九政府', '劉兆玄', '高雄市_(1979年—2010年)', '馬英九', '馬', '劉兆'} {'劉兆玄內閣', '517嗆馬保臺大遊行', '113人民火大一路嗆馬大遊行', '519嗆馬踹共大遊行'}\n",
            "{'政府', '機構', '1987年', '臺北市政府', '臺北市', '臺北市政府捷運工程局'} {'臺北市政府教育局', '桃園市政府捷運工程局', '臺北市政府捷運工程局', '臺北市政府民政局', '新北市政府捷運工程局'}\n",
            "{'鹼石灰'} {'石灰鹼釉', '鹼石灰'}\n",
            "{'射電天文學', '卡爾·央斯基', '卡爾', '天文學', '央斯基', '無線電', '美國'} {'射電天文學', '卡爾·央斯基', '央斯基', '央斯基環形山', '格羅特·雷伯'}\n",
            "{'愛丁堡', '愛丁堡大學', '世紀', '19世紀', '大學'} {'愛丁堡大學圖書館', '愛丁堡舊城', '愛丁堡大學舊學院'}\n",
            "{'死刑', '犯罪', '新生', '權力', '公權力'} {'謹告犯人', '新生站'}\n",
            "{'SETI@home', '個人電腦', '程序', '用戶_(計算機)'} set()\n",
            "{'絕對君主制', '官僚', '歐洲', '路易十四', '凡爾賽宮', '霸權', '法國', '君主制'} {'朕即國家'}\n",
            "{'蘋果_(消歧義)', '蘋果公司'} set()\n",
            "{'燕山_(消歧義)', '燕山大學', '學校', '合併'} {'燕山大學科技園', '趙丁選', '連家創'}\n",
            "{'臺北', '中學', '內湖_(臺北市內湖區大字)', '2000', '臺北市立麗山高級中學', '內湖區', '麗山'} {'柯明樹', '臺北市立麗山高級中學', '臺北市內湖區麗山國民小學', '麗山', '鄭顯三'}\n",
            "{'北非', '語言', '阿拉伯語', '神_(一神教)', '信仰', '一神論', '黎巴嫩', '西亞'} {'黎巴嫩', '黎巴嫩阿拉伯語', '阿拉伯語國家和地區列表'}\n",
            "{'馬克思主義', '馬克思·多爾穆瓦站', '格魯喬·馬克思', '卡爾·馬克思', '馬克思主義政治經濟學', '資本論', '政治經濟學', '海因裏希·馬克思'} {'馬克思主義政治經濟學', '資本論', '河上肇', '女人資本論'}\n",
            "{'東北', '東蒙', '中國東北地區', '傳統', '數', '內蒙古自治區', '盟_(行政區劃)', '中國', '人口'} set()\n",
            "{'海衛十', '太陽系', '行星'} set()\n",
            "{'釋迦牟尼', '佛教'} set()\n",
            "{'愛丁堡', '世界', '愛丁堡大學'} {'愛丁堡大學圖書館'}\n",
            "{'爬行動物', '動物', '系統'} {'日本爬行動物列表'}\n",
            "{'王安石', '社會', '認識', '社會問題'} set()\n",
            "{'波士頓', '旅行社', '經濟', '經濟發展'} set()\n",
            "{'馬克思主義', '馬克思·多爾穆瓦站', '格魯喬·馬克思', '卡爾·馬克思', '馬克思主義政治經濟學', '資本論', '政治經濟學', '海因裏希·馬克思'} {'馬克思主義政治經濟學', '資本論', '河上肇', '女人資本論'}\n",
            "{'小龍女', '懸崖', '楊過'} set()\n",
            "{'獅', '龍生九子', '黃鈴馨', '龍', '中國', '狻猊', '文獻', '子'} {'狻猊', '螣蛇'}\n",
            "{'臺灣', '淡水河', '臺灣河流列表', '淡水_(消歧義)', '河流'} {'淡水河', '淡水河流域橋樑隧道列表', '淡水河橋', '淡水紅樹林'}\n",
            "{'德島縣', '行政區劃', '直轄市', '西祖谷山村', '村_(日本)'} {'阿波', '東祖谷山村', '西祖谷山村', '新祖谷溫泉'}\n",
            "{'最短路問題', '問題', '短路', '數學'} {'最短路問題'}\n",
            "{'孔慶翔', '偶像', '美國偶像'} {'孔慶翔', '瑞安·西克雷斯特'}\n",
            "{'議會', '罪', '古', '國家'} {'東方日報藐視法庭案', '藐視法庭'}\n",
            "{'人類學', '民族學', '人類', '語言'} {'民族學'}\n",
            "{'偶像', '查理·卓別林', '偶像_(日本)'} {'小查理·卓別林', '悉尼·厄爾·卓別林', '摩登時代', '漢娜·卓別林', '悉尼·約翰·卓別林'}\n",
            "{'面', '南部', '摩納哥', '地中海', '領土', '法國', '法國南部'} {'南部', '摩納哥', '摩納哥巖'}\n",
            "{'維吾爾族', '姓', '回族', '昭武九姓', '西北', '昭武', '中國'} {'昭武九姓'}\n",
            "{'航天中心', '京口區', '古', '鎮江市', '市'} {'京口區', '鎮江古城牆遺址', '潤州區', '京口閘遺址', '江蘇省鎮江第一中學'}\n",
            "{'生物', '真核生物', 'MacOS'} {'MacOS版本歷史', 'MacOS'}\n",
            "{'耶和華', '平特爾·亞當', '亞當·列維', '亞當·迪凡', '夏娃', '亞當', '芬妮·亞當', '亞當·斯密'} {'骨細胞'}\n",
            "{'色', '毛主席語錄', '波長', '小紅書', '圖書'} {'小紅書'}\n",
            "{'體育運動', '麻薩諸塞州'} set()\n",
            "{'華南理工大學', '中華人民共和國'} {'華南理工大學經濟與金融學院', '華南理工大學校友列表', '華南理工大學旅遊管理系', '華南理工大學出版社', '電子科技大學'}\n",
            "{'社會主義', '中國共產黨', '鄧小平理論', '中國', '社會主義初級階段'} {'鄧小平理論', '一箇中心、兩個基本點', '社會主義初級階段'}\n",
            "{'輔國中尉', '宗室', '中尉', '明朝皇族', '八大山人', '清朝', '明朝', '宗室_(清朝)'} {'輔國中尉', '八大山人'}\n",
            "{'環氧乙烷', '殺菌劑', '物質', '殺菌'} {'環氧乙烷'}\n",
            "{'涅槃', '刺激', '性愉悅', '刺激_(心理學)'} {'刺激', '性愉悅'}\n",
            "{'鄧小平', '理論', '社會主義', '中國共產黨', '鄧小平理論', '中國'} {'習近平新時代中國特色社會主義思想', '鄧小平理論', '四個自信'}\n",
            "{'京城帝國大學', '大學', '帝國大學', '朝鮮半島', '日本'} {'京城帝國大學', '金日成綜合大學', '帝國大學', '首爾大學'}\n",
            "{'史', '歷史書', '丞相', '元朝', '宋史', '中國', '二十四史', '宋'} {'宋史'}\n",
            "{'血管', '昆蟲', '體', '身體', '胸節_(昆蟲)'} set()\n",
            "{'漫畫', '漫威', '藍色', '勇度', '皮膚', '漫威漫畫', '人物'} {'漫威影業：傳奇角色', '漫威', '異人族', '勇度'}\n",
            "{'期權', '芝加哥', '量_(物理)', '期貨', '國內生產總值', '期貨交易所', '交易所', '美國', '世界'} {'芝加哥期貨交易所大樓', '芝加哥', '韓國期貨交易所', '芝加哥期貨交易所', '交易所'}\n",
            "{'新槐站', '中國鐵路上海局集團', '中華人民共和國鐵路車站', '鐵路局', '站'} {'鐵路局', '臺灣鐵路管理局車站等級', '新槐站'}\n",
            "{'鳥', '求和符號', '量_(物理)', '雞', '世界'} set()\n",
            "{'琅琊', '東晉', '朝代', '北', '六朝', '戰爭', '琅邪王', '晉元帝'} {'六朝', '東晉'}\n",
            "{'喬瓦尼·多梅尼科·卡西尼', '亨利·卡西尼', '卡西尼', '職業', '讓多米尼克·卡西尼', '巴黎天文臺', '天文臺', '塞薩爾弗朗索瓦·卡西尼·德·蒂裏'} {'喬瓦尼·多梅尼科·卡西尼', '亨利·卡西尼', '卡西尼', '塞薩爾-弗朗索瓦·卡西尼·德·蒂裏', '雅克·卡西尼'}\n",
            "{'紙', '人類', '傳播', '中國', '傳播論', '造紙術'} {'造紙術'}\n",
            "{'單片機', '微處理器', '集成電路'} {'SuperH', '單片機', '嶋正利', 'Rock微處理器', '4位元'}\n",
            "{'坡度', '指標', '汽車理論', '汽車'} {'汽車動力性'}\n",
            "{'長安', '軍', '新朝', '綠林軍', '王莽', '皇帝'} {'張卬', '王莽幣', '王捷', '綠林軍', '新朝行政區劃'}\n",
            "{'公路服務區', '公路', '臺灣', '泰安服務區_(臺灣)', '中山', '高速公路', '中山高速公路', '泰安市'} {'公路服務區', '關西服務區', '泰安休息站', '西湖服務區', '泰安街道'}\n",
            "{'臺北市政府', '臺北市立萬芳高級中學', '臺北市文山區興華國民小學', '臺北市', '萬芳_(消歧義)', '教育局', '興華國小', '小學', '臺北市立萬芳醫院', '文山區'} {'臺北市立萬芳高級中學', '臺北市文山區萬芳國民小學', '臺北市政府教育局', '萬芳醫院站', '臺北市文山區興華國民小學'}\n",
            "{'歌手', '音樂產業', '1999', '1999年', '竹內瑪莉亞', '作品', '創作歌手'} {'竹內瑪莉亞'}\n",
            "{'薇拉·費茲傑羅', '了不起的蓋茨比', '弗朗西斯·斯科特·菲茨傑拉德', '大亨小傳_(2013年電影)', '喬治·費茲傑羅'} {'尼克·卡拉威', '弗朗西斯·斯科特·菲茨傑拉德'}\n",
            "{'臺北松山機場', '對流'} set()\n",
            "{'魏雅欣', '籃球_(電視劇)'} {'藤本愛妃'}\n",
            "{'中彰投', '臺灣', '2020', '苗栗縣', '交通部', '中部', '行政院'} {'苗栗縣'}\n",
            "{'電腦性能', '電', '陶瓷', '電子陶瓷', '材料', '電子'} {'陶瓷基複合材料', '陶瓷', '電子陶瓷', '介電陶瓷'}\n",
            "{'粉末', '海洛因'} {'粉末酒精'}\n",
            "{'威廉·薩默塞特·毛姆', '醫學', '小說'} {'情天恨海', '月亮和六便士', '毛姆文學獎'}\n",
            "{'達拉斯', '德州儀器', '電子計算器'} {'TI-89'}\n",
            "{'清朝', '嘉慶皇帝_(電視劇)', '嘉慶帝', '嘉慶', '乾隆', '子', '永琮'} set()\n",
            "{'漫威', '藍色', '勇度', '皮膚', '人物'} {'漫威'}\n",
            "{'工藝美術', '內畫壺', '技術', '世紀'} set()\n",
            "{'口腔', '瞳孔放大', '副作用', '心率', '瞳孔', '青光眼', '阿托品', '心跳過速'} {'阿托品'}\n",
            "{'法定傳染病', '醫院', '臺南避病院', '避病院'} {'臺南避病院'}\n",
            "{'東漢'} {'文極'}\n",
            "{'失樂園'} {'青春失樂園'}\n",
            "{'簡稱', '地級市', '九江_(消歧義)', '省', '江西省', '市', '九江市_(縣級)', '九江市'} {'九江地區', '上饒', '瑞昌市', '九江市文物保護單位', '九江市'}\n",
            "{'蝗蟲', '人類', '昆蟲', '農作物'} {'草蜢'}\n",
            "{'暴雨', '秋紅谷廣場', '溫度', '洪水', '功能'} {'秋紅谷廣場'}\n",
            "{'中華民國', '衝突', '政權', '軍事', '戰爭', '地方', '金門炮戰', '中華人民共和國'} {'福建金門地方法院', '金門炮戰', '八二三戰史館'}\n",
            "{'金朝', '國號', '皇帝', '國家'} set()\n",
            "{'亞伯拉罕·範海辛', '亞伯拉罕·路易·佈雷蓋', '亞伯拉罕·林肯', '亞伯拉罕諸教', '亞伯拉罕', 'F·莫瑞·亞伯拉罕', '斯賓塞·亞伯拉罕', '亞伯拉罕·林肯總統圖書館和博物館'} {'易卜拉欣', '亞伯拉罕諸教', '一神論', '亞伯拉罕', '有經者'}\n",
            "{'微分方程', '數', '導數', '地方', '問題'} {'伯努利微分方程', '全微分方程'}\n",
            "{'田橫', '節', '即墨區', '祭海節'} {'即墨城牆', '田橫五百義士冢', '即墨縣', '即墨區'}\n",
            "{'單片機', '微處理器', '集成電路'} {'SuperH', '單片機', '嶋正利', 'Rock微處理器', '4位元'}\n",
            "{'海盆', '碟', '西南', '日本海', '海', '東南部_(越南)', '日本', '東南'} {'日本海', '酒海紀', '阿拉伯海盆', '海盆', '北極海盆'}\n",
            "{'個人', '非營利組織', '組織', '利潤'} {'非營利組織'}\n",
            "{'虛構', '吸血鬼', '吸血', '生物', '卟啉', '紫質症'} {'吸血毯', '吸血鬼', '吸血'}\n",
            "{'若瑟·蘇格拉底', '蘇格拉底', '倫理學', '作品', '柏拉圖', '對話', '學生', '蘇格拉底·布拉濟萊羅·奧利維拉'} {'蘇格拉底'}\n",
            "{'J·D·德魯', '綽號', '德魯大學', '大學', '美國'} {'美國各州暱稱列表', '德魯大學'}\n",
            "{'長頸鹿'} {'90年代', '前90年代'}\n",
            "{'總統', '羅斯福', '富蘭克林', '美國總統', '富蘭克林·德拉諾·羅斯福', '美國'} {'埃莉諾·羅斯福', '羅斯福總統', '羅斯福家族', '富蘭克林·德拉諾·羅斯福總統圖書館暨博物館', '小富蘭克林·德拉諾·羅斯福'}\n",
            "{'議會', '罪', '古', '國家'} set()\n",
            "{'天衛三', '撞擊坑', '面_(幾何)'} {'天衛三'}\n",
            "{'大衛·赫伯特·勞倫斯'} {'長野健'}\n",
            "{'聖彼得堡', '瓦西里島', '聖彼得堡地鐵', '地鐵', '瓦西里·貝科夫號巡邏艦', '便利商店', '海濱站'} {'涅瓦-瓦西里島線', '瓦西里島站'}\n",
            "{'船', '遊輪', '客輪', '乘客', '渡輪'} {'珠海高速客輪', '遊輪', '客輪'}\n",
            "{'關羽', '張飛', '萬人敵', '三國演義'} {'張飛', '演義', '五虎將'}\n",
            "{'天衛二', '質量', '天衛一'} {'天衛二', '天衛一表面特徵列表', '天衛一'}\n",
            "{'臺南市_(省轄市)', '東區_(臺南市)', '臺灣國中教育', '臺南市', '臺南市東區復興國民小學'} {'臺南市東區崇明國民小學', '復興國小', '臺南市東區裕文國民小學', '臺南市東區復興國民小學', '臺南市第二期平實營區重劃區'}\n",
            "{'兒子', '鄭氏鸞'} {'鄭氏鸞'}\n",
            "{'武器', '液體', '物體', '槍械', '目標'} set()\n",
            "{'氣味', '東南亞', '味覺', '國家', '馬來西亞', '榴槤'} {'榴槤'}\n",
            "{'男性', '教會', '書院', '聖保羅書院'} {'後舍男生', '史超域'}\n",
            "{'歷史_(希羅多德)', '地標', '布魯塞爾'} {'蛋糕女孩'}\n",
            "{'蟑螂', '主人公', '蜘蛛', '蜘蛛人', '精', '蜘蛛俠百戰曱甴精', '菲律賓', '電影'} {'蜘蛛俠百戰曱甴精'}\n",
            "{'臺灣桃園國際機場', '臺灣', '跑道', '今天'} {'臺灣桃園國際機場跑滑道系統', '桃園機場保全', '最長機場跑道列表'}\n",
            "{'目標'} {'非營利組織', '臺灣NPO資源列表', '.org'}\n",
            "{'蘇格拉底', '前蘇格拉底哲學', '哈芝芝·諾', '希臘', '芝諾', '季蒂昂的芝諾', '基提翁', '斯多葛主義', '古希臘'} {'克里安西斯', '埃利亞的芝諾', '斯法埃魯斯', '芝諾', '季蒂昂的芝諾'}\n",
            "{'文學', '荷馬', '史詩', '荷馬史詩', '希臘', '古希臘文學', '希臘文學', '古希臘'} {'荷馬史詩'}\n",
            "{'脂類', '戊二烯', '生物', '酮', '分子', '公寓', '異戊二烯'} {'脂質體', '脂類'}\n",
            "{'石窟', '大足', '刻', '南', '中國', '大足石刻', '唐朝末年', '永徽'} {'石窟', '大足石刻', '大足'}\n",
            "{'家庭', '阿希爾克洛德·德彪西'} set()\n",
            "{'老年', '宗教', '亂', '國庫', '梁武帝', '侯景', '梁_(南朝)', '侯景之亂'} set()\n",
            "{'角宿', '視星等', '天空', '角宿一', '室女座', '恆星', '角_(星官)', '星等'} {'角宿一', '室女座'}\n",
            "{'經度', '磁暴', '極光'} {'磁暴', '極光', '1989年3月磁暴'}\n",
            "{'臺北', '剛果民主共和國', '首都'} {'剛果民主共和國華人', '剛果民主共和國國家足球隊', '2019年剛果民主共和國參議院選舉', '剛果民主共和國行政區劃', '剛果民主共和國地理'}\n",
            "{'制度', '榮譽', '個體', '王國', '英國', '服務', '英國授勳及嘉獎制度', '本土'} {'英國授勳及嘉獎制度', '爵士'}\n",
            "{'學校', '臺北市', '臺北市私立新民國民小學'} {'臺北市國語實驗國民小學', '臺北市博嘉實驗國民小學', '臺北市私立新民國民小學', '臺北市中山區長安國民小學', '臺北市國民小學列表'}\n",
            "{'榴彈炮', '炮兵', '兵種'} {'M-68榴彈炮', 'M101榴彈炮', '榴彈炮', '280毫米榴彈炮'}\n",
            "{'父親', '宋高宗', '南宋', '宋徽宗', '北宋', '皇帝'} {'明達皇后', '宋欽宗', '宋高宗', '宋朝君主列表'}\n",
            "{'亞洲', '島嶼國家', '南歐', '共和制', '馬耳他', '國家'} {'議會共和制', '南歐大戟', '希臘王國', '南歐黑松', '共和國列表'}\n",
            "{'啓示', '人物_(美國雜誌)', '漫畫', '蚩尤_(消歧義)', '蚩尤'} {'九黎', '涿鹿之戰', '蚩尤冢', '帝榆罔'}\n",
            "{'臺北', '牙醫學系', '經營者', '李祖德', '臺北醫學大學'} {'李祖德'}\n",
            "{'暴雨', '功能', '秋紅谷廣場'} {'秋紅谷廣場'}\n",
            "{'石器時代', '人類', '文字', '石器', '石器時代_(遊戲)', '歷史'} {'中國史前文化', '石器', '打製石器', '舊石器時代'}\n",
            "{'歐洲', '震盪波蠕蟲', '少年', '小時'} {'震盪波蠕蟲'}\n",
            "{'世界大戰', '喬治·卡特萊特·馬歇爾', '第一次世界大戰', '美國陸軍參謀長', '美國陸軍', '參謀長', '陸軍參謀長_(印度)', '美國'} {'喬治·卡特萊特·馬歇爾', '小富蘭克林·德拉諾·羅斯福', '羅斯福家族'}\n",
            "{'隋朝', '制度'} set()\n",
            "{'司法機關', '奈尼塔爾', '印度', '北阿坎德邦'} {'丹德拉', '奈尼塔爾總督府', '北阿坎德邦行政區劃', '奈尼塔爾'}\n",
            "{'相對論', '狹義相對論', '速度', '光速'} {'狹義相對論發現史', '狹義相對論入門', '狹義相對論', '雙重狹義相對論', '光速'}\n",
            "{'馬六甲_(消歧義)', '現在', '馬六甲海峽', '海峽', '地區'} {'馬六甲海峽歷史城市'}\n",
            "{'國', '俄羅斯', '伏爾加湖', '流域'} set()\n",
            "{'肯尼迪', '奧利華·史東', '電影導演', '美國', '美國政治', '史東', '電影', '美國電影'} {'奧利華·史東'}\n",
            "{'彗星', '傑拉德·柯伊伯', '柯伊伯帶'} {'柯伊伯隕石坑', '傑拉德·柯伊伯獎'}\n",
            "{'加利福尼亞大學', '學生', '加利福尼亞大學洛杉磯分校', '蘇菲亞·柯波拉'} {'加州大學洛杉磯分校棕熊隊', '海港–加州大學洛杉磯分校醫學中心'}\n",
            "{'重量', '北冰洋', '世界洋', '洋', '平均數', '世界'} {'弗拉姆海峽', '北冰洋'}\n",
            "{'李賦寧', '中國'} {'李賦都'}\n",
            "{'死者能舞', '英國', '杭州駐防城'} {'DCD', '4AD', 'XL唱片'}\n",
            "{'納米比亞'} {'納米比亞，勇氣之地', '納米比亞總統', '納米比亞駐外機構列表', '中國駐納米比亞大使列表'}\n",
            "{'畫家', '表現主義'} set()\n",
            "{'羅榮桓', '中國共產黨', '元帥', '軍銜', '中華人民共和國元帥', '中華人民共和國'} {'中華人民共和國大元帥', '羅榮桓'}\n",
            "{'地形', '面_(幾何)', '近地天體', '天衛四', '撞擊坑'} {'天衛四', '哈姆雷特撞擊坑'}\n",
            "{'捷克', '比爾森勝利足球俱樂部', '足球俱樂部', '捷克國家足球隊', '捷克足球甲級聯賽', '足球', '比爾森_(消歧義)', '盧卡斯·赫賈'} {'拉迪姆·雷茲尼克', '托馬斯·霍拉瓦', '揚·克利門特', '大衛·林貝爾斯基', '盧卡斯·赫賈'}\n",
            "{'哈爾科夫', '布利茲紐基區', '烏克蘭', '甘尼夫卡_(諾索夫卡區)', '布利茲紐基', '哈爾科夫州'} {'哈爾科夫省', '布利茲紐基', '布利茲紐基區', '甘尼夫卡-捷爾尼夫西卡'}\n",
            "{'殼', '氨基葡萄糖', '乙酰基', '昆蟲', '體育運動', '糖胺'} {'N-乙酰葡糖胺'}\n",
            "{'船', '東海', '小島_(臺東區)', '南', '波濤', '北小島', '漁民', '過去', '南小島'} {'橄欖門', '南小島', '北小島'}\n",
            "{'亞洲', '博士後', '化學', '沈宗瀛', '學位', '英國', '有機化學', '博士'} set()\n",
            "{'文學', '臺灣', '白話', '白話字', '馬雅各'} {'海南話白話字'}\n",
            "{'吟遊詩人', '加拉哈德', '紅葡萄酒', '耶穌', '傳說', '非婚生子女', '尤瑟王'} set()\n",
            "{'湯姆·漢克斯', '湯姆·班克斯', '獎勵', '湯姆·克魯斯', '費用'} set()\n",
            "{'法語', '潘·巴奇利', '潘恩', '迦勒·潘恩', '托馬斯·潘恩', '羅伯特·崔特·潘恩', '克里斯·潘恩'} set()\n",
            "{'馬達加斯加', '熱點_(地質學)', '生物', '生物多樣性'} set()\n",
            "{'制約', '伊萬·巴甫洛夫', '柴犬', '古典制約'} {'制約', '古典制約'}\n",
            "{'人民', '同性戀', '案', '艾根訴加拿大案', '奧林·艾根', '加拿大人', '加拿大', '曼弗雷德·艾根'} set()\n",
            "{'桃園市', '中華民國', '南部', '臺灣', '楊梅_(大字)', '楊梅區', '臺灣客家語'} set()\n",
            "{'吟遊詩人', '加拉哈德', '紅葡萄酒', '耶穌', '亞瑟王傳說', '亞瑟王'} set()\n",
            "{'衛星', '柯伊伯帶', '傑拉德·柯伊伯', '太陽系', '蘋果'} set()\n",
            "{'灰姑娘', '夏菜', '廣島縣', '漫畫家', '川瀨夏菜'} {'矢神椎野', '現代灰姑娘', '藤澤志月'}\n",
            "{'獅', '榮譽', '電影節', '影片', '冠軍', '1949年', '獎勵', '金獅獎'} {'第57屆威尼斯影展', '芝加哥影展', '第15屆威尼斯影展', '金獅獎', '威尼斯影展評審團大獎'}\n",
            "{'臺灣三山善社', '世界', '臺灣', '山', '明治', '三山'} {'方幼祥', '臺灣三山善社'}\n",
            "{'威尼斯', '榮譽', '電影節', '影片', '威尼斯電影節', '冠軍', '金獅獎'} {'第10屆威尼斯影展', '芝加哥影展', '第15屆威尼斯影展', '金獅獎', '威尼斯影展評審團大獎'}\n",
            "{'亂世佳人', '費雯·麗'} {'AFI百年百大電影臺詞', 'AFI百年百大電影', 'AFI百年百大愛情電影', 'AFI百年系列', 'AFI百年百大喜劇電影'}\n",
            "{'樂團', '夜市', '男性', '詹雯婷', '陳建寧', '阿沁', '女性'} {'F.I.R.飛兒樂團'}\n",
            "{'氫', '分子', '氫氣'} {'氫氣'}\n",
            "{'總統', '演講', '音樂', '林肯_(消歧義)', '亞伯拉罕·林肯', '美國總統', '美國曆史', '美國'} {'羅伯特·託德·林肯', '蓋茲堡演說', '林肯遇刺案', '亞伯拉罕·林肯', '華盛頓生日'}\n",
            "{'國號', '黨', '民主進步黨', '謝長廷', '民進'} {'謝長廷'}\n",
            "{'馬克思主義', '馬克思·多爾穆瓦站', '格魯喬·馬克思', '卡爾·馬克思', '馬克思主義政治經濟學', '資本論', '政治經濟學', '海因裏希·馬克思'} {'馬克思主義政治經濟學', '資本論', '河上肇', '女人資本論'}\n",
            "{'金馬獎', '劇情片', '傳奇_(小說)', '獎勵', '侯孝賢', '電影'} {'第27屆金馬獎', '金馬獎最佳劇情短片', '金馬獎最佳劇情長片', '刺客聶隱娘', '侯孝賢'}\n",
            "{'魚', '西', '毒魚豆', '原住民'} {'毒魚豆'}\n",
            "{'肖恩·約翰遜', '林登·約翰遜', '鮑里斯·約翰遜', '克里斯·約翰遜', '越南戰爭', '塞繆爾·約翰遜', '斯蒂夫·約翰遜', '美國'} set()\n",
            "{'女性', '標準舞'} set()\n",
            "{'格奧爾格·康托爾', '話語', '埃迪·康托爾', '數學'} set()\n",
            "{'患者', '病理學', '疾病'} {'病理學'}\n",
            "{'盾', '犀渠', '犀皮', '中國', '怪物'} set()\n",
            "{'香港', '圍村', '村長', '練馬師', '現在', '松柏塱', '簡炳墀', '本地人'} {'松柏塱'}\n",
            "{'馬克思主義', '馬克思·多爾穆瓦站', '格魯喬·馬克思', '卡爾·馬克思', '馬克思主義政治經濟學', '資本論', '政治經濟學', '海因裏希·馬克思'} {'馬克思主義政治經濟學', '資本論', '河上肇', '女人資本論'}\n",
            "{'馬克思主義', '馬克思·多爾穆瓦站', '格魯喬·馬克思', '卡爾·馬克思', '馬克思主義政治經濟學', '資本論', '政治經濟學', '海因裏希·馬克思'} {'馬克思主義政治經濟學', '資本論', '河上肇', '女人資本論'}\n",
            "{'女性', '焦慮'} set()\n",
            "{'貝塔·雷·比爾', '愛', '貝雷特'} {'貝雷特'}\n",
            "{'德州', '德州儀器', '晶體管', '年代', '世界'} {'德州儀器'}\n",
            "{'家庭', '阿希爾克洛德·德彪西'} set()\n",
            "{'素食主義', '茶葉蛋', '茶'} {'茶葉蛋'}\n",
            "{'兒子', '宋高宗', '南宋', '宋徽宗', '北宋', '皇帝', '宋朝'} {'宋欽宗', '宋高宗', '南宋', '宋朝君主列表'}\n",
            "{'臺北', '中學', '內湖_(臺北市內湖區大字)', '學生', '2000', '臺北市立麗山高級中學', '內湖區', '麗山'} {'柯明樹', '臺北市立麗山高級中學', '臺北市內湖區麗山國民小學', '麗山', '鄭顯三'}\n",
            "{'松前城', '福山城_(備後國)', '地段', '美國軍隊', '廣島縣', '備後國', '福山市'} {'備後國'}\n",
            "{'西廂記', '王實甫'} {'牆頭馬上', '紅娘', '王實甫', '吟風閣雜劇', '西廂記'}\n",
            "{'羅曼·伊戈列維奇·普京', '弗拉基米爾·普京'} {'柳德米拉·普京娜', '每天五個蘋果，普京遠離我'}\n",
            "{'葡萄', '簇', '果實', '一起_(政黨聯盟)'} {'葡萄', '山葡萄'}\n",
            "{'古諾斯語', '冰島', '維京人', '維京時代', '語言', '分支', '冰島語', '夏爾·古諾'} {'古諾斯語', '冰島語'}\n",
            "{'馬克思主義', '馬克思·多爾穆瓦站', '格魯喬·馬克思', '卡爾·馬克思', '馬克思主義政治經濟學', '資本論', '政治經濟學', '海因裏希·馬克思'} {'馬克思主義政治經濟學', '資本論', '河上肇', '女人資本論'}\n",
            "{'發展', '交通', '公路', '臺灣', '鐵路', '電氣化鐵路', '高速公路', '臺灣交通'} set()\n",
            "{'城市規劃', '末'} set()\n",
            "{'宗教', '宗教哲學', '哲學', '信仰'} {'無宗教', '宗教哲學', '宗教信仰哲學'}\n",
            "{'車站', '城市軌道交通', '伊斯法罕地鐵', '伊斯法罕'} {'伊斯法罕老廣場', '伊斯法罕省', '伊斯法罕佐布阿漢足球俱樂部', '伊斯法罕佐帕罕籃球俱樂部', '伊斯法罕地鐵'}\n",
            "{'電荷', '電', '夸克', '反粒子'} {'粲夸克', 'Σ粒子', '下夸克', '上夸克', '反τ子'}\n",
            "{'天津市', '煎餅_(日本)', '煎餅餜子'} {'煎餅餜子'}\n",
            "{'晶體', '化合價', '硫'} set()\n",
            "{'阿托品', '教師', '神仙·老師·狗'} {'阿托品'}\n",
            "{'葉巒'} {'葉巒'}\n",
            "{'語言', '諾維亞語', '國家'} {'諾維亞語'}\n",
            "{'星期六', '禮拜_(伊斯蘭教)', '禮拜'} set()\n",
            "{'程序員', '初學者', '專業', '程序設計', '領域'} {'程序設計實踐', '圍棋術語', '程序員', '程序設計'}\n",
            "{'腸道沙門氏菌', '沙門氏菌屬', '達爾·斯蒂芬斯', '餐廳', '沃斯科縣', '傷寒', '1984年羅傑尼希教生物恐怖攻擊', '奧修'} {'1984年羅傑尼希教生物恐怖攻擊', '羅傑尼希社區'}\n",
            "{'馬克思主義', '馬克思·多爾穆瓦站', '格魯喬·馬克思', '卡爾·馬克思', '馬克思主義政治經濟學', '資本論', '政治經濟學', '海因裏希·馬克思'} {'馬克思主義政治經濟學', '資本論', '河上肇', '女人資本論'}\n",
            "{'人民共和國', '非洲', '剛果民主共和國', '陸地', '阿爾及利亞'} {'中國駐阿爾及利亞大使列表', '剛果民主共和國國家足球隊', '剛果民主共和國'}\n",
            "{'1990年', '死者能舞', '音樂專輯'} set()\n",
            "{'文化', '撒丁島', '風俗'} {'風俗'}\n",
            "{'臺北市政府', '臺北市立萬芳高級中學', '臺北市文山區興華國民小學', '臺北市', '萬芳_(消歧義)', '教育局', '興華國小', '小學', '臺北市立萬芳醫院', '文山區'} {'臺北市立萬芳高級中學', '臺北市私立東山高級中學', '臺北市文山區萬芳國民小學', '臺北市政府教育局', '臺北市文山區興華國民小學'}\n",
            "{'硫酸', '比例', '液體'} {'硫酸亞鉈', '硫酸𨥙', '硫酸亞錫'}\n",
            "{'民主運動_(法國)', '廖文毅', '一生'} {'臺灣共和國臨時政府', '廖文毅', '臺灣共和國臨時政府國旗'}\n",
            "{'名', '小說'} {'羅伯特·本頓'}\n",
            "{'科技大學_(臺灣學制)', '大安區_(臺北市)', '國立臺灣科技大學', '大安_(臺北市)', '國立臺灣科技大學研揚大樓', '大學'} {'國立臺灣科技大學管理研究所', '國立臺灣科技大學校史室', '國立臺灣科技大學研揚大樓'}\n",
            "{'彗尾', '彗星', '天文單位', '地球', '大小'} set()\n",
            "{'若瑟·蘇格拉底', '蘇格拉底', '作品', '柏拉圖', '對話', '學生', '蘇格拉底·布拉濟萊羅·奧利維拉'} {'蘇格拉底', '柏拉圖'}\n",
            "{'目標', '均勻碼理事會', '20世紀', '世紀'} {'均勻碼理事會', '通用產品代碼'}\n",
            "{'中學', '2015年', '臺灣國中教育', '臺北市', '臺北市私立協和祐德高級中學', '高職'} {'臺北市私立協和祐德高級中學'}\n",
            "{'透明', '身體', '內臟', '神農'} set()\n",
            "{'紫微垣', '皇后', '故宮'} {'紫微垣'}\n",
            "{'體育場', '徐有庠', '遠東集團', '遠東集團_(臺灣)', '組織創始人'} {'徐有庠', '徐旭東', '遠東集團'}\n",
            "{'歌手', '蔡卓妍', '香港', '西端區_(溫哥華)', '歌手·當打之年', '加拿大'} set()\n",
            "{'凱蒂·史密斯', 'J·R·史密斯', '威爾·史密斯', '奈史密斯籃球名人紀念堂', '詹姆斯·奈史密斯', '考·奈史密斯', '今天', '姚明'} {'大衛·斯托克頓', '奈史密斯籃球名人紀念堂', '姚明'}\n",
            "{'SETI@home', '處理器', '資源_(計算機科學)'} {'SETI@home', '搜尋地外文明計劃'}\n",
            "{'哈爾科夫', '基留希', '聚落', '瑞典', '哈爾科夫州'} {'基留希'}\n",
            "{'工藝美術', '內畫壺', '技術', '世紀'} set()\n",
            "{'質量', '粒子', '夸克', '粒子衰變', '過程', '下夸克', '上夸克', '衰變'} {'Λ粒子', 'Σ粒子', '底夸克', '下夸克', '頂夸克'}\n",
            "{'樂團', '男性', '詹雯婷', '陳建寧', '阿沁', '女性'} {'F.I.R.飛兒樂團'}\n",
            "{'春秋_(書)', '春秋', '穀梁傳'} {'公羊傳', '春秋三傳', '穀梁傳'}\n",
            "{'戰爭與和平', '拿破崙戰爭', '拿破崙_(消歧義)'} {'博羅金諾戰役'}\n",
            "{'臺北', '明治', '臺北市立建國高級中學'} {'臺北州立臺北第一中學校'}\n",
            "{'臺中市', '臺南市', '女性', '臺中市西大墩婦女中心'} {'臺中市西大墩婦女中心', '臺中市婦女福利服務中心'}\n",
            "{'一生', '皮特·烏斯蒂諾夫', '作品'} set()\n",
            "{'童話', 'Fairytale', 'FAIRYTALE', '西方', '情書_(1997年電影)'} {'童話'}\n",
            "{'動漫', '臺灣大學卡通漫畫研究社', '臺灣', '國立臺灣大學'} {'臺灣大學卡通漫畫研究社'}\n",
            "{'阿姆斯特丹'} {'阿姆斯特丹地鐵'}\n",
            "{'食物', '颱風'} {'食物安全中心'}\n",
            "{'權力', '官僚', '凡爾賽', '路易十四', '凡爾賽宮', '絕對君主制', '法國', '法國大革命', '君主制'} {'朕即國家'}\n",
            "{'政府', '希臘神話', '土衛十', '海', '希臘', '神話', '土星的衛星', '女神'} set()\n",
            "{'理論', '教授', '經濟學', '古典經濟學', '哈佛大學', '分析', '楊小凱'} {'楊小凱'}\n",
            "{'馬克思主義', '馬克思·多爾穆瓦站', '格魯喬·馬克思', '卡爾·馬克思', '馬克思主義政治經濟學', '資本論', '政治經濟學', '海因裏希·馬克思'} {'馬克思主義政治經濟學', '資本論', '河上肇', '女人資本論'}\n",
            "{'普利策獎'} {'普利策歷史獎'}\n",
            "{'貿易', '外省人', '粵菜', '興盛', '廣東省', '菜系'} set()\n",
            "{'專屬經濟區', '美國'} {'公海公約', '專屬經濟區', '聯合國海洋法公約', '國際海洋法法庭', '公海'}\n",
            "{'3T_(香港音樂組合)', '少女蝶'} {'鄭希怡'}\n",
            "{'魏', '三國', '曹魏', '政權', '北', '曹', '領土', '人口'} {'曹魏', '中國疆域史', '何祗'}\n",
            "{'總統', '中華民國', '翰林院', '庶吉士', '蔡元培', '元培'} {'庶吉士'}\n",
            "{'寒武紀大爆發', '古蹟', '寒武紀', '寒武紀_(消歧義)', '世界'} {'寒武紀大爆發', '埃迪卡拉紀末期滅絕事件'}\n",
            "{'希臘神話', '證明', '希臘', '神話', '藝術品', '考古學'} {'希臘神話生物列表', '希臘神話'}\n",
            "{'工藝', '手工藝', '作品'} {'手工業', '手工藝'}\n",
            "{'山脈', '安地斯山脈', '漢科科柳山', '玻利維亞'} {'皮爾瓦尼山', '漢科科柳山'}\n",
            "{'便利商店', '二十四小時_(綜藝節目)', '立夏', '小時'} {'每天愛你二十四小時', '福客多便利商店'}\n",
            "{'記錄', '路易·德·奧爾良_(1703年—1752年)', '神話', '路易十四', '君主', '法國', '國家'} set()\n",
            "{'嘉南', '平原', '臺南市', '今天', '嘉南平原', '臺南縣'} {'嘉南', '高雄平原', '屏東平原', '嘉南平原', '臺南縣'}\n",
            "{'植物', '新生代', '哺乳動物', '被子植物'} {'新生代'}\n",
            "{'行政區劃', '賀龍', '賀龍體育文化中心', '文化中心', '長沙市'} {'賀龍體育文化中心'}\n",
            "{'計算機科學', '圖像壓縮', '圖像壓縮技術'} {'紋理壓縮', '圖像壓縮技術', '圖像壓縮', '數據壓縮', '視訊壓縮'}\n",
            "{'史考特·朗恩', '麥可·史考特', '南極洲', '森林', '克莉斯汀·史考特·湯瑪斯', '西恩·威廉·史考特', '洲', '雷利·史考特'} set()\n",
            "{'配角', '湯姆·漢克斯', '奧斯卡', '湯姆·克魯斯', '奧斯卡最佳男配角獎', '湯姆·班克斯', '木蘭花_(電視劇)'} {'征服情海', '安東尼·奎恩'}\n",
            "{'臺北', '臺灣總督府臺北高等學校', '臺灣總督府', '島嶼', '臺灣', '總督府', '日治時期', '學校'} {'臺灣總督府民政部', '臺灣總督府臺北高等學校', '臺灣總督府評議會', '臺北高等學校講堂', '臺灣總督府高等商業學校'}\n",
            "{'伯蒂·查爾斯·福布斯', '成龍', '2006年', '福布斯', '邁爾康·福布斯'} {'成龍'}\n",
            "{'腳', '特徵', '昆蟲', '處_(佛教)', '體', '頭胸部', '身體', '胸節_(昆蟲)'} set()\n",
            "{'北京理工大學'} {'武漢大學水資源與水電工程科學國家重點實驗室', '華北理工大學', '醫學遺傳學國家重點實驗室', '青島市科研院所列表'}\n",
            "{'殖民主義', '領土'} set()\n",
            "{'富士', '身', '北美洲', '血親', '貴之富士三造', '洲'} set()\n",
            "{'漫畫', '埃爾熱', '丁丁歷險記', '丁丁_(丁丁歷險記)'} {'丁丁在西藏', '丁丁在蘇聯', '丁丁與字母藝術', '丁丁與流浪漢', '卡爾庫魯斯案件'}\n",
            "{'液體', '物質', '面_(幾何)', '太陽系', '木衛二'} {'木衛二表面特徵列表', '木衛二測繪成像光譜儀', '木衛二'}\n",
            "{'交通號誌', '列夫·托洛茨基', '蘇聯'} set()\n",
            "{'民意代表', '臺北市_(省轄市)', '黨', '臺北市', '民國', '謝長廷', '臺北市議員列表', '身分標識方式'} set()\n",
            "{'虎', '于化虎'} set()\n",
            "{'淋巴', '淋巴結', '狀態', '淋巴結腫大'} {'前哨淋巴結', '淋巴系統', '淋巴結腫大'}\n",
            "{'軌道_(力學)', '小行星', '日心軌道', '行星'} {'小行星族'}\n",
            "{'動物', '脊柱', '棘皮動物', '陸地'} {'脊柱外科', '海旋板', '無脊椎動物', '棘皮動物', '舒爾曼病'}\n",
            "{'伊斯蘭教', '北非', '語言', '阿拉伯語', '信仰', '黎巴嫩'} {'黎巴嫩', '阿拉伯世界', '黎巴嫩阿拉伯語', '阿拉伯語國家和地區列表'}\n",
            "{'SETI@home'} {'SETI@home', '地震捕手網絡', '搜尋地外文明計劃', 'SHGb02+14a無線電信號', 'Astropulse'}\n",
            "{'漫畫', '角川書店', '天使怪盜', '杉崎由綺琉', '書店', '漫畫雜誌'} {'月刊Asuka', '女神候補生', '天使怪盜', '杉崎由綺琉', '炸彈小新娘'}\n",
            "{'有期徒刑', '政府', '波爾布特', '無期徒刑', '1998年', '宋成', '自殺', '因果關係'} {'波爾布特', '宋成'}\n",
            "{'熱量', '溫', '冷血動物_(歌曲)', '動物', '爬行動物', '變溫動物', '冷血'} {'爬行動物', '日本爬行動物列表', '恆溫動物', '冷血'}\n",
            "{'中華人民共和國教育部', '中國共產黨', '大學', '吉林省', '教育部', '中華人民共和國教育', '吉林大學', '中華人民共和國'} {'吉林大學', '吉林大學西區', '中華人民共和國教育部直屬高等學校列表'}\n",
            "{'節肢動物', '昆蟲', '蟲', '蛛形綱'} {'無鞭目', '序足動物', '地中海蚰蜒', '蛛形綱'}\n",
            "{'劇場藝術', '美國', '先驅', '化石森林', '電影'} {'罪惡鎖鏈', '偉大的奧馬利', '直搗黃龍', '賊中之王', '化石森林'}\n",
            "{'伯恩哈德·黎曼', 'Ζ', '黎曼ζ函數', '統計學', '函數'} {'赫爾維茨ζ函數', '黎曼ζ函數', '黎曼ξ函數', '生物統計學', '數理統計學'}\n",
            "{'範式', '大理寺', '臣', '發展', '狄仁傑', '古代史', '中國'} {'狄仁傑'}\n",
            "{'少將', '牡丹社', '牡丹', '將軍', '鹿兒島縣', '明治', '兒玉利國'} {'兒玉利國'}\n",
            "{'高建_(韓國)', '大韓民國', '議長', '韓國國會議長', '韓國國會'} {'樸炳錫', '金振杓', '韓國國會', '韓國國會議長'}\n",
            "{'妙義山', '效用', '江戶時代', '雷', '江戶'} {'妙義荒船佐久高原國定公園'}\n",
            "{'瓜達拉哈拉', '名稱', '墨西哥', '瓜達拉哈拉_(墨西哥)', '城市', '西班牙', '太平洋'} {'瓜達拉哈拉', '天主教瓜達拉哈拉總教區', '瓜達拉哈拉體育會', '瓜達拉哈拉主教座堂', '阿特拉斯足球俱樂部'}\n",
            "{'自體受體', '神經遞質', '突觸', '受體_(生物化學)'} {'神經肌肉接點', '自體受體', '再攝取', '突觸後電位', '突觸可塑性'}\n",
            "set() set()\n",
            "{'音階'} set()\n",
            "{'殼', '昆蟲', '體育運動'} {'N-乙酰胞壁酸'}\n",
            "{'第二次世界大戰', '對日民間索賠', '經濟補償', '器具', '創傷', '類型'} {'對日民間索賠'}\n",
            "{'花椒', '表皮'} {'屏東花椒', '簕欓花椒', '異葉花椒', '嶺南花椒', '翼柄花椒'}\n",
            "{'總統', '巴西總統', '巴西', '路易斯·伊納西奧·盧拉·達席爾瓦'} {'賀·維埃加斯', '路易斯·伊納西奧·盧拉·達席爾瓦'}\n",
            "{'釋迦牟尼', '土地', '世界', '佛教'} set()\n",
            "{'格奧爾格·康托爾', '數學家', '理論', '埃迪·康托爾'} {'格奧爾格·康托爾', '康托爾環形山', '康托爾函數'}\n",
            "{'羅漢_(消歧義)', '阿羅漢', '上座_(佛教)', '上座部', '佛教', '上座部佛教'} {'斯里蘭卡佛教', '上座部', '善阿羅漢'}\n",
            "{'鐒', '元素週期表', '位置', '電子排布', '期待', '語態', '電子', '物'} {'鐒', 'D區元素'}\n",
            "{'墨西哥', '瓜達拉哈拉_(墨西哥)', '海'} {'瓜達拉哈拉新村', '瓜達拉哈拉體育會'}\n",
            "{'杜鵑科', '鳥', '杜鵑'} {'杜鵑屬', '走鵑', '鴉鵑屬', '杜鵑科'}\n",
            "{'美國', '波士頓', '都市圈', '大波士頓'} {'大波士頓'}\n",
            "{'藥物', '小時', '阿托品', '靜脈注射', '中毒', '注射', '劑量'} {'阿托品'}\n",
            "{'鳥', '鯊魚', '生命', '入侵物種', '犬', '世界百大外來入侵種', '世界'} {'貓', '世界百大外來入侵種'}\n",
            "{'軍區', '大軍區', '中國人民解放軍', '2016', '深化國防和軍隊改革', '北京市', '中國人民解放軍南京軍區'} {'中央軍委深化國防和軍隊改革領導小組', '中國人民解放軍濟南軍區', '中國人民解放軍廣州軍區', '中國人民解放軍瀋陽軍區', '中國人民解放軍南京軍區'}\n",
            "{'百靈屬', '百靈科', '分支', '雀百靈屬'} {'百靈屬', '雀百靈屬', '短趾百靈屬', '林百靈', '歌百靈屬'}\n",
            "{'羅曼·伊戈列維奇·普京', '國家安全委員會_(蘇聯)', '弗拉基米爾·普京', '國家安全會議', '主席', '蘇聯'} set()\n",
            "{'香港國際機場', '國際機場'} {'機場稅'}\n",
            "{'雙子葉植物', '波斯語', '維吾爾語', '子葉', '植物', '洋蔥'} {'洋蔥', '內蒙古雙子葉植物列表'}\n",
            "{'三立電視', '國際臺', '杭州駐防城', '三立國際臺'} {'三立都會臺', '三立綜合臺', '三立國際臺', '三立戲劇臺', '三立iNEWS'}\n",
            "{'長安', '軍', '綠林軍', '王莽', '中國', '中國皇帝', '皇帝'} {'綠林軍', '王莽鄉', '王莽街道', '王捷'}\n",
            "{'衛', '木材', '翻轉角', '木衛三十九', '木星', '赤道', '木星的衛星', '木衛三'} {'木衛三十九', '木衛五十', '木衛五十二'}\n",
            "{'行政區_(紐約市)', '行政區劃', '地級行政區', '內蒙古自治區', '盟_(行政區劃)', '中華人民共和國曆史', '中華人民共和國'} {'中華人民共和國行政區劃', '地級市', '縣級行政區'}\n",
            "{'中正區_(臺北市)', '捷運車站', '捷運', '萬華區', '西門站', '西門站_(臺北捷運)'} {'臺電大樓站', '西門地下街', '臺北市萬華區新和國民小學'}\n",
            "{'馬克思主義', '馬克思·多爾穆瓦站', '格魯喬·馬克思', '卡爾·馬克思', '馬克思主義政治經濟學', '資本論', '政治經濟學', '海因裏希·馬克思'} {'馬克思主義政治經濟學', '資本論', '河上肇', '女人資本論'}\n",
            "{'伯蒂·查爾斯·福布斯', '邁爾康·福布斯', '福布斯', '成龍'} {'福布斯中國富豪榜'}\n",
            "{'學校', '遠東集團'} {'遠東集團'}\n",
            "{'哈爾科夫', '布利茲紐基區', '烏克蘭', '聚落', '甘尼夫卡_(諾索夫卡區)', '布利茲紐基', '哈爾科夫州'} {'哈爾科夫省', '布利茲紐基', '布利茲紐基區', '甘尼夫卡-捷爾尼夫西卡'}\n",
            "{'星座', '希臘字母', '希臘', '拜耳', '拜耳命名法', '格', '拉丁語', '字母'} {'佛蘭斯蒂德命名法', '古德命名法', '拜耳命名法'}\n",
            "{'數據科學家', '科學家_(歌曲)', '機體', '疾病'} {'病理學'}\n",
            "{'弗朗西斯·科波拉', '美國風情畫', '劇本'} {'美國風情畫', '李察·德雷福斯'}\n",
            "{'中學', '臺北市', '僑民', '臺北市私立道明外僑學校'} {'臺北市私立道明外僑學校', '臺北市私立東山高級中學'}\n",
            "{'三立電視', '國際臺', '杭州駐防城', '三立國際臺'} {'三立都會臺', '三立臺灣台', '三立綜合臺', '三立國際臺', '三立戲劇臺'}\n",
            "{'尤里·安德羅波夫', '腎_(臟腑)', '腎功能衰竭', '腎功能', '健康'} {'尤里·安德羅波夫'}\n",
            "{'世紀', '產業', '20世紀', '科隆', '第三產業'} set()\n",
            "{'條約', '專屬經濟區', '美國', '國際公約'} {'國際海底管理局', '專屬經濟區', '聯合國海洋法公約', '國際海洋法法庭', '公海'}\n",
            "{'專業', '程序員', '領域', '專業人士'} {'專業協會', '程序員'}\n",
            "{'希臘神話', '名稱', '希臘', '神話', '木衛十二', '形象', '女神'} {'希臘神話生物列表', '木衛十六', '木衛十二', '瓦爾迪瓦紡錘魷'}\n",
            "{'英國', '紋章', '英國皇家徽章'} set()\n",
            "{'核心', '人類', '社會', '家庭', '核心家庭', '單位'} {'家庭', '核心家庭', '美國家庭結構'}\n",
            "{'動作片演員', '妻子', '成龍', '元龍', '演員'} {'元龍'}\n",
            "{'東京', '高等師範學校', '倪尚達', '1915年', '筑波大學', '師範學校_(日本舊制)', '學校'} {'高等師範學校', '1915年體育', '國立武昌高等師範學校'}\n",
            "{'臺灣三山善社', '臺灣', '山', '明治', '三山'} {'方幼祥', '臺灣三山善社'}\n",
            "{'國際象棋', '遊戲', '裁判_(足球)'} {'國際象棋'}\n",
            "{'天佑國王', '愛國歌曲', '歌詞', '歌曲', '美國'} {'天佑國王', '愛國歌曲', '天佑新西蘭', '天佑安圭拉', '在那邊'}\n",
            "{'名稱', '意大利', '解剖學', '女兒', '馬氏管', '馬爾切洛·馬爾皮吉'} set()\n",
            "{'羅盤方位', '路', '絲綢之路', '漢朝', '絲綢', '漢'} {'絲綢之路世界文化遺產', '南方絲綢之路', '絲綢之路巡禮名曲集', '絲綢之路'}\n",
            "{'人權', '國際LGBTI聯合會', '性狀', '行爲', '身體'} {'國際LGBTI聯合會'}\n",
            "{'魏雅欣'} set()\n",
            "{'草鴞', '草鴞科', '科'} set()\n",
            "{'結締組織', '人體'} {'非營利組織', '固有結締組織'}\n",
            "{'南部', '美洲', '馬爾代夫'} {'馬爾地夫國家男子籃球隊', '馬爾地夫拉菲亞'}\n",
            "{'人民', '米哈伊爾·伊拉里奧諾維奇·庫圖佐夫', '入侵', '羅曼·庫圖佐夫', '俄法戰爭', '俄羅斯', '序曲', '1812序曲'} {'俄法戰爭', '庫圖佐夫行動', '米哈伊爾·伊拉里奧諾維奇·庫圖佐夫', '1812序曲'}\n",
            "{'扶餘國', '附庸國', '國'} {'鄂圖曼帝國的附屬國'}\n",
            "{'北平王', '五代十國', '王', '北平市', '政權', '北平_(五代十國)', '晉王', '後唐', '十國', '唐明宗'} {'李繼儔'}\n",
            "{'金融', '波士頓', '經濟', '經濟發展', '商業'} {'金融服務', '波士頓', '臺灣金融機構列表'}\n",
            "{'混血兒', '富士', '菲律賓', '貴之富士三造'} set()\n",
            "{'震盪波蠕蟲', '小時'} {'震盪波蠕蟲'}\n",
            "{'琅琊', '東晉', '電視劇', '琅邪王', '晉元帝'} {'五馬渡江'}\n",
            "{'視野', '光學顯微鏡', '顯微鏡', '樣品', '細胞', '功能'} set()\n",
            "{'關羽', '金蘭', '劉備', '張飛', '小說', '三國演義'} {'關羽'}\n",
            "{'麻婆豆腐', '豆腐', '大豆', '豆製品', '麻', '原材料', '豆瓣醬'} {'麻婆豆腐'}\n",
            "{'有期徒刑', '政府', '逮捕', '蔡英文', '無期徒刑', '1998年', '波爾布特'} set()\n",
            "{'1999', '1999年', '俘虜_(電影)', '羅曼·伊戈列維奇·普京', '弗拉基米爾·普京', '總理'} set()\n",
            "{'艾伯特·金_(籃球運動員)', '勃蘭登堡_(1945年—1952年)', '萊比錫', '圖書館員', '弗里德里希·艾伯特', '市鎮', '弗里德里希·阿道夫·艾伯特', '小弗里德里希·艾伯特', '圖書館'} {'弗里德里希·阿道夫·艾伯特'}\n",
            "{'公案小說', '大理寺', '發展', '狄仁傑', '公案_(消歧義)', '小說', '中國'} {'狄仁傑'}\n",
            "{'布魯塞爾', '文化遺產', '車站', '世界遺產', '運輸', '科技'} set()\n",
            "{'天子', '楊貴妃', '王朝的女人·楊貴妃', '綾羅綢緞', '楊貴妃_(2000年電視劇)', '安史之亂', '唐憲宗', '綾'} {'楊貴妃'}\n",
            "{'科隆', '宗教團體'} {'臺灣文化活動列表'}\n",
            "{'藝術家', '巴勃羅·畢卡索', '畫家'} {'美術家列表', '博比尼-巴勃羅·畢卡索站', '弗洛裏安·畢卡索', '卡洛斯·卡薩吉瑪斯'}\n",
            "{'社會', '政治運動', '1957年', '德國', '政治家', '章伯鈞'} {'汪先烺', '章伯鈞'}\n",
            "{'人權', '1978年'} {'國際LGBTI聯合會'}\n",
            "{'李美妍', '配角', '皇后', '明成皇后'} {'李美妍'}\n",
            "{'家庭', '阿希爾克洛德·德彪西'} set()\n",
            "{'漢族', '美國', '民族'} {'日本民族問題'}\n",
            "{'固體', '大氣層', '物質', '太陽系', '木衛二', '太陽'} {'木衛二表面特徵列表', '木衛二'}\n",
            "{'日本漫畫家', '本名', '藤子·F·不二雄', '日本漫畫', '奇天烈大百科', '哆啦A夢', '日本', '漫畫家'} {'藤子·F·不二雄', '藤子不二雄', '奇天烈大百科', '藤子不二雄Ⓐ', '藤子·F·不二雄創作'}\n",
            "{'記錄', '主權國家', '路易十四', '勝利_(歌手)', '主權', '君主', '法國', '國家'} set()\n",
            "{'2006年', '凌日', '水星凌日', '凌_(天體)'} {'凌日', '水星凌日'}\n",
            "{'部落', '人物_(美國雜誌)', '苗', '三苗', '上古時代', '戰國時期', '戰國_(漫畫)', '河南省', '黃河'} {'三苗'}\n",
            "{'中國工農紅軍第四方面軍', '紅軍', '方面軍', '許世友'} {'許家窪'}\n",
            "{'梁_(南朝)', '梁武帝', '皇帝', '南北朝'} {'梁武帝', '在位時間最長的君主列表', '在位時間最短的君主列表'}\n",
            "{'飲食文化', '世紀', '日本料理', '19世紀', '日本', '菜系'} {'江蘇省非物質文化遺產', '聯合國教科文組織人類非物質文化遺產代表作名錄中國項目', '日本料理', '北京市市級非物質文化遺產', '加拿大世界遺產列表'}\n",
            "{'西部', '地區', '薩爾波勒扎哈卜', '伊朗', '地震'} {'薩爾波勒扎哈卜'}\n",
            "set() set()\n",
            "{'艾伯特縣', '科羅拉多州', '警長_(香港)', '東部', '艾伯特_(科羅拉多州)', '縣', '警長'} {'艾伯特縣', '警長'}\n",
            "{'真菌', '生物', '界_(生物)', '植物', '動物', '細胞', '細胞核', '細菌', '界'} {'真菌分類表'}\n",
            "{'四大名旦', '梅蘭芳'} {'舒繡文', '梅蘭芳', '尚小云', '京劇四大名旦', '四大名旦'}\n",
            "{'概念', '證據', '知識', '二次文獻', '一次文獻', '文獻'} {'一次文獻'}\n",
            "{'釋迦牟尼', '佛教'} set()\n",
            "{'藩', '行政區劃', '府_(行政區劃)', '字_(計算機)', '潛藩升府', '宋朝君主列表', '皇帝', '宋朝'} {'潛藩升府', '常德府'}\n",
            "{'漢初三傑', '劉邦', '漢朝', '漢', '天下'} {'白登山', '張良', '蕭何', '漢初三傑'}\n",
            "{'刺殺肯尼迪', '奧利華·史東', '世紀', '作品', '20世紀', '史東', '美國'} {'奧利華·史東', '火樂焚城'}\n",
            "{'革命', '國慶日', '辛亥革命', '開端', '共和制', '清朝'} {'辛亥革命'}\n",
            "{'光速', '相對論', '狹義相對論', '宇宙'} {'超光速運動', '狹義相對論發現史', '光速不變原理', '雙重狹義相對論', '光速'}\n",
            "{'芝加哥'} set()\n",
            "{'政府', '戴安娜_(電影)', '非政府組織', '威爾士王妃', '組織', '英國', '戴安娜·瑞格', '戴安娜·艾嘉朗', '威爾斯王妃戴安娜'} set()\n",
            "{'買', '雲嘉南', '全買', '商店', '代表', '地區', '長頸鹿'} {'全買'}\n",
            "{'地質公園', '澳大利亞', '世界地質公園列表', '嵩山'} {'中華人民共和國國家級風景名勝區', '地質公園', '嵩山路街道', '泰寧世界地質公園', '嵩山'}\n",
            "{'京劇', '梅蘭芳', '順天時報', '京劇四大名旦', '中國'} {'譚元壽', '梅蘭芳', '京劇四大名旦', '高慶奎', '四大名旦'}\n",
            "{'臺中市', '臺中市立臺中女子高級中等學校', '臺中_(大字)'} {'聖言中學', '佛教大光慈航中學', '臺中市議會', '臺中市私立明德高級中學', '臺中市立臺中女子高級中等學校'}\n",
            "{'民意代表', '代表', '學術'} {'萬年國會'}\n",
            "{'歐洲民族', '腳趾', '歐洲', '民族', '指', '國家'} set()\n",
            "{'烏茲別克人', '斯坦', '卡拉卡爾帕克斯坦共和國', '花剌子模'} {'卡拉卡爾帕克斯坦共和國', '卡拉卡爾帕克蘇維埃社會主義自治共和國', '烏茲別克人', '木伊那克', '在日烏茲別克人'}\n",
            "{'人口', '九江市'} set()\n",
            "{'華盛頓哥倫比亞特區', '共和黨', '政黨', '總部', '今天', '共和黨_(美國)', '美國'} {'華盛頓特區電車', '華盛頓哥倫比亞特區同性婚姻', '華盛頓神祕', '美國政黨'}\n",
            "{'謝磷', '進士', '明朝', '名'} {'芬蘭官方榜單'}\n",
            "{'香港大學', '英語'} set()\n",
            "{'作曲家', '派', '吉賽爾', '古典芭蕾', '芭蕾舞', '吉賽爾_(消歧義)', '吉賽爾·邦辰', '法國', '古典'} {'俄派芭蕾', '吉賽爾', '古典芭蕾'}\n",
            "{'傀儡戲', '奧利華·史東', '美國', '世紀', '20世紀', '史東', '電影', '傀儡'} {'奧利華·史東'}\n",
            "{'中正區_(臺北市)', '萬華區', '西門站', '西門站_(臺北捷運)', '城鎮'} {'西門地下街', '臺北市萬華區新和國民小學'}\n",
            "{'政治', '島嶼', '島嶼國家', '數字', '世界'} {'島嶼國家'}\n",
            "{'西點軍校', '美國', '西點_(紐約州)'} set()\n",
            "{'土星', '土衛一', '土星的衛星'} {'土衛四十九', '土衛四十', '土衛一', '土衛三'}\n",
            "{'因數', '質數'} {'質數階乘', '質數', '質數列表', '因數基底', '質數冪'}\n",
            "{'中華人民共和國水利部', '中華人民共和國'} {'水利部淮河水利委員會', '中央人民政府水利部', '水利部海河水利委員會', '中華人民共和國水利部', '水利部松遼水利委員會'}\n",
            "{'紅寶石', '亞洲', '電影', '寶石'} {'紅寶石'}\n",
            "{'錫克人', '錫', '克', '錫克教', '信徒'} set()\n",
            "{'古羅馬', '神廟', '古代_(上加龍省)', '希臘', '拜占庭', '羅馬', '羅馬公民', '古希臘'} set()\n",
            "{'城市規劃', '城市'} {'南京大學城市規劃與設計系'}\n",
            "{'行憲', '西曆', '行憲紀念日', '聖誕節', '12月', '教會學校'} {'行憲紀念日'}\n",
            "{'馬克思主義', '馬克思·多爾穆瓦站', '格魯喬·馬克思', '卡爾·馬克思', '馬克思主義政治經濟學', '資本論', '政治經濟學', '海因裏希·馬克思'} {'河上肇', '馬克思主義政治經濟學', '政治經濟學批判大綱', '資本論', '伊拉里昂·伊格納切維奇·考夫曼'}\n",
            "{'赫歇爾_(消歧義)', '土星', '土衛一', '恆星'} {'土衛一表面特徵列表', '小行星1789', '土衛四十一', '土衛一', '土衛三'}\n",
            "{'第18屆金馬獎', '中華電視公司', '國家兩廳院', '金馬獎', '蕭芳芳', '金馬獎頒獎典禮', '主持人', '高雄市'} {'第18屆金馬獎'}\n",
            "{'馬克思主義', '馬克思·多爾穆瓦站', '格魯喬·馬克思', '卡爾·馬克思', '馬克思主義政治經濟學', '資本論', '政治經濟學', '海因裏希·馬克思'} {'馬克思主義政治經濟學', '資本論', '河上肇', '女人資本論'}\n",
            "{'皇帝', '宋朝', '宋仁宗'} {'宋英宗', '宋朝皇室', '宋仁宗'}\n",
            "{'向陽', '環境', '體溫', '動物', '爬行動物'} {'爬行動物'}\n",
            "{'父系制度', '木材', '燧人氏', '河套', '氏族', '氏_(消歧義)'} {'燧人氏'}\n",
            "{'許世友', '紅四軍_(紅四方面軍)'} {'許家窪', '許世友反革命集團案', '上將許世友'}\n",
            "{'物理學', '吳健雄', '會長', '世界'} {'蘇州健雄職業技術學院', '美國物理學會', '吳健雄', '吳健雄學院'}\n",
            "{'固體', '氣體', '空氣污染'} {'空氣污染'}\n",
            "{'臺中市', '臺中市立臺中女子高級中等學校', '教育', '臺中_(大字)'} {'臺中市立臺中女子高級中等學校', '臺中市議會', '臺中市私立明德高級中學'}\n",
            "{'克洛里斯', '雨果·洛里斯', '神', '克洛里斯_(寧芙)', '陌生人', '洛里斯_(沃克呂茲省)'} {'西風翠灰蝶'}\n",
            "{'美國', '美國英語', '英語'} {'美國英語', '美式中國菜', '胖老爹美式炸雞', '通用美式英語', '美式機車'}\n",
            "{'角宿', '視星等', '角宿一', '室女座', '電燈', '角_(星官)', '星等'} {'室女座流星雨', '角宿', '角宿二', '角宿一', '室女座'}\n",
            "{'希臘神話', '土衛十', '海', '希臘', '土衛十四', '神話', '土星的衛星', '女神'} {'土衛四十八', '土衛四十四', '土衛十三', '土衛十四'}\n",
            "{'疾病'} set()\n",
            "{'名', '史詩', '荷馬史詩', '赫拉', '荷馬'} set()\n",
            "{'女性', '香港聖公會', '聖保羅書院'} {'符潤光', '聖保羅堂', '史超域'}\n",
            "{'歌手', '香港歌手列表', '香港', '3T', 'T', '3T_(美國音樂組合)', '鄭希怡', '傳記', '歌手·當打之年'} {'上海娃娃'}\n",
            "{'耶穌'} set()\n",
            "{'經濟學人', '經濟學'} set()\n",
            "{'村民', '香港', '圍村', '村長', '練馬師', '現在', '松柏塱', '簡炳墀'} {'松柏塱'}\n",
            "{'第八代史賓賽伯爵約翰·史賓賽', '黛安娜', '威爾斯王妃戴安娜', '父親'} {'威爾斯王妃戴安娜'}\n",
            "{'藥理學', '藥物', '精神狀態', '化學', '疾病', '精神', '化學物質', '身體質量指數'} {'藥物'}\n",
            "{'金瓶梅', '饕餮', '圖書', '形象'} {'金瓶梅學', '西門慶', '饕餮'}\n",
            "{'特別攻擊隊', '跟蹤支援隊'} set()\n",
            "{'傳播', '第二次世界大戰', '傳播史', '特性_(計算機科學)', '廣播'} {'傳播史'}\n",
            "{'木星', '衛星'} {'木衛二十一', '木衛十一', '木衛五十七', '木衛八', '木衛十三'}\n",
            "{'特別攻擊隊', '攻擊', '跟蹤支援隊'} {'特別攻擊隊'}\n",
            "{'人口', '美國', '京畿', '京畿道'} {'中京畿道', '京畿道知事'}\n",
            "{'臺灣', '虎尾寮_(臺南市)', '東區_(臺南市)', '東區', '溪', '臺南市_(州轄市)', '小溪', '臺南市東區復興國民小學'} {'裕孝路', '裕信路', '臺南市東區裕文國民小學', '裕忠路', '臺南市東區復興國民小學'}\n",
            "{'種子', '植物', '新月沃土', '家畜', '多年生植物'} {'新月沃土'}\n",
            "{'西部', '塞內奇區', '斯洛伐克'} {'塞內奇區', '斯洛伐克總統列表', '尼特拉', '斯洛伐克國家銀行'}\n",
            "{'歐洲聯盟', '經濟', '日內瓦'} {'歐洲聯盟成員國政治制度列表', '歐洲中央銀行體系', '歐洲聯盟成員國', '歐洲聯盟', '歐洲聯盟擴大'}\n",
            "{'中華民國', '翰林院', '官僚', '庶吉士', '蔡元培', '元培'} {'庶吉士'}\n",
            "{'學生', '披巾', '維克多·奧塔', '冬季'} set()\n",
            "{'金門炮戰'} {'金門機場', '福建金門地方法院', '八二三戰史館', '國立金門高級中學', '金門炮戰'}\n",
            "{'普利策獎'} {'普利策國際報道獎', '普利策音樂獎', '普利策歷史獎', '約瑟夫·普立茲', '普利策戲劇獎'}\n",
            "{'德意志裔人', 'ATP', '米夏埃爾·科爾曼', '今天', '雙打'} {'彼得·高若尼茲克', '阿爾伯特·蒙塔涅斯', '米夏埃爾·科爾曼', '巴博拉·斯特里措娃', '約翰·皮爾斯'}\n",
            "{'化學', '沈宗瀛', '英國', '有機化學', '博士'} set()\n",
            "{'姓', '尚書', '昭武九姓', '昭武', '祖先', '國', '小國', '月氏'} {'昭武九姓'}\n",
            "{'徐有庠', '學校', '遠東集團'} {'徐有庠', '徐旭東', '遠東集團'}\n",
            "{'東漢'} set()\n",
            "{'樂團', '史', '披頭四樂隊', '搖滾樂', '英國'} {'橡皮靈魂'}\n",
            "{'金屬', '化學元素', '元素週期表'} {'化學元素髮現年表', 'F區元素', 'D區元素', '主族元素', '5族元素'}\n",
            "{'作曲家', '著作權', '版稅', '作品', '音樂出版社', '詞曲作家'} {'詞曲作家', '上海音樂出版社', '廣播音樂公司', '音樂出版社'}\n",
            "{'印度洋', '亞洲', '南', '馬爾代夫', '西南偏南', '地區'} {'馬爾代夫國家足球隊', '馬爾代夫國徽', '馬爾代夫奧林匹克委員會', '馬爾代夫超級足球聯賽'}\n",
            "{'坑洞', '天衛三', '古', '面_(幾何)'} {'天衛十五'}\n",
            "{'半導體', '德州', '閥門', '德州儀器', '半導體器件', '年代', '世界'} {'德州儀器'}\n",
            "{'若竹町', '行政區劃', '第二次世界大戰', '世界大戰', '若竹町_(臺南市)', '日本'} {'汐見町', '伏見町', '青葉町'}\n",
            "{'樂團', '男性', '詹雯婷', '陳建寧', '阿沁', '女性'} {'F.I.R.飛兒樂團'}\n",
            "{'方言學'} set()\n",
            "{'歐洲民族', '腳趾', '歐洲', '民族', '指', '國家'} set()\n",
            "{'法蘭克王國', '法蘭克·馬歇爾', '王', '身材矮小症', '矮子丕平', '長子', '法蘭克·葛裏洛', '丕平·卡洛曼', '查理曼'} {'矮子丕平'}\n",
            "{'貿易', '興盛', '粵菜', '廣東省', '移民', '菜系', '美國', '廚師'} set()\n",
            "{'名', '昭和', '昭和天皇', '天皇', '日本'} {'大正天皇', '昭和天皇之死', '昭和之日', '昭和天皇', '昭和天皇戰後巡幸都道府縣列表'}\n",
            "{'阿姆斯特丹'} {'阿姆斯特丹地鐵'}\n",
            "{'1987年', '1987年香港', '魯迅', '朝花夕拾'} {'朝花夕拾'}\n",
            "{'臺灣', '經營者', '臺北醫學大學'} {'李祖德'}\n",
            "{'潮汕文化', '文化', '潮州市'} {'潮州市職業技術學校', '潮州市城南中學', '潮州市高級中學', '潮州街', '潮州市文物保護單位'}\n",
            "{'一行', '名稱', '佛教', '禪師', '釋一行', '行'} {'禪師', '喇嘛', '尼泊爾驅逐佛教僧侶事件'}\n",
            "{'富士', '血親', '身', '貴之富士三造'} set()\n",
            "{'馬克', '埃爾邁拉_(紐約州)', '馬克·吐溫', '作家'} set()\n",
            "{'波蘭', '焦點', '海港', '格但斯克', '民族', '岸', '城市', '辯論'} {'格但斯克'}\n",
            "{'國立臺灣大學', '國立臺灣大學昆蟲標本館', '標本'} {'國立臺灣大學昆蟲標本館'}\n",
            "{'政府', '政體', '稱謂', '魏瑪', '魏瑪共和國', '德國'} {'魏瑪共和國'}\n",
            "{'伊萬·屠格涅夫', '俄羅斯', '三明治', '鮪魚'} {'屠格涅夫站', '羅亭', '阿霞', '屠格涅夫卡市鎮', '伊萬·屠格涅夫博物館'}\n",
            "{'董至成', '妻子', '紅白勝利', '角色'} {'董至成'}\n",
            "{'國立中央大學_(南京)', '師範學校', '南京市', '倪尚達', '1915年', '學校'} {'1915年體育', '國立武昌高等師範學校'}\n",
            "{'虎', 'MacOS'} {'MacOS版本歷史', '全球老虎日', 'MacOS', '老虎臺街道', '老虎灘街道'}\n",
            "{'紙', '中國人', '中國', '傳播論', '造紙術'} {'造紙術'}\n",
            "{'神', '關羽', '形象'} set()\n",
            "{'孔廟', '中學', '臺北', '臺北市立明倫高級中學'} {'臺灣的孔廟'}\n",
            "{'科學園區', '東區_(新竹市)', '竹東鎮', '臺灣', '工業技術研究院', '竹東_(大字)', '新竹_(大字)', '新竹市_(1945年—1950年)', '年代'} {'竹東鎮'}\n",
            "{'暗殺', '保險合同', '時間'} {'暗殺'}\n",
            "{'真核生物', '生物', '覓食', '古菌', '細菌', '核'} {'真核生物', '真核翻譯', '準核生物', '古菌', '雙鞭毛生物'}\n",
            "{'謝雪心'} {'白雪仙'}\n",
            "{'SETI@home', '處理器', '程序', '資源_(計算機科學)'} {'SETI@home', '搜尋地外文明計劃'}\n",
            "set() set()\n",
            "{'氣旋', '颱風', '溫帶氣旋'} {'2011年11月白令海氣旋', '副熱帶氣旋', '2012年4月溫帶氣旋', '溫帶氣旋'}\n",
            "{'國際象棋', '遊戲'} {'國際象棋'}\n",
            "{'鐵路車站', '公司集團', '汝州站', '河南省', '統一企業'} {'汝州站'}\n",
            "{'女性', '性_(語法)'} set()\n",
            "{'向日葵', '花', '雙子葉植物', '科', '子葉', '植物', '花序', '真雙子葉植物'} {'向日葵', '太陽花'}\n",
            "{'祖先', '李賦寧'} {'李賦寧', '常若柱', '李儀祉', '李賦都'}\n",
            "{'符騰堡', '邦', '經濟', '總部', '國內生產總值', '德國', '巴登符騰堡'} {'巴登-符騰堡'}\n",
            "{'保', '517嗆馬保臺大遊行', '遊行', '花蓮', '馬'} {'517嗆馬保臺大遊行', '519嗆馬踹共大遊行'}\n",
            "{'查理·曼紐爾', '身材矮小症', '矮子丕平', '長子', '丕平·卡洛曼', '查理曼'} {'偉大的查理曼', '卡洛曼一世', '矮子丕平'}\n",
            "{'校長', '全日制學校', '聖保羅書院', '學生', '學校', '源迪恩'} {'源迪恩', '聖保羅書院'}\n",
            "{'聖彼得堡', '俄羅斯人', '俄羅斯', '城市', '俄羅斯人口', '人口'} set()\n",
            "{'概念', '漢斯·愛因斯坦', '光子', '光', '物理學', '阿爾伯特·愛因斯坦', '基礎物理學突破獎', '突破獎'} {'光子', '光電效應'}\n",
            "{'本傑明·富蘭克林', '郵政', '費城', '通信系統', '富蘭克林_(維吉尼亞州)'} {'富蘭克林研究所', '富蘭克林研究所獎項'}\n",
            "{'父親', '研究', '品種', '水稻', '稻', '雜交水稻', '中國', '袁隆平'} {'寧粳7號', '雜交水稻國家重點實驗室', '雜交水稻', '湖南雜交水稻研究中心', '袁隆平'}\n",
            "{'薇拉·費茲傑羅', '了不起的蓋茨比', '弗朗西斯·斯科特·菲茨傑拉德', '大亨小傳_(2013年電影)', '喬治·費茲傑羅'} {'尼克·卡拉威', '弗朗西斯·斯科特·菲茨傑拉德'}\n",
            "{'現在', '海峽', '馬六甲海峽', '馬六甲_(消歧義)'} {'馬六甲海峽歷史城市', '馬六甲海峽'}\n",
            "{'土庫曼斯坦', '土庫曼_(消歧義)', '加盟共和國', '歧義'} {'土庫曼蘇維埃社會主義共和國', '加盟共和國'}\n",
            "{'雍正帝', '仁皇后', '兄弟姊妹', '孝恭仁皇后'} {'仁皇后'}\n",
            "{'案', '艾根訴加拿大案', '奧林·艾根', '加拿大', '行政機關', '曼弗雷德·艾根'} {'艾根訴加拿大案'}\n",
            "{'愛爾蘭共和國_(1919年—1922年)', '愛爾蘭', '面積'} {'愛爾蘭憲法', '愛爾蘭國旗', '愛爾蘭足球代表隊', '愛爾蘭國家的名稱', '愛爾蘭總統'}\n",
            "{'母親', '希臘神話', '希臘', '神話', '木衛二十四', '俄狄浦斯', '木星的衛星', '伊俄卡斯忒'} {'安提戈涅', '木衛二十四', '俄狄浦斯', '小行星899', '伊底帕斯王'}\n",
            "{'謝磷', '唐朝'} set()\n",
            "{'綠山城縣', '波蘭', '西部', '數', '土地', '綠山城', '山城'} {'山城街道', '綠山城縣', '綠山城', '山城路街道', '盧布斯卡省'}\n",
            "{'臺北', '國立臺北教育大學', '經營者'} {'李祖德'}\n",
            "{'死者能舞', '唱片公司', '英國', '獨立唱片公司', '杭州駐防城'} set()\n",
            "{'航空器', '航空', '國', '飛行員'} {'中華民國汽車駕駛執照', '飛行員'}\n",
            "{'石器時代', '石器', '小米'} {'石器', '中國中石器文化列表', '中石器時代', '打製石器'}\n",
            "{'腳', '昆蟲', '體', '六腳_(大字)', '身體'} set()\n",
            "{'政府', '雅典', '名稱', '土衛十', '海', '神話', '土星的衛星', '女神'} set()\n",
            "{'奧黛麗_(搞笑組合)', '兒童', '奧黛麗·赫本', '厄瓜多爾', '奧黛麗·赫本演藝作品列表'} {'奧黛麗·赫本'}\n",
            "{'漢初三傑', '劉邦', '漢朝', '同學', '漢', '天下'} {'漢初三傑', '白登山'}\n",
            "{'謝芳'} {'謝芳'}\n",
            "{'區域', '月食', '食_(天文現象)'} {'月食', '2006年9月7日月食', '19世紀月食列表', '2008年8月16日月食', '2011年6月15日月食'}\n",
            "{'墨西哥', '瓜達拉哈拉_(墨西哥)', '城市', '西南'} {'阿特拉斯足球俱樂部', '瓜達拉哈拉體育會'}\n",
            "{'莫斯科', '瓦西里·康定斯基', '國籍', '德國', '法國', '1928年'} {'瓦西里·康定斯基'}\n",
            "{'鳥', '王', '楚國', '鳳凰', '傳說', '龍'} {'鳳凰', '百鳥朝鳳', '百鳥公園站'}\n",
            "{'石器時代', '人類', '史前時代', '石器', '時代', '歷史'} {'香港史前時期', '史前時代', '中國史前文化', '石器', '中石器時代'}\n",
            "{'金融', '波士頓', '經濟', '經濟發展'} set()\n",
            "{'女性', '標準舞'} set()\n",
            "{'中華人民共和國', '鍾祥市', '面積', '中國'} set()\n",
            "{'德川慶喜', '效用', '妙義山'} {'德川慶喜'}\n",
            "{'武俠小說', '武俠', '悲劇', '金庸', '角色', '燕國', '慕容復'} {'慕容復'}\n",
            "{'史蒂夫·喬布斯', '電子計算機', '喬布斯_(電影)', '技術', '蘋果公司', '蘋果'} set()\n",
            "{'熱帶氣旋', '世界氣象組織', '氣象廳_(日本)', '風', '颱風'} {'日本氣象廳命名颱風列表', '世界氣象日', '澳門熱帶氣旋信號紀錄列表', '颱風'}\n",
            "{'政府', '政府首腦', '大韓民國', '韓國國務總理', '國務總理', '內閣', '大韓民國政府', '總理'} {'鄭雲燦', '金滉植', '韓國國務總理', '韓國國務總理列表', '內閣官房長官'}\n",
            "{'島嶼', '釣魚臺列嶼', '釣魚臺'} {'中華民國臺灣地區島嶼列表', '衝南巖', '釣魚臺燈塔', '釣魚臺列嶼主權問題', '釣魚臺列嶼'}\n",
            "{'亞洲', '地區', '懷化市'} {'中國共產黨懷化市委員會'}\n",
            "{'紙', '紙錢', '基督徒', '組織', '教會'} {'個別教會', '教會'}\n",
            "{'大氣層', '仲夏夜之夢', '緹坦妮雅', '軌道', '天王星', '仲夏夜_(羅文專輯)', '天衛三'} {'尼克·博特姆', '天衛三', '奧伯隆', '緹坦妮雅'}\n",
            "{'科隆', '天主教會'} {'世界青年日', '臺灣文化活動列表'}\n",
            "{'谷地', '情節', '蠟筆小新', '臼井儀人', '作者'} {'蠟筆小新角色列表', '臼井儀人', '蠟筆小新動畫集數列表', '動感超人'}\n",
            "{'土衛十', '土星', '土衛十一'} {'土衛四十', '土衛四十一', '土衛一', '土衛四十二', '土衛十一'}\n",
            "{'隕石', '紅茶', '量_(物理)', '面_(幾何)', '天衛三', '天衛四', '撞擊坑'} set()\n",
            "{'香港國際機場', '國際機場', '時間'} {'機場稅'}\n",
            "{'天琴座', '廂座', '豎琴', '形狀', '希臘', '星', '古希臘', '星等'} {'天琴座'}\n",
            "{'傳統', '惡', '韓國電視劇', '儒家', '電視劇', '人性', '成年人'} {'韓國電視劇'}\n",
            "{'運動員', '裁判', '奧林匹克運動會', '男爵', '皮埃爾·德·顧拜旦', '吉祥物'} {'皮埃爾·德·顧拜旦', '奧林匹克運動會藝術比賽'}\n",
            "{'喬瓦尼·多梅尼科·卡西尼', '法蘭西學會', '籍', '卡西尼', '月球', '國籍', '學院', '法國'} {'喬瓦尼·多梅尼科·卡西尼', '卡西尼', '塞薩爾-弗朗索瓦·卡西尼·德·蒂裏', '卡西尼定律', '雅克·卡西尼'}\n",
            "{'許世友', '武術'} {'許家窪'}\n",
            "{'東晉', '皇帝', '晉元帝'} {'晉元帝'}\n",
            "{'春秋_(書)', '春秋', '穀梁傳'} {'公羊傳', '春秋三傳', '穀梁傳'}\n",
            "{'控股公司', '伊藤洋華堂', '日本百貨公司', '日本', '2005年', '百貨公司', '公司', '7&I控股'} {'伊藤洋華堂', '鈴木敏文'}\n",
            "{'柏拉圖學院', '希臘', '古希臘哲學', '斯多葛主義', '逍遙學派', '伊比鳩魯學派', '柏拉圖', '古希臘', '哲學'} {'逍遙學派', '古希臘哲學', '新柏拉圖主義', '柏拉圖學院'}\n",
            "{'羅盤方位', '路', '絲綢之路', '漢朝', '絲綢', '漢'} {'絲綢之路巡禮名曲集', '絲綢之路'}\n",
            "{'馬龍·白蘭度', '美國', '作品', '2004年', '演員', '馬龍', '電影', '美國電影'} set()\n",
            "{'樂山大佛', '大佛', '唐朝'} {'樂山大佛', '海通和尚'}\n",
            "{'世界大戰', '親屬', '公司集團', '現代集團', '鄭周永', '兒子', '公司'} {'現代集團'}\n",
            "{'經濟學人', '東京', '世界', '世界最佳宜居城市', '報告'} {'經濟學人信息社'}\n",
            "{'物理常數', '常數', '速率', '真空'} {'氣體常數', '速率常數', '物理常數', '光學介質', '真空磁導率'}\n",
            "{'林義雄', '政府', '美麗島', '親屬', '美麗島事件', '事件', '血液'} set()\n",
            "{'臺灣', '2010年臺北國際花卉博覽會'} {'舞蝶館', '2010年臺北國際花卉博覽會', '2014年世界園藝博覽會', '2018年臺中世界花卉博覽會'}\n",
            "{'大麥', '貓'} {'虎斑貓', '大麥地文化'}\n",
            "{'扶餘國', '玄菟郡', '秦朝', '太守'} {'扶餘國', '耿臨'}\n",
            "{'AD', '希吉拉', 'BH', '代號', 'Bh_(二合字母)', '伊斯蘭曆'} set()\n",
            "{'戰爭與和平', '小說'} {'戰爭與和平中人們的故事', '戰爭與和平'}\n",
            "{'廣西西林教案', '咸豐', '教案_(宗教)', '清朝', '導火線_(電影)', '戰爭', '事件', '亞羅號事件'} {'第二次鴉片戰爭', '西林教案發生地'}\n",
            "{'編年體', '司馬光', '西晉', '司馬孚'} {'司馬光', '司馬顒', '司馬瓌', '司馬珪', '司馬孚'}\n",
            "{'桃園市', '中華民國', '臺灣', '西南', '四縣話', '楊梅_(大字)', '楊梅區', '市_(中華民國)', '臺灣客家語'} {'峨眉鄉'}\n",
            "{'威廉·倫琴', '校長', 'X射線機', 'X射線', '射線', '倫琴_(單位)', '機器'} {'威廉·倫琴', 'X射線機', '倫琴衛星'}\n",
            "{'講談社', '講談社·中國的歷史', '榮譽', '三年坂火之夢', '2006年', '日本', '推理小說'} {'「這本推理小說了不起！」大獎', '講談社BOX', '三年坂火之夢', '推理小說獎', '推理作家'}\n",
            "{'香港商報', '大公報', '文匯報_(上海)', '商報', '文匯報', '倒數'} {'大公報'}\n",
            "{'啓示', '人物_(美國雜誌)', '龍虎門', '蚩尤_(消歧義)', '蚩尤', '新著龍虎門'} {'龍虎門', '石黑龍', '涿鹿之戰', '新著龍虎門角色列表', '帝榆罔'}\n",
            "{'死者能舞', '1999年', '音樂專輯', '1999'} set()\n",
            "{'總統', '政府', '陳水扁', '2016', '臺灣醫界聯盟基金會'} {'臺灣醫界聯盟基金會'}\n",
            "{'陰陽', '陽', '基因', '性狀', '陰'} {'相對性狀', '數量性狀基因座', '融合遺傳', '性狀'}\n",
            "{'三角形', '三角學', '三角函數', '邊_(幾何)', '三角'} {'三角學', '反三角函數', '三角函數', '三角形數', '三角'}\n",
            "{'喬治·艾略特', '阿爾弗雷德·諾貝爾', '約翰·艾略特·加德納', '1948年', 'T·S·艾略特', '文學獎', '鮑伯·艾略特', '查爾斯·艾略特', '艾略特·卡特', '艾略特'} {'查爾斯·艾略特', '艾略特·卡特', 'T·S·艾略特'}\n",
            "{'南京大學附屬中學', '中學', '南京大學', '山東省_(中華民國)'} {'南京大學附屬中學', '南京師範大學附屬中學', '南京航空航天大學附屬高級中學', '師範大學附屬中學列表', '南京大學政府管理學院'}\n",
            "{'亞當·列維', '亞當·蘭伯特', '亞當·科利', '亞當·福格森', '亞當', '聖經', '亞當·斯密', '亞當·山德勒'} set()\n",
            "{'洋蔥', '植物', '波斯語', '維吾爾語'} {'洋蔥'}\n",
            "{'臺灣', '目標', '籃球'} {'籃球'}\n",
            "{'九龍', '周星馳', '喜劇演員', '路'} {'無敵幸運星', '周星馳'}\n",
            "{'期權', '芝加哥', '期貨', '地區', '國內生產總值', '期貨交易所', '交易所', '世界'} {'芝加哥期貨交易所大樓', '芝加哥', '韓國期貨交易所', '芝加哥期貨交易所', '交易所'}\n",
            "{'氰化氫', '水溶液', '頻率', '酸', '氰化鋰', '溶液', '氰化鈉'} {'氰化鋁', '氰化氫', '氰化鐿', '氰化銀', '氰化鋰'}\n",
            "{'坦克人', '王維', '天安門', '人名', '坦克', '天安門_(紀錄片)', '事件', '示威'} {'坦克人'}\n",
            "{'工具', '組織', '決策', 'BI'} set()\n",
            "{'政治家', '祖父母', '阿卜杜勒侯賽因·米爾扎·法爾曼法爾馬'} {'阿卜杜勒-侯賽因·米爾扎·法爾曼法爾馬'}\n",
            "{'古羅馬', '庶民', '羅馬元老院', '羅馬', '騎士', '法律'} {'古羅馬'}\n",
            "{'立夏', '節氣'} {'雨水', '二十四節令鼓', '節氣', '立夏', '二十四節氣公園'}\n",
            "{'動作漫畫', '1938年', '超人'} {'動作漫畫', '超人'}\n",
            "{'中央民族大學', '張京澤', '黨委書記', '書記', '中國'} {'中央民族大學民族博物館', '張京澤', '中央民族大學附屬中學'}\n",
            "{'演員', '謝芳', '中國'} {'謝芳'}\n",
            "{'樹脂', '材料', '複合材料', '玻璃纖維'} {'陶瓷基複合材料', '樹脂基複合材料', '玻璃鋼', '玻璃纖維', '複合材料'}\n",
            "{'生物', '水平', '節食', '減肥', '營養', '代謝'} {'節食', '減肥'}\n",
            "{'人物', '獎勵', '獎盃'} set()\n",
            "{'華南理工大學', '中華人民共和國', '國家圖書館_(中華民國)'} {'華南理工大學經濟與金融學院', '華南理工大學食品科學與工程學院', '華南理工大學校友列表', '華南理工大學旅遊管理系', '華南理工大學出版社'}\n",
            "{'歌手', '蔡卓妍', '未來', '音樂會', '紅館', '歌手·當打之年'} set()\n",
            "{'臺灣明鄭時期', '臺南市立安平水產專修學校', '臺南市', '目標', '學校'} {'臺南市立安平水產專修學校'}\n",
            "{'元智大學', '桃園市', '綽號', '名稱'} {'香港幼稚園列表'}\n",
            "{'透明', '軀幹', '內臟', '神農'} set()\n",
            "{'患者', '病理學', '疾病'} {'病理學'}\n",
            "{'師傅', '謝雪心'} {'靚少佳', '白雪仙'}\n",
            "{'病毒', '類', '代謝途徑', '酶', '古菌', '細菌', '代謝'} set()\n",
            "{'服裝', '派', '舞者', '古典芭蕾', '芭蕾舞', '盛·舞者', '法國', '古典', '浪漫主義'} {'吉賽爾', '古典芭蕾'}\n",
            "{'蒲公英', '英語人名'} {'朝鮮蒲公英', '蒲公英', '各國警察數量列表', '小五臺蒲公英', '短啄蒲公英'}\n",
            "{'土庫曼斯坦', '土庫曼_(消歧義)', '歧義', '加盟共和國', '美國'} {'亞美尼亞蘇維埃社會主義共和國', '土庫曼蘇維埃社會主義共和國', '加盟共和國'}\n",
            "{'日本人', '實藤惠秀', '美國'} {'中國通'}\n",
            "{'木星', '衛星'} {'木星的衛星'}\n",
            "{'傳統', '海', '南', '北阿坎德邦', '地區', '印度'} {'丹德拉', '北阿坎德邦行政區劃', '魯德勒布勒亞格縣', '北阿坎德邦', '阿爾莫拉'}\n",
            "{'古羅馬', '神廟', '古代_(上加龍省)', '希臘', '拜占庭', '羅馬', '古希臘'} set()\n",
            "{'鍼灸', '研究', '媒介', '西方世界', '筋膜', '論文', '國家'} {'媒介環境學', '膜層'}\n",
            "{'蒼鷺', '溼地', '模式種', '鷺屬', '鷺科'} {'麻鳽屬', '蒼鷺', '鷺屬'}\n",
            "{'西廂記', '王實甫', '元朝'} {'秦簡夫', '牆頭馬上', '紅娘', '王實甫', '西廂記'}\n",
            "{'分類學', '信天翁科', '鸊鷉科', '屬', '信天翁屬', '生物分類學', '小鸊鷉', '體型', '小鷿鷈屬'} {'漂泊信天翁', '灰背信天翁', '特島信天翁', '黑腳信天翁', '大信天翁屬'}\n",
            "{'世紀', '技術', '手工藝', '內畫壺'} {'手工藝'}\n",
            "{'SETI@home'} {'SETI@home', '地震捕手網絡', '搜尋地外文明計劃', 'SHGb02+14a無線電信號', 'Astropulse'}\n",
            "{'島嶼', '釣魚臺列嶼', '釣魚臺', '顯示器'} {'中華民國臺灣地區島嶼列表', '衝南巖', '釣魚臺燈塔', '釣魚臺列嶼主權問題', '釣魚臺列嶼'}\n",
            "{'臺灣', '臺灣時報', '1909年', '東亞'} {'看守臺灣協會'}\n",
            "{'徐太志'} {'徐太志和孩子們', '徐太志'}\n",
            "{'冥王', '羅馬_(電視連續劇)'} {'冥王'}\n",
            "{'模式'} {'新加坡華文教研中心', '教學研究', '虛擬教研中心'}\n",
            "{'明朝', '皇帝', '明憲宗', '帝'} set()\n",
            "{'專屬經濟區', '美國', '聯合國海洋法公約'} {'公海公約', '專屬經濟區', '聯合國海洋法公約', '國際海洋法法庭', '公海'}\n",
            "{'AD', '希吉拉', '伊斯蘭教', 'BH', '代號', 'Bh_(二合字母)', '伊斯蘭曆'} set()\n",
            "{'埃裏希·瑪利亞·雷馬克', '木衛六', '神話', '宙斯', '角色', '兒子', '希瑪利亞'} {'木衛六', '希瑪利亞'}\n",
            "{'魯普薩烏帕齊拉', '烏帕齊拉'} {'魯普薩烏帕齊拉', '謝瓦拉亞烏帕齊拉', '烏帕齊拉'}\n",
            "{'金朝', '宗', '馬丁·路德·金', '金', '金章宗'} {'完顏洪靖'}\n",
            "{'御座', '皇帝', '宋朝', '宋仁宗'} {'宋仁宗'}\n",
            "{'BBS', '藤島康介', '藝術家', '職業', '卡通'} {'天津大學BBS', '藤島康介'}\n",
            "{'宋教仁', '中華民國', '政治家', '中國國民黨', '國民黨_(1912年)'} {'潯陽街道', '宋教仁'}\n",
            "{'山斑鳩', '學名', '東方', '意'} {'山斑鳩', '東方扁蝦', '東方蠊'}\n",
            "{'海', '城市', '格但斯克', '波蘭'} {'格但斯克理工大學', '格但斯克橋', '格但斯克國家博物館', '天主教格但斯克總教區', '格但斯克電車'}\n",
            "{'喬治·卡特萊特·馬歇爾', '美國陸軍參謀長', '美國陸軍', '參謀長', '戰爭', '陸軍參謀長_(印度)', '美國', '日俄戰爭'} {'喬治·卡特萊特·馬歇爾', '小富蘭克林·德拉諾·羅斯福', '羅斯福家族'}\n",
            "{'孫子', '大司馬', '曹鼎'} {'曹鼎'}\n",
            "{'哈爾科夫', '烏克蘭', '基留希', '聚落', '哈爾科夫州'} {'基留希'}\n",
            "{'漢', '侍', '漢賦', '豎笛', '西鄂縣', '南陽郡', '賦', '張衡'} {'二京賦', '張衡'}\n",
            "{'鸚形目', '綠色', '生物', '冠蕉鵑', '蕉鵑', '色素'} {'冠蕉鵑', '白梢冠蕉鵑'}\n",
            "{'國立臺灣科技大學研揚大樓', '國立成功大學', '科技大學_(臺灣學制)', '國立臺灣科技大學'} {'國立成功大學博物館', '國立臺灣科技大學管理研究所', '國立臺灣科技大學研揚大樓', '國立臺灣科技大學校史室', '國立成功大學航空太空科技研究中心'}\n",
            "{'主人公', '奧黛麗·赫本', '羅馬假期', '假日', '金馬獎', '羅馬'} {'奧黛麗·赫本', '羅馬假期'}\n",
            "{'燕大', '秦皇島市', '河北省', '燕山_(消歧義)', '大學', '燕山大學', '燕_(安史之亂)'} {'燕大', '秦皇島職業技術大學', '秦皇島市第一中學', '燕山大學', '燕山大學科技園'}\n",
            "{'凱蒂·史密斯', 'J·R·史密斯', '威爾·史密斯', '奈史密斯籃球名人紀念堂', '詹姆斯·奈史密斯', '考·奈史密斯', '今天', '姚明'} {'大衛·斯托克頓', '奈史密斯籃球名人紀念堂', '傑克·希克馬', '姚明'}\n",
            "{'臺灣', '臺北市', '臺灣土地銀行', '2018年'} set()\n",
            "{'總統', '羅斯福', '1945年', '富蘭克林', '美國總統', '富蘭克林·德拉諾·羅斯福', '美國'} {'埃莉諾·羅斯福', '羅斯福總統', '羅斯福家族', '富蘭克林·德拉諾·羅斯福總統圖書館暨博物館', '小富蘭克林·德拉諾·羅斯福'}\n",
            "{'軍官', '軍官·情人', '德川家康', '蝦夷'} set()\n",
            "{'魯普薩烏帕齊拉', '作家', '孟加拉國', '烏帕齊拉'} {'魯普薩烏帕齊拉', '孟加拉族', '烏帕齊拉'}\n",
            "{'中山大學_(消歧義)', '中國共產黨', '莫斯科中山大學', '博古'} set()\n",
            "{'2006年', '凌日', '水星凌日', '凌_(天體)'} {'凌日', '水星凌日'}\n",
            "{'俄刻阿諾斯', '妻子', '忒堤斯', '神', '山神', '提坦'} {'俄刻阿尼得斯', '俄刻阿諾斯', '斯堤克斯', '忒堤斯', '俄刻阿諾斯號'}\n",
            "{'喬瓦尼·多梅尼科·卡西尼', '法蘭西學會', '籍', '水利工程', '卡西尼', '月球', '國籍', '法國'} {'喬瓦尼·多梅尼科·卡西尼', '卡西尼定律', '雅克·卡西尼', '卡西尼'}\n",
            "{'地形', '彗星', '面_(幾何)', '天衛四', '撞擊坑'} {'天衛四', '哈姆雷特撞擊坑'}\n",
            "{'暗殺', '生命', '士兵', '時間'} {'暗殺'}\n",
            "{'盧卡斯·埃爾南德斯', '喬治·盧卡斯', '盧卡斯·古博特', '盧卡斯·佩雷斯', '盧卡斯·雷瓦', '盧卡斯·巴斯克斯', '星際大戰'} {'喬治·盧卡斯', '星際大戰正傳三部曲'}\n",
            "{'數據', 'MacOS'} set()\n",
            "{'柏拉圖學院', '希臘', '古希臘哲學', '斯多葛主義', '逍遙學派', '伊比鳩魯學派', '柏拉圖', '古希臘', '哲學'} {'新柏拉圖主義', '定義篇', '古希臘哲學', '逍遙學派', '柏拉圖學院'}\n",
            "{'米開朗基羅·樂孔特', '米開朗基羅', '米開朗基羅·法爾瑪提諾'} {'博納羅蒂之家', '卡普雷塞-米開朗基羅', '米開朗基羅撞擊坑', '米開朗基羅', '米開朗基羅號列車'}\n",
            "{'爆炸', '趙守福', '中國人民解放軍', '虎', '武將', '北京市', '全國戰鬥英雄代表會議', '于化虎'} {'全國戰鬥英雄代表會議', '趙守福', '于化虎'}\n",
            "{'集合', '客體', '住宅', '集合_(數學)', '有限集合'} {'平房子鎮', '康托爾定理', '有限集合'}\n",
            "{'長度', '指標', '汽車理論', '汽車'} {'汽車動力性', '汽車理論'}\n",
            "{'波蘭', '東部', '土地', '綠山城', '縣', '山城'} {'山城街道', '綠山城', '山城路街道'}\n",
            "{'燃燒', '運動_(物理學)', '內燃機'} {'相對靜止', '靜止參考系'}\n",
            "{'培養皿', '動物', '棘皮動物'} {'海旋板'}\n",
            "{'喬木_(消歧義)', '中國社會科學院', '胡喬木', '院長'} {'中國社會科學院歐洲研究所', '胡喬木', '胡石英', '中國社會科學院民族學與人類學研究所'}\n",
            "{'個人', '非營利組織', '組織', '利潤'} {'非營利組織'}\n",
            "{'輕機槍', '士兵', '通用機槍', '機槍', '自動步槍', '軍隊', '班_(軍事)', '步槍'} {'輕機槍', '通用機槍', '67式通用機槍', '布倫輕機槍', '88式通用機槍'}\n",
            "{'貓科', '貓', 'MacOS'} {'MacOS版本歷史', 'MacOS'}\n",
            "{'戲曲', '劇種', '豫劇', '中國'} {'耍孩兒', '豫劇'}\n",
            "{'臺北', '川端町', '行政區劃', '河', '臺灣', '臺灣日治時期', '臺北市', '日治時期'} {'川端町'}\n",
            "{'人種', '首都', '新西蘭', '世界', '主權', '城市', '大洋洲_(太平洋諸島嶼)', '惠靈頓'} {'惠靈頓'}\n",
            "{'總統', '代理_(政治)', '羅曼·伊戈列維奇·普京', '小時', '弗拉基米爾·普京', '總理'} {'弗拉基米爾·普京的政治生涯', '俄羅斯代理總統', '柳德米拉·普京娜', '俄羅斯反對普京的聲音'}\n",
            "{'伊斯蘭教', '恐龍', '奧薩馬·本·拉登', '艾山·買合蘇木'} {'基地組織', '艾山·買合蘇木'}\n",
            "{'吉米·卡特', '總統', '霍華德·卡特', '阿里·卡特', '美國總統', '政區首長', '美國', '卡特'} {'吉米·卡特'}\n",
            "{'查理·卓別林', '倫敦'} {'小查理·卓別林', '悉尼·厄爾·卓別林', '摩登時代', '漢娜·卓別林', '悉尼·約翰·卓別林'}\n",
            "{'亞歷山大·克倫斯基', '民主革命'} {'克倫斯基攻勢', '亞歷山大·克倫斯基'}\n",
            "{'院士', '中央研究院', '力學', '研究生', '國立臺灣大學', '專業人士', '研究所', '學士', '國立臺灣大學應用力學研究所', '工程力學', '中央研究院院士'} {'吳光鍾', '林啓萬', '劉佩玲', '鮑亦興', '國立臺灣大學應用力學研究所'}\n",
            "{'SETI@home', '處理器', '程序', '資源_(計算機科學)'} {'SETI@home', '搜尋地外文明計劃'}\n",
            "{'概念', '生理學', '方言', '淮劇', '入聲'} {'淮劇'}\n",
            "{'亂世佳人_(2007年電視劇)', '亂世佳人', '費雯·麗'} {'AFI百年百大電影臺詞', 'AFI百年百大電影', 'AFI百年百大愛情電影', 'AFI百年系列', 'AFI百年百大喜劇電影'}\n",
            "{'氣象衛星', '地球', '天氣', '月球'} {'氣象衛星', '向日葵系列衛星', '氣象學', '天氣預報'}\n",
            "{'程序員'} {'程序員', '軟體度量'}\n",
            "{'馬克思主義', '馬克思·多爾穆瓦站', '格魯喬·馬克思', '作品', '卡爾·馬克思', '馬克思主義政治經濟學', '政治經濟學', '海因裏希·馬克思'} set()\n",
            "{'羅榮桓', '中國共產黨', '元帥', '軍銜', '中華人民共和國元帥', '中華人民共和國'} {'中華人民共和國大元帥', '羅榮桓'}\n",
            "{'人口', '大韓民國', '京畿', '京畿道'} {'中京畿道', '京畿道知事'}\n",
            "{'衛星', '木衛四', '衛', '木材', '木星', '木星的衛星'} {'木衛五十三', '木衛五十二', '希爾球', '木衛十四', '木星的衛星'}\n",
            "{'金邊', '洞裏薩湖', '東南亞', '柬埔寨'} {'柬埔寨', '柬埔寨王家空軍', '金邊國際機場', '柬埔寨機場列表'}\n",
            "{'桑吉巴蝴蝶魚', '印度洋', '脊索動物', '門'} {'桑吉巴蝴蝶魚', '嗅球類'}\n",
            "{'輔國中尉', '宗室', '中尉', '明朝皇族', '八大山人', '明朝', '僧侶', '宗室_(清朝)'} {'輔國中尉', '八大山人'}\n",
            "{'神仙·老師·狗', '臺灣', '教師', '朱棣文', '大學', '國立臺灣師範大學'} {'國立臺灣師範大學教育學院', '國立臺灣師範大學圖文傳播學系'}\n",
            "{'利比亞', '政治人物', '議會', '民意代表', '的黎波里', '法耶茲·薩拉傑'} {'的黎波里阿赫利體育俱樂部', '阿基拉·薩拉赫·伊薩', '法耶茲·薩拉傑', '的黎波里大學'}\n",
            "{'軟件測試', '版本控制', '軟件開發', '活動', '軟件'} {'軟件工程', '軟件項目管理', '軟件開發', '軟件開發過程', '版本控制軟件比較'}\n",
            "{'加利福尼亞大學', '加利福尼亞大學洛杉磯分校', '蘇菲亞·柯波拉', '成人電影'} {'加州州立大學洛杉磯分校', '海港–加州大學洛杉磯分校醫學中心', '加州大學洛杉磯分校棕熊隊'}\n",
            "{'南美洲', '輻鰭魚綱', '輻鰭魚', '流域', '隱兵鯰'} {'巴西布列塔尼魚', '熱帶烏溪鱂', '大刺棘杆鮠', '黑帶直線脂鯉', '亞馬遜河咽鱂'}\n",
            "{'亞洲', '價值', '短波廣播', '雲林定遠電臺', '臺南天馬電臺', '冷戰', '短波', '地區'} {'雲林定遠電臺'}\n",
            "{'亞洲', '身', '玲子·艾爾斯沃斯', '歐洲', '血親'} {'玲子·艾爾斯沃斯', '香港歐亞混血兒'}\n",
            "{'歐洲民族', '語言', '歐洲', '民族', '民族國家', '國家'} {'歐洲民族'}\n",
            "{'公務員', '臺灣縣', '兒玉利國'} {'臺灣縣', '兒玉利國'}\n",
            "{'種子', '麻婆豆腐', '豆腐', '大豆', '豆製品', '麻', '原材料', '豆瓣醬'} {'豆瓣醬', '麻婆豆腐'}\n",
            "{'新北市區公車790路線', '新北市市區公車', '班距', '公車', '基隆市', '金山', '新北市'} {'新北市區公車790路線', '新北市區公車813路線', '新北市區公車571路線', '新北市區公車573路線', '新北市區公車572路線'}\n",
            "{'敘事詩', '奧德賽', '詩人', '史詩', '荷馬史詩', '荷蘭', '歐洲', '傳說', '荷馬'} {'伊利亞特', '荷馬', '荷馬史詩'}\n",
            "{'植物', '人類', '果實', '農業'} {'果實'}\n",
            "{'竹內瑪莉亞', '藝人', '山下達郎', '1982年'} {'我們的夏日夢', '一直在一起吧'}\n",
            "{'物質狀態', '液體', '物質', '空氣污染', '空氣', '狀態'} {'港澳空氣污染', '香港空氣污染指數', '空氣污染', '空氣', '馬來西亞空氣污染'}\n",
            "{'臺中市', '政府', '臺中市政府', '臺中市政府陽明大樓', '豐原區', '辦公室'} {'臺中市政府勞工局', '臺中市政府衛生局', '臺中世界花卉博覽會辦公室', '臺中市政府陽明大樓', '臺中市豐原區翁子國民小學'}\n",
            "{'鄧小平', '王震'} {'王震起'}\n",
            "{'虛構', '傳說', '吸血鬼', '生物', '食物', '民俗', '血液'} {'吸血鬼'}\n",
            "{'理論', '邊際', '教授', '經濟學', '古典經濟學', '哈佛大學', '分析', '楊小凱'} {'楊小凱'}\n",
            "{'創新', '科學', '麗臺科技', '全球'} set()\n",
            "{'蒙古高原草原內蒙古草原東北草原', '杏', '蕈類', '香杏麗蘑', '中國內地', '杏_(演員)', '中國', '內地'} {'香杏麗蘑'}\n",
            "{'世紀', '第三產業', '20世紀', '科隆', '比例'} set()\n",
            "{'畫夢錄', '詩人', '漢園三詩人', '何其芳', '哲學系', '北京大學'} {'畫夢錄', '卞之琳', '漢園三詩人', '何其芳', '李廣田'}\n",
            "{'臺北市政府', '臺北市立萬芳高級中學', '臺北市文山區興華國民小學', '臺北市', '萬芳_(消歧義)', '教育局', '興華國小', '小學', '臺北市立萬芳醫院', '文山區'} {'臺北市立萬芳高級中學', '臺北市文山區萬芳國民小學', '萬芳醫院站', '臺北市文山區興華國民小學', '臺北市文山區興德國民小學'}\n",
            "{'地形', '象山公園', '象山', '高層建築物', '象山公園_(臺北市)'} {'象山公園'}\n",
            "{'地標', '古蹟', '窩夫', '文化遺產', '聯合國教育、科學及文化組織', '食物', '世界遺產', '布魯塞爾'} set()\n",
            "{'價值', '短波廣播', '雲林定遠電臺', '臺南天馬電臺', '地區', '短波', '越南戰爭', '中國大陸'} {'雲林定遠電臺'}\n",
            "{'劉丹', '民意代表', '劉丹_(香港)', '工作', '本名', '演員'} set()\n",
            "{'代謝途徑', '真核生物', '生物', '古菌', '演化', '細菌', '核', '代謝'} {'真核生物', '真核翻譯', '嘌呤代謝', '古菌', '雙鞭毛生物'}\n",
            "{'1940年', '英國手語', '手語', '英國', '1940年代', '學校', '年代'} {'愛爾蘭手語', '香港手語', '手語翻譯', '英國手語', '英澳新手語'}\n",
            "{'美國', '達拉斯', '總部'} set()\n",
            "{'謝磷', '明朝'} set()\n",
            "{'商輅', '明憲宗', '土地', '李賢_(大學士)', '萬安_(正統進士)'} {'明憲宗'}\n",
            "{'文學', '奧斯卡', '獎勵'} set()\n",
            "{'授課語言', '香港大學', '德語正寫法'} {'授課語言'}\n",
            "{'外海街道', '海里', '漁船', '海', '文化', '行政院', '蘭嶼', '達悟族'} {'達悟族'}\n",
            "{'澳門特別行政區政府'} {'澳門2013年度頒授勳章、獎章和獎狀名單', '澳門2018年度頒授勳章、獎章和獎狀名單', '澳門2010年度頒授勳章、獎章和獎狀名單', '澳門2016年度頒授勳章、獎章和獎狀名單', '澳門2014年度頒授勳章、獎章和獎狀名單'}\n",
            "{'總統', '林肯_(2012年電影)', '蓋茲堡演說', '亞伯拉罕·林肯', '美國曆史', '美國'} {'羅伯特·託德·林肯', '亞伯拉罕·林肯', '蓋茲堡演說'}\n",
            "{'背景', '九州縹緲錄', '小說', '九州', '九州·天空城'} {'九州'}\n",
            "{'臺北', '臺灣總督府臺北高等學校', '臺灣總督府', '臺灣', '總督府', '學校'} {'臺灣總督府民政部', '臺灣總督府臺北高等學校', '臺灣總督府評議會', '臺北高等學校講堂', '臺灣總督府高等商業學校'}\n",
            "{'莖', '汁', '藝術類型', '植物', '葡萄', '核'} set()\n",
            "{'中央', '教育部', '中國政法大學', '中央部屬高校', '學校', '類型'} {'中央部屬高校'}\n",
            "{'詹姆斯·諾克斯·波爾克', '選舉'} set()\n",
            "{'披頭四樂隊', '英國', '單曲'} set()\n",
            "{'J·R·R·托爾金', '哈比人', '克里斯托夫·托爾金', '小說', '哈比人歷險記', '哈比', '魔戒', '伊迪絲·托爾金'} {'哈比人列表', '魔戒現身', '瑟蘭督伊', '哈比人', '阿爾達的語言'}\n",
            "{'林鈺婷', '客家民系'} set()\n",
            "{'遼朝', '遊牧', '中國北方航空', '政權', '北', '中國', '遊牧民族', '君主制'} {'東遼國', '現行君主制政權列表', '北遼', '遼朝皇后及妃嬪列表'}\n",
            "{'政治家', '阿爾·戈爾', '美國'} set()\n",
            "{'兒子', '宋高宗', '宋徽宗', '宋朝君主列表', '皇帝', '宋朝'} {'宋欽宗', '趙檉'}\n",
            "{'計算機', '亞洲', '計算機協會', '電子計算機', '區域', '現在', '學會'} {'計算機協會'}\n",
            "{'北马里亞納羣島', '熱帶海洋性氣候', '面積', '海洋性氣候', '熱帶', '氣候'} {'密克羅尼西亞運動會', '.mp', '塞班國際機場', '熱帶海洋性氣候', '卡皮托爾希爾'}\n",
            "{'教父_(基督教歷史)', '教父', '奧斯卡金像獎', '弗朗西斯·科波拉', '金像獎', '奧斯卡', '對話', '教父2', '電影'} {'第47屆奧斯卡金像獎', '蘇菲亞·柯波拉', '1930年奧斯卡金像獎', '金像獎', '教父2'}\n",
            "{'史', '歷史書', '丞相', '元朝', '宋史', '中國', '二十四史', '宋'} {'宋史'}\n",
            "{'爬行動物', '動物', '系統'} {'日本爬行動物列表'}\n",
            "{'艾薩克·牛頓', '研究', '進步_(雜誌)', '力學', '經典力學'} {'經典力學', '拉格朗日方程式', '分析力學', '哈密頓力學', '拉格朗日力學'}\n",
            "{'聖彼得堡', '俄羅斯', '城市', '俄羅斯人口', '人口'} set()\n",
            "{'總統', '社會', '民意代表', '巴西總統', '轉化_(生物)', '巴西', '伊朗', '路易斯·伊納西奧·盧拉·達席爾瓦'} {'路易斯·伊納西奧·盧拉·達席爾瓦'}\n",
            "{'分子生物學', '真核生物', '生物', '微生物', '過程', '古菌', '核'} {'蛋白質生物合成', '已測序真核生物基因組列表', '準核生物', '真核轉錄', '信使核糖核酸'}\n",
            "{'冰', '近代', '北冰洋', '海冰', '海', '洋', '世界'} {'北冰洋'}\n",
            "{'繼承人', '繼承', '所有權'} set()\n",
            "{'火衛二', '企業', '火星'} {'火衛二', '火星日食', '火星的衛星', '火星車'}\n",
            "{'城市規劃', '首部'} set()\n",
            "{'蒲公英', '英語人名', 'Cat_(Unix)', 'CAT'} {'朝鮮蒲公英', '蒲公英', '各國警察數量列表', '小五臺蒲公英', '短啄蒲公英'}\n",
            "{'希臘神話', '希臘', '神話', '木衛二十四', '俄狄浦斯', '木衛二', '木星的衛星', '伊俄卡斯忒'} {'木衛二十四', '俄狄浦斯', '小行星899', '伊底帕斯王', '伊俄卡斯忒'}\n",
            "{'記者', '聶華苓', '自由中國'} {'記者節', '香港記者協會'}\n",
            "{'有期徒刑', '政治人物', '無期徒刑', '1998年', '武將', '塔莫克', '波爾布特'} set()\n",
            "{'夏威夷大學', '斯科特·謝潑德'} set()\n",
            "{'趙丹', '妻子', '趙青'} {'馮光榮'}\n",
            "{'蔡卓妍', '高級中學', '模特兒', '兼職'} {'石天欣'}\n",
            "{'宦官', '王室', '過去'} set()\n",
            "{'醋', '釀造醋'} {'釀造醋'}\n",
            "{'樣品', '視野', '功能'} set()\n",
            "{'蒂姆·伯頓', '電影導演', '伯頓', '美國', '美國電影'} {'蒂姆·伯頓'}\n",
            "{'俄羅斯', '國籍', '瓦西里·康定斯基'} {'瓦西里·康定斯基'}\n",
            "{'熱帶氣旋', '世界氣象組織', '雷暴', '氣象廳_(日本)', '風', '颱風', '氣旋', '亞熱帶', '旋轉', '地區', '洋流'} {'日本氣象廳命名颱風列表', '熱帶氣旋', '颱風', '南大西洋熱帶氣旋', '後熱帶氣旋'}\n",
            "{'桶_(單位)', '內畫壺', '類型', '乾隆', '水桶'} set()\n",
            "{'碳', '氧化', '乙炔', '氧化鈣', '碳化鈣', '水', '鈣'} {'乙炔銅', '乙炔銀', '乙炔', '苯乙炔', '碳化鈣'}\n",
            "{'蘋果_(消歧義)', '個人電腦', '蘋果公司'} set()\n",
            "{'藝術家', '米開朗基羅·樂孔特', '中世紀', '米開朗基羅·法爾瑪提諾', '米開朗基羅', '義大利人'} {'米開朗基羅撞擊坑'}\n",
            "{'樂山大佛', '大佛', '90年'} {'樂山大佛'}\n",
            "{'腦幹', '動物', '海', '棘皮動物'} {'海旋板'}\n",
            "{'花椒', '物質', '尾', '揮發性'} {'屏東花椒', '簕欓花椒', '嶺南花椒', '花椒', '翼柄花椒'}\n",
            "{'兄弟_(無線電視劇)', '晉國', '儲君', '政權', '晉文公', '君主', '族', '歷史'} set()\n",
            "{'國際象棋', '遊戲'} {'國際象棋'}\n",
            "{'恐怖主義', '艾山·買合蘇木'} {'艾山·買合蘇木'}\n",
            "{'中國人民解放軍', '中國人民解放軍武漢軍區'} {'中國人民解放軍武漢軍區空軍', '中國人民解放軍武漢軍區'}\n",
            "{'政府', '懷俄明州', '法案', '女性', '世界', '地區議會_(德國)'} {'懷俄明州'}\n",
            "{'高宗', '兒子', '宋高宗', '南宋', '宋徽宗', '北宋', '皇帝', '宋朝'} {'宋欽宗', '宋孝宗', '南宋', '宋高宗', '宋朝君主列表'}\n",
            "{'南美洲', '克氏無齒翎電鰻', '電鰻', '水族箱'} {'克氏無齒翎電鰻'}\n",
            "{'亞洲', '開元路_(臺南市北區)', '全長', '全姓', '道路'} {'開元路街道'}\n",
            "{'導彈'} set()\n",
            "{'乳房', '胸圍', '內衣'} {'乳房腫塊', '乳房疼痛', '胸圍', '內衣膠帶'}\n",
            "{'耶和華', '平特爾·亞當', '亞當·列維', '亞當·迪凡', '夏娃', '亞當', '芬妮·亞當', '亞當·斯密'} {'硬骨草'}\n",
            "{'求和符號', '量_(物理)', '熨斗', '雞', '世界'} {'熨斗區', '熨斗', '熨斗鎮'}\n",
            "{'中正區_(臺北市)', '臺北市', '臺北市客家文化主題公園', '鄰里社區'} {'桃園市客家文化館', '臺北市立中正國民中學', '臺北市中正區螢橋國民小學', '臺北市議員列表', '臺北市客家文化主題公園'}\n",
            "{'戊', '戊戌變法', '光緒帝', '光緒', '君主立憲制', '中國', '權力', '戊戌'} {'戊戌變法'}\n",
            "{'簇', '呼吸', '一起_(政黨聯盟)', '葡萄', '果實'} {'更年性水果', '葡萄', '山葡萄'}\n",
            "{'果酒', '蘋果酒', '酒', '世界'} {'蘋果酒'}\n",
            "{'大氣層', '天王星', '太陽系', '行星', '太陽'} {'天王星軌道探測器', '內側行星和外側行星', '冰巨行星', '天王星', '太陽系天體列表'}\n",
            "{'液體'} set()\n",
            "{'政治人物', '傳統', '民族', '斯科特·布赫茲', '澳大利亞', '政黨'} set()\n",
            "{'梅庵_(肇慶)'} set()\n",
            "{'水', '中華人民共和國勞動人事部', '摩托車', '中華人民共和國'} {'中華人民共和國勞動和社會保障部', '何光', '中華人民共和國人事部', '中華人民共和國勞動人事部'}\n",
            "{'幻想', '性幻想', '現實'} {'幻想', '強暴幻想', '性幻想'}\n",
            "{'案', '艾根訴加拿大案', '奧林·艾根', '加拿大', '行政機關', '曼弗雷德·艾根', '因果關係'} {'艾根訴加拿大案'}\n",
            "{'水', '硫酸', '比例'} {'硫酸亞鉈', '硫酸𨥙', '硫酸亞錫', '硫酸鎳銨', '硫酸鎂'}\n",
            "{'Adium', 'Meebo', 'YM', 'Yahoo! Voice', 'Yahoo! Messenger', 'Microsoft Messenger service', 'Yahoo! Mail', '即時通', 'Windows Live Messenger', 'Kopete'} {'Kopete', 'Meebo', 'YM'}\n",
            "{'艾伯特縣', '艾伯特_(科羅拉多州)'} {'艾伯特縣'}\n",
            "{'鍀', '壽命', '恆星', '巨星', '最長壽者', '98', '紅巨星', '同位素'} {'鍀'}\n",
            "{'歐陸舞曲', '洲', '南美洲', '北美洲'} {'歐陸舞曲'}\n",
            "{'阿爾弗雷德·諾貝爾', '挪威', '奧斯陸協議', '瑞典', '城市', '奧斯陸', '發明家', '挪威_(愛荷華州)', '諾貝爾和平獎'} {'奧斯陸城市博物館', '奧斯陸地鐵', '奧斯陸主教座堂', '奧斯陸市政廳', '奧斯陸中央車站'}\n",
            "{'戊', '戊戌變法', '光緒帝', '光緒', '慈禧太后', '康有爲', '謠言', '老撾', '戊戌'} {'戊戌變法'}\n",
            "{'獎勵', '電子藝術大獎'} {'金馬獎獎項列表', '電子藝術大獎', '中華職棒獎項'}\n",
            "{'好萊塢', '美國', '成龍', '票房', '英國', '成功', '演員', '電影'} {'成龍'}\n",
            "{'鑽石', '物質', '今天', '硬度'} {'鑽石', '硬度試驗'}\n",
            "{'閩南語', '閩南語維基百科', '白話', 'WMF', '白話字'} {'中文維基百科', '英語維基百科', '湖南省經濟', '閩南語維基百科', 'WMF'}\n",
            "{'麥', '小麥', '2013年', '糧食', '世界'} {'小麥', '玉米'}\n",
            "{'共和黨_(美國)', '社會'} set()\n",
            "{'藝人', '香港', '配偶', '何基佑', '兩人_(aiko單曲)', '模特兒', '鍾凱瑩'} {'鍾凱瑩'}\n",
            "{'貓', '馬島長尾狸貓', '狸'} {'生殖醫學'}\n",
            "{'咬鵑科', '氣候', '毛皮', '熱帶'} {'斑尾咬鵑'}\n",
            "{'文明', '希臘神話', '希臘', '神話', '歐洲', '古希臘'} set()\n",
            "{'臺北', '中學', '內湖_(臺北市內湖區大字)', '2020', '臺北市立麗山高級中學', '內湖區', '麗山'} {'柯明樹', '臺北市立麗山高級中學', '臺北市內湖區麗山國民小學', '麗山', '鄭顯三'}\n",
            "{'赫歇爾_(消歧義)', '土星', '土衛一', '衛星'} {'土衛四十九', '土衛一表面特徵列表', '土衛四十一', '土衛一', '土衛三'}\n",
            "{'植物', '種子', '新月沃土', '家畜'} {'新月沃土'}\n",
            "{'量_(物理)', '雞'} set()\n",
            "{'春秋_(書)', '春秋', '穀梁傳'} {'公羊傳', '春秋三傳', '穀梁傳'}\n",
            "{'恐怖主義', '罪', '邪教', '刑罰', '麻原彰晃', '本名'} {'麻原彰晃'}\n",
            "{'1958年', '鴉片', '天津條約', '第二次鴉片戰爭', '第一次鴉片戰爭'} {'天津條約', '第二次大沽口之戰'}\n",
            "{'證據', '文獻', '一次文獻', '二手貨'} {'一次文獻'}\n",
            "{'人口', '首爾特別市', '京畿', '京畿道'} {'中京畿道', '京畿道知事'}\n",
            "{'納米比亞', '火山', '海底火山'} {'納米比亞總統', '納米比亞，勇氣之地', '中國駐納米比亞大使列表', '海底火山列表', '納米比亞駐外機構列表'}\n",
            "{'大學', '橫濱國立大學', '電視劇', '橫濱市'} set()\n",
            "{'花椒', '物質', '果實', '揮發性'} {'屏東花椒', '簕欓花椒', '嶺南花椒', '花椒', '翼柄花椒'}\n",
            "{'中芯國際', '電路', '集成電路', '總部', '中國', '上海市'} {'兆芯', '中芯國際', '半導體廠商銷售排名', '集成電路設計', '超大規模集成電路'}\n",
            "{'導彈', '戰略', '戰術'} {'戰術'}\n",
            "{'臺灣', '丘', '土地', '基隆市', '丘陵', '市', '市_(中華民國)', '新北市'} set()\n",
            "{'獎勵', '電子藝術大獎'} set()\n",
            "{'香港', '大公報'} set()\n",
            "{'罷工', '軍政_(政體)', '組織', '軍政府', '路易斯·伊納西奧·盧拉·達席爾瓦'} set()\n",
            "{'樂山大佛', '民國', '大佛', '民國時期'} {'樂山大佛'}\n",
            "{'集合', '元素_(數學)', '客體', '化學元素', '總體', '集合_(數學)', '有限集合'} {'總體', '有限集合'}\n",
            "{'國際臺', '杭州駐防城', '三立國際臺', '總部', '三立電視', '內湖區'} {'三立都會臺', '三立綜合臺', '三立國際臺', '三立戲劇臺', '三立電視'}\n",
            "{'東北', '東蒙', '中國東北地區', '傳統', '數', '內蒙古自治區', '盟_(行政區劃)', '中國', '人口'} set()\n",
            "{'飛行', '藤子·F·不二雄', '匿名'} {'藤子·F·不二雄', '藤子不二雄', '大雄與風之使者', '藤子不二雄Ⓐ', '藤子·F·不二雄創作'}\n",
            "{'父親', '水稻', '稻', '雜交水稻', '德國', '袁隆平'} {'雜交水稻國家重點實驗室', '雜交水稻', '周開達', '湖南雜交水稻研究中心', '袁隆平'}\n",
            "{'中華人民共和國外交', '外交', '詞', '外交政策', '大國外交', '中國', '國', '年代', '中華人民共和國', '大國'} {'中華人民共和國外交', '大國外交'}\n",
            "{'熱空氣', '空氣', '溫室'} {'溫室'}\n",
            "{'維吾爾族', '姓', '回族', '昭武九姓', '西北', '昭武', '美國'} {'昭武九姓'}\n",
            "{'柏林自由大學', '自由大學', '精英大學', '柏林'} {'柏林洪堡大學', '柏林自由大學', '柏林工業大學'}\n",
            "{'政治家', '阿爾·戈爾'} set()\n",
            "{'道格拉斯·麥克阿瑟', '西點軍校', '小亞瑟·麥克阿瑟', '老亞瑟·麥克阿瑟', '杜魯門總統解職道格拉斯·麥克阿瑟', '湯姆·麥克阿瑟', '約翰·海克特·麥克阿瑟', '美國'} {'李武陵', '麥克阿瑟堡', '小亞瑟·麥克阿瑟', '湯姆·麥克阿瑟', '約翰·海克特·麥克阿瑟'}\n",
            "{'漢四郡', '扶餘國', '太守', '漢', '郡', '漢朝'} {'扶餘國'}\n",
            "{'勳章', '突破', '水稻', '袁隆平', '共和國勳章'} {'雜交水稻國家重點實驗室', '袁隆平', '小行星8117'}\n",
            "{'古諾斯語', '冰島', '文字', '維京人', '維京時代', '語言', '分支', '冰島語', '夏爾·古諾'} {'冰島語'}\n",
            "{'若竹町', '行政區劃', '若竹町_(臺南市)', '戰爭', '日本'} {'汐見町', '伏見町', '青葉町'}\n",
            "{'宿主', '狼', '白俄羅斯', '歐洲', '野牛', '歐洲野牛', '動物'} {'野牛', '野牛屬', '歐洲野牛', '美洲野牛', '印度野牛'}\n",
            "{'象', '唐朝'} {'大象露西'}\n",
            "{'艾倫·狄珍妮秀', '艾倫·艾佛森', '艾倫·狄珍妮', '金酸莓獎', '艾倫·鮑絲汀', '獎勵', '伍迪·艾倫', '艾倫', '帚'} set()\n",
            "{'奧古斯都', '提貝里烏斯', '御座', '提比略·克勞狄烏斯·尼祿', '70', '蓋烏斯·屋大維', '提比略·格拉古'} set()\n",
            "{'政府', '臺灣省', '臺灣省政府', '功能', '1998年'} {'雲林縣政府', '花蓮縣政府', '南投縣政府', '臺東縣政府', '臺灣省政府'}\n",
            "{'霜', '硫', '木衛一', '平原', '木星的衛星', '二氧化硫'} set()\n",
            "{'1987年', '組別_(體育)', '維基百科', '電子藝術大獎'} {'電子藝術大獎'}\n",
            "{'城市', '東西_(作家)', '耶路撒冷'} set()\n",
            "{'教父_(基督教歷史)', '教父', '奧斯卡金像獎', '弗朗西斯·科波拉', '金像獎', '奧斯卡', '對話', '教父2', '電影'} {'蘇菲亞·柯波拉', '1930年奧斯卡金像獎', '金像獎', '教父2', '最後的教父'}\n",
            "{'亞洲', '天佑國王', '歌曲', '愛國歌_(朝鮮民主主義人民共和國)'} {'天佑國王', '天佑安圭拉', '天佑新西蘭'}\n",
            "{'賈繼之', '明朝'} {'朋黨'}\n",
            "{'披頭四樂隊', '臺南市', '單曲'} {'披頭四作品列表', '橡皮靈魂'}\n",
            "{'淋巴結', '淋巴結腫大'} {'前哨淋巴結', '淋巴系統', '淋巴結腫大'}\n",
            "{'名稱', '意大利', '解剖學', '馬氏管', '馬爾切洛·馬爾皮吉'} {'克萊門特·米開朗基羅·蘇西尼', '阿方索·柯蒂', '歐陽翥', '萊頓解剖學教室', '馬爾切洛·馬爾皮吉'}\n",
            "{'象徵', '坦克人', '王維', '人名', '坦克', '前線', '示威', '歷史'} {'坦克人'}\n",
            "{'夏菜', '作品', '廣島縣', '漫畫家', '川瀨夏菜'} {'矢神椎野', '新久千映', '八神健', '藤澤志月', '小林俊彥'}\n",
            "{'特別攻擊隊', '跟蹤支援隊'} set()\n",
            "{'立法院立法委員選舉', '臺灣', '全國不分區及僑居國外國民立法委員選舉區', '2020', '劉一德', '臺灣團結聯盟', '主席', '政黨領袖'} {'臺灣團結聯盟'}\n",
            "{'洋蔥', '維吾爾語', '波斯語', '數學'} {'洋蔥'}\n",
            "{'世界大戰', '喬治·卡特萊特·馬歇爾', '第一次世界大戰', '美國陸軍參謀長', '美國陸軍', '參謀長', '陸軍參謀長_(印度)', '美國'} {'第二次世界大戰年表', '第二次世界大戰戰役列表', '喬治·卡特萊特·馬歇爾', '羅斯福家族', '小富蘭克林·德拉諾·羅斯福'}\n",
            "{'電動機', '能量', '桑·馬達', '差異_(哲學)', '發動機', '加查·馬達'} {'直流電動機', '交流電動機', '電動機'}\n",
            "{'大學'} {'聖母院大學', '劉立方', '巴黎聖母院大學'}\n",
            "{'加利福尼亞大學', '政府', 'SETI@home', '計算', '分佈式計算', '加利福尼亞大學柏克萊分校'} {'SETI@home', 'Astropulse', 'BOINC'}\n",
            "{'戰國時期', '趙國', '燕國', '滅亡', '王翦', '秦國'} {'戰國四名將', '王翦'}\n",
            "{'張學友', '笑', '金馬獎', '江湖', '電影'} {'張學友87演唱會', '張學友'}\n",
            "{'1995', '少女小漁_(電影)', '主人公', '亞太影展', '劉若英', '我的美麗與哀愁', '1995年'} {'劉若英', '少女小漁劉若英的美麗與哀愁'}\n",
            "{'木衛四', '衛', '木材', '木星', '火箭', '木星的衛星'} set()\n",
            "{'狼', '歐洲', '野牛', '捕食', '歐洲野牛', '動物', '天敵_(電視劇)', '動物園'} {'野牛', '野牛屬', '歐洲野牛', '寧波野生動物園', '印度野牛'}\n",
            "{'倫敦大學', '排名', '大學排名', '全球', '英國', '倫敦大學學院', '泰晤士'} {'倫敦大學學院', '泰晤士'}\n",
            "{'鄧小平', '理論', '社會主義', '鄧小平理論', '中國'} {'鄧小平理論'}\n",
            "{'城市', '美國', '芝加哥'} {'芝加哥太陽報'}\n",
            "{'土衛一', '土城', '土星的衛星'} set()\n",
            "{'臺北', '川端町', '行政區劃', '臺灣', '郊區', '臺灣日治時期', '臺北市', '日治時期'} {'川端町'}\n",
            "{'東京', '世界', '經濟學人信息社', '世界最佳宜居城市', '智庫', '報告'} {'經濟學人信息社', '全球最昂貴城市'}\n",
            "{'魂斷藍橋', '藍橋', '主人公'} {'魂斷藍橋', '藍橋'}\n",
            "{'冠蕉鵑', '蕉鵑', '鸚形目', '綠色'} {'冠蕉鵑', '白梢冠蕉鵑'}\n",
            "{'印象派', '法國', '派系', '藝術'} set()\n",
            "{'同治', '曾光爔', '九龍鄉_(鄰水縣)', '四川省_(中華民國)', '邛州', '邛州直隸州', '民國', '祖籍'} {'邛州', '嘉應直隸州', '曾光爔'}\n",
            "{'民族主義', '若昂·費雷拉·佛朗哥·平託·卡斯特洛布蘭科', '弗朗西斯科·佛朗哥', '佛朗哥·裏卡爾迪', '西班牙第二共和國', '傑斯·佛朗哥', '韋羅妮卡·佛朗哥', '西班牙', '伊塔馬爾·佛朗哥'} {'西班牙共和國流亡政府'}\n",
            "{'饕餮', '現實', '現實生活', '形象', '生活'} {'現實生活', '饕餮', '縉雲氏'}\n",
            "{'世界', '海', '波士頓', '企業', '總部', '通用電氣', '美國', '奇異'} {'通用電氣'}\n",
            "{'男性', '生物', '水平', '女性', '減肥', '營養', '代謝'} {'節食', '減肥'}\n",
            "{'區_(中華民國)', '市轄區_(中華人民共和國)', '州', '縣_(中華民國)', '縣', '市轄區', '潮州市', '巴蜀文化'} {'2016年中華人民共和國縣級以上行政區劃變更列表', '潮州市城南中學', '2005年中華人民共和國縣級以上行政區劃變更列表', '2015年中華人民共和國縣級以上行政區劃變更列表'}\n",
            "{'港埠都市', '港口', '中國東部經濟區', '泉州市', '中國'} {'港口城市大學聯盟', '泉州港'}\n",
            "{'博士後', '化學', '博士', '沈宗瀛', '學位', '格林尼治', '有機化學', '美國'} set()\n",
            "{'兒子', '鄭氏鸞'} set()\n",
            "{'亞洲', '中東', '西亞', '西南'} {'西亞'}\n",
            "{'中華人民共和國', '輕工業', '中華人民共和國紡織工業部', '中國'} {'姜時彥', '中華人民共和國第二輕工業部', '曹魯', '中華人民共和國紡織工業部', '中央人民政府紡織工業部'}\n",
            "{'西部', '地區', '薩爾波勒扎哈卜', '伊朗', '地震'} {'2017年兩伊邊境地震', '薩爾波勒扎哈卜'}\n",
            "{'虎尾寮_(臺南市)', '東區_(臺南市)', '東區', '臺灣國中教育', '臺南市', '臺南市東區復興國民小學'} {'裕孝路', '裕信路', '臺南市東區裕文國民小學', '裕忠路', '臺南市東區復興國民小學'}\n",
            "{'西廂記', '王實甫', '西廂記_(1927年電影)', '元朝'} {'西廂傳奇', '四大名劇', '牆頭馬上', '王實甫', '西廂記'}\n",
            "{'寒武紀大爆發', '世界', '寒武紀_(消歧義)', '寒武紀'} set()\n",
            "{'政府', '王妃', '戴安娜_(電影)', '非政府組織', '威爾士王妃', '組織', '威爾斯', '戴安娜·瑞格', '戴安娜·艾嘉朗', '威爾斯王妃戴安娜'} {'戴安娜廣場', '國際反地雷組織'}\n",
            "{'船', '東海', '臺灣', '波濤', '岸', '漁民', '南小島'} {'橄欖門', '南小島', '北小島'}\n",
            "{'冰島', '男性', '西區', '聖保羅書院', '學校'} {'符潤光'}\n",
            "{'制度', '榮譽', '成就_(電子遊戲)', '成就', '英國', '服務', '英國授勳及嘉獎制度', '個體'} {'女爵士', '馬來西亞聯邦授勳及嘉獎制度', '香港1968年元旦授勳名單', '爵士', '英國授勳及嘉獎制度'}\n",
            "{'賽普勒斯'} {'賽普勒斯問題', '賽普勒斯鎊', '賽普勒斯'}\n",
            "{'伊斯蘭教', '北非', '語言', '阿拉伯語', '信仰', '黎巴嫩', '西亞'} {'阿拉伯語國家和地區列表', '阿拉伯世界', '黎巴嫩阿拉伯語'}\n",
            "{'桃園市', '南部', '臺灣', '四縣話', '楊梅_(大字)', '楊梅區', '亞洲·矽谷計劃', '臺灣客家語'} {'峨眉鄉'}\n",
            "{'一生', '經濟學家', '香港學界體育聯會', '楊小凱'} {'楊第甫', '楊小凱'}\n",
            "{'糖尿病', '桂皮', '胰島素'} {'成人隱匿遲發性自體免疫糖尿病'}\n",
            "{'伊斯蘭教', '古賽爾_(敘利亞)', '什葉派', '古賽爾戰役', '組織'} {'阿富汗什葉派伊斯蘭教'}\n",
            "{'船', '遊輪', '客輪', '遠洋定期船', '乘客', '渡輪'} {'遊輪', '客輪', '遠洋定期船', '郵輪母港', '客運樓'}\n",
            "{'電影院', '北京理工大學'} {'華北理工大學'}\n",
            "{'尤里·安德羅波夫', '腎_(臟腑)', '腎功能衰竭', '腎功能', '健康'} {'尤里·安德羅波夫'}\n",
            "{'古諾斯語', '冰島', '維京人', '維京時代', '語言', '分支', '冰島語', '夏爾·古諾'} {'古諾斯語', '冰島語'}\n",
            "{'集', '荷馬', '電影'} set()\n",
            "{'貝塔·雷·比爾', '愛', '貝雷特'} {'貝雷特'}\n",
            "{'樂山大佛', '大佛', '唐朝'} {'樂山大佛', '海通和尚'}\n",
            "{'90年', '長頸鹿'} {'90年代', '前90年代'}\n",
            "{'字', '星海', '山東省_(中華民國)', '宋潢_(嘉慶壬戌進士)', '山東省', '法律'} {'星海街道', '星海街', '葉星海', '星海生活廣場', '蘇州工業園區星海實驗中學'}\n",
            "{'許世友', '中國武術', '武術', '中國'} {'許世友反革命集團案', '許家窪', '上將許世友', '中國武術段位制', '許世友'}\n",
            "{'案例', '縣_(中華民國)', '臺東垃圾焚化廠', '臺東', '臺東縣'} {'臺灣垃圾焚化廠列表', '岡山垃圾焚化廠', '臺東垃圾焚化廠', '崁頂垃圾焚化廠', '永康垃圾焚化廠'}\n",
            "{'蘋果酒', '酒', '世界'} {'蘋果西打', '蘋果酒'}\n",
            "{'中正區_(臺北市)', '捷運', '萬華區', '線', '西門站', '松山新店線', '西門站_(臺北捷運)', '臺北捷運', '板南線'} {'臺北捷運341型電聯車', '臺電大樓站', '南港機廠', '新店區公所站'}\n",
            "{'形狀', '幫助', '力', '實體'} set()\n",
            "{'史詩', '荷馬史詩', '蝴蝶', '赫拉', '荷馬'} set()\n",
            "{'大韓民國', '地面車站', '煉武臺站'} {'地面車站', '江景線', '煉武臺站'}\n",
            "{'香港', '口耳相傳', '中國', '法輪功', '1994年'} {'法輪功在臺灣'}\n",
            "{'印度', '組合', '吠陀', '系統', '印度教', '歐羅巴', '語言系屬分類', '印度教神話'} {'吠陀梵語', '娑摩吠陀', '吠陀', '吠陀宗教', '吠陀文化'}\n",
            "{'漢', '侍', '漢賦', '天文學', '西鄂縣', '南陽郡', '賦', '張衡'} {'二京賦', '張衡'}\n",
            "{'好萊塢', '美國', '成龍', '成功', '電影', '美國電影'} set()\n",
            "{'查爾斯·狄更斯', '童年', '查理·卓別林', '倫敦'} {'小查理·卓別林', '悉尼·厄爾·卓別林', '摩登時代', '漢娜·卓別林', '悉尼·約翰·卓別林'}\n",
            "{'境', '白俄羅斯', '歐洲', '捕食', '牛族'} set()\n",
            "{'金朝', '宗', '馬丁·路德·金', '金', '金章宗'} {'完顏洪靖'}\n",
            "{'第一人', '本傑明·富蘭克林', '郵政', '費城', '通信系統', '富蘭克林_(維吉尼亞州)'} set()\n",
            "{'北冰洋', '世界洋', '洋', '深度', '世界'} {'北冰洋'}\n",
            "{'丘陵', '山東省', '淄博市'} {'棗莊市', '淄博市'}\n",
            "{'路易·德·奧爾良_(1703年—1752年)', '軍事', '路易十四'} set()\n",
            "{'鉻', '紅寶石', '玉', '寶石', '藍寶石', '剛玉', '紅色', '金屬'} {'紅寶石', '藍寶石', '剛玉'}\n",
            "{'卡拉卡爾帕克人', '卡拉卡爾帕克斯坦共和國', '斯坦', '突厥', '突厥語族', '本地人'} {'穆薩·葉爾尼亞佐夫', '卡拉卡爾帕克斯坦共和國', '卡拉卡爾帕克語', '卡拉卡爾帕克蘇維埃社會主義自治共和國', '木伊那克'}\n",
            "{'頭', '科學', '兵馬俑', '古代史', '古埃及', '外科學', '埃及'} {'兵馬俑'}\n",
            "{'馬六甲_(消歧義)', '現在', '馬六甲海峽', '海峽', '國家'} {'馬六甲海峽歷史城市'}\n",
            "{'國立臺灣科技大學研揚大樓', '科技大學_(臺灣學制)', '國立臺灣科技大學'} {'國立高雄海洋科技大學', '國立臺灣科技大學管理研究所', '國立臺灣科技大學校史室', '國立臺灣科技大學研揚大樓'}\n",
            "{'供應鏈', '產品', '世紀', '行業', '20世紀', '科隆'} {'第一產業', '第三產業', '第二產業'}\n",
            "{'馬克思主義', '馬克思·多爾穆瓦站', '格魯喬·馬克思', '卡爾·馬克思', '馬克思主義政治經濟學', '資本論', '政治經濟學', '海因裏希·馬克思'} {'馬克思主義政治經濟學', '資本論', '河上肇', '女人資本論'}\n",
            "{'安德魯·勞埃德·韋伯', '約瑟_(舊約聖經)', '約瑟的神奇彩衣'} {'耶穌基督超級巨星', '約瑟的神奇彩衣'}\n",
            "{'大氣層', '土衛六', '甲烷', '科學家', '土衛六大氣層'} {'海衛一大氣層', '土衛六大氣層'}\n",
            "{'北美洲', '歐陸舞曲', '舞曲', '歐洲大陸', '世界'} {'歐陸舞曲', '亞歷山大·瓦爾澤'}\n",
            "{'謝雪心'} {'黃大仙上邨', '黃大仙下邨'}\n",
            "{'物質', '鍵', '氫', '氫氣'} set()\n",
            "{'歌手', '香港歌手列表', '少女蝶', '香港', '3T_(香港音樂組合)', '鄭希怡', '歌手·當打之年'} {'鄭希怡', '少女蝶', '劉思惠'}\n",
            "{'答案', '思想', '方法', '問卷調查'} set()\n",
            "{'海', '馬克', '馬克·吐溫', '作家'} set()\n",
            "{'韓式泡菜', '葉黃素', '世界', '2012', '泡菜', '食物', '健康', '醃'} {'洪魚膾', '韓式泡菜', '泡菜炒飯', '蘿蔔泡菜'}\n",
            "{'不孕', '男性'} set()\n",
            "{'臺灣', '避病院', '臺南避病院', '醫院', '法定傳染病'} {'臺南避病院'}\n",
            "{'美洲', '查理·卓別林', '人生', '馬戲'} {'小查理·卓別林', '悉尼·厄爾·卓別林', '摩登時代', '漢娜·卓別林', '悉尼·約翰·卓別林'}\n",
            "{'思想家', '李賦寧', '死亡', '癌症', '中國'} {'李賦寧', '李賦都'}\n",
            "{'三角洲', '珠江三角洲', '珠江', '聚落', '城鎮'} {'珠江三角洲'}\n",
            "{'女性'} set()\n",
            "{'奧林匹克運動會', '環', '男爵', '皮埃爾·德·顧拜旦', '名譽主席', '主席'} {'皮埃爾·德·顧拜旦', '奧林匹克運動會藝術比賽'}\n",
            "{'臺灣天文觀測', '天文觀測', '臺灣', '國立中央大學', '國立中央大學天文研究所', '國立中央大學_(南京)', '天文臺', '大學', '領域'} {'臺灣天文觀測', '國立中央大學天文研究所', '鹿林天文臺', '天文臺', '與鹿林天文臺有關的小行星列表'}\n",
            "{'臺北市政府', '臺北市立萬芳高級中學', '臺北市文山區興華國民小學', '臺北市', '萬芳_(消歧義)', '教育局', '興華國小', '小學', '臺北市立萬芳醫院', '文山區'} {'臺北市立萬芳高級中學', '臺北市私立東山高級中學', '臺北市文山區萬芳國民小學', '臺北市政府教育局', '臺北市文山區興華國民小學'}\n",
            "{'臺灣氣候', '熱帶季風氣候', '臺灣', '亞熱帶', '熱帶', '北迴歸線', '氣候', '副熱帶季風氣候'} {'東石北迴歸線地標', '臺灣氣候', '溫帶季風氣候', '亞熱帶', '副熱帶季風氣候'}\n",
            "{'介質', '內燃機', '能量'} {'介質', '內燃機', '空氣標準'}\n",
            "{'浪漫奇幻', '午夜巴黎', '巴黎', '奇幻電影', '伍迪·艾倫', '艾倫', '電影'} {'魔力月光', '午夜巴黎', '六場危事', '第64屆戛納電影節'}\n",
            "{'路易十四', '戰爭'} set()\n",
            "{'歌手', '齊秦', '齊豫', '親屬', '歌手·當打之年'} {'齊豫'}\n",
            "{'王安石', '認識', '生活'} set()\n",
            "{'四川省', '五糧液', '地級市', '宜賓市', '市', '酒'} set()\n",
            "{'柏林國際電影節', '馬純岱'} {'馬純岱'}\n",
            "{'菜', '蘇菜', '味_(粒子物理學)', '淮揚菜', '中國', '淮揚', '菜系', '江蘇省'} {'海南菜', '登州府', '淮揚菜'}\n",
            "{'電子科技大學'} set()\n",
            "{'張學友', '電影', '江湖', '金馬獎'} {'張學友87演唱會', '張學友', '張學友2002音樂之旅世界巡迴演唱會'}\n",
            "{'馬克思主義', '馬克思·多爾穆瓦站', '格魯喬·馬克思', '卡爾·馬克思', '馬克思主義政治經濟學', '資本論', '政治經濟學', '海因裏希·馬克思'} {'馬克思主義政治經濟學', '資本論', '河上肇', '女人資本論'}\n",
            "{'遼朝', '遊牧', '中國北方航空', '北', '中國', '遊牧民族', '國家'} {'遼朝君主列表', '遼朝皇后及妃嬪列表'}\n",
            "{'理論', '邊際', '教授', '經濟學', '古典經濟學', '哈佛大學', '分析', '楊小凱'} {'楊小凱'}\n",
            "{'名稱', '木衛十二', '形象', '女神', '木星的衛星'} {'木衛十二'}\n",
            "{'千與千尋'} set()\n",
            "{'米開朗基羅·樂孔特', '米開朗基羅', '米開朗基羅·法爾瑪提諾'} {'博納羅蒂之家', '米開朗基羅撞擊坑'}\n",
            "{'豫劇'} {'豫劇', '洛陽市豫劇團', '蕭揚玲'}\n",
            "{'豫劇', '中國'} set()\n",
            "{'杜臻', '漢朝'} set()\n",
            "{'西安市', '楊虎', '屠殺', '楊虎城'} set()\n",
            "{'進士', '杜臻', '康熙', '兵部尚書', '清朝', '兵部', '人物'} {'清朝兵部尚書列表', '杜臻'}\n",
            "{'汞', '烴', '三鍵', '炔烴', '鍵', '化合物'} {'不飽和烴'}\n",
            "{'公案小說', '範式', '大理寺', '狄仁傑', '公案_(消歧義)', '小說', '君主', '中國'} {'狄仁傑'}\n",
            "{'祕魯', '城市', '胡利亞卡'} {'胡利亞卡'}\n",
            "{'特別攻擊隊', '攻擊', '跟蹤支援隊'} {'特別攻擊隊'}\n",
            "{'中國音樂', '搖滾', '竇唯', '音樂', '音樂類型', '流行_(音樂類型)', '中國'} {'獨立搖滾', '黑豹樂隊'}\n",
            "{'講談社', '講談社·中國的歷史', '榮譽', '三年坂火之夢', '日本', '推理小說'} {'推理小說獎', '講談社BOX', '三年坂火之夢'}\n",
            "{'專屬經濟區', '聯合國', '聯合國海洋法公約'} {'公海公約', '專屬經濟區', '聯合國海洋法公約', '國際海洋法法庭', '公海'}\n",
            "{'德國', '馬純岱'} {'馬純岱'}\n",
            "{'湖南省', '湖南省_(中華民國)', '懷化市', '餐廳', '中華人民共和國'} {'懷化市第三中學', '懷化市'}\n",
            "{'臺北市政府', '臺北市', '臺北市政府捷運工程局'} {'臺北市政府消防局', '桃園市政府捷運工程局', '臺北市政府捷運工程局', '臺北市政府民政局', '新北市政府捷運工程局'}\n",
            "{'少將', '牡丹社', '牡丹', '官僚', '鹿兒島縣', '明治', '兒玉利國'} {'牧樸真', '兒玉利國'}\n",
            "{'克洛里斯', '雨果·洛里斯', '老公', '神', '女神', '洛里斯_(沃克呂茲省)'} {'西風翠灰蝶'}\n",
            "{'時代', '披頭四樂隊'} set()\n",
            "{'公司', '親屬', '現代集團', '公司集團', '鄭周永', '兒子', '經濟復甦'} {'現代集團'}\n",
            "{'黃帝', '三苗', '傳說_(2010年電視劇)', '禹', '傳說', '中國', '堯', '時代'} {'中國傳說時代君主列表'}\n",
            "{'臺北', '牙醫學系', '經營者', '李祖德', '臺北醫學大學'} {'李祖德'}\n",
            "{'劉聰', '趙', '皇帝', '漢趙'} {'漢趙州郡列表'}\n",
            "{'實藤惠秀', '中國'} {'中國通'}\n",
            "{'訊息_(蘋果)', '技術', 'SIG', 'ACM'} {'ACM學生研究競賽'}\n",
            "{'足球員', '大衛·貝克漢姆'} set()\n",
            "{'電腦性能', '高性能轎車', '材料', '纖維', '玻璃纖維', '複合材料'} {'陶瓷基複合材料', '樹脂基複合材料', '玻璃纖維', '複合材料', '纖維材料改性國家重點實驗室'}\n",
            "{'托馬斯', '基督教', '激進民主主義', '作品', '現在', '潘恩', '托馬斯·潘恩', '美國'} set()\n",
            "{'老年', '宗教', '亂', '國庫', '梁武帝', '侯景', '梁_(南朝)', '侯景之亂'} set()\n",
            "{'亞歷山德拉·墨索里尼', '羅曼諾·貝尼託·弗洛里亞尼·墨索里尼', '貝尼託·墨索里尼', '屍體', '雷切爾·墨索里尼'} {'雷切爾·墨索里尼'}\n",
            "{'鐵路車站', '汝州站', '中國鐵路鄭州局集團', '中華人民共和國'} {'汝州站'}\n",
            "{'內畫壺', '北京市', '工藝美術'} {'武昌府', '竹織工藝品'}\n",
            "{'大韓民國', '地面車站', '煉武臺站'} {'梧濱站', '我新站', '地面車站', '江景線', '煉武臺站'}\n",
            "{'果糖', '殼', '乙酰基', '昆蟲', '體育運動'} set()\n",
            "{'古典', '伊萬·巴甫洛夫', '古典制約', '犬'} {'古典制約'}\n",
            "{'汕頭市', '汕頭大學', '全球', '大學', '中華人民共和國', '私人基金會'} {'汕頭大學', '仙城'}\n",
            "{'包青天_(亞洲電視劇集)', '字', '後世', '包拯', '北宋'} {'劍臨天下', '包拯'}\n",
            "{'神', '關羽', '形象'} set()\n",
            "{'伍迪·艾倫', '艾倫'} set()\n",
            "{'劉丹', '政治'} set()\n",
            "{'最高機密', '信息', '訊息', '祕密', '活動', '核', '核武器', '國家'} set()\n",
            "{'宦官', '血親', '王室', '過去'} set()\n",
            "{'細胞', '突變', '癌細胞'} {'突變', '癌變'}\n",
            "{'氣體', '原理', '物體', '槍械', '目標'} set()\n",
            "{'新西蘭', '島嶼', '北島', '城市', '都市圈', '奧克蘭市', '奧克蘭'} {'華裔新西蘭人', '紐西蘭人口'}\n",
            "{'總統', '政府首腦', '立法機關', '祕魯', '行政機關', '地區', '總統制'} {'總統制'}\n",
            "{'比爾·比紹普', '2004年', '比爾', '會員'} {'比爾·比紹普'}\n",
            "{'寒武紀大爆發', '世界', '寒武紀_(消歧義)', '寒武紀'} {'寒武紀大爆發'}\n",
            "{'新臺幣', '方法', '標示'} set()\n",
            "{'周文王', '爻', '左傳'} set()\n",
            "{'亞裔美國人', '祖先', '美國', '美國人'} {'亞裔美國人軍事史', '越南裔美國人', '俄裔美國人', '歐裔美國人', '日裔美國人'}\n",
            "{'概念', '物流', '古代史', '中國歷史', '中國', '公益_(消歧義)'} {'物流'}\n",
            "{'古蹟', '中華民國外交部', '中華民國', '國定古蹟', '外交部', '臺北賓館'} {'臺北市國定古蹟列表', '二二八和平紀念公園', '臺北賓館'}\n",
            "{'殖民地', '國家'} set()\n",
            "{'德國', '震盪波蠕蟲', '女孩', '小時'} {'震盪波蠕蟲'}\n",
            "{'殖民地'} {'殖民地'}\n",
            "{'經營者', '北漂', '臺北醫學大學'} {'李祖德'}\n",
            "{'歐洲聯盟'} {'歐洲聯盟成員國政治制度列表', '歐洲中央銀行體系', '地中海聯盟', '歐洲聯盟成員國', '歐洲聯盟'}\n",
            "{'總統', '2000', '鮑里斯·葉利欽', '羅曼·伊戈列維奇·普京', '小時', '弗拉基米爾·普京', '葉利欽·特赫達', '總理'} {'葉利欽主義', '柳德米拉·普京娜', '2000年俄羅斯總統選舉', '俄羅斯代理總統'}\n",
            "{'屏東縣', '臺中市西大墩婦女中心'} {'臺灣屏東地方法院', '臺中市西大墩婦女中心'}\n",
            "{'人民', '米哈伊爾·伊拉里奧諾維奇·庫圖佐夫', '拿破崙一世', '羅曼·庫圖佐夫', '俄法戰爭', '俄羅斯', '序曲', '年代', '1812序曲'} {'米哈伊爾·伊拉里奧諾維奇·庫圖佐夫', '1812序曲'}\n",
            "{'馬克思主義', '馬克思·多爾穆瓦站', '格魯喬·馬克思', '卡爾·馬克思', '馬克思主義政治經濟學', '資本論', '政治經濟學', '海因裏希·馬克思'} {'馬克思主義政治經濟學', '資本論', '河上肇', '女人資本論'}\n",
            "{'臺灣', '丘', '土地', '基隆市', '丘陵', '市', '市_(中華民國)', '新北市'} set()\n",
            "{'經營者', '北漂', '臺北醫學大學'} {'李祖德'}\n",
            "{'卡呂普索', '王'} set()\n",
            "{'瘟疫', '戰爭與和平', '拿破崙戰爭', '拿破崙_(消歧義)'} set()\n",
            "{'編輯', '自由中國_(雜誌)', '聶華苓', '自由中國'} {'聶華苓'}\n",
            "{'省', '江西省', '九江市'} set()\n",
            "{'馬克思主義', '馬克思·多爾穆瓦站', '格魯喬·馬克思', '卡爾·馬克思', '馬克思主義政治經濟學', '資本論', '政治經濟學', '海因裏希·馬克思'} {'馬克思主義政治經濟學', '資本論', '河上肇', '女人資本論'}\n",
            "{'女性', '標準舞'} set()\n",
            "{'電子科技大學'} set()\n",
            "{'1943', '馬蘭', '臺灣', '臺灣日治時期', '臺東廳', '株式會社', '臺東製糖', '臺東', '明治製糖'} {'越臺糖業', '依萊沃糖業公司', '臺東製糖', '太古糖業', '臺東廳長'}\n",
            "{'證券市場', '立法機關', '寧波人', '徐翔_(投資家)', '徐翔'} {'徐翔'}\n",
            "{'日本電影', '臺灣時報', '1909年', '日本', '電影'} {'1909年體育'}\n",
            "{'學生', '加利福尼亞大學洛杉磯分校', '蘇菲亞·柯波拉', '成人電影'} {'加州大學洛杉磯分校棕熊隊'}\n",
            "{'世界', '稱謂', '歐洲', '中東', '動詞', '國際組織', '西亞', '感覺'} set()\n",
            "{'西南', '區域', '臺灣', '中華民國', '高雄縣'} set()\n",
            "{'雀形目', '鳥'} set()\n",
            "{'蠟筆小新', '情節', '作者', '臼井儀人'} {'蠟筆小新：春日部野生王國', '蠟筆小新：爆睡！夢世界大作戰', '蠟筆小新動畫集數列表', '動感超人', '蠟筆小新角色列表'}\n",
            "{'理論', '邊際', '經濟學', '經濟學家', '古典經濟學', '本名', '分析', '楊小凱'} {'楊小凱', '羅伯特·巴羅'}\n",
            "{'立法機關', '議會', '微軟'} {'臺北市議會', '委任立法', '各國立法機關列表'}\n",
            "{'羅榮桓', '中國共產黨', '元帥', '軍銜', '中華人民共和國元帥', '中華人民共和國'} {'中華人民共和國大元帥', '羅榮桓'}\n",
            "{'價值', '工程', '不可否認', '中國'} set()\n",
            "{'羽毛', '咬鵑科', '亞熱帶', '熱帶', '氣候'} {'斑尾咬鵑'}\n",
            "{'歐洲民族', '腳趾', '歐洲', '民族', '指', '國家'} set()\n",
            "{'字', '後世', '包拯', '神', '包青天_(1974年電視劇)', '南宋'} {'劍臨天下', '包拯'}\n",
            "{'政府', '中華民國', '島嶼', '太平島', '主權', '太平', '中華民國政府'} set()\n",
            "{'音階', '詩詞'} set()\n",
            "{'自然', '工具', '現象', '人類', '好奇', '人', '生物'} {'人'}\n",
            "{'臺灣', '阿美族'} set()\n",
            "{'印度', '組合', '吠陀', '系統', '印度教', '歐羅巴', '語言系屬分類', '印度教神話'} {'吠陀梵語', '娑摩吠陀', '吠陀', '印度教神話'}\n",
            "{'SETI@home'} {'SETI@home', '地震捕手網絡', '搜尋地外文明計劃', 'SHGb02+14a無線電信號', 'Astropulse'}\n",
            "{'艾伯特縣', '科羅拉多州', '東部', '艾伯特_(科羅拉多州)', '政區首長', '美國', '艾伯特縣_(科羅拉多州)'} {'艾伯特縣'}\n",
            "{'中國', '羅盤方位', '絲綢之路'} {'絲綢之路巡禮名曲集', '絲綢之路'}\n",
            "{'金融危機', '亞洲', '亞洲金融風暴', '現代集團', '鄭周永', '危機', '兒子', '公司'} {'現代集團'}\n",
            "{'基督教神學', '基督教', '神學', '聖子', '聖靈', '和子說', '聖父'} {'耶和華見證人和三位一體', '聖子', '聖靈', '和子說', '聖父'}\n",
            "{'基督教', '猶太教與基督教', '猶太教', '新約', '聖經'} {'聖經批評', '猶太教與基督教', '聖經研究', '新約聖經', '聖經'}\n",
            "{'海衛十', '衛星', '行星'} set()\n",
            "{'音樂學院', '巴黎', '家庭', '阿希爾克洛德·德彪西'} set()\n",
            "{'衛星', '柯伊伯帶', '仙女座星系', '傑拉德·柯伊伯', '矮行星', '行星', '星系', '仙女座'} {'仙女座υb', '天大將軍六', '仙女座X', '仙女座V', '仙女座IV'}\n",
            "{'春秋_(書)', '春秋', '穀梁傳'} {'公羊傳', '春秋三傳', '穀梁傳'}\n",
            "{'石器時代', '石器', '小米'} {'石器', '中國中石器文化列表', '中石器時代'}\n",
            "{'計算機科學', '原理', '分支', '密碼學'} {'信息論', '密碼學'}\n",
            "{'母親', '仁皇后', '孝恭仁皇后', '雍正帝'} {'仁皇后'}\n",
            "{'喬治·坎寧', '喬治三世', '疾病', '喬治·桑普森', '組織', '喬治·桑', '三氧化二砷'} {'喬治三世'}\n",
            "{'苯乙烯', '烴', '乙烯', '芳香烴', '苯'} {'苯乙烯', '二苯乙烯酮', '二乙烯酮', '乙烯', '乙酸乙烯酯'}\n",
            "{'各地LGBT權利', '案', '艾根訴加拿大案', '奧林·艾根', '曼弗雷德·艾根', '加拿大', '美國', '法官'} set()\n",
            "{'J·D·德魯', '德魯大學', '新澤西州'} {'德魯大學'}\n",
            "{'劉聰', '昭武帝', '政權', '劉淵', '國號', '漢趙', '漢', '君主制'} {'漢趙'}\n",
            "{'行憲紀念日', '行憲', '聖誕節', '教會學校'} {'行憲紀念日'}\n",
            "{'望遠鏡', '自然科學'} {'自然科學', '國家自然科學獎'}\n",
            "{'蛇', '二胡'} set()\n",
            "{'雷神', '雷神_(電影)', '費爾南多·索爾', '神話', '日本神話', '索爾', '神', '索爾_(漫威漫畫)', '日本'} {'索爾'}\n",
            "{'糖尿病', '桂皮'} {'抗糖尿病藥'}\n",
            "{'貓', '馬島長尾狸貓', '狸'} set()\n",
            "{'富士', '菲律賓', '身', '貴之富士三造'} set()\n",
            "{'兒童', '埃文河畔斯特拉特福', '斯特拉特福_(安大略省)', '雙胞胎', '英國', '威廉·莎士比亞', '演員'} {'威廉·莎士比亞', '埃文河畔斯特拉特福', '皇家莎士比亞劇團'}\n",
            "{'複數_(數學)', '數', '分鐘'} {'數學符號', '分鐘'}\n",
            "{'兄弟姊妹', '馬世莉', '心肌梗死'} set()\n",
            "{'最短路問題', '短路', '路', '研究', '數學', '問題', '算法'} {'最短路問題', 'Floyd-Warshall算法', '戴克斯特拉算法', '代數組合學'}\n",
            "{'中華人民共和國鐵路車站', '站', '新槐站'} {'臺灣鐵路管理局車站等級'}\n",
            "{'商輅', '明憲宗', '政治', '明朝政治', '明朝', '李賢_(大學士)'} {'明憲宗'}\n",
            "{'麥', '小麥', '米', '稻', '玉米', '糧食', '世界', '歷史'} {'小麥', '稻', '玉米'}\n",
            "{'颱風', '氣候'} set()\n",
            "{'核心', '人類', '社會', '家庭', '核心家庭'} {'家庭', '核心家庭', '大家庭'}\n",
            "{'制度', '勳章', '榮譽', '成就_(電子遊戲)', '英國', '服務', '英國授勳及嘉獎制度', '個體'} {'英國授勳及嘉獎制度', '爵士', '馬來西亞聯邦授勳及嘉獎制度'}\n",
            "{'東帝汶'} {'東帝汶總統', '1991年阿塞拜疆獨立公投', '2006年黑山獨立公投', '東帝汶歷史', '英國歐共體成員身份公投'}\n",
            "{'馬克思主義', '馬克思·多爾穆瓦站', '格魯喬·馬克思', '卡爾·馬克思', '馬克思主義政治經濟學', '資本論', '政治經濟學', '海因裏希·馬克思'} {'馬克思主義政治經濟學', '資本論', '河上肇', '女人資本論'}\n",
            "{'軟件開發', '語言', '程式', '軟件'} {'系統軟件', '開源硬件'}\n",
            "{'電流', '流', '直流電', '訓練', '技術', '交流電', '變流技術'} {'電力電子學', '直流-直流轉換器', '變流技術'}\n",
            "{'種子', '胚珠', '植物', '子房', '種子植物'} {'裸子植物', '子房', '珠被'}\n",
            "{'特別攻擊隊', '資源_(計算機科學)', '跟蹤支援隊', '力_(佛教)', '同盟國_(第二次世界大戰)', '日本'} set()\n",
            "{'蔡卓妍', '香港', '舞者', '盛·舞者', '大溫哥華', '溫哥華'} set()\n",
            "{'藝術家', '力學', '保羅·狄拉克', '量子力學', '數學'} {'格拉斯曼數', '保羅·狄拉克', '狄拉克方程式'}\n",
            "{'香港', '西區', '聖保羅書院', '女性', '學校'} {'符潤光'}\n",
            "{'基因表現', '細菌', '功能', '基因'} {'功能和聲', '基因表現'}\n",
            "{'阿薩姆邦', '那加蘭邦', '新移民', '邦', '移民', '印度', '人口'} {'七姐妹邦', '那加蘭邦', '那加蘭邦行政區劃'}\n",
            "{'特別攻擊隊', '資源_(計算機科學)', '跟蹤支援隊', '力_(佛教)', '同盟國_(第二次世界大戰)', '日本'} set()\n",
            "{'人造衛星', '衛星', '氣象衛星', '地球', '天氣'} {'向日葵系列衛星', '風雲系列衛星', '氣象衛星', '天氣預報', '地球觀測衛星'}\n",
            "{'北马里亞納羣島', '屬地', '邦', '太平洋', '美國'} set()\n",
            "{'東漢', '年齡', '晟碟公司'} set()\n",
            "{'氣體', '澱粉', '啤酒', '酒', '飲料'} {'啤酒', '華潤啤酒', '拉格啤酒', '自釀啤酒'}\n",
            "{'歐洲民族', '腳趾', '歐洲', '民族', '指', '國家'} set()\n",
            "{'政府', '護照', '中央政府', '旅行證件'} {'護照', '旅行證件'}\n",
            "{'解脫道', '佛', '師', '上座_(佛教)', '上座部', '佛教', '菩薩', '解脫', '上座部佛教'} {'上座部佛教', '菩薩道'}\n",
            "{'MacOS'} {'MacOS版本歷史'}\n",
            "{'環', '奧迪'} {'茨維考', '奧迪'}\n",
            "{'馬克思主義', '馬克思·多爾穆瓦站', '格魯喬·馬克思', '卡爾·馬克思', '馬克思主義政治經濟學', '資本論', '政治經濟學', '海因裏希·馬克思'} {'河上肇', '馬克思主義政治經濟學', '政治經濟學批判大綱', '資本論', '伊拉里昂·伊格納切維奇·考夫曼'}\n",
            "{'兄弟姊妹', '齊豫', '科學家', '齊秦'} {'齊豫'}\n",
            "{'第二次世界大戰', '導航', '世界大戰', '慣性', '麻省理工學院', '雷達', '冷戰', '慣性導航系統'} {'麻省理工學院工學院'}\n",
            "{'非建制', '非建制地區', '建制', '希登瓦利_(印地安納州)', '埃爾多拉多_(加利福尼亞州)', '埃爾多拉多縣', '地區'} {'埃爾多拉多縣'}\n",
            "{'衛星', '木衛四', '衛', '木材', '木星的衛星'} {'木衛四表面特徵列表', '木衛四'}\n",
            "{'生物多樣性', '戰略', '生物多樣性公約', '破壞'} {'生物多樣性國際日', '生物多樣性公約', '生物多樣性行動計劃', '坎昆宣言', '超級生物多樣性國家同盟'}\n",
            "{'古羅馬', '神廟', '古代_(上加龍省)', '希臘', '拜占庭', '羅馬', '塑像', '古希臘'} set()\n",
            "{'湖南省_(中華民國)', '懷化市', '地級市', '中華人民共和國', '市', '湖南省'} {'懷化市第三中學', '中華人民共和國地級市列表', '懷化市'}\n",
            "{'中東', '醜聞', '伊拉克', '戰爭', '伊拉克戰爭', '美國'} {'伊拉克空軍', '伊拉克戰爭'}\n",
            "{'臺北市立建國高級中學'} {'臺北州立臺北第一中學校'}\n",
            "{'西廂記', '王實甫'} {'牆頭馬上', '紅娘', '王實甫', '吟風閣雜劇', '西廂記'}\n",
            "{'赤足', '心理作用', '路'} {'赤足根蟎'}\n",
            "{'水木', '水木清華BBS', 'BBS', '關站', '中國', '知名度', '中國大陸'} {'水木', '水木清華BBS', '水木社區', '芙蓉姐姐', '天津大學BBS'}\n",
            "{'萬華區', '松山區', '臺北市', '臺北市萬華區老松國民小學', '小學'} {'臺北市萬華區新和國民小學', '臺北市萬華區雙園國民小學', '臺北市松山區松山國民小學', '臺北市萬華區老松國民小學', '臺北市萬華區大理國民小學'}\n",
            "{'首飛', '郵輪', '1912年', '泰坦尼克號', '英國皇家郵輪', '英國', '紐約'} {'鐵達尼號音樂家', '泰坦尼克號紀念燈塔', '英國皇家郵輪'}\n",
            "{'科技公司', '國', '臺灣', '英業達集團'} {'英業達集團'}\n",
            "{'華南師範大學'} {'華南師範大學附屬中學', '華南師範大學'}\n",
            "{'民族主義', '若昂·費雷拉·佛朗哥·平託·卡斯特洛布蘭科', '弗朗西斯科·佛朗哥', '佛朗哥·裏卡爾迪', '西班牙第二共和國', '傑斯·佛朗哥', '韋羅妮卡·佛朗哥', '西班牙', '伊塔馬爾·佛朗哥'} {'西班牙共和國', '西班牙共和國流亡政府'}\n",
            "{'喬治·弗洛伊德之死引發的示威活動', '喬治·赫伯特·沃克·布什', '喬治·羅傑斯·克拉克', '伯茲克里克_(喬治亞州)', '喬治·華盛頓', '喬治亞州'} set()\n",
            "{'父親', '水稻', '稻', '雜交水稻', '中國', '袁隆平'} {'小行星8117', '雜交水稻國家重點實驗室', '湖南雜交水稻研究中心', '袁隆平', '果靖霖'}\n",
            "{'魯普薩烏帕齊拉', '孟加拉國', '烏帕齊拉'} {'米塔馬因烏帕齊拉', '謝瓦拉亞烏帕齊拉', '法蒂克恰阿里烏帕齊拉', '魯普薩烏帕齊拉', '烏帕齊拉'}\n",
            "{'美術館', '臺灣', '半官方機構', '中西區_(臺灣)', '西區_(臺南市)', '臺南市美術館', '臺南市', '中西區'} {'國立西洋美術館', '臺南市美術館'}\n",
            "{'中國國民黨', '參選人', '蔡英文'} {'2019年堺市長選舉'}\n",
            "{'省會_(越南)', '波蘭', '海港', '格但斯克', '波美拉尼亞省_(普魯士)', '岸', '波美拉尼亞', '城市'} {'格但斯克'}\n",
            "{'千與千尋'} set()\n",
            "{'人種', '首都', '新西蘭', '城市', '大洋洲', '惠靈頓'} {'惠靈頓'}\n",
            "{'孔慶翔', '偶像', '美國偶像'} {'孔慶翔'}\n",
            "{'政治', '臺灣', '琉球', '琉球嶼', '古代史'} {'琉球歷史', '小琉球三隆宮', '琉球鄉'}\n",
            "{'楊素', '隋煬帝', '舉事'} set()\n",
            "{'元智大學', '班長', '兒子', '組織創始人'} {'班長'}\n",
            "{'敘事詩', '奧德賽', '荷馬', '史詩', '荷馬史詩', '伊利亞特', '歐洲', '傳說', '路德維希·範·貝多芬', '古希臘'} {'伊利亞特', '荷馬', '荷馬史詩', '荷馬詩頌'}\n",
            "{'昆蟲', '動物', '蛛形綱'} {'香港純蛛', '蛛形綱'}\n",
            "{'漢族', '少數民族', '中國'} {'中國少數民族漢語水平等級考試', '全國少數民族文學創作駿馬獎', '在臺大陸少數民族', '少數民族'}\n",
            "{'人權', '國際LGBTI聯合會', '行爲', '身體', '性別特徵'} set()\n",
            "{'營養', '糧食', '澱粉'} {'宏量營養素', '人類鐵代謝', '營養學', '營養', '五大營養素'}\n",
            "{'木星', '木星的衛星', '衛星', '木衛四'} {'木衛五十三', '木衛五十二', '木衛五十', '伽利略衛星', '木衛五十一'}\n",
            "{'地區', '美國', '芝加哥', '倒數'} set()\n",
            "{'楊素', '隋煬帝', '舉事', '御座'} set()\n",
            "{'中華人民共和國外交', '外交', '詞', '大國外交', '1940年代', '國', '年代', '大國'} {'中華人民共和國外交', '大國外交'}\n",
            "{'吳天威'} {'吳天威'}\n",
            "{'伊藤洋華堂'} {'伊藤洋華堂', '鈴木敏文'}\n",
            "{'城市', '鍾祥市', '歷史'} set()\n",
            "{'伍迪·艾倫', '艾倫'} {'六場危事'}\n",
            "{'錢偉長', '力學', '應用數學', '數學'} {'錢偉長', '路德維希·普朗特'}\n",
            "{'向日葵', '雙子葉植物', '科', '子葉', '植物', '花序', '真雙子葉植物', '太陽'} {'向日葵', '太陽花'}\n",
            "{'臺北', '神仙·老師·狗', '臺北市立聯合醫院', '教師', '院長', '聯合醫院', '醫院', '新北市政府'} {'臺北市立聯合醫院', '臺北市政府衛生局', '臺南市政府衛生局', '聯合醫院', '臺北市立萬芳醫院'}\n",
            "{'重量', 'IPad'} {'IPad'}\n",
            "{'街頭籃球', '籃球'} {'街頭籃球'}\n",
            "{'支流', '珠江三角洲', '珠江', '三角洲'} {'珠江三角洲'}\n",
            "{'赤足', '平衡木'} set()\n",
            "{'植物', '新生代', '哺乳動物', '被子植物'} {'新生代'}\n",
            "{'星系', '影片', '類星體'} {'HE0450-2958'}\n",
            "{'出生', '馬島長尾狸貓', '狸'} set()\n",
            "{'陳寅恪', '語言', '清華大學', '梁啓超', '中華民國大陸時期', '江西省_(中華民國)', '趙元任', '南昌府', '王國維'} {'陳寅恪'}\n",
            "{'總統', '共和黨_(美國)', '加利福尼亞州州長', '加利福尼亞州', '美國總統', '政區首長', '政治家', '美國'} {'加利福尼亞州州長'}\n",
            "{'桃園市', '直轄市', '中華民國', '直轄市_(中華民國)', '面積', '西', '臺灣海峽', '市_(中華民國)'} {'桃園市'}\n",
            "{'高安公寓', '廣州_(古代)', '康平路', '號', '公寓'} {'高安公寓', '衛樂公寓', '西湖公寓', '建國公寓', '公寓'}\n",
            "{'差異_(哲學)', '彗星', '大小', '天文單位'} set()\n",
            "{'冰', '岩石', '水', '天衛四', '核', '地殼'} {'天衛四'}\n",
            "{'冰島', '首都', '國內', '城市', '南端', '世界'} {'中國首都', '首都足球會', '冰島國立博物館', '多首都國家', '冰島歷史'}\n",
            "{'木衛三十八', '衛', '夏威夷大學', '木材', '木星的衛星', '木衛三'} {'木衛三十八', '斯科特·謝潑德', '木衛五十三', '木衛五十'}\n",
            "{'氣味', '花茶', '花', '茶'} {'新茶鄉', '花茶'}\n",
            "{'機場', '小時', '全球', '24小時', '世界', '香港國際機場'} {'香港國際機場'}\n",
            "{'歌手', '黃子韜', '歌手·當打之年', '中國'} {'周覓', '黃子韜'}\n",
            "{'臺灣時報', '1909年'} {'看守臺灣協會'}\n",
            "{'季節', '星期六'} {'星期六'}\n",
            "{'美國英語', '語言', '文化', '英語', '美國'} {'美國英語', '美式機車'}\n",
            "{'洞_(小說)', '農', '瑤池', '西王母', '洞天'} {'瑤池'}\n",
            "{'漢名', '時代雜誌', '卑南族', '19_(蔡旻佑專輯)', '張惠妹', '時代', '名_(人名)'} {'張惠妹音樂作品列表'}\n",
            "{'李賦寧', '教育家', '死亡', '癌症', '中國'} {'李賦寧', '李賦都'}\n",
            "{'數學家', '查理·卓別林'} {'小查理·卓別林', '悉尼·厄爾·卓別林', '摩登時代', '漢娜·卓別林', '悉尼·約翰·卓別林'}\n",
            "{'姓', '隋書', '昭武九姓', '昭武', '訊息'} set()\n",
            "{'香港聖公會', '男性', '聖保羅書院'} {'史超域'}\n",
            "{'樂山大佛', '大佛', '90年'} {'樂山大佛'}\n",
            "{'餅乾', '乾酪'} {'威爾士乾酪', '乾酪白汁'}\n",
            "{'朱塞佩·威爾第', '處女作', '喜劇'} {'朱塞佩·威爾第'}\n",
            "{'美國', '抄襲', '維基百科'} {'韓語維基百科', '英語維基百科'}\n",
            "{'差異_(哲學)', '洲', '雉雞', '羽毛'} {'雉雞'}\n",
            "{'作曲家', '著作權', '版稅', '作品', '音樂出版社', '詞曲作家'} {'上海音樂出版社', '廣播音樂公司', '音樂出版社'}\n",
            "{'賽博格', '再造人卡辛', '龍之子製作', '龍', '子'} {'再造人卡辛'}\n",
            "{'馬龍·白蘭度', '演員', '馬龍·馬利奧·白蘭度·達·施維拉', '動畫'} set()\n",
            "{'香港聖公會', '基督教', '聖保羅書院'} {'符潤光', '史超域', '聖保羅堂', '聖公會港澳教區', '香港聖公會澳門傳道地區'}\n",
            "{'哈根', 'ATP', '米夏埃爾·科爾曼', '今天', '雙打'} {'彼得·高若尼茲克', '阿爾伯特·蒙塔涅斯', '米夏埃爾·施蒂希', '米夏埃爾·科爾曼', '約翰·皮爾斯'}\n",
            "{'顏色', '流星'} {'散亂流星', '流星', '流星人間'}\n",
            "{'石器時代', '人類', '文字', '書寫', '史前時代', '石器', '時代', '歷史'} {'史前時代', '中國史前文化', '文字列表', '石器', '中石器時代'}\n",
            "{'城市', '大都市', '美國', '芝加哥'} {'大都市帶', '芝加哥大都市區', '大都市'}\n",
            "{'人口', '馬達加斯加', '生物', '生物多樣性'} set()\n",
            "{'自由', '陳其昌'} {'陳其昌'}\n",
            "{'肉眼', '顯微鏡', '光學顯微鏡'} {'顯微鏡', '數碼顯微鏡'}\n",
            "{'星期', '曼哈頓', '單簧管', '書店', '伍迪·艾倫', '艾倫'} set()\n",
            "{'美術館', '臺灣', '半官方機構', '中西區_(臺灣)', '西區_(臺南市)', '臺南市美術館', '臺南市', '中西區'} {'國立西洋美術館', '臺南市美術館', '原臺南警察署'}\n",
            "{'天體', '機構', '共振', '因爲·愛', '軌道', '太陽系', '軌道共振'} {'軌道共振'}\n",
            "{'中國海洋大學', '海洋大學', '教育部', '1924年', '中國', '大學', '學術領域大綱'} {'中國海洋大學', '廣東海洋大學', '中國海洋大學出版社', '海洋大學'}\n",
            "{'菌', '真核生物', '生物', '粗糙擬迷孔菌', '核'} {'粗糙擬迷孔菌'}\n",
            "{'四川省', '五糧液', '地級市', '宜賓市', '市', '酒'} set()\n",
            "{'京菜', '粵菜'} set()\n",
            "{'沙皇', '俄羅斯人', '治理', '民主革命', '1917', '1917年', '亞歷山大·克倫斯基', '俄羅斯'} {'克倫斯基攻勢', '非裔俄羅斯人', '亞歷山大·克倫斯基'}\n",
            "{'威尼斯', '電影節', '二二八事件', '威尼斯電影節', '事件', '侯孝賢', '電影'} set()\n",
            "{'企業', '工具', '決策', 'BI'} set()\n",
            "{'泉州港', '中國東部經濟區', '泉州市', '泉州_(消歧義)', '中國'} {'泉州港'}\n",
            "{'全羅北道', '羅', '聯合國教育、科學及文化組織', '州', '朝鮮半島', '首府'} {'聯合國教科文組織分類法', '全羅北道', '聯合國教科文科學技術統計工作手冊的分類法', '全州市', '聯合國教科文組織吉列爾莫·卡諾世界新聞自由獎'}\n",
            "{'魯普薩烏帕齊拉', '孟加拉國', '烏帕齊拉'} {'米塔馬因烏帕齊拉', '謝瓦拉亞烏帕齊拉', '阿克爾普爾烏帕齊拉', '魯普薩烏帕齊拉', '烏帕齊拉'}\n",
            "{'亞洲', '非洲', '紅寶石', '寶石', '澳大利亞', '洲', '工業'} {'紅寶石'}\n",
            "{'臺北', '川端町', '行政區劃', '河', '臺灣', '郊區', '臺灣日治時期', '臺北市'} {'川端町'}\n",
            "{'中芯國際', '電路', '集成電路', '總部', '中國', '晶圓', '上海市'} {'兆芯', '中芯國際', '半導體廠商銷售排名', '集成電路設計', '超大規模集成電路'}\n",
            "{'部落', '2021', '滾石_(雜誌)', '卑南族', '卑南鄉', '公共汽車', '張惠妹', '大巴六九部落'} {'大巴六九山', '張惠妹音樂作品列表', '巴代', '下賓朗部落', '大巴六九部落'}\n",
            "{'內戰', '西班牙內戰', '弗朗西斯科·佛朗哥', '政權', '大元帥', '西班牙', '國民軍_(西班牙)', '弗朗西斯科', '國民軍'} {'西班牙內戰', '拉蒙·佛朗哥', '弗朗西斯科·佛朗哥獨裁', '西班牙第二共和國', '西班牙共和國流亡政府'}\n",
            "{'鄱陽湖', '鹹水湖'} {'德勒湖', '鄱陽湖平原', '鄱江'}\n",
            "{'軟件開發', '軟件', '編程語言'} {'軟件開發', '集成開發環境', '工具鏈', '軟件開發工具', '程序設計'}\n",
            "{'境', '桃園市', '中華民國', '面積', '西', '臺灣海峽'} {'桃園市', '桃園市議會'}\n",
            "{'臺北', '臺北市立聯合醫院', '新北市政府', '老公', '院長', '聯合醫院', '醫院', '新北市'} {'臺北市立聯合醫院', '臺北市政府衛生局', '臺南市政府衛生局', '聯合醫院', '臺北市立萬芳醫院'}\n",
            "{'音癡', '梁朝偉', '癡_(佛教)'} set()\n",
            "{'流行病學', '因果關係', '機體', '疾病'} {'流行病學', '地景流行病學', '病理學'}\n",
            "{'天體', '共振', '太陽系', '軌道共振'} {'林達博共振', '共振海王星外天體', '長期共振', '軌道共振', '柯克伍德空隙'}\n",
            "{'分類學', '鳥', '日本鶺鴒', '雀形目', '生物分類學', '科_(生物)', '日本', '鶺鴒科', '目_(生物)'} {'鶺鴒屬', '日本鶺鴒', '山鶺鴒', '東方黃鶺鴒', '鶺鴒科'}\n",
            "{'柏拉圖學院', '希臘', '古代史', '古希臘哲學', '柏拉圖', '伊比鳩魯學派', '亞里士多德', '古希臘', '哲學'} {'新柏拉圖主義', '古希臘哲學', '亞里斯多德主義', '柏拉圖', '柏拉圖學院'}\n",
            "{'政府', '護照', '中央政府', '旅行證件'} {'護照'}\n",
            "{'麥', '米', '稻', '玉米', '糧食', '世界'} {'玉米'}\n",
            "{'美國', '阿美族'} {'阿美族', '阿美語', '美國原住民'}\n",
            "{'重元素', '鍀', '壽命', '恆星', '巨星', '最長壽者', '紅巨星', '同位素'} {'鍀'}\n",
            "{'海盆', '碟', '日本海', '海', '日本'} {'日本海', '酒海紀', '阿拉伯海盆', '海盆', '北極海盆'}\n",
            "{'臺北101', '唐朝'} set()\n",
            "{'第二國際', '第一次世界大戰', '國際'} set()\n",
            "{'因數', '質數'} {'質數階乘', '質數列表', '因數基底', '合數', '質數冪'}\n",
            "{'美國人', '伯頓', '蒂姆·伯頓'} {'蒂姆·伯頓'}\n",
            "{'國際足球聯合會', '城市', '2006年', '美國'} {'國際足協世界盃', '國際足協U-17世界盃', '國際足協U-20女子世界盃', '國際足協U-20世界盃'}\n",
            "{'陶瓷', '電', '電子陶瓷', '位移', '材料', '電荷'} {'陶瓷基複合材料', '陶瓷', '電子陶瓷', '介電陶瓷'}\n",
            "{'海', '山東省', '淄博市'} set()\n",
            "{'馬克思主義', '馬克思·多爾穆瓦站', '格魯喬·馬克思', '卡爾·馬克思', '馬克思主義政治經濟學', '資本論', '政治經濟學', '海因裏希·馬克思'} {'馬克思主義政治經濟學', '資本論', '河上肇', '女人資本論'}\n",
            "{'海衛十', '衛星', '太陽系', '行星'} {'太陽系天體大小列表'}\n",
            "{'印度人民黨', 'FDA_(消歧義)'} set()\n",
            "{'頭', '科學', '古代史', '古埃及', '外科學', '埃及', '木乃伊'} {'關切人的木乃伊', '外科學'}\n",
            "{'質量'} {'作業系統歷史年表', '行動作業系統'}\n",
            "{'幻想', '性幻想', '現實'} {'性幻想'}\n",
            "{'國立中央大學_(南京)', '師範學校', '南京市', '倪尚達', '學校'} {'國立武昌高等師範學校'}\n",
            "{'共和黨', '社會'} set()\n",
            "{'紐約州', '紐約州州長', '共和黨_(美國)', '政治家', '政區首長'} set()\n",
            "{'歐洲聯盟'} {'歐洲聯盟專門機構'}\n",
            "{'國務院', '新華網', '中國', '新華社', '事業單位', '網站'} {'新華社莫斯科分社', '新華網', '新華社布拉格分社', '新華社', '新華社平壤分社'}\n",
            "{'盧卡斯·迪奧多斯基', '足球'} {'盧卡斯·迪奧多斯基'}\n",
            "{'SETI@home', '程序'} {'SETI@home', '搜尋地外文明計劃'}\n",
            "{'指南車', '王天木'} {'王天錫'}\n",
            "{'晶體', '化合價', '硫'} {'硫', '亞鐵', '金化合物'}\n",
            "{'亞穆蘇克羅', '科特迪瓦', '車站', '阿比讓', '蘇克_(卑詩省)', '月臺'} {'亞穆蘇克羅', '天主教亞穆蘇克羅教區', '科特迪瓦', '和平之後大殿', '阿比讓非洲體育會'}\n",
            "{'臺灣', '城市', '基隆市'} {'基隆市公車'}\n",
            "{'人類', '雞', '野生火雞', '馴化', '火雞', '飛行'} {'鵝', '雞'}\n",
            "{'蘇格拉底', '前蘇格拉底哲學', '哈芝芝·諾', '希臘', '埃利亞的芝諾', '芝諾', '蘇格拉底·布拉濟萊羅·奧利維拉', '古希臘'} {'克里安西斯', '斯法埃魯斯', '芝諾', '季蒂昂的芝諾', '基提翁'}\n",
            "{'民意代表', '臺北市_(省轄市)', '民國', '臺北市', '謝長廷', '臺北市議員列表', '身分標識方式'} {'臺北市議員列表'}\n",
            "{'現象', '姓', '唐朝', '馬丁·路德·金', '金', '漢姓', '安東尼·西尼蘇卡·金廷', '衫'} {'安東尼·西尼蘇卡·金廷'}\n",
            "{'許世友', '中國武術', '武術', '中國'} {'許家窪', '中國武術段位制'}\n",
            "{'查理·卓別林', '偶像_(日本)'} {'小查理·卓別林', '悉尼·厄爾·卓別林', '摩登時代', '漢娜·卓別林', '悉尼·約翰·卓別林'}\n",
            "{'泉州港', '港埠都市', '港口', '中國東部經濟區', '泉州市', '泉州_(消歧義)', '中國'} {'泉州港', '泉州市'}\n",
            "{'照相機', '時間', '分辨率', '數碼相機', '市場', '功能'} {'數碼相機'}\n",
            "{'臺北', '臺北101', '90年'} {'90年代', '前90年代'}\n",
            "{'天子', '因果關係', '楊貴妃', '唐玄宗', '綾羅綢緞', '王朝的女人·楊貴妃', '安史之亂', '綾'} {'楊貴妃'}\n",
            "{'校友', '影視公司', '麻省理工學院', '全球', '公司'} {'麻省理工學院理學院', '麻省理工學院工學院'}\n",
            "{'臺中市', '臺中市政府', '臺中市政府陽明大樓', '豐原區', '辦公室'} {'臺中市政府勞工局', '臺中市政府衛生局', '臺中世界花卉博覽會辦公室', '臺中市政府陽明大樓', '臺中市豐原區翁子國民小學'}\n",
            "{'指甲', '纖維', '折射率', '光導纖維'} {'指甲蘭', '扇脣指甲蘭', '香花指甲蘭', '光導纖維'}\n",
            "{'學校', '倪尚達', '師範學校', '1915年'} {'高等師範學校', '1915年體育', '國立武昌高等師範學校'}\n",
            "{'講談社', '講談社·中國的歷史', '榮譽', '三年坂火之夢', '2006年', '日本'} {'講談社BOX', '虛構推理', '三年坂火之夢'}\n",
            "{'臺南市立安平水產專修學校', '臺南市', '日治時期'} {'臺南市立安平水產專修學校'}\n",
            "{'徐志摩', '家庭', '英國', '志摩'} {'徐志摩', '徐志摩墓'}\n",
            "{'罪', '尊嚴', '議會', '火星', '國家'} {'火星車'}\n",
            "{'立法院立法委員選舉', '臺灣', '全國不分區及僑居國外國民立法委員選舉區', '2020', '劉一德', '臺灣團結聯盟', '主席', '政黨領袖'} {'劉一德', '臺灣團結聯盟'}\n",
            "{'日本', '煉武臺站'} {'1958年', '江景線', '煉武臺站'}\n",
            "{'非洲', '面', '南部', '摩納哥', '法國', '法國南部'} {'南部', '摩納哥', '摩納哥巖'}\n",
            "{'德國', '總部', '奧迪'} {'東風汽車集團股份有限公司', '英國汽車控股', '意大利設計-喬治亞羅公司', '奧迪A3'}\n",
            "{'尤里·勃列日涅夫', '列昂尼德·勃列日涅夫', '安德烈·尤里耶維奇·勃列日涅夫', '政治局'} {'朝鮮勞動黨中央委員會政治局', '安德烈·尤里耶維奇·勃列日涅夫', '列昂尼德·勃列日涅夫所獲獎項列表'}\n",
            "{'劇場', '莫斯科', '莫斯科大劇院', '芭蕾舞', '天鵝湖'} {'芭蕾舞劇列表', '莫斯科大劇院', '天鵝湖', '尤里·西蒙諾夫'}\n",
            "{'漢語', '沙漠', '袖章', '黑紗'} {'袖章', '黑紗'}\n",
            "{'物理學', '吳健雄', '會長', '世界'} {'美國物理學會', '吳健雄學院'}\n",
            "{'日治時期', '卑南莊', '臺東飛行場', '第二次世界大戰'} {'臺東飛行場'}\n",
            "{'網頁郵件', '產品', '互聯網', '郵件_(Windows)', 'Google', '服務'} {'Google搜索', '網頁郵件'}\n",
            "{'普利策獎'} {'蔣中正遺囑', '普利策歷史獎', '普利策戲劇獎'}\n",
            "{'天衛三', '湖泊', '面_(幾何)'} {'天衛三'}\n",
            "{'臺北市', '城'} set()\n",
            "{'第18屆金馬獎', '中華電視公司', '攝錄', '國家兩廳院', '金馬獎', '蕭芳芳', '金馬獎頒獎典禮', '高雄市'} {'第18屆金馬獎'}\n",
            "{'月', '星期一', 'Gmail'} {'體育之日', 'Gmail'}\n",
            "{'月', 'Gmail'} {'Gmail', 'GmailFS'}\n",
            "{'印象派', '法國', '1000'} {'1870年美國', '那比派'}\n",
            "{'中國國民黨', '朱立倫', '蔡英文'} {'朱立倫', '習朱會', '朱立倫市府', '2019年堺市長選舉'}\n",
            "{'睡眠', '代謝途徑', '能量', '高分子', '分子', '小分子', '代謝'} {'同化作用', '嘌呤代謝'}\n",
            "{'萬華區', '臺北市', '臺北市萬華區老松國民小學'} {'臺北市萬華區新和國民小學', '剝皮寮', '臺北市萬華區西園國民小學', '臺北市萬華區雙園國民小學', '臺北市萬華區老松國民小學'}\n",
            "{'黑龍江', '黃帝', '三苗', '傳說', '傳說_(2010年電視劇)', '禹', '中國', '舜', '堯', '時代'} {'中國傳說時代君主列表'}\n",
            "{'國立中央大學_(南京)', '師範學校', '南京市', '倪尚達', '1915年', '學校'} {'1915年體育', '國立武昌高等師範學校'}\n",
            "{'非建制', '非建制地區', '埃爾多拉多_(堪薩斯州)', '建制', '數', '埃爾多拉多縣', '希登瓦利_(加利福尼亞州埃爾多拉多縣)', '地區'} set()\n",
            "{'國', '一邊一國', '世界', '臺獨'} {'一邊一國', '一邊一國連線'}\n",
            "{'北方邦', '傳統', '南', '北阿坎德邦', '地區', '印度'} {'丹德拉', '北阿坎德邦行政區劃', '北阿坎德邦'}\n",
            "{'廣州白雲國際機場', '傳染病', '2019年', '2019冠狀病毒病疫情', '國內', '機場', '白雲', '2019冠狀病毒病'} {'廣州白雲國際機場', '2019冠狀病毒病巴基斯坦疫情', '2019冠狀病毒病疫情全球反應與影響', '全球機場客運量列表', '2019冠狀病毒病疫情相關條目索引'}\n",
            "{'洞天', '洞_(小說)', '瑤池'} {'瑤池'}\n",
            "{'紫荊文化集團', '鳳凰衛視', '投資者', '中央企業'} {'鳳凰衛視香港臺', '鳳凰衛視電影臺', '鳳凰衛視中文臺', '鳳凰衛視相關爭議'}\n",
            "{'顏色', '流星'} {'散亂流星', '流星人間'}\n",
            "{'音樂產業', '竹內瑪莉亞', '1984年', '作品', '1984'} {'司徒夢巖'}\n",
            "{'列夫·托洛茨基', '武力', '蘇聯'} set()\n",
            "{'約翰_(英格蘭國王)', '天佑國王', '約翰·布爾_(作曲家)'} {'天佑國王', '天佑安圭拉'}\n",
            "{'仲夏夜之夢', '緹坦妮雅', '軌道', '天王星', '仲夏夜_(羅文專輯)', '磁層', '天衛三'} {'尼克·博特姆', '奧伯隆', '緹坦妮雅', '磁層', '天衛三'}\n",
            "{'燕山_(消歧義)', '燕山大學', '境', '中國'} set()\n",
            "{'吉米·卡特', '總統', '吉米', '諾貝爾獎', '美國總統', '美國', '卡特'} {'吉米·卡特', '吉米·卡特圖書館暨博物館'}\n",
            "{'政府', '非政府組織', '威爾士王妃', '籌款', '組織', '戴安娜·瑞格', '戴安娜·艾嘉朗', '威爾斯王妃戴安娜'} {'國際反地雷組織'}\n",
            "{'法語', '潘·巴奇利', '潘恩', '迦勒·潘恩', '托馬斯·潘恩', '國民公會', '羅伯特·崔特·潘恩', '克里斯·潘恩'} set()\n",
            "{'人類', '賽普勒斯', '歷史'} {'賽普勒斯問題', '墨西哥歷史', '賽普勒斯鎊', '賽普勒斯', '賽普勒斯教會'}\n",
            "{'盛世', '隋朝', '唐朝', '奠基石'} {'開元盛世', '盛世', '大唐電信', '永樂盛世'}\n",
            "{'蘋果_(消歧義)', '個人電腦', '蘋果公司'} set()\n",
            "{'柏拉圖學院', '希臘', '古代史', '古希臘哲學', '斯多葛主義', '逍遙學派', '伊比鳩魯學派', '古希臘', '哲學'} {'逍遙學派', '古希臘哲學', '新柏拉圖主義', '柏拉圖學院'}\n",
            "{'臺灣清治時期', '臺灣', '軍事組織', '澎湖鎮', '清朝', '軍事', '澎湖羣島', '地區'} {'衛生福利部澎湖醫院', '澎湖廳長', '澎湖縣文化資產', '澎湖鎮', '張其光'}\n",
            "{'政治人物', '字', '星海', '山東省_(中華民國)', '宋潢_(嘉慶壬戌進士)', '山東省'} {'星海街道', '星海街', '胡士相', '葉星海', '星海生活廣場'}\n",
            "{'藩', '行政區劃', '府_(行政區劃)', '潛藩升府', '格式', '宋朝君主列表', '皇帝', '宋朝'} {'潛藩升府', '常德府'}\n",
            "{'京口區', '鎮江市'} {'鎮江經濟技術開發區', '京口區', '潤州區', '京口閘遺址', '江蘇省鎮江第一中學'}\n",
            "{'文學', '革命', '秦腔', '1966年', '無產階級', '普羅文學'} {'秦腔', '劉毓中', '小林多喜二', '柳萍', '1966年體育'}\n",
            "{'神話', '吠陀', '民族', '作品', '印度教', '印度', '印度教神話'} {'吠陀梵語', '吠陀', '印度教神話'}\n",
            "{'家庭', '阿希爾克洛德·德彪西'} set()\n",
            "set() set()\n",
            "{'臺灣', '民意代表', '代表'} set()\n",
            "{'編年體', '司馬光', '西晉', '司馬孚'} {'司馬光', '司馬瓌', '司馬顒'}\n",
            "{'鑽石', '樞要寶石', '今天', '硬度'} {'鑽石', '祖母綠', '樞要寶石', '硬度試驗'}\n",
            "{'籃球'} {'三對三世界盃籃球賽'}\n",
            "{'素描'} {'素描'}\n",
            "{'華南師範大學', '廣東省', '學院', '華南地區', '學校'} {'華南師範大學附屬中學', '華南師範大學'}\n",
            "{'錫克人', '旁遮普邦', '錫', '克', '錫克教', '信徒'} {'錫克教'}\n",
            "{'新西蘭', '首都', '博物館', '惠靈頓', '世界'} {'惠靈頓'}\n",
            "{'中華人民共和國教育部', '吉林省', '全國重點大學', '教育部', '吉林大學', '中華人民共和國'} {'吉林大學西區', '吉林大學附屬中學', '吉林工業大學', '吉林大學', '中華人民共和國教育部直屬高等學校列表'}\n",
            "{'臺北101', '唐朝'} set()\n",
            "{'天鵝', '創造神', '前鋒', '貝雷特'} set()\n",
            "{'銀川平原', '銀川市', '中部'} {'銀川平原', '石嘴山市', '1739年平羅地震', '銀川市', '銀川專區'}\n",
            "{'大豆'} {'擬大豆', '植酸', '大豆苷'}\n",
            "{'人種', '首都', '新西蘭', '城市', '大洋洲', '文化中心', '大洋洲_(太平洋諸島嶼)', '惠靈頓'} {'惠靈頓'}\n",
            "{'古蹟'} set()\n",
            "{'竹內瑪莉亞', '犬', '山下達郎'} {'山下達郎'}\n",
            "{'節肢動物', '蛛形綱', '蠍子', '蜘蛛', '昆蟲', '門'} {'六足亞門', '蛛形綱', '無鞭目', '觸肢', '序足動物'}\n",
            "{'香港', '人類', '劇集', '香港劇集', '世界'} set()\n",
            "{'總統', '田納西州', '衆議院議長_(日本)', '議長', '政區首長', '奧斯華·波爾克', '詹姆斯·諾克斯·波爾克', '衆議院_(日本)'} {'詹姆斯·諾克斯·波爾克'}\n",
            "{'中華人民共和國勞動人事部', '中華人民共和國'} {'趙守一', '何光', '中華人民共和國人事部', '中華人民共和國勞動人事部', '中華人民共和國勞動和社會保障部'}\n",
            "{'大氣層', '土衛六', '甲烷', '科學家', '生物', '土衛六大氣層'} {'海衛一大氣層', '土衛六大氣層'}\n",
            "{'1987年', '組別_(體育)', '維基百科', '電子藝術大獎'} {'電子藝術大獎'}\n",
            "{'歌手', '蔡卓妍', '香港', '歌手·當打之年', '加拿大'} set()\n",
            "{'分類學', '生物分類學', '鸊鷉科', '屬', '鸊鷉屬', '小鸊鷉', '體型', '小鷿鷈屬'} set()\n",
            "{'楊素', '隋煬帝', '舉事'} set()\n",
            "{'學院', '北京理工大學'} {'華北理工大學'}\n",
            "{'伊斯蘭教', '什葉派', '讓皮埃爾·塞爾', '軍事組織', '軍事', '組織'} {'阿富汗什葉派伊斯蘭教', '2015年貝魯特炸彈襲擊'}\n",
            "{'臺鐵區間車', '載具', '班距', '區間', '臺灣鐵路', '七堵區', '今天', '潮州市'} {'臺鐵區間車'}\n",
            "{'自然', '天體', '超自然現象', '術數', '數', '占卜', '占星術', '訊息'} {'占星術', '占卜'}\n",
            "{'差異_(哲學)', '發動機', '卡路里', '電動機'} {'電動機'}\n",
            "{'弗朗西斯·科波拉', '美國風情畫', '劇本'} {'美國風情畫', '李察·德雷福斯'}\n",
            "{'2006年', '德國', '城市', '國際足球聯合會'} {'國際足協U-17女子世界盃', '國際足協U-20世界盃', '國際足協世界盃', '國際足協U-20女子世界盃', '國際足協U-17世界盃'}\n",
            "{'長頸鹿'} {'90年代', '前90年代'}\n",
            "{'鳩鴿科'} set()\n",
            "{'艾倫·狄珍妮秀', '奧斯卡金像獎', '艾倫·艾佛森', '艾倫·狄珍妮', '獎勵', '英國電影和電視藝術學院', '伍迪·艾倫', '艾倫', '艾倫·鮑絲汀'} {'肯尼斯·洛勒根', '韋斯·安德森', '日本電影學院獎最佳導演獎', '伍迪·艾倫', '英國電影學院獎最佳原創劇本'}\n",
            "{'向日葵', '脫落酸', '花', '雙子葉植物', '科', '子葉', '植物', '真雙子葉植物'} {'向日葵', '太陽花'}\n",
            "{'西部', '自然災害', '薩爾波勒扎哈卜', '伊朗', '地區'} {'薩爾波勒扎哈卜'}\n",
            "{'亞洲', '東北', '北', '地區', '馬爾代夫', '斯里蘭卡'} {'馬爾代夫國家足球隊', '印度叫姑魚'}\n",
            "{'現象', '液體'} {'過冷', '易燃液體', '空穴現象', '液體'}\n",
            "{'密西根大學', '美國'} set()\n",
            "{'劉淵', '國號', '漢趙', '國', '漢'} set()\n",
            "{'北冰洋', '世界洋', '洋', '平均數', '大洋_(消歧義)', '深度', '世界'} {'大洋站', '北冰洋'}\n",
            "{'向日葵', '花', '雙子葉植物', '科', '子葉', '植物', '花序', '真雙子葉植物'} {'向日葵', '太陽花'}\n",
            "{'摩納哥', '地中海'} {'摩納哥', '摩納哥城', '摩納哥巖'}\n",
            "{'烏蘭巴托', '鐵路', '起點', '錫林郭勒盟', '內蒙古自治區', '盟_(行政區劃)', '蒙古國', '縣級市'} {'錫林浩特市', '烏蘭巴托站', '烏蘭巴托', '多倫縣', '二連浩特市'}\n",
            "{'物種', '靈長目'} set()\n",
            "{'哈比人', '小說', '現實', '哈比人歷險記'} {'哈比人'}\n",
            "{'獎勵', '維基百科', '電子藝術大獎'} {'中文維基百科', '韓語維基百科', '英語維基百科', '法語維基百科', '電子藝術大獎'}\n",
            "{'核心', '病房', '家庭', '核心家庭', '單位', '醫院'} {'家庭', '核心家庭', '美國家庭結構'}\n",
            "{'英雄豪傑', '三國', '世界歷史', '文化', '魏晉南北朝', '亂世', '時代', '南北朝'} {'魏晉南北朝'}\n",
            "{'單片機', '微型計算機'} {'單片機'}\n",
            "{'1978年', '輕工業', '北京市', '中華人民共和國紡織工業部', '中國', '1970年', '中華人民共和國', '二輕工業'} {'姜時彥', '中華人民共和國第二輕工業部', '曹魯', '中華人民共和國紡織工業部', '羅日運'}\n",
            "{'獅', '法語', '金湯匙_(電視劇)', '匙', '英國', '紋章', '獨角獸', '湯匙', '英國皇家徽章'} {'威爾斯皇家徽章', '蘇格蘭皇家徽章', '英國皇家徽章'}\n",
            "{'字', '同治', '曾光爔', '四川省_(中華民國)', '邛州', '邛州直隸州', '民國', '本名', '祖籍'} {'邛州', '孫之益', '嘉應直隸州', '曾光爔'}\n",
            "{'史', '歷史書', '丞相', '元朝', '宋史', '中國', '二十四史', '宋'} {'宋史'}\n",
            "{'肖恩·約翰遜', '林登·約翰遜', '內戰', '鮑里斯·約翰遜', '克里斯·約翰遜', '國共內戰', '斯蒂夫·約翰遜', '美國'} set()\n",
            "{'馬歇爾', '喬治·卡特萊特·馬歇爾', '美國陸軍參謀長', '美國陸軍', '參謀長', '戰爭', '陸軍參謀長_(印度)', '美國'} set()\n",
            "{'計算機', '計算機協會', '電子計算機', '科學', '全球', '學會', '世界'} {'計算機協會'}\n",
            "{'行憲紀念日', '行憲', '公務員'} {'行憲紀念日', '先總統蔣公誕辰紀念日'}\n",
            "{'經濟學', '諾貝爾獎', '福利經濟學', '阿馬蒂亞·庫馬爾·森', '印度'} {'阿馬蒂亞·庫馬爾·森'}\n",
            "{'恐怖主義', '奧薩馬·本·拉登', '伊斯蘭教', '1988', '艾山·買合蘇木', '1988年'} {'基地組織', '艾山·買合蘇木'}\n",
            "{'巡洋艦', '英國', '戰爭', '胡德', '胡德號戰列巡洋艦', '戰列巡洋艦', '航空母艦'} {'獅級戰列巡洋艦', '英國皇家海軍航空母艦列表', '皇家海軍戰列巡洋艦列表', '胡德號戰列巡洋艦', '天城級巡洋戰艦'}\n",
            "{'殖民主義', '領土'} set()\n",
            "{'西部', '地區', '薩爾波勒扎哈卜', '伊朗', '地震'} {'2017年兩伊邊境地震', '薩爾波勒扎哈卜'}\n",
            "{'訊息_(蘋果)', '技術', 'SIG', 'ACM'} {'計算機協會', 'ACM學生研究競賽'}\n",
            "{'荷馬', '史詩'} set()\n",
            "{'學校', '目標', '臺南市立安平水產專修學校', '臺南市'} {'臺南市立安平水產專修學校'}\n",
            "{'食物', '茶葉蛋', '茶'} {'茶葉蛋'}\n",
            "{'猛禽', '隼', '隼科', '科'} {'隼形目', '隼', '猛禽'}\n",
            "{'燕山_(消歧義)', '燕山大學', '河北省'} {'趙丁選', '天津科技大學', '郭競坤', '燕山大學', '燕山大學科技園'}\n",
            "{'香港', '香港科技大學', '學校', '科技大學'} {'香港科技大學學生會', '科技大學'}\n",
            "{'千與千尋'} set()\n",
            "{'氰化氫', '水溶液', '頻率', '氰化鋰', '溶液', '鹼', '氰化鈉'} {'氰化鋁', '氰化氫', '氰化銀', '氰化鋰', '氰化鈉'}\n",
            "{'人民', '伊斯蘭教', '伊斯蘭教聖書', '伊斯蘭教法', '行爲', '法律'} {'伊斯蘭教典籍列表', '伊斯蘭教法學', '剛果民主共和國伊斯蘭教', '伊斯蘭教法'}\n",
            "{'馬克思主義', '馬克思·多爾穆瓦站', '格魯喬·馬克思', '卡爾·馬克思', '馬克思主義政治經濟學', '資本論', '政治經濟學', '海因裏希·馬克思'} {'河上肇', '馬克思主義政治經濟學', '政治經濟學批判大綱', '資本論', '伊拉里昂·伊格納切維奇·考夫曼'}\n",
            "{'殖民地'} {'宗主權', '殖民地'}\n",
            "{'偶像', '發展', '交通', '臺灣', '漫展', '臺灣交通', '虛擬偶像'} {'漫展', '紐約漫畫展', '櫻巫女'}\n",
            "{'肥胖症'} set()\n",
            "{'龍虎門', '蚩尤_(消歧義)', '名稱', '蚩尤', '門_(生物)', '新著龍虎門'} {'新著龍虎門角色列表', '龍虎門', '石黑龍', '新著龍虎門'}\n",
            "{'1990年', '死者能舞', '音樂專輯'} set()\n",
            "{'黑血', '血液', '黑血_(漫畫)'} {'黑血'}\n",
            "{'楊素', '中央集權', '隋煬帝'} set()\n",
            "{'郭靖', '小龍女', '神鵰俠侶', '楊過', '黃蓉', '神鵰俠侶_(動畫)', '三部曲', '射鵰三部曲'} {'小龍女', '郭芙'}\n",
            "{'分類學', '生物分類學', '表達方式', '屬', '性'} set()\n",
            "{'古蹟', '中華民國', '研究院', '國定古蹟', '臺北賓館'} {'臺北市國定古蹟列表', '臺北賓館'}\n",
            "{'臺灣', '民意代表', '代表'} set()\n",
            "{'漫畫', '魔戒', '丁丁歷險記', '丁丁_(丁丁歷險記)'} {'彼得·傑克遜', '碧安卡·卡斯塔菲歐蕾', '丁丁在蘇聯', '丁丁與字母藝術', '丁丁與流浪漢'}\n",
            "{'質量', '環境'} {'狹義相對論中的質量'}\n",
            "{'概念', '中心', '學術領域大綱', '問題', '哲學'} {'戰爭哲學', '哲學', '資訊哲學'}\n",
            "{'發展', '教授', '幾何學', '中世紀', '文化', '世紀', '數學', '大學'} {'幾何學', '幾何學家列表'}\n",
            "{'遊樂園', '中國人民解放軍', '中國人民解放軍武漢軍區'} {'中國人民解放軍武漢軍區空軍', '中國人民解放軍陸軍第八綜合訓練基地', '中國人民解放軍武漢軍區'}\n",
            "{'新臺幣', '1981年', '1949年', '臺灣銀行'} {'新臺幣硬幣', '第一套直式新臺幣'}\n",
            "{'臺北', '臺北101', '90年'} {'90年代', '前90年代'}\n",
            "{'透明', '軀幹', '內臟', '神農'} set()\n",
            "{'思想家', '百科全書', '德尼·狄德羅', '啓蒙時代', '百科全書派', '尼古拉·德·孔多塞', '法國'} {'德尼·狄德羅', '百科全書，或科學、藝術和工藝詳解詞典', '百科全書派', '讓-弗朗索瓦·馬蒙泰爾', '網絡百科全書'}\n",
            "{'鉻', '紅寶石', '玉', '寶石', '藍寶石', '剛玉', '紅色', '金屬'} {'紅寶石', '藍寶石', '剛玉'}\n",
            "{'臺北', '川端町', '河', '臺灣', '臺灣日治時期', '臺北市_(省轄市)', '臺北市', '日治時期'} {'川端町'}\n",
            "{'波爾布特', '生命', '刑罰', '宋成', '1998年'} {'宋成'}\n",
            "{'政府', '政體', '稱謂', '1918年', '共和制', '魏瑪共和國', '魏瑪', '德國'} {'魏瑪共和國'}\n",
            "{'吉米·卡特', '總統', '阿爾弗雷德·諾貝爾', '吉米', '美國總統', '諾貝爾和平獎', '美國', '卡特'} {'吉米·卡特', '和平獎', '吉米·卡特圖書館暨博物館', '卡特中心', '陶德曼調停'}\n",
            "{'納米比亞', '海平面'} {'納米比亞，勇氣之地', '納米比亞總統', '中國駐納米比亞大使列表', '納米比亞駐外機構列表', '西南非洲'}\n",
            "{'彗星', '冥王星'} {'冥王星日食', '冥王星地質', '冥王星地理', '小說中的冥王星'}\n",
            "{'器官', '喬治三世', '症狀', '喬治·邁克爾', '卟啉', '紫質症', '三氧化二砷'} {'喬治三世'}\n",
            "{'寧波人', '證券市場', '徐翔'} {'徐翔'}\n",
            "{'衛星', '木衛四', '衛', '木材', '木星的衛星', '火星'} {'火星全球探勘者號', '火星車', '火星偵察軌道器', '火星衛星探測器'}\n",
            "{'臺中市', '本名', '臺中市西大墩婦女中心'} {'嘉義市政府社會處', '臺中市議會', '臺中市西大墩婦女中心', '臺中市婦女福利服務中心'}\n",
            "{'古羅馬', '羅馬神話', '神話', '平民', '百姓', '羅馬', '朱庇特'} {'朱庇特'}\n",
            "{'關羽', '形象', '後世'} set()\n",
            "{'物種', '沙丁魚', '沙丁魚罐頭'} set()\n",
            "{'胸', '胸圍'} {'胸圍'}\n",
            "{'饕餮', '形象', '網絡遊戲'} {'饕餮'}\n",
            "{'導演', '表演藝術'} {'導演', '王淮仲'}\n",
            "{'巴哈歐拉', '巴勒斯坦'} {'巴哈歐拉陵寢', '巴哈歐拉的使徒', '巴哈歐拉', '巴勒斯坦總理', '阿博都巴哈'}\n",
            "{'衝擊', '空氣', '飛機', '物體', '衝擊波_(漫畫)', '聲爆', '速度', '音障'} {'聲爆', '音障'}\n",
            "{'東長安街', '東城區', '長安街', '1978年', '北京市', '中華人民共和國紡織工業部', '中國', '1970年', '中華人民共和國'} {'姜時彥', '中華人民共和國第二輕工業部', '曹魯', '中華人民共和國紡織工業部', '東長安街'}\n",
            "{'綱', '輻鰭魚綱', '輻鰭魚', '生物分類法', '納尼氏囊鰓鯰'} {'海防鰍', '中脂䱀', '梅氏平鰭鮠', '熱帶烏溪鱂', '瓦氏擬鱯'}\n",
            "{'勳章', '突破', '玉米', '袁隆平', '共和國勳章'} {'袁隆平', '小行星8117'}\n",
            "{'奧古斯都·普金', '奧古斯都·艾迪生·古爾德', '奧古斯都_(稱號)', '奧古斯都', '奧古斯都·勞裏克殖民地', '羅馬', '羅慕路斯·奧古斯都', '頭銜'} set()\n",
            "{'尼克·貝爾格', '綁票'} set()\n",
            "{'盧卡斯·埃爾南德斯', '喬治·盧卡斯', '盧卡斯·古博特', '星際大戰', '盧卡斯·佩雷斯', '盧卡斯·雷瓦', '盧卡斯·巴斯克斯', '電影'} {'喬治·盧卡斯'}\n",
            "{'墨家', '邏輯', '代表'} {'墨家', '辯證邏輯'}\n",
            "{'芝加哥', '伊利諾伊大學厄巴納香檳分校', '厄巴納_(伊利諾伊州)', '香檳', '今天', '大學', '公立大學'} {'章瑩穎綁架謀殺案', '布蘭登·保羅', '伊利諾伊大學威拉德機場', '伊利諾大學', '艾科·伊本'}\n",
            "{'企業', 'BI', '決策', '玩具'} set()\n",
            "{'臺北', '臺北市立建國高級中學', '日治時期'} {'臺北州立臺北第一中學校'}\n",
            "{'宋朝_(人物)', '鴟尾', '宋朝'} set()\n",
            "{'食物', '茶葉蛋', '茶'} {'茶葉蛋'}\n",
            "{'七股區', '七股_(臺南市大字)', '臺南市', '臺南市七股區後港國民小學', '戒嚴'} {'臺南市七股區龍山國民小學', '七股莊', '臺南市七股區後港國民小學'}\n",
            "{'土地', '李賢_(大學士)', '商輅', '明憲宗'} {'明憲宗'}\n",
            "{'華東地區', '中學', '東部', '南京大學附屬中學', '南京大學', '中國'} {'南京大學附屬中學', '南京師範大學附屬中學', '南京航空航天大學附屬高級中學', '師範大學附屬中學列表', '南京大學政府管理學院'}\n",
            "{'計算機科學', '數據壓縮', '圖像壓縮', '圖像壓縮技術'} {'紋理壓縮', '圖像壓縮技術', '圖像壓縮', '有損數據壓縮', '數據壓縮'}\n",
            "{'微軟', '安德斯', '哥本哈根', 'Borland', '安德斯·海爾斯伯格', '編譯器', 'TypeScript', '作者'} {'Borland', '安德斯·海爾斯伯格', 'TypeScript'}\n",
            "{'城市規劃', '自行車', '首部', '龍頭', '城市', '企劃'} set()\n",
            "{'珠江', '全長', '流量', '中國', '河流'} {'珠江'}\n",
            "{'奧古斯都·艾迪生·古爾德', '奧古斯都_(稱號)', '奧古斯都', '希臘', '奧古斯都·勞裏克殖民地', '羅慕路斯·奧古斯都', '奧古斯都·腓特烈_(薩塞克斯公爵)', '皇帝'} {'奧古斯都神廟'}\n",
            "{'詩人', '唐詩三百首', '大韓民國', '李商隱', '唐詩'} {'柳枝', '李商隱'}\n",
            "{'數學領域', '數學家', '數論', '伯恩哈德·黎曼', 'Ζ', '黎曼ζ函數', '數學', '統計學', '函數'} {'黎曼ξ函數', '數論', '黎曼ζ函數', '應用數學'}\n",
            "{'黃道帶', '獅子座', '黃道', '恆星'} {'巨蟹座', '獅子座ψ', '獅子座', '獅子座A', '獅子座ρ'}\n",
            "{'錯誤', '代碼風格'} {'代碼風格'}\n",
            "{'羊', '撒丁島', '島嶼', '地中海', '家畜'} {'牧場', '撒丁島'}\n",
            "{'家庭', '阿希爾克洛德·德彪西'} set()\n",
            "{'內畫壺', '清朝', '工藝美術', '中國'} {'武昌府'}\n",
            "{'希臘神話', '證明', '希臘', '神話', '公車', '考古學', '司機'} {'希臘神話生物列表'}\n",
            "{'進士', '嘉興市', '江蘇省_(中華民國)', '明朝', '沈鈞儒', '祖籍', '江蘇省'} {'沈鈞儒'}\n",
            "{'狹義相對論', '相對論', '平均數', '宇宙', '光速'} {'超光速運動', '狹義相對論發現史', '光速不變原理', '雙重狹義相對論', '光速'}\n",
            "{'公司', '波士頓', '企業', '總部', '通用電氣', '美國', '世界', '國家'} {'通用電氣'}\n",
            "{'衛星', '木衛四', '衛', '木材', '天文學家', '木星', '木星的衛星', '關島大學'} {'木衛五十三', '木衛五十二', '衛星的命名', '木衛五十', '木衛五十一'}\n",
            "{'雷神', '雷神_(電影)', '費爾南多·索爾', '索爾', '北歐神話', '神', '索爾_(漫威漫畫)', '索爾·巴斯'} {'索爾'}\n",
            "{'科學園區', '北京理工大學'} {'大同科技園區', '華北理工大學'}\n",
            "{'基督教', '宗教', '聖經', '新約'} {'聖經批評', '聖經研究', '新約聖經', '聖經', '聖經漢語譯本'}\n",
            "{'種子', '目標', '果實', '雌花器'} {'薔薇果', '無籽果實', '子房', '蒴果', '蓇葖果'}\n",
            "{'船', '魚', '公海艦隊自沉事件', '量_(物理)', '斯卡帕灣', '棲息地', '海牀'} {'路德維希·馮·羅伊特', '斯卡帕灣', '公海艦隊自沉事件'}\n",
            "{'公司', '符騰堡', '經濟', '總部', '國內生產總值', '德國', '巴登符騰堡'} {'巴登-符騰堡'}\n",
            "{'化學', '生物', '中國', '鄭集', '定居者'} {'生物化學', '鄭集'}\n",
            "{'屬地', '北马里亞納羣島', '美國'} {'美國非合併屬地'}\n",
            "{'全球', '醫療疏失'} {'醫療疏失'}\n",
            "{'同性戀', '各地LGBT權利', '案', '艾根訴加拿大案', '奧林·艾根', '曼弗雷德·艾根', '加拿大', '法律'} set()\n",
            "{'頭', '科學', '古代史', '古埃及', '外科學', '埃及'} set()\n",
            "{'希臘神話', '名稱', '土衛十', '海', '希臘', '神話', '土星的衛星', '女神'} {'土衛四十九', '土衛一'}\n",
            "{'政治人物', '字', '星海', '宋潢_(嘉慶壬戌進士)', '中國人'} {'星海生活廣場', '蘇州工業園區星海實驗中學'}\n",
            "{'域', '界_(生物)', '域_(生物)', '法', '乾酪', '界'} set()\n",
            "{'中正區_(臺北市)', '臺北市客家文化主題公園', '臺北市', '2008年'} {'臺北市議員列表', '臺北市客家文化主題公園', '臺北市中正區螢橋國民小學'}\n",
            "{'長度', '淡水河', '臺南市', '淡水_(消歧義)', '河流'} {'世界鈾產量排行'}\n",
            "{'軌道_(力學)', '軌道', '小行星', '明星', '行星', '太陽'} set()\n",
            "{'金朝', '宗', '金章宗', '金'} {'完顏洪靖'}\n",
            "{'大韓民國', '國', '行政區劃', '韓國行政區劃'} {'韓國行政區劃', '日本行政區劃', '2010年大韓民國地方選舉'}\n",
            "{'赤足', '感覺', '路'} {'赤足廣場', '赤足根蟎'}\n",
            "{'馬克思主義', '馬克思·多爾穆瓦站', '格魯喬·馬克思', '卡爾·馬克思', '馬克思主義政治經濟學', '資本論', '政治經濟學', '海因裏希·馬克思'} {'馬克思主義政治經濟學', '資本論', '河上肇', '女人資本論'}\n",
            "{'維吾爾族', '姓', '回族', '昭武九姓', '西北', '昭武', '中國'} {'昭武九姓'}\n",
            "{'臺灣', '經營者', '臺北醫學大學'} {'李祖德'}\n",
            "{'奧黛麗·赫本', '數獨', '金球獎劇情類電影最佳女主角', '主角_(小說)', '遊戲', '金球獎'} {'蕾妮·齊薇格', '奧黛麗·赫本', '金球獎劇情類電影最佳男主角', '金球獎劇情類電影最佳女主角'}\n",
            "{'人類', '昆蟲', '農作物', '蝴蝶'} set()\n",
            "{'米開朗基羅·樂孔特', '米開朗基羅', '米開朗基羅·法爾瑪提諾'} {'米開朗基羅撞擊坑'}\n",
            "{'礦產資源', '六盤水市', '中國'} {'六盤水師範學院', '六盤水市', '六盤水站'}\n",
            "{'玲子·艾爾斯沃斯', '亞洲', '血親', '身'} {'玲子·艾爾斯沃斯'}\n",
            "{'音階', '音樂'} set()\n",
            "{'蒙哥馬利·史考特', '史考特·朗恩', '麥可·史考特', '史考特·詹森', '史考特·普魯特', '克莉斯汀·史考特·湯瑪斯', '西恩·威廉·史考特', '洲', '雷利·史考特'} set()\n",
            "{'歐洲民族', '世界', '語言', '歐洲', '文化', '民族', '語言系屬分類', '國家'} {'民族國家'}\n",
            "{'鐒', '歐內斯特·勞倫斯'} {'鐒', '長野健', '歐內斯特·勞倫斯'}\n",
            "{'冠蕉鵑', '鳥'} {'冠蕉鵑', '膽綠素'}\n",
            "{'衛', '木星', '衛星', '木材'} {'木星日食'}\n",
            "{'1000', '紅磚大學', '1900年', '伯明翰', '英國', '伯明翰大學'} {'伯明翰新街站', '伯明翰城市大學', '伯明翰機場', '紅磚大學', '伯明翰藝術學院'}\n",
            "{'墨家', '邏輯', '代表'} {'墨家', '邏輯史', '非經典邏輯'}\n",
            "{'機構', '世界地質公園列表', '中國', '聯合國', '聯合國專門機構', '嵩山'} {'安徽省風景名勝區列表', '中華人民共和國國家級風景名勝區', '嵩山路街道', '泰寧世界地質公園', '嵩山'}\n",
            "{'象徵', '買', '臺灣', '全買', '代表', '長頸鹿'} {'全買'}\n",
            "{'研究', '政府', 'UCL', '學術'} {'UCL主樓', '嶺南教育機構'}\n",
            "{'稱謂', '臺灣', '琉球', '琉球嶼', '古代史', '香港學界體育聯會'} {'琉球歷史', '小琉球三隆宮'}\n",
            "{'父系制度', '木材', '燧人氏', '河套', '氏族', '狩獵'} {'燧人氏', '父系制度'}\n",
            "{'總統', '詹姆斯·諾克斯·波爾克', '選舉'} set()\n",
            "{'泉州港', '海港', '泉州_(消歧義)', '泉州市', '中國', '港都'} {'泉州港', '海港鎮'}\n",
            "{'熱帶氣旋', '世界氣象組織', '氣象廳_(日本)', '颱風', '強度'} {'日本氣象廳命名颱風列表', '颱風', '世界氣象日', '南大西洋熱帶氣旋', '氣象紀念日'}\n",
            "{'南部', '國家', '亞洲', '馬爾代夫'} {'南部', '馬爾地夫國家男子籃球隊', '馬爾地夫拉菲亞', '馬爾代夫'}\n",
            "{'社會科學', '資本主義政治經濟學', '政治經濟學', '資本主義'} {'資本主義政治經濟學', '政治經濟學', '政治經濟學批判', '社會主義政治經濟學'}\n",
            "{'果實', '原材料', '生物', '微生物', '果酒', '酒'} {'大果酒餅簕'}\n",
            "{'喬瓦尼·多梅尼科·卡西尼', '亨利·卡西尼', '卡西尼', '讓多米尼克·卡西尼', '塞薩爾弗朗索瓦·卡西尼·德·蒂裏'} {'卡西尼', '雅克·卡西尼', '塞薩爾-弗朗索瓦·卡西尼·德·蒂裏', '亨利·卡西尼'}\n",
            "{'北京理工大學'} {'瀋陽市科研機構列表', '華北理工大學'}\n",
            "{'松前城', '福山城_(備後國)', '備後國', '備後'} {'備後國'}\n",
            "{'石灰', '氫氧化鈣', '酸', '鹽酸', '鹼', '鹼石灰'} {'石灰', '氫氧化鈣', '鹼石灰', '扁葉石灰蘚', '石灰鋪鎮'}\n",
            "{'醫生', '經營者', '臺北市', '臺北醫學大學'} {'李祖德'}\n",
            "{'程序員', '專業人士', '專業', '程序設計', '領域'} {'程序設計實踐', '程序員', '程序設計'}\n",
            "{'徐志摩', '志摩', '海外'} {'徐志摩', '徐志摩墓'}\n",
            "{'介質', '內燃機', '動能'} {'內燃機'}\n",
            "{'領土', '國家'} {'領土', '領土糾紛'}\n",
            "{'石器時代', '人類', '新石器時代', '賽普勒斯', '石器', '時代'} {'賽普勒斯教會', '賽普勒斯問題', '賽普勒斯鎊', '賽普勒斯'}\n",
            "{'政府', '機構', '1987年', '臺北市政府', '臺北市', '臺北市政府捷運工程局'} {'臺北市政府文化局', '桃園市政府捷運工程局', '臺北市政府捷運工程局', '臺北市政府民政局', '新北市政府捷運工程局'}\n",
            "{'傳統', '南', '北阿坎德邦', '北', '地區', '印度'} {'丹德拉', '阿爾莫拉', '北阿坎德邦行政區劃', '北阿坎德邦'}\n",
            "{'馬克思主義', '馬克思·多爾穆瓦站', '格魯喬·馬克思', '卡爾·馬克思', '馬克思主義政治經濟學', '資本論', '政治經濟學', '海因裏希·馬克思'} {'河上肇', '馬克思主義政治經濟學', '政治經濟學批判大綱', '資本論', '伊拉里昂·伊格納切維奇·考夫曼'}\n",
            "{'肉食性動物', '形狀', '隼科', '科', '隼', '性', '猛禽', '目'} {'隼形目', '猛禽'}\n",
            "{'鳥', '草鴞', '草鴞科', '目'} {'草鴞屬', '隼形目', '草鴞科', '慄鴞屬'}\n",
            "{'亞洲', '亞洲·矽谷計劃', '馬爾代夫'} {'馬爾地夫國家男子籃球隊', '馬爾地夫拉菲亞'}\n",
            "{'名', '奧斯卡金像獎', '奧斯卡', '奧斯卡·埃爾南德斯', '小說', '獎勵', '電影'} set()\n",
            "{'火衛二', '衛星', '金星'} {'火衛二', '火星日食'}\n",
            "{'寒武紀大爆發', '生物', '寒武紀', '火星', '寒武紀_(消歧義)'} {'寒武紀大爆發', '火星車', '埃迪卡拉紀末期滅絕事件', '顯生宙'}\n",
            "{'爬行動物', '環境', '動物'} {'日本爬行動物列表'}\n",
            "{'民進', '民主進步黨', '謝長廷'} {'謝長廷'}\n",
            "{'海星', '身體', '占星術'} {'海星', '十字海星', '古海星', '赭色海星', '海星街道'}\n",
            "{'玉', '墨魚科', '扶餘國', '君主', '玉衣', '玄菟郡', '國'} {'扶餘國'}\n",
            "{'船', '東海', '小島_(臺東區)', '南', '波濤', '北小島', '漁民', '過去', '南小島', '小島'} {'橄欖門', '南小島', '北小島'}\n",
            "{'明報', '香港', '出版物'} {'明報兒童週刊', '明報月刊', '明報出版社', '通通識'}\n",
            "{'醫生', '經營者', '臺北市', '臺北醫學大學'} {'李祖德'}\n",
            "{'石器時代', '石器', '人類', '史前時代'} {'中國中石器文化列表', '馬來西亞史前時期', '中國史前文化', '石器', '中石器時代'}\n",
            "{'功夫', '許世友', '年少'} set()\n",
            "{'蘋果_(消歧義)', '個人電腦', '蘋果公司'} {'蘋果公司產品列表', '蘋果標準鍵盤', '蘋果音樂節'}\n",
            "{'日本', '戒嚴', '自由', '報紙'} {'香港報紙列表', '香港言論自由', '澳門報紙列表'}\n",
            "{'吉米·卡特', '紐約州', '霍華德·卡特', '阿里·卡特', '紐約州州長', '美國總統', '政區首長', '卡特'} set()\n",
            "{'疾病'} set()\n",
            "{'古賽爾_(敘利亞)', '古賽爾戰役', '軍事組織', '軍事', '組織'} set()\n",
            "{'聶華苓', '編輯', '自由中國'} set()\n",
            "{'北極殿', '神', '清朝', '明朝', '臺南北極殿'} set()\n",
            "{'政府', 'SETI@home', '計算', '洛杉磯', '加利福尼亞大學柏克萊分校'} {'Astropulse', 'BOINC'}\n",
            "{'長度', '分子', '氫氣'} set()\n",
            "{'歐洲民族', '腳趾', '歐洲', '民族', '指', '國家'} set()\n",
            "{'記錄', '主權國家', '路易·德·奧爾良_(1703年—1752年)', '路易十四', '勝利_(歌手)', '主權', '君主', '國家'} set()\n",
            "{'古希臘悲劇', '愛神', '悲劇', '狄俄倪索斯', '舞蹈', '希臘', '古希臘'} {'古希臘喜劇', '古希臘悲劇'}\n",
            "{'女性', '山下智久', '竹內瑪莉亞'} {'山下達郎'}\n",
            "{'蒂姆·伯頓', '電影導演', '伯頓', '美國', '重生_(基督教)', '美國電影'} {'蒂姆·伯頓'}\n",
            "{'尼克·貝爾格', '2004年', '中東'} {'尼克·貝爾格'}\n",
            "{'經濟學', '亞當·斯密', '歐洲', '國富論'} {'亞當·斯密'}\n",
            "{'鳥', '信天翁科', '南冰洋', '翼展', '洋', '太平洋', '世界'} {'漂泊信天翁', '南方皇家信天翁', '翼展', '黑背信天翁', '桑氏遠洋鳥'}\n",
            "{'案例', '縣_(中華民國)', '臺東垃圾焚化廠', '臺東', '臺東縣'} {'臺灣垃圾焚化廠列表', '岡山垃圾焚化廠', '臺東垃圾焚化廠', '崁頂垃圾焚化廠', '永康垃圾焚化廠'}\n",
            "{'隋唐', '氏', '傳說', '神農'} {'神農'}\n",
            "{'海星', '食物', '胃', '動物', 'In_vitro'} {'海星', '十字海星', '古海星', '赭色海星', '海星街道'}\n",
            "{'爵士樂', '小號', '樂器', '音樂', '古典音樂'} {'小號'}\n",
            "{'實體', '形狀', '力', 'Change.org'} set()\n",
            "{'馮端', '晶體', '中國人', '中國'} {'晶體', '晶體結構'}\n",
            "{'政府', '元首', '陳水扁', '記者會', '2016', '臺灣醫界聯盟基金會'} {'臺灣醫界聯盟基金會'}\n",
            "{'甜品', '冰淇淋', '奶製品', '乳', '原材料'} {'樹莓漩渦冰淇淋', '蕎麥冰淇淋', '冰淇淋', '蛋卷冰淇淋', '意式奶凍'}\n",
            "{'公案小說', '範式', '大理寺', '冤獄', '狄仁傑', '古代史', '公案_(消歧義)', '中國'} {'神探狄仁傑第二部'}\n",
            "{'政治家', '阿爾·戈爾', '美國'} set()\n",
            "{'包青天_(亞洲電視劇集)', '字', '後世', '包拯', '神', '北宋'} {'劍臨天下', '包拯'}\n",
            "{'本名', '動作片演員', '成龍', '元龍', '藝名', '演員'} {'元龍'}\n",
            "{'文學', '雨果_(電影)', '作家', '浪漫主義文學', '文學史', '維克多·雨果', '法國', '浪漫主義'} {'維克多·雨果博物館', '維克多·雨果故居', '現代主義文學', '維克多·雨果', '維克多·雨果站'}\n",
            "{'珠江', '流量', '上游', '中國', '海拔', '河流'} {'珠江'}\n",
            "{'藤子·F·不二雄'} {'藤子·F·不二雄', '大雄的平行西遊記', '藤子不二雄', '藤子不二雄Ⓐ', '藤子·F·不二雄創作'}\n",
            "{'日本', '國籍', '臺北市', '城'} {'臺北市議員列表', '日本人', '特別永住者'}\n",
            "{'世僕', '社會', '日本', '封建', '封建社會'} {'世僕'}\n",
            "{'高度', '大西洋', '加布艾萊西島', '島嶼', '海', '蘇格蘭', '海拔', '無人島'} {'杜布莫爾島', '加布艾萊西島'}\n",
            "{'氣味', '東南亞', '味覺', '國家', '馬來西亞', '榴槤'} {'榴槤'}\n",
            "{'荷馬', '史詩', '荷馬史詩'} {'荷馬', '荷馬詩頌'}\n",
            "{'醜聞', '伊拉克', '戰爭', '弗拉基米爾·普京', '伊拉克戰爭'} {'伊拉克軍事', '伊拉克空軍', '伊拉克戰爭列表', '伊拉克戰爭'}\n",
            "{'晉國', '政權', '晉文公', '因果關係'} set()\n",
            "{'臺中市', '臺中市立臺中女子高級中等學校', '臺中_(大字)'} {'臺中市立臺中女子高級中等學校', '臺中市議會'}\n",
            "{'古羅馬', '羅馬神話', '神話', '神', '宇宙', '朱庇特', '羅馬', '天神'} {'天神町', '朱庇特'}\n",
            "{'臺北', '臺北市立聯合醫院', '羅漢腳', '院長', '聯合醫院', '醫院'} {'臺北市立聯合醫院', '臺北市立聯合醫院松德院區', '臺北市立關渡醫院', '聯合醫院', '臺北市立萬芳醫院'}\n",
            "{'李美妍', '輕·功', '皇后', '明成皇后'} {'李美妍', '明成皇后'}\n",
            "{'艾倫·狄珍妮秀', '奧斯卡金像獎', '艾倫·艾佛森', '奧斯卡', '艾倫·狄珍妮', '獎勵', '英國電影和電視藝術學院', '伍迪·艾倫', '艾倫', '艾倫·鮑絲汀'} set()\n",
            "{'物種', '靈長目'} set()\n",
            "{'五行', '中心', '遼朝', '木材', '後晉', '運氣', '國', '行'} set()\n",
            "{'盧卡斯·埃爾南德斯', '喬治·盧卡斯', '盧卡斯·古博特', '授權', '盧卡斯·佩雷斯', '盧卡斯·雷瓦', '盧卡斯·巴斯克斯', '星際大戰'} set()\n",
            "{'歐洲民族', '語言', '歐洲', '民族', '民族國家', '國家'} {'歐洲民族'}\n",
            "{'土星', '土衛一', '小時', '土星的衛星'} {'土衛四十九', '土衛四十', '土衛一', '土衛三'}\n",
            "{'鳥', '鸚形目', '綠色', '冠蕉鵑', '蕉鵑', '色素'} {'冠蕉鵑', '白梢冠蕉鵑'}\n",
            "{'住宅', '高安公寓', '集合住宅', '康平路'} {'高安公寓'}\n",
            "{'軟件開發', '軟件', '軟件開發工具', '編程語言'} {'軟件開發工具包', '軟件工程', '軟件開發', '蘋果開發工具', '軟件開發工具'}\n",
            "{'體育場', '英國', '國家'} {'BBC電影', '英國廣播公司', 'BBC自然知性臺'}\n",
            "{'巴哈歐拉', '以色列'} {'巴哈歐拉', '巴哈歐拉陵寢', '巴哈歐拉的使徒'}\n",
            "{'艾倫·狄珍妮秀', '奧斯卡金像獎', '艾倫·艾佛森', '奧斯卡', '艾倫·狄珍妮', '獎勵', '英國電影和電視藝術學院', '伍迪·艾倫', '艾倫', '艾倫·鮑絲汀'} {'英國電影學院獎最佳影片'}\n",
            "{'春秋_(書)', '春秋', '穀梁傳'} {'公羊傳', '春秋三傳', '穀梁傳'}\n",
            "{'概念', '物流', '軍事'} {'物流'}\n",
            "{'劍橋大學', '盧卡斯', '物理學家', '盧卡斯數學教授席位', '保羅·狄拉克', '理論物理學', '英國', '劍橋'} {'保羅·狄拉克'}\n",
            "{'印度人民黨', 'NDA'} set()\n",
            "{'一行', '出家衆', '名稱', '出家_(佛教)', '行'} {'沙彌尼', '出家衆'}\n",
            "{'部落', '領土'} {'充分必要條件'}\n",
            "{'日本', '國籍', '臺北市', '城'} {'臺北市議員列表', '日本人', '特別永住者'}\n",
            "{'醫院', '臺北市', '臺北市文山區永建國民小學'} {'臺北市文山區永建國民小學'}\n",
            "{'鹿鼎記', '金庸作品', '行動限制', '金庸'} {'鹿鼎記', '金庸作品', '金庸筆下門派列表'}\n",
            "{'計算機', '計算機協會', '電子計算機', 'ACM', '科學', '全球', '學會', '座談會'} {'計算機協會', 'ACM計算概觀'}\n",
            "{'文學', '荷馬', '史詩', '荷馬史詩', '希臘', '古希臘文學', '希臘文學', '古希臘'} {'吉爾伽美什史詩', '荷馬'}\n",
            "{'緬甸', '西部', '塞內奇區', '面積'} {'塞內奇區'}\n",
            "{'薄熙來', '中國共產黨', '秦城監獄', '北京市', '今天', '秦城'} {'薄熙來', '秦城監獄', '興壽鎮', '北京市監獄列表', '秦城'}\n",
            "{'慕容復'} {'慕容衝', '慕容宣超'}\n",
            "{'總統', '美國總統', '美國', '威廉·亨利·哈里森'} {'威廉·亨利·哈里森', '任內逝世的美國總統', '美國總統列表', '1840年美國總統選舉', '安娜·哈里遜'}\n",
            "{'耶和華', '平特爾·亞當', '亞當·列維', '亞當·迪凡', '夏娃', '亞當', '芬妮·亞當', '亞當·斯密'} {'範睢肋骨介', '商羊肋骨介', '管夷吾肋骨介', '震旦肋骨介', '肋骨戳花介'}\n",
            "{'紫微垣', '皇后'} {'紫微垣'}\n",
            "{'慕容復', '慕容'} {'慕容瑤', '慕容顗', '慕容衝', '慕容姓', '慕容'}\n",
            "{'羅生門', '羅生門_(電影)', '電影', '多用戶'} set()\n",
            "{'講談社', '講談社·中國的歷史', '榮譽', '三年坂火之夢', '日本', '推理小說'} {'本格推理大獎', '13·67', '講談社BOX', '三年坂火之夢', '推理小說獎'}\n",
            "{'名', '昭和', '昭和天皇', '天皇'} {'大正天皇', '昭和天皇之死', '1901年體育', '昭和', '昭和之日'}\n",
            "{'衛星', '柯伊伯帶', '傑拉德·柯伊伯', '太陽系', '矮行星', '行星'} {'第五行星', '柯伊伯帶', '太陽系天體列表', '傑拉德·柯伊伯獎', '太陽系的假設天體列表'}\n",
            "{'亂世佳人', '費雯·麗'} {'AFI百年百大電影臺詞', 'AFI百年百大電影', 'AFI百年百大愛情電影', 'AFI百年系列', 'AFI百年百大喜劇電影'}\n",
            "{'器官', '果', '草莓', '物', '附果'} {'草莓'}\n",
            "{'聾', '英國手語', '手語', '1940年代', '英國', '日本', '學校', '年代'} {'愛爾蘭手語', '香港手語', '手語翻譯', '英國手語', '英澳新手語'}\n",
            "{'環氧乙烷', '化合物'} {'環氧化合物', '環氧乙烷', '環硫乙烷', '苯基環氧乙烷'}\n",
            "{'夏文汐', '電影', '方中信', '朝花夕拾'} {'朝花夕拾'}\n",
            "{'湖區_(乍得)', '威廉·華茲華斯', '倫敦'} {'赫爾維林峯'}\n",
            "{'木材', '燧人氏', '河套', '氏族', '氏_(消歧義)', '母系制度'} {'燧人氏'}\n",
            "{'臺北', '臺北101'} {'90年代', '前90年代'}\n",
            "{'重量', '原理', '物體', '顏色'} {'重量', '靜力平衡'}\n",
            "{'臺北市政府', '臺北市立萬芳高級中學', '臺北市文山區興華國民小學', '臺北市', '萬芳_(消歧義)', '教育局', '興華國小', '小學', '臺北市立萬芳醫院', '文山區'} {'臺北市立萬芳高級中學', '臺北市私立東山高級中學', '臺北市文山區萬芳國民小學', '臺北市政府教育局', '臺北市文山區興華國民小學'}\n",
            "{'吳建豪', '安七炫', 'F4', 'F_(音名)'} {'吳建豪'}\n",
            "{'東漢', '年齡', '晟碟公司'} set()\n",
            "{'許世友', '中國武術', '武術', '中國'} {'許家窪', '中國武術段位制'}\n",
            "{'犬科', '犬', 'MacOS'} {'貪犬', 'MacOS版本歷史', '原犬屬'}\n",
            "{'病毒', '藥物', '食物'} {'藥物'}\n",
            "{'山斑鳩', '學名', '東方', '意'} {'東方扁蝦', '山斑鳩'}\n",
            "{'卡拉卡爾帕克人', '卡拉卡爾帕克斯坦共和國', '斯坦', '突厥', '突厥語族', '本地人'} {'穆薩·葉爾尼亞佐夫', '卡拉卡爾帕克斯坦共和國', '卡拉卡爾帕克語', '卡拉卡爾帕克蘇維埃社會主義自治共和國', '木伊那克'}\n",
            "{'哈芝芝·諾', '希臘', '埃利亞的芝諾', '芝諾', '斯多葛主義', '柏拉圖', '古希臘', '哲學家'} {'克里安西斯', '斯法埃魯斯', '芝諾', '季蒂昂的芝諾', '基提翁'}\n",
            "{'上越市', '名稱', '蟲川大杉車站', '新潟縣', '無', '無中生有'} {'犀潟車站', '潟町站', '北北大島站'}\n",
            "{'梅克倫堡', '西南', '西波美拉尼亞', '州', '梅克倫堡_(1945年—1952年)', '波美拉尼亞', '梅克倫堡前波美拉尼亞', '德國'} {'梅克倫堡-前波美拉尼亞', '西北梅克倫堡縣', '前波美拉尼亞-呂根縣', '東前波美拉尼亞縣', '後波美拉尼亞'}\n",
            "{'人類學', '民族學', '人類', '語言'} {'民族學'}\n",
            "{'裸子植物', '子房', '被子植物'} {'裸子植物'}\n",
            "{'北马里亞納羣島', '島嶼', '熱帶海洋性氣候', '面積', '海洋性氣候', '熱帶', '氣候'} {'密克羅尼西亞運動會', '.mp', '卡皮托爾希爾', '塞班國際機場'}\n",
            "{'吉米·卡特', '總統', '阿爾弗雷德·諾貝爾', '吉米', '諾貝爾獎', '美國總統', '美國', '卡特'} {'吉米·卡特', '吉米·卡特圖書館暨博物館'}\n",
            "{'溴', '水', '消毒', '量'} set()\n",
            "{'奧斯卡金像獎', '伊麗莎白', '奧斯卡', '伊麗莎白·泰勒', '泰勒', '獎勵', '演員'} {'伊麗莎白·泰勒'}\n",
            "{'文學', '古羅馬', '史詩', '荷馬史詩', '羅馬', '古羅馬文學', '荷馬'} {'荷馬史詩'}\n",
            "{'鳥', '求和符號', '量_(物理)', '雞', '全球'} set()\n",
            "{'勳章', '突破', '2019年', '水質', '袁隆平', '共和國勳章'} {'袁隆平', '小行星8117'}\n",
            "{'魔方', '板', '八片魔板', '父親'} {'魯比克·艾爾諾', '八片魔板', '2x2x3魔術方塊', '十二片魔板', '2x2x1魔術方塊'}\n",
            "{'鹿城', '鹿城鎮_(阜南縣)', '雲南省_(中華民國)'} {'鹿城'}\n",
            "{'粗糙擬迷孔菌', '鳥', '菌'} {'粗糙擬迷孔菌'}\n",
            "{'編輯', '聶華苓'} set()\n",
            "{'網頁寄存服務', '地球村', '網頁', '雅虎', '地球村_(消歧義)', '服務', '1994年', '雅虎地球村'} {'網頁寄存服務', '免費網頁寄存服務', '雅虎地球村'}\n",
            "{'政治家', '李賦寧', '中國'} {'李賦都'}\n",
            "{'中芯國際', '電路', '集成電路', '總部', '中國', '晶圓', '上海市'} {'兆芯', '中芯國際', '半導體廠商銷售排名', '集成電路設計', '超大規模集成電路'}\n",
            "{'熱量', '溫', '體溫', '冷血動物_(歌曲)', '動物', '爬行動物', '變溫動物', '冷血'} {'日本爬行動物列表', '爬行動物', '恆溫動物', '變溫動物', '冷血'}\n",
            "{'印象派', '印象主義音樂'} {'印象主義音樂'}\n",
            "{'關羽', '金蘭', '劉備', '張飛', '小說', '章回小說', '漢', '三國演義'} {'關羽', '樊城之戰', '三國演義'}\n",
            "{'東京', '特別攻擊隊', '資源_(計算機科學)', '跟蹤支援隊', '力_(佛教)', '同盟國_(第二次世界大戰)'} set()\n",
            "{'數學家', '彼得·傑克遜', '中世紀'} set()\n",
            "{'抄襲', '社會'} {'高雄捷運路線圖抄襲事件'}\n",
            "{'素描'} set()\n",
            "{'亞洲', '男性', '西區', '聖保羅書院', '學校'} {'符潤光'}\n",
            "{'廣告', '網頁', '地球村_(消歧義)', '雅虎', '服務', '投資報酬率', '1994年', '雅虎地球村'} {'雅虎臺灣', '雅虎視頻', '雅虎搜尋行銷', '雅虎空間', '雅虎地球村'}\n",
            "{'天龍', '反派角色', '天龍八部', '部', '龍', '燕國', '慕容復'} {'慕容博', '天龍八部', '康敏', '慕容復', '北喬峯，南慕容'}\n",
            "{'貴州省', '地級市', '六盤水市', '礦產資源', '氣候'} {'六盤水市'}\n",
            "{'首都', '亞穆蘇克羅', '科特迪瓦', '城市', '阿比讓', '行政中心', '蘇克_(卑詩省)'} {'亞穆蘇克羅', '科特迪瓦', '阿比讓之歌', '和平之後大殿', '阿比讓非洲體育會'}\n",
            "{'數據科學家', '機體', '疾病', '科學家_(歌曲)', '因果關係'} {'病理學'}\n",
            "{'軍政府', '軍政_(政體)', '罷工', '路易斯·伊納西奧·盧拉·達席爾瓦'} set()\n",
            "{'生產', '大量生產', '美學', '機械', '工藝', '生產方式', '方法', '手工藝'} {'手工藝'}\n",
            "{'脂類', '生物', '酮', '性', '分子', '公寓'} {'脂質體', '脂類'}\n",
            "{'月', 'Gmail'} {'Gmail'}\n",
            "{'觀點_(哲學)', '宗教', '觀點', '時間', '世紀', '新興宗教'} set()\n",
            "{'原型', '電影製作', '製作人', '電影製片人', '角色', '小說', '弗朗西斯·斯科特·菲茨傑拉德', '製作'} {'尼克·卡拉威'}\n",
            "{'公路服務區', '公路', '臺灣', '泰安服務區_(臺灣)', '中山', '高速公路', '中山高速公路', '泰安市'} {'公路服務區', '關西服務區', '泰安休息站', '西湖服務區', '泰安街道'}\n",
            "{'籃球', '英國'} {'2015–16年東南亞職業籃球聯賽賽季', '2017–18年東南亞職業籃球聯賽賽季', '2016–17年東南亞職業籃球聯賽賽季', '2009–10年東南亞職業籃球聯賽賽季'}\n",
            "{'固體', '木星的衛星', '木衛四'} {'木衛四表面特徵列表'}\n",
            "{'鄧小平', '理論', '社會主義', '中國共產黨', '鄧小平理論', '英國'} {'鄧小平理論', '四個自信'}\n",
            "{'奧利華·史東', '喜劇電影', '史東'} set()\n",
            "{'尤里·安德羅波夫', '健康'} {'尤里·安德羅波夫'}\n",
            "{'薄熙來', '兒子', '國務院', '副總理'} {'薄熙來'}\n",
            "{'威廉·薩默塞特·毛姆', '醫學', '小說', '成功'} {'人性的枷鎖', '月亮和六便士', '威廉·薩默塞特·毛姆', '情天恨海', '毛姆文學獎'}\n",
            "{'政治家', '亞洲', '宋教仁', '中國國民黨'} {'潯陽街道', '宋教仁墓', '宋教仁'}\n",
            "{'漢語', '漢語音韻學', '語言學', '音韻學', '音系學'} {'等韻學', '漢語音韻學', '漢語史', '音韻學', '音系學'}\n",
            "{'天津條約', '第二次鴉片戰爭', '鴉片', '第一次鴉片戰爭'} {'天津條約', '第二次鴉片戰爭', '第二次大沽口之戰'}\n",
            "{'觀點_(哲學)', '宗教', '觀點', '時間', '派', '新興宗教'} set()\n",
            "{'希臘史', '名稱', '希臘', '木衛二十四', '木衛二', '木星的衛星', '伊俄卡斯忒'} {'小行星899', '木衛二十四'}\n",
            "{'1978年', '國務院_(聖座)', '輕工業', '中華人民共和國國務院', '中華人民共和國紡織工業部', '中國', '1970年', '上海市', '中華人民共和國'} {'姜時彥', '中華人民共和國第二輕工業部', '曹魯', '中華人民共和國紡織工業部', '羅日運'}\n",
            "{'西裏爾字母', '人種', '楚瓦什語', '楚瓦什共和國', '語言', '俄羅斯', '楚瓦什人', '少數民族'} {'楚瓦什共和國國歌', '楚瓦什蘇維埃社會主義自治共和國', '楚瓦什人', '楚瓦什語'}\n",
            "{'行憲紀念日', '行憲', '聖誕節', '教會學校'} set()\n",
            "{'女性', '人類'} {'女性'}\n",
            "{'臺灣', '口耳相傳', '法輪功', '中國'} {'法輪功在臺灣'}\n",
            "{'鳥', '草鴞', '草鴞科'} {'草鴞屬', '草鴞科', '慄鴞屬'}\n",
            "{'視野', '光學顯微鏡', '顯微鏡', '樣品', '功能'} {'光學顯微鏡'}\n",
            "{'視角', '中東', '區域_(英格蘭)', '差異_(哲學)', '西亞'} set()\n",
            "{'企業', '工具', '決策', 'BI'} set()\n",
            "{'哈爾科夫', '布利茲紐基區', '荷蘭', '聚落', '甘尼夫卡_(諾索夫卡區)', '布利茲紐基', '哈爾科夫州'} {'布利茲紐基', '布利茲紐基區'}\n",
            "{'麥', '小麥', '米', '稻', '玉米', '糧食', '世界', '歷史'} {'小麥', '稻', '玉米'}\n",
            "{'老年', '校長', '馬寅初', '北京市', '高壽', '北京大學'} {'北京大學物理學院', '北京大學圖書館', '吳樹青', '馬寅初'}\n",
            "{'海星', '身體', '棘皮動物'} {'海星', '十字海星', '海星亞門', '海扁果', '海星街道'}\n",
            "{'醫院', '串列_(抽象資料型別)', '香港', '香港醫院列表'} {'香港醫院列表'}\n",
            "{'田納西州', '衆議院議長_(日本)', '議長', '奧斯華·波爾克', '詹姆斯·諾克斯·波爾克', '民主黨_(香港)', '衆議院_(日本)', '民主黨'} {'詹姆斯·諾克斯·波爾克'}\n",
            "{'界_(生物)', '錳酸鉀', '真菌', '高錳酸鉀'} set()\n",
            "{'幻想', '性幻想', '現實', '慾望'} {'性幻想'}\n",
            "{'貿易', '菜', '粵菜', '興盛', '廣東省', '菜系'} {'粵菜'}\n",
            "{'感知', '第二次世界大戰', '傳播史', '特性_(計算機科學)', '廣播'} set()\n",
            "{'權力', '公權力', '死刑'} set()\n",
            "{'西廂記', '王實甫', '元朝'} {'四大名劇', '牆頭馬上', '紅娘', '王實甫', '西廂記'}\n",
            "{'輻鰭魚綱', '美鯰科', '鮎形目', '輻鰭魚', '美鯰', '巴西', '目', '隱兵鯰'} {'阿氏喉鰭魚', '巴西布列塔尼魚', '大刺棘杆鮠', '黑帶直線脂鯉', '亞馬遜河咽鱂'}\n",
            "{'溫', '冷血動物_(歌曲)', '動物', '爬行動物', '變溫動物', '冷血'} {'日本爬行動物列表', '冷血'}\n",
            "{'機體', '病理學', '疾病'} {'併發症', '病理學', '古病理學'}\n",
            "{'蛇', '二胡'} set()\n",
            "{'物種', '屬', '科', '今天'} set()\n",
            "{'第二次世界大戰', '京城帝國大學', '京都', '帝國大學', '朝鮮半島', '大學'} {'京城帝國大學', '帝國大學'}\n",
            "{'臺灣織布', '大正', '臺灣'} set()\n",
            "{'臺灣糖業史', '臺灣', '荷蘭', '共和制', '省', '荷蘭共和國', '櫃檯買賣'} {'臺灣荷蘭統治時期', '八十年戰爭'}\n",
            "{'象徵', '坦克人', '王維', '228', '人名', '示威', '坦克', '二二八事件'} {'坦克人'}\n",
            "{'鍼灸', '研究', '西方世界', '筋膜', '論文', '國家'} {'筋膜', '鎖胸筋膜', '膜層', '筋膜炎'}\n",
            "{'神經質', '1961年', '煩躁', '喜劇演員', '角色', '伍迪·艾倫', '艾倫'} set()\n",
            "{'麥', '大麥', '禾本科', '穀物', '植物', '世界'} {'大麥'}\n",
            "{'緯度', '磁暴', '極光'} {'磁暴', '極光', '1989年3月磁暴'}\n",
            "{'臺北', '臺北市立大學博愛校區', '臺北市立大學', '師範學校', '大學'} {'臺北市立大學', '臺灣教育大學系統', '臺北市立大學天母校區', '臺北市立大學附設實驗國民小學', '臺北市立天文科學教育館'}\n",
            "{'海軍', '軍艦', '法西戰爭', '路易十四', '戰爭', '法國', '四十年戰爭'} set()\n",
            "{'恐怖主義', '邪教', '教主', '麻原彰晃', '本名', '恐怖活動'} {'麻原彰晃'}\n",
            "{'香港', '全國人民代表大會', '葉國華', '全國人民代表大會代表', '人民代表大會', '國', '主席', '葉國華_(香港政治人物)'} {'葉國華', '中華人民共和國香港特別行政區第十二屆全國人民代表大會代表選舉', '中華人民共和國香港特別行政區第九屆全國人民代表大會代表選舉', '香港特別行政區全國人民代表大會代表'}\n",
            "{'科學園區', '東區_(新竹市)', '竹東鎮', '臺灣', '西部', '工業技術研究院', '竹東_(大字)', '新竹_(大字)', '年代'} {'竹東鎮', '二重埔'}\n",
            "{'喬木_(消歧義)', '中國社會科學院', '兄弟姊妹', '胡喬木'} set()\n",
            "{'阿爾·戈爾', '美國'} set()\n",
            "{'赫拉', '小說'} set()\n",
            "{'工程', '基因工程', '基因', '細胞', '菜系'} {'基因工程歷史', '基因工程'}\n",
            "{'喬治·艾略特', '阿爾弗雷德·諾貝爾', '諾貝爾化學獎', 'T·S·艾略特', '艾略特·內斯', '查爾斯·艾略特', '艾略特·克雷松獎章', '艾略特', '艾略特·高登索'} {'查爾斯·艾略特', '諾貝爾化學獎', '卡爾·巴里·沙普利斯', 'T·S·艾略特'}\n",
            "{'漢族'} set()\n",
            "{'尼克·貝爾格', '伊朗'} {'尼克·貝爾格'}\n",
            "{'高宗', '兒子', '宋高宗', '南宋', '宋徽宗', '北宋', '皇帝', '宋朝'} {'宋欽宗', '宋高宗', '南宋', '宋朝君主列表'}\n",
            "{'馬達加斯加', '熱點_(地質學)', '生物', '生物多樣性'} set()\n",
            "{'1977年', '印度總理', '乾酪', '印度', '總理'} {'純素起司', '茅屋起司', '起司濃湯'}\n",
            "{'阿羅漢', '修行', '上座_(佛教)', '上座部', '佛教', '部', '上座部佛教', '羅漢果', '目標'} {'修道', '三明六通', '菩薩道', '上座部'}\n",
            "{'重量', 'IPod'} {'IPod'}\n",
            "{'精英大學', '自由大學', '號', '柏林自由大學', '名_(人名)', '柏林'} {'柏林洪堡大學', '柏林自由大學', '柏林工業大學'}\n",
            "{'佛經', '發展', '籍', '佛教'} set()\n",
            "{'戰爭與和平', '戰爭', '巴比倫戰爭', '巴比倫'} {'巴比倫戰爭'}\n",
            "{'618年', '舉事', '楊素', '618', '隋煬帝'} set()\n",
            "{'許世友', '紅四軍_(紅四方面軍)'} {'許家窪'}\n",
            "{'馬克思主義', '馬克思·多爾穆瓦站', '格魯喬·馬克思', '卡爾·馬克思', '馬克思主義政治經濟學', '資本論', '政治經濟學', '海因裏希·馬克思'} {'馬克思主義政治經濟學', '資本論', '河上肇', '女人資本論'}\n",
            "{'石器時代', '石器', '生物', '史前時代'} {'磨製石器', '中國中石器文化列表', '中國史前文化', '石器', '中石器時代'}\n",
            "{'馬克思主義', '馬克思·多爾穆瓦站', '格魯喬·馬克思', '卡爾·馬克思', '馬克思主義政治經濟學', '資本論', '政治經濟學', '海因裏希·馬克思'} {'河上肇', '馬克思主義政治經濟學', '政治經濟學批判大綱', '資本論', '伊拉里昂·伊格納切維奇·考夫曼'}\n",
            "{'霜', '硫', '木衛一', '原稿', '木星的衛星', '二氧化硫'} set()\n",
            "{'臺中市', '廣福裏', '臺中市立啓明學校', '臺灣', '教育', '生', '學校', '特殊教育'} {'臺中市立啓聰學校', '臺中市立啓明學校'}\n",
            "{'島嶼', '釣魚臺列嶼', '無人島', '釣魚臺'} {'釣魚臺列嶼', '釣魚臺列嶼主權問題', '中華民國臺灣地區島嶼列表', '釣魚臺燈塔'}\n",
            "{'遼朝', '中國北方航空', '狩獵採集', '民族', '北', '中國', '狩獵', '君主制'} {'遼朝皇后及妃嬪列表'}\n",
            "{'照相機', '現代史', '數碼相機'} {'賓得士Optio系列'}\n",
            "{'概念', '物流', '軍事組織', '古代史', '中國歷史', '中國'} {'物流'}\n",
            "{'內畫壺', '中國'} {'武昌府'}\n",
            "{'烴', '乙炔', '化學式', '炔烴', '化合物'} {'乙炔銅', '乙炔銀', '乙炔', '碳化鈣', '氰基乙炔'}\n",
            "{'大衆部', '上座部', '教派', '佛教'} {'上座部', '部派佛教', '斯里蘭卡佛教', '教派分裂', '教派'}\n",
            "{'中國人民解放軍戰略支援部隊信息工程大學', '清華大學基礎工業訓練中心', '南開大學日本研究院', '先驗唯心論', '中國民用航空飛行學院', '兩個中國', '經濟法', '華東師範大學', '清華大學社會科學學院', '沙姆地區'} set()\n",
            "{'亞洲', '東京', '經濟學人信息社', '智庫', '報告'} {'經濟學人信息社', '全球最昂貴城市'}\n",
            "{'香港', '香港科技大學', '科技大學'} {'科技大學', '香港科技大學', '香港網上學府', '學府街道', '香港科技大學學生會'}\n",
            "{'盾', '犀渠', '犀牛', '中國', '怪物'} set()\n",
            "{'東部地區', '東部', '太行山', '中國'} {'太行山針藺', '在太行山上', '太行山', '王母宮石窟'}\n",
            "{'差異_(哲學)', '電動機', '蛋糕'} {'巧克力蛋糕', '鱷梨蛋糕', '奶油蛋糕'}\n",
            "{'希臘神話', '證明', '希臘', '神話', '考古學'} {'希臘神話生物列表', '希臘神話', '孤證不立'}\n",
            "{'興盛', '貿易', '廣東省', '粵菜'} {'粵菜'}\n",
            "{'北宋', '趙匡胤', '皇帝', '世紀'} set()\n",
            "{'法國', '路易十四'} set()\n",
            "{'披頭四樂隊', '英國', '單曲'} {'披頭四作品列表', '披頭四樂隊', '橡皮靈魂'}\n",
            "{'週期', '傑拉德·柯伊伯', '流星', '柯伊伯帶'} {'散亂流星', '柯伊伯隕石坑'}\n",
            "{'路德', '馬丁·路德·金', '音樂會', '馬丁·路德', '亞伯拉罕·林肯', '林肯紀念堂', '美國'} {'我有一個夢想'}\n",
            "{'趙丹', '丈夫', '趙青'} set()\n",
            "{'德斯汀·荷夫曼', '角色'} set()\n",
            "{'配偶', '案', '艾根訴加拿大案', '奧林·艾根', '約翰·奈斯比特', '加拿大', '行政機關', '曼弗雷德·艾根'} {'艾根訴加拿大案'}\n",
            "{'全球城市', '歐洲', '總部', '阿姆斯特丹'} set()\n",
            "{'魚', '獵物', '死亡率', '目', '鯡形目', '大魚_(歌曲)'} {'鯡形目'}\n",
            "{'泉州市'} set()\n",
            "{'虛構', '一起_(政黨聯盟)', '吸血', '生物', '吸血鬼', '1985年', '卟啉', '紫質症'} {'吸血毯', '吸血鬼', '吸血'}\n",
            "{'西部', '地區', '薩爾波勒扎哈卜', '伊朗', '地震'} {'薩爾波勒扎哈卜'}\n",
            "{'全球城市', '阿爾弗雷德·諾貝爾', '首都', '挪威', '奧斯陸協議', '瑞典', '奧斯陸', '發明家', '以色列'} {'奧斯陸地鐵', '奧斯陸協議', '奧斯陸主教座堂', '奧斯陸市政廳', '諾貝爾和平獎'}\n",
            "{'中學', '臺北市私立協和祐德高級中學', '臺北市'} {'臺北市私立協和祐德高級中學'}\n",
            "{'少將', '牡丹社', '牡丹', '鹿兒島縣', '明治', '兒玉利國', '演員'} {'兒玉利國'}\n",
            "{'人物', '獎勵', '領域', '獎盃'} {'獎盃'}\n",
            "{'校友', '麻省理工學院', '全球', '經濟體系', '公司'} set()\n",
            "{'工具', '載具', '科學哲學', '化學', '主題', '物理學', '工廠'} set()\n",
            "{'中國音樂', '搖滾', '竇唯', '音樂類型', '中國', '豹'} {'獨立搖滾', '黑豹樂隊'}\n",
            "{'授課語言', '語言', '香港大學', '英語'} {'授課語言'}\n",
            "{'淮劇', '音系學'} {'何叫天', '音韻學', '筱文豔'}\n",
            "{'凱克豪斯魯·沙帕吉·索拉布吉', '吉爾吉特-巴爾蒂斯坦', '阿拉貢的阿方索', '阿茲特克', '吉倫特派', '費爾南多·阿隆索', '美索不達米亞', '丹尼爾·奧爾特加', '阿索斯山', '阿爾伯特親王'} set()\n",
            "{'石器時代', '石器', '小米'} {'中石器時代', '石器', '中國中石器文化列表', '小米'}\n",
            "{'倫琴_(單位)', '威廉·倫琴', '牛肉麪', '射線'} {'威廉·倫琴'}\n",
            "{'總統', '政府', '陳水扁', '記者會', '臺灣醫界聯盟基金會'} {'臺灣醫界聯盟基金會'}\n",
            "{'臺灣時報', '1909年'} {'看守臺灣協會'}\n",
            "{'飲食', '地理環境', '國', '亞美尼亞', '亞美尼亞飲食'} {'阿塞拜疆飲食', '奧地利飲食', '波蘭飲食', '亞美尼亞飲食'}\n",
            "{'魚', '海', '鰓棘杜父魚'} {'梳鰭鬼杜父魚', '臺灣胡鯙', '連鰭杜父魚', '玫瑰裸腹杜父魚', '鰓棘杜父魚'}\n",
            "{'觀點', '長江', '三苗', '苗', '上古時代', '河南省'} {'三苗'}\n",
            "{'加利福尼亞大學', '政府', 'SETI@home', '加利福尼亞大學柏克萊分校'} {'Astropulse', 'BOINC'}\n",
            "{'船', '遊輪', '獅', '客輪', '遠洋定期船', '渡輪'} {'遊輪', '客輪', '珠海高速客輪', '遠洋定期船', '郵輪母港'}\n",
            "{'1990年', '死者能舞', '出版', '音樂專輯'} set()\n",
            "{'南北朝時代_(日本)', '東晉', '宋武帝', '南北朝_(消歧義)', '時代', '南北朝'} set()\n",
            "{'1943', '臺灣', '臺灣日治時期', '臺東廳', '株式會社', '臺東製糖', '地區', '臺東', '明治製糖'} {'越臺糖業', '依萊沃糖業公司', '臺東製糖', '太古糖業', '臺東廳長'}\n",
            "{'香港', '謝雪心'} set()\n",
            "{'阿托品', '靜脈'} set()\n",
            "{'天琴座', '廂座', '星座', '口琴', '形狀', '希臘', '星', '古希臘'} {'天琴座'}\n",
            "{'老年', '太子_(香港)', '庶出子女', '隋朝', '楊勇_(隋朝)', '隋文帝', '長子', '國力', '隋煬帝'} {'隋朝', '隋朝行政區劃'}\n",
            "{'質量', '天氣'} set()\n",
            "{'蔡卓妍', '藝人', '香港', '大溫哥華', '溫哥華'} {'常在我心'}\n",
            "{'盧卡斯·迪奧多斯基', '足球'} {'盧卡斯·迪奧多斯基'}\n",
            "{'世紀', '查理·曼紐爾', '主教座堂', '查理曼'} {'查理曼'}\n",
            "{'貿易', '廣東省', '粵菜'} set()\n",
            "{'香港國際機場', '國際機場', '時間'} {'機場稅'}\n",
            "{'敏迷龍屬', '屬', '脊索', '龍', '脊索動物'} {'脊索', '嗅球類', '脊索動物'}\n",
            "{'學生', '宋高宗', '南宋', '宋徽宗', '北宋', '皇帝', '宋朝'} {'宋欽宗', '趙諶', '南宋', '宋高宗', '宋朝君主列表'}\n",
            "{'人類', '附果', '果', '草莓', '物', '果實'} {'草莓屬', '草莓'}\n",
            "{'聖彼得堡', '俄羅斯人', '俄羅斯', '城市', '動物', '俄羅斯人口', '人口'} set()\n",
            "{'臺灣總督府民政部', '臺灣總督府', '臺灣', '總督府', '行政院', '現在', '行政機關'} {'臺灣總督府氣象臺', '臺灣總督府民政部', '臺灣總督府評議會', '臺灣總督府'}\n",
            "{'遼朝', '遊牧', '中國北方航空', '遼', '北', '中國', '遊牧民族', '君主制'} {'遼朝皇后及妃嬪列表', '現行君主制政權列表', '北遼', '東遼國'}\n",
            "{'斯卡帕灣', '公海艦隊自沉事件', '如今'} {'路德維希·馮·羅伊特', '斯卡帕灣', '公海艦隊自沉事件'}\n",
            "{'歐洲民族', '歐洲', '民族', '日耳曼語族', '印歐語系'} {'歐洲民族', '北日耳曼語支', '東日耳曼語支', '波羅的語族', '印歐語系'}\n",
            "{'南極條約體系', '康沃爾冰川', '今天', '南極'} {'迪圖瓦冰原島峯', '麥克貝恩山', '康韋爾山', '康沃爾冰川'}\n",
            "{'總統', '代理_(政治)', '羅曼·伊戈列維奇·普京', '小時', '俄羅斯代理總統', '俄羅斯', '弗拉基米爾·普京'} {'柳德米拉·普京娜', '2000年俄羅斯總統選舉', '俄羅斯代理總統'}\n",
            "{'答案', '思想'} set()\n",
            "{'醫生', '經營者', '臺北市', '臺北醫學大學'} {'李祖德'}\n",
            "{'政府', '1965年', '中華民國', '臺灣', '臺灣獨立運動', '廖文毅', '三民主義', '先驅', '中華民國政府'} {'廖史豪', '臺灣共和國臨時政府國旗', '臺灣共和國臨時政府', '黃紀男', '廖文毅'}\n",
            "{'歐洲民族', '語言', '歐洲', '民族', '民族國家', '地區'} {'歐洲民族'}\n",
            "{'埃裏希·瑪利亞·雷馬克', '羅馬神話', '衛星', '衛', '木衛六', '木星', '宙斯', '女神', '木星的衛星', '希瑪利亞'} {'木衛六', '希瑪利亞'}\n",
            "{'俄刻阿諾斯', '忒堤斯', '神', '提坦', '陌生人', '水神'} {'俄刻阿尼得斯', '俄刻阿諾斯', '斯堤克斯', '忒堤斯', '俄刻阿諾斯號'}\n",
            "{'臺北', '日治時期'} {'臺北州立臺北第一中學校'}\n",
            "{'大韓民國', '世紀', '地面車站', '20世紀', '煉武臺站'} {'梧濱站', '我新站', '地面車站', '江景線', '煉武臺站'}\n",
            "{'鐒', '歐內斯特·勞倫斯'} {'勞倫斯伯克利國家實驗室', '歐內斯特·勞倫斯'}\n",
            "{'藝術家', '紅館', '音樂會', '蔡卓妍'} set()\n",
            "{'安德烈·尤里耶維奇·勃列日涅夫', '列昂尼德·勃列日涅夫', '中央委員會', '政治局', '尤里·勃列日涅夫'} {'維多利亞·勃列日涅娃', '安德烈·尤里耶維奇·勃列日涅夫', '列昂尼德·勃列日涅夫所獲獎項列表', '列昂尼德·勃列日涅夫', '朝鮮勞動黨中央委員會政治局'}\n",
            "{'馬克思主義', '馬克思·多爾穆瓦站', '格魯喬·馬克思', '作品', '卡爾·馬克思', '馬克思主義政治經濟學', '政治經濟學', '海因裏希·馬克思'} set()\n",
            "{'江戶時代', '功能', '妙義山', '江戶'} {'妙義荒船佐久高原國定公園'}\n",
            "{'春秋_(書)', '春秋', '穀梁傳'} {'公羊傳', '春秋三傳', '穀梁傳'}\n",
            "{'孫子', '司儀', '曹鼎'} {'曹鼎'}\n",
            "{'新北市', '蔡英文', '朱立倫', '新北市市長', '中國國民黨'} {'習朱會', '2019年堺市長選舉', '換柱爭議', '朱立倫', '朱立倫市府'}\n",
            "{'老年', '亂', '國庫', '梁武帝', '侯景', '梁_(南朝)', '侯景之亂'} set()\n",
            "{'高宗', '學生', '宋高宗', '南宋', '宋徽宗', '北宋', '皇帝', '宋朝'} {'宋欽宗', '趙諶', '南宋', '宋高宗', '宋朝君主列表'}\n",
            "{'鐒', '元素週期表', '同系物', '科系', '位置', '物', '差異_(哲學)', '波動性'} {'鐒', 'D區元素'}\n",
            "{'玉', '墨魚科', '扶餘國', '君主', '玉衣', '玄菟郡', '國', '壽衣'} {'扶餘國'}\n",
            "{'蓋茲堡演說', '美國國務卿', '亞伯拉罕·林肯', '美國曆史', '美國', '國務卿'} {'羅伯特·託德·林肯', '亞伯拉罕·林肯', '蓋茲堡演說'}\n",
            "{'船', '遊輪', '客輪', '遠洋定期船', '乘客', '渡輪'} {'遊輪', '客輪', '遠洋定期船', '郵輪母港', '客運樓'}\n",
            "{'作曲家', '尼爾·韋伯', '卡爾·馬利亞·馮·韋伯', '音樂劇', '安德魯·勞埃德·韋伯', '馬克斯·韋伯', '韋伯', '貓_(音樂劇)'} set()\n",
            "{'總統', '羅斯福', '富蘭克林', '美國總統', '富蘭克林·德拉諾·羅斯福', '交通事故', '美國'} {'富蘭克林', '羅斯福總統', '羅斯福家族', '富蘭克林·德拉諾·羅斯福總統圖書館暨博物館', '小富蘭克林·德拉諾·羅斯福'}\n",
            "{'希臘神話', '名稱', '希臘', '神話', '木衛三十九', '女神', '木星的衛星', '木衛三'} {'藤井登美惠', '赫革摩涅', '希臘神話生物列表', '陳美惠', '霍爾三十九族'}\n",
            "{'糖尿病', '桂皮', '妊娠糖尿病'} {'2型糖尿病', '妊娠糖尿病', '抗糖尿病藥'}\n",
            "{'紐約', '泰坦尼克號', '首飛'} {'南非航空航點', '鐵達尼號船員列表', '鐵達尼號主樓梯', '突尼斯航空航點'}\n",
            "{'島嶼', '地中海', '撒丁島', '家畜'} {'撒丁島'}\n",
            "{'阿爾弗雷德·諾貝爾', '首都', '挪威', '奧斯陸協議', '瑞典', '奧斯陸', '發明家', '以色列', '諾貝爾和平獎'} {'奧斯陸城市博物館', '奧斯陸地鐵', '奧斯陸協議', '奧斯陸主教座堂', '奧斯陸市政廳'}\n",
            "{'希臘神話', '名稱', '木衛十五', '衛', '希臘', '木材', '木星的衛星', '樹'} {'木衛十五', '木衛十二'}\n",
            "{'阿斯泰·妮爾森', '深淵', '20世紀', '世紀'} {'深淵', '阿斯泰·妮爾森'}\n",
            "{'現在', '馬克', '馬克·吐溫', '作家'} set()\n",
            "{'李賦寧', '祖籍'} {'李賦寧', '常若柱', '李儀祉', '李賦都'}\n",
            "{'烏克蘭'} set()\n",
            "{'非營利組織', 'ACM', '利潤', '組織', '技術', '訊息_(蘋果)', 'SIG'} set()\n",
            "{'國慶日', '日期', '明朝', '武昌區', '政變'} {'寧遠兵變'}\n",
            "{'盧卡斯·埃爾南德斯', '喬治·盧卡斯', '盧卡斯·古博特', '授權', '盧卡斯·佩雷斯', '盧卡斯·雷瓦', '盧卡斯·巴斯克斯', '星際大戰'} set()\n",
            "{'老年', '太子_(香港)', '庶出子女', '隋朝', '楊勇_(隋朝)', '隋文帝', '長子', '隋煬帝'} {'雲昭訓', '楊儼'}\n",
            "{'地勢', '嘉興市', '尼羅河'} {'克拉斯諾耶湖'}\n",
            "{'錢偉長', '院士', '中國科學院院士', '中國科學院'} {'中國科學院院士列表'}\n",
            "{'國', '香料', '亞美尼亞', '亞美尼亞飲食'} {'阿塞拜疆飲食', '亞美尼亞飲食'}\n",
            "{'魏', '三國', '曹魏', '南', '政權', '曹', '領土', '人口'} {'三國時期君主列表', '曹魏', '何祗', '三國殺Online'}\n",
            "{'喬治三世', '喬治·哈里森', '喬治·桑', '卟啉', '評書', '疾病'} {'紫質症'}\n",
            "{'種子', '植物', '動物', '新月沃土', '多年生植物'} {'新月沃土'}\n",
            "{'外海街道', '海里', '漁船', '海', '文化', '行政院', '蘭嶼', '達悟族'} {'達悟族'}\n",
            "{'歧視', '第二次世界大戰', '對日民間索賠', '經濟補償', '創傷', '類型'} {'對日民間索賠'}\n",
            "{'名', '方中信', '夏文汐', '亦舒', '電影', '朝花夕拾'} {'朝花夕拾'}\n",
            "{'古羅馬', '羅馬神話', '歐洲', '神話', '朱庇特', '羅馬', '天神'} {'天神町', '朱庇特'}\n",
            "{'工具', '人類'} {'工具', '園藝工具'}\n",
            "{'文學', '荷馬', '史詩', '荷馬史詩', '希臘', '古希臘文學', '希臘文學', '古希臘'} {'荷馬史詩'}\n",
            "{'香港', '立法院', '周慧敏·最愛V25', '周慧敏·新曲+精選', '方文琳', '周慧敏'} {'沈雁', '失物招領：周慧敏精選', '周慧敏'}\n",
            "{'日本', '職業', '卡通', '藤島康介'} {'大卡通資料庫', '御伽貓夢', '藤島康介'}\n",
            "{'錳酸鉀', '昆蟲', '化學式', '水', '氧化劑', '高錳酸鉀'} {'化學當量', '高錳酸鉀', '高錳酸銀', '伯醇氧化至羧酸'}\n",
            "{'護照', '駕駛執照', '國家'} set()\n",
            "{'國', '一邊一國', '標語', '中國'} {'一邊一國', '中華職棒年度口號', '一邊一國連線'}\n",
            "{'經濟學人', '經濟學'} {'非主流經濟學'}\n",
            "{'視星等', '黃道帶', '恆星', '獅子座', '黃道', '星等'} {'巨蟹座', '獅子座79', '獅子座ψ', '獅子座', '獅子座ρ'}\n",
            "{'進士', '嘉興市', '江蘇省_(中華民國)', '沈鈞儒', '江蘇省'} {'沈鈞儒', '鄭敦謹', '莊心庠'}\n",
            "{'維納斯', '塑像', '羅馬'} {'米洛的維納斯'}\n",
            "{'C_(音名)', 'GCC', 'C', '系統', 'C++'} {'GCC'}\n",
            "{'威廉·倫琴', '倫琴_(單位)', 'X射線'} {'威廉·倫琴'}\n",
            "{'莫斯科', '博古'} set()\n",
            "{'肖恩·約翰遜', '林登·約翰遜', '鮑里斯·約翰遜', '克里斯·約翰遜', '越南戰爭', '塞繆爾·約翰遜', '斯蒂夫·約翰遜', '美國'} set()\n",
            "{'歐洲民族', '語言', '歐洲', '民族', '民族國家', '地區'} {'歐洲民族'}\n",
            "{'王', '鳳凰', '傳說_(2010年電視劇)', '傳說', '哺乳動物', '龍', '中國'} set()\n",
            "{'張谷英', '中國歷史文化名村', '張谷英村', '中國'} {'張谷英鎮', '張谷英村', '張谷英'}\n",
            "{'鐒', '名稱', '物理學家', '美國', '勞倫斯', '歐內斯特', '歐內斯特·勞倫斯'} {'勞倫斯隕石坑', '歐內斯特·沃爾頓', '迴旋加速器', '歐內斯特·勞倫斯'}\n",
            "{'歌手', '周慧敏·最愛V25', '美洲', '周慧敏·新曲+精選', '歌手·當打之年', '方文琳', '周慧敏'} {'周慧敏音樂作品列表', '沈雁', '失物招領：周慧敏精選', '周慧敏'}\n",
            "{'目標', '得分', '籃球'} set()\n",
            "{'高建_(韓國)', '政治', '越南', '反腐敗', '國際', '腐敗', '政治家', '會長', '透明國際'} {'高建'}\n",
            "{'區_(英格蘭)', '奧克蘭_(加利福尼亞州)', '南半球', '都市圈', '奧克蘭市'} set()\n",
            "{'濺射', '化學氣相沉積', '沉積'} {'物理氣相沉積', '表面改性技術'}\n",
            "{'人類', '假說', '南', '人屬', '人類演化', '演化'} {'人類演化歷程', '人類演化', '演化生物學', '宏觀演化'}\n",
            "{'自由', '亞當·斯密', '代表作', '資本主義政治經濟學', '資本主義', '功能', '政治經濟學', '國富論', '競爭'} {'資本主義政治經濟學', '政治經濟學批判', '亞當·斯密'}\n",
            "{'詞_(語言)', '問題', '微分方程', '地方'} {'伯努利微分方程', '全微分方程'}\n",
            "{'倫琴_(單位)', '威廉·倫琴', '物質', 'X射線'} {'威廉·倫琴'}\n",
            "{'真靈長大目', '靈長大目', '目_(生物)', '目'} {'真靈長大目', '靈長總目', '靈長大目'}\n",
            "{'紗', '華人地區', '德語正寫法', '華人', '袖章', '黑紗'} {'袖章', '黑紗'}\n",
            "{'粉末', '海洛因'} set()\n",
            "{'伊斯蘭教', '北非', '黎巴嫩', '西亞'} {'黎巴嫩阿拉伯語', '阿拉伯世界', '中華人民共和國省級行政區人均地區生產總值列表', '北非阿拉伯人', '黎巴嫩'}\n",
            "{'罪', '尊嚴', '議會', '古代史', '國家'} set()\n",
            "{'聖子', '聖靈', '聖父', '和子說'} {'耶和華見證人和三位一體', '聖靈', '三位一體', '和子說', '聖父'}\n",
            "{'脊柱', '棘皮動物'} {'脊柱外科', '無脊椎動物', '棘皮動物', '舒爾曼病', '海旋板'}\n",
            "{'食糖', '澱粉', '啤酒', '酒', '飲料'} {'啤酒', '釀造酒', '拉格啤酒', '自釀啤酒', '酒精發酵'}\n",
            "{'沈鈞儒', '民國', '民國時期'} {'沈鈞儒'}\n",
            "{'花椒', '物質', '揮發性'} {'屏東花椒', '簕欓花椒', '異葉花椒', '嶺南花椒', '翼柄花椒'}\n",
            "{'政府', '選舉權', '懷俄明州', '法案', '女性', '世界', '地區議會_(德國)'} {'懷俄明州'}\n",
            "{'土星', '土衛一', '土星的衛星'} set()\n",
            "{'歐洲民族', '語言', '歐洲', '民族', '印歐語系', '突厥語族', '語言系屬分類'} {'安那託利亞語族', '波羅的語族', '印歐語系', '突厥語族', '高加索民族'}\n",
            "{'電流', '流', '直流電', '技術', '交流電', '變流技術'} {'電力電子學', '直流-直流轉換器', '變流技術'}\n",
            "{'冰島', '首都', '國內', '城市', '緯度'} {'冰島國立博物館'}\n",
            "{'密西根大學', '美國'} set()\n",
            "{'星期六'} set()\n",
            "{'木蘭花_(電視劇)', '湯姆·漢克斯', '奧斯卡', '奧斯卡·埃爾南德斯', '湯姆·班克斯', '湯姆·克魯斯'} {'減字木蘭花'}\n",
            "{'電子科技大學'} {'中山大學管理學院'}\n",
            "{'喬治·桑', '喬治·哈里森', '喬治三世', '疾病'} set()\n",
            "{'兒童', '命運', '神', '宇宙', '羅馬', '女神', '羅馬女神', '彌涅耳瓦'} {'彌涅耳瓦', '阿皮亞斯'}\n",
            "{'美國', '美國英語', '英語'} {'美國英語', '通用美式英語', '美式中國菜', '美式機車'}\n",
            "{'非營利組織', '慈善組織', '閩南語', '利潤', '閩南語維基百科', '慈善', '組織', '維基百科'} {'中文維基百科', '閩南語維基百科', '粵文維基百科', '英語維基百科', '法語維基百科'}\n",
            "{'馬克思主義', '馬克思·多爾穆瓦站', '格魯喬·馬克思', '卡爾·馬克思', '馬克思主義政治經濟學', '資本論', '政治經濟學', '海因裏希·馬克思'} {'馬克思主義政治經濟學', '資本論', '河上肇', '女人資本論'}\n",
            "{'角川書店', '天使怪盜', '盜', '書店', '杉崎由綺琉', '漫畫雜誌'} {'月刊Asuka', '女神候補生', '天使怪盜', '杉崎由綺琉', '炸彈小新娘'}\n",
            "{'背景', '九州縹緲錄', '小說', '九州', '九州·天空城II', '世界'} {'九州'}\n",
            "{'社會', '政治運動', '1957年', '政治家', '章伯鈞'} set()\n",
            "{'氣味', '東南亞', '味覺', '國家', '馬來西亞', '榴槤'} {'榴槤'}\n",
            "{'桃園市', '直轄市', '中華民國', '直轄市_(中華民國)', '海', '面積', '西', '市_(中華民國)'} {'桃園市市長', '桃園市', '桃園市政府'}\n",
            "{'臺灣', '2010年臺北國際花卉博覽會', '國際園藝博覽會'} {'2019年中國北京世界園藝博覽會', '2010年臺北國際花卉博覽會', '德國聯邦園藝博覽會', '2014年世界園藝博覽會', '2018年臺中世界花卉博覽會'}\n",
            "{'羅馬化', '阿拉斯加州', '閩南語', '閩南語維基百科', '白話', '總部', 'WMF', '白話字'} {'閩南語維基百科', 'WMF'}\n",
            "{'鉻', '紅寶石', '玉', '寶石', '剛玉', '紅色', '金屬', '東方藍巨人'} {'紅寶石', '藍寶石', '剛玉'}\n",
            "{'子公司', '公司'} set()\n",
            "{'創新', '全球', '麗臺科技'} set()\n",
            "{'熱空氣', '玻璃', '溫室', '功能', '空氣'} {'溫室'}\n",
            "{'流星'} {'散亂流星'}\n",
            "{'共和黨', '社會'} set()\n",
            "{'美國', '花旗銀行', '總部', '農村'} set()\n",
            "{'香港', '作家', '金庸', '香港島', '柴灣', '明報'} {'明報', '世界華文媒體'}\n",
            "{'新華網', '國務院_(聖座)', '中華人民共和國國務院', '新華社', '事業單位', '網站'} {'新華社倫敦分社', '新華社莫斯科分社', '新華社布拉格分社', '新華社', '新華社平壤分社'}\n",
            "{'作家'} set()\n",
            "{'程序員'} {'程序員', '軟體度量'}\n",
            "{'工藝美術', '內畫壺', '技術', '世紀'} set()\n",
            "{'事實', '演化', '人類演化', '人類'} {'人類演化歷程', '事實'}\n",
            "{'榴彈炮', '炮兵'} {'M-68榴彈炮', 'M101榴彈炮', '榴彈炮', '280毫米榴彈炮'}\n",
            "{'海星', '身體', '代表', '棘皮動物'} {'海星', '十字海星', '海星亞門', '棘皮動物', '海星街道'}\n",
            "{'象徵', '尼泊爾', '人類', '文化', '1949年', '家牛', '地區', '牛族'} set()\n",
            "{'西安市', '楊虎', '西安事變', '楊虎城'} {'兵諫亭', '西安事變', '楊虎城'}\n",
            "{'藩', '行政區劃', '府_(行政區劃)', '字_(計算機)', '潛藩升府', '元朝君主列表', '皇帝', '元朝'} {'潛藩升府', '常德府'}\n",
            "{'分類學', '鳥', '日本鶺鴒', '雀形目', '生物分類學', '屬', '日本', '鶺鴒科', '目_(生物)'} {'山鶺鴒', '白鶺鴒', '印度鶺鴒', '西方黃鶺鴒', '灰鶺鴒'}\n",
            "{'民族主義', '政府', '中華民國', '臺灣', '2000', '臺灣獨立運動', '廖文毅', '先驅', '中華民國政府', '臺灣民族主義'} {'廖史豪', '臺灣共和國臨時政府國旗', '臺灣共和國臨時政府', '黃紀男', '廖文毅'}\n",
            "{'馬來語', '拿督'} {'拿督'}\n",
            "{'民族主義', '蔡元培', '元培', '價值'} set()\n",
            "{'北马里亞納羣島', '熱帶海洋性氣候', '面積', '海洋性氣候', '熱帶', '氣候'} {'密克羅尼西亞運動會', '.mp', '卡皮托爾希爾'}\n",
            "{'百靈屬', '鳥', '雀百靈屬', '雀形目', '屬', '百靈科', '目'} {'雀百靈屬', '雀形目', '林百靈', '歌百靈屬', '角百靈屬'}\n",
            "{'臺北市', '張其昀', '部長'} {'張其昀'}\n",
            "{'國慶日', '日期', '清朝', '中國', '政變'} set()\n",
            "{'SETI@home', '程序', '用戶_(計算機)'} {'SETI@home'}\n",
            "{'德國曆史', '霍亨索倫王朝', '共和制', '魏瑪共和國', '魏瑪', '德國'} {'魏瑪共和國上議院', '霍亨索倫的奧古斯塔·維多利亞', '魏瑪共和國'}\n",
            "{'藥物', '化學物質', '化學'} {'化學物質'}\n",
            "{'樂山大佛', '大佛'} {'樂山大佛', '海通和尚'}\n",
            "{'衛星', '地理學', '地理學家', '宇宙', '土衛一'} {'土衛四十九', '土衛一', '土衛三', '土衛一表面特徵列表'}\n",
            "{'亞硝酸鹽', '韓式泡菜', '卡路里', '世界', '泡菜', '食物', '健康', '醃'} {'韓式泡菜', '飯饌', '洪魚膾', '蘿蔔泡菜', '高麗胡蘿蔔菜'}\n",
            "{'答案', '問題', '方法'} {'答案', '問題'}\n",
            "{'行政區劃', '區_(英格蘭)', '孟加拉國', '庫爾納縣', '魯普薩烏帕齊拉', '烏帕齊拉'} {'庫伊拉烏帕齊拉', '特羅卡達烏帕齊拉', '魯普薩烏帕齊拉', '杜穆里亞烏帕齊拉', '烏帕齊拉'}\n",
            "{'1987年', '組別_(體育)', '維基百科', '電子藝術大獎'} {'電子藝術大獎'}\n",
            "{'經濟學人', '經濟學', '文盲'} {'功能性文盲', '文盲', '中央人民政府掃除文盲工作委員會'}\n",
            "{'患者', '阿托品', '近視'} {'阿托品'}\n",
            "{'特別攻擊隊', '航空母艦', '跟蹤支援隊'} {'特別攻擊隊'}\n",
            "{'排球', '世界'} {'沙灘排球'}\n",
            "{'島嶼', '領土', '殖民主義', '百慕達三角'} set()\n",
            "{'臺灣清治時期', '臺灣', '軍事組織', '澎湖鎮', '清朝', '澎湖羣島', '巴士海峽', '海峽', '地區'} {'衛生福利部澎湖醫院', '澎湖廳長', '澎湖縣文化資產', '澎湖鎮', '張其光'}\n",
            "{'士林區', '新北市政府', '妻子', '院長', '衛生局', '醫院', '新北市', '部長'} {'林奇宏', '臺中市政府衛生局', '臺北市政府衛生局', '臺南市政府衛生局'}\n",
            "{'日本', '日本百貨公司', '伊藤洋華堂', '百貨公司'} {'伊藤洋華堂', '鈴木敏文'}\n",
            "{'人因工程學', '人體', '工業設計'} set()\n",
            "{'人類', '原材料', '酒', '果酒', '果實'} {'蘋果酒', '大果酒餅簕', '標準酒度', '酒'}\n",
            "{'理論', '名稱', '力學', '語態', '流體力學'} {'水力學'}\n",
            "{'配角', '香港', '金馬獎最佳男配角', '黃秋生', '金馬獎', '演員'} set()\n",
            "{'葡萄酒', '酒', '果酒', '蘋果酒', '世界'} {'蘋果酒'}\n",
            "{'寒武紀大爆發', '亞洲', '生物', '寒武紀', '寒武紀_(消歧義)'} {'寒武紀大爆發', '埃迪卡拉紀末期滅絕事件', '顯生宙'}\n",
            "{'文森特·梵高'} set()\n",
            "{'艾伯特縣', '科羅拉多州', '南部', '艾伯特_(科羅拉多州)', '縣', '政區首長', '美國'} {'艾伯特縣'}\n",
            "{'烏克蘭', '面積', '桑比爾', '桑比爾區', '改革'} {'圖爾卡區', '桑比爾區'}\n",
            "{'類', '葡萄', '果實', '穎果'} {'山葡萄', '穎果'}\n",
            "{'亞洲', '藤島康介', '藝術家', '職業', '卡通'} {'藤島康介'}\n",
            "{'李美妍', '皇后', '明成皇后'} {'李美妍'}\n",
            "{'上腔靜脈', '阿托品', '靜脈注射', '靜脈', '腔靜脈'} {'腔靜脈'}\n",
            "{'島嶼', '島嶼國家', '數字', '動物', '世界'} {'島嶼國家'}\n",
            "{'河北省', '省部共建', '燕山_(消歧義)', '部', '省', '工廠', '燕山大學', '三省六部'} {'燕山大學', '燕山大學科技園'}\n",
            "{'蜀漢', '三國', '武將', '黃忠', '三國演義'} {'馬超', '演義', '五虎將', '黃忠', '鄧家五虎'}\n",
            "{'病毒', '紙', '人類', '中國', '造紙術'} {'造紙術'}\n",
            "{'臺灣', '臺灣總督', '清朝', '天皇', '總督', '地方行政首長'} {'臺灣總督府'}\n",
            "{'蒙哥馬利·史考特', '史考特·朗恩', '麥可·史考特', '史考特·詹森', '史考特·普魯特', '克莉斯汀·史考特·湯瑪斯', '西恩·威廉·史考特', '洲', '雷利·史考特'} set()\n",
            "{'石器時代', '人類', '文字', '史前時代', '石器', '時代', '歷史'} {'史前時代', '史前朝鮮', '中國史前文化', '石器', '中石器時代'}\n",
            "{'國立臺灣科技大學研揚大樓', '科技大學_(臺灣學制)', '國立臺灣科技大學'} {'國立高雄海洋科技大學', '國立臺灣科技大學管理研究所', '國立臺灣科技大學校史室', '國立臺灣科技大學研揚大樓'}\n",
            "{'紫荊文化集團', '鳳凰衛視', '中央企業'} {'鳳凰衛視香港臺', '鳳凰衛視電影臺', '紫荊文化集團', '鳳凰衛視中文臺', '鳳凰衛視相關爭議'}\n",
            "{'四川省', '畫夢錄', '詩人', '漢園三詩人', '何其芳', '哲學系', '北京大學', '巴蜀人'} {'畫夢錄', '卞之琳', '漢園三詩人', '何其芳', '李廣田'}\n",
            "{'李賦寧', '教育家', '死亡', '中國', '交通事故'} {'李賦寧', '李賦都'}\n",
            "{'流產', '出生', '胎兒'} {'流產', '產前發育', '出生'}\n",
            "{'美國人口', '花旗銀行', '城市', '總部', '美國', '人口'} {'花旗銀行', '花旗銀行（中國）', '花旗（臺灣）商業銀行'}\n",
            "{'金融危機', '亞洲', '亞洲金融風暴', '現代集團', '鄭周永', '危機', '兒子', '公司'} {'現代集團'}\n",
            "{'母親', '雍正帝', '仁皇后', '清朝', '皇帝', '孝恭仁皇后'} {'仁皇后'}\n",
            "{'石器時代', '人類', '文字', '史前時代', '客體', '石器', '時代'} {'香港史前時期', '史前時代', '中國史前文化', '石器', '中石器時代'}\n",
            "{'自體受體', '神經遞質', '受體_(生物化學)', '神經元'} {'自體受體', '體抑素'}\n",
            "{'古羅馬', '神廟', '古代_(上加龍省)', '希臘', '拜占庭', '羅馬', '古希臘'} set()\n",
            "{'總統', '林登·約翰遜', '約翰遜_(姓氏)', '戰爭', '醫事人員', '越南戰爭', '美國'} {'醫事放射師'}\n",
            "{'泉州市', '絲綢之路'} {'絲綢之路'}\n",
            "{'分支', '漢語音韻學', '語言學'} {'臺灣漢語音韻學研究', '等韻學', '漢語音韻學', '音系學', '漢語方言'}\n",
            "{'臺灣', '琉球', '琉球嶼', '古代史', '香港學界體育聯會'} {'琉球歷史', '琉球語', '小琉球三隆宮', '琉球鄉'}\n",
            "{'亞洲', '長度', '淡水河', '淡水_(消歧義)', '河流'} {'世界鈾產量排行'}\n",
            "{'現象', '年齡', '晟碟公司', '東漢', '帝'} set()\n",
            "{'脂類', '戊二烯', '生物', '酮', '分子', '公寓', '異戊二烯'} {'脂質體', '脂類'}\n",
            "{'查理·曼紐爾', '主教座堂', '查理曼'} set()\n",
            "{'人種', '首都', '新西蘭', '城市', '大洋洲', '文化中心', '大洋洲_(太平洋諸島嶼)', '惠靈頓'} {'惠靈頓'}\n",
            "{'若瑟·蘇格拉底', '蘇格拉底', '後人', '作品', '對話', '蘇格拉底·布拉濟萊羅·奧利維拉'} set()\n",
            "{'仙人掌', '墨西哥', '墨西哥國徽', '月桂', '忠', '國徽'} {'墨西哥國徽'}\n",
            "{'配角', '湯姆·漢克斯', '奧斯卡', '奧斯卡·埃爾南德斯', '奧斯卡最佳男配角獎', '湯姆·班克斯', '湯姆·克魯斯', '花木蘭'} {'畢·彼特', '安東尼·奎恩'}\n",
            "{'喬瓦尼·多梅尼科·卡西尼', '法蘭西學會', '籍', '卡西尼', '月球', '主教', '國籍', '法國'} {'喬瓦尼·多梅尼科·卡西尼', '卡西尼', '塞薩爾-弗朗索瓦·卡西尼·德·蒂裏', '卡西尼定律', '雅克·卡西尼'}\n",
            "{'金朝', '現象', '大學'} set()\n",
            "{'民意代表', '新黨'} set()\n",
            "{'透明', '內臟', '腹', '神農'} set()\n",
            "{'凱蒂·史密斯', 'J·R·史密斯', '威爾·史密斯', '奈史密斯籃球名人紀念堂', '詹姆斯·奈史密斯', '考·奈史密斯', '今天', '姚明'} {'大衛·斯托克頓', '奈史密斯籃球名人紀念堂', '傑克·希克馬', '姚明'}\n",
            "{'教會', '組織', '道教'} {'個別教會', '教會'}\n",
            "{'治療', '肥胖症', '飲_(中醫)'} set()\n",
            "{'雍正帝', '收養', '仁皇后', '孝恭仁皇后'} {'仁皇后'}\n",
            "{'德州', '呼吸', '德州儀器', '晶體管', '呼吸管', '年代', '世界'} set()\n",
            "{'史丹佛大學', '朱棣文', '小利蘭·斯坦福', '斯坦福'} {'斯坦福醫學院'}\n",
            "{'糧食', '營養', '類'} {'宏量營養素', '人類鐵代謝', '營養學', '營養', '五大營養素'}\n",
            "{'魚', '毒魚豆', '印度人'} {'毒魚豆'}\n",
            "{'程序員', '專業人士', '專業', '程序設計', '領域'} {'程序設計實踐', '程序設計方法', '程序員', '教育編程語言列表', '程序設計'}\n",
            "{'處_(佛教)', '波士頓', '區域', '大波士頓'} set()\n",
            "{'社會'} set()\n",
            "{'武器', '第二次世界大戰', '對日民間索賠', '創傷', '問題'} {'對日民間索賠'}\n",
            "{'哈爾科夫', '烏克蘭', '基留希', '高樓_(消歧義)', '哈爾科夫州'} {'基留希'}\n",
            "{'鄱陽湖', '江西省', '中國', '淡水湖', '鄱陽'} {'鄱陽縣', '鄱陽湖', '漳田河', '鄱陽', '鄱江'}\n",
            "{'有期徒刑', '政府', '無期徒刑', '1998年', '武將', '塔莫克', '宋成', '波爾布特'} {'宋成'}\n",
            "{'錳酸鉀', '化學', '化學式', '乙醇', '水', '高錳酸鉀'} {'高錳酸銀', '高錳酸鉀'}\n",
            "{'爵士樂', '小號', '音樂', '古典音樂', '畫筆'} {'畫筆'}\n",
            "{'民族主義', '政府', '1965年', '中華民國', '臺灣', '臺灣獨立運動', '廖文毅', '先驅', '中華民國政府', '臺灣民族主義'} {'黃紀男', '廖史豪', '廖文毅', '臺灣共和國臨時政府'}\n",
            "{'老年', '太子_(香港)', '庶出子女', '隋朝', '楊勇_(隋朝)', '隋文帝', '長子', '隋煬帝'} {'隋朝', '隋朝行政區劃'}\n",
            "{'夏威夷大學', '斯科特·謝潑德'} set()\n",
            "{'SETI@home', '程序'} set()\n",
            "{'饕餮', '形象', '網絡遊戲', '作品'} {'艾鳴網路遊戲', '饕餮'}\n",
            "{'喬治·赫伯特·沃克·布什', '信息', '北美洲', '喬治·羅傑斯·克拉克', '伯茲克里克_(喬治亞州)', '北美東部時區', '喬治亞州'} set()\n",
            "{'香港', '劉丹', '民意代表', '劉丹_(香港)', '工作', '本名'} {'何寶珊', '曾慶珏'}\n",
            "{'工藝', '美學', '手工藝'} {'手工藝'}\n",
            "{'月球表面', '月食', '月球'} {'月食', '2006年9月7日月食', '19世紀月食列表', '2011年6月15日月食', '2014年10月8日月食'}\n",
            "{'西南', '墨西哥', '瓜達拉哈拉_(墨西哥)', '城市', '太平洋'} {'瓜達拉哈拉體育會'}\n",
            "{'京九鐵路'} {'京九鐵路', '京港高速鐵路'}\n",
            "{'城市規劃', '龍頭', '首部'} {'城市規劃'}\n",
            "{'演員', '動作片演員', '成龍'} {'成龍歷險記', '成龍', '洪昰顥'}\n",
            "{'國務院', '單位_(社會組織)', '1949年', '中華人民共和國國務院', '中華人民共和國水利部', '中華人民共和國'} {'中央人民政府水利部', '中華人民共和國煤炭工業部', '中華人民共和國中央人民政府成立典禮', '中華人民共和國環境保護部', '中華人民共和國水利部'}\n",
            "{'大氣層', '天王星', '太陽系', '行星'} {'天王星軌道探測器', '內側行星和外側行星', '冰巨行星', '天王星', '太陽系天體列表'}\n",
            "{'奧古斯都', '御座', '蓋烏斯·屋大維', '70', '兒子'} set()\n",
            "{'弗朗西斯·科波拉', '美國風情畫', '劇本'} {'美國風情畫', '李察·德雷福斯'}\n",
            "{'食物', '颱風'} {'食物安全中心'}\n",
            "{'伯茲克里克_(喬治亞州)', '北美洲', '北美東部時區'} {'北美東部時區', 'UTC+11:00', '墨西哥時區'}\n",
            "{'香港', '異性戀', '模特兒', '馬詩慧'} {'異性戀主義'}\n",
            "{'神話_(書)', '羅馬神話', '普路託', '羅馬', '冥王'} {'哈得斯', '普路託', '冥王', '冥神'}\n",
            "{'制約', '伊萬·巴甫洛夫', '貓', '古典制約'} {'制約', '古典制約'}\n",
            "{'印度', '神話', '吠陀', '民族', '系統', '印度教', '語言系屬分類', '印度教神話'} {'吠陀梵語', '吠陀文化', '吠陀', '吠陀宗教', '印度教神話'}\n",
            "{'思想', '康有爲', '大同_(思想)'} {'太和', '思想罪', '康有爲墓', '大同書'}\n",
            "{'政區首長'} set()\n",
            "{'大氣層', '天王星', '溫', '太陽系', '行星'} {'天王星軌道探測器', '內側行星和外側行星', '冰巨行星', '天王星', '天王星氣候'}\n",
            "{'夫人', '婚姻'} {'冼夫人'}\n",
            "{'汞', '電流', '紫外線', '電', '可見光', '燈', '螢光燈'} set()\n",
            "{'臺鐵區間車', '班距', '區間', '臺灣鐵路', '七堵區', '今天', '潮州市', '堵姓'} {'臺鐵區間車'}\n",
            "{'釣魚臺列嶼', '釣魚臺'} {'中華民國臺灣地區島嶼列表', '衝南巖', '釣魚臺燈塔', '釣魚臺列嶼主權問題', '釣魚臺列嶼'}\n",
            "{'馬克思主義', '馬克思·多爾穆瓦站', '格魯喬·馬克思', '卡爾·馬克思', '馬克思主義政治經濟學', '資本論', '政治經濟學', '海因裏希·馬克思'} {'馬克思主義政治經濟學', '資本論', '河上肇', '女人資本論'}\n",
            "{'大氣層', '溫度', '天王星', '面_(幾何)', '行星_(占星術)', '太陽系', '行星', '青色', '太陽'} {'天王星'}\n",
            "{'好萊塢', '成龍', '票房', '成功', '本名', '演員', '時代', '美國'} {'成龍'}\n",
            "{'基因', '性狀'} {'基因表現', '相對性狀', '人工選擇', '數量性狀基因座', '性狀'}\n",
            "{'威廉·倫琴', '倫琴_(單位)', 'X射線', '射線'} {'威廉·倫琴'}\n",
            "{'癌症', '李賦寧', '教育家', '中國'} {'李賦都'}\n",
            "{'古法語', '獅', '法語', '紋章', '獨角獸', '法國'} {'蘇格蘭皇家徽章', '英國皇家徽章'}\n",
            "{'爆炸', '空氣', '物體', '音速', '聲爆', '速度', '音障', '聲音'} set()\n",
            "{'香港大學', '英語'} set()\n",
            "{'星', '別名', '沙丁魚', '物種', '七星'} {'隆背小沙丁魚', '沙丁魚', '沙丁魚罐頭'}\n",
            "{'詹姆斯·克拉克·麥克斯韋', '馬克士威_(單位)', '物理學家', '方程', '形式', '德國', '馬克士威方程組'} {'論物理力線', '電磁場的動力學理論', '馬克士威方程組的歷史', '馬克士威山脈', '馬克士威方程組'}\n",
            "{'詞', '世紀', '作品', '20世紀', '畫家', '表現主義', '印象派', '法國'} {'表現主義', '那比派'}\n",
            "{'歐洲民族', '語言', '歐洲', '民族', '民族國家', '地區'} {'歐洲民族'}\n",
            "{'歐洲民族', '語言', '歐洲', '民族', '民族國家', '國家'} {'歐洲民族'}\n",
            "{'樂山大佛', '民國時期', '大佛', '民國', '地震'} {'樂山大佛'}\n",
            "{'武器', '肉眼', '光學顯微鏡', '光學', '顯微鏡'} {'顯微鏡'}\n",
            "{'英業達集團', '馬來西亞', '臺灣', '中國', '科技公司', '洲', '中國大陸'} {'英業達集團'}\n",
            "{'政府', '校長', '民國', '臺灣省政府', '臺中市大里區大元國民小學'} {'臺中市大里區永隆國民小學', '臺中市大里區益民國民小學', '臺中市大里區內新國民小學', '臺中市大里區草湖國民小學', '臺中市大里區大元國民小學'}\n",
            "{'電', '遊戲', '國際象棋'} {'國際象棋'}\n",
            "{'漫畫', '名', '奧斯卡', '奧斯卡·埃爾南德斯', '獎勵'} set()\n",
            "{'活動', '行政法'} {'行政法'}\n",
            "{'單片機', '微型計算機'} {'單片機'}\n",
            "{'中華人民共和國勞動人事部', '勞動部', '中華人民共和國'} {'中華人民共和國勞動人事部', '中華人民共和國人事部', '何光', '中華人民共和國勞動和社會保障部', '勞動部'}\n",
            "{'比爾·比紹普', '現在', '2004年', '世', '比爾'} {'比爾·比紹普'}\n",
            "{'歐洲民族', '腳趾', '歐洲', '民族', '指', '國家'} set()\n",
            "{'政府', '王妃', '戴安娜_(電影)', '非政府組織', '威爾士王妃', '組織', '威爾斯', '戴安娜·瑞格', '戴安娜·艾嘉朗', '威爾斯王妃戴安娜'} {'戴安娜廣場', '國際反地雷組織'}\n",
            "{'日語', '日語學校', '臺北市', '臺北市私立新民國民小學'} {'臺北市中山區長安國民小學', '臺北市國民小學列表', '臺北市私立新民國民小學'}\n",
            "{'理論物理學', '保羅·狄拉克', '物理學家'} {'狄拉克之海', '物理學家', '保羅·狄拉克', '狄拉克費米子', '狄拉克方程式'}\n",
            "{'母親', '河', '太原市', '上游', '汾河', '山西省'} {'汾河鎮', '汾河公園', '汾河', '汾河街道'}\n",
            "{'韓正', '中國共產黨中央政治局', '中國共產黨', '政治局', '製造業'} set()\n",
            "{'王安石', '認識', '生活'} {'王安石'}\n",
            "{'歌手', '音樂產業', '竹內瑪莉亞', '作品', '創作歌手', '年代'} {'竹內瑪莉亞'}\n",
            "{'全球', '醫療疏失'} {'醫療疏失'}\n",
            "{'核', '中子', '夸克'} set()\n",
            "{'公衆人物', '保守主義', '斯科特·布赫茲', '澳大利亞', '政黨', '主義'} {'自由保守主義', '舊保守主義'}\n",
            "{'專業', '程序員', '領域', '專業人士'} set()\n",
            "{'葡萄', '果實'} {'蛇葡萄屬', '秋葡萄', '變葉葡萄', '細本葡萄', '葡萄科'}\n",
            "{'乳房', '胸', '胸圍', '內衣'} {'胸圍', '內衣膠帶'}\n",
            "{'浙江省', '自然保護區', '國務院_(聖座)', '中華人民共和國國務院', '湖南省'} {'中華人民共和國國家級自然保護區列表', '臥龍國家級自然保護區'}\n",
            "{'高度', '大西洋', '加布艾萊西島', '島嶼', '海', '蘇格蘭', '面積', '海拔'} {'杜布莫爾島', '加布艾萊西島'}\n",
            "{'黏絲盤蟲', '動物分類表', '動物', '今天', '門', '物種', '絲綢', '扁盤動物門'} {'黏絲盤蟲', '扁盤動物門', '副同源異形基因動物'}\n",
            "{'許世友', '跆拳道'} {'許世友反革命集團案', '許家窪', '上將許世友', '亞洲跆拳道聯盟', '2008年夏季奧林匹克運動會跆拳道比賽'}\n",
            "{'柏林國際電影節', '潮州_(大字)', '李安', '導演', '李·安克里奇', '屏東縣', '潮州鎮', '新加坡'} {'李安'}\n",
            "{'發展', '佛教', '佛經', '法律', '印度'} {'佛經翻譯'}\n",
            "{'魚', '綱', '輻鰭魚綱', '俗名', '輻鰭魚', '脊索動物', '目', '鯡形目'} {'鮭鱸目', '狗魚目', '蟾魚科', '鯡形目', '鯡亞目'}\n",
            "{'答案', '思想', '問題'} {'問題'}\n",
            "{'歷史書', '神話', '日本神話', '昭和', '昭和天皇', '天皇', '日本', '態度'} {'日本神話'}\n",
            "{'珠江', '全長', '流域面積', '流域', '中國', '河流'} set()\n",
            "{'關羽', '張飛', '萬人敵', '三國演義'} {'關羽', '張飛', '五虎將'}\n",
            "{'鼓手', '音樂', '梁朝偉', '流行_(音樂類型)'} {'從前…以後', '爲情所困'}\n",
            "{'許世友', '紅四軍', '代表'} {'許世友反革命集團案', '許家窪', '義大利排球聯賽', '英格蘭行政區劃', '中華民國駐日本大使列表'}\n",
            "{'電影院', '腸道沙門氏菌', '沙門氏菌屬', '達爾·斯蒂芬斯', '沃斯科縣', '傷寒', '1984年羅傑尼希教生物恐怖攻擊', '奧修'} {'1984年羅傑尼希教生物恐怖攻擊', '羅傑尼希社區'}\n",
            "{'後陽成天皇', '夷', '陽成天皇', '德川家康', '大將軍', '江戶', '幕府_(日本)', '大將軍_(東亞)', '徵夷大將軍'} {'鎌倉幕府將軍列表', '宗尊親王', '德川家康', '江戶幕府', '徵夷大將軍'}\n",
            "{'母親', '河', '太原市', '水源', '上游', '汾河'} {'汾河鎮', '汾河水庫', '汾河街道', '山西省太原市中級人民法院', '汾河公園'}\n",
            "{'世紀', '派別', '印象派', '法國', '年代'} set()\n",
            "{'金馬獎', '侯孝賢', '電影', '傳奇'} set()\n",
            "{'奧林匹克運動會', '男爵', '五環', '皮埃爾·德·顧拜旦', '名譽主席', '主席', '奧林匹克五環'} {'皮埃爾·德·顧拜旦', '奧林匹克運動會藝術比賽', '奧林匹克五環'}\n",
            "{'西裏爾字母', '人種', '楚瓦什共和國', '俄羅斯', '楚瓦什人', '斯拉夫人', '少數民族', '字母'} {'楚瓦什人'}\n",
            "{'比爾·比紹普', '主席', '比爾'} {'比爾·比紹普'}\n",
            "{'校長', '馬寅初', '北京市', '高壽', '北京大學'} {'吳樹青'}\n",
            "{'臺中市政府', '臺中市政府陽明大樓', '辦公室', '臺中市'} {'臺中市政府勞工局', '臺中世界花卉博覽會辦公室', '臺中市政府陽明大樓', '臺中市政府運動局', '臺中市政府交通局'}\n",
            "{'卡拉卡爾帕克人', '花剌子模', '烏茲別克斯坦', '卡拉卡爾帕克斯坦共和國', '哈薩克斯坦', '斯坦', '烏茲別克人'} {'穆薩·葉爾尼亞佐夫', '卡拉卡爾帕克斯坦共和國', '卡拉卡爾帕克語', '卡拉卡爾帕克蘇維埃社會主義自治共和國', '木伊那克'}\n",
            "{'李賦寧'} {'李賦都'}\n",
            "{'南美洲', '輻鰭魚綱', '美鯰科', '鯰科', '輻鰭魚', '流域', '隱兵鯰', '淡水魚'} {'阿氏喉鰭魚', '巴西布列塔尼魚', '大刺棘杆鮠', '黑帶直線脂鯉', '亞馬遜河咽鱂'}\n",
            "{'SETI@home', '個人電腦'} {'SETI@home', '搜尋地外文明計劃'}\n",
            "{'詹姆斯·克拉克·麥克斯韋', '馬克士威_(單位)', '物理學家', '蘇格蘭', '方程組', '方程', '形式', '馬克士威方程組'} {'論物理力線', '電磁場的動力學理論', '馬克士威方程組的歷史', '馬克士威山脈', '馬克士威方程組'}\n",
            "{'天琴座', '廂座', '星座', '豎琴', '形狀', '星', '中國', '星等'} {'天琴座'}\n",
            "{'威尼斯', '電影節', '二二八事件', '威尼斯電影節', '金獅獎', '事件', '侯孝賢', '電影'} {'第10屆威尼斯影展', '第15屆威尼斯影展', '金獅獎', '威尼斯影展評審團大獎', '悲情城市'}\n",
            "{'總統', '貝尼託·胡亞雷斯', '墨西哥', '亞伯拉罕·林肯', '墨西哥總統'} {'貝尼託·胡亞雷斯', '法國武裝干涉墨西哥'}\n",
            "{'化學', '北京市', '鄭集', '生物'} {'生物化學', '生物工程學'}\n",
            "{'臺鐵區間車', '載具', '班距', '區間', '臺灣鐵路', '七堵區', '今天', '潮州市', '堵姓'} {'臺鐵區間車'}\n",
            "{'導演', '視覺藝術'} {'導演', '視覺藝術博物館'}\n",
            "{'明治', '效用', '妙義山'} {'妙義荒船佐久高原國定公園'}\n",
            "{'嘉義縣', '臺灣', '杜鵑', '杜鵑花目', '阿里山'} {'阿里山號', '石楠'}\n",
            "{'護照', '國家'} set()\n",
            "{'差異_(哲學)', '發動機', '電動機', '能量'} {'能量成型控制', '電動機'}\n",
            "{'浙江省', '自然保護區', '國務院_(聖座)', '臨安', '中華人民共和國國務院', '中國'} {'中華人民共和國國家級自然保護區列表', '臥龍國家級自然保護區'}\n",
            "{'天佑國王', '歌曲', '愛國歌曲', '美國'} {'天佑國王', '愛國歌曲', '天佑新西蘭', '天佑安圭拉', '在那邊'}\n",
            "{'數據', 'MacOS', '系統'} {'MacOS版本歷史'}\n",
            "{'交通管制', '航空器', '意外事故', '機場', '航空', '陸地', '航空管制員', '效率', '航空交通管制'} {'航空交通管制部', '航空交通管制'}\n",
            "{'阿托品', '眼壓'} {'葡萄膜炎'}\n",
            "{'教研室'} {'北京大學信息管理系', '深圳大學計算機與軟件學院', '虛擬教研中心', '教研室'}\n",
            "{'人造衛星', '衛星', '術數', '占卜', '占星術', '訊息'} {'占卜'}\n",
            "{'人類', '昆蟲'} set()\n",
            "{'烏蘭', '烏蘭巴托', '鐵路', '內蒙古自治區', '中國', '蒙古國', '縣級市', '自治區'} {'天主教烏蘭巴托宗座監牧區', '烏蘭巴托站', '成吉思汗國際機場', '烏蘭巴托'}\n",
            "{'目標', '均勻碼理事會', '年代'} {'均勻碼理事會', '通用產品代碼'}\n",
            "{'臺北', '臺灣', '李安', '導演', '李·安克里奇', '臺灣電影', '屏東縣', '潮州鎮'} set()\n",
            "{'臺灣織布', '臺灣', '日治時期'} set()\n",
            "{'中部大學', '私立大學', '大學', '中部大學_(日本)', '日本'} {'中部大學女子短期大學', '私立文化大學', '中部學院大學短期大學部', '南山大學', '私立廣州大學'}\n",
            "{'夏威夷大學', '斯科特·謝潑德'} set()\n",
            "{'指南車', '王天木', '失敗', '歷史書'} set()\n",
            "{'珠江', '國內', '全長', '流量', '中國'} set()\n",
            "{'類', '葡萄', '果實'} {'單果谷木', '山葡萄'}\n",
            "{'金融危機', '亞洲', '賭場', '亞洲金融風暴', '現代集團', '鄭周永', '危機', '兒子'} {'現代集團'}\n",
            "{'米開朗基羅·樂孔特', '米開朗基羅', '米開朗基羅·法爾瑪提諾'} {'米開朗基羅撞擊坑'}\n",
            "{'天體', '占卜', '訊息', '占星術', '僞科學'} {'占星術', '占卜'}\n",
            "{'亞歷山德拉·墨索里尼', '羅曼諾·貝尼託·弗洛里亞尼·墨索里尼', '貝尼託·墨索里尼', '屍體', '雷切爾·墨索里尼', '老闆'} {'雷切爾·墨索里尼'}\n",
            "{'比爾·比紹普', '主席', '2004年', '比爾'} {'比爾·比紹普'}\n",
            "{'春秋_(書)', '春秋', '穀梁傳'} {'公羊傳', '春秋三傳', '穀梁傳'}\n",
            "{'東亞', '元首_(納粹德國)', '蔡英文', '中華民國'} {'2020年中華民國總統選舉'}\n",
            "{'柯伊伯帶', '科學家', '傑拉德·柯伊伯', '矮行星', '行星'} {'柯伊伯隕石坑', '柯伊伯帶', '柯伊伯機載天文臺', '傑拉德·柯伊伯獎', '最亮柯伊伯帶天體列表'}\n",
            "{'工藝', '手工藝'} {'描漆', '百寶嵌', '罩漆', '手工藝', '填漆'}\n",
            "{'理論', '科學哲學', '主題', '科學', '術語', '科學理論'} set()\n",
            "{'德國', '震盪波蠕蟲', '少年', '小時'} {'震盪波蠕蟲'}\n",
            "{'北宋', '皇帝', '宋高宗'} {'宋欽宗'}\n",
            "{'立法機關', '議會', '民主', '國家'} {'臺南市議會', '臺中市議會', '伊斯蘭議會', '各國立法機關列表', '1982年印度尼西亞立法機構選舉'}\n",
            "{'安德烈·尤里耶維奇·勃列日涅夫', '列昂尼德·勃列日涅夫', '選舉委員會', '政治局', '尤里·勃列日涅夫'} {'朝鮮勞動黨中央委員會政治局', '安德烈·尤里耶維奇·勃列日涅夫', '列昂尼德·勃列日涅夫所獲獎項列表', '選舉委員會'}\n",
            "{'德斯汀·荷夫曼', '菜系'} set()\n",
            "{'人類', '獎盃', '人', '獎勵', '領域'} {'獎盃'}\n",
            "{'汶萊', '英屬婆羅洲', '邦', '國家'} {'北婆羅洲聯邦'}\n",
            "{'水', '冰', '天衛四', '岩石'} {'天衛四'}\n",
            "{'總統', '國立臺灣大學', '臺灣積體電路製造', '董事長', '奧斯華·波爾克', '詹姆斯·諾克斯·波爾克', '民主黨_(香港)', '民主黨'} {'劉德音'}\n",
            "{'武器', '第二次世界大戰', '對日民間索賠', '創傷', '類型'} {'對日民間索賠'}\n",
            "{'分子', '氫氣'} {'氫氣'}\n",
            "{'貴族', '埃塔'} {'埃塔'}\n",
            "{'秦二世', '頸', '幫助', '利器_(電視劇)', '聖經', '世'} set()\n",
            "{'粵菜'} set()\n",
            "{'數學家', '質數', '問題'} set()\n",
            "{'伊斯蘭教', '回族', '穆斯林', '流域', '西亞', '中亞', '黃河'} {'回族', '尼泊爾伊斯蘭教'}\n",
            "{'公寓', '生物', '脂類', '分子'} {'脂質體', '脂類'}\n",
            "{'安得拉邦', '政府機構', '阿馬拉瓦蒂', '特倫甘納邦', '海得拉巴_(印度)', '首府', '海得拉巴'} {'特倫甘納邦', '海得拉巴'}\n",
            "{'流行病學', '機體', '疾病'} {'病理學'}\n",
            "{'學術領域大綱', '北歐神話', '木衛三', '名稱'} {'天體粒子物理學', '天文學家', '北歐神話巨人列表'}\n",
            "{'愛', '我的愛_(1986年電影)', '以你的心詮釋我的愛', '泰國', '電影', '心'} set()\n",
            "{'質量', '重量', '夸克', '粒子衰變', '過程', '下夸克', '上夸克', '衰變'} {'夸克禁閉', '五夸克態', '底夸克', '上夸克', '頂夸克'}\n",
            "{'臺北101', '唐朝'} set()\n",
            "{'照相機', '時間', '分辨率', '數碼相機', '市場', '共享', '功能'} {'數碼相機'}\n",
            "{'馬克思主義', '馬克思·多爾穆瓦站', '格魯喬·馬克思', '作品', '卡爾·馬克思', '馬克思主義政治經濟學', '政治經濟學', '海因裏希·馬克思'} set()\n",
            "{'趙丹', '女性', '趙青'} set()\n",
            "{'科技公司', '臺灣', '英業達集團'} {'英業達集團'}\n",
            "{'香港', '梁國雄', '立法會', '今天'} {'梁國雄2017年香港行政長官選舉活動'}\n",
            "{'特徵', '語言', '新地區', '方言學', '地區', '移民', '人口'} {'方言學'}\n",
            "{'芝加哥'} set()\n",
            "{'輻鰭魚綱', '西', '蝴蝶魚科', '鱸形目', '桑吉巴蝴蝶魚', '印度洋'} {'鰭斑蝴蝶魚', '深水前頷蝴蝶魚', '烏頂蝴蝶魚', '領蝴蝶魚', '桑吉巴蝴蝶魚'}\n",
            "{'福建省', '鄉試', '葉巒'} {'葉巒'}\n",
            "{'多細胞生物', '黏絲盤蟲', '動物分類表', '動物', '今天', '門', '物種', '細胞', '扁盤動物門'} {'黏絲盤蟲', '扁盤動物門', '副同源異形基因動物'}\n",
            "{'SETI@home', '個人電腦'} {'SETI@home', 'SHGb02+14a無線電信號', 'Astropulse', '搜尋地外文明計劃'}\n",
            "{'海', '動物', '脊柱', '棘皮動物'} {'脊柱外科', '無脊椎動物', '棘皮動物', '舒爾曼病', '海旋板'}\n",
            "{'制約', '伊萬·巴甫洛夫', '古典制約'} {'古典制約'}\n",
            "{'武俠小說', '武俠', '金庸', '反派角色', '燕國', '慕容復'} {'笑傲江湖角色列表', '康敏', '慕容復'}\n",
            "{'學習'} {'香港都會大學李嘉誠專業進修學院'}\n",
            "{'葡萄酒', '酒', '宇宙', '果酒', '蘋果酒'} {'蘋果酒'}\n",
            "{'河北省', '豫劇', '花', '聲優'} set()\n",
            "{'電子科技大學', '臺灣醫療勞動正義與病人安全促進聯盟'} set()\n",
            "{'蔡卓妍', '歌手', '紅館', '歌手·當打之年'} set()\n",
            "{'藝人', '模特兒', '香港', '何基佑'} {'鍾凱瑩'}\n",
            "{'演講', '路德', '馬丁·路德·金', '馬丁·路德', '亞伯拉罕·林肯', '林肯紀念堂', '美國'} {'我有一個夢想'}\n",
            "{'內蒙古自治區', '元曲', '曲', '豫劇'} set()\n",
            "{'岩石', '鳳仙花', '墨西哥', '墨西哥國徽', '忠', '力量', '國徽', '湖泊'} {'墨西哥國徽'}\n",
            "{'鳥', '生命', '貓', '入侵物種', '世界百大外來入侵種', '世界'} {'貓'}\n",
            "{'第二次世界大戰', '臺東飛行場', '臺東郡', '日治時期', '卑南莊'} {'臺東飛行場'}\n",
            "{'硫酸', '鹽水', '比例'} {'硫酸亞鉈', '硫酸鈷銨', '硫酸𨥙', '硫酸亞錫', '硫酸鎂'}\n",
            "{'普利策獎', '獎勵', '約瑟夫·普立茲', '服務', '公共服務', '孫', '報紙'} {'普立茲公共服務獎'}\n",
            "{'米哈伊爾·伊拉里奧諾維奇·庫圖佐夫', '維克多·拿破崙', '拿破崙一世', '羅曼·庫圖佐夫', '俄法戰爭', '序曲', '路易·拿破崙', '年代', '1812序曲'} {'俄法戰爭', '1812序曲'}\n",
            "{'心願', '利潤', '商業', '行爲', '目標', '交易'} {'商業', '心願'}\n",
            "{'行政法'} {'美國聯邦行政部門', '行政法'}\n",
            "{'漢初三傑', '天下', '劉邦', '漢朝', '漢', '百貨公司'} {'漢初三傑', '白登山'}\n",
            "{'理論', '科學哲學', '化學', '主題', '科學', '心理學', '術語', '科學理論'} {'科學哲學'}\n",
            "{'南京市', '倪尚達', '1915年', '學校', '美國'} {'1915年體育', '國立武昌高等師範學校'}\n",
            "{'發展', '生物多樣性公約', '可持續發展', '生物多樣性', '戰略'} {'坎昆宣言', '生物多樣性國際日', '生物多樣性行動計劃', '生物多樣性公約'}\n",
            "{'政治人物', '柬埔寨', '沙洛特·蔡', '化名', '波爾布特'} {'西索瓦·尤德馮', '波爾布特', '杜斯木', '宋成'}\n",
            "{'真核生物', '生物', '古菌', '演化', '核'} {'真核生物', '已測序古菌基因組列表', '演化生物學', '古菌', '雙鞭毛生物'}\n",
            "{'島嶼', '島嶼國家', '政權', '數字', '世界'} {'島嶼國家'}\n",
            "{'臺中市', '臺中_(大字)', '臺灣', '臺灣日治時期', '臺東製糖', '臺中廳', '地區', '明治製糖'} {'越臺糖業', '臺東製糖', '太古糖業', '依萊沃糖業公司'}\n",
            "{'藥物', '化學物質', '化學', '藥理學'} {'藥物', '系統藥理學', '生物藥理學'}\n",
            "{'差異_(哲學)', '洲', '雉雞', '羽毛'} set()\n",
            "{'喬治·艾略特', '阿爾弗雷德·諾貝爾', '文學獎', 'T·S·艾略特', '艾略特·內斯', '查爾斯·艾略特', '艾略特·克雷松獎章', '艾略特', '艾略特·高登索', '諾貝爾文學獎'} {'查爾斯·艾略特', 'T·S·艾略特'}\n",
            "{'政府', '臺北市政府', '臺北市政府教育局', '臺北市文山區興華國民小學', '教育局', '幼稚園'} {'臺北市私立東山高級中學', '臺北市文山區萬芳國民小學', '臺北市政府教育局', '萬芳醫院站', '臺北市文山區興華國民小學'}\n",
            "{'馬克思主義', '馬克思·多爾穆瓦站', '格魯喬·馬克思', '卡爾·馬克思', '馬克思主義政治經濟學', '資本論', '政治經濟學', '海因裏希·馬克思'} {'馬克思主義政治經濟學', '資本論', '河上肇', '女人資本論'}\n",
            "{'盧卡斯·埃爾南德斯', '喬治·盧卡斯', '盧卡斯·古博特', '授權', '盧卡斯·佩雷斯', '盧卡斯·雷瓦', '盧卡斯·巴斯克斯', '星際大戰'} {'喬治·盧卡斯'}\n",
            "{'中華民國', '政權', '地方', '金門炮戰', '中華人民共和國'} {'八二三戰史館'}\n",
            "{'古希臘悲劇', '悲劇', '希臘', '合唱', '祭祀', '古希臘', '酒'} {'狄俄倪索斯', '古希臘喜劇', '古希臘悲劇', '悲劇的誕生'}\n",
            "{'張學友', '金馬獎', '江湖', '1990年', '電影'} {'張學友87演唱會', '張學友'}\n",
            "{'軟件開發', '活動', '軟件'} {'軟件工程', '軟件項目管理', '軟件開發', '軟件開發過程', '產品激活'}\n",
            "{'計算機科學', '概念', '實踐', '理論'} {'實踐'}\n",
            "{'沙丁魚', '沙丁魚罐頭'} {'隆背小沙丁魚', '沙丁魚', '沙丁魚罐頭'}\n",
            "{'伯頓', '蒂姆·伯頓'} {'牀戲'}\n",
            "{'若昂·費雷拉·佛朗哥·平託·卡斯特洛布蘭科', '弗朗西斯科·佛朗哥', '共和制', '西班牙第二共和國', '傑斯·佛朗哥', '西班牙', '第二共和國', '伊塔馬爾·佛朗哥'} set()\n",
            "{'獎勵', '電子藝術大獎'} {'2018年世界女子冰球錦標賽'}\n",
            "{'處_(佛教)', '地表', '俱樂部', '木衛四'} {'木衛四表面特徵列表'}\n",
            "{'罷工', '智利', '軍政_(政體)', '政治家', '軍政府', '路易斯·伊納西奧·盧拉·達席爾瓦'} set()\n",
            "{'南極條約體系', '康沃爾冰川', '今天', '南極'} {'迪圖瓦冰原島峯', '康沃爾冰川', '麥克貝恩山', '康沃爾峯', '福派峯'}\n",
            "{'文明', '河', '四大文明古國', '美索不達米亞', '流域'} {'四大文明古國', '伊拉克歷史'}\n",
            "{'立法院立法委員選舉', '全國不分區及僑居國外國民立法委員選舉區', '劉一德', '臺灣團結聯盟', '主席', '政黨領袖'} {'政黨補助金', '臺灣團結聯盟'}\n",
            "{'吳建豪', '安七炫', 'F4', 'F_(音名)'} {'安七炫'}\n",
            "{'問題', '中華民國國語', '微分方程', '地方'} {'伯努利微分方程', '全微分方程'}\n",
            "{'經濟學', '亞當·斯密', '歐洲', '國富論'} {'亞當·斯密'}\n",
            "{'方言學', '地區'} {'方言學'}\n",
            "{'貓', '馬島長尾狸貓', '狸'} {'生殖醫學'}\n",
            "{'程序員', '錯誤', '代碼風格', '註解_(程式設計)'} set()\n",
            "{'食糖', '市場', '競爭力', '產業', '澱粉', '啤酒', '酒', '飲料'} {'啤酒', '釀造酒', '酒精發酵'}\n",
            "{'希臘神話', '中華文化', '希臘', '神話', '文化', '中華', '古希臘'} {'希臘神話', '書庫'}\n",
            "{'衛', '物質', '木材', '面_(幾何)', '太陽系', '木衛二', '木星的衛星'} set()\n",
            "{'四川省', '字', '同治', '曾光爔', '四川省_(中華民國)', '邛州', '邛州直隸州', '民國', '祖籍'} {'孫之益', '嘉應直隸州', '曾光爔'}\n",
            "{'城市規劃'} {'南京大學城市規劃與設計系', '廣州市城市規劃委員會'}\n",
            "{'寒武紀大爆發', '生物', '地球', '寒武紀', '寒武紀_(消歧義)'} {'寒武紀大爆發', '埃迪卡拉紀末期滅絕事件'}\n",
            "{'阿爾弗雷德·諾貝爾', '化學', '諾貝爾獎', '遺囑', '獎勵', '化學家'} {'拒絕領取諾貝爾獎人物列表'}\n",
            "{'春秋_(書)', '春秋', '穀梁傳'} {'公羊傳', '春秋三傳', '穀梁傳'}\n",
            "{'日本', '魚', '海', '鰓棘杜父魚'} {'梳鰭鬼杜父魚', '長鰭喬氏杜父魚', '連鰭杜父魚', '玫瑰裸腹杜父魚', '鰓棘杜父魚'}\n",
            "{'國慶日', '羅盤方位', '舉事', '清朝', '日子', '武昌區', '國家'} set()\n",
            "{'支流', '珠江三角洲', '珠江', '三角洲'} {'珠江三角洲'}\n",
            "{'李賦寧', '教育家', '死亡', '中國', '前列腺癌'} {'李賦寧'}\n",
            "{'飲食', '環境', '原材料', '亞美尼亞', '亞美尼亞飲食'} {'阿塞拜疆飲食', '飲食', '奧地利飲食', '波蘭飲食', '亞美尼亞飲食'}\n",
            "{'喬木_(消歧義)', '中國社會科學院', '胡喬木', '院長'} {'雲南省社會科學院', '胡石英'}\n",
            "{'尊稱', '男性', '夫人', '婚姻'} {'冼夫人', '郎君'}\n",
            "{'中華民國國民', '中華民國', '詞', '國民政府', '忠烈祠_(臺灣)', '忠烈祠', '國民', '中國國民黨'} {'國民政府軍事委員會', '中華民國國家元首列表'}\n",
            "{'北马里亞納羣島', '熱帶海洋性氣候', '面積', '海洋性氣候', '熱帶', '氣候'} {'熱帶海洋性氣候'}\n",
            "{'阿斯泰·妮爾森', '深淵', '20世紀', '世紀'} {'趙南國', '深淵', '阿斯泰·妮爾森'}\n",
            "{'孔廟', '中學', '臺北', '臺北市立明倫高級中學'} {'臺灣的孔廟'}\n",
            "{'塘湖站', '鐵路車站', '濟寧市', '電話號碼'} {'塘湖站', '電話號碼', '電話號碼可攜服務', '澳門電話號碼', '中國電話號碼'}\n",
            "{'索爾·勒維特', '1927年', '會議', '布魯塞爾', '索爾維會議'} set()\n",
            "{'本名', '元智大學', '桃園市', '名稱'} {'香港幼稚園列表'}\n",
            "{'蔡元培', '翰林院', '元培', '點'} {'蔡元培故居', '蔡元培獎', '蔡元培舊居'}\n",
            "{'弗朗西斯·科波拉', '小說', '美國風情畫'} {'瑪西亞·盧卡斯', '美國風情畫', '李察·德雷福斯'}\n",
            "{'喬治·坎寧', '喬治三世', '症狀', '喬治·桑普森', '組織', '卟啉', '紫質症', '三氧化二砷'} {'喬治三世'}\n",
            "{'天佑國王', '愛國歌曲', '儀式', '歌曲', '美國'} {'天佑國王', '愛國歌曲', '天佑新西蘭', '天佑安圭拉', '在那邊'}\n",
            "{'腸道沙門氏菌', '沙門氏菌屬', '達爾·斯蒂芬斯', '餐廳', '沃斯科縣', '傷寒', '1984年羅傑尼希教生物恐怖攻擊', '奧修'} {'1984年羅傑尼希教生物恐怖攻擊', '羅傑尼希社區'}\n",
            "{'羅斯福', '政策', '法案', '公平交易', '資源', '西奧多·羅斯福', '交易'} {'公平交易委員會', '西奧多·羅斯福第二次總統就職典禮', '老西奧多·羅斯福', '西奧多·羅斯福', '西奧多·羅斯福三世'}\n",
            "{'地方政府', '臺北市政府', '臺北市政府捷運工程局'} {'臺北市政府文化局', '桃園市政府捷運工程局', '臺北市政府捷運工程局', '臺北市政府民政局', '新北市政府捷運工程局'}\n",
            "{'禁', '清朝', '性格', '康熙帝', '鰲拜'} {'鰲拜'}\n",
            "{'企劃'} set()\n",
            "{'潮', '平原', '南部', '南海', '山', '沖積平原', '南海潮', '中國'} {'南海潮', '民歌'}\n",
            "{'歷史書', '神話', '傳說', '日本神話', '天皇', '日本', '民俗', '態度'} {'日本神話'}\n",
            "{'宗教', '宗教哲學', '哲學', '信仰'} {'宗教學', '無宗教', '宗教哲學', '宗教信仰哲學'}\n",
            "{'浙江省', '自然保護區', '國務院_(聖座)', '中華人民共和國國務院', '安徽省'} {'中華人民共和國國家級自然保護區列表', '臥龍國家級自然保護區'}\n",
            "{'硫酸', '酸', '腐蝕性物質', '水', '強酸', '濃度'} {'硫酸'}\n",
            "{'紅軍', '許世友'} {'許家窪', '許世友反革命集團案', '許世友', '上將許世友'}\n",
            "{'染色體', '流產'} {'流產', '反覆流產', '先兆流產'}\n",
            "{'利比亞', '政治人物', '法耶茲·薩拉傑', '會員'} {'阿基拉·薩拉赫·伊薩', '法耶茲·薩拉傑'}\n",
            "{'兒童', '運動員', '雙胞胎', '英國', '威廉·莎士比亞'} set()\n",
            "{'愛爾蘭', '人口'} {'愛爾蘭華人', '愛爾蘭總統'}\n",
            "{'訴訟', '悖論', '邏輯', '法律邏輯學'} {'半費之訟'}\n",
            "{'週期', '彗星', '傑拉德·柯伊伯', '柯伊伯帶'} set()\n",
            "{'指南車', '王天木', '歷史書'} set()\n",
            "{'音階', '音樂'} set()\n",
            "{'方言學'} {'方言學'}\n",
            "{'黃帝', '三苗', '長江', '傳說', '禹', '中國', '漢族', '堯', '時代'} set()\n",
            "{'亂', '曲沃縣', '晉國', '儲君', '晉文公', '驪姬之亂', '君主', '驪姬'} {'晉國', '仇時古', '曲沃代翼', '曲沃縣'}\n",
            "{'輿論調查', '香港', '香港商報', '大公報', '文匯報_(上海)', '商報', '文匯報', '倒數'} {'大公報'}\n",
            "{'東南亞', '汶萊', '邦', '英屬婆羅洲', '國家'} {'汶萊'}\n",
            "{'柏林自由大學', '自由大學', '精英大學', '柏林'} {'柏林洪堡大學', '柏林自由大學', '柏林工業大學'}\n",
            "{'Starship', '合併', 'STARSHIP娛樂'} {'珉熙', '金泰永', '安性珉', '鹹元進', '徐宇璸'}\n",
            "{'名', '昭和', '昭和天皇', '天皇'} {'昭和天皇', '大正天皇'}\n",
            "{'妙義山', '效用', '江戶時代', '雷', '江戶'} {'妙義荒船佐久高原國定公園'}\n",
            "{'海星', '牙齒', '食物', '胃', '動物', 'In_vitro'} {'海星', '十字海星', '古海星', '赭色海星', '海星街道'}\n",
            "{'星期六'} set()\n",
            "{'日本', '約束', '譜代家臣', '世僕'} {'約束'}\n",
            "{'日本人', '實藤惠秀', '中國'} set()\n",
            "{'林鈺婷', '身分標識方式', '客家民系'} {'林鈺婷'}\n",
            "{'期權', '芝加哥', '量_(物理)', '期貨', '地區', '國內生產總值', '期貨交易所', '交易所', '世界'} {'芝加哥期貨交易所大樓', '芝加哥', '韓國期貨交易所', '芝加哥期貨交易所', '交易所'}\n",
            "{'政府', '選舉權', '懷俄明州', '法案', '女性', '世界', '地區議會_(德國)'} {'懷俄明州'}\n",
            "{'南極條約體系', '康沃爾冰川', '南極'} {'迪圖瓦冰原島峯', '康沃爾冰川', '麥克貝恩山', '康沃爾峯', '福派峯'}\n",
            "{'讀者_(雜誌)', '訊息', '幻燈片'} set()\n",
            "{'鳥', '草鴞科', '草鴞', '科', '目'} {'草鴞屬', '隼形目', '草鴞科', '慄鴞屬'}\n",
            "{'莫斯科', '博古'} {'博古埃', '博古恰爾區', '博古'}\n",
            "{'隋朝', '制度'} set()\n",
            "{'柏林國際電影節', '臺灣', '李安', '導演', '李·安克里奇', '臺灣電影', '屏東縣', '柏林'} {'李安', '第46屆柏林影展'}\n",
            "{'中正區_(臺北市)', '捷運車站', '捷運', '西門站', '西門站_(臺北捷運)', '信義區_(臺北市)'} {'臺電大樓站', '西門地下街'}\n",
            "{'高行健', '阿爾弗雷德·諾貝爾', '藝術', '諾貝爾獎', '小說', '道路', '戲劇', '公民', '法國'} {'高行健', '劉景烈'}\n",
            "{'關羽', '三國演義'} {'東周列國志', '三國演義角色列表', '中國曆朝通俗演義', '三國演義'}\n",
            "{'鐒', '名稱', '加拿大', '物理學家', '勞倫斯', '歐內斯特', '歐內斯特·勞倫斯'} {'威拉德·博伊爾', '歐內斯特·沃爾頓', '歐內斯特·勞倫斯', '理查德·愛德華·泰勒'}\n",
            "{'氰化氫', '水溶液', '頻率', '氰化鋰', '溶液', '鹼', '氰化鈉'} {'氰化鋁', '氰化氫', '氰化鐿', '氰化銀', '氰化鋰'}\n",
            "{'京九鐵路', '建築施工'} set()\n",
            "{'湖北省', '中國人民解放軍', '河南省', '中國人民解放軍武漢軍區', '河南省_(中華民國)'} {'中國人民解放軍武漢軍區空軍', '中國人民解放軍湖北省軍區', '中國人民解放軍河南省軍區', '中國人民解放軍武漢軍區', '中國人民解放軍昆明軍區'}\n",
            "{'首都', '亞穆蘇克羅', '科特迪瓦', '城市', '阿比讓', '蘇克_(卑詩省)'} {'亞穆蘇克羅', '科特迪瓦', '阿比讓之歌', '和平之後大殿', '阿比讓非洲體育會'}\n",
            "{'學校', '教育', '臺北市', '臺北市私立新民國民小學'} {'臺北市中山區長安國民小學', '臺北市私立新民國民小學'}\n",
            "{'城邦', '藝術家', '米開朗基羅·樂孔特', '中世紀', '邦', '米開朗基羅·法爾瑪提諾', '米開朗基羅', '國家'} {'博納羅蒂之家', '佛羅倫薩共和國', '米開朗基羅撞擊坑'}\n",
            "{'過程', '產品', '測試'} {'軟件測試'}\n",
            "{'政治', '政治運動', '波士頓', '經濟', '經濟發展', '金融'} {'波士頓'}\n",
            "{'語言', '標記_(程式語言)', 'XBRL', '置標語言'} {'置標語言', '語音合成標記語言', 'XML', 'InkML', '輕量級標記語言'}\n",
            "{'內積空間', '歐幾里得', '蟲洞', '空間_(數學)', '距離', '抽象'} {'希爾伯特空間', '內積空間', '歐幾里得空間', '歐幾里得整環', '歐幾里得距離'}\n",
            "{'米開朗基羅·樂孔特', '佛羅倫薩共和國', '出生地', '米開朗基羅·法爾瑪提諾', '米開朗基羅', '佛羅倫薩'} {'博納羅蒂之家', '米開朗基羅', '米開朗基羅撞擊坑'}\n",
            "{'綠山城縣', '波蘭', '西部', '土地', '綠山城', '縣', '山城'} {'山城街道', '綠山城縣', '綠山城', '山城路街道', '盧布斯卡省'}\n",
            "{'兄弟姊妹', '馬世莉'} set()\n",
            "{'希臘神話', '赫革摩涅', '希臘', '神話', '卡里忒斯', '木衛三十九', '女神'} {'木衛三十九', '佩託', '赫革摩涅'}\n",
            "{'鍼灸', '媒介', '西方世界', '筋膜', '報紙', '國家'} {'膜層'}\n",
            "{'中華民國', '政權', '衝突', '軍事', '戰爭', '金門炮戰', '中華人民共和國'} {'福建金門地方法院', '金門炮戰', '金門機場', '八二三戰史館'}\n",
            "{'金朝', '現象', '姓', '漢姓', '女真', '族'} set()\n",
            "{'親屬', '定居', '處_(佛教)', '吸血鬼'} set()\n",
            "{'法院', '奈尼塔爾', '北阿坎德邦'} {'丹德拉', '北阿坎德邦行政區劃', '奈尼塔爾', '北阿坎德邦', '阿爾莫拉'}\n",
            "{'艾薩克·牛頓', '現代物理學', '力學', '經典力學', '物理學', '領域'} {'經典力學', '經典物理術語', '經典物理學', '分析力學', '拉格朗日力學'}\n",
            "{'北', '大足石刻', '中國北方航空', '中國'} {'石門山摩崖造像', '大足南站', '北山摩崖造像', '大足石刻', '大足石刻站'}\n",
            "{'高雄縣', '區域', '中華民國'} set()\n",
            "{'非金屬性', '豫劇'} set()\n",
            "{'價值', '雲林定遠電臺', '臺南天馬電臺', '冷戰', '地區', '中國大陸'} {'雲林定遠電臺'}\n",
            "{'中央', '類型', '中國政法大學', '中央部屬高校', '學校'} {'中國政法大學國際法學院', '中央部屬高校'}\n",
            "{'東漢', '年齡', '晟碟公司'} set()\n",
            "{'韓國總統', '總統_(韓國電視劇)', '總統', '大韓民國'} {'韓國總統祕書室長'}\n",
            "{'訊息_(蘋果)', '技術', 'ACM'} set()\n",
            "{'授課語言', '香港大學', '德語正寫法'} {'授課語言'}\n",
            "{'阿姆斯特丹'} {'阿姆斯特丹地鐵', '阿姆斯特丹證券交易所', '阿姆斯特丹大學', '阿姆斯特丹史基浦機場', '阿姆斯特丹中央車站'}\n",
            "{'軍事家', '即位', '楊素', '中央集權', '隋煬帝'} {'中央集權'}\n",
            "{'軍事家', '即位', '中央政府', '楊素', '中央集權', '隋煬帝'} {'中央集權'}\n",
            "{'射鵰英雄傳', '射鵰英雄傳_(1977年電影)', '金庸', '主人公', '角色', '小龍女'} {'射鵰英雄傳續集', '射鵰英雄傳', '角色歌曲'}\n",
            "{'謝磷', '明朝'} set()\n",
            "{'鳥', '信天翁科', '南冰洋', '翼展', '洋', '太平洋', '世界'} {'信天翁科', '南方皇家信天翁', '翼展', '黑背信天翁', '桑氏遠洋鳥'}\n",
            "{'臺灣氣候', '熱帶季風氣候', '臺灣', '熱帶', '北迴歸線', '氣候', '副熱帶季風氣候'} {'東石北迴歸線地標', '臺灣氣候', '溫帶季風氣候', '亞熱帶', '副熱帶季風氣候'}\n",
            "{'1000', '英格蘭', '紅磚大學', '1900年', '伯明翰', '英國', '大學', '伯明翰大學'} {'伯明翰新街站', '伯明翰城市大學', '伯明翰機場', '紅磚大學', '伯明翰藝術學院'}\n",
            "{'臺中市', '社', '中學', '新社區', '深度', '今天', '新社河階羣', '臺中市立新社高級中學'} {'臺中市立後綜高級中學', '臺中市立新社高級中學'}\n",
            "{'阿薩姆邦', '那加蘭邦', '邦', '基督徒', '印度', '人口'} {'七姐妹邦', '那加蘭邦', '那加蘭邦行政區劃'}\n",
            "{'臺中市', '中學', '臺中市私立曉明女子高級中學', '女性'} {'臺中市立臺中女子高級中等學校', '臺中市私立曉明女子高級中學', '祁志英', '臺中市私立明德高級中學'}\n",
            "{'春秋_(書)', '春秋', '穀梁傳'} {'公羊傳', '公羊高', '春秋三傳', '穀梁傳'}\n",
            "{'徐太志'} {'徐太志和孩子們', '徐太志'}\n",
            "{'細胞', '基因', '工程', '基因工程'} {'基因工程藥物', '基因工程'}\n",
            "{'粉末', '海洛因'} {'粉末酒精', '海洛因'}\n",
            "{'小龍女', '合', '楊過'} {'小龍女', '四合城鎮'}\n",
            "{'衛', '軌道傾角', '軌道', '木材', '木衛三十九', '木星', '角', '木星的衛星', '黃道', '木衛三'} {'木衛二十八', '木衛五十', '木衛十四', '木衛三十九', '木衛四十四'}\n",
            "{'木蘭花_(電視劇)', '配角', '湯姆·漢克斯', '奧斯卡', '奧斯卡·埃爾南德斯', '湯姆·班克斯', '湯姆·克魯斯'} set()\n",
            "{'甜品', '冰淇淋', '奶製品', '常溫', '乳', '原材料'} {'木子甜品', '冰淇淋', '蕎麥冰淇淋', '樹莓漩渦冰淇淋'}\n",
            "{'美洲', '國際金融中心', '阿姆斯特丹'} set()\n",
            "{'蒲公英', '生命', '配子', '個體'} set()\n",
            "{'民歌', '潮', '平原', '南部', '南海', '沖積平原', '南海潮', '中國'} {'南海潮', '民歌'}\n",
            "{'茶葉蛋', '茶'} {'茶葉蛋'}\n",
            "{'灰姑娘', '夏菜', '小說家', '廣島縣', '川瀨夏菜'} {'現代灰姑娘', '榎波克己'}\n",
            "{'維納斯', '紀念日', '三月', '羅馬'} {'維納斯', '三月二十'}\n",
            "{'平年', '千紀'} {'5月26日', '7月26日', '3月26日', '1月26日', '4月26日'}\n",
            "{'臺灣', '臺灣日治時期', '臺東廳', '株式會社', '臺東製糖', '地區', '臺東', '明治製糖'} {'越臺糖業', '依萊沃糖業公司', '臺東製糖', '太古糖業', '臺東廳長'}\n",
            "{'人類', '附果', '果', '草莓', '物', '果實'} {'草莓屬', '草莓'}\n",
            "{'馬克思主義', '馬克思·多爾穆瓦站', '格魯喬·馬克思', '卡爾·馬克思', '馬克思主義政治經濟學', '資本論', '政治經濟學', '海因裏希·馬克思'} {'馬克思主義政治經濟學', '資本論', '河上肇', '女人資本論'}\n",
            "{'麥', '大麥', '禾本科', '穀物', '植物', '世界'} {'大麥'}\n",
            "{'朱塞佩·威爾第', '悲劇', '處女作'} {'朱塞佩·威爾第'}\n",
            "{'麻婆豆腐', '豆腐', '大豆', '豆製品', '麻', '原材料', '豆瓣醬', '菜系'} {'麻婆豆腐'}\n",
            "{'代_(地質學)', '被子植物', '古生代', '哺乳動物', '植物'} {'新生代'}\n",
            "{'排球', '北美洲', '體育運動'} {'2008年夏季奧林匹克運動會排球比賽', '亞洲排球錦標賽', '排球', '沙灘排球'}\n",
            "{'徐太志', '婚姻'} {'徐太志和孩子們', '徐太志'}\n",
            "{'披頭四樂隊'} set()\n",
            "{'目標', '均勻碼理事會'} {'均勻碼理事會', '通用產品代碼'}\n",
            "{'竹內瑪莉亞', '犬', '山下達郎'} {'山下達郎'}\n",
            "{'名稱', '約翰·赫歇爾', '天王星', '作品', '天衛十三', '威廉·莎士比亞', '赫歇爾_(消歧義)', '人物'} {'天衛二十三', '皇家莎士比亞劇院', '天衛十三', '第一對開本', '天衛九'}\n",
            "{'拿督', '稱謂'} {'家長', '拿督'}\n",
            "{'貓', '馬島長尾狸貓'} set()\n",
            "{'馬島長尾狸貓', '狸'} {'生物的單次繁殖和多次繁殖', '繁殖季節'}\n",
            "{'水星凌日', '水星凌日_(土星)', '凌_(天體)', '2006年', '凌日', '水星'} {'凌日', '水星凌日'}\n",
            "{'薄熙來', '上訴'} {'薄熙來', '薄熙來事件'}\n",
            "{'政府', '機構', '香港', '香港醫院列表', '醫療', '公園'} {'香港醫院列表'}\n",
            "{'戊', '戊戌變法', '光緒帝', '光緒', '慈禧太后', '康有爲', '謠言', '權力', '戊戌'} {'戊戌變法'}\n",
            "{'克洛里斯', '雨果·洛里斯', '妻子', '神', '洛里斯_(沃克呂茲省)'} {'克洛里斯', '西風翠灰蝶'}\n",
            "{'荷蘭東印度公司', '臺灣糖業史', '臺灣', '荷蘭', '共和制', '省'} {'臺灣荷蘭統治時期'}\n",
            "{'古蹟', '中華民國外交部', '中華民國', '國定古蹟', '外交部', '博愛', '臺北賓館', '博愛特區'} {'臺北賓館'}\n",
            "{'英格蘭', '英格蘭足球超級聯賽'} {'英格蘭足球超級聯賽', '英超亞洲盃'}\n",
            "{'烏拉圭'} {'POSTNET', '烏拉圭足球甲級聯賽'}\n",
            "{'進士', '嘉興市', '江蘇省_(中華民國)', '沈鈞儒', '祖籍', '江蘇省'} {'沈鈞儒'}\n",
            "{'半總統制', '非洲', '北非', '剛果民主共和國', '共和制', '馬格里布', '面積', '總統制'} {'剛果民主共和國華人', '剛果民主共和國國家足球隊', '北非阿拉伯人'}\n",
            "{'柬埔寨', '沙洛特·蔡', '明星', '化名', '波爾布特'} {'波爾布特', '宋成'}\n",
            "{'第二次世界大戰', '世界大戰', '科學', '應用科學', '麻省理工學院', '冷戰', '技能', '工程學'} {'哈佛-麻省理工醫療科技學院', '麻省理工學院理學院', '麻省理工學院工學院'}\n",
            "{'天體', '共振', '軌道', '太陽系', '軌道共振'} {'軌道共振'}\n",
            "{'思想家', '百科全書', '德尼·狄德羅', '啓蒙時代', '百科全書派', '尼古拉·德·孔多塞', '法國'} {'德尼·狄德羅', '百科全書，或科學、藝術和工藝詳解詞典', '百科全書派', '讓-弗朗索瓦·馬蒙泰爾', '網絡百科全書'}\n",
            "{'診所', '臺北市', '僑民', '臺北市私立道明外僑學校'} {'臺北市私立道明外僑學校'}\n",
            "{'茶葉蛋', '茶'} {'茶葉蛋'}\n",
            "{'語言', '諾維亞語', '民族', '民族_(消歧義)'} {'諾維亞語'}\n",
            "{'三角形', '三角學', '三角函數', '邊_(幾何)', '三角'} {'三角學', '反三角函數', '三角函數', '三角形數', '三角'}\n",
            "{'海盆', '碟', '日本海', '海', '日本'} {'日本海', '酒海紀', '阿拉伯海盆', '海盆', '北極海盆'}\n",
            "{'黃道帶', '獅子座', '黃道', '恆星'} {'巨蟹座', '獅子座ψ', '獅子座', '獅子座A', '獅子座ρ'}\n",
            "{'質量', '環境'} set()\n",
            "{'陳寅恪', '語言', '清華大學', '王國維', '中華民國大陸時期', '江西省', '趙元任', '梁啓超'} {'陳寅恪'}\n",
            "{'愛丁堡', '昆蟲', '愛丁堡大學'} {'愛丁堡大學圖書館', '愛丁堡舊城', '愛丁堡大學舊學院'}\n",
            "{'馬克思主義', '馬克思·多爾穆瓦站', '格魯喬·馬克思', '卡爾·馬克思', '馬克思主義政治經濟學', '資本論', '政治經濟學', '海因裏希·馬克思'} {'馬克思主義政治經濟學', '資本論', '河上肇', '女人資本論'}\n",
            "{'訊息', '幻燈片'} set()\n",
            "{'秦腔', '文化', '大躍進', '無產階級', '1966年'} {'秦腔', '劉毓中', '柳萍'}\n",
            "{'永嘉_(消歧義)', '劉聰', '軍', '永嘉之亂', '五胡十六國', '帝'} set()\n",
            "{'珠江', '長度', '國內', '流量', '中國', '河流'} set()\n",
            "{'九州_(日本)', '真理', '麻原彰晃', '真理國', '九州', '日本'} {'真理國'}\n",
            "{'晚上', '時間', '收視率', '新聞聯播', '北京市', '中國', '北京時間'} {'全國新聞聯播', '新聞聯播', '新聞聯播天氣預報', '家文看北京', '焦點訪談'}\n",
            "{'歌手', '蔡卓妍', '香港', '歌手·當打之年', '大溫哥華', '溫哥華'} {'蔡卓妍'}\n",
            "{'中子', '磁', '核'} {'中子衍射技術', '同中子素', '中子發射', '中子溫度'}\n",
            "{'英格蘭', '威廉·華茲華斯', '湖區'} {'威廉·赫茲利特', '湖畔詩人', '赫爾維林峯'}\n",
            "{'女性', '服裝', '標準舞'} set()\n",
            "set() set()\n",
            "{'宗教', '宗教哲學'} {'宗教學', '宗教哲學', '宗教信仰哲學'}\n",
            "{'象山_(九龍)', '地形', '象山公園', '公園'} {'象山公園'}\n",
            "{'蒙哥馬利·史考特', '史考特·朗恩', '麥可·史考特', '史考特·詹森', '史考特·普魯特', '克莉斯汀·史考特·湯瑪斯', '西恩·威廉·史考特', '雷利·史考特'} set()\n",
            "{'五糧液', '宜賓市', '亞熱帶', '熱帶', '市', '中亞', '酒', '氣候'} set()\n",
            "{'世界政策', '制度', '政策', '官僚', '考試', '隋煬帝'} set()\n",
            "{'法語', '潘·巴奇利', '潘恩', '迦勒·潘恩', '托馬斯·潘恩', '法國', '羅伯特·崔特·潘恩', '克里斯·潘恩'} {'中古法語'}\n",
            "{'程序員'} {'程序員'}\n",
            "{'百度百科', '抄襲', '行爲', '維基百科', '百度', '中國'} {'百度百科', '搜狗百科', '百度經驗', '互動百科訴百度百科侵權事件', '快懂百科'}\n",
            "{'政府', '臺灣', '臺灣政府', '功能', '行政機關', '1998年'} {'雲林縣政府', '花蓮縣政府', '南投縣政府', '臺東縣政府', '臺灣省政府'}\n",
            "{'秀水', '開元路_(臺南市北區)', '秀水鄉', '全長', '全姓', '道路'} {'開元路街道', '秀水', '秀水鄉', '秀水莊', '陝西村'}\n",
            "{'那加蘭邦', '曼尼普爾邦', '邦', '基督徒', '印度', '人口'} {'那加蘭邦', '那加蘭邦行政區劃'}\n",
            "{'姓', '唐朝', '馬丁·路德·金', '金', '漢姓', '安東尼·西尼蘇卡·金廷', '衫', '家畜'} {'安東尼·西尼蘇卡·金廷'}\n",
            "{'集', '荷馬', '史詩'} {'荷馬史詩'}\n",
            "{'作曲家', '著作權', '版稅', '作品', '音樂出版社', '詞曲作家'} {'詞曲作家', '上海音樂出版社', '音樂出版社', '廣播音樂公司'}\n",
            "{'分工', '器官移植'} set()\n",
            "{'總統', '寄居蟹', '螃蟹', '貝尼託·胡亞雷斯', '墨西哥', '墨西哥總統'} {'貝尼託·胡亞雷斯', '法國武裝干涉墨西哥'}\n",
            "{'兒子', '鄭氏鸞'} set()\n",
            "{'真核生物', '生物', '域', '界_(生物)', '域_(生物)', '界', '核'} {'雙鞭毛生物'}\n",
            "{'化合價', '液體', '硫'} {'硫', '亞鐵', '金化合物'}\n",
            "{'1949年', '管致中', '母校', '大學', '講師_(消歧義)'} set()\n",
            "{'裙', '女性', '標準舞'} {'迷你裙'}\n",
            "{'微軟', '丹麥', '安德斯·海爾斯伯格', '編譯器', '安德斯', '作者'} {'安德斯·海爾斯伯格'}\n",
            "{'製作', '茶', '茶葉蛋'} {'茶葉蛋事件', '茶葉蛋'}\n",
            "{'閩南民系', '林鈺婷'} set()\n",
            "{'中國國民黨', '朱立倫', '董事長', '蔡英文'} {'中國國民黨主席', '朱立倫', '習朱會', '朱立倫市府'}\n",
            "{'香港', '圍村', '練馬師', '現在', '松柏塱', '簡炳墀', '本地人'} {'松柏塱'}\n",
            "{'境', '開元路_(臺南市北區)', '全長', '全姓', '臺南市'} set()\n",
            "{'革命', '秦腔', '文化', '無產階級', '1966年'} {'秦腔', '劉毓中', '柳萍', '中共中央關於農村無產階級文化大革命的指示', '無產階級文化大革命就是好'}\n",
            "{'嫘祖', '黃帝', '軒轅', '傳說', '元妃', '昌意', '子'} {'嫘祖', '昌意', '嚳'}\n",
            "{'向日葵', '花', '雙子葉植物', '科', '子葉', '植物', '花序', '真雙子葉植物'} {'向日葵'}\n",
            "{'方言學', '特徵', '地區'} {'方言學'}\n",
            "{'火', '人類'} set()\n",
            "{'新臺幣', '法定貨幣', '貨幣', '中央銀行'} {'阿聯酋中央銀行', '阿塞拜疆中央銀行'}\n",
            "{'尼克·貝爾格', '釋放'} set()\n",
            "{'聖彼得堡', '瓦西里島', '聖彼得堡地鐵', '海濱站_(聖彼得堡地鐵)', '車站', '地鐵', '瓦西里·貝科夫號巡邏艦', '海濱站'} {'基洛夫-維堡線', '涅瓦-瓦西里島線', '瓦西里島站'}\n",
            "{'五常', '經濟學家', '張五常', '中國', '態度'} {'五常', '雅明·艾智仁'}\n",
            "{'麻省理工學院', '校友', '公司'} {'麻省理工學院理學院', '麻省理工學院工學院'}\n",
            "{'中央', '大西洋', '冰', '北冰洋', '海冰', '南極圈', '南極', '海水'} {'北冰洋'}\n",
            "{'海洛因', '流體'} set()\n",
            "{'差異_(哲學)', '雉雞', '羽毛'} set()\n",
            "{'護照', '國家'} {'葡萄牙護照', '韓國護照', '護照'}\n",
            "{'朱塞佩·威爾第', '作品'} {'朱塞佩·威爾第'}\n",
            "{'奧古斯都·艾迪生·古爾德', '奧古斯都_(稱號)', '奧古斯都', '奧古斯都·勞裏克殖民地', '羅馬皇帝', '羅馬', '羅慕路斯·奧古斯都', '奧古斯都·腓特烈_(薩塞克斯公爵)', '皇帝'} {'奧古斯都神廟', '羅馬皇帝', '奧古斯都神的功業'}\n",
            "{'糖類', '營養', '糧食', '糖_(消歧義)'} {'營養學'}\n",
            "{'美國英語', '英語', '中國'} {'美國英語', '通用美式英語', '美式中國菜', '美式機車'}\n",
            "{'臺灣氣候', '位置', '臺灣', '北迴歸線', '氣候'} {'東石北迴歸線地標', '臺灣氣候', '嘉義北迴歸線標誌', '臺灣氣候變遷推估與資訊平臺計劃'}\n",
            "{'亂世佳人', '費雯·麗'} {'AFI百年百大電影臺詞', 'AFI百年百大電影', 'AFI百年百大愛情電影', 'AFI百年系列', 'AFI百年百大喜劇電影'}\n",
            "{'岩石', '仙人掌', '墨西哥', '墨西哥國徽', '月桂', '力量', '國徽', '湖泊'} {'墨西哥國徽'}\n",
            "{'品質', '許世友', '農村'} {'許家窪'}\n",
            "{'林義雄', '政府', '美麗島', '美麗島事件', '事件'} {'美麗島'}\n",
            "{'力', '微分方程', '力學', '動力學', '運動學', '地方', '問題'} {'理論力學', '微分方程', '全微分方程'}\n",
            "{'盛世', '特徵', '三國', '世界歷史', '魏晉南北朝', '中國', '時代', '南北朝'} set()\n",
            "{'歐洲民族', '語言', '歐洲', '民族', '民族國家', '國家'} {'歐洲民族'}\n",
            "{'北京市', '北京航空航天大學'} {'北京航空航天大學出版社', '北京航空航天大學沙河校區', '北京航空航天大學飛行學院', '去年聖誕'}\n",
            "{'印度洋', '阿曼', '阿曼蘇丹', '孤島'} {'阿曼首相', '阿曼', '阿曼蘇丹'}\n",
            "{'後陽成天皇', '夷', '陽成天皇', '海南', '德川家康', '老闆', '幕府'} set()\n",
            "{'顏色', '流星'} {'散亂流星', '流星', '流星人間'}\n",
            "{'首都', '亞穆蘇克羅', '科特迪瓦', '城市', '阿比讓', '蘇克_(卑詩省)'} {'亞穆蘇克羅', '科特迪瓦', '阿比讓之歌', '和平之後大殿', '阿比讓非洲體育會'}\n",
            "{'歌手', '齊秦', '兄弟姊妹', '齊豫', '歌手·當打之年'} {'齊豫'}\n",
            "{'石器時代', '石器', '小米'} {'小米手機1', '中國中石器文化列表', '石器', '中石器時代', '打製石器'}\n",
            "{'硫酸', '酸', '腐蝕性物質', '水', '鹼', '濃度'} {'硫酸'}\n",
            "{'受害者', '案例', '縣_(中華民國)', '臺東垃圾焚化廠', '臺東', '臺東縣'} {'臺灣垃圾焚化廠列表', '岡山垃圾焚化廠', '臺東垃圾焚化廠', '崁頂垃圾焚化廠', '永康垃圾焚化廠'}\n",
            "{'晚上', '節目', '時間', '收視率', '新聞聯播', '中國', '上海市'} {'全國新聞聯播', '新聞聯播', '東方新聞', '新聞聯播天氣預報', 'NBC晚間新聞'}\n",
            "{'鳥', '信天翁科', '南冰洋', '洋', '太平洋', '世界'} {'信天翁科', '南方皇家信天翁', '特島信天翁', '黑背信天翁', '黑腳信天翁'}\n",
            "{'爻', '周文王'} set()\n",
            "{'臺灣', '臺灣人', '阿美族'} {'阿美族'}\n",
            "{'殼', '氨基葡萄糖', '乙酰基', '昆蟲', '體育運動', '糖胺'} set()\n",
            "{'食譜', '佛教用語列表', '風', '六和敬'} set()\n",
            "{'馬援', '問題', '漢光武帝', '書信'} {'漢光武帝'}\n",
            "{'希臘神話', '名稱', '希臘', '神話', '萬神殿_(動畫)', '學術領域大綱', '木衛三'} {'天體粒子物理學', '天文學家', '希臘神話生物列表'}\n",
            "{'名', '希臘神話', '希臘', '神話', '形象', '女神', '木星的衛星'} {'希臘神話生物列表', '瓦爾迪瓦紡錘魷'}\n",
            "{'元智大學', '組織創始人', '董事長', '父親'} {'元智大學'}\n",
            "{'臺中市', '中學', '新社區', '科', '今天', '新社河階羣', '臺中市立新社高級中學'} {'臺中市立中港高級中學', '臺中市立後綜高級中學', '臺中市立新社高級中學'}\n",
            "{'亨利', '王', '英格蘭', '16世紀', '世紀', '英格蘭教會', '亨利八世', '世', '教會'} set()\n",
            "{'果酒', '人類', '原材料', '果實'} {'大果酒餅簕', '蘋果酒'}\n",
            "{'光學顯微鏡', '光學', '圖像', '顯微鏡', '狀態'} {'顯微鏡', '數碼顯微鏡'}\n",
            "{'政府', '市場', '清朝', '刑罰', '清朝政府', '朱一貴', '王禮'} {'王禮'}\n",
            "{'國民議會', '人民', '立法機關', '議會', '民主', '意向性', '國家'} {'議會', '臺北市議會'}\n",
            "{'沙門氏菌屬', '達爾·斯蒂芬斯', '餐廳', '沃斯科縣', '選民', '組織_(生物學)', '1984年羅傑尼希教生物恐怖攻擊', '奧修'} {'1984年羅傑尼希教生物恐怖攻擊', '羅傑尼希社區'}\n",
            "{'腸道沙門氏菌', '沙門氏菌屬', '達爾·斯蒂芬斯', '餐廳', '沃斯科縣', '傷寒', '1984年羅傑尼希教生物恐怖攻擊', '奧修'} {'1984年羅傑尼希教生物恐怖攻擊', '羅傑尼希社區'}\n",
            "{'薄熙來', '法院'} set()\n",
            "{'衛星', '柯伊伯帶', '傑拉德·柯伊伯', '太陽系', '矮行星', '行星'} {'第五行星', '太陽系天體列表', '太陽系的假設天體列表', '柯伊伯帶'}\n",
            "{'權力', '公權力', '死刑'} set()\n",
            "{'許世友', '國民軍'} {'許家窪', '許世友反革命集團案', '上將許世友'}\n",
            "{'總統', '林登·約翰遜', '克里斯·約翰遜', '加里·約翰遜', '越南戰爭', '美國總統', '斯蒂夫·約翰遜', '美國'} {'2020年美國總統特朗普支持率列表'}\n",
            "{'盛世', '太平盛世', '三國', '魏晉南北朝', '南北朝'} {'魏晉南北朝墓誌', '太平盛世'}\n",
            "{'世界', '稱謂', '歐洲', '中東', '國際組織', '名詞', '西亞', '感覺'} {'西亞'}\n",
            "{'亞洲', '非洲', '紅寶石', '寶石', '澳大利亞', '洲', '工業'} {'紅寶石'}\n",
            "{'臺灣', '臺灣總督', '天皇', '日治時期', '總督', '地方行政首長'} {'臺灣總督府'}\n",
            "{'船', '東海', '小島_(臺東區)', '南', '波濤', '北小島', '漁民', '過去', '南小島', '小島'} {'橄欖門', '南小島', '北小島'}\n",
            "{'捷克', '天文學家', '茲德內克·莫拉維克', '行星'} {'小行星8573', '小行星7896', '小行星7796', '小行星7711', '小行星8556'}\n",
            "{'盧卡斯·埃爾南德斯', '喬治·盧卡斯', '盧卡斯·古博特', '盧卡斯·佩雷斯', '盧卡斯·雷瓦', '盧卡斯·巴斯克斯', '星際大戰'} set()\n",
            "{'服裝', '玉', '玄菟郡', '扶餘國', '玉衣', '太守', '銀', '漢朝'} {'扶餘國', '耿臨'}\n",
            "{'梁朝偉', '愛·情歌', '作品', '情歌'} {'從前…以後', '無4情歌', '爲情所困'}\n",
            "{'太祖', '花蓮縣'} {'和歌山縣旗', '花蓮縣議員列表', '山形縣旗', '鳥取縣旗'}\n",
            "{'第18屆金馬獎', '中華電視公司', '國家兩廳院', '金馬獎', '蕭芳芳', '金馬獎頒獎典禮', '主持人', '高雄市'} {'第18屆金馬獎'}\n",
            "{'教師', '普羅米修斯', '神仙·老師·狗'} {'普羅米修斯', '被縛的普羅米修斯', '解放了的普羅米修斯', '普羅米修斯計劃'}\n",
            "{'查理·卓別林'} {'小查理·卓別林', '悉尼·厄爾·卓別林', '摩登時代', '漢娜·卓別林', '悉尼·約翰·卓別林'}\n",
            "{'政府', '土衛十', '海', '中國神話', '神話', '土星的衛星', '女神', '中國'} set()\n",
            "{'水木', '水木清華BBS', 'BBS', '關站', '中國', '知名度', '中國大陸'} {'水木', '水木清華BBS', '芙蓉姐姐', '水木社區'}\n",
            "{'燕山_(消歧義)', '燕山大學', '河北省'} {'趙丁選', '部校共建新聞學院', '燕山大學', '燕山大學科技園', '河北石油職業技術大學承德校區'}\n",
            "{'韓式泡菜', '臺語電影', '辛奇_(臺灣導演)', '辛奇·羅卡', '地獄新娘'} set()\n",
            "{'高層建築物', '奈尼塔爾', '北阿坎德邦'} {'奈尼塔爾總督府', '北阿坎德邦行政區劃', '丹德拉', '奈尼塔爾'}\n",
            "{'市鎮', '雍正', '基隆市'} {'基隆山', '雞籠生', '基隆客運', '基隆市', '臺灣基隆地方法院'}\n",
            "{'歐洲民族', '腳趾', '歐洲', '民族', '指', '國家'} set()\n",
            "{'山斑鳩', '學名', '西方', '意'} {'山斑鳩'}\n",
            "{'香港', '華人', '劇集', '香港劇集', '世界'} set()\n",
            "{'頭', '英國', '披頭四樂隊'} set()\n",
            "{'民族主義', '若昂·費雷拉·佛朗哥·平託·卡斯特洛布蘭科', '弗朗西斯科·佛朗哥', '共和制', '佛朗哥·裏卡爾迪', '傑斯·佛朗哥', '韋羅妮卡·佛朗哥', '西班牙', '伊塔馬爾·佛朗哥'} set()\n",
            "{'酒店', '孟菲斯_(田納西州)', '馬丁·路德·金', '馬丁·路德'} {'馬丁·路德·金恩遇刺案', '孟菲斯大學'}\n",
            "{'東歐'} {'POSTNET'}\n",
            "{'臺灣總督府民政部', '臺灣總督府', '臺灣', '民政部', '總督府'} {'臺灣總督府民政部', '臺灣總督府', '臺灣總督府評議會', '民政部', '臺灣總督府總督官房'}\n",
            "{'臺北市', '中國人民解放軍', '中國人民解放軍武漢軍區', '高雄市'} {'中國人民解放軍內蒙古軍區', '中國人民解放軍武漢軍區空軍', '中國人民解放軍湖北省軍區', '中國人民解放軍武漢軍區', '中國人民解放軍昆明軍區'}\n",
            "{'五行', '遼朝', '晉_(五代十國)', '木材', '火', '後晉', '運氣', '中原', '行'} {'後漢', '遼朝'}\n",
            "{'政府', '中央政府', '護照', '旅行證件', '安全'} {'護照'}\n",
            "{'邊_(幾何)', '三角函數', '三角', '三角學'} {'三角學', '超越三角函數', '反三角函數', '三角函數', '三角'}\n",
            "{'喬木_(消歧義)', '中國社會科學院', '胡喬木'} set()\n",
            "{'配子', '個體'} set()\n",
            "{'不動點', '圓', '距離', '平面', '常數', '軌跡'} {'圓'}\n",
            "{'編劇', '陳韻文', '香港'} {'陳韻文'}\n",
            "{'證券市場', '寧波人', '公安_(消歧義)', '公安機關', '徐翔_(投資家)', '徐翔'} {'徐翔'}\n",
            "{'宋神宗', '兒子', '宋高宗', '南宋', '北宋', '皇帝', '宋朝'} {'宋神宗', '宋高宗', '懿靜貴妃', '宋朝君主列表'}\n",
            "{'愛丁堡', '愛丁堡大學', '大學', '英語', '蘇格蘭', '研究型大學', '英語世界', '首府'} {'愛丁堡皇家天文臺', '愛丁堡市政廳', '愛丁堡城堡', '愛丁堡舊城', '愛丁堡大學圖書館'}\n",
            "{'古羅馬', '羅馬神話', '神話', '宇宙', '朱庇特', '羅馬', '天神'} {'天神町', '朱庇特'}\n",
            "{'香港', '圍村', '練馬師', '現在', '松柏塱', '簡炳墀'} {'松柏塱'}\n",
            "{'劇場藝術', '黑色電影', '先驅', '化石森林', '電影'} {'罪惡鎖鏈', '偉大的奧馬利', '直搗黃龍', '賊中之王', '化石森林'}\n",
            "{'女性', '不孕'} {'女性不孕症'}\n",
            "{'衛', '軌道傾角', '軌道', '木材', '木衛三十九', '木星', '角', '木星的衛星', '黃道', '木衛三'} {'木衛二十八', '木衛五十', '木衛十四', '木衛三十九', '木衛四十四'}\n",
            "{'康沃爾冰川', '今天'} {'迪圖瓦冰原島峯', '康沃爾冰川', '麥克貝恩山', '康沃爾峯', '福派峯'}\n",
            "{'地形', '象山公園', '象山', '象山公園_(臺北市)', '公園'} {'象山公園'}\n",
            "{'馬車', '轅門', '地址'} {'轅門'}\n",
            "{'流行病學', '因果關係', '機體', '疾病'} {'流行病學', '地景流行病學', '病理學'}\n",
            "{'人因工程學', '特徵', '人體', '工業設計'} set()\n",
            "{'基督教神學', '神學', '聖子', '聖靈', '和子說', '聖父'} {'耶和華見證人和三位一體', '聖子', '聖靈', '和子說', '聖父'}\n",
            "{'世界', '稱謂', '歐洲', '中東', '名詞', '教科書', '西亞', '感覺'} {'西亞'}\n",
            "{'劇場', '莫斯科', '莫斯科大劇院', '芭蕾舞', '天鵝湖'} {'莫斯科大劇院', '天鵝湖', '芭蕾舞劇列表'}\n",
            "{'五常', '經濟學家', '張五常', '大災難', '批評', '中國', '洲', '中國大陸'} {'張五常'}\n",
            "{'山斑鳩', '學名', '東方', '意'} {'東方扁蝦', '東方蠊', '山斑鳩'}\n",
            "{'島嶼', '釣魚臺列嶼', '本地人', '釣魚臺'} {'中華民國臺灣地區島嶼列表', '衝南巖', '釣魚臺燈塔', '釣魚臺列嶼主權問題', '釣魚臺列嶼'}\n",
            "{'漢科科柳山', '喜馬拉雅山脈', '山脈', '玻利維亞'} {'漢科科柳山'}\n",
            "{'司馬懿', '東晉', '孫', '君主'} set()\n",
            "{'傳統', '韓國電視劇', '儒家', '家庭', '人性_(異世奇人)', '電視劇', '人性', '美'} {'韓國電視劇'}\n",
            "{'樂團', '詹雯婷', '陳建寧', '阿沁', '女性'} {'F.I.R.飛兒樂團'}\n",
            "{'張學良', '李登輝', '蔣經國', '美國', '軟禁'} {'張學良', '蔣經國之死'}\n",
            "{'答案'} {'答案就是妳'}\n",
            "{'南投縣', '玉山', '酒', '茶'} set()\n",
            "{'臺北', '法務部矯正署', '立法機關', '土城區', '法務部矯正署臺北少年觀護所', '新北市'} {'法務部矯正署高雄監獄', '法務部矯正署', '法務部矯正署臺南監獄', '法務部矯正署高雄第二監獄', '法務部矯正署臺北少年觀護所'}\n",
            "{'環境影響評價', '監測', '污染源監測', '污染', '污染物', '環境監測'} {'污染源監測', '環境質量評價', '最佳可行控制技術', '環境監測', '大氣擴散模式'}\n",
            "{'抄襲', '權利', '權利客體'} {'獨創性', '文章相似度檢測', '高雄捷運路線圖抄襲事件', '西南交大副校長黃慶博士論文抄襲事件'}\n",
            "{'北平王', '五代十國', '王', '北平市', '政權', '北平_(五代十國)', '晉王', '後唐', '十國', '唐明宗'} {'李繼儔'}\n",
            "{'歌手', '齊秦', '齊豫', '歌手·當打之年', '兩人_(aiko單曲)', '陌生人'} {'齊豫'}\n",
            "{'總統', '貝尼託·胡亞雷斯', '亞伯拉罕·林肯'} {'貝尼託·胡亞雷斯'}\n",
            "{'臺南市立安平水產專修學校', '臺南市', '日治時期', '目標', '學校'} {'臺南市立安平水產專修學校'}\n",
            "{'國內', '護照', '自動櫃員機'} set()\n",
            "{'亞洲', '西南', '南', '地區', '馬爾代夫', '斯里蘭卡', '印度'} {'馬爾代夫國家足球隊', '印度叫姑魚', '馬爾代夫'}\n",
            "{'戰國時期', '趙國', '燕國', '滅亡', '王翦', '秦國'} set()\n",
            "{'粒子', '風_(太陽探測器)', '極光', '地球', '太陽風', '太陽'} {'極光', '太陽風'}\n",
            "{'新北市區公車790路線', '班距', '桃園車站_(臺鐵)', '公車', '基隆市', '金山', '新北市'} {'新北市區公車790路線', '新北市區公車813路線', '新北市區公車571路線', '桃園市公車', '新北市區公車573路線'}\n",
            "{'鳥', '信天翁科', '南冰洋', '翼展', '洋', '太平洋', '飛行', '世界'} {'漂泊信天翁', '信天翁科', '南方皇家信天翁', '翼展', '桑氏遠洋鳥'}\n",
            "{'建築學', '海', '賀龍', '賀龍體育文化中心', '文化中心'} {'賀龍事件', '賀捷生', '賀龍體育文化中心', '天心閣', '向元姑'}\n",
            "{'伍迪·艾倫', '喜劇中心', '艾倫', '2004年'} {'顧竹君', '王雙慶'}\n",
            "{'祕魯', '數', '胡利亞卡', '城市', '洞口縣'} set()\n",
            "{'嫘祖', '黃帝', '兒子', '昌意'} {'嫘祖', '昌意', '嚳'}\n",
            "{'月食', '食_(天文現象)', '區域', '月球', '太陽光'} {'2006年9月7日月食', '19世紀月食列表', '2008年8月16日月食', '2011年6月15日月食', '2014年10月8日月食'}\n",
            "{'自行車', '飛行員', '民用航空', '航空', '國'} {'中華民國汽車駕駛執照', '飛行員'}\n",
            "{'南北朝時代_(日本)', '宋武帝', '東晉', '南北朝_(消歧義)'} set()\n",
            "{'化學', '化學鍵', '碳氟化合物', '氟化合物'} {'碳氟化合物'}\n",
            "{'臺北', '川端町', '行政區劃', '臺灣', '郊區', '臺灣日治時期', '臺北市', '日治時期'} {'川端町'}\n",
            "{'爬行動物', '生殖系統', '動物'} {'日本爬行動物列表'}\n",
            "{'名', '方中信', '夏文汐', '亦舒', '朝花夕拾', '影集'} {'朝花夕拾'}\n",
            "{'李宗仁回憶錄', '程序員', '對百度的爭議', '人月神話', '中藥', '華碩', '集成開發環境', '臺北市立松山高級商業家事職業學校', '微軟認證', '唐鳳'} set()\n",
            "{'視野', '光學顯微鏡', '顯微鏡', '樣品', '功能'} set()\n",
            "{'臺中市', '臺中市立臺中女子高級中等學校', '臺中_(大字)'} {'上海市第三女子中學', '萬鈞匯知中學', '臺中市議會', '臺中市私立明德高級中學', '臺中市立臺中女子高級中等學校'}\n",
            "{'新槐站', '中國鐵路上海局集團', '中華人民共和國鐵路車站', '鐵路局', '站'} {'臺灣鐵路管理局車站等級', '鐵路局'}\n",
            "{'力量', '鳩鴿科', '雄性'} {'鳩鴿科'}\n",
            "{'化學性質', '礦物', '溫度', '物理性質'} {'礦物', '碳酸鹽礦物', '礦物學', '剩餘性質'}\n",
            "{'院士', '理論', '中央研究院', '力學', '研究生', '國立臺灣大學', '專業人士', '研究所', '國立臺灣大學應用力學研究所', '工程力學', '中央研究院院士'} {'吳光鍾', '林啓萬', '劉佩玲', '鮑亦興', '國立臺灣大學應用力學研究所'}\n",
            "{'田橫', '祭海節', '即墨區', '節'} {'即墨城牆', '田橫五百義士冢', '即墨縣', '即墨區'}\n",
            "{'糖類', '肥料', '硫', '糖_(消歧義)'} {'硫', '糖生物學'}\n",
            "{'自由', '人民', '代表作', '資本主義政治經濟學', '資本主義', '亞當·斯密', '政治經濟學', '國富論', '競爭'} {'資本主義政治經濟學', '亞當·斯密'}\n",
            "{'好萊塢', '深淵', '阿斯泰·妮爾森'} {'深淵', '阿斯泰·妮爾森'}\n",
            "{'美術館', '法人', '臺灣', '北區_(臺南市)', '半官方機構', '臺南市美術館', '北區', '臺南市'} {'臺南市美術館'}\n",
            "{'樹脂', '電腦性能', '高性能轎車', '材料', '纖維', '玻璃纖維', '複合材料'} {'陶瓷基複合材料', '樹脂基複合材料', '玻璃纖維', '複合材料', '纖維材料改性國家重點實驗室'}\n",
            "{'臺北', '臺北市立大學博愛校區', '相對方位', '臺北市立大學', '師範學校', '臺北市立大學天母校區', '大學'} {'詩欣館', '臺北市立大學博愛校區', '臺北市立大學天母校區體育館', '臺北市立大學', '臺北市立大學天母校區'}\n",
            "{'財產', '湯姆·漢克斯', '湯姆·班克斯', '獎勵', '湯姆·克魯斯'} set()\n",
            "{'漫畫', '彼得·傑克遜', '丁丁歷險記', '丁丁_(丁丁歷險記)', '魔戒'} {'彼得·傑克遜', '碧安卡·卡斯塔菲歐蕾', '丁丁在蘇聯', '丁丁與字母藝術', '丁丁與流浪漢'}\n",
            "{'大西洋', '冰', '北冰洋', '航運', '冰山', '海水'} {'北冰洋'}\n",
            "{'硫酸', '比例'} {'硫酸氧鈦', '硫酸𨥙', '硫酸亞錫', '硫酸鋇'}\n",
            "{'大學', '英國', '康奈爾大學'} {'康乃爾大學文理學院'}\n",
            "{'粗糙擬迷孔菌', '蕈類'} {'粗糙擬迷孔菌'}\n",
            "{'北京理工大學'} {'華北理工大學'}\n",
            "{'貝塔·雷·比爾', '愛', '貝雷特'} {'貝雷特'}\n",
            "{'動漫', '市轄區_(中華人民共和國)', '州', '縣', '市轄區', '潮州市', '市', '區_(中華民國)'} {'2016年中華人民共和國縣級以上行政區劃變更列表', '潮州市城南中學', '2005年中華人民共和國縣級以上行政區劃變更列表', '2015年中華人民共和國縣級以上行政區劃變更列表'}\n",
            "{'國立臺灣大學', '國立臺灣大學昆蟲標本館', '標本', '昆蟲'} {'植物標本館列表', '植物標本館', '貝蒂生物多樣性博物館', '國立臺灣大學昆蟲標本館', '國立臺灣大學植物標本館'}\n",
            "{'政治人物', '沙洛特·蔡', '東突厥', '東', '化名', '突厥', '波爾布特'} {'宋成'}\n",
            "{'真理', '日本人', '麻原彰晃', '真理國'} {'麻原彰晃', '真理國'}\n",
            "{'電動機', '能量轉換', '能量', '差異_(哲學)', '發動機'} {'能量成型控制', '電動機'}\n",
            "{'地級市', '九江_(消歧義)', '省', '江西省', '市', '九江市_(縣級)', '九江市'} {'永修縣', '九江地區', '德安縣', '湖口縣', '彭澤縣'}\n",
            "{'樂山大佛', '大佛', '唐朝'} {'樂山大佛'}\n",
            "{'形上學'} {'形上學', '形上學大綱'}\n",
            "{'議會', '行政機關', '民主', '國家'} set()\n",
            "{'三立電視', '國際臺', '杭州駐防城', '三立國際臺'} {'三立都會臺', '三立綜合臺', '三立國際臺', '三立戲劇臺', '三立iNEWS'}\n",
            "{'馬克思主義', '馬克思·多爾穆瓦站', '格魯喬·馬克思', '卡爾·馬克思', '馬克思主義政治經濟學', '資本論', '政治經濟學', '海因裏希·馬克思'} {'馬克思主義政治經濟學', '資本論', '河上肇', '女人資本論'}\n",
            "{'染色體', '妊娠', '流產'} {'流產', '反覆流產', '先兆流產'}\n",
            "{'樂團', '梁朝偉', '主唱'} {'鼓動樂團'}\n",
            "{'自由', '價值', '廣告', '蔡元培', '元培'} {'蔡元培故居', '蔡元培獎', '蔡元培舊居'}\n",
            "{'兒童', '輕機槍', '通用機槍', '機槍', '自動步槍', '班_(軍事)', '步槍'} {'80式通用機槍', '輕機槍', '通用機槍', '67式通用機槍', '88式通用機槍'}\n",
            "{'彗星', '大小', '天文單位'} {'彗星塵'}\n",
            "{'粒子', '光', '風_(太陽探測器)', '極光', '地球', '赤道', '太陽風', '太陽'} {'極光', '太陽風'}\n",
            "{'魚', '海', '日本', '深度', '鰓棘杜父魚'} {'梳鰭鬼杜父魚', '日本須魴鮄', '連鰭杜父魚', '玫瑰裸腹杜父魚', '鰓棘杜父魚'}\n",
            "{'質量', '天體', '物質', '平衡', '壓強', '土衛一', '太陽系', '土星的衛星'} {'土衛一', '平衡'}\n",
            "{'人口', '亞洲', '京畿', '京畿道'} {'中京畿道'}\n",
            "{'喬瓦尼·多梅尼科·卡西尼', '亨利·卡西尼', '卡西尼', '讓多米尼克·卡西尼', '巴黎天文臺', '天文臺', '塞薩爾弗朗索瓦·卡西尼·德·蒂裏'} {'喬瓦尼·多梅尼科·卡西尼', '卡西尼', '塞薩爾-弗朗索瓦·卡西尼·德·蒂裏', '亨利·卡西尼'}\n",
            "{'軟件測試', '測試', '產品', '過程', '軟件'} {'自動化測試', '軟件測試'}\n",
            "{'奧林匹克運動會', '五環', '名譽主席', '主席', '奧林匹克五環'} {'皮埃爾·德·顧拜旦', '奧林匹克五環'}\n",
            "{'松前城', '攻擊', '福山城_(備後國)', '戰爭', '廣島縣', '備後國', '廣島'} {'備後國'}\n",
            "{'威尼斯', '電影節', '動作片', '威尼斯電影節', '金獅獎', '事件', '侯孝賢', '二二八事件'} {'第10屆威尼斯影展', '第15屆威尼斯影展'}\n",
            "{'葡萄酒', '品牌', '酒', '蘋果酒', '世界'} {'蘋果酒'}\n"
          ]
        }
      ],
      "source": [
        "results_df = pd.merge(pd.Series([line for line in predicted_results_aicup], name=\"aicup\"), \n",
        "                      pd.Series([line for line in predicted_results_tfidf], name=\"tfidf\"), right_index=True, left_index=True)\n",
        "predicted_results = results_df.apply(union_result, axis=1)\n",
        "save_doc(TRAIN_DATA, predicted_results, mode=\"train\")"
      ]
    },
    {
      "attachments": {},
      "cell_type": "markdown",
      "metadata": {},
      "source": [
        "### Step 2. Calculate our results"
      ]
    },
    {
      "cell_type": "code",
      "execution_count": 27,
      "metadata": {},
      "outputs": [
        {
          "name": "stdout",
          "output_type": "stream",
          "text": [
            "Precision: 0.19716101086413607\n",
            "Recall: 0.8992031250000001\n"
          ]
        }
      ],
      "source": [
        "calculate_precision(TRAIN_DATA, predicted_results)\n",
        "calculate_recall(TRAIN_DATA, predicted_results)"
      ]
    },
    {
      "attachments": {},
      "cell_type": "markdown",
      "metadata": {},
      "source": [
        "### Step 3. Repeat the same process on test set\n",
        "Create parsing tree"
      ]
    },
    {
      "cell_type": "code",
      "execution_count": 32,
      "metadata": {},
      "outputs": [],
      "source": [
        "hanlp_test_file = f\"data/hanlp_con_test_results.pkl\"\n",
        "if Path(hanlp_test_file).exists():\n",
        "    with open(hanlp_test_file, \"rb\") as f:\n",
        "        hanlp_test_results = pickle.load(f)\n",
        "else:\n",
        "    hanlp_test_results = [get_nps_hanlp(predictor, d) for d in TEST_DATA]\n",
        "    with open(hanlp_test_file, \"wb\") as f:\n",
        "        pickle.dump(hanlp_test_results, f)"
      ]
    },
    {
      "attachments": {},
      "cell_type": "markdown",
      "metadata": {},
      "source": [
        "Get pages via wiki online api"
      ]
    },
    {
      "cell_type": "code",
      "execution_count": 39,
      "metadata": {},
      "outputs": [],
      "source": [
        "test_doc_path = f\"data/test_doc5.jsonl\"\n",
        "if Path(test_doc_path).exists():\n",
        "    with open(test_doc_path, \"r\", encoding=\"utf8\") as f:\n",
        "        test_results = pd.Series(\n",
        "            [set(json.loads(line)[\"predicted_pages\"]) for line in f])\n",
        "else:\n",
        "    test_df = pd.DataFrame(TEST_DATA)\n",
        "    test_df.loc[:, \"hanlp_results\"] = hanlp_test_results\n",
        "    test_results = test_df.parallel_apply(get_pred_pages, axis=1)\n",
        "    save_doc(TEST_DATA, test_results, mode=\"test\")"
      ]
    },
    {
      "cell_type": "code",
      "execution_count": 34,
      "metadata": {},
      "outputs": [
        {
          "data": {
            "application/vnd.jupyter.widget-view+json": {
              "model_id": "8349362d98d64d91b30ce81174deafc2",
              "version_major": 2,
              "version_minor": 0
            },
            "text/plain": [
              "VBox(children=(HBox(children=(IntProgress(value=0, description='0.00%', max=99), Label(value='0 / 99'))), HBox…"
            ]
          },
          "metadata": {},
          "output_type": "display_data"
        },
        {
          "data": {
            "application/vnd.jupyter.widget-view+json": {
              "model_id": "4f9090e04da545b1932dc96eb2d68faf",
              "version_major": 2,
              "version_minor": 0
            },
            "text/plain": [
              "VBox(children=(HBox(children=(IntProgress(value=0, description='0.00%', max=330), Label(value='0 / 330'))), HB…"
            ]
          },
          "metadata": {},
          "output_type": "display_data"
        }
      ],
      "source": [
        "test_doc_path = f\"data/test_doc5.jsonl\"\n",
        "test_doc_path_aicup = f\"data/test_doc5_aicup.jsonl\"\n",
        "test_doc_path_search = f\"data/test_doc5_search.jsonl\"\n",
        "test_doc_path_tfidf = f\"data/test_doc5_tfidf.jsonl\"\n",
        "\n",
        "if Path(test_doc_path).exists():\n",
        "    with open(test_doc_path, \"r\", encoding=\"utf8\") as f:\n",
        "        test_results = pd.Series([\n",
        "            set(json.loads(line)[\"predicted_pages\"])\n",
        "            for line in f\n",
        "        ])\n",
        "else:\n",
        "    if Path(test_doc_path_search).exists():\n",
        "        with open(test_doc_path_search, \"r\", encoding=\"utf8\") as f:\n",
        "            test_results_search = pd.Series([\n",
        "                set(json.loads(line)[\"predicted_pages\"])\n",
        "                for line in f\n",
        "            ], name=\"search\")\n",
        "    else:\n",
        "        pandarallel.initialize(progress_bar=True, verbose=0, nb_workers=10)\n",
        "        test_df = pd.DataFrame(TEST_DATA)\n",
        "        test_df.loc[:, \"hanlp_results\"] = hanlp_test_results\n",
        "        # predicted_results = test_df.progress_apply(get_pred_pages, axis=1)\n",
        "        test_results_search = test_df.parallel_apply(\n",
        "            get_pred_pages_search, axis=1)\n",
        "        save_doc(TEST_DATA, test_results_search, mode=\"test\", suffix=\"_search\")\n",
        "\n",
        "    if Path(test_doc_path_aicup).exists():\n",
        "        with open(test_doc_path_aicup, \"r\", encoding=\"utf8\") as f:\n",
        "            test_results_aicup = pd.Series([\n",
        "                set(json.loads(line)[\"predicted_pages\"])\n",
        "                for line in f\n",
        "            ], name=\"aicup\")\n",
        "    else:\n",
        "        pandarallel.initialize(progress_bar=True, verbose=0, nb_workers=10)\n",
        "        test_df = pd.DataFrame(TEST_DATA)\n",
        "        test_df.loc[:, \"hanlp_results\"] = hanlp_test_results\n",
        "        # predicted_results = test_df.progress_apply(get_pred_pages, axis=1)\n",
        "        test_results_aicup = test_df.parallel_apply(\n",
        "            get_pred_pages, axis=1)\n",
        "        save_doc(TEST_DATA, test_results_aicup, mode=\"test\", suffix=\"_aicup\")\n",
        "\n",
        "    if Path(test_doc_path_tfidf).exists():\n",
        "        with open(test_doc_path_tfidf, \"r\", encoding=\"utf8\") as f:\n",
        "            test_results_tfidf = pd.Series([\n",
        "                set(json.loads(line)[\"predicted_pages\"])\n",
        "                for line in f\n",
        "            ], name=\"tfidf\")\n",
        "    else:\n",
        "        pandarallel.initialize(progress_bar=True, verbose=0, nb_workers=3)\n",
        "        TEST_DATA_SEARCH = load_json(test_doc_path_search)\n",
        "        test_df_search = pd.DataFrame(TEST_DATA_SEARCH)\n",
        "        test_results_tfidf = test_df_search.parallel_apply(\n",
        "            partial(\n",
        "                get_pred_pages_tfidf,\n",
        "                tokenizing_method=partial(tokenize, stopwords=stopwords),\n",
        "                vectorizer=vectorizer,\n",
        "                tf_idf_matrix=X,\n",
        "                wiki_pages=wiki_pages,\n",
        "                topk=topk,\n",
        "            ), axis=1)\n",
        "        save_doc(TEST_DATA, test_results_tfidf, mode=\"test\", suffix=\"_tfidf\")"
      ]
    },
    {
      "cell_type": "code",
      "execution_count": 35,
      "metadata": {},
      "outputs": [
        {
          "name": "stdout",
          "output_type": "stream",
          "text": [
            "{'顯微鏡', '肉眼', '光學顯微鏡', '電磁學'} {'顯微鏡'}\n",
            "{'蠶', '昆蟲', '花蜜', '絲綢', '蜜蜂屬'} {'東方蜜蜂', '吸蜜蜂鳥', '義大利蜂', '西方蜜蜂', '蜜蜂屬'}\n",
            "{'綠山城縣', '波蘭', '西部', '土地', '綠山城', '0', '山城'} {'山城街道', '綠山城縣', '綠山城', '山城路街道', '盧布斯卡省'}\n",
            "{'配角', '魂斷藍橋', '藍橋', '橋'} {'魂斷藍橋', '藍橋'}\n",
            "{'文學', '唐朝', '金馬獎', '劇情片', '獎勵', '侯孝賢', '電影', '文言文'} {'侯孝賢', '金馬獎最佳劇情短片', '刺客聶隱娘'}\n",
            "{'薄熙來', '國務院', '姪', '副總理'} {'薄熙來'}\n",
            "{'水星', '凌日', '水星凌日'} {'凌日', '水星凌日', '水星計劃7人', '2012年金星凌日'}\n",
            "{'馬克思主義', '馬克思·多爾穆瓦站', '格魯喬·馬克思', '作品', '卡爾·馬克思', '馬克思主義政治經濟學', '政治經濟學', '海因裏希·馬克思'} set()\n",
            "{'母親', '祖師', '一貫道', '路', '彌勒菩薩', '神', '無生老母', '生'} {'無生老母'}\n",
            "{'伊斯蘭教', '新疆維吾爾自治區', '回族', '穆斯林', '內蒙古自治區', '中亞', '西亞'} {'回族', '尼泊爾伊斯蘭教'}\n",
            "{'地形', '彗星', '小行星', '面_(幾何)', '天衛四', '行星', '撞擊坑'} {'天衛四', '哈姆雷特撞擊坑'}\n",
            "{'亞洲', '身', '玲子·艾爾斯沃斯', '血親', '美洲'} {'玲子·艾爾斯沃斯', '亞非混血'}\n",
            "{'臺灣', '口耳相傳', '法輪功', '中國'} {'法輪功在臺灣'}\n",
            "{'名', '奧斯卡', '奧斯卡·埃爾南德斯', '小說', '獎勵'} set()\n",
            "{'反射', '海嘯', '地震波', '地震', '檢測'} {'海嘯', '地震波'}\n",
            "{'宇宙', '彌涅耳瓦', '命運'} {'彌涅耳瓦'}\n",
            "{'樂山大佛', '大佛', '唐朝'} {'樂山大佛', '海通和尚'}\n",
            "{'韓國電視劇', '家庭', '電視劇', '人性', '真善美'} {'韓國電視劇'}\n",
            "{'置標語言', '標記_(程式語言)', 'XBRL'} {'語音合成標記語言', 'XML', '文檔標記語言比較', 'InkML', '輕量級標記語言'}\n",
            "{'史蒂夫·喬布斯', '電子計算機', '喬布斯_(電影)', '蘋果公司', '蘋果'} {'史蒂夫·喬布斯'}\n",
            "{'機構', '工程', '211_(消歧義)', '中國政法大學', '211工程', '大學'} {'中國政法大學'}\n",
            "{'珠江三角洲', '珠江', '三角洲'} {'珠江三角洲經濟區', '珠江三角洲'}\n",
            "{'亞伯拉罕·範海辛', '亞伯拉罕·路易·佈雷蓋', '亞伯拉罕·林肯', '亞伯拉罕諸教', '亞伯拉罕', 'F·莫瑞·亞伯拉罕', '斯賓塞·亞伯拉罕', '亞伯拉罕·林肯總統圖書館和博物館'} {'易卜拉欣', '亞伯拉罕諸教', '一神論', '亞伯拉罕', '有經者'}\n",
            "{'獅', '金獅獎_(消歧義)', '電影節', '影片', '意大利', '冠軍', '獎勵', '金獅獎'} {'第73屆威尼斯影展', '芝加哥影展', '第15屆威尼斯影展', '金獅獎', '威尼斯影展評審團大獎'}\n",
            "{'炸彈', '第二次世界大戰', '對日民間索賠', '經濟補償', '創傷', '類型'} {'對日民間索賠'}\n",
            "{'上游', '太原市', '汾河', '山西省'} {'汾河鎮', '汾河公園', '汾河', '汾河街道'}\n",
            "{'東帝汶', '地區', '電影'} {'東帝汶'}\n",
            "{'代理_(政治)', '1999', '1999年', '羅曼·伊戈列維奇·普京', '弗拉基米爾·普京', '總理'} set()\n",
            "{'半島', '阿曼蘇丹', '蘇丹_(稱謂)', '阿曼', '國', '阿拉伯半島', '印度洋'} {'阿曼首相', '阿曼', '阿曼蘇丹', '半島阿拉伯語'}\n",
            "{'交通', '載具', '雷暴', '費爾南多·索爾', '北歐', '神', '索爾', '人間'} {'索爾'}\n",
            "{'行政法'} {'行政法'}\n",
            "{'部長', '英國', '廣播', '英國廣播公司', '國家'} {'BBC廣播四臺', 'BBC電影', '英國廣播公司', 'BBC自然知性臺'}\n",
            "{'作家', '俄羅斯', '托爾斯泰_(消歧義)', '戰爭與和平', '函數', '列夫·托爾斯泰'} {'索菲亞·別爾斯', '亞斯納亞波利亞納', '列夫·托爾斯泰著作列表', '戰爭與和平', '列夫·托爾斯泰區'}\n",
            "{'燕大', '秦皇島市', '河北省', '鱷目', '燕山_(消歧義)', '燕山大學', '燕_(安史之亂)'} {'燕大', '秦皇島職業技術大學', '秦皇島市第一中學', '燕山大學', '燕山大學科技園'}\n",
            "{'高建_(韓國)', '大韓民國', '高建', '政治家', '訊息'} {'高建'}\n",
            "{'懷化市', '地級市', '湖北省', '市', '湖北省_(中華民國)', '中華人民共和國'} {'中華人民共和國地級市列表', '懷化市'}\n",
            "{'原口動物', '口腔', '螺旋動物', '分支', '動物'} {'螺旋動物', '原口動物', '序足動物'}\n",
            "{'態度', '佛教用語列表', '六和敬'} {'佛教用語列表', '六和敬'}\n",
            "{'短篇小說', '弗朗茨·卡夫卡'} {'卡夫卡博物館', '一隻雜種', '張皓宸', '弗朗茨·卡夫卡'}\n",
            "{'金朝', '國府', '皇帝', '標語'} {'國府'}\n",
            "{'物理量', 'IPod'} {'IPod'}\n",
            "{'腳趾', '歐洲民族', '歐洲', '民族', '指', '國家'} set()\n",
            "{'牡丹社', '少將', '牡丹', '官僚', '鹿兒島縣', '明治', '兒玉利國'} {'兒玉利國'}\n",
            "{'史丹佛大學', '朱棣文', '小利蘭·斯坦福', '斯坦福'} {'斯坦福醫學院', '小利蘭·斯坦福'}\n",
            "{'威廉·華茲華斯', '蘇格蘭', '湖區'} {'赫爾維林峯'}\n",
            "{'進士', '嘉興市', '江蘇省_(中華民國)', '沈鈞儒', '祖籍'} {'沈鈞儒', '莊心庠'}\n",
            "{'皮特·烏斯蒂諾夫', '女王', '伊麗莎白', '伊麗莎白二世', '血親', '1990年', '世', '法國'} {'皮特·烏斯蒂諾夫'}\n",
            "{'色', '顏色', '可見光', '毛主席語錄', '波長'} {'毛主席語錄'}\n",
            "{'神話_(書)', '多米那特製', '羅馬神話', '普路託', '陰間'} {'普路託', '冥神'}\n",
            "{'樹脂', '電腦性能', '高性能轎車', '材料', '纖維', '玻璃纖維', '複合材料'} {'陶瓷基複合材料', '樹脂基複合材料', '玻璃纖維', '複合材料', '纖維材料改性國家重點實驗室'}\n",
            "{'作曲家', '古斯塔夫·馬勒', '安娜·馬勒', '交響曲', '奧地利', '阿爾瑪·馬勒', '早晨', '歌曲'} set()\n",
            "{'1982年', '竹內瑪莉亞', '身分標識方式', '山下達郎'} {'我們的夏日夢', '一直在一起吧'}\n",
            "{'理論', '邊際', '經濟學', '經濟學家', '哈佛大學', '楊小凱', '分析', '古典經濟學'} {'楊小凱', '羅伯特·巴羅'}\n",
            "{'沙皇', '俄羅斯人', '治理', '民主革命', '1917', '1917年', '亞歷山大·克倫斯基', '俄羅斯'} {'亞歷山大·克倫斯基', '非裔俄羅斯人'}\n",
            "{'賓州', '大韓民國', '全羅北道', '羅', '聯合國教育、科學及文化組織', '道_(行政區劃)', '首府'} {'聯合國教科文組織分類法', '全羅北道', '忠清北道', '聯合國教科文科學技術統計工作手冊的分類法', '全州市'}\n",
            "{'伍迪·艾倫', '角色', '艾倫', '神經質'} set()\n",
            "{'伍迪·艾倫', '艾倫', '時代', '時代雜誌'} {'王雙慶', '顧竹君'}\n",
            "{'原材料', '醋', '釀造醋'} {'釀造醋'}\n",
            "{'卡拉卡爾帕克斯坦共和國', '斯坦', '突厥', '突厥語族', '本地人'} {'木伊那克', '卡拉卡爾帕克人', '卡拉卡爾帕克斯坦共和國', '卡拉卡爾帕克蘇維埃社會主義自治共和國'}\n",
            "{'鎖麟囊', '上海市'} set()\n",
            "{'臺北市私立華岡藝術學校', '張其昀'} {'張其昀'}\n",
            "{'需要', '乙烯基', '烴', '乙炔', '炔烴'} {'乙炔銀', '乙炔', '苯乙炔', '乙炔二醇', '炔烴'}\n",
            "{'數學家', '理論', '格奧爾格·康托爾', '數學', '埃迪·康托爾'} set()\n",
            "{'大衆部', '佛教歷史', '根本分裂', '印度佛教', '上座部', '佛教', '分裂', '印度'} {'大衆部', '根本分裂', '上座部', '部派佛教', '教派分裂'}\n",
            "{'關羽', '金蘭', '劉備', '小說', '章回小說', '三國演義'} {'演義', '關羽', '樊城之戰', '三國演義'}\n",
            "{'F', '向量', '研究', '一般線性羣', '規約符號', '對稱', '向量空間', 'GL'} set()\n",
            "{'土衛十', '土衛十一', '木星', '土星的衛星'} {'土衛四十九', '土衛十一', '土衛一', '土衛三'}\n",
            "{'墨家', '邏輯', '代表'} {'墨家', '邏輯史', '非經典邏輯'}\n",
            "{'公寓', '號', '高安公寓', '康平路'} {'高安公寓', '衛樂公寓', '西湖公寓', '建國公寓', '公寓'}\n",
            "{'突變', '流產', '基因', '胎兒'} {'流產', '產前發育', '定點突變'}\n",
            "{'長度', '原子', '鍵長', '分子', '氫氣', '雙原子分子', '鍵'} {'鍵長', '雙原子分子'}\n",
            "{'總統', '弗拉基米爾', '弗拉基米爾·普京'} {'弗拉基米爾·普京關於克里米亞的講話', '弗拉基米爾·普京的政治生涯', '弗拉基米爾·普京推行的外交政策', '柳德米拉·普京娜', '弗拉基米爾·普京的公衆形象'}\n",
            "{'湖北省_(中華民國)', '湖北省', '崇義郡', '中國', '北朝', '南北朝'} set()\n",
            "{'愛爾蘭', '體積'} {'分佈體積', '摩爾體積', '體積莫耳濃度', '控制體積', '愛爾蘭總統'}\n",
            "{'臺北市', '臺北市_(州轄市)'} {'臺北市議員列表', '臺北市議會', '臺北市萬華區老松國民小學'}\n",
            "{'麥', '大麥', '禾本科', '中東', '植物', '世界'} {'大麥', '大麥屬', '大麥地文化'}\n",
            "{'病毒', '生物分類學', '屬', '分類學_(消歧義)', '生物', '生物學', '形容詞'} {'形態分類'}\n",
            "{'詩人', '史詩', '荷馬史詩', '美洲', '荷馬'} set()\n",
            "{'南京大學附屬中學', '中學', '江蘇省_(中華民國)', '南京大學'} {'師範大學附屬中學列表', '南京師範大學附屬中學', '南京大學附屬中學', '南京航空航天大學附屬高級中學', '南京市金陵中學'}\n",
            "{'科隆', '世紀', '20世紀', '農業'} set()\n",
            "{'漫畫', '勇度', '藍色', '人物'} set()\n",
            "{'中西區_(臺灣)', '西區_(臺南市)', '臺南市美術館', '臺南市', '中西區'} {'原臺南警察署'}\n",
            "{'神仙·老師·狗', '泰國', '教師', '朱棣文', '大學'} set()\n",
            "{'食糖', '全球', '澱粉', '啤酒', '酒', '飲料'} {'啤酒', '釀造酒', '拉格啤酒', '自釀啤酒', '酒精發酵'}\n",
            "{'價值', '工程', '不可否認', '中國'} set()\n",
            "{'程序員', '代碼風格'} {'代碼風格'}\n",
            "{'華南理工大學', '中華人民共和國'} {'華南理工大學經濟與金融學院', '華南理工大學校友列表', '華南理工大學旅遊管理系', '華南理工大學出版社', '電子科技大學'}\n",
            "{'特別攻擊隊', '資源_(計算機科學)', '跟蹤支援隊', '力_(佛教)', '同盟國_(第二次世界大戰)', '日本'} set()\n",
            "{'尼克·貝爾格', '2004年'} {'尼克·貝爾格', '貝爾格鱷屬', '阿班·貝爾格四重奏團', '阿爾班·貝爾格'}\n",
            "{'南投縣', '臺灣', '酒', '茶'} {'南投縣議會'}\n",
            "{'校長', '北京大學', '馬寅初'} {'吳樹青'}\n",
            "{'尼克·貝爾格', '伊拉克'} {'尼克·貝爾格'}\n",
            "{'大學', '美國', '康奈爾大學'} {'西北大學', '聖母院大學', '普洛威頓斯學院', '康乃爾大學文理學院', '巴黎聖母院大學'}\n",
            "{'章伯鈞'} {'汪先烺', '光仁洪', '張聰賢', '馬瑞辰', '章伯鈞'}\n",
            "{'溶液', '溫', '濃度'} {'體積莫耳濃度', '規則溶液', '濃度', '酸溶液'}\n",
            "{'革命', '秦腔', '文化大革命', '1966年'} {'秦腔', '劉毓中', '柳萍', '中共中央關於農村無產階級文化大革命的指示', '無產階級文化大革命就是好'}\n",
            "{'全球', '排球', '北美洲'} {'排球'}\n",
            "{'電', '電流', '流', '直流電', '技術', '交流電', '變流技術'} {'電力電子學', '直流-直流轉換器', '變流技術'}\n",
            "{'運河', '大運河', '京杭大運河'} {'南運河', '京杭大運河', '大運河', '大運河站', '京杭運河大橋'}\n",
            "{'國立臺灣大學', '國立臺灣大學昆蟲標本館', '標本', '昆蟲'} {'植物標本館列表', '植物標本館', '貝蒂生物多樣性博物館', '國立臺灣大學昆蟲標本館', '國立臺灣大學植物標本館'}\n",
            "{'東北', '梅克倫堡', '西波美拉尼亞', '州', '東北部_(越南)', '波美拉尼亞', '梅克倫堡前波美拉尼亞', '德國'} {'前波美拉尼亞-格賴夫斯瓦爾德縣', '梅克倫堡-前波美拉尼亞', '西北梅克倫堡縣', '前波美拉尼亞-呂根縣', '後波美拉尼亞'}\n",
            "{'教室'} set()\n",
            "{'敏迷龍屬', '目_(生物)', '龍', '恐龍', '過去'} {'崇文總目'}\n",
            "{'馬車', '轅門', '地址', '士兵'} {'轅門'}\n",
            "{'潮州_(大字)', '臺灣', '李安', '潮州鎮', '李·安克里奇', '設計師', '屏東縣', '服裝設計'} set()\n",
            "{'聖週五', '基督徒', '日子', '耶穌受難', '教會', '禮拜'} {'星期五'}\n",
            "{'集', '荷馬', '史詩'} {'荷馬史詩'}\n",
            "{'東南亞', '洞裏薩湖', '金邊', '蒙古國', '淡水湖'} {'柬埔寨'}\n",
            "{'俄羅斯', '伊萬·屠格涅夫', '詩人', '作家'} {'屠格涅夫站', '屠格涅夫卡市鎮', '阿霞', '伊萬·屠格涅夫博物館'}\n",
            "{'黑血', '作品', '黑血_(漫畫)', '血液', '人物'} {'黑血'}\n",
            "{'微軟', '丹麥', '安德斯·海爾斯伯格', '編譯器', '安德斯', '作者'} {'安德斯·海爾斯伯格'}\n",
            "{'筆', '鹿鼎記', '金庸'} {'金庸學', '金庸筆下門派列表', '鹿鼎記', '月雲', '越女劍'}\n",
            "{'薇拉·費茲傑羅', '了不起的蓋茨比', '喬治·費茲傑羅', '弗朗西斯·斯科特·菲茨傑拉德'} {'尼克·卡拉威', '弗朗西斯·斯科特·菲茨傑拉德'}\n",
            "{'馬達加斯加', '熱點_(地質學)', '生物', '生物多樣性'} set()\n",
            "{'名稱', '臺灣', '現在', '臺灣海峽', '澎湖羣島', '過去'} {'衛生福利部澎湖醫院', '澎湖縣文化資產', '澎湖廳長', '澎湖縣'}\n",
            "{'瓦西里·康定斯基', '美國', '俄羅斯', '國籍', '法國', '1928年'} {'瓦西里·康定斯基'}\n",
            "{'腳', '概念', '方言', '淮劇', '音系學', '入聲'} {'淮劇'}\n",
            "{'服務', '信使號'} {'Kopete', 'Meebo', 'YM'}\n",
            "{'臺南市', '阿美族'} {'阿美族'}\n",
            "{'娛樂', 'Starship', 'STARSHIP娛樂'} {'STARSHIP娛樂', '金泰永', '安性珉', '鹹元進', '徐宇璸'}\n",
            "{'女性', '中學', '臺中市私立曉明女子高級中學', '臺中市'} {'臺中市立臺中女子高級中等學校', '臺中市私立曉明女子高級中學', '祁志英', '臺中市私立明德高級中學'}\n",
            "{'虛擬化'} {'硬件虛擬化'}\n",
            "{'燕山_(消歧義)', '燕山大學', '河北省'} {'趙丁選', '天津科技大學', '郭競坤', '燕山大學', '燕山大學科技園'}\n",
            "{'馬克思主義', '馬克思·多爾穆瓦站', '格魯喬·馬克思', '卡爾·馬克思', '馬克思主義政治經濟學', '資本論', '政治經濟學', '海因裏希·馬克思'} {'女人資本論', '資本論', '河上肇', '馬克思主義政治經濟學'}\n",
            "{'亞洲', '中東', '西亞'} {'西亞'}\n",
            "{'袖章', '現代史', '喪慟'} {'袖章'}\n",
            "{'事件', '斯卡帕灣', '公海艦隊自沉事件', '公海艦隊'} {'路德維希·馮·羅伊特'}\n",
            "{'基督教', '猶太教與基督教', '猶太教', '新約', '聖經'} {'聖經批評', '猶太教與基督教', '聖經研究', '新約聖經', '聖經'}\n",
            "{'公寓', '高安公寓', '康平路'} {'公寓', '西湖公寓', '高安公寓'}\n",
            "{'藥物', '食物', '人類'} set()\n",
            "{'海衛十', '衛星', '太陽系', '行星'} set()\n",
            "{'觀點_(哲學)', '宗教', '觀點', '時間', '世紀', '新興宗教'} set()\n",
            "{'國家', '自然紀念物', '蟲川大杉車站'} {'臺灣史跡名勝天然紀念物', '蟲川大杉車站'}\n",
            "{'臺灣', '經營者', '李祖德', '臺北醫學大學'} {'李祖德'}\n",
            "{'華盛頓哥倫比亞特區', '共和黨', '公司', '總部', '今天', '共和黨_(美國)', '美國'} {'華盛頓特區電車', '華盛頓哥倫比亞特區同性婚姻', '華盛頓神祕'}\n",
            "{'人類', '數學', '賽普勒斯'} {'賽普勒斯鎊', '賽普勒斯', '賽普勒斯問題', '賽普勒斯教會'}\n",
            "{'北马里亞納羣島', '熱帶海洋性氣候', '面積', '海洋性氣候', '熱帶', '氣候'} {'密克羅尼西亞運動會', '.mp', '塞班國際機場', '熱帶海洋性氣候', '卡皮托爾希爾'}\n",
            "{'德州', '德州儀器', '晶體管', '年代', '世界'} {'德州儀器'}\n",
            "{'北京理工大學'} {'華北理工大學'}\n",
            "{'烴', '物質', '三鍵', '炔烴', '鍵'} {'不飽和烴'}\n",
            "{'加利福尼亞大學', '政府', 'SETI@home', '計算', '加利福尼亞大學柏克萊分校'} {'BOINC', 'Astropulse'}\n",
            "{'教育', '文森特·梵高', '語言'} set()\n",
            "{'質量', '夸克', '粒子衰變', '過程', '下夸克', '上夸克', '衰變'} {'夸克禁閉', '底夸克', '下夸克', '上夸克', '頂夸克'}\n",
            "{'南北朝時代_(日本)', '東晉', '劉宋', '皇帝', '南北朝_(消歧義)', '宋'} {'宋武帝'}\n",
            "{'學校', '英國', '手語'} {'手語翻譯'}\n",
            "{'足球員', '大衛·貝克漢姆', '資產', '價值', '世界'} set()\n",
            "{'發展', '教授', '幾何學', '中世紀', '文化', '世紀', '數學', '大學'} {'幾何學', '幾何學家列表'}\n",
            "{'劍橋大學', '劍橋', '學院'} set()\n",
            "{'蠟筆小新', '情節', '臼井儀人', '作者'} {'蠟筆小新：春日部野生王國', '臼井儀人', '蠟筆小新動畫集數列表', '動感超人', '蠟筆小新角色列表'}\n",
            "{'總統', '美國總統', '美國', '威廉·亨利·哈里森'} {'安娜·哈里遜', '1840年美國總統選舉'}\n",
            "{'麥', '禾本科', '小麥', '植物', '糧食', '世界'} {'玉米', '各國葡萄酒產量列表', '糧食', '小麥'}\n",
            "{'伯蒂·查爾斯·福布斯', '邁爾康·福布斯', '福布斯', '成龍'} set()\n",
            "{'蟲川大杉車站', '上越市', '自然紀念物', '新潟縣'} {'臺灣史跡名勝天然紀念物', '蟲川大杉車站'}\n",
            "{'人類', '學說', '假說', '分支', '人屬', '人科', '猿', '人類演化', '動物', '演化'} {'人類演化歷程', '人類演化', '演化生物學', '宏觀演化'}\n",
            "{'希臘神話', '證明', '希臘', '神話', '藝術品', '考古學'} {'希臘神話', '希臘神話生物列表'}\n",
            "{'政府', '英國政府', '醜聞', '伊拉克', '英國', '戰爭', '伊拉克戰爭'} {'伊拉克空軍', '伊拉克戰爭列表', '伊拉克軍事', '伊拉克戰爭'}\n",
            "{'遠東集團_(臺灣)', '徐有庠', '學校', '組織創始人'} {'徐有庠'}\n",
            "{'香港聖公會', '男性', '聖保羅書院'} {'符潤光', '聖保羅堂', '後舍男生', '史超域'}\n",
            "{'赤足'} {'赤足'}\n",
            "{'安德烈·尤里耶維奇·勃列日涅夫', '列昂尼德·勃列日涅夫', '中央委員會', '政治局', '尤里·勃列日涅夫', '1952年'} {'蘇聯共產黨中央政治局', '安德烈·尤里耶維奇·勃列日涅夫', '列昂尼德·勃列日涅夫所獲獎項列表', '列昂尼德·勃列日涅夫', '朝鮮勞動黨中央委員會政治局'}\n",
            "{'朱立倫', '中國國民黨', '蔡英文'} {'中國國民黨主席', '習朱會', '2019年堺市長選舉', '朱立倫', '朱立倫市府'}\n",
            "{'北宋', '字', '貪污', '包拯'} {'鄭舜臣', '包拯', '包綬', '包玉書', '包恢'}\n",
            "{'漢初三傑', '漢', '劉邦'} {'漢初三傑', '白登山', '蕭何', '劉邦高', '劉肥'}\n",
            "{'草原', '味覺', '蒙古高原草原內蒙古草原東北草原', '蕈類', '香杏麗蘑', '龍', '杏_(演員)', '地方'} {'香杏麗蘑'}\n",
            "{'物理氣相沉積', '濺射', '沉積'} {'物理氣相沉積', '表面改性技術'}\n",
            "{'名稱', '地球村', '雅虎', '地球村_(消歧義)', '相關性', '雅虎地球村'} {'雅虎臺灣', '雅虎視頻', '雅虎空間', '雅虎相冊', '雅虎地球村'}\n",
            "{'阿里山', '嘉義縣', '臺灣', '動物'} {'阿里山', '嘉義縣議員列表', '阿里山號'}\n",
            "{'印度人民黨', '綠色聯盟'} set()\n",
            "{'氧', '有機化合物', '環氧乙烷', '身體', '化合物'} {'環硫乙烷', '苯基環氧乙烷', '環氧乙烷', '過氧化酮', '環氧化合物'}\n",
            "{'家', '赤足', '習慣', '拖鞋'} {'赤足廣場', '赤足根蟎', '兜蘭屬'}\n",
            "{'非洲', '建築學', '賀龍', '賀龍體育文化中心', '文化中心'} {'賀龍體育文化中心', '天心閣', '賀龍事件', '賀捷生'}\n",
            "{'橋', '主人公', '靈魂', '藍橋', '魂斷藍橋'} {'魂斷藍橋', '藍橋'}\n",
            "{'韓式泡菜', '卡路里', '泡菜', '健康', '法', '問題', '世界', '醃'} {'韓式泡菜', '飯饌', '洪魚膾', '蘿蔔泡菜', '高麗胡蘿蔔菜'}\n",
            "{'李賦寧', '祖籍'} {'李賦都', '李賦寧'}\n",
            "{'烴', '乙炔', '溫度', '炔烴', '苯'} {'乙炔銀', '乙炔', '苯乙炔', '乙炔二醇', '炔烴'}\n",
            "{'乾隆', '子', '永琮'} {'永琮'}\n",
            "{'悲劇', '名稱', '天王星', '作品', '皆大歡喜', '天衛十三', '威廉·莎士比亞', '人物'} {'皇家莎士比亞劇院', '天衛十三', '泰特斯·安特洛尼克斯', '第一對開本', '天衛九'}\n",
            "{'格奧爾格·康托爾', '數學家', '德國'} {'格奧爾格·康托爾獎章', '康托爾函數'}\n",
            "{'印度人民黨', 'NDA'} set()\n",
            "{'總統', '美國大學', '教授', '伍德羅·威爾遜', '公務員', '大學', '美國', '新澤西州'} {'伍德羅·威爾遜總統圖書館', '伍德羅·威爾遜國際學者中心', '伊迪斯·威爾遜'}\n",
            "{'麻婆豆腐', '豆腐', '大豆', '豆製品', '麻', '原材料', '豆瓣醬', '菜系'} {'麻婆豆腐'}\n",
            "{'種子', '目標', '子房', '果實'} {'子房街道', '梨果', '草莓屬', '草莓', '蒴果'}\n",
            "{'戊', '戊戌變法', '光緒帝', '光緒', '康有爲', '謠言', '權力', '戊戌'} {'戊戌變法'}\n",
            "{'標本', '蝴蝶', '蝴蝶_(2002年電影)', '國立臺灣大學', '國立臺灣大學昆蟲標本館'} {'植物標本館', '國立臺灣大學植物標本館', '植物標本館列表', '國立臺灣大學昆蟲標本館'}\n",
            "{'管致中', '中央大學', '中央大學·明星大學站', '母校'} {'中央大學'}\n",
            "{'漫威', '藍色', '勇度', '作品', '皮膚', '人物'} {'漫威影業：傳奇角色', '漫威', '異人族', '非虛構作品'}\n",
            "{'劍橋大學', '劍橋', '書院'} set()\n",
            "{'衍射', '晶體', '晶體學'} {'晶體學'}\n",
            "{'SETI@home', '食物', '程序'} {'SETI@home', '搜尋地外文明計劃'}\n",
            "{'藝人', '臺灣', '劉文正', '寶麗金', '杭州駐防城'} {'錦繡年華'}\n",
            "{'喜劇電影', '香港', '金馬獎最佳男主角', '黃秋生', '主人公', '金馬獎', '演員', '最佳男主角'} {'香港電影金像獎最佳男主角'}\n",
            "{'畢業生', '電視劇'} {'畢業生'}\n",
            "{'世界地質公園列表', '概率', '嵩山'} {'嵩山路', '嵩山路街道', '嵩山'}\n",
            "{'梁朝偉', '音樂專輯', '名稱', '一天一點愛戀'} {'梁朝偉', '從前…以後', '一天一點愛戀', '爲情所困'}\n",
            "{'艾伯特縣', '縣城', '基奧瓦_(堪薩斯州)', '科羅拉多州', '東部', '艾伯特_(科羅拉多州)', '縣', '美國'} {'艾伯特縣'}\n",
            "{'張惠妹', '幕'} {'張惠妹音樂作品列表'}\n",
            "{'道格拉斯·麥克阿瑟', '西點軍校', '小亞瑟·麥克阿瑟', '老亞瑟·麥克阿瑟', '杜魯門總統解職道格拉斯·麥克阿瑟', '湯姆·麥克阿瑟', '約翰·海克特·麥克阿瑟', '美國'} {'李武陵', '麥克阿瑟堡', '小亞瑟·麥克阿瑟', '湯姆·麥克阿瑟', '約翰·海克特·麥克阿瑟'}\n",
            "{'植物', '漿果', '果實', '代表'} {'鯔漿果吸蟲', '漿果'}\n",
            "{'民進', '吉祥物', '民主進步黨', '蔡英文'} set()\n",
            "{'態度', '佛教用語列表', '六和敬'} {'佛教用語列表', '六和敬'}\n",
            "{'孟嘗君', '爻', '君_(消歧義)'} set()\n",
            "{'藤子·F·不二雄', '筆名'} {'藤子·F·不二雄', '大雄的平行西遊記', '藤子不二雄', '藤子不二雄Ⓐ', '藤子·F·不二雄創作'}\n",
            "{'哈比人', '段落', '風之旅人', '圖書', '故事', '哈比人歷險記', '片段', '旅途·愉快'} {'哈比人歷險記'}\n",
            "{'馬克思主義', '馬克思·多爾穆瓦站', '格魯喬·馬克思', '卡爾·馬克思', '馬克思主義政治經濟學', '資本論', '政治經濟學', '海因裏希·馬克思'} {'女人資本論', '資本論', '河上肇', '馬克思主義政治經濟學'}\n",
            "{'社會', '人類', '社會規範', '規範'} {'社會建構主義'}\n",
            "{'大韓民國', '路口', '京畿', '京畿道'} {'兩路口街道', '中京畿道', '京畿道知事', '周路口街道'}\n",
            "{'春秋_(書)', '春秋', '穀梁傳'} {'公羊傳', '春秋三傳', '穀梁傳'}\n",
            "{'格奧爾格·康托爾', '食譜', '埃迪·康托爾', '廚師'} set()\n",
            "{'溴', '藥物'} set()\n",
            "{'歌手', '周慧敏·最愛V25', '黃大仙', '歌手·當打之年', '黃大仙區', '周慧敏·新曲+精選', '黃大仙_(香港地方)', '周慧敏'} {'沈雁', '失物招領：周慧敏精選', '黃大仙下邨', '黃大仙上邨', '周慧敏'}\n",
            "{'支流', '全長', '汾河', '山西省', '湖北省_(中華民國)', '黃河'} {'汾河鎮', '汾河街道', '汾河', '汾河片', '汾河公園'}\n",
            "{'釣魚臺', '島嶼', '北海', '西部', '波濤', '土壤', '陸地', '釣魚臺列嶼'} {'釣魚臺列嶼', '釣魚臺細辛'}\n",
            "{'石灰', '氫氧化鈉', '氧化鈣', '氧化鈉', '溶液', '鹼石灰'} {'石灰', '亞當斯脫羧反應', '拜耳法', '氧化鈣', '鹼石灰'}\n",
            "{'境', '自然保護區', '中國'} {'中華人民共和國國家級自然保護區列表', '臥龍國家級自然保護區'}\n",
            "{'澳門', '全國人民代表大會', '葉國華', '全國人民代表大會代表', '人民代表大會', '國', '主席'} {'澳門特別行政區全國人民代表大會代表', '中華人民共和國香港特別行政區第九屆全國人民代表大會代表選舉', '葉國華', '中華人民共和國香港特別行政區第十二屆全國人民代表大會代表選舉', '李成俊'}\n",
            "{'文學', '荷馬', '史詩', '荷馬史詩', '希臘', '古希臘文學', '希臘文學', '古希臘'} {'荷馬史詩'}\n",
            "{'葡萄', '簇', '一起_(政黨聯盟)', '花瓣'} {'葡萄', '山葡萄'}\n",
            "{'御座', '皇帝', '宋仁宗', '中國'} {'宋仁宗'}\n",
            "{'腳趾', '歐洲民族', '歐洲', '民族', '指', '國家'} set()\n",
            "{'金星凌日', '天文學'} {'金星凌日', '2012年金星凌日', '1874年金星凌日'}\n",
            "{'面', '南部', '摩納哥', '地中海', '法國'} {'摩納哥歷史', '摩納哥', '摩納哥城', '摩納哥巖'}\n",
            "{'北马里亞納羣島', '熱帶海洋性氣候', '面積', '海洋性氣候', '熱帶', '氣候'} {'密克羅尼西亞運動會', '.mp', '卡皮托爾希爾'}\n",
            "{'詩人', '唐朝末年', '李商隱', '唐詩', '唐詩三百首'} {'柳枝', '李商隱'}\n",
            "{'德', '國際足協世界盃', '2006年', '國', '德國', '國際足球聯合會'} {'國際足協世界盃', '國際足協U-17世界盃', '國際足協U-17女子世界盃', '國際足協U-20女子世界盃'}\n",
            "{'科系', '土木工程', '管致中', '中央大學_(日本)', '母校', '講師_(消歧義)'} {'國立中央大學工學院', '南京大學工學院'}\n",
            "{'土衛十', '土衛十一', '衛星', '土星的衛星'} {'土衛四十九', '土衛十四', '土衛一', '土衛三', '土衛十一'}\n",
            "{'史', '歷史書', '丞相', '元朝', '宋史', '中國', '二十四史', '宋'} {'宋史'}\n",
            "{'茴芹屬', '花', '茴芹', '植物', '中國', '火山'} {'溫州葡萄', '茴芹屬', '雲南茴芹', '落新婦茴芹', '木裏茴芹'}\n",
            "{'商業', '行爲'} set()\n",
            "{'天體', '共振', '軌道', '太陽系', '軌道共振'} {'軌道共振', '長期共振'}\n",
            "{'杜鵑科', '杜鵑', '科'} {'杜鵑科', '走鵑', '杜鵑屬', '鴉鵑屬'}\n",
            "{'實惠', '名稱', '希臘', '傳說', '木衛三十九', '女神'} set()\n",
            "{'白玉', '飄然臺', '黃初平'} {'飄然臺'}\n",
            "{'阿爾弗雷德·諾貝爾', '化學', '諾貝爾獎', '遺囑', '獎勵', '化學家'} {'拒絕領取諾貝爾獎人物列表'}\n",
            "{'特徵', '三國', '南北朝', '世界歷史', '魏晉南北朝', '中國', '時代', '亂世'} set()\n",
            "{'軍區', '中國人民解放軍', '大軍區', '中國人民解放軍武漢軍區'} {'中國人民解放軍北京軍區', '中國人民解放軍武漢軍區空軍', '中國人民解放軍福州軍區', '中國人民解放軍武漢軍區', '中國人民解放軍昆明軍區'}\n",
            "{'兄弟姊妹', '馬世莉', '心肌梗死'} set()\n",
            "{'伊斯蘭教', '古賽爾_(敘利亞)', '什葉派', '古賽爾戰役', '軍事組織', '軍事', '組織'} {'阿富汗什葉派伊斯蘭教'}\n",
            "{'AD', '希吉拉', 'BH', '代號', 'Bh_(二合字母)', '伊斯蘭曆'} set()\n",
            "{'聖彼得堡', '瓦西里島', '海濱站_(聖彼得堡地鐵)', '聖彼得堡地鐵', '車站', '地鐵', '瓦西里·貝科夫號巡邏艦', '海濱站'} {'涅瓦-瓦西里島線', '瓦西里島站'}\n",
            "{'講談社', '講談社·中國的歷史', '榮譽', '三年坂火之夢', '日本', '推理小說'} {'「這本推理小說了不起！」大獎', '講談社BOX', '三年坂火之夢', '推理小說獎', '江戶川亂步獎'}\n",
            "{'勳章', '穀物', '突破', '袁隆平', '共和國勳章'} {'袁隆平', '小行星8117', '果靖霖'}\n",
            "{'生物', '域', '域_(生物)', '界_(生物)', '法', '界'} set()\n",
            "{'總統', '蓋茲堡演說', '林肯_(消歧義)', '亞伯拉罕·林肯', '美國總統', '美國曆史', '美國'} {'羅伯特·託德·林肯', '亞伯拉罕·林肯', '蓋茲堡演說'}\n",
            "{'爵士樂', '小號', '銅管樂器', '音樂', '古典音樂', '管樂器'} {'小號', '大號'}\n",
            "{'最短路問題', '短路', '路', '數學', '問題', '算法'} {'最短路問題', 'Floyd-Warshall算法', '戴克斯特拉算法'}\n",
            "{'穆罕默德', '穆罕默德·本·沙特', '穆罕默德·本·薩勒曼', '穆罕默德·默罕馬杜拉', '伊斯蘭教', '古蘭經', '穆罕默德·阿里帕夏'} {'多哥伊斯蘭教', '薩哈巴', '蒙古國伊斯蘭教', '古蘭經', '伊斯蘭教的先知'}\n",
            "{'霸權', '官僚', '歐洲', '路易·德·奧爾良_(1703年—1752年)', '路易十四', '絕對君主制', '法國', '法國大革命', '君主制'} {'朕即國家'}\n",
            "{'兒童', '雙胞胎', '導演', '英國', '威廉·莎士比亞'} {'尼可拉斯·莎士比亞'}\n",
            "{'碳', '氧化', '乙炔', '氧化鈣', '鈣', '星期三'} {'乙炔銅', '乙炔銀', '乙炔', '苯乙炔', '乙炔二醇'}\n",
            "{'大韓民國', '京畿道', '京畿', '人口'} {'京畿道知事', '中京畿道', '京畿道'}\n",
            "{'第一次世界大戰', '喬治·卡特萊特·馬歇爾', '世界大戰', '美國陸軍參謀長', '美國陸軍', '參謀長', '陸軍參謀長_(印度)', '美國'} {'喬治·卡特萊特·馬歇爾'}\n",
            "{'獅', '賽普勒斯'} {'賽普勒斯鎊', '賽普勒斯', '賽普勒斯問題', '賽普勒斯教會'}\n",
            "{'林鈺婷', '職業', '領域'} set()\n",
            "{'英國皇家海軍', '巡洋艦', '世紀', '英國', '20世紀', '胡德', '胡德號戰列巡洋艦', '戰列巡洋艦'} {'獅級戰列巡洋艦', '胡德號戰列巡洋艦', '皇家海軍戰列巡洋艦列表', '希佩爾海軍上將級重巡洋艦'}\n",
            "{'名', '瑤池', '洞天', '西王母', '洞_(小說)'} {'瑤池'}\n",
            "{'自然', '天體', '超自然現象', '位置', '占卜', '運動_(物理學)', '占星術', '體育運動'} {'占卜'}\n",
            "{'奇異', '麻薩諸塞州', '企業', '總部', '通用電氣', '美國', '世界', '國家'} set()\n",
            "{'姓', '信史', '昭武九姓', '昭武', '祖先', '小國', '月氏', '歷史'} {'昭武九姓'}\n",
            "{'埃裏希·瑪利亞·雷馬克', '希臘神話', '衛', '木衛六', '希臘', '神話', '木材', '女神', '木星的衛星'} {'木衛六', '希瑪利亞'}\n",
            "{'總統', '刑法', '大韓民國'} {'韓國總統'}\n",
            "{'抄襲', '資源_(計算機科學)'} {'高雄捷運路線圖抄襲事件', '抄襲', '文章相似度檢測', '獨創性', '西南交大副校長黃慶博士論文抄襲事件'}\n",
            "{'軍官', '軍官·情人', '德川家康', '阿美族'} {'少年德川家康'}\n",
            "{'南部', '休斯敦', '城市', '美國南部', '本名', '休斯敦火箭', '美國', '人口'} {'休斯敦縣', '休斯敦火箭', '休士頓火箭歷屆冠軍成員', '休斯敦'}\n",
            "{'外海街道', '海里', '漁船', '海', '文化', '行政院', '蘭嶼', '達悟族'} {'達悟族'}\n",
            "{'體積', '泉州市'} {'泉州市市長列表'}\n",
            "{'保羅_(人名)', '物理學家', '矩陣力學', '保羅·狄拉克', '力學', '量子力學', '理論物理學', '英國', '矩陣'} {'正則量子化', '路徑積分表述', '保羅·狄拉克', '量子力學', '路徑積分'}\n",
            "{'路德', '馬丁·路德·金', '浸禮宗', '蒙哥馬利', '牧師', '馬丁·路德', '公共汽車', '美國'} {'聯合抵制蒙哥馬利公車運動'}\n",
            "{'紅軍', '蘇聯紅軍', '管理學', '列夫·托洛茨基', '蘇聯'} {'列夫·謝多夫旅', '托洛茨基主義'}\n",
            "{'非營利組織', '組織', '利潤'} {'非營利組織'}\n",
            "{'臺北', '臺北101', '90年'} {'90年代', '前90年代'}\n",
            "{'質數'} {'0的奇偶性', '2'}\n",
            "{'坡度', '指標', '汽車理論', '汽車'} {'汽車動力性', '汽車理論'}\n",
            "{'藝人', '配偶', '何基佑', '兩人_(aiko單曲)', '日本', '模特兒', '鍾凱瑩'} {'鍾凱瑩'}\n",
            "{'牙醫學系', '臺北', '經營者', '李祖德', '臺北醫學大學'} {'李祖德'}\n",
            "{'煎餅_(日本)', '小喫', '煎餅餜子'} {'煎餅餜子'}\n",
            "{'毅進文憑', '香港都會大學李嘉誠專業進修學院', '香港神託會培敦中學'} {'社區學院', '香港都會大學李嘉誠專業進修學院'}\n",
            "{'九龍', '周星馳', '喜劇演員'} {'周星馳', '金峻鉉', '長江7號', '賭聖', '無敵幸運星'}\n",
            "{'核心', '單位', '社會', '家庭', '核心家庭', '家'} {'家庭', '核心家庭', '美國家庭結構', '大家庭'}\n",
            "{'現實', '婚姻', '現實生活', '董至成', '角色', '婚姻生活'} {'董至成'}\n",
            "{'大衆部', '佛教歷史', '根本分裂', '印度佛教', '上座部', '佛教', '分裂', '印度'} {'大衆部', '根本分裂', '上座部', '部派佛教', '教派分裂'}\n",
            "{'錳酸鉀', '高錳酸鉀', '化學式', '星期三'} {'高錳酸銀', '高錳酸鉀'}\n",
            "{'形狀', '疾病'} set()\n",
            "{'春秋_(書)', '春秋', '穀梁傳'} {'公羊傳', '春秋三傳', '穀梁傳'}\n",
            "{'九龍', '演員', '周星馳', '喜劇'} {'新喜劇之王', '周星馳', '星輝海外有限公司', '星女郎'}\n",
            "{'日本人', '實藤惠秀', '中國'} set()\n",
            "{'北歐', '奧斯陸', '國家'} {'奧斯陸加勒穆恩機場', '奧斯陸地鐵', '舊奧斯陸', '奧斯陸主教座堂', '奧斯陸市政廳'}\n",
            "{'喬治三世', '喬治·哈里森', '喬治·桑', '卟啉', '疾病'} set()\n",
            "{'隕石', '量_(物理)', '直徑', '面_(幾何)', '天衛三', '天衛四', '撞擊坑'} {'天衛二', '奮鬥撞擊坑'}\n",
            "{'光澤_(礦物)', '硬幣', '金', '金屬', '銀'} {'銀'}\n",
            "{'面積', '省部共建', '燕山_(消歧義)', '中國', '大學', '三省六部', '燕山大學'} {'燕山大學', '燕山大學科技園', '趙丁選', '連家創'}\n",
            "{'英國長老會差會', '雅各_(西庇太的兒子)', '白話', '臺南市', '英國', '白話字', '馬雅各'} {'海南話白話字', '馬雅各'}\n",
            "{'訊息', '幻燈片'} set()\n",
            "{'個人', '園林設計', '園林'} set()\n",
            "{'三國', '東漢', '東漢末年', '戰爭'} set()\n",
            "{'歷史書', '天武天皇', '神話', '日本神話', '天皇', '態度', '民俗', '日本'} {'日本神話'}\n",
            "{'功夫', '許世友'} {'許家窪'}\n",
            "{'最短路問題', '短路', '路', '問題', '算法'} {'最短路問題', 'Floyd-Warshall算法', '戴克斯特拉算法'}\n",
            "{'金牌', '普利策獎', '消防員', '獎勵', '約瑟夫·普立茲', '報紙'} {'普立茲公共服務獎'}\n",
            "{'象徵', '人類', '印度憲法', '文化', '1949年', '家牛', '地區', '牛族'} {'家牛'}\n",
            "{'氣象衛星', '衛星'} {'向日葵系列衛星', '小型衛星', '風雲系列衛星', '氣象衛星', '地球觀測衛星'}\n",
            "{'歐洲', '中東', '國際組織', '名詞', '西亞', '世界', '感覺'} set()\n",
            "{'瓦西里·康定斯基', '俄羅斯', '國籍', '德國', '法國'} {'瓦西里·康定斯基'}\n",
            "{'雨果_(電影)', '文學', '作家', '浪漫主義文學', '文學史', '維克多·雨果', '法國', '浪漫主義'} {'維克多·雨果博物館', '維克多·雨果故居', '現代主義文學', '維克多·雨果', '維克多·雨果站'}\n",
            "{'汽車旅館', '馬丁·路德·金', '馬丁·路德'} {'馬丁·路德·金恩遇刺案'}\n",
            "{'獨立', '人類', '紀元', '賽普勒斯', '古', '1959年', '英國'} {'賽普勒斯鎊', '賽普勒斯', '賽普勒斯問題', '賽普勒斯教會'}\n",
            "{'維吾爾族', '姓', '昭武九姓', '回族', '西北', '昭武', '中國', '少數民族'} set()\n",
            "{'派', '古典芭蕾', '吉賽爾', '芭蕾舞', '法國', '古典', '浪漫主義', '小提琴'} {'俄派芭蕾', '吉賽爾', '古典芭蕾'}\n",
            "{'園林設計', '園林'} {'園林設計'}\n",
            "{'科系', '管致中', '中央大學_(日本)', '母校', '講師_(消歧義)', '電機', '電機工程學'} {'管致中', '國立中央大學工學院', '南京大學工學院'}\n",
            "{'計算機科學', '概念', '研究', '理論'} {'計算機科學', '南京大學計算機科學與技術系', '理論計算機科學'}\n",
            "{'馬克思主義', '馬克思·多爾穆瓦站', '格魯喬·馬克思', '卡爾·馬克思', '馬克思主義政治經濟學', '資本論', '政治經濟學', '海因裏希·馬克思'} {'女人資本論', '資本論', '河上肇', '馬克思主義政治經濟學'}\n",
            "{'奴隸制度', '制度', '世僕', '日本', '奴婢', '身分標識方式', '歷史'} {'美國的逃亡奴隸', '世僕'}\n",
            "{'祖父母', '大司馬', '曹鼎'} {'曹鼎'}\n",
            "{'母親', '河', '太原市', '水源', '上游', '汾河', '山西省'} {'汾河鎮', '汾河水庫', '汾河街道', '汾河', '汾河公園'}\n",
            "{'元素週期表', '位置'} {'F區元素', 'D區元素', '第1週期元素', '第8週期元素', '主族元素'}\n",
            "{'古羅馬', '平民', '羅馬元老院', '羅馬', '騎士', '法律'} {'羅馬騎士階級', '古羅馬'}\n",
            "{'災害', '五常', '經濟學家', '張五常', '大災難', '中國', '洲', '中國大陸'} {'張五常'}\n",
            "{'證券市場', '內線交易', '犯罪', '寧波人', '公安_(消歧義)', '公安機關', '徐翔_(投資家)', '徐翔'} {'道瓊斯內幕交易案', '徐翔'}\n",
            "{'質數', '問題'} {'2'}\n",
            "{'亞洲', '湖區_(乍得)', '歐洲', '白鵜鶘', '鵜鶘'} {'澳洲鵜鶘', '美洲鵜鶘', '白鵜鶘', '鵜鶘', '卷羽鵜鶘'}\n",
            "{'鐒', '元素週期表', '位置', '電子排布', '電子', '語態', '物'} {'鐒', 'D區元素'}\n",
            "{'神話', '埃及神話', '冥王', '埃及'} {'冥神', '冥王'}\n",
            "{'忽必烈', '應國', '武宗', '元武宗', '曲樞', '國公', '元朝', '部長'} {'曲樞'}\n",
            "{'中華民國國民', '中華民國', '國民黨_(南非)', '詞', '忠烈祠_(臺灣)', '忠烈祠', '國民', '國民政府'} {'國民政府軍事委員會', '中華民國國家元首列表'}\n",
            "{'藤島康介', '藝術家', '歐洲', '職業', '卡通'} {'藤島康介'}\n",
            "{'內畫壺', '歐洲', '工藝美術'} {'武昌府', '竹織工藝品'}\n",
            "{'重量', 'IPod'} {'IPod'}\n",
            "{'女性', '人類'} {'女性'}\n",
            "{'新臺幣', '方法'} {'新臺幣'}\n",
            "{'孟德斯鳩', '讓雅克·盧梭', '伏爾泰', '德尼·狄德羅', '啓蒙時代', '安託萬·德斯蒂·德·特拉西', '尼古拉·德·孔多塞', '法國'} {'德尼·狄德羅', '百科全書，或科學、藝術和工藝詳解詞典', '百科全書派', '讓-弗朗索瓦·馬蒙泰爾', '網絡百科全書'}\n",
            "{'京九鐵路'} {'京九鐵路吉安贛江特大橋', '京港高速鐵路', '京九鐵路'}\n",
            "{'證據', '希臘神話', '希臘', '神話', '美學', '考古學'} {'希臘神話生物列表', '希臘神話'}\n",
            "{'西安市', '楊虎', '楊虎城', '西安事變', '人物'} {'兵諫亭', '西安事變', '楊虎城'}\n",
            "{'蠶', '昆蟲', '科學', '花蜜', '絲綢', '利益', '蜜蜂屬'} {'東方蜜蜂', '蜜蜂屬'}\n",
            "{'光澤_(礦物)', '硬幣', '金屬', '投資型硬幣', '銀'} {'諾亞方舟銀幣', '投資型硬幣'}\n",
            "{'張學友', '笑', '音樂劇', '金馬獎', '江湖'} {'張學友', '張學友87演唱會', '張學友每天愛你多一些全國巡迴演唱會91'}\n",
            "{'歐幾里得', '積'} {'希爾伯特空間', '歐幾里得空間', '歐幾里得距離', '正交', '點積'}\n",
            "{'愛爾蘭', '面積'} {'愛爾蘭總統'}\n",
            "{'黑帝', '臺灣明鄭時期', '北極殿', '明朝', '臺南北極殿', '明鄭'} {'臺南北極殿'}\n",
            "{'希臘神話', '希臘', '神話', '意大利', '神', '安尼巴萊·德·加斯帕里斯', '天文學家', '木衛三'} {'木衛三'}\n",
            "{'豫劇'} set()\n",
            "{'罷課', '軍政_(政體)', '組織', '軍政府', '路易斯·伊納西奧·盧拉·達席爾瓦'} {'2019年香港學界大罷課', '2019年9月2日香港學界大罷課', '2020年白俄羅斯大罷課'}\n",
            "{'鑽石', '物質', '今天'} {'鑽石'}\n",
            "{'鐒', '歐內斯特·勞倫斯'} {'長野健', '歐內斯特·勞倫斯'}\n",
            "{'後代', '均勻碼理事會', '目標'} {'均勻碼理事會', '通用產品代碼'}\n",
            "{'雕塑家', '詹姆斯·克拉克·麥克斯韋', '馬克士威_(單位)', '方程組', '方程', '形式', '英國', '馬克士威方程組'} {'馬克士威方程組的歷史', '電磁場的動力學理論', '馬克士威方程組'}\n",
            "{'新西蘭', '島嶼', '北島', '城市', '都市圈', '奧克蘭市', '奧克蘭', '人口'} {'華裔新西蘭人', '紐西蘭人口'}\n",
            "{'原材料', '醋', '釀造醋'} {'釀造醋'}\n",
            "{'姓', '隋書', '昭武九姓', '昭武', '祖先', '國', '小國', '月氏'} {'昭武九姓'}\n",
            "{'市鎮', '雍正', '基隆市'} {'雞籠生', '臺灣基隆地方法院', '基隆山'}\n",
            "{'品質', '創新', '信念', '全球', '麗臺科技'} set()\n",
            "{'明憲宗', '帝'} set()\n",
            "{'考試', '明朝', '謝磷'} set()\n",
            "{'馬克思主義', '馬克思·多爾穆瓦站', '格魯喬·馬克思', '卡爾·馬克思', '馬克思主義政治經濟學', '資本論', '政治經濟學', '海因裏希·馬克思'} {'馬克思主義政治經濟學', '資本論', '河上肇', '女人資本論'}\n",
            "{'香港', '科技大學', '清水灣', '西貢區', '香港科技大學', '清水灣半島', '新界', '大學'} {'清水灣', '香港科技大學商學院', '香港科技大學', '清水灣半島', '清水灣第一灣'}\n",
            "{'四方', '馬援', '雞蛋', '漢光武帝', '骨骼', '書信'} {'漢光武帝'}\n",
            "{'系統', 'C++', 'GCC', 'C_(音名)'} {'GCC'}\n",
            "{'臺中市', '中學', '臺中市私立曉明女子高級中學', '女性'} {'臺中市私立明德高級中學', '臺中市立臺中女子高級中等學校', '臺中市私立曉明女子高級中學', '祁志英'}\n",
            "{'亂', '東漢', '黃巾之亂', '毛巾', '宦官', '東漢末年', '戰爭', '外戚'} {'夏惲', '何進', '慄嵩'}\n",
            "{'蛋白質組', '時間', '聚合', '蛋白質', '聚合酶鏈式反應', '即時聚合酶鏈式反應', '基因', '酶'} {'GeneCards', '人類蛋白質組組織', '蛋白質組', '蛋白質組學', '人類蛋白質組計劃'}\n",
            "{'東海', '釣魚臺', '島嶼', '南部', '波濤', '土壤', '陸地', '釣魚臺列嶼'} {'釣魚臺列嶼', '釣魚臺細辛'}\n",
            "{'北马里亞納羣島', '屬地', '邦', '太平洋', '美國'} {'美國非合併屬地'}\n",
            "{'董至成', '妻子', '龍虎綜藝王', '角色'} {'董至成', '龍虎綜藝王'}\n",
            "{'文學', '荷馬', '史詩', '荷馬史詩', '希臘', '古希臘文學', '希臘文學', '古希臘'} {'荷馬史詩'}\n",
            "{'桂皮', '慢性病'} set()\n",
            "{'東京', '經濟學人信息社', '世界最佳宜居城市', '報告', '智庫', '世界'} {'經濟學人信息社', '全球最昂貴城市'}\n",
            "{'琅琊', '東晉', '朝代', '南京市', '北', '六朝', '琅邪王', '戰爭', '晉元帝'} {'六朝', '東晉'}\n",
            "{'Gmail'} {'Gmail', 'GmailFS'}\n",
            "{'梁_(南朝)', '梁武帝', '南北朝'} {'在位時間最長的君主列表', '在位時間最短的君主列表'}\n",
            "{'科隆', '摩爾門教', '摩爾門'} set()\n",
            "{'星座', '希臘字母', '希臘', '拜耳命名法', '格', '約翰·拜耳', '拉丁語', '字母'} {'拜耳命名法'}\n",
            "{'陶瓷', '電', '電子陶瓷', '材料', '電荷'} {'陶瓷基複合材料', '陶瓷', '電子陶瓷', '介電陶瓷'}\n",
            "{'父系制度', '燧人氏', '河套', '蒸汽機車', '氏族', '氏_(消歧義)'} {'燧人氏'}\n",
            "{'死者能舞', '音樂專輯', '年代'} set()\n",
            "{'鍀', '海', '壽命', '巨星', '最長壽命', '98', '紅巨星', '同位素'} {'鍀'}\n",
            "{'J·R·R·托爾金', '民族', '哈比人', '小說', '哈比人歷險記', '哈比', '魔戒', '前傳'} {'比爾博·巴金斯', '哈比人列表', '袋底洞', '哈比人', '羅索·塞克維爾-巴金斯'}\n",
            "{'湯姆·漢克斯', '住宅', '湯姆·班克斯', '收入', '湯姆·克魯斯'} {'劉房子街道', '平房子鎮'}\n",
            "{'酒神', '古希臘悲劇', '悲劇', '希臘', '合唱', '祭祀', '古希臘', '酒'} {'古希臘悲劇', '赫耳墨斯和嬰兒酒神', '古希臘喜劇', '戲劇', '邁那得斯'}\n",
            "{'臺灣織布', '日本人', '臺灣', '日治時期'} {'日治時期'}\n",
            "{'軟件測試', '版本控制', '軟件開發', '系統工程', '活動'} {'軟件工程', '軟件項目管理', '軟件開發', '軟件開發工具', '版本控制軟件比較'}\n",
            "{'古羅馬', '羅馬神話', '神話', '宇宙', '朱庇特', '羅馬', '天神'} {'天神町', '朱庇特'}\n",
            "{'1995', '少女小漁_(電影)', '亞太影展', '劉若英', '我的美麗與哀愁', '1995年'} {'劉若英', '少女小漁劉若英的美麗與哀愁'}\n",
            "{'政府', '中央政府', '護照', '旅行證件', '駕駛執照'} {'護照', '旅行證件'}\n",
            "{'大衆汽車', '品牌', '阿勒爾河', '處_(佛教)', '總部', '大衆集團', '世界'} {'現代汽車集團'}\n",
            "{'素描'} {'素描'}\n",
            "{'維納斯', '紀念日', '四月', '羅馬'} {'維納斯', '四月十九'}\n",
            "{'馬克思主義', '馬克思·多爾穆瓦站', '格魯喬·馬克思', '卡爾·馬克思', '馬克思主義政治經濟學', '資本論', '政治經濟學', '海因裏希·馬克思'} {'河上肇', '馬克思主義政治經濟學', '資本論', '政治經濟學批判大綱', '伊拉里昂·伊格納切維奇·考夫曼'}\n",
            "{'印度洋'} {'印度洋鮃', '埃氏鱗魨', '斯氏可哥鮋', '大鱗寬箬鰨', '帕氏窄額魨'}\n",
            "{'災害', '五常', '經濟學家', '張五常', '大災難', '批評', '中國'} {'張五常'}\n",
            "{'動漫', '臺灣大學卡通漫畫研究社', '臺灣', '國立臺灣大學', '大學', '卡通', '日本'} {'臺灣大學卡通漫畫研究社'}\n",
            "{'全球城市', '阿姆斯特丹證券交易所', '城市', '總部', '阿姆斯特丹', '證券交易所'} {'阿姆斯特丹證券交易所', '世界證券交易所列表', '阿姆斯特丹', '阿姆斯特丹舊證券交易所', '證券交易所'}\n",
            "{'經營者', '李祖德', '臺北醫學大學', '北漂'} {'李祖德'}\n",
            "{'鳥', '鳳凰', '王', '中國'} set()\n",
            "{'石灰', '氫氧化鈣', '酸', '溶液', '鹼', '鹼石灰'} {'石灰', '氫氧化鈣', '鹼石灰', '扁葉石灰蘚', '二氧化鍀'}\n",
            "{'天津條約', '第二次鴉片戰爭', '鴉片', '第一次鴉片戰爭'} {'天津條約', '第二次鴉片戰爭', '第二次大沽口之戰'}\n",
            "{'魚', '綱', '輻鰭魚綱', '輻鰭魚', '脊索動物', '目', '鯡形目', '學名'} {'鮭鱸目', '狗魚目', '蟾魚科', '鯡形目', '鯡亞目'}\n",
            "{'殖民地'} set()\n",
            "{'硼'} set()\n",
            "{'伊藤洋華堂', '日本百貨公司', '子公司', '日本', '2005年', '百貨公司'} {'伊藤洋華堂', '鈴木敏文'}\n",
            "{'導演', '世紀', '20世紀', '巴勃羅·畢卡索', '電影'} {'博比尼-巴勃羅·畢卡索站', '弗洛裏安·畢卡索'}\n",
            "{'歌手', '竹內瑪莉亞', '山下達郎', '歌手·當打之年', '創作歌手', '女性', '日本'} {'鈕大可', '一直在一起吧', '竹內瑪莉亞', '我們的夏日夢', '山下達郎'}\n",
            "{'腳趾', '歐洲民族', '歐洲', '民族', '指', '國家'} set()\n",
            "{'帝國', '宗主權', '日韓合併', '清朝', '日韓合併條約', '朝鮮', '日本', '馬關條約'} {'馬關條約', '江華條約', '中日修好條規'}\n",
            "{'腳趾', '歐洲民族', '歐洲', '民族', '指', '國家'} set()\n",
            "{'烏克蘭'} set()\n",
            "{'船', '遠洋定期船', '遊輪', '客輪'} {'遠洋定期船', '客輪'}\n",
            "{'柏林國際電影節', '馬純岱'} {'馬純岱'}\n",
            "{'敏迷龍屬', '恐龍', '屬', '龍'} set()\n",
            "{'演員', '謝芳', '中國'} {'謝芳'}\n",
            "{'偶像', '竹內瑪莉亞', '1982年', '山下達郎', '日本', '身分標識方式'} {'山下達郎', '我們的夏日夢', '一直在一起吧'}\n",
            "{'童年', '查理·卓別林', '小說', '筆', '倫敦'} {'小查理·卓別林', '悉尼·厄爾·卓別林', '摩登時代', '漢娜·卓別林', '悉尼·約翰·卓別林'}\n",
            "{'名', '方中信', '夏文汐', '亦舒', '電影', '朝花夕拾'} {'朝花夕拾'}\n",
            "{'千與千尋'} set()\n",
            "{'愛丁堡', '愛丁堡大學', '大學排名', 'QS', 'QS世界大學排名'} {'泰晤士高等教育-QS世界大學排名', 'QS', '泰晤士高等教育世界大學排名', '愛丁堡大學圖書館', 'QS世界大學排名'}\n",
            "{'北马里亞納羣島', '屬地', '邦', '太平洋', '美國', '塞班島'} {'塞班島'}\n",
            "{'單片機', '微處理器', '集成電路'} {'SuperH', '單片機', '嶋正利', 'Rock微處理器', '4位元'}\n",
            "{'裸子植物', '銀杏'} {'裸子植物'}\n",
            "{'南美洲', '北美洲', '歐陸舞曲', '舞曲', '洲'} {'歐陸舞曲', '亞歷山大·瓦爾澤'}\n",
            "{'臺灣', '劉一德', '臺灣團結聯盟', '政黨領袖'} {'劉一德', '賴振昌'}\n",
            "{'本名', '剛果民主共和國', '首都'} {'剛果民主共和國', '剛果民主共和國行政區劃', '天主教金沙薩總教區', '金夏沙', '剛果奧林匹克委員會'}\n",
            "{'政府', '機構', '香港', '香港醫院列表', '醫療', '串列_(抽象資料型別)', '醫院'} {'公立', '醫療機構', '香港醫院列表', '舊域多利醫院', '葛量洪醫院'}\n",
            "{'動物分類表', '扁盤動物門', '動物', '門'} {'扁盤動物門', '副同源異形基因動物', '浮浪幼蟲樣動物'}\n",
            "{'赤足', '人行道'} set()\n",
            "{'鮮奶油', '奶油', '甜品', '冰淇淋', '原材料'} {'摜奶油', '鮮奶油', '奶油', '冰淇淋', '奶油蛋糕'}\n",
            "{'歐洲民族', '語言', '歐洲', '民族', '印歐語系', '羅曼語族', '卡拉伊姆人', '突厥語族', '語言系屬分類'} {'意大利語族', '歐洲民族', '安那託利亞語族', '歐洲語言', '波羅的語族'}\n",
            "{'金牌', '普利策獎', '獎勵', '約瑟夫·普立茲', '服務', '公共服務'} {'普立茲公共服務獎'}\n",
            "{'颱風', '氣候'} set()\n",
            "{'獎盃', '杯子', '糧食', '領域', '人物'} set()\n",
            "{'趙丹', '妻子', '趙青'} set()\n",
            "{'華北平原', '平原', '山東丘陵', '丘陵', '山東省', '淄博市', '山東_(古代)'} {'棗莊市', '淄博市'}\n",
            "{'制約', '伊萬·巴甫洛夫', '古典制約', '犬'} {'制約', '古典制約'}\n",
            "{'染色體', '性狀'} {'相對性狀', '性狀'}\n",
            "{'衛星', '鍀', '壽命', '巨星', '最長壽命', '98', '紅巨星', '同位素'} {'鍀', '氙的同位素'}\n",
            "{'狸', '貓', '馬島長尾狸貓'} {'生殖醫學'}\n",
            "{'銀川市', '中部', '南亞'} {'南亞運動會'}\n",
            "{'球', '羅盤方位'} set()\n",
            "{'獨裁', '西班牙內戰', '內戰', '弗朗西斯科·佛朗哥', '大元帥', '西班牙', '國民軍_(西班牙)', '弗朗西斯科'} {'西班牙內戰', '弗朗西斯科·佛朗哥', '弗朗西斯科·佛朗哥獨裁', '西班牙共和國流亡政府', '卡門·波羅'}\n",
            "{'泰坦尼克號', '美國', '首飛'} {'南非航空航點', '鐵達尼號主樓梯', '不列特航空航點', '突尼斯航空航點', '鐵達尼號船員列表'}\n",
            "{'計算機', '計算機協會', '電子計算機', '科學', '全球', '學會', '今天', '世界'} {'計算機協會'}\n",
            "{'國定古蹟', '臺北賓館'} set()\n",
            "{'汞', '紫外線', '熒光', '可見光', '牙齒', '銀'} set()\n",
            "{'義務', '國際LGBTI聯合會', '行爲', '身體', '性別特徵'} set()\n",
            "{'石器時代', '年', '人類', '新石器時代', '賽普勒斯', '迪亞布羅·科蒂', '喬伊魯科蒂亞', '石器'} {'喬伊魯科蒂亞', '賽普勒斯問題', '賽普勒斯'}\n",
            "{'戊戌變法', '光緒帝', '因果關係', '光緒', '慈禧太后', '戊', '權力', '戊戌', '帝'} {'戊戌變法'}\n",
            "{'肌醇', '動物', '大豆', '磷酸'} {'植酸', '肌醇三磷酸', '擬大豆', '肌醇單磷酸酶', '大豆苷'}\n",
            "{'吳天威'} {'吳天威'}\n",
            "{'披頭四樂隊', '頭', '搖滾', '曲', '化學元素', '謠曲'} set()\n",
            "{'數據', '操作系統', 'MacOS'} {'MacOS版本歷史', 'MacOS'}\n",
            "{'單片機', '微處理器', '集成電路'} {'SuperH', '單片機', '嶋正利', 'Rock微處理器', '4位元'}\n",
            "{'教研室'} {'教研室'}\n",
            "{'90年', '長頸鹿'} {'90年代', '前90年代'}\n",
            "{'紅軍', '許世友'} {'許家窪'}\n",
            "{'輕機槍', '士兵', '通用機槍', '機槍', '自動步槍', '班_(軍事)', '步槍'} {'80式通用機槍', '輕機槍', '通用機槍', '67式通用機槍', '88式通用機槍'}\n",
            "{'弗朗西斯·科波拉', '美國風情畫', '劇本'} {'美國風情畫', '李察·德雷福斯'}\n",
            "{'馬克思主義', '馬克思·多爾穆瓦站', '格魯喬·馬克思', '卡爾·馬克思', '馬克思主義政治經濟學', '資本論', '政治經濟學', '海因裏希·馬克思'} {'馬克思主義政治經濟學', '資本論', '河上肇', '女人資本論'}\n",
            "{'兒童', '貝塔·雷·比爾', '愛', '貝雷特'} set()\n",
            "{'錳酸鉀', '真核生物', '生物', '高錳酸鉀', '核'} {'已測序真核生物基因組列表', '真核翻譯', '準核生物', '真核轉錄', '雙鞭毛生物'}\n",
            "{'李賦寧', '中國'} {'李賦都'}\n",
            "{'馬克思主義', '馬克思·多爾穆瓦站', '格魯喬·馬克思', '卡爾·馬克思', '馬克思主義政治經濟學', '資本論', '政治經濟學', '海因裏希·馬克思'} {'馬克思主義政治經濟學', '資本論', '河上肇', '女人資本論'}\n",
            "{'臺東', '臺東飛行場'} {'臺東飛行場'}\n",
            "{'吳天威'} {'吳天威'}\n",
            "{'臺北', '名', '臺北市立建國高級中學', '日治時期'} {'臺北州立臺北第一中學校'}\n",
            "{'視星等', 'Z', '室女座', '恆星', '星等'} set()\n",
            "{'巴哈歐拉', '以色列'} {'巴哈歐拉陵寢', '巴哈歐拉', '巴哈歐拉的使徒'}\n",
            "{'第二次世界大戰', '世界大戰', '科學', '應用科學', '麻省理工學院', '冷戰', '技能', '工程學'} {'哈佛-麻省理工醫療科技學院', '麻省理工學院理學院', '麻省理工學院工學院'}\n",
            "{'伍迪·艾倫', '艾倫'} {'魔力月光', '六場危事'}\n",
            "{'歐洲', '丁丁歷險記', '如今', '丁丁_(丁丁歷險記)'} {'丁丁在西藏', '丁丁與字母藝術', '丁丁歷險記', '丁丁與流浪漢'}\n",
            "{'運河', '大運河', '世界遺產', '京杭大運河'} {'浙東運河', '京杭大運河', '大運河', '大運河站', '京杭運河大橋'}\n",
            "{'加拉哈德', '紅葡萄酒', '耶穌', '傳說', '亞瑟王傳說', '亞瑟王'} set()\n",
            "{'奧利華·史東', '午夜快車', '美國', '世紀', '史東', '20世紀', '電影', '肯尼迪'} {'奧利華·史東'}\n",
            "{'艾伯特·金_(籃球運動員)', '勃蘭登堡_(1945年—1952年)', '萊比錫', '弗里德里希·艾伯特', '青少年', '學習', '市鎮', '弗里德里希·阿道夫·艾伯特', '圖書館'} {'弗里德里希·阿道夫·艾伯特'}\n",
            "{'熱量', '溫', '冷血動物_(歌曲)', '動物', '爬行動物', '變溫動物', '冷血'} {'爬行動物', '恆溫動物', '日本爬行動物列表', '冷血'}\n",
            "{'國際組織', '電子科技大學'} {'國際組織'}\n",
            "{'哥本哈根', '泰坦尼克號', '首飛'} {'南非航空航點', '鐵達尼號船員列表', '突尼斯航空航點'}\n",
            "{'進士', '中國人', '嘉興市', '沈鈞儒', '祖籍'} {'沈鈞儒', '鄭敦謹', '莊心庠'}\n",
            "{'愛丁堡', '世界', '愛丁堡大學', '大學排名', 'QS世界大學排名', 'QS'} {'泰晤士高等教育-QS世界大學排名', 'QS', '愛丁堡大學圖書館', '卡迪夫大學', 'QS世界大學排名'}\n",
            "{'政治家', '兒子', '阿卜杜勒侯賽因·米爾扎·法爾曼法爾馬'} {'阿卜杜勒-侯賽因·米爾扎·法爾曼法爾馬'}\n",
            "{'J·D·德魯', '德魯大學'} set()\n",
            "{'氰化氫', '水溶液', '頻率', '溶液', '氰化鋰', '毒性', '氰化鈉'} {'氰化鋁', '氰化氫', '氰化銀', '氰化鋰', '氰化鈉'}\n",
            "{'愛丁堡', '愛丁堡大學', '英語', '蘇格蘭', '大學', '公立大學', '首府', '英語世界'} {'愛丁堡皇家天文臺', '愛丁堡市政廳', '愛丁堡城堡', '愛丁堡舊城', '愛丁堡大學圖書館'}\n",
            "{'公案小說', '唐朝', '宰相', '武周', '狄仁傑', '公案_(消歧義)', '大理寺', '中國'} {'神探狄仁傑第二部', '狄仁傑'}\n",
            "{'國民議會', '立法院', '中華民國', '臺灣', '罷免', '改革', '中華民國國會在臺灣之全面選舉與罷免', '年代'} {'寧靜革命', '中華民國國會在臺灣之全面選舉與罷免'}\n",
            "{'文明', '希臘神話', '希臘', '神話', '歐洲', '古希臘'} {'希臘神話'}\n",
            "{'獨立', '納米比亞', '舉事', '政治家', '本土'} {'納米比亞', '納米比亞，勇氣之地', '納米比亞科技大學', '納米比亞總統'}\n",
            "{'軟件開發', '語言', '程式', '警察局'} set()\n",
            "{'$', '新臺幣', '規約符號', '方法'} set()\n",
            "{'春秋_(書)', '春秋', '穀梁傳'} {'公羊傳', '春秋三傳', '穀梁傳'}\n",
            "{'桃園市', '名稱', '元智大學', '綽號', '大學', '1997年'} set()\n",
            "{'敏迷龍屬', '甲龍科', '龍', '屬'} {'甲龍科', '多刺甲龍科'}\n",
            "{'奧黛麗_(搞笑組合)', '兒童', '奧黛麗·赫本', '奧黛麗·赫本演藝作品列表', '國家'} {'奧黛麗·赫本'}\n",
            "{'路德', '演講', '馬丁·路德·金', '馬丁·路德', '亞伯拉罕·林肯', '林肯紀念堂', '紐約'} {'我有一個夢想'}\n",
            "{'東西_(作家)', '史詩', '荷馬史詩', '研究', '西班牙', '荷馬'} set()\n",
            "{'機構', '中華人民共和國勞動人事部', '中華人民共和國'} {'中華人民共和國勞動和社會保障部', '中華人民共和國勞動人事部', '中華人民共和國人事部', '何光'}\n",
            "{'微軟', '安德斯', '安德斯·海爾斯伯格', '發展研究', '編譯器', 'TypeScript', '作者'} {'TypeScript', '安德斯·海爾斯伯格'}\n",
            "{'國務院', '新華網', '英國', '新華社', '事業單位', '網站'} {'新華社倫敦分社', '新華社莫斯科分社', '新華網', '新華社布拉格分社', '新華社平壤分社'}\n",
            "{'聯合國人權獎', '經濟學', '福利經濟學', '阿馬蒂亞·庫馬爾·森', '聯合國', '印度'} {'阿馬蒂亞·庫馬爾·森'}\n",
            "{'大韓民國', '地面車站', '煉武臺站'} {'梧濱站', '我新站', '地面車站', '江景線', '煉武臺站'}\n",
            "{'信息', '蛋白質組', '聚合', '蛋白質', '聚合酶鏈式反應', '即時聚合酶鏈式反應', '反應', '酶'} {'蛋白質組學', '基因', '人類蛋白質組組織', '蛋白質組'}\n",
            "{'歐洲民族', '語言', '歐洲', '民族', '民族國家', '國家'} {'歐洲民族'}\n",
            "{'差異_(哲學)', '雉雞', '羽毛'} {'雉雞'}\n",
            "{'票', '國際足協世界盃', '城市', '德國', '國際足球聯合會'} {'國際足協U-17世界盃', '國際足協U-17女子世界盃', '國際足協U-20女子世界盃'}\n",
            "{'吟遊詩人', '加拉哈德', '紅葡萄酒', '耶穌', '傳說', '亞瑟王傳說', '亞瑟王'} set()\n",
            "{'分子', '氫氣'} set()\n",
            "{'人類', '學說', '假說', '南', '人屬', '人類演化', '演化'} {'人類演化歷程', '人類演化', '演化生物學', '宏觀演化'}\n",
            "{'宗教', '宗教哲學', '信仰'} {'宗教哲學', '宗教學', '無宗教', '宗教信仰哲學', '中華人民共和國政府認定的邪教組織列表'}\n",
            "{'樂山大佛', '大佛'} {'樂山大佛'}\n",
            "{'概念', '阿爾弗雷德·諾貝爾', '漢斯·愛因斯坦', '光', '光子', '諾貝爾物理學獎', '物理學', '阿爾伯特·愛因斯坦'} {'光子', '光電效應'}\n",
            "{'歌手', '流行音樂', '梁朝偉', '男性', '音樂', '歌手·當打之年', '流行_(音樂類型)'} {'從前…以後', '新裏宏太', '爲情所困'}\n",
            "{'圖爾卡區', '行政區劃', '2020', '荷蘭', '桑比爾', '舊桑比爾區', '舊桑比爾', '改革', '桑比爾區'} {'圖爾卡區', '桑比爾區', '舊桑比爾區'}\n",
            "{'俄刻阿諾斯', '妻子', '忒堤斯', '神', '提坦', '水神'} {'俄刻阿尼得斯', '俄刻阿諾斯', '斯堤克斯', '忒堤斯', '俄刻阿諾斯號'}\n",
            "{'南投市', '古蹟', '中華民國外交部', '國定古蹟', '中華民國', '外交部', '臺北賓館'} {'南投稅務出張所', '臺北賓館'}\n",
            "{'染色體', '流產', '妊娠'} {'流產', '反覆流產', '先兆流產'}\n",
            "{'動物', '印度洋', '脊柱', '棘皮動物'} {'脊柱外科', '棘皮動物', '脊柱', '舒爾曼病', '海旋板'}\n",
            "{'種子', '目標', '果實', '今天'} set()\n",
            "{'政府', '中華民國國民', '中華民國', '詞', '忠烈祠_(臺灣)', '忠烈祠', '國民', '國民政府'} {'國民政府軍事委員會', '中華民國國家元首列表'}\n",
            "{'亞洲', '非洲', '歐洲', '白鵜鶘', '鵜鶘', '洲'} {'斑嘴鵜鶘', '澳洲鵜鶘', '美洲鵜鶘', '白鵜鶘', '卷羽鵜鶘'}\n",
            "{'國立臺灣民主紀念館', '中正紀念堂'} {'國立臺灣民主紀念館', '國立中正紀念堂管理處組織條例'}\n",
            "{'兒童', '雙胞胎', '英國', '威廉·莎士比亞', '演員'} {'尼可拉斯·莎士比亞'}\n",
            "{'阿曼蘇丹', '西南_(索馬里聯邦成員州)', '阿曼', '邊界', '印度洋', '西亞'} {'阿曼駐華大使列表', '阿曼蘇丹', '阿曼', '馬斯喀特省', '阿曼首相'}\n",
            "{'城市', '東西_(作家)', '耶路撒冷'} set()\n",
            "{'語言', '標記_(程式語言)', 'XBRL', '置標語言'} {'XHTML', '語音合成標記語言', 'XML', 'InkML', '輕量級標記語言'}\n",
            "{'名稱', '若奧·米蘭達·德索薩·菲略', '胡安·米蘭達', '米蘭達·蔻思葛芙', '米蘭達·凱爾', '天衛五', '米蘭達·蘭伯特', '米蘭達·霍布斯'} {'天衛五表面特徵列表'}\n",
            "{'四川省', '太行山', '山脈', '河北省', '中國'} {'太行山針藺', '王母宮石窟'}\n",
            "{'透明', '軀幹', '內衣', '神農'} set()\n",
            "{'政府首腦', '縣_(中華民國)', '臺灣縣', '兒玉利國'} {'臺灣縣', '兒玉利國'}\n",
            "{'大波士頓', '波士頓', '高層建築物', '美國'} {'波士頓影評人協會', '大波士頓'}\n",
            "{'香港', '越南', '陳獨秀', '中國共產黨', '國家安全法', '長毛', '梁國雄', '綽號', '越南人', '中華人民共和國香港特別行政區維護國家安全法'} {'梁國雄'}\n",
            "{'流產', '胎兒'} {'流產', '死產', '五芳齋黴糉子事件', '反覆流產', '先兆流產'}\n",
            "{'歌手', '香港歌手列表', '少女蝶', '香港', '3T_(香港音樂組合)', '鄭希怡', '歌手·當打之年'} {'少女蝶', '鄭希怡', '上海娃娃', '蔣雅文', '劉思惠'}\n",
            "{'金邊', '東南亞', '洞裏薩湖', '淡水湖'} {'金邊鳳蝶', '柬埔寨', '金邊王宮', '金邊皇冠足球會', '金邊國際機場'}\n",
            "{'約瑟的神奇彩衣', '安德魯·勞埃德·韋伯', '約瑟_(舊約聖經)'} {'約瑟的神奇彩衣'}\n",
            "{'2030年', '本雅明·斯泰拉', '樞機', '教宗'} {'本雅明·斯泰拉', '2030年代', '天主教波多-聖魯菲納羅馬城郊教區', '樞機'}\n",
            "{'松前城', '福山城_(備後國)', '美國軍隊', '清水', '備後國'} {'備後國', '清水站'}\n",
            "{'臺灣', '授權', '2010年臺北國際花卉博覽會', '國際園藝博覽會'} {'2019年中國北京世界園藝博覽會', '2010年臺北國際花卉博覽會', '德國聯邦園藝博覽會', '2014年世界園藝博覽會', '2018年臺中世界花卉博覽會'}\n",
            "{'公案小說', '範式', '狄仁傑', '公案_(消歧義)', '小說', '君主', '大理寺', '中國'} {'狄仁傑'}\n",
            "{'啓示', '穆罕默德', '伊斯蘭教的神', '穆罕默德·伊本·阿卜杜勒·瓦哈卜', '書記', '古蘭經'} {'古蘭經'}\n",
            "{'政治人物', '中央民族大學', '類', '張京澤', '書記', '中國', '黨委書記', '世界一流大學和一流學科建設'} {'中央民族大學附屬中學', '全國重點大學', '張京澤', '中央民族大學民族博物館', '世界一流大學和一流學科建設'}\n",
            "{'普羅米修斯', '獨生子女'} {'普羅米修斯', '被縛的普羅米修斯', '解放了的普羅米修斯', '普羅米修斯計劃'}\n",
            "{'動作漫畫', '1938年', '超人'} {'動作漫畫', '超人'}\n",
            "{'衛星', '木衛四', '夏威夷大學', '衛', '木星的衛星', '木材', '木星', '天文學家'} {'北京師範大學天文系', '木衛五十三', '木衛五十二', '木衛五十', '南京大學天文與空間科學學院'}\n",
            "{'華東地區', '京杭大運河', '東部', '大運河', '世界遺產', '中國', '運河'} {'浙東運河', '京杭大運河', '大運河', '大運河站', '京杭運河大橋'}\n",
            "{'馬六甲_(消歧義)', '現在', '馬六甲海峽', '海峽', '國家'} {'馬六甲海峽歷史城市'}\n",
            "{'聖地牙哥', '南部', '休斯敦', '火箭', '美國南部', '本名', '休斯敦火箭', '美國', '人口'} {'休斯敦縣', '休斯敦', '休斯敦火箭', '休士頓火箭歷屆冠軍成員'}\n",
            "{'政府', '中國海洋大學', '海洋大學', '教育部', '大學'} {'中國海洋大學', '海洋大學', '吉林大學', '中國海洋大學出版社', '中華人民共和國教育部直屬高等學校列表'}\n",
            "{'1970年', '中華人民共和國地質礦產部', '中華人民共和國'} {'中華人民共和國地質礦產部', '地質出版社', '朱訓'}\n",
            "{'親屬', '紅軍', '許世友'} {'許家窪'}\n",
            "{'班長', '詹姆斯·諾克斯·波爾克', '選舉'} set()\n",
            "{'首部', '京劇', '梅蘭芳', '順天時報', '京劇四大名旦', '四大名旦'} {'京劇四大名旦', '四大名旦'}\n",
            "{'威尼斯', '電影節', '威尼斯電影節', '電視劇', '金獅獎', '事件', '侯孝賢', '二二八事件'} {'第10屆威尼斯影展', '第9屆威尼斯影展', '第71屆威尼斯影展', '第15屆威尼斯影展', '威尼斯影展評審團大獎'}\n",
            "{'日', '天文學', '天文單位', '金星凌日', '天文學家', '金星'} {'2012年金星凌日', '金星凌日', '1874年金星凌日', '黑滴現象', '天文臺'}\n",
            "{'臺中市', '后里區', '臺中市立啓明學校', '臺灣', '教育', '學校', '特殊教育'} {'臺中市立后里國民中學', '臺中市立啓聰學校', '臺中市立啓明學校'}\n",
            "{'功能', '產品', '程序'} set()\n",
            "{'伊斯蘭教的神', '穆罕默德', '穆罕默德·伊本·阿卜杜勒·瓦哈卜', '晚餐', '古蘭經', '廚師'} {'古蘭經'}\n",
            "{'公民', '埃塔'} {'埃塔'}\n",
            "{'淋巴結', '淋巴結腫大'} {'淋巴系統', '前哨淋巴結', '淋巴結腫大'}\n",
            "{'蔡卓妍', '歌手', '商店', '紅館', '歌手·當打之年'} set()\n",
            "{'中正區_(臺北市)', '臺北市', '臺北市客家文化主題公園'} {'桃園市客家文化館', '臺北市立中正國民中學', '臺北市中正區螢橋國民小學', '臺北市議員列表', '臺北市客家文化主題公園'}\n",
            "{'記錄', '主權國家', '路易·德·奧爾良_(1703年—1752年)', '路易十四', '勝利_(歌手)', '神聖羅馬帝國', '主權', '君主', '國家'} set()\n",
            "{'原理', '物體', '重量'} set()\n",
            "{'北京理工大學'} {'華北理工大學'}\n",
            "{'臺灣', '經營者', '李祖德', '臺北醫學大學'} {'李祖德'}\n",
            "{'東晉', '晉元帝', '南京市', '北', '六朝', '琅邪王', '戰爭', '琅琊'} {'六朝', '東晉'}\n",
            "{'網景', '網景通訊家', '網頁瀏覽器', '網頁'} {'網景導航者', '網頁瀏覽器列表', '網景', '網頁瀏覽器時間線', '網景通訊家'}\n",
            "{'葡萄酒', '酒', '果酒', '蘋果酒', '世界'} {'蘋果酒'}\n",
            "{'答案', '思想', '真相', '方法'} set()\n",
            "{'日本', '隋朝', '文明', '後_(消歧義)'} set()\n",
            "{'物理常數', '常數', '真空'} {'物理常數', '氣體常數', '真空磁導率'}\n",
            "{'錳酸鉀', '化學式', '乙醇', '水', '氧化劑', '高錳酸鉀'} {'高錳酸鉀', '高錳酸銀', '伯醇氧化至羧酸'}\n",
            "{'石器時代', '人類', '新石器時代', '賽普勒斯', '石器', '時代'} {'賽普勒斯鎊', '賽普勒斯問題', '賽普勒斯教會', '賽普勒斯'}\n",
            "{'楊素', '舉事', '隋煬帝'} set()\n",
            "{'喬治·艾略特', '阿爾弗雷德·諾貝爾', '文學獎', 'T·S·艾略特', '艾略特·內斯', '查爾斯·艾略特', '艾略特·克雷松獎章', '艾略特', '艾略特·高登索', '諾貝爾文學獎'} {'查爾斯·艾略特', 'T·S·艾略特'}\n",
            "{'爆炸', '趙守福', '虎', '中國人民解放軍', '武將', '全國戰鬥英雄代表會議', '上海市', '于化虎'} {'全國戰鬥英雄代表會議', '趙守福', '于化虎'}\n",
            "{'標本', '國立臺灣大學', '動物', '國立臺灣大學昆蟲標本館', '針'} {'植物標本館', '國立臺灣大學植物標本館', '國立臺灣大學昆蟲標本館', '植物標本館列表'}\n",
            "{'日本', '妙義山'} {'妙義荒船佐久高原國定公園', '妙義山'}\n",
            "{'馬克思主義', '馬克思·多爾穆瓦站', '格魯喬·馬克思', '作品', '卡爾·馬克思', '馬克思主義政治經濟學', '政治經濟學', '海因裏希·馬克思'} set()\n",
            "{'臺灣', '法輪功', '文字'} {'法輪功在臺灣'}\n",
            "{'徐太志'} {'徐太志和孩子們', '徐太志'}\n",
            "{'韓國總統', '總理', '憲法法院', '大韓民國'} {'韓國總統', '朴槿惠彈劾案'}\n",
            "{'喬治·艾略特', '阿爾弗雷德·諾貝爾', 'T·S·艾略特', '艾略特·內斯', '查爾斯·艾略特', '艾略特·克雷松獎章', '艾略特', '艾略特·高登索'} {'查爾斯·艾略特', 'T·S·艾略特'}\n",
            "{'襪子', '乳房', '胸圍'} {'胸圍', '船襪', '乳房疼痛'}\n",
            "{'午夜巴黎', '巴黎', '悲劇', '動畫', '背景', '伍迪·艾倫', '艾倫'} {'午夜巴黎', '第64屆戛納電影節'}\n",
            "{'大韓民國', '全羅北道', '羅', '聯合國教育、科學及文化組織', '州', '道_(行政區劃)', '首府'} {'聯合國教科文組織分類法', '全羅北道', '忠清北道', '聯合國教科文科學技術統計工作手冊的分類法', '全州市'}\n",
            "{'香港', '圍村', '村長', '練馬師', '現在', '松柏塱', '簡炳墀', '本地人'} {'松柏塱'}\n",
            "{'證券市場', '浙江省', '內線交易', '犯罪', '寧波人', '徐翔_(投資家)', '寧波市', '徐翔'} {'徐翔'}\n",
            "{'島嶼', '太平島', '總督府', '主權', '太平_(霹靂)'} set()\n",
            "{'捷克', '天文學家', '茲德內克·莫拉維克', '土壤'} {'小行星6801', '小行星8573', '小行星7896', '小行星7796', '小行星8556'}\n",
            "{'恐怖主義', '伊斯蘭教', '艾山·買合蘇木', '奧薩馬·本·拉登'} {'艾山·買合蘇木', '基地組織'}\n",
            "{'殼', '葡萄糖', '昆蟲', '體育運動', '化合物'} {'葡萄糖苷', '葡萄糖酸鋅'}\n",
            "{'日本', '若竹町', '行政區劃', '第二次世界大戰'} {'汐見町'}\n",
            "{'東帝汶', '地區', '2002'} {'東帝汶'}\n",
            "{'塘湖站', '鐵路車站', '郵政編碼'} {'塘湖站'}\n",
            "{'約瑟·亨利', '亨利', '蒂埃裏·亨利', '王', '16世紀', '亨利八世', '世', '歐·亨利'} {'英格蘭宗教改革', '徹底的宗教改革', '波蘭宗教改革', '英格蘭教會'}\n",
            "{'安德烈·尤里耶維奇·勃列日涅夫', '列昂尼德·勃列日涅夫', '中央委員會', '政治局', '尤里·勃列日涅夫'} {'維多利亞·勃列日涅娃', '安德烈·尤里耶維奇·勃列日涅夫', '列昂尼德·勃列日涅夫所獲獎項列表', '列昂尼德·勃列日涅夫', '朝鮮勞動黨中央委員會政治局'}\n",
            "{'古羅馬', '平民', '法律', '羅馬'} {'羅馬騎士階級', '古羅馬'}\n",
            "{'意外事故', '單位_(社會組織)', '暗殺', '幻覺', '目標', '執法'} set()\n",
            "{'品質', '特別攻擊隊', '跟蹤支援隊'} set()\n",
            "{'徐太志'} {'徐太志和孩子們', '徐太志'}\n",
            "{'中國民族列表', '漢族', '民族', '中國'} {'中華人民共和國未識別民族'}\n",
            "{'亞洲', '中東', '西亞', '西南'} {'西亞'}\n",
            "{'九江市', '面積', '人口'} set()\n",
            "{'兔形目', '目標', '形狀', '兔', '靈長大目', '目', '真靈長大目'} {'真靈長大目', '靈長總目', '靈長大目'}\n",
            "{'河', '太原市', '父親', '水源', '上游', '汾河', '山西省'} {'汾河鎮', '汾河水庫', '汾河街道', '汾河', '汾河公園'}\n",
            "{'伊斯蘭教', '回族', '信仰'} {'回族', '伊斯蘭教與基督教關係', '伊斯蘭教神學', '伊斯蘭教末世論'}\n",
            "{'信息', '知識', '文', '功能', '文獻'} set()\n",
            "{'領土', '國家'} {'領土', '充分必要條件', '領土糾紛'}\n",
            "{'海南島', '鄱陽湖', '淡水', '今天', '中國'} {'鄱陽湖'}\n",
            "{'杜鵑科', '鳥', '科', '杜鵑'} {'杜鵑屬', '走鵑', '鴉鵑屬', '杜鵑科'}\n",
            "{'大豆'} {'擬大豆', '大豆苷'}\n",
            "{'高雄縣', '美國'} set()\n",
            "{'黛安娜·羅斯', '黛安娜', '新異教主義', '黛安娜·迪莫娃', '黛安娜·羅', '黛安·韋斯特', '黛安娜·馬西森', '異教'} {'新異教主義'}\n",
            "{'戰爭與和平', '拿破崙戰爭', '拿破崙_(消歧義)'} {'博羅金諾戰役'}\n",
            "{'海', '桃園市'} {'四面城鎮'}\n",
            "{'李美妍', '皇后', '明成皇后', '主人公'} {'李美妍'}\n",
            "{'氯', '苯乙烯', '烴', '乙烯', '芳香烴', '苯'} {'苯乙烯', '氟乙烯', '二苯乙烯酮', '二乙烯酮', '乙酸乙烯酯'}\n",
            "{'水', '硫酸', '溫度'} {'硫酸亞鉈', '硫酸鈷銨', '硫酸𨥙', '硫酸亞錫', '硫酸鎂'}\n",
            "{'主人公', '蜘蛛', '蜘蛛人', '精', '蜘蛛俠百戰曱甴精', '電視劇', '菲律賓', '蟑螂'} {'蜘蛛俠百戰曱甴精'}\n",
            "{'董事長', '元智大學', '女兒', '組織創始人'} {'元智大學'}\n",
            "{'亞洲', '化學', '鄭集', '生物'} {'生物化學', '生物工程學'}\n",
            "{'科特迪瓦', '阿比讓'} {'科特迪瓦', '科特迪瓦國家元首列表'}\n",
            "{'週期', '天體', '傑拉德·柯伊伯', '柯伊伯帶'} {'最亮柯伊伯帶天體列表', '柯伊伯隕石坑', '柯伊伯帶', '傑拉德·柯伊伯獎'}\n",
            "{'馬克思主義', '馬克思·多爾穆瓦站', '格魯喬·馬克思', '卡爾·馬克思', '馬克思主義政治經濟學', '資本論', '政治經濟學', '海因裏希·馬克思'} {'馬克思主義政治經濟學', '資本論', '河上肇', '女人資本論'}\n",
            "{'碳', '烴', '三鍵', '炔烴', '鍵', '化合物'} {'不飽和烴', '有機化合物'}\n",
            "{'關羽', '金蘭', '劉備', '張飛', '小說', '義'} {'關羽', '金蘭', '胡班', '關索', '樊城之戰'}\n",
            "{'餅乾', '乾酪', '祭品'} {'威爾士乾酪', '供品山'}\n",
            "{'南部', '亞洲', '人類發展指數', '馬爾代夫'} {'馬爾地夫國家男子籃球隊', '馬爾地夫拉菲亞'}\n",
            "{'歌手', '齊秦', '兄弟姊妹', '齊豫', '歌手·當打之年'} {'齊豫'}\n",
            "{'信息', '知識', '文', '功能', '文獻'} {'文獻'}\n",
            "{'荷馬', '民俗學', '史詩', '荷馬史詩', '研究', '民俗', '東西_(作家)'} set()\n",
            "{'賈繼之', '明朝', '朝廷'} {'廷杖'}\n",
            "{'梅庵_(肇慶)', '肇慶市'} {'香港都會大學（肇慶）'}\n",
            "{'糖尿病', '桂皮'} {'老年糖尿病', '抗糖尿病藥'}\n",
            "{'若竹町', '行政區劃', '第二次世界大戰', '世界大戰', '若竹町_(臺南市)', '日本'} {'伏見町', '汐見町', '青葉町'}\n",
            "{'菲律賓', '妙義山'} {'妙義荒船佐久高原國定公園'}\n",
            "{'支流', '塔里木盆地', '塔里木', '汾河', '山西省', '盆地'} {'汾河鎮', '汾河街道', '汾河', '汾河片', '汾河公園'}\n",
            "{'暗殺', '目標'} set()\n",
            "{'文獻', '古'} set()\n",
            "{'音階', '磁暴', '極光'} {'磁暴', '極光', '1989年3月磁暴'}\n",
            "{'生命', '貓', '入侵物種', '物種', '世界百大外來入侵種', '世界'} {'貓', '世界百大外來入侵種'}\n",
            "{'骨鰾類', '鳥', '生活', '寄生'} {'骨鰾類'}\n",
            "{'聖彼得堡', '俄羅斯', '城市', '世界人口', '人口'} set()\n",
            "{'文森特·梵高', '論文'} set()\n",
            "{'春秋_(書)', '春秋', '穀梁傳'} {'公羊傳', '春秋三傳', '穀梁傳'}\n",
            "{'杭州駐防城', '澳大利亞', '死者能舞', '英國'} set()\n",
            "{'總統', '唐玄宗', '貝尼託·胡亞雷斯', '墨西哥', '墨西哥總統'} {'貝尼託·胡亞雷斯', '法國武裝干涉墨西哥'}\n",
            "{'臺灣天文觀測', '臺灣', '天文觀測'} {'臺灣天文觀測', '天文航海', '天文觀測', '天文學', '天文臺'}\n",
            "{'獨立', '人類', '久', '古', '很久', '賽普勒斯', '1959年', '英國'} {'賽普勒斯鎊', '賽普勒斯', '賽普勒斯問題', '賽普勒斯教會'}\n",
            "{'臺灣時報', '1909年'} {'看守臺灣協會'}\n",
            "{'春秋_(書)', '春秋', '穀梁傳'} {'公羊傳', '春秋三傳', '穀梁傳'}\n",
            "{'原雞', '蛋白質', '雞', '食物', '原雞屬'} {'雞'}\n",
            "{'人民', '同性戀', '各地LGBT權利', '案', '艾根訴加拿大案', '奧林·艾根', '加拿大', '曼弗雷德·艾根'} set()\n",
            "{'征途', '章節', '故事', '哈比人', '圖書', '贅生物', '哈比人歷險記', '片段'} {'哈比人歷險記'}\n",
            "{'宗教', '宗教哲學'} {'宗教學', '宗教哲學', '宗教信仰哲學', '世界主要宗教'}\n",
            "{'金屬', '化學元素', '元素週期表'} {'第5週期元素'}\n",
            "{'塘湖站', '鐵路車站', '山東省', '郵政編碼'} {'塘湖站', '新加坡郵政編碼'}\n",
            "{'林鈺婷', '客家民系'} {'林鈺婷'}\n",
            "{'劍橋大學', '盧卡斯', '物理學家', '盧卡斯數學教授席位', '保羅·狄拉克', '理論物理學', '英國', '劍橋'} {'保羅·狄拉克'}\n",
            "{'蛇', '二胡'} set()\n",
            "{'普利策獎'} {'普利策國際報道獎', '蔣中正遺囑', '普利策歷史獎', '普利策戲劇獎'}\n",
            "{'臺中市', '市政府站_(臺北市)', '站'} set()\n",
            "{'指南車', '王天木', '歷史書'} {'王天木'}\n",
            "{'字', '政治', '星海', '山東省_(中華民國)', '宋潢_(嘉慶壬戌進士)', '山東省'} {'星海街道', '星海街', '葉星海', '星海生活廣場', '蘇州工業園區星海實驗中學'}\n",
            "{'地質公園', '嵩山', '中國'} {'中華人民共和國國家級風景名勝區', '地質公園', '嵩山路街道', '泰寧世界地質公園', '嵩山'}\n",
            "{'索馬利蘭國', '旗幟', '清真言', '海陸', '索馬里蘭', '索馬利蘭國旗', '言', '國旗'} {'索馬利蘭國旗'}\n",
            "{'總統', '政府首腦', '立法機關', '祕魯', '行政機關', '總統制'} {'總統制'}\n",
            "{'新北市區公車790路線', '竹圍_(桃園市)', '班距', '公車', '竹圍漁港', '基隆市', '金山', '新北市'} {'新北市區公車790路線', '新北市區公車813路線'}\n",
            "{'形上學'} {'形上學', '形上學大綱'}\n",
            "{'愛丁堡', '愛丁堡大學', '大學排名', '排名', '世界'} {'QS世界大學排名'}\n",
            "{'地面車站', '江景線', '煉武臺站'} {'江景站', '1958年', '地面車站', '彩雲信號場', '煉武臺站'}\n",
            "{'劇場', '莫斯科', '莫斯科大劇院', '芭蕾舞', '天鵝湖'} {'天鵝湖', '芭蕾舞劇列表'}\n",
            "{'穆罕默德', '穆罕默德·本·沙特', '穆罕默德·本·薩勒曼', '穆罕默德·默罕馬杜拉', '伊斯蘭教', '古蘭經', '穆罕默德·阿里帕夏'} {'多哥伊斯蘭教', '薩哈巴', '蒙古國伊斯蘭教', '古蘭經', '伊斯蘭教的先知'}\n",
            "{'續集', '弗朗西斯·科波拉', '教父'} set()\n",
            "{'羅斯福', '政策', '象', '法案', '公平交易', '動物', '西奧多·羅斯福', '交易'} {'厚皮動物', '西奧多·羅斯福第二次總統就職典禮', '老西奧多·羅斯福', '西奧多·羅斯福', '西奧多·羅斯福三世'}\n",
            "{'汶萊', '東南亞', '英國', '婆羅洲', '殖民地', '國家'} {'英屬婆羅洲'}\n",
            "{'腳趾', '歐洲民族', '歐洲', '民族', '指', '國家'} set()\n",
            "{'籍', '臺北市_(省轄市)', '民國', '謝長廷', '中國', '臺北市議員列表', '身分標識方式', '中國國民黨'} {'臺北市議員列表', '張維洲'}\n",
            "{'航空器', '交通管制', '意外事故', '航空', '陸地', '航空管制員', '效率', '航空交通管制'} {'航空交通管制部', '航空交通管制'}\n",
            "{'大波士頓', '波士頓'} {'波士頓影評人協會', '大波士頓', '波士頓'}\n",
            "{'物理學家', '女王', '美國物理學會', '吳健雄', '核子', '華僑華人', '女性'} {'沈呂九', '吳健雄', '小行星2752', '葉軍'}\n",
            "{'賽博格', '再造人卡辛', '龍之子製作', '龍', '子'} {'再造人卡辛'}\n",
            "{'2010年臺北國際花卉博覽會'} {'舞蝶館', '新生公園', '2018年臺中世界花卉博覽會', '流行館', '美術公園'}\n",
            "{'獨立', '生物', '真菌', '植物', '界_(生物)', '染色體', '動物', '細菌', '界'} {'真菌分類表'}\n",
            "{'人類', '原材料', '酒', '果酒', '果實'} {'大果酒餅簕', '蘋果酒'}\n",
            "{'香港', '香港電臺', '編劇', '陳韻文', '音樂節目'} {'香港商業電臺節目列表', '陳韻文'}\n",
            "{'實踐大學設計學院', '獅子會中學', '虛擬社區列表', '國立臺灣大學綜合教學館', '虛擬現實', '遙距教育', '資訊共享空間', '硬件虛擬化', 'Inferno (網站服務)', 'KDE Plasma 4'} set()\n",
            "{'腎功能', '尤里·安德羅波夫', '腎功能衰竭', '腎_(臟腑)'} {'尤里·安德羅波夫'}\n",
            "{'一貫道', '佛', '路', '彌勒菩薩', '經濟', '神', '無生老母', '路中一'} {'青蓮教', '無生老母'}\n",
            "{'鄉試', '葉巒'} {'葉巒'}\n",
            "{'軟體動物', '海', '始海百合', '百合_(消歧義)', '氣門', '百合屬', '海百合'} set()\n",
            "{'木星'} set()\n",
            "{'象徵', '買', '商店', '全買', '代表', '長頸鹿'} {'全買'}\n",
            "{'財富', '貝塔·雷·比爾', '貝雷特'} {'貝雷特'}\n",
            "{'臺中市', '臺中市立啓明學校', '臺灣', '中部', '教育', '中臺灣', '學校', '特殊教育'} {'臺灣特殊教育學校列表', '臺中市立啓明學校', '臺北市立啓明學校', '南京特殊教育師範學院', '臺中市立啓聰學校'}\n",
            "{'國立臺灣科技大學研揚大樓', '科技大學_(臺灣學制)', '國立臺灣科技大學'} {'國立臺灣科技大學管理研究所', '國立臺灣科技大學校史室', '國立臺灣科技大學研揚大樓'}\n",
            "{'證明完畢', '證明'} {'證明完畢'}\n",
            "{'線上學習', '模式', '教學研究'} {'教學研究', '虛擬教研中心'}\n",
            "{'碳', '橘', '液體', '脂肪醇', '壬醇', '正壬醇'} {'脂肪醇', '壬醇', '正癸醇', '1-辛醇', '正壬醇'}\n",
            "{'花旗銀行', '城市', '總部', '蔬果', '美國'} {'花旗銀行', '花旗銀行（中國）', '花旗（臺灣）商業銀行', '蔬果'}\n",
            "{'山下智久', '竹內瑪莉亞', '女性'} {'山下達郎'}\n",
            "{'香港', '金庸', '作家', '香港島', '東區', '東區_(香港)', '明報', '地區'} {'明報', '香港報紙列表', '世界華文媒體'}\n",
            "{'香港大學', '英語', '編程語言'} {'程式語言歷史', '直譯語言', '第四代程式語言', '香港語文'}\n",
            "{'伍迪·艾倫', '艾倫'} {'六場危事'}\n",
            "{'計算機', '計算機協會', '電子計算機', '科學', '現在', '全球', '學會', '世界'} {'計算機協會'}\n",
            "{'塘湖站', '鐵路車站', '濟寧市', '郵政編碼'} {'塘湖站', '新加坡郵政編碼'}\n",
            "{'總統', '德國', '1945年', '富蘭克林·德拉諾·羅斯福'} {'埃莉諾·羅斯福', '未完成的羅斯福肖像', '羅斯福家族', '小富蘭克林·德拉諾·羅斯福', '羅斯福大學'}\n",
            "{'地方政府', '大韓民國'} {'韓國行政區劃', '2010年大韓民國地方選舉', '2014年大韓民國地方選舉'}\n",
            "{'胡', '維吾爾族', '姓', '昭武九姓', '回族', '昭武', '中國'} {'昭武九姓'}\n",
            "{'團隊'} {'微軟工程團隊'}\n",
            "{'春秋_(書)', '春秋', '穀梁傳'} {'公羊傳', '春秋三傳', '穀梁傳'}\n",
            "{'歧義', '北平市', '北平_(消歧義)', '北京市', '西方'} {'國立北平大學', '北平王', '北平臨時大學', '北平淪陷', '國立北平研究院'}\n",
            "{'馬丁·路德', '醫院', '馬丁·路德·金', '孟菲斯_(田納西州)'} {'馬丁·路德·金恩遇刺案', '孟菲斯大學', '聯邦快遞705號班機劫機事件'}\n",
            "{'美國人口', '花旗銀行', '城市', '總部', '美國', '人口'} {'花旗', '花旗銀行', '花旗銀行（中國）', '花旗（臺灣）商業銀行'}\n",
            "{'金屬', '化學元素'} set()\n",
            "{'樂山大佛', '大佛', '唐朝', '90年'} {'樂山大佛', '海通和尚'}\n",
            "{'臺灣', '土地銀行', '臺灣土地銀行'} {'臺灣銀行列表'}\n",
            "{'火衛二', '火星', '衛星'} {'火衛二', '火星日食', '火星的衛星', '火星車'}\n",
            "{'墨家', '邏輯', '代表'} {'墨家', '邏輯史'}\n",
            "{'詞', '世紀', '作品', '詞_(文學)', '商人', '20世紀', '表現主義', '印象派'} {'那比派', '表現主義'}\n",
            "{'美度', '鑽石', '今天'} {'美度', '鑽石', '祖母綠'}\n",
            "{'平特爾·亞當', '亞當·列維', '亞當', '芬妮·亞當', '聖經', '亞當·魏薩普', '亞當·斯密', '亞當·溫賴特'} {'命令'}\n",
            "{'理論', '語態', '名稱'} set()\n",
            "{'大衆部', '佛教歷史', '印度佛教', '上座部', '佛教', '分裂', '教派', '印度'} {'根本分裂', '部派佛教', '上座部'}\n",
            "{'中學', '江西省', '南京大學', '南京大學附屬中學'} {'南京師範大學附屬中學', '南京大學附屬中學', '南京航空航天大學附屬高級中學', '師範大學附屬中學列表', '南京大學政府管理學院'}\n",
            "{'馬克思主義', '馬克思·多爾穆瓦站', '格魯喬·馬克思', '卡爾·馬克思', '馬克思主義政治經濟學', '資本論', '政治經濟學', '海因裏希·馬克思'} {'馬克思主義政治經濟學', '資本論', '女人資本論', '河上肇'}\n",
            "{'監測', '污染', '環境監測', '污染物', '分析'} {'環境監測', '上海市環境監測中心', '地球觀測衛星'}\n",
            "{'臺中市', '臺中市立臺中女子高級中等學校', '臺中_(大字)'} {'臺中市議會', '臺中市私立曉明女子高級中學', '臺中市立臺中女子高級中等學校', '臺中市私立明德高級中學'}\n",
            "{'劍橋大學', '教授', '西方哲學', '西方哲學史', '哲學史', '伯特蘭·羅素', '劍橋', '哲學'} set()\n",
            "{'奧古斯都', '提貝里烏斯', '御座', '提比略·克勞狄烏斯·尼祿', '蓋烏斯·屋大維', '提比略·格拉古'} set()\n",
            "{'女性', '夫人', '婚姻'} {'冼夫人', '夫人'}\n",
            "{'數', '世紀'} set()\n",
            "{'議會', '機構', '國家'} {'國家安全機關', '臺北市議會', '臺中市議會', '伊斯蘭議會', '各國立法機關列表'}\n",
            "{'魚', '綱', '輻鰭魚綱', '輻鰭魚', '脊索動物', '目', '鯡形目', '學名'} {'鮭鱸目', '狗魚目', '鯡形目', '鯡亞目', '海魴目'}\n",
            "{'古希臘悲劇', '悲劇', '舞蹈', '希臘', '合唱', '祭祀', '古希臘', '酒'} {'狄俄倪索斯', '古希臘喜劇', '古希臘悲劇'}\n",
            "{'醫學院', '教授', '哈佛大學', '普拉桑塔·帕坦尼克', '博士'} {'普拉桑塔·帕坦尼克'}\n",
            "{'阿馬拉瓦蒂', '海得拉巴_(印度)', '總站', '鐵路列車', '特倫甘納邦', '海得拉巴'} set()\n",
            "{'兄弟姊妹', '馬世莉'} set()\n",
            "{'學生', '香港聖公會', '聖保羅書院'} {'符潤光', '聖保羅堂', '香港聖公會澳門傳道地區', '史超域'}\n",
            "{'威廉·薩默塞特·毛姆', '家庭', '小說', '成功'} {'人性的枷鎖', '月亮和六便士', '威廉·薩默塞特·毛姆', '情天恨海', '毛姆文學獎'}\n",
            "{'劍橋大學', '東方哲學', '教授', '羅素', '東方哲學史', '哲學史', '伯特蘭·羅素', '劍橋'} set()\n",
            "{'武俠小說', '武俠', '悲劇', '金庸', '反派角色', '燕國', '慕容復', '圖書'} {'笑傲江湖角色列表', '射鵰英雄傳角色列表', '康敏', '慕容復'}\n",
            "{'民進', '黨', '民主進步黨', '謝長廷'} {'謝長廷', '民進', '謝長廷內閣'}\n",
            "{'翰林院', '工程師', '庶吉士', '蔡元培', '元培', 'Google'} {'庶吉士'}\n",
            "{'中華民國國民', '中華民國', '國民政府', '詞', '忠烈祠_(臺灣)', '軍事', '忠烈祠', '中國國民黨'} {'國民政府軍事委員會'}\n",
            "{'乳房', '胸', '胸圍', '胸罩'} {'男士胸罩', '運動胸罩', '胸圍', '胸罩', '罩杯'}\n",
            "{'百科全書', '維基百科', '維基'} {'維基百科標誌', '韓語維基百科', '中文維基百科', '英語維基百科', '法語維基百科'}\n",
            "{'伊斯蘭教', '古賽爾_(敘利亞)', '古賽爾戰役', '軍事組織', '軍事', '組織', '遜尼派'} set()\n",
            "{'若瑟·蘇格拉底', '蘇格拉底', '作品', '柏拉圖', '學生', '蘇格拉底·布拉濟萊羅·奧利維拉'} {'蘇格拉底'}\n",
            "{'政權', '劉淵', '國號', '趙', '漢趙', '君主制'} {'劉淵', '河瑞'}\n",
            "{'中正區_(臺北市)', '萬華區', '車站', '西門站', '西門站_(臺北捷運)'} {'西門地下街', '臺北市萬華區新和國民小學'}\n",
            "{'太行山', '山脈', '河北省', '女媧', '中國', '山西省_(中華民國)'} {'太行山針藺'}\n",
            "{'東帝汶', '地區'} {'1991年阿塞拜疆獨立公投', '2006年黑山獨立公投', '東帝汶'}\n",
            "{'皮特·烏斯蒂諾夫', '女王', '英國君主', '奧斯卡', '伊麗莎白二世', '奧斯卡最佳男配角獎', '英國', '演員'} {'皮特·烏斯蒂諾夫'}\n",
            "{'行憲紀念日', '聖誕節', '行憲', '教會學校'} {'行憲紀念日'}\n",
            "{'獅', '龍生九子', '龍', '黃鈴馨', '中國', '狻猊', '文獻', '子'} {'狻猊', '螣蛇'}\n",
            "{'排水', '地形', '佈局_(圍棋)', '張谷英村', '語氣', '張谷英', '法國'} {'張谷英村', '張谷英'}\n",
            "{'捷克', '茲德內克·莫拉維克', '行星'} {'小行星6801', '小行星8573', '小行星7896', '小行星7796', '小行星8556'}\n",
            "{'腳趾', '歐洲民族', '歐洲', '民族', '指', '國家'} set()\n",
            "{'一貫道', '路', '觀世音菩薩', '神', '無生老母', '路中一'} {'母娘', '無生老母'}\n",
            "{'地勢', '運河', '嘉興市', '京杭大運河'} set()\n",
            "{'海', '始海百合', '棘皮動物', '百合_(消歧義)', '百合屬', '海百合'} {'始海百合', '擬海百合', '棘皮動物', '海百合亞門', '海百合'}\n",
            "{'高度', '大西洋', '加布艾萊西島', '島嶼', '海', '英國', '海拔', '無人島'} {'杜布莫爾島', '加布艾萊西島'}\n",
            "{'城市規劃', '龍頭', '首部'} set()\n",
            "{'介質', '燃燒', '內燃機', '動能'} set()\n",
            "{'澳門文化中心', '劇場', '澳門特別行政區政府', '文化中心'} {'澳門2013年度頒授勳章、獎章和獎狀名單', '澳門2018年度頒授勳章、獎章和獎狀名單', '澳門2010年度頒授勳章、獎章和獎狀名單', '澳門2016年度頒授勳章、獎章和獎狀名單', '澳門2011年度頒授勳章、獎章和獎狀名單'}\n",
            "{'震盪波蠕蟲', '少年', '小時', '德國', '清潔'} set()\n",
            "{'石灰', '氫氧化鈉', '氫氧化鈣', '氧化鈉', '溶液', '鹼', '鹼石灰'} {'石灰', '氫氧化鈣', '亞當斯脫羧反應', '拜耳法', '鹼石灰'}\n",
            "{'慶長', '後陽成天皇', '夷', '陽成天皇', '詔令文書', '德川家康', '大將軍_(東亞)', '徵夷大將軍'} {'德川家康', '慶長', '江戶幕府'}\n",
            "{'香茅', '碳', '鏈', '橘', '液體', '脂肪醇', '壬醇', '正壬醇'} {'脂肪醇', '壬醇', '正癸醇', '1-辛醇', '正壬醇'}\n",
            "{'潤州_(隋朝)', '長江', '地級市', '南部', '京口區', '古', '鎮江市', '江蘇省_(中華民國)', '市', '江蘇省'} {'京口區', '鎮江市', '鎮江古城牆遺址', '潤州區', '江蘇省鎮江第一中學'}\n",
            "{'冰島', '首都', '國內', '城市', '世界'} {'中國首都', '冰島國立博物館', '多首都國家', '雷克雅維克', '冰島歷史'}\n",
            "{'最短路問題', '短路', '離散數學', '數學', '問題', '離散', '算法'} {'最短路問題', '離散數學', '戴克斯特拉算法', 'Floyd-Warshall算法', '離散'}\n",
            "{'上越市', '蟲川大杉車站', '新潟縣', '自然紀念物', '國家'} {'臺灣史跡名勝天然紀念物', '蟲川大杉車站'}\n",
            "{'原住民', '中學', '臺北市', '臺北市私立道明外僑學校'} {'臺北市私立立人高級中學', '臺北市私立道明外僑學校', '臺北市私立東山高級中學'}\n",
            "{'紐約', '泰坦尼克號', '首飛'} {'鐵達尼號船員列表', '鐵達尼號主樓梯'}\n",
            "{'牡丹社', '總統', '牡丹', '鹿兒島縣', '明治', '兒玉利國'} {'兒玉利國'}\n",
            "{'鳥', '鸚形目', '綠色', '冠蕉鵑', '蕉鵑'} {'冠蕉鵑', '白梢冠蕉鵑'}\n",
            "{'文字', '傳說', '神農', '先秦', '氏'} {'神農'}\n",
            "{'1995', '少女小漁_(電影)', '亞太影展', '劉若英', '我的美麗與哀愁', '1995年'} {'劉若英', '少女小漁劉若英的美麗與哀愁'}\n",
            "{'村莊', '張谷英村', '張谷英'} {'張谷英'}\n",
            "{'科隆', '教會'} {'臺灣文化活動列表'}\n",
            "{'原住民', '魚', '東', '毒魚豆'} {'毒魚豆'}\n",
            "{'數據', '操作系統', 'MacOS'} {'MacOS版本歷史', 'MacOS'}\n",
            "{'新竹市_(州轄市)', '新竹市', '丘', '臺灣', '土地', '丘陵', '市', '市_(中華民國)', '新北市'} set()\n",
            "{'東北', '臺灣', '雨', '東北部_(越南)', '基隆市', '丘陵', '市', '市_(中華民國)', '氣候'} set()\n",
            "{'情感', '貝塔·雷·比爾', '貝雷特'} {'情感', '貝雷特'}\n",
            "{'福利經濟學', '經濟學', '阿馬蒂亞·庫馬爾·森', '諾貝爾獎'} {'阿馬蒂亞·庫馬爾·森'}\n",
            "{'亞裔美國人', '定義', '美國', '美國人'} {'亞裔美國人', '日裔美國人'}\n",
            "{'價值', '工程', '不可否認', '中國'} set()\n",
            "{'球', '羅盤方位'} set()\n",
            "{'千與千尋', '門票', '收入'} set()\n",
            "{'中華人民共和國勞動人事部', '單位_(社會組織)', '中華人民共和國'} {'中華人民共和國勞動和社會保障部', '中華人民共和國勞動人事部', '中華人民共和國人事部', '何光'}\n",
            "{'島嶼', '島嶼國家', '世界'} set()\n",
            "{'金屬', '元素週期表'} {'F區元素', 'D區元素', '金屬', '主族元素', '5族元素'}\n",
            "{'農村', '許世友', '中國'} {'許家窪'}\n",
            "{'李賦寧', '教育家', '死亡', '中國', '慢性病'} {'李賦都', '李賦寧'}\n",
            "{'藥學', '排卵'} {'避孕貼', '排卵試紙', '月經失調'}\n",
            "{'軌道_(力學)', '小行星', '軌道', '行星', '太陽'} set()\n",
            "{'春秋_(書)', '春秋', '穀梁傳'} {'公羊傳', '春秋三傳', '穀梁傳'}\n",
            "{'嫘祖', '黃帝', '軒轅', '傳說_(2010年電視劇)', '傳說', '元妃', '昌意', '子', '帝'} {'嫘祖', '昌意', '嚳'}\n",
            "{'計算機', '計算機協會', '電子計算機', '科學', '現在', '全球', '學會', '世界'} {'計算機協會'}\n",
            "{'西部', '銀川市', '銀川平原'} {'銀川平原', '1739年平羅地震', '銀川市', '賀蘭縣', '銀川專區'}\n",
            "{'世紀', '詞', '拿督', '稱謂'} {'拿督'}\n",
            "{'生物分類學', '生物', '真菌', '植物', '界_(生物)', '細菌'} {'舊熱帶植物界'}\n",
            "{'石器時代', '石器', '人類', '史前時代'} {'磨製石器', '中國中石器文化列表', '中國史前文化', '石器', '中石器時代'}\n",
            "{'一行', '名稱', '禪師', '釋一行', '行'} {'一行', '釋真空', '慧忠禪師'}\n",
            "{'腳趾', '歐洲民族', '歐洲', '民族', '指', '國家'} set()\n",
            "{'歧義', '北平市', '南京市', '北', '北平_(消歧義)'} {'國立北平大學', '北平王', '北平臨時大學', '北平淪陷', '國立北平研究院'}\n",
            "{'獨立', '納米比亞', '世紀', '孕婦', '20世紀', '本土'} {'納米比亞', '納米比亞，勇氣之地', '納米比亞科技大學', '納米比亞總統'}\n",
            "{'藥物', '藥理學', '精神狀態', '物質', '疾病', '精神', '身體質量指數'} {'藥物'}\n",
            "{'如今', '埃爾熱', '歐洲', '丁丁歷險記', '丁丁_(丁丁歷險記)'} {'丁丁在西藏', '張充仁', '丁丁與字母藝術', '丁丁與流浪漢', '卡爾庫魯斯案件'}\n",
            "{'波蘭', '焦點', '海港', '格但斯克', '民族', '岸', '城市'} {'格但斯克'}\n",
            "{'量_(物理)', '路易·德·奧爾良_(1703年—1752年)', '路易十四', '陸', '王國', '盧福瓦侯爵', '法蘭西王國', '建築施工', '陸軍'} {'路易十四'}\n",
            "{'輻鰭魚', '綱', '生物分類法', '輻鰭魚綱'} {'海防鰍', '中脂䱀', '梅氏平鰭鮠', '暹羅灣寬箬鰨', '瓦氏擬鱯'}\n",
            "{'臺北市', '城'} {'臺北市議員列表'}\n",
            "{'半總統制', '非洲', '北非', '共和制', '剛果民主共和國', '馬格里布', '陸地', '總統制'} set()\n",
            "{'富士', '身', '越南', '血親', '貴之富士三造'} set()\n",
            "{'日本', '藤子·F·不二雄', '作品'} {'藤子·F·不二雄', '藤子不二雄', '藤子不二雄Ⓐ', '桃太郎', '藤子·F·不二雄創作'}\n",
            "{'企業', 'BI', '工具', '決策'} set()\n",
            "{'路德', '基督教', '馬丁·路德·金', '馬丁·路德', '牧師', '美國', '體育運動'} {'聯合抵制蒙哥馬利公車運動'}\n",
            "{'歌手', '香港歌手列表', '香港', '3T', 'T', '作品', '鄭希怡', '歌手·當打之年'} {'少女蝶', '重案黐孖GUN', '一加手機3T', '上海娃娃'}\n",
            "{'漫畫', '杉崎由綺琉', '天使怪盜', '漫畫雜誌'} {'月刊Asuka', '女神候補生', '天使怪盜', '杉崎由綺琉', '炸彈小新娘'}\n",
            "{'差異_(哲學)', '洲', '雉雞', '語言'} {'雉雞'}\n",
            "{'公館_(臺北市)', '科技大學_(臺灣學制)', '國立臺灣科技大學研揚大樓', '國立臺灣科技大學'} {'國立臺灣科技大學管理研究所', '國立臺灣科技大學校史室', '國立臺灣科技大學研揚大樓'}\n",
            "{'物種', '沙丁魚'} {'沙丁魚'}\n",
            "{'種子', '目標', '子房', '果實'} {'子房街道', '梨果', '瘦果', '草莓', '蒴果'}\n",
            "{'若瑟·蘇格拉底', '蘇格拉底', '蘇格拉底·布拉濟萊羅·奧利維拉', '對話'} {'蘇格拉底'}\n",
            "{'隋文帝', '隋煬帝'} {'遣隋使'}\n",
            "{'歌手', '漢名', '2021', '滾石_(雜誌)', '卑南族', '歌手·當打之年', '張惠妹', '名_(人名)'} {'張惠妹音樂作品列表'}\n",
            "{'山東省', '淄博市', '平原'} {'淄博市'}\n",
            "{'牧場', '阿爾·戈爾', '美國'} set()\n",
            "{'臺灣總督府民政部', '臺灣總督府', '臺灣', '總督府', '民政部'} {'臺灣總督府民政部', '臺灣總督府', '臺灣總督府評議會', '民政部', '臺灣總督府總督官房'}\n",
            "{'名稱', '解剖學', '馬氏管', '西班牙', '馬爾切洛·馬爾皮吉'} set()\n",
            "{'瓦西里·康定斯基', '俄羅斯', '國籍', '德國', '法國', '1928年'} {'瓦西里·康定斯基'}\n",
            "{'介質', '內燃機', '電子', '動能'} set()\n",
            "{'藥物', '食物', '藥', '人類'} {'藥物', '藥', '藥物相互作用'}\n",
            "{'人種', '首都', '新西蘭', '城市', '大洋洲', '惠靈頓'} {'惠靈頓'}\n",
            "set() set()\n",
            "{'伍迪·艾倫', '正能量', '艾倫', '角色'} {'六場危事'}\n",
            "{'語言學', '語言', '丹麥語', '民族', '丹麥', '諾維亞語', '語言學家列表'} {'諾維亞語'}\n",
            "{'競爭力', '市場'} {'全球競爭力報告'}\n",
            "{'坡度', '指標', '速度', '汽車', '汽車理論'} {'汽車動力性'}\n",
            "{'京劇四大名旦', '梅蘭芳', '順天時報'} {'京劇四大名旦', '四大名旦', '梅蘭芳'}\n",
            "{'個人', '非營利組織', '組織', '利潤'} {'非營利組織'}\n",
            "{'單片機', '微型計算機'} {'單片機'}\n",
            "{'桃園市', '中華民國', '臺灣', '四縣話', '楊梅_(大字)', '楊梅區', '腔', '臺灣客家語'} {'峨眉鄉'}\n",
            "{'雨果_(電影)', '文學', '代表', '浪漫主義文學', '文學史', '維克多·雨果', '法國', '浪漫主義'} {'維克多·雨果站', '維克多·雨果故居', '維克多·雨果博物館', '維克多·雨果'}\n",
            "{'莫斯科', '天主教會', '博古', '羅馬'} set()\n",
            "{'政府', '美國聯邦政府', '醜聞', '伊拉克', '戰爭', '伊拉克戰爭', '美國'} {'伊拉克空軍', '伊拉克軍事', '伊拉克戰爭列表', '伊拉克戰爭'}\n",
            "{'南美洲', '北美洲', '歐陸舞曲', '舞曲', '歐洲大陸', '洲', '美國'} {'歐陸舞曲', '亞歷山大·瓦爾澤'}\n",
            "{'汕頭大學', '廣東省', '城市', '全球', '大學', '中華人民共和國', '私人基金會'} {'汕頭大學'}\n",
            "{'頭髮', '折射率', '光導纖維'} set()\n",
            "{'肉食性動物', '隼科', '科', '隼', '性', '猛禽', '雙翅目'} {'隼形目'}\n",
            "{'顯微鏡', '肉眼', '光學顯微鏡', '光學'} {'顯微鏡'}\n",
            "{'食', '鳩鴿科', '玉米'} set()\n",
            "{'主教座堂', '查理·曼紐爾', '查理曼'} {'查理曼'}\n",
            "{'行政區劃', '大韓民國', '區_(英格蘭)', '韓國行政區劃', '自治市', '國', '郡', '自治區'} {'韓國行政區劃', '2010年大韓民國地方選舉', '2014年大韓民國地方選舉'}\n",
            "{'學術', '研究', 'UCL', '大學', '公司'} {'UCL主樓'}\n",
            "{'西廂記', '王實甫', '元朝'} {'西廂記', '王實甫', '牆頭馬上', '紅娘'}\n",
            "{'天龍', '名稱', '反派角色', '天龍八部', '部', '龍', '慕容復', '德國'} {'遊坦之', '慕容博', '天龍八部', '康敏', '北喬峯，南慕容'}\n",
            "{'百靈屬', '鳥', '雀百靈屬', '雀形目', '屬', '百靈科', '目'} {'雀百靈屬', '林百靈', '雀科', '歌百靈屬', '角百靈屬'}\n",
            "{'天衛十', '稱謂'} {'天衛十'}\n",
            "{'氣味', '花茶', '花', '茶'} {'花茶'}\n",
            "{'魏', '三國', '曹魏', '政權', '北', '曹', '領土', '人口'} {'曹魏', '三國時期君主列表', '何祗', '三國殺Online'}\n",
            "{'魚', '骨鰾類', '淡水魚', '生活', '寄生'} {'骨鰾類'}\n",
            "{'東晉', '晉元帝', '琅邪王', '公主', '琅琊'} {'五馬渡江'}\n",
            "{'河漫灘', '父系制度', '燧人氏', '氏族', '狩獵', '氏_(消歧義)', '地區', '黃河'} {'燧人氏'}\n",
            "{'新華網', '國務院_(聖座)', '中華人民共和國國務院', '新華社', '事業單位', '網站'} {'新華社莫斯科分社', '新華網', '新華社布拉格分社', '新華社', '新華社平壤分社'}\n",
            "{'後衛', '捷克', '位置', '捷克國家足球隊', '場', '盧卡斯·赫賈'} {'帕維爾·切爾尼', '帕維爾·霍瓦特', '大衛·帕維卡', '伊萬·哈謝克', '盧卡斯·赫賈'}\n",
            "{'盛世', '隋朝', '唐朝'} {'開元盛世', '開創盛世', '永樂盛世', '盛世', '大唐電信'}\n",
            "{'細胞', '突變', '癌細胞', '基因組'} {'突變'}\n",
            "{'組合', '吠陀', '民族', '語言系屬分類', '系統', '印度教', '印度', '印度教神話'} {'吠陀梵語', '娑摩吠陀', '吠陀', '印度教神話'}\n",
            "{'林鈺婷', '工作人員', '客家民系'} set()\n",
            "{'紹興酒', '凍頂烏龍茶', '南投縣', '烏龍茶', '玉山', '香蕉'} {'南投縣', '林鳳池'}\n",
            "{'衛', '溫度', '木材', '木衛三十九', '木星的衛星', '木衛三'} {'斯科特·謝潑德', '霍爾三十九族'}\n",
            "{'鄭集', '生物', '中國'} set()\n",
            "{'披頭四樂隊', '搖滾樂'} set()\n",
            "{'歐洲民族', '語言', '歐洲', '民族', '民族國家', '地區'} {'歐洲民族'}\n",
            "{'歐洲民族', '語言', '歐洲', '民族', '民族國家', '國家'} {'歐洲民族'}\n",
            "{'王安石', '認識', '生活', '社會問題'} set()\n",
            "{'詩人', '李商隱', '詞_(文學)', '唐詩', '宋詞三百首', '唐朝末年'} {'宋詞三百首', '柳枝', '李商隱'}\n",
            "{'網景', '網景通訊家', '網頁瀏覽器', '網頁'} {'網景導航者', '網頁瀏覽器列表', '網景', '網頁瀏覽器時間線', '網景通訊家'}\n",
            "{'江戶時代', '妙義山', '江戶'} {'妙義荒船佐久高原國定公園'}\n",
            "{'喬布斯_(電影)', '一生', '蘋果公司', '史蒂夫·喬布斯'} {'蘋果公司產品列表', '微軟英雄', '勞倫·鮑威爾·喬布斯', '史蒂夫·喬布斯傳'}\n",
            "{'康熙', '市鎮', '基隆市'} {'基隆山', '雞籠生', '基隆客運', '基隆市', '臺灣基隆地方法院'}\n",
            "{'SETI@home', '程序'} set()\n",
            "{'固體', '木衛一', '硫', '平原', '木星的衛星', '二氧化硫'} set()\n",
            "{'作家', '作品', '一生', '小說', '愛倫·坡', '驚悚', '法國'} {'愛倫·坡'}\n",
            "{'阿薩姆邦', '錫克人', '信徒', '錫克教'} {'錫克人', '錫克教'}\n",
            "{'公路服務區', '公路', '泰安服務區_(臺灣)', '中山', '臺南市', '中山高速公路', '泰安市'} {'公路服務區', '西湖服務區', '泰安街道', '中山高速公路', '泰安休息站'}\n",
            "{'徐太志'} {'徐太志和孩子們', '徐太志'}\n",
            "{'高行健', '藝術', '諾貝爾獎', '小說', '道路', '戲劇', '公民', '法國'} {'高行健', '劉景烈'}\n",
            "{'象徵', '家牛', '人類', '文化', '1949年', '家', '地區', '牛族'} set()\n",
            "{'皮特·烏斯蒂諾夫', '女王', '奧斯卡金像獎', '英國君主', '奧斯卡', '伊麗莎白二世', '英國', '獎勵'} {'皮特·烏斯蒂諾夫'}\n",
            "{'亞伯拉罕·範海辛', '亞伯拉罕·路易·佈雷蓋', '亞伯拉罕·林肯', '亞伯拉罕諸教', '亞伯拉罕', 'F·莫瑞·亞伯拉罕', '斯賓塞·亞伯拉罕', '亞伯拉罕·林肯總統圖書館和博物館'} {'易卜拉欣', '亞伯拉罕諸教', '一神論', '亞伯拉罕', '有經者'}\n",
            "{'大韓民國', 'EXOM', '會計師', '黃子韜', '中國', '男子音樂組合', 'EXO'} {'Xiumin', 'EXO-K', 'EXO-M', '黃子韜', '燦烈'}\n",
            "{'透明', '軀幹', '內臟', '神農'} set()\n",
            "{'老年', '太子_(香港)', '庶出子女', '隋朝', '楊勇_(隋朝)', '隋文帝', '長子', '隋煬帝'} {'隋朝行政區劃'}\n",
            "{'奧古斯都', '提貝里烏斯', '住宅', '提比略·克勞狄烏斯·尼祿', '70', '蓋烏斯·屋大維', '提比略·格拉古'} set()\n",
            "{'臺中市', '后里區', '臺中市立啓明學校', '臺灣', '教育', '學校', '特殊教育', '流浪貓'} {'臺中市立啓明學校', '臺中市立臺中特殊教育學校', '臺北市立啓明學校', '臺中市立後綜高級中學', '臺中市立后里國民中學'}\n",
            "{'紐約州', '政府', 'SETI@home', '計算', '加利福尼亞大學柏克萊分校'} {'BOINC', 'Astropulse'}\n",
            "{'類星體', '圖像'} {'HE0450-2958', '類星體'}\n",
            "{'索馬利蘭國', '清真言', '綠色', '索馬里蘭', '索馬利蘭國旗', '言', '國旗'} {'索馬利蘭國旗'}\n",
            "{'中子', '核'} {'中子發射', '中子溫度'}\n",
            "{'司馬光'} set()\n",
            "{'馬克思主義', '馬克思·多爾穆瓦站', '格魯喬·馬克思', '卡爾·馬克思', '馬克思主義政治經濟學', '資本論', '政治經濟學', '海因裏希·馬克思'} {'河上肇', '馬克思主義政治經濟學', '政治經濟學批判大綱', '資本論', '伊拉里昂·伊格納切維奇·考夫曼'}\n",
            "{'原子', '晶體', '中國人', '中國', '馮端'} {'晶體', '晶體缺陷', '固體物理學', '晶體結構'}\n",
            "{'總統', '詹姆斯·諾克斯·波爾克', '選舉'} set()\n",
            "{'分類學', '綱', '腕鰭魚綱', '生物分類學', '桑吉巴蝴蝶魚', '印度洋'} {'桑吉巴蝴蝶魚'}\n",
            "{'寒武紀大爆發', '壁畫', '寒武紀', '寒武紀_(消歧義)', '世界'} {'寒武紀大爆發'}\n",
            "{'象', '唐朝'} {'大象露西'}\n",
            "{'新華網', '新華社', '事業單位', '網站', '世界'} {'新華社莫斯科分社', '新華網', '新華社布拉格分社', '新華社', '新華社平壤分社'}\n",
            "{'寺廟', '臺灣明鄭時期', '北極殿', '神', '明朝', '臺南北極殿', '明鄭'} set()\n",
            "{'J·R·史密斯', '凱蒂·史密斯', '威爾·史密斯', '奈史密斯籃球名人紀念堂', '詹姆斯·奈史密斯', '考·奈史密斯', '今天', '姚明'} {'大衛·斯托克頓', '奈史密斯籃球名人紀念堂', '姚明'}\n",
            "{'碼', '均勻碼理事會'} {'均勻碼理事會', '通用產品代碼'}\n",
            "{'湖南省', '中華人民共和國', '懷化市'} {'長沙市境內的湖南省文物保護單位列表', '湖南省監察委員會', '懷化市第三中學', '湖南省林業局', '湖南省博物館列表'}\n",
            "{'差異_(哲學)', '發動機', '電動機'} {'電動機'}\n",
            "{'雷神', '雷神_(電影)', '費爾南多·索爾', '北歐神話', '神', '索爾', '索爾_(漫威漫畫)', '索爾·巴斯'} {'索爾'}\n",
            "{'內畫壺', '技術', '世紀', '作品'} set()\n",
            "{'王立_(1966年)', '薄熙來', '王立軍事件', '副總理', '事件', '兒子', '國務院', '王立軍'} {'薄熙來', '王立軍案', '薄熙來事件'}\n",
            "{'林義雄', '政府', '美麗島', '親屬', '美麗島事件', '事件'} set()\n",
            "{'海軍', '軍艦', '路易·德·奧爾良_(1703年—1752年)', '路易十四', '戰爭', '法國'} set()\n",
            "{'牙醫學系', '臺北', '經營者', '李祖德', '臺北醫學大學'} {'李祖德'}\n",
            "{'環', '奧迪'} {'茨維考', '奧迪'}\n",
            "{'共和黨'} set()\n",
            "{'SETI@home', '程序', '用戶_(計算機)'} {'SETI@home'}\n",
            "{'俄刻阿諾斯', '妻子', '忒堤斯', '神', '提坦', '太平洋'} {'忒堤斯', '俄刻阿諾斯'}\n",
            "{'汽油', '碳', '液體', '脂肪醇', '壬醇', '正壬醇'} {'脂肪醇', '壬醇', '正癸醇', '1-辛醇', '正壬醇'}\n",
            "{'手工藝', '美學', '餐', '工藝'} {'手工藝'}\n",
            "{'亨利', '王', '英格蘭', '16世紀', '英格蘭教會', '宗教改革', '世紀', '亨利八世', '世', '改革', '教會'} {'英格蘭宗教改革', '徹底的宗教改革', '英格蘭教會'}\n",
            "{'亂世佳人_(2007年電視劇)', '費雯·麗', '明星', '美國電影學會', '亂世佳人'} {'AFI百年百大電影臺詞', 'AFI百年百大電影', 'AFI百年百大愛情電影', 'AFI百年系列', 'AFI百年百大喜劇電影'}\n",
            "{'茶葉蛋', '茶'} {'茶葉蛋事件', '茶葉蛋'}\n",
            "{'印象派', '香港'} {'那比派'}\n",
            "{'發展', '交通', '臺灣', '電氣化鐵路', '臺灣交通'} {'電氣化鐵路', '馬來西亞鐵路電氣化項目'}\n",
            "{'民族主義', '政府', '1965年', '臺灣獨立運動', '中華民國', '臺灣', '廖文毅', '先驅', '中華民國政府', '臺灣民族主義'} {'廖史豪', '臺灣共和國臨時政府國旗', '臺灣共和國臨時政府', '黃紀男', '廖文毅'}\n",
            "{'托馬斯·庫恩', '庫恩', '作品', '科學革命', '科學革命的結構', '科學史'} {'亞歷山大·誇黑', '科學革命的結構', '托馬斯·庫恩'}\n",
            "{'民國', '臺灣省政府', '臺中市大里區大元國民小學'} {'臺中市大里區大里國民小學', '臺中市大里區永隆國民小學', '臺中市大里區益民國民小學', '臺中市大里區大元國民小學'}\n",
            "{'肥胖症'} set()\n",
            "{'鐵路列車', '幻想', '性幻想'} {'幻想', '強暴幻想', '性幻想'}\n",
            "{'教授', '主幹_(軟件)', '臺灣', '中國語文學系', '停雲詩社', '國立臺灣師範大學'} {'魯實先', '石曉楓', '餘培林', '停雲詩社', '林保淳'}\n",
            "{'政治家', '兒子', '阿卜杜勒侯賽因·米爾扎·法爾曼法爾馬'} {'阿卜杜勒·馬吉德·米爾扎', '阿卜杜勒-侯賽因·米爾扎·法爾曼法爾馬'}\n",
            "{'希臘神話', '名稱', '神話_(組合)', '希臘', '神話', '處_(佛教)', '木衛三', '天體物理學'} {'天體粒子物理學', '天文學家'}\n",
            "{'藥物', '小時', '阿托品', '癲癇', '靜脈注射', '注射', '劑量'} {'阿托品'}\n",
            "{'地形', '佈局_(圍棋)', '張谷英村', '語氣', '水', '漢族', '張谷英', '中國'} {'張谷英村', '張谷英'}\n",
            "{'貿易', '興盛', '粵菜', '廣東省', '菜系'} {'粵菜'}\n",
            "{'中部', '城市', '銀川市', '銀川平原'} {'銀川平原', '石嘴山市', '1739年平羅地震', '銀川市', '銀川專區'}\n",
            "{'茴芹屬', '花', '茴芹', '植物', '動物', '中國'} {'茴芹屬', '雲南茴芹', '落新婦茴芹', '中甸茴芹', '木裏茴芹'}\n",
            "{'靈感', '工藝', '手工藝', '作品'} {'手工業', '手工藝'}\n",
            "{'薇拉·費茲傑羅', '了不起的蓋茨比', '喬治·費茲傑羅', '弗朗西斯·斯科特·菲茨傑拉德'} {'巧克力蛋糕', '鱷梨蛋糕', '尼克·卡拉威', '弗朗西斯·斯科特·菲茨傑拉德'}\n",
            "{'花旗銀行', '城市', '美洲', '總部', '人口'} {'花旗銀行', '花旗銀行（中國）', '花旗（臺灣）商業銀行'}\n",
            "{'臺灣', '祭祀', '阿美族', '祭_(日本)'} {'國家祭典', '日本祭典列表', '阿美族'}\n",
            "{'衍射', '晶體', '晶體學', '波'} {'X射線衍射儀', 'X射線晶體學', '晶體學'}\n",
            "{'好萊塢', '餐廳', '成龍', '成功', '美國', '廚師'} {'屬貓廚師'}\n",
            "{'非洲', '汽車', '超級跑車', '跑車', '總部', '豪華汽車', '臺灣機車', '奧迪'} {'豪華汽車', '汽車產業', '意大利設計-喬治亞羅公司', '奧迪'}\n",
            "{'阿曼蘇丹', '蘇丹_(稱謂)', '阿曼', '國', '拉丁美洲'} {'阿曼駐華大使列表', '阿曼蘇丹', '中國駐阿曼大使列表', '馬斯喀特省', '阿曼首相'}\n",
            "{'象徵', '人類', '2020', '文化', '家牛', '地區', '法律', '牛族'} set()\n",
            "{'竹東_(大字)', '林鈺婷', '客家民系'} {'林鈺婷', '竹東神社'}\n",
            "{'德國', '震盪波蠕蟲', '少年'} set()\n",
            "{'洞裏薩湖', '柬埔寨', '金邊', '淡水湖', '世界'} {'柬埔寨王家空軍', '洞裏薩湖', '柬埔寨', '柬埔寨機場列表', '金邊國際機場'}\n",
            "{'立法院立法委員選舉', '全國不分區及僑居國外國民立法委員選舉區', '2020', '劉一德', '黨', '臺灣團結聯盟', '國', '主席', '政黨領袖'} {'臺灣團結聯盟'}\n",
            "{'氰化氫', '水溶液', '頻率', '氰化鋰', '溶液', '鹼', '氰化鈉'} {'氰化鋁', '氰化氫', '氰化銀', '氰化鋰', '氰化鈉'}\n",
            "{'漫畫', '漫威', '藍色', '勇度', '漫威漫畫', '人物'} {'漫威影業：傳奇角色', '漫威'}\n",
            "{'臺中市', '臺中市立啓明學校', '臺灣', '教育', '學校', '特殊教育'} {'臺北市立啓明學校', '臺中市立啓聰學校', '臺中市立啓明學校', '臺中市立臺中特殊教育學校'}\n",
            "{'本名', '上海市', '北京航空航天大學'} {'北京航空航天大學沙河校區', '北京航空航天大學飛行學院', '北京航空航天大學校史', '北京航空航天大學出版社', '北京航空航天大學校友列表'}\n",
            "{'總統', '政府首腦', '立法機關', '行政機關', '總統制'} {'總統制'}\n",
            "{'小龍女', '楊過'} {'小龍女'}\n",
            "{'文森特·梵高', '傳教士'} {'文森特·梵高'}\n",
            "{'學院', '北京理工大學'} {'華北理工大學'}\n",
            "{'喬治·艾略特', 'T·S·艾略特', '艾略特·內斯', '金馬獎', '查爾斯·艾略特', '艾略特·克雷松獎章', '艾略特', '艾略特·高登索'} {'查爾斯·艾略特', 'T·S·艾略特'}\n",
            "{'蘇格蘭足球聯賽', '英格蘭足球超級聯賽', '蘇格蘭', '蘇格蘭足球聯賽系統'} {'蘇格蘭足球丙級聯賽', '蘇格蘭足球冠軍聯賽', '蘇格蘭足球超級聯賽', '蘇格蘭足球聯賽超級聯賽', '英超亞洲盃'}\n",
            "{'隕石', '量_(物理)', '面_(幾何)', '天衛四', '天衛三', '撞擊坑'} set()\n",
            "{'射電天文學', '卡爾·央斯基', '卡爾', '天文學', '央斯基', '先驅', '無線電', '美國'} {'卡爾·央斯基', '卡爾', '央斯基', '央斯基環形山', '格羅特·雷伯'}\n",
            "{'妻子', '亞歷山德拉·墨索里尼', '羅曼諾·貝尼託·弗洛里亞尼·墨索里尼', '貝尼託·墨索里尼', '屍體', '雷切爾·墨索里尼'} set()\n",
            "{'部落', '人物_(美國雜誌)', '古羅馬', '三苗', '苗', '長江', '上古時代', '戰國時期', '戰國_(漫畫)', '河南省', '古希臘'} {'三苗'}\n",
            "{'外海街道', '海里', '漁船', '海', '行政院', '兒童節', '蘭嶼', '達悟族'} {'達悟族'}\n",
            "{'印象派', '法國', '世紀'} {'那比派', '後印象派'}\n",
            "{'部落', '人物_(美國雜誌)', '三苗', '苗', '長江', '上古時代', '戰國時期', '戰國_(漫畫)', '河南省'} {'三苗'}\n",
            "{'兒童', '英國', '威廉·莎士比亞', '演員', '小孩_(電影)'} {'威廉·莎士比亞', '莎士比亞全集', '尼可拉斯·莎士比亞'}\n",
            "{'通信系統', '富蘭克林_(維吉尼亞州)', '第一人', '本傑明·富蘭克林'} set()\n",
            "{'臺北', '臺灣總督府臺北高等學校', '臺灣總督府', '臺灣', '總督府', '日治時期', '1922年', '學校'} {'臺灣總督府民政部', '臺灣總督府臺北高等學校', '臺灣總督府評議會', '臺北高等學校講堂', '臺灣總督府高等商業學校'}\n",
            "{'高等教育', '倫敦大學', '泰晤士高等教育', '英國', '倫敦大學學院', '泰晤士', '大學', '泰晤士高等教育世界大學排名'} {'泰晤士高等教育-QS世界大學排名', '泰晤士高等教育世界大學排名'}\n",
            "{'魚', '資興市', '湘江'} set()\n",
            "{'字', '複數', '分鐘', 'Min', '分'} {'MIN·MIN·MIN', '分鐘', 'Min'}\n",
            "{'威廉·亨利·哈里森', '管理學'} {'安娜·哈里遜', '1840年美國總統選舉'}\n",
            "{'文字', '臺灣', '白話', '主流', '白話字'} {'客家白話字', '海南話白話字'}\n",
            "{'長江', '汾河', '中國'} {'汾河鎮', '汾河街道', '汾河片', '汾河鱷屬', '汾河公園'}\n",
            "{'紐約', '泰坦尼克號', '贊助', '首飛'} {'鐵達尼號船員列表'}\n",
            "{'亞洲', '品質', '創新', '信念', '麗臺科技'} set()\n",
            "{'功能', '自然災害', '秋紅谷廣場'} {'秋紅谷廣場'}\n",
            "{'保守主義', '斯科特·布赫茲', '澳大利亞', '政黨', '主義'} set()\n"
          ]
        }
      ],
      "source": [
        "results_df = pd.merge(pd.Series([line for line in test_results_aicup], name=\"aicup\"), \n",
        "                      pd.Series([line for line in test_results_tfidf], name=\"tfidf\"), right_index=True, left_index=True)\n",
        "test_results = results_df.apply(union_result, axis=1)\n",
        "save_doc(TEST_DATA, test_results, mode=\"test\")"
      ]
    },
    {
      "cell_type": "code",
      "execution_count": 20,
      "metadata": {},
      "outputs": [],
      "source": [
        "del wiki_pages"
      ]
    },
    {
      "attachments": {},
      "cell_type": "markdown",
      "metadata": {
        "id": "Ol4zFkSbjgXF"
      },
      "source": [
        "notebook2\n",
        "## PART 2. Sentence retrieval"
      ]
    },
    {
      "attachments": {},
      "cell_type": "markdown",
      "metadata": {},
      "source": [
        "Import some libs"
      ]
    },
    {
      "cell_type": "code",
      "execution_count": 40,
      "metadata": {
        "id": "GlliDsgXjisj"
      },
      "outputs": [],
      "source": [
        "from pathlib import Path\n",
        "from typing import Dict, List, Set, Tuple, Union\n",
        "\n",
        "# third-party libs\n",
        "import numpy as np\n",
        "import pandas as pd\n",
        "from pandarallel import pandarallel\n",
        "from sklearn.model_selection import train_test_split\n",
        "from tqdm.auto import tqdm\n",
        "\n",
        "import torch\n",
        "import torch.nn as nn\n",
        "from torch.optim import AdamW\n",
        "from torch.utils.data import DataLoader\n",
        "from torch.utils.tensorboard import SummaryWriter\n",
        "from transformers import (\n",
        "    AutoModelForSequenceClassification,\n",
        "    AutoTokenizer,\n",
        "    get_scheduler,\n",
        ")\n",
        "\n",
        "from dataset import BERTDataset, Dataset\n",
        "\n",
        "# local libs\n",
        "from utils import (\n",
        "    generate_evidence_to_wiki_pages_mapping,\n",
        "    jsonl_dir_to_df,\n",
        "    load_json,\n",
        "    load_model,\n",
        "    save_checkpoint,\n",
        "    set_lr_scheduler,\n",
        ")\n",
        "\n",
        "pandarallel.initialize(progress_bar=True, verbose=0, nb_workers=10)"
      ]
    },
    {
      "attachments": {},
      "cell_type": "markdown",
      "metadata": {},
      "source": [
        "Global variable"
      ]
    },
    {
      "cell_type": "code",
      "execution_count": 41,
      "metadata": {
        "id": "J3BBLE3_hlPi"
      },
      "outputs": [],
      "source": [
        "SEED = 42\n",
        "\n",
        "TRAIN_DATA = load_json(\"data/public_train.jsonl\")\n",
        "TEST_DATA = load_json(\"data/public_test.jsonl\")\n",
        "DOC_DATA = load_json(\"data/train_doc5.jsonl\")\n",
        "\n",
        "LABEL2ID: Dict[str, int] = {\n",
        "    \"supports\": 0,\n",
        "    \"refutes\": 1,\n",
        "    \"NOT ENOUGH INFO\": 2,\n",
        "}\n",
        "ID2LABEL: Dict[int, str] = {v: k for k, v in LABEL2ID.items()}\n",
        "\n",
        "_y = [LABEL2ID[data[\"label\"]] for data in TRAIN_DATA]\n",
        "# GT means Ground Truth\n",
        "TRAIN_GT, DEV_GT = train_test_split(\n",
        "    DOC_DATA,\n",
        "    test_size=0.2,\n",
        "    random_state=SEED,\n",
        "    shuffle=True,\n",
        "    stratify=_y,\n",
        ")"
      ]
    },
    {
      "attachments": {},
      "cell_type": "markdown",
      "metadata": {},
      "source": [
        "Preload wiki database (1 min)"
      ]
    },
    {
      "cell_type": "code",
      "execution_count": 42,
      "metadata": {},
      "outputs": [
        {
          "name": "stdout",
          "output_type": "stream",
          "text": [
            "Reading and concatenating jsonl files in data/wiki-pages\n",
            "Generate parse mapping\n"
          ]
        },
        {
          "data": {
            "application/vnd.jupyter.widget-view+json": {
              "model_id": "7614094f1524426bba142f977c869449",
              "version_major": 2,
              "version_minor": 0
            },
            "text/plain": [
              "VBox(children=(HBox(children=(IntProgress(value=0, description='0.00%', max=118776), Label(value='0 / 118776')…"
            ]
          },
          "metadata": {},
          "output_type": "display_data"
        }
      ],
      "source": [
        "wiki_pages = jsonl_dir_to_df(\"data/wiki-pages\")\n",
        "mapping = generate_evidence_to_wiki_pages_mapping(wiki_pages)\n",
        "del wiki_pages"
      ]
    },
    {
      "attachments": {},
      "cell_type": "markdown",
      "metadata": {},
      "source": [
        "### Helper function"
      ]
    },
    {
      "attachments": {},
      "cell_type": "markdown",
      "metadata": {},
      "source": [
        "Calculate precision for sentence retrieval"
      ]
    },
    {
      "cell_type": "code",
      "execution_count": null,
      "metadata": {},
      "outputs": [],
      "source": [
        "def evidence_macro_precision(\n",
        "    instance: Dict,\n",
        "    top_rows: pd.DataFrame,\n",
        ") -> Tuple[float, float]:\n",
        "    \"\"\"Calculate precision for sentence retrieval\n",
        "    This function is modified from fever-scorer.\n",
        "    https://github.com/sheffieldnlp/fever-scorer/blob/master/src/fever/scorer.py\n",
        "\n",
        "    Args:\n",
        "        instance (dict): a row of the dev set (dev.jsonl) of test set (test.jsonl)\n",
        "        top_rows (pd.DataFrame): our predictions with the top probabilities\n",
        "\n",
        "        IMPORTANT!!!\n",
        "        instance (dict) should have the key of `evidence`.\n",
        "        top_rows (pd.DataFrame) should have a column `predicted_evidence`.\n",
        "\n",
        "    Returns:\n",
        "        Tuple[float, float]:\n",
        "        [1]: relevant and retrieved (numerator of precision)\n",
        "        [2]: retrieved (denominator of precision)\n",
        "    \"\"\"\n",
        "    this_precision = 0.0\n",
        "    this_precision_hits = 0.0\n",
        "\n",
        "    # Return 0, 0 if label is not enough info since not enough info does not\n",
        "    # contain any evidence.\n",
        "    if instance[\"label\"].upper() != \"NOT ENOUGH INFO\":\n",
        "        # e[2] is the page title, e[3] is the sentence index\n",
        "        all_evi = [[e[2], e[3]]\n",
        "                   for eg in instance[\"evidence\"]\n",
        "                   for e in eg\n",
        "                   if e[3] is not None]\n",
        "        claim = instance[\"claim\"]\n",
        "        predicted_evidence = top_rows[top_rows[\"claim\"] ==\n",
        "                                      claim][\"predicted_evidence\"].tolist()\n",
        "\n",
        "        for prediction in predicted_evidence:\n",
        "            if prediction in all_evi:\n",
        "                this_precision += 1.0\n",
        "            this_precision_hits += 1.0\n",
        "\n",
        "        return (this_precision /\n",
        "                this_precision_hits) if this_precision_hits > 0 else 1.0, 1.0\n",
        "\n",
        "    return 0.0, 0.0"
      ]
    },
    {
      "attachments": {},
      "cell_type": "markdown",
      "metadata": {},
      "source": [
        "Calculate recall for sentence retrieval"
      ]
    },
    {
      "cell_type": "code",
      "execution_count": null,
      "metadata": {},
      "outputs": [],
      "source": [
        "def evidence_macro_recall(\n",
        "    instance: Dict,\n",
        "    top_rows: pd.DataFrame,\n",
        ") -> Tuple[float, float]:\n",
        "    \"\"\"Calculate recall for sentence retrieval\n",
        "    This function is modified from fever-scorer.\n",
        "    https://github.com/sheffieldnlp/fever-scorer/blob/master/src/fever/scorer.py\n",
        "\n",
        "    Args:\n",
        "        instance (dict): a row of the dev set (dev.jsonl) of test set (test.jsonl)\n",
        "        top_rows (pd.DataFrame): our predictions with the top probabilities\n",
        "\n",
        "        IMPORTANT!!!\n",
        "        instance (dict) should have the key of `evidence`.\n",
        "        top_rows (pd.DataFrame) should have a column `predicted_evidence`.\n",
        "\n",
        "    Returns:\n",
        "        Tuple[float, float]:\n",
        "        [1]: relevant and retrieved (numerator of recall)\n",
        "        [2]: relevant (denominator of recall)\n",
        "    \"\"\"\n",
        "    # We only want to score F1/Precision/Recall of recalled evidence for NEI claims\n",
        "    if instance[\"label\"].upper() != \"NOT ENOUGH INFO\":\n",
        "        # If there's no evidence to predict, return 1\n",
        "        if len(instance[\"evidence\"]) == 0 or all(\n",
        "            [len(eg) == 0 for eg in instance]):\n",
        "            return 1.0, 1.0\n",
        "\n",
        "        claim = instance[\"claim\"]\n",
        "\n",
        "        predicted_evidence = top_rows[top_rows[\"claim\"] ==\n",
        "                                      claim][\"predicted_evidence\"].tolist()\n",
        "\n",
        "        for evidence_group in instance[\"evidence\"]:\n",
        "            evidence = [[e[2], e[3]] for e in evidence_group]\n",
        "            if all([item in predicted_evidence for item in evidence]):\n",
        "                # We only want to score complete groups of evidence. Incomplete\n",
        "                # groups are worthless.\n",
        "                return 1.0, 1.0\n",
        "        return 0.0, 1.0\n",
        "    return 0.0, 0.0"
      ]
    },
    {
      "attachments": {},
      "cell_type": "markdown",
      "metadata": {},
      "source": [
        "Calculate the scores of sentence retrieval"
      ]
    },
    {
      "cell_type": "code",
      "execution_count": null,
      "metadata": {},
      "outputs": [],
      "source": [
        "def evaluate_retrieval(\n",
        "    probs: np.ndarray,\n",
        "    df_evidences: pd.DataFrame,\n",
        "    ground_truths: pd.DataFrame,\n",
        "    top_n: int = 5,\n",
        "    cal_scores: bool = True,\n",
        "    save_name: str = None,\n",
        ") -> Dict[str, float]:\n",
        "    \"\"\"Calculate the scores of sentence retrieval\n",
        "\n",
        "    Args:\n",
        "        probs (np.ndarray): probabilities of the candidate retrieved sentences\n",
        "        df_evidences (pd.DataFrame): the candiate evidence sentences paired with claims\n",
        "        ground_truths (pd.DataFrame): the loaded data of dev.jsonl or test.jsonl\n",
        "        top_n (int, optional): the number of the retrieved sentences. Defaults to 2.\n",
        "\n",
        "    Returns:\n",
        "        Dict[str, float]: F1 score, precision, and recall\n",
        "    \"\"\"\n",
        "    df_evidences[\"prob\"] = probs\n",
        "    top_rows = (\n",
        "        df_evidences.groupby(\"claim\").apply(\n",
        "        lambda x: x.nlargest(top_n, \"prob\"))\n",
        "        .reset_index(drop=True)\n",
        "    )\n",
        "\n",
        "    if cal_scores:\n",
        "        macro_precision = 0\n",
        "        macro_precision_hits = 0\n",
        "        macro_recall = 0\n",
        "        macro_recall_hits = 0\n",
        "\n",
        "        for i, instance in enumerate(ground_truths):\n",
        "            macro_prec = evidence_macro_precision(instance, top_rows)\n",
        "            macro_precision += macro_prec[0]\n",
        "            macro_precision_hits += macro_prec[1]\n",
        "\n",
        "            macro_rec = evidence_macro_recall(instance, top_rows)\n",
        "            macro_recall += macro_rec[0]\n",
        "            macro_recall_hits += macro_rec[1]\n",
        "\n",
        "        pr = (macro_precision /\n",
        "              macro_precision_hits) if macro_precision_hits > 0 else 1.0\n",
        "        rec = (macro_recall /\n",
        "               macro_recall_hits) if macro_recall_hits > 0 else 0.0\n",
        "        f1 = 2.0 * pr * rec / (pr + rec)\n",
        "\n",
        "    if save_name is not None:\n",
        "        # write doc7_sent5 file\n",
        "        with open(f\"data/{save_name}\", \"w\", encoding=\"utf8\") as f:\n",
        "            for instance in ground_truths:\n",
        "                claim = instance[\"claim\"]\n",
        "                predicted_evidence = top_rows[\n",
        "                    top_rows[\"claim\"] == claim][\"predicted_evidence\"].tolist()\n",
        "                instance[\"predicted_evidence\"] = predicted_evidence\n",
        "                f.write(json.dumps(instance, ensure_ascii=False) + \"\\n\")\n",
        "\n",
        "    if cal_scores:\n",
        "        return {\"F1 score\": f1, \"Precision\": pr, \"Recall\": rec}"
      ]
    },
    {
      "attachments": {},
      "cell_type": "markdown",
      "metadata": {},
      "source": [
        "Inference script to get probabilites for the candidate evidence sentences"
      ]
    },
    {
      "cell_type": "code",
      "execution_count": null,
      "metadata": {},
      "outputs": [],
      "source": [
        "def get_predicted_probs(\n",
        "    model: nn.Module,\n",
        "    dataloader: Dataset,\n",
        "    device: torch.device,\n",
        ") -> np.ndarray:\n",
        "    \"\"\"Inference script to get probabilites for the candidate evidence sentences\n",
        "\n",
        "    Args:\n",
        "        model: the one from HuggingFace Transformers\n",
        "        dataloader: devset or testset in torch dataloader\n",
        "\n",
        "    Returns:\n",
        "        np.ndarray: probabilites of the candidate evidence sentences\n",
        "    \"\"\"\n",
        "    model.eval()\n",
        "    probs = []\n",
        "\n",
        "    with torch.no_grad():\n",
        "        for batch in tqdm(dataloader):\n",
        "            batch = {k: v.to(device) for k, v in batch.items()}\n",
        "            outputs = model(**batch)\n",
        "            logits = outputs.logits\n",
        "            probs.extend(torch.softmax(logits, dim=1)[:, 1].tolist())\n",
        "\n",
        "    return np.array(probs)"
      ]
    },
    {
      "attachments": {},
      "cell_type": "markdown",
      "metadata": {},
      "source": [
        "AicupTopkEvidenceBERTDataset class for AICUP dataset with top-k evidence sentences"
      ]
    },
    {
      "cell_type": "code",
      "execution_count": null,
      "metadata": {},
      "outputs": [],
      "source": [
        "class SentRetrievalBERTDataset(BERTDataset):\n",
        "    \"\"\"AicupTopkEvidenceBERTDataset class for AICUP dataset with top-k evidence sentences.\"\"\"\n",
        "\n",
        "    def __getitem__(\n",
        "        self,\n",
        "        idx: int,\n",
        "        **kwargs,\n",
        "    ) -> Tuple[Dict[str, torch.Tensor], int]:\n",
        "        item = self.data.iloc[idx]\n",
        "        sentA = item[\"claim\"]\n",
        "        sentB = item[\"text\"]\n",
        "\n",
        "        # claim [SEP] text\n",
        "        concat = self.tokenizer(\n",
        "            sentA,\n",
        "            sentB,\n",
        "            padding=\"max_length\",\n",
        "            max_length=self.max_length,\n",
        "            truncation=True,\n",
        "        )\n",
        "        concat_ten = {k: torch.tensor(v) for k, v in concat.items()}\n",
        "        if \"label\" in item:\n",
        "            concat_ten[\"labels\"] = torch.tensor(item[\"label\"])\n",
        "\n",
        "        return concat_ten"
      ]
    },
    {
      "attachments": {},
      "cell_type": "markdown",
      "metadata": {},
      "source": [
        "### Main function for sentence retrieval"
      ]
    },
    {
      "cell_type": "code",
      "execution_count": null,
      "metadata": {
        "id": "gpvXpFwXszfv"
      },
      "outputs": [],
      "source": [
        "def pair_with_wiki_sentences(\n",
        "    mapping: Dict[str, Dict[int, str]],\n",
        "    df: pd.DataFrame,\n",
        "    negative_ratio: float,\n",
        ") -> pd.DataFrame:\n",
        "    \"\"\"Only for creating train sentences.\"\"\"\n",
        "    claims = []\n",
        "    sentences = []\n",
        "    labels = []\n",
        "\n",
        "    # positive\n",
        "    for i in range(len(df)):\n",
        "        if df[\"label\"].iloc[i] == \"NOT ENOUGH INFO\":\n",
        "            continue\n",
        "\n",
        "        claim = df[\"claim\"].iloc[i]\n",
        "        evidence_sets = df[\"evidence\"].iloc[i]\n",
        "        for evidence_set in evidence_sets:\n",
        "            sents = []\n",
        "            for evidence in evidence_set:\n",
        "                # evidence[2] is the page title\n",
        "                page = evidence[2].replace(\" \", \"_\")\n",
        "                # the only page with weird name\n",
        "                if page == \"臺灣海峽危機#第二次臺灣海峽危機（1958）\":\n",
        "                    continue\n",
        "                # evidence[3] is in form of int however, mapping requires str\n",
        "                sent_idx = str(evidence[3])\n",
        "                sents.append(mapping[page][sent_idx])\n",
        "\n",
        "            whole_evidence = \" \".join(sents)\n",
        "\n",
        "            claims.append(claim)\n",
        "            sentences.append(whole_evidence)\n",
        "            labels.append(1)\n",
        "\n",
        "    # negative\n",
        "    for i in range(len(df)):\n",
        "        if df[\"label\"].iloc[i] == \"NOT ENOUGH INFO\":\n",
        "            continue\n",
        "        claim = df[\"claim\"].iloc[i]\n",
        "\n",
        "        evidence_set = set([(evidence[2], evidence[3])\n",
        "                            for evidences in df[\"evidence\"][i]\n",
        "                            for evidence in evidences])\n",
        "        predicted_pages = df[\"predicted_pages\"][i]\n",
        "        for page in predicted_pages:\n",
        "            page = page.replace(\" \", \"_\")\n",
        "            try:\n",
        "                page_sent_id_pairs = [\n",
        "                    (page, sent_idx) for sent_idx in mapping[page].keys()\n",
        "                ]\n",
        "            except KeyError:\n",
        "                # print(f\"{page} is not in our Wiki db.\")\n",
        "                continue\n",
        "\n",
        "            for pair in page_sent_id_pairs:\n",
        "                if pair in evidence_set:\n",
        "                    continue\n",
        "                text = mapping[page][pair[1]]\n",
        "                # `np.random.rand(1) <= 0.05`: Control not to add too many negative samples\n",
        "                if text != \"\" and np.random.rand(1) <= negative_ratio:\n",
        "                    claims.append(claim)\n",
        "                    sentences.append(text)\n",
        "                    labels.append(0)\n",
        "\n",
        "    return pd.DataFrame({\"claim\": claims, \"text\": sentences, \"label\": labels})\n",
        "\n",
        "\n",
        "def pair_with_wiki_sentences_eval(\n",
        "    mapping: Dict[str, Dict[int, str]],\n",
        "    df: pd.DataFrame,\n",
        "    is_testset: bool = False,\n",
        ") -> pd.DataFrame:\n",
        "    \"\"\"Only for creating dev and test sentences.\"\"\"\n",
        "    claims = []\n",
        "    sentences = []\n",
        "    evidence = []\n",
        "    predicted_evidence = []\n",
        "\n",
        "    # negative\n",
        "    for i in range(len(df)):\n",
        "        # if df[\"label\"].iloc[i] == \"NOT ENOUGH INFO\":\n",
        "        #     continue\n",
        "        claim = df[\"claim\"].iloc[i]\n",
        "\n",
        "        predicted_pages = df[\"predicted_pages\"][i]\n",
        "        for page in predicted_pages:\n",
        "            page = page.replace(\" \", \"_\")\n",
        "            try:\n",
        "                page_sent_id_pairs = [(page, k) for k in mapping[page]]\n",
        "            except KeyError:\n",
        "                # print(f\"{page} is not in our Wiki db.\")\n",
        "                continue\n",
        "\n",
        "            for page_name, sentence_id in page_sent_id_pairs:\n",
        "                text = mapping[page][sentence_id]\n",
        "                if text != \"\":\n",
        "                    claims.append(claim)\n",
        "                    sentences.append(text)\n",
        "                    if not is_testset:\n",
        "                        evidence.append(df[\"evidence\"].iloc[i])\n",
        "                    predicted_evidence.append([page_name, int(sentence_id)])\n",
        "\n",
        "    return pd.DataFrame({\n",
        "        \"claim\": claims,\n",
        "        \"text\": sentences,\n",
        "        \"evidence\": evidence if not is_testset else None,\n",
        "        \"predicted_evidence\": predicted_evidence,\n",
        "    })"
      ]
    },
    {
      "attachments": {},
      "cell_type": "markdown",
      "metadata": {},
      "source": [
        "### Step 1. Setup training environment"
      ]
    },
    {
      "attachments": {},
      "cell_type": "markdown",
      "metadata": {},
      "source": [
        "Hyperparams"
      ]
    },
    {
      "cell_type": "code",
      "execution_count": null,
      "metadata": {},
      "outputs": [],
      "source": [
        "MODEL_NAME = \"bert-base-chinese\"  #@param {type:\"string\"}\n",
        "NUM_EPOCHS = 1  #@param {type:\"integer\"}\n",
        "LR = 2e-5  #@param {type:\"number\"}\n",
        "TRAIN_BATCH_SIZE = 64  #@param {type:\"integer\"}\n",
        "TEST_BATCH_SIZE = 256  #@param {type:\"integer\"}\n",
        "NEGATIVE_RATIO = 0.03  #@param {type:\"number\"}\n",
        "VALIDATION_STEP = 50  #@param {type:\"integer\"}\n",
        "TOP_N = 5  #@param {type:\"integer\"}\n",
        "#@title  { display-mode: \"form\" }"
      ]
    },
    {
      "attachments": {},
      "cell_type": "markdown",
      "metadata": {},
      "source": [
        "Experiment Directory"
      ]
    },
    {
      "cell_type": "code",
      "execution_count": null,
      "metadata": {
        "id": "ToLvE9oxIXQo"
      },
      "outputs": [],
      "source": [
        "EXP_DIR = f\"sent_retrieval/e{NUM_EPOCHS}_bs{TRAIN_BATCH_SIZE}_\" + f\"{LR}_neg{NEGATIVE_RATIO}_top{TOP_N}\"\n",
        "LOG_DIR = \"logs/\" + EXP_DIR\n",
        "CKPT_DIR = \"checkpoints/\" + EXP_DIR\n",
        "\n",
        "if not Path(LOG_DIR).exists():\n",
        "    Path(LOG_DIR).mkdir(parents=True)\n",
        "\n",
        "if not Path(CKPT_DIR).exists():\n",
        "    Path(CKPT_DIR).mkdir(parents=True)"
      ]
    },
    {
      "attachments": {},
      "cell_type": "markdown",
      "metadata": {},
      "source": [
        "### Step 2. Combine claims and evidences"
      ]
    },
    {
      "cell_type": "code",
      "execution_count": 17,
      "metadata": {
        "id": "4A5vWEzPiXGF"
      },
      "outputs": [
        {
          "name": "stdout",
          "output_type": "stream",
          "text": [
            "Now using the following train data with 0 (Negative) and 1 (Positive)\n",
            "0    3347\n",
            "1    2774\n",
            "Name: label, dtype: int64\n"
          ]
        }
      ],
      "source": [
        "train_df = pair_with_wiki_sentences(\n",
        "    mapping,\n",
        "    pd.DataFrame(TRAIN_GT),\n",
        "    NEGATIVE_RATIO,\n",
        ")\n",
        "counts = train_df[\"label\"].value_counts()\n",
        "print(\"Now using the following train data with 0 (Negative) and 1 (Positive)\")\n",
        "print(counts)\n",
        "\n",
        "dev_evidences = pair_with_wiki_sentences_eval(mapping, pd.DataFrame(DEV_GT))"
      ]
    },
    {
      "attachments": {},
      "cell_type": "markdown",
      "metadata": {},
      "source": [
        "### Step 3. Start training"
      ]
    },
    {
      "attachments": {},
      "cell_type": "markdown",
      "metadata": {},
      "source": [
        "Dataloader things"
      ]
    },
    {
      "cell_type": "code",
      "execution_count": 18,
      "metadata": {
        "id": "l48WifjeIGui"
      },
      "outputs": [],
      "source": [
        "tokenizer = AutoTokenizer.from_pretrained(MODEL_NAME)\n",
        "\n",
        "train_dataset = SentRetrievalBERTDataset(train_df, tokenizer=tokenizer)\n",
        "val_dataset = SentRetrievalBERTDataset(dev_evidences, tokenizer=tokenizer)\n",
        "\n",
        "train_dataloader = DataLoader(\n",
        "    train_dataset,\n",
        "    shuffle=True,\n",
        "    batch_size=TRAIN_BATCH_SIZE,\n",
        ")\n",
        "eval_dataloader = DataLoader(val_dataset, batch_size=TEST_BATCH_SIZE)"
      ]
    },
    {
      "attachments": {},
      "cell_type": "markdown",
      "metadata": {},
      "source": [
        "Save your memory."
      ]
    },
    {
      "cell_type": "code",
      "execution_count": 19,
      "metadata": {},
      "outputs": [],
      "source": [
        "del train_df"
      ]
    },
    {
      "attachments": {},
      "cell_type": "markdown",
      "metadata": {},
      "source": [
        "Trainer"
      ]
    },
    {
      "cell_type": "code",
      "execution_count": 20,
      "metadata": {
        "id": "4rl_u0YbeQtY"
      },
      "outputs": [
        {
          "name": "stdout",
          "output_type": "stream",
          "text": [
            "True\n"
          ]
        },
        {
          "name": "stderr",
          "output_type": "stream",
          "text": [
            "Some weights of the model checkpoint at bert-base-chinese were not used when initializing BertForSequenceClassification: ['cls.predictions.transform.dense.bias', 'cls.predictions.decoder.weight', 'cls.predictions.transform.LayerNorm.bias', 'cls.seq_relationship.bias', 'cls.predictions.transform.LayerNorm.weight', 'cls.seq_relationship.weight', 'cls.predictions.transform.dense.weight', 'cls.predictions.bias']\n",
            "- This IS expected if you are initializing BertForSequenceClassification from the checkpoint of a model trained on another task or with another architecture (e.g. initializing a BertForSequenceClassification model from a BertForPreTraining model).\n",
            "- This IS NOT expected if you are initializing BertForSequenceClassification from the checkpoint of a model that you expect to be exactly identical (initializing a BertForSequenceClassification model from a BertForSequenceClassification model).\n",
            "Some weights of BertForSequenceClassification were not initialized from the model checkpoint at bert-base-chinese and are newly initialized: ['classifier.bias', 'classifier.weight']\n",
            "You should probably TRAIN this model on a down-stream task to be able to use it for predictions and inference.\n"
          ]
        }
      ],
      "source": [
        "device = torch.device(\"cuda\") if torch.cuda.is_available() else torch.device(\n",
        "    \"cpu\")\n",
        "print(torch.cuda.is_available())\n",
        "model = AutoModelForSequenceClassification.from_pretrained(MODEL_NAME)\n",
        "model.to(device)\n",
        "\n",
        "optimizer = AdamW(model.parameters(), lr=LR)\n",
        "num_training_steps = NUM_EPOCHS * len(train_dataloader)\n",
        "lr_scheduler = set_lr_scheduler(optimizer, num_training_steps)\n",
        "\n",
        "writer = SummaryWriter(LOG_DIR)"
      ]
    },
    {
      "attachments": {},
      "cell_type": "markdown",
      "metadata": {},
      "source": [
        "Please make sure that you are using gpu when training (5 min)"
      ]
    },
    {
      "cell_type": "code",
      "execution_count": 35,
      "metadata": {
        "id": "1AHGaKh1eKmg"
      },
      "outputs": [
        {
          "data": {
            "application/vnd.jupyter.widget-view+json": {
              "model_id": "4cfe5d685d6d4c179e3a4411624aa779",
              "version_major": 2,
              "version_minor": 0
            },
            "text/plain": [
              "  0%|          | 0/185 [00:00<?, ?it/s]"
            ]
          },
          "metadata": {},
          "output_type": "display_data"
        },
        {
          "name": "stdout",
          "output_type": "stream",
          "text": [
            "Start validation\n"
          ]
        },
        {
          "data": {
            "application/vnd.jupyter.widget-view+json": {
              "model_id": "c1d2a95527de47f2bb0282cf53c14c33",
              "version_major": 2,
              "version_minor": 0
            },
            "text/plain": [
              "  0%|          | 0/128 [00:00<?, ?it/s]"
            ]
          },
          "metadata": {},
          "output_type": "display_data"
        }
      ],
      "source": [
        "progress_bar = tqdm(range(num_training_steps))\n",
        "current_steps = 0\n",
        "\n",
        "for epoch in range(NUM_EPOCHS):\n",
        "    model.train()\n",
        "\n",
        "    for batch in train_dataloader:\n",
        "        batch = {k: v.to(device) for k, v in batch.items()}\n",
        "        outputs = model(**batch)\n",
        "        loss = outputs.loss\n",
        "        loss.backward()\n",
        "\n",
        "        optimizer.step()\n",
        "        lr_scheduler.step()\n",
        "        optimizer.zero_grad()\n",
        "        progress_bar.update(1)\n",
        "        writer.add_scalar(\"training_loss\", loss.item(), current_steps)\n",
        "\n",
        "        y_pred = torch.argmax(outputs.logits, dim=1).tolist()\n",
        "        y_true = batch[\"labels\"].tolist()\n",
        "\n",
        "        current_steps += 1\n",
        "\n",
        "        if current_steps % VALIDATION_STEP == 0 and current_steps > 0:\n",
        "            print(\"Start validation\")\n",
        "            probs = get_predicted_probs(model, eval_dataloader, device)\n",
        "\n",
        "            val_results = evaluate_retrieval(\n",
        "                probs=probs,\n",
        "                df_evidences=dev_evidences,\n",
        "                ground_truths=DEV_GT,\n",
        "                top_n=TOP_N,\n",
        "            )\n",
        "            print(val_results)\n",
        "\n",
        "            # log each metric separately to TensorBoard\n",
        "            for metric_name, metric_value in val_results.items():\n",
        "                writer.add_scalar(\n",
        "                    f\"dev_{metric_name}\",\n",
        "                    metric_value,\n",
        "                    current_steps,\n",
        "                )\n",
        "\n",
        "            save_checkpoint(model, CKPT_DIR, current_steps)\n",
        "\n",
        "print(\"Finished training!\")"
      ]
    },
    {
      "cell_type": "code",
      "execution_count": 34,
      "metadata": {},
      "outputs": [
        {
          "data": {
            "text/plain": [
              "Reusing TensorBoard on port 6006 (pid 17672), started 0:15:52 ago. (Use '!kill 17672' to kill it.)"
            ]
          },
          "metadata": {},
          "output_type": "display_data"
        },
        {
          "data": {
            "text/html": [
              "\n",
              "      <iframe id=\"tensorboard-frame-cc81d59ee39cb06f\" width=\"100%\" height=\"800\" frameborder=\"0\">\n",
              "      </iframe>\n",
              "      <script>\n",
              "        (function() {\n",
              "          const frame = document.getElementById(\"tensorboard-frame-cc81d59ee39cb06f\");\n",
              "          const url = new URL(\"http://localhost\");\n",
              "          const port = 6006;\n",
              "          if (port) {\n",
              "            url.port = port;\n",
              "          }\n",
              "          frame.src = url;\n",
              "        })();\n",
              "      </script>\n",
              "    "
            ],
            "text/plain": [
              "<IPython.core.display.HTML object>"
            ]
          },
          "metadata": {},
          "output_type": "display_data"
        }
      ],
      "source": [
        "%load_ext tensorboard\n",
        "%tensorboard --logdir logs"
      ]
    },
    {
      "attachments": {},
      "cell_type": "markdown",
      "metadata": {},
      "source": [
        "Validation part (15 mins)"
      ]
    },
    {
      "cell_type": "code",
      "execution_count": 37,
      "metadata": {
        "id": "QS1Ei5DAIO5p"
      },
      "outputs": [
        {
          "name": "stdout",
          "output_type": "stream",
          "text": [
            "Start final evaluations and write prediction files.\n",
            "Start calculating training scores\n"
          ]
        },
        {
          "data": {
            "application/vnd.jupyter.widget-view+json": {
              "model_id": "40032c4d44dd408aaf5d0b7eddb7b3be",
              "version_major": 2,
              "version_minor": 0
            },
            "text/plain": [
              "  0%|          | 0/505 [00:00<?, ?it/s]"
            ]
          },
          "metadata": {},
          "output_type": "display_data"
        },
        {
          "name": "stdout",
          "output_type": "stream",
          "text": [
            "Training scores => {'F1 score': 0.4025395110732468, 'Precision': 0.26937664041994885, 'Recall': 0.7960629921259843}\n",
            "Start validation\n"
          ]
        },
        {
          "data": {
            "application/vnd.jupyter.widget-view+json": {
              "model_id": "59596f0baaae4f3680483ccf8d1ecbb4",
              "version_major": 2,
              "version_minor": 0
            },
            "text/plain": [
              "  0%|          | 0/128 [00:00<?, ?it/s]"
            ]
          },
          "metadata": {},
          "output_type": "display_data"
        },
        {
          "name": "stdout",
          "output_type": "stream",
          "text": [
            "Validation scores => {'F1 score': 0.3646408438320653, 'Precision': 0.23765723270440292, 'Recall': 0.7830188679245284}\n"
          ]
        }
      ],
      "source": [
        "ckpt_name = \"model.100.pt\"  #@param {type:\"string\"}\n",
        "model = load_model(model, ckpt_name, CKPT_DIR)\n",
        "print(\"Start final evaluations and write prediction files.\")\n",
        "\n",
        "train_evidences = pair_with_wiki_sentences_eval(\n",
        "    mapping=mapping,\n",
        "    df=pd.DataFrame(TRAIN_GT),\n",
        ")\n",
        "train_set = SentRetrievalBERTDataset(train_evidences, tokenizer)\n",
        "train_dataloader = DataLoader(train_set, batch_size=TEST_BATCH_SIZE)\n",
        "\n",
        "print(\"Start calculating training scores\")\n",
        "probs = get_predicted_probs(model, train_dataloader, device)\n",
        "train_results = evaluate_retrieval(\n",
        "    probs=probs,\n",
        "    df_evidences=train_evidences,\n",
        "    ground_truths=TRAIN_GT,\n",
        "    top_n=TOP_N,\n",
        "    save_name=f\"train_doc5sent{TOP_N}.jsonl\",\n",
        ")\n",
        "print(f\"Training scores => {train_results}\")\n",
        "\n",
        "print(\"Start validation\")\n",
        "probs = get_predicted_probs(model, eval_dataloader, device)\n",
        "val_results = evaluate_retrieval(\n",
        "    probs=probs,\n",
        "    df_evidences=dev_evidences,\n",
        "    ground_truths=DEV_GT,\n",
        "    top_n=TOP_N,\n",
        "    save_name=f\"dev_doc5sent{TOP_N}.jsonl\",\n",
        ")\n",
        "\n",
        "print(f\"Validation scores => {val_results}\")"
      ]
    },
    {
      "attachments": {},
      "cell_type": "markdown",
      "metadata": {},
      "source": [
        "Load the model we want."
      ]
    },
    {
      "cell_type": "code",
      "execution_count": 39,
      "metadata": {},
      "outputs": [],
      "source": [
        "ckpt_name = \"model.100.pt\"\n",
        "model = load_model(model, ckpt_name, CKPT_DIR)"
      ]
    },
    {
      "attachments": {},
      "cell_type": "markdown",
      "metadata": {},
      "source": [
        "### Step 4. Check on our test data\n",
        "(5 min)"
      ]
    },
    {
      "cell_type": "code",
      "execution_count": 40,
      "metadata": {
        "id": "lVFusJqjmex-"
      },
      "outputs": [
        {
          "name": "stdout",
          "output_type": "stream",
          "text": [
            "Start predicting the test data\n"
          ]
        },
        {
          "data": {
            "application/vnd.jupyter.widget-view+json": {
              "model_id": "f4d71e0e18b64334b131f01da0068afa",
              "version_major": 2,
              "version_minor": 0
            },
            "text/plain": [
              "  0%|          | 0/162 [00:00<?, ?it/s]"
            ]
          },
          "metadata": {},
          "output_type": "display_data"
        }
      ],
      "source": [
        "test_data = load_json(\"data/test_doc5.jsonl\")\n",
        "\n",
        "test_evidences = pair_with_wiki_sentences_eval(\n",
        "    mapping,\n",
        "    pd.DataFrame(test_data),\n",
        "    is_testset=True,\n",
        ")\n",
        "test_set = SentRetrievalBERTDataset(test_evidences, tokenizer)\n",
        "test_dataloader = DataLoader(test_set, batch_size=TEST_BATCH_SIZE)\n",
        "\n",
        "print(\"Start predicting the test data\")\n",
        "probs = get_predicted_probs(model, test_dataloader, device)\n",
        "evaluate_retrieval(\n",
        "    probs=probs,\n",
        "    df_evidences=test_evidences,\n",
        "    ground_truths=test_data,\n",
        "    top_n=TOP_N,\n",
        "    cal_scores=False,\n",
        "    save_name=f\"test_doc5sent{TOP_N}.jsonl\",\n",
        ")"
      ]
    },
    {
      "cell_type": "code",
      "execution_count": null,
      "metadata": {},
      "outputs": [],
      "source": [
        "del wiki_pages"
      ]
    },
    {
      "attachments": {},
      "cell_type": "markdown",
      "metadata": {
        "id": "lGzl8a5JteT7"
      },
      "source": [
        "notebook3\n",
        "## PART 3. Claim verification"
      ]
    },
    {
      "attachments": {},
      "cell_type": "markdown",
      "metadata": {},
      "source": [
        "import libs"
      ]
    },
    {
      "cell_type": "code",
      "execution_count": 3,
      "metadata": {
        "id": "tgA1vcUyzjlx"
      },
      "outputs": [],
      "source": [
        "import pickle\n",
        "from pathlib import Path\n",
        "from typing import Dict, Tuple\n",
        "\n",
        "import numpy as np\n",
        "import pandas as pd\n",
        "from pandarallel import pandarallel\n",
        "from tqdm.auto import tqdm\n",
        "\n",
        "import torch\n",
        "from sklearn.metrics import accuracy_score\n",
        "from torch.optim import AdamW\n",
        "from torch.utils.data import DataLoader\n",
        "from torch.utils.tensorboard import SummaryWriter\n",
        "from transformers import (\n",
        "    AutoModelForSequenceClassification,\n",
        "    AutoTokenizer,\n",
        "    get_scheduler,\n",
        ")\n",
        "\n",
        "from dataset import BERTDataset\n",
        "from utils import (\n",
        "    generate_evidence_to_wiki_pages_mapping,\n",
        "    jsonl_dir_to_df,\n",
        "    load_json,\n",
        "    load_model,\n",
        "    save_checkpoint,\n",
        "    set_lr_scheduler,\n",
        ")\n",
        "\n",
        "pandarallel.initialize(progress_bar=True, verbose=0, nb_workers=4)"
      ]
    },
    {
      "attachments": {},
      "cell_type": "markdown",
      "metadata": {},
      "source": [
        "Global variables"
      ]
    },
    {
      "cell_type": "code",
      "execution_count": 4,
      "metadata": {},
      "outputs": [],
      "source": [
        "LABEL2ID: Dict[str, int] = {\n",
        "    \"supports\": 0,\n",
        "    \"refutes\": 1,\n",
        "    \"NOT ENOUGH INFO\": 2,\n",
        "}\n",
        "ID2LABEL: Dict[int, str] = {v: k for k, v in LABEL2ID.items()}\n",
        "\n",
        "TRAIN_DATA = load_json(\"data/train_doc5sent5.jsonl\")\n",
        "DEV_DATA = load_json(\"data/dev_doc5sent5.jsonl\")\n",
        "\n",
        "TRAIN_PKL_FILE = Path(\"data/train_doc5sent5.pkl\")\n",
        "DEV_PKL_FILE = Path(\"data/dev_doc5sent5.pkl\")"
      ]
    },
    {
      "attachments": {},
      "cell_type": "markdown",
      "metadata": {},
      "source": [
        "Preload wiki database (same as part 2.)"
      ]
    },
    {
      "cell_type": "code",
      "execution_count": 36,
      "metadata": {},
      "outputs": [
        {
          "name": "stdout",
          "output_type": "stream",
          "text": [
            "Reading and concatenating jsonl files in data/wiki-pages\n",
            "Generate parse mapping\n"
          ]
        },
        {
          "data": {
            "application/vnd.jupyter.widget-view+json": {
              "model_id": "a29b563236be432095240bdd16c82825",
              "version_major": 2,
              "version_minor": 0
            },
            "text/plain": [
              "VBox(children=(HBox(children=(IntProgress(value=0, description='0.00%', max=296938), Label(value='0 / 296938')…"
            ]
          },
          "metadata": {},
          "output_type": "display_data"
        },
        {
          "name": "stdout",
          "output_type": "stream",
          "text": [
            "Transform to id to evidence_map mapping\n"
          ]
        }
      ],
      "source": [
        "wiki_pages = jsonl_dir_to_df(\"data/wiki-pages\")\n",
        "mapping = generate_evidence_to_wiki_pages_mapping(wiki_pages,)\n",
        "del wiki_pages"
      ]
    },
    {
      "attachments": {},
      "cell_type": "markdown",
      "metadata": {},
      "source": [
        "### Helper function"
      ]
    },
    {
      "attachments": {},
      "cell_type": "markdown",
      "metadata": {},
      "source": [
        "AICUP dataset with top-k evidence sentences."
      ]
    },
    {
      "cell_type": "code",
      "execution_count": 5,
      "metadata": {},
      "outputs": [],
      "source": [
        "class AicupTopkEvidenceBERTDataset(BERTDataset):\n",
        "    \"\"\"AICUP dataset with top-k evidence sentences.\"\"\"\n",
        "\n",
        "    def __getitem__(\n",
        "        self,\n",
        "        idx: int,\n",
        "        **kwargs,\n",
        "    ) -> Tuple[Dict[str, torch.Tensor], int]:\n",
        "        item = self.data.iloc[idx]\n",
        "        claim = item[\"claim\"]\n",
        "        evidence = item[\"evidence_list\"]\n",
        "\n",
        "        # In case there are less than topk evidence sentences\n",
        "        pad = [\"[PAD]\"] * (self.topk - len(evidence))\n",
        "        evidence += pad\n",
        "        concat_claim_evidence = \" [SEP] \".join([*claim, *evidence])\n",
        "\n",
        "        concat = self.tokenizer(\n",
        "            concat_claim_evidence,\n",
        "            padding=\"max_length\",\n",
        "            max_length=self.max_length,\n",
        "            truncation=True,\n",
        "        )\n",
        "        label = LABEL2ID[item[\"label\"]] if \"label\" in item else -1\n",
        "        concat_ten = {k: torch.tensor(v) for k, v in concat.items()}\n",
        "\n",
        "        if \"label\" in item:\n",
        "            concat_ten[\"labels\"] = torch.tensor(label)\n",
        "\n",
        "        return concat_ten"
      ]
    },
    {
      "attachments": {},
      "cell_type": "markdown",
      "metadata": {},
      "source": [
        "Evaluation function"
      ]
    },
    {
      "cell_type": "code",
      "execution_count": 6,
      "metadata": {},
      "outputs": [],
      "source": [
        "def run_evaluation(model: torch.nn.Module, dataloader: DataLoader, device):\n",
        "    model.eval()\n",
        "\n",
        "    loss = 0\n",
        "    y_true = []\n",
        "    y_pred = []\n",
        "    with torch.no_grad():\n",
        "        for batch in tqdm(dataloader):\n",
        "            y_true.extend(batch[\"labels\"].tolist())\n",
        "\n",
        "            batch = {k: v.to(device) for k, v in batch.items()}\n",
        "            outputs = model(**batch)\n",
        "            loss += outputs.loss.item()\n",
        "            logits = outputs.logits\n",
        "            y_pred.extend(torch.argmax(logits, dim=1).tolist())\n",
        "\n",
        "    acc = accuracy_score(y_true, y_pred)\n",
        "\n",
        "    return {\"val_loss\": loss / len(dataloader), \"val_acc\": acc}"
      ]
    },
    {
      "attachments": {},
      "cell_type": "markdown",
      "metadata": {},
      "source": [
        "Prediction"
      ]
    },
    {
      "cell_type": "code",
      "execution_count": 7,
      "metadata": {},
      "outputs": [],
      "source": [
        "def run_predict(model: torch.nn.Module, test_dl: DataLoader, device) -> list:\n",
        "    model.eval()\n",
        "\n",
        "    preds = []\n",
        "    for batch in tqdm(test_dl,\n",
        "                      total=len(test_dl),\n",
        "                      leave=False,\n",
        "                      desc=\"Predicting\"):\n",
        "        batch = {k: v.to(device) for k, v in batch.items()}\n",
        "        pred = model(**batch).logits\n",
        "        pred = torch.argmax(pred, dim=1)\n",
        "        preds.extend(pred.tolist())\n",
        "    return preds"
      ]
    },
    {
      "attachments": {},
      "cell_type": "markdown",
      "metadata": {},
      "source": [
        "### Main function"
      ]
    },
    {
      "cell_type": "code",
      "execution_count": 8,
      "metadata": {},
      "outputs": [],
      "source": [
        "def join_with_topk_evidence(\n",
        "    df: pd.DataFrame,\n",
        "    mapping: dict,\n",
        "    mode: str = \"train\",\n",
        "    topk: int = 5,\n",
        ") -> pd.DataFrame:\n",
        "    \"\"\"join_with_topk_evidence join the dataset with topk evidence.\n",
        "\n",
        "    Note:\n",
        "        After extraction, the dataset will be like this:\n",
        "               id     label         claim                           evidence            evidence_list\n",
        "        0    4604  supports       高行健...     [[[3393, 3552, 高行健, 0], [...  [高行健 （ ）江西赣州出...\n",
        "        ..    ...       ...            ...                                ...                     ...\n",
        "        945  2095  supports       美國總...  [[[1879, 2032, 吉米·卡特, 16], [...  [卸任后 ， 卡特積極參與...\n",
        "        停各种战争及人質危機的斡旋工作 ， 反对美国小布什政府攻打伊拉克...\n",
        "\n",
        "        [946 rows x 5 columns]\n",
        "\n",
        "    Args:\n",
        "        df (pd.DataFrame): The dataset with evidence.\n",
        "        wiki_pages (pd.DataFrame): The wiki pages dataframe\n",
        "        topk (int, optional): The topk evidence. Defaults to 5.\n",
        "        cache(Union[Path, str], optional): The cache file path. Defaults to None.\n",
        "            If cache is None, return the result directly.\n",
        "\n",
        "    Returns:\n",
        "        pd.DataFrame: The dataset with topk evidence_list.\n",
        "            The `evidence_list` column will be: List[str]\n",
        "    \"\"\"\n",
        "\n",
        "    # format evidence column to List[List[Tuple[str, str, str, str]]]\n",
        "    if \"evidence\" in df.columns:\n",
        "        df[\"evidence\"] = df[\"evidence\"].parallel_map(\n",
        "            lambda x: [[x]] if not isinstance(x[0], list) else [x]\n",
        "            if not isinstance(x[0][0], list) else x)\n",
        "\n",
        "    print(f\"Extracting evidence_list for the {mode} mode ...\")\n",
        "    if mode == \"eval\":\n",
        "        # extract evidence\n",
        "        df[\"evidence_list\"] = df[\"predicted_evidence\"].parallel_map(lambda x: [\n",
        "            mapping.get(evi_id, {}).get(str(evi_idx), \"\")\n",
        "            for evi_id, evi_idx in x  # for each evidence list\n",
        "        ][:topk] if isinstance(x, list) else [])\n",
        "        print(df[\"evidence_list\"][:5])\n",
        "    else:\n",
        "        # extract evidence\n",
        "        df[\"evidence_list\"] = df[\"evidence\"].parallel_map(lambda x: [\n",
        "            \" \".join([  # join evidence\n",
        "                mapping.get(evi_id, {}).get(str(evi_idx), \"\")\n",
        "                for _, _, evi_id, evi_idx in evi_list\n",
        "            ]) if isinstance(evi_list, list) else \"\"\n",
        "            for evi_list in x  # for each evidence list\n",
        "        ][:1] if isinstance(x, list) else [])\n",
        "\n",
        "    return df"
      ]
    },
    {
      "attachments": {},
      "cell_type": "markdown",
      "metadata": {},
      "source": [
        "### Step 1. Setup training environment"
      ]
    },
    {
      "attachments": {},
      "cell_type": "markdown",
      "metadata": {},
      "source": [
        "Hyperparams"
      ]
    },
    {
      "cell_type": "code",
      "execution_count": 9,
      "metadata": {},
      "outputs": [],
      "source": [
        "#@title  { display-mode: \"form\" }\n",
        "\n",
        "MODEL_NAME = \"bert-base-chinese\"  #@param {type:\"string\"}\n",
        "TRAIN_BATCH_SIZE = 32  #@param {type:\"integer\"}\n",
        "TEST_BATCH_SIZE = 32  #@param {type:\"integer\"}\n",
        "SEED = 42  #@param {type:\"integer\"}\n",
        "LR = 7e-5  #@param {type:\"number\"}\n",
        "NUM_EPOCHS = 20  #@param {type:\"integer\"}\n",
        "MAX_SEQ_LEN = 256  #@param {type:\"integer\"}\n",
        "EVIDENCE_TOPK = 5  #@param {type:\"integer\"}\n",
        "VALIDATION_STEP = 25  #@param {type:\"integer\"}\n"
      ]
    },
    {
      "attachments": {},
      "cell_type": "markdown",
      "metadata": {},
      "source": [
        "Experiment Directory"
      ]
    },
    {
      "cell_type": "code",
      "execution_count": 10,
      "metadata": {},
      "outputs": [],
      "source": [
        "OUTPUT_FILENAME = \"submission.jsonl\"\n",
        "\n",
        "EXP_DIR = f\"claim_verification/e{NUM_EPOCHS}_bs{TRAIN_BATCH_SIZE}_\" + f\"{LR}_top{EVIDENCE_TOPK}\"\n",
        "LOG_DIR = \"logs/\" + EXP_DIR\n",
        "CKPT_DIR = \"checkpoints/\" + EXP_DIR\n",
        "\n",
        "if not Path(LOG_DIR).exists():\n",
        "    Path(LOG_DIR).mkdir(parents=True)\n",
        "\n",
        "if not Path(CKPT_DIR).exists():\n",
        "    Path(CKPT_DIR).mkdir(parents=True)"
      ]
    },
    {
      "attachments": {},
      "cell_type": "markdown",
      "metadata": {},
      "source": [
        "### Step 2. Concat claim and evidences\n",
        "join topk evidence"
      ]
    },
    {
      "cell_type": "code",
      "execution_count": 13,
      "metadata": {},
      "outputs": [],
      "source": [
        "if not TRAIN_PKL_FILE.exists():\n",
        "    train_df = join_with_topk_evidence(\n",
        "        pd.DataFrame(TRAIN_DATA),\n",
        "        mapping,\n",
        "        topk=EVIDENCE_TOPK,\n",
        "    )\n",
        "    train_df.to_pickle(TRAIN_PKL_FILE, protocol=4)\n",
        "else:\n",
        "    with open(TRAIN_PKL_FILE, \"rb\") as f:\n",
        "        train_df = pickle.load(f)\n",
        "\n",
        "if not DEV_PKL_FILE.exists():\n",
        "    dev_df = join_with_topk_evidence(\n",
        "        pd.DataFrame(DEV_DATA),\n",
        "        mapping,\n",
        "        mode=\"eval\",\n",
        "        topk=EVIDENCE_TOPK,\n",
        "    )\n",
        "    dev_df.to_pickle(DEV_PKL_FILE, protocol=4)\n",
        "else:\n",
        "    with open(DEV_PKL_FILE, \"rb\") as f:\n",
        "        dev_df = pickle.load(f)"
      ]
    },
    {
      "attachments": {},
      "cell_type": "markdown",
      "metadata": {},
      "source": [
        "### Step 3. Training"
      ]
    },
    {
      "attachments": {},
      "cell_type": "markdown",
      "metadata": {},
      "source": [
        "Prevent CUDA out of memory"
      ]
    },
    {
      "cell_type": "code",
      "execution_count": 14,
      "metadata": {},
      "outputs": [],
      "source": [
        "torch.cuda.empty_cache()"
      ]
    },
    {
      "cell_type": "code",
      "execution_count": 15,
      "metadata": {
        "id": "O0rVk3990DlD"
      },
      "outputs": [],
      "source": [
        "tokenizer = AutoTokenizer.from_pretrained(MODEL_NAME)\n",
        "\n",
        "train_dataset = AicupTopkEvidenceBERTDataset(\n",
        "    train_df,\n",
        "    tokenizer=tokenizer,\n",
        "    max_length=MAX_SEQ_LEN,\n",
        ")\n",
        "val_dataset = AicupTopkEvidenceBERTDataset(\n",
        "    dev_df,\n",
        "    tokenizer=tokenizer,\n",
        "    max_length=MAX_SEQ_LEN,\n",
        ")\n",
        "\n",
        "train_dataloader = DataLoader(\n",
        "    train_dataset,\n",
        "    shuffle=True,\n",
        "    batch_size=TRAIN_BATCH_SIZE,\n",
        "    num_workers=0,\n",
        ")\n",
        "eval_dataloader = DataLoader(val_dataset, batch_size=TEST_BATCH_SIZE, num_workers=0,)"
      ]
    },
    {
      "cell_type": "code",
      "execution_count": 18,
      "metadata": {
        "id": "CzMgs-Zs3sTN"
      },
      "outputs": [
        {
          "name": "stderr",
          "output_type": "stream",
          "text": [
            "Some weights of the model checkpoint at bert-base-chinese were not used when initializing BertForSequenceClassification: ['cls.predictions.transform.LayerNorm.bias', 'cls.predictions.transform.dense.weight', 'cls.seq_relationship.bias', 'cls.predictions.decoder.weight', 'cls.predictions.bias', 'cls.predictions.transform.dense.bias', 'cls.seq_relationship.weight', 'cls.predictions.transform.LayerNorm.weight']\n",
            "- This IS expected if you are initializing BertForSequenceClassification from the checkpoint of a model trained on another task or with another architecture (e.g. initializing a BertForSequenceClassification model from a BertForPreTraining model).\n",
            "- This IS NOT expected if you are initializing BertForSequenceClassification from the checkpoint of a model that you expect to be exactly identical (initializing a BertForSequenceClassification model from a BertForSequenceClassification model).\n",
            "Some weights of BertForSequenceClassification were not initialized from the model checkpoint at bert-base-chinese and are newly initialized: ['classifier.weight', 'classifier.bias']\n",
            "You should probably TRAIN this model on a down-stream task to be able to use it for predictions and inference.\n"
          ]
        }
      ],
      "source": [
        "device = torch.device(\"cuda\") if torch.cuda.is_available() else torch.device(\"cpu\")\n",
        "# device = torch.device(\"cpu\")\n",
        "\n",
        "model = AutoModelForSequenceClassification.from_pretrained(\n",
        "    MODEL_NAME,\n",
        "    num_labels=len(LABEL2ID),\n",
        ")\n",
        "torch.cuda.empty_cache()\n",
        "model.to(device)\n",
        "optimizer = AdamW(model.parameters(), lr=LR)\n",
        "num_training_steps = NUM_EPOCHS * len(train_dataloader)\n",
        "lr_scheduler = set_lr_scheduler(optimizer, num_training_steps)\n",
        "\n",
        "writer = SummaryWriter(LOG_DIR)"
      ]
    },
    {
      "attachments": {},
      "cell_type": "markdown",
      "metadata": {},
      "source": [
        "Training (30 mins)"
      ]
    },
    {
      "cell_type": "code",
      "execution_count": 48,
      "metadata": {
        "id": "_aqMjEek3wmu"
      },
      "outputs": [
        {
          "data": {
            "application/vnd.jupyter.widget-view+json": {
              "model_id": "7027a95f703145abb427614d252627fe",
              "version_major": 2,
              "version_minor": 0
            },
            "text/plain": [
              "  0%|          | 0/7900 [00:00<?, ?it/s]"
            ]
          },
          "metadata": {},
          "output_type": "display_data"
        },
        {
          "name": "stdout",
          "output_type": "stream",
          "text": [
            "Start validation\n"
          ]
        },
        {
          "data": {
            "application/vnd.jupyter.widget-view+json": {
              "model_id": "3d104e7ac251430a80c9a329ea28d286",
              "version_major": 2,
              "version_minor": 0
            },
            "text/plain": [
              "  0%|          | 0/99 [00:00<?, ?it/s]"
            ]
          },
          "metadata": {},
          "output_type": "display_data"
        },
        {
          "name": "stdout",
          "output_type": "stream",
          "text": [
            "val_loss: 1.114389246762401\n",
            "val_acc: 0.39923954372623577\n",
            "Start validation\n"
          ]
        },
        {
          "data": {
            "application/vnd.jupyter.widget-view+json": {
              "model_id": "68cd83d8b49945a0bba023882defbe47",
              "version_major": 2,
              "version_minor": 0
            },
            "text/plain": [
              "  0%|          | 0/99 [00:00<?, ?it/s]"
            ]
          },
          "metadata": {},
          "output_type": "display_data"
        },
        {
          "name": "stdout",
          "output_type": "stream",
          "text": [
            "val_loss: 1.1316226064556776\n",
            "val_acc: 0.4017743979721166\n",
            "Start validation\n"
          ]
        },
        {
          "data": {
            "application/vnd.jupyter.widget-view+json": {
              "model_id": "20c3c1b056544429af57bc2f48f7f00b",
              "version_major": 2,
              "version_minor": 0
            },
            "text/plain": [
              "  0%|          | 0/99 [00:00<?, ?it/s]"
            ]
          },
          "metadata": {},
          "output_type": "display_data"
        },
        {
          "name": "stdout",
          "output_type": "stream",
          "text": [
            "val_loss: 1.19079269905283\n",
            "val_acc: 0.40304182509505704\n",
            "Start validation\n"
          ]
        },
        {
          "data": {
            "application/vnd.jupyter.widget-view+json": {
              "model_id": "0b0a86a626ab46d0890a14d4601bb1ed",
              "version_major": 2,
              "version_minor": 0
            },
            "text/plain": [
              "  0%|          | 0/99 [00:00<?, ?it/s]"
            ]
          },
          "metadata": {},
          "output_type": "display_data"
        },
        {
          "name": "stdout",
          "output_type": "stream",
          "text": [
            "val_loss: 1.1761916279792786\n",
            "val_acc: 0.39036755386565275\n",
            "Start validation\n"
          ]
        },
        {
          "data": {
            "application/vnd.jupyter.widget-view+json": {
              "model_id": "fe6b030a4de8494392ae70282d3d838f",
              "version_major": 2,
              "version_minor": 0
            },
            "text/plain": [
              "  0%|          | 0/99 [00:00<?, ?it/s]"
            ]
          },
          "metadata": {},
          "output_type": "display_data"
        },
        {
          "name": "stdout",
          "output_type": "stream",
          "text": [
            "val_loss: 1.279089006510648\n",
            "val_acc: 0.39923954372623577\n",
            "Start validation\n"
          ]
        },
        {
          "data": {
            "application/vnd.jupyter.widget-view+json": {
              "model_id": "dc4eafaeee814a299632ee91df335793",
              "version_major": 2,
              "version_minor": 0
            },
            "text/plain": [
              "  0%|          | 0/99 [00:00<?, ?it/s]"
            ]
          },
          "metadata": {},
          "output_type": "display_data"
        },
        {
          "name": "stdout",
          "output_type": "stream",
          "text": [
            "val_loss: 1.3377732556275648\n",
            "val_acc: 0.41191381495564006\n",
            "Start validation\n"
          ]
        },
        {
          "data": {
            "application/vnd.jupyter.widget-view+json": {
              "model_id": "891ee70ea2fe4d3db246dd3bb34dbddb",
              "version_major": 2,
              "version_minor": 0
            },
            "text/plain": [
              "  0%|          | 0/99 [00:00<?, ?it/s]"
            ]
          },
          "metadata": {},
          "output_type": "display_data"
        },
        {
          "name": "stdout",
          "output_type": "stream",
          "text": [
            "val_loss: 1.3664308292697174\n",
            "val_acc: 0.4017743979721166\n",
            "Start validation\n"
          ]
        },
        {
          "data": {
            "application/vnd.jupyter.widget-view+json": {
              "model_id": "c6bbba60f5d9414ea78e0189a9ad09bb",
              "version_major": 2,
              "version_minor": 0
            },
            "text/plain": [
              "  0%|          | 0/99 [00:00<?, ?it/s]"
            ]
          },
          "metadata": {},
          "output_type": "display_data"
        },
        {
          "name": "stdout",
          "output_type": "stream",
          "text": [
            "val_loss: 1.442280523102693\n",
            "val_acc: 0.39923954372623577\n",
            "Start validation\n"
          ]
        },
        {
          "data": {
            "application/vnd.jupyter.widget-view+json": {
              "model_id": "d332a9af3da647b38623e7e6ab9d1382",
              "version_major": 2,
              "version_minor": 0
            },
            "text/plain": [
              "  0%|          | 0/99 [00:00<?, ?it/s]"
            ]
          },
          "metadata": {},
          "output_type": "display_data"
        },
        {
          "name": "stdout",
          "output_type": "stream",
          "text": [
            "val_loss: 1.4725218969162064\n",
            "val_acc: 0.40430925221799746\n",
            "Start validation\n"
          ]
        },
        {
          "data": {
            "application/vnd.jupyter.widget-view+json": {
              "model_id": "7597399294524709960d3e6ddb7b00b8",
              "version_major": 2,
              "version_minor": 0
            },
            "text/plain": [
              "  0%|          | 0/99 [00:00<?, ?it/s]"
            ]
          },
          "metadata": {},
          "output_type": "display_data"
        },
        {
          "name": "stdout",
          "output_type": "stream",
          "text": [
            "val_loss: 1.456760449240906\n",
            "val_acc: 0.40304182509505704\n",
            "Start validation\n"
          ]
        },
        {
          "data": {
            "application/vnd.jupyter.widget-view+json": {
              "model_id": "a2294ec7441c4ba7af7ef7566bceabd2",
              "version_major": 2,
              "version_minor": 0
            },
            "text/plain": [
              "  0%|          | 0/99 [00:00<?, ?it/s]"
            ]
          },
          "metadata": {},
          "output_type": "display_data"
        },
        {
          "name": "stdout",
          "output_type": "stream",
          "text": [
            "val_loss: 1.3379164584959395\n",
            "val_acc: 0.4005069708491762\n",
            "Start validation\n"
          ]
        },
        {
          "data": {
            "application/vnd.jupyter.widget-view+json": {
              "model_id": "8ef5bb5509dd4bdbb5c0826afe8052bd",
              "version_major": 2,
              "version_minor": 0
            },
            "text/plain": [
              "  0%|          | 0/99 [00:00<?, ?it/s]"
            ]
          },
          "metadata": {},
          "output_type": "display_data"
        },
        {
          "name": "stdout",
          "output_type": "stream",
          "text": [
            "val_loss: 1.5474961592693521\n",
            "val_acc: 0.4017743979721166\n",
            "Start validation\n"
          ]
        },
        {
          "data": {
            "application/vnd.jupyter.widget-view+json": {
              "model_id": "1e4348aabf8947379e51a93bdd47bc26",
              "version_major": 2,
              "version_minor": 0
            },
            "text/plain": [
              "  0%|          | 0/99 [00:00<?, ?it/s]"
            ]
          },
          "metadata": {},
          "output_type": "display_data"
        },
        {
          "name": "stdout",
          "output_type": "stream",
          "text": [
            "val_loss: 1.6274360466485072\n",
            "val_acc: 0.4005069708491762\n",
            "Start validation\n"
          ]
        },
        {
          "data": {
            "application/vnd.jupyter.widget-view+json": {
              "model_id": "7cb299fb324c4dbaac942a4625374366",
              "version_major": 2,
              "version_minor": 0
            },
            "text/plain": [
              "  0%|          | 0/99 [00:00<?, ?it/s]"
            ]
          },
          "metadata": {},
          "output_type": "display_data"
        },
        {
          "name": "stdout",
          "output_type": "stream",
          "text": [
            "val_loss: 1.3992377730331036\n",
            "val_acc: 0.3979721166032953\n",
            "Start validation\n"
          ]
        },
        {
          "data": {
            "application/vnd.jupyter.widget-view+json": {
              "model_id": "ed0a2b309dc3472db9875572a7e63c81",
              "version_major": 2,
              "version_minor": 0
            },
            "text/plain": [
              "  0%|          | 0/99 [00:00<?, ?it/s]"
            ]
          },
          "metadata": {},
          "output_type": "display_data"
        },
        {
          "name": "stdout",
          "output_type": "stream",
          "text": [
            "val_loss: 1.5774370040556398\n",
            "val_acc: 0.4017743979721166\n",
            "Start validation\n"
          ]
        },
        {
          "data": {
            "application/vnd.jupyter.widget-view+json": {
              "model_id": "5debf7a825c74dbe8e6dd2e9f8757d2d",
              "version_major": 2,
              "version_minor": 0
            },
            "text/plain": [
              "  0%|          | 0/99 [00:00<?, ?it/s]"
            ]
          },
          "metadata": {},
          "output_type": "display_data"
        },
        {
          "name": "stdout",
          "output_type": "stream",
          "text": [
            "val_loss: 1.6046950558219293\n",
            "val_acc: 0.39923954372623577\n",
            "Start validation\n"
          ]
        },
        {
          "data": {
            "application/vnd.jupyter.widget-view+json": {
              "model_id": "a99a69c1b4bf430ab03c591d604dc4d4",
              "version_major": 2,
              "version_minor": 0
            },
            "text/plain": [
              "  0%|          | 0/99 [00:00<?, ?it/s]"
            ]
          },
          "metadata": {},
          "output_type": "display_data"
        },
        {
          "name": "stdout",
          "output_type": "stream",
          "text": [
            "val_loss: 1.7114758515598798\n",
            "val_acc: 0.4005069708491762\n",
            "Start validation\n"
          ]
        },
        {
          "data": {
            "application/vnd.jupyter.widget-view+json": {
              "model_id": "0678d0cd1f1a48a4868c3c0519f37f88",
              "version_major": 2,
              "version_minor": 0
            },
            "text/plain": [
              "  0%|          | 0/99 [00:00<?, ?it/s]"
            ]
          },
          "metadata": {},
          "output_type": "display_data"
        },
        {
          "name": "stdout",
          "output_type": "stream",
          "text": [
            "val_loss: 1.6305967120811193\n",
            "val_acc: 0.4017743979721166\n",
            "Start validation\n"
          ]
        },
        {
          "data": {
            "application/vnd.jupyter.widget-view+json": {
              "model_id": "113d69e835ad44a48e2ee049e0ae5bbc",
              "version_major": 2,
              "version_minor": 0
            },
            "text/plain": [
              "  0%|          | 0/99 [00:00<?, ?it/s]"
            ]
          },
          "metadata": {},
          "output_type": "display_data"
        },
        {
          "name": "stdout",
          "output_type": "stream",
          "text": [
            "val_loss: 1.6619010350920937\n",
            "val_acc: 0.39923954372623577\n",
            "Start validation\n"
          ]
        },
        {
          "data": {
            "application/vnd.jupyter.widget-view+json": {
              "model_id": "db3db36974a043338ee7599a69d05fdd",
              "version_major": 2,
              "version_minor": 0
            },
            "text/plain": [
              "  0%|          | 0/99 [00:00<?, ?it/s]"
            ]
          },
          "metadata": {},
          "output_type": "display_data"
        },
        {
          "name": "stdout",
          "output_type": "stream",
          "text": [
            "val_loss: 1.5201638870769076\n",
            "val_acc: 0.4017743979721166\n",
            "Start validation\n"
          ]
        },
        {
          "data": {
            "application/vnd.jupyter.widget-view+json": {
              "model_id": "cd7e61601c6648e5b270dd5ca1117849",
              "version_major": 2,
              "version_minor": 0
            },
            "text/plain": [
              "  0%|          | 0/99 [00:00<?, ?it/s]"
            ]
          },
          "metadata": {},
          "output_type": "display_data"
        },
        {
          "name": "stdout",
          "output_type": "stream",
          "text": [
            "val_loss: 1.5772019179180414\n",
            "val_acc: 0.40430925221799746\n",
            "Start validation\n"
          ]
        },
        {
          "data": {
            "application/vnd.jupyter.widget-view+json": {
              "model_id": "e9054838abc84fe0bad4faec66a3eb20",
              "version_major": 2,
              "version_minor": 0
            },
            "text/plain": [
              "  0%|          | 0/99 [00:00<?, ?it/s]"
            ]
          },
          "metadata": {},
          "output_type": "display_data"
        },
        {
          "name": "stdout",
          "output_type": "stream",
          "text": [
            "val_loss: 1.6082600812719325\n",
            "val_acc: 0.39923954372623577\n",
            "Start validation\n"
          ]
        },
        {
          "data": {
            "application/vnd.jupyter.widget-view+json": {
              "model_id": "3c4c5e833c62447f9a3322f3c454da31",
              "version_major": 2,
              "version_minor": 0
            },
            "text/plain": [
              "  0%|          | 0/99 [00:00<?, ?it/s]"
            ]
          },
          "metadata": {},
          "output_type": "display_data"
        },
        {
          "name": "stdout",
          "output_type": "stream",
          "text": [
            "val_loss: 1.4425658607723737\n",
            "val_acc: 0.40304182509505704\n",
            "Start validation\n"
          ]
        },
        {
          "data": {
            "application/vnd.jupyter.widget-view+json": {
              "model_id": "df9171a2a2d34fd4aaebdbc415dff195",
              "version_major": 2,
              "version_minor": 0
            },
            "text/plain": [
              "  0%|          | 0/99 [00:00<?, ?it/s]"
            ]
          },
          "metadata": {},
          "output_type": "display_data"
        },
        {
          "name": "stdout",
          "output_type": "stream",
          "text": [
            "val_loss: 1.5432460416447034\n",
            "val_acc: 0.39543726235741444\n",
            "Start validation\n"
          ]
        },
        {
          "data": {
            "application/vnd.jupyter.widget-view+json": {
              "model_id": "456967af30e447909b43a49a530ab727",
              "version_major": 2,
              "version_minor": 0
            },
            "text/plain": [
              "  0%|          | 0/99 [00:00<?, ?it/s]"
            ]
          },
          "metadata": {},
          "output_type": "display_data"
        },
        {
          "name": "stdout",
          "output_type": "stream",
          "text": [
            "val_loss: 1.6776298838432389\n",
            "val_acc: 0.40430925221799746\n",
            "Start validation\n"
          ]
        },
        {
          "data": {
            "application/vnd.jupyter.widget-view+json": {
              "model_id": "f85f650390a14e6086da78e8f2727e69",
              "version_major": 2,
              "version_minor": 0
            },
            "text/plain": [
              "  0%|          | 0/99 [00:00<?, ?it/s]"
            ]
          },
          "metadata": {},
          "output_type": "display_data"
        },
        {
          "name": "stdout",
          "output_type": "stream",
          "text": [
            "val_loss: 1.6333725133327524\n",
            "val_acc: 0.3979721166032953\n",
            "Start validation\n"
          ]
        },
        {
          "data": {
            "application/vnd.jupyter.widget-view+json": {
              "model_id": "315828cedda74f1b95f0cac2c93cb0c7",
              "version_major": 2,
              "version_minor": 0
            },
            "text/plain": [
              "  0%|          | 0/99 [00:00<?, ?it/s]"
            ]
          },
          "metadata": {},
          "output_type": "display_data"
        },
        {
          "name": "stdout",
          "output_type": "stream",
          "text": [
            "val_loss: 1.6597484482659235\n",
            "val_acc: 0.3979721166032953\n",
            "Start validation\n"
          ]
        },
        {
          "data": {
            "application/vnd.jupyter.widget-view+json": {
              "model_id": "f3d378f32e8341a2b1d191c0ead9675b",
              "version_major": 2,
              "version_minor": 0
            },
            "text/plain": [
              "  0%|          | 0/99 [00:00<?, ?it/s]"
            ]
          },
          "metadata": {},
          "output_type": "display_data"
        },
        {
          "name": "stdout",
          "output_type": "stream",
          "text": [
            "val_loss: 1.565665921779594\n",
            "val_acc: 0.4005069708491762\n",
            "Start validation\n"
          ]
        },
        {
          "data": {
            "application/vnd.jupyter.widget-view+json": {
              "model_id": "67ebe95a24e24a119bf694cc050a4ec4",
              "version_major": 2,
              "version_minor": 0
            },
            "text/plain": [
              "  0%|          | 0/99 [00:00<?, ?it/s]"
            ]
          },
          "metadata": {},
          "output_type": "display_data"
        },
        {
          "name": "stdout",
          "output_type": "stream",
          "text": [
            "val_loss: 1.6728206439451738\n",
            "val_acc: 0.4005069708491762\n",
            "Start validation\n"
          ]
        },
        {
          "data": {
            "application/vnd.jupyter.widget-view+json": {
              "model_id": "c985637048624d16bdc61294d828e9cd",
              "version_major": 2,
              "version_minor": 0
            },
            "text/plain": [
              "  0%|          | 0/99 [00:00<?, ?it/s]"
            ]
          },
          "metadata": {},
          "output_type": "display_data"
        },
        {
          "name": "stdout",
          "output_type": "stream",
          "text": [
            "val_loss: 1.7221430214968594\n",
            "val_acc: 0.4005069708491762\n",
            "Start validation\n"
          ]
        },
        {
          "data": {
            "application/vnd.jupyter.widget-view+json": {
              "model_id": "972f752157bc400fa3fbe0151849b75b",
              "version_major": 2,
              "version_minor": 0
            },
            "text/plain": [
              "  0%|          | 0/99 [00:00<?, ?it/s]"
            ]
          },
          "metadata": {},
          "output_type": "display_data"
        },
        {
          "name": "stdout",
          "output_type": "stream",
          "text": [
            "val_loss: 1.788847894379587\n",
            "val_acc: 0.39923954372623577\n",
            "Start validation\n"
          ]
        },
        {
          "data": {
            "application/vnd.jupyter.widget-view+json": {
              "model_id": "6143ede1834044858e3432b45f4fa285",
              "version_major": 2,
              "version_minor": 0
            },
            "text/plain": [
              "  0%|          | 0/99 [00:00<?, ?it/s]"
            ]
          },
          "metadata": {},
          "output_type": "display_data"
        },
        {
          "name": "stdout",
          "output_type": "stream",
          "text": [
            "val_loss: 1.6063556057034116\n",
            "val_acc: 0.4005069708491762\n",
            "Start validation\n"
          ]
        },
        {
          "data": {
            "application/vnd.jupyter.widget-view+json": {
              "model_id": "4d573a43ef494e158c4c81600d54e490",
              "version_major": 2,
              "version_minor": 0
            },
            "text/plain": [
              "  0%|          | 0/99 [00:00<?, ?it/s]"
            ]
          },
          "metadata": {},
          "output_type": "display_data"
        },
        {
          "name": "stdout",
          "output_type": "stream",
          "text": [
            "val_loss: 1.6055542092130641\n",
            "val_acc: 0.4005069708491762\n",
            "Start validation\n"
          ]
        },
        {
          "data": {
            "application/vnd.jupyter.widget-view+json": {
              "model_id": "0c6c523305914625bbabf998ae538efe",
              "version_major": 2,
              "version_minor": 0
            },
            "text/plain": [
              "  0%|          | 0/99 [00:00<?, ?it/s]"
            ]
          },
          "metadata": {},
          "output_type": "display_data"
        },
        {
          "name": "stdout",
          "output_type": "stream",
          "text": [
            "val_loss: 1.6360067761305608\n",
            "val_acc: 0.4005069708491762\n",
            "Start validation\n"
          ]
        },
        {
          "data": {
            "application/vnd.jupyter.widget-view+json": {
              "model_id": "3d37fda5423445c2b741e4dca7bf307f",
              "version_major": 2,
              "version_minor": 0
            },
            "text/plain": [
              "  0%|          | 0/99 [00:00<?, ?it/s]"
            ]
          },
          "metadata": {},
          "output_type": "display_data"
        },
        {
          "name": "stdout",
          "output_type": "stream",
          "text": [
            "val_loss: 1.688050759561134\n",
            "val_acc: 0.39670468948035487\n",
            "Start validation\n"
          ]
        },
        {
          "data": {
            "application/vnd.jupyter.widget-view+json": {
              "model_id": "ed06cbd657944cf9b7e13e8765401b3d",
              "version_major": 2,
              "version_minor": 0
            },
            "text/plain": [
              "  0%|          | 0/99 [00:00<?, ?it/s]"
            ]
          },
          "metadata": {},
          "output_type": "display_data"
        },
        {
          "name": "stdout",
          "output_type": "stream",
          "text": [
            "val_loss: 1.7771392651278564\n",
            "val_acc: 0.40304182509505704\n",
            "Start validation\n"
          ]
        },
        {
          "data": {
            "application/vnd.jupyter.widget-view+json": {
              "model_id": "a9c6fe7e61634a60a10f1c32c8522558",
              "version_major": 2,
              "version_minor": 0
            },
            "text/plain": [
              "  0%|          | 0/99 [00:00<?, ?it/s]"
            ]
          },
          "metadata": {},
          "output_type": "display_data"
        },
        {
          "name": "stdout",
          "output_type": "stream",
          "text": [
            "val_loss: 2.0613622436619767\n",
            "val_acc: 0.39670468948035487\n",
            "Start validation\n"
          ]
        },
        {
          "data": {
            "application/vnd.jupyter.widget-view+json": {
              "model_id": "3df43a3965d94f41ad44464d3f1a8395",
              "version_major": 2,
              "version_minor": 0
            },
            "text/plain": [
              "  0%|          | 0/99 [00:00<?, ?it/s]"
            ]
          },
          "metadata": {},
          "output_type": "display_data"
        },
        {
          "name": "stdout",
          "output_type": "stream",
          "text": [
            "val_loss: 1.3851500550905864\n",
            "val_acc: 0.41698352344740175\n",
            "Start validation\n"
          ]
        },
        {
          "data": {
            "application/vnd.jupyter.widget-view+json": {
              "model_id": "db7da096ba724674b34ad4243f76e7dd",
              "version_major": 2,
              "version_minor": 0
            },
            "text/plain": [
              "  0%|          | 0/99 [00:00<?, ?it/s]"
            ]
          },
          "metadata": {},
          "output_type": "display_data"
        },
        {
          "name": "stdout",
          "output_type": "stream",
          "text": [
            "val_loss: 1.759592714333775\n",
            "val_acc: 0.41064638783269963\n",
            "Start validation\n"
          ]
        },
        {
          "data": {
            "application/vnd.jupyter.widget-view+json": {
              "model_id": "98794ff38f794dc1a7b49654ed3024af",
              "version_major": 2,
              "version_minor": 0
            },
            "text/plain": [
              "  0%|          | 0/99 [00:00<?, ?it/s]"
            ]
          },
          "metadata": {},
          "output_type": "display_data"
        },
        {
          "name": "stdout",
          "output_type": "stream",
          "text": [
            "val_loss: 2.0486410573275404\n",
            "val_acc: 0.4017743979721166\n",
            "Start validation\n"
          ]
        },
        {
          "data": {
            "application/vnd.jupyter.widget-view+json": {
              "model_id": "ccd764d6cd794e5cbf94e4d27ca2ee7b",
              "version_major": 2,
              "version_minor": 0
            },
            "text/plain": [
              "  0%|          | 0/99 [00:00<?, ?it/s]"
            ]
          },
          "metadata": {},
          "output_type": "display_data"
        },
        {
          "name": "stdout",
          "output_type": "stream",
          "text": [
            "val_loss: 2.036674429069866\n",
            "val_acc: 0.4055766793409379\n",
            "Start validation\n"
          ]
        },
        {
          "data": {
            "application/vnd.jupyter.widget-view+json": {
              "model_id": "0be37ac57f254072aa5f5032fec12b11",
              "version_major": 2,
              "version_minor": 0
            },
            "text/plain": [
              "  0%|          | 0/99 [00:00<?, ?it/s]"
            ]
          },
          "metadata": {},
          "output_type": "display_data"
        },
        {
          "name": "stdout",
          "output_type": "stream",
          "text": [
            "val_loss: 1.836132632361518\n",
            "val_acc: 0.394169835234474\n",
            "Start validation\n"
          ]
        },
        {
          "data": {
            "application/vnd.jupyter.widget-view+json": {
              "model_id": "2a943ba9b2b3465fa4a1fa737a470275",
              "version_major": 2,
              "version_minor": 0
            },
            "text/plain": [
              "  0%|          | 0/99 [00:00<?, ?it/s]"
            ]
          },
          "metadata": {},
          "output_type": "display_data"
        },
        {
          "name": "stdout",
          "output_type": "stream",
          "text": [
            "val_loss: 1.8691654301653005\n",
            "val_acc: 0.4055766793409379\n",
            "Start validation\n"
          ]
        },
        {
          "data": {
            "application/vnd.jupyter.widget-view+json": {
              "model_id": "04d115eeee8a4300b4da6d05416f16ef",
              "version_major": 2,
              "version_minor": 0
            },
            "text/plain": [
              "  0%|          | 0/99 [00:00<?, ?it/s]"
            ]
          },
          "metadata": {},
          "output_type": "display_data"
        },
        {
          "name": "stdout",
          "output_type": "stream",
          "text": [
            "val_loss: 1.9113480069420554\n",
            "val_acc: 0.4055766793409379\n",
            "Start validation\n"
          ]
        },
        {
          "data": {
            "application/vnd.jupyter.widget-view+json": {
              "model_id": "94de1370da8741c2a2d54e052cbe925f",
              "version_major": 2,
              "version_minor": 0
            },
            "text/plain": [
              "  0%|          | 0/99 [00:00<?, ?it/s]"
            ]
          },
          "metadata": {},
          "output_type": "display_data"
        },
        {
          "name": "stdout",
          "output_type": "stream",
          "text": [
            "val_loss: 1.5370751360450128\n",
            "val_acc: 0.4055766793409379\n",
            "Start validation\n"
          ]
        },
        {
          "data": {
            "application/vnd.jupyter.widget-view+json": {
              "model_id": "5bba39b6147049848533b2b309944890",
              "version_major": 2,
              "version_minor": 0
            },
            "text/plain": [
              "  0%|          | 0/99 [00:00<?, ?it/s]"
            ]
          },
          "metadata": {},
          "output_type": "display_data"
        },
        {
          "name": "stdout",
          "output_type": "stream",
          "text": [
            "val_loss: 1.3365787207478224\n",
            "val_acc: 0.4005069708491762\n",
            "Start validation\n"
          ]
        },
        {
          "data": {
            "application/vnd.jupyter.widget-view+json": {
              "model_id": "f3e42eb6418f4ad9b821878df93debec",
              "version_major": 2,
              "version_minor": 0
            },
            "text/plain": [
              "  0%|          | 0/99 [00:00<?, ?it/s]"
            ]
          },
          "metadata": {},
          "output_type": "display_data"
        },
        {
          "name": "stdout",
          "output_type": "stream",
          "text": [
            "val_loss: 1.624794015378663\n",
            "val_acc: 0.4055766793409379\n",
            "Start validation\n"
          ]
        },
        {
          "data": {
            "application/vnd.jupyter.widget-view+json": {
              "model_id": "0ad16599bc18408e984be3477a8b1ae7",
              "version_major": 2,
              "version_minor": 0
            },
            "text/plain": [
              "  0%|          | 0/99 [00:00<?, ?it/s]"
            ]
          },
          "metadata": {},
          "output_type": "display_data"
        },
        {
          "name": "stdout",
          "output_type": "stream",
          "text": [
            "val_loss: 1.5801026429792848\n",
            "val_acc: 0.4055766793409379\n",
            "Start validation\n"
          ]
        },
        {
          "data": {
            "application/vnd.jupyter.widget-view+json": {
              "model_id": "d999fad55be043c3a3adb4fd5b7d3c3c",
              "version_major": 2,
              "version_minor": 0
            },
            "text/plain": [
              "  0%|          | 0/99 [00:00<?, ?it/s]"
            ]
          },
          "metadata": {},
          "output_type": "display_data"
        },
        {
          "name": "stdout",
          "output_type": "stream",
          "text": [
            "val_loss: 1.2080159837549382\n",
            "val_acc: 0.4005069708491762\n",
            "Start validation\n"
          ]
        },
        {
          "data": {
            "application/vnd.jupyter.widget-view+json": {
              "model_id": "33a5ee9622104dadb2bfb3b29864d124",
              "version_major": 2,
              "version_minor": 0
            },
            "text/plain": [
              "  0%|          | 0/99 [00:00<?, ?it/s]"
            ]
          },
          "metadata": {},
          "output_type": "display_data"
        },
        {
          "name": "stdout",
          "output_type": "stream",
          "text": [
            "val_loss: 1.2133192444088483\n",
            "val_acc: 0.40304182509505704\n",
            "Start validation\n"
          ]
        },
        {
          "data": {
            "application/vnd.jupyter.widget-view+json": {
              "model_id": "58fe843a4ffa48b4962be7ceb55cfe11",
              "version_major": 2,
              "version_minor": 0
            },
            "text/plain": [
              "  0%|          | 0/99 [00:00<?, ?it/s]"
            ]
          },
          "metadata": {},
          "output_type": "display_data"
        },
        {
          "name": "stdout",
          "output_type": "stream",
          "text": [
            "val_loss: 1.5159313865382262\n",
            "val_acc: 0.4055766793409379\n",
            "Start validation\n"
          ]
        },
        {
          "data": {
            "application/vnd.jupyter.widget-view+json": {
              "model_id": "0cbd0bb3f0a846f6bac7baf3a33cd6db",
              "version_major": 2,
              "version_minor": 0
            },
            "text/plain": [
              "  0%|          | 0/99 [00:00<?, ?it/s]"
            ]
          },
          "metadata": {},
          "output_type": "display_data"
        },
        {
          "name": "stdout",
          "output_type": "stream",
          "text": [
            "val_loss: 1.2682004414423547\n",
            "val_acc: 0.4055766793409379\n",
            "Start validation\n"
          ]
        },
        {
          "data": {
            "application/vnd.jupyter.widget-view+json": {
              "model_id": "1993c32977ff4450a0f540863b532131",
              "version_major": 2,
              "version_minor": 0
            },
            "text/plain": [
              "  0%|          | 0/99 [00:00<?, ?it/s]"
            ]
          },
          "metadata": {},
          "output_type": "display_data"
        },
        {
          "name": "stdout",
          "output_type": "stream",
          "text": [
            "val_loss: 1.4858153974167023\n",
            "val_acc: 0.4055766793409379\n",
            "Start validation\n"
          ]
        },
        {
          "data": {
            "application/vnd.jupyter.widget-view+json": {
              "model_id": "b0b9084e71564bab80fcfab0dd181ef5",
              "version_major": 2,
              "version_minor": 0
            },
            "text/plain": [
              "  0%|          | 0/99 [00:00<?, ?it/s]"
            ]
          },
          "metadata": {},
          "output_type": "display_data"
        },
        {
          "name": "stdout",
          "output_type": "stream",
          "text": [
            "val_loss: 1.5088602045569757\n",
            "val_acc: 0.4005069708491762\n",
            "Start validation\n"
          ]
        },
        {
          "data": {
            "application/vnd.jupyter.widget-view+json": {
              "model_id": "24c725a7c1e24c9bbc15148d5ae75f6f",
              "version_major": 2,
              "version_minor": 0
            },
            "text/plain": [
              "  0%|          | 0/99 [00:00<?, ?it/s]"
            ]
          },
          "metadata": {},
          "output_type": "display_data"
        },
        {
          "name": "stdout",
          "output_type": "stream",
          "text": [
            "val_loss: 1.6082136354061087\n",
            "val_acc: 0.4055766793409379\n",
            "Start validation\n"
          ]
        },
        {
          "data": {
            "application/vnd.jupyter.widget-view+json": {
              "model_id": "1bc5c2650a73479e955a32db40e0fcf8",
              "version_major": 2,
              "version_minor": 0
            },
            "text/plain": [
              "  0%|          | 0/99 [00:00<?, ?it/s]"
            ]
          },
          "metadata": {},
          "output_type": "display_data"
        },
        {
          "name": "stdout",
          "output_type": "stream",
          "text": [
            "val_loss: 1.6596766914984193\n",
            "val_acc: 0.4005069708491762\n",
            "Start validation\n"
          ]
        },
        {
          "data": {
            "application/vnd.jupyter.widget-view+json": {
              "model_id": "e174334817de417e8f5a50b7e1de0f9e",
              "version_major": 2,
              "version_minor": 0
            },
            "text/plain": [
              "  0%|          | 0/99 [00:00<?, ?it/s]"
            ]
          },
          "metadata": {},
          "output_type": "display_data"
        },
        {
          "name": "stdout",
          "output_type": "stream",
          "text": [
            "val_loss: 1.5790591468714705\n",
            "val_acc: 0.4005069708491762\n",
            "Start validation\n"
          ]
        },
        {
          "data": {
            "application/vnd.jupyter.widget-view+json": {
              "model_id": "54463fd1b6c3449cb7af8ac600517821",
              "version_major": 2,
              "version_minor": 0
            },
            "text/plain": [
              "  0%|          | 0/99 [00:00<?, ?it/s]"
            ]
          },
          "metadata": {},
          "output_type": "display_data"
        },
        {
          "name": "stdout",
          "output_type": "stream",
          "text": [
            "val_loss: 1.5893238849110074\n",
            "val_acc: 0.4005069708491762\n",
            "Start validation\n"
          ]
        },
        {
          "data": {
            "application/vnd.jupyter.widget-view+json": {
              "model_id": "500d3e4017be4a17b80e77c91b48348e",
              "version_major": 2,
              "version_minor": 0
            },
            "text/plain": [
              "  0%|          | 0/99 [00:00<?, ?it/s]"
            ]
          },
          "metadata": {},
          "output_type": "display_data"
        },
        {
          "name": "stdout",
          "output_type": "stream",
          "text": [
            "val_loss: 1.6433561396117162\n",
            "val_acc: 0.4005069708491762\n",
            "Start validation\n"
          ]
        },
        {
          "data": {
            "application/vnd.jupyter.widget-view+json": {
              "model_id": "7008ab4aaf5b44e788f86b64fe7af3cb",
              "version_major": 2,
              "version_minor": 0
            },
            "text/plain": [
              "  0%|          | 0/99 [00:00<?, ?it/s]"
            ]
          },
          "metadata": {},
          "output_type": "display_data"
        },
        {
          "name": "stdout",
          "output_type": "stream",
          "text": [
            "val_loss: 1.6717540356847975\n",
            "val_acc: 0.4055766793409379\n",
            "Start validation\n"
          ]
        },
        {
          "data": {
            "application/vnd.jupyter.widget-view+json": {
              "model_id": "78f8ea343c724fd68c57d38677a8a2d2",
              "version_major": 2,
              "version_minor": 0
            },
            "text/plain": [
              "  0%|          | 0/99 [00:00<?, ?it/s]"
            ]
          },
          "metadata": {},
          "output_type": "display_data"
        },
        {
          "name": "stdout",
          "output_type": "stream",
          "text": [
            "val_loss: 1.754118314897171\n",
            "val_acc: 0.4005069708491762\n",
            "Start validation\n"
          ]
        },
        {
          "data": {
            "application/vnd.jupyter.widget-view+json": {
              "model_id": "eda2e7b28c464b3b83ea19c2fb60adc6",
              "version_major": 2,
              "version_minor": 0
            },
            "text/plain": [
              "  0%|          | 0/99 [00:00<?, ?it/s]"
            ]
          },
          "metadata": {},
          "output_type": "display_data"
        },
        {
          "name": "stdout",
          "output_type": "stream",
          "text": [
            "val_loss: 1.7130930893348926\n",
            "val_acc: 0.4055766793409379\n",
            "Start validation\n"
          ]
        },
        {
          "data": {
            "application/vnd.jupyter.widget-view+json": {
              "model_id": "f9760edc1e16414ea50ff41a83699ec6",
              "version_major": 2,
              "version_minor": 0
            },
            "text/plain": [
              "  0%|          | 0/99 [00:00<?, ?it/s]"
            ]
          },
          "metadata": {},
          "output_type": "display_data"
        },
        {
          "name": "stdout",
          "output_type": "stream",
          "text": [
            "val_loss: 1.7489637750567812\n",
            "val_acc: 0.4055766793409379\n",
            "Start validation\n"
          ]
        },
        {
          "data": {
            "application/vnd.jupyter.widget-view+json": {
              "model_id": "8cb737b3bf3949e8a43c4642652964ad",
              "version_major": 2,
              "version_minor": 0
            },
            "text/plain": [
              "  0%|          | 0/99 [00:00<?, ?it/s]"
            ]
          },
          "metadata": {},
          "output_type": "display_data"
        },
        {
          "name": "stdout",
          "output_type": "stream",
          "text": [
            "val_loss: 1.7651879058943853\n",
            "val_acc: 0.4005069708491762\n",
            "Start validation\n"
          ]
        },
        {
          "data": {
            "application/vnd.jupyter.widget-view+json": {
              "model_id": "b687ba6d870c438ba6d13c8f0ae1da21",
              "version_major": 2,
              "version_minor": 0
            },
            "text/plain": [
              "  0%|          | 0/99 [00:00<?, ?it/s]"
            ]
          },
          "metadata": {},
          "output_type": "display_data"
        },
        {
          "name": "stdout",
          "output_type": "stream",
          "text": [
            "val_loss: 1.7776750524838765\n",
            "val_acc: 0.4055766793409379\n",
            "Start validation\n"
          ]
        },
        {
          "data": {
            "application/vnd.jupyter.widget-view+json": {
              "model_id": "a82669a6ff154627a5222febf855ba9b",
              "version_major": 2,
              "version_minor": 0
            },
            "text/plain": [
              "  0%|          | 0/99 [00:00<?, ?it/s]"
            ]
          },
          "metadata": {},
          "output_type": "display_data"
        },
        {
          "name": "stdout",
          "output_type": "stream",
          "text": [
            "val_loss: 1.7989339798387856\n",
            "val_acc: 0.4055766793409379\n",
            "Start validation\n"
          ]
        },
        {
          "data": {
            "application/vnd.jupyter.widget-view+json": {
              "model_id": "aad5e3517e57420892a62fadb5764c3a",
              "version_major": 2,
              "version_minor": 0
            },
            "text/plain": [
              "  0%|          | 0/99 [00:00<?, ?it/s]"
            ]
          },
          "metadata": {},
          "output_type": "display_data"
        },
        {
          "name": "stdout",
          "output_type": "stream",
          "text": [
            "val_loss: 1.8128677769140764\n",
            "val_acc: 0.4055766793409379\n",
            "Start validation\n"
          ]
        },
        {
          "data": {
            "application/vnd.jupyter.widget-view+json": {
              "model_id": "b1b5239fe7754f4c94f853cf19ecaf54",
              "version_major": 2,
              "version_minor": 0
            },
            "text/plain": [
              "  0%|          | 0/99 [00:00<?, ?it/s]"
            ]
          },
          "metadata": {},
          "output_type": "display_data"
        },
        {
          "name": "stdout",
          "output_type": "stream",
          "text": [
            "val_loss: 1.82206956726132\n",
            "val_acc: 0.4055766793409379\n",
            "Start validation\n"
          ]
        },
        {
          "data": {
            "application/vnd.jupyter.widget-view+json": {
              "model_id": "88554c89c63d4a91900015bd39693911",
              "version_major": 2,
              "version_minor": 0
            },
            "text/plain": [
              "  0%|          | 0/99 [00:00<?, ?it/s]"
            ]
          },
          "metadata": {},
          "output_type": "display_data"
        },
        {
          "name": "stdout",
          "output_type": "stream",
          "text": [
            "val_loss: 1.8278968779727667\n",
            "val_acc: 0.4055766793409379\n",
            "Start validation\n"
          ]
        },
        {
          "data": {
            "application/vnd.jupyter.widget-view+json": {
              "model_id": "ec1e047e15964cf79ee1958704a04a2d",
              "version_major": 2,
              "version_minor": 0
            },
            "text/plain": [
              "  0%|          | 0/99 [00:00<?, ?it/s]"
            ]
          },
          "metadata": {},
          "output_type": "display_data"
        },
        {
          "name": "stdout",
          "output_type": "stream",
          "text": [
            "val_loss: 1.8315473042353234\n",
            "val_acc: 0.4055766793409379\n",
            "Start validation\n"
          ]
        },
        {
          "data": {
            "application/vnd.jupyter.widget-view+json": {
              "model_id": "9a5d919a0db8475ebe5acb2af3a557dc",
              "version_major": 2,
              "version_minor": 0
            },
            "text/plain": [
              "  0%|          | 0/99 [00:00<?, ?it/s]"
            ]
          },
          "metadata": {},
          "output_type": "display_data"
        },
        {
          "name": "stdout",
          "output_type": "stream",
          "text": [
            "val_loss: 1.8458542444489219\n",
            "val_acc: 0.4005069708491762\n",
            "Start validation\n"
          ]
        },
        {
          "data": {
            "application/vnd.jupyter.widget-view+json": {
              "model_id": "360ed0ac8b2f485085873dc294dd32ed",
              "version_major": 2,
              "version_minor": 0
            },
            "text/plain": [
              "  0%|          | 0/99 [00:00<?, ?it/s]"
            ]
          },
          "metadata": {},
          "output_type": "display_data"
        },
        {
          "name": "stdout",
          "output_type": "stream",
          "text": [
            "val_loss: 1.8523936259626137\n",
            "val_acc: 0.4055766793409379\n",
            "Start validation\n"
          ]
        },
        {
          "data": {
            "application/vnd.jupyter.widget-view+json": {
              "model_id": "37b82d2ef6754c0c9a71b2c25d7256a4",
              "version_major": 2,
              "version_minor": 0
            },
            "text/plain": [
              "  0%|          | 0/99 [00:00<?, ?it/s]"
            ]
          },
          "metadata": {},
          "output_type": "display_data"
        },
        {
          "name": "stdout",
          "output_type": "stream",
          "text": [
            "val_loss: 1.8644671404000484\n",
            "val_acc: 0.4005069708491762\n",
            "Start validation\n"
          ]
        },
        {
          "data": {
            "application/vnd.jupyter.widget-view+json": {
              "model_id": "a2c8966f15b7453391dc1a417152b678",
              "version_major": 2,
              "version_minor": 0
            },
            "text/plain": [
              "  0%|          | 0/99 [00:00<?, ?it/s]"
            ]
          },
          "metadata": {},
          "output_type": "display_data"
        },
        {
          "name": "stdout",
          "output_type": "stream",
          "text": [
            "val_loss: 1.87747550251508\n",
            "val_acc: 0.4055766793409379\n",
            "Start validation\n"
          ]
        },
        {
          "data": {
            "application/vnd.jupyter.widget-view+json": {
              "model_id": "790decc455754666939c2953e6a2fec5",
              "version_major": 2,
              "version_minor": 0
            },
            "text/plain": [
              "  0%|          | 0/99 [00:00<?, ?it/s]"
            ]
          },
          "metadata": {},
          "output_type": "display_data"
        },
        {
          "name": "stdout",
          "output_type": "stream",
          "text": [
            "val_loss: 1.9081054293748103\n",
            "val_acc: 0.4005069708491762\n",
            "Start validation\n"
          ]
        },
        {
          "data": {
            "application/vnd.jupyter.widget-view+json": {
              "model_id": "1f9bc3e1c0a4455bb7be16e4d331b0c2",
              "version_major": 2,
              "version_minor": 0
            },
            "text/plain": [
              "  0%|          | 0/99 [00:00<?, ?it/s]"
            ]
          },
          "metadata": {},
          "output_type": "display_data"
        },
        {
          "name": "stdout",
          "output_type": "stream",
          "text": [
            "val_loss: 1.8806627212148723\n",
            "val_acc: 0.4005069708491762\n",
            "Start validation\n"
          ]
        },
        {
          "data": {
            "application/vnd.jupyter.widget-view+json": {
              "model_id": "b6a9d28485544961955f2515ad872bb5",
              "version_major": 2,
              "version_minor": 0
            },
            "text/plain": [
              "  0%|          | 0/99 [00:00<?, ?it/s]"
            ]
          },
          "metadata": {},
          "output_type": "display_data"
        },
        {
          "name": "stdout",
          "output_type": "stream",
          "text": [
            "val_loss: 1.8887571788797475\n",
            "val_acc: 0.4005069708491762\n",
            "Start validation\n"
          ]
        },
        {
          "data": {
            "application/vnd.jupyter.widget-view+json": {
              "model_id": "b1089f827ed144e684dcf788e5a07ca4",
              "version_major": 2,
              "version_minor": 0
            },
            "text/plain": [
              "  0%|          | 0/99 [00:00<?, ?it/s]"
            ]
          },
          "metadata": {},
          "output_type": "display_data"
        },
        {
          "name": "stdout",
          "output_type": "stream",
          "text": [
            "val_loss: 1.8973556383691652\n",
            "val_acc: 0.4055766793409379\n",
            "Start validation\n"
          ]
        },
        {
          "data": {
            "application/vnd.jupyter.widget-view+json": {
              "model_id": "62d166e886734081a65b8faa3b7c09e4",
              "version_major": 2,
              "version_minor": 0
            },
            "text/plain": [
              "  0%|          | 0/99 [00:00<?, ?it/s]"
            ]
          },
          "metadata": {},
          "output_type": "display_data"
        },
        {
          "name": "stdout",
          "output_type": "stream",
          "text": [
            "val_loss: 1.904657446374797\n",
            "val_acc: 0.4055766793409379\n",
            "Start validation\n"
          ]
        },
        {
          "data": {
            "application/vnd.jupyter.widget-view+json": {
              "model_id": "788cdebd33b946b9803f19ac0e4039f9",
              "version_major": 2,
              "version_minor": 0
            },
            "text/plain": [
              "  0%|          | 0/99 [00:00<?, ?it/s]"
            ]
          },
          "metadata": {},
          "output_type": "display_data"
        },
        {
          "name": "stdout",
          "output_type": "stream",
          "text": [
            "val_loss: 1.910041412921867\n",
            "val_acc: 0.4005069708491762\n",
            "Start validation\n"
          ]
        },
        {
          "data": {
            "application/vnd.jupyter.widget-view+json": {
              "model_id": "a3b26c9acad5413a8c7c928a47c5c028",
              "version_major": 2,
              "version_minor": 0
            },
            "text/plain": [
              "  0%|          | 0/99 [00:00<?, ?it/s]"
            ]
          },
          "metadata": {},
          "output_type": "display_data"
        },
        {
          "name": "stdout",
          "output_type": "stream",
          "text": [
            "val_loss: 1.9168186627253136\n",
            "val_acc: 0.4005069708491762\n",
            "Start validation\n"
          ]
        },
        {
          "data": {
            "application/vnd.jupyter.widget-view+json": {
              "model_id": "5527d3c84dcf461f917f353e4d9ea442",
              "version_major": 2,
              "version_minor": 0
            },
            "text/plain": [
              "  0%|          | 0/99 [00:00<?, ?it/s]"
            ]
          },
          "metadata": {},
          "output_type": "display_data"
        },
        {
          "name": "stdout",
          "output_type": "stream",
          "text": [
            "val_loss: 1.9234089797193354\n",
            "val_acc: 0.4055766793409379\n",
            "Start validation\n"
          ]
        },
        {
          "data": {
            "application/vnd.jupyter.widget-view+json": {
              "model_id": "7b47d977526e41828feb2ac6a87c4fd5",
              "version_major": 2,
              "version_minor": 0
            },
            "text/plain": [
              "  0%|          | 0/99 [00:00<?, ?it/s]"
            ]
          },
          "metadata": {},
          "output_type": "display_data"
        },
        {
          "name": "stdout",
          "output_type": "stream",
          "text": [
            "val_loss: 1.9300729343385408\n",
            "val_acc: 0.4055766793409379\n",
            "Start validation\n"
          ]
        },
        {
          "data": {
            "application/vnd.jupyter.widget-view+json": {
              "model_id": "b3526c559694412b914a81b496a8aa79",
              "version_major": 2,
              "version_minor": 0
            },
            "text/plain": [
              "  0%|          | 0/99 [00:00<?, ?it/s]"
            ]
          },
          "metadata": {},
          "output_type": "display_data"
        },
        {
          "name": "stdout",
          "output_type": "stream",
          "text": [
            "val_loss: 1.950245231691033\n",
            "val_acc: 0.4055766793409379\n",
            "Start validation\n"
          ]
        },
        {
          "data": {
            "application/vnd.jupyter.widget-view+json": {
              "model_id": "7c4c5849a12146e29807aa0902987c1e",
              "version_major": 2,
              "version_minor": 0
            },
            "text/plain": [
              "  0%|          | 0/99 [00:00<?, ?it/s]"
            ]
          },
          "metadata": {},
          "output_type": "display_data"
        },
        {
          "name": "stdout",
          "output_type": "stream",
          "text": [
            "val_loss: 1.942913289021964\n",
            "val_acc: 0.4055766793409379\n",
            "Start validation\n"
          ]
        },
        {
          "data": {
            "application/vnd.jupyter.widget-view+json": {
              "model_id": "ee0951397e2a4b78bdc1eb1524e283ab",
              "version_major": 2,
              "version_minor": 0
            },
            "text/plain": [
              "  0%|          | 0/99 [00:00<?, ?it/s]"
            ]
          },
          "metadata": {},
          "output_type": "display_data"
        },
        {
          "name": "stdout",
          "output_type": "stream",
          "text": [
            "val_loss: 1.9610961609416537\n",
            "val_acc: 0.4005069708491762\n",
            "Start validation\n"
          ]
        },
        {
          "data": {
            "application/vnd.jupyter.widget-view+json": {
              "model_id": "9ac34d9f910c437a9837a01ac5fb7110",
              "version_major": 2,
              "version_minor": 0
            },
            "text/plain": [
              "  0%|          | 0/99 [00:00<?, ?it/s]"
            ]
          },
          "metadata": {},
          "output_type": "display_data"
        },
        {
          "name": "stdout",
          "output_type": "stream",
          "text": [
            "val_loss: 1.9480240465414644\n",
            "val_acc: 0.4055766793409379\n",
            "Start validation\n"
          ]
        },
        {
          "data": {
            "application/vnd.jupyter.widget-view+json": {
              "model_id": "593c8bdde03445feb9d1252cc6e8e161",
              "version_major": 2,
              "version_minor": 0
            },
            "text/plain": [
              "  0%|          | 0/99 [00:00<?, ?it/s]"
            ]
          },
          "metadata": {},
          "output_type": "display_data"
        },
        {
          "name": "stdout",
          "output_type": "stream",
          "text": [
            "val_loss: 1.956796215640174\n",
            "val_acc: 0.4005069708491762\n",
            "Start validation\n"
          ]
        },
        {
          "data": {
            "application/vnd.jupyter.widget-view+json": {
              "model_id": "f76591951efd4cbb8e77f3f7362a7c10",
              "version_major": 2,
              "version_minor": 0
            },
            "text/plain": [
              "  0%|          | 0/99 [00:00<?, ?it/s]"
            ]
          },
          "metadata": {},
          "output_type": "display_data"
        },
        {
          "name": "stdout",
          "output_type": "stream",
          "text": [
            "val_loss: 1.9471057039318662\n",
            "val_acc: 0.4055766793409379\n",
            "Start validation\n"
          ]
        },
        {
          "data": {
            "application/vnd.jupyter.widget-view+json": {
              "model_id": "a9da0ac65566435ea04b05ac187534c9",
              "version_major": 2,
              "version_minor": 0
            },
            "text/plain": [
              "  0%|          | 0/99 [00:00<?, ?it/s]"
            ]
          },
          "metadata": {},
          "output_type": "display_data"
        },
        {
          "name": "stdout",
          "output_type": "stream",
          "text": [
            "val_loss: 1.8823885863477534\n",
            "val_acc: 0.4005069708491762\n",
            "Start validation\n"
          ]
        },
        {
          "data": {
            "application/vnd.jupyter.widget-view+json": {
              "model_id": "3112fab00c4b40fa8399674a0c9bb29d",
              "version_major": 2,
              "version_minor": 0
            },
            "text/plain": [
              "  0%|          | 0/99 [00:00<?, ?it/s]"
            ]
          },
          "metadata": {},
          "output_type": "display_data"
        },
        {
          "name": "stdout",
          "output_type": "stream",
          "text": [
            "val_loss: 1.8816798485890784\n",
            "val_acc: 0.4005069708491762\n",
            "Start validation\n"
          ]
        },
        {
          "data": {
            "application/vnd.jupyter.widget-view+json": {
              "model_id": "0d9cedf49db64909ae7b35dafc46f17d",
              "version_major": 2,
              "version_minor": 0
            },
            "text/plain": [
              "  0%|          | 0/99 [00:00<?, ?it/s]"
            ]
          },
          "metadata": {},
          "output_type": "display_data"
        },
        {
          "name": "stdout",
          "output_type": "stream",
          "text": [
            "val_loss: 1.8693001186004792\n",
            "val_acc: 0.4055766793409379\n",
            "Start validation\n"
          ]
        },
        {
          "data": {
            "application/vnd.jupyter.widget-view+json": {
              "model_id": "8ea953494ee349dd9c7f53e2297e9de6",
              "version_major": 2,
              "version_minor": 0
            },
            "text/plain": [
              "  0%|          | 0/99 [00:00<?, ?it/s]"
            ]
          },
          "metadata": {},
          "output_type": "display_data"
        },
        {
          "name": "stdout",
          "output_type": "stream",
          "text": [
            "val_loss: 1.8905226919386122\n",
            "val_acc: 0.4055766793409379\n",
            "Start validation\n"
          ]
        },
        {
          "data": {
            "application/vnd.jupyter.widget-view+json": {
              "model_id": "e138563ed9f849a78234f1b46d95ae7d",
              "version_major": 2,
              "version_minor": 0
            },
            "text/plain": [
              "  0%|          | 0/99 [00:00<?, ?it/s]"
            ]
          },
          "metadata": {},
          "output_type": "display_data"
        },
        {
          "name": "stdout",
          "output_type": "stream",
          "text": [
            "val_loss: 1.8981373984404284\n",
            "val_acc: 0.4005069708491762\n",
            "Start validation\n"
          ]
        },
        {
          "data": {
            "application/vnd.jupyter.widget-view+json": {
              "model_id": "68915da940dd481e9d19707f49150595",
              "version_major": 2,
              "version_minor": 0
            },
            "text/plain": [
              "  0%|          | 0/99 [00:00<?, ?it/s]"
            ]
          },
          "metadata": {},
          "output_type": "display_data"
        },
        {
          "name": "stdout",
          "output_type": "stream",
          "text": [
            "val_loss: 1.9113300165744742\n",
            "val_acc: 0.4055766793409379\n",
            "Start validation\n"
          ]
        },
        {
          "data": {
            "application/vnd.jupyter.widget-view+json": {
              "model_id": "7fe7e4a744e44553875f427c2440ceb2",
              "version_major": 2,
              "version_minor": 0
            },
            "text/plain": [
              "  0%|          | 0/99 [00:00<?, ?it/s]"
            ]
          },
          "metadata": {},
          "output_type": "display_data"
        },
        {
          "name": "stdout",
          "output_type": "stream",
          "text": [
            "val_loss: 1.910336140430335\n",
            "val_acc: 0.4055766793409379\n",
            "Start validation\n"
          ]
        },
        {
          "data": {
            "application/vnd.jupyter.widget-view+json": {
              "model_id": "e5bb3140ba66455ba45c3d1af6b00a25",
              "version_major": 2,
              "version_minor": 0
            },
            "text/plain": [
              "  0%|          | 0/99 [00:00<?, ?it/s]"
            ]
          },
          "metadata": {},
          "output_type": "display_data"
        },
        {
          "name": "stdout",
          "output_type": "stream",
          "text": [
            "val_loss: 1.9045647581418355\n",
            "val_acc: 0.4005069708491762\n",
            "Start validation\n"
          ]
        },
        {
          "data": {
            "application/vnd.jupyter.widget-view+json": {
              "model_id": "610497fc2614401ca0708d9a27ff384a",
              "version_major": 2,
              "version_minor": 0
            },
            "text/plain": [
              "  0%|          | 0/99 [00:00<?, ?it/s]"
            ]
          },
          "metadata": {},
          "output_type": "display_data"
        },
        {
          "name": "stdout",
          "output_type": "stream",
          "text": [
            "val_loss: 1.873437609937456\n",
            "val_acc: 0.4055766793409379\n",
            "Start validation\n"
          ]
        },
        {
          "data": {
            "application/vnd.jupyter.widget-view+json": {
              "model_id": "af603a23703748e3b208d7c7305e61e3",
              "version_major": 2,
              "version_minor": 0
            },
            "text/plain": [
              "  0%|          | 0/99 [00:00<?, ?it/s]"
            ]
          },
          "metadata": {},
          "output_type": "display_data"
        },
        {
          "name": "stdout",
          "output_type": "stream",
          "text": [
            "val_loss: 1.8850812315940857\n",
            "val_acc: 0.4005069708491762\n",
            "Start validation\n"
          ]
        },
        {
          "data": {
            "application/vnd.jupyter.widget-view+json": {
              "model_id": "be551d85f85146b8b0a3df9e856c3d76",
              "version_major": 2,
              "version_minor": 0
            },
            "text/plain": [
              "  0%|          | 0/99 [00:00<?, ?it/s]"
            ]
          },
          "metadata": {},
          "output_type": "display_data"
        },
        {
          "name": "stdout",
          "output_type": "stream",
          "text": [
            "val_loss: 1.893773782734919\n",
            "val_acc: 0.4055766793409379\n",
            "Start validation\n"
          ]
        },
        {
          "data": {
            "application/vnd.jupyter.widget-view+json": {
              "model_id": "2fbeb9862a404f829f18c41f6ddb77c4",
              "version_major": 2,
              "version_minor": 0
            },
            "text/plain": [
              "  0%|          | 0/99 [00:00<?, ?it/s]"
            ]
          },
          "metadata": {},
          "output_type": "display_data"
        },
        {
          "name": "stdout",
          "output_type": "stream",
          "text": [
            "val_loss: 1.8821155651651247\n",
            "val_acc: 0.4005069708491762\n",
            "Start validation\n"
          ]
        },
        {
          "data": {
            "application/vnd.jupyter.widget-view+json": {
              "model_id": "f49a99b884d24b199d13691aeae88a32",
              "version_major": 2,
              "version_minor": 0
            },
            "text/plain": [
              "  0%|          | 0/99 [00:00<?, ?it/s]"
            ]
          },
          "metadata": {},
          "output_type": "display_data"
        },
        {
          "name": "stdout",
          "output_type": "stream",
          "text": [
            "val_loss: 1.8670349343858583\n",
            "val_acc: 0.4005069708491762\n",
            "Start validation\n"
          ]
        },
        {
          "data": {
            "application/vnd.jupyter.widget-view+json": {
              "model_id": "de9d15339151423c81bdc3d50173506b",
              "version_major": 2,
              "version_minor": 0
            },
            "text/plain": [
              "  0%|          | 0/99 [00:00<?, ?it/s]"
            ]
          },
          "metadata": {},
          "output_type": "display_data"
        },
        {
          "name": "stdout",
          "output_type": "stream",
          "text": [
            "val_loss: 1.8809945468950753\n",
            "val_acc: 0.4055766793409379\n",
            "Start validation\n"
          ]
        },
        {
          "data": {
            "application/vnd.jupyter.widget-view+json": {
              "model_id": "95a014c17cbe47f58f27f81678382698",
              "version_major": 2,
              "version_minor": 0
            },
            "text/plain": [
              "  0%|          | 0/99 [00:00<?, ?it/s]"
            ]
          },
          "metadata": {},
          "output_type": "display_data"
        },
        {
          "name": "stdout",
          "output_type": "stream",
          "text": [
            "val_loss: 1.8902107850469725\n",
            "val_acc: 0.4005069708491762\n",
            "Start validation\n"
          ]
        },
        {
          "data": {
            "application/vnd.jupyter.widget-view+json": {
              "model_id": "1cc1a84918d94326977b7dcfdf1adfd8",
              "version_major": 2,
              "version_minor": 0
            },
            "text/plain": [
              "  0%|          | 0/99 [00:00<?, ?it/s]"
            ]
          },
          "metadata": {},
          "output_type": "display_data"
        },
        {
          "name": "stdout",
          "output_type": "stream",
          "text": [
            "val_loss: 1.898110523368373\n",
            "val_acc: 0.4055766793409379\n",
            "Start validation\n"
          ]
        },
        {
          "data": {
            "application/vnd.jupyter.widget-view+json": {
              "model_id": "1506f270d55d46958da79ef75b33a764",
              "version_major": 2,
              "version_minor": 0
            },
            "text/plain": [
              "  0%|          | 0/99 [00:00<?, ?it/s]"
            ]
          },
          "metadata": {},
          "output_type": "display_data"
        },
        {
          "name": "stdout",
          "output_type": "stream",
          "text": [
            "val_loss: 1.9073972954894558\n",
            "val_acc: 0.4055766793409379\n",
            "Start validation\n"
          ]
        },
        {
          "data": {
            "application/vnd.jupyter.widget-view+json": {
              "model_id": "3e9d0d114eb9431a8045ae7ae65425f2",
              "version_major": 2,
              "version_minor": 0
            },
            "text/plain": [
              "  0%|          | 0/99 [00:00<?, ?it/s]"
            ]
          },
          "metadata": {},
          "output_type": "display_data"
        },
        {
          "name": "stdout",
          "output_type": "stream",
          "text": [
            "val_loss: 1.9160297055437108\n",
            "val_acc: 0.4055766793409379\n",
            "Start validation\n"
          ]
        },
        {
          "data": {
            "application/vnd.jupyter.widget-view+json": {
              "model_id": "912fc9373f0d489280065819adb12f38",
              "version_major": 2,
              "version_minor": 0
            },
            "text/plain": [
              "  0%|          | 0/99 [00:00<?, ?it/s]"
            ]
          },
          "metadata": {},
          "output_type": "display_data"
        },
        {
          "name": "stdout",
          "output_type": "stream",
          "text": [
            "val_loss: 1.9253904903777923\n",
            "val_acc: 0.4055766793409379\n",
            "Start validation\n"
          ]
        },
        {
          "data": {
            "application/vnd.jupyter.widget-view+json": {
              "model_id": "b4d5ca97e7ce4c1eac1c0131cb81e984",
              "version_major": 2,
              "version_minor": 0
            },
            "text/plain": [
              "  0%|          | 0/99 [00:00<?, ?it/s]"
            ]
          },
          "metadata": {},
          "output_type": "display_data"
        },
        {
          "name": "stdout",
          "output_type": "stream",
          "text": [
            "val_loss: 1.9358821445041232\n",
            "val_acc: 0.4055766793409379\n",
            "Start validation\n"
          ]
        },
        {
          "data": {
            "application/vnd.jupyter.widget-view+json": {
              "model_id": "11df96fb27b7479c8f9edaae89a419bd",
              "version_major": 2,
              "version_minor": 0
            },
            "text/plain": [
              "  0%|          | 0/99 [00:00<?, ?it/s]"
            ]
          },
          "metadata": {},
          "output_type": "display_data"
        },
        {
          "name": "stdout",
          "output_type": "stream",
          "text": [
            "val_loss: 1.9544267257054646\n",
            "val_acc: 0.4005069708491762\n",
            "Start validation\n"
          ]
        },
        {
          "data": {
            "application/vnd.jupyter.widget-view+json": {
              "model_id": "abf4d46d2ecf46dab3536a84b501a387",
              "version_major": 2,
              "version_minor": 0
            },
            "text/plain": [
              "  0%|          | 0/99 [00:00<?, ?it/s]"
            ]
          },
          "metadata": {},
          "output_type": "display_data"
        },
        {
          "name": "stdout",
          "output_type": "stream",
          "text": [
            "val_loss: 1.9328162387163952\n",
            "val_acc: 0.4055766793409379\n",
            "Start validation\n"
          ]
        },
        {
          "data": {
            "application/vnd.jupyter.widget-view+json": {
              "model_id": "6db628afcba44be1810799d14022dfe8",
              "version_major": 2,
              "version_minor": 0
            },
            "text/plain": [
              "  0%|          | 0/99 [00:00<?, ?it/s]"
            ]
          },
          "metadata": {},
          "output_type": "display_data"
        },
        {
          "name": "stdout",
          "output_type": "stream",
          "text": [
            "val_loss: 1.9347268108165625\n",
            "val_acc: 0.4005069708491762\n",
            "Start validation\n"
          ]
        },
        {
          "data": {
            "application/vnd.jupyter.widget-view+json": {
              "model_id": "a1a410943b0d40e58e4d681d4a92503e",
              "version_major": 2,
              "version_minor": 0
            },
            "text/plain": [
              "  0%|          | 0/99 [00:00<?, ?it/s]"
            ]
          },
          "metadata": {},
          "output_type": "display_data"
        },
        {
          "name": "stdout",
          "output_type": "stream",
          "text": [
            "val_loss: 1.9444632385716294\n",
            "val_acc: 0.4005069708491762\n",
            "Start validation\n"
          ]
        },
        {
          "data": {
            "application/vnd.jupyter.widget-view+json": {
              "model_id": "8215e81f8e274cd5913523a0b9e6a803",
              "version_major": 2,
              "version_minor": 0
            },
            "text/plain": [
              "  0%|          | 0/99 [00:00<?, ?it/s]"
            ]
          },
          "metadata": {},
          "output_type": "display_data"
        },
        {
          "name": "stdout",
          "output_type": "stream",
          "text": [
            "val_loss: 1.9486715588906798\n",
            "val_acc: 0.4055766793409379\n",
            "Start validation\n"
          ]
        },
        {
          "data": {
            "application/vnd.jupyter.widget-view+json": {
              "model_id": "fed887b7d51c4ab29b427fd7779a2a1c",
              "version_major": 2,
              "version_minor": 0
            },
            "text/plain": [
              "  0%|          | 0/99 [00:00<?, ?it/s]"
            ]
          },
          "metadata": {},
          "output_type": "display_data"
        },
        {
          "name": "stdout",
          "output_type": "stream",
          "text": [
            "val_loss: 1.9552927625299705\n",
            "val_acc: 0.4055766793409379\n",
            "Start validation\n"
          ]
        },
        {
          "data": {
            "application/vnd.jupyter.widget-view+json": {
              "model_id": "0bd76b00d3524741ad7775fa4661c0f4",
              "version_major": 2,
              "version_minor": 0
            },
            "text/plain": [
              "  0%|          | 0/99 [00:00<?, ?it/s]"
            ]
          },
          "metadata": {},
          "output_type": "display_data"
        },
        {
          "name": "stdout",
          "output_type": "stream",
          "text": [
            "val_loss: 1.9621414313412675\n",
            "val_acc: 0.4055766793409379\n",
            "Start validation\n"
          ]
        },
        {
          "data": {
            "application/vnd.jupyter.widget-view+json": {
              "model_id": "07b67c08492a4148a1d89a11c5d40c21",
              "version_major": 2,
              "version_minor": 0
            },
            "text/plain": [
              "  0%|          | 0/99 [00:00<?, ?it/s]"
            ]
          },
          "metadata": {},
          "output_type": "display_data"
        },
        {
          "name": "stdout",
          "output_type": "stream",
          "text": [
            "val_loss: 1.9700979632560653\n",
            "val_acc: 0.4005069708491762\n",
            "Start validation\n"
          ]
        },
        {
          "data": {
            "application/vnd.jupyter.widget-view+json": {
              "model_id": "f13b5b8ec32d405b9c4097fcc9598cc1",
              "version_major": 2,
              "version_minor": 0
            },
            "text/plain": [
              "  0%|          | 0/99 [00:00<?, ?it/s]"
            ]
          },
          "metadata": {},
          "output_type": "display_data"
        },
        {
          "name": "stdout",
          "output_type": "stream",
          "text": [
            "val_loss: 1.9692478047476873\n",
            "val_acc: 0.4055766793409379\n",
            "Start validation\n"
          ]
        },
        {
          "data": {
            "application/vnd.jupyter.widget-view+json": {
              "model_id": "7cf37900277949b685fe79d1b61328d6",
              "version_major": 2,
              "version_minor": 0
            },
            "text/plain": [
              "  0%|          | 0/99 [00:00<?, ?it/s]"
            ]
          },
          "metadata": {},
          "output_type": "display_data"
        },
        {
          "name": "stdout",
          "output_type": "stream",
          "text": [
            "val_loss: 1.9747218971300606\n",
            "val_acc: 0.4055766793409379\n",
            "Start validation\n"
          ]
        },
        {
          "data": {
            "application/vnd.jupyter.widget-view+json": {
              "model_id": "bcbb5234b2ff49eba60262e9e200c855",
              "version_major": 2,
              "version_minor": 0
            },
            "text/plain": [
              "  0%|          | 0/99 [00:00<?, ?it/s]"
            ]
          },
          "metadata": {},
          "output_type": "display_data"
        },
        {
          "name": "stdout",
          "output_type": "stream",
          "text": [
            "val_loss: 1.9919854258046006\n",
            "val_acc: 0.4005069708491762\n",
            "Start validation\n"
          ]
        },
        {
          "data": {
            "application/vnd.jupyter.widget-view+json": {
              "model_id": "d769e7d76fd246e989404aa3f51083c6",
              "version_major": 2,
              "version_minor": 0
            },
            "text/plain": [
              "  0%|          | 0/99 [00:00<?, ?it/s]"
            ]
          },
          "metadata": {},
          "output_type": "display_data"
        },
        {
          "name": "stdout",
          "output_type": "stream",
          "text": [
            "val_loss: 1.9857500905942436\n",
            "val_acc: 0.4055766793409379\n",
            "Start validation\n"
          ]
        },
        {
          "data": {
            "application/vnd.jupyter.widget-view+json": {
              "model_id": "d8b705bbb70845e997204f27b2f520e0",
              "version_major": 2,
              "version_minor": 0
            },
            "text/plain": [
              "  0%|          | 0/99 [00:00<?, ?it/s]"
            ]
          },
          "metadata": {},
          "output_type": "display_data"
        },
        {
          "name": "stdout",
          "output_type": "stream",
          "text": [
            "val_loss: 2.0050617450415484\n",
            "val_acc: 0.4055766793409379\n",
            "Start validation\n"
          ]
        },
        {
          "data": {
            "application/vnd.jupyter.widget-view+json": {
              "model_id": "88bdde393b7c4f49ae4386b63471fe40",
              "version_major": 2,
              "version_minor": 0
            },
            "text/plain": [
              "  0%|          | 0/99 [00:00<?, ?it/s]"
            ]
          },
          "metadata": {},
          "output_type": "display_data"
        },
        {
          "name": "stdout",
          "output_type": "stream",
          "text": [
            "val_loss: 1.996324851055338\n",
            "val_acc: 0.4005069708491762\n",
            "Start validation\n"
          ]
        },
        {
          "data": {
            "application/vnd.jupyter.widget-view+json": {
              "model_id": "be585275b399462c8430bdd40e216c42",
              "version_major": 2,
              "version_minor": 0
            },
            "text/plain": [
              "  0%|          | 0/99 [00:00<?, ?it/s]"
            ]
          },
          "metadata": {},
          "output_type": "display_data"
        },
        {
          "name": "stdout",
          "output_type": "stream",
          "text": [
            "val_loss: 1.9597034815585974\n",
            "val_acc: 0.4055766793409379\n",
            "Start validation\n"
          ]
        },
        {
          "data": {
            "application/vnd.jupyter.widget-view+json": {
              "model_id": "c6b3ecdb4d0e40ae94778c7e63a99493",
              "version_major": 2,
              "version_minor": 0
            },
            "text/plain": [
              "  0%|          | 0/99 [00:00<?, ?it/s]"
            ]
          },
          "metadata": {},
          "output_type": "display_data"
        },
        {
          "name": "stdout",
          "output_type": "stream",
          "text": [
            "val_loss: 1.9558044304751387\n",
            "val_acc: 0.4055766793409379\n",
            "Start validation\n"
          ]
        },
        {
          "data": {
            "application/vnd.jupyter.widget-view+json": {
              "model_id": "a13fb6841911484d9acef4b81fbbdf4c",
              "version_major": 2,
              "version_minor": 0
            },
            "text/plain": [
              "  0%|          | 0/99 [00:00<?, ?it/s]"
            ]
          },
          "metadata": {},
          "output_type": "display_data"
        },
        {
          "name": "stdout",
          "output_type": "stream",
          "text": [
            "val_loss: 1.9089498495814776\n",
            "val_acc: 0.4055766793409379\n",
            "Start validation\n"
          ]
        },
        {
          "data": {
            "application/vnd.jupyter.widget-view+json": {
              "model_id": "0beeb899a5df42e595689d85d5963834",
              "version_major": 2,
              "version_minor": 0
            },
            "text/plain": [
              "  0%|          | 0/99 [00:00<?, ?it/s]"
            ]
          },
          "metadata": {},
          "output_type": "display_data"
        },
        {
          "name": "stdout",
          "output_type": "stream",
          "text": [
            "val_loss: 1.922931264747273\n",
            "val_acc: 0.4005069708491762\n",
            "Start validation\n"
          ]
        },
        {
          "data": {
            "application/vnd.jupyter.widget-view+json": {
              "model_id": "26a8352c4f084c8088db5245e0ec545b",
              "version_major": 2,
              "version_minor": 0
            },
            "text/plain": [
              "  0%|          | 0/99 [00:00<?, ?it/s]"
            ]
          },
          "metadata": {},
          "output_type": "display_data"
        },
        {
          "name": "stdout",
          "output_type": "stream",
          "text": [
            "val_loss: 1.926931715974904\n",
            "val_acc: 0.4055766793409379\n",
            "Start validation\n"
          ]
        },
        {
          "data": {
            "application/vnd.jupyter.widget-view+json": {
              "model_id": "61e0d025d53948ee822cb26645524160",
              "version_major": 2,
              "version_minor": 0
            },
            "text/plain": [
              "  0%|          | 0/99 [00:00<?, ?it/s]"
            ]
          },
          "metadata": {},
          "output_type": "display_data"
        },
        {
          "name": "stdout",
          "output_type": "stream",
          "text": [
            "val_loss: 1.9450206708426427\n",
            "val_acc: 0.4055766793409379\n",
            "Start validation\n"
          ]
        },
        {
          "data": {
            "application/vnd.jupyter.widget-view+json": {
              "model_id": "0a59ed14970d4a50804b0487f56d7f65",
              "version_major": 2,
              "version_minor": 0
            },
            "text/plain": [
              "  0%|          | 0/99 [00:00<?, ?it/s]"
            ]
          },
          "metadata": {},
          "output_type": "display_data"
        },
        {
          "name": "stdout",
          "output_type": "stream",
          "text": [
            "val_loss: 1.9614314780090794\n",
            "val_acc: 0.4005069708491762\n",
            "Start validation\n"
          ]
        },
        {
          "data": {
            "application/vnd.jupyter.widget-view+json": {
              "model_id": "87cd5c5a0a0b4ea3867c8cf6344054f1",
              "version_major": 2,
              "version_minor": 0
            },
            "text/plain": [
              "  0%|          | 0/99 [00:00<?, ?it/s]"
            ]
          },
          "metadata": {},
          "output_type": "display_data"
        },
        {
          "name": "stdout",
          "output_type": "stream",
          "text": [
            "val_loss: 1.958143209568178\n",
            "val_acc: 0.4005069708491762\n",
            "Start validation\n"
          ]
        },
        {
          "data": {
            "application/vnd.jupyter.widget-view+json": {
              "model_id": "f4cbcc5abcfe46a8934630538e11607a",
              "version_major": 2,
              "version_minor": 0
            },
            "text/plain": [
              "  0%|          | 0/99 [00:00<?, ?it/s]"
            ]
          },
          "metadata": {},
          "output_type": "display_data"
        },
        {
          "name": "stdout",
          "output_type": "stream",
          "text": [
            "val_loss: 1.9757732381724349\n",
            "val_acc: 0.4055766793409379\n",
            "Start validation\n"
          ]
        },
        {
          "data": {
            "application/vnd.jupyter.widget-view+json": {
              "model_id": "a760b98170054bbb958c9fc40e7722cc",
              "version_major": 2,
              "version_minor": 0
            },
            "text/plain": [
              "  0%|          | 0/99 [00:00<?, ?it/s]"
            ]
          },
          "metadata": {},
          "output_type": "display_data"
        },
        {
          "name": "stdout",
          "output_type": "stream",
          "text": [
            "val_loss: 1.9168919818569916\n",
            "val_acc: 0.4055766793409379\n",
            "Start validation\n"
          ]
        },
        {
          "data": {
            "application/vnd.jupyter.widget-view+json": {
              "model_id": "140e712cb5184e8e94f1af771f2fbf88",
              "version_major": 2,
              "version_minor": 0
            },
            "text/plain": [
              "  0%|          | 0/99 [00:00<?, ?it/s]"
            ]
          },
          "metadata": {},
          "output_type": "display_data"
        },
        {
          "name": "stdout",
          "output_type": "stream",
          "text": [
            "val_loss: 1.911529075015675\n",
            "val_acc: 0.4055766793409379\n",
            "Start validation\n"
          ]
        },
        {
          "data": {
            "application/vnd.jupyter.widget-view+json": {
              "model_id": "6ee55fea3d65482d9cb898d685f5d457",
              "version_major": 2,
              "version_minor": 0
            },
            "text/plain": [
              "  0%|          | 0/99 [00:00<?, ?it/s]"
            ]
          },
          "metadata": {},
          "output_type": "display_data"
        },
        {
          "name": "stdout",
          "output_type": "stream",
          "text": [
            "val_loss: 1.9238110527847752\n",
            "val_acc: 0.4055766793409379\n",
            "Start validation\n"
          ]
        },
        {
          "data": {
            "application/vnd.jupyter.widget-view+json": {
              "model_id": "ebc1e15a36374e8fa4428afbf5d1d70a",
              "version_major": 2,
              "version_minor": 0
            },
            "text/plain": [
              "  0%|          | 0/99 [00:00<?, ?it/s]"
            ]
          },
          "metadata": {},
          "output_type": "display_data"
        },
        {
          "name": "stdout",
          "output_type": "stream",
          "text": [
            "val_loss: 1.9386637403507425\n",
            "val_acc: 0.4055766793409379\n",
            "Start validation\n"
          ]
        },
        {
          "data": {
            "application/vnd.jupyter.widget-view+json": {
              "model_id": "4b4856ef6e2e4882ba38ccc3bf6d4ef8",
              "version_major": 2,
              "version_minor": 0
            },
            "text/plain": [
              "  0%|          | 0/99 [00:00<?, ?it/s]"
            ]
          },
          "metadata": {},
          "output_type": "display_data"
        },
        {
          "name": "stdout",
          "output_type": "stream",
          "text": [
            "val_loss: 1.945758372846276\n",
            "val_acc: 0.4005069708491762\n",
            "Start validation\n"
          ]
        },
        {
          "data": {
            "application/vnd.jupyter.widget-view+json": {
              "model_id": "178487b15780475bb005d8573fb78e1f",
              "version_major": 2,
              "version_minor": 0
            },
            "text/plain": [
              "  0%|          | 0/99 [00:00<?, ?it/s]"
            ]
          },
          "metadata": {},
          "output_type": "display_data"
        },
        {
          "name": "stdout",
          "output_type": "stream",
          "text": [
            "val_loss: 1.9408821668287721\n",
            "val_acc: 0.4005069708491762\n",
            "Start validation\n"
          ]
        },
        {
          "data": {
            "application/vnd.jupyter.widget-view+json": {
              "model_id": "3f735f6e81ac475ca4e16b11eb7ae916",
              "version_major": 2,
              "version_minor": 0
            },
            "text/plain": [
              "  0%|          | 0/99 [00:00<?, ?it/s]"
            ]
          },
          "metadata": {},
          "output_type": "display_data"
        },
        {
          "name": "stdout",
          "output_type": "stream",
          "text": [
            "val_loss: 1.8883594900670677\n",
            "val_acc: 0.4055766793409379\n",
            "Start validation\n"
          ]
        },
        {
          "data": {
            "application/vnd.jupyter.widget-view+json": {
              "model_id": "d9f6bfe068d943d9a55c074ee32427ea",
              "version_major": 2,
              "version_minor": 0
            },
            "text/plain": [
              "  0%|          | 0/99 [00:00<?, ?it/s]"
            ]
          },
          "metadata": {},
          "output_type": "display_data"
        },
        {
          "name": "stdout",
          "output_type": "stream",
          "text": [
            "val_loss: 1.8965851122682744\n",
            "val_acc: 0.4005069708491762\n",
            "Start validation\n"
          ]
        },
        {
          "data": {
            "application/vnd.jupyter.widget-view+json": {
              "model_id": "7424302344754b2c8820086a4c70cc91",
              "version_major": 2,
              "version_minor": 0
            },
            "text/plain": [
              "  0%|          | 0/99 [00:00<?, ?it/s]"
            ]
          },
          "metadata": {},
          "output_type": "display_data"
        },
        {
          "name": "stdout",
          "output_type": "stream",
          "text": [
            "val_loss: 1.9198751130489389\n",
            "val_acc: 0.4005069708491762\n",
            "Start validation\n"
          ]
        },
        {
          "data": {
            "application/vnd.jupyter.widget-view+json": {
              "model_id": "27663c1cf53e46e4a9b469c21a7bd913",
              "version_major": 2,
              "version_minor": 0
            },
            "text/plain": [
              "  0%|          | 0/99 [00:00<?, ?it/s]"
            ]
          },
          "metadata": {},
          "output_type": "display_data"
        },
        {
          "name": "stdout",
          "output_type": "stream",
          "text": [
            "val_loss: 1.92873265827545\n",
            "val_acc: 0.4055766793409379\n",
            "Start validation\n"
          ]
        },
        {
          "data": {
            "application/vnd.jupyter.widget-view+json": {
              "model_id": "b9883a879af34b62af8cda708888cb42",
              "version_major": 2,
              "version_minor": 0
            },
            "text/plain": [
              "  0%|          | 0/99 [00:00<?, ?it/s]"
            ]
          },
          "metadata": {},
          "output_type": "display_data"
        },
        {
          "name": "stdout",
          "output_type": "stream",
          "text": [
            "val_loss: 1.9449204495458892\n",
            "val_acc: 0.4055766793409379\n",
            "Start validation\n"
          ]
        },
        {
          "data": {
            "application/vnd.jupyter.widget-view+json": {
              "model_id": "5fc012081b184eecb7d9be29683ef2f3",
              "version_major": 2,
              "version_minor": 0
            },
            "text/plain": [
              "  0%|          | 0/99 [00:00<?, ?it/s]"
            ]
          },
          "metadata": {},
          "output_type": "display_data"
        },
        {
          "name": "stdout",
          "output_type": "stream",
          "text": [
            "val_loss: 1.951263210388145\n",
            "val_acc: 0.4005069708491762\n",
            "Start validation\n"
          ]
        },
        {
          "data": {
            "application/vnd.jupyter.widget-view+json": {
              "model_id": "5cf8801d34ff43bcb7c432f23f36a418",
              "version_major": 2,
              "version_minor": 0
            },
            "text/plain": [
              "  0%|          | 0/99 [00:00<?, ?it/s]"
            ]
          },
          "metadata": {},
          "output_type": "display_data"
        },
        {
          "name": "stdout",
          "output_type": "stream",
          "text": [
            "val_loss: 1.959362561654563\n",
            "val_acc: 0.4005069708491762\n",
            "Start validation\n"
          ]
        },
        {
          "data": {
            "application/vnd.jupyter.widget-view+json": {
              "model_id": "a49c9d3943074bc1a670bfcbe263de92",
              "version_major": 2,
              "version_minor": 0
            },
            "text/plain": [
              "  0%|          | 0/99 [00:00<?, ?it/s]"
            ]
          },
          "metadata": {},
          "output_type": "display_data"
        },
        {
          "name": "stdout",
          "output_type": "stream",
          "text": [
            "val_loss: 1.9652047030853503\n",
            "val_acc: 0.4055766793409379\n",
            "Start validation\n"
          ]
        },
        {
          "data": {
            "application/vnd.jupyter.widget-view+json": {
              "model_id": "8e09c117bb32469faea0bf3622e6cb96",
              "version_major": 2,
              "version_minor": 0
            },
            "text/plain": [
              "  0%|          | 0/99 [00:00<?, ?it/s]"
            ]
          },
          "metadata": {},
          "output_type": "display_data"
        },
        {
          "name": "stdout",
          "output_type": "stream",
          "text": [
            "val_loss: 1.9647740884260698\n",
            "val_acc: 0.4055766793409379\n",
            "Start validation\n"
          ]
        },
        {
          "data": {
            "application/vnd.jupyter.widget-view+json": {
              "model_id": "ee23c460639e4ad5984ffd451a3c9fb5",
              "version_major": 2,
              "version_minor": 0
            },
            "text/plain": [
              "  0%|          | 0/99 [00:00<?, ?it/s]"
            ]
          },
          "metadata": {},
          "output_type": "display_data"
        },
        {
          "name": "stdout",
          "output_type": "stream",
          "text": [
            "val_loss: 1.9605914823936694\n",
            "val_acc: 0.4055766793409379\n",
            "Start validation\n"
          ]
        },
        {
          "data": {
            "application/vnd.jupyter.widget-view+json": {
              "model_id": "e99a0ddf3f1a4558b28954cdab18306f",
              "version_major": 2,
              "version_minor": 0
            },
            "text/plain": [
              "  0%|          | 0/99 [00:00<?, ?it/s]"
            ]
          },
          "metadata": {},
          "output_type": "display_data"
        },
        {
          "name": "stdout",
          "output_type": "stream",
          "text": [
            "val_loss: 1.918159554101\n",
            "val_acc: 0.4005069708491762\n",
            "Start validation\n"
          ]
        },
        {
          "data": {
            "application/vnd.jupyter.widget-view+json": {
              "model_id": "053ca70feafb4ad0ac083f8ea8e4be77",
              "version_major": 2,
              "version_minor": 0
            },
            "text/plain": [
              "  0%|          | 0/99 [00:00<?, ?it/s]"
            ]
          },
          "metadata": {},
          "output_type": "display_data"
        },
        {
          "name": "stdout",
          "output_type": "stream",
          "text": [
            "val_loss: 1.916269190985747\n",
            "val_acc: 0.4005069708491762\n",
            "Start validation\n"
          ]
        },
        {
          "data": {
            "application/vnd.jupyter.widget-view+json": {
              "model_id": "e46b6ee9e9d544d2bdbc59b6bb6a2cd9",
              "version_major": 2,
              "version_minor": 0
            },
            "text/plain": [
              "  0%|          | 0/99 [00:00<?, ?it/s]"
            ]
          },
          "metadata": {},
          "output_type": "display_data"
        },
        {
          "name": "stdout",
          "output_type": "stream",
          "text": [
            "val_loss: 1.9286567893895237\n",
            "val_acc: 0.4055766793409379\n",
            "Start validation\n"
          ]
        },
        {
          "data": {
            "application/vnd.jupyter.widget-view+json": {
              "model_id": "b5f7081d80244c549f07c286700704bb",
              "version_major": 2,
              "version_minor": 0
            },
            "text/plain": [
              "  0%|          | 0/99 [00:00<?, ?it/s]"
            ]
          },
          "metadata": {},
          "output_type": "display_data"
        },
        {
          "name": "stdout",
          "output_type": "stream",
          "text": [
            "val_loss: 1.9376779469576748\n",
            "val_acc: 0.4055766793409379\n",
            "Start validation\n"
          ]
        },
        {
          "data": {
            "application/vnd.jupyter.widget-view+json": {
              "model_id": "2e2faf2905b54737ba34cb6c9400a18a",
              "version_major": 2,
              "version_minor": 0
            },
            "text/plain": [
              "  0%|          | 0/99 [00:00<?, ?it/s]"
            ]
          },
          "metadata": {},
          "output_type": "display_data"
        },
        {
          "name": "stdout",
          "output_type": "stream",
          "text": [
            "val_loss: 1.9577501626929852\n",
            "val_acc: 0.4005069708491762\n",
            "Start validation\n"
          ]
        },
        {
          "data": {
            "application/vnd.jupyter.widget-view+json": {
              "model_id": "9664d4721f664b168953a4960e81b89c",
              "version_major": 2,
              "version_minor": 0
            },
            "text/plain": [
              "  0%|          | 0/99 [00:00<?, ?it/s]"
            ]
          },
          "metadata": {},
          "output_type": "display_data"
        },
        {
          "name": "stdout",
          "output_type": "stream",
          "text": [
            "val_loss: 1.958535464725109\n",
            "val_acc: 0.4005069708491762\n",
            "Start validation\n"
          ]
        },
        {
          "data": {
            "application/vnd.jupyter.widget-view+json": {
              "model_id": "ce366f59244c4727950cc4da994ddcaa",
              "version_major": 2,
              "version_minor": 0
            },
            "text/plain": [
              "  0%|          | 0/99 [00:00<?, ?it/s]"
            ]
          },
          "metadata": {},
          "output_type": "display_data"
        },
        {
          "name": "stdout",
          "output_type": "stream",
          "text": [
            "val_loss: 1.9721567642809166\n",
            "val_acc: 0.4005069708491762\n",
            "Start validation\n"
          ]
        },
        {
          "data": {
            "application/vnd.jupyter.widget-view+json": {
              "model_id": "d8c03e8f5e23437ba97dddb38b8bd17f",
              "version_major": 2,
              "version_minor": 0
            },
            "text/plain": [
              "  0%|          | 0/99 [00:00<?, ?it/s]"
            ]
          },
          "metadata": {},
          "output_type": "display_data"
        },
        {
          "name": "stdout",
          "output_type": "stream",
          "text": [
            "val_loss: 1.9643251004845206\n",
            "val_acc: 0.4055766793409379\n",
            "Start validation\n"
          ]
        },
        {
          "data": {
            "application/vnd.jupyter.widget-view+json": {
              "model_id": "ce5049b6143e4719b03542d23ce44ba9",
              "version_major": 2,
              "version_minor": 0
            },
            "text/plain": [
              "  0%|          | 0/99 [00:00<?, ?it/s]"
            ]
          },
          "metadata": {},
          "output_type": "display_data"
        },
        {
          "name": "stdout",
          "output_type": "stream",
          "text": [
            "val_loss: 1.9158637391196356\n",
            "val_acc: 0.4055766793409379\n",
            "Start validation\n"
          ]
        },
        {
          "data": {
            "application/vnd.jupyter.widget-view+json": {
              "model_id": "996cbdd0241845cf867527d468fc6b85",
              "version_major": 2,
              "version_minor": 0
            },
            "text/plain": [
              "  0%|          | 0/99 [00:00<?, ?it/s]"
            ]
          },
          "metadata": {},
          "output_type": "display_data"
        },
        {
          "name": "stdout",
          "output_type": "stream",
          "text": [
            "val_loss: 1.9252703653441534\n",
            "val_acc: 0.4005069708491762\n",
            "Start validation\n"
          ]
        },
        {
          "data": {
            "application/vnd.jupyter.widget-view+json": {
              "model_id": "f20bb0678833441ca6fcb3db51501c49",
              "version_major": 2,
              "version_minor": 0
            },
            "text/plain": [
              "  0%|          | 0/99 [00:00<?, ?it/s]"
            ]
          },
          "metadata": {},
          "output_type": "display_data"
        },
        {
          "name": "stdout",
          "output_type": "stream",
          "text": [
            "val_loss: 1.9407567165114663\n",
            "val_acc: 0.4005069708491762\n",
            "Start validation\n"
          ]
        },
        {
          "data": {
            "application/vnd.jupyter.widget-view+json": {
              "model_id": "2d295cda09ba4206ac7f3540942e1134",
              "version_major": 2,
              "version_minor": 0
            },
            "text/plain": [
              "  0%|          | 0/99 [00:00<?, ?it/s]"
            ]
          },
          "metadata": {},
          "output_type": "display_data"
        },
        {
          "name": "stdout",
          "output_type": "stream",
          "text": [
            "val_loss: 1.953162361275066\n",
            "val_acc: 0.4055766793409379\n",
            "Start validation\n"
          ]
        },
        {
          "data": {
            "application/vnd.jupyter.widget-view+json": {
              "model_id": "7116fbf213a942d5afd94e710db7a893",
              "version_major": 2,
              "version_minor": 0
            },
            "text/plain": [
              "  0%|          | 0/99 [00:00<?, ?it/s]"
            ]
          },
          "metadata": {},
          "output_type": "display_data"
        },
        {
          "name": "stdout",
          "output_type": "stream",
          "text": [
            "val_loss: 1.953540907363699\n",
            "val_acc: 0.4055766793409379\n",
            "Start validation\n"
          ]
        },
        {
          "data": {
            "application/vnd.jupyter.widget-view+json": {
              "model_id": "56dd053a1f3248c782daa8292cac42ba",
              "version_major": 2,
              "version_minor": 0
            },
            "text/plain": [
              "  0%|          | 0/99 [00:00<?, ?it/s]"
            ]
          },
          "metadata": {},
          "output_type": "display_data"
        },
        {
          "name": "stdout",
          "output_type": "stream",
          "text": [
            "val_loss: 1.8991600630259273\n",
            "val_acc: 0.4005069708491762\n",
            "Start validation\n"
          ]
        },
        {
          "data": {
            "application/vnd.jupyter.widget-view+json": {
              "model_id": "1cd5e3ea8796439684bb42aa365fa807",
              "version_major": 2,
              "version_minor": 0
            },
            "text/plain": [
              "  0%|          | 0/99 [00:00<?, ?it/s]"
            ]
          },
          "metadata": {},
          "output_type": "display_data"
        },
        {
          "name": "stdout",
          "output_type": "stream",
          "text": [
            "val_loss: 1.899287380955436\n",
            "val_acc: 0.4055766793409379\n",
            "Start validation\n"
          ]
        },
        {
          "data": {
            "application/vnd.jupyter.widget-view+json": {
              "model_id": "15ec0411aa2c4209a8116ecbb9e2881a",
              "version_major": 2,
              "version_minor": 0
            },
            "text/plain": [
              "  0%|          | 0/99 [00:00<?, ?it/s]"
            ]
          },
          "metadata": {},
          "output_type": "display_data"
        },
        {
          "name": "stdout",
          "output_type": "stream",
          "text": [
            "val_loss: 1.8972414804227424\n",
            "val_acc: 0.4005069708491762\n",
            "Start validation\n"
          ]
        },
        {
          "data": {
            "application/vnd.jupyter.widget-view+json": {
              "model_id": "c930b67c3a6d4dbcb36a22f6ea5c0149",
              "version_major": 2,
              "version_minor": 0
            },
            "text/plain": [
              "  0%|          | 0/99 [00:00<?, ?it/s]"
            ]
          },
          "metadata": {},
          "output_type": "display_data"
        },
        {
          "name": "stdout",
          "output_type": "stream",
          "text": [
            "val_loss: 1.8575215285474604\n",
            "val_acc: 0.4055766793409379\n",
            "Start validation\n"
          ]
        },
        {
          "data": {
            "application/vnd.jupyter.widget-view+json": {
              "model_id": "d3f743fc1b6e41248cd4627d32111b01",
              "version_major": 2,
              "version_minor": 0
            },
            "text/plain": [
              "  0%|          | 0/99 [00:00<?, ?it/s]"
            ]
          },
          "metadata": {},
          "output_type": "display_data"
        },
        {
          "name": "stdout",
          "output_type": "stream",
          "text": [
            "val_loss: 1.8780827925662802\n",
            "val_acc: 0.4005069708491762\n",
            "Start validation\n"
          ]
        },
        {
          "data": {
            "application/vnd.jupyter.widget-view+json": {
              "model_id": "18b02367b85e42e5b26c9fdff5cefd16",
              "version_major": 2,
              "version_minor": 0
            },
            "text/plain": [
              "  0%|          | 0/99 [00:00<?, ?it/s]"
            ]
          },
          "metadata": {},
          "output_type": "display_data"
        },
        {
          "name": "stdout",
          "output_type": "stream",
          "text": [
            "val_loss: 1.895766971087215\n",
            "val_acc: 0.4005069708491762\n",
            "Start validation\n"
          ]
        },
        {
          "data": {
            "application/vnd.jupyter.widget-view+json": {
              "model_id": "45191f21339e4411861c8508f74342f5",
              "version_major": 2,
              "version_minor": 0
            },
            "text/plain": [
              "  0%|          | 0/99 [00:00<?, ?it/s]"
            ]
          },
          "metadata": {},
          "output_type": "display_data"
        },
        {
          "name": "stdout",
          "output_type": "stream",
          "text": [
            "val_loss: 1.907292375660906\n",
            "val_acc: 0.4005069708491762\n",
            "Start validation\n"
          ]
        },
        {
          "data": {
            "application/vnd.jupyter.widget-view+json": {
              "model_id": "35aa553b50564eb6a42e0ff415c372b2",
              "version_major": 2,
              "version_minor": 0
            },
            "text/plain": [
              "  0%|          | 0/99 [00:00<?, ?it/s]"
            ]
          },
          "metadata": {},
          "output_type": "display_data"
        },
        {
          "name": "stdout",
          "output_type": "stream",
          "text": [
            "val_loss: 1.9197067516018647\n",
            "val_acc: 0.4055766793409379\n",
            "Start validation\n"
          ]
        },
        {
          "data": {
            "application/vnd.jupyter.widget-view+json": {
              "model_id": "73ceacbb663c40ab8c37f0a019ea1a72",
              "version_major": 2,
              "version_minor": 0
            },
            "text/plain": [
              "  0%|          | 0/99 [00:00<?, ?it/s]"
            ]
          },
          "metadata": {},
          "output_type": "display_data"
        },
        {
          "name": "stdout",
          "output_type": "stream",
          "text": [
            "val_loss: 1.9307089146941598\n",
            "val_acc: 0.4005069708491762\n",
            "Start validation\n"
          ]
        },
        {
          "data": {
            "application/vnd.jupyter.widget-view+json": {
              "model_id": "43aa7f96dd9b4e2ba3bfd166e248efcc",
              "version_major": 2,
              "version_minor": 0
            },
            "text/plain": [
              "  0%|          | 0/99 [00:00<?, ?it/s]"
            ]
          },
          "metadata": {},
          "output_type": "display_data"
        },
        {
          "name": "stdout",
          "output_type": "stream",
          "text": [
            "val_loss: 1.947939730653859\n",
            "val_acc: 0.4055766793409379\n",
            "Start validation\n"
          ]
        },
        {
          "data": {
            "application/vnd.jupyter.widget-view+json": {
              "model_id": "d26e4031fbfb4e0186b840e5d732a457",
              "version_major": 2,
              "version_minor": 0
            },
            "text/plain": [
              "  0%|          | 0/99 [00:00<?, ?it/s]"
            ]
          },
          "metadata": {},
          "output_type": "display_data"
        },
        {
          "name": "stdout",
          "output_type": "stream",
          "text": [
            "val_loss: 1.9515001713627516\n",
            "val_acc: 0.4055766793409379\n",
            "Start validation\n"
          ]
        },
        {
          "data": {
            "application/vnd.jupyter.widget-view+json": {
              "model_id": "5f3bdc42942f43fc87a0656c43ae88ac",
              "version_major": 2,
              "version_minor": 0
            },
            "text/plain": [
              "  0%|          | 0/99 [00:00<?, ?it/s]"
            ]
          },
          "metadata": {},
          "output_type": "display_data"
        },
        {
          "name": "stdout",
          "output_type": "stream",
          "text": [
            "val_loss: 1.9022691207702713\n",
            "val_acc: 0.4055766793409379\n",
            "Start validation\n"
          ]
        },
        {
          "data": {
            "application/vnd.jupyter.widget-view+json": {
              "model_id": "2bf917a359d34954b550b4cea2a58ee2",
              "version_major": 2,
              "version_minor": 0
            },
            "text/plain": [
              "  0%|          | 0/99 [00:00<?, ?it/s]"
            ]
          },
          "metadata": {},
          "output_type": "display_data"
        },
        {
          "name": "stdout",
          "output_type": "stream",
          "text": [
            "val_loss: 1.902116273388718\n",
            "val_acc: 0.4055766793409379\n",
            "Start validation\n"
          ]
        },
        {
          "data": {
            "application/vnd.jupyter.widget-view+json": {
              "model_id": "4d1c748b43b5495db76c186eb72e44e5",
              "version_major": 2,
              "version_minor": 0
            },
            "text/plain": [
              "  0%|          | 0/99 [00:00<?, ?it/s]"
            ]
          },
          "metadata": {},
          "output_type": "display_data"
        },
        {
          "name": "stdout",
          "output_type": "stream",
          "text": [
            "val_loss: 1.9129085480564771\n",
            "val_acc: 0.4055766793409379\n",
            "Start validation\n"
          ]
        },
        {
          "data": {
            "application/vnd.jupyter.widget-view+json": {
              "model_id": "dcc2039127dc447591881d100e2be326",
              "version_major": 2,
              "version_minor": 0
            },
            "text/plain": [
              "  0%|          | 0/99 [00:00<?, ?it/s]"
            ]
          },
          "metadata": {},
          "output_type": "display_data"
        },
        {
          "name": "stdout",
          "output_type": "stream",
          "text": [
            "val_loss: 1.9261670371498725\n",
            "val_acc: 0.4055766793409379\n",
            "Start validation\n"
          ]
        },
        {
          "data": {
            "application/vnd.jupyter.widget-view+json": {
              "model_id": "1686d187b8b24a36bc90a5c89459de03",
              "version_major": 2,
              "version_minor": 0
            },
            "text/plain": [
              "  0%|          | 0/99 [00:00<?, ?it/s]"
            ]
          },
          "metadata": {},
          "output_type": "display_data"
        },
        {
          "name": "stdout",
          "output_type": "stream",
          "text": [
            "val_loss: 1.9370805807787963\n",
            "val_acc: 0.4005069708491762\n",
            "Start validation\n"
          ]
        },
        {
          "data": {
            "application/vnd.jupyter.widget-view+json": {
              "model_id": "a84503a888944bcc944c64f1559cf36c",
              "version_major": 2,
              "version_minor": 0
            },
            "text/plain": [
              "  0%|          | 0/99 [00:00<?, ?it/s]"
            ]
          },
          "metadata": {},
          "output_type": "display_data"
        },
        {
          "name": "stdout",
          "output_type": "stream",
          "text": [
            "val_loss: 1.9501849551393529\n",
            "val_acc: 0.4005069708491762\n",
            "Start validation\n"
          ]
        },
        {
          "data": {
            "application/vnd.jupyter.widget-view+json": {
              "model_id": "78babfd0aef94f908ca70f421af42d63",
              "version_major": 2,
              "version_minor": 0
            },
            "text/plain": [
              "  0%|          | 0/99 [00:00<?, ?it/s]"
            ]
          },
          "metadata": {},
          "output_type": "display_data"
        },
        {
          "name": "stdout",
          "output_type": "stream",
          "text": [
            "val_loss: 1.9592483507262335\n",
            "val_acc: 0.4005069708491762\n",
            "Start validation\n"
          ]
        },
        {
          "data": {
            "application/vnd.jupyter.widget-view+json": {
              "model_id": "b22a7a37dd9c4807bd825aba1ddd6c2a",
              "version_major": 2,
              "version_minor": 0
            },
            "text/plain": [
              "  0%|          | 0/99 [00:00<?, ?it/s]"
            ]
          },
          "metadata": {},
          "output_type": "display_data"
        },
        {
          "name": "stdout",
          "output_type": "stream",
          "text": [
            "val_loss: 1.9667067810742542\n",
            "val_acc: 0.4005069708491762\n",
            "Start validation\n"
          ]
        },
        {
          "data": {
            "application/vnd.jupyter.widget-view+json": {
              "model_id": "372cfe4299d948f0b143eec95dd71b13",
              "version_major": 2,
              "version_minor": 0
            },
            "text/plain": [
              "  0%|          | 0/99 [00:00<?, ?it/s]"
            ]
          },
          "metadata": {},
          "output_type": "display_data"
        },
        {
          "name": "stdout",
          "output_type": "stream",
          "text": [
            "val_loss: 1.9738587472173903\n",
            "val_acc: 0.4055766793409379\n",
            "Start validation\n"
          ]
        },
        {
          "data": {
            "application/vnd.jupyter.widget-view+json": {
              "model_id": "884b2433bcd243248ae3880ca40892a3",
              "version_major": 2,
              "version_minor": 0
            },
            "text/plain": [
              "  0%|          | 0/99 [00:00<?, ?it/s]"
            ]
          },
          "metadata": {},
          "output_type": "display_data"
        },
        {
          "name": "stdout",
          "output_type": "stream",
          "text": [
            "val_loss: 1.9795717037085332\n",
            "val_acc: 0.4005069708491762\n",
            "Start validation\n"
          ]
        },
        {
          "data": {
            "application/vnd.jupyter.widget-view+json": {
              "model_id": "c4e1263700ed40119ab81e63676acbf4",
              "version_major": 2,
              "version_minor": 0
            },
            "text/plain": [
              "  0%|          | 0/99 [00:00<?, ?it/s]"
            ]
          },
          "metadata": {},
          "output_type": "display_data"
        },
        {
          "name": "stdout",
          "output_type": "stream",
          "text": [
            "val_loss: 1.9918602307637532\n",
            "val_acc: 0.4055766793409379\n",
            "Start validation\n"
          ]
        },
        {
          "data": {
            "application/vnd.jupyter.widget-view+json": {
              "model_id": "0a08de39913742289799d59a9f5818da",
              "version_major": 2,
              "version_minor": 0
            },
            "text/plain": [
              "  0%|          | 0/99 [00:00<?, ?it/s]"
            ]
          },
          "metadata": {},
          "output_type": "display_data"
        },
        {
          "name": "stdout",
          "output_type": "stream",
          "text": [
            "val_loss: 2.002118235886699\n",
            "val_acc: 0.4055766793409379\n",
            "Start validation\n"
          ]
        },
        {
          "data": {
            "application/vnd.jupyter.widget-view+json": {
              "model_id": "ef7bfb3a5a764c7188ffec93f83fb394",
              "version_major": 2,
              "version_minor": 0
            },
            "text/plain": [
              "  0%|          | 0/99 [00:00<?, ?it/s]"
            ]
          },
          "metadata": {},
          "output_type": "display_data"
        },
        {
          "name": "stdout",
          "output_type": "stream",
          "text": [
            "val_loss: 1.98721462789208\n",
            "val_acc: 0.4055766793409379\n",
            "Start validation\n"
          ]
        },
        {
          "data": {
            "application/vnd.jupyter.widget-view+json": {
              "model_id": "8670e4bb885e4bad877beee701763d62",
              "version_major": 2,
              "version_minor": 0
            },
            "text/plain": [
              "  0%|          | 0/99 [00:00<?, ?it/s]"
            ]
          },
          "metadata": {},
          "output_type": "display_data"
        },
        {
          "name": "stdout",
          "output_type": "stream",
          "text": [
            "val_loss: 1.9314115149806244\n",
            "val_acc: 0.4055766793409379\n",
            "Start validation\n"
          ]
        },
        {
          "data": {
            "application/vnd.jupyter.widget-view+json": {
              "model_id": "469742ce908940e19b92720aabea3461",
              "version_major": 2,
              "version_minor": 0
            },
            "text/plain": [
              "  0%|          | 0/99 [00:00<?, ?it/s]"
            ]
          },
          "metadata": {},
          "output_type": "display_data"
        },
        {
          "name": "stdout",
          "output_type": "stream",
          "text": [
            "val_loss: 1.8669846045850502\n",
            "val_acc: 0.4005069708491762\n",
            "Start validation\n"
          ]
        },
        {
          "data": {
            "application/vnd.jupyter.widget-view+json": {
              "model_id": "5c210a0d0bc54e4697f316d90f129392",
              "version_major": 2,
              "version_minor": 0
            },
            "text/plain": [
              "  0%|          | 0/99 [00:00<?, ?it/s]"
            ]
          },
          "metadata": {},
          "output_type": "display_data"
        },
        {
          "name": "stdout",
          "output_type": "stream",
          "text": [
            "val_loss: 1.8830660280555185\n",
            "val_acc: 0.4055766793409379\n",
            "Start validation\n"
          ]
        },
        {
          "data": {
            "application/vnd.jupyter.widget-view+json": {
              "model_id": "b10b979dfbd943fd8192b66bf38799e4",
              "version_major": 2,
              "version_minor": 0
            },
            "text/plain": [
              "  0%|          | 0/99 [00:00<?, ?it/s]"
            ]
          },
          "metadata": {},
          "output_type": "display_data"
        },
        {
          "name": "stdout",
          "output_type": "stream",
          "text": [
            "val_loss: 1.890835479654447\n",
            "val_acc: 0.4005069708491762\n",
            "Start validation\n"
          ]
        },
        {
          "data": {
            "application/vnd.jupyter.widget-view+json": {
              "model_id": "a329ba44633f4bdbafaa2f5ffff2aa0e",
              "version_major": 2,
              "version_minor": 0
            },
            "text/plain": [
              "  0%|          | 0/99 [00:00<?, ?it/s]"
            ]
          },
          "metadata": {},
          "output_type": "display_data"
        },
        {
          "name": "stdout",
          "output_type": "stream",
          "text": [
            "val_loss: 1.8436683019002278\n",
            "val_acc: 0.4055766793409379\n",
            "Start validation\n"
          ]
        },
        {
          "data": {
            "application/vnd.jupyter.widget-view+json": {
              "model_id": "19168b202fbd4545a07239ae941d2b24",
              "version_major": 2,
              "version_minor": 0
            },
            "text/plain": [
              "  0%|          | 0/99 [00:00<?, ?it/s]"
            ]
          },
          "metadata": {},
          "output_type": "display_data"
        },
        {
          "name": "stdout",
          "output_type": "stream",
          "text": [
            "val_loss: 1.8611581542275168\n",
            "val_acc: 0.4055766793409379\n",
            "Start validation\n"
          ]
        },
        {
          "data": {
            "application/vnd.jupyter.widget-view+json": {
              "model_id": "94824d37e952474cb246f2913b145cd3",
              "version_major": 2,
              "version_minor": 0
            },
            "text/plain": [
              "  0%|          | 0/99 [00:00<?, ?it/s]"
            ]
          },
          "metadata": {},
          "output_type": "display_data"
        },
        {
          "name": "stdout",
          "output_type": "stream",
          "text": [
            "val_loss: 1.8836158098596516\n",
            "val_acc: 0.4055766793409379\n",
            "Start validation\n"
          ]
        },
        {
          "data": {
            "application/vnd.jupyter.widget-view+json": {
              "model_id": "eca325d7c8ff43d8b3ac7bccd4d6e40f",
              "version_major": 2,
              "version_minor": 0
            },
            "text/plain": [
              "  0%|          | 0/99 [00:00<?, ?it/s]"
            ]
          },
          "metadata": {},
          "output_type": "display_data"
        },
        {
          "name": "stdout",
          "output_type": "stream",
          "text": [
            "val_loss: 1.9121750051325017\n",
            "val_acc: 0.4005069708491762\n",
            "Start validation\n"
          ]
        },
        {
          "data": {
            "application/vnd.jupyter.widget-view+json": {
              "model_id": "eb1c166018b3456f9849871cc8123e33",
              "version_major": 2,
              "version_minor": 0
            },
            "text/plain": [
              "  0%|          | 0/99 [00:00<?, ?it/s]"
            ]
          },
          "metadata": {},
          "output_type": "display_data"
        },
        {
          "name": "stdout",
          "output_type": "stream",
          "text": [
            "val_loss: 1.9160132751320347\n",
            "val_acc: 0.4055766793409379\n",
            "Start validation\n"
          ]
        },
        {
          "data": {
            "application/vnd.jupyter.widget-view+json": {
              "model_id": "6ac1bbe9f22f4a74bfe0ee5afa518a08",
              "version_major": 2,
              "version_minor": 0
            },
            "text/plain": [
              "  0%|          | 0/99 [00:00<?, ?it/s]"
            ]
          },
          "metadata": {},
          "output_type": "display_data"
        },
        {
          "name": "stdout",
          "output_type": "stream",
          "text": [
            "val_loss: 1.870487169183866\n",
            "val_acc: 0.4005069708491762\n",
            "Start validation\n"
          ]
        },
        {
          "data": {
            "application/vnd.jupyter.widget-view+json": {
              "model_id": "0ce9dbe23ecd4ed7aabe57268c16493d",
              "version_major": 2,
              "version_minor": 0
            },
            "text/plain": [
              "  0%|          | 0/99 [00:00<?, ?it/s]"
            ]
          },
          "metadata": {},
          "output_type": "display_data"
        },
        {
          "name": "stdout",
          "output_type": "stream",
          "text": [
            "val_loss: 1.8718265927199162\n",
            "val_acc: 0.4055766793409379\n",
            "Start validation\n"
          ]
        },
        {
          "data": {
            "application/vnd.jupyter.widget-view+json": {
              "model_id": "2a3d4778d1144ef5af370bc719eda61a",
              "version_major": 2,
              "version_minor": 0
            },
            "text/plain": [
              "  0%|          | 0/99 [00:00<?, ?it/s]"
            ]
          },
          "metadata": {},
          "output_type": "display_data"
        },
        {
          "name": "stdout",
          "output_type": "stream",
          "text": [
            "val_loss: 1.8869341768399635\n",
            "val_acc: 0.4055766793409379\n",
            "Start validation\n"
          ]
        },
        {
          "data": {
            "application/vnd.jupyter.widget-view+json": {
              "model_id": "5c76449581b04042bb7da4d2324c9951",
              "version_major": 2,
              "version_minor": 0
            },
            "text/plain": [
              "  0%|          | 0/99 [00:00<?, ?it/s]"
            ]
          },
          "metadata": {},
          "output_type": "display_data"
        },
        {
          "name": "stdout",
          "output_type": "stream",
          "text": [
            "val_loss: 1.8382199394582497\n",
            "val_acc: 0.4055766793409379\n",
            "Start validation\n"
          ]
        },
        {
          "data": {
            "application/vnd.jupyter.widget-view+json": {
              "model_id": "c044b7462b6b41258eb66862464a394c",
              "version_major": 2,
              "version_minor": 0
            },
            "text/plain": [
              "  0%|          | 0/99 [00:00<?, ?it/s]"
            ]
          },
          "metadata": {},
          "output_type": "display_data"
        },
        {
          "name": "stdout",
          "output_type": "stream",
          "text": [
            "val_loss: 1.8509901184024233\n",
            "val_acc: 0.4055766793409379\n",
            "Start validation\n"
          ]
        },
        {
          "data": {
            "application/vnd.jupyter.widget-view+json": {
              "model_id": "10416aabdbfc4e21ae15f9b3800672d5",
              "version_major": 2,
              "version_minor": 0
            },
            "text/plain": [
              "  0%|          | 0/99 [00:00<?, ?it/s]"
            ]
          },
          "metadata": {},
          "output_type": "display_data"
        },
        {
          "name": "stdout",
          "output_type": "stream",
          "text": [
            "val_loss: 1.861169129309028\n",
            "val_acc: 0.4005069708491762\n",
            "Start validation\n"
          ]
        },
        {
          "data": {
            "application/vnd.jupyter.widget-view+json": {
              "model_id": "601316ac52d94594a0eb8fc0a3c7dcf2",
              "version_major": 2,
              "version_minor": 0
            },
            "text/plain": [
              "  0%|          | 0/99 [00:00<?, ?it/s]"
            ]
          },
          "metadata": {},
          "output_type": "display_data"
        },
        {
          "name": "stdout",
          "output_type": "stream",
          "text": [
            "val_loss: 1.8112889215199635\n",
            "val_acc: 0.4055766793409379\n",
            "Start validation\n"
          ]
        },
        {
          "data": {
            "application/vnd.jupyter.widget-view+json": {
              "model_id": "57bdc314f17e4590ad771da8ac08c155",
              "version_major": 2,
              "version_minor": 0
            },
            "text/plain": [
              "  0%|          | 0/99 [00:00<?, ?it/s]"
            ]
          },
          "metadata": {},
          "output_type": "display_data"
        },
        {
          "name": "stdout",
          "output_type": "stream",
          "text": [
            "val_loss: 1.828856271926803\n",
            "val_acc: 0.4005069708491762\n",
            "Start validation\n"
          ]
        },
        {
          "data": {
            "application/vnd.jupyter.widget-view+json": {
              "model_id": "2aa807a82fab4a43a1641ff5b770fedc",
              "version_major": 2,
              "version_minor": 0
            },
            "text/plain": [
              "  0%|          | 0/99 [00:00<?, ?it/s]"
            ]
          },
          "metadata": {},
          "output_type": "display_data"
        },
        {
          "name": "stdout",
          "output_type": "stream",
          "text": [
            "val_loss: 1.847919427987301\n",
            "val_acc: 0.4055766793409379\n",
            "Start validation\n"
          ]
        },
        {
          "data": {
            "application/vnd.jupyter.widget-view+json": {
              "model_id": "422cb939404e41f58f47a308a3c3643a",
              "version_major": 2,
              "version_minor": 0
            },
            "text/plain": [
              "  0%|          | 0/99 [00:00<?, ?it/s]"
            ]
          },
          "metadata": {},
          "output_type": "display_data"
        },
        {
          "name": "stdout",
          "output_type": "stream",
          "text": [
            "val_loss: 1.8641256118061567\n",
            "val_acc: 0.4055766793409379\n",
            "Start validation\n"
          ]
        },
        {
          "data": {
            "application/vnd.jupyter.widget-view+json": {
              "model_id": "8020a220771845d9adbbf91553568105",
              "version_major": 2,
              "version_minor": 0
            },
            "text/plain": [
              "  0%|          | 0/99 [00:00<?, ?it/s]"
            ]
          },
          "metadata": {},
          "output_type": "display_data"
        },
        {
          "name": "stdout",
          "output_type": "stream",
          "text": [
            "val_loss: 1.8794542701557428\n",
            "val_acc: 0.4005069708491762\n",
            "Start validation\n"
          ]
        },
        {
          "data": {
            "application/vnd.jupyter.widget-view+json": {
              "model_id": "b468eb7888c5469596e6923ac05f0e0f",
              "version_major": 2,
              "version_minor": 0
            },
            "text/plain": [
              "  0%|          | 0/99 [00:00<?, ?it/s]"
            ]
          },
          "metadata": {},
          "output_type": "display_data"
        },
        {
          "name": "stdout",
          "output_type": "stream",
          "text": [
            "val_loss: 1.892731011515916\n",
            "val_acc: 0.4005069708491762\n",
            "Start validation\n"
          ]
        },
        {
          "data": {
            "application/vnd.jupyter.widget-view+json": {
              "model_id": "336078b171364071b93e6c7623474140",
              "version_major": 2,
              "version_minor": 0
            },
            "text/plain": [
              "  0%|          | 0/99 [00:00<?, ?it/s]"
            ]
          },
          "metadata": {},
          "output_type": "display_data"
        },
        {
          "name": "stdout",
          "output_type": "stream",
          "text": [
            "val_loss: 1.9055095519682375\n",
            "val_acc: 0.4005069708491762\n",
            "Start validation\n"
          ]
        },
        {
          "data": {
            "application/vnd.jupyter.widget-view+json": {
              "model_id": "5bb362a1d63b430db5a745a64f4e234a",
              "version_major": 2,
              "version_minor": 0
            },
            "text/plain": [
              "  0%|          | 0/99 [00:00<?, ?it/s]"
            ]
          },
          "metadata": {},
          "output_type": "display_data"
        },
        {
          "name": "stdout",
          "output_type": "stream",
          "text": [
            "val_loss: 1.9144494551600832\n",
            "val_acc: 0.4005069708491762\n",
            "Start validation\n"
          ]
        },
        {
          "data": {
            "application/vnd.jupyter.widget-view+json": {
              "model_id": "73ed6b91bb2f4b938166d4da981b7abb",
              "version_major": 2,
              "version_minor": 0
            },
            "text/plain": [
              "  0%|          | 0/99 [00:00<?, ?it/s]"
            ]
          },
          "metadata": {},
          "output_type": "display_data"
        },
        {
          "name": "stdout",
          "output_type": "stream",
          "text": [
            "val_loss: 1.926146787826461\n",
            "val_acc: 0.4005069708491762\n",
            "Start validation\n"
          ]
        },
        {
          "data": {
            "application/vnd.jupyter.widget-view+json": {
              "model_id": "3da149d4a8d348c1bc0295c2bde53d51",
              "version_major": 2,
              "version_minor": 0
            },
            "text/plain": [
              "  0%|          | 0/99 [00:00<?, ?it/s]"
            ]
          },
          "metadata": {},
          "output_type": "display_data"
        },
        {
          "name": "stdout",
          "output_type": "stream",
          "text": [
            "val_loss: 1.9202162418702635\n",
            "val_acc: 0.4005069708491762\n",
            "Start validation\n"
          ]
        },
        {
          "data": {
            "application/vnd.jupyter.widget-view+json": {
              "model_id": "c48ad465cac2435cb2d4994fa503d571",
              "version_major": 2,
              "version_minor": 0
            },
            "text/plain": [
              "  0%|          | 0/99 [00:00<?, ?it/s]"
            ]
          },
          "metadata": {},
          "output_type": "display_data"
        },
        {
          "name": "stdout",
          "output_type": "stream",
          "text": [
            "val_loss: 1.927043288645118\n",
            "val_acc: 0.4055766793409379\n",
            "Start validation\n"
          ]
        },
        {
          "data": {
            "application/vnd.jupyter.widget-view+json": {
              "model_id": "d1b7368337b04642b0c23c0cbfa985f0",
              "version_major": 2,
              "version_minor": 0
            },
            "text/plain": [
              "  0%|          | 0/99 [00:00<?, ?it/s]"
            ]
          },
          "metadata": {},
          "output_type": "display_data"
        },
        {
          "name": "stdout",
          "output_type": "stream",
          "text": [
            "val_loss: 1.935493908747278\n",
            "val_acc: 0.4005069708491762\n",
            "Start validation\n"
          ]
        },
        {
          "data": {
            "application/vnd.jupyter.widget-view+json": {
              "model_id": "a45b41211d374747a0b566aa5e2dcb00",
              "version_major": 2,
              "version_minor": 0
            },
            "text/plain": [
              "  0%|          | 0/99 [00:00<?, ?it/s]"
            ]
          },
          "metadata": {},
          "output_type": "display_data"
        },
        {
          "name": "stdout",
          "output_type": "stream",
          "text": [
            "val_loss: 1.8955080750012638\n",
            "val_acc: 0.4055766793409379\n",
            "Start validation\n"
          ]
        },
        {
          "data": {
            "application/vnd.jupyter.widget-view+json": {
              "model_id": "a89f7365d78a48e88a782ef81b7348a1",
              "version_major": 2,
              "version_minor": 0
            },
            "text/plain": [
              "  0%|          | 0/99 [00:00<?, ?it/s]"
            ]
          },
          "metadata": {},
          "output_type": "display_data"
        },
        {
          "name": "stdout",
          "output_type": "stream",
          "text": [
            "val_loss: 1.893350773387485\n",
            "val_acc: 0.4005069708491762\n",
            "Start validation\n"
          ]
        },
        {
          "data": {
            "application/vnd.jupyter.widget-view+json": {
              "model_id": "4b1a1d50205f4defba47e4a939a2f446",
              "version_major": 2,
              "version_minor": 0
            },
            "text/plain": [
              "  0%|          | 0/99 [00:00<?, ?it/s]"
            ]
          },
          "metadata": {},
          "output_type": "display_data"
        },
        {
          "name": "stdout",
          "output_type": "stream",
          "text": [
            "val_loss: 1.8773889475398593\n",
            "val_acc: 0.4005069708491762\n",
            "Start validation\n"
          ]
        },
        {
          "data": {
            "application/vnd.jupyter.widget-view+json": {
              "model_id": "1adca59cfb67411aa65690e86eb24acd",
              "version_major": 2,
              "version_minor": 0
            },
            "text/plain": [
              "  0%|          | 0/99 [00:00<?, ?it/s]"
            ]
          },
          "metadata": {},
          "output_type": "display_data"
        },
        {
          "name": "stdout",
          "output_type": "stream",
          "text": [
            "val_loss: 1.853958345422841\n",
            "val_acc: 0.4005069708491762\n",
            "Start validation\n"
          ]
        },
        {
          "data": {
            "application/vnd.jupyter.widget-view+json": {
              "model_id": "c8c57e2159a546db856148f62e55cbe2",
              "version_major": 2,
              "version_minor": 0
            },
            "text/plain": [
              "  0%|          | 0/99 [00:00<?, ?it/s]"
            ]
          },
          "metadata": {},
          "output_type": "display_data"
        },
        {
          "name": "stdout",
          "output_type": "stream",
          "text": [
            "val_loss: 1.815235632838625\n",
            "val_acc: 0.4005069708491762\n",
            "Start validation\n"
          ]
        },
        {
          "data": {
            "application/vnd.jupyter.widget-view+json": {
              "model_id": "075746dc6eeb4976aec1c20e0ffb7738",
              "version_major": 2,
              "version_minor": 0
            },
            "text/plain": [
              "  0%|          | 0/99 [00:00<?, ?it/s]"
            ]
          },
          "metadata": {},
          "output_type": "display_data"
        },
        {
          "name": "stdout",
          "output_type": "stream",
          "text": [
            "val_loss: 1.8168292075696617\n",
            "val_acc: 0.4005069708491762\n",
            "Start validation\n"
          ]
        },
        {
          "data": {
            "application/vnd.jupyter.widget-view+json": {
              "model_id": "e34d8dee6aae4030bd85c831c7ee72bf",
              "version_major": 2,
              "version_minor": 0
            },
            "text/plain": [
              "  0%|          | 0/99 [00:00<?, ?it/s]"
            ]
          },
          "metadata": {},
          "output_type": "display_data"
        },
        {
          "name": "stdout",
          "output_type": "stream",
          "text": [
            "val_loss: 1.833876417140768\n",
            "val_acc: 0.4055766793409379\n",
            "Start validation\n"
          ]
        },
        {
          "data": {
            "application/vnd.jupyter.widget-view+json": {
              "model_id": "4cf2719034c3402f92aba5b0c4c8af30",
              "version_major": 2,
              "version_minor": 0
            },
            "text/plain": [
              "  0%|          | 0/99 [00:00<?, ?it/s]"
            ]
          },
          "metadata": {},
          "output_type": "display_data"
        },
        {
          "name": "stdout",
          "output_type": "stream",
          "text": [
            "val_loss: 1.8498192604142005\n",
            "val_acc: 0.4055766793409379\n",
            "Start validation\n"
          ]
        },
        {
          "data": {
            "application/vnd.jupyter.widget-view+json": {
              "model_id": "c93135eb139449219007c5edfb8034f6",
              "version_major": 2,
              "version_minor": 0
            },
            "text/plain": [
              "  0%|          | 0/99 [00:00<?, ?it/s]"
            ]
          },
          "metadata": {},
          "output_type": "display_data"
        },
        {
          "name": "stdout",
          "output_type": "stream",
          "text": [
            "val_loss: 1.8659137198419282\n",
            "val_acc: 0.4055766793409379\n",
            "Start validation\n"
          ]
        },
        {
          "data": {
            "application/vnd.jupyter.widget-view+json": {
              "model_id": "f597618222274d64a3c19abd78f9f30d",
              "version_major": 2,
              "version_minor": 0
            },
            "text/plain": [
              "  0%|          | 0/99 [00:00<?, ?it/s]"
            ]
          },
          "metadata": {},
          "output_type": "display_data"
        },
        {
          "name": "stdout",
          "output_type": "stream",
          "text": [
            "val_loss: 1.8836074242688188\n",
            "val_acc: 0.4055766793409379\n",
            "Start validation\n"
          ]
        },
        {
          "data": {
            "application/vnd.jupyter.widget-view+json": {
              "model_id": "f9b06d3ca82c4cbea450a79f782c7301",
              "version_major": 2,
              "version_minor": 0
            },
            "text/plain": [
              "  0%|          | 0/99 [00:00<?, ?it/s]"
            ]
          },
          "metadata": {},
          "output_type": "display_data"
        },
        {
          "name": "stdout",
          "output_type": "stream",
          "text": [
            "val_loss: 1.9070822373785155\n",
            "val_acc: 0.4005069708491762\n",
            "Start validation\n"
          ]
        },
        {
          "data": {
            "application/vnd.jupyter.widget-view+json": {
              "model_id": "3050ee9dba1b4243aef676231bc6de80",
              "version_major": 2,
              "version_minor": 0
            },
            "text/plain": [
              "  0%|          | 0/99 [00:00<?, ?it/s]"
            ]
          },
          "metadata": {},
          "output_type": "display_data"
        },
        {
          "name": "stdout",
          "output_type": "stream",
          "text": [
            "val_loss: 1.8676744440589288\n",
            "val_acc: 0.4005069708491762\n",
            "Start validation\n"
          ]
        },
        {
          "data": {
            "application/vnd.jupyter.widget-view+json": {
              "model_id": "3ac76dde7a6943d4921f9e29e8d69e1a",
              "version_major": 2,
              "version_minor": 0
            },
            "text/plain": [
              "  0%|          | 0/99 [00:00<?, ?it/s]"
            ]
          },
          "metadata": {},
          "output_type": "display_data"
        },
        {
          "name": "stdout",
          "output_type": "stream",
          "text": [
            "val_loss: 1.8641666902436151\n",
            "val_acc: 0.4055766793409379\n",
            "Start validation\n"
          ]
        },
        {
          "data": {
            "application/vnd.jupyter.widget-view+json": {
              "model_id": "ccb4267c3dce43969b6b90cdec2ed8fe",
              "version_major": 2,
              "version_minor": 0
            },
            "text/plain": [
              "  0%|          | 0/99 [00:00<?, ?it/s]"
            ]
          },
          "metadata": {},
          "output_type": "display_data"
        },
        {
          "name": "stdout",
          "output_type": "stream",
          "text": [
            "val_loss: 1.8749460246827867\n",
            "val_acc: 0.4055766793409379\n",
            "Start validation\n"
          ]
        },
        {
          "data": {
            "application/vnd.jupyter.widget-view+json": {
              "model_id": "0c18fffddea248b399826a5c51f7ce60",
              "version_major": 2,
              "version_minor": 0
            },
            "text/plain": [
              "  0%|          | 0/99 [00:00<?, ?it/s]"
            ]
          },
          "metadata": {},
          "output_type": "display_data"
        },
        {
          "name": "stdout",
          "output_type": "stream",
          "text": [
            "val_loss: 1.890156505685864\n",
            "val_acc: 0.4005069708491762\n",
            "Start validation\n"
          ]
        },
        {
          "data": {
            "application/vnd.jupyter.widget-view+json": {
              "model_id": "59bb8cb851784248ba0a1589c5e059dd",
              "version_major": 2,
              "version_minor": 0
            },
            "text/plain": [
              "  0%|          | 0/99 [00:00<?, ?it/s]"
            ]
          },
          "metadata": {},
          "output_type": "display_data"
        },
        {
          "name": "stdout",
          "output_type": "stream",
          "text": [
            "val_loss: 1.8973789750927625\n",
            "val_acc: 0.4055766793409379\n",
            "Start validation\n"
          ]
        },
        {
          "data": {
            "application/vnd.jupyter.widget-view+json": {
              "model_id": "ce6b89a3a19c4a6c8abd4d5453feb4e8",
              "version_major": 2,
              "version_minor": 0
            },
            "text/plain": [
              "  0%|          | 0/99 [00:00<?, ?it/s]"
            ]
          },
          "metadata": {},
          "output_type": "display_data"
        },
        {
          "name": "stdout",
          "output_type": "stream",
          "text": [
            "val_loss: 1.8825749357541401\n",
            "val_acc: 0.4005069708491762\n",
            "Start validation\n"
          ]
        },
        {
          "data": {
            "application/vnd.jupyter.widget-view+json": {
              "model_id": "dd5f065ddb814750b6ca52207d6961b0",
              "version_major": 2,
              "version_minor": 0
            },
            "text/plain": [
              "  0%|          | 0/99 [00:00<?, ?it/s]"
            ]
          },
          "metadata": {},
          "output_type": "display_data"
        },
        {
          "name": "stdout",
          "output_type": "stream",
          "text": [
            "val_loss: 1.8331665631496545\n",
            "val_acc: 0.4005069708491762\n",
            "Start validation\n"
          ]
        },
        {
          "data": {
            "application/vnd.jupyter.widget-view+json": {
              "model_id": "0a6f8c559a934540adc1308de1be2594",
              "version_major": 2,
              "version_minor": 0
            },
            "text/plain": [
              "  0%|          | 0/99 [00:00<?, ?it/s]"
            ]
          },
          "metadata": {},
          "output_type": "display_data"
        },
        {
          "name": "stdout",
          "output_type": "stream",
          "text": [
            "val_loss: 1.8233193827397896\n",
            "val_acc: 0.4005069708491762\n",
            "Start validation\n"
          ]
        },
        {
          "data": {
            "application/vnd.jupyter.widget-view+json": {
              "model_id": "8f4cc6ec1f41426d9ed5f4116b2388ab",
              "version_major": 2,
              "version_minor": 0
            },
            "text/plain": [
              "  0%|          | 0/99 [00:00<?, ?it/s]"
            ]
          },
          "metadata": {},
          "output_type": "display_data"
        },
        {
          "name": "stdout",
          "output_type": "stream",
          "text": [
            "val_loss: 1.8369527796302179\n",
            "val_acc: 0.4005069708491762\n",
            "Start validation\n"
          ]
        },
        {
          "data": {
            "application/vnd.jupyter.widget-view+json": {
              "model_id": "bcc6f000dab44d7e8430d9765c8265d5",
              "version_major": 2,
              "version_minor": 0
            },
            "text/plain": [
              "  0%|          | 0/99 [00:00<?, ?it/s]"
            ]
          },
          "metadata": {},
          "output_type": "display_data"
        },
        {
          "name": "stdout",
          "output_type": "stream",
          "text": [
            "val_loss: 1.8508106060702392\n",
            "val_acc: 0.4055766793409379\n",
            "Start validation\n"
          ]
        },
        {
          "data": {
            "application/vnd.jupyter.widget-view+json": {
              "model_id": "36dcc639b94b4b229c299db8bb0970cf",
              "version_major": 2,
              "version_minor": 0
            },
            "text/plain": [
              "  0%|          | 0/99 [00:00<?, ?it/s]"
            ]
          },
          "metadata": {},
          "output_type": "display_data"
        },
        {
          "name": "stdout",
          "output_type": "stream",
          "text": [
            "val_loss: 1.863029956817627\n",
            "val_acc: 0.4055766793409379\n",
            "Start validation\n"
          ]
        },
        {
          "data": {
            "application/vnd.jupyter.widget-view+json": {
              "model_id": "cee18ba1edac4040afa495c4df471798",
              "version_major": 2,
              "version_minor": 0
            },
            "text/plain": [
              "  0%|          | 0/99 [00:00<?, ?it/s]"
            ]
          },
          "metadata": {},
          "output_type": "display_data"
        },
        {
          "name": "stdout",
          "output_type": "stream",
          "text": [
            "val_loss: 1.8734649245185082\n",
            "val_acc: 0.4055766793409379\n",
            "Start validation\n"
          ]
        },
        {
          "data": {
            "application/vnd.jupyter.widget-view+json": {
              "model_id": "f6d43297a76349a38bbf66b1721d864c",
              "version_major": 2,
              "version_minor": 0
            },
            "text/plain": [
              "  0%|          | 0/99 [00:00<?, ?it/s]"
            ]
          },
          "metadata": {},
          "output_type": "display_data"
        },
        {
          "name": "stdout",
          "output_type": "stream",
          "text": [
            "val_loss: 1.8851159082518683\n",
            "val_acc: 0.4055766793409379\n",
            "Start validation\n"
          ]
        },
        {
          "data": {
            "application/vnd.jupyter.widget-view+json": {
              "model_id": "ebc50a5bd60347cdba039bf03f32d467",
              "version_major": 2,
              "version_minor": 0
            },
            "text/plain": [
              "  0%|          | 0/99 [00:00<?, ?it/s]"
            ]
          },
          "metadata": {},
          "output_type": "display_data"
        },
        {
          "name": "stdout",
          "output_type": "stream",
          "text": [
            "val_loss: 1.886540128727152\n",
            "val_acc: 0.4055766793409379\n",
            "Start validation\n"
          ]
        },
        {
          "data": {
            "application/vnd.jupyter.widget-view+json": {
              "model_id": "0df63ab8bb1a4fc4904e0d9b7bb72d38",
              "version_major": 2,
              "version_minor": 0
            },
            "text/plain": [
              "  0%|          | 0/99 [00:00<?, ?it/s]"
            ]
          },
          "metadata": {},
          "output_type": "display_data"
        },
        {
          "name": "stdout",
          "output_type": "stream",
          "text": [
            "val_loss: 1.8924893875314732\n",
            "val_acc: 0.4055766793409379\n",
            "Start validation\n"
          ]
        },
        {
          "data": {
            "application/vnd.jupyter.widget-view+json": {
              "model_id": "6c47f52ce16c48038c8d6450752951a3",
              "version_major": 2,
              "version_minor": 0
            },
            "text/plain": [
              "  0%|          | 0/99 [00:00<?, ?it/s]"
            ]
          },
          "metadata": {},
          "output_type": "display_data"
        },
        {
          "name": "stdout",
          "output_type": "stream",
          "text": [
            "val_loss: 1.8983475445496916\n",
            "val_acc: 0.4055766793409379\n",
            "Start validation\n"
          ]
        },
        {
          "data": {
            "application/vnd.jupyter.widget-view+json": {
              "model_id": "596e0a654c3547409e03eb83abed3ae0",
              "version_major": 2,
              "version_minor": 0
            },
            "text/plain": [
              "  0%|          | 0/99 [00:00<?, ?it/s]"
            ]
          },
          "metadata": {},
          "output_type": "display_data"
        },
        {
          "name": "stdout",
          "output_type": "stream",
          "text": [
            "val_loss: 1.8997215140949597\n",
            "val_acc: 0.4055766793409379\n",
            "Start validation\n"
          ]
        },
        {
          "data": {
            "application/vnd.jupyter.widget-view+json": {
              "model_id": "edd1affa11d84a8ca4b434b078f6ec51",
              "version_major": 2,
              "version_minor": 0
            },
            "text/plain": [
              "  0%|          | 0/99 [00:00<?, ?it/s]"
            ]
          },
          "metadata": {},
          "output_type": "display_data"
        },
        {
          "name": "stdout",
          "output_type": "stream",
          "text": [
            "val_loss: 1.8886984177310058\n",
            "val_acc: 0.4055766793409379\n",
            "Start validation\n"
          ]
        },
        {
          "data": {
            "application/vnd.jupyter.widget-view+json": {
              "model_id": "3f65b0f58dfa4647a49b4b7569c9d255",
              "version_major": 2,
              "version_minor": 0
            },
            "text/plain": [
              "  0%|          | 0/99 [00:00<?, ?it/s]"
            ]
          },
          "metadata": {},
          "output_type": "display_data"
        },
        {
          "name": "stdout",
          "output_type": "stream",
          "text": [
            "val_loss: 1.8721110977307716\n",
            "val_acc: 0.4055766793409379\n",
            "Start validation\n"
          ]
        },
        {
          "data": {
            "application/vnd.jupyter.widget-view+json": {
              "model_id": "f4a8c667b68042a2949bb453a068a61d",
              "version_major": 2,
              "version_minor": 0
            },
            "text/plain": [
              "  0%|          | 0/99 [00:00<?, ?it/s]"
            ]
          },
          "metadata": {},
          "output_type": "display_data"
        },
        {
          "name": "stdout",
          "output_type": "stream",
          "text": [
            "val_loss: 1.8802075078993132\n",
            "val_acc: 0.4055766793409379\n",
            "Start validation\n"
          ]
        },
        {
          "data": {
            "application/vnd.jupyter.widget-view+json": {
              "model_id": "d957a6fc8282424aa20258276a2a94f3",
              "version_major": 2,
              "version_minor": 0
            },
            "text/plain": [
              "  0%|          | 0/99 [00:00<?, ?it/s]"
            ]
          },
          "metadata": {},
          "output_type": "display_data"
        },
        {
          "name": "stdout",
          "output_type": "stream",
          "text": [
            "val_loss: 1.8923964903812216\n",
            "val_acc: 0.4005069708491762\n",
            "Start validation\n"
          ]
        },
        {
          "data": {
            "application/vnd.jupyter.widget-view+json": {
              "model_id": "e8b955d413b24ef990365e21ac9cc42a",
              "version_major": 2,
              "version_minor": 0
            },
            "text/plain": [
              "  0%|          | 0/99 [00:00<?, ?it/s]"
            ]
          },
          "metadata": {},
          "output_type": "display_data"
        },
        {
          "name": "stdout",
          "output_type": "stream",
          "text": [
            "val_loss: 1.9031694134076436\n",
            "val_acc: 0.4005069708491762\n",
            "Start validation\n"
          ]
        },
        {
          "data": {
            "application/vnd.jupyter.widget-view+json": {
              "model_id": "03e7a4017f334880a370bcfcf5130c2d",
              "version_major": 2,
              "version_minor": 0
            },
            "text/plain": [
              "  0%|          | 0/99 [00:00<?, ?it/s]"
            ]
          },
          "metadata": {},
          "output_type": "display_data"
        },
        {
          "name": "stdout",
          "output_type": "stream",
          "text": [
            "val_loss: 1.9064556890063815\n",
            "val_acc: 0.4005069708491762\n",
            "Start validation\n"
          ]
        },
        {
          "data": {
            "application/vnd.jupyter.widget-view+json": {
              "model_id": "7b09db2a61124c0891f060bcc8f03a79",
              "version_major": 2,
              "version_minor": 0
            },
            "text/plain": [
              "  0%|          | 0/99 [00:00<?, ?it/s]"
            ]
          },
          "metadata": {},
          "output_type": "display_data"
        },
        {
          "name": "stdout",
          "output_type": "stream",
          "text": [
            "val_loss: 1.9069673641763552\n",
            "val_acc: 0.4005069708491762\n",
            "Start validation\n"
          ]
        },
        {
          "data": {
            "application/vnd.jupyter.widget-view+json": {
              "model_id": "8362ed5b773e45bc83ba71b5d6233fe4",
              "version_major": 2,
              "version_minor": 0
            },
            "text/plain": [
              "  0%|          | 0/99 [00:00<?, ?it/s]"
            ]
          },
          "metadata": {},
          "output_type": "display_data"
        },
        {
          "name": "stdout",
          "output_type": "stream",
          "text": [
            "val_loss: 1.8386737806628448\n",
            "val_acc: 0.4005069708491762\n",
            "Start validation\n"
          ]
        },
        {
          "data": {
            "application/vnd.jupyter.widget-view+json": {
              "model_id": "86c6a564c5654cd8b62b8a85a842d5e9",
              "version_major": 2,
              "version_minor": 0
            },
            "text/plain": [
              "  0%|          | 0/99 [00:00<?, ?it/s]"
            ]
          },
          "metadata": {},
          "output_type": "display_data"
        },
        {
          "name": "stdout",
          "output_type": "stream",
          "text": [
            "val_loss: 1.8441867840410484\n",
            "val_acc: 0.4055766793409379\n",
            "Start validation\n"
          ]
        },
        {
          "data": {
            "application/vnd.jupyter.widget-view+json": {
              "model_id": "cddea39df9074377ae4892a74c4991b5",
              "version_major": 2,
              "version_minor": 0
            },
            "text/plain": [
              "  0%|          | 0/99 [00:00<?, ?it/s]"
            ]
          },
          "metadata": {},
          "output_type": "display_data"
        },
        {
          "name": "stdout",
          "output_type": "stream",
          "text": [
            "val_loss: 1.8554518150560784\n",
            "val_acc: 0.4055766793409379\n",
            "Start validation\n"
          ]
        },
        {
          "data": {
            "application/vnd.jupyter.widget-view+json": {
              "model_id": "63f126a541244e009ec17826d987c19f",
              "version_major": 2,
              "version_minor": 0
            },
            "text/plain": [
              "  0%|          | 0/99 [00:00<?, ?it/s]"
            ]
          },
          "metadata": {},
          "output_type": "display_data"
        },
        {
          "name": "stdout",
          "output_type": "stream",
          "text": [
            "val_loss: 1.8667356871595286\n",
            "val_acc: 0.4055766793409379\n",
            "Start validation\n"
          ]
        },
        {
          "data": {
            "application/vnd.jupyter.widget-view+json": {
              "model_id": "35d4abcd4c71413f99d7d1e387dc6f3a",
              "version_major": 2,
              "version_minor": 0
            },
            "text/plain": [
              "  0%|          | 0/99 [00:00<?, ?it/s]"
            ]
          },
          "metadata": {},
          "output_type": "display_data"
        },
        {
          "name": "stdout",
          "output_type": "stream",
          "text": [
            "val_loss: 1.8793858783413666\n",
            "val_acc: 0.4005069708491762\n",
            "Start validation\n"
          ]
        },
        {
          "data": {
            "application/vnd.jupyter.widget-view+json": {
              "model_id": "149e15169cb14807bc2c251e8062c758",
              "version_major": 2,
              "version_minor": 0
            },
            "text/plain": [
              "  0%|          | 0/99 [00:00<?, ?it/s]"
            ]
          },
          "metadata": {},
          "output_type": "display_data"
        },
        {
          "name": "stdout",
          "output_type": "stream",
          "text": [
            "val_loss: 1.8842536861246282\n",
            "val_acc: 0.4055766793409379\n",
            "Start validation\n"
          ]
        },
        {
          "data": {
            "application/vnd.jupyter.widget-view+json": {
              "model_id": "1201da97dd6341529e384ac7577c6250",
              "version_major": 2,
              "version_minor": 0
            },
            "text/plain": [
              "  0%|          | 0/99 [00:00<?, ?it/s]"
            ]
          },
          "metadata": {},
          "output_type": "display_data"
        },
        {
          "name": "stdout",
          "output_type": "stream",
          "text": [
            "val_loss: 1.8924444721202658\n",
            "val_acc: 0.4055766793409379\n",
            "Start validation\n"
          ]
        },
        {
          "data": {
            "application/vnd.jupyter.widget-view+json": {
              "model_id": "20a6e24eeb0a4e408cad0d99c9b6e6c4",
              "version_major": 2,
              "version_minor": 0
            },
            "text/plain": [
              "  0%|          | 0/99 [00:00<?, ?it/s]"
            ]
          },
          "metadata": {},
          "output_type": "display_data"
        },
        {
          "name": "stdout",
          "output_type": "stream",
          "text": [
            "val_loss: 1.8998611804210779\n",
            "val_acc: 0.4055766793409379\n",
            "Start validation\n"
          ]
        },
        {
          "data": {
            "application/vnd.jupyter.widget-view+json": {
              "model_id": "a15bb40ee28446a295da0bc684c95802",
              "version_major": 2,
              "version_minor": 0
            },
            "text/plain": [
              "  0%|          | 0/99 [00:00<?, ?it/s]"
            ]
          },
          "metadata": {},
          "output_type": "display_data"
        },
        {
          "name": "stdout",
          "output_type": "stream",
          "text": [
            "val_loss: 1.9070864410111399\n",
            "val_acc: 0.4055766793409379\n",
            "Start validation\n"
          ]
        },
        {
          "data": {
            "application/vnd.jupyter.widget-view+json": {
              "model_id": "ec8a67e710364c24aa61072eb17072cd",
              "version_major": 2,
              "version_minor": 0
            },
            "text/plain": [
              "  0%|          | 0/99 [00:00<?, ?it/s]"
            ]
          },
          "metadata": {},
          "output_type": "display_data"
        },
        {
          "name": "stdout",
          "output_type": "stream",
          "text": [
            "val_loss: 1.9136741570752076\n",
            "val_acc: 0.4055766793409379\n",
            "Start validation\n"
          ]
        },
        {
          "data": {
            "application/vnd.jupyter.widget-view+json": {
              "model_id": "09f71d3a83c641438a846f3426561c80",
              "version_major": 2,
              "version_minor": 0
            },
            "text/plain": [
              "  0%|          | 0/99 [00:00<?, ?it/s]"
            ]
          },
          "metadata": {},
          "output_type": "display_data"
        },
        {
          "name": "stdout",
          "output_type": "stream",
          "text": [
            "val_loss: 1.9239052275214532\n",
            "val_acc: 0.4005069708491762\n",
            "Start validation\n"
          ]
        },
        {
          "data": {
            "application/vnd.jupyter.widget-view+json": {
              "model_id": "dba5496f5d754e2f854d0a2b8d66de9f",
              "version_major": 2,
              "version_minor": 0
            },
            "text/plain": [
              "  0%|          | 0/99 [00:00<?, ?it/s]"
            ]
          },
          "metadata": {},
          "output_type": "display_data"
        },
        {
          "name": "stdout",
          "output_type": "stream",
          "text": [
            "val_loss: 1.9312280007083007\n",
            "val_acc: 0.4005069708491762\n",
            "Start validation\n"
          ]
        },
        {
          "data": {
            "application/vnd.jupyter.widget-view+json": {
              "model_id": "2bf8cf170a164765acefce11a35f9a23",
              "version_major": 2,
              "version_minor": 0
            },
            "text/plain": [
              "  0%|          | 0/99 [00:00<?, ?it/s]"
            ]
          },
          "metadata": {},
          "output_type": "display_data"
        },
        {
          "name": "stdout",
          "output_type": "stream",
          "text": [
            "val_loss: 1.931041778940143\n",
            "val_acc: 0.4005069708491762\n",
            "Start validation\n"
          ]
        },
        {
          "data": {
            "application/vnd.jupyter.widget-view+json": {
              "model_id": "411eb19672b14a7fbbb114da9ca245f2",
              "version_major": 2,
              "version_minor": 0
            },
            "text/plain": [
              "  0%|          | 0/99 [00:00<?, ?it/s]"
            ]
          },
          "metadata": {},
          "output_type": "display_data"
        },
        {
          "name": "stdout",
          "output_type": "stream",
          "text": [
            "val_loss: 1.9348831303191907\n",
            "val_acc: 0.4005069708491762\n",
            "Start validation\n"
          ]
        },
        {
          "data": {
            "application/vnd.jupyter.widget-view+json": {
              "model_id": "21a733d2d9e24571a46054af44e2f5d1",
              "version_major": 2,
              "version_minor": 0
            },
            "text/plain": [
              "  0%|          | 0/99 [00:00<?, ?it/s]"
            ]
          },
          "metadata": {},
          "output_type": "display_data"
        },
        {
          "name": "stdout",
          "output_type": "stream",
          "text": [
            "val_loss: 1.9327395082724215\n",
            "val_acc: 0.4055766793409379\n",
            "Start validation\n"
          ]
        },
        {
          "data": {
            "application/vnd.jupyter.widget-view+json": {
              "model_id": "70355ee61d0e41ef80f0813fd325d72d",
              "version_major": 2,
              "version_minor": 0
            },
            "text/plain": [
              "  0%|          | 0/99 [00:00<?, ?it/s]"
            ]
          },
          "metadata": {},
          "output_type": "display_data"
        },
        {
          "name": "stdout",
          "output_type": "stream",
          "text": [
            "val_loss: 1.9122241789644414\n",
            "val_acc: 0.4005069708491762\n",
            "Start validation\n"
          ]
        },
        {
          "data": {
            "application/vnd.jupyter.widget-view+json": {
              "model_id": "5f5865142e34444c8985d22843d54941",
              "version_major": 2,
              "version_minor": 0
            },
            "text/plain": [
              "  0%|          | 0/99 [00:00<?, ?it/s]"
            ]
          },
          "metadata": {},
          "output_type": "display_data"
        },
        {
          "name": "stdout",
          "output_type": "stream",
          "text": [
            "val_loss: 1.9068616863453027\n",
            "val_acc: 0.4055766793409379\n",
            "Start validation\n"
          ]
        },
        {
          "data": {
            "application/vnd.jupyter.widget-view+json": {
              "model_id": "f0f7d0e6d0774b988291c5857d454953",
              "version_major": 2,
              "version_minor": 0
            },
            "text/plain": [
              "  0%|          | 0/99 [00:00<?, ?it/s]"
            ]
          },
          "metadata": {},
          "output_type": "display_data"
        },
        {
          "name": "stdout",
          "output_type": "stream",
          "text": [
            "val_loss: 1.9126368761062622\n",
            "val_acc: 0.4005069708491762\n",
            "Start validation\n"
          ]
        },
        {
          "data": {
            "application/vnd.jupyter.widget-view+json": {
              "model_id": "e0358a36a4bb4286941abca6260b52db",
              "version_major": 2,
              "version_minor": 0
            },
            "text/plain": [
              "  0%|          | 0/99 [00:00<?, ?it/s]"
            ]
          },
          "metadata": {},
          "output_type": "display_data"
        },
        {
          "name": "stdout",
          "output_type": "stream",
          "text": [
            "val_loss: 1.9170794035449172\n",
            "val_acc: 0.4055766793409379\n",
            "Start validation\n"
          ]
        },
        {
          "data": {
            "application/vnd.jupyter.widget-view+json": {
              "model_id": "fbf5b0f032594431a9d31df6932d3acd",
              "version_major": 2,
              "version_minor": 0
            },
            "text/plain": [
              "  0%|          | 0/99 [00:00<?, ?it/s]"
            ]
          },
          "metadata": {},
          "output_type": "display_data"
        },
        {
          "name": "stdout",
          "output_type": "stream",
          "text": [
            "val_loss: 1.894884503248966\n",
            "val_acc: 0.4055766793409379\n",
            "Start validation\n"
          ]
        },
        {
          "data": {
            "application/vnd.jupyter.widget-view+json": {
              "model_id": "4f12ca5f90444fd1a4e164ec12cf778b",
              "version_major": 2,
              "version_minor": 0
            },
            "text/plain": [
              "  0%|          | 0/99 [00:00<?, ?it/s]"
            ]
          },
          "metadata": {},
          "output_type": "display_data"
        },
        {
          "name": "stdout",
          "output_type": "stream",
          "text": [
            "val_loss: 1.862934900654687\n",
            "val_acc: 0.4055766793409379\n",
            "Start validation\n"
          ]
        },
        {
          "data": {
            "application/vnd.jupyter.widget-view+json": {
              "model_id": "df8c39cd9049448f885b4db2048dd053",
              "version_major": 2,
              "version_minor": 0
            },
            "text/plain": [
              "  0%|          | 0/99 [00:00<?, ?it/s]"
            ]
          },
          "metadata": {},
          "output_type": "display_data"
        },
        {
          "name": "stdout",
          "output_type": "stream",
          "text": [
            "val_loss: 1.8683555914898111\n",
            "val_acc: 0.4055766793409379\n",
            "Start validation\n"
          ]
        },
        {
          "data": {
            "application/vnd.jupyter.widget-view+json": {
              "model_id": "5e8d28ca16134fc1beb45b5d8c1a1101",
              "version_major": 2,
              "version_minor": 0
            },
            "text/plain": [
              "  0%|          | 0/99 [00:00<?, ?it/s]"
            ]
          },
          "metadata": {},
          "output_type": "display_data"
        },
        {
          "name": "stdout",
          "output_type": "stream",
          "text": [
            "val_loss: 1.8432207926355226\n",
            "val_acc: 0.4005069708491762\n",
            "Start validation\n"
          ]
        },
        {
          "data": {
            "application/vnd.jupyter.widget-view+json": {
              "model_id": "b67a0bef7aef4b7f8ebd75849c27b08a",
              "version_major": 2,
              "version_minor": 0
            },
            "text/plain": [
              "  0%|          | 0/99 [00:00<?, ?it/s]"
            ]
          },
          "metadata": {},
          "output_type": "display_data"
        },
        {
          "name": "stdout",
          "output_type": "stream",
          "text": [
            "val_loss: 1.824076002294367\n",
            "val_acc: 0.4005069708491762\n",
            "Start validation\n"
          ]
        },
        {
          "data": {
            "application/vnd.jupyter.widget-view+json": {
              "model_id": "5139baa22458426ab08db6bcdc679870",
              "version_major": 2,
              "version_minor": 0
            },
            "text/plain": [
              "  0%|          | 0/99 [00:00<?, ?it/s]"
            ]
          },
          "metadata": {},
          "output_type": "display_data"
        },
        {
          "name": "stdout",
          "output_type": "stream",
          "text": [
            "val_loss: 1.829669855459772\n",
            "val_acc: 0.4055766793409379\n",
            "Start validation\n"
          ]
        },
        {
          "data": {
            "application/vnd.jupyter.widget-view+json": {
              "model_id": "66076658506d4bca9ca5c2c9810dfebc",
              "version_major": 2,
              "version_minor": 0
            },
            "text/plain": [
              "  0%|          | 0/99 [00:00<?, ?it/s]"
            ]
          },
          "metadata": {},
          "output_type": "display_data"
        },
        {
          "name": "stdout",
          "output_type": "stream",
          "text": [
            "val_loss: 1.8386082035122495\n",
            "val_acc: 0.4055766793409379\n",
            "Start validation\n"
          ]
        },
        {
          "data": {
            "application/vnd.jupyter.widget-view+json": {
              "model_id": "f46b58593e1048e9852f5848b6ac5994",
              "version_major": 2,
              "version_minor": 0
            },
            "text/plain": [
              "  0%|          | 0/99 [00:00<?, ?it/s]"
            ]
          },
          "metadata": {},
          "output_type": "display_data"
        },
        {
          "name": "stdout",
          "output_type": "stream",
          "text": [
            "val_loss: 1.8506405979695946\n",
            "val_acc: 0.4005069708491762\n",
            "Start validation\n"
          ]
        },
        {
          "data": {
            "application/vnd.jupyter.widget-view+json": {
              "model_id": "779d8fc5b26c4ae3936c8323fc2cb264",
              "version_major": 2,
              "version_minor": 0
            },
            "text/plain": [
              "  0%|          | 0/99 [00:00<?, ?it/s]"
            ]
          },
          "metadata": {},
          "output_type": "display_data"
        },
        {
          "name": "stdout",
          "output_type": "stream",
          "text": [
            "val_loss: 1.8583870162867537\n",
            "val_acc: 0.4005069708491762\n",
            "Start validation\n"
          ]
        },
        {
          "data": {
            "application/vnd.jupyter.widget-view+json": {
              "model_id": "a316c7c8195e403c8e30e6ad873ee661",
              "version_major": 2,
              "version_minor": 0
            },
            "text/plain": [
              "  0%|          | 0/99 [00:00<?, ?it/s]"
            ]
          },
          "metadata": {},
          "output_type": "display_data"
        },
        {
          "name": "stdout",
          "output_type": "stream",
          "text": [
            "val_loss: 1.864117818649369\n",
            "val_acc: 0.4055766793409379\n",
            "Start validation\n"
          ]
        },
        {
          "data": {
            "application/vnd.jupyter.widget-view+json": {
              "model_id": "f7b3294e0c6e422d85043a1d14770b3e",
              "version_major": 2,
              "version_minor": 0
            },
            "text/plain": [
              "  0%|          | 0/99 [00:00<?, ?it/s]"
            ]
          },
          "metadata": {},
          "output_type": "display_data"
        },
        {
          "name": "stdout",
          "output_type": "stream",
          "text": [
            "val_loss: 1.8699574344085925\n",
            "val_acc: 0.4055766793409379\n",
            "Start validation\n"
          ]
        },
        {
          "data": {
            "application/vnd.jupyter.widget-view+json": {
              "model_id": "eaed10215fc24572a55bad64f6058bc7",
              "version_major": 2,
              "version_minor": 0
            },
            "text/plain": [
              "  0%|          | 0/99 [00:00<?, ?it/s]"
            ]
          },
          "metadata": {},
          "output_type": "display_data"
        },
        {
          "name": "stdout",
          "output_type": "stream",
          "text": [
            "val_loss: 1.8777647114763356\n",
            "val_acc: 0.4055766793409379\n",
            "Start validation\n"
          ]
        },
        {
          "data": {
            "application/vnd.jupyter.widget-view+json": {
              "model_id": "971beb4c6fc1471b9dffe404ed87800d",
              "version_major": 2,
              "version_minor": 0
            },
            "text/plain": [
              "  0%|          | 0/99 [00:00<?, ?it/s]"
            ]
          },
          "metadata": {},
          "output_type": "display_data"
        },
        {
          "name": "stdout",
          "output_type": "stream",
          "text": [
            "val_loss: 1.8830173996963886\n",
            "val_acc: 0.4055766793409379\n",
            "Start validation\n"
          ]
        },
        {
          "data": {
            "application/vnd.jupyter.widget-view+json": {
              "model_id": "a0f47224336f479bb61d7a836a0d9610",
              "version_major": 2,
              "version_minor": 0
            },
            "text/plain": [
              "  0%|          | 0/99 [00:00<?, ?it/s]"
            ]
          },
          "metadata": {},
          "output_type": "display_data"
        },
        {
          "name": "stdout",
          "output_type": "stream",
          "text": [
            "val_loss: 1.8876455986138545\n",
            "val_acc: 0.4055766793409379\n",
            "Start validation\n"
          ]
        },
        {
          "data": {
            "application/vnd.jupyter.widget-view+json": {
              "model_id": "da3cd3834c534587bc58293429ca508b",
              "version_major": 2,
              "version_minor": 0
            },
            "text/plain": [
              "  0%|          | 0/99 [00:00<?, ?it/s]"
            ]
          },
          "metadata": {},
          "output_type": "display_data"
        },
        {
          "name": "stdout",
          "output_type": "stream",
          "text": [
            "val_loss: 1.8876917458543874\n",
            "val_acc: 0.4055766793409379\n",
            "Start validation\n"
          ]
        },
        {
          "data": {
            "application/vnd.jupyter.widget-view+json": {
              "model_id": "6373c0019a6d4809ba4e4785c6f8d409",
              "version_major": 2,
              "version_minor": 0
            },
            "text/plain": [
              "  0%|          | 0/99 [00:00<?, ?it/s]"
            ]
          },
          "metadata": {},
          "output_type": "display_data"
        },
        {
          "name": "stdout",
          "output_type": "stream",
          "text": [
            "val_loss: 1.87339478189295\n",
            "val_acc: 0.4055766793409379\n",
            "Start validation\n"
          ]
        },
        {
          "data": {
            "application/vnd.jupyter.widget-view+json": {
              "model_id": "04e0787686504452b7c8abc0718cb843",
              "version_major": 2,
              "version_minor": 0
            },
            "text/plain": [
              "  0%|          | 0/99 [00:00<?, ?it/s]"
            ]
          },
          "metadata": {},
          "output_type": "display_data"
        },
        {
          "name": "stdout",
          "output_type": "stream",
          "text": [
            "val_loss: 1.8741495236001833\n",
            "val_acc: 0.4055766793409379\n",
            "Start validation\n"
          ]
        },
        {
          "data": {
            "application/vnd.jupyter.widget-view+json": {
              "model_id": "0d356a57a7a843dc91ced0b5bd5c4e71",
              "version_major": 2,
              "version_minor": 0
            },
            "text/plain": [
              "  0%|          | 0/99 [00:00<?, ?it/s]"
            ]
          },
          "metadata": {},
          "output_type": "display_data"
        },
        {
          "name": "stdout",
          "output_type": "stream",
          "text": [
            "val_loss: 1.8785654432845837\n",
            "val_acc: 0.4005069708491762\n",
            "Start validation\n"
          ]
        },
        {
          "data": {
            "application/vnd.jupyter.widget-view+json": {
              "model_id": "064bf48fc3d94c60b422f7b03ea284e8",
              "version_major": 2,
              "version_minor": 0
            },
            "text/plain": [
              "  0%|          | 0/99 [00:00<?, ?it/s]"
            ]
          },
          "metadata": {},
          "output_type": "display_data"
        },
        {
          "name": "stdout",
          "output_type": "stream",
          "text": [
            "val_loss: 1.8842043720110497\n",
            "val_acc: 0.4005069708491762\n",
            "Start validation\n"
          ]
        },
        {
          "data": {
            "application/vnd.jupyter.widget-view+json": {
              "model_id": "8f6a61f9669848859580fb0de5ef12d9",
              "version_major": 2,
              "version_minor": 0
            },
            "text/plain": [
              "  0%|          | 0/99 [00:00<?, ?it/s]"
            ]
          },
          "metadata": {},
          "output_type": "display_data"
        },
        {
          "name": "stdout",
          "output_type": "stream",
          "text": [
            "val_loss: 1.8872819771670333\n",
            "val_acc: 0.4055766793409379\n",
            "Start validation\n"
          ]
        },
        {
          "data": {
            "application/vnd.jupyter.widget-view+json": {
              "model_id": "4dfcaa346de148c8a1d7941538ba30ed",
              "version_major": 2,
              "version_minor": 0
            },
            "text/plain": [
              "  0%|          | 0/99 [00:00<?, ?it/s]"
            ]
          },
          "metadata": {},
          "output_type": "display_data"
        },
        {
          "name": "stdout",
          "output_type": "stream",
          "text": [
            "val_loss: 1.891517733684694\n",
            "val_acc: 0.4055766793409379\n",
            "Start validation\n"
          ]
        },
        {
          "data": {
            "application/vnd.jupyter.widget-view+json": {
              "model_id": "f24ad41c0a5c419699042fd24b0e0967",
              "version_major": 2,
              "version_minor": 0
            },
            "text/plain": [
              "  0%|          | 0/99 [00:00<?, ?it/s]"
            ]
          },
          "metadata": {},
          "output_type": "display_data"
        },
        {
          "name": "stdout",
          "output_type": "stream",
          "text": [
            "val_loss: 1.8954879623470884\n",
            "val_acc: 0.4055766793409379\n",
            "Start validation\n"
          ]
        },
        {
          "data": {
            "application/vnd.jupyter.widget-view+json": {
              "model_id": "f534d28577b242c8b1f8eb2822e80d15",
              "version_major": 2,
              "version_minor": 0
            },
            "text/plain": [
              "  0%|          | 0/99 [00:00<?, ?it/s]"
            ]
          },
          "metadata": {},
          "output_type": "display_data"
        },
        {
          "name": "stdout",
          "output_type": "stream",
          "text": [
            "val_loss: 1.8988508491805105\n",
            "val_acc: 0.4055766793409379\n",
            "Start validation\n"
          ]
        },
        {
          "data": {
            "application/vnd.jupyter.widget-view+json": {
              "model_id": "7a78447df60944ca8ad82b35c112345e",
              "version_major": 2,
              "version_minor": 0
            },
            "text/plain": [
              "  0%|          | 0/99 [00:00<?, ?it/s]"
            ]
          },
          "metadata": {},
          "output_type": "display_data"
        },
        {
          "name": "stdout",
          "output_type": "stream",
          "text": [
            "val_loss: 1.9033363015964777\n",
            "val_acc: 0.4005069708491762\n",
            "Start validation\n"
          ]
        },
        {
          "data": {
            "application/vnd.jupyter.widget-view+json": {
              "model_id": "68f16bba0c3a49f68162d1ad4eb4ce35",
              "version_major": 2,
              "version_minor": 0
            },
            "text/plain": [
              "  0%|          | 0/99 [00:00<?, ?it/s]"
            ]
          },
          "metadata": {},
          "output_type": "display_data"
        },
        {
          "name": "stdout",
          "output_type": "stream",
          "text": [
            "val_loss: 1.9075293661368014\n",
            "val_acc: 0.4005069708491762\n",
            "Start validation\n"
          ]
        },
        {
          "data": {
            "application/vnd.jupyter.widget-view+json": {
              "model_id": "939001d831bc4596a83840062e747dd6",
              "version_major": 2,
              "version_minor": 0
            },
            "text/plain": [
              "  0%|          | 0/99 [00:00<?, ?it/s]"
            ]
          },
          "metadata": {},
          "output_type": "display_data"
        },
        {
          "name": "stdout",
          "output_type": "stream",
          "text": [
            "val_loss: 1.9101697862750353\n",
            "val_acc: 0.4005069708491762\n",
            "Start validation\n"
          ]
        },
        {
          "data": {
            "application/vnd.jupyter.widget-view+json": {
              "model_id": "151ae85d6b0949daa25456989c822ef1",
              "version_major": 2,
              "version_minor": 0
            },
            "text/plain": [
              "  0%|          | 0/99 [00:00<?, ?it/s]"
            ]
          },
          "metadata": {},
          "output_type": "display_data"
        },
        {
          "name": "stdout",
          "output_type": "stream",
          "text": [
            "val_loss: 1.910006749509561\n",
            "val_acc: 0.4005069708491762\n",
            "Start validation\n"
          ]
        },
        {
          "data": {
            "application/vnd.jupyter.widget-view+json": {
              "model_id": "26f703503720482bacf2e14071b248e7",
              "version_major": 2,
              "version_minor": 0
            },
            "text/plain": [
              "  0%|          | 0/99 [00:00<?, ?it/s]"
            ]
          },
          "metadata": {},
          "output_type": "display_data"
        },
        {
          "name": "stdout",
          "output_type": "stream",
          "text": [
            "val_loss: 1.8994662418509975\n",
            "val_acc: 0.4055766793409379\n",
            "Start validation\n"
          ]
        },
        {
          "data": {
            "application/vnd.jupyter.widget-view+json": {
              "model_id": "fe266ee971cd464b80c779125b02f341",
              "version_major": 2,
              "version_minor": 0
            },
            "text/plain": [
              "  0%|          | 0/99 [00:00<?, ?it/s]"
            ]
          },
          "metadata": {},
          "output_type": "display_data"
        },
        {
          "name": "stdout",
          "output_type": "stream",
          "text": [
            "val_loss: 1.898671188739815\n",
            "val_acc: 0.4005069708491762\n",
            "Start validation\n"
          ]
        },
        {
          "data": {
            "application/vnd.jupyter.widget-view+json": {
              "model_id": "1291968fadda4535bdfbbf4030915f46",
              "version_major": 2,
              "version_minor": 0
            },
            "text/plain": [
              "  0%|          | 0/99 [00:00<?, ?it/s]"
            ]
          },
          "metadata": {},
          "output_type": "display_data"
        },
        {
          "name": "stdout",
          "output_type": "stream",
          "text": [
            "val_loss: 1.8901634180184566\n",
            "val_acc: 0.4055766793409379\n",
            "Start validation\n"
          ]
        },
        {
          "data": {
            "application/vnd.jupyter.widget-view+json": {
              "model_id": "2857069ccb8243baaf201d7f71fb5ec6",
              "version_major": 2,
              "version_minor": 0
            },
            "text/plain": [
              "  0%|          | 0/99 [00:00<?, ?it/s]"
            ]
          },
          "metadata": {},
          "output_type": "display_data"
        },
        {
          "name": "stdout",
          "output_type": "stream",
          "text": [
            "val_loss: 1.8879606350503786\n",
            "val_acc: 0.4055766793409379\n",
            "Start validation\n"
          ]
        },
        {
          "data": {
            "application/vnd.jupyter.widget-view+json": {
              "model_id": "c585c13c04ca41b5acd4708fc0b46f9f",
              "version_major": 2,
              "version_minor": 0
            },
            "text/plain": [
              "  0%|          | 0/99 [00:00<?, ?it/s]"
            ]
          },
          "metadata": {},
          "output_type": "display_data"
        },
        {
          "name": "stdout",
          "output_type": "stream",
          "text": [
            "val_loss: 1.881472399138441\n",
            "val_acc: 0.4055766793409379\n",
            "Start validation\n"
          ]
        },
        {
          "data": {
            "application/vnd.jupyter.widget-view+json": {
              "model_id": "95dcd6277b1040c49c9f110172aad535",
              "version_major": 2,
              "version_minor": 0
            },
            "text/plain": [
              "  0%|          | 0/99 [00:00<?, ?it/s]"
            ]
          },
          "metadata": {},
          "output_type": "display_data"
        },
        {
          "name": "stdout",
          "output_type": "stream",
          "text": [
            "val_loss: 1.8795611129866705\n",
            "val_acc: 0.4005069708491762\n",
            "Start validation\n"
          ]
        },
        {
          "data": {
            "application/vnd.jupyter.widget-view+json": {
              "model_id": "deab9c8bc06740b2a5103422e3691af2",
              "version_major": 2,
              "version_minor": 0
            },
            "text/plain": [
              "  0%|          | 0/99 [00:00<?, ?it/s]"
            ]
          },
          "metadata": {},
          "output_type": "display_data"
        },
        {
          "name": "stdout",
          "output_type": "stream",
          "text": [
            "val_loss: 1.8821152514881558\n",
            "val_acc: 0.4005069708491762\n",
            "Start validation\n"
          ]
        },
        {
          "data": {
            "application/vnd.jupyter.widget-view+json": {
              "model_id": "76dc0ed7b1af42ee96f3de6d54bc680f",
              "version_major": 2,
              "version_minor": 0
            },
            "text/plain": [
              "  0%|          | 0/99 [00:00<?, ?it/s]"
            ]
          },
          "metadata": {},
          "output_type": "display_data"
        },
        {
          "name": "stdout",
          "output_type": "stream",
          "text": [
            "val_loss: 1.8844396544225288\n",
            "val_acc: 0.4005069708491762\n",
            "Start validation\n"
          ]
        },
        {
          "data": {
            "application/vnd.jupyter.widget-view+json": {
              "model_id": "cd0df19cefe34123964f625571ea6cb2",
              "version_major": 2,
              "version_minor": 0
            },
            "text/plain": [
              "  0%|          | 0/99 [00:00<?, ?it/s]"
            ]
          },
          "metadata": {},
          "output_type": "display_data"
        },
        {
          "name": "stdout",
          "output_type": "stream",
          "text": [
            "val_loss: 1.8871957322563788\n",
            "val_acc: 0.4005069708491762\n",
            "Start validation\n"
          ]
        },
        {
          "data": {
            "application/vnd.jupyter.widget-view+json": {
              "model_id": "e4eab72fe3064e53bff54527975016e4",
              "version_major": 2,
              "version_minor": 0
            },
            "text/plain": [
              "  0%|          | 0/99 [00:00<?, ?it/s]"
            ]
          },
          "metadata": {},
          "output_type": "display_data"
        },
        {
          "name": "stdout",
          "output_type": "stream",
          "text": [
            "val_loss: 1.879960054701025\n",
            "val_acc: 0.4005069708491762\n",
            "Start validation\n"
          ]
        },
        {
          "data": {
            "application/vnd.jupyter.widget-view+json": {
              "model_id": "7e67cb725fdb467796ed9e9e0b29e9b6",
              "version_major": 2,
              "version_minor": 0
            },
            "text/plain": [
              "  0%|          | 0/99 [00:00<?, ?it/s]"
            ]
          },
          "metadata": {},
          "output_type": "display_data"
        },
        {
          "name": "stdout",
          "output_type": "stream",
          "text": [
            "val_loss: 1.8813557751250989\n",
            "val_acc: 0.4005069708491762\n",
            "Start validation\n"
          ]
        },
        {
          "data": {
            "application/vnd.jupyter.widget-view+json": {
              "model_id": "9be4a75d1f0e4f6f955786000e3aa913",
              "version_major": 2,
              "version_minor": 0
            },
            "text/plain": [
              "  0%|          | 0/99 [00:00<?, ?it/s]"
            ]
          },
          "metadata": {},
          "output_type": "display_data"
        },
        {
          "name": "stdout",
          "output_type": "stream",
          "text": [
            "val_loss: 1.8750986499015732\n",
            "val_acc: 0.4005069708491762\n",
            "Start validation\n"
          ]
        },
        {
          "data": {
            "application/vnd.jupyter.widget-view+json": {
              "model_id": "5e1ce3f4817445d28e90a9f36516242f",
              "version_major": 2,
              "version_minor": 0
            },
            "text/plain": [
              "  0%|          | 0/99 [00:00<?, ?it/s]"
            ]
          },
          "metadata": {},
          "output_type": "display_data"
        },
        {
          "name": "stdout",
          "output_type": "stream",
          "text": [
            "val_loss: 1.8733888184181366\n",
            "val_acc: 0.4005069708491762\n",
            "Start validation\n"
          ]
        },
        {
          "data": {
            "application/vnd.jupyter.widget-view+json": {
              "model_id": "c4d1fd83f63740fdadf18ccc792e9de4",
              "version_major": 2,
              "version_minor": 0
            },
            "text/plain": [
              "  0%|          | 0/99 [00:00<?, ?it/s]"
            ]
          },
          "metadata": {},
          "output_type": "display_data"
        },
        {
          "name": "stdout",
          "output_type": "stream",
          "text": [
            "val_loss: 1.8743026015734432\n",
            "val_acc: 0.4005069708491762\n",
            "Start validation\n"
          ]
        },
        {
          "data": {
            "application/vnd.jupyter.widget-view+json": {
              "model_id": "697153cfa4a1499eb333d8a3fcd6b472",
              "version_major": 2,
              "version_minor": 0
            },
            "text/plain": [
              "  0%|          | 0/99 [00:00<?, ?it/s]"
            ]
          },
          "metadata": {},
          "output_type": "display_data"
        },
        {
          "name": "stdout",
          "output_type": "stream",
          "text": [
            "val_loss: 1.8750392915022494\n",
            "val_acc: 0.4005069708491762\n",
            "Start validation\n"
          ]
        },
        {
          "data": {
            "application/vnd.jupyter.widget-view+json": {
              "model_id": "3ed716dea5034d83a551a9e843057338",
              "version_major": 2,
              "version_minor": 0
            },
            "text/plain": [
              "  0%|          | 0/99 [00:00<?, ?it/s]"
            ]
          },
          "metadata": {},
          "output_type": "display_data"
        },
        {
          "name": "stdout",
          "output_type": "stream",
          "text": [
            "val_loss: 1.8759119263803117\n",
            "val_acc: 0.4005069708491762\n",
            "Start validation\n"
          ]
        },
        {
          "data": {
            "application/vnd.jupyter.widget-view+json": {
              "model_id": "b30676a7440740018516606ed4634a4b",
              "version_major": 2,
              "version_minor": 0
            },
            "text/plain": [
              "  0%|          | 0/99 [00:00<?, ?it/s]"
            ]
          },
          "metadata": {},
          "output_type": "display_data"
        },
        {
          "name": "stdout",
          "output_type": "stream",
          "text": [
            "val_loss: 1.8768047136489792\n",
            "val_acc: 0.4055766793409379\n",
            "Start validation\n"
          ]
        },
        {
          "data": {
            "application/vnd.jupyter.widget-view+json": {
              "model_id": "bbcc7e456ffa4a619182ae0a8e3bcac0",
              "version_major": 2,
              "version_minor": 0
            },
            "text/plain": [
              "  0%|          | 0/99 [00:00<?, ?it/s]"
            ]
          },
          "metadata": {},
          "output_type": "display_data"
        },
        {
          "name": "stdout",
          "output_type": "stream",
          "text": [
            "val_loss: 1.8773339715870945\n",
            "val_acc: 0.4055766793409379\n",
            "Start validation\n"
          ]
        },
        {
          "data": {
            "application/vnd.jupyter.widget-view+json": {
              "model_id": "71a74cb55f274ce6905d753577170964",
              "version_major": 2,
              "version_minor": 0
            },
            "text/plain": [
              "  0%|          | 0/99 [00:00<?, ?it/s]"
            ]
          },
          "metadata": {},
          "output_type": "display_data"
        },
        {
          "name": "stdout",
          "output_type": "stream",
          "text": [
            "val_loss: 1.8784166761118957\n",
            "val_acc: 0.4055766793409379\n",
            "Start validation\n"
          ]
        },
        {
          "data": {
            "application/vnd.jupyter.widget-view+json": {
              "model_id": "d6c70e56f1a74851ae357ca281374f24",
              "version_major": 2,
              "version_minor": 0
            },
            "text/plain": [
              "  0%|          | 0/99 [00:00<?, ?it/s]"
            ]
          },
          "metadata": {},
          "output_type": "display_data"
        },
        {
          "name": "stdout",
          "output_type": "stream",
          "text": [
            "val_loss: 1.878962141696853\n",
            "val_acc: 0.4055766793409379\n",
            "Start validation\n"
          ]
        },
        {
          "data": {
            "application/vnd.jupyter.widget-view+json": {
              "model_id": "9debf62597c64d448eb443680a473675",
              "version_major": 2,
              "version_minor": 0
            },
            "text/plain": [
              "  0%|          | 0/99 [00:00<?, ?it/s]"
            ]
          },
          "metadata": {},
          "output_type": "display_data"
        },
        {
          "name": "stdout",
          "output_type": "stream",
          "text": [
            "val_loss: 1.8775354780332008\n",
            "val_acc: 0.4055766793409379\n",
            "Start validation\n"
          ]
        },
        {
          "data": {
            "application/vnd.jupyter.widget-view+json": {
              "model_id": "2830c267ebb04507b501b338d4be76d1",
              "version_major": 2,
              "version_minor": 0
            },
            "text/plain": [
              "  0%|          | 0/99 [00:00<?, ?it/s]"
            ]
          },
          "metadata": {},
          "output_type": "display_data"
        },
        {
          "name": "stdout",
          "output_type": "stream",
          "text": [
            "val_loss: 1.8774738805462616\n",
            "val_acc: 0.4055766793409379\n",
            "Start validation\n"
          ]
        },
        {
          "data": {
            "application/vnd.jupyter.widget-view+json": {
              "model_id": "430e6fcb301843feb4cc68aff009a70e",
              "version_major": 2,
              "version_minor": 0
            },
            "text/plain": [
              "  0%|          | 0/99 [00:00<?, ?it/s]"
            ]
          },
          "metadata": {},
          "output_type": "display_data"
        },
        {
          "name": "stdout",
          "output_type": "stream",
          "text": [
            "val_loss: 1.8775473104582892\n",
            "val_acc: 0.4055766793409379\n",
            "Finished training!\n"
          ]
        }
      ],
      "source": [
        "progress_bar = tqdm(range(num_training_steps))\n",
        "current_steps = 0\n",
        "\n",
        "for epoch in range(NUM_EPOCHS):\n",
        "    model.train()\n",
        "\n",
        "    for batch in train_dataloader:\n",
        "        torch.cuda.empty_cache()\n",
        "        batch = {k: v.to(device) for k, v in batch.items()}\n",
        "        outputs = model(**batch)\n",
        "        loss = outputs.loss\n",
        "        loss.backward()\n",
        "\n",
        "        optimizer.step()\n",
        "        lr_scheduler.step()\n",
        "        optimizer.zero_grad()\n",
        "        progress_bar.update(1)\n",
        "        writer.add_scalar(\"training_loss\", loss.item(), current_steps)\n",
        "\n",
        "        y_pred = torch.argmax(outputs.logits, dim=1).tolist()\n",
        "        y_true = batch[\"labels\"].tolist()\n",
        "\n",
        "        current_steps += 1\n",
        "\n",
        "        if current_steps % VALIDATION_STEP == 0 and current_steps > 0:\n",
        "            print(f\"Start validation: current_steps={current_steps}, epoch={epoch}\")\n",
        "            val_results = run_evaluation(model, eval_dataloader, device)\n",
        "\n",
        "            # log each metric separately to TensorBoard\n",
        "            for metric_name, metric_value in val_results.items():\n",
        "                print(f\"{metric_name}: {metric_value}\")\n",
        "                writer.add_scalar(f\"{metric_name}\", metric_value, current_steps)\n",
        "\n",
        "            val_acc = val_results['val_acc']\n",
        "            if val_acc > 0.425:\n",
        "                save_checkpoint(\n",
        "                    model,\n",
        "                    CKPT_DIR,\n",
        "                    current_steps,\n",
        "                    mark=f\"val_acc={val_acc:.4f}\",\n",
        "                )\n",
        "\n",
        "print(\"Finished training!\")"
      ]
    },
    {
      "attachments": {},
      "cell_type": "markdown",
      "metadata": {},
      "source": [
        "### Step 4. Make your submission"
      ]
    },
    {
      "cell_type": "code",
      "execution_count": 16,
      "metadata": {
        "id": "zLkfuoAE49mz"
      },
      "outputs": [],
      "source": [
        "TEST_DATA = load_json(\"data/test_doc5sent5.jsonl\")\n",
        "TEST_PKL_FILE = Path(\"data/test_doc5sent5.pkl\")\n",
        "\n",
        "if not TEST_PKL_FILE.exists():\n",
        "    test_df = join_with_topk_evidence(\n",
        "        pd.DataFrame(TEST_DATA),\n",
        "        mapping,\n",
        "        mode=\"eval\",\n",
        "        topk=EVIDENCE_TOPK,\n",
        "    )\n",
        "    test_df.to_pickle(TEST_PKL_FILE, protocol=4)\n",
        "else:\n",
        "    with open(TEST_PKL_FILE, \"rb\") as f:\n",
        "        test_df = pickle.load(f)\n",
        "\n",
        "test_dataset = AicupTopkEvidenceBERTDataset(\n",
        "    test_df,\n",
        "    tokenizer=tokenizer,\n",
        "    max_length=MAX_SEQ_LEN,\n",
        ")\n",
        "test_dataloader = DataLoader(test_dataset, batch_size=TEST_BATCH_SIZE)"
      ]
    },
    {
      "attachments": {},
      "cell_type": "markdown",
      "metadata": {},
      "source": [
        "Prediction"
      ]
    },
    {
      "cell_type": "code",
      "execution_count": 19,
      "metadata": {
        "id": "tqIjlht8yCMA"
      },
      "outputs": [
        {
          "data": {
            "application/vnd.jupyter.widget-view+json": {
              "model_id": "908f3ef12d8b4c35bc83e50c54214ce1",
              "version_major": 2,
              "version_minor": 0
            },
            "text/plain": [
              "Predicting:   0%|          | 0/31 [00:00<?, ?it/s]"
            ]
          },
          "metadata": {},
          "output_type": "display_data"
        }
      ],
      "source": [
        "ckpt_name = \"val_acc=0.4559_model.250.pt\"  #@param {type:\"string\"}\n",
        "model = load_model(model, ckpt_name, CKPT_DIR)\n",
        "predicted_label = run_predict(model, test_dataloader, device)"
      ]
    },
    {
      "attachments": {},
      "cell_type": "markdown",
      "metadata": {},
      "source": [
        "Write files"
      ]
    },
    {
      "cell_type": "code",
      "execution_count": 20,
      "metadata": {
        "id": "Gl9I3ZWW4pHo"
      },
      "outputs": [],
      "source": [
        "predict_dataset = test_df.copy()\n",
        "predict_dataset[\"predicted_label\"] = list(map(ID2LABEL.get, predicted_label))\n",
        "predict_dataset[[\"id\", \"predicted_label\", \"predicted_evidence\"]].to_json(\n",
        "    f\"submission/{ckpt_name[:14]}_{OUTPUT_FILENAME}\",\n",
        "    orient=\"records\",\n",
        "    lines=True,\n",
        "    force_ascii=False,\n",
        ")"
      ]
    }
  ],
  "metadata": {
    "accelerator": "GPU",
    "colab": {
      "provenance": []
    },
    "gpuClass": "standard",
    "kernelspec": {
      "display_name": "base",
      "language": "python",
      "name": "python3"
    },
    "language_info": {
      "codemirror_mode": {
        "name": "ipython",
        "version": 3
      },
      "file_extension": ".py",
      "mimetype": "text/x-python",
      "name": "python",
      "nbconvert_exporter": "python",
      "pygments_lexer": "ipython3",
      "version": "3.10.9"
    },
    "vscode": {
      "interpreter": {
        "hash": "58f38e4893e5afed24ba0416c084b8b56093319a21f96223eaba66586e962656"
      }
    }
  },
  "nbformat": 4,
  "nbformat_minor": 0
}
