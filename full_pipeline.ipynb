{
  "cells": [
    {
      "attachments": {},
      "cell_type": "markdown",
      "metadata": {},
      "source": [
        "# Baseline\n",
        "python: 3.8.*\n",
        "\n",
        "use ```Ctrl + ]``` to collapse all section :)"
      ]
    },
    {
      "attachments": {},
      "cell_type": "markdown",
      "metadata": {},
      "source": [
        "### Download our starter pack (3~5 min)"
      ]
    },
    {
      "cell_type": "code",
      "execution_count": null,
      "metadata": {},
      "outputs": [],
      "source": [
        "!gdown 1Xq2Fv6UGA1pc25pF0qwEc_l7Fa5jPP6p"
      ]
    },
    {
      "cell_type": "code",
      "execution_count": 2,
      "metadata": {},
      "outputs": [
        {
          "name": "stdout",
          "output_type": "stream",
          "text": [
            "Retrieving folder 15cJ_K2Tm95UkHgnvvPdMqGQy0_At6lRI checkpoints\n",
            "Retrieving folder 1jIWaLk4VLXEEm7au12mH80bKqFS3-ZKk claim_verification\n",
            "Retrieving folder 1DVfRginiE0thVjKELz7DCsEMYltRaTDG e20_bs32_7e-05_top5\n",
            "Processing file 1AGMfElEghEnYWLYU0YURZrBzmskYuovm val_acc=0.4259_model.750.pt\n",
            "Retrieving folder 19-pRgA1elB6U2UklW6DmUUm9R4qraAu8 sent_retrieval\n",
            "Retrieving folder 15zhuj7t3s5vG4JtFS_PNRTtE5l9mv0nZ e1_bs64_2e-05_neg0.03_top5\n",
            "Processing file 1PBBfgu9lV8_hHdmZRT99bAk_Zl51MZcr model.50.pt\n",
            "Retrieving folder 1r742uPeVnqUm04qUEZpzzpxXZFbj4gNd data\n",
            "Processing file 1hBMys30E2Tw-QCt8FDKKnu-eF_G1tGio dev_doc5sent5.jsonl\n",
            "Processing file 1iHSNpooXDLurizn9sxUbY1Fpk-h9La3i dev_doc5sent5.pkl\n",
            "Processing file 1a0e__D64L8CWhZsvuYZZuXiOZ7a99Bnj hanlp_con_results.pkl\n",
            "Processing file 1BFeoxCm5n0fauW9rbNqy6Se9dK9RnbEJ hanlp_con_test_results.pkl\n",
            "Processing file 1rTvOEQAZG7Hs5aVlTvpnZSW89JWNTUzK public_test.jsonl\n",
            "Processing file 1TbIsMs71WZP2kRpgnn2U383mPavu1G-b public_train.jsonl\n",
            "Processing file 1PDGOk2CCw7LFsATSN02TO8Q3qWIZEnon test_doc5.jsonl\n",
            "Processing file 1xOwH__ssVWnlCbyQfMXgkedqryKluY3x test_doc5sent5.jsonl\n",
            "Processing file 1P6nFa4heHDJFjiEbdN0m7kn_MpzuSEgR test_doc5sent5.pkl\n",
            "Processing file 1y8MJPXUIUxL5siqjS9lB1eQcLAt_5TbE train_doc5.jsonl\n",
            "Processing file 1mQNvv0M0g7aXql9tUQXXI6rMZh0HdRpD train_doc5sent5.jsonl\n",
            "Processing file 1np70uYaVLVqep62qTKL6nC9COXKHze81 train_doc5sent5.pkl\n",
            "Retrieving folder 1kop6Pkva0oORDU9BFpmN_UOiXCLCAe0c wiki-pages\n",
            "Processing file 1sTVRjhZKNQjIR8K88CMJUCSLw4vveLTg wiki-001.jsonl\n",
            "Processing file 1q6K_oCn22WkKk5ajIhzn8KgzYXuFgVSQ wiki-002.jsonl\n",
            "Processing file 1qG0vV8Mx824puUL3Pg_4twiJTvoiXxdk wiki-003.jsonl\n",
            "Processing file 1uyZjqwcj_098mSMgtmak9SLlMZthrk6o wiki-004.jsonl\n",
            "Processing file 1x9OixQWwGivGWsvgZL8dabi4587E3uy9 wiki-005.jsonl\n",
            "Processing file 1OgFP5P7ZztQHeU_xUk21ycNLzoflfJQy wiki-006.jsonl\n",
            "Processing file 1JJwlu2FGm_dyAd28dQjroQmi1fb8_5Sx wiki-007.jsonl\n",
            "Processing file 1sH6X5JheiEkfOwZRq7HPE5U1pueMqsjF wiki-008.jsonl\n",
            "Processing file 1eMguWqUTjo0Q6HYJvT4pf3YLuEdF8aUV wiki-009.jsonl\n",
            "Processing file 1R9HW0GeQXBo5Bi6mcDXXqi_me6ARW3g3 wiki-010.jsonl\n",
            "Processing file 1TlvJf5lP62-a7PCCd7O42JnJso6ppnqN wiki-011.jsonl\n",
            "Processing file 1QDEKOyShPsSGQrGzw8ChJrjrjSBzzmr- wiki-012.jsonl\n",
            "Processing file 1kfREF9TzQXLo2RYhjfYah1EunZopx48r wiki-013.jsonl\n",
            "Processing file 1qmxE66ewfRvKPEdqZ6FzqpWl-jFb_-cU wiki-014.jsonl\n",
            "Processing file 1MRRMRWX7Ig1jB5uMVr-El3CP8eLxY63G wiki-015.jsonl\n",
            "Processing file 1soh98CaH5tyPuLo0QpvUGuy9Nw_0g4c5 wiki-016.jsonl\n",
            "Processing file 1qkTBd7LKsUf97j8LSUKZhlpPfLguQ9dx wiki-017.jsonl\n",
            "Processing file 16LF2Z-WUGJFRe8y851O6_F3_vNOrA2Ky wiki-018.jsonl\n",
            "Processing file 1IU2m8Cm3LPNNlteGNyjeVfFc1orddsch wiki-019.jsonl\n",
            "Processing file 108HqVkaZm4uxehs3R5YJAdr-x3HSLirD wiki-020.jsonl\n",
            "Processing file 14UgYxH3rOg_DSU-ZgIh-AJFqlXAhQYkB wiki-021.jsonl\n",
            "Processing file 1D5E8liujJNzSUsDup8F4Ew2jZrc4domM wiki-022.jsonl\n",
            "Processing file 1EFzRoQvvis8REbL6q1z4K0zGVzO6oFGi wiki-023.jsonl\n",
            "Processing file 15C701SJCcj__2rqbyeNUI6hKjHSPQZT3 wiki-024.jsonl\n",
            "Processing file 15pH4nITCgsGPoQQaqC2ga1xOLO-A_OjB dataset.py\n",
            "Processing file 1NI--USaKNFZOJfWRSCiN-i7twL-2mhFm requirements.txt\n",
            "Processing file 1omVZDMgvWvH15-yegcfNBmJvmBRcG2Rs utils.py\n",
            "Building directory structure completed\n",
            "Access denied with the following error:\n"
          ]
        },
        {
          "name": "stderr",
          "output_type": "stream",
          "text": [
            "Retrieving folder list\n",
            "Retrieving folder list completed\n",
            "Building directory structure\n",
            "\n",
            " \tToo many users have viewed or downloaded this file recently. Please\n",
            "\ttry accessing the file again later. If the file you are trying to\n",
            "\taccess is particularly large or is shared with many people, it may\n",
            "\ttake up to 24 hours to be able to view or download the file. If you\n",
            "\tstill can't access a file after 24 hours, contact your domain\n",
            "\tadministrator. \n",
            "\n",
            "You may still be able to access the file from the browser:\n",
            "\n",
            "\t https://drive.google.com/uc?id=1AGMfElEghEnYWLYU0YURZrBzmskYuovm \n",
            "\n",
            "Download ended unsuccessfully\n",
            "'mv' ���O�����Υ~���R�O�B�i���檺�{���Χ妸�ɡC\n"
          ]
        }
      ],
      "source": [
        "!gdown --folder 1T6jpOtdf_i6XNYA6F_lqU4mRRh1xYPcl\n",
        "!mv baseline/* ./"
      ]
    },
    {
      "cell_type": "code",
      "execution_count": null,
      "metadata": {},
      "outputs": [],
      "source": [
        "!gdown --folder 1hnVYEgN-gYzFCeBZo8cbKjGLBP-YTnTW"
      ]
    },
    {
      "cell_type": "code",
      "execution_count": 1,
      "metadata": {},
      "outputs": [
        {
          "name": "stdout",
          "output_type": "stream",
          "text": [
            "Looking in links: https://download.pytorch.org/whl/torch_stable.html\n",
            "Collecting ipywidgets==8.0.5\n",
            "  Downloading ipywidgets-8.0.5-py3-none-any.whl (138 kB)\n",
            "\u001b[K     |████████████████████████████████| 138 kB 2.0 MB/s eta 0:00:01\n",
            "\u001b[?25hCollecting pandarallel==1.6.4\n",
            "  Downloading pandarallel-1.6.4.tar.gz (12 kB)\n",
            "Collecting pandas==1.5.3\n",
            "  Downloading pandas-1.5.3-cp38-cp38-manylinux_2_17_x86_64.manylinux2014_x86_64.whl (12.2 MB)\n",
            "\u001b[K     |████████████████████████████████| 12.2 MB 10.0 MB/s eta 0:00:01\n",
            "\u001b[?25hCollecting scikit-learn==1.2.2\n",
            "  Downloading scikit_learn-1.2.2-cp38-cp38-manylinux_2_17_x86_64.manylinux2014_x86_64.whl (9.8 MB)\n",
            "\u001b[K     |████████████████████████████████| 9.8 MB 120.6 MB/s eta 0:00:01     |███▌                            | 1.1 MB 120.6 MB/s eta 0:00:01\n",
            "\u001b[?25hCollecting tensorboard==2.11.0\n",
            "  Downloading tensorboard-2.11.0-py3-none-any.whl (6.0 MB)\n",
            "\u001b[K     |████████████████████████████████| 6.0 MB 126.9 MB/s eta 0:00:01\n",
            "\u001b[?25hCollecting torch==1.13.1+cu116\n",
            "  Downloading https://download.pytorch.org/whl/cu116/torch-1.13.1%2Bcu116-cp38-cp38-linux_x86_64.whl (1977.9 MB)\n",
            "\u001b[K     |████████████████████████████████| 1977.9 MB 2.8 kB/s s eta 0:00:01   |███▊                            | 231.9 MB 74.4 MB/s eta 0:00:24     |█████████████▌                  | 837.8 MB 74.0 MB/s eta 0:00:16     |████████████████                | 992.8 MB 22.9 MB/s eta 0:00:43     |███████████████████             | 1173.7 MB 22.9 MB/s eta 0:00:36     |███████████████████▌            | 1207.3 MB 62.1 MB/s eta 0:00:13�███████▊            | 1220.7 MB 62.1 MB/s eta 0:00:13     |████████████████████▍           | 1259.6 MB 21.1 MB/s eta 0:00:35     |█████████████████████▌          | 1326.0 MB 110.5 MB/s eta 0:00:06     |███████████████████████▏        | 1435.4 MB 37.7 MB/s eta 0:00:15     |████████████████████████▍       | 1510.4 MB 56.7 MB/s eta 0:00:09     |█████████████████████████▍      | 1567.7 MB 56.7 MB/s eta 0:00:08     |██████████████████████████▋     | 1643.6 MB 12.5 MB/s eta 0:00:27     |██████████████████████████▉     | 1656.0 MB 100.5 MB/s eta 0:00:04��███████████████████████▌    | 1697.6 MB 100.5 MB/s eta 0:00:03��████████████████████████▊   | 1778.2 MB 8.7 MB/s eta 0:00:24     |█████████████████████████████   | 1790.1 MB 8.3 MB/s eta 0:00:23�█▍ | 1878.6 MB 3.5 MB/s eta 0:00:29█████████████████████▉| 1966.8 MB 118.2 MB/s eta 0:00:01\n",
            "\u001b[?25hCollecting tqdm==4.65.0\n",
            "  Downloading tqdm-4.65.0-py3-none-any.whl (77 kB)\n",
            "\u001b[K     |████████████████████████████████| 77 kB 7.8 MB/s s eta 0:00:01\n",
            "\u001b[?25hCollecting opencc\n",
            "  Downloading OpenCC-1.1.6-cp38-cp38-manylinux1_x86_64.whl (778 kB)\n",
            "\u001b[K     |████████████████████████████████| 778 kB 88.0 MB/s eta 0:00:01\n",
            "\u001b[?25hCollecting hanlp\n",
            "  Downloading hanlp-2.1.0b49-py3-none-any.whl (650 kB)\n",
            "\u001b[K     |████████████████████████████████| 650 kB 137.4 MB/s eta 0:00:01\n",
            "\u001b[?25hCollecting transformers==4.27.1\n",
            "  Downloading transformers-4.27.1-py3-none-any.whl (6.7 MB)\n",
            "\u001b[K     |████████████████████████████████| 6.7 MB 128.2 MB/s eta 0:00:012 MB/s eta 0:00:01\n",
            "\u001b[?25hCollecting wikipedia==1.4.0\n",
            "  Downloading wikipedia-1.4.0.tar.gz (27 kB)\n",
            "Collecting tcsp\n",
            "  Downloading TCSP-0.0.9-py3-none-any.whl (5.7 kB)\n",
            "Collecting jupyterlab-widgets~=3.0\n",
            "  Downloading jupyterlab_widgets-3.0.7-py3-none-any.whl (198 kB)\n",
            "\u001b[K     |████████████████████████████████| 198 kB 84.1 MB/s eta 0:00:01\n",
            "\u001b[?25hRequirement already satisfied: traitlets>=4.3.1 in /usr/local/lib/python3.8/dist-packages (from ipywidgets==8.0.5->-r requirements.txt (line 3)) (5.1.1)\n",
            "Collecting widgetsnbextension~=4.0\n",
            "  Downloading widgetsnbextension-4.0.7-py3-none-any.whl (2.1 MB)\n",
            "\u001b[K     |████████████████████████████████| 2.1 MB 140.1 MB/s eta 0:00:01\n",
            "\u001b[?25hRequirement already satisfied: ipython>=6.1.0 in /usr/local/lib/python3.8/dist-packages (from ipywidgets==8.0.5->-r requirements.txt (line 3)) (7.29.0)\n",
            "Collecting dill>=0.3.1\n",
            "  Downloading dill-0.3.6-py3-none-any.whl (110 kB)\n",
            "\u001b[K     |████████████████████████████████| 110 kB 102.4 MB/s eta 0:00:01\n",
            "\u001b[?25hRequirement already satisfied: psutil in /usr/local/lib/python3.8/dist-packages (from pandarallel==1.6.4->-r requirements.txt (line 4)) (5.8.0)\n",
            "Requirement already satisfied: pytz>=2020.1 in /usr/local/lib/python3.8/dist-packages (from pandas==1.5.3->-r requirements.txt (line 5)) (2021.3)\n",
            "Requirement already satisfied: numpy>=1.20.3; python_version < \"3.10\" in /usr/local/lib/python3.8/dist-packages (from pandas==1.5.3->-r requirements.txt (line 5)) (1.21.4)\n",
            "Requirement already satisfied: python-dateutil>=2.8.1 in /usr/local/lib/python3.8/dist-packages (from pandas==1.5.3->-r requirements.txt (line 5)) (2.8.2)\n",
            "Collecting scipy>=1.3.2\n",
            "  Downloading scipy-1.10.1-cp38-cp38-manylinux_2_17_x86_64.manylinux2014_x86_64.whl (34.5 MB)\n",
            "\u001b[K     |████████████████████████████████| 34.5 MB 137.9 MB/s eta 0:00:01     |███████████████████████▌        | 25.4 MB 137.9 MB/s eta 0:00:01\n",
            "\u001b[?25hCollecting joblib>=1.1.1\n",
            "  Downloading joblib-1.2.0-py3-none-any.whl (297 kB)\n",
            "\u001b[K     |████████████████████████████████| 297 kB 140.9 MB/s eta 0:00:01\n",
            "\u001b[?25hCollecting threadpoolctl>=2.0.0\n",
            "  Downloading threadpoolctl-3.1.0-py3-none-any.whl (14 kB)\n",
            "Requirement already satisfied: tensorboard-data-server<0.7.0,>=0.6.0 in /usr/local/lib/python3.8/dist-packages (from tensorboard==2.11.0->-r requirements.txt (line 7)) (0.6.1)\n",
            "Requirement already satisfied: tensorboard-plugin-wit>=1.6.0 in /usr/local/lib/python3.8/dist-packages (from tensorboard==2.11.0->-r requirements.txt (line 7)) (1.8.0)\n",
            "Requirement already satisfied: grpcio>=1.24.3 in /usr/local/lib/python3.8/dist-packages (from tensorboard==2.11.0->-r requirements.txt (line 7)) (1.41.1)\n",
            "Requirement already satisfied: markdown>=2.6.8 in /usr/local/lib/python3.8/dist-packages (from tensorboard==2.11.0->-r requirements.txt (line 7)) (3.3.4)\n",
            "Requirement already satisfied: absl-py>=0.4 in /usr/local/lib/python3.8/dist-packages (from tensorboard==2.11.0->-r requirements.txt (line 7)) (0.15.0)\n",
            "Requirement already satisfied: wheel>=0.26 in /usr/lib/python3/dist-packages (from tensorboard==2.11.0->-r requirements.txt (line 7)) (0.34.2)\n",
            "Requirement already satisfied: google-auth<3,>=1.6.3 in /usr/local/lib/python3.8/dist-packages (from tensorboard==2.11.0->-r requirements.txt (line 7)) (2.3.3)\n",
            "Requirement already satisfied: google-auth-oauthlib<0.5,>=0.4.1 in /usr/local/lib/python3.8/dist-packages (from tensorboard==2.11.0->-r requirements.txt (line 7)) (0.4.6)\n",
            "Requirement already satisfied: setuptools>=41.0.0 in /usr/lib/python3/dist-packages (from tensorboard==2.11.0->-r requirements.txt (line 7)) (45.2.0)\n",
            "Requirement already satisfied: werkzeug>=1.0.1 in /usr/local/lib/python3.8/dist-packages (from tensorboard==2.11.0->-r requirements.txt (line 7)) (2.0.2)\n",
            "Requirement already satisfied: protobuf<4,>=3.9.2 in /usr/local/lib/python3.8/dist-packages (from tensorboard==2.11.0->-r requirements.txt (line 7)) (3.19.1)\n",
            "Requirement already satisfied: requests<3,>=2.21.0 in /usr/lib/python3/dist-packages (from tensorboard==2.11.0->-r requirements.txt (line 7)) (2.22.0)\n",
            "Requirement already satisfied: typing-extensions in /usr/local/lib/python3.8/dist-packages (from torch==1.13.1+cu116->-r requirements.txt (line 8)) (3.10.0.2)\n",
            "Collecting tokenizers==0.11.6\n",
            "  Downloading tokenizers-0.11.6-cp38-cp38-manylinux_2_12_x86_64.manylinux2010_x86_64.whl (6.5 MB)\n",
            "\u001b[K     |████████████████████████████████| 6.5 MB 366 kB/s eta 0:00:01019.8 MB/s eta 0:00:01                   | 1.3 MB 139.8 MB/s eta 0:00:010:00:01██▍          | 4.4 MB 366 kB/s eta 0:00:06████████████████████████▌     | 5.4 MB 366 kB/s eta 0:00:04s eta 0:00:01\n",
            "\u001b[?25hCollecting hanlp-common>=0.0.19\n",
            "  Downloading hanlp_common-0.0.19.tar.gz (28 kB)\n",
            "Collecting hanlp-downloader\n",
            "  Downloading hanlp_downloader-0.0.25.tar.gz (13 kB)\n",
            "Requirement already satisfied: termcolor in /usr/local/lib/python3.8/dist-packages (from hanlp->-r requirements.txt (line 11)) (1.1.0)\n",
            "Collecting pynvml\n",
            "  Downloading pynvml-11.5.0-py3-none-any.whl (53 kB)\n",
            "\u001b[K     |████████████████████████████████| 53 kB 2.4 MB/s  eta 0:00:01\n",
            "\u001b[?25hCollecting toposort==1.5\n",
            "  Downloading toposort-1.5-py2.py3-none-any.whl (7.6 kB)\n",
            "Collecting hanlp-trie>=0.0.4\n",
            "  Downloading hanlp_trie-0.0.5.tar.gz (6.7 kB)\n",
            "Collecting sentencepiece>=0.1.91\n",
            "  Downloading sentencepiece-0.1.98-cp38-cp38-manylinux_2_17_x86_64.manylinux2014_x86_64.whl (1.3 MB)\n",
            "\u001b[K     |████████████████████████████████| 1.3 MB 139.6 MB/s eta 0:00:01\n",
            "\u001b[?25hRequirement already satisfied: pyyaml>=5.1 in /usr/lib/python3/dist-packages (from transformers==4.27.1->-r requirements.txt (line 12)) (5.3.1)\n",
            "Collecting regex!=2019.12.17\n",
            "  Downloading regex-2023.3.23-cp38-cp38-manylinux_2_17_x86_64.manylinux2014_x86_64.whl (771 kB)\n",
            "\u001b[K     |████████████████████████████████| 771 kB 135.0 MB/s eta 0:00:01\n",
            "\u001b[?25hCollecting filelock\n",
            "  Downloading filelock-3.12.0-py3-none-any.whl (10 kB)\n",
            "Requirement already satisfied: packaging>=20.0 in /usr/local/lib/python3.8/dist-packages (from transformers==4.27.1->-r requirements.txt (line 12)) (21.2)\n",
            "Collecting huggingface-hub<1.0,>=0.11.0\n",
            "  Downloading huggingface_hub-0.14.1-py3-none-any.whl (224 kB)\n",
            "\u001b[K     |████████████████████████████████| 224 kB 126.0 MB/s eta 0:00:01\n",
            "\u001b[?25hCollecting beautifulsoup4\n",
            "  Downloading beautifulsoup4-4.12.2-py3-none-any.whl (142 kB)\n",
            "\u001b[K     |████████████████████████████████| 142 kB 121.6 MB/s eta 0:00:01\n",
            "\u001b[?25hRequirement already satisfied: matplotlib-inline in /usr/local/lib/python3.8/dist-packages (from ipython>=6.1.0->ipywidgets==8.0.5->-r requirements.txt (line 3)) (0.1.3)\n",
            "Requirement already satisfied: prompt-toolkit!=3.0.0,!=3.0.1,<3.1.0,>=2.0.0 in /usr/local/lib/python3.8/dist-packages (from ipython>=6.1.0->ipywidgets==8.0.5->-r requirements.txt (line 3)) (3.0.22)\n",
            "Requirement already satisfied: pexpect>4.3; sys_platform != \"win32\" in /usr/lib/python3/dist-packages (from ipython>=6.1.0->ipywidgets==8.0.5->-r requirements.txt (line 3)) (4.6.0)\n",
            "Requirement already satisfied: pickleshare in /usr/local/lib/python3.8/dist-packages (from ipython>=6.1.0->ipywidgets==8.0.5->-r requirements.txt (line 3)) (0.7.5)\n",
            "Requirement already satisfied: backcall in /usr/local/lib/python3.8/dist-packages (from ipython>=6.1.0->ipywidgets==8.0.5->-r requirements.txt (line 3)) (0.2.0)\n",
            "Requirement already satisfied: pygments in /usr/local/lib/python3.8/dist-packages (from ipython>=6.1.0->ipywidgets==8.0.5->-r requirements.txt (line 3)) (2.10.0)\n",
            "Requirement already satisfied: decorator in /usr/local/lib/python3.8/dist-packages (from ipython>=6.1.0->ipywidgets==8.0.5->-r requirements.txt (line 3)) (5.1.0)\n",
            "Requirement already satisfied: jedi>=0.16 in /usr/local/lib/python3.8/dist-packages (from ipython>=6.1.0->ipywidgets==8.0.5->-r requirements.txt (line 3)) (0.18.0)\n",
            "Requirement already satisfied: six>=1.5 in /usr/lib/python3/dist-packages (from python-dateutil>=2.8.1->pandas==1.5.3->-r requirements.txt (line 5)) (1.14.0)\n",
            "Requirement already satisfied: pyasn1-modules>=0.2.1 in /usr/lib/python3/dist-packages (from google-auth<3,>=1.6.3->tensorboard==2.11.0->-r requirements.txt (line 7)) (0.2.1)\n",
            "Requirement already satisfied: cachetools<5.0,>=2.0.0 in /usr/local/lib/python3.8/dist-packages (from google-auth<3,>=1.6.3->tensorboard==2.11.0->-r requirements.txt (line 7)) (4.2.4)\n",
            "Requirement already satisfied: rsa<5,>=3.1.4; python_version >= \"3.6\" in /usr/local/lib/python3.8/dist-packages (from google-auth<3,>=1.6.3->tensorboard==2.11.0->-r requirements.txt (line 7)) (4.7.2)\n",
            "Requirement already satisfied: requests-oauthlib>=0.7.0 in /usr/local/lib/python3.8/dist-packages (from google-auth-oauthlib<0.5,>=0.4.1->tensorboard==2.11.0->-r requirements.txt (line 7)) (1.3.0)\n",
            "Collecting phrasetree\n",
            "  Downloading phrasetree-0.0.8.tar.gz (42 kB)\n",
            "\u001b[K     |████████████████████████████████| 42 kB 783 kB/s  eta 0:00:01\n",
            "\u001b[?25hRequirement already satisfied: pyparsing<3,>=2.0.2 in /usr/local/lib/python3.8/dist-packages (from packaging>=20.0->transformers==4.27.1->-r requirements.txt (line 12)) (2.4.7)\n",
            "Requirement already satisfied: fsspec in /usr/local/lib/python3.8/dist-packages (from huggingface-hub<1.0,>=0.11.0->transformers==4.27.1->-r requirements.txt (line 12)) (2021.11.0)\n",
            "Collecting soupsieve>1.2\n",
            "  Downloading soupsieve-2.4.1-py3-none-any.whl (36 kB)\n",
            "Requirement already satisfied: wcwidth in /usr/local/lib/python3.8/dist-packages (from prompt-toolkit!=3.0.0,!=3.0.1,<3.1.0,>=2.0.0->ipython>=6.1.0->ipywidgets==8.0.5->-r requirements.txt (line 3)) (0.2.5)\n",
            "Requirement already satisfied: parso<0.9.0,>=0.8.0 in /usr/local/lib/python3.8/dist-packages (from jedi>=0.16->ipython>=6.1.0->ipywidgets==8.0.5->-r requirements.txt (line 3)) (0.8.2)\n",
            "Requirement already satisfied: pyasn1>=0.1.3 in /usr/lib/python3/dist-packages (from rsa<5,>=3.1.4; python_version >= \"3.6\"->google-auth<3,>=1.6.3->tensorboard==2.11.0->-r requirements.txt (line 7)) (0.4.2)\n",
            "Requirement already satisfied: oauthlib>=3.0.0 in /usr/lib/python3/dist-packages (from requests-oauthlib>=0.7.0->google-auth-oauthlib<0.5,>=0.4.1->tensorboard==2.11.0->-r requirements.txt (line 7)) (3.1.0)\n",
            "Building wheels for collected packages: pandarallel, wikipedia, hanlp-common, hanlp-downloader, hanlp-trie, phrasetree\n",
            "  Building wheel for pandarallel (setup.py) ... \u001b[?25ldone\n",
            "\u001b[?25h  Created wheel for pandarallel: filename=pandarallel-1.6.4-py3-none-any.whl size=16665 sha256=905481d13c33b6f2099380c87bf7ba8be751af1be164a42e839e86cd0f5df728\n",
            "  Stored in directory: /home/P78081057/.cache/pip/wheels/62/1e/e7/f9ee096e5cc02890a6934a5670ff6e45a3400f330605bd8210\n",
            "  Building wheel for wikipedia (setup.py) ... \u001b[?25ldone\n",
            "\u001b[?25h  Created wheel for wikipedia: filename=wikipedia-1.4.0-py3-none-any.whl size=11685 sha256=05da2f0ed9eb2dac8d267a57f9634ad892c9497e14239003df29d526d8d39849\n",
            "  Stored in directory: /home/P78081057/.cache/pip/wheels/07/93/05/72c05349177dca2e0ba31a33ba4f7907606f7ddef303517c6a\n",
            "  Building wheel for hanlp-common (setup.py) ... \u001b[?25ldone\n",
            "\u001b[?25h  Created wheel for hanlp-common: filename=hanlp_common-0.0.19-py3-none-any.whl size=30651 sha256=bba53c10862f43a7913dfb20331c88c9045f95325ca649508ed7a375b5a00a08\n",
            "  Stored in directory: /home/P78081057/.cache/pip/wheels/70/f9/79/baf576ddca268247ea9825fc48378c33f6f1756c755a6b7675\n",
            "  Building wheel for hanlp-downloader (setup.py) ... \u001b[?25ldone\n",
            "\u001b[?25h  Created wheel for hanlp-downloader: filename=hanlp_downloader-0.0.25-py3-none-any.whl size=13773 sha256=1f24be3e8169e4aa500a5234bbc39e33d1e758a3866be6ad20669c067db407d0\n",
            "  Stored in directory: /home/P78081057/.cache/pip/wheels/0a/c6/56/e77871f72c2a429b1526b79c07d6101f6003e14744202994d6\n",
            "  Building wheel for hanlp-trie (setup.py) ... \u001b[?25ldone\n",
            "\u001b[?25h  Created wheel for hanlp-trie: filename=hanlp_trie-0.0.5-py3-none-any.whl size=6832 sha256=0948d65b58790111cc806ddc20a238e089343a5acf00efdb4d213c7e3dfb2f35\n",
            "  Stored in directory: /home/P78081057/.cache/pip/wheels/fe/16/e7/5a159248ca2ffe2ddaa644f652d6e2f6b9981c487236172e1f\n",
            "  Building wheel for phrasetree (setup.py) ... \u001b[?25ldone\n",
            "\u001b[?25h  Created wheel for phrasetree: filename=phrasetree-0.0.8-py3-none-any.whl size=44235 sha256=46ab8dcbe3eb53c83bd3bbe570ae3522fb1f2cf2ae56b39e5cf6eaaa93cb4164\n",
            "  Stored in directory: /home/P78081057/.cache/pip/wheels/ca/08/a3/627595d0b24e2810a1b3e1db3868fe2731b276c055aa9a8404\n",
            "Successfully built pandarallel wikipedia hanlp-common hanlp-downloader hanlp-trie phrasetree\n",
            "\u001b[31mERROR: torchvision 0.11.1+cu113 has requirement torch==1.10.0, but you'll have torch 1.13.1+cu116 which is incompatible.\u001b[0m\n",
            "\u001b[31mERROR: torchaudio 0.10.0+cu113 has requirement torch==1.10.0, but you'll have torch 1.13.1+cu116 which is incompatible.\u001b[0m\n",
            "Installing collected packages: jupyterlab-widgets, widgetsnbextension, ipywidgets, dill, pandas, pandarallel, scipy, joblib, threadpoolctl, scikit-learn, tensorboard, torch, tqdm, opencc, tokenizers, phrasetree, hanlp-common, hanlp-downloader, regex, filelock, huggingface-hub, transformers, pynvml, toposort, hanlp-trie, sentencepiece, hanlp, soupsieve, beautifulsoup4, wikipedia, tcsp\n",
            "Successfully installed beautifulsoup4-4.12.2 dill-0.3.6 filelock-3.12.0 hanlp-2.1.0b49 hanlp-common-0.0.19 hanlp-downloader-0.0.25 hanlp-trie-0.0.5 huggingface-hub-0.14.1 ipywidgets-8.0.5 joblib-1.2.0 jupyterlab-widgets-3.0.7 opencc-1.1.6 pandarallel-1.6.4 pandas-1.5.3 phrasetree-0.0.8 pynvml-11.5.0 regex-2023.3.23 scikit-learn-1.2.2 scipy-1.10.1 sentencepiece-0.1.98 soupsieve-2.4.1 tcsp-0.0.9 tensorboard-2.11.0 threadpoolctl-3.1.0 tokenizers-0.11.6 toposort-1.5 torch-1.13.1+cu116 tqdm-4.65.0 transformers-4.27.1 widgetsnbextension-4.0.7 wikipedia-1.4.0\n",
            "Note: you may need to restart the kernel to use updated packages.\n"
          ]
        }
      ],
      "source": [
        "%pip install -r requirements.txt"
      ]
    },
    {
      "attachments": {},
      "cell_type": "markdown",
      "metadata": {
        "id": "h7MSEcenjVrL"
      },
      "source": [
        "## PART 1. Document retrieval"
      ]
    },
    {
      "attachments": {},
      "cell_type": "markdown",
      "metadata": {},
      "source": [
        "Prepare the environment and import all library we need"
      ]
    },
    {
      "cell_type": "code",
      "execution_count": 3,
      "metadata": {
        "id": "niqu9pLajYC_"
      },
      "outputs": [],
      "source": [
        "import json\n",
        "import pickle\n",
        "from dataclasses import dataclass\n",
        "from pathlib import Path\n",
        "from typing import Dict, List, Set, Tuple, Union\n",
        "from functools import partial\n",
        "\n",
        "# 3rd party libs\n",
        "import hanlp\n",
        "import opencc\n",
        "import pandas as pd\n",
        "from hanlp.components.pipeline import Pipeline\n",
        "from pandarallel import pandarallel\n",
        "\n",
        "# our own libs\n",
        "from utils import load_json\n",
        "from hw3_utils import jsonl_dir_to_df\n",
        "\n",
        "pandarallel.initialize(progress_bar=True, verbose=0, nb_workers=10)"
      ]
    },
    {
      "cell_type": "code",
      "execution_count": 4,
      "metadata": {},
      "outputs": [],
      "source": [
        "from TCSP import read_stopwords_list\n",
        "\n",
        "stopwords = read_stopwords_list()"
      ]
    },
    {
      "attachments": {},
      "cell_type": "markdown",
      "metadata": {},
      "source": [
        "Preload the data."
      ]
    },
    {
      "cell_type": "code",
      "execution_count": 5,
      "metadata": {},
      "outputs": [],
      "source": [
        "TRAIN_DATA = load_json(\"data/public_train.jsonl\")\n",
        "TEST_DATA = load_json(\"data/public_test.jsonl\")\n",
        "CONVERTER_T2S = opencc.OpenCC(\"t2s.json\")\n",
        "CONVERTER_S2T = opencc.OpenCC(\"s2t.json\")"
      ]
    },
    {
      "attachments": {},
      "cell_type": "markdown",
      "metadata": {},
      "source": [
        "Data class for type hinting"
      ]
    },
    {
      "cell_type": "code",
      "execution_count": 6,
      "metadata": {},
      "outputs": [],
      "source": [
        "@dataclass\n",
        "class Claim:\n",
        "    data: str\n",
        "\n",
        "@dataclass\n",
        "class AnnotationID:\n",
        "    id: int\n",
        "\n",
        "@dataclass\n",
        "class EvidenceID:\n",
        "    id: int\n",
        "\n",
        "@dataclass\n",
        "class PageTitle:\n",
        "    title: str\n",
        "\n",
        "@dataclass\n",
        "class SentenceID:\n",
        "    id: int\n",
        "\n",
        "@dataclass\n",
        "class Evidence:\n",
        "    data: List[List[Tuple[AnnotationID, EvidenceID, PageTitle, SentenceID]]]"
      ]
    },
    {
      "attachments": {},
      "cell_type": "markdown",
      "metadata": {},
      "source": [
        "### Helper function"
      ]
    },
    {
      "attachments": {},
      "cell_type": "markdown",
      "metadata": {},
      "source": [
        "For the sake of consistency, we convert traditional to simplified Chinese first before converting it back to traditional Chinese.  This is due to some errors occuring when converting traditional to traditional Chinese."
      ]
    },
    {
      "cell_type": "code",
      "execution_count": 7,
      "metadata": {
        "id": "A3NU01DnjKp-"
      },
      "outputs": [],
      "source": [
        "def do_st_corrections(text: str) -> str:\n",
        "    simplified = CONVERTER_T2S.convert(text)\n",
        "\n",
        "    return CONVERTER_S2T.convert(simplified)"
      ]
    },
    {
      "attachments": {},
      "cell_type": "markdown",
      "metadata": {},
      "source": [
        "We use constituency parsing to separate part of speeches or so called constituent to extract noun phrases.  In the later stages, we will use the noun phrases as the query to search for relevant documents.  "
      ]
    },
    {
      "cell_type": "code",
      "execution_count": 8,
      "metadata": {},
      "outputs": [],
      "source": [
        "def get_nps_hanlp(\n",
        "    predictor: Pipeline,\n",
        "    d: Dict[str, Union[int, Claim, Evidence]],\n",
        ") -> List[str]:\n",
        "    claim = d[\"claim\"]\n",
        "    tree = predictor(claim)[\"con\"]\n",
        "    nps = [\n",
        "        do_st_corrections(\"\".join(subtree.leaves()))\n",
        "        for subtree in tree.subtrees(lambda t: t.label() == \"NP\")\n",
        "    ]\n",
        "\n",
        "    return nps"
      ]
    },
    {
      "attachments": {},
      "cell_type": "markdown",
      "metadata": {},
      "source": [
        "Precision refers to how many related documents are retrieved.  Recall refers to how many relevant documents are retrieved.  "
      ]
    },
    {
      "cell_type": "code",
      "execution_count": 9,
      "metadata": {},
      "outputs": [],
      "source": [
        "def calculate_precision(\n",
        "    data: List[Dict[str, Union[int, Claim, Evidence]]],\n",
        "    predictions: pd.Series,\n",
        ") -> float:\n",
        "    precision = 0\n",
        "    count = 0\n",
        "\n",
        "    for i, d in enumerate(data):\n",
        "        if d[\"label\"] == \"NOT ENOUGH INFO\":\n",
        "            continue\n",
        "\n",
        "        # Extract all ground truth of titles of the wikipedia pages\n",
        "        # evidence[2] refers to the title of the wikipedia page\n",
        "        gt_pages = set([\n",
        "            evidence[2]\n",
        "            for evidence_set in d[\"evidence\"]\n",
        "            for evidence in evidence_set\n",
        "        ])\n",
        "\n",
        "        predicted_pages = predictions.iloc[i]\n",
        "        hits = predicted_pages.intersection(gt_pages)\n",
        "        if len(predicted_pages) != 0:\n",
        "            precision += len(hits) / len(predicted_pages)\n",
        "\n",
        "        count += 1\n",
        "\n",
        "    # Macro precision\n",
        "    print(f\"Precision: {precision / count}\")\n",
        "    return precision / count\n",
        "\n",
        "\n",
        "def calculate_recall(\n",
        "    data: List[Dict[str, Union[int, Claim, Evidence]]],\n",
        "    predictions: pd.Series,\n",
        ") -> float:\n",
        "    recall = 0\n",
        "    count = 0\n",
        "\n",
        "    for i, d in enumerate(data):\n",
        "        if d[\"label\"] == \"NOT ENOUGH INFO\":\n",
        "            continue\n",
        "\n",
        "        gt_pages = set([\n",
        "            evidence[2]\n",
        "            for evidence_set in d[\"evidence\"]\n",
        "            for evidence in evidence_set\n",
        "        ])\n",
        "        predicted_pages = predictions.iloc[i]\n",
        "        hits = predicted_pages.intersection(gt_pages)\n",
        "        recall += len(hits) / len(gt_pages)\n",
        "        count += 1\n",
        "\n",
        "    print(f\"Recall: {recall / count}\")\n",
        "    return recall / count"
      ]
    },
    {
      "cell_type": "code",
      "execution_count": 10,
      "metadata": {},
      "outputs": [],
      "source": [
        "def calculate_f1(precision: float, recall: float) -> float:\n",
        "    return 2*(precision*recall)/(precision+recall)"
      ]
    },
    {
      "attachments": {},
      "cell_type": "markdown",
      "metadata": {},
      "source": [
        "The default amount of documents retrieved is at most five documents.  This `num_pred_doc` can be adjusted based on your objective.  Save data in jsonl format."
      ]
    },
    {
      "cell_type": "code",
      "execution_count": 11,
      "metadata": {},
      "outputs": [],
      "source": [
        "def save_doc(\n",
        "    data: List[Dict[str, Union[int, Claim, Evidence]]],\n",
        "    predictions: pd.Series,\n",
        "    mode: str = \"train\",\n",
        "    suffix: str = \"\",\n",
        "    num_pred_doc: int = 5,\n",
        "    col_name = \"predicted_pages\"\n",
        ") -> None:\n",
        "    with open(\n",
        "        f\"data/{mode}_doc{num_pred_doc}{suffix}.jsonl\",\n",
        "        \"w\",\n",
        "        encoding=\"utf8\",\n",
        "    ) as f:\n",
        "        for i, d in enumerate(data):\n",
        "            d[col_name] = list(predictions.iloc[i])\n",
        "            f.write(json.dumps(d, ensure_ascii=False) + \"\\n\")"
      ]
    },
    {
      "attachments": {},
      "cell_type": "markdown",
      "metadata": {},
      "source": [
        "### Tfidf Init"
      ]
    },
    {
      "cell_type": "code",
      "execution_count": 12,
      "metadata": {},
      "outputs": [],
      "source": [
        "def tokenize(text: str, stopwords: list) -> str:\n",
        "    import jieba\n",
        "    tokens = jieba.cut(text)\n",
        "\n",
        "    return \" \".join([w for w in tokens if w not in stopwords])"
      ]
    },
    {
      "cell_type": "code",
      "execution_count": 13,
      "metadata": {},
      "outputs": [],
      "source": [
        "wiki_path = \"data/wiki-pages\"\n",
        "min_wiki_length = 25\n",
        "topk = 5\n",
        "min_df = 1\n",
        "max_df = 0.5\n",
        "use_idf = True\n",
        "sublinear_tf = True"
      ]
    },
    {
      "cell_type": "code",
      "execution_count": 14,
      "metadata": {},
      "outputs": [],
      "source": [
        "wiki_cache = \"wiki\"\n",
        "target_column = \"text\"\n",
        "\n",
        "wiki_cache_path = Path(f\"data/{wiki_cache}.pkl\")\n",
        "if wiki_cache_path.exists():\n",
        "    wiki_pages = pd.read_pickle(wiki_cache_path)\n",
        "else:\n",
        "    def text_split(line: str) -> list:\n",
        "        import re\n",
        "        line = re.sub(r\"[0-9]+\\t\", \"\", line)\n",
        "        lines = line.split(\"\\n\")\n",
        "        lines = list(filter(None, lines))\n",
        "        return lines\n",
        "    # You need to download `wiki-pages.zip` from the AICUP website\n",
        "    wiki_pages = jsonl_dir_to_df(wiki_path)\n",
        "    # wiki_pages are combined into one dataframe, so we need to reset the index\n",
        "    wiki_pages = wiki_pages.reset_index(drop=True)\n",
        "\n",
        "    # tokenize the text and keep the result in a new column `processed_text`\n",
        "    wiki_pages[\"lines\"] = wiki_pages[\"lines\"].parallel_apply(text_split)\n",
        "    wiki_pages[\"processed_text\"] = wiki_pages[target_column].parallel_apply(\n",
        "        partial(tokenize, stopwords=stopwords)\n",
        "    )\n",
        "    # save the result to a pickle file\n",
        "    wiki_pages.to_pickle(wiki_cache_path, protocol=4)"
      ]
    },
    {
      "cell_type": "code",
      "execution_count": 13,
      "metadata": {},
      "outputs": [],
      "source": [
        "wiki_pages = wiki_pages[\n",
        "    wiki_pages['processed_text'].str.len() > min_wiki_length\n",
        "]\n",
        "corpus = wiki_pages[\"processed_text\"].tolist()"
      ]
    },
    {
      "cell_type": "code",
      "execution_count": 12,
      "metadata": {},
      "outputs": [],
      "source": [
        "from sklearn.feature_extraction.text import TfidfVectorizer\n",
        "import numpy as np\n",
        "\n",
        "# vectorizer = TfidfVectorizer(\n",
        "#     min_df=min_df,\n",
        "#     max_df=max_df,\n",
        "#     use_idf=use_idf,\n",
        "#     sublinear_tf=sublinear_tf,\n",
        "#     dtype=np.float64,\n",
        "# )"
      ]
    },
    {
      "cell_type": "code",
      "execution_count": 13,
      "metadata": {},
      "outputs": [],
      "source": [
        "import gensim.models\n",
        "w2vmodel = gensim.models.Word2Vec.load(\"models/w2v.zh.300/word2vec.model\")\n",
        "w2v = dict(zip(w2vmodel.wv.index_to_key, w2vmodel.wv.vectors))"
      ]
    },
    {
      "cell_type": "code",
      "execution_count": 43,
      "metadata": {},
      "outputs": [],
      "source": [
        "from collections import defaultdict\n",
        "class TfidfEmbeddingVectorizer(object):\n",
        "    def __init__(self, word2vec, size=300):\n",
        "        self.word2vec = word2vec\n",
        "        self.word2weight = None\n",
        "        self.dim = size\n",
        "    \n",
        "    def fit(self, X):\n",
        "        tfidf = TfidfVectorizer(\n",
        "            min_df=min_df,\n",
        "            max_df=max_df,\n",
        "            use_idf=use_idf,\n",
        "            sublinear_tf=sublinear_tf,\n",
        "            dtype=np.float64,\n",
        "            analyzer=lambda x: x\n",
        "        )\n",
        "        tfidf.fit(X)\n",
        "        # if a word was never seen - it must be at least as infrequent\n",
        "        # as any of the known words - so the default idf is the max of \n",
        "        # known idf's\n",
        "        max_idf = max(tfidf.idf_)\n",
        "        self.word2weight = defaultdict(\n",
        "            lambda: max_idf,\n",
        "            [(w, tfidf.idf_[i]) for w, i in tfidf.vocabulary_.items()])\n",
        "\n",
        "        return self\n",
        "\n",
        "    def transform(self, X):\n",
        "        return np.array([\n",
        "                np.mean([self.word2vec[w] * self.word2weight[w]\n",
        "                         for w in words if w in self.word2vec] or\n",
        "                        [np.zeros(self.dim)], axis=0)\n",
        "                for words in X\n",
        "            ])"
      ]
    },
    {
      "cell_type": "code",
      "execution_count": 44,
      "metadata": {},
      "outputs": [],
      "source": [
        "vectorizer = TfidfEmbeddingVectorizer(w2v)"
      ]
    },
    {
      "cell_type": "code",
      "execution_count": 45,
      "metadata": {},
      "outputs": [],
      "source": [
        "X = vectorizer.fit(corpus).transform(corpus)"
      ]
    },
    {
      "attachments": {},
      "cell_type": "markdown",
      "metadata": {},
      "source": [
        "### Sentence BERT"
      ]
    },
    {
      "cell_type": "code",
      "execution_count": 28,
      "metadata": {},
      "outputs": [
        {
          "name": "stdout",
          "output_type": "stream",
          "text": [
            "2\n"
          ]
        },
        {
          "name": "stderr",
          "output_type": "stream",
          "text": [
            "No sentence-transformers model found with name /home/P78081057/.cache/torch/sentence_transformers/uer_sbert-base-chinese-nli. Creating a new one with MEAN pooling.\n"
          ]
        }
      ],
      "source": [
        "import torch\n",
        "from sentence_transformers import SentenceTransformer, util\n",
        "# import os\n",
        "# os.environ[\"TOKENIZERS_PARALLELISM\"] = \"true\"\n",
        "\n",
        "print(torch.cuda.device_count())\n",
        "sbert_model = SentenceTransformer('uer/sbert-base-chinese-nli', device='cpu')"
      ]
    },
    {
      "attachments": {},
      "cell_type": "markdown",
      "metadata": {},
      "source": [
        "### Main function for document retrieval"
      ]
    },
    {
      "cell_type": "code",
      "execution_count": 16,
      "metadata": {},
      "outputs": [],
      "source": [
        "def get_pred_pages(\n",
        "        series_data: pd.Series, \n",
        "        ) -> Set[Dict[int, str]]:\n",
        "    import wikipedia\n",
        "    import re\n",
        "    import opencc\n",
        "    import pandas as pd\n",
        "\n",
        "    from TCSP import read_stopwords_list\n",
        "    stopwords = read_stopwords_list()\n",
        "\n",
        "    import numpy as np\n",
        "    from sklearn.feature_extraction.text import TfidfVectorizer\n",
        "    from sklearn.metrics.pairwise import cosine_similarity\n",
        "\n",
        "    wikipedia.set_lang(\"zh\")\n",
        "    CONVERTER_T2S = opencc.OpenCC(\"t2s.json\")\n",
        "    CONVERTER_S2T = opencc.OpenCC(\"s2t.json\")\n",
        "    \n",
        "    def do_st_corrections(text: str) -> str:\n",
        "        simplified = CONVERTER_T2S.convert(text)\n",
        "        return CONVERTER_S2T.convert(simplified)\n",
        "\n",
        "    results = []\n",
        "    tmp_muji = []\n",
        "    # wiki_page: its index showned in claim\n",
        "    mapping = {}\n",
        "    claim = series_data[\"claim\"]\n",
        "    nps = series_data[\"hanlp_results\"]\n",
        "    first_wiki_term = []\n",
        "    repeated_mention = []\n",
        "    quote_search = []\n",
        "\n",
        "    def clean_claim(claim) -> str:     # Clean claim function because hanlp has error when conducting cons\n",
        "        def multiple_replacer(*kv):\n",
        "            replace_dict = dict(kv)\n",
        "            replace_func = lambda match: replace_dict[match.group(0)]\n",
        "            pattern = re.compile(\"|\".join([re.escape(k) for k, v in kv]), re.M)\n",
        "            return lambda string: pattern.sub(replace_func, string) \n",
        "        def multiple_replace(string, *kv):\n",
        "            return multiple_replacer(*replace_dict)(claim)\n",
        "\n",
        "        replace_dict = (\" \", \"\"), (\"牠\", \"它\"), (\"（\", \"(\"), (\"）\", \")\"), (\"，\", \",\"), (\"、\", \",\"), (\"群\", \"羣\"), (\"“\", \"\\\"\"), (\"”\", \"\\\"\"), (\"「\", \"“\"), (\"」\", \"”\")\n",
        "        claim = multiple_replace(claim, *replace_dict)\n",
        "        claim = claim.lower()\n",
        "        return claim\n",
        "\n",
        "    claim = clean_claim(claim)\n",
        "\n",
        "    def post_processing(np, page, loc):\n",
        "        page = do_st_corrections(page)\n",
        "        page = page.replace(\" \", \"_\")\n",
        "        page = page.replace(\"-\", \"\")\n",
        "        search_pos = claim.find(np)\n",
        "        if search_pos != -1:\n",
        "            if page in results:\n",
        "                repeated_mention.append(page)\n",
        "                # results.insert(0, results.pop(results.index(page)))     # Fresh page to front if it was mention before\n",
        "            else:\n",
        "                results.append(page)\n",
        "            if loc == 0:\n",
        "                pass\n",
        "                # print(f\"Add: {page}, at page direct search, np={np}\")\n",
        "            elif loc == 1:\n",
        "                pass\n",
        "                # print(f\"Add: {page}, at match, new term={np}\")\n",
        "            mapping[page] = search_pos\n",
        "            tmp_muji.append(np)\n",
        "\n",
        "    def if_page_exists(page: str) -> bool:\n",
        "        import requests\n",
        "        url_base = \"https://zh.wikipedia.org/wiki/\"\n",
        "        new_url = [url_base + page, url_base + page.upper()]\n",
        "        for url in new_url:\n",
        "            r = requests.head(url)\n",
        "            if r.status_code == 200:\n",
        "                return True\n",
        "            else:\n",
        "                continue\n",
        "        return False\n",
        "    \n",
        "    def clean_time_format(np: str):\n",
        "        if (matched := re.search(r\"\\d+年\", np)) != None:\n",
        "            return True\n",
        "        if (matched := re.search(r\"\\d+月\\d+日\", np)) != None:\n",
        "            return True\n",
        "        if (matched := re.search(r\"\\d+小時\", np)) != None:\n",
        "            return True\n",
        "        if (matched := re.search(r\"\\d+天\", np)) != None:\n",
        "            return True\n",
        "        if (matched := re.search(r\"\\d+世紀\", np)) != None:\n",
        "            return True\n",
        "        if (matched := re.search(r\"\\d+年代\", np)) != None:\n",
        "            return True\n",
        "        return False\n",
        "    \n",
        "    def tokenize(text: str, stopwords: list) -> str:\n",
        "        import jieba\n",
        "        \"\"\"This function performs Chinese word segmentation and removes stopwords.\n",
        "\n",
        "        Args:\n",
        "            text (str): claim or wikipedia article\n",
        "            stopwords (list): common words that contribute little to the meaning of a sentence\n",
        "\n",
        "        Returns:\n",
        "            str: word segments separated by space (e.g. \"我 喜歡 吃 蘋果\")\n",
        "        \"\"\"\n",
        "\n",
        "        tokens = jieba.cut(text)\n",
        "\n",
        "        return \" \".join([w for w in tokens if w not in stopwords])\n",
        "\n",
        "    for i, np in enumerate(nps):\n",
        "        # print(f\"searching {np}\")\n",
        "        quote_dup = False\n",
        "        if np in stopwords:         # 如果包含停用詞\n",
        "            continue\n",
        "        if clean_time_format(np):   # 如果包含時間\n",
        "            continue\n",
        "        \n",
        "        # Ignore parsing among quotation mark, for example, if《仲夏夜之夢》exists, ignore「仲夏夜」and「夢」\n",
        "        for search in quote_search:\n",
        "            if search.find(np) != -1:\n",
        "                quote_dup = True\n",
        "        if quote_dup == True:\n",
        "            continue\n",
        "\n",
        "        # Delete Bookname Mark, Quote Mark\n",
        "        np_no_quote = re.sub(r\"《|》|〈|〉|【|】|「|」|『|』|（|）\", \"\", np)\n",
        "        if np != np_no_quote:\n",
        "            quote_search.append(np_no_quote)\n",
        "            np = np_no_quote\n",
        "\n",
        "        # Simplified Traditional Chinese Correction\n",
        "        wiki_search_results = [\n",
        "            do_st_corrections(w) for w in wikipedia.search(np)\n",
        "        ]\n",
        "\n",
        "        # Directly Search by Redirection\n",
        "            # Check if a page exists\n",
        "        if (if_page_exists(np)):\n",
        "            try:\n",
        "                page = do_st_corrections(wikipedia.page(title=np).title)\n",
        "                if page == np:\n",
        "                    # print(f\"Found, np={np}, page={page}\")\n",
        "                    post_processing(np=np, page=page, loc=0)\n",
        "                else:\n",
        "                    # print(f\"Redirect, np={np}, page={page}\")\n",
        "                    post_processing(np=np, page=page, loc=0)\n",
        "            except wikipedia.DisambiguationError as diserr:\n",
        "                page = do_st_corrections(wikipedia.search(np)[0])\n",
        "                if page == np:\n",
        "                    # print(f\"Disambig, np={np}, page={page}\")\n",
        "                    post_processing(np=np, page=page, loc=0)\n",
        "            except wikipedia.PageError as pageerr:\n",
        "                pass\n",
        "\n",
        "        # Remove the wiki page's description in brackets\n",
        "        wiki_set = [re.sub(r\"\\s\\(\\S+\\)\", \"\", w) for w in wiki_search_results]\n",
        "        wiki_df = pd.DataFrame({\n",
        "            \"wiki_set\": wiki_set,\n",
        "            \"wiki_results\": wiki_search_results\n",
        "        })\n",
        "\n",
        "        # Elements in wiki_set --> index\n",
        "        # Extracting only the first element is one way to avoid extracting\n",
        "        # too many of the similar wiki pages\n",
        "        grouped_df = wiki_df.groupby(\"wiki_set\", sort=False).first()\n",
        "        candidates = grouped_df[\"wiki_results\"].tolist()\n",
        "        # muji refers to wiki_set\n",
        "        muji = grouped_df.index.tolist()\n",
        "\n",
        "        for prefix, term in zip(muji, candidates):\n",
        "            if prefix not in tmp_muji:  #忽略掉括號，如果括號有重複的話。假設如果有\" 1 (數字)\", 則\"1 (符號)\" 會被忽略\n",
        "                matched = False\n",
        "\n",
        "                # Take at least one term from the first noun phrase\n",
        "                if i == 0:\n",
        "                    first_wiki_term.append(term)\n",
        "\n",
        "                # try:\n",
        "                #     print(term)\n",
        "                #     term_idx = wiki_pages.index[wiki_pages['id'] == do_st_corrections(term.replace(\" \", \"_\").replace(\"-\", \"\"))].tolist()[0]\n",
        "                #     processed_tokens = wiki_pages['processed_text'][term_idx]\n",
        "                #     processed_text_vector = vectorizer.transform([processed_tokens])\n",
        "                #     sim_score = cosine_similarity(processed_text_vector, claim_vector)[0][0]\n",
        "                #     if sim_score > 0.25: # 0.25 is hyperparam\n",
        "                #         score_mapping[term] = sim_score\n",
        "                #         print(sim_score, term)\n",
        "                # except IndexError:\n",
        "                #     pass\n",
        "                # except wikipedia.DisambiguationError:\n",
        "                #     pass\n",
        "                # except wikipedia.PageError:\n",
        "                #     pass\n",
        "\n",
        "                # Walrus operator :=\n",
        "                # https://docs.python.org/3/whatsnew/3.8.html#assignment-expressions\n",
        "                # Through these filters, we are trying to figure out if the term\n",
        "                # is within the claim\n",
        "                if (((new_term := term) in claim) or\n",
        "                    ((new_term := term) in claim.replace(\" \", \"\")) or\n",
        "                    ((new_term := term.replace(\"·\", \"\")) in claim) or                                   # 過濾人名\n",
        "                    ((new_term := re.sub(r\"\\s\\(\\S+\\)\", \"\", term)) in claim) or                          # 過濾空格 / 消歧義\n",
        "                    ((new_term := term.replace(\"(\", \"\").replace(\")\", \"\").split()[0]) in claim and       # 消歧義與括號內皆有在裡面\n",
        "                     (new_term := term.replace(\"(\", \"\").replace(\")\", \"\").split()[1]) in claim) or\n",
        "                    ((new_term := term.replace(\"-\", \" \")) in claim) or                                  # 過濾槓號\n",
        "                    ((new_term := term.lower()) in claim) or                                            # 過濾大小寫\n",
        "                    ((new_term := term.lower().replace(\"-\", \"\")) in claim) or                           # 過濾大小寫及槓號\n",
        "                    ((new_term := re.sub(r\"\\s\\(\\S+\\)\", \"\", term.lower().replace(\"-\", \"\"))) in claim)    # 過濾大小寫、槓號及消歧義\n",
        "                    ):\n",
        "                    matched = True\n",
        "                    # print(new_term, term)\n",
        "\n",
        "                # 人名匹配\n",
        "                elif \"·\" in term:\n",
        "                    splitted = term.split(\"·\")\n",
        "                    if \"·\" not in claim:        # 要求claim顯示的不為全名，不然都需要全名\n",
        "                        for split in splitted:\n",
        "                            if (new_term := split) in claim:\n",
        "                                matched = True\n",
        "                                break\n",
        "\n",
        "                if matched:\n",
        "                    post_processing(np=new_term, page=term, loc=1)\n",
        "\n",
        "    # score_results = sorted(score_mapping, key=score_mapping.get)[:-5]\n",
        "\n",
        "    # 8 is a hyperparameter\n",
        "    if len(results) > 8:\n",
        "        assert -1 not in mapping.values()\n",
        "        # print(\"長度大於8\", results)\n",
        "\n",
        "        results = repeated_mention + sorted(mapping, key=mapping.get)[:8]\n",
        "        results = list(set(results))            # remove duplicates\n",
        "        # print(\"排序後\", results)\n",
        "    if len(results) < 1:\n",
        "        results = first_wiki_term\n",
        "        # print(\"第一搜尋結果\", results)\n",
        "    \n",
        "    print(results)\n",
        "    return set(results)"
      ]
    },
    {
      "cell_type": "code",
      "execution_count": 69,
      "metadata": {},
      "outputs": [
        {
          "name": "stdout",
          "output_type": "stream",
          "text": [
            "['東區 (新竹市)', '東區 (臺中市)', '東區 (嘉義市)', '東區 (臺南市)', '東區 (臺北地名)', '東區 (彰化市)', '东区 (攀枝花市)', '东区街道 (中山市)', '东区街道', '萬山群島', '东区 (釜山广域市)', '东区 (大邱广域市)', '東區 (仁川廣域市)', '东区 (光州广域市)', '东区 (大田广域市)', '東區 (蔚山廣域市)', '東區 (札幌市)', '東區 (新潟市)', '東區 (濱松市)', '東區 (名古屋市)', '東區 (堺市)', '東區 (岡山市)', '東區 (廣島市)', '東區 (福岡市)', '東區 (熊本市)', '東區 (香港)', '東區 (新加坡)', '东区 (美属萨摩亚)']\n"
          ]
        },
        {
          "name": "stderr",
          "output_type": "stream",
          "text": [
            "/home/P78081057/.local/lib/python3.8/site-packages/wikipedia/wikipedia.py:389: GuessedAtParserWarning: No parser was explicitly specified, so I'm using the best available HTML parser for this system (\"html.parser\"). This usually isn't a problem, but if you run this code on another system, or in a different virtual environment, it may use a different parser and behave differently.\n",
            "\n",
            "The code that caused this warning is on line 389 of the file /home/P78081057/.local/lib/python3.8/site-packages/wikipedia/wikipedia.py. To get rid of this warning, pass the additional argument 'features=\"html.parser\"' to the BeautifulSoup constructor.\n",
            "\n",
            "  lis = BeautifulSoup(html).find_all('li')\n"
          ]
        }
      ],
      "source": [
        "import wikipedia\n",
        "wikipedia.set_lang(\"zh\")\n",
        "try:\n",
        "    do_st_corrections(wikipedia.page(title=\"東區\").title)\n",
        "except wikipedia.DisambiguationError as diserr:\n",
        "    print(diserr.options)"
      ]
    },
    {
      "cell_type": "code",
      "execution_count": 17,
      "metadata": {},
      "outputs": [],
      "source": [
        "def get_pred_pages_search(\n",
        "        series_data: pd.Series, \n",
        "        ):\n",
        "    import wikipedia\n",
        "    import re\n",
        "    import opencc\n",
        "    import pandas as pd\n",
        "\n",
        "    import numpy as np\n",
        "\n",
        "    wikipedia.set_lang(\"zh\")\n",
        "    CONVERTER_T2S = opencc.OpenCC(\"t2s.json\")\n",
        "    CONVERTER_S2T = opencc.OpenCC(\"s2t.json\")\n",
        "    \n",
        "    def do_st_corrections(text: str) -> str:\n",
        "        simplified = CONVERTER_T2S.convert(text)\n",
        "        return CONVERTER_S2T.convert(simplified)\n",
        "    \n",
        "    def if_page_exists(page: str) -> bool:\n",
        "        import requests\n",
        "        url_base = \"https://zh.wikipedia.org/wiki/\"\n",
        "        new_url = [url_base + page, url_base + page.upper()]\n",
        "        for url in new_url:\n",
        "            r = requests.head(url)\n",
        "            if r.status_code == 200:\n",
        "                return True\n",
        "            else:\n",
        "                continue\n",
        "        return False\n",
        "\n",
        "    claim = series_data[\"claim\"]\n",
        "    results = []\n",
        "    direct_results = []\n",
        "    nps = series_data[\"hanlp_results\"]\n",
        "\n",
        "    def post_processing(page):\n",
        "        page = do_st_corrections(page)\n",
        "        page = page.replace(\" \", \"_\")\n",
        "        page = page.replace(\"-\", \"\")\n",
        "\n",
        "    for i, np in enumerate(nps):\n",
        "        # print(f\"searching {np}\")\n",
        "\n",
        "        if (if_page_exists(np)):\n",
        "            try:\n",
        "                page = do_st_corrections(wikipedia.page(title=np).title)\n",
        "                if page == np:\n",
        "                    # print(f\"Found, np={np}, page={page}, claim={claim}\")\n",
        "                    post_processing(page)\n",
        "                    direct_results.append(page)\n",
        "                else:\n",
        "                    # print(f\"Redirect, np={np}, page={page}, claim={claim}\")\n",
        "                    post_processing(page)\n",
        "                    direct_results.append(page)\n",
        "            except wikipedia.DisambiguationError as diserr:\n",
        "                for option in diserr.options:\n",
        "                    option = do_st_corrections(option)\n",
        "                    if new_option := re.sub(r\"\\s\\(\\S+\\)\", \"\", option) in claim:\n",
        "                        # print(f\"Disambig, np={np}, page={option}, claim={claim}\")\n",
        "                        post_processing(option)\n",
        "                        direct_results.append(option)\n",
        "                    post_processing(option)\n",
        "                    results.append(option)\n",
        "                page = do_st_corrections(wikipedia.search(np)[0])\n",
        "                if page == np:\n",
        "                    # print(f\"Disambig, np={np}, page={page}, claim={claim}\")\n",
        "                    post_processing(page)\n",
        "                    direct_results.append(page)\n",
        "            except wikipedia.PageError as pageerr:\n",
        "                pass\n",
        "\n",
        "        # Simplified Traditional Chinese Correction\n",
        "        wiki_search_results = [\n",
        "            do_st_corrections(w) for w in wikipedia.search(np)\n",
        "        ]\n",
        "\n",
        "        for term in wiki_search_results:\n",
        "            if (((new_term := term) in claim) or\n",
        "                ((new_term := term) in claim.replace(\" \", \"\")) or\n",
        "                ((new_term := term.replace(\"·\", \"\")) in claim) or                                   # 過濾人名\n",
        "                ((new_term := re.sub(r\"\\s\\(\\S+\\)\", \"\", term)) in claim) or                          # 過濾空格 / 消歧義\n",
        "                ((new_term := term.replace(\"(\", \"\").replace(\")\", \"\").split()[0]) in claim and       # 消歧義與括號內皆有在裡面\n",
        "                    (new_term := term.replace(\"(\", \"\").replace(\")\", \"\").split()[1]) in claim) or\n",
        "                ((new_term := term.replace(\"-\", \" \")) in claim) or                                  # 過濾槓號\n",
        "                ((new_term := term.lower()) in claim) or                                            # 過濾大小寫\n",
        "                ((new_term := term.lower().replace(\"-\", \"\")) in claim) or                           # 過濾大小寫及槓號\n",
        "                ((new_term := re.sub(r\"\\s\\(\\S+\\)\", \"\", term.lower().replace(\"-\", \"\"))) in claim)    # 過濾大小寫、槓號及消歧義\n",
        "                ):\n",
        "                post_processing(term)\n",
        "                direct_results.append(term)\n",
        "            # if prefix not in tmp_muji:  #忽略掉括號，如果括號有重複的話。假設如果有\" 1 (數字)\", 則\"1 (符號)\" 會被忽略\n",
        "            post_processing(term)\n",
        "            results.append(term)\n",
        "\n",
        "    direct_results = list(set(direct_results))\n",
        "    results = list(set(results))            # remove duplicates\n",
        "    # print(results)\n",
        "    return set(direct_results)"
      ]
    },
    {
      "cell_type": "code",
      "execution_count": 18,
      "metadata": {},
      "outputs": [],
      "source": [
        "def get_pred_pages_sbert(\n",
        "    series_data: pd.Series, \n",
        "    tokenizing_method: callable,\n",
        "    model: SentenceTransformer,\n",
        "    wiki_pages: pd.DataFrame,\n",
        "    topk: int,\n",
        "    threshold: float\n",
        ") -> set:\n",
        "    import re\n",
        "\n",
        "    # Parameters:\n",
        "    THRESHOLD_LOWEST = 0.55\n",
        "    THRESHOLD_HIGHEST = 0.7\n",
        "    THRESHOLD_SIM_LINE = threshold\n",
        "    WEIGHT_SIM_ID = 0.05    # The lower it is, the higher sim_id is when it directly matches claim.\n",
        "    \n",
        "    def sim_score_eval(s1, s2):\n",
        "        weight_id = 1\n",
        "        weight_line = 1\n",
        "        \n",
        "        return (weight_id + weight_line)*(s1*s2)/(weight_line*s1+weight_id*s2)\n",
        "    \n",
        "    def post_processing(page) -> str:\n",
        "        import opencc\n",
        "        CONVERTER_T2S = opencc.OpenCC(\"t2s.json\")\n",
        "        CONVERTER_S2T = opencc.OpenCC(\"s2t.json\")\n",
        "    \n",
        "        simplified = CONVERTER_T2S.convert(page)\n",
        "        page = CONVERTER_S2T.convert(simplified)\n",
        "        page = page.replace(\" \", \"_\")\n",
        "        page = page.replace(\"-\", \"\")\n",
        "        return page\n",
        "\n",
        "    claim = series_data[\"claim\"]\n",
        "    claim_sentences_count = claim.count('，')+1\n",
        "    search_list = series_data[\"predicted_pages\"]\n",
        "    direct_search = series_data[\"direct_match\"]\n",
        "    results = []\n",
        "    mapping = {}\n",
        "\n",
        "    tokens = tokenizing_method(claim)\n",
        "    emb_claim_tok = model.encode(tokens)\n",
        "    emb_claim = model.encode(claim)\n",
        "\n",
        "    search_list = [post_processing(id) for id in search_list]\n",
        "    if series_data[\"label\"] != \"NOT ENOUGH INFO\":\n",
        "        gt_pages = set([\n",
        "            evidence[2]\n",
        "            for evidence_set in series_data[\"evidence\"]\n",
        "            for evidence in evidence_set\n",
        "        ])\n",
        "    else:\n",
        "        gt_pages = set([])\n",
        "\n",
        "    for search_id in search_list:\n",
        "        # print(search_id)\n",
        "        search_series = wiki_pages.loc[wiki_pages['id'] == search_id]\n",
        "        if search_series.empty:\n",
        "            continue\n",
        "        try:\n",
        "            for temp in search_series[\"lines\"]:\n",
        "                search_lines = temp\n",
        "            # search_tokens = tokenizing_method(search_lines)\n",
        "        except:\n",
        "            continue\n",
        "        # search_processed_text = str(search_tokens[\"processed_text\"].astype(\"string\"))\n",
        "        search_id_tok = tokenizing_method(search_id)\n",
        "        emb_id = model.encode(search_id_tok)\n",
        "        sim_id = util.pytorch_cos_sim(emb_id, emb_claim).numpy()\n",
        "        sim_id = sim_id[0][0]\n",
        "        new_sim_id = 0\n",
        "        if search_id in direct_search:\n",
        "            if sim_id > 0:\n",
        "                # print(f\"{search_id}: sim_id={sim_id}\")\n",
        "                new_sim_id = 1-((1-sim_id)*WEIGHT_SIM_ID)\n",
        "            else:\n",
        "                sim_id = 0\n",
        "                new_sim_id = 1-((1-sim_id)*WEIGHT_SIM_ID)\n",
        "        else:\n",
        "            new_sim_id = sim_id\n",
        "\n",
        "        sim_score = 0\n",
        "        sim_line_b = 0\n",
        "        for search_line in search_lines:\n",
        "            # print(search_line)\n",
        "            search_line_count = search_line.count('，')+1\n",
        "            if search_line_count > claim_sentences_count and claim_sentences_count > 1:\n",
        "                search_line_list = search_line.split('，')\n",
        "                sim_line = 0\n",
        "                for i in range(0, search_line_count-claim_sentences_count+1):\n",
        "                    line = \"，\".join(search_line_list[i:i+claim_sentences_count])\n",
        "                    # print(line)\n",
        "                    search_token = tokenizing_method(line)\n",
        "                    emb_search = model.encode(search_token)\n",
        "                    sim = util.pytorch_cos_sim(emb_search, emb_claim_tok).numpy()\n",
        "                    sim = sim[0][0]\n",
        "                    sim_line = max(sim, sim_line)\n",
        "\n",
        "                    emb_search = model.encode(line)\n",
        "                    sim = util.pytorch_cos_sim(emb_search, emb_claim).numpy()\n",
        "                    sim = sim[0][0]\n",
        "                    sim_line = max(sim, sim_line)\n",
        "            else:\n",
        "                search_token = tokenizing_method(search_line)\n",
        "                emb_search = model.encode(search_token)\n",
        "                sim_line = util.pytorch_cos_sim(emb_search, emb_claim_tok).numpy()\n",
        "                sim_line = sim_line[0][0]\n",
        "\n",
        "                emb_search = model.encode(search_line)\n",
        "                sim = util.pytorch_cos_sim(emb_search, emb_claim).numpy()\n",
        "                sim = sim[0][0]\n",
        "                sim_line = max(sim, sim_line)\n",
        "            \n",
        "            # print(sim_scores)\n",
        "            if sim_line > THRESHOLD_SIM_LINE:\n",
        "                sim_line = max(sim_line, sim_line_b)\n",
        "                sim_line_b = sim_line\n",
        "                sim_score = sim_score_eval(sim_line, new_sim_id)\n",
        "                # print(sim_score, search_id)\n",
        "                if sim_score > THRESHOLD_LOWEST:\n",
        "                    search_id = post_processing(search_id)\n",
        "                    if search_id in mapping:\n",
        "                        mapping[search_id] = max(sim_score, mapping[search_id])\n",
        "                    else:\n",
        "                        mapping[search_id] = sim_score\n",
        "        if search_id in gt_pages:\n",
        "            print(f\"Analysis on GT pages={search_id}: origin sim_id={sim_id}, new sim_id={new_sim_id}, sim_line={sim_line_b}, sim_score={sim_score}\")\n",
        "\n",
        "    # print(mapping)\n",
        "    mapping_sorted = sorted(mapping.items(), key=lambda x:x[1], reverse=True)\n",
        "    # print(mapping_sorted)\n",
        "    results = [k for k, v in mapping_sorted if v > THRESHOLD_HIGHEST][:topk]\n",
        "    # print(results)\n",
        "    if not results:     # List is empty\n",
        "        results= [k for k, v in mapping_sorted if v > THRESHOLD_LOWEST][:1]\n",
        "        # print(f\"Empty, new_results={results}\")   \n",
        "\n",
        "    # Analysis on missed pages\n",
        "    \n",
        "    if series_data[\"label\"] != \"NOT ENOUGH INFO\":\n",
        "        for page in gt_pages:\n",
        "            if page in mapping:\n",
        "                if page not in results:\n",
        "                    print(f\"Missed: ID={page}, score={mapping[page]}\")\n",
        "                else:\n",
        "                    continue\n",
        "            else:\n",
        "                if page not in search_list:\n",
        "                    print(f\"Missed: ID={page}, not in search_list\")\n",
        "                else:\n",
        "                    print(f\"Missed: ID={page}, score < {THRESHOLD_LOWEST}\")\n",
        "\n",
        "    return set(results)"
      ]
    },
    {
      "cell_type": "code",
      "execution_count": 42,
      "metadata": {},
      "outputs": [
        {
          "name": "stdout",
          "output_type": "stream",
          "text": [
            "威廉 · 倫琴 拒絕 定名 新電子 波 爲 倫琴射線 堅持 稱作 X 射線\n",
            "有人 提議將 發現 新射線 定名 倫琴射線 倫琴 堅持 X 射線 一名\n",
            "0.40342233\n",
            "0.5361163\n"
          ]
        }
      ],
      "source": [
        "claim = \"威廉·倫琴拒絕定名新電子波爲倫琴射線，堅持稱作X射線。\"\n",
        "proof = \"有人提議將他發現的新射線定名為「倫琴射線」，倫琴卻堅持用「X射線」這一名稱\"\n",
        "claim_tok = tokenize(claim, stopwords=stopwords)\n",
        "proof_tok = tokenize(proof, stopwords=stopwords)\n",
        "print(claim_tok)\n",
        "print(proof_tok)\n",
        "\n",
        "emb_claim = sbert_model.encode(claim_tok)\n",
        "emb_proof = sbert_model.encode(proof_tok)\n",
        "print(util.pytorch_cos_sim(emb_proof, emb_claim).numpy()[0][0])\n",
        "\n",
        "emb_claim = sbert_model.encode(claim)\n",
        "emb_proof = sbert_model.encode(proof)\n",
        "print(util.pytorch_cos_sim(emb_proof, emb_claim).numpy()[0][0])"
      ]
    },
    {
      "cell_type": "code",
      "execution_count": 17,
      "metadata": {},
      "outputs": [
        {
          "ename": "NameError",
          "evalue": "name 'TfidfVectorizer' is not defined",
          "output_type": "error",
          "traceback": [
            "\u001b[0;31m---------------------------------------------------------------------------\u001b[0m",
            "\u001b[0;31mNameError\u001b[0m                                 Traceback (most recent call last)",
            "\u001b[0;32m/tmp/ipykernel_846714/171982627.py\u001b[0m in \u001b[0;36m<module>\u001b[0;34m\u001b[0m\n\u001b[1;32m      2\u001b[0m     \u001b[0mseries_data\u001b[0m\u001b[0;34m:\u001b[0m \u001b[0mpd\u001b[0m\u001b[0;34m.\u001b[0m\u001b[0mSeries\u001b[0m\u001b[0;34m,\u001b[0m\u001b[0;34m\u001b[0m\u001b[0;34m\u001b[0m\u001b[0m\n\u001b[1;32m      3\u001b[0m     \u001b[0mtokenizing_method\u001b[0m\u001b[0;34m:\u001b[0m \u001b[0mcallable\u001b[0m\u001b[0;34m,\u001b[0m\u001b[0;34m\u001b[0m\u001b[0;34m\u001b[0m\u001b[0m\n\u001b[0;32m----> 4\u001b[0;31m     \u001b[0mvectorizer\u001b[0m\u001b[0;34m:\u001b[0m \u001b[0mTfidfVectorizer\u001b[0m\u001b[0;34m,\u001b[0m\u001b[0;34m\u001b[0m\u001b[0;34m\u001b[0m\u001b[0m\n\u001b[0m\u001b[1;32m      5\u001b[0m     \u001b[0mtf_idf_matrix\u001b[0m\u001b[0;34m:\u001b[0m \u001b[0mscipy\u001b[0m\u001b[0;34m.\u001b[0m\u001b[0msparse\u001b[0m\u001b[0;34m.\u001b[0m\u001b[0mcsr_matrix\u001b[0m\u001b[0;34m,\u001b[0m\u001b[0;34m\u001b[0m\u001b[0;34m\u001b[0m\u001b[0m\n\u001b[1;32m      6\u001b[0m     \u001b[0mwiki_pages\u001b[0m\u001b[0;34m:\u001b[0m \u001b[0mpd\u001b[0m\u001b[0;34m.\u001b[0m\u001b[0mDataFrame\u001b[0m\u001b[0;34m,\u001b[0m\u001b[0;34m\u001b[0m\u001b[0;34m\u001b[0m\u001b[0m\n",
            "\u001b[0;31mNameError\u001b[0m: name 'TfidfVectorizer' is not defined"
          ]
        }
      ],
      "source": [
        "def get_pred_pages_tfidf(\n",
        "    series_data: pd.Series, \n",
        "    tokenizing_method: callable,\n",
        "    vectorizer: TfidfVectorizer,\n",
        "    tf_idf_matrix: scipy.sparse.csr_matrix,\n",
        "    wiki_pages: pd.DataFrame,\n",
        "    topk: int,\n",
        "    threshold: float\n",
        ") -> set:\n",
        "    import numpy as np\n",
        "    import scipy\n",
        "    from sklearn.metrics.pairwise import cosine_similarity\n",
        "\n",
        "    claim = series_data[\"claim\"]\n",
        "    search_list = series_data[\"predicted_pages\"]\n",
        "    results = []\n",
        "    mapping = {}\n",
        "\n",
        "    tokens = tokenizing_method(claim)\n",
        "    claim_vector = vectorizer.transform([tokens])\n",
        "    for search_id in search_list:\n",
        "        search_tokens = wiki_pages.loc[wiki_pages['id'] == search_id]\n",
        "        if search_tokens.empty:\n",
        "            continue\n",
        "        search_processed_text = search_tokens[\"processed_text\"]\n",
        "        search_vector = vectorizer.transform(search_processed_text)\n",
        "        sim_scores = cosine_similarity(search_vector, claim_vector)\n",
        "        sim_scores = sim_scores[0][0]\n",
        "        if sim_scores > threshold:\n",
        "            mapping[search_id] = sim_scores\n",
        "            # print(sim_scores, search_id)\n",
        "\n",
        "    # print(mapping)\n",
        "    results = sorted(mapping, key=mapping.get, reverse=True)[:topk]\n",
        "    # print(results)\n",
        "    return set(results)\n"
      ]
    },
    {
      "attachments": {},
      "cell_type": "markdown",
      "metadata": {},
      "source": [
        "### Step 1. Get noun phrases from hanlp consituency parsing tree"
      ]
    },
    {
      "attachments": {},
      "cell_type": "markdown",
      "metadata": {},
      "source": [
        "Setup [HanLP](https://github.com/hankcs/HanLP) predictor (1 min)"
      ]
    },
    {
      "cell_type": "code",
      "execution_count": 17,
      "metadata": {},
      "outputs": [
        {
          "name": "stderr",
          "output_type": "stream",
          "text": [
            "                                             \r"
          ]
        }
      ],
      "source": [
        "predictor = (hanlp.pipeline().append(\n",
        "    hanlp.load(\"FINE_ELECTRA_SMALL_ZH\"),\n",
        "    output_key=\"tok\",\n",
        ").append(\n",
        "    hanlp.load(\"CTB9_CON_ELECTRA_SMALL\"),\n",
        "    output_key=\"con\",\n",
        "    input_key=\"tok\",\n",
        "))"
      ]
    },
    {
      "attachments": {},
      "cell_type": "markdown",
      "metadata": {},
      "source": [
        "We will skip this process which for creating parsing tree when demo on class"
      ]
    },
    {
      "cell_type": "code",
      "execution_count": 18,
      "metadata": {},
      "outputs": [],
      "source": [
        "hanlp_file = f\"data/hanlp_con_results.pkl\"\n",
        "if Path(hanlp_file).exists():\n",
        "    with open(hanlp_file, \"rb\") as f:\n",
        "        hanlp_results = pickle.load(f)\n",
        "else:\n",
        "    hanlp_results = [get_nps_hanlp(predictor, d) for d in TRAIN_DATA]\n",
        "    with open(hanlp_file, \"wb\") as f:\n",
        "        pickle.dump(hanlp_results, f)"
      ]
    },
    {
      "attachments": {},
      "cell_type": "markdown",
      "metadata": {},
      "source": [
        "Get pages via wiki online api"
      ]
    },
    {
      "cell_type": "code",
      "execution_count": null,
      "metadata": {},
      "outputs": [],
      "source": [
        "from google.colab import output\n",
        "output.enable_custom_widget_manager()"
      ]
    },
    {
      "cell_type": "code",
      "execution_count": 22,
      "metadata": {},
      "outputs": [],
      "source": [
        "from tqdm.notebook import tqdm\n",
        "tqdm.pandas()"
      ]
    },
    {
      "cell_type": "code",
      "execution_count": 19,
      "metadata": {},
      "outputs": [],
      "source": [
        "doc_path = f\"data/train_doc5.jsonl\"\n",
        "doc_path_aicup = f\"data/train_doc5_aicup.jsonl\"\n",
        "doc_path_sbert = f\"data/train_doc5_sbert.jsonl\"\n",
        "doc_path_search = f\"data/train_doc5_search.jsonl\"\n",
        "doc_path_tfidf = f\"data/train_doc5_tfidf.jsonl\""
      ]
    },
    {
      "cell_type": "code",
      "execution_count": 49,
      "metadata": {},
      "outputs": [],
      "source": [
        "if Path(doc_path).exists():\n",
        "    with open(doc_path_aicup, \"r\", encoding=\"utf8\") as f:\n",
        "        predicted_results = pd.Series([\n",
        "            set(json.loads(line)[\"predicted_pages\"])\n",
        "            for line in f\n",
        "        ])\n",
        "else:\n",
        "    if Path(doc_path_search).exists():\n",
        "        with open(doc_path_search, \"r\", encoding=\"utf8\") as f:\n",
        "            predicted_results_search = pd.Series([\n",
        "                set(json.loads(line)[\"predicted_pages\"])\n",
        "                for line in f\n",
        "            ], name=\"search\")\n",
        "    else:\n",
        "        pandarallel.initialize(progress_bar=True, verbose=0, nb_workers=10)\n",
        "        train_df = pd.DataFrame(TRAIN_DATA)\n",
        "        train_df.loc[:, \"hanlp_results\"] = hanlp_results\n",
        "        # predicted_results = train_df.progress_apply(get_pred_pages, axis=1)\n",
        "        predicted_results_search = train_df.parallel_apply(\n",
        "            get_pred_pages_search, axis=1)\n",
        "        save_doc(TRAIN_DATA, predicted_results_search, mode=\"train\", suffix=\"_search\")\n",
        "\n",
        "    if Path(doc_path_aicup).exists():\n",
        "        with open(doc_path_aicup, \"r\", encoding=\"utf8\") as f:\n",
        "            predicted_results_aicup = pd.Series([\n",
        "                set(json.loads(line)[\"predicted_pages\"])\n",
        "                for line in f\n",
        "            ], name=\"aicup\")\n",
        "    else:\n",
        "        pandarallel.initialize(progress_bar=True, verbose=0, nb_workers=10)\n",
        "        train_df = pd.DataFrame(TRAIN_DATA)\n",
        "        train_df.loc[:, \"hanlp_results\"] = hanlp_results\n",
        "        # predicted_results = train_df.progress_apply(get_pred_pages, axis=1)\n",
        "        predicted_results_aicup = train_df.parallel_apply(\n",
        "            get_pred_pages, axis=1)\n",
        "        save_doc(TRAIN_DATA, predicted_results_aicup, mode=\"train\", suffix=\"_aicup\")\n",
        "\n",
        "    # if Path(doc_path_tfidf).exists():\n",
        "    #     with open(doc_path_tfidf, \"r\", encoding=\"utf8\") as f:\n",
        "    #         predicted_results_tfidf = pd.Series([\n",
        "    #             set(json.loads(line)[\"predicted_pages\"])\n",
        "    #             for line in f\n",
        "    #         ], name=\"tfidf\")\n",
        "    # else:\n",
        "    #     pandarallel.initialize(progress_bar=True, verbose=0, nb_workers=3)\n",
        "    #     TRAIN_DATA_SEARCH = load_json(doc_path_search)\n",
        "    #     train_df_search = pd.DataFrame(TRAIN_DATA_SEARCH)\n",
        "    #     predicted_results_tfidf = train_df_search.parallel_apply(\n",
        "    #         partial(\n",
        "    #             get_pred_pages_tfidf,\n",
        "    #             tokenizing_method=partial(tokenize, stopwords=stopwords),\n",
        "    #             vectorizer=vectorizer,\n",
        "    #             tf_idf_matrix=X,\n",
        "    #             wiki_pages=wiki_pages,\n",
        "    #             topk=topk,\n",
        "    #             threshold=0.65\n",
        "    #         ), axis=1)\n",
        "    #     save_doc(TRAIN_DATA, predicted_results_tfidf, mode=\"train\", suffix=\"_tfidf\")"
      ]
    },
    {
      "attachments": {},
      "cell_type": "markdown",
      "metadata": {},
      "source": [
        "On Search Data:"
      ]
    },
    {
      "cell_type": "code",
      "execution_count": 21,
      "metadata": {},
      "outputs": [
        {
          "ename": "FileNotFoundError",
          "evalue": "[Errno 2] No such file or directory: 'data/train_doc5_search_backup.jsonl'",
          "output_type": "error",
          "traceback": [
            "\u001b[0;31m---------------------------------------------------------------------------\u001b[0m",
            "\u001b[0;31mFileNotFoundError\u001b[0m                         Traceback (most recent call last)",
            "\u001b[0;32m/tmp/ipykernel_948108/4245773708.py\u001b[0m in \u001b[0;36m<module>\u001b[0;34m\u001b[0m\n\u001b[1;32m     16\u001b[0m \u001b[0mdoc_path_search\u001b[0m \u001b[0;34m=\u001b[0m \u001b[0;34mf\"data/train_doc5_search.jsonl\"\u001b[0m\u001b[0;34m\u001b[0m\u001b[0;34m\u001b[0m\u001b[0m\n\u001b[1;32m     17\u001b[0m \u001b[0mdoc_path_search_backup\u001b[0m \u001b[0;34m=\u001b[0m \u001b[0;34mf\"data/train_doc5_search_backup.jsonl\"\u001b[0m\u001b[0;34m\u001b[0m\u001b[0;34m\u001b[0m\u001b[0m\n\u001b[0;32m---> 18\u001b[0;31m \u001b[0mTRAIN_DATA_SEARCH1\u001b[0m \u001b[0;34m=\u001b[0m \u001b[0mload_json\u001b[0m\u001b[0;34m(\u001b[0m\u001b[0mdoc_path_search_backup\u001b[0m\u001b[0;34m)\u001b[0m\u001b[0;34m\u001b[0m\u001b[0;34m\u001b[0m\u001b[0m\n\u001b[0m\u001b[1;32m     19\u001b[0m \u001b[0;34m\u001b[0m\u001b[0m\n\u001b[1;32m     20\u001b[0m \u001b[0mpandarallel\u001b[0m\u001b[0;34m.\u001b[0m\u001b[0minitialize\u001b[0m\u001b[0;34m(\u001b[0m\u001b[0mprogress_bar\u001b[0m\u001b[0;34m=\u001b[0m\u001b[0;32mTrue\u001b[0m\u001b[0;34m,\u001b[0m \u001b[0mverbose\u001b[0m\u001b[0;34m=\u001b[0m\u001b[0;36m0\u001b[0m\u001b[0;34m,\u001b[0m \u001b[0mnb_workers\u001b[0m\u001b[0;34m=\u001b[0m\u001b[0;36m12\u001b[0m\u001b[0;34m)\u001b[0m\u001b[0;34m\u001b[0m\u001b[0;34m\u001b[0m\u001b[0m\n",
            "\u001b[0;32m~/Gaber_AICUP2023/utils.py\u001b[0m in \u001b[0;36mload_json\u001b[0;34m(file_path)\u001b[0m\n\u001b[1;32m     29\u001b[0m         \u001b[0;34m[\u001b[0m\u001b[0;36m946\u001b[0m \u001b[0mrows\u001b[0m \u001b[0mx\u001b[0m \u001b[0;36m10\u001b[0m \u001b[0mcolumns\u001b[0m\u001b[0;34m]\u001b[0m\u001b[0;34m\u001b[0m\u001b[0;34m\u001b[0m\u001b[0m\n\u001b[1;32m     30\u001b[0m     \"\"\"\n\u001b[0;32m---> 31\u001b[0;31m     \u001b[0;32mwith\u001b[0m \u001b[0mopen\u001b[0m\u001b[0;34m(\u001b[0m\u001b[0mfile_path\u001b[0m\u001b[0;34m,\u001b[0m \u001b[0;34m\"r\"\u001b[0m\u001b[0;34m,\u001b[0m \u001b[0mencoding\u001b[0m\u001b[0;34m=\u001b[0m\u001b[0;34m\"utf8\"\u001b[0m\u001b[0;34m)\u001b[0m \u001b[0;32mas\u001b[0m \u001b[0mjson_file\u001b[0m\u001b[0;34m:\u001b[0m\u001b[0;34m\u001b[0m\u001b[0;34m\u001b[0m\u001b[0m\n\u001b[0m\u001b[1;32m     32\u001b[0m         \u001b[0mjson_list\u001b[0m \u001b[0;34m=\u001b[0m \u001b[0mlist\u001b[0m\u001b[0;34m(\u001b[0m\u001b[0mjson_file\u001b[0m\u001b[0;34m)\u001b[0m\u001b[0;34m\u001b[0m\u001b[0;34m\u001b[0m\u001b[0m\n\u001b[1;32m     33\u001b[0m \u001b[0;34m\u001b[0m\u001b[0m\n",
            "\u001b[0;31mFileNotFoundError\u001b[0m: [Errno 2] No such file or directory: 'data/train_doc5_search_backup.jsonl'"
          ]
        }
      ],
      "source": [
        "def clean(series_data):\n",
        "    def post_processing(page) -> str:\n",
        "        page = page.replace(\" \", \"_\")\n",
        "        page = page.replace(\"-\", \"\")\n",
        "        return page\n",
        "    \n",
        "    result = []\n",
        "    for element in series_data:\n",
        "        # print(series_data)\n",
        "        element = post_processing(element)\n",
        "        if \"Template:\" in element:\n",
        "            continue\n",
        "        result.append(element)\n",
        "\n",
        "    return set(result)\n",
        "doc_path_search = f\"data/train_doc5_search.jsonl\"\n",
        "doc_path_search_backup = f\"data/train_doc5_search_backup.jsonl\"\n",
        "TRAIN_DATA_SEARCH1 = load_json(doc_path_search_backup)\n",
        "\n",
        "pandarallel.initialize(progress_bar=True, verbose=0, nb_workers=12)\n",
        "train_df = pd.DataFrame(TRAIN_DATA)\n",
        "train_df.loc[:, \"hanlp_results\"] = hanlp_results\n",
        "train_df_search1 = pd.DataFrame(TRAIN_DATA_SEARCH1)\n",
        "predicted_results_search = train_df_search1.loc[:, \"predicted_pages\"]\n",
        "direct_match = train_df_search1.loc[:, \"direct_match\"]\n",
        "# print(predicted_results_search)\n",
        "predicted_results_search = predicted_results_search.apply(clean)\n",
        "direct_match = direct_match.apply(clean)\n",
        "\n",
        "# predicted_results = train_df.progress_apply(get_pred_pages, axis=1)\n",
        "save_doc(TRAIN_DATA, predicted_results_search, mode=\"train\", suffix=\"_search\", col_name=\"predicted_pages\")\n",
        "TRAIN_DATA_SEARCH = load_json(doc_path_search)\n",
        "# direct_match = train_df.parallel_apply(\n",
        "#     get_pred_pages_search, axis=1)\n",
        "save_doc(TRAIN_DATA_SEARCH, direct_match, mode=\"train\", suffix=\"_search\", col_name=\"direct_match\")"
      ]
    },
    {
      "cell_type": "code",
      "execution_count": 20,
      "metadata": {},
      "outputs": [],
      "source": [
        "# num_of_samples = 3969\n",
        "num_of_samples = 3969\n",
        "TRAIN_DATA_SEARCH = load_json(doc_path_search)\n",
        "train_df_search = pd.DataFrame(TRAIN_DATA_SEARCH[:num_of_samples])"
      ]
    },
    {
      "cell_type": "code",
      "execution_count": 31,
      "metadata": {},
      "outputs": [
        {
          "ename": "KeyboardInterrupt",
          "evalue": "",
          "output_type": "error",
          "traceback": [
            "\u001b[0;31m---------------------------------------------------------------------------\u001b[0m",
            "\u001b[0;31mKeyboardInterrupt\u001b[0m                         Traceback (most recent call last)",
            "\u001b[0;32m/tmp/ipykernel_955602/2107785087.py\u001b[0m in \u001b[0;36m<module>\u001b[0;34m\u001b[0m\n\u001b[1;32m      7\u001b[0m \u001b[0;32melse\u001b[0m\u001b[0;34m:\u001b[0m\u001b[0;34m\u001b[0m\u001b[0;34m\u001b[0m\u001b[0m\n\u001b[1;32m      8\u001b[0m     \u001b[0mpandarallel\u001b[0m\u001b[0;34m.\u001b[0m\u001b[0minitialize\u001b[0m\u001b[0;34m(\u001b[0m\u001b[0mprogress_bar\u001b[0m\u001b[0;34m=\u001b[0m\u001b[0;32mFalse\u001b[0m\u001b[0;34m,\u001b[0m \u001b[0mverbose\u001b[0m\u001b[0;34m=\u001b[0m\u001b[0;36m0\u001b[0m\u001b[0;34m,\u001b[0m \u001b[0mnb_workers\u001b[0m\u001b[0;34m=\u001b[0m\u001b[0;36m10\u001b[0m\u001b[0;34m)\u001b[0m\u001b[0;34m\u001b[0m\u001b[0;34m\u001b[0m\u001b[0m\n\u001b[0;32m----> 9\u001b[0;31m     predicted_results_sbert = train_df_search.parallel_apply(\n\u001b[0m\u001b[1;32m     10\u001b[0m         partial(\n\u001b[1;32m     11\u001b[0m             \u001b[0mget_pred_pages_sbert\u001b[0m\u001b[0;34m,\u001b[0m\u001b[0;34m\u001b[0m\u001b[0;34m\u001b[0m\u001b[0m\n",
            "\u001b[0;32m~/.local/lib/python3.8/site-packages/pandarallel/core.py\u001b[0m in \u001b[0;36mclosure\u001b[0;34m(data, user_defined_function, *user_defined_function_args, **user_defined_function_kwargs)\u001b[0m\n\u001b[1;32m    305\u001b[0m                 )\n\u001b[1;32m    306\u001b[0m             ):\n\u001b[0;32m--> 307\u001b[0;31m                 \u001b[0mmessage\u001b[0m\u001b[0;34m:\u001b[0m \u001b[0mTuple\u001b[0m\u001b[0;34m[\u001b[0m\u001b[0mint\u001b[0m\u001b[0;34m,\u001b[0m \u001b[0mWorkerStatus\u001b[0m\u001b[0;34m,\u001b[0m \u001b[0mAny\u001b[0m\u001b[0;34m]\u001b[0m \u001b[0;34m=\u001b[0m \u001b[0mmaster_workers_queue\u001b[0m\u001b[0;34m.\u001b[0m\u001b[0mget\u001b[0m\u001b[0;34m(\u001b[0m\u001b[0;34m)\u001b[0m\u001b[0;34m\u001b[0m\u001b[0;34m\u001b[0m\u001b[0m\n\u001b[0m\u001b[1;32m    308\u001b[0m                 \u001b[0mworker_index\u001b[0m\u001b[0;34m,\u001b[0m \u001b[0mworker_status\u001b[0m\u001b[0;34m,\u001b[0m \u001b[0mpayload\u001b[0m \u001b[0;34m=\u001b[0m \u001b[0mmessage\u001b[0m\u001b[0;34m\u001b[0m\u001b[0;34m\u001b[0m\u001b[0m\n\u001b[1;32m    309\u001b[0m                 \u001b[0mworkers_status\u001b[0m\u001b[0;34m[\u001b[0m\u001b[0mworker_index\u001b[0m\u001b[0;34m]\u001b[0m \u001b[0;34m=\u001b[0m \u001b[0mworker_status\u001b[0m\u001b[0;34m\u001b[0m\u001b[0;34m\u001b[0m\u001b[0m\n",
            "\u001b[0;32m<string>\u001b[0m in \u001b[0;36mget\u001b[0;34m(self, *args, **kwds)\u001b[0m\n",
            "\u001b[0;32m/usr/lib/python3.8/multiprocessing/managers.py\u001b[0m in \u001b[0;36m_callmethod\u001b[0;34m(self, methodname, args, kwds)\u001b[0m\n\u001b[1;32m    833\u001b[0m \u001b[0;34m\u001b[0m\u001b[0m\n\u001b[1;32m    834\u001b[0m         \u001b[0mconn\u001b[0m\u001b[0;34m.\u001b[0m\u001b[0msend\u001b[0m\u001b[0;34m(\u001b[0m\u001b[0;34m(\u001b[0m\u001b[0mself\u001b[0m\u001b[0;34m.\u001b[0m\u001b[0m_id\u001b[0m\u001b[0;34m,\u001b[0m \u001b[0mmethodname\u001b[0m\u001b[0;34m,\u001b[0m \u001b[0margs\u001b[0m\u001b[0;34m,\u001b[0m \u001b[0mkwds\u001b[0m\u001b[0;34m)\u001b[0m\u001b[0;34m)\u001b[0m\u001b[0;34m\u001b[0m\u001b[0;34m\u001b[0m\u001b[0m\n\u001b[0;32m--> 835\u001b[0;31m         \u001b[0mkind\u001b[0m\u001b[0;34m,\u001b[0m \u001b[0mresult\u001b[0m \u001b[0;34m=\u001b[0m \u001b[0mconn\u001b[0m\u001b[0;34m.\u001b[0m\u001b[0mrecv\u001b[0m\u001b[0;34m(\u001b[0m\u001b[0;34m)\u001b[0m\u001b[0;34m\u001b[0m\u001b[0;34m\u001b[0m\u001b[0m\n\u001b[0m\u001b[1;32m    836\u001b[0m \u001b[0;34m\u001b[0m\u001b[0m\n\u001b[1;32m    837\u001b[0m         \u001b[0;32mif\u001b[0m \u001b[0mkind\u001b[0m \u001b[0;34m==\u001b[0m \u001b[0;34m'#RETURN'\u001b[0m\u001b[0;34m:\u001b[0m\u001b[0;34m\u001b[0m\u001b[0;34m\u001b[0m\u001b[0m\n",
            "\u001b[0;32m/usr/lib/python3.8/multiprocessing/connection.py\u001b[0m in \u001b[0;36mrecv\u001b[0;34m(self)\u001b[0m\n\u001b[1;32m    248\u001b[0m         \u001b[0mself\u001b[0m\u001b[0;34m.\u001b[0m\u001b[0m_check_closed\u001b[0m\u001b[0;34m(\u001b[0m\u001b[0;34m)\u001b[0m\u001b[0;34m\u001b[0m\u001b[0;34m\u001b[0m\u001b[0m\n\u001b[1;32m    249\u001b[0m         \u001b[0mself\u001b[0m\u001b[0;34m.\u001b[0m\u001b[0m_check_readable\u001b[0m\u001b[0;34m(\u001b[0m\u001b[0;34m)\u001b[0m\u001b[0;34m\u001b[0m\u001b[0;34m\u001b[0m\u001b[0m\n\u001b[0;32m--> 250\u001b[0;31m         \u001b[0mbuf\u001b[0m \u001b[0;34m=\u001b[0m \u001b[0mself\u001b[0m\u001b[0;34m.\u001b[0m\u001b[0m_recv_bytes\u001b[0m\u001b[0;34m(\u001b[0m\u001b[0;34m)\u001b[0m\u001b[0;34m\u001b[0m\u001b[0;34m\u001b[0m\u001b[0m\n\u001b[0m\u001b[1;32m    251\u001b[0m         \u001b[0;32mreturn\u001b[0m \u001b[0m_ForkingPickler\u001b[0m\u001b[0;34m.\u001b[0m\u001b[0mloads\u001b[0m\u001b[0;34m(\u001b[0m\u001b[0mbuf\u001b[0m\u001b[0;34m.\u001b[0m\u001b[0mgetbuffer\u001b[0m\u001b[0;34m(\u001b[0m\u001b[0;34m)\u001b[0m\u001b[0;34m)\u001b[0m\u001b[0;34m\u001b[0m\u001b[0;34m\u001b[0m\u001b[0m\n\u001b[1;32m    252\u001b[0m \u001b[0;34m\u001b[0m\u001b[0m\n",
            "\u001b[0;32m/usr/lib/python3.8/multiprocessing/connection.py\u001b[0m in \u001b[0;36m_recv_bytes\u001b[0;34m(self, maxsize)\u001b[0m\n\u001b[1;32m    412\u001b[0m \u001b[0;34m\u001b[0m\u001b[0m\n\u001b[1;32m    413\u001b[0m     \u001b[0;32mdef\u001b[0m \u001b[0m_recv_bytes\u001b[0m\u001b[0;34m(\u001b[0m\u001b[0mself\u001b[0m\u001b[0;34m,\u001b[0m \u001b[0mmaxsize\u001b[0m\u001b[0;34m=\u001b[0m\u001b[0;32mNone\u001b[0m\u001b[0;34m)\u001b[0m\u001b[0;34m:\u001b[0m\u001b[0;34m\u001b[0m\u001b[0;34m\u001b[0m\u001b[0m\n\u001b[0;32m--> 414\u001b[0;31m         \u001b[0mbuf\u001b[0m \u001b[0;34m=\u001b[0m \u001b[0mself\u001b[0m\u001b[0;34m.\u001b[0m\u001b[0m_recv\u001b[0m\u001b[0;34m(\u001b[0m\u001b[0;36m4\u001b[0m\u001b[0;34m)\u001b[0m\u001b[0;34m\u001b[0m\u001b[0;34m\u001b[0m\u001b[0m\n\u001b[0m\u001b[1;32m    415\u001b[0m         \u001b[0msize\u001b[0m\u001b[0;34m,\u001b[0m \u001b[0;34m=\u001b[0m \u001b[0mstruct\u001b[0m\u001b[0;34m.\u001b[0m\u001b[0munpack\u001b[0m\u001b[0;34m(\u001b[0m\u001b[0;34m\"!i\"\u001b[0m\u001b[0;34m,\u001b[0m \u001b[0mbuf\u001b[0m\u001b[0;34m.\u001b[0m\u001b[0mgetvalue\u001b[0m\u001b[0;34m(\u001b[0m\u001b[0;34m)\u001b[0m\u001b[0;34m)\u001b[0m\u001b[0;34m\u001b[0m\u001b[0;34m\u001b[0m\u001b[0m\n\u001b[1;32m    416\u001b[0m         \u001b[0;32mif\u001b[0m \u001b[0msize\u001b[0m \u001b[0;34m==\u001b[0m \u001b[0;34m-\u001b[0m\u001b[0;36m1\u001b[0m\u001b[0;34m:\u001b[0m\u001b[0;34m\u001b[0m\u001b[0;34m\u001b[0m\u001b[0m\n",
            "\u001b[0;32m/usr/lib/python3.8/multiprocessing/connection.py\u001b[0m in \u001b[0;36m_recv\u001b[0;34m(self, size, read)\u001b[0m\n\u001b[1;32m    377\u001b[0m         \u001b[0mremaining\u001b[0m \u001b[0;34m=\u001b[0m \u001b[0msize\u001b[0m\u001b[0;34m\u001b[0m\u001b[0;34m\u001b[0m\u001b[0m\n\u001b[1;32m    378\u001b[0m         \u001b[0;32mwhile\u001b[0m \u001b[0mremaining\u001b[0m \u001b[0;34m>\u001b[0m \u001b[0;36m0\u001b[0m\u001b[0;34m:\u001b[0m\u001b[0;34m\u001b[0m\u001b[0;34m\u001b[0m\u001b[0m\n\u001b[0;32m--> 379\u001b[0;31m             \u001b[0mchunk\u001b[0m \u001b[0;34m=\u001b[0m \u001b[0mread\u001b[0m\u001b[0;34m(\u001b[0m\u001b[0mhandle\u001b[0m\u001b[0;34m,\u001b[0m \u001b[0mremaining\u001b[0m\u001b[0;34m)\u001b[0m\u001b[0;34m\u001b[0m\u001b[0;34m\u001b[0m\u001b[0m\n\u001b[0m\u001b[1;32m    380\u001b[0m             \u001b[0mn\u001b[0m \u001b[0;34m=\u001b[0m \u001b[0mlen\u001b[0m\u001b[0;34m(\u001b[0m\u001b[0mchunk\u001b[0m\u001b[0;34m)\u001b[0m\u001b[0;34m\u001b[0m\u001b[0;34m\u001b[0m\u001b[0m\n\u001b[1;32m    381\u001b[0m             \u001b[0;32mif\u001b[0m \u001b[0mn\u001b[0m \u001b[0;34m==\u001b[0m \u001b[0;36m0\u001b[0m\u001b[0;34m:\u001b[0m\u001b[0;34m\u001b[0m\u001b[0;34m\u001b[0m\u001b[0m\n",
            "\u001b[0;31mKeyboardInterrupt\u001b[0m: "
          ]
        }
      ],
      "source": [
        "if Path(doc_path_sbert).exists():\n",
        "    with open(doc_path_sbert, \"r\", encoding=\"utf8\") as f:\n",
        "        predicted_results_sbert = pd.Series([\n",
        "            set(json.loads(line)[\"predicted_pages\"])\n",
        "            for line in f\n",
        "        ], name=\"sbert\")\n",
        "else:\n",
        "    pandarallel.initialize(progress_bar=False, verbose=0, nb_workers=10)\n",
        "    predicted_results_sbert = train_df_search.parallel_apply(\n",
        "        partial(\n",
        "            get_pred_pages_sbert,\n",
        "            tokenizing_method=partial(tokenize, stopwords=stopwords),\n",
        "            model=sbert_model,\n",
        "            wiki_pages=wiki_pages,\n",
        "            topk=5,\n",
        "            threshold=0.375\n",
        "        ), axis=1)\n",
        "    save_doc(TRAIN_DATA[:num_of_samples], predicted_results_sbert, mode=\"train\", suffix=\"\")"
      ]
    },
    {
      "attachments": {},
      "cell_type": "markdown",
      "metadata": {},
      "source": [
        "Save Memory"
      ]
    },
    {
      "cell_type": "code",
      "execution_count": 34,
      "metadata": {},
      "outputs": [],
      "source": [
        "old_precision = 0.3879699248120298\n",
        "old_recall = 0.8124895572263992\n",
        "old_f1 = 0.5247852770334176"
      ]
    },
    {
      "cell_type": "code",
      "execution_count": 35,
      "metadata": {},
      "outputs": [
        {
          "name": "stdout",
          "output_type": "stream",
          "text": [
            "On Search-TFIDF Data:\n",
            "Precision: 0.3879699248120298\n",
            "(Diff: 0.00041771094402676123)\n",
            "Recall: 0.8124895572263992\n",
            "(Diff: 0.0)\n",
            "F1-Score: 0.5251680996220324\n",
            "(Diff: 0.0003828225886147729)\n"
          ]
        }
      ],
      "source": [
        "# print(\"On AICUP Data:\")\n",
        "# calculate_precision(TRAIN_DATA, predicted_results_aicup)\n",
        "# calculate_recall(TRAIN_DATA, predicted_results_aicup)\n",
        "# print(\"On Search Data:\")\n",
        "# calculate_precision(TRAIN_DATA, predicted_results_search)\n",
        "# calculate_recall(TRAIN_DATA, predicted_results_search)\n",
        "print(\"On Search-TFIDF Data:\")\n",
        "precision = calculate_precision(TRAIN_DATA[:num_of_samples], predicted_results_sbert)\n",
        "print(f\"(Diff: {precision-old_precision})\")\n",
        "recall = calculate_recall(TRAIN_DATA[:num_of_samples], predicted_results_sbert)\n",
        "print(f\"(Diff: {recall-old_recall})\")\n",
        "f1 = calculate_f1(precision, recall)\n",
        "print(f\"F1-Score: {f1}\")\n",
        "print(f\"(Diff: {f1-old_f1})\")"
      ]
    },
    {
      "attachments": {},
      "cell_type": "markdown",
      "metadata": {},
      "source": [
        "Merge Two Pandas Series."
      ]
    },
    {
      "cell_type": "code",
      "execution_count": 48,
      "metadata": {},
      "outputs": [],
      "source": [
        "def union_result(series_data: pd.Series,) -> set:\n",
        "    aicup = series_data[\"aicup\"]\n",
        "    sbert = series_data[\"sbert\"]\n",
        "    print(aicup, sbert)\n",
        "    return set(aicup).union(set(sbert))"
      ]
    },
    {
      "cell_type": "code",
      "execution_count": 51,
      "metadata": {},
      "outputs": [
        {
          "name": "stdout",
          "output_type": "stream",
          "text": [
            "{'磁層', '緹坦妮雅', '軌道', '天衛三', '天王星', '仲夏夜_(羅文專輯)', '仲夏夜之夢'} {'磁層', '緹坦妮雅', '天衛三', '天王星', '夢'}\n",
            "{'太平洋', '北冰洋', '翼展', '世界', '南太平洋', '鳥', '信天翁科'} {'北冰洋', '翼展', '南太平洋', '鳥', '信天翁科'}\n",
            "{'陳建寧', '音樂產業', '女性', '男性', '詹雯婷', '樂團', '阿沁', '亞洲'} {'鍵盤手', '音樂產業', 'F.I.R.飛兒樂團', '吉他手', '樂團'}\n",
            "{'世界', '小時', '香港國際機場', '24小時', '機場', '宇宙'} {'世界', '香港國際機場', '世界棒壘球總會棒球世界排名', '24小時', '機場'}\n",
            "{'黨委書記和校長列入中央管理的高校', '中華人民共和國', '學校', '歷史', '中央部屬高校', '北京理工大學', '校長', '高等學校'} {'黨委書記和校長列入中央管理的高校', '中華人民共和國', '中央部屬高校', '北京理工大學', '高等學校'}\n",
            "{'中學', '南京大學', '南京大學附屬中學', '江蘇省_(中華民國)'} {'南京大學', '南京大學附屬中學', '江蘇省蘇州實驗中學', '南京師範大學附屬中學', '南京大學中山樓'}\n",
            "{'原住民', '印度', '毒魚豆', '萃取', '魚', '西'} {'毒魚豆', '萃取', '魚', '麥芽發酵萃取物', '鸚哥魚亞科'}\n",
            "{'軟件開發', '活動', '版本控制', '軟件', '軟件測試', '系統工程'} {'軟件開發', '軟件', '軟件測試', '版本控制', '系統工程'}\n",
            "{'國立臺灣大學', '研究生', '理論', '專業人士', '力學', '國立臺灣大學應用力學研究所', '研究所', '院士', '中央研究院院士', '工程力學', '中央研究院'} {'國立臺灣大學', '美國國家工程院', '國立臺灣大學應用力學研究所', '研究所', '中央研究院'}\n",
            "{'電子', '倫琴_(單位)', '威廉·倫琴', 'X射線'} {'威廉·維恩', '威廉·倫琴', '維克托·赫斯', '電子', 'X射線'}\n",
            "{'世紀', '中世紀', '教育', '幾何學', '數學', '西方'} {'中世紀', '幾何學', '數學', '離散數學', '非歐幾里得幾何'}\n",
            "{'國立臺灣大學', '昆蟲', '國立臺灣大學昆蟲標本館', '標本'} {'國立臺灣大學', '臺灣昆蟲學史', '國立臺灣大學昆蟲標本館', '昆蟲', '標本'}\n",
            "{'獎勵', '湯姆·克魯斯', '湯姆·希林', '湯姆·班克斯', '湯姆·漢克斯', '收入'} {'獎勵', '湯姆·克魯斯', '臺灣最高電影票房收入列表', 'CASH金帆音樂獎', '收入'}\n",
            "{'阿爾伯特·愛因斯坦', '漢斯·愛因斯坦'} {'愛因斯坦-嘉當理論', '玻色–愛因斯坦凝聚', '玻爾-愛因斯坦之爭', '阿爾伯特·愛因斯坦', '愛因斯坦-西拉德信'}\n",
            "{'三國', '蜀漢', '黃忠', '武將'} {'五虎', '三國', '虎', '蜀漢', '黃忠'}\n",
            "{'效用', '妙義山'} {'17世紀', '前17世紀', '效用', '防火道', '妙義山'}\n",
            "{'領域', '獎勵', '人物', '獎盃', '球_(數學)'} {'獎勵', '獎章', '維持公共秩序表現優異獎章', '獎盃', '學術性向資賦優異班'}\n",
            "{'朱一貴', '清朝', '政府', '王禮', '市場', '清朝政府'} {'朱一貴', '清朝', '政府', '市場', '清朝政府'}\n",
            "{'政治人物', '大韓民國', '韓國政治', '高建_(韓國)'} {'韓國電影', '大韓民國', '韓國廣播公司', '韓國總統', '韓國政治'}\n",
            "{'微軟', 'MSDOS', 'DOS', '操作系統'} {'DOS', 'MS-DOS', '微軟研究院', '操作系統', '微軟'}\n",
            "{'地級市', '烏魚子', '宜賓市', '市', '四川省', '酒'} {'烏魚子', '地級市', '宜賓市', '市', '四川省'}\n",
            "{'乳', '冰淇淋', '奶製品', '食物', '原材料'} {'乳', '冰淇淋', '蛋卷冰淇淋', '奶製品', '食物'}\n",
            "{'五穀', '原材料', '冰淇淋', '甜品'} {'冰淇淋', '蛋卷冰淇淋', '蕎麥冰淇淋', '五穀', '甜品'}\n",
            "{'臺灣', '土城區', '法院', '法務部矯正署臺北少年觀護所', '中華民國法務部', '法務部矯正署', '中華民國', '新北市'} {'法務部矯正署臺北看守所', '土城區', '法務部矯正署臺北少年觀護所', '中華民國法務部', '新北市'}\n",
            "{'靜脈', '靜脈注射', '阿托品', '活性度'} {'顛茄', '阿托品', '致譫妄藥', '靜脈注射', '活性度'}\n",
            "{'木衛三十九', '希臘', '名稱', '希臘神話', '神話', '女神'} {'木衛三十九', '希臘', '希臘神話', '神話', '女神'}\n",
            "{'今天', '歐洲', '網球', '米夏埃爾·科爾曼', 'ATP', '雙打'} {'澳大利亞網球公開賽男子雙打冠軍列表', '法國網球公開賽男子雙打冠軍列表', '米夏埃爾·科爾曼', '澳大利亞網球公開賽女子雙打冠軍列表', '澳大利亞網球公開賽混合雙打冠軍列表'}\n",
            "{'密碼', '密碼學', '量化_(信號處理)', '信息', '科學'} {'密碼', '密碼學安全僞隨機數生成器', '密碼學', '信息', '科學'}\n",
            "{'習慣', '家', '人字拖', '赤足'} {'人', '家', '人字拖', '赤足', '習慣'}\n",
            "{'中國', '公安機關', '公安_(消歧義)', '徐翔', '中國人', '證券市場', '徐翔_(投資家)'} {'公安部證券犯罪偵查局', '中國', '徐翔', '中國人', '證券市場'}\n",
            "{'桂皮'} {'原發性高血壓', '良性前列腺增生症', '抗糖尿病藥', '2019冠狀病毒病香港疫情', '高胰島素血癥'}\n",
            "{'歐洲商學院', '政府', 'SETI@home', '加利福尼亞大學柏克萊分校', '計算', '分佈式計算'} {'歐洲商學院', 'SETI@home', '加利福尼亞大學柏克萊分校', '計算', '分佈式計算'}\n",
            "{'鑽石', '硬度', '今天'} {'今天', '藍寶石', '鑽石', '刻劃硬度', '大鑽石'}\n",
            "{'化學元素', '硫'} {'化學元素', '硫', 'D區元素', '氮族元素', '硫酯'}\n",
            "{'宗室', '明朝皇族', '清朝', '明朝', '輔國中尉', '中尉', '八大山人'} {'宗室', '清朝', '明朝', '輔國中尉', '八大山人'}\n",
            "{'派對', '美國', '教條', '作品', '潘恩', '托馬斯', '英國', '托馬斯·潘恩'} {'美國', '不可推搪的黎明生日約會', '教條', '英國', '托馬斯·潘恩'}\n",
            "{'冰山', '北極圈', '北冰洋', '中央', '冰', '荷蘭', '海水', '海冰'} {'北極圈', '北冰洋', '荷蘭', '冰', '海冰'}\n",
            "{'數據壓縮', '圖像壓縮', '計算機科學', '圖像壓縮技術'} {'理論計算機科學', '圖像壓縮', '圖像壓縮技術', '數據壓縮', '計算機科學'}\n",
            "{'微處理器', '單片機', '集成電路'} {'集成電路', '單片系統', '單板機', '微處理器', '單片機'}\n",
            "{'東京', '智庫', '世界', '國家', '報告', '經濟學人信息社'} {'世界', '2019年國際籃聯籃球世界盃', '經濟學人信息社', '2019年世界羽毛球錦標賽', '2019年美洲國家杯'}\n",
            "{'J·D·德魯', '森林', '大學', '校園', '德魯大學', '綽號', '新澤西州'} {'森林', '德魯大學', '威克森林大學', '新澤西州', '費爾裏·狄金生大學'}\n",
            "{'虛構', '集', '史詩', '人物', '角色', '荷馬'} {'虛構', '集', '史詩', '荷馬史詩', '荷馬'}\n",
            "{'波', '海嘯', '地震', '地震波', '次聲波', '聲波', '反射', '檢測'} {'地震預警系統', '海嘯', '地震', '地震波', '聲波'}\n",
            "{'宗教', '新興宗教', '共識決策法'} {'新興宗教樂團NoGoD', '新興宗教', '共識決策法', '國家宗教事務局', '真理共識論'}\n",
            "{'貴之富士三造', '日本', '本地人', '親本', '富士'} {'日本電氣', '日本', '貴之富士三造', '日本軍', '富士'}\n",
            "{'麻省理工學院', '工程學', '應用科學', '世界大戰', '冷戰', '第二次世界大戰', '科學'} {'麻省理工學院', '肯德爾／麻省理工學院站', '世界大戰', '第二次世界大戰', '第二次世界大戰戰後對德意志人的驅逐'}\n",
            "{'90年', '唐朝', '大佛', '樂山大佛'} {'大佛風景區', '唐朝', '樂山大佛', '榮縣大佛', '唐朝與新羅的戰爭'}\n",
            "{'院長', '胡喬木', '喬木_(消歧義)', '中國社會科學院'} {'中國社會科學院大學', '中國社會科學院學部委員', '胡喬木', '中國社會科學院', '院長'}\n",
            "{'中國', '內地', '地方', '杏_(演員)', '中國內地', '香杏麗蘑', '味覺', '蕈類'} {'中國', '雙孢蘑菇', '香杏麗蘑', '花臉香蘑', '蕈類'}\n",
            "{'喬治·華盛頓', '東部', '喬治·赫伯特·沃克·布什', '北美洲', '喬治·羅傑斯·克拉克', '喬治亞州', '伯茲克里克_(喬治亞州)'} {'東部', '北美獵豹', '北美洲', '喬治亞州', '維京人殖民北美'}\n",
            "{'太陽系', '行星', '面_(幾何)', '木星的衛星', '木衛二'} {'不確定存在的太陽系外行星列表', '太陽系', '行星', '木星的衛星', '木衛二'}\n",
            "{'美國', '醜聞', '伊拉克戰爭', '政府', '美國聯邦政府', '伊拉克', '戰爭'} {'伊拉克戰爭', '美軍褻瀆古蘭經事件', '美國聯邦政府', '伊拉克', '戰爭'}\n",
            "{'臺灣國中教育', '模特兒', '九年級', '蔡卓妍', '兼職', '教育階段'} {'臺灣國中教育', '模特兒', '九年級', '少女模特兒', '蔡卓妍'}\n",
            "{'中國', '中國音樂', '音樂類型', '黑豹_(專輯)', '黑豹樂隊', '竇唯', '搖滾'} {'中國', '音樂類型', '黑豹樂隊', '竇唯', '搖滾'}\n",
            "{'盧卡斯·迪奧多斯基'} {'香港保齡球總會', '托斯卡納大公國', '麥卓賢', '盧卡斯·迪奧多斯基', '狄奧多爾·科穆寧·杜卡斯'}\n",
            "{'科_(生物)', '族', '動物', '牛亞科', '生物分類學', '不確定性', '分類學', '確定性'} {'族', '動物', '生物分類學', '牛亞科', '分類學'}\n",
            "{'1998年', '臺灣省政府', '政府', '功能', '臺灣省'} {'外蒙古撤銷自治', '都會自治市鎮', '臺灣省政府', '政府', '臺灣省'}\n",
            "{'慕容復', '武功'} {'姑蘇慕容', '慕容衝', '慕容宣超', '慕容垂', '武功山'}\n",
            "{'導演', '韓式泡菜', '地獄新娘', '臺語電影', '辛奇·羅卡', '辛奇_(臺灣導演)'} {'韓式泡菜', '臺語電影', '怪誕屍新娘', '1965年戰爭損壞法令', '地獄少女'}\n",
            "{'世界', '寒武紀', '寒武紀_(消歧義)', '寒武紀大爆發'} {'世界', '寒武紀', '寒武紀第二期', '寒武紀大爆發', '寒武紀科技'}\n",
            "{'行政區劃', '世界大戰', '北海道', '若竹町', '若竹町_(臺南市)'} {'北海道登陸計劃', '汐見町', '世界大戰', '北海道', '若竹町'}\n",
            "{'望遠鏡', '工具', '自然科學', '天文現象'} {'望遠鏡', '天文現象', '天文學綱要', '天文學史', '自然科學'}\n",
            "{'犬', '入侵物種', '世界', '生命', '世界百大外來入侵種', '物種', '貓'} {'肥貓大戰三小強', '世界羽毛球錦標賽', '史努比狗狗', '中國外來入侵物種名單', '世界百大外來入侵種'}\n",
            "{'路易斯·伊納西奧·盧拉·達席爾瓦', '罷工', '政府'} {'五一六軍事政變', '罷工', '獨裁政體', '政府', '大艦隊'}\n",
            "{'鶺鴒科', '陸地', '日本鶺鴒', '目_(生物)', '屬', '雀形目', '鳥', '日本', '生物分類學', '分類學'} {'鶺鴒科', '日本鶺鴒', '昆蟲', '雀形目', '鳥'}\n",
            "{'工作人員', '航空', '工作', '航空交通管制', '飛機', '交通管制'} {'航空管制員', '航空', '航空交通管制', '飛機', '航空交通管制部'}\n",
            "{'妻子', '俄刻阿諾斯', '提坦', '神', '忒堤斯'} {'俄刻阿諾斯', '神明順成王后', '提坦', '神', '忒堤斯'}\n",
            "{'隕石', '量_(物理)', '面_(幾何)', '天衛四', '撞擊坑', '天衛三'} {'隕石', '天衛四', '撞擊坑', '天衛三', '霍頓隕石坑'}\n",
            "{'練馬師', '松柏塱', '現在', '圍村', '簡炳墀', '本地人', '香港'} {'練馬師', '松柏塱', '香港冠軍練馬師', '實業先鋒', '圍村'}\n",
            "{'吳天威'} {'吳天威', '日本列島', '出版物', '日本', '日本100部隊舊址'}\n",
            "{'古蹟'} {'人', '古物古蹟辦事處', '順其衡', '古蹟', '香港法定古蹟列表'}\n",
            "{'豫劇', '名'} {'名', '京韻大鼓', '開封市豫劇團', '豫劇', '中華豫劇文化促進會'}\n",
            "{'榮譽', '講談社', '美洲', '講談社·中國的歷史', '三年坂火之夢'} {'2006年', '2006年西班牙大獎賽', '2006年摩納哥大獎賽', '2006年國際足協世界盃', '三年坂火之夢'}\n",
            "{'共和國勳章', '突破', '袁隆平', '水稻', '勳章'} {'共和國勳章', '超級雜交水稻', '雜交水稻國家重點實驗室', '袁隆平', '水稻'}\n",
            "{'唐詩三百首', '唐朝末年', '詩人', '李商隱', '唐詩'} {'唐詩三百首', '詩人', '唐詩排行榜', '唐詩', '宋詞三百首'}\n",
            "{'河南省', '中國人民解放軍', '湖北省', '河南省_(中華民國)', '中國人民解放軍武漢軍區'} {'中國人民解放軍湖北省軍區', '河南省', '中國人民武裝警察部隊湖北省總隊', '中國人民解放軍', '中國人民解放軍武漢軍區'}\n",
            "{'銀', '投資型硬幣', '光澤_(礦物)', '硬幣'} {'投資型硬幣', '諾亞方舟銀幣', '香港一元硬幣', '銀', '硬幣'}\n",
            "{'奧莉花·荷西', '荷西·坎諾', '荷西·馬利', '臺灣', '荷西·摩里納', '荷西·韋拿斯基斯', '臺灣荷西統治時期', '荷西·瓦爾迪茲', '荷西·安歷基·山齊士'} {'臺灣', '臺灣荷蘭統治時期', '臺灣荷西統治時期', '臺灣織布', '臺灣戰後時期'}\n",
            "{'獅子座', '黃道', '恆星', '黃道帶'} {'獅子座56', '黃道', '獅子座', '恆星', '黃道帶'}\n",
            "{'入聲', '淮劇', '方言', '語言學', '概念'} {'入聲', '淮劇', '方言', '語言學', '概念'}\n",
            "{'塞薩爾弗朗索瓦·卡西尼·德·蒂裏', '卡西尼', '亨利·卡西尼', '雅克·卡西尼', '喬瓦尼·多梅尼科·卡西尼', '讓多米尼克·卡西尼', '天文臺'} {'帕洛馬山天文臺', '卡西尼', '拉西拉天文臺', '天文臺', '巴黎天文臺'}\n",
            "{'雞', '馴化', '雉科', '人類'} {'雞', '雉科', '野生火雞', '雉屬', '角冠雉'}\n",
            "{'碳氟化合物', '溫室', '化學鍵', '化學', '溫室氣體', '氟化合物'} {'碳氟化合物', '溫室', '化學鍵', '化學', '溫室氣體'}\n",
            "{'設計', '人因工程學', '工程學', '工業設計'} {'工程學', '設計', '人因可靠度', '工業設計', '人因工程學'}\n",
            "{'法定傳染病', '避病院', '臺南避病院', '臺南市', '法院'} {'法定傳染病', '臺南避病院', '臺南市', '法院', '衛生福利部澎湖醫院'}\n",
            "{'清朝', '朝鮮', '宗主權', '中日修好條規', '日本', '馬關條約', '帝國', '甲午戰爭'} {'日韓合併', '日本', '日韓合併條約', '甲午戰爭', '中日'}\n",
            "{'黨', '臺灣', '臺灣團結聯盟', '全國不分區及僑居國外國民立法委員選舉區', '司機', '立法院立法委員選舉', '劉一德', '2020'} {'2020年', '全國不分區及僑居國外國民立法委員選舉區', '2020', '立法院立法委員選舉', '2020年中華民國總統選舉'}\n",
            "{'美國', '本土', '通用電氣', '產業', '美國本土', '地區', '美洲'} {'美國', '本土', '通用電氣', '美國本土', '美洲'}\n",
            "{'論語', '伊斯蘭教法', '法律', '孔子', '人民', '行爲'} {'論語', '伊斯蘭教法', '法律', '人民', '行爲'}\n",
            "{'塞薩爾弗朗索瓦·卡西尼·德·蒂裏', '卡西尼', '亨利·卡西尼', '雅克·卡西尼', '喬瓦尼·多梅尼科·卡西尼', '讓多米尼克·卡西尼', '天文臺', '巴黎天文臺'} {'卡西尼', '巴黎天體物理研究所', '天文臺', '巴黎天文臺', '巴黎第十二大學'}\n",
            "{'伍迪·艾倫', '艾倫'} {'伍迪·艾倫獲獎與提名列表', '艾倫', '伍迪·艾倫', '物', '魔法老師角色列表'}\n",
            "{'蔡英文', '選舉'} {'蔡英文', '選舉', '蔡英文政府', '唯一支持蔡英文', '蔡英文相關爭議'}\n",
            "{'卡通', '作品', '藤島康介'} {'卡通', '作品', '藤島康介', '漫畫雜誌', '漫畫書'}\n",
            "{'衛', '木衛三', '木星的衛星', '南極', '木星', '木衛三十八', '衛星', '木材'} {'木星的衛星', '南極', '木衛三十八', '木星', '衛星'}\n",
            "{'再造人卡辛', '子', '賽博格', '龍', '龍之子製作'} {'再造人卡辛', '原創動畫錄影帶', '賽博格', '龍之子製作', '火影忍者疾風傳動畫集數列表'}\n",
            "{'圖爾卡區', '行政區劃', '利沃夫州', '舊桑比爾區', '利沃夫', '桑比爾', '改革', '桑比爾區', '2020'} {'舊桑比爾', '利沃夫州', '舊桑比爾區', '利沃夫', '桑比爾區'}\n",
            "{'烏克蘭'} {'郵政編碼', '烏克蘭', '烏克蘭歷史', '烏克蘭總統', '烏克蘭語字母'}\n",
            "{'世紀', '歌曲', '聲音', '宗教音樂', '單聲', '天佑國王', '作者', '文藝復興'} {'歌曲', '聲音', '天佑國王', '作者', '文藝復興'}\n",
            "{'麻省理工學院', '工程學', '技能', '第一次世界大戰', '應用科學', '世界大戰', '冷戰', '科學'} {'麻省理工學院', '工程學', '第一次世界大戰', '應用科學', '科學'}\n",
            "{'鴟尾', '宋朝_(人物)', '宋朝'} {'宋朝科技', '宋朝文化', '宋朝', '鴟尾', '帝冠樣式'}\n",
            "{'流產', '胎兒', '死亡'} {'胎兒鏡檢查', '流產', '胎兒', '孕產次數', '產前發育'}\n",
            "{'奧林·艾根', '曼弗雷德·艾根', '加拿大', '艾根訴加拿大案', '行政機關', '案'} {'加拿大', '艾根訴加拿大案', '行政機關', '加拿大總督', '配偶'}\n",
            "{'世界', '寒武紀', '寒武紀_(消歧義)', '寒武紀大爆發', '生物'} {'世界', '寒武紀', '寒武紀第二期', '寒武紀大爆發', '生物'}\n",
            "{'卡呂普索', '王'} {'奧吉吉亞島', '馬克·奧日埃', '王', '卡呂普索', '胡安·曼努埃爾·範吉奧'}\n",
            "{'泰晤士高等教育世界大學排名', '倫敦大學', '泰晤士', '高等教育', '倫敦大學學院', '泰晤士高等教育', '車站', '英國'} {'泰晤士高等教育世界大學排名', '倫敦大學', '倫敦大學學院', '泰晤士高等教育', '英國'}\n",
            "{'人類', '火', '生態系統', '宇宙', '熱'} {'2019冠狀病毒病疫情對日本社會經濟的影響', '火', '2019冠狀病毒病疫情對社交媒體的影響', '宇宙', '火三角'}\n",
            "{'新北市區公車790路線', '金山', '基隆市', '班距', '公車', '終點站_(消歧義)', '新北市', '新北市市區公車'} {'新北市區公車790路線', '龜吼漁港', '基隆市', '新北市', '新北市市區公車'}\n",
            "{'步槍', '自動步槍', '輕機槍'} {'自動步槍', 'ZB26式輕機槍', '步槍', '輕機槍', '賽特邁輕機槍'}\n",
            "{'同性', '越南', '我的愛_(1986年電影)', '以你的心詮釋我的愛', '心', '愛', '電視劇'} {'越南', '以你的心詮釋我的愛', '心', '愛', '電視劇'}\n",
            "{'泉州市'} {'泉州市', '總樓面面積', '島嶼面積列表', '泉州市城東中學', '泉州火車站綜合交通樞紐'}\n",
            "{'永嘉_(消歧義)', '五胡十六國', '永嘉之亂'} {'五胡十六國', '帝', '懷帝', '永嘉之亂', '劉聰'}\n",
            "{'釋迦牟尼', '世界', '佛教'} {'曇摩羅闍一世', '居士佛教', '世界', '佛教', '釋迦牟尼'}\n",
            "{'理論物理學', '盧卡斯數學教授席位', '劍橋大學', '保羅·狄拉克', '柬埔寨', '物理學家', '劍橋', '盧卡斯'} {'劍橋大學', '保羅·狄拉克', '柬埔寨', '物理學家', '劍橋'}\n",
            "{'民族國家', '歐洲', '民族', '國家', '歐洲民族', '語言'} {'民族國家', '歐洲', '民族', '語言', '歐洲民族'}\n",
            "{'時間', '照相機', '數碼相機', '功能', '市場', '分辨率'} {'超高畫質電視', '照相機', '全畫幅數碼單反相機', '數碼相機', '分辨率'}\n",
            "{'天主教會', '科隆'} {'科隆', '第一屆國民大會第一次會議', '天主教會臺灣地區主教團', '宜蘭國際童玩藝術節', '天主教會'}\n",
            "{'少花茴芹', '茴芹', '茴芹屬', '花', '植物'} {'少花茴芹', '茴芹', '茴芹屬', '花', '植物'}\n",
            "{'文明', '歐洲', '希臘', '希臘神話', '神話'} {'歐洲中心主義', '希臘神祇及神話人物列表', '希臘', '希臘神話', '神話'}\n",
            "{'世紀', '戴安娜_(電影)', '威爾士王妃', '戴安娜·瑞格', '戴安娜·艾嘉朗', '威爾斯王妃戴安娜'} {'前19世紀', '威爾士王妃', '19世紀', '威爾斯王妃凱薩琳', '威爾斯王妃戴安娜'}\n",
            "{'位置', '南北朝', '崇義郡', '中國'} {'中國猶太人', '中國', '位置', '南北朝', '崇義郡'}\n",
            "{'肇慶市', '博物館', '梅庵_(肇慶)'} {'第二次肇慶戰鬥', '博物館', '大都會藝術博物館', '肇慶古城牆', '肇慶市'}\n",
            "{'學生', '吸血鬼'} {'吸血鬼後裔', '學生', '吸血鬼戰鬥機', '吸血鬼男孩', '吸血鬼'}\n",
            "{'教條', '法國', '作品', '葬禮', '潘恩', '托馬斯', '英國', '托馬斯·潘恩'} {'托馬斯·潘恩', '教條', '法國', '葬禮', '英國'}\n",
            "{'行政區劃', '西祖谷山村', '德島縣', '三好市_(愛知縣)', '三好市'} {'德島車站', '西祖谷山村', '德島縣', '三好市', '德島城'}\n",
            "{'大西洋', '面積', '加布艾萊西島', '村', '蘇格蘭', '海'} {'大西洋', '面積', '加布艾萊西島', '蘇格蘭', '海'}\n",
            "{'李賦寧'} {'李賦寧', '南京鋼鐵股份', '南京師範大學', '江蘇政府', '第一次南京戰鬥'}\n",
            "{'中國人民解放軍武漢軍區', '軍營', '中國人民解放軍'} {'中國人民解放軍武漢軍區空軍', '軍營', '中國人民解放軍', '中國人民解放軍陸軍第八綜合訓練基地', '中國人民解放軍武漢軍區'}\n",
            "{'阿曼蘇丹', '阿曼', '太平洋', '西亞', '西南_(索馬里聯邦成員州)'} {'阿曼蘇丹', '阿曼', '太平洋', '塞爾維亞南部和東部', '西亞'}\n",
            "{'芝加哥', '花旗銀行', '人口', '總部', '城市'} {'芝加哥', '芝加哥大都市區', '花旗銀行', '芝加哥聯合車站', '總部'}\n",
            "{'奈尼塔爾', '北阿坎德邦', '考試院'} {'北阿坎德邦', '北阿坎德邦行政區劃', '奈尼塔爾總督府', '奈尼塔爾', '考試院'}\n",
            "{'昆蟲', '人類', '白蟻', '農作物', '蝗蟲', '木材'} {'食用昆蟲', '昆蟲', '白蟻', '蝗蟲', '沙漠蝗蟲'}\n",
            "{'氫', '苯', '烴', '芳香烴', '左旋與右旋', '苯乙烯', '乙烯', 'Groove_(音樂)'} {'苯', '氫', '芳香烴', '左旋與右旋', '苯乙烯'}\n",
            "{'起士蛋糕', '艾倫', '午夜巴黎', '伍迪·艾倫', '巴黎', '背景', '幽靈'} {'起士蛋糕', '午夜巴黎', '夢色蛋糕師', '伍迪·艾倫', '巴黎'}\n",
            "{'南匈奴', '君主制', '政權', '匈奴', '南', '漢趙', '劉淵', '漢'} {'南匈奴', '匈奴', '漢趙', '國', '政權'}\n",
            "{'三省六部', '大學', '燕山_(消歧義)', '四川省_(中華民國)', '燕山大學', '面積', '部', '省部共建'} {'三省六部', '大學', '燕山大學', '省部共建', '國立中央大學'}\n",
            "{'憲法法院', '住宅', '總統', '大韓民國'} {'朴槿惠彈劾案', '總統', '大韓民國', '憲法法院', '中華民國總統及副總統公民直接選舉列表'}\n",
            "{'漢化', '姓', '朝廷', '漢服', '金朝', '漢姓', '行爲', '漢'} {'漢化', '漢服', '將軍，不能這樣做', '漢姓', '漢'}\n",
            "{'小利蘭·斯坦福', '朱棣文', '學生', '斯坦福', '史丹佛大學'} {'斯坦福法學院', '朱棣文', '學生', '斯坦福', '史丹佛大學'}\n",
            "{'郵政', '富蘭克林_(維吉尼亞州)', '鳳凰城', '本傑明·富蘭克林', '第一人', '通信系統'} {'郵政', '鳳凰城', '本傑明·富蘭克林', '第一人', '第一商業銀行'}\n",
            "{'拖鞋', '人', '動物', '家', '赤足', '習慣'} {'拖鞋', '動物', '非人化', '家', '赤足'}\n",
            "{'數學家', '哲學家', '維特根斯坦_(消歧義)', '格奧爾格·康托爾', '德國', '奧地利', '集合論', '學術'} {'哲學家', '格奧爾格·康托爾', '德國', '奧地利', '學術'}\n",
            "{'亞洲', '地區', '一生', '張學良'} {'高橋一生', '中島一生', '一生爲奴', '亞洲', '張學良'}\n",
            "{'泉州市'} {'泉州市', '泉州市舶提舉司', '泉州市城東中學', '泉州市文物保護單位'}\n",
            "{'乙醇', '水', '錳酸鉀', '高錳酸鉀', '化學式', '氧化劑'} {'水', '錳酸鉀', '高錳酸鉀', '化學式', '氧化劑'}\n",
            "{'馬耳他', '地中海', '國家', '島嶼國家', '南歐', '島嶼'} {'馬耳他', '地中海', '島嶼國家', '南歐', '島嶼'}\n",
            "{'政策', '制度', '反駁', '隋朝'} {'朝鮮文學', '安南屬明時期', '隋朝', '制度', '貨幣政策'}\n",
            "{'李賦寧', '祖籍'} {'南京大學', '李賦寧', '南京師範大學', '祖籍', '南京醫科大學'}\n",
            "{'墨西哥', '樹枝', '國徽', '墨西哥國徽', '仙人掌', '湖泊', '岩石'} {'墨西哥', '樹枝', '墨西哥國徽', '仙人掌', '湖泊'}\n",
            "{'8頻道_(泰國)', '富士電視臺', '信道'} {'TVB星河頻道', '關西電視臺', '第八頻道', '富士電視臺', '富士電視網'}\n",
            "{'行星', '小行星9027', '絕對星等', '星等', '絕對', '太陽'} {'行星', '小行星9027', '絕對星等', '星等', '太陽'}\n",
            "{'暴雨', '秋紅谷廣場'} {'2012年天津特大暴雨', '暴雨', '深圳6·13特大暴雨', '暴雨警告', '2013年中國西南特大暴雨'}\n",
            "{'三酸甘油酯', '喬治三世', '喬治·桑', '喬治·哈里森', '疾病'} {'喬治三世', '三酸甘油酯', '遺傳性疾病', '呼吸系統疾病', '疾病'}\n",
            "{'人類學', '分支', '民族學', '人類'} {'人類學', '分支', '人類', '民族學', '民族學家'}\n",
            "{'學院', '北京市'} {'學院', '北京理工大學', '米蘭理工大學', '華北理工大學', '北京理工大學附屬中學'}\n",
            "set() {'教學設計', '模組化設計', '微軟模擬飛行系列', '虛擬教研中心', '運算科學'}\n",
            "{'總督府', '民政部', '臺灣', '臺灣總督府', '臺灣總督府民政部'} {'民政部', '總督府', '臺灣總督府', '臺灣總督府總督官房', '臺灣總督府民政部'}\n",
            "{'社會現象', '液體', '現象'} {'社會變遷', '離子液體', '社會研究', '液體', '現象'}\n",
            "{'土地', '李賢_(大學士)', '商輅', '明憲宗'} {'朱子晚年定論', '明憲宗', '黎憲宗', '唐憲宗', '中國早期象徵詩派'}\n",
            "{'王安石', '認識', '社會問題'} {'認識邏輯', '認識', '認識你的客戶', '王安石', '社會問題'}\n",
            "{'臺中市私立曉明女子高級中學', '女性', '臺中市', '教師', '中學'} {'臺中市私立曉明女子高級中學', '臺中市立臺中女子高級中等學校', '女性', '臺中市', '中學'}\n",
            "{'聲爆', '聲音', '物體', '外層空間', '音障', '飛機', '速度', '爆炸'} {'聲爆', '外層空間', '音障', '飛機', '爆炸'}\n",
            "{'地形', '域_(數學)', '京杭大運河', '運河', '嘉興市'} {'地形', '浙東運河', '京杭大運河', '運河', '嘉興市'}\n",
            "{'J·R·R·托爾金', '哈比人', '克里斯托夫·托爾金', '伊迪絲·托爾金', '哈比人歷險記', '哈比', '魔戒', '前傳'} {'哈比人', '哈比人歷險記', '魔戒', '前傳', '魔戒：中土大戰II'}\n",
            "{'颱風', '熱帶氣旋', '氣象廳_(日本)', '亞熱帶', '世界氣象組織', '氣旋', '洋流', '地區', '溫帶'} {'颱風', '太平洋', '亞熱帶', '熱帶風暴尤娜拉', '熱帶氣旋'}\n",
            "{'美國', '休斯敦火箭', '南部', '本名', '美國南部'} {'美國', '休斯敦火箭', 'NBA西南組', '本名', '美國南部'}\n",
            "{'中華人民共和國紡織工業部', '輕工業', '1978年', '現在', '1970年', '北京市', '中華人民共和國', '二輕工業'} {'中華人民共和國紡織工業部', '輕工業', '中央人民政府紡織工業部', '北京市', '中華人民共和國'}\n",
            "{'真理國', '真理', '麻原彰晃', '九州', '九州_(日本)', '日本'} {'真理國', '真理', '麻原彰晃', '九州', '日本'}\n",
            "{'殖民主義'} {'塔拉瓦戰役', '姊妹島', '百萬森林計劃', '去殖民化', '殖民主義'}\n",
            "{'人', '宗教', '工具', '人類', '物種', '自然', '哲學', '現象'} {'宗教', '工具', '人類', '物種', '哲學'}\n",
            "{'太平洋', '鱸形目', '輻鰭魚綱', '桑吉巴蝴蝶魚', '蝴蝶魚科'} {'太平洋', '川紋蝴蝶魚', '輻鰭魚綱', '桑吉巴蝴蝶魚', '蝴蝶魚科'}\n",
            "{'行政法'} {'政府首腦', '政府會計', '行政程序法', '行政機關', '行政法'}\n",
            "{'空氣污染', '物質狀態', '物質', '狀態', '氣體', '空氣', '液體'} {'空氣污染', '物質狀態', '狀態', '氣體', '液體'}\n",
            "{'SETI@home', '程序'} {'SETI@home', '存儲程序', '網絡應用程序', '程序', '計算機程序'}\n",
            "{'哲學家', '羅馬', '羅馬女神', '彌涅耳瓦', '神', '宇宙', '命運', '女神'} {'哲學家', '羅馬', '彌涅耳瓦', '神', '宇宙'}\n",
            "{'大理寺', '宰相', '狄仁傑', '唐朝', '公案_(消歧義)', '中國', '公案小說', '武周'} {'狄仁傑', '唐朝', '中國', '公案小說', '武周'}\n",
            "{'曹魏', '三國', '曹', '北', '領土', '魏', '人口', '政權'} {'曹魏', '三國', '北', '領土', '政權'}\n",
            "{'醋', '原材料', '釀造醋'} {'廢物種類表', '釀造醋', '醋', '原材料', '中華穀類食品工業技術研究所'}\n",
            "{'田橫', '祭海節', '節', '海', '即墨區'} {'田橫', '祭海節', '油畫', '海', '即墨區'}\n",
            "{'喜劇中心', '艾倫', '伍迪·艾倫', '2004年'} {'喜劇中心', '伍迪·艾倫', '2004年摩納哥大獎賽', '2004年歐洲足球錦標賽', '2004年中國大獎賽'}\n",
            "{'獵物', '目', '魚', '鯡形目', '存活率', '大魚_(歌曲)'} {'大魚海棠', '巨口魚科', '魚', '鸚哥魚亞科', '喉盤魚科'}\n",
            "{'漢科科柳山', '安地斯山脈', '玻利維亞'} {'阿雷基帕大區', '安地斯山脈', '卡拉科柳山', '漢科科柳山', '玻利維亞'}\n",
            "{'颱風', '氣象廳_(日本)', '亞熱帶', '世界氣象組織', '氣旋', '洋流', '地區', '日本', '熱帶氣旋'} {'颱風', '亞熱帶', '氣旋', '日本', '熱帶氣旋'}\n",
            "{'科_(生物)', '族', '動物', '族_(化學)', '親屬', '生物分類學', '牛亞科', '分類學'} {'族', '親屬', '生物分類學', '牛亞科', '分類學'}\n",
            "{'煩躁', '神經質', '艾倫', '伍迪·艾倫', '情緒'} {'煩躁', '神經質', '伍迪·艾倫', '情緒', '神經症'}\n",
            "{'可見光', '電', '電流', '電磁波', '螢光燈', '汞', '波長', '燈'} {'可見光', '電流', '電磁波', '螢光燈', '汞'}\n",
            "{'1977年', '學院', '現在', '1982年', '華南師範大學', '名稱'} {'1977年世界羽毛球錦標賽', '學院', '嶺南師範學院', '華南師範大學', '1977年太平洋颱風季'}\n",
            "{'時間', '新聞聯播', '北京時間', '北京市', '晚上'} {'中國', '新聞聯播', '北京時間', '北京市', '晚上'}\n",
            "{'分類學', '屬', '生物分類學'} {'植物學名', '屬', '生物分類法', '生物分類學', '分類學'}\n",
            "{'康沃爾冰川', '今天'} {'迪圖瓦冰原島峯', '北極地質研究所巖', '今天', '北極研究所巖', '康沃爾冰川'}\n",
            "{'毒魚豆', '西', '魚'} {'金凹牙豆娘魚', '毒魚豆', '魚', '麻痺性貝毒', '鸚哥魚亞科'}\n",
            "{'美國', '總統', '林肯_(消歧義)', '美國總統', '蓋茲堡演說', '亞伯拉罕·林肯'} {'美國', '葛底斯堡', '美國總統', '蓋茲堡演說', '亞伯拉罕·林肯'}\n",
            "{'中央民族大學', '中國', '張京澤', '書記', '黨委書記'} {'中央民族大學', '中國', '中央民族大學出版社', '書記', '黨委書記'}\n",
            "{'地形', '中國', '張谷英村', '張谷英', '語氣', '佈局_(圍棋)', '排水'} {'地形', '中國', '張谷英村', '語氣', '排水'}\n",
            "{'高級中學', '臺北市私立道明外僑學校', '臺北市'} {'高級中學', '臺北市', '臺北市私立道明外僑學校', '臺北市私立立人高級中學', '臺北市私立東山高級中學'}\n",
            "{'上海市', '鎖麟囊'} {'皇都戲院', '華懋廣場戲院', '鎖麟囊', '香港已結業戲院列表', '上海展覽中心'}\n",
            "{'查理·曼紐爾', '身材矮小症', '矮子丕平', '丕平·卡洛曼', '查理曼'} {'身材矮小症', '矮子丕平', '丕平·卡洛曼', '蘭登的丕平', '查理曼'}\n",
            "{'透明', '神農', '肢', '內臟'} {'透明', '元神', '透明國際', '內臟', '神農'}\n",
            "{'木衛三', '學術領域大綱', '希臘', '名稱', '希臘神話', '神話'} {'木衛三', '學術領域大綱', '希臘', '希臘神話', '神話'}\n",
            "{'神農', '氏', '數據', '傳說'} {'氏', '神農', '勞勃·華生-瓦特', '發明者悖論', '傳說'}\n",
            "{'澳大利亞', '斯科特·布赫茲', '政黨', '保守主義', '政治人物'} {'澳大利亞', '斯科特·布赫茲', '政黨', '保守主義', '政治人物'}\n",
            "{'沈鈞儒', '進士', '江蘇省_(中華民國)', '嘉興市', '祖籍', '江蘇省'} {'沈鈞儒', '進士', '祖籍', '嘉興市', '江蘇省'}\n",
            "{'悖論', '邏輯', '法律邏輯學'} {'法律邏輯學', '悖論', '邏輯', '半費之訟', '芝諾悖論'}\n",
            "{'最佳男主角', '金雞獎', '黃秋生', '演員', '主人公', '金雞獎最佳男主角', '香港'} {'金雞獎', '香港電影金像獎最佳男主角', '黃秋生', '香港電影導演會年度大獎最佳新演員', '香港'}\n",
            "{'冰島語', '古諾斯語', '古代文學', '文學', '時代', '維京時代', '維京人', '語言', '冰島'} {'冰島語', '古諾斯語', '古代文學', '維京時代', '冰島'}\n",
            "{'亞當·斯密', '資本主義政治經濟學', '政府', '代表作', '功能', '政治經濟學', '國富論', '資本主義', '市場'} {'亞當·斯密', '資本主義政治經濟學', '政府', '政治經濟學', '市場'}\n",
            "{'性', '隼科', '猛禽', '科', '隼', '虛幻_(電視劇)'} {'隼科', '猛禽', '鴨嘴龍科', '蝦虎魚科', '飛蜥科'}\n",
            "{'菌', '粗糙擬迷孔菌'} {'Γ-變形菌', '非生物因子', '薄孔菌屬', '粗糙擬迷孔菌', '櫟迷孔菌'}\n",
            "{'訊息_(蘋果)', '技術', 'ACM', 'SIG'} {'ACM', '低可偵測性技術', '縮略網址服務', 'SIG', '技術'}\n",
            "{'礦產資源', '六盤水市', '中國'} {'六盤水市', '中國', '礦產資源', '美國礦產資源', '中國礦產資源'}\n",
            "{'刺激_(心理學)', '刺激', '性慾低下症', '性愉悅'} {'戀玩偶癖', '性愉悅', '粒細胞-巨噬細胞集落刺激因子', '性高潮', '性慾低下症'}\n",
            "{'高性能轎車', '複合材料', '電腦性能', '玻璃纖維', '材料', '纖維'} {'高性能轎車', '複合材料', '電腦性能', '玻璃纖維', '纖維'}\n",
            "{'行政院院長', '行政院', '臺北市私立華岡藝術學校', '張其昀'} {'行政院', '行政院院長', '中國國民黨祕書長', '臺北市私立華岡藝術學校', '張其昀'}\n",
            "{'康有爲', '中國', '思想', '大同', '大同書', '近代', '思想家', '1901年'} {'中國', '思想', '圖書', '大同', '大同書'}\n",
            "{'通用機槍', '機槍', '自動步槍', '班_(軍事)', '輕機槍', '步槍', '士兵'} {'通用機槍', '機槍', '自動步槍', '步槍', '輕機槍'}\n",
            "{'舊約聖經', '新約', '聖經', '基督教', '猶太教', '猶太教與基督教'} {'新約', '聖經', '世界', '猶太教', '猶太教與基督教'}\n",
            "{'軍銜', '羅榮桓', '元帥', '中華人民共和國元帥', '中國共產黨', '中華人民共和國'} {'軍銜', '羅榮桓', '元帥', '中國共產黨', '中華人民共和國'}\n",
            "{'考試', '隋煬帝', '後宮', '佳麗', '制度'} {'日本後宮制度', '考試', '隋煬帝', '後宮', '制度'}\n",
            "{'中華人民共和國地質礦產部', '1970年', '中華人民共和國'} {'中華人民共和國地質礦產部', '經濟部中央地質調查所', '中華人民共和國中央人民政府成立典禮', '中華人民共和國國家計劃委員會', '中華人民共和國'}\n",
            "{'米蘭達·蘭伯特', '米蘭達·霍布斯', '胡安·米蘭達', '米蘭達·蔻思葛芙', '若奧·米蘭達·德索薩·菲略', '名稱', '天衛五', '米蘭達·凱爾'} {'威廉·莎士比亞', '電影', '女兒', '天衛五', '皇家莎士比亞劇團'}\n",
            "{'臺北', '李祖德', '臺北醫學大學', '牙醫學系', '經營者'} {'臺北', '臺北醫學大學', '臺灣總督府醫學校', '牙醫學系', '經營者'}\n",
            "{'波', '海嘯', '地震', '地震波', '次聲波', '聲波', '反射', '檢測'} {'海嘯', '地震', '地震波', '次聲波', '聲波'}\n",
            "{'中國國民黨', '政治家', '宋教仁', '軍事', '中華民國'} {'中國國民黨副主席', '中國國民黨', '政治家', '宋教仁', '中華民國'}\n",
            "{'灣裏_(臺南市)', '賀龍', '大灣', '文化中心', '賀龍體育文化中心', '建築學'} {'賀龍', '臺北文化體育園區', '賀龍體育文化中心', '南昌起義賀龍指揮部舊址', '建築學'}\n",
            "{'民族國家', '歐洲', '民族', '國家', '歐洲民族', '語言'} {'民族國家', '歐洲', '民族', '語言', '歐洲民族'}\n",
            "{'發展', '佛教', '印度', '佛經'} {'佛經', '佛教', '印度', '佛教歷史', '發展'}\n",
            "{'王震', '鄧小平'} {'中英聯合聲明', '仇外', '鄧小平', '王震', '反宗教改革'}\n",
            "{'俄羅斯', '伏爾加湖', '流域', '國'} {'流域', '伏爾加湖', '俄羅斯國徽', '俄羅斯', '國'}\n",
            "{'許世友', '農村'} {'農村武裝青年', '農村', '農村社區', '許世友', '農村人口外流'}\n",
            "{'后里區', '臺灣', '學校', '聽覺', '臺中市', '臺中市立啓明學校', '教育', '特殊教育'} {'學校', '臺灣', '臺中市', '臺中市立啓明學校', '特殊教育'}\n",
            "{'北漂', '臺北醫學大學', '經營者'} {'李祖德', '臺北醫學大學', '北漂', '臺灣總督府醫學校', '經營者'}\n",
            "{'亞洲', '博古'} {'秦邦憲舊居', '博古', '秦士文', '宣和博古圖錄', '博古葉子'}\n",
            "{'外星人', '程式', '家', 'SETI@home', '個人電腦', '用戶_(計算機)'} {'家庭劇院個人電腦', '家', 'SETI@home', '個人電腦', '外星人'}\n",
            "{'黃蓉', '神鵰俠侶_(動畫)', '射鵰三部曲', '小龍女', '襄陽市', '神鵰俠侶', '楊過', '三部曲'} {'黃蓉', '射鵰三部曲', '小龍女', '神鵰俠侶', '郭靖'}\n",
            "{'強酸', '腐蝕性物質', '濃度', '水', '硫酸', '酸'} {'強酸', '腐蝕性物質', '濃度', '硫酸', '酸'}\n",
            "{'文化', '潮州市'} {'文化', '義大利文化', '種族文化滅絕', '文化滅絕', '潮州市'}\n",
            "{'紀念日', '維納斯', '羅馬'} {'羅馬', '羅馬共和國', '羅馬公民', '維納斯', '天主教羅馬教區'}\n",
            "{'太平洋', '臺北', '太平洋戰爭', '力', '人力', '臺北製糖所', '太平洋_(電視劇)', '戰爭'} {'臺北', '太平洋戰爭', '臺北製糖所', '製糖', '戰爭'}\n",
            "{'黑血', '黑血_(漫畫)', '血液'} {'增血鬼果林', '黑巖善宏', '黑血', '差額選舉', '聖魔之血'}\n",
            "{'商店', '臺灣', '代表', '全買', '動物', '買', '象徵'} {'商店', '動物戰隊獸王者', '全買', '動物', '動物試驗'}\n",
            "{'藥', '溴'} {'溴化汞', '氯化氨基汞', '藥', '溴', '氯溴化汞'}\n",
            "{'網路用戶', '意見', '身分標識方式'} {'訴諸言論自由', '身分標識方式', '言論自由', '網路用戶', '自由意志主義'}\n",
            "{'殖民主義', '領土'} {'非洲的非殖民化', '非洲殖民地', '後殖民主義', '殖民地', '殖民主義'}\n",
            "{'民族國家', '歐洲', '民族', '地區', '歐洲民族', '語言'} {'民族國家', '民族', '地區', '語言', '歐洲民族'}\n",
            "{'力', '教育', '文森特·梵高'} {'博雅教育', '學習時報', '文森特·梵高', '力', '教育'}\n",
            "{'移民', '美國', '粵菜', '興盛', '廚師', '廣東省', '貿易', '菜系'} {'移民', '粵菜', '興盛', '廣東省', '貿易'}\n",
            "{'謝芳', '演員', '中國'} {'中國', '戚本禹回憶錄', '湖北省黃陂王家河', '謝芳', '毛澤東私人醫生回憶錄'}\n",
            "{'奧林·艾根', '曼弗雷德·艾根', '加拿大', '艾根訴加拿大案', '行政機關', '案'} {'加拿大同性婚姻', '加拿大', '艾根訴加拿大案', '行政機關', '配偶'}\n",
            "{'光學顯微鏡', '成像', '凸', '肉眼', '顯微鏡', '透鏡'} {'光學顯微鏡', '成像', '像', '顯微鏡', '透鏡'}\n",
            "{'山脈', '中國', '山西省_(中華民國)', '河北省_(中華民國)', '太行山'} {'山脈', '中國人民解放軍山西省軍區', '中國', '中國山地', '太行山'}\n",
            "{'公海艦隊自沉事件', '商船', '斯卡帕灣'} {'2013年美國廣播公司辱華事件', '三七事件', '公海艦隊自沉事件', '斯卡帕灣', '公海艦隊'}\n",
            "{'獎勵', '1927年', '索爾·勒維特', '索爾維會議', '會議', '布魯塞爾', '諾貝爾獎'} {'索爾', '索爾維會議', '會議', '布魯塞爾', '諾貝爾獎'}\n",
            "{'科_(生物)', '族', '動物', '親屬', '生物分類學', '牛亞科', '分類學'} {'族', '親屬', '生物分類學', '牛亞科', '分類學'}\n",
            "{'汶萊', '東南亞', '邦', '國家'} {'萬代蘭屬', '東南亞國家聯盟', '東南亞', '國家', '汶萊華人'}\n",
            "{'喬治·費茲傑羅', '大亨小傳_(2013年電影)', '薇拉·費茲傑羅', '了不起的蓋茨比', '弗朗西斯·斯科特·菲茨傑拉德'} {'雜誌', '耶魯大學名人錄', '編輯', '弗朗西斯·斯科特·菲茨傑拉德', '電影手冊'}\n",
            "{'考試', '宰相', '制度', '隋煬帝'} {'宰相', '考試', '唐朝宰相', '隋煬帝', '制度'}\n",
            "{'昆蟲', '花粉', '捕食', '角色'} {'昆蟲', '昆蟲養殖', '有益生物', '捕食', '花粉'}\n",
            "{'大五碼', 'GNU Octave', '可解羣', '分佈式參數系統', '德拉姆上同調', '第一屆國民大會第一次會議', 'Mozilla Thunderbird', '開放街圖', '秦煌', '外爾特徵標公式'} {'分佈式參數系統', '楊-米爾斯存在性與質量間隙', 'Θ函數', '德拉姆上同調', '外爾特徵標公式'}\n",
            "{'電路板', '集成電路', '蘋果公司', '蘋果_(消歧義)', '組合', '個人電腦'} {'蘋果全球開發者大會', '1977年國家聯盟冠軍賽', 'AMD晶片組列表', '1977–78年歐洲盃賽冠軍盃', '1977年美國聯盟冠軍賽'}\n",
            "{'總督', '天皇', '臺灣', '臺灣總督', '日治時期'} {'總督', '臺灣', '臺灣總督府', '臺灣日治時期高等教育機關', '臺灣總督'}\n",
            "{'科學史', '領域', '科學革命的結構', '托馬斯·庫恩'} {'領域', '科學革命的結構', '托馬斯·庫恩', '科學革命', '科學史'}\n",
            "{'列昂尼德·勃列日涅夫', '勃列日涅夫_(消歧義)', '蘇聯', '政權'} {'蘇聯', '蘇聯最高蘇維埃', '俄羅斯在敘利亞內戰的軍事介入', '列昂尼德·勃列日涅夫', '政權'}\n",
            "{'配子', '分裂_(生物學)', '個體', '蒲公英'} {'配子', '個體', '蒲公英', '減數分裂', '異配生殖'}\n",
            "{'小米', '鐵器時代'} {'青銅時代', '小米集團', '小米', '青銅時期晩期崩潰', '鐵器時代'}\n",
            "{'馬詩慧', '香港', '模特兒', '雙性戀'} {'馬詩慧', '安琪拉·琳德沃', '模特兒', '香港', '雙性戀'}\n",
            "{'九江市', '人口'} {'世界人口', '中國大陸人口', '九江市', '美國人口史', '人口'}\n",
            "{'獅', '法語', '獨角獸', '紋章', '英國皇家徽章', '古法語', '英國'} {'獅', '法語', '紋章', '英國皇家徽章', '英國'}\n",
            "{'演藝界', '相關性', '日本', '竹內瑪莉亞'} {'竹內瑪莉亞', '日本列島', '日本', '不思議的桃子派', '日本軍'}\n",
            "{'力學', '進步_(雜誌)', '經典力學', '研究'} {'經典力學', '原創研究', '力學', '進步時代', '研究'}\n",
            "{'世紀', '21世紀', '組別_(體育)', '2004年', '維基百科', '電子藝術大獎'} {'世紀', '21世紀', '2004年摩納哥大獎賽', '維基百科', '電子藝術大獎'}\n",
            "{'考古學', '希臘', '故事', '神', '藝術品', '證明', '希臘神話', '神話'} {'考古學', '故事', '神', '證明', '希臘神話'}\n",
            "{'性', '隼科', '猛禽', '動物', '科', '鳥', '肉食性動物', '隼'} {'隼科', '猛禽', '鳥', '肉食性動物', '鳥龍鳥科'}\n",
            "{'法定傳染病', '避病院', '臺南避病院', '臺南市', '醫院'} {'臺南避病院', '國立臺灣大學醫學院附設醫院', '法定傳染病', '臺南市', '醫院'}\n",
            "{'河', '水源', '中國人', '上游', '汾河', '母親', '太原市'} {'中國人', '上游', '汾河', '母親', '太原市'}\n",
            "{'藤子·F·不二雄', '奇天烈大百科', '本名', '哆啦A夢', '漫畫家', '德國', '血型'} {'百科全書', '哆啦A夢', '德國', '漫畫家', '藤子·F·不二雄'}\n",
            "{'電子科技大學'} {'聖彼得堡國立電子科技大學', '龍華科技大學', '電子科技大學', '桂林電子科技大學', '中華科技大學'}\n",
            "{'宗教', '宗教哲學', '哲學', '學術'} {'人', '宗教信仰哲學', '宗教哲學', '哲學', '學術'}\n",
            "{'美國', '美國總統', '總統', '威廉·亨利·哈里森'} {'美國', '威廉·亨利·哈里森', '任內逝世的美國總統', '美國總統', '1840年威廉·亨利·哈里森競選美國總統'}\n",
            "{'波蘭', '盧卡斯·迪奧多斯基'} {'馬歇伊·茹拉夫斯基', '雅庫布·瓦夫日尼亞克', '馬裏烏什·萊萬多夫斯基', '波蘭', '盧卡斯·迪奧多斯基'}\n",
            "{'葡萄', '果實'} {'葡萄', '果實', '細本葡萄', '葡萄栽培', '山葡萄'}\n",
            "{'克里斯·約翰遜', '斯蒂夫·約翰遜', '肖恩·約翰遜', '塞繆爾·約翰遜', '鮑里斯·約翰遜', '林登·約翰遜'} {'低強度戰爭', '鮑里斯·約翰遜', '英格里亞戰爭', '投石黨之亂', '八十年戰爭'}\n",
            "{'微型計算機', '單片機'} {'集成電路', '微型計算機', '單板機', 'COP8', '單片機'}\n",
            "{'超人', '動作漫畫'} {'超人帝拿', '超人', '超人II', '動作漫畫', '初代超人力霸王'}\n",
            "{'字', 'Min', '複數', '分鐘', '圖示_(範疇論)'} {'S', 'Min', '共軛複數', '複數', '分鐘'}\n",
            "{'楚瓦什人', '少數民族', '拼音文字', '日耳曼語族', '俄羅斯', '文字'} {'楚瓦什人', '拼音文字', '少數民族', '日耳曼語族', '俄羅斯'}\n",
            "{'世紀', '藝術', '北歐', '20世紀', '作品', '文學', '藝術類型', '表現主義', '奧地利'} {'文學', '藝術類型', '表現主義', '印象派', '畫家'}\n",
            "{'羅馬', '摧毀者', '羅馬女神', '彌涅耳瓦', '宇宙', '命運', '女神'} {'羅馬', '彌涅耳瓦', '宇宙', '命運', '女神'}\n",
            "{'園林', '園林設計', '價值觀'} {'景觀設計', '價值觀', '園林', '當時欲嫁', '園林設計'}\n",
            "{'史考特·普魯特', '蒙哥馬利·史考特', '雷利·史考特', '歐洲', '史考特·朗恩', '克莉斯汀·史考特·湯瑪斯', '洲', '麥可·史考特', '史考特·詹森', '西恩·威廉·史考特'} {'森林', '南極洲行政區旗幟列表', '歐洲', '洲', '南極洲'}\n",
            "{'豫劇'} {'臺灣豫劇團', '中華豫劇文化促進會', '豫劇', '洛陽市豫劇團', '暢銷書'}\n",
            "{'民族國家', '歐洲', '民族', '地區', '歐洲民族', '語言'} {'民族國家', '民族', '地區', '語言', '歐洲民族'}\n",
            "{'甘尼夫卡_(布利茲紐基區)', '布利茲紐基區', '布利茲紐基'} {'波蘭戰役', '布利茲紐基區', '英格蘭人', '阿勞卡尼亞戰爭', '波蘭國家鐵路'}\n",
            "{'官僚', '政策', '考試', '隋煬帝', '制度'} {'官僚', '政策', '考試', '隋煬帝', '制度'}\n",
            "{'社會主義初級階段', '理論', '中國', '鄧小平理論', '社會主義', '鄧小平', '中國共產黨'} {'社會主義初級階段', '中國', '鄧小平理論', '社會主義', '中國共產黨'}\n",
            "{'木衛四', '衛', '地表', '處_(佛教)', '木星的衛星', '海', '木材'} {'木衛四', '衛', '地表', '木星的衛星', '海'}\n",
            "{'中正區_(臺北市)', '臺北市客家文化主題公園', '臺北市', '臺南市'} {'臺北市立美術館', '臺北市', '臺南市', '北投溫泉博物館', '臺北市客家文化主題公園'}\n",
            "{'2013年', '醫療疏失', '全球', '死亡'} {'國立臺灣大學醫學院附設醫院', '醫療事故', '周產期死亡', '醫療疏失', '死亡'}\n",
            "{'美國風情畫', '弗朗西斯·科波拉'} {'美國風情畫', '美國', '美國獨立電影', '弗朗西斯·科波拉', '美國司法部長'}\n",
            "{'諾維亞語', '語言'} {'古諾斯語', '諾維亞語', '帕維亞', '語言', '諾森布里亞王國'}\n",
            "{'威尼斯', '金獅獎', '侯孝賢', '電影', '電影節'} {'威尼斯', '金獅獎', '侯孝賢', '電影', '電影節'}\n",
            "{'美國', '總統', '醜聞', '伊拉克戰爭', '美國總統', '伊拉克', '戰爭'} {'伊拉克戰爭', '美軍褻瀆古蘭經事件', '美國總統', '伊拉克', '戰爭'}\n",
            "{'物質', '今天', '藍絲黛爾石', '鑽石', '樞要寶石', '硬度'} {'物質', '藍絲黛爾石', '碳的同素異形體', '鑽石', '樞要寶石'}\n",
            "{'美洲', '電鰻', '克氏無齒翎電鰻'} {'克氏無齒翎電鰻', '委內瑞拉短身電鰻', '電鰻', '美洲', '美洲鴕鳥屬'}\n",
            "{'桃園市', '南部', '楊梅區', '楊梅_(大字)', '中華民國'} {'楊梅車站', '桃園區', '桃園市', '桃園市立楊梅國民中學', '桃園縣'}\n",
            "{'汽車品牌列表', '奧迪', '環'} {'奧迪', '奧迪A5', '汽車品牌列表', '斯柯達汽車', '奧迪A6'}\n",
            "{'鐒', '艾伯特·吉奧索', '名稱'} {'愛爾蘭國家的名稱', '檔案名稱', '阿爾伯特親王', '鐒', '阿拉貢的阿方索'}\n",
            "{'謝長廷', '民主進步黨', '民進', '黨'} {'民主進步黨立法院黨團', '黨', '謝長廷', '民進', '民主進步黨'}\n",
            "{'索爾', '索爾_(漫威漫畫)', '費爾南多·索爾', '雷神', '國家', '神', '雷神_(電影)', '安全'} {'雷神', '雷暴', '神', '深入敵後：雷神戰爭', '馬車'}\n",
            "{'濟寧市', '鐵路車站', '塘湖站', '郵政編碼'} {'塘湖站', '濟寧市', '鐵路車站', '濟寧站', '臺灣鐵路車站列表'}\n",
            "{'父親', '第七代史賓賽伯爵阿爾伯特·史賓賽', '第二代史賓賽伯爵喬治·史賓賽', '第四代史賓賽伯爵腓特烈·史賓賽', '第八代史賓賽伯爵約翰·史賓賽', '第九代史賓賽伯爵查爾斯·史賓賽', '威爾斯王妃戴安娜', '黛安娜'} {'父親', '威爾士王妃', '威爾斯王妃凱薩琳', '威爾斯王妃戴安娜', '黛安娜'}\n",
            "{'奈尼塔爾', '北阿坎德邦', '法院', '北'} {'北阿坎德邦', '北', '奈尼塔爾總督府', '法院', '奈尼塔爾'}\n",
            "{'司', '高等教育', '教育', '臺北市私立華岡藝術學校', '張其昀'} {'司', '高等教育', '教育', '臺北市私立華岡藝術學校', '張其昀'}\n",
            "{'軟件', '軟件測試', '方法'} {'軟件測試模型', '軟件版本號', '方法', '軟件', '軟件測試'}\n",
            "{'君主', '字', '晉元帝', '東晉', '琅邪王', '琅琊'} {'晉元帝', '東晉', '琅琊', '琅邪王', '君主'}\n",
            "{'卡路里', '醃', '法', '泡菜', '韓式泡菜', '世界', '健康', '問題'} {'泡菜', '韓式泡菜', '世界', '健康', '瑞典鹽醃鯡魚'}\n",
            "{'西晉', '通史', '司馬光', '紀傳體', '司馬孚'} {'西晉', '通史', '司馬光', '紀傳體', '司馬孚'}\n",
            "{'90年', '大佛', '樂山大佛'} {'BTR-90', '前90年代', '樂山大佛', '90年代', 'T-90主戰坦克'}\n",
            "{'附果', '人類', '果實', '果', '物', '草莓'} {'附果', '草莓派', '果實', '果', '草莓'}\n",
            "{'古希臘', '古希臘哲學', '希臘', '古代史', '斯多葛主義', '哲學'} {'古希臘哲學', '古希臘', '希臘', '斯多葛主義', '哲學'}\n",
            "{'臺灣', '臺北醫學大學', '經營者'} {'李祖德', '臺北醫學大學', '臺灣總督府醫學校', '臺北醫學大學附設醫院', '經營者'}\n",
            "{'球', '羅盤方位'} {'洛杉磯湖人歷屆冠軍成員', '費城76人歷屆冠軍成員', '羅盤方位', '2016年夏季奧林匹克運動會射箭比賽', '哪裏5打抗'}\n",
            "{'武宗', '真金', '元武宗', '忽必烈', '妃', '部長', '曲樞', '元朝'} {'武宗', '元武宗', '順帝', '元朝', '元順帝'}\n",
            "{'貨幣', '帝國', '水力帝國', '人口', '人口自然增長率'} {'貨幣', '帝國', '殖民主義', '水力帝國', '羅馬帝國的衰落'}\n",
            "{'竹內瑪莉亞', '女性', '山下達郎', '日本', '歌手', '創作歌手', '歌手·當打之年'} {'竹內瑪莉亞', '女性', '山下達郎', '歌手', '日本'}\n",
            "{'紅軍', '派系', '許世友'} {'許世友反革命集團案', '許世友', '亞口夏山紅軍烈士墓', '紅軍入侵喬治亞', '印度尼西亞鬥爭民主黨'}\n",
            "{'萬華區', '臺北市', '臺北市萬華區老松國民小學', '建築學'} {'臺北市', '臺北市萬華區福星國民小學', '臺北市萬華區老松國民小學', '臺北市萬華區龍山國民小學', '萬華區'}\n",
            "{'國', '中國', '一邊一國'} {'中國', '邊', '國', '一邊一國', '中國統一聯盟'}\n",
            "{'處_(佛教)', '文化大革命', '親屬', '定居', '吸血鬼'} {'吸血鬼後裔', '文化大革命', '親屬', '親愛的百年客人', '吸血鬼'}\n",
            "{'臺北市立聯合醫院', '妻子', '臺北', '新北市政府', '聯合醫院', '醫院', '新北市', '院長'} {'臺北市立聯合醫院', '臺北', '新北市政府', '聯合醫院', '新北市'}\n",
            "{'馮端', '晶體', '中國人', '中國'} {'中國科學技術史', '中國', '晶體', '中國人', '馮端'}\n",
            "{'雞', '馴化', '人類', '飛行', '鳥'} {'雞', '馴化', '鳥', '飛行', '政府飛行服務隊'}\n",
            "{'戒嚴', '中華民國', '自由', '報紙'} {'戒嚴', '「拒絕紅色媒體、守護臺灣民主」遊行', '報紙', '中華民國憲兵扣押戒嚴時期文獻案', '中華民國國軍'}\n",
            "{'雉雞', '馴化', '差異_(哲學)', '羽毛'} {'雉雞', '雉雞苑', '馴化', '彩雉', '羽毛'}\n",
            "{'總督', '臺灣', '天皇', '草根', '臺灣總督', '日治時期'} {'總督', '臺灣日治時期', '臺灣日治時期行政區劃', '臺灣日治時期高等教育機關', '臺灣總督'}\n",
            "{'蔡英文', '臺灣', '臺灣民衆黨', '朱立倫', '民衆黨'} {'蔡英文', '臺灣民衆黨參政選舉列表', '臺灣民衆黨', '2012年倫敦市長選舉', '民衆黨'}\n",
            "{'微分方程', '地方', '微積分學', '問題'} {'多元微積分', '問題', '微積分學', '微分方程', '全微分方程'}\n",
            "{'以色列', '巴哈歐拉'} {'巴哈歐拉的使徒', '巴哈歐拉陵寢', '巴哈伊信仰', '以色列', '巴哈歐拉'}\n",
            "{'行憲紀念日', '行憲', '犯罪', '監獄'} {'行憲紀念日', '周', '行憲', '監獄', '犯罪'}\n",
            "{'溶液', '氧化鈉', '氫氧化鈉', '鹼石灰'} {'鹼石灰', '亞當斯脫羧反應', '氧化鈉', '溶液', '氫氧化鈉'}\n",
            "{'北马里亞納羣島', '氣候', '面積', '雨'} {'熱帶乾溼季氣候', '面積', '柯本氣候分類法', '氣候', '雨'}\n",
            "{'中央銀行', '經濟'} {'非洲經濟共同體', '中央銀行', '歐洲經濟共同體', '經濟', '歐亞經濟共同體'}\n",
            "{'學校', '1940年代', '年代', '英國手語', '手語', '英國'} {'學校', '手語拼寫法', '英國手語', '手語', '英國'}\n",
            "{'電荷', '夸克'} {'電荷', '下夸克', '上夸克', '夸克', '夸克模型'}\n",
            "{'大足', '大足石刻', '中國'} {'南朝陵墓石刻', '大足', '中國', '南關帝廟巷明清住宅', '大足石刻'}\n",
            "{'陳韻文', '今天', '編劇', '音樂節目', '香港電臺', '香港'} {'多倫多華裔小姐競選', '香港人民廣播電臺', '加拿大國家電視塔', '香港電臺', '香港'}\n",
            "{'國際LGBTI聯合會', '現在', '目標'} {'國際LGBTI聯合會', '可持續發展目標', '現在', '目標受衆', '目標'}\n",
            "{'環境', '爬行動物', '動物'} {'羊膜動物', '爬行動物', '動物', '環境', '似哺乳爬行動物'}\n",
            "{'音樂產業', '竹內瑪莉亞'} {'早安少女組。', '竹內瑪莉亞', '純愛狂詩曲', '中森明菜', '叱吒樂壇流行榜頒獎典禮'}\n",
            "{'章伯鈞', '中國', '政治家', '體育運動', '1957年'} {'章伯鈞', '1957年歐洲歌唱大賽', '中國', '政治家', '1957年世界大賽'}\n",
            "{'淡水魚', '世界', '類', '魚', '骨鰾類'} {'淡水魚', '世界淡水魚列表', '世界', '魚', '骨鰾類'}\n",
            "{'陶瓷', '電荷', '材料', '電話', '電子陶瓷'} {'陶瓷', '電荷', '材料', '電話', '電子陶瓷'}\n",
            "{'世界', '國內', '首都', '冰島', '城市'} {'世界之最列表', '世界', '中華人民共和國特大城市列表', '首都', '冰島'}\n",
            "{'鐵路車站', '汝州站', '河南省'} {'廟下站', '廣州站', '汝州站', '河南省', '鐵路車站'}\n",
            "{'季風', '臺灣', '臺灣氣候', '副熱帶季風氣候', '氣候', '熱帶季風氣候', '熱帶'} {'臺灣', '臺灣氣候', '副熱帶季風氣候', '氣候', '熱帶季風氣候'}\n",
            "{'江都區', '舉事', '618年', '楊素', '618', '隋煬帝'} {'7月21日', '楊素', '618', '隋煬帝', '隋與吐谷渾之戰'}\n",
            "{'香港歌手列表', '周慧敏·新曲+精選', '周慧敏', '方文琳', '歌手', '歌手·當打之年', '周慧敏·最愛V25', '香港'} {'香港歌手列表', '周慧敏', '歌手', '周慧敏·最愛V25', '香港'}\n",
            "{'美國', '密西根大學'} {'美國', '密西根大學', '密西根州立大學', '密西根大學羅斯商學院', '密西根大學狼獾隊'}\n",
            "{'北', '朝代', '六朝', '東晉', '琅琊', '琅邪王', '戰爭'} {'南京市', '六朝', '戰爭', '東晉', '琅琊'}\n",
            "{'美國', '先驅', '化石森林', '黑色電影', '電影', '劇場藝術', '美國電影'} {'化石森林', '黑色電影', '電影', '劇場藝術', '美國電影'}\n",
            "{'葉國華_(香港政治人物)', '全國人民代表大會代表', '主席', '人民代表大會', '全國人民代表大會', '國', '葉國華', '香港'} {'全國人民代表大會代表', '主席', '全國人民代表大會', '中國人民政治協商會議全國委員會香港地區委員', '葉國華'}\n",
            "{'運河', '世界遺產', '大運河', '京杭大運河'} {'京杭大運河', '大運河站', '世界遺產', '運河', '大運河'}\n",
            "{'國際LGBTI聯合會', '性別特徵', '身體', '美國人', '行爲', '人權'} {'國際LGBTI聯合會', '性別特徵', '自由、平等、博愛', '美國人', '人權'}\n",
            "{'小龍女', '江南', '楊過'} {'蛇發女怪龍屬', '藤峽盜亂', '小龍女', '楊過', '七世夫妻之梁山伯與祝英臺'}\n",
            "{'ATP', '德意志裔人', '今天'} {'溫布爾登網球錦標賽男子單打冠軍列表', '澳大利亞網球公開賽女子單打冠軍列表', '美國網球公開賽女子單打冠軍列表', '溫布頓網球錦標賽女子單打冠軍列表', '法國網球公開賽男子單打冠軍列表'}\n",
            "{'獅', '獨角獸', '紋章', '英國皇家徽章', '文字', '英國'} {'獅', '獨角獸', '紋章', '英國皇家徽章', '英國'}\n",
            "{'楚瓦什人', '文字', '字母', '少數民族', '楚瓦什共和國', '人種', '斯拉夫人', '俄羅斯', '西裏爾字母'} {'楚瓦什人', '字母', '楚瓦什共和國', '斯拉夫人', '俄羅斯'}\n",
            "{'海因裏希·馬克思', '卡爾·馬克思', '馬克思主義', '馬克思·多爾穆瓦站', '馬克思主義政治經濟學', '資本論', '政治經濟學', '格魯喬·馬克思'} {'卡爾·馬克思', '馬克思主義', '馬克思主義政治經濟學', '資本論', '政治經濟學'}\n",
            "{'臺北101', '唐朝'} {'唐朝', '臺北最High新年城', '臺北101', '唐朝與新羅的戰爭', '臺北南山廣場'}\n",
            "{'化合價', '晶體', '硫'} {'化合價', '晶體', '多閘極電晶體', '金化合物', '着色菌目'}\n",
            "{'代謝', '能量', '睡眠', '代謝途徑', '離子'} {'代謝', '能量', '睡眠', '代謝途徑', '離子'}\n",
            "{'鞋', '家', '習慣', '赤足'} {'鞋', '人', '家', '赤足', '習慣'}\n",
            "{'乾草市場', '芝加哥', '工人', '警察', '勞動節', '國際勞動節'} {'芝加哥', '警察', '1919年芝加哥種族暴動', '勞動節', '國際勞動節'}\n",
            "{'麻', '豆瓣醬', '鷹嘴豆', '原材料', '豆腐', '麻婆豆腐', '豆製品'} {'麻', '豆瓣醬', '鷹嘴豆', '麻婆豆腐', '豆製品'}\n",
            "{'加盟共和國', '歧義', '土庫曼斯坦', '蘇聯'} {'歧義', '加盟共和國', '蘇聯加盟共和國國徽', '蘇聯', '蘇聯加盟共和國國旗'}\n",
            "{'抄襲', '事件'} {'循環複雜度', '抄襲', '生物複雜性的演變', '複雜指令集電腦', '中央廣播電視總檯春節聯歡晚會相關爭議'}\n",
            "{'惠靈頓', '世界', '博物館', '首都', '新西蘭'} {'惠靈頓', '世界', '博物館', '首都', '新西蘭'}\n",
            "{'好奇', '人', '草地', '宗教', '人類', '金屬', '自然', '哲學', '現象'} {'好奇', '科學哲學', '宗教', '超自然現象', '哲學'}\n",
            "{'經營者', '臺北市', '臺北醫學大學', '醫生'} {'臺北市', '李祖德', '臺北醫學大學', '臺灣總督府醫學校', '經營者'}\n",
            "{'首飛', '曼哈頓', '泰坦尼克號'} {'曼哈頓大橋', '曼哈頓上城', '泰坦尼克號', '曼哈頓中城', '曼哈頓'}\n",
            "{'學校', '男女', '聖保羅書院', '銀色·性·男女', '香港'} {'學校', '香港基督教女青年會', '聖保羅書院', '香港國際學校列表', '香港'}\n",
            "{'Fairytale', '小說', 'Fairytale_(Kalafina歌曲)', 'FAIRYTALE', '短篇小說', '文類', '童話', '西方'} {'法國', '小說', '短篇小說', '文類', '童話'}\n",
            "{'圖書', '小紅書', '毛主席語錄', '書包', '色', '紅色', '波長'} {'圖書', '小紅書', '毛主席語錄', '書包', '紅色'}\n",
            "{'黃初平', '飄然臺', '藝術品', '白髮'} {'白髮魔女傳之明月天國', '黃初平', '藝術品', '飄然臺', '白髮'}\n",
            "{'宋神宗', '高宗', '南宋', '宋朝', '北宋', '皇帝', '兒子', '宋高宗'} {'宋神宗', '南宋', '宋朝', '北宋', '宋高宗'}\n",
            "{'1996年', '蔡英文', '元首_(納粹德國)', '東亞', '中華民國'} {'蔡英文', '蔡英文政府', '2020年民主進步黨總統提名選舉', '東亞', '中華民國'}\n",
            "{'中國', 'BBS', '水木清華BBS', '水木', '教育', '清華大學'} {'中國', '清華大學第二教室樓', '水木清華BBS', '清華大學第一教室樓', '2012年夏季奧林匹克運動會中國香港代表團'}\n",
            "{'民俗', '漫畫', '天皇', '態度', '天武天皇', '日本', '神話', '日本神話'} {'民俗', '漫畫', '天武天皇', '日本', '日本神話'}\n",
            "{'公路', '郵政', '富蘭克林_(維吉尼亞州)', '費城', '系統', '高速公路', '本傑明·富蘭克林', '第一人'} {'公路', '費城', '高速公路', '本傑明·富蘭克林', '第一人'}\n",
            "{'臺北101', '臺北', '90年'} {'BTR-90', '臺北', '90年代', '臺北101', '臺北南山廣場'}\n",
            "{'世紀', '印象主義音樂', '法國', '印象派', '年代'} {'印象主義音樂', '法國', '19世紀', '印象派', '年代'}\n",
            "{'武將', '三國', '關羽', '蜀漢', '馬超', '張飛', '三國演義', '黃忠'} {'三國', '關羽', '蜀漢', '馬超', '黃忠'}\n",
            "{'雞', '馴化', '雉科', '人類'} {'雞', '馴化', '雉科', '雉屬', '角冠雉'}\n",
            "{'組織_(生物學)', '參選人', '奧修', '達爾·斯蒂芬斯', '選民', '餐廳', '1984年羅傑尼希教生物恐怖攻擊', '沃斯科縣'} {'選舉', '1984年太平洋颱風季', '2020年中華民國立法委員選舉', '線蟲捕食菌', '1984年羅傑尼希教生物恐怖攻擊'}\n",
            "{'過去', '恐慌', '吸血', '生物', '紫質症', '卟啉', '一起_(政黨聯盟)', '吸血鬼'} {'吸血', '紫質症', '恐慌', '卟啉', '吸血鬼'}\n",
            "{'臺北市議會', '臺北市_(省轄市)', '新黨', '臺北', '清潔工人'} {'新黨', '2022年國際足協世界盃', '2020年新加坡大選', '臺北', '2019年提前國會大選法令'}\n",
            "{'突厥', '卡拉卡爾帕克斯坦共和國', '卡拉卡爾帕克人', '突厥語族', '本地人', '斯坦'} {'突厥', '卡拉卡爾帕克斯坦共和國', '卡拉卡爾帕克人', '突厥語族', '突厥國家組織'}\n",
            "{'胡利亞卡', '祕魯', '城市'} {'廣州十三行', '夔東十三家', '胡利亞卡', '祕魯', '人口增長率'}\n",
            "{'歐洲中心主義', '信念', '歐洲', '世界', '國際標準化組織', '主義', '度_(角)'} {'歐洲中心主義', '世界', '國際標準化組織', '主義', '信念'}\n",
            "{'遠東集團_(臺灣)', '學校', '組織創始人', '遠東集團', '徐有庠'} {'學校', '組織創始人', '遠東集團', '舊制中學校', '徐有庠'}\n",
            "{'電', '電流', '燈', '螢光燈', '汞', '短波', '波長', '紫外線'} {'可見光', '電流', '螢光燈', '汞', '紫外線'}\n",
            "{'美國物理學會', '美國', '女性', '吳健雄', '物理學家', '女王', '核子'} {'美國物理學會', '美國', '物理學家', '女王', '核子'}\n",
            "{'隕石', '量_(物理)', '面_(幾何)', '天衛四', '撞擊坑', '天衛三'} {'隕石', '天衛四', '撞擊坑', '天衛三', '霍頓隕石坑'}\n",
            "{'奇天烈大百科', '本名', '哆啦A夢', '日本', '藤子·F·不二雄', '雕塑家'} {'百科全書', '本名', '哆啦A夢', '日本', '藤子·F·不二雄'}\n",
            "{'藥理學', '化學', '精神狀態', '身體質量指數', '精神', '疾病', '藥物', '化學物質'} {'藥理學', '化學', '疾病', '藥物', '化學物質'}\n",
            "{'刺激_(心理學)', '刺激', '性高潮', '性愉悅'} {'性高潮控制', '性愉悅', '強制性高潮', '性高潮障礙', '性高潮'}\n",
            "{'光速', '宇宙', '速度', '理論物理學'} {'理論物理學', '光速', '超光速運動', '速度', '宇宙'}\n",
            "{'北京理工大學'} {'北京理工大學良鄉校區', '北京理工大學', '華北理工大學', '北京理工大學附屬中學', '重慶理工大學'}\n",
            "{'王室', '宦官', '血親', '過去'} {'王室', '皇室配偶', '皇室婚禮', '宦官', '血親'}\n",
            "{'黃子韜', '中國', '大韓民國', '歌手', '歌手·當打之年'} {'中國猶太人', '黃子韜', '中國', '大韓民國', '歌手'}\n",
            "{'立夏', '夏季'} {'夏至', '因爲是夏天！', '路卡的夏天', '立夏', '夏季'}\n",
            "{'閩南語維基百科', 'WMF', '閩南語', '羅馬化', '白話字', '白話', '知識', '文字'} {'閩南語維基百科', '羅馬化', '白話字', '知識', '文字'}\n",
            "{'鸚形目', '蕉鵑', '綠色', '鳥', '冠蕉鵑', '色素'} {'蕉鵑', '綠色', '膽綠素', '鳥', '冠蕉鵑'}\n",
            "{'古典芭蕾', '芭蕾舞', '古典'} {'古典芭蕾', '芭蕾舞', '孤單芭蕾', '2000年香港立法會選舉', '2000年中華民國總統選舉'}\n",
            "{'中國共產黨', '政治局', '韓正', '中國共產黨中央政治局'} {'政治局', '中國共產黨第七屆中央委員會委員列表', '中國共產黨', '中國共產黨第十六屆中央委員會', '中國共產黨中央政治局'}\n",
            "{'古蘭經', '穆罕默德·本·沙特', '穆罕默德·本·薩勒曼', '阿米納·J·穆罕默德', '伊斯蘭教', '穆罕默德', '穆罕默德·阿里帕夏'} {'古蘭經', '伊斯蘭教與基督教關係', '穆罕默德', '阿迦·穆罕默德汗', '伊斯蘭教'}\n",
            "{'盧卡斯·赫賈', '場', '捷克國家足球隊', '位置', '後衛'} {'捷克21歲以下國家足球隊', '盧卡斯·赫賈', '意大利國家足球隊', '捷克國家足球隊', '捷克斯洛伐克國家足球隊'}\n",
            "{'材料', '電導體', '陶瓷'} {'陶瓷', '陶瓷基複合材料', '電導體', '陶瓷工程', '材料'}\n",
            "{'超人', '動作漫畫'} {'超人前傳', '超人帝拿', '超人', '動作漫畫', '初代超人力霸王'}\n",
            "{'基因工程', '細胞', '工程', '基因', '生物', '生物技術'} {'基因工程', '細胞', '基因', '基因治療', '生物技術'}\n",
            "{'蛋白質', '名詞'} {'蛋白質資料庫', '蛋白質複合體', '蛋白質', '名詞', '蛋白質組學'}\n",
            "{'同盟國_(第二次世界大戰)', '特別攻擊隊', '跟蹤支援隊', '資源_(計算機科學)', '亞洲', '力_(佛教)'} {'西方盟國的背叛', '破壞載荷', '特別攻擊隊', '亞洲', '棲息地破壞'}\n",
            "{'漢朝', '漢初三傑', '漢'} {'漢初三傑', '漢朝', '漢朝君主列表', '漢初三大名將', '漢'}\n",
            "{'教會', '基督徒', '禮拜'} {'隱匿基督徒', '耶穌基督後期聖徒教會', '基督徒', '史家衚衕基督徒會堂', '教會'}\n",
            "{'卡呂普索', '遺蹟化石', '王'} {'米斯卡塔尼克大學', '王', '卡呂普索', '伊蘇系列', '伊塔卡雷'}\n",
            "{'洛里斯_(沃克呂茲省)', '克洛里斯', '老公', '神', '雨果·洛里斯'} {'克洛里斯', '國民老公', '羅傑·費德勒', '老公', '神'}\n",
            "{'失樂園'} {'美國恐怖故事：異教', '失樂園', '漫畫改編的電視劇列表', '2002年太平洋颱風季', '日本電視劇'}\n",
            "{'太陽系', '行星', '海衛十', '質量', '衛星'} {'太陽系', '行星', '海衛十', '海王星的衛星', '衛星'}\n",
            "{'In_vitro', '礦物', '海星', '食物', '口腔', '胃'} {'礦物', '海星', '食物', '口腔', '胃'}\n",
            "{'奈尼塔爾', '地方法院', '北阿坎德邦'} {'北阿坎德邦', '北阿坎德邦行政區劃', '布列塔尼地區帕爾特奈', '奈尼塔爾總督府', '奈尼塔爾'}\n",
            "{'社會', '封建社會', '身分標識方式', '世僕', '封建', '日本', '奴隸制度', '科舉'} {'封建社會', '世僕', '日本', '奴隸制度', '科舉'}\n",
            "{'行政區劃', '首府', '大韓民國', '道_(行政區劃)', '全州', '中部', '全羅北道'} {'首府', '大韓民國', '全州', '全羅北道', '聯合國教育、科學及文化組織'}\n",
            "{'藍橋', '橋', '魂斷藍橋'} {'熊科', '橋', '魂斷藍橋', '藍橋', '藍巴勒海峽橋'}\n",
            "{'馬龍·馬利奧·白蘭度·達·施維拉', '演員', '美國電影學會', '馬龍·白蘭度'} {'AFI百年百大勵志電影', 'AFI百年百大愛情電影', 'AFI百年百大喜劇電影', 'AFI百年百大驚悚電影', 'AFI百年百大電影歌曲'}\n",
            "{'香港劇集', '世界', '劇集', '美國人', '香港'} {'香港劇集', '世界', '劇集', '美國人', '香港'}\n",
            "{'三角', '三角函數', '三角學'} {'三角函數積分表', '三角學', '三角', '三角函數', '三角恆等式'}\n",
            "{'華人', '黑紗', '袖章', '華人地區', '漢語'} {'華人', '黑紗', '袖章', '華人地區', '漢語'}\n",
            "{'蔡英文', '發言人', '民進', '民進黨_(日本)', '民主進步黨'} {'蔡英文', '2018年中華民國地方公職人員選舉', '民進', '民進黨政府', '民主進步黨'}\n",
            "{'臺灣', '東海', '船', '南小島', '漁民', '波濤'} {'1954年太平洋颱風季', '船', '南小島', '漁民', '波濤'}\n",
            "{'宋', '羅盤方位', '宋朝', '絲綢之路'} {'絲綢歷史', '宋朝', '絲綢之路', '羅盤方位', '宋'}\n",
            "{'周', '學校', '源迪恩', '聖保羅書院', '學生', '校長'} {'雲南七一五學生運動', '學校', '聖保羅書院', '天然災害停止上班及上課作業辦法', '原臺南長老教中學校講堂暨校長宿舍'}\n",
            "{'中部大學_(日本)', '中部大學', '中學', '愛知縣'} {'中部日本放送', '愛知大學', '中部大學女子短期大學', '中學', '愛知縣'}\n",
            "{'雞', '馴化', '科', '人類', '飛行', '雉科'} {'雞', '馴化', '飛行', '雉科', '角冠雉'}\n",
            "{'劍橋大學', '學院', '劍橋'} {'劍橋大學', '劍橋', '劍橋大學王后學院', '劍橋大學出版社', '劍橋大學考試委員會'}\n",
            "{'臺灣', '代表', '民意代表'} {'臺灣', '代表', '李登輝政府', '民意代表', '1947年中華民國國民大會代表選舉'}\n",
            "{'功能', '洪水', '暴雨', '秋紅谷廣場'} {'澳門暴雨警告信號', '暴雨', '暴雨警告', '洪水', '2013年中國西南特大暴雨'}\n",
            "{'旅行證件', '護照'} {'香港身份證明書', '旅行證件', '護照', '英國國民（海外）護照', '無國籍'}\n",
            "{'加利福尼亞大學洛杉磯分校', '蘇菲亞·柯波拉', '加利福尼亞大學', '成人電影'} {'加利福尼亞大學', '加州州立大學洛杉磯分校站', '加利福尼亞大學洛杉磯分校', '成人電影', '加州大學洛杉磯分校棕熊隊'}\n",
            "{'獎盃', '領域', '獎勵', '人物'} {'領域', '獎勵', '獎章', '獎盃', '學術性向資賦優異班'}\n",
            "{'城市規劃'} {'天津城市規劃', '城市管理執法', '南京大學城市規劃與設計系', '城市規劃師', '城市規劃'}\n",
            "{'道路', '剛果民主共和國'} {'剛果民主共和國地理', '剛果民主共和國', '剛果民主共和國世界遺產名錄', '道路', '剛果民主共和國國旗'}\n",
            "{'北漂', '臺北醫學大學', '經營者'} {'李祖德', '臺北醫學大學', '北漂', '臺灣總督府醫學校', '經營者'}\n",
            "{'美國', '馬龍', '工作', '超人', '電影', '演員', '美國電影', '馬龍·白蘭度'} {'馬爾他電影提名奧斯卡最佳國際影片獎競賽列表', '奧斯卡金像獎', 'MTV影視大獎最佳電影演員', '美國電影', '奧斯卡'}\n",
            "{'希臘神話', '古希臘', '天神', '希臘', '朱庇特', '宇宙', '神話'} {'古希臘', '宇宙', '天神', '希臘神話', '神話'}\n",
            "{'家庭', '經濟學', '徐志摩', '志摩'} {'經濟學人', '徐志摩', '經濟學', '熱經濟學', '金融經濟學'}\n",
            "{'美國', '馬龍', '超人', '演員', '電影', '收入', '美國電影', '馬龍·白蘭度'} {'奧斯卡金像獎', 'MTV影視大獎最佳電影演員', '美國電影', '奧斯卡', '馬龍·白蘭度'}\n",
            "{'世紀', '20世紀', '藝術家', '人物', '巴勃羅·畢卡索', '現代藝術', '藝術', '畫家'} {'世紀', '藝術家', '巴勃羅·畢卡索', '現代藝術', '畫家'}\n",
            "{'戒嚴', '中華民國', '自由', '報紙'} {'報紙', '自由', '新聞自由', '中華民國言論自由', '中華民國'}\n",
            "{'汞齊', '可見光', '材料', '汞', '銀', '牙齒', '合金'} {'汞齊', '可見光', '汞', '牙齒', '合金'}\n",
            "{'小時', '全球', '香港國際機場', '24小時', '機場', '亞洲'} {'英雄聯盟全球總決賽', '香港國際機場', '24小時', '機場', '2001年夏季世界大學運動會'}\n",
            "{'黃秋生', '演員', '香港'} {'尤金·波利', '黃秋生', '香港電影導演會年度大獎最佳新演員', '第33屆香港電影金像獎', '競雄女俠·秋瑾'}\n",
            "{'女性', '職業'} {'女女性行爲者', '女性', '女性凝視', '職業', '女性主義'}\n",
            "{'殺菌劑', '環氧乙烷', '殺菌', '人體'} {'環氧乙烷', '殺菌劑', '漢語人稱代詞', '殺菌', '人體'}\n",
            "{'馬龍·馬利奧·白蘭度·達·施維拉', '演員', '馬龍·白蘭度'} {'AFI百年百大電影臺詞', 'AFI百年百大愛情電影', 'AFI百年百大明星', 'AFI百年百大電影歌曲', 'AFI百年百大電影'}\n",
            "{'南北朝_(消歧義)', '南北朝時代_(日本)', '東晉', '宋武帝'} {'宋文帝', '宋武帝', '東晉', '東晉壽郡', '宋孝武帝'}\n",
            "{'臺灣', '明治', '首長', '臺灣縣', '兒玉利國'} {'臺灣', '明治', '首長', '臺灣縣', '兒玉利國'}\n",
            "{'榴彈炮', '炮兵'} {'280毫米榴彈炮', 'M-68榴彈炮', '榴彈炮', 'M3榴彈炮', '炮兵'}\n",
            "{'賦', '漢賦', '侍', '西鄂縣', '南陽郡', '張衡', '天文學', '漢'} {'星圖', '漢賦', '西鄂縣', '南陽郡', '天文學'}\n",
            "{'西奧多·羅斯福', '政策', '羅斯福', '資源', '法案'} {'西奧多·羅斯福國家公園', '西奧多·羅斯福', '羅斯福', '資源', '法案'}\n",
            "{'電荷', '電', '夸克'} {'電荷', '電', '夸克', '夸克模型', '基爾霍夫電路定律'}\n",
            "{'藤子·F·不二雄', '筆名', '雄性'} {'藤子·F·不二雄博物館', '筆名', '麥原伸太郎', '藤子·F·不二雄創作', '藤子·F·不二雄'}\n",
            "{'國慶日', '雍正', '武昌區', '政變', '日期'} {'國慶日', '雍正', '武昌區', '政變', '日期'}\n",
            "{'地理極點', '風_(太陽探測器)', '極光', '太陽風', '中文數字', '電離層', '地球'} {'地理極點', '風', '極光', '太陽風', '地球'}\n",
            "{'藥水', '出身成分', '溴'} {'藥劑業及毒藥管理局', '消毒藥水', '藥水', '紅汞', '溴'}\n",
            "{'STARSHIP娛樂', 'Starship', '經紀公司', '本名'} {'經紀公司', '本名', 'STARSHIP娛樂', '創新藝人經紀公司', '華誼兄弟時代文化經紀有限公司'}\n",
            "{'古羅馬', '羅馬', '法律', '遊牧民族', '羅馬元老院', '騎士'} {'古羅馬', '羅馬', '法律', '遊牧民族', '騎士'}\n",
            "{'世界', '大麥', '穀物', '耕作', '禾本科', '麥', '植物'} {'大麥', '穀物', '耕作', '禾本科', '麥'}\n",
            "{'一·二八事變', '泉州市', '戰略', '中國', '路', '一帶一路', '海上絲綢之路', '一帶一路·與我何干'} {'泉州市', '中國', '一帶一路', '絲綢之路', '海上絲綢之路'}\n",
            "{'微處理器', '單片機', '集成電路'} {'集成電路', '單片系統', '單板機', '微處理器', '單片機'}\n",
            "{'2015年', '伊斯法罕', '伊斯法罕地鐵', '城市軌道交通', '車站'} {'世界城市軌道交通年乘客量列表', '伊斯法罕', '伊斯法罕地鐵', '車站', '深圳地鐵車站列表'}\n",
            "{'大學', '德州', 'J·D·德魯', '德魯大學'} {'安德魯傑克森大學', '德州', '德魯大學', '威克森林大學', '協和大學威斯康辛分校'}\n",
            "{'殭屍', '火', '熱'} {'2019冠狀病毒病疫情對日本社會經濟的影響', '火', '「神公演予定」～因諸多因素、也有可能無法成爲神公演、望體諒', '2019冠狀病毒病疫情對社交媒體的影響', '殭屍'}\n",
            "{'電機工程學', '中央大學', '中央大學·明星大學站', '科系', '中央大學_(日本)', '1949年', '講師_(消歧義)', '電機'} {'電機工程學', '科系', '管致中', '國立中央大學工學院', '電機'}\n",
            "{'德', '第一次世界大戰', '伍德羅·威爾遜', '交涉', '政治人物', '十四點和平原則'} {'德', '第一次世界大戰', '伍德羅·威爾遜', '政治人物', '十四點和平原則'}\n",
            "{'兒童', '奧黛麗·赫本演藝作品列表', '國家', '奧黛麗_(搞笑組合)', '奧黛麗·赫本'} {'兒童', '乍得爭取團結和社會主義行動', '經濟、社會和文化權利', '爭取維基百科成爲世界文化遺產', '奧黛麗·赫本'}\n",
            "{'粵菜', '菜', '廣東省'} {'潮州菜', '粵菜', '廣西菜', '廣東省', '菜'}\n",
            "{'惠靈頓', '世界', '博物館', '首都', '新西蘭'} {'惠靈頓', '世界', '博物館', '首都', '新西蘭'}\n",
            "{'過去', '北小島', '小島', '小島_(臺東區)', '船', '南小島', '漁民', '目標'} {'小島', '船', '南小島', '漁民', '波濤'}\n",
            "{'佛羅里達州', '理論物理學', '大學', '盧卡斯數學教授席位', '劍橋大學', '保羅·狄拉克', '物理學家', '劍橋', '英國'} {'佛羅里達州', '劍橋大學', '保羅·狄拉克', '佛羅里達州立大學', '英國'}\n",
            "{'模式種', '溼地', '非洲', '洲', '蒼鷺', '鷺屬', '物種', '鷺科', '歐亞大陸'} {'溼地', '蒼鷺', '鷺屬', '物種', '歐亞大陸'}\n",
            "{'耶路撒冷', '重量', '東西_(作家)', '城市'} {'耶路撒冷', '耶路撒冷國王', '重量', '耶路撒冷舊城', '城市'}\n",
            "{'宗室', '清朝', '明朝', '輔國中尉', '八大山人'} {'宗室', '清朝', '明朝', '輔國中尉', '八大山人'}\n",
            "{'百姓', '以色列', '巴哈歐拉'} {'以色列十二支派', '維加鳥屬', '阿以衝突', '以色列', '巴哈歐拉'}\n",
            "{'新臺幣', '方法'} {'新臺幣硬幣', '第四套橫式新臺幣', '第三套直式新臺幣', '新臺幣', '第三套橫式新臺幣'}\n",
            "{'四書五經', '臺北', '中學', '孔廟', '臺北市立明倫高級中學'} {'臺北', '經', '中學', '孔廟', '臺北市立明倫高級中學'}\n",
            "{'藥物', '食物'} {'人', '食物', '鴉片類藥物', '藥物', '藥物過量'}\n",
            "{'教育家', '李賦寧', '中國'} {'中國', '李賦寧', '寧賦魁', '中國人', '教育家'}\n",
            "{'航空', '飛行員', '民用航空', '航空器', '國'} {'中國民用航空飛行學院', '航空', '飛行員', '民用航空', '航空器'}\n",
            "{'形象', '木衛十二', '希臘', '電影', '名稱', '女神'} {'我的希臘甜心', '木衛十二', '希臘', '電影', '女神'}\n",
            "{'聖靈', '聖父', '和子說'} {'聖靈', '和子說', '聖父共主教座堂', '聖靈勳章', '聖父'}\n",
            "{'臺北', '臺北市立麗山高級中學', '內湖區', '內湖_(臺北市內湖區大字)', '麗山', '中學', '2000'} {'臺北', '臺北市立麗山高級中學', '臺北市立大直高級中學', '麗山', '中學'}\n",
            "{'黛安娜·羅', '黛安·韋斯特', '反對黨', '崇拜', '黛安娜·迪莫娃', '黛安娜', '黛安娜·羅斯', '黛安娜·馬西森'} {'加拿大官方反對黨領袖', '反對黨', '崇拜', '威爾斯王妃戴安娜', '黛安娜'}\n"
          ]
        }
      ],
      "source": [
        "results_df = pd.merge(pd.Series([line for line in predicted_results_aicup[:500]], name=\"aicup\"), \n",
        "                      pd.Series([line for line in predicted_results_sbert], name=\"sbert\"), right_index=True, left_index=True)\n",
        "predicted_results = results_df.apply(union_result, axis=1)\n",
        "save_doc(TRAIN_DATA[:500], predicted_results, mode=\"train\", suffix=\"_temp\")"
      ]
    },
    {
      "cell_type": "code",
      "execution_count": 43,
      "metadata": {},
      "outputs": [
        {
          "data": {
            "application/vnd.jupyter.widget-view+json": {
              "model_id": "241a9dcbcc844c4da52802803599eab4",
              "version_major": 2,
              "version_minor": 0
            },
            "text/plain": [
              "VBox(children=(HBox(children=(IntProgress(value=0, description='0.00%', max=1323), Label(value='0 / 1323'))), …"
            ]
          },
          "metadata": {},
          "output_type": "display_data"
        },
        {
          "name": "stderr",
          "output_type": "stream",
          "text": [
            "Building prefix dict from the default dictionary ...\n",
            "Loading model from cache /tmp/jieba.cache\n",
            "Loading model cost 0.383 seconds.\n",
            "Prefix dict has been built successfully.\n"
          ]
        },
        {
          "name": "stdout",
          "output_type": "stream",
          "text": [
            "['緹坦妮雅', '奧伯隆', '天衛五', '仲夏夜之夢', '回憶中的瑪妮']\n",
            "['漂泊信天翁', '桑氏遠洋鳥', '信天翁科', '黑腳信天翁', '風神翼龍屬']\n",
            "['F.I.R.飛兒樂團', '椅子樂團', '回聲樂團', 'TOP1男子漢', '酷愛樂團']\n",
            "['香港國際機場', '希思羅機場', '吉隆坡國際機場', '啓德機場', '機場']\n",
            "['黨委書記和校長列入中央管理的高校', '地方所屬高校', '高等學校', '中國大陸高等學校列表', '技術型高級中等學校']\n",
            "['南京師範大學附屬中學', '江蘇省蘇州實驗中學', '南京大學附屬中學', '江蘇省_(中華民國)', '江蘇省政府']\n",
            "['毒魚豆', '雪卡毒素', '魚', '萃取', '原住民']\n",
            "['軟件開發', '軟件開發工具包', '軟件項目管理', '軟件開發工具', '軟件測試']\n",
            "['國立臺灣大學應用力學研究所', '鮑亦興', '中央研究院', '研究所', '吳政忠']\n",
            "['倫琴_(單位)', 'X射線', 'X射線機', 'X射線天文學', '錢德拉X射線天文臺']\n",
            "['數學史', '數學', '古希臘數學', '中華人民共和國教育', '博雅教育']\n",
            "['國立臺灣大學昆蟲標本館', '臺灣昆蟲學史', '上海昆蟲博物館', '昆蟲採集', '臺灣昆蟲館']\n",
            "['保送入學', '湯姆·克魯斯', '湯姆·漢克斯', '湯姆·班克斯', '獎勵']\n",
            "['玻爾-愛因斯坦之爭', '阿爾伯特·愛因斯坦', '漢斯·愛因斯坦']\n",
            "['黃忠', '五虎將', '馬超', '趙雲', '魏滅蜀漢之戰']\n",
            "['妙義山', '效用']\n",
            "['獎盃', '獎勵', '獎章', '聯盟主席獎盃', '沃爾特·A·布朗冠軍獎盃']\n"
          ]
        },
        {
          "name": "stderr",
          "output_type": "stream",
          "text": [
            "Building prefix dict from the default dictionary ...\n",
            "Loading model from cache /tmp/jieba.cache\n"
          ]
        },
        {
          "name": "stdout",
          "output_type": "stream",
          "text": [
            "['清朝民變', '清朝政府', '大韓民國臨時政府', '朱夔', '朱一貴']\n"
          ]
        },
        {
          "name": "stderr",
          "output_type": "stream",
          "text": [
            "Loading model cost 0.377 seconds.\n",
            "Prefix dict has been built successfully.\n"
          ]
        },
        {
          "name": "stdout",
          "output_type": "stream",
          "text": [
            "['高建_(韓國)', '韓國政治', '大韓民國', '政治人物']\n",
            "['香港電腦商會', '中華電力', '香港電燈', '蘋果地圖', '計算機協會']\n",
            "['微軟作業系統列表', '微軟模擬飛行系列', '微軟', '操作系統', '微軟模擬列車']\n",
            "['燕山大學', '合併', '學校', '燕山_(消歧義)']\n",
            "['宜賓市', '資陽市', '綿陽市', '仁懷市', '宜賓縣']['麗山', '臺北市立陽明高級中學', '內湖區', '臺北', '內湖_(臺北市內湖區大字)']\n",
            "\n",
            "['冰淇淋', '義式冰淇淋', '明膠', '乳製品用鹽', '食品加工業']\n",
            "['黎巴嫩', '世界語言', '阿拉伯語變體', '英語國家和地區列表', '穆斯林']\n",
            "['蛋卷冰淇淋', '蕎麥冰淇淋', '冰淇淋', '義式冰淇淋', '霜凍優格']\n",
            "['馬克思學說研究會', '馬克思主義思想流派', '馬克思主義政治經濟學', '西方馬克思主義', '對馬克思主義的批評']\n",
            "['中華民國法務部', '法務部矯正署臺南第二監獄', '法務部矯正署臺北少年觀護所', '法務部矯正署臺北看守所', '法務部矯正署臺南監獄']\n",
            "['靜脈注射', '阿托品', '活性度', '靜脈']\n",
            "['中國東北地區', '中國大陸人口', '育空市鎮列表', '內蒙古自治區各盟市面積列表', '內蒙古各市盟地區生產總值列表']\n",
            "['希臘神祇及神話人物列表', '北歐神話', '瑪雅神話', '羅馬神話', '神話']\n",
            "['海王星的衛星', '太陽系天體列表', '太陽系', '行星定義', '木星的衛星']\n",
            "['釋迦牟尼', '釋迦族', '喬達摩', '佛教', '牟尼']\n",
            "['世界', '愛丁堡大學', '愛丁堡']\n",
            "['米夏埃爾·科爾曼', '彼得·高若尼茲克', '馬茨·維蘭德', '世界大學學術排名', '約阿希姆·約翰松']\n",
            "['環境科學', '環境保護', '環境資源管理', '環境保護主義', '熱能']\n",
            "['密碼學', '密碼學主題列表', '量子密碼學', '密碼分析', '信息論']\n",
            "['人字拖', '赤足', '家', '習慣']\n",
            "['社會問題', '社會網絡', '社會生物學', '社會', '問題提起作品集']\n",
            "['康泰旅行社', '波士頓', '波士頓影評人協會', '經濟發展', '旅行社']\n",
            "['徐翔_(投資家)', '提供侵入、非法控制計算機信息系統程序、工具罪', '公安部證券犯罪偵查局', '內線交易', '中華人民共和國腐敗案件列表']\n",
            "['性傳染病', '艾滋病', '2019冠狀病毒病', '阿茲海默症', '糖尿病']\n",
            "['馬克思學說研究會', '馬克思主義思想流派', '西方馬克思主義', '後馬克思主義', '新馬克思主義']\n",
            "['小龍女', '楊過', '懸崖']\n",
            "['Astropulse', 'BOINC', '普適計算', '搜尋地外文明計劃', '併發計算']\n",
            "['狻猊', '龍生九子', '龍', '石獅子', '𧈢𧏡']\n",
            "['藍寶石', '莫氏硬度', '石英', '鑽石', '今天']\n",
            "['氧族元素', '硫氰酸鹽', '硼族元素', '硫', '硫氰酸']\n",
            "['淡水河', '臺灣河流列表', '中國河流列表', '遼寧河流列表', '臺灣河流長度列表']\n",
            "['東祖谷山村', '西祖谷山村', '阿波', '半田', '鎮江市']\n",
            "['八大山人', '僧官', '輔國中尉', '明朝與吐蕃關係史', '程正揆']\n"
          ]
        },
        {
          "name": "stderr",
          "output_type": "stream",
          "text": [
            "Building prefix dict from the default dictionary ...\n",
            "Loading model from cache /tmp/jieba.cache\n"
          ]
        },
        {
          "name": "stdout",
          "output_type": "stream",
          "text": [
            "['數學領域', '最小費用最大流問題', '決定性問題', '應用數學', '離散數學']\n"
          ]
        },
        {
          "name": "stderr",
          "output_type": "stream",
          "text": [
            "Loading model cost 0.383 seconds.\n"
          ]
        },
        {
          "name": "stdout",
          "output_type": "stream",
          "text": [
            "['吉倫特派', '個人無政府主義', '托洛茨基主義', '潘恩', '對基督教的批評']"
          ]
        },
        {
          "name": "stderr",
          "output_type": "stream",
          "text": [
            "Prefix dict has been built successfully.\n"
          ]
        },
        {
          "name": "stdout",
          "output_type": "stream",
          "text": [
            "\n",
            "['素描']\n",
            "['熊貓餐飲集團', '上海梅龍鎮（集團）有限公司', '偶像', '美國革命', '美國飲食']\n",
            "['嶺南師範學院', '中華民國大陸時期國立大專校院列表', '韓山師範學院', '國立師範學院', '華南師範大學附屬中學']\n",
            "['海冰', '北冰洋', '北極地區', '弗拉姆海峽', '永凍冰']\n",
            "['罪己詔', '議會', '許智峯', '危害人類罪', '藐視法庭']\n",
            "['圖像壓縮技術', '圖像壓縮', '重複數據刪除', '電子計算機', '有損數據壓縮']\n",
            "['民族學', '人種', '社會人類學', '民族誌', '人類']\n",
            "['旁遮普地區', '旁遮普人', '旁遮普邦', '錫克教', '哈爾曼迪爾·薩希卜']\n",
            "['悉尼·約翰·卓別林', '老查理·卓別林', '查理·卓別林', '偶像_(日本)', '偶像']\n",
            "['單片系統', '英特爾晶片組列表', '微處理器', '單板機', '4位元']\n",
            "['惠靈頓', '紐西蘭人口', '博物館', '新西蘭國家圖書館', '惠靈頓隊足球俱樂部']\n",
            "['法國海外領土', '蔚藍海岸', '法國', '法國海外部分', '泰國南部地區']\n",
            "['世界最佳宜居城市', '經濟學人信息社', '世界快樂報告', '珀斯', '中華人民共和國']\n",
            "['吉林大學附屬中學', '吉林大學', '吉林農業大學', '中華人民共和國', '皓月集團']\n",
            "['唐朝', '臺北101']\n",
            "['回族', '巴天族', '回族身份認同', '金姓', '中國朝鮮族']\n",
            "['中華人民共和國國家森林公園列表', '森林經營學', '北京鷲峯國家森林公園', '紐約大學', '新澤西州']\n",
            "['惡魔倖存者2', '貝雷特', '創世神話', '能天使', '創造神']\n",
            "['銀川平原', '銀川市', '中部']\n",
            "['京口區', '江蘇省鎮江第一中學', '潤州區', '鎮江市', '京口閘遺址']\n",
            "['荷馬史詩', '史詩', '荷馬', '集', '馬來人至上']\n",
            "['植酸', '脂類', '磷酸肌醇3-激酶', '磷脂酶C', '磷酸酯']\n",
            "['源真核生物界', '生物', 'MacOS', '真核生物']\n",
            "['地震波', 'P波', '聲波', '次聲波', '地震']\n",
            "['夏娃', '亞當', '芬妮·亞當', '亞當·迪凡', '耶和華']\n",
            "['惠靈頓', '紐西蘭人口', '華裔新西蘭人', '新西蘭', '聖公會雪梨教區']\n",
            "['古蹟']\n",
            "['犬', '竹內瑪莉亞', '山下達郎']\n",
            "['新興宗教', '九二共識', '世界主要宗教', '宗教自由', '日本宗教']\n",
            "['毛主席語錄', '習主席語錄', '紅外線', '毛澤東接見紅衛兵', '光害']\n",
            "['富士', '貴之富士三造', '日本', '親本', '本地人']\n",
            "['蛛形綱', '香港純蛛', '蜘蛛', '鷲蛛總科', '櫛足蛛科']\n",
            "['麻薩諸塞州', '世界女子排球錦標賽', '臺灣體育', '3x3籃球', '雷斯杯']\n",
            "['華南理工大學建築學院', '華南理工大學前沿軟物質學院', '華南理工大學校友列表', '華南理工大學軟件學院', '華南理工大學電子商務系']\n",
            "['香港電影', '有線劇集臺', '日劇臺', '香港劇集', '香港']\n",
            "['哈佛-麻省理工醫療科技學院', '第三次世界大戰', '南京大學', '教育研究', '浙江大學高分子科學與工程學系']\n",
            "['蒙山大佛', '樂山大佛', '大佛', '唐朝']\n",
            "['鄧小平理論', '社會主義初級階段', '社會主義市場經濟', '一箇中心、兩個基本點', '習近平新時代中國特色社會主義思想']\n",
            "['德克薩斯州州長', '詹姆斯·諾克斯·波爾克', '新南威爾士州州長', '船田中', '美國總統']\n",
            "['雲南省社會科學院', '香港中文大學社會科學院', '中國社會科學院大學', '胡喬木', '陳奎元']\n",
            "['中華人民共和國人事部', '中華人民共和國', '何光', '中華人民共和國建交列表', '中華人民共和國勞動和社會保障部']\n",
            "['八大山人', '朱謀垔', '明朝與吐蕃關係史', '宗室', '僧官']\n",
            "['香杏麗蘑', '杏香兔兒風', '松口蘑', '黏小奧德蘑', '冰川雪兔子']\n",
            "['海衛一大氣層', '大氣層', '甲烷', '土衛六', '天王星大氣層']\n",
            "['細菌孢子', '申克氏孢子絲菌', '擔孢子', '內生孢子', '殺菌劑']\n",
            "['電子藝術大獎', '獎勵', '維基百科', '組別_(體育)']\n",
            "['性愉悅', '感受', '超感官知覺', '性感帶', '刺激_(心理學)']\n",
            "['伯茲克里克_(喬治亞州)', '瓦爾多斯塔', '弗吉尼亞州', '聖貝納迪諾縣', '華盛頓州']\n",
            "['關心妍', '原諒他77次', '歌手·當打之年', '蔡卓妍', '歌手']\n",
            "['鄧小平理論', '五毛黨', '習近平新時代中國特色社會主義思想', '中國特色社會主義', '中國共產黨歷史']\n",
            "['木衛三', '木衛四', '太陽系天體列表', '太陽系的形成與演化', '木星的衛星']\n",
            "['鸊鷉屬', '鸊鷉科', '體型', '小鷿鷈屬', '屬']\n",
            "['楊諒', '楊昭', '楊素', '隋煬帝', '舉事']\n",
            "['帝國大學', '朝鮮半島衝突', '朝鮮半島歷史', '首爾特別市', '日本投降']\n",
            "['伊拉克戰爭', '伊拉克空軍', '贖罪日戰爭', '伊拉克內戰', '三十年戰爭']\n",
            "['明德學院', '北京理工大學附屬中學', '重慶理工大學', '江西理工大學', '南京理工大學']\n",
            "['臺灣國中教育', '兼職', '蔡卓妍', '九年級', '教育階段']\n",
            "['宋史', '正史', '宋史紀事本末', '史通', '南朝相國、丞相列表']\n",
            "['伊斯蘭國', '巴德爾組織', '什葉派', '也門胡塞叛亂', '尼古拉·齊奧塞斯庫']\n",
            "['黑豹樂隊', '搖滾樂', '前衛搖滾', '竇唯', '另類搖滾']\n",
            "['胸節_(昆蟲)', '昆蟲', '南美角蛙', '血管再成形術', '白腹海雕']\n",
            "['托斯卡納大區', '盧卡斯·迪奧多斯基', '狄奧多爾·科穆寧·杜卡斯', '托斯卡納大公國']\n",
            "['臺鐵區間車', '沙崙線', '疾風號列車', '普悠瑪列車', '光輝號列車']\n",
            "['藍色', '漫威影業：傳奇角色', '藍血人', '漫畫', '勇度']\n",
            "['動物', '牛亞科', '生物分類法', '分類學', '支序分類學']\n",
            "['占卜', '占星術', '中國占星術', '西洋占星術', '占星術和天文學']\n",
            "['芝加哥', '芝加哥期貨交易所', '德國交通', '美國', '韓國交易所']\n",
            "['臺灣省政府', '臺東縣政府', '花蓮縣政府', '南投縣政府', '臺灣省政府建設廳']\n",
            "['異步電動機', '電動機', '發動機', '渦輪噴氣發動機', '鼠籠式電動機']\n",
            "['慕容復']\n",
            "['美國風情畫', '法櫃奇兵', '誰殺了唐吉訶德', '弗朗西斯科·戈雅', '待售劇本']\n",
            "['新槐站', '上海北站', '上海站', '青峴嶺站', '哈爾濱站']\n",
            "['辛奇_(臺灣導演)', '地獄新娘', '2009年1月逝世人物列表', '臺語電影', '導演']\n",
            "['雞', '鳥', '量_(物理)', '求和符號', '世界']\n",
            "['寒武紀大爆發', '始祖動吻蟲', '寒武紀_(消歧義)', '寒武紀科技', '南北朝']\n",
            "['國際足協女子世界盃', '國際足協U-17女子世界盃', '國際足協U-17世界盃', '2010年國際足協世界盃', '國際足協世界盃']\n",
            "['網紋長頸鹿', '長頸鹿', '馬賽長頸鹿', '始長頸鹿', '長頸鹿總科']\n",
            "['六朝', '東晉', '五馬渡江', '王舒', '晉元帝']\n",
            "['第三次世界大戰', '北海道登陸計劃', '青葉町', '伏見町', '若竹町']\n",
            "['順序性雌雄同體', '性別', '藍鳳冠鳩', '單性生殖', '鳩鴿科']\n",
            "['巴黎天文臺', '讓多米尼克·卡西尼', '讓-多米尼克·卡西尼', '喬瓦尼·多梅尼科·卡西尼', '卡西尼']\n",
            "['天文學綱要', '天體物理學', '天文學史', '科學大綱', '天文學']\n",
            "['奧斯卡最佳原創劇本獎', '威尼斯影展最佳劇本獎', '匈牙利電影提名奧斯卡最佳國際影片獎競賽列表', '不丹電影提名奧斯卡最佳國際影片獎競賽列表', '阿富汗電影提名奧斯卡最佳國際影片獎競賽列表']\n",
            "['造紙術', '傳播論', '文化演化', '傳播媒體', '中國發明']\n",
            "['貓', '犬種', '斑鬣狗', '貓科', '哺乳動物']\n",
            "['單片系統', '英特爾晶片組列表', '微處理器', '單板機', '4位元']\n",
            "['路易斯·伊納西奧·盧拉·達席爾瓦', '不滿的冬天', '臺灣戰後時期', '2019年中華航空機師罷工事件', '軍政府']\n",
            "['太陽花', '向日葵屬', '太陽', '太陽圈', '劉喬安']\n",
            "['汽車動力性', '車速限制', '汽車種類', '車速表', '鐵路列車']\n",
            "['伊朗歷史', '波斯人', '伊朗間奏曲', '伊朗伊斯蘭革命', '阿卜杜勒-麥立克·本·麥爾萬·本·赫凱姆']\n",
            "['太平鳥屬', '雀形目', '鳥', '陸鳥類', '新鳥小綱']\n",
            "['新朝', '昆陽之戰', '綠林軍', '綠林山', '王莽']\n",
            "['亞洲', '馬爾代夫', '北達科他州', '斯里蘭卡', '美國墨西哥灣沿岸地區']\n",
            "['液體', '現象']\n",
            "['航空交通管制', '航空管制員', '國土交通省航空局', '機場地勤', '民用航空管理部門']\n",
            "['密西根州立大學', '密西根大學羅斯商學院', '美國', '密西根大學']\n",
            "['泰安服務區_(臺灣)', '關西服務區', '中開高速公路', '泰安休息站', '中陽高速公路']\n",
            "['俄刻阿諾斯', '斯堤克斯', '忒堤斯', '忒勒斯托', '俄刻阿尼得斯']\n",
            "['漢趙', '漢', '劉淵', '劉曜', '蜀漢']\n",
            "['臺北市文山區興華國民小學', '臺北市文山區萬芳國民小學', '臺北市政府', '臺中市政府教育局', '臺北市信義區興雅國民小學']\n",
            "['撞擊坑', '愛明內斯庫撞擊坑', '波泰士隕石坑', '月球隕石坑', '溼婆隕石坑']\n",
            "['洋', '南冰洋', '大西洋', '北冰洋', '海溝']\n",
            "['音樂產業', '竹內瑪莉亞', '創作歌手', '宇多田光', 'GUNDAM系列作品']\n",
            "['松柏塱', '雞嶺', '三棟屋村', '圍頭人', '圍村']\n",
            "['吳天威', '吳天任', '2020年香港中學文憑考試歷史科爭議']\n",
            "['尼克·卡拉威', '大亨小傳_(2013年電影)', '薇拉·費茲傑羅', '喬治·費茲傑羅', '了不起的蓋茨比']\n",
            "['古蹟']\n",
            "['太陽花', '向日葵', '柔荑花序', '花梗', '向日葵屬']\n",
            "['豫劇', '名']\n",
            "['摩納哥城', '摩納哥巖', '地中海', '摩納哥']\n",
            "['臺北機場', '臺灣機場列表', '新北市樹林體育園區', '高雄農場', '臺灣空氣污染']\n",
            "['魏雅欣', '籃球_(電視劇)']\n",
            "['三年坂火之夢', '三姊妹偵探團', '虛構推理', '講談社出版文化賞', '推理要在晚餐後']\n",
            "['錫林浩特市', '二連浩特市', '內蒙古自治區東部長城列表', '德穆楚克棟魯普', '內蒙古自治區中部長城列表']\n",
            "['袁隆平', '周開達', '勳章', '果靖霖', '雜交水稻國家重點實驗室']\n",
            "['苗栗縣', '苗栗縣政府文化觀光局', '苗栗縣警察局', '苗栗縣歷史', '苗栗縣議會']\n",
            "['靈長目', '物種', '環物種']\n",
            "['哈比人歷險記', '現實', '小說', '哈比人']\n",
            "['柳枝', '唐詩', '唐詩別裁集', '全唐詩', '李商隱']\n",
            "['鴻鴻', '電子藝術大獎', '獎勵', '維基百科']\n",
            "['電子陶瓷', '介電陶瓷', '陶瓷電容', '陶瓷工程', '電子']\n",
            "['粉末', '海洛因']\n",
            "['中國人民解放軍武漢軍區', '中國人民解放軍河南省軍區', '中國人民解放軍湖北省軍區', '中國人民解放軍昆明軍區', '中國人民解放軍武漢軍區空軍']\n",
            "['核心家庭', '家庭', '美國家庭結構', '家庭消費', '大家庭']\n",
            "['情天恨海', '月亮和六便士', '小說面面觀', '人性的枷鎖', '威廉·薩默塞特·毛姆']\n",
            "['投資型硬幣', '銀', '硬幣', '香港硬幣', '美國鷹揚幣']\n",
            "['滾輪式加法器', '機械計算器', '電子計算器', '快捷半導體', '國家半導體']\n",
            "['魏晉南北朝', '晉朝', '南北朝', '三國', '五胡十六國']\n",
            "['微型計算機', '單片機']\n",
            "['永琮', '清朝君主列表', '淑嘉皇貴妃', '乾隆', '嘉慶皇帝_(電視劇)']\n",
            "['臺灣織布', '臺灣荷蘭統治時期', '臺灣清治時期', '臺灣政治史', '臺灣荷西統治時期']\n",
            "['中華人民共和國紡織工業部', '中華人民共和國食品工業部', '二輕工業', '輕工業', '韓德銖平壤輕工業大學']\n",
            "['藍色', '皮膚', '勇度', '漫威', '人物']\n",
            "['獅子座', '獅子座56', '獅子座79', '獅子座83', '獅子座ψ']\n",
            "['內畫壺', '日本國寶', '民族藝術薪傳獎', '工藝美術', '細田守']\n",
            "['語言學', '入聲', '共時語言學', '描寫語言學', '歷史比較語言學']\n",
            "['英國皇家徽章', '風獅爺', '紋章', '希臘國徽', '葡萄牙國徽']\n",
            "['青光眼', '心跳過速', '阿托品', '脊髓損傷患者的性問題', '地塞米松']\n",
            "['讓-多米尼克·卡西尼', '讓多米尼克·卡西尼', '理查德·霍利·塔克', '喬瓦尼·多梅尼科·卡西尼', '雅克·卡西尼']\n",
            "['衛生福利部臺南醫院', '臺南避病院', '醫院', '新加坡國家傳染病中心', '法定傳染病']\n",
            "['曾光爔', '綿州', '瀘州直隸州', '潼川直隸州', '眉州直隸州']\n",
            "['漢殤帝', '中國皇帝', '東漢', '東漢末年']\n",
            "['雞', '爬行動物', '勺雞', '家禽', '家畜']\n",
            "['失樂園']\n",
            "['宋史', '正史', '史通', '明史', '宋史紀事本末']\n",
            "['溫室氣體', '一氟化碳', '有機氟化學', '氟碳塗料', '生物燃氣']\n",
            "['九江市', '九江市_(縣級)', '麻城市', '九江_(消歧義)', '吉安市']\n",
            "['工業設計', '工業工程學', '工程學', '汽車設計', '電機工程學']\n",
            "['林登·約翰遜', '2020年美國總統特朗普支持率列表', '美國總統支持率', '協約國武裝干涉俄國內戰', '國共內戰']\n",
            "['食用昆蟲', '昆蟲', '有害生物', '農藥', '芬普尼']\n",
            "['臺南避病院', '法定傳染病', '新加坡國家傳染病中心', '法院', '臺南市']\n",
            "['颶風黛安', '秋紅谷廣場', '1999年颶風艾琳', '乾旱', '乾球溫度']\n",
            "['喬治·卡特萊特·馬歇爾', '喬治·巴頓掌摑事件', '克雷頓·艾布蘭', '三十年戰爭', '阿靈頓國家公墓']\n",
            "['日韓合併條約', '中日和約', '馬關條約', '大日本帝國', '朝鮮日治時期']\n",
            "['古寧頭戰役', '中華民國大陸時期', '金門八三一', '國共內戰', '金門炮戰']\n",
            "['計算機工程', '電子計算機', '計算機硬體歷史', '理論計算機科學', '地理信息系統']\n",
            "['大韓帝國皇帝', '金朝', '國號', '皇帝', '國家']\n",
            "['政黨補助金', '中華民國政黨歷年最高得票率', '無黨團結聯盟', '賴振昌', '1983年中華民國立法委員選舉']\n",
            "['中華民國節日與歲時列表', '行憲紀念日', '先總統蔣公誕辰紀念日', '公務人員特種考試', '中華民國憲法學會']\n",
            "['伊斯蘭教與基督教關係', '亞伯拉罕諸教', '拜星教', '土耳其宗教', '亞伯拉罕']\n",
            "['印度諾貝爾獎得主列表', '諾貝爾獎得主列表', '京都大學諾貝爾獎得主列表', '阿馬蒂亞·庫馬爾·森', '諾貝爾獎']\n",
            "['英國通用電氣公司', '人民幣業務傑出大獎', '產業', '商場', '美國冒險樂園']\n",
            "['決定性問題', '微分方程', '邊值問題', '問題', '拋物偏微分方程']\n",
            "['艾山·買合蘇木', '買買提吐爾遜·依明', '奧薩馬·本·拉登之死', '買買提吐爾遜·阿布杜哈力克', '基地組織']\n",
            "['伊斯蘭教法', '伊斯蘭教令', 'LGBT與伊斯蘭教', '伊斯蘭教法學', '印尼伊斯蘭教']\n",
            "['即墨區', '祭海節', '雞籠中元祭', '元朝', '中國歷史']\n",
            "['戰列巡洋艦', '航空母艦', '胡德號戰列巡洋艦', '千歲級航空母艦', '無敵級戰列巡洋艦']\n",
            "['巴黎天文臺', '讓-多米尼克·卡西尼', '讓多米尼克·卡西尼', '喬瓦尼·多梅尼科·卡西尼', '雅克·卡西尼']\n",
            "['單片系統', '英特爾晶片組列表', '微處理器', '單板機', '4位元']\n",
            "['殖民主義', '殖民地', '法蘭西殖民帝國', '史明', '次殖民地']\n",
            "['魔力月光', '六場危事', '情迷巴塞隆拿', '伍迪·艾倫', '艾倫']\n",
            "['蔡英文政府', '蔡英文', '蔡英文相關爭議', '唯一支持蔡英文', '選舉']\n",
            "['日本海', '海盆', '阿拉伯海盆', '北極海盆', '阿留申海盆']\n",
            "['卡通形象', '卡通', '藤島康介', '作品']\n",
            "['伊朗歷史', '2017年兩伊邊境地震', '波斯人', '伊朗間奏曲', '伊朗伊斯蘭革命']\n",
            "['非營利組織', '天安門自焚事件', '議題建構', '六四事件', '輔仁大學心理系性侵案']\n",
            "['信息及通信技術', '基於位置的服務', '技術', '首席技術官', '美國的加密技術出口管制']\n",
            "['木衛五十', '木衛十一', '木衛五十三', '木星的衛星', '土星的衛星']\n",
            "['吸血', '吸血鬼', '紫質症', '吸血毯', '根達綜合症']\n",
            "['荷馬史詩', '荷馬', '史詩', '吉爾伽美什史詩', '史詩情人']\n",
            "['技術型高級中等學校', '實業補習學校', '國立臺南大學', '臺南市立安平水產專修學校', '學校']\n",
            "['再造人卡辛', '火影忍者疾風傳動畫集數列表', 'DNA²', '火影忍者疾風傳', '龍狼傳']\n",
            "['蘇格拉底', '蘇格拉底反詰法', '柏拉圖', '蘇格拉底式的質疑', '泰阿泰德']\n",
            "['茶', '擂茶', '草本茶', '茶葉蛋', '東方美人茶']\n",
            "['德魯大學', '美國', 'J·D·德魯', '大學', '綽號']\n",
            "['桑比爾區', '舊桑比爾區', '圖爾卡區', '舊桑比爾', '比爾桑']\n",
            "['烏克蘭']\n",
            "['隼形目', '隼', '猛禽', '美國隼', '獵隼']\n",
            "['網紋長頸鹿', '長頸鹿', '馬賽長頸鹿', '始長頸鹿', '長頸鹿總科']\n",
            "['燕山大學', '河北大學', '湖北工業大學', '河北農業大學', '武漢紡織大學']\n",
            "['中世紀音樂', '基督教音樂', '天佑國王', '文藝復興音樂', '古典音樂']\n",
            "['小富蘭克林·德拉諾·羅斯福', '羅斯福家族', '羅斯福總統', '富蘭克林', '羅斯福大學']\n",
            "['香港科技大學', '香港大專院校列表', '香港科技大學（廣州）', '香港科技大學商學院', '技術型高級中等學校']\n",
            "['票房', '美國和加拿大最高電影票房收入列表', '千與千尋']\n",
            "['罪己詔', '議會', '許智峯', '國家憲兵', '中華民國言論自由']\n",
            "['天衛三', '撞擊坑', '面_(幾何)']\n",
            "['哈佛-麻省理工醫療科技學院', '第三次世界大戰', '第二次冷戰', '南京大學', '中華民國國家科學及技術委員會']\n",
            "['夏仙義·亞諾什·卡羅伊', '克勞斯-瑪菲', '伯克利', '落日殺神', '大衛·赫伯特·勞倫斯']\n",
            "['鴟尾', '時代', '宋朝', '宋朝_(人物)']\n",
            "['氰化鋰', '氰化鋁', '氫氧化鎵', '鹼性氧化物', '氰化氫']\n",
            "['產前發育', '妊娠', '人工流產', '流產', '胚胎髮育']\n",
            "['伊斯蘭教令', '伊斯蘭教法', 'LGBT與伊斯蘭教', '印尼伊斯蘭教', '伊斯蘭教']\n",
            "['瓦西里島站', '瓦西里島', '涅瓦-瓦西里島線', '海濱公園站', '御臺場海濱公園站']\n",
            "['艾根訴加拿大案', '漢斯·摩根索', '切斯特·艾倫·阿瑟', '威廉·霍華德·塔夫脫', '美利堅合衆國訴進步案']\n",
            "['遊輪', '郵政蒸汽船', '維京客輪', '客輪', '乘客']\n",
            "['馬克思主義政治經濟學', '古典經濟學', '馬克思學說研究會', '政治經濟學批判', '對馬克思主義的批評']\n",
            "['寒武紀大爆發', '始祖動吻蟲', '寒武紀_(消歧義)', '生物地理學', '寒武紀科技']\n",
            "['殘唐五代史演義', '羅貫中', '三國演義', '張飛', '隋唐演義']\n",
            "['軟實力', '殖民地', '銳實力', '國家實力綜合指數', '超級大國']\n",
            "['天衛二', '質量', '天衛一']\n",
            "['伊薩基', '奧吉吉亞島', '索村', '伊卡洛斯', '讓·德貝當古']\n",
            "['臺北國際動漫節', '發展', '國立臺灣工藝研究發展中心', '2015年山西衛視報道漫展事件', '開拓動漫祭']\n",
            "['臺南市東區復興國民小學', '臺南市東區裕文國民小學', '復興國小', '臺南市第二期平實營區重劃區', '臺中市立光復國民中小學']\n",
            "['鄭氏鸞', '兒子']\n",
            "['肥胖症', '腎虛', '重性抑鬱疾患', '左旋安非他命', '精神分裂症']\n",
            "['倫敦大學城市學院', 'QS世界大學排名', '倫敦國王學院', '英國', '泰晤士高等教育-QS世界大學排名']\n",
            "['武器', '液體火箭發動機', '液體火箭助推器', '槍械', '精確制導武器']\n",
            "['石黑龍', '蚩尤_(消歧義)', '龍虎門', '新著龍虎門', '蚩尤']\n",
            "['火', '全球變暖的效應', '火三角', '太空航行對人體的影響', '宇宙']\n",
            "['死者能舞', '音樂專輯']\n",
            "['黑血_(漫畫)', '血液', '黑血']\n",
            "['赤霞珠', '芳香味化合物', '印尼飲食', '新加坡飲食', '刺果番荔枝']\n",
            "['隋朝', '隋煬帝', '楊玄感', '楊昭', '楊諒']\n",
            "['新北市區公車790路線', '新北市區公車575路線', '新北市區公車570路線', '新北市區公車862路線', '新北市區公車572路線']\n",
            "['史超域', '史璧琦', '源迪恩', '教會', '聖保羅書院']\n",
            "['ZB26式輕機槍', '大宇K3輕機槍', '自動步槍', '81式自動步槍', '95式自動步槍']\n",
            "['布魯塞爾', '布魯塞爾首都大區市鎮列表', '布魯塞爾首都大區旗', '布魯塞爾法語化', '歷史_(希羅多德)']\n",
            "['黃蓉', '楊過', '小龍女', '郭靖', '公孫止']\n",
            "['王國之心繫列', '普密蓬·阿杜德', '德差蓬·保烏拉努科', '愛', '我的愛_(1986年電影)']\n",
            "['能量條件', '生物分類法', '屬', '物種', '分類學']\n",
            "['蜘蛛俠百戰曱甴精', '終極蜘蛛俠', '白額高腳蛛', '蜘蛛', '精']\n",
            "['泉州市城東中學', '泉州市', '福建省泉州第五中學']\n",
            "['五胡十六國', '永嘉之亂', '劉聰', '胡亢', '劉粲']\n",
            "['南海學園', '臺北市國定古蹟列表', '臺中市役所', '臺北市直轄市定古蹟列表', '中華民國（臺灣）']\n",
            "['臺灣桃園國際機場跑滑道系統', '臺灣桃園國際機場第一航廈', '臺灣機場列表', '臺灣桃園國際機場第三航廈', '空軍志航基地']\n",
            "['釋迦牟尼', '佛教', '喬達摩', '摩尼教', '漢傳佛教']\n",
            "['世界氣象組織', '非營利與志願部門季刊', '利潤', '.org', '國際民用航空組織']\n",
            "['白賊七', '臺灣歷史', '韓半島新經濟地圖', '經濟奇蹟', '臺灣清治時期']\n",
            "['丁丁_(丁丁歷險記)', '丁丁與流浪漢', '丁丁在蘇聯', '魔戒：力量之戒', '丁丁歷險記']\n",
            "['保羅·狄拉克', '盧卡斯影業', '喬治·斯托克斯', '楊振寧理論物理研究所', '喬治·盧斯蒂格']\n",
            "['芝諾', '伊利亞學派', '斯法埃魯斯', '法蘭克福學派', '韋利亞']\n",
            "['環境資源管理', '環境保護', '環境科學', '臺灣環境運動', '狹義相對論中的質量']\n",
            "['民族國家', '民族主義', '無國家民族', '中華人民共和國民族政策', '中國民族列表']\n",
            "['荷馬史詩', '吉爾伽美什史詩', '史詩', '中國文學', '詠史詩']\n",
            "['生物學哲學', '哲學', '心物問題', '東方哲學', '經院哲學']\n",
            "['數碼相機', '三腳架', '數碼無限擊', '數位單眼相機', '連拍']\n",
            "['脂類', '親脂性', '脂肪酸代謝', '磷脂雙分子層', '脂質體']\n",
            "['世界青年日', '科隆', '中國天主教', '中國', '臺灣宗教百景']\n",
            "['數學', '數學史', '古希臘數學', '宗教改革', '社會文化進化論']\n",
            "['茴芹屬', '朝鮮茴芹', '少花茴芹', '茴芹', '花']\n",
            "['中國人民解放軍武漢軍區空軍', '中國人民解放軍陸軍第八綜合訓練基地', '中國人民解放軍進行曲', '中國人民解放軍成都軍區', '中國人民解放軍陸軍']\n",
            "['大足石刻', '龍門石窟', '阿旃陀石窟', '雲岡石窟', '須彌山石窟']\n",
            "['北歐神話', '希臘神話', '神話學', '光神話系列', '羅馬神話']\n",
            "['阿希爾-克洛德·德彪西', '阿希爾克洛德·德彪西', '美靈', '香港華納唱片', '里斯塔維克']\n",
            "['新臺幣硬幣', '舊臺幣', '第四套橫式新臺幣', '貨幣基數', '第一套直式新臺幣']\n",
            "['臺北', '臺北101']\n",
            "['神農', '透明', '軀幹', '內臟']\n",
            "['威爾士的喬治王子', '威爾斯王妃戴安娜', '黛安娜', '戴安娜_(電影)', '威爾斯親王威廉']\n",
            "['侯景之亂', '侯安都', '梁武帝', '宋子仙', '宗教改革']\n",
            "['南北朝行政區劃', '崇義郡', '濟北郡', '長沙郡', '位置']\n",
            "['百科全書，或科學、藝術和工藝詳解詞典', '百科全書派', '德尼·狄德羅', '大美百科全書', '史丹佛哲學百科全書']\n",
            "['梅庵_(肇慶)', '博物館', '香港博物館列表', '大都會藝術博物館', '肇慶市']\n",
            "['恆星亮度列表', '恆星光度列表', '視星等', '天鵝座OB2＃12', '恆星']\n",
            "['吸血鬼', '地獄', '學生']\n",
            "['極光', '磁暴', '經度']\n",
            "['臺北', '剛果民主共和國華人', '剛果民主共和國', '首都']\n",
            "['藍寶石', '紅寶石', '海藍寶石', '紅寶石雷射', '砂金效應']\n",
            "['托洛茨基主義', '個人無政府主義', '吉倫特派', '對基督教的批評', '托馬斯·潘恩']\n",
            "['英國授勳及嘉獎制度', '馬來西亞聯邦授勳及嘉獎制度', '國會太空榮譽勳章', '香港授勳及嘉獎制度', '英國']\n",
            "['川端町', '川端公園', '臺北市', '臺北市舊町名列表', '馬場町']\n",
            "['東祖谷山村', '西祖谷山村', '三好市', '東三好町', '祖谷川']\n",
            "['臺北市私立新民國民小學', '臺北美國學校', '臺北市中山區長安國民小學', '臺北市日僑學校', '私立學校']\n",
            "['殺人', '1823年死刑判決法令', '損害', '性命雙修', '刑罰']\n",
            "['榴彈炮', '280毫米榴彈炮', '炮兵', 'M101榴彈炮', 'M1式240毫米榴彈炮']\n",
            "['加布艾萊西島', '杜布莫爾島', '聖基爾達島', '亞彭島', '羅斯島']\n",
            "['李賦都', '李賦寧', '蔡蘇娟', '儲安平', '靈烏賦']\n",
            "['魏瑪憲法', '魏瑪共和國', '憲政主義', '中華民國大陸時期', '共和立憲制']\n",
            "['宋高宗', '明達皇后', '宋孝宗', '宋神宗', '南宋']\n",
            "['中國人民解放軍武漢軍區空軍', '中國人民解放軍陸軍第八綜合訓練基地', '中國人民解放軍軍銜', '中國人民解放軍武漢軍區', '中國人民解放軍湖北省軍區']\n",
            "['南歐', '歐洲', '南歐七國', '亞洲', '島嶼國家']\n",
            "['阿曼', '阿曼蘇丹', '西亞', '沙巴', '太平洋']\n",
            "['諾貝爾和平獎得主列表', '諾貝爾和平獎', '2018年諾貝爾和平獎', '諾貝爾經濟學獎', '1989年諾貝爾和平獎']\n",
            "['納米比亞總統', '納米比亞', '海平面']\n",
            "['蚩尤_(消歧義)', '蚩尤冢', '蚩尤', '人物_(美國雜誌)', '漫畫']\n",
            "['芝加哥', '總部', '城市', '人口', '花旗銀行']\n",
            "['冥王星地理', '冥王星地質', '小說中的冥王星', '冥王星的衛星', '冥王星日食']\n",
            "['北阿坎德邦', '奈尼塔爾總督府', '北阿坎德邦行政區劃', '魯德勒布勒亞格縣', '奈尼塔爾']\n",
            "['李祖德', '邱文達', '胡寶珍', '醫學院', '高雄醫學大學']\n",
            "['昆蟲', '食用昆蟲', '農藥', '芬普尼', '白蟻']\n",
            "['滯洪池', '颶風黛安', '香港暴雨警告信號', '2020年', '森林砍伐']\n",
            "['紫質症', '焦慮症', '失智症', '神經性暴食症', '吡嗪酰胺']\n",
            "['徐翔', '證券市場', '寧波人']\n",
            "['史前時代', '石器時代', '中國中石器文化列表', '舊石器時代', '中國史前文化']\n",
            "['苯乙烯', '二乙烯酮', '氯乙烯', '乙烯四甲酸二酐', '乙烯酮']\n",
            "['木衛五十', '土星的衛星', '火星的衛星', '木星的衛星', '木衛十四']\n",
            "['地球一小時', '少年悍將GO！', '震盪波蠕蟲', '小時', '少年']\n",
            "['臺中市西大墩婦女中心', '臺中市婦女福利服務中心', '嘉義市政府社會處', '中國福利會', '天主教聖母聖心修女會']\n",
            "['午夜巴黎', '第64屆戛納電影節', '魔力月光', '起士蛋糕', '幽靈']\n",
            "['喬治·卡特萊特·馬歇爾', '道格拉斯·麥克阿瑟', '約瑟夫·勞頓·科林斯', '喬治·巴頓掌摑事件', '德懷特·艾森豪威爾']\n",
            "['羅馬神話', '古希臘羅馬神話', '古羅馬宗教', '朱庇特', '古羅馬']\n",
            "['劉淵', '漢趙', '漢', '劉曜', '東漢']\n",
            "['關羽', '形象']\n",
            "['科舉', '審查制度', '制度', '隋朝']\n",
            "['隆背小沙丁魚', '沙丁魚罐頭', '白小沙丁魚', '繸鱗小沙丁魚', '沙丁魚']\n",
            "['北阿坎德邦', '奈尼塔爾總督府', '魯德勒布勒亞格縣', '奈尼塔爾縣', '北阿坎德邦行政區劃']\n",
            "['燕山大學', '秦皇島市', '房山區', '山東財經大學', '河北大學']\n",
            "['胸圍', '隱形胸罩', '胸線', '胸罩', '胸罩歷史']\n",
            "['光速', '速度', '廣義相對論入門', '宇宙', '動圈']\n",
            "['線上文字角色扮演遊戲', '大型多人線上角色扮演遊戲列表', '網絡遊戲', '饕餮', '形象']\n",
            "['馬六甲海峽', '海峽', '地區', '馬六甲_(消歧義)', '現在']\n",
            "['不信任及彈劾香港特別行政區行政長官', '第二次唐納德·特朗普彈劾案', '憲法法庭', '第一次唐納·川普彈劾案', '朴槿惠彈劾案']\n",
            "['導演', '表演藝術', '蘇振威', '場面調度', '視聽數碼國際標準']\n",
            "['巴勒斯坦總理', '巴勒斯坦人', '巴勒斯坦', '巴勒斯坦託管地', '巴哈歐拉']\n",
            "['捷列什卡河', '維捷格拉河', '伏爾加河', '伏爾加湖', '沃多霍季']\n",
            "['漢服運動', '金朝', '漢名', '漢族對周邊民族服飾的影響', '孝文帝改革']\n",
            "['小利蘭·斯坦福', '朱棣文', '學生', '史丹佛大學', '斯坦福']\n",
            "['聲爆', '爆震', '音障', '口技', '炸彈']\n",
            "['奧利華·史東', '疤面煞星', '詹姆斯·史都華', '美國電影', '神鬼駭客：史諾登']\n",
            "['柯伊伯帶', '彗星', '傑拉德·柯伊伯']\n",
            "['本傑明·富蘭克林', '富蘭克林_(維吉尼亞州)', '富蘭克林研究所', '富蘭克林·德拉諾·羅斯福', '鳳凰城']\n",
            "['海港–加州大學洛杉磯分校醫學中心', '加州大學洛杉磯分校棕熊隊', '蘇菲亞·柯波拉', '學生', '加利福尼亞大學洛杉磯分校']\n",
            "['中華人民共和國紡織工業部', '中華人民共和國食品工業部', '二輕工業', '杜子端', '哈爾濱理工大學']\n",
            "['拖鞋', '赤足', '藍白拖', '家', '動物']\n",
            "['南冰洋', '洋', '大西洋', '北冰洋', '世界洋']\n",
            "['李賦寧', '李賦都', '中國']\n",
            "['納尼氏囊鰓鯰', '阿氏喉鰭魚', '中脂䱀', '梅氏平鰭鮠', '瓦氏擬鱯']\n",
            "['英國', '死者能舞', '杭州駐防城']\n",
            "['納米比亞']\n",
            "['格奧爾格·康托爾', '卡爾·龍格', '康托爾集', '路德維希·維特根斯坦', '奧地利學派']\n",
            "['朱利奧·安德烈奧蒂', '羅伊斯-埃伯斯多夫的奧古斯塔', '表現主義', '畫家']\n",
            "['勳章', '袁隆平', '勞動紅旗勳章', '解放勳章', '卿雲勳章']\n",
            "['張學良', '張學良臺北故居', '楊虎城', '熱河戰役', '沈一鳴']\n",
            "['泉州市']\n",
            "['中華人民共和國大元帥', '英國陸軍元帥列表', '羅東進', '羅榮桓', '中國人民解放軍總幹部部']\n",
            "['奧古斯都', '古羅馬', '奧古斯都·普金', '頭銜', '奧古斯都·勞裏克殖民地']\n",
            "['尼克·貝爾格', '綁票']\n",
            "['2-巰基乙醇', '硫酸氫鈉', '還原劑', '錳酸鉀', '碘酸']\n",
            "['撞擊坑', '撞擊結構', '普維斯撞擊坑', '林布蘭撞擊坑', '鷹撞擊坑']\n",
            "['盧卡斯影業', '喬治·盧卡斯', '星際大戰正傳三部曲', '奧斯卡最佳導演獎', '星際大戰四部曲：曙光乍現']\n",
            "['中華人民共和國島嶼列表', '分治島嶼列表', '島嶼國家', '汕尾島嶼', '珠海島嶼']\n",
            "['非經典邏輯', '邏輯史', '邏輯', '辯證邏輯', '墨家']\n",
            "['盧卡斯·赫賈', '拉迪姆·雷茲尼克', '揚·克利門特', '雅庫布·尤加斯', '托馬斯·霍拉瓦']\n",
            "['拔貢', '中國科舉制度', '科舉', '審查制度', '朝鮮審查制度']\n",
            "['李賦寧', '李賦都', '李白', '李泌', '祖籍']\n",
            "['甘尼夫卡-維裏夫西卡', '甘尼夫卡-捷爾尼夫西卡', '甘尼夫西克', '布利茲紐基區', '布利茲紐基']\n",
            "['艾科·伊本', '伊利諾伊大學威拉德機場', '伊利諾大學芝加哥分校', '伊利諾大學春田分校', '布蘭登·保羅']\n",
            "['墨西哥國徽', '古巴國徽', '樹枝', '墨西哥國旗', '梨果仙人掌']\n",
            "['殼聚糖', '氨基葡萄糖', '甲殼質', 'N-乙酰葡糖胺', '多糖']\n",
            "['決策', '企劃', '主管支援系統', '反對逃犯條例修訂草案運動中使用的策略和方法', '全曜財經']\n",
            "['BS富士', '富士新聞網', '中國中央電視臺電視劇頻道', '富士電視網', '西日本放送電視臺']\n",
            "['臺灣日治時期高等教育機關', '臺北州立臺北第四中學校', '臺灣日治時期', '臺北州立臺北第一中學校', '北市六省中']\n",
            "['南小島', '北小島', '橄欖門', '東海', '渤海海峽']\n",
            "['鴟尾', '時代', '宋朝', '宋朝_(人物)']\n",
            "['小行星7672', '小行星9901', '小行星7799', '小行星9665', '小行星9027']\n",
            "['茶', '擂茶', '東方美人茶', '草本茶', '茶葉蛋']\n",
            "['秋紅谷廣場', '暴雨']\n",
            "['沈申甫', '沈宗瀛', '副博士學位', '丁奎嶺', '名譽學位']\n",
            "['疾病', '喬治三世', '三酸甘油酯', '喬治·桑', '喬治·哈里森']\n",
            "['七股莊', '臺南市文化資產', '臺南市', '臺鹽七股機車庫', '臺南市行政區劃']\n",
            "['民族學', '人類', '人類演化', '分子人類學', '分支龍屬']\n",
            "['白話字', '海南話白話字', '客家白話字', '早期官話', '唐話番字初學']\n",
            "['明憲宗', '大中之治', '李賢_(大學士)', '李忠臣', '崔胤']\n",
            "['北京理工大學附屬小學', '北京理工大學附屬中學', '理大', '明德學院', '學院']\n",
            "['虛擬教研中心', '清華大學地球系統科學系']\n",
            "['古希臘葡萄酒', '廣博仙人', '動地吟', '吟遊詩人', '耶穌']\n",
            "['南京大學附屬中學', '中國東部經濟區', '南京師範大學附屬中學', '南京田家炳高級中學', '越南地理區劃']\n",
            "['湯姆·漢克斯', '湯姆·克魯斯', '湯姆·班克斯', '獎勵', '費用']\n",
            "['臺灣總督府民政部', '臺灣總督府評議會', '臺灣總督府', '臺灣總督府交通局鐵道部', '臺灣總督府交通局遞信部']\n",
            "['圖像壓縮技術', '圖像壓縮', '壓縮失真', '有損數據壓縮', '紋理壓縮']\n",
            "['社會變遷', '社會問題', '液體', '現象']\n",
            "['潘恩', '羅伯特·崔特·潘恩', '托馬斯·潘恩', '法語', '迦勒·潘恩']\n",
            "['安德斯·海爾斯伯格', 'TypeScript', '哥本哈根大學', 'Borland', 'Delphi']\n",
            "['馬達加斯加', '馬達加斯加的企鵝', '生物地理分佈區', '生物多樣性熱點', '生物多樣性']\n",
            "['明憲宗', '大中之治', '李忠臣', '李賢_(大學士)', '崔胤']\n",
            "['霍華德·菲利普斯·洛夫克拉夫特', '古典制約', '制約', '柴犬', '伊萬·巴甫洛夫']\n",
            "['社會問題', '中華人民共和國社會問題', '社會生物學', '王安石', '社會生態學']\n",
            "['城市規劃', '天津城市規劃', '省域副中心城市', '香港單車徑', '首爾特別市']\n",
            "['臺中市私立曉明女子高級中學', '祁志英', '花蓮縣私立海星高級中學', '臺中市立臺中女子高級中等學校', '林嘉俐']\n",
            "['艾根訴加拿大案', '奧貝格費爾訴霍奇斯案', '美國訴溫莎案', '美國同性婚姻', '加拿大']\n",
            "['紅河', '中國河流列表', '珠江', '海南河流列表', '中國地理']\n",
            "['聲爆', '爆炸', '爆震', '音障', '聲音']\n",
            "['臺灣客家語', '臺灣國語', '國語政策', '香港本土語言', '弋陽腔']\n",
            "['拜占庭皇帝列表', '奧古斯都', '君士坦丁王朝', '拜占庭政府機構和貴族頭銜', '神聖羅馬皇帝']\n",
            "['嘉興市', '京杭大運河', '裏運河', '浙東運河', '運河']\n",
            "['古希臘葡萄酒', '吟遊詩人', '亞瑟王傳說', '耶穌', '紅葡萄酒']\n",
            "['柳枝', '唐詩', '全唐詩', '唐詩別裁集', '李商隱']\n",
            "['柯伊伯帶', '天王星的衛星', '太陽系', '衛星', '蘋果']\n",
            "['哈比人', '阿爾達的語言', '魔戒電影三部曲', '魔戒', '哈比人列表']\n",
            "['川瀨夏菜', '矢神椎野', '中元日芽香', '川井田夏海', '涼風']\n",
            "['黎曼ζ函數', '應用數學', '代數數論', '數學物理', 'L函數']\n",
            "['颱風', '氣旋史蒂芬妮', '風', '2016年太平洋颱風季', '後熱帶氣旋']\n",
            "['獅子座', '獅子座56', '獅子座79', '獅子座ψ', '獅子座ρ']\n",
            "['王家衛', '侯孝賢', '金獅獎', '奧斯卡最佳國際影片獎', '第70屆威尼斯國際電影節']\n",
            "['代碼風格', '程序錯誤', '許安東', '錯誤']\n",
            "['卡爾文·墨菲', '魯迪·湯姆賈諾維奇', '休士頓火箭歷屆冠軍成員', '已解散的NBA球隊列表', '哈基姆·奧拉朱旺']\n",
            "['臺灣三山善社', '蔡兆章', '世界福州十邑同鄉總會', '一新社', '章元善']\n",
            "['撒丁島', '家畜', '畜牧學', '地中海飲食', '地中海']\n",
            "['中華人民共和國紡織工業部', '中華人民共和國食品工業部', '二輕工業', '輕工業', '韓德銖平壤輕工業大學']\n",
            "['阿希爾-克洛德·德彪西', '阿希爾克洛德·德彪西', '美靈', '香港華納唱片', '張瓊英']\n",
            "['張藝謀', '李安', '第7屆威尼斯影展', '侯孝賢', '蔡明亮']\n",
            "['內畫壺', '中國美術史', '日本國寶', '工藝美術', '中國']\n",
            "['麻原彰晃', '奧姆真理教的顛覆國家計劃', '被認定的恐怖組織列表', '松本沙林毒氣事件', '真理國']\n",
            "['殖民主義', '史明', '殖民地', '入關學', '次殖民地']\n",
            "['約翰·韋恩', '奧麗維亞·德哈維蘭', '亂世佳人', '百年孤獨', 'AFI百年百大明星']\n",
            "['希臘神話', '神話學', '羅馬神話', '北歐神話', '日本神話']\n",
            "['人', '自然', '超自然現象', '醫療衛生哲學', '人文學科']\n",
            "['F.I.R.飛兒樂團', '椅子樂團', 'TOP1男子漢', '梵谷的左耳', '酷愛樂團']\n",
            "['沈鈞儒', '徐樾', '祖籍', '謝存儒', '明朝']\n",
            "['氫', '氫氣焊接', '氫氣', '分子']\n",
            "['桑吉巴蝴蝶魚', '黑鰭蝴蝶魚', '鰭斑蝴蝶魚', '安達曼島蝴蝶魚', '領蝴蝶魚']\n",
            "['光速', '超光速', '萬有理論', '宇宙', '超光速運動']\n",
            "['行政法', '行政機關', '公共行政學', '行政法務司', '行政程序法']\n",
            "['亞伯拉罕·林肯', '蓋茲堡演說', '基輔雞演說', '本傑明·哈里森', '美國總統列表']\n",
            "['波士頓', '英國通用電氣公司', '合資公司', '企業', '聯合國總部大樓']\n",
            "['液體', '沸點', '氣體', '空氣污染', '室內空氣污染']\n",
            "['臺獨黨綱', '民主進步黨主席', '朱高正', '民進', '自由韓國黨']\n",
            "['RAID', '磁碟清理', '程序設計', '簇', '程序']\n",
            "['木衛五十三', '衛星的命名', '木星日食', '木衛一火山觀測者', '木星的衛星']\n",
            "['馬克思學說研究會', '馬克思主義思想流派', '對馬克思主義的批評', '西方馬克思主義', '馬克思主義政治經濟學']\n",
            "['彌涅耳瓦', '正義女神', '波愛修斯', '阿皮亞斯', '第一門的奧古斯都像']\n",
            "['索爾', '雷神', '半神', '索爾_(漫威漫畫)', '北歐神話']\n",
            "['鼕鼕的假期', '侯孝賢', '金馬獎最佳劇情短片', '泰迪熊獎', '金馬獎最佳劇情長片']\n",
            "['重慶理工大學', '金融科技創新園區', '屏東農業生物科技園區', '潭子科技產業園區', '前鎮科技產業園區']\n",
            "['狄仁傑', '新刻京本通俗演義增像包龍圖判百家公案全傳', '趙勉', '周墀', '宋朝宰相列表']\n",
            "['毒魚豆', '魚', '勞氏豆娘魚', '六線豆娘魚', '雪卡毒素']\n",
            "['基督教歷史', '香港宗教與風俗', '中國基督教', '中華人民共和國宗教', '聖經思高本']\n",
            "['2020年美國總統特朗普支持率列表', '林登·約翰遜', '越南戰爭', '美國', '鮑里斯·約翰遜']\n",
            "['魏晉南北朝', '曹魏', '三國', '安南屬明時期', '臺灣戰後時期']\n",
            "['蓇葖果', '果實', '東方果實蠅', '子房', '種子']\n",
            "['標準舞', '芭蕾舞裙', '女性']\n",
            "['釀造醋', '鎮江香醋', '油醋汁', '葡萄柚飲食法', '浙醋']\n",
            "['康托爾函數', '格奧爾格·康托爾', '數學史', '康托爾集', '數學']\n",
            "['鐵達尼號沉沒事故', '船', '奄美大島海戰', '世越號沉沒事故', '鐵達尼號救生艇']\n",
            "['即墨區', '中國油畫', '人祭', '雞籠中元祭', '祭海節']\n",
            "['遺傳性疾病', '預防醫學', '患者', '疾病', '古病理學']\n",
            "['犀渠', '盾', '犀皮', '怪物', '中國']\n",
            "['伍迪·艾倫', '托馬斯·列儂', '漫威漫畫', '安妮·霍爾', '伍迪·艾倫獲獎與提名列表']\n",
            "['聯合國總部大樓', '北馬其頓經濟', '經濟增長', '7月20日密謀案', '2019冠狀病毒病疫情引發的經濟衰退']\n",
            "['松柏塱', '崑崙村', '雞嶺', '三棟屋村', '村長']\n",
            "['鯡形目', '魚', '鱸形目', '鱂形目', '八腕目']\n",
            "['生物學史', '植物學', '生物', '生物工程學', '中國科技大學']\n",
            "['美國', '屬地']\n",
            "['奇亞拉錢卡山', '皮爾瓦尼山', '尤耶亞科山', '漢科科柳山', '桑卡尤尼山']\n",
            "['醫療疏失', '醫療事故', '全球']\n",
            "['馬克思學說研究會', '馬克思主義思想流派', '馬克思主義政治經濟學', '西方馬克思主義', '對馬克思主義的批評']\n",
            "['後熱帶氣旋', '颱風', '環狀熱帶氣旋', '風', '熱帶氣旋等級']\n",
            "['美國訴溫莎案', '奧貝格費爾訴霍奇斯案', '艾根訴加拿大案', '美國同性婚姻', '日本LGBT權益']\n",
            "['馬克思學說研究會', '馬克思主義思想流派', '馬克思主義政治經濟學', '西方馬克思主義', '對馬克思主義的批評']\n",
            "['女性主義', '女性', '女女性行爲者', '焦慮', '廣泛性焦慮症']\n",
            "['牛亞科', '親屬', '動物', '支序分類學', '親屬選擇']\n",
            "['外科學', '英國古代牧羊犬', '古代太空人', '頭', '外科學歷史']\n",
            "['貝雷特', '貝塔·雷·比爾', '愛']\n",
            "['魔力月光', '神經質', '煩躁', '情緒', '艾倫']\n",
            "['有機發光晶體管', '場效應管', '氧化物薄膜晶體管', '雙極性晶體管', '晶體管']\n",
            "['北歐神話', '希臘神祇及神話人物列表', '神話', '日本神話', '海洋女神']\n",
            "['阿希爾-克洛德·德彪西', '阿希爾克洛德·德彪西', '美靈', '香港華納唱片', '張瓊英']\n",
            "['水銀燈', '光', '螢光燈', '啓輝器', '電磁輻射']\n",
            "['魏聯奎', '宋振聲', '中國人', '宋潢_(嘉慶壬戌進士)', '政治人物']\n",
            "['茶', '擂茶', '草本茶', '茶葉蛋', '東方美人茶']\n",
            "['界', '法', '界_(生物)', '域', '域_(生物)']\n",
            "['嶺南師範學院', '國立師範學院', '華南師範大學附屬中學', '韓山師範學院', '華南師範大學法學院']\n",
            "['宋高宗', '明達皇后', '宋孝宗', '宋神宗', '南宋大事年表']\n",
            "['臺北市客家文化主題公園', '臺北市中正區東門國民小學', '川端公園', '臺北市中正區螢橋國民小學', '臺北市政府']\n",
            "['新聞聯播', '全國新聞聯播', 'CBS晚間新聞', '2009無線節目巡禮', '新聞聯播天氣預報']\n",
            "['淡水河', '遼寧河流列表', '臺灣河流列表', '中國河流列表', '海南河流列表']\n",
            "['生物分類法', '分類學', '屬', '分類單元', '垃圾分類']\n",
            "['麗山', '臺北市立陽明高級中學', '臺北市內湖區南湖國民小學', '鄭顯三', '臺北市內湖區東湖國民小學']\n",
            "['康沃爾冰川', '迪圖瓦冰原島峯', '麥克貝恩山', '福派峯', '托爾冰川']\n",
            "['主小行星帶', '彗星', '小行星衛星', '日心軌道', '軌道_(力學)']\n",
            "['龜山城', '福山市', '廣島縣', '古代山城', '備後國']\n",
            "['毒魚豆', '雪卡毒素', '魚', '勞氏豆娘魚', '毒藥的歷史']\n",
            "['西廂記', '王實甫', '南西廂記', '秦簡夫', '西廂記諸宮調']\n",
            "['丁卯戰爭', '金朝', '義兵運動', '中華民國政治作戰', '馬丁·路德·金']\n",
            "['弗拉基米爾·普京']\n",
            "['果實', '葡萄', '簇']\n",
            "['羅伯特·託德·林肯', '亞伯拉罕·林肯', '錫蓋特堡戰役', '蓋茨堡戰役', '林肯遇刺案']\n",
            "['韓國行政區劃', '日本行政區劃', '世宗特別自治市', '2014年大韓民國地方選舉', '2010年大韓民國地方選舉']\n",
            "['赤足', '感覺', '路']\n",
            "['張京澤', '書記', '省委書記', '中華人民共和國國家民族事務委員會', '自治區黨委書記']\n",
            "['冰島語', '冰島語語言純化主義', '古諾斯語', '冰島人', '冰島']\n",
            "['馬克思學說研究會', '馬克思主義思想流派', '馬克思主義政治經濟學', '西方馬克思主義', '對馬克思主義的批評']\n",
            "['張谷英村', '地形', '國家點火設施', '中國給排水現狀', '建築結構']\n",
            "['馬克思學說研究會', '馬克思主義思想流派', '馬克思主義政治經濟學', '西方馬克思主義', '對馬克思主義的批評']\n",
            "['臺北市私立道明外僑學校', '臺北美國學校', '臺灣國際學校列表', '新竹美國學校', '省辦高中，縣市辦初中']\n",
            "['回族', '巴天族', '回族身份認同', '金姓', '中國朝鮮族']\n",
            "['鎖麟囊', '皇都戲院', '上海市']\n",
            "['臺灣鐵路運輸', '中華人民共和國交通', '馬來西亞鐵路電氣化項目', '重慶高速公路', '林邊鄉鐵路高架化計劃']\n",
            "['李祖德', '邱文達', '臺北醫學大學', '高雄醫學大學', '臺灣總督府醫學校']\n",
            "['卡洛曼一世', '矮子丕平', '查理曼', '丕平·卡洛曼', '身材矮小症']\n",
            "['神農', '透明', '內臟', '肢']\n",
            "['城市規劃', '天津城市規劃', '南京大學城市規劃與設計系', '北京市城市管理委員會', '城市管理執法']\n",
            "['奧莉薇雅·柯爾曼', '奧黛麗·赫本', '婚姻故事', '艾倫·鮑絲汀', '蕾妮·齊薇格']\n",
            "['宗教信仰哲學', '宗教哲學', '無宗教', '宗教自由', '宗教史']\n",
            "['希臘神話', '古希臘宗教', '神話學', '物理學史', '羅馬神話']\n",
            "['昆蟲', '食用昆蟲', '蝴蝶', '臺灣蝴蝶列表', '農作物']\n",
            "['米開朗基羅', '米開朗基羅·樂孔特']\n",
            "['伊斯法罕地鐵', '伊斯法罕省', '伊斯法罕', '伊朗交通', '法靈頓站']\n",
            "['神農', '神農本草經', '烈山氏', '中國神話', '傳說']\n",
            "['中華人民共和國國土資源部', '六盤水市', '礦產資源', '中國']\n",
            "['玲子·艾爾斯沃斯', '亞洲', '血親', '身']\n",
            "['奇夸克', '下夸克', 'Λ粒子', '上夸克', '夸克']\n",
            "['澳洲工黨', '斯科特·布赫茲', '保守主義', '約翰·科斯特利茨', '喬賽亞·威拉德·吉布斯']\n",
            "['音樂', '音階', '拉薩行', '滑音', '組曲']\n",
            "['煎餅餜子', '大餅雞蛋', '煎餅_(日本)', '油餅', '中式麪餅']\n",
            "['沈鈞儒', '王頌蔚', '錢崇威', '沈墉', '祖籍']\n",
            "['西恩·威廉·史考特', '雷利·史考特', '史考特·普魯特', '史考特·詹森', '蒙哥馬利·史考特']\n",
            "['半費之訟', '法律邏輯學', '邏輯', '悖論']\n",
            "['硫', '乙酸鈾酰鈉', '二硫代氨基甲酸銨', '溴化鎘', '五氯化鏷']\n",
            "['阿托品', '教師', '神仙·老師·狗']\n",
            "['2019年世界游泳錦標賽藝術游泳比賽', '葉巒']\n",
            "['民族國家', '歐洲聯盟語言', '歐亞語系', '非洲語言', '國族認同']\n",
            "['語言', '絕跡語言', '歐洲聯盟語言', '諾維亞語', '語言教育']\n",
            "['香港演藝學院', '尤金·波利', '獅門影視公司', 'Google街景服務', '香港人']\n",
            "['星期六', '禮拜_(伊斯蘭教)']\n",
            "['歐內斯特·勞倫斯', '馬克·奧利芬特', '羅伯特·奧本海默', '格倫·西奧多·西博格', '劉佩玲']\n",
            "['冠蕉鵑', '膽綠素', '眼珠顏色', '色素細胞', '花色素苷']\n",
            "['冰島語', '古諾斯語', '冰島語語言純化主義', '冰島人', '冰島']\n",
            "['程序設計方法學', '程序設計實踐', '面向對象程序設計', '高級程序員', 'XMLGUI']\n",
            "['衛星的命名', '木星的衛星', '木星日食', '木星', '衛星']\n",
            "['資本主義政治經濟學', '無政府資本主義', '新世界秩序', '社會主義政治經濟學', '政府']\n",
            "['伯明翰機場', '伯明翰', '伯明翰大學', '紅磚大學', '英國']\n",
            "['1984年羅傑尼希教生物恐怖攻擊', '泰米爾伊拉姆猛虎解放組織', '2001年美國炭疽攻擊事件', '羅傑尼希社區', '忒修斯']\n",
            "['邏輯史', '非經典邏輯', '邏輯', '辯證邏輯', '墨家']\n",
            "['隼', '隼形目', '獵隼', '猛禽', '美國隼']\n",
            "['馬克思學說研究會', '馬克思主義思想流派', '對馬克思主義的批評', '西方馬克思主義', '馬克思主義政治經濟學']\n",
            "['白肉迷孔菌', '櫟迷孔菌', '薄孔菌屬', '粗糙擬迷孔菌', '接合菌門']\n",
            "['世界地質公園列表', '中國省級風景名勝區', '中華人民共和國國家級風景名勝區', '中國國家地質公園', '甘肅張掖國家地質公園']\n",
            "['剛果民主共和國', '剛果民主共和國華人', '瓜分非洲', '非洲國家和地區列表', '蘇聯地理']\n",
            "['信息及通信技術', '技術', '災防告警細胞廣播訊息系統', '美國的加密技術出口管制', '技術就緒指數']\n",
            "['死者能舞', '音樂專輯']\n",
            "['全買', '長頸鹿', '愛買', '網紋長頸鹿', '東帝士量販賣場']\n",
            "['六盤水市', '中華人民共和國國土資源部', '六盤水月照機場', '中國', '礦產資源']\n",
            "['撒丁民族主義', '文化', '撒丁島', '風俗']\n",
            "['國家教育研究院', '學術', '研究員', '僞學術', '英國國家學術院']\n",
            "['性感帶', '性愉悅', '感受', '性功能障礙', '性高潮']\n",
            "['臺北市文山區興華國民小學', '臺北市文山區萬芳國民小學', '臺北市政府', '臺中市政府教育局', '臺北市私立中興高級中學']\n",
            "['複合材料', '樹脂基複合材料', '碳纖維', '工程用水泥基複合材料', '建築材料']\n",
            "['琉球族', '琉球文', '琉球獨立運動', '琉球歷史', '美國統治琉球時期']\n",
            "['硫酸𨥙', '硫酸鈰(IV)', '硫酸鎂', '硫酸亞鉈', '硫酸']\n",
            "['行政院院長', '張其昀', '俞鴻鈞內閣', '行政院', '行政院教育改革審議委員會']\n",
            "['廖文毅', '一生', '民主運動_(法國)']\n",
            "['氏族', '切羅基七氏族', '燧人氏', '狩獵', '種姓制度']\n",
            "['奧斯卡最佳改編劇本獎', '羅伯特·本頓', '小說', '名']\n",
            "['詹姆斯·諾克斯·波爾克', '選舉', '總統']\n",
            "['大同書', '思想', '習近平新時代中國特色社會主義思想', '批判理論', '盛世危言']\n",
            "['國立臺灣科技大學研揚大樓', '國立臺灣科技大學管理研究所', '國立臺灣科技大學', '國立臺灣大學系統', '國立臺灣科技大學管理學院']\n",
            "['泉州港', '泉州_(消歧義)', '泉州灣', '泉州市', '海港']\n",
            "['輕機槍', '88式通用機槍', 'T91戰鬥步槍', '95式自動步槍', '大宇K3輕機槍']\n",
            "['百武二號彗星', '彗星', '彗尾', '彗發', '週期彗星列表']\n",
            "['颱風', '後熱帶氣旋', '熱帶氣旋等級', '熱帶低氣壓', '2008年北印度洋氣旋季']\n",
            "['馬爾代夫', '亞洲', '國家']\n",
            "['蘇格拉底反詰法', '蘇格拉底', '蘇格拉底式的質疑', '柏拉圖', '泰阿泰德']\n",
            "['新約外典', '耶穌基督後期聖徒教會', '基督教藝術', '使徒信經', '猶太教改革派']\n",
            "['社會科學', '國家社會科學基金', '社會主義政治經濟學', '政治經濟學批判', '政治經濟學']\n",
            "['通用產品代碼', '二維碼', '目標代碼', 'QR碼', '比特幣']\n",
            "['中華人民共和國大元帥', '英國陸軍元帥列表', '羅東進', '羅榮桓', '中國人民解放軍總幹部部']\n",
            "['果酒', '水果', '蘋果酒', '果實', '中國酒文化']\n",
            "['臺北市私立協和祐德高級中學', '桃園市新興高級中等學校', '臺灣國中教育', '高職', '臺北市']\n",
            "['讓多米尼克·卡西尼', '喬瓦尼·多梅尼科·卡西尼', '卡西尼', '塞薩爾弗朗索瓦·卡西尼·德·蒂裏', '亨利·卡西尼']\n",
            "['考試院', '考試', '公務人員特種考試', '隋煬帝', '中華民國國家考試']\n",
            "['北京理工大學']\n",
            "['神農', '透明', '身體', '內臟']\n",
            "['備後', '備後國', '松前城', '福山城_(備後國)']\n",
            "['紫微大帝', '紫微垣', '皇后', '故宮']\n",
            "['中華人民共和國地質礦產部', '中華人民共和國國家計劃委員會', '中華人民共和國', '中國地質調查局', '中華人民共和國政府']\n",
            "['石灰鹼釉', '石灰', '氫氧化鈣', '鹼石灰', '米豆腐']\n",
            "['遠東集團', '徐有庠', '徐旭東', '遠東集團_(臺灣)', '高希均']\n",
            "['天衛五', '抱得有情郎', '綠林女兒羅妮婭', '威廉·莎士比亞', '伊恩·麥凱倫']\n",
            "['李祖德', '邱文達', '臺北醫學大學', '高雄醫學大學', '醫師勞動條件改革小組']\n",
            "['關心妍', '原諒他77次', '歌手·當打之年', '蔡卓妍', '香港']\n",
            "['李祖德', '邱文達', '胡寶珍', '醫學院', '高雄醫學大學']\n",
            "['程序設計方法學', '高級程序員', '程序設計實踐', '面向對象程序設計', 'XMLGUI']\n",
            "['姚明', '奈史密斯籃球名人紀念堂', '凱蒂·史密斯', '克里斯蒂安·萊特納', '斯萊特·馬丁']\n",
            "['徐志摩', '志摩', '海外']\n",
            "['地震波', 'P波', '次聲波', '聲波', '地震']\n",
            "['多元處理', 'AMD加速處理器', '多線程', '圖形處理器', '數位訊號處理器']\n",
            "['內燃機', '粉塵燃燒', '煙', 'TE1G型煤氣內燃機車', '發動機']\n",
            "['宋教仁', '1930年代中國', '對孫中山的評價', '中國共產黨歷史', '志願役與義務役並用制']\n",
            "['基留希', '伊特比', '瑞典', '聚落', '哈爾科夫']\n",
            "['領土糾紛', '領土', '美國領土變遷', '2002年英國海外領土法令', '國家']\n",
            "['賽普勒斯', '新石器時代', '石器時代', '時代', '人類']\n",
            "['內畫壺', '日本國寶', '工藝美術', '早期基督教藝術', '佛光山佛陀紀念館']\n",
            "['賀龍體育文化中心', '大鵬灣國家風景區', '臺灣建築', '哥德復興式建築', '賀龍塑像']\n",
            "['臺北市政府捷運工程局', '臺北市政府', '臺北市政府勞動局', '臺北市政府產業發展局', '臺北市政府民政局']\n",
            "['下夸克', '上夸克', '夸克', '底夸克', '頂夸克']\n",
            "['民族國家', '民族主義', '無國家民族', '中國語言', '中國民族列表']\n",
            "['北阿坎德邦', '魯德勒布勒亞格縣', '北', '南', '印度']\n",
            "['中國佛教', '印度佛教', '初期佛教', '佛教歷史', '佛教']\n",
            "['F.I.R.飛兒樂團', '椅子樂團', 'TOP1男子漢', '酷愛樂團', '陳珊妮']\n",
            "['鄧小平南巡', '改革開放', '鄧小平', '王震']\n",
            "['穀梁傳', '春秋_(書)', '春秋']\n",
            "['馬克思主義政治經濟學', '古典經濟學', '馬克思學說研究會', '政治經濟學批判', '對馬克思主義的批評']\n",
            "['俄法戰爭', '博羅金諾戰役', '拿破崙戰爭', '低強度戰爭', '古寧頭戰役']\n",
            "['捷列什卡河', '維捷格拉河', '伏爾加河', '阿赫圖巴河', '伏爾加湖']\n",
            "['農村', '許世友']\n",
            "['隼形目', '隼', '猛禽', '美國隼', '獵隼']\n",
            "['臺北州立臺北第一中學校', '臺北州立臺北第四中學校', '臺北', '臺北帝國大學', '北市六省中']\n",
            "['草鴞屬', '草鴞科', '慄鴞屬', '短耳鴞', '非洲草鴞']\n",
            "['臺北市立啓明學校', '臺北市日僑學校', '臺北美國學校', '國立臺中教育大學', '臺中市立臺中工業高級中等學校']\n",
            "['臺中市西大墩婦女中心', '臺中市婦女福利服務中心', '晚晴婦女協會', '婦女事務委員會', '婦女神學']\n",
            "['馬爾代夫', '亞洲經濟', '馬爾地夫歷史', '意大利', '亞洲']\n",
            "['李祖德', '邱文達', '臺北醫學大學', '高雄醫學大學', '專業倫理']\n",
            "['吉勒摩·戴託羅之皮諾丘', '皮埃爾-夏爾·維爾納夫', '富蘭克林·皮爾', '赫丘勒·白羅', '著名奇妙奧祕']\n",
            "['秦邦憲舊居', '博古', '亞洲']\n",
            "['葛萊美獎', '奧斯卡', '奧斯卡最佳實景短片獎', '奧斯卡金像獎', '奧斯卡最佳改編劇本獎']\n",
            "['Fairytale', '童話鎮', '格林童話', '超級拉奇傳說', '名字古怪的小矮人兒']\n",
            "['Astropulse', '外星人', '工業電腦', '搜尋地外文明計劃', '筆記型電腦']\n",
            "['火星的衛星', '火星日食', '土星的衛星', '火衛一', '小行星衛星']\n",
            "['臺灣大學卡通漫畫研究社', '臺灣漫畫雜誌', '臺灣漫畫月刊', '臺灣動畫歷史', '臺灣動畫']\n",
            "['阿姆斯特丹']\n",
            "['颱風', '食物']\n",
            "['始祖動吻蟲', '火星', '寒武紀大爆發', '火星探測', '寒武紀_(消歧義)']\n",
            "['黃蓉', '楊過', '丁敏君', '倚天屠龍記', '紀曉芙']\n",
            "['似哺乳爬行動物', '爬行動物', '副爬行動物', '布雷頓循環', '食物熱量']\n",
            "['硝酸', '高氯酸', '鏹水', '酸', '硫酸']\n",
            "['朕即國家', '法國大革命', '沙皇專制制度', '法國政治', '君主專制']\n",
            "['潮州市文物保護單位', '潮州市', '文化']\n",
            "['民主進步黨主席', '建國黨', '臺獨黨綱', '民進', '自由韓國黨']\n",
            "['維納斯', '紀念日', '羅馬']\n",
            "['海星', '占星術', '身體']\n",
            "['北歐神話', '希臘神祇及神話人物列表', '日本神話', '神話學', '羅馬神話']\n",
            "['明治製糖', '除名太平洋颶風名稱列表', '臺北製糖所', '太平洋戰爭', '臺灣糖業公司']\n",
            "['玉衣', '絲縷玉衣', '劉勝金縷玉衣', '扶餘國', '王爾玉']\n",
            "['黑血_(漫畫)', '血藍蛋白', '鴨血糯', '血液', '黑血']\n",
            "['楊小凱', '古典經濟學', '弗里德里希·哈耶克', '羅伯特·巴羅', '王丹']\n",
            "['南小島', '北小島', '橄欖門', '東海', '渤海海峽']\n",
            "['全買', '愛買', 'NOVA資訊廣場', '嘉義市', '臺灣歷史']\n",
            "['明報月刊', '通通識', '香港傳媒', '香港', '出版物']\n",
            "['馬克思學說研究會', '馬克思主義思想流派', '對馬克思主義的批評', '西方馬克思主義', '馬克思主義政治經濟學']\n",
            "['溴', '氯化亞汞', '苯酚', '對氯間二甲苯酚', '絮凝']\n",
            "['普利策國際報道獎', '普利策獎']\n",
            "['網路用戶', '意見', '身分標識方式']\n",
            "['李祖德', '邱文達', '臺北醫學大學', '高雄醫學大學', '醫師勞動條件改革小組']\n",
            "['殖民主義', '殖民地', '法蘭西殖民帝國', '史明', '瓜分非洲']\n",
            "['粵菜', '閩菜', '中國菜系', '順德菜', '臺灣料理']\n",
            "['中國史前文化', '馬來西亞史前時期', '中國中石器文化列表', '石器時代', '新石器時代']\n",
            "['許世友反革命集團案', '功夫', '年少', '許世友']\n",
            "['聯合國海洋法公約', '專屬經濟區', '聯合國軍', '聯合國總部大樓', '聯合國']\n",
            "['民族國家', '無國家民族', '民族主義', '中國民族列表', '臺灣人']\n",
            "['蘋果全球開發者大會', '個人電腦', '蘋果_(消歧義)']\n",
            "['七連滋養', '上海娃娃', '少女蝶', '3T_(香港音樂組合)']\n",
            "['博雅教育', '教育', '文森特·梵高', '力']\n",
            "['臺灣報紙列表', '報紙', '臺灣省戒嚴期間新聞紙雜誌圖書管制辦法', '日本報紙', '中華民國言論自由']\n",
            "['魏晉南北朝', '五代十國', '傀儡政權', '三國', '曹魏']\n",
            "['粵菜', '中國菜系', '順德菜', '臺灣料理', '鹽幫菜']\n",
            "['翰林院', '汪士鍠', '元培', '庶吉士', '李士鉁']\n",
            "['德克薩斯州州長', '紐約州州長', '亞利桑那州州長', '馬里奧·庫默', '2012年美國州長選舉']\n",
            "['謝芳', '巍子', '魏積安', '孫紅雷', '戲劇']\n",
            "['始祖動吻蟲', '寒武紀大爆發', '古蹟', '寒武紀_(消歧義)', '世界']\n",
            "['疾病', '被忽視熱帶病', '遺傳性疾病', '神經系統疾病', '心血管疾病']\n",
            "['艾根訴加拿大案', '美國訴溫莎案', '漢斯·摩根索', '切斯特·艾倫·阿瑟', '奧貝格費爾訴霍奇斯案']\n",
            "['希臘神話', '神話學', '裝飾藝術', '羅馬神話', '裝飾風藝術']\n",
            "['軍隊政治工作學', '安託萬-亨利·若米尼', '第二次古賽爾戰鬥', '古寧頭戰役', '瓜達爾卡納爾島戰役']\n",
            "['編輯', '聶華苓']\n",
            "['手工藝', '單色配色', '工藝', '作品']\n",
            "['顯微鏡', '顯微鏡學', '掃描探針顯微鏡', '數碼顯微鏡', '透鏡']\n",
            "['卡拉科柳山', '皮爾瓦尼山', '漢科科柳山', '奇亞拉錢卡山', '哈察帕塔山']\n",
            "['左鎮北極殿', '臺南孔子廟', '臺南東嶽殿', '原臺南武德殿', '北極殿']\n",
            "['太行山', '西山', '臺灣山脈列表', '阿里山山脈', '軍都山']\n",
            "['便利商店', '立夏', '二十四小時_(綜藝節目)', '小時']\n",
            "['公海艦隊自沉事件', '1800年1月1日戰鬥', '八瑤灣事件', '武裝商船', '公海艦隊']\n",
            "['Astropulse', '國立交通大學', '搜尋地外文明計劃', '普適計算', 'BOINC']\n",
            "['日本神話', '神話學', '朝鮮神話', '北歐神話', '神話']\n",
            "['雙氫鍵', '共價鍵', '氫氣焊接', '分子', '化學鍵']\n",
            "['印度諾貝爾獎得主列表', '諾貝爾獎得主列表', '布魯塞爾', '雷神索爾：愛與雷霆', '布魯塞爾首都大區旗']\n",
            "['嘉南平原', '臺南縣', '雲嘉南', '臺南市文化資產', '臺南縣縣長']\n",
            "['民族國家', '貴州省民族構成列表', '新疆維吾爾自治區民族構成列表', '山東省民族構成列表', '海南省民族構成列表']\n",
            "['牛亞科', '親屬', '動物', '支序分類學', '親屬選擇']\n",
            "['新生代', '植物', '被子植物', '植物激素', '棲息地']\n",
            "['英屬婆羅洲', '汶萊華人', '沙巴', '東南亞', '馬來西亞協定']\n",
            "['賀龍體育文化中心', '中華文化', '文化中心', '成都市體育中心', '賀龍']\n",
            "['路易十四', '西發里亞主權體系', '第二次世界大戰歐戰勝利紀念日', '日本神話', '第二次世界大戰對日戰爭勝利紀念日']\n",
            "['編輯松', '大亨小傳_(2013年電影)', '了不起的蓋茨比', '喬治·費茲傑羅', '弗朗西斯·斯科特·菲茨傑拉德']\n",
            "['圖像壓縮技術', '電子計算機', '圖像壓縮', '壓縮失真', '紋理壓縮']\n",
            "['古希臘悲劇', '古希臘喜劇', '戲劇', '愛神', '歌舞雜耍表演']\n",
            "['隋朝', '中國科舉制度', '宋朝宰相列表', '考試', '西漢']\n",
            "['西部開拓史', '西恩·威廉·史考特', '雷利·史考特', '南極洲', '森林']\n",
            "['竹內瑪莉亞', '山下智久', '女性']\n",
            "['食用昆蟲', '昆蟲', '海洋昆蟲', '昆蟲養殖', '蜂花粉']\n",
            "['蒂姆·伯頓', '黑暗騎士：黎明升起', '凱瑟琳·赫本', '泰達·史雲頓', '哥德式藝術']\n",
            "['哈維爾·巴登', '安東尼·奎恩', '勞勃·杜瓦', '山姆·洛克威爾', '湯姆·克魯斯']\n",
            "['外爾特徵標公式', '分佈式參數系統', '德拉姆上同調', '大五碼', '開放街圖']\n",
            "['貝爾格勒尼古拉·特斯拉機場', '尼克·貝爾格', '尼爾斯·阿貝爾', '貝爾格勒攻勢', '中東']\n",
            "['臺灣總督府臺北高等學校', '臺灣清治時期', '臺灣總督府國語學校', '臺灣日治時期', '臺灣日治時期高等教育機關']\n",
            "['亞當·斯密', '大衛·休謨', '農業經濟學', '歷史主義', '約翰·斯圖爾特·密爾']\n",
            "['耀騰', '後個人電腦時代', '筆記型電腦', '個人電腦', '麥金塔']\n",
            "['成龍', '方潤華', '福布斯30位30歲以下精英榜', '邁爾康·福布斯', '2006年']\n",
            "['臺灣總督府', '臺灣總督', '臺灣戰後時期', '臺灣清治時期', '臺灣日治時期']\n",
            "['漂泊信天翁', '桑氏遠洋鳥', '信天翁科', '黑腳信天翁', '印度洋-太平洋海域']\n",
            "['胸節_(昆蟲)', '六足亞門', '昆蟲', '頭胸部', '雷腳龍屬']\n",
            "['中世紀科學史', '馬克斯·玻恩', '昆圖斯·恩紐斯', '科學革命的結構', '托馬斯·恩奎斯特']\n",
            "['臺東垃圾焚化廠', '黃拓榮', '城西垃圾焚化廠', '臺東縣議會', '臺東縣']\n",
            "['中華人民共和國國家重點實驗室列表', '青島市科研院所列表', '醫學遺傳學國家重點實驗室', '中華人民共和國國家實驗室列表', '武漢大學水資源與水電工程科學國家重點實驗室']\n",
            "['列昂尼德·勃列日涅夫', '列昂尼德·勃列日涅夫的影響', '勃列日涅夫主義', '辛納屈主義', '布拉格之春']\n",
            "['神農', '醫學文獻', '隋唐演義', '神農本草經', '隋唐']\n",
            "['殖民地', '殖民主義', '法蘭西殖民帝國', '內部殖民主義', '實馬高島']\n",
            "['同配生殖', '雌配子體', '配子', '性別', '世代交替']\n",
            "['海星', '瘤胃', '肉食性動物', '革囊胃', '胃蠅']\n",
            "['北美洲歷史', '富士', '貴之富士三造', '美洲原住民', '三浦友和']\n",
            "['新石器時代', '鐵器時代', '石器時代', '小米']\n",
            "['早期古典音樂', '自由爵士樂', '爵士樂', '爵士樂俱樂部', '冷爵士樂']\n",
            "['丁丁_(丁丁歷險記)', '丁丁在蘇聯', '卡爾庫魯斯案件', '丁丁與流浪漢', '丁丁在西藏']\n",
            "['馬詩慧', '王曼喜', '雙性戀自豪日', '異性戀本位', '自戀']\n",
            "['中國大陸人口', '韓國人口', '人口', '九江市']\n",
            "['形狀', '構象改變', '城市肌理', '幾何圖形', '實體']\n",
            "['液體', '表面活性劑', '表面等離子共振', '暗物質', '太陽系形成與演化假說的歷史']\n",
            "['晶體結構', '晶體', '固體物理學', '晶體生長', '原子軌道']\n",
            "['英國皇家徽章', '風獅爺', '紋章', '希臘國徽', '葡萄牙國徽']\n",
            "['托洛茨基主義', '列夫·謝多夫旅', '蘇聯總統', '列夫·托洛茨基', '蘇聯']\n",
            "['演藝界', '竹內瑪莉亞', '日本']\n",
            "['陳水扁', '陳水扁政府', '四不一沒有', '三一九槍擊事件', '吳志中']\n",
            "['謝長廷', '李俊毅', '2020年香港立法會選舉民主黨黨內甄選', '2014年中華民國直轄市議員及縣市議員選舉', '中國青年黨']\n",
            "['經典力學', '分析力學', '社會學方法的準則', '原創研究', '史學方法']\n",
            "['于化虎', '虎']\n",
            "['冰淇淋', '義式冰淇淋', '霜凍優格', '蛋卷冰淇淋', '甜品']\n",
            "['淋巴結', '前哨淋巴結', '淋巴', '癲癇重積狀態', '2019冠狀病毒病檢測']\n",
            "['電子藝術大獎', '演藝動力大獎', '電擊小說大獎', 'MTV亞洲大獎', '日本唱片大獎']\n",
            "['主小行星帶', '小行星衛星', '小行星', '阿莫爾型小行星', '半人馬小行星']\n",
            "['狄仁傑', '趙勉', '中國治貪史', '湯古代', '王安石']\n",
            "['阿爾戈英雄', '政治家', '美國', '阿爾·戈爾']\n",
            "['希臘神話', '神話學', '羅馬神話', '北歐神話', '日本神話']\n",
            "['棘皮動物', '脊柱後凸', '脊柱外科', '舒爾曼病', '無脊椎動物']\n",
            "['包拯', '韋正貫', '神化', '北宋', '祖先崇拜']\n",
            "['猛禽', '隼', '隼形目', '貓頭鷹', '鷹']\n",
            "['黎巴嫩', '穆斯林', '伊斯蘭教', '阿拉伯語變體', '猶太-阿拉伯語']\n",
            "['香港電腦商會', 'PCM電腦廣場', 'SETI@home']\n",
            "['成龍', '本名', '陳復生', '陳方安生', '元龍']\n",
            "['臺南避病院', '醫院', '法定傳染病', '新加坡國家傳染病中心', '國立臺灣大學醫學院附設醫院']\n",
            "['月刊Asuka', '封魔少年焰&陣', '幸運☆星', '青文出版社', '漫畫雜誌']\n",
            "['維克多·雨果', '黑暗浪漫主義', '茨維坦·託多洛夫', '啓蒙文學', '中國文學']\n",
            "['汾河', '南宛河', '流溪河', '汾河谷地', '黃河']\n",
            "['秀茂坪童黨燒屍案', '協助自殺', '自殺', '自殺方式', '香港終身監禁列表']\n",
            "['中國河流列表', '海南河流列表', '遼寧河流列表', '珠江', '紅河']\n",
            "['藤子·F·不二雄', '藤子不二雄Ⓐ', '大雄的發條都市冒險記', '大雄與風之使者', '藤子不二雄']\n",
            "['電子科技大學']\n",
            "['藤子·F·不二雄', '藤子不二雄', '藤子不二雄Ⓐ', '藤子·F·不二雄創作']\n",
            "['臺北市', '日本', '國籍', '城']\n",
            "['變溫動物', '四足動物', '動物', '似哺乳爬行動物', '空有熱量']\n",
            "['宗教哲學', '宗教信仰哲學', '宗教學', '東方哲學', '經院哲學']\n",
            "['封建', '封建社會', '世僕', '日本', '社會']\n",
            "['安娜·哈里遜', '1840年美國總統選舉', '威廉·亨利·哈里森', '美國總統列表', '本傑明·哈里森']\n",
            "['吉林大學', '中華人民共和國教育', '中華人民共和國', '吉林大學附屬中學', '吉林農業大學']\n",
            "['加布艾萊西島', '杜布莫爾島', '設德蘭', '亞彭島', '聖基爾達島']\n",
            "['盧卡什·斯科魯普斯基', '盧卡斯·迪奧多斯基', '帕貝爾·戈蘭斯基', '馬裏烏什·萊萬多夫斯基', '馬歇伊·茹拉夫斯基']\n",
            "['蛛形綱', '香港純蛛', '櫛足蛛科', '無鞭目', '昆蟲']\n",
            "['葡萄', '果實']\n",
            "['赤霞珠', '新加坡飲食', '印尼飲食', '刺果番荔枝', '榴槤']\n",
            "['林登·約翰遜', '低強度戰爭', '2020年美國總統特朗普支持率列表', '鮑里斯·約翰遜', '肖恩·約翰遜']\n",
            "['化石森林', '戀搞好朋友', '卿何薄命', '雙頭鷹之死', '斯坦利·多南']\n",
            "['荷馬', '荷馬史詩', '史詩']\n",
            "['微型計算機', '單片機']\n",
            "['國家廣播公司標誌', '美國漫畫黃金時代', '超級英雄', '行運超人', '動作漫畫']\n",
            "['黎曼ξ函數', '黎曼ζ函數', '狄利克雷η函數', 'L函數', '黎曼猜想']\n",
            "['伊拉克內戰', '伊拉克戰爭', '伊拉克空軍', '伊拉克軍事', '英國伊拉克戰爭']\n",
            "['分鐘', '虛數', '共軛複數', '圓周率', '像素畫']\n",
            "['晉朝', '政權', '晉景公', '晉國', '中國歷史']\n",
            "['臺中市立臺中女子高級中等學校', '臺中市', '臺中_(大字)']\n",
            "['狄仁傑', '趙勉', '中國治貪史', '湯古代', '吉孔嘉']\n",
            "['楚瓦什人', '楚瓦什語', '日耳曼人', '少數民族語言', '日耳曼語族']\n",
            "['日本軍', '鹿兒島縣', '徵夷大將軍', '孤拔', '上海海軍特別陸戰隊']\n",
            "['羅馬神話', '古羅馬宗教', '神話學', '古希臘羅馬神話', '北歐神話']\n",
            "['高建_(韓國)', '樸炳錫', '金振杓', '韓國國會', '大韓民國']\n",
            "['表現主義', '蔡爾德·哈薩姆', '奧匈帝國', '納粹主義', '威廉·富特文格勒']\n",
            "['臺北市立聯合醫院中興院區', '臺北市立聯合醫院', '蕭中正', '臺北市立萬芳醫院', '臺北市立關渡醫院']\n",
            "['慧遠', '江戶時代', '江戶川亂步', '安南屬明時期', '妙義荒船佐久高原國定公園']\n",
            "['彌涅耳瓦', '阿皮亞斯', '正義女神', '第一門的奧古斯都像', '羅馬神話']\n",
            "['明成皇后', '憲聖慈烈皇后', '誠孝昭皇后', '孝穆紀太后', '劉皇后']\n",
            "['園林設計', '價值觀', '景觀設計', '價值觀外交', '政治社會化']\n",
            "['墨西哥文化', '墨西哥地理', '墨西哥谷', '阿特拉斯足球俱樂部', '波索德瓜達拉哈拉']\n",
            "['奧斯卡最佳國際影片獎', '第4屆奧斯卡金像獎', '第87屆奧斯卡金像獎', '匈牙利電影提名奧斯卡最佳國際影片獎競賽列表', '第10屆奧斯卡金像獎']\n",
            "['自體受體', '神經激素', '神經遞質', '軸突', '神經肽']\n",
            "[]\n",
            "['歐洲一體化', '東部南極洲', '歐洲', '西恩·威廉·史考特', '雷利·史考特']\n",
            "['豫劇']\n",
            "['靈長目', '無危物種', '環物種', '物種']\n",
            "['音樂創作', '音樂', '小調', '音階', '半音音階']\n",
            "['民族國家', '無國家民族', '民族主義', '中國民族列表', '臺灣人']\n",
            "['甲殼質', '殼聚糖', 'N-乙酰葡糖胺', '玻尿酸', '肽聚糖']\n",
            "['晉朝', '五代十國', '五德終始說', '中國的稱號', '元朝']\n",
            "['甘諾-魯達埃韋', '甘尼夫卡_(布利茲紐基區)', '甘尼夫卡-維裏夫西卡', '甘尼夫卡-捷爾尼夫西卡', '甘尼夫西克']\n",
            "['對日民間索賠', '器具', '職業傷害', '陳順通', '反日']\n",
            "['花椒', '表皮']\n",
            "['喬治·盧卡斯', '盧卡斯影業', '星際大戰正傳三部曲', '星際大戰', '星際大戰四部曲：曙光乍現']\n",
            "['中國科舉制度', '考試院', '官僚', '科舉', '公務人員特種考試']\n",
            "['若澤·格拉齊亞諾·達席爾瓦', '第36屆八國集團首腦會議', '丹尼爾·布恩', '路易斯·伊納西奧·盧拉·達席爾瓦', '洛伊·愛德華·迪士尼']\n",
            "['民族國家', '民族主義', '無國家民族', '中華人民共和國民族政策', '中國民族列表']\n",
            "['鄧小平理論', '中國少年共產黨', '習近平新時代中國特色社會主義思想', '社會主義初級階段', '鄧小平南巡']\n",
            "['釋迦牟尼', '釋迦族', '佛教', '漢傳佛教', '牟尼']\n",
            "['土星的衛星', '土星環', '土衛二', '土衛十', '土衛二生命發現者']\n",
            "['木衛四', '木衛三', '海', '木材', '木星的衛星']\n",
            "['格奧爾格·康托爾', '康托爾函數', '康托爾集', '魏爾施特拉斯函數', '康托爾環形山']\n",
            "['冠蕉鵑', '綠色', '眼珠顏色', '色素細胞', '火龍果']\n",
            "['臺北市客家文化主題公園', '國立臺灣博物館', '高雄市立美術館', '臺南市', '川端公園']\n",
            "['五百羅漢', '漢傳佛教', '佛教', '上座部', '羅漢_(消歧義)']\n",
            "['醫療疏失', '醫療事故', '死亡', '周產期死亡', '全球']\n",
            "['高安公寓', '瑞華公寓', '西湖公寓', '集合住宅', '淮海公寓']\n",
            "['弗朗西斯科·戈雅', '美國風情畫', '蘇菲亞·柯波拉', '喬治·盧卡斯', '盧卡斯影業']\n",
            "['軟件開發工具包', '軟件開發', '軟件', '軟件項目管理', '軟件開發工具']\n",
            "['元素週期表', '擴展元素週期表', '鎶', '錒系元素', '鐒']\n",
            "['英國', '體育場', '國家']\n",
            "['古諾斯語', '諾維亞語', '歐洲聯盟語言', '北日耳曼語支', '語言']\n",
            "['以色列', '巴哈歐拉']\n",
            "['波索德瓜達拉哈拉', '瓜達拉哈拉新村', '墨西哥', '海', '瓜達拉哈拉_(墨西哥)']\n",
            "['杜鵑科', '佛法僧目', '新鳥小綱', '鳥', '杜鵑']\n",
            "['蔡明亮', '鞏俐', '第50屆金馬獎', '侯孝賢', '金馬電影學院']\n",
            "['大波士頓', '波士頓', '美國', '都市圈']\n",
            "['英國電影學院獎', '英國電視學院獎', '奧斯卡最佳國際影片獎', '不丹電影提名奧斯卡最佳國際影片獎競賽列表', '馬爾他電影提名奧斯卡最佳國際影片獎競賽列表']\n",
            "['穀梁傳', '春秋_(書)', '春秋']\n",
            "['伊拉克戰爭', '伊拉克空軍', '伊拉克內戰', '伊拉克軍事', '英國伊拉克戰爭']\n",
            "['呋塞米', '地西泮', '布洛芬', '昂丹司瓊', '阿托品']\n",
            "['物流', '概念', '軍事']\n",
            "['藍絲黛爾石', '藍寶石', '樞要寶石', '紅寶石', '莫氏硬度']\n",
            "['鳥', '鯊魚', '齧齒目', '哺乳動物', '貓']\n",
            "['喬治·斯托克斯', '保羅·狄拉克', '劍橋大學三一學院', '大衛·奧利夫', '喬治·盧斯蒂格']\n",
            "['克氏無齒翎電鰻', '尖頭翎電鰻', '委內瑞拉短身電鰻', '祕魯裸背電鰻', '電鰻目']\n",
            "['1974年2月英國大選', '2019年印度大選', '2014年印度大選', '穩得議席', '1974年10月英國大選']\n",
            "['中國人民解放軍南京軍區空軍', '中國人民解放軍南京軍區', '中國人民解放軍瀋陽軍區', '中國人民解放軍濟南軍區', '中國人民解放軍成都軍區']\n",
            "['楊梅區', '桃園市', '中壢區', '桃園市歷史', '桃園縣']\n",
            "['一行', '出家衆', '出家_(佛教)', '名稱']\n",
            "['領土糾紛', '領土', '部落']\n",
            "['百靈屬', '漠百靈屬', '歌百靈屬', '慄頭雀百靈', '白頰雀百靈']\n",
            "['奧迪', '大衆汽車', '林肯汽車', '裕隆汽車', '大衆集團']\n",
            "['臺北市', '日本', '城', '國籍']\n",
            "['艾伯特·吉奧索', '鐒', '名稱']\n",
            "['臺北市立聯合醫院', '臺北市文山區永建國民小學', '衛生福利部臺北醫院', '臺北市政府', '臺北市歷史']\n",
            "['俄羅斯聯邦安全會議', '國家安全會議', '中央國家安全委員會', '香港特別行政區維護國家安全委員會', '國民政府主席']\n",
            "['民主進步黨主席', '建國黨', '黨', '臺獨黨綱', '民進']\n",
            "['鹿鼎記', '金庸作品', '金庸', '行動限制']\n",
            "['香港國際機場', '廈門翔安國際機場', '啓德機場', '機場稅', '高雄國際機場']\n",
            "['索爾', '神的國', '神', '雷神', '哈索爾']\n",
            "['洋蔥', '維吾爾語', '羅布話', '雙子葉植物', '維吾爾語文字']\n",
            "['計算機工程', '電子計算機', '計算機協會', '水的記憶', '計算機硬體歷史']\n",
            "['湖塘站', '塘湖站', '濟寧站', '兗州站', '臺南車站']\n",
            "['CCTV風雲音樂頻道', '國際臺', '三立國際臺', '三立綜合臺', '中國中央電視臺綜藝頻道']\n",
            "['吉爾伽美什史詩', '荷馬史詩', '荷馬', '澤諾多託斯', '詠史詩']\n",
            "['威爾斯王妃戴安娜', '黛安娜', '父親']\n",
            "['緬甸地理', '塞內奇區', '緬甸', '西部', '面積']\n",
            "['北阿坎德邦', '奈尼塔爾', '魯德拉普拉耶格', '法院', '北']\n",
            "['新朝', '張卬', '綠林山', '昆陽之戰', '王莽嶺']\n",
            "['薄熙來', '谷開來', '薄熙來事件', '海伍德死亡案', '秦城監獄']\n",
            "['張其昀', '陳履安', '林蕙青', '羅雲平', '楊冠政']['慕容復']\n",
            "\n",
            "['軌道平面', '天球赤道', '木星的衛星', '黃道十二宮', '木星日食']\n",
            "['安娜·哈里遜', '1840年美國總統選舉', '威廉·亨利·哈里森', '美國總統列表', '本傑明·哈里森']\n",
            "['自動化測試', '輕量級軟件測試自動化', '白盒測試', '探索性測試', '形式化方法']\n",
            "['夏娃', '亞當', '芬妮·亞當', '耶和華', '亞當·迪凡']\n",
            "['盟_(行政區劃)', '地級市', '縣級行政區', '中華人民共和國行政區劃', '原中華民國公告疆域行政區劃']\n",
            "['王舒', '晉元帝', '五馬渡江', '琅邪王', '司馬澹']\n",
            "['皇后', '中國後宮制度', '紫微大帝', '紫微垣']\n",
            "['慕容復', '慕容']\n",
            "['臺電大樓站', '西門地下街', '西門站', '西門緊急停靠站', '雙和']\n",
            "['韓式泡菜', '韓國料理', '壽司', '酸梅', '飯饌']\n",
            "['人', '竹林中', '齊物', '三轉法輪', '羅生門']\n",
            "['司馬光', '司馬邕', '司馬顒', '司馬瓌', '司馬進']\n",
            "['三年坂火之夢', '三姊妹偵探團', '13·67', '講談社出版文化賞', '這本推理小說真厲害！']\n",
            "['馬克思學說研究會', '馬克思主義思想流派', '西方馬克思主義', '後馬克思主義', '新馬克思主義']\n",
            "['蒙山大佛', '樂山大佛', '大佛']\n",
            "['福布斯中國富豪榜', '富豪B8L', '成龍', '邁爾康·福布斯', '伯蒂·查爾斯·福布斯']\n",
            "['大正天皇', '昭和之日', '昭和天皇之死', '昭和天皇', '天皇']\n",
            "['遠東集團', '學校']\n",
            "['莓果', '果實', '草莓', '梨果', '腰果']\n",
            "['柯伊伯帶', '第五顆行星', '矮行星', '海王星的衛星', '海王星特洛伊']\n",
            "['甘尼夫卡-維裏夫西卡', '甘尼夫卡-捷爾尼夫西卡', '甘尼夫西克', '布利茲紐基區', '布利茲紐基']\n",
            "['古希臘哲學', '新柏拉圖主義', '米利都學派', '京都學派', '淡水學派與鹹水學派']\n",
            "['約翰·韋恩', '奧麗維亞·德哈維蘭', '亂世佳人', '百年孤獨', 'AFI百年百大明星']\n",
            "['李祖德', '邱文達', '臺北醫學大學', '高雄醫學大學', '臺灣總督府醫學校']\n",
            "['拜耳命名法', '變星命名法', '拜耳命名法恆星表', '古德命名法', '星座列表']\n",
            "['果實', '梨果', '瓠果', '腰果', '草莓']\n",
            "['切球', '球', '羅盤方位']\n",
            "['疾病', '病理學', '遺傳性疾病', '預防醫學', '併發症']\n",
            "['曲樞', '仁獻章聖皇后', '真金', '文獻昭聖皇后', '元明宗']\n",
            "['英國手語', '臺灣手語', '手語隨想曲', '手語翻譯', '手語']\n",
            "['待售劇本', '美國風情畫', '弗朗西斯科·戈雅', '劇本', '弗朗西斯·科波拉']\n",
            "['環氧化合物', '二甲基過氧化酮', '亞砷酸鉀', '環硫乙烷', '乙二酸酐']\n",
            "['水力帝國', '帝國', '康乃馨革命', '元朝', '剛果自由邦']\n",
            "['臺北市私立道明外僑學校', '臺北市立陽明高級中學', '臺灣國際學校列表', '臺北市政府', '臺北市']\n",
            "['梁柏豪', '朝花夕拾', '香港電影', '原振俠系列', '亦舒']\n",
            "['國際臺', '三立綜合臺', '廣東廣播電視臺國際頻道', '中天電視海外頻道', '三立國際臺']\n",
            "['一直在一起吧', '我們的夏日夢', '歌手2017', '中島美嘉', '創作歌手']\n",
            "['健康', '尤里·安德羅波夫', '腎功能衰竭', '腎_(臟腑)', '腎功能']\n",
            "['許世友反革命集團案', '許世友', '派系']\n",
            "['威廉·赫茲利特', '赫爾維林峯', '沃爾特·司各特', '波尼斯-溫德米爾', '威廉·愛德華·韋伯']\n",
            "['第四產業', '產業', '中世紀後期', '中世紀', '中國大陸的性服務業']\n",
            "['燧人氏', '氏_(消歧義)', '氏族', '切羅基七氏族', '河套']\n",
            "['臺北市萬華區雙園國民小學', '臺北市立龍山國民中學', '臺北市萬華區新和國民小學', '臺北市', '臺北市歷史']\n",
            "['臺北', '臺北101']\n",
            "['國', '一邊一國', '中國']\n",
            "['聯合國海洋法公約', '條約', '專屬經濟區', '聯合國', '中美共同防禦條約']\n",
            "['重量', '彩色視覺', '質量與重量的比較', '顏色', '重量分析法']\n",
            "['吸血鬼', '居室明器', '地獄', '吸血鬼紀事', '靈薄獄']\n",
            "['專業協會', '專業人士', '專業倫理', '高級程序員', '專業']\n",
            "['臺北市文山區興華國民小學', '臺北市文山區萬芳國民小學', '臺北市政府', '臺中市政府教育局', '臺中市大雅區汝鎏國民小學']\n",
            "['神話', '北歐神話', '日本神話', '木衛十六', '光神話系列']\n",
            "['臺北市立聯合醫院', '臺北市政府衛生局', '臺北市立萬芳醫院', '新北市政府警察局', '臺中市政府衛生局']\n",
            "['Astro經典名曲歌唱大賽', '聲林之王', '安七炫', 'F4', '吳建豪']\n",
            "['紋章', '英國皇家徽章', '英格蘭皇家徽章', '威爾斯皇家徽章', '葡萄牙國徽']\n",
            "['東漢', '年齡', '晟碟公司']\n",
            "['晶體結構', '晶體', '固體物理學', '能帶結構', '晶體生長']\n",
            "['許世友反革命集團案', '中國武術', '許世友', '中國', '武術']\n",
            "['核心家庭', '家庭', '智慧家庭', '美國家庭結構', '大家庭']\n",
            "['雞', '鳥', '鳥飛', '鳥類生理解剖學', '反鳥類']\n",
            "['上犬', '犬科', '犬', 'MacOS']\n",
            "['元龍', '成龍', '動作片演員', '妻子', '演員']\n",
            "['藥物', '病毒分類表', '病毒概論', '病毒', '藥物過量']\n",
            "['臺灣報紙列表', '臺灣省戒嚴期間新聞紙雜誌圖書管制辦法', '報紙', '中華民國言論自由', '新聞自由']\n",
            "['倪尚達', '成人高等學校招生全國統一考試', '國立武昌高等師範學校', '技術型高級中等學校', '朱滿洲']\n",
            "['雉雞', '有羽毛恐龍', '原雞', '家禽', '羽毛']\n",
            "['皇鳩屬', '齒鳩', '色矛綱', '非洲禽類', '香蒲']\n",
            "['臺灣三山善社', '臺灣清治時期', '臺灣歷史', '潮州裔臺灣人', '臺灣行政區劃']\n",
            "['卡拉卡爾帕克人', '卡拉卡爾帕克語', '木伊那克', '卡拉卡爾帕克斯坦共和國', '穆薩·葉爾尼亞佐夫']\n",
            "['臺灣總督', '臺灣總督府', '臺灣清治時期', '臺灣戰後時期', '臺灣日治時期']\n",
            "['圖版遊戲', '世界遊戲大全51', '卡片遊戲', '電子遊戲', '合約橋牌']\n",
            "['朱高正', '蔡英文政府', '蔡英文相關爭議', '臺灣民衆黨', '臺灣地方自治聯盟']\n",
            "['芝諾', '伊利亞學派', '法蘭克福學派', '斯法埃魯斯', '韋利亞']\n",
            "['愛國歌曲', '美麗的阿美利加', '哥倫比亞萬歲', '天佑國王', '歌詞']\n",
            "['微分方程', '微積分學', '決定性問題', '線性微分方程', '時滯微分方程']\n",
            "['巴哈歐拉的使徒', '以色列', '巴哈歐拉']['意大利', '女兒', '馬氏管', '馬爾切洛·馬爾皮吉', '解剖學']\n",
            "\n",
            "['蟲川大杉車站', '犀潟車站', '潟町站', '北北線', '新潟縣']\n",
            "['絲綢之路', '絲綢', '漢朝', '路', '漢']\n",
            "['先總統蔣公誕辰紀念日', '中華民國節日與歲時列表', '行憲紀念日', '石壁監獄', '假釋']\n",
            "['西北梅克倫堡縣', '前波美拉尼亞-呂根縣', '東前波美拉尼亞縣', '梅克倫堡湖區郡', '梅克倫堡-前波美拉尼亞']\n",
            "['中華人民共和國人權', '行爲', '日惹原則', '美國人權', '雙性人']\n",
            "['銅氨溶液', '鹼石灰', '氫氧化金', '氫氧化鈉', '鹽溶液']\n",
            "['魏雅欣']\n",
            "['民族學', '人種', '社會人類學', '民族誌', '人類']\n",
            "['密克羅尼西亞運動會', '卡皮托爾希爾', '.mp', '面積', '氣候']\n",
            "['草鴞屬', '草鴞科', '慄鴞屬', '非洲草鴞', '大草鴞']\n",
            "['經濟', '中央銀行']\n",
            "['裸子植物', '子房', '胚珠', '花', '被子植物']\n",
            "['世界氣象組織', '美國國家資訊標準組織', '人體掃描安檢儀', '非營利與志願部門季刊', '.org']\n",
            "['馬爾代夫', '美洲殖民', '美洲']\n",
            "['英國手語', '臺灣手語', '手語隨想曲', '手語翻譯', '香港手語']\n",
            "['密克羅尼西亞運動會', '卡皮托爾希爾', '.mp', '島嶼', '面積']\n",
            "['下夸克', '上夸克', '奇夸克', '粲夸克', '夸克']\n",
            "['1812序曲', '俄法戰爭', '拿破崙戰爭', '博羅金諾戰役', '第六次反法同盟']\n",
            "['大足石刻', '長洲石刻', '石鐘山石窟', '黃竹坑石刻', '南朝陵墓石刻']\n",
            "['扶餘國', '國', '附庸國']\n",
            "['印度諾貝爾獎得主列表', '諾貝爾獎得主列表', '諾貝爾和平獎', '諾貝爾經濟學獎', '諾貝爾化學獎']\n",
            "['碘酊', '碘化汞', '氯化氨基汞', '氰化汞', '溴']\n",
            "['香港電臺第二臺', '香港電影編劇家協會', '香港商業電臺節目列表', '香港電臺', '香港電臺第五臺']\n",
            "['國際陰陽人組織中文版', '灣東願景', '目標', '現在', '國際LGBTI聯合會']\n",
            "['王都', '李存矩', '李繼韜', '李繼儔', '李存璋']\n",
            "['玉女神駒', '安妮·海瑟薇', '伊朗電影提名奧斯卡最佳國際影片獎競賽列表', '艾爾·帕西諾', '瑪姬·史密芙']\n",
            "['似哺乳爬行動物', '副爬行動物', '爬行動物', '兩棲爬行動物學', '環境保護']\n",
            "['音樂產業', '竹內瑪莉亞']\n",
            "['波士頓諮詢公司', '金融服務', '波士頓', '臺中市政府經濟發展局', '金融、保險、地產及商業服務界功能組別']\n",
            "['菲律賓華人', '常來人', '混血兒', '富士', '菲律賓']\n",
            "['荷馬史詩', '吉爾伽美什史詩', '荷馬', '王煥生', '澤諾多託斯']\n",
            "['章伯鈞', '武兆發', '章師明', '光仁洪', '政治家']\n",
            "['地球一小時', '震盪波蠕蟲', '小時']\n",
            "['雞', '鳥', '量_(物理)', '求和符號', '全球']\n",
            "['硬骨魚', '輻鰭魚', '骨鰾類', '鮎形目', '魚']\n",
            "['王舒', '晉元帝', '琅琊', '五馬渡江', '司馬覲']\n",
            "['袁隆平', '勳章', '解放勳章', '勞動紅旗勳章', '傑出服務勳章']\n",
            "['電子陶瓷', '介電陶瓷', '陶瓷電容', '電話', '陶瓷工程']\n",
            "['顯微鏡學', '色素細胞', '顯微鏡', '相襯顯微技術', '微分干涉相差顯微鏡']\n",
            "['2x2x3魔術方塊', '2x2x4魔術方塊', '安德魯·法厄', '2x2x1魔術方塊', '魯比克·艾爾諾']\n",
            "['前首都列表', '冰島', '中國首都', '首都', '世界']\n",
            "['鹿城鎮_(阜南縣)', '北景鎮', '鹿城', '八里關鎮', '懷鄉鎮']\n",
            "['桃園三結義', '關羽', '胡班', '超電影版SD高達三國傳～BraveBattleWarriors～', '張飛']\n",
            "['西站', '汝州站', '臨汝鎮站', '戎莊站', '廟下站']\n",
            "['白肉迷孔菌', '櫟迷孔菌', '粗糙擬迷孔菌', '變形菌門', '薄孔菌屬']\n",
            "['編輯', '聶華苓']\n",
            "['黃豆粉', '大豆', '豆漿', '麻婆豆腐', '豆瓣醬']\n",
            "['亞熱帶', '副熱帶溼潤氣候', '溫帶季風氣候', '氣候', '臺灣氣候']\n",
            "['秀茂坪童黨燒屍案', '香港終身監禁列表', '死刑案陪審團', '香港命案列表', '波爾布特']\n",
            "['雅虎地球村', '免費網頁寄存服務', '社交網路服務', '雅虎搜尋行銷', 'Howcast']\n",
            "['楊諒', '楊素', '楊昭', '王道隆', '隋煬帝']\n",
            "['李賦都', '中國六大政治家', '李賦寧', '政治家', '中國']\n",
            "['俘虜_(電影)', '總理', '1999', '弗拉基米爾·普京']\n",
            "['劉小慧', '失物招領：周慧敏精選', '沈雁', '香港四大天王', '小龍女']\n",
            "['半導體器件製造', '超大規模集成電路', '半導體廠商銷售排名', '兆芯', '龍芯中科']\n",
            "['弗里德里希·阿道夫·艾伯特', '畿內亞國家圖書館', '維多利亞和阿爾伯特博物館', '國家圖書館', '小弗里德里希·艾伯特']\n",
            "['密西根州立大學', '密西根大學羅斯商學院', '美國', '密西根大學']\n",
            "['王敦', '琅邪王氏', '東晉', '王祥', '琅邪王']\n",
            "['狄仁傑', '新刻京本通俗演義增像包龍圖判百家公案全傳', '趙勉', '李登輝之死', '公案_(消歧義)']\n",
            "['變溫動物', '人體溫度', '恆溫動物', '動物', '高熱']\n",
            "['印象主義音樂', '後印象派', '印象派', '先鋒音樂', '二十世紀古典音樂']\n",
            "['尼泊爾世界遺產名錄', '格魯吉亞世界遺產列表', '布魯塞爾', '布魯塞爾法語化', '爭取維基百科成爲世界文化遺產']\n",
            "['化石森林', '黑色終結令', '豔屍案中案', '卿何薄命', '雙頭鷹之死']\n",
            "['關羽', '桃園三結義', '胡班', '張飛', '超電影版SD高達三國傳～BraveBattleWarriors～']\n",
            "['楊貴妃', '穆天子傳', '儲光羲', '藩鎮', '太原之戰']\n",
            "['香港特別行政區全國人民代表大會代表', '2005年中華民國國民大會代表選舉', '葉國華_(香港政治人物)', '中華人民共和國香港特別行政區維護國家安全法', '團結香港基金']\n",
            "['特別攻擊隊', '中國抗日戰爭', '大田戰役', '奠邊府戰役', '太平洋戰爭']\n",
            "['世界青年日', '中華人民共和國宗教自由', '宗教團體', '英國宗教', '科隆']\n",
            "['大運河', '浙東運河', '京杭大運河', '運河', '沙烏地阿拉伯世界遺產名錄']\n",
            "['弗洛裏安·畢卡索', '巴勃羅·畢卡索', '畫家', '藝術家']\n",
            "['安德魯·傑克遜', '中世紀科學史', '亨利·傑克遜', '希帕提婭', '一個數學家的辯白']\n",
            "['高雄捷運路線圖抄襲事件', '抄襲', '社會']\n",
            "['章伯鈞', '政治運動', '社會民主主義', '政治家', '工人階級']\n",
            "['尤里·安德羅波夫', '伊麗莎白二世', '素描']\n",
            "['中華人民共和國人權', '阿拉伯聯合大公國人權', '美國人權', '日惹原則', '性與生殖健康及權利']\n",
            "['小龍女', '楊過', '歐陽鋒', '江南']\n",
            "['中華人民共和國人權', '零死亡願景', '人權護衛者', '美國人權', '聯合國性傾向與性別認同議題']\n",
            "['史璧琦', '史超域', '聖保羅書院', '源迪恩', '英皇書院']\n",
            "['李美妍', '明成皇后', '皇后', '配角']\n",
            "['菲利普·科爾施賴伯', '西莫內·博萊利', '世界大學學術排名', '阿爾伯特·蒙塔涅斯', '斯諾克職業選手世界排名']\n",
            "['阿希爾-克洛德·德彪西', '阿希爾克洛德·德彪西', '美靈', '香港華納唱片', '張瓊英']\n",
            "['廣告', '雅虎空間', '網絡廣告', '雅虎相冊', '雅虎地球村']\n",
            "['英國皇家徽章', '希臘國徽', '風獅爺', '葡萄牙國徽', '紋章']\n",
            "['大漢族主義', '漢族民系', '中國民族列表', '無國家民族', '民族']\n",
            "['慕容復', '燕國', '龍', '天龍', '反派角色']\n",
            "['大氣層', '海衛一大氣層', '太陽', '熱層', '太陽系形成與演化假說的歷史']\n",
            "['楚瓦什人', '圖蘭人種', '楚瓦什語', '土耳其人', '尼夫赫人']\n",
            "['六盤水市', '安順市', '畢節市', '遵義市', '貴州省']\n",
            "['藤子·F·不二雄', '藤子不二雄Ⓐ', '大雄與風之使者', '大雄的發條都市冒險記', '藤子不二雄']\n",
            "['馬克思學說研究會', '馬克思主義思想流派', '馬克思主義政治經濟學', '西方馬克思主義', '對馬克思主義的批評']\n",
            "['穆罕默德·米安·蘇姆羅', '天主教亞穆蘇克羅教區', '人口超過十萬人之巴西城市列表', '阿比讓費利克斯·烏弗埃-博瓦尼國際機場', '首都']\n",
            "['唐朝', '臺北101']\n",
            "['硫', '硫氰酸鉀', '三氧化硫', '還原劑', '2-氨基苯硫酚']\n",
            "['遺傳性疾病', '疾病', '病理學', '併發症', '預防醫學']\n",
            "['路易十四', '西發里亞主權體系', '日本神話', '第二次世界大戰歐戰勝利紀念日', '第二次世界大戰對日戰爭勝利紀念日']\n",
            "['多階段睡眠', '睡眠', '睡眠不足', '代謝途徑', '離子']\n",
            "['水星凌日', '金星凌日', '凌日', '凌_(天體)', '2006年']\n",
            "['軍政_(政體)', '軍事管治', '希臘軍政府', '軍政府', '五一六軍事政變']\n",
            "['鞋帶', '鞋', '短襪', '赤足', '家']\n",
            "['洞庭湖', '黃河', '三苗', '黃河奪淮', '中原']\n",
            "['手工藝', '手工藝人', '工藝', '美勞', '手工業']\n",
            "['芝加哥', '乾草市場事件', '國際勞動節', '建溢集團', '綾羅島5月1日競技場']\n",
            "['中國工農紅軍第一方面軍', '中國工農紅軍第四方面軍', '中國工農紅軍第二方面軍', '中國工農紅軍第五軍', '中國工農紅軍第三十四軍']\n",
            "['脂類', '親脂性', '脂肪酸代謝', '磷脂雙分子層', '脂質體']\n",
            "['純豆腐鍋', '麻婆豆腐', '豆瓣醬', '豆卜', '鷹嘴豆']\n",
            "['Gmail', 'Orkut', '月']\n",
            "['梁明帝', '中國皇帝', '中國女皇帝', '梁元帝', '梁武帝']\n",
            "['蘇聯最高蘇維埃', '蘇聯總統', '蘇聯', '加盟共和國', '土庫曼斯坦']\n",
            "['新興宗教', '原始宗教', '世界主要宗教', '宗教的進化起源', '宗教自由']\n",
            "['高雄捷運路線圖抄襲事件', '抄襲', '人2', '西南交大副校長黃慶博士論文抄襲事件', '郭敬明抄襲案']\n",
            "['非物質文化遺產', '香港非物質文化遺產', '聯合國教科文組織人類非物質文化遺產代表作名錄中國項目', '文化遺產', '日本文化']\n",
            "['惠靈頓', '威靈頓機場', '紐西蘭人口', '惠靈頓隊足球俱樂部', '博物館']\n",
            "['伊朗歷史', '波斯人', '伊朗間奏曲', '阿卜杜勒-麥立克·本·麥爾萬·本·赫凱姆', '薩爾波勒扎哈卜']\n",
            "[]\n",
            "['霍比特人電影系列', '弗朗西斯·斯科特·菲茨傑拉德', '最後的大亨', '電影手冊', 'J·K·羅琳']\n",
            "['人', '自然', '科幻小說', '人文學科', '超自然現象']\n",
            "['科羅拉多州行政區劃', '索科羅縣', '艾伯特_(科羅拉多州)', '密歇根州行政區劃', '科羅拉多斯普林斯']\n",
            "['泰安服務區_(臺灣)', '關西服務區', '中開高速公路', '泰安休息站', '中陽高速公路']\n",
            "['李祖德', '邱文達', '臺北醫學大學', '高雄醫學大學', '醫師勞動條件改革小組']\n",
            "['籃球', '北美職業體育聯賽', '日本國家男子籃球隊', '英格蘭超級聯賽參賽球隊列表', '駿其足球會']\n",
            "['曼哈頓上城', '曼哈頓中城', '泰坦尼克號', '曼哈頓']\n",
            "['界_(生物)', '雙核亞界', '細菌', '真菌', '藍菌門']\n",
            "['木衛四', '木星的衛星', '固體']\n",
            "['梅蘭芳', '梅葆玖', '梅葆琛', '四大名旦']\n",
            "['聖保羅書院', '史超域', '史璧琦', '聖公會聖三一堂中學', '施玉麒']\n",
            "['鄧小平理論', '習近平新時代中國特色社會主義思想', '中國特色社會主義', '社會主義國家', '中國共產黨歷史']\n",
            "['一次文獻', '文獻綜述', '二次文獻', '文獻', '閱讀']\n",
            "['奧利華·史東', '詹姆斯·史都華', '艾瑪·史東', '喜劇電影', '電影類型']\n",
            "['釋迦牟尼', '佛教', '喬達摩', '釋迦族', '漢傳佛教']\n",
            "['健康', '尤里·安德羅波夫']\n",
            "['阿爾弗雷德·德·繆塞', '混成詞', '中國作家協會', '四詞謬誤', 'Fairytale']\n",
            "['薄熙永', '薄一波', '中華人民共和國國務院副總理', '薄熙來', '越南副總理']\n",
            "['潛藩升府', '中國皇帝', '滿洲國皇帝', '鹹淳府', '重慶府']\n",
            "['毛主席語錄', '書包', '習主席語錄', '和裝本', '圖書']\n",
            "['情天恨海', '月亮和六便士', '名士殉情記', '瑪格麗特·德·安茹', '人性的枷鎖']\n",
            "['白髮', '藝術品', '黃初平', '飄然臺']\n",
            "['漢初三傑', '漢朝', '蕭何', '麒麟閣十一功臣', '叔孫通']\n",
            "['宋教仁', '梁啓超', '游錫堃', '段祺瑞', '潯陽街道']\n",
            "['宋高宗', '宋神宗', '宋孝宗', '南宋大事年表', '南宋']\n",
            "['刺殺肯尼迪', '奧利華·史東', '普丁專訪', '神鬼駭客：史諾登', '羅伯特·F·肯尼迪遇刺案']\n",
            "['音韻學', '等韻學', '音系學', '漢語史', '對音']\n",
            "['2020年中華民國總統選舉', '2016年中華民國總統選舉', '2020年民主進步黨總統提名選舉', '1996年中華民國總統選舉', '馬英九']\n",
            "['辛亥革命', '清朝民變', '武昌起義', '辛亥革命紀念日', '革命']\n",
            "['不平等條約', '天津條約', '神奈川條約', '中美共同防禦條約', '中日天津會議專條']\n",
            "['光速', '宇宙', '萬有理論', '超光速運動', '超光速']\n",
            "['清華大學校史', '水木清華BBS', '水木', '華南木棉BBS', '中華人民共和國教育']\n",
            "['芝加哥']\n",
            "['新興宗教', '原始宗教', '世界主要宗教', '宗教自由', '宗教的進化起源']\n",
            "['日本神話', '神話學', '神話', '朝鮮神話', '北歐神話']\n",
            "['戴安娜_(電影)', '黛安娜', '威爾斯王妃戴安娜', '威爾士的喬治王子', '國際反地雷組織']\n",
            "['小行星899', '伊俄卡斯忒', '厄忒俄克勒斯', '俄瑞斯忒斯', '琉科忒亞']\n",
            "['富蘭克林_(維吉尼亞州)', '本傑明·富蘭克林', '共濟會', '費城市政廳', '富蘭克林研究所']\n",
            "['全買', '愛買', '齊普生鮮超市', '量販店', '遠東百貨']\n",
            "['臺北', '臺北101']\n",
            "['中華人民共和國紡織工業部', '中華人民共和國食品工業部', '中華人民共和國第二輕工業部', '中央人民政府輕工業部', '二輕工業']\n",
            "['世界地質公園列表', '中國省級風景名勝區', '中華人民共和國國家級風景名勝區', '香港聯合國教科文組織世界地質公園', '中國國家地質公園']\n",
            "['印象主義音樂', '後印象派', '印象派', '二十世紀古典音樂', '法國']\n",
            "['李少春', '梅蘭芳', '京劇', '上海京劇院', '趙濟羹']\n",
            "['楚瓦什人', '楚瓦什語', '圖蘭人種', '土耳其人', '古意大利字母']\n",
            "['五虎將', '黃忠', '馬超', '趙雲', '張飛']\n",
            "['臺中市立臺中女子高級中等學校', '國立臺南女子高級中學', '上海市第三女子中學', '臺中市', '臺中_(大字)']\n",
            "['聖誕節', '行憲紀念日', '瑪利諾神父教會學校', '中華民國憲法學會', '教會學校']\n",
            "['馴化', '雞', '勺雞', '人類', '雉科']\n",
            "['女性', '人類']\n",
            "['政治審查', '學術', '傘後組織', '第二任期詛咒', '沉默的大多數']\n",
            "['法輪功', '法輪功在臺灣', '法輪功在各地的發展及影響', '對法輪功的鎮壓', '法輪功在香港']\n",
            "['1984年羅傑尼希教生物恐怖攻擊', '羅傑尼希社區', '2001年美國炭疽攻擊事件', '忒修斯', '泰米爾伊拉姆猛虎解放組織']\n",
            "['民族國家', '貴州省民族構成列表', '新疆維吾爾自治區民族構成列表', '山東省民族構成列表', '海南省民族構成列表']\n",
            "['草鴞屬', '草鴞科', '慄鴞屬', '非洲草鴞', '大草鴞']\n",
            "['吸血鬼', '吸血', '紫質症', '吸血毯', '恐慌症']\n",
            "['卡拉卡爾帕克人', '哈薩克族', '穆薩·葉爾尼亞佐夫', '木伊那克', '卡拉卡爾帕克斯坦共和國']\n",
            "['顯微鏡學', '顯微鏡', '微分干涉相差顯微鏡', '相襯顯微技術', '數碼顯微鏡']\n",
            "['九江市', '人口']\n",
            "['西亞', '區域_(英格蘭)', '視角', '中東']\n",
            "['新黨', '2000年中華民國總統選舉', '2010年英國大選', '2017年英國大選', '2019年英國大選']\n",
            "['美國共產黨', '聯邦黨', '共和黨', '美國政黨', '中華民國政黨']\n",
            "['企劃', '主管支援系統', '決策', '全曜財經', '反對逃犯條例修訂草案運動中使用的策略和方法']\n",
            "['謝磷', '進士', '明朝', '名']\n",
            "['卡拉卡爾帕克人', '卡拉卡爾帕克語', '木伊那克', '卡拉卡爾帕克斯坦共和國', '穆薩·葉爾尼亞佐夫']\n",
            "['英語', '香港大學']\n",
            "['胡利亞卡', '胡利亞卡區', '卡拉爾', '卡斯蒂利亞聯合王國', '祕魯']\n",
            "['甘尼夫卡-維裏夫西卡', '甘尼夫西克', '甘尼夫卡-捷爾尼夫西卡', '布利茲紐基區', '布利茲紐基']\n",
            "['俄派芭蕾', '上海芭蕾舞團', '芭蕾舞', '吉賽爾', '紅色娘子軍']\n",
            "['歐洲中心主義', '歐洲懷疑主義', '歐洲', '西方世界', '歐洲史太林主義和納粹主義受害人紀念日']\n",
            "['稻', '孟加拉國農業', '小麥', '食物', '中非共和國經濟']\n",
            "['遠東集團', '徐有庠', '徐旭東', '遠東集團_(臺灣)', '組織創始人']\n",
            "['馬寅初', '北京大學校友列表', '北京市', '老年', '校長']\n",
            "['約翰·F·肯尼迪遇刺案', '中世紀', '奧利華·史東', '中世紀後期', '國族問題']\n",
            "['棘皮動物', '海星亞門', '古海星', '海星', '身體']\n",
            "['螢光燈', '螢光棒', '紫外線', '水銀燈', '啓輝器']\n",
            "['西門地下街', '雙和', '雙園區', '市道114號', '蘆洲區']\n",
            "['贊育醫院', '香港醫院列表', '香港浸信會醫院', '香港佛教醫院', '瑪嘉烈醫院']\n",
            "['吳健雄', '戴運軌', '盧鶴紱', '中華民國物理教育學會', '趙忠堯']\n",
            "['島嶼國家', '分治島嶼列表', '中華人民共和國島嶼列表', '島嶼國家列表', '浙江島嶼']\n",
            "['安德魯·約翰遜', '詹姆斯·諾克斯·波爾克', '約翰·L·赫姆', '加布裏埃爾·斯勞特', '公民民主黨']\n",
            "['布倫特·斯考克羅夫特', '詹姆斯·班傑明·蘭珀特', '西點_(紐約州)', '美國', '西點軍校']\n",
            "['撞擊坑', '溼婆隕石坑', '月球隕石坑', '天衛二', '波泰士隕石坑']\n",
            "['高錳酸鹽', '真菌', '錳酸鉀', '二氧化錳', '草酸鈉']\n",
            "['土星的衛星', '土衛二', '土星環', '土衛十', '土衛二生命發現者']\n",
            "['性幻想', '性成癮', '慾望', '現實']\n",
            "['環狀質數', '元因數', '質數', '質數冪', '質數階乘']\n",
            "['藤子·F·不二雄', '藤子不二雄Ⓐ', '大雄與風之使者', '藤子不二雄', '大雄的發條都市冒險記']\n",
            "['中華人民共和國水利電力部', '中央人民政府水利部', '中華人民共和國', '中華人民共和國建交列表', '中華人民共和國中央人民政府成立典禮']\n",
            "['粵菜', '順德菜', '閩菜', '中國菜', '東北菜']\n",
            "['藥物', '生物藥理學', '藥物戒斷', '疾病', '自體免疫性疾病']\n",
            "['紅寶石', '藍寶石', '紅寶石雷射', '寶石', '紅寶石鞋']\n",
            "['數碼聲音廣播', '電臺廣播', '廣播', '閱聽人', '臺灣媒體史']\n",
            "['性愉悅', '遲泄', '性高潮障礙', '性高潮', '性感帶']\n",
            "['馬紮比錫克教徒', '錫克教', '錫克人', '孟加拉國宗教', '哈爾曼迪爾·薩希卜']\n",
            "['死刑', '死刑存廢問題', '中華民國死刑制度', '臺灣死刑存廢問題', '中華人民共和國死刑制度']\n",
            "['光速', '超光速', '光速可變理論', '宇宙', '萬有理論']\n",
            "['北京理工大學']\n",
            "['王實甫', '董解元', '西廂記', '元朝']\n",
            "['奧林匹亞宙斯神廟', '埃及神廟', '古羅馬宗教', '神廟', '埃德富神廟']\n",
            "['宦官', '日本皇室', '中國宦官', '第二次宦官時代', '王室']\n",
            "['天津城市規劃', '北京市城市管理委員會', '城市規劃', '南京大學城市規劃與設計系', '中華人民共和國城市總體規劃']\n",
            "['黃子韜', '歌手·當打之年', '歌手', '大韓民國', '中國']\n",
            "['隱兵鯰', '大刺棘杆鮠', '亞馬遜河咽鱂', '黑帶直線脂鯉', '巴西布列塔尼魚']\n",
            "['立夏', '夏至', '夏季']\n",
            "['聖誕節', '行憲紀念日', '和歷', '中國傳統曆法', '中華民國節日與歲時列表']\n",
            "['變溫動物', '四足動物', '動物', '似哺乳爬行動物', '爬行動物']\n",
            "['白話字', '閩南語維基百科', '閩南語拉丁化歷史', '閩南語漢字訓讀', '閩南語辭書']\n",
            "['疾病', '病理學', '併發症', '遺傳性疾病', '古病理學']\n",
            "['二胡', '蛇']\n",
            "['馬克思主義政治經濟學', '古典經濟學', '馬克思學說研究會', '政治經濟學批判', '對馬克思主義的批評']\n",
            "['冠蕉鵑', '綠色', '膽綠素', '眼珠顏色', '色素細胞']\n",
            "['生物分類法', '屬', '分類單元', '物種', '今天']\n",
            "['俄派芭蕾', '現代芭蕾舞', '芭蕾舞', '古典芭蕾']\n",
            "['土星的衛星', '土衛五十一', '土衛十', '土衛五', '土星']\n",
            "['朝鮮半島衝突', '第二次世界大戰', '帝國大學', '首爾特別市', '朝鮮半島歷史']\n",
            "['中國共產黨中央政治局常務委員會', '中國共產黨中央政治局', '政治局', '朝鮮勞動黨中央委員會政治局', '中國共產黨中央委員會']\n",
            "['臺灣織布', '臺灣清治時期', '臺灣紡績', '臺灣日治時期', '臺灣歷史']\n",
            "['第18屆金馬獎', '第50屆金馬獎', '第35屆金馬獎', '第24屆金馬獎', '第25屆金馬獎']\n",
            "['伊斯蘭教的先知', '阿里·本·阿比·塔利卜', '穆罕默德', '伊斯蘭教', '聖經與古蘭經的相似之處']\n",
            "['臺灣荷蘭統治時期', '臺灣經濟史', '糖業改良意見書', '臺灣共和國', '臺灣歷史']\n",
            "['馬克思學說研究會', '馬克思主義思想流派', '馬克思主義政治經濟學', '西方馬克思主義', '對馬克思主義的批評']\n",
            "['盧卡斯·赫賈', '塞爾維亞和黑山國家足球隊', '伊萬·哈謝克', '英格蘭足球代表隊', '帕維爾·切爾尼']\n",
            "['宋英宗', '宋朝君主列表', '宋仁宗', '宋真宗', '宋朝']\n",
            "['陶瓷工程', '陶瓷電容', '朝鮮陶瓷', '中國陶瓷史', '陶瓷材料']\n",
            "['坦克人', '文獻紀錄片', '三立二二八報導爭議', '姓名決定論', '美國無線電視網列表']\n",
            "['國家廣播公司標誌', '美國漫畫黃金時代', '超級英雄', '行運超人', '動作漫畫']\n",
            "['高熱', '人體溫度', '蓄熱式高溫空氣燃燒技術', '恆溫動物', '發熱']\n",
            "['鍼灸', '足底筋膜炎', '鍼灸甲乙經', '蒸騰作用', '筋膜']\n",
            "['燧人氏', '氏族', '氏_(消歧義)', '河套', '木材']\n",
            "['基因工程', '遺傳修飾生物體', '系統生物學', '基因表現', '基因靶向']\n",
            "['中國工農紅軍第三十五軍', '紅四軍_(紅四方面軍)', '中國工農紅軍第五軍', '中國工農紅軍第十二軍', '中國工農紅軍第一軍團']\n",
            "['蛋白質組學', '蛋白質組', '組織蛋白', '蛋白質摺疊', '基因文庫']\n",
            "['魔力月光', '情迷巴塞隆拿', '六場危事', '艾倫·狄珍妮', '詹姆斯·範艾倫']\n",
            "['吳健雄學院', '吳健雄', '戴運軌', '蘇州健雄職業技術學院', '美國物理學會']\n",
            "['準穀物', '穀物', '大麥', '禾本科', '麥']\n",
            "['特別攻擊隊', '豫湘桂會戰', '奠邊府戰役', '大田戰役', '東京快車']\n",
            "['極光', '磁暴', '緯度']\n",
            "['空氣污染', '生物燃氣', '氣體', '室內空氣污染', '固體']\n",
            "['漢朝', '漢初三傑', '漢']\n",
            "['臺中市立臺中女子高級中等學校', '國立臺中教育大學', '臺中市', '教育', '臺中_(大字)']\n",
            "['安息禮拜', '基督徒', '教會']\n",
            "['臺北市立大學天母校區', '臺北', '國立臺中教育大學', '臺灣教育大學系統', '臺北市立大學博愛校區']\n",
            "['奧吉吉亞島', '伊薩基', '第勒尼安海', '讓·德貝當古', '皮埃爾·奧熱羅']\n",
            "['歐羅斯', '仄費羅斯', '玻瑞阿斯', '諾託斯', '比洛希爾斯克']\n",
            "['納粹德國海軍', '英國皇家海軍', '中華民國海軍', '韓國海軍', '美國海軍']\n",
            "['仄費羅斯', '玻瑞阿斯', '諾託斯', '歐羅斯', '洛里斯_(沃克呂茲省)']\n",
            "['通用美式英語', '美國英語', '新加坡式英語', '和制英語', '港式英語']\n",
            "['愛情小說', '美國恐怖故事：異教', '失樂園']\n",
            "['麻原彰晃', '松本沙林毒氣事件', '奧姆真理教的顛覆國家計劃', '2011年和田市“7·18”暴力恐怖襲擊事件', '坂本堤律師滅門慘案']\n",
            "['角宿一', '室女座', '角_(星官)', '角宿二', '角宿']\n",
            "['土星的衛星', '海王星的衛星', '太陽系外行星', '太陽系', '衛星']\n",
            "['香港特別行政區全國人民代表大會代表', '葉國華_(香港政治人物)', '中華人民共和國香港特別行政區第九屆全國人民代表大會代表選舉', '中華人民共和國香港特別行政區維護國家安全法', '2005年中華民國國民大會代表選舉']\n",
            "['北歐神話', '日本神話', '神話', '神話學', '羅馬神話']\n",
            "['海星', '瘤胃', '肉類食物', '胃蠅', '體外受精']\n",
            "['疾病', '病原學', '遺傳性疾病']\n",
            "['北阿坎德邦', '北阿坎德邦行政區劃', '魯德勒布勒亞格縣', '魯德拉普拉耶格', '奈尼塔爾']\n",
            "['勃蘭登堡的瑪麗亞·埃萊奧諾拉', '赫拉', '荷馬史詩', '荷馬', '史詩']\n",
            "['東區_(新竹市)', '新竹科學園區', '竹東鎮', '竹東林業展示館', '竹東圳']\n",
            "['胡喬木', '中國社會科學院', '喬木_(消歧義)', '兄弟姊妹']\n",
            "['世僕', '奴隸制度', '封建', '中國科舉制度', '半殖民地半封建社會']\n",
            "['美國', '阿爾·戈爾']\n",
            "['香港聖公會院校', '史超域', '史璧琦', '香港聖公會聖基道兒童院', '聖保羅堂']\n",
            "['赫拉', '小說']\n",
            "['全羅北道', '全州市', '十三道制', '忠清北道', '清州市']\n",
            "['基因工程', '基因水平轉移', '基因靶向', '細胞工程', '電子工程']\n",
            "['七連滋養', '香港四大天王', '鄭欣宜', '歌手·當打之年', '丁偉斌']\n",
            "['耶穌']\n",
            "['魂斷藍橋', '亨格福德橋和五十週年紀念橋', '藍橋', '橋']\n",
            "['經濟學人', '經濟學']\n",
            "['AFI百年百大驚悚電影', 'AFI百年百大喜劇電影', 'AFI百年百大電影臺詞', 'AFI百年百大愛情電影', 'AFI百年百大勵志電影']\n",
            "['諾貝爾化學獎得主列表', '諾貝爾物理學獎', '諾貝爾化學獎', '諾貝爾和平獎', '諾貝爾委員會']\n",
            "['漢族民系', '漢族']\n",
            "['松柏塱', '崑崙村', '村長', '那座河', '雞嶺']\n",
            "['香港電影', '有線劇集臺', '香港劇集', '香港', '世界']\n",
            "['貝爾格勒尼古拉·特斯拉機場', '尼克·貝爾格', '伊朗伊斯蘭革命', '伊朗', '尼爾斯·阿貝爾']\n",
            "['威爾斯王妃戴安娜', '黛安娜', '父親']\n",
            "['三角', '三角學', '三角函數', '三角恆等式', '反三角函數']\n",
            "['黑紗', '袖章', '梅蘭芳', '華人地區', '漢語']\n",
            "['藥物', '生物藥理學', '藥物戒斷', '疾病', '藥物測試']\n",
            "['宋高宗', '明達皇后', '宋孝宗', '宋神宗', '南宋大事年表']\n",
            "['續金瓶梅', '西門慶', '金瓶梅學', '饕餮', '形象']\n",
            "['馬達加斯加', '馬達加斯加的企鵝', '黥基·德·貝馬拉哈自然保護區', '哥斯達黎加地理', '生物多樣性']\n",
            "['蔡英文政府', '唯一支持蔡英文', '蔡英文相關爭議', '蔡英文', '2020年中華民國總統選舉']\n",
            "['特攻隊', '特別攻擊隊', '梟龍戰機', '跟蹤支援隊']\n",
            "['印度總理', '印度', '總理', '乾酪']\n",
            "['南小島', '北小島', '橄欖門', '925臺灣保釣行動', '元寶門']\n",
            "['電臺廣播', '廣播', '短波廣播', '英國廣播公司國際頻道', '傳播學']\n",
            "['絲綢之路', '兩浙西路', '宋朝', '宋', '羅盤方位']\n",
            "['上座部', '菩薩道', '修道', '部派佛教', '佛教']\n",
            "['木衛十三', '木星的衛星', '木衛十一', '衛星', '土星的衛星']\n",
            "['IPod', '比重量', '重量']\n",
            "['聖保羅書院', '源迪恩', '史璧琦', '學校', '四大校長']\n",
            "['特攻隊', '二戰期間同盟國海軍對日炮擊', '橫須賀空襲', '空軍', '特別攻擊隊']\n",
            "['京畿道', '京畿', '美國', '人口']\n",
            "['柏林工業大學', '柏林洪堡大學', '精英大學', '牛津大學', 'CCTV體壇風雲人物評選']\n",
            "['愛知大學', '南山大學', '中部大學女子短期大學', '愛知縣', '香港英文授課中學']\n",
            "['中國佛教', '佛教', '毘婆屍佛經', '漢傳佛教', '佛教修行制度']\n",
            "['雞', '勺雞', '鳥', '鳥飛', '飛行']\n",
            "['臺南市東區復興國民小學', '臺南市東區裕文國民小學', '復興國小', '關聖裏', '臺灣行政區劃']\n",
            "['劍橋大學基督聖體學院', '劍橋大學', '劍橋大學學院列表', '劍橋', '學院']\n",
            "['戰爭', '足球戰爭', '低強度戰爭', '巴比倫戰爭', '贖罪日戰爭']\n",
            "['新月沃土', '前9千紀', '二年生植物', '植物', '種子']\n",
            "['政治審查', '金權政治', '白賊七', '臺灣歷史', '臺灣清治時期']\n",
            "['楊諒', '楊昭', '楊素', '王道隆', '隋煬帝']\n",
            "['斯洛伐克總統列表', '尼特拉', '塞內奇區', '特倫欽', '布拉迪斯拉發']\n",
            "['中國工農紅軍第三十五軍', '許世友', '許世友反革命集團案', '紅四軍_(紅四方面軍)', '廣昌戰鬥']\n",
            "['春汛', '凌汛', '滯洪池', '洪水', '秋紅谷廣場']\n",
            "['歐洲聯盟擴大', '歐洲聯盟成員國政治制度列表', '歐洲聯盟歷史', '歐洲聯盟成員國', '歐洲聯盟機構']\n",
            "['1954年公約旅行證', '旅行證件', '中華人民共和國旅行證', '難民旅行證', '護照']\n",
            "['翰林院', '汪士鍠', '庶吉士', '元培', '彭士襄']\n",
            "['海港–加州大學洛杉磯分校醫學中心', '加州州立大學洛杉磯分校', '蘇菲亞·柯波拉', '成人電影', '加利福尼亞大學洛杉磯分校']\n",
            "['馬克思學說研究會', '馬克思主義思想流派', '西方馬克思主義', '後馬克思主義', '新馬克思主義']\n",
            "['披巾', '維克多·奧塔', '冬季', '學生']\n",
            "['六一九砲戰', '金門炮戰']\n",
            "['獎盃', '獎勵', '聯盟主席獎盃', '獎章', '沃爾特·A·布朗冠軍獎盃']\n",
            "['中國史前文化', '中國中石器文化列表', '中石器時代', '石器時代', '新石器時代']\n",
            "['普利策國際報道獎', '約瑟夫·埃利斯', '列寧遺囑', '普利策獎']\n",
            "['天津城市規劃', '北京市城市管理委員會', '城市規劃', '南京大學城市規劃與設計系', '中華人民共和國城市總體規劃']\n",
            "['剛果民主共和國華人', '剛果民主共和國', '道路']\n",
            "['米夏埃爾·科爾曼', '彼得·高若尼茲克', '世界大學學術排名', '阿爾伯特·蒙塔涅斯', '米克爾·提爾斯特倫']\n",
            "['馬克思主義政治經濟學', '古典經濟學', '馬克思學說研究會', '政治經濟學批判', '對馬克思主義的批評']\n",
            "['李祖德', '邱文達', '臺北醫學大學', '高雄醫學大學', '專業倫理']\n",
            "['沈宗瀛', '沈申甫', '沈曾桐', '莊長恭', '英國']\n",
            "['硫', '亞硫酸鈉', '亞硫酸', '二氧化硫', '溴磺酸']\n",
            "['馬龍·白蘭度', '羅伯特·德尼羅', '第27屆奧斯卡金像獎', '奧斯卡最佳導演獎', '教父2']\n",
            "['第五姓', '九方姓', '昭武九姓', '閩人三十六姓', '延姓']\n",
            "['臺北市立啓明學校', '臺中市立臺中工業高級中等學校', '臺北美國學校', '臺灣國中教育', '新北市立新北特殊教育學校']\n",
            "['遠東集團', '徐旭東', '徐有庠', '學校']\n",
            "['希臘神祇及神話人物列表', '希臘神話', '古希臘宗教', '古希臘羅馬神話', '北歐神話']\n",
            "['中國皇帝', '漢殤帝', '東漢', '東漢末年', '中國皇帝壽命列表']\n",
            "['釣魚臺列嶼', '釣魚臺列嶼主權問題', '釣魚臺', '中華民國臺灣地區島嶼列表', '衝南巖']\n",
            "['倫敦國王學院', '徐志摩', '施慧玲', '經濟學', '家庭']\n",
            "['黑豹樂隊', 'SCANDAL', '太極樂隊', '羽翼合唱團', '威猛樂隊']\n",
            "['世襲君主制', '現行君主制政權列表', '東遼國', '君主制', '各國建國時間列表']\n",
            "['馬龍·白蘭度', '羅伯特·德尼羅', '奧斯卡最佳導演獎', '第27屆奧斯卡金像獎', '教父2']\n",
            "['元素週期表', '擴展元素週期表', '元素週期律', '以科學家命名的化學元素列表', '化學元素髮現年表']\n",
            "['數碼相機', '底片相機', '數位單眼相機', '數位單眼相機列表', '全畫幅數碼單反相機']\n",
            "['詞曲作家', '音樂出版社', '作曲家', '古典音樂作曲家列表', '藝術歌曲']\n",
            "['巴勃羅·畢卡索', '弗洛裏安·畢卡索', '當代藝術家列表', '西方美術史', '當代藝術']\n",
            "['物流', '中國', '後勤學', '準軍事組織', '中國猶太人']\n",
            "['內畫壺', '中國']\n",
            "['印度洋', '亞太地區', '亞洲', '南佐治亞', '馬爾代夫']\n",
            "['臺灣報紙列表', '報紙', '臺灣媒體財團化', '新聞自由', '「拒絕紅色媒體、守護臺灣民主」遊行']\n",
            "['天衛三', '面_(幾何)', '古']\n",
            "['乙炔銀', '磷雜乙炔', '二苯基乙炔', '乙二胺', '乙炔']\n",
            "['汞齊', '汞', '牙科用汞齊', '銨汞齊', '汞中毒']\n",
            "['上座部', '教派', '部派佛教', '中國佛教', '教派分裂']\n",
            "['半導體器件製造', '有機發光晶體管', '互補式金屬氧化物半導體', '場效應管', '雙極性晶體管']\n",
            "['香港國際機場', '檳城國際機場', '吉隆坡國際機場', '啓德機場', '希思羅機場']\n",
            "['南開大學日本研究院', '清華大學基礎工業訓練中心', '清華大學社會科學學院', '華東師範大學', '先驗唯心論']\n",
            "['第三次世界大戰', '日本', '第二次世界大戰', '日本投降', '青葉町']\n",
            "['香港演藝學院', '尤金·波利', '獅門影視公司', 'Google街景服務', '香港人']\n",
            "['世界最佳宜居城市', '全球最昂貴城市', '經濟學人信息社', '亞拔高比報告', '城市史']\n",
            "['女性主義', '自由主義女性主義', '女性', '職業']\n",
            "['F.I.R.飛兒樂團', '椅子樂團', 'TOP1男子漢', '酷愛樂團', '陳珊妮']\n",
            "['香港網上學府', '香港科技大學', '香港科技大學（廣州）', '香港', '科技大學']\n",
            "['方言學', '局部地區滅絕', '劉鎮發', '計算語言學', '歷史語言學']\n",
            "['蓋普丹', '環氧乙烷', '環硫乙烷', '乙二醇二甲醚', '環氧化合物']\n",
            "['犀渠', '犀牛', '盾', '怪物', '中國']\n",
            "['王屋山—黛眉山世界地質公園', '太行山', '東部', '中國']\n",
            "['AFI百年百大喜劇電影', 'AFI百年百大驚悚電影', 'AFI百年百大電影臺詞', 'AFI百年百大勵志電影', 'AFI百年百大愛情電影']\n",
            "['民族國家', '貴州省民族構成列表', '新疆維吾爾自治區民族構成列表', '海南省民族構成列表', '廣東省民族構成列表']\n",
            "['異步電動機', '鼠籠式電動機', '起士蛋糕', '電動機', '蛋糕']\n",
            "['宋武帝', '魏晉南北朝', '東晉', '東晉演義', '東晉行政區劃']\n",
            "['希臘神話', '神話學', '希臘神話生物列表', '北歐神話', '羅馬神話']\n",
            "['希爾德里克三世', '丕平二世', '矮子丕平', '卡洛曼一世', '法蘭克國王列表']\n",
            "['兒玉利國', '臺灣歷史', '臺灣政治', '兒玉源太郎', '牧樸真']\n",
            "['榴彈炮', 'M-68榴彈炮', 'PLL-05自行迫榴炮', '280毫米榴彈炮', 'PLZ-07自行榴彈炮']\n",
            "['粵菜', '中國菜', '越南飲食', '閩菜', '中國菜系']\n",
            "['粵菜', '中國菜系', '順德菜', '臺灣料理', '鹽幫菜']\n",
            "['宋孝宗', '趙匡胤', '宋文帝', '北宋', '宋偓']\n",
            "['張衡', '環形球儀', '兩都賦', '行星定義', '黃巾之亂']\n",
            "['獨裁政體', '專制主義', '極權主義', '極權民主', '路易十四']\n",
            "['大正天皇', '昭和天皇之死', '昭和之日', '孝謙天皇', '日本天皇列表']\n",
            "['阿姆斯特丹']\n",
            "['披頭士樂隊獲獎與提名列表', '黑豹樂隊', '披頭四樂隊', '太極樂隊', '威猛樂隊']\n",
            "['1964年民權法案', '南南資源', '1873年硬幣法令', '西奧多·羅斯福', '薩班斯-奧克斯利法案']\n",
            "['柯伊伯帶', '流星', '傑拉德·柯伊伯', '週期']\n",
            "['朝花夕拾', '梁柏豪', '藤野先生', '香港電影', '香港動作電影']\n",
            "['下夸克', '上夸克', '奇夸克', '粲夸克', '夸克']\n",
            "['李祖德', '邱文達', '臺北醫學大學', '高雄醫學大學', '臺灣總督府醫學校']\n",
            "['馬丁·路德·金國家歷史遺址', '馬丁·路德·金紀念日', '馬丁·路德·金', '我有一個夢想', '林肯紀念堂']\n",
            "['藤子·F·不二雄', '藤子不二雄Ⓐ', '藤子不二雄', '藤子·F·不二雄創作', '大雄與風之使者']\n",
            "['潮州市文物保護單位', '潮州街', '潮州市城南中學', '潮州市高級中學', '潮汕文化']\n",
            "['趙孝成王', '趙惠文王', '賴青畇', '趙丹', '趙青']\n",
            "['派迪·康斯丁', '德斯汀·荷夫曼', '角色']\n",
            "['臺灣日治時期', '安南屬明時期', '中國', '大同兵變', '吳橋兵變']\n",
            "['禪師', '入世佛教', '佛教戒律', '佛教', '一行']\n",
            "['照之富士春雄', '亨利·劉易斯·史汀生', '貴之富士三造', '富士', '血親']\n",
            "['馬克·吐溫', '埃爾邁拉_(紐約州)', '作家']\n",
            "['艾根訴加拿大案', '美利堅合衆國訴進步案', '羅納德·里根', '德懷特·艾森豪威爾', '孟晚舟事件']\n",
            "['太陽風', '極風', '風', '日球層頂', '太陽圈']\n",
            "['紅汞', '溴', '氯化亞汞', '對氯間二甲苯酚', '苯酚']\n",
            "['阿姆斯特丹史基浦機場', '新阿姆斯特丹', '艾希特大學', '阿姆斯特丹中央車站', '歐洲足球協會聯盟']\n",
            "['泛斯拉夫主義', '西斯拉夫民族', '日耳曼人', '波蘭第二共和國', '羅斯托克']\n",
            "['G.NA', 'Awesome娛樂', '日本動作娛樂公司', '金剛旅神團', 'SISTAR']\n",
            "['鯡形目', '魚', '鮭魚', '齧齒目', '鱂形目']\n",
            "['國立臺灣大學昆蟲標本館', '臺灣昆蟲學史', '臺灣昆蟲館', '素木得一', '昆蟲採集']\n",
            "['天津城市規劃', '泉州市', '泉州：宋元中國的世界海洋商貿中心', '中央商務區']\n",
            "['中華民國法律', '法律', '信賴保護原則', '臺灣遊民', '數字遊民']\n",
            "['魏瑪憲法', '魏瑪共和國', '憲政主義', '中華民國大陸時期', '英國政府']\n",
            "['吸血', '吸血鬼', '紫質症', '吸血毯', '根達綜合症']\n",
            "['鮪魚', '俄羅斯', '三明治', '伊萬·屠格涅夫']\n",
            "['準穀物', '穀物', '大麥', '禾本科', '植物']\n",
            "['董至成', '認識的妻子', '你遲到的許多年', '綜藝十八班', '妻子']\n",
            "['伊朗歷史', '阿卜杜勒-麥立克·本·麥爾萬·本·赫凱姆', '伊朗伊斯蘭革命', '伊朗間奏曲', '波斯人']\n",
            "['泉州市', '海上絲綢之路', '絲綢之路', '一帶一路', '福國路']\n",
            "['南京大學', '南京師範大學', '國立武昌高等師範學校', '成人高等學校招生全國統一考試', '國立中央大學_(南京)']\n",
            "['單片系統', '英特爾晶片組列表', '微處理器', '單板機', '4位元']\n",
            "['MacOS', '虎']\n",
            "['諾貝爾和平獎', '諾貝爾物理學獎', '諾貝爾物理學獎得主列表', '諾貝爾化學獎', '阿爾弗雷德·卡斯特勒']\n",
            "['臺北市私立協和祐德高級中學', '臺北市', '中學']\n",
            "['伊斯法罕地鐵', '法靈頓站', '倫敦地鐵車站列表', '伊斯法罕', '伊瑪目廣場']\n",
            "['造紙術', '傳播論', '中國發明', '中華文化', '中國']\n",
            "['布魯內爾大學', '德保羅大學', '德魯大學', '德州', '大學']\n",
            "['關羽信仰', '關羽', '羅士信', '中國神話人物列表', '樊城之戰']\n",
            "['鹿兒島縣', '瑯嶠十八社', '鹿兒島市', '兒玉源太郎', '霧社事件']\n",
            "['火', '火三角', '全球變暖的效應', '殭屍', '全球災難危機']\n",
            "['臺中市孔廟', '臺南孔子廟明倫堂', '臺南孔子廟', '孔廟列表', '臺北市立陽明高級中學']\n",
            "['獎盃', '獎勵', '聯盟主席獎盃', '歐洲冠軍球會杯', '獎章']\n",
            "['管致中', '清華大學電機工程與應用電子技術系', '東南大學', '科系', '電機工程學']\n",
            "['麻省理工學院經濟系', '哈佛-麻省理工醫療科技學院', '加州-麻省理工學院競爭', '巴黎中央理工學院', '佐治亞理工學院']\n",
            "['新竹科學園區', '竹東鎮', '東區_(新竹市)', '竹東林業展示館', '臺灣的科學園區']\n",
            "['凡爾賽體系', '伍德羅·威爾遜', '第一次世界大戰', '十四點和平原則', '羅德西亞叢林戰爭']\n",
            "['暗殺', '狙擊步槍', '縱深作戰', '勒萊耶', '常規戰爭']\n",
            "['化學工程', '工廠', '汽車設計', '中心科學', '工具']\n",
            "['伊斯蘭教與兒童', '孤海浮燈', '兒童權利監察使', '奧黛麗·赫本', '兒童人權']\n",
            "['古菌', '細菌', '真核生物', 'L型細菌', '細菌結構']\n",
            "['搖滾樂', '黑豹樂隊', '前衛搖滾', '竇唯', '另類搖滾']\n",
            "['上海菜', '印度蔊菜', '東北菜', '菜膽雞', '廣西菜']\n",
            "['白雪仙', '吳素英', '千里駒', '珈潁', '辮子姑娘']\n",
            "['語言教育', '授課語言', '微調中學教學語言', '劍橋英語教學能力認證', '母語教學']\n",
            "['惠靈頓', '博物館', '威靈頓機場', '紐西蘭人口', '大都會藝術博物館']\n",
            "['程序', 'MMX', '程序設計', '多核心處理器', '多線程']\n",
            "[]\n",
            "['陳第', '等韻學', '淮劇', '音系學']\n",
            "['颱風', '2013年紐西蘭冬季風暴', '後熱帶氣旋', '2011年11月白令海氣旋', '颱風謝柏']\n",
            "['南小島', '北小島', '橄欖門', '三山頭島', '龍門島']\n",
            "['吉爾吉特-巴爾蒂斯坦', '丹尼爾·奧爾特加', '阿茲特克', '吉倫特派', '凱克豪斯魯·沙帕吉·索拉布吉']\n",
            "['圖版遊戲', '卡片遊戲', '遊戲', '大型多人線上角色扮演遊戲列表', '冒險遊戲']\n",
            "['新石器時代', '中石器時代', '中國中石器文化列表', '石器時代', '繩紋時代']\n",
            "['劍橋大學岡維爾與凱斯學院', '喬治·斯托克斯', '保羅·狄拉克', '佛羅里達州立大學塞米諾爾隊', '西佛羅里達']\n",
            "['西站', '戎莊站', '臨汝鎮站', '小屯街站', '王堂站']\n",
            "['倫琴_(單位)', '康普頓伽瑪射線天文臺', 'X射線機', 'X射線', '錢德拉X射線天文臺']\n",
            "['女女性行爲者', '女性', '性_(語法)']\n",
            "['陳水扁', '陳水扁政府', '2000年中華民國總統選舉', '三一九槍擊事件', '吳志中']\n",
            "['蒼鷺', '草鷺', '琵鷺', '巖鷺', '鷺鶴']\n",
            "['太陽花', '柔荑花序', '向日葵屬', '苞片', '向日葵']\n",
            "['臺灣民報', '美洲臺灣時報', '自由時報', '臺灣時報', '臺灣文化協會']\n",
            "['耶路撒冷舊城', '耶路撒冷', '耶路撒冷區', '新耶路撒冷', '耶路撒冷牧首']\n",
            "['李賦都', '李儀祉', '唐宣宗', '李賦寧', '祖先']\n",
            "['亞美尼亞飲食', '荷蘭飲食', '土耳其飲食', '土耳其烤茄子', '盧森堡飲食']\n",
            "['八大山人', '宗室', '僧官', '吳本泰', '程正揆']\n",
            "['以色列', '百姓', '巴哈歐拉']\n",
            "['巴登-符騰堡', '巴登符騰堡', '德國東非公司', '符騰堡自由人民邦', '德國南部']\n",
            "['新臺幣', '方法']\n",
            "['光滑平鮋', '鰓棘杜父魚', '梳鰭鬼杜父魚', '雲鰣', '連鰭杜父魚']\n",
            "['519嗆馬踹共大遊行', '113人民火大一路嗆馬大遊行', '517嗆馬保臺大遊行', '遊行', '馬']\n",
            "['臺南孔子廟明倫堂', '臺中市孔廟', '臺北孔子廟', '臺北高等學校講堂', '臺南孔子廟']\n",
            "['矮子丕平', '長子', '查理曼', '丕平·卡洛曼', '身材矮小症']\n",
            "['下江人', '2016年中國南方水災', '三苗', '1954年長江洪水', '鄱陽湖平原']\n",
            "['藥物', '藥物過量', '食物', '肉類食物', '藥物測試']\n",
            "['聖保羅書院', '源迪恩', '史璧琦', '佛教陳榮根紀念學校', '學校']\n",
            "['李賦都', '李賦寧', '教育家', '中國']\n",
            "['Astropulse', 'BOINC', '加利福尼亞大學爾灣分校', '加利福尼亞大學河濱分校', '搜尋地外文明計劃']\n",
            "['飛行員', '民用航空', '航空航天', '適航指令', '航空電子']\n",
            "['俄羅斯人', '歐洲俄羅斯', '俄羅斯城市和城鎮人口列表', '聖彼得堡省', '聖彼得堡']\n",
            "['客運樓', '維京客輪', '郵輪母港', '遊輪', '遠洋定期船']\n",
            "['死者能舞', '音樂專輯', '出版']\n",
            "['木衛十五', '木衛三', '木衛十六', '木衛十二', '諾恩三女神']\n",
            "['玻爾-愛因斯坦之爭', '阿爾伯特·愛因斯坦', '薩特延德拉·納特·玻色', '光子', '愛因斯坦-西拉德信']\n",
            "['魏晉南北朝', '宋武帝', '東晉', '南北朝', '東晉行政區劃']\n",
            "['和子說', '聖靈', '聖父']\n",
            "['本傑明·富蘭克林', '富蘭克林_(維吉尼亞州)', '富蘭克林研究所', '費城市政廳', '理查德·尼克松']\n",
            "['麗山', '臺北市立南湖高級中學', '臺北市立陽明高級中學', '臺北市內湖區南湖國民小學', '鄭顯三']\n",
            "['臺東製糖', '臺灣製糖', '明治製糖', '鹽水港製糖', '臺東拓殖製糖']\n",
            "['辮子姑娘', '白雪仙', '吳素英', '謝雪心', '香港']\n",
            "['雜交水稻', '黃耀祥', '湖南雜交水稻研究中心', '雜交水稻國家重點實驗室', '稻']\n",
            "['黛安娜', '黛安娜·羅斯', '黛安娜·迪莫娃', '黛安·韋斯特', '黛安娜·羅']\n",
            "['阿托品', '靜脈']\n",
            "['尼克·卡拉威', '埃德蒙德·費茲傑羅號', '喬治·費茲傑羅', '薇拉·費茲傑羅', '大亨小傳_(2013年電影)']\n",
            "['袁隆平', '勳章', '雜交水稻國家重點實驗室', '朴正熙', '解放勳章']\n",
            "['天琴座', '天琴座ν', '天琴座V473', '天琴座19', '天琴座XY']\n",
            "['馬六甲海峽', '馬來西亞馬來人', '新加坡海峽', '泰國馬來人', '柔佛海峽']\n",
            "['圖像壓縮技術', '圖像壓縮', '重複數據刪除', '電子計算機', '有損數據壓縮']\n",
            "['土庫曼_(消歧義)', '阿布哈茲蘇維埃社會主義共和國', '加盟共和國', '土庫曼人', '土庫曼斯坦']\n",
            "['楊勇_(隋朝)', '隋朝', '楊暕', '楊昭', '楊杲']\n",
            "['拜星教', '亞伯拉罕諸教', '伊斯蘭教與基督教關係', '亞伯拉罕', '土耳其宗教']\n",
            "['愨惠皇貴妃', '孝懿仁皇后', '允䄉', '九子奪嫡', '仁皇后']\n",
            "['天氣預報', '有線天氣臺', '天氣諺語', '質量', '數值天氣預報']\n",
            "['可見光', '激光夜視照明器', '視覺', '紅外線', '習主席語錄']\n",
            "['原諒他77次', '下一站…天后', '我老婆唔夠秤II：我老公唔生性', '常在我心', '溫哥華']\n",
            "['艾根訴加拿大案', '切斯特·艾倫·阿瑟', '奧貝格費爾訴霍奇斯案', '威廉·霍華德·塔夫脫', '漢斯·摩根索']\n",
            "['盧卡斯·迪奧多斯基', '托斯卡納大區', '托斯卡納大公國', '狄奧多爾·科穆寧·杜卡斯', '足球']\n",
            "['愛爾蘭國家的名稱', '愛爾蘭島', '愛爾蘭自由邦', '愛爾蘭', '愛爾蘭地理']\n",
            "['查理曼', '主教座堂', '世紀', '查理·曼紐爾']\n",
            "['吉林大學附屬中學', '吉林大學', '吉林農業大學', '中華人民共和國', '皓月集團']\n",
            "['粵菜', '順德菜', '中國菜系', '中國菜', '廣州菜']\n",
            "['漢初三傑', '韓信', '漢朝', '張良', '麒麟閣十一功臣']\n",
            "['小行星899', '伊俄卡斯忒', '俄瑞斯忒斯', '阿塔蘭忒', '琉科忒亞']\n",
            "['謝磷', '唐朝']\n",
            "['香港國際機場', '啓德機場', '悉尼機場', '高雄國際機場', '香港國際機場古物園']\n",
            "['威爾斯王妃戴安娜', '黛安娜', '斯賓塞家族']\n",
            "['脊索動物', '迷惑龍屬', '激龍屬', '脊索', '敏迷龍屬']\n",
            "['綠山城縣', '伊沃瓦', '綠山城', '薩根', '茨韋西門']\n",
            "['越南道教', '臺南東嶽殿', '左鎮北極殿', '鄭成功祖廟', '臺灣明鄭時期']\n",
            "['李祖德', '國立臺中教育大學', '國立臺北科技大學', '國立臺北商業大學', '國立臺北護理健康大學']\n",
            "['趙諶', '宋高宗', '明達皇后', '宋孝宗', '宋神宗']\n",
            "['星期六', '星期五', '星期', '太陽日', '禮拜_(伊斯蘭教)']\n",
            "['新視鏡唱片', 'Sire唱片', '黑豹樂隊', '水星唱片', '深紫']\n",
            "['兒童人權', '兒童', '聯合國兒童基金會', '兒童鐵路', '家庭']\n",
            "['莓果', '果實', '草莓', '梨果', '腰果']\n",
            "['豫劇', '趙國安', '天津時調', '壯劇']\n",
            "['飛行員', '適航指令', '航空航天', '商用飛行執照', '民用航空']\n",
            "['蛋白質交互作用', '蛋白質結構', '蛋白質組學', '肥料', '硫']\n",
            "['亞洲', '榴槤']\n",
            "['歐洲俄羅斯', '俄羅斯人', '聖彼得堡', '俄羅斯城市和城鎮人口列表', '聖彼得堡省']\n",
            "['新石器時代', '中石器時代', '中國中石器文化列表', '石器時代', '繩紋時代']\n",
            "['上海菜', '印度蔊菜', '東北菜', '菜膽雞', '廣西菜']\n",
            "['昆蟲', '南美角蛙', '腹肋骨', '螳螂', '白腹海雕']['性幻想', '理想']\n",
            "\n",
            "['臺灣總督府民政部', '臺灣總督府交通局遞信部', '臺灣省行政長官公署', '中華民國中央行政機關', '韓國中央行政機關']\n",
            "['芝加哥', '八小時工作制', '國際勞動節', '乾草市場事件', '建溢集團']\n",
            "['日本神話', '瑪雅神話', '神話', '神話學', '北歐神話']\n",
            "['君主專制', '東遼國', '現行君主制政權列表', '世襲君主制', '遼朝']\n",
            "['美工圖案', '墨西哥國旗', '墨西哥國徽', '國徽', '動物']\n",
            "['公海艦隊自沉事件', '大艦隊', '公海艦隊', '第19號作戰令', '阿蒙森南極探險隊']\n",
            "['孤海浮燈', '伊斯蘭教與兒童', '奧黛麗·赫本', '奧黛麗·赫本演藝作品列表', '兒童權利監察使']\n",
            "['麻原彰晃', '奧姆真理教的顛覆國家計劃', '真理國', '真理', '日本']\n",
            "['漢朝', '漢初三傑', '叔孫通', '漢', '劉邦']\n",
            "['北日耳曼語支', '日耳曼語族', '東日耳曼語支', '波羅的語族', '南亞語系']\n",
            "['謝芳', '毛澤東私人醫生回憶錄', '謝亞芳']\n",
            "['美麗島事件', '高雄州特高事件', '林宅血案', '鼓山事件', '林義雄']\n",
            "['康沃爾冰川', '迪圖瓦冰原島峯', '麥克貝恩山', '福派峯', '托爾冰川']\n",
            "['馬德里', '梁朝偉', '作品']\n",
            "['食_(天文現象)', '2016年8月18日月食', '月球晝夜線', '2008年8月16日月食', '2006年9月7日月食']\n",
            "['毛主席語錄', '習主席語錄', '紅色', '紅移', '圖書']\n",
            "['墨西哥文化', '哈利斯科州', '墨西哥城', '阿特拉斯足球俱樂部', '墨西哥']\n",
            "['2000年俄羅斯總統選舉', '普京主義', '2010年俄羅斯人口普查', '俄羅斯副總統', '伊斯坦堡']\n",
            "['駱駝', '劍橋大學', '劍橋']\n",
            "['遠東集團', '徐有庠', '蘇州大學', '徐旭東']\n",
            "['莫斯科', '瓦西里·康定斯基', '法國', '德國', '國籍']\n",
            "['答案', '問題', '設計思考', '思想', '水平思考']\n",
            "['鳳凰', '百鳥朝鳳', '龍', '楚國', '鳥']\n",
            "['鯡形目', '鱂形目', '長頷半脊鯡', '寄生蟲', '魚']\n",
            "['李祖德', '邱文達', '臺北醫學大學', '高雄醫學大學', '醫師勞動條件改革小組']\n",
            "['史前時代', '石器時代', '繩紋時代', '世界歷史', '中國中石器文化列表']\n",
            "['弗朗西斯科·佛朗哥獨裁', '弗朗西斯科·佛朗哥', '西班牙內戰', '第二次世界大戰期間的西班牙', '西班牙行政區劃']\n",
            "['廖文毅', '黃紀男', '中華民國政府遷臺', '廖史豪', '臺灣歷史']\n",
            "['波士頓', '波士頓諮詢公司', '波士頓影評人協會', '金融', '經濟發展']\n",
            "['標準舞', '女性']\n",
            "['室女座', '恆星亮度列表', '室女座20', '室女座110', '參宿七']\n",
            "['民族國家', '無國家民族', '民族主義', '中國民族列表', '臺灣人']\n",
            "['中華人民共和國', '中華民國大陸時期行政區面積表', '上海市歷史文化風貌區', '武漢摩天大樓列表', '臨海市']\n",
            "['江戶時代', '妙義山', '德川慶喜', '效用']\n",
            "['有機鈣化學', '過氧化鋇', '乙炔', '氰氨化鈣', '碳酸水']\n",
            "['木衛六', '木衛十', '赫柏', '木衛七', '彌涅耳瓦']\n",
            "['慕容復', '慕容博', '武俠小說', '金庸', '姑蘇慕容']['淡水河', '臺灣河流列表', '中國河流列表', '福建河流列表', '遼寧河流列表']\n",
            "\n",
            "['占星術', '中國占星術', '占星術和天文學', '西洋占星術']\n",
            "['斯堤克斯', '忒勒斯托', '俄刻阿諾斯', '忒堤斯', '俄刻阿尼得斯']\n",
            "['玩具總動員', '史蒂夫·喬布斯', '皮克斯動畫工作室', '約翰·斯卡利', '蘋果公司相關爭議']\n",
            "['臺北州立臺北第一中學校', '臺北州立臺北第四中學校', '臺灣總督府臺北高等學校', '臺北', '三軍總醫院北投分院']['大醉俠', '張學友', '華語電影', '戰神傳說', '金馬獎最佳劇情長片']\n",
            "\n",
            "['颱風', '熱帶低氣壓', '熱帶氣旋等級', '2008年北印度洋氣旋季', '風']\n",
            "['岩石', '大陸地殼', '風化作用', '岩石圈', '冰']\n",
            "['煉武臺站', '江景線', '炭峴站', '梧濱站', '一山站']\n",
            "['馬克·奧利芬特', '歐內斯特·勞倫斯', '勞倫斯伯克利國家實驗室', '鐒']\n",
            "['韓國國務總理', '韓國國務總理列表', '中國總理', '中華民國國務總理', '韓國國務會議']\n",
            "['造紙術', '中國發明', '文化人類學', '文化演化', '文化地理學']\n",
            "['釣魚臺列嶼', '釣魚臺列嶼主權問題', '釣魚臺', '衝南巖', '中華民國臺灣地區島嶼列表']\n",
            "['原諒他77次', '蔡卓妍', '張靜嫺', '我老婆唔夠秤II：我老公唔生性', '再見UFO']\n",
            "['亞洲', '地區', '懷化市']\n",
            "['情天恨海', '威廉·肯普夫', '月亮和六便士', '人性的枷鎖', '名士殉情記']\n",
            "['列昂尼德·勃列日涅夫的影響', '列昂尼德·勃列日涅夫遇刺案', '列昂尼德·勃列日涅夫', '勃列日涅夫主義', '中央委員會']\n",
            "['教會', '中國自立教會', '香港基督徒學生運動', '紙紮', '東西教會大分裂']\n",
            "['鍼灸', '中國廣視索福瑞媒介研究', '媒介依賴理論', '賴和', '計算機媒介現實']\n",
            "['馬克思學說研究會', '馬克思主義思想流派', '新馬克思主義', '西方馬克思主義', '對馬克思主義的批評']\n",
            "['緹坦妮雅', '奧伯隆', '蘭斯洛特', '天衛五', '仲夏夜之夢']\n",
            "['江戶時代', '妙義荒船佐久高原國定公園', '功能主義建築', '江戶', '妙義山']\n",
            "['世界青年日', '中國天主教愛國會', '科隆', '中國天主教', '中國']\n",
            "['半導體器件製造', '超大規模集成電路', '半導體廠商銷售排名', '兆芯', '龍芯中科']\n",
            "['穀梁傳', '春秋_(書)', '春秋']\n",
            "['谷地', '蠟筆小新', '臼井儀人', '情節', '作者']\n",
            "['虛擬教研中心', '人', '香港城市大學']\n",
            "['曹宗', '曹真', '曹襄', '曹鼎', '曹丕']\n",
            "['土星的衛星', '土衛十', '土星', '土衛四十一', '土衛四十二']\n",
            "['兒玉利國', '臺灣日治時期行政區劃', '1895年臺灣', '臺灣府', '臺灣日治時期']\n",
            "['新生代', '植物', '植物激素', '被子植物', '哺乳動物']\n",
            "['蔡英文政府', '習朱會', '2020年中國國民黨總統提名選舉', '2016年中國國民黨主席補選', '蔡英文']\n",
            "['天衛二', '天衛三', '木衛四', '天衛四', '木衛三']\n",
            "['英國上議院司法職能', '第二次唐納德·特朗普彈劾案', '不信任及彈劾香港特別行政區行政長官', '憲法法庭', '第一次唐納·川普彈劾案']\n",
            "['香港國際機場', '啓德機場', '高雄國際機場', '香港國際機場古物園', '機場稅']\n",
            "['侯景之亂', '侯安都', '明朝歷史', '宋朝', '梁武帝']\n",
            "['德意志帝國', '第一次世界大戰', '聯邦大總統', '魏瑪共和國', '漢斯·馮·塞克特']\n",
            "['天琴座', '天琴座ν', '天琴座V473', '天琴座19', '天琴座XY']\n",
            "['趙諶', '宋高宗', '明達皇后', '宋孝宗', '宋神宗']\n",
            "['柳枝', '唐詩', '唐詩別裁集', '全唐詩', '李商隱']\n",
            "['元素週期表', '擴展元素週期表', '鐒', '元素週期律', '鎶']\n",
            "['韓國電視劇', '我們與惡的距離', '劣人傳之詭計', '美國劇集', '電視劇帝王']\n",
            "['粵語流行音樂', '陳慕賢', 'ATV亞洲音樂', '香港電臺第五臺', '香港電臺第二臺']\n",
            "['國家奧林匹克委員會', '奧林匹克運動會吉祥物列表', '皮埃爾·德·顧拜旦', '奧林匹克憲章', '1972年夏季奧林匹克運動會']\n",
            "['玉衣', '交領右衽', '劉勝金縷玉衣', '絲縷玉衣', '中國生命集團']\n",
            "['婦女參政論者', '美國州份', '女性參政權', '後重建時期的剝奪投票權', '美利堅合衆國憲法第十五條修正案']\n",
            "['喬瓦尼·多梅尼科·卡西尼', '讓-多米尼克·卡西尼', '卡西尼定律', '卡西尼', '雅克·卡西尼']\n",
            "['蓋茲堡演說', '亞伯拉罕·林肯', '基輔雞演說', '詹姆斯·A·加菲爾德遇刺案', '羅伯特·託德·林肯']\n",
            "['網路去抑制效應', '網路論戰', '仇恨言論', '網路用戶', '身分標識方式']\n",
            "['許世友', '武術']\n",
            "['癌細胞', '癌變', '突變', '壞死', '神經母細胞瘤']\n",
            "['遊輪', '客運樓', '客輪', '維京客輪', '郵輪母港']\n",
            "['司馬衝', '晉明帝', '司馬澹', '司馬伷', '司馬晞']\n",
            "['穀梁傳', '春秋_(書)', '春秋']\n",
            "['劍橋大學三一學院', '伯特蘭·羅素', '劍橋大學', '劍橋', '哲學史']\n",
            "['南投縣', '玉山']\n",
            "['貓_(音樂劇)', '音樂劇', '作曲家', '歌劇作曲家列表', '岑偉宗']\n",
            "['鈴木敏文', '西武百貨', '崇光百貨', '私人公司', '亞洲電視控股']\n",
            "['固倫公主', '嫡長子', '唐玄宗', '嫡系', '榮壽固倫公主']\n",
            "['小富蘭克林·德拉諾·羅斯福', '羅斯福家族', '羅斯福總統', '羅斯福大學', '富蘭克林']\n",
            "['苯三酚', '苯', '烯烴', '陽離子聚合反應', '芳香烴']\n",
            "['逍遙學派', '古希臘哲學', '新柏拉圖主義', '淡水學派與鹹水學派', '京都學派']\n",
            "['麗臺科技', '創新', '質量控制', '醫療衛生哲學', '黃崇源']\n",
            "['希臘神祇及神話人物列表', '北歐神話', '瑪雅神話', '羅馬神話', '神話']\n",
            "['絲綢之路', '臺灣荷西統治時期', '絲綢歷史', '絲綢', '漢朝']\n",
            "['妊娠糖尿病', '糖尿病酮症酸中毒', '抗糖尿病藥', '1型糖尿病', '糖尿病']\n",
            "['臺南市美術館', '國立臺灣美術館', '原臺南警察署', '原臺南州廳', '原臺南合同廳舍']\n",
            "['紐約地鐵', '鐵達尼號船員列表', '泰坦尼克號', '紐約港', '紐約']\n",
            "['天衛二', '天衛一', '體積']\n",
            "['馬龍·白蘭度', '羅伯特·德尼羅', '瑪麗蓮·夢露', '真理翰', '臨時演員']\n",
            "['蒙山大佛', '樂山大佛', '大佛', '唐朝']\n",
            "['撒丁島', '家畜', '島嶼灰狐', '畜牧學', '家豬']\n",
            "['燕山大學', '河北大學', '湖北工業大學', '河北農業大學', '武漢紡織大學']\n",
            "['現代集團', '鄭周永', 'TOM集團', '公司集團', '長江實業集團']\n",
            "['諾貝爾和平獎', '諾貝爾物理學獎', '諾貝爾經濟學獎', '諾貝爾化學獎', '諾貝爾委員會']\n",
            "['馬克思學說研究會', '馬克思主義思想流派', '新馬克思主義', '西方馬克思主義', '對馬克思主義的批評']\n",
            "['馬來語', '拿督', '語言']\n",
            "['世界最佳宜居城市', '珀斯', '經濟學人信息社', '中國2010年上海世界博覽會城市最佳實踐區', '世界快樂報告']\n",
            "['子房', '果實', '種子']\n",
            "['木衛十五', '木衛十二', '木衛三', '木衛四', '木星的衛星']\n",
            "['真空磁導率', '真空電容率', '光學介質', '物理常數', '絕對真空']\n",
            "['環境監測', '污染源監測', '環境科學', '污染', '環境保護']\n",
            "['阿斯泰·妮爾森', '杜絲先生', '奪命深淵', '伊莎貝爾·阿佳妮', '貝絲·杜魯門']\n",
            "['林宅血案', '高雄州特高事件', '美麗島事件', '鼓山事件', '林義雄']\n",
            "['網頁', '網頁瀏覽器時間線', '離線網頁瀏覽器', '網頁瀏覽器列表', '網頁瀏覽器']\n",
            "['馬克·吐溫', '作家', '現在']\n",
            "['2010年臺北國際花卉博覽會', '2014年世界園藝博覽會', '2018年臺中世界花卉博覽會', '原民風味館', '流行館']\n",
            "['李賦都', '李賦寧', '李白', '阮自華', '李儀祉']\n",
            "['烏克蘭']\n",
            "['粵菜', '中國菜', '越南飲食', '閩菜', '中國菜系']\n",
            "['虎斑貓', '流浪貓', '貓', '大麥']\n",
            "['哈佛-麻省理工醫療科技學院', '嚴重急性呼吸系統綜合症疫情', '2019冠狀病毒病疫情', '2019冠狀病毒病香港疫情', '應用科學']\n",
            "['扶餘國', '王頎', '東扶余', '餘蔚王', '扶余豐']\n",
            "['非營利組織', '信息及通信技術', '面向服務的體系結構', '首席技術官', '美國的加密技術出口管制']\n",
            "['行憲紀念日', '先總統蔣公誕辰紀念日', '每週四天工作制', '中華民國節日與歲時列表', '八小時工作制']\n",
            "['希吉拉', '賴買丹月', '伊斯蘭教歷史年表', '謝赫伊斯蘭', '伊斯蘭曆']\n",
            "['辛亥革命', '明朝', '大同兵變', '明朝軍事', '吳橋兵變']\n",
            "['小說', '戰爭與和平']\n",
            "['棘皮動物', '海林檎', '輻射海百合', '假海百合', '半海百合']\n",
            "['法櫃奇兵', '盧卡斯影業', '喬治·盧卡斯', '星際大戰正傳三部曲', '星際大戰四部曲：曙光乍現']\n",
            "['靈長目', '物種', '數字']\n",
            "['義和團運動', '天津條約', '清朝外交', '美麗島事件', '馬尼拉人質事件']\n",
            "['共和立憲制', '社會主義國家', '總統制', '共產主義國家', '共和主義']\n",
            "['司馬光', '司馬邕', '司馬朗', '司馬顒', '司馬進']\n",
            "['楊勇_(隋朝)', '隋朝', '楊暕', '楊昭', '楊浩']\n",
            "['尼羅河', '嘉興市', '中國河流列表', '克拉斯諾耶湖', '地勢']\n",
            "['自然神論', '19世紀哲學', '神導演化論', '巴洛克時期哲學', '喬瑟夫·巴特勒']\n",
            "['臺灣客家語', '臺灣國語', '新屋區', '峨眉鄉', '廣東語假名']\n",
            "['錢穆', '杜善義', '錢偉長', '中國科學院院士', '中國工程院院士']\n",
            "['天津城市規劃', '北京市城市管理委員會', '南京大學城市規劃與設計系', '城市規劃', '城市']\n",
            "['唐朝', '象']\n",
            "['亞美尼亞飲食', '英國飲食', '土耳其飲食', '香料貿易', '阿塞拜疆飲食']\n",
            "['X射線機', 'X射線天文學', 'X射線', '伽馬射線', '羅西X射線計時探測器']\n",
            "['富豪B9TL', '安德烈·阿加西', '馬來西亞最高元首', '西格蒙德·弗洛伊德', 'BOINC']\n",
            "['曹魏', '傀儡政權', '五代十國', '三國', '三國時期君主列表']\n",
            "['園林設計', '工業設計', '景觀設計', '園林', '中國園林']\n",
            "['三年坂火之夢', '講談社出版文化賞', '這本推理小說真厲害！', '江戶川亂步', '講談社漫畫獎']\n",
            "['遺傳性疾病', '疾病', '喬治三世', '評書', '卟啉']\n",
            "['大公報', '香港商報', '香港報業公會', '新晚報', '商報']\n",
            "['開元路_(臺南市北區)', '建國南北路', '臺灣市區道路', '水源路', '福元路']\n",
            "['新月沃土', '動物', '二年生植物', '緩步動物門', '前9千紀']\n",
            "['蚩尤_(消歧義)', '蚩尤冢', '新著龍虎門', '龍虎門', '蚩尤']\n",
            "['死者能舞', '音樂專輯', '1999']\n",
            "['麻省理工學院經濟系', '哈佛-麻省理工醫療科技學院', '加州-麻省理工學院競爭', '巴黎中央理工學院', '公司金融學']\n",
            "['達悟族', '925臺灣保釣行動', '飛魚灣', '海', '浙江漁港列表']\n",
            "['好球', '好球帶', '籃球位置', '保送', '不死三振']\n",
            "['陳水扁', '陳水扁政府', '三一九槍擊事件', '2000年中華民國總統選舉', '林世嘉']\n",
            "['對日民間索賠', '南京大屠殺', '歧視', '第二次世界大戰', '遺華日僑']\n",
            "['顯性', '相對性狀', '遺傳多樣性', '陰', '舐陰']\n",
            "['臺灣客家語', '臺灣國語', '峨眉鄉', '楊梅區', '桃園市']\n",
            "['梁柏豪', '朝花夕拾', '亦舒', '倪匡', '原振俠系列']\n",
            "['特洛伊戰爭', '被縛的普羅米修斯', '普羅米修斯', '兒童', '小孩_(電影)']\n",
            "['三角', '不等邊三角形', '三角學', '中點三角形', '黃金三角形']\n",
            "['金朝', '金', '女真', '安東尼·西尼蘇卡·金廷', '現象']\n",
            "['羅馬神話', '古羅馬宗教', '北歐神話', '古希臘羅馬神話', '凱爾特神話']\n",
            "['工具', '人類']\n",
            "['晶體結構', '晶體', '原子', '超原子', '晶體生長']\n",
            "['諾貝爾文學獎得主列表', '諾貝爾和平獎', '諾貝爾物理學獎', '薩繆爾·約瑟夫·阿格農', '諾貝爾委員會']\n",
            "['吉爾伽美什史詩', '荷馬史詩', '荷馬', '澤諾多託斯', '詠史詩']\n",
            "['釣魚臺列嶼', '亞洲胡瓜魚', '胡瓜魚', '釣魚臺', '南小島']\n",
            "['南京大學附屬中學', '南京師範大學附屬中學', '南京田家炳高級中學', '南京市金陵中學', '南京師範大學附屬小學']\n",
            "['失物招領：周慧敏精選', '周慧敏·最愛V25', '香港', '周慧敏', '方文琳']\n",
            "['五虎將', '張飛', '關羽', '萬人敵', '三國志']\n",
            "['亞當', '聖經', '亞當·山德勒', '亞當·福格森', '亞當·斯密']\n",
            "['七彩卡通老夫子', '卡通形象', '日本', '藤島康介', '卡通']\n",
            "['維吾爾語', '洋蔥', '艾努語', '羅布話', '中古波斯語']\n",
            "['德國新建鐵路線路', '臺灣鐵路運輸', '越南鐵路運輸', '臺北鐵路地下化專案', '重慶高速公路']\n",
            "['錳酸鉀', '還原劑', '氯酸鋰', '伯醇氧化至羧酸', '碘酸']\n",
            "['籃球', '妨礙中籃', '上籃', '烏龍球', '國際籃球聯合會']\n",
            "['護照', '駕駛執照', '國家']\n",
            "['一邊一國', '國', '中國', '標語']\n",
            "['李祖德', '邱文達', '臺北醫學大學', '高雄醫學大學', '醫師勞動條件改革小組']\n",
            "['新喜劇之王', '星輝海外有限公司', '周潤發', '喜劇演員', '無敵幸運星']\n",
            "['以色列教育', '伊朗教育', '香港教育', '經濟學人', '經濟學']\n",
            "['俄派芭蕾', '芭蕾舞', '上海芭蕾舞團', '吉賽爾', '阿道夫·亞當']\n",
            "['獅子座83', '獅子座', '獅子座56', '獅子座79', '獅子座ψ']\n",
            "['芝加哥期貨交易所', '芝加哥', '紐約商品期貨交易所', '韓國交易所', '上海期貨交易所']\n",
            "['語言教育', '內容和語言整合學習', '博雅教育', '文森特·梵高', '教育']\n",
            "['沈鈞儒', '王頌蔚', '錢崇威', '沈墉', '沈謙']\n",
            "['氰化鋰', '氰化鋁', '氫氧化鎵', '氟硼酸', '氰化氫']\n",
            "['維納斯', '塑像', '羅馬']\n",
            "['尼泊爾世界遺產名錄', '格魯吉亞世界遺產列表', '布魯塞爾', '古蹟', '布魯塞爾法語化']\n",
            "['GmailFS', 'Gmail', '月']\n",
            "['C與C++的兼容性', '國家地區代碼', 'C語言', '代碼注入', '座標系']\n",
            "['坦克人', '文獻紀錄片', '六四事件', '天安門金水橋恐怖襲擊案', '天安門毛澤東像污損案']\n",
            "['X射線天文學', 'X射線', '倫琴_(單位)', 'X射線機', '錢德拉X射線天文臺']\n",
            "['中華東路_(臺南市)', '中華南路', '中華北路', '小東路', '臺9線']\n",
            "['決策', '主管支援系統', '企劃', '全曜財經', '反對逃犯條例修訂草案運動中使用的策略和方法']\n",
            "['最高領導人', '莫斯科市長', '博古', '莫斯科']\n",
            "['法律', '道德', '中華人民共和國宗教', '中華法系', '傳統']\n",
            "['阿列日省市鎮列表', '阿卜杜勒-阿齊茲·本·阿卜杜拉赫曼·本·費薩爾·阿勒沙特', '阿卜杜勒侯賽因·米爾扎·法爾曼法爾馬', '阿卜杜勒-侯賽因·米爾扎·法爾曼法爾馬', '阿卜杜勒·馬吉德·米爾扎']\n",
            "['天佑國王', '天佑安圭拉']\n",
            "['越南戰爭', '中華民國駐越軍事顧問團', '林登·約翰遜', '2020年美國總統特朗普支持率列表', '美國總統支持率']\n",
            "['中華民國法律', '信賴保護原則', '法律', '臺灣法律', '憲政主義']\n",
            "['馬克思學說研究會', '馬克思主義思想流派', '新馬克思主義', '西方馬克思主義', '對馬克思主義的批評']\n",
            "['立秋', '立夏', '節氣']\n",
            "['民族國家', '無國家民族', '民族主義', '中國民族列表', '臺灣人']\n",
            "['聯播網', '新聞聯播天氣預報', 'NBC晚間新聞', '新聞聯播', '中央廣播電視總檯環球資訊廣播']\n",
            "['國家廣播公司標誌', '超級英雄', '行運超人', '美國漫畫黃金時代', '超人']\n",
            "['靈獸', '魔獸系列', '龍', '溝足獸屬', '魔獸世界：熊貓人之謎']\n",
            "['白春禮', '中國科學院大學工程科學學院', '王綬琯', '李家明', '吳大猷']\n",
            "['張京澤', '省委書記', '自治區黨委書記', '書記', '中華人民共和國國家民族事務委員會']\n",
            "['張谷英', '張谷英村', '中國歷史文化名村', '中國']\n",
            "['謝芳', '毛澤東私人醫生回憶錄', '唐德剛', '丁雲章', '袁鳳修']\n",
            "['香杏麗蘑', '杏香兔兒風', '松口蘑', '黏小奧德蘑', '長頸鹿']\n",
            "['歐內斯特·勞倫斯', '利昂·萊德曼', '格雷戈裏·布萊特', '歐內斯特·沃爾頓', '勞倫斯隕石坑']\n",
            "['複合材料', '樹脂基複合材料', '工程用水泥基複合材料', '建築材料', '陳祥寶']\n",
            "['朝鮮半島衝突', '第二次世界大戰', '帝國大學', '首爾特別市', '朝鮮半島歷史']\n",
            "['失物招領：周慧敏精選', '沈雁', '小龍女', '歌手·當打之年', '方文琳']\n",
            "['營養不良', '肥胖症', '青少年', '基因水平轉移', '超重']\n",
            "['籃球', '手球', '烏龍球', '國際籃球聯合會', '法式滾球']\n",
            "['英屬婆羅洲日佔時期', '沙巴', '英屬婆羅洲', '東南亞', '北婆羅洲渣打公司']\n",
            "['獎盃', '獎勵', '獎章', '聯盟主席獎盃', '沃爾特·A·布朗冠軍獎盃']\n",
            "['教育階段', '南京大學城市規劃與設計系', '城市規劃', '北京鐵路管理學校']\n",
            "['華南理工大學建築學院', '華南理工大學軟件學院', '華南理工大學前沿軟物質學院', '國家圖書館_(中華民國)', '華南理工大學經濟與金融學院']\n",
            "['高建_(韓國)', '中華人民共和國腐敗案件列表', '中國治貪史', '彭定國', '政治腐敗']\n",
            "['芝諾', '伊利亞學派', '斯法埃魯斯', '克里安西斯', '法蘭克福學派']\n",
            "['原諒他77次', '歌手·當打之年', '蔡卓妍', '活出生命LIVE演唱會', '黎明一夜傾情演唱會']\n",
            "['奧克蘭大區', '奧克蘭市長', '奧克蘭_(加利福尼亞州)', '區_(英格蘭)', '都市圈']\n",
            "['臺灣英文雜誌社', '寶血會上智英文書院', '保留名稱', 'Dandelion', '蒲公英']\n",
            "['磁控濺射', '沉積', '薄膜電晶體', '單射、滿射與雙射', '直流濺射']\n",
            "['實業補習學校', '技術型高級中等學校', '國立臺南大學', '臺南市立安平水產專修學校', '清華大學校史']\n",
            "['捷豹', '林寶堅尼Miura', '跑車', '豪華汽車', '臺灣機車']\n",
            "['桃園市', '綽號', '名稱', '元智大學']\n",
            "['神農', '透明', '軀幹', '內臟']\n",
            "['人類演化', '演化人類學', '文化演化', '傍人', '宏觀演化']\n",
            "['臺灣報紙列表', '報紙', '日本報紙', '新聞自由', '中華民國言論自由']\n",
            "['遺傳性疾病', '預防醫學', '患者', '疾病', '古病理學']\n",
            "['土星的衛星', '木星環', '木星日食', '木星的衛星', '木星探測']\n",
            "['白雪仙', '吳素英', '千里駒', '溏心風暴之家好月圓', '林師傅在首爾']\n",
            "['資本主義政治經濟學', '無政府資本主義', '馬克思主義政治經濟學', '新世界秩序', '社會主義政治經濟學']\n",
            "['五胡十六國', '永嘉之亂', '劉聰', '晉朝歷史', '劉粲']\n",
            "['決定性問題', '問題', '微分方程', '時滯微分方程', '線性微分方程']\n",
            "['病原細菌', '擬菌病毒科', '古菌', '病毒', '細菌']\n",
            "['伊斯法罕地鐵', '伊斯法罕省', '伊斯法罕', '伊朗交通', '法靈頓站']\n",
            "['倫琴_(單位)', 'X射線機', '錢德拉X射線天文臺', 'X射線', 'X射線天文學']\n",
            "['真靈長大目', '靈長目', '靈長大目', '目_(生物)', '目']\n",
            "['古典芭蕾', '芭蕾舞', '俄派芭蕾', '上海芭蕾舞團', '肚皮舞']\n",
            "['英語人名', '蒲公英']\n",
            "['中華人民共和國人權', '阿拉伯聯合大公國人權', '日惹原則', '性與生殖健康及權利', '不受歧視的自由']\n",
            "['剛果民主共和國華人', '剛果民主共和國', '首都']\n",
            "['黑紗', '袖章', '紗', '華人地區', '華人']\n",
            "['土庫曼_(消歧義)', '加盟共和國', '南斯拉夫聯盟共和國', '土庫曼斯坦', '美國']\n",
            "['粉末', '海洛因']\n",
            "['行憲紀念日', '聖誕節', '先總統蔣公誕辰紀念日', '中華民國節日與歲時列表', '中華民國憲法學會']\n",
            "['北非阿拉伯人', '伊斯蘭教的傳播', '黎巴嫩', '伊斯蘭教', '安達盧西亞']\n",
            "['怦然心動的人生整理魔法', '近藤麻理惠', '實藤惠秀', '豐臣秀吉', '釋印順']\n",
            "['木星的衛星', '木星', '天王星的衛星', '衛星', '土星的衛星']\n",
            "['議會', '罪己詔', '尊嚴', '危害人類罪', '煽動顛覆國家政權罪']\n",
            "['瓦西里島站', '涅瓦-瓦西里島線', '總督大道站', '普瓦西站', '海濱站']\n",
            "['微型計算機', '單片機', '集成電路']['耶和華見證人和三位一體', '聖靈', '三位一體', '神之子', '聖子']\n",
            "\n",
            "['北阿坎德邦', '魯德勒布勒亞格縣', '北阿坎德邦行政區劃', '金巴沃德縣', '法屬印度']\n",
            "['棘皮動物', '無脊椎動物', '脊柱外科', '脊柱後凸', '脊柱前凸']\n",
            "['奧林匹亞宙斯神廟', '埃及神廟', '奧林匹亞赫拉神廟', '埃德富神廟', '竈神廟']\n",
            "['瓜分非洲', '中華民國大陸時期行政區面積表', '蘇聯地理', '剛果民主共和國', '非洲殖民地']\n",
            "['啤酒', '朝鮮民主主義人民共和國的啤酒', '自釀啤酒', '釀造酒', '酒精發酵']\n",
            "['沈謙', '沈鈞儒', '民國時期', '民國']\n",
            "['2020年中華民國總統選舉', '1996年中華民國總統選舉', '2020年民主進步黨總統提名選舉', '馬英九', '蔡英文']\n",
            "['鍼灸', 'Wow!訊號', '鍼灸甲乙經', '計算機媒介現實', '媒介依賴理論']\n",
            "['兩面針', '花椒', '竹葉花椒', '龜鱉目', '花葯']\n",
            "['威靈頓機場', '惠靈頓', '紐西蘭人口', '惠靈頓隊足球俱樂部', '新西蘭國家圖書館']\n",
            "['蒼鷺', '夜鷺屬', '草鷺', '鷺屬', '鷺鶴']\n",
            "['王實甫', '西廂記', '秦簡夫', '南西廂記', '牆頭馬上']\n",
            "['婦女參政論者', '後重建時期的剝奪投票權', '1928年人民代表（平等投票權）法令', '美利堅合衆國憲法第十五條修正案', '女性參政權']\n",
            "['李祖德', '國立臺中教育大學', '國立臺北科技大學', '國立臺北商業大學', '國立臺北護理健康大學']\n",
            "['土星的衛星', '土衛二', '土衛十', '土星環', '土衛二生命發現者']\n",
            "['鸊鷉科', '信天翁科', '屬', '體型', '分類學']\n",
            "['雀形目', '雀下目', '雀鱔科', '歌百靈屬', '漠百靈屬']\n",
            "['手工藝', '內畫壺', '技術', '工業技術研究院', '王清霜']\n",
            "['安那託利亞語族', '波羅的語族', '歐洲聯盟語言', '歐亞語系', '印歐語系']\n",
            "['香港電腦商會', 'PCM電腦廣場', 'SETI@home']\n",
            "['張惠妹音樂作品列表', '張惠妹', '金屬樂隊', '張惠妹現場表演列表', '關正傑']\n",
            "['釣魚臺', '釣魚臺列嶼', '釣魚臺列嶼主權問題', '衝南巖', '中華民國臺灣地區島嶼列表']\n",
            "['變流技術', '電力電子學', '直流電動機', '直流-直流轉換器', '開關模式電源']\n",
            "['人類的性', '性取向', '雙性戀', '性成癮', '不孕']\n",
            "['冰島', '緯度', '首都', '城市', '國內']\n",
            "['臺灣民報', '美洲臺灣時報', '臺灣時報', '臺灣文化協會', '看守臺灣協會']\n",
            "['徐太志']\n",
            "['冥王', '羅馬_(電視連續劇)']\n",
            "['密西根州立大學', '密西根大學羅斯商學院', '美國', '密西根大學']\n",
            "['星期六']\n",
            "['虛擬教研中心', '學術', '模式']\n",
            "['撞擊坑', '普維斯撞擊坑', '鷹撞擊坑', '撞擊結構', '林布蘭撞擊坑']\n",
            "['湯姆·班克斯', '奧斯卡二世', '湯姆·克魯斯', '湯姆·漢克斯', '奧斯卡·埃爾南德斯']\n",
            "['聖彼得堡國立電子科技大學', '電子科技大學']\n",
            "['明英宗', '景泰帝', '景泰', '弘光帝', '明憲宗']\n",
            "['奧古斯都·勞裏克殖民地', '奧古斯都_(稱號)', '奧古斯都', '稱謂', '奧古斯都·腓特烈_(薩塞克斯公爵)']\n",
            "['疾病', '喬治三世', '喬治·桑', '喬治·哈里森']\n",
            "['聯合國海洋法公約', '專屬經濟區', '國際海底管理局', '公海公約', '多邊公約國內法化暫行條例']\n",
            "['學術', '海斯羅珀學院', '英國國家學術院', '法國的大學', '大學']\n",
            "['希吉拉', '伊斯蘭國', '伊斯蘭教', '伊斯蘭曆', 'BH']\n",
            "['彌涅耳瓦', '正義女神', '阿皮亞斯', '第一門的奧古斯都像', '得墨忒耳']\n",
            "['木衛六', '木衛十', '宙斯', '木衛七', '埃癸斯']\n",
            "['壓力管理', '質量與重量的比較', '電子簡併壓力', '平衡', '太陽']['通用美式英語', '美國英語', '新加坡式英語', '英國英語', '港式英語']\n",
            "\n",
            "['魯普薩烏帕齊拉', '吉紹爾甘傑烏帕齊拉', '伊什瓦爾迪烏帕齊拉', '達什米納烏帕齊拉', '福裏德布爾烏帕齊拉']\n",
            "['波士頓諮詢公司', '波士頓', '金融服務', '專業人士', '臺中市政府經濟發展局']\n",
            "['閩南語維基百科', '白話字', '粵文維基百科', '閩南語拉丁化歷史', '閩南語漢字訓讀']\n",
            "['金朝', '丁卯戰爭', '開禧北伐', '馬丁·路德·金', '金章宗']\n",
            "['太平鳥屬', '雀形目', '鳥', '陸鳥類', '新鳥小綱']['宋仁宗', '清朝君主列表', '中國皇帝', '大韓帝國皇帝', '漢靈帝']\n",
            "\n",
            "['徐太志和孩子們', '徐太志']\n",
            "['馬克思學說研究會', '馬克思主義思想流派', '對馬克思主義的批評', '西方馬克思主義', '馬克思主義政治經濟學']\n",
            "['卡通形象', '藝術家', '七彩卡通老夫子', '職業安全健康', '漫畫書']\n",
            "['邊值問題', '決定性問題', '微分方程', '問題', '拋物偏微分方程']\n",
            "['月刊Asuka', '封魔少年焰&陣', \"月刊Hero's\", '青文出版社', '炸彈小新娘']\n",
            "['宋教仁', '國民黨_(1912年)', '國民黨政府', '梁啓超', '潯陽街道']\n",
            "['藤子不二雄', '藤子·F·不二雄', '藤子不二雄Ⓐ', '藤子·F·不二雄創作', '飛行']\n",
            "['隼', '獵隼', '猛禽', '隼科']\n",
            "['九州', '私小說', '虛構世界', '世界', '背景']\n",
            "['山斑鳩', '東方蠊', '非洲禽類', '東方扁蝦', '香蒲']\n",
            "['瑤池', '松山慈惠堂', '王天君', '西王母', '洞天']\n",
            "['波蘭', '海', '城市', '格但斯克']\n",
            "['軟體設計文件', '人類']\n",
            "['政治運動', '工人階級', '社會階層', '環保運動', '中產階級']\n",
            "['中國湖泊列表', '鄱陽湖', '洞庭湖', '鄱江', '鄱陽湖平原']\n",
            "['喬治·卡特萊特·馬歇爾', '三十年戰爭', '喬治·巴頓掌摑事件', '普法戰爭', '富蘭克林·德拉諾·羅斯福']\n",
            "['赤霞珠', '芳香味化合物', '印尼飲食', '新加坡飲食', '刺果番荔枝']\n",
            "['曹髦', '曹宗', '曹真', '曹襄', '曹丕']\n",
            "['俄羅斯君主列表', '亞歷山大一世·雅蓋隆契克', '哈薩克裔俄羅斯人', '克萊門斯·馮·梅特涅', '英格蘭人']\n",
            "['桃園市', '桃園縣', '桃園區', '桃園市市長', '桃園市政府']\n",
            "['基留希', '薩沙', '埃斯基謝希爾', '烏克蘭', '聚落']\n",
            "['2010年臺北國際花卉博覽會', '2018年臺中世界花卉博覽會', '2014年世界園藝博覽會', '1999年昆明世界園藝博覽會', '2019年中國北京世界園藝博覽會']\n",
            "['民族國家', '無國家民族', '民族主義', '中國民族列表', '臺灣人']\n",
            "['八大山人', '明朝', '清朝']\n",
            "['張衡', '兩都賦', '子虛賦', '黃巾之亂', '司馬相如']\n",
            "['張谷英鎮', '義大利最美的村莊', '張谷英', '村莊', '法國最美村莊']\n",
            "['白話字', '閩南語維基百科', '閩南語拉丁化歷史', '粵文維基百科', '唐話番字初學']\n",
            "['大波士頓', '波士頓', '波士頓環球報', '臺南市', '臺南都會區']\n",
            "['冠蕉鵑', '綠色', '眼珠顏色', '色素細胞', '原始色素體生物']\n",
            "['藍寶石', '紅寶石', '東方藍巨人', '紅寶石雷射', '砂金效應']\n",
            "['宋仁宗', '宋高宗', '中國皇帝', '清朝君主列表', '趙匡胤']\n",
            "['子公司', '私人公司', '公司']\n",
            "['國立臺灣科技大學研揚大樓', '國立臺灣科技大學管理研究所', '國立臺灣大學系統', '國立臺灣科技大學管理學院', '羅桂祥綜合生物醫學大樓']\n",
            "['麗臺科技', '創新', '集體智慧', '智慧電網', '質量控制']\n",
            "['奧莉薇雅·柯爾曼', '奧黛麗·赫本', '羅馬假期', '婚姻故事', '奧斯卡最佳女主角獎']\n",
            "['伊俄卡斯忒', '小行星899', '七將攻忒拜', '厄忒俄克勒斯', '俄瑞斯忒斯']\n",
            "['溫室', '溫室效應', '空氣調節', '煙囪效應', '溫室氣體觀測衛星']\n",
            "['秦邦憲舊居', '蔣中正考察蘇聯', '蘇聯總統', '蘇聯最高蘇維埃', '蘇聯']\n",
            "['後燕', '秦皇島市', '燕大', '秦皇島市第一中學', '前燕']\n",
            "['土紅色', '流星', '茜草紅', '木炭', '粉塵燃燒']\n",
            "['猶太教', '聖經思高本', '希伯來聖經', '聖經批評', '基督教歷史']\n",
            "['議題建構', '政治議程', '議題設定', '公共政策', '社會']\n",
            "['姚明', '奈史密斯籃球名人紀念堂', '凱蒂·史密斯', '斯萊特·馬丁', '詹姆斯·奈史密斯']\n",
            "['萬國寶通中心', '農村', '總部', '美國', '花旗銀行']\n",
            "['歐洲聯盟擴大', '歐洲聯盟成員國政治制度列表', '歐洲睦鄰政策', '歐洲聯盟歷史', '歐洲聯盟成員國']\n",
            "['原日本勸業銀行臺南支店', '臺灣西部', '勸業銀行舊廈', '臺灣銀行列表', '臺灣行政區劃']\n",
            "['開元路_(臺南市北區)', '福元路', '臺南市', '全長', '全姓']\n",
            "['香港報業', '香港島', '金庸', '明報出版社', '香港傳媒']\n",
            "['小富蘭克林·德拉諾·羅斯福', '羅斯福家族', '羅斯福總統', '富蘭克林', '羅斯福大學']\n",
            "['香港聖公會院校', '香港聖公會聖基道兒童院', '史超域', '聖保羅堂', '聖保羅書院']\n",
            "['新華網', '中國新華新聞電視網', '新華社', '新華社平壤分社', '新華社解放軍分社']\n",
            "['大西洋', '北冰洋', '北冰洋汽水', '弗拉姆海峽', '深度']\n",
            "['軟體設計文件', '資訊業', '作家']\n",
            "['蝦夷地', '蝦夷', '蝦夷錦', '蘇我蝦夷', '德川家康']\n",
            "['高級程序員', '程序員']\n",
            "['小查理·卓別林', '悉尼·約翰·卓別林', '查理·卓別林', '查爾斯·狄更斯', '童年']\n",
            "['內畫壺', '日本國寶', '工藝美術', '工業技術研究院', '技術']\n",
            "['魯普薩烏帕齊拉', '烏普薩拉', '烏帕齊拉', '天主教莫爾費塔-魯沃-焦維納佐-泰爾利齊教區', '孟加拉語']\n",
            "['事實', '人類演化歷程', '危害人類罪', '事實查覈', '演化心理學']\n",
            "['三苗', '禹', '黃帝', '黃河文明', '1998年中國水災']\n",
            "['最高領導人', '博古', '中山大學_(消歧義)', '中國共產黨歷史', '谷正鼎']\n",
            "['榴彈炮', '280毫米榴彈炮', 'M101榴彈炮', 'M-68榴彈炮', '炮兵']\n",
            "['水星凌日', '金星凌日', '凌日', '凌_(天體)', '2006年']\n",
            "['乙炔', '氰氨化鈣', '硫化鈣', '六硼化鈣', '二氧化鋯']\n",
            "['棘皮動物', '海星亞門', '古海星', '海膽亞門', '後口動物']\n",
            "['俄刻阿諾斯', '斯堤克斯', '忒堤斯', '忒勒斯托', '俄刻阿尼得斯']\n",
            "['二乘解脫道', '上座部', '部派佛教', '大衆部', '解脫道']\n",
            "['家牛', '國家象徵', '中國', '印度-尼泊爾友好條約', '文化']\n",
            "['喬瓦尼·多梅尼科·卡西尼', '讓-多米尼克·卡西尼', '卡西尼', '卡西尼定律', '雅克·卡西尼']\n",
            "['楊虎城', '兵諫亭', '西安事變', '楊虎', '西安市']\n",
            "['西班牙內戰', '西班牙共和國流亡政府', '弗朗西斯科·佛朗哥', '弗朗西斯科·佛朗哥獨裁', '第二次世界大戰期間的西班牙']\n",
            "['撞擊坑', '普維斯撞擊坑', '撞擊結構', '鷹撞擊坑', '林布蘭撞擊坑']\n",
            "['文森特·梵高', '教育']\n",
            "['潛藩升府', '中國皇帝', '滿洲國皇帝', '散州', '鹹淳府']\n",
            "['暗殺', '狙擊步槍', '勒萊耶', '縱深作戰', '常規戰爭']\n",
            "['紫質症', '神經性暴食症', '焦慮症', '砷中毒', '大腸激躁症']\n",
            "['法櫃奇兵', '喬治·盧卡斯', '盧卡斯影業', '星際大戰正傳三部曲', '星際大戰四部曲：曙光乍現']\n",
            "['太平鳥屬', '雀形目', '鳥', '新鳥小綱', '陸鳥類']\n",
            "['馬克思學說研究會', '馬克思主義思想流派', '西方馬克思主義', '後馬克思主義', '新馬克思主義']\n",
            "['2型糖尿病', '成人隱匿遲發性自體免疫糖尿病', '抗糖尿病藥', '老年糖尿病', '糖尿病周邊神經病變']\n",
            "['廖文毅', '黃紀男', '中華民國政府遷臺', '廖史豪', '臺灣歷史']\n",
            "['今敏', '女性主義藝術', '細田守', '七彩卡通老夫子', '卡通形象']\n",
            "['拿督', '馬來語']\n",
            "['逍遙學派', '古希臘哲學', '新柏拉圖主義', '淡水學派與鹹水學派', '京都學派']\n",
            "['米開朗基羅', '米開朗基羅·樂孔特']\n",
            "['公民民族主義', '批判地理學', '真理永恆', '極端民族主義', '民族主義']\n",
            "['主小行星帶', '小行星衛星', '小行星族', '阿莫爾型小行星', '小行星']\n",
            "['密克羅尼西亞運動會', '卡皮托爾希爾', '.mp', '面積', '海洋性氣候']\n",
            "['于化虎', '義和團運動', '虹口公園爆炸事件', '中國人民解放軍進行曲', '中國人民解放軍特種部隊']\n",
            "['安東尼·奎恩', '哈維爾·巴登', '山姆·洛克威爾', '畢·彼特', '勞勃·杜瓦']\n",
            "['遞歸集合', '集合_(數學)', '總體', '有限集合', '繼承有限集合']\n",
            "['雀形目', '雀下目', '雀鱔科', '漠百靈屬', '歌百靈屬']\n",
            "['謝長廷', '1947年中華民國國民大會代表選舉', '1948年中華民國立法委員選舉', '1991年中華民國國民大會代表選舉', '2016年中華民國立法委員選舉']\n",
            "['張其昀', '梅貽琦', '楊朝祥', '中國文化大學體育館', '賙濟']\n",
            "['汽車動力性', '加速度', '車速表', '區間平均速率執法', '汽車種類']\n",
            "['五大營養素', '糧食', '營養學', '營養', '營養不良']\n",
            "['秦邦憲舊居', '蘇聯', '博古', '因果關係']\n",
            "['清朝民變', '袁世凱', '中國', '清朝經濟', '明末民變']\n",
            "['綠山城', '茨韋西門', '鄰水縣', '山城', '波蘭']\n",
            "['內燃機', '準靜止鋒', '氣溶膠', '稀薄燃燒', '燃料噴射裝置']\n",
            "['智能手機', '黑莓手機', '用戶界面', '數字用戶線路', '程序']\n",
            "['韓國國務總理', '韓國國務總理列表', '中華民國國務總理', '越南共和國總理', '中華民國總統']\n",
            "['棘皮動物', '培養皿', '脊椎側彎', '後口動物', '螺旋動物']\n",
            "['魏瑪憲法', '霍亨索倫統治者列表', '魏瑪共和國', '霍亨索倫王朝', '三十年戰爭']\n",
            "['總統制', '立法機關', '行政法', '政府首腦', '法律改革辦公室']\n",
            "['中國社會科學院大學', '保加利亞科學院', '中國社會科學院歐洲研究所', '中國科學院', '胡喬木']\n",
            "['化學物質', '藥物', '化學', '毒物', '鴉片類藥物']\n",
            "['樂山大佛', '大佛']\n",
            "['非營利組織', '居民組織', '天安門自焚事件', '六四事件', '輔仁大學心理系性侵案']\n",
            "['宋欽宗', '宋度宗', '趙昺', '趙匡濟', '趙弘殷']\n",
            "['土星的衛星', '倫琴衛星', '土衛十', '土衛五十一', '衛星']\n",
            "['密西根州立大學', '密西根大學羅斯商學院', '美國', '密西根大學']\n",
            "['輕機槍', '88式通用機槍', '機槍', '95式自動步槍', 'T91戰鬥步槍']\n",
            "['貓', '貓科', 'MacOS']\n",
            "['韓式泡菜', '泡菜', '四川泡菜', '蘿蔔泡菜', '酸梅']\n",
            "['界_(生物)', '真菌', '細菌', '雙核亞界', '古菌']\n",
            "['問題', '答案', '決定性問題', '生命、宇宙以及任何事情的終極答案', '方法']\n",
            "['中國戲曲音樂', '戲曲', '豫劇', '趙國安', '㗰劇']\n",
            "['穀梁傳', '春秋_(書)', '春秋']\n",
            "['臺北市', '英國國籍法', '國籍', '英國', '城']\n",
            "['魯普薩烏帕齊拉', '帕伊克加恰烏帕齊拉', '迪加里亞烏帕齊拉', '杜穆里亞烏帕齊拉', '庫伊拉烏帕齊拉']\n",
            "['川端町', '川端公園', '臺北市', '西園町', '臺北市舊町名列表']\n",
            "['正壬醇', '碳酸乙烯酯', '碳九芳烴', '不對稱碳原子', '全氟羧酸']\n",
            "['電子藝術大獎', '獎勵', '華人十大傑出專案經理人獎', 'D.I.C.E.大獎', '維基百科']\n",
            "['經濟學', '經濟學人', '文盲']\n",
            "['惠靈頓', '紐西蘭人口', '西方世界', '新西蘭', '智利']\n",
            "['阿托品', '患者', '近視']\n",
            "['史前時代', '原史時代', '信史', '上古時代', '中國傳說時代']\n",
            "['艦隊航空母艦', '航空母艦', '護航航空母艦', '直升機航空母艦', '輕型航空母艦']\n",
            "['世界棒壘球總會棒球世界排名', '排球', '世界']\n",
            "['斯里蘭卡總理', '美國總統', '印度尼西亞總理列表', '蒙古總理', '24小時']\n",
            "['臺南市東區復興國民小學', '臺南市東區裕文國民小學', '復興國小', '關聖裏', '臺南市_(州轄市)']\n",
            "['殖民主義', '法蘭西殖民帝國', '非洲殖民地', '香港歷史', '殖民地']\n",
            "['艾山·買合蘇木', '買買提吐爾遜·依明', '奧薩馬·本·拉登之死', '買買提吐爾遜·阿布杜哈力克', '基地組織']\n",
            "['新月沃土', '牛科', '農業史', '各國土地使用情況列表', '一粒小麥']\n",
            "['肥胖症', '飲食文化', '左旋安非他命', '中世紀飲食']\n",
            "['歷史語言學', '詞彙功能語法', '方言學', '漢語語法', '計算語言學']\n",
            "['澎湖廳長', '澎湖鎮', '澎湖縣', '張其光', '馬公市']\n",
            "['德克薩斯州州長', '亞利桑那州州長', '2012年美國州長選舉', '喬治亞州', '加利福尼亞州州長']\n",
            "['小查理·卓別林', '悉尼·約翰·卓別林', '老查理·卓別林', '悉尼·厄爾·卓別林', '查理·卓別林']\n",
            "['伊斯蘭教', '伊斯蘭教與基督教關係', '北非阿拉伯人', '黎巴嫩', '埃及']\n",
            "['亞歷山大一世·雅蓋隆契克', '亞歷山大·沙倫貝格', '亞歷山大·克倫斯基']\n",
            "['臺北市立聯合醫院', '臺北市政府衛生局', '新北市政府警察局', '衛生福利部臺北醫院', '發展局局長']\n",
            "['公海艦隊自沉事件', '公海艦隊', '大艦隊', '牛虻號佈雷巡洋艦', '法國艦隊土倫自沉事件']\n",
            "['鈴木敏文', '日本', '伊藤洋華堂', '日本百貨公司', '百貨公司']\n",
            "['國立臺灣大學應用力學研究所', '鮑亦興', '中央研究院', '研究所', '林啓萬']\n",
            "['殼聚糖', '甲殼質', 'N-乙酰葡糖胺', '玻尿酸', 'Β-葡聚糖']\n",
            "['工業設計', '香港知專設計學院', '設計史', '設計思考', '九型人格']\n",
            "['俄法戰爭', '博羅金諾戰役', '拿破崙戰爭', '低強度戰爭', '砲艦戰爭']\n",
            "['程序', 'MMX', '程序設計', '多核心處理器', '多線程']\n",
            "['果酒', '蘋果酒', '賓治酒', '酒稅法', '酒吧']\n",
            "['淮劇', '入聲', '洪武正韻', '廣韻', '御定佩文韻府']\n",
            "['鏹水', '酸', '硫酸', '丙酸', '碘化氫']\n",
            "['非平衡態熱力學', '凝聚態物理學', '流體力學', '流體動力學', '物質狀態']\n",
            "['約翰·韋恩', '凱瑟琳·赫本', '亂世佳人', '貝蒂·戴維斯', 'AFI百年百大明星']\n",
            "['獅級戰列巡洋艦', '毛奇號大巡洋艦', '胡德號戰列巡洋艦', '戰列巡洋艦', '重巡洋艦']\n",
            "['金球獎最佳電影女配角', '金馬獎', '美國演員工會獎最佳男配角', '香港演藝學院', '英國電影學院獎最佳女配角']\n",
            "['氣象衛星', '天氣諺語', '天氣預報', '火星氣候', '氣象衛星雲圖']\n",
            "['軟體設計文件', '軟體智能', '程序員', '資訊業']\n",
            "['仰光理工大學', '華南理工大學體育學院', '西安理工大學', '澳門理工大學', '澳門理工大學體育館']\n",
            "['蘋果酒', '葡萄酒釀製', '葡萄酒', '力嬌酒', '果酒']\n",
            "['盧卡斯·迪奧多斯基', '托斯卡納大區', '盧卡斯·巴里奧斯', '托斯卡納大公國']\n",
            "['始祖動吻蟲', '寒武紀大爆發', '寒武紀_(消歧義)', '生物', '寒武紀']\n",
            "['文森特·梵高']\n",
            "['馬克思學說研究會', '馬克思主義思想流派', '新馬克思主義', '西方馬克思主義', '對馬克思主義的批評']\n",
            "['馬克思學說研究會', '馬克思主義思想流派', '對馬克思主義的批評', '西方馬克思主義', '馬克思主義政治經濟學']\n",
            "['科羅拉多州行政區劃', '本特縣', '索科羅縣', '科羅拉多州市鎮列表', '密歇根州行政區劃']\n",
            "['中華人民共和國大元帥', '英國陸軍元帥列表', '羅東進', '羅榮桓', '中國人民解放軍總幹部部']\n",
            "['京畿道', '京畿', '大韓民國', '人口']\n",
            "['桑比爾區', '舊桑比爾區', '烏克蘭', '利沃夫州', '圖爾卡區']\n",
            "['梁國雄', '香港獨立運動', '香港警務處國家安全處搜查壹傳媒大樓事件', '2014年高雄氣爆事故', '香港居民的身份認同']\n",
            "['乾果', '穎果', '無籽果實', '果實', '胞果']\n",
            "['木衛五十', '木衛十四', '木星的衛星', '木衛五十三', '土星的衛星']\n",
            "['撒丁島', '家畜', '畜牧學', '大羊駝', '家豬']\n",
            "['柬埔寨', '柬埔寨機場列表', '柬埔寨人民共和國', '民主柬埔寨', '洞裏薩湖']\n",
            "['老夫子', '七彩卡通老夫子', '細田守', '卡通形象', '新世紀福音戰士']\n",
            "['明成皇后', '李美妍', '皇后']\n",
            "['吉爾吉特-巴爾蒂斯坦', '丹尼爾·奧爾特加', '阿茲特克', '吉倫特派', '美索不達米亞']\n",
            "['印度洋鋸鱗魚', '桑吉巴蝴蝶魚', '印度洋鱧鯙', '蝴蝶魚科', '脊索動物']\n",
            "['靜脈注射', '阿托品', '腔靜脈', '上腔靜脈', '靜脈']\n",
            "['信息論', '密碼學', '量子密碼學', '溝通', '離散數學']\n",
            "['島嶼國家', '分治島嶼列表', '島嶼國家列表', '中華人民共和國島嶼列表', '浙江島嶼']\n",
            "['僧官', '八大山人', '僧省悟', '僧階', '輔國中尉']\n",
            "['朱棣文', '神仙·老師·狗', '教師', '臺灣', '國立臺灣師範大學']\n",
            "['晉國', '晉頃公', '晉景公', '奚齊', '趙景子']\n",
            "['秦皇島市', '房山區', '燕山大學', '華北平原', '河北省']\n",
            "['大西洋', '美國', '邦', '屬地']\n",
            "['天琴座', '肉眼']\n",
            "['法耶茲·薩拉傑', '阿基拉·薩拉赫·伊薩', '的黎波里塔尼亞', '利比亞', '卡扎菲治下的利比亞']\n",
            "['黃忠', '五虎將', '趙雲', '馬超', '魏滅蜀漢之戰']\n",
            "['標準舞', '運動鞋', '鞋', '捷舞', '足球鞋']\n",
            "['軟件開發', '軟件開發工具包', '軟件項目管理', '軟件測試', '軟件開發工具']\n",
            "['約翰·韋恩', '奧麗維亞·德哈維蘭', '亂世佳人', 'AFI百年百大明星', '費雯·麗']\n",
            "['造紙術', '病毒概論', '人類免疫缺陷病毒', '病毒', '中國發明']\n",
            "['高雄縣', '高雄縣縣長', '區域']\n",
            "['加州大學洛杉磯分校棕熊隊', '海港–加州大學洛杉磯分校醫學中心', '印度管理研究所邦加羅爾分校', '蘇菲亞·柯波拉', '成人電影']\n",
            "['無敵幸運星', '九龍', '周星馳', '教師', '神仙·老師·狗']\n",
            "['臺灣總督府', '臺灣清治時期', '臺灣總督', '臺灣省行政長官', '臺灣戰後時期']\n",
            "['隱兵鯰', '大刺棘杆鮠', '亞馬遜河咽鱂', '黑帶直線脂鯉', '阿氏喉鰭魚']\n",
            "['航空交通管制', '空中接近', '航空管制員', '飛行員', '航空安全']\n",
            "['中華人民共和國國家森林公園列表', '東部南極洲', '西恩·威廉·史考特', '史考特·詹森', '雷利·史考特']\n",
            "['雲林定遠電臺', '臺南天馬電臺', '希望之聲國際廣播電臺', '亞洲電視', '第二次冷戰']\n",
            "['苗栗縣', '苗栗縣政府文化觀光局', '苗栗縣歷史', '苗栗縣警察局', '苗栗縣議會']\n",
            "['香港歐亞混血兒', '玲子·艾爾斯沃斯', '歐洲', '亞洲', '血親']\n",
            "['史前時代', '石器時代', '世界歷史', '中國史前文化', '中國中石器文化列表']\n",
            "['夏娃', '亞當', '芬妮·亞當', '耶和華', '亞當·迪凡']\n",
            "['國立臺灣科技大學管理研究所', '國立臺灣科技大學研揚大樓', '國立臺灣大學系統', '國立臺灣科技大學管理學院', '國立臺灣科技大學']\n",
            "['民族國家', '民族主義', '無國家民族', '中華人民共和國民族政策', '中國民族列表']\n",
            "['紫荊文化集團', '陳卓璇', '世紀大講堂', '鳳凰衛視香港臺', '中央企業']\n",
            "['木衛十二', '木衛十五', '土星的衛星', '木星的衛星', '忒亞']\n",
            "['兒玉利國', '牧樸真', '臺灣府', '臺灣府臺灣縣縣丞', '兒玉源太郎']\n",
            "['伊斯蘭教', '汶萊伊斯蘭教', '科隆選侯國', '6世紀', '科隆']\n",
            "['何其芳', '李廣田', '畫夢錄', '夢粱錄', '漢園三詩人']\n",
            "['大豆', '黃豆粉', '豆瓣醬', '豆漿', '純豆腐鍋']\n",
            "['李賦都', '李賦寧', '死亡', '中國', '教育家']\n",
            "['莫氏硬度', '刻劃硬度', '礦物列表', '銻', '材料硬度']\n",
            "['產前發育', '胚胎髮育', '出生', '人工流產', '胎兒鏡檢查']\n",
            "['新北市區公車790路線', '新北市區公車862路線', '基隆車站', '新北市區公車575路線', '基隆捷運']\n",
            "['麻薩諸塞州', '唐納·川普', '臺灣體育', '3x3籃球', '世界女子排球錦標賽']\n",
            "['美國人口', '總部', '美國', '城市', '花旗銀行']\n",
            "['中文流行音樂', '老查理·卓別林', '華語流行音樂', '音樂', '查理·卓別林']\n",
            "['荷馬史詩', '荷馬', '伊利亞特', '亞歷山大·蒲柏', '奧德賽']\n",
            "['現代集團', '鄭周永', '鄭成功', '公司集團', '臺灣明鄭時期']\n",
            "['果實', '無籽果實', '水果', '農業', '胎座']\n",
            "['早期古典音樂', '自由爵士樂', '爵士樂', '二十一世紀古典音樂', '爵士樂俱樂部']\n",
            "['竹內瑪莉亞', '山下達郎', '藝人']\n",
            "['允䄉', '仁皇后', '孝懿仁皇后', '孝靜成皇后', '孝和睿皇后']\n",
            "['液體', '狀態', '空氣污染', '室內空氣污染', '物質狀態']\n",
            "['康敏', '慕容復', '慕容博', '金庸學', '金輪國師']\n",
            "['史前時代', '石器時代', '中國中石器文化列表', '中國史前文化', '新石器時代']\n",
            "['臺中市政府陽明大樓', '臺中市政府', '桃園市政府辦公大樓', '行政院新莊聯合辦公大樓', '臺中市政府教育局']\n",
            "['新約外典', '猶太教與基督教', '猶太教', '聖經無錯謬', '猶太教改革派']\n",
            "['鄧小平南巡', '改革開放', '鄧小平', '王震']\n",
            "['自體受體', '5-羥色胺受體', 'Γ-氨基丁酸A型受體', '神經元', '鏡像神經元']\n",
            "['園林設計', '景觀設計', '工業設計', '園林', '南蓮園池']\n",
            "['吸血鬼', '血液', '血液透析', '血液灌流', '血液學']\n",
            "['奧林匹亞宙斯神廟', '埃及神廟', '埃德富神廟', '竈神廟', '神廟']\n",
            "['Astropulse', 'BOINC', '搜尋地外文明計劃', '普適計算', '加利福尼亞大學河濱分校']\n",
            "['一次文獻', '文獻綜述', '二次文獻', '證據']\n",
            "['楊小凱', '古典經濟學', '羅伯特·巴羅', '哈佛燕京學社', '國際經濟學']\n",
            "['林登·約翰遜', '戰爭', '安德魯·約翰遜', '中華民國駐越軍事顧問團', '贖罪日戰爭']\n",
            "['海上絲綢之路', '絲綢之路', '泉州市']\n",
            "['鄧小平理論', '鄧小平南巡', '鄧小平故居', '1979年鄧小平訪問美國、日本', '鄧小平同志辦公室']\n",
            "['陳昇瑋', '黃崇源', '麗臺科技', '創新', '中國科技大學']\n",
            "['唐朝', '臺北101']\n",
            "['音系學', '等韻學', '語言學', '漢語方言', '對音']\n",
            "['香杏麗蘑', '杏香兔兒風', '黏小奧德蘑', '松口蘑', '長頸鹿']\n",
            "['澎湖廳長', '澎湖鎮', '澎湖本島', '張其光', '澎湖水道']\n",
            "['琉球族', '琉球歷史', '美國統治琉球時期', '琉球文', '琉球獨立運動']\n",
            "['中世紀', '中世紀後期', '中國大陸的性服務業', '科隆', '6世紀']\n",
            "['淡水河', '中國河流列表', '臺灣河流列表', '遼寧河流列表', '世界長河列表']\n",
            "['臺東垃圾焚化廠', '臺東縣', '城西垃圾焚化廠', '二二八事件', '臺灣垃圾焚化廠列表']\n",
            "['一隻雜種', '弗朗茨·卡夫卡', '選集', '長篇_(電影術語)', '故事']\n",
            "['何其芳', '李廣田', '畫夢錄', '胡品清', '夢粱錄']\n",
            "['漢殤帝', '中國皇帝', '漢靈帝', '漢質帝', '東漢']\n",
            "['納尼氏囊鰓鯰', '阿氏喉鰭魚', '中脂䱀', '瓦氏擬鱯', '裸四梳魨']\n",
            "['脂類', '親脂性', '脂肪酸代謝', '磷脂雙分子層', '脂質體']\n",
            "['臺北市文山區興華國民小學', '臺北市文山區萬芳國民小學', '臺北市文山區興德國民小學', '臺中市政府教育局', '臺北市政府']\n",
            "['布爾戈斯主教座堂', '主教座堂', '查理曼', '查理·曼紐爾']\n",
            "['中國共產黨中央政治局常務委員會', '中國共產黨第十九屆中央委員會第一次全體會議', '中國共產黨中央政治局', '政治局', '朝鮮勞動黨中央委員會政治局']\n",
            "['象山公園_(臺北市)', '臺北市市政大樓', '觀象山', '觀象山地磁房', '工業貿易大樓']\n",
            "['備後國', '廣島', '小田縣', '廣島城', '豐後國']\n",
            "['惠靈頓', '紐西蘭人口', '華裔新西蘭人', '新西蘭', '威靈頓公學']\n",
            "['尼泊爾世界遺產名錄', '格魯吉亞世界遺產列表', '聯合國教科文組織亞太區文物古蹟保護獎', '布魯塞爾法語化', '布魯塞爾']\n",
            "['劉子厚', '劉長瑜', '劉義慶', '替補演員', '屈中恆']\n",
            "['蘇格拉底反詰法', '蘇格拉底式的質疑', '蘇格拉底的申辯', '前蘇格拉底哲學', '對話']\n",
            "['雲林定遠電臺', '臺南天馬電臺', '中國華藝廣播公司', '希望之聲國際廣播電臺', '臺灣日治時期']\n",
            "['三十年戰爭', '泛斯拉夫主義', '東向移民運動', '日耳曼人', '荷蘭']\n",
            "['墨西哥國徽', '墨西哥國旗', '月桂', '加蓬國徽', '古巴國徽']\n",
            "['小行星7864', '小行星3716', '小行星7232', '小行星9575', '小行星2889']\n",
            "['劉子厚', '劉培基', '陳勳奇', '劉義慶', '劉丹_(香港)']\n",
            "['哈維爾·巴登', '安東尼·奎恩', '勞勃·杜瓦', '山姆·洛克威爾', '湯姆·克魯斯']\n",
            "['李賦都', '李賦寧', '祖籍', '陝西省']\n",
            "['古菌', '細菌', '真核生物', '古菌素', '藍菌門']\n",
            "['喬瓦尼·多梅尼科·卡西尼', '卡西尼', '讓-多米尼克·卡西尼', '卡西尼定律', '雅克·卡西尼']\n",
            "['日本神話', '神話學', '神話', '朝鮮神話', '北歐神話']\n",
            "['金朝的民族歧視', '金朝', '大學', '現象']\n",
            "['英國手語', '手語拼寫法', '手語隨想曲', '手語翻譯', '手語翻譯員伴讀']\n",
            "['新黨', '2000年中華民國總統選舉', '2017年英國大選', '2019年英國大選', '2010年英國大選']\n",
            "['民族國家', '民族主義', '無國家民族', '中國語言', '中國民族列表']\n",
            "['達拉斯愛田機場', '計算機硬體歷史', 'TI-83', '美國', '達拉斯']\n",
            "['神農', '透明', '腹', '內臟']\n",
            "['謝磷', '明朝']\n",
            "['姚明', '奈史密斯籃球名人紀念堂', '凱蒂·史密斯', '克里斯蒂安·萊特納', '斯萊特·馬丁']\n",
            "['明憲宗', '李忠臣', '崔胤', '李賢_(大學士)', '大中之治']\n",
            "['國立臺灣大學應用力學研究所', '鮑亦興', '中央研究院', '吳政忠', '研究所']\n",
            "['教會', '朝鮮道教', '中國自立教會', '天道教', '大道教']\n",
            "['奧斯卡', '奧斯卡最佳實景短片獎', '奧斯卡金像獎', '奧斯卡最佳視覺效果獎', '文學']\n",
            "['狄仁傑', '趙勉', '新刻京本通俗演義增像包龍圖判百家公案全傳', '吉孔嘉', '中國治貪史']\n",
            "['電痙攣療法', '尿療法', '飲_(中醫)', '肥胖症', '藥膳']\n",
            "['語言教育', '授課語言', '母語教學', '微調中學教學語言', '中國地方語言教學']\n",
            "['仁皇后', '允䄉', '允祹', '孝懿仁皇后', '九子奪嫡']\n",
            "['達悟族', '925臺灣保釣行動', '海', '飛魚灣', '中國漁船與日本巡邏船釣魚島相撞事件']\n",
            "['李繼韜', '李繼儔', '李存質', '李存美', '李從璟']\n",
            "['澳門2011年度頒授勳章、獎章和獎狀名單', '澳門2020年度頒授勳章、獎章和獎狀名單', '澳門2019年度頒授勳章、獎章和獎狀名單', '澳門2018年度頒授勳章、獎章和獎狀名單', '澳門2016年度頒授勳章、獎章和獎狀名單']\n",
            "['有機發光晶體管', '雙極性晶體管', '光學晶體管', '達靈頓晶體管', '天瑞儀器']\n",
            "['朱汝瑾', '小利蘭·斯坦福', '朱棣文', '史丹佛大學', '斯坦福']\n",
            "['捷豹', '跑車', '林寶堅尼Miura', '豪華汽車', '臺灣機車']\n",
            "['蓋茲堡演說', '亞伯拉罕·林肯', '基輔雞演說', '林肯遇刺案', '羅伯特·託德·林肯']\n",
            "['馬克·吐溫', '埃爾邁拉_(紐約州)', '作家']\n",
            "['五大營養素', '營養學', '營養', '營養不良', '糧食']\n",
            "['九州', '背景', '小說', '九州·天空城', '九州縹緲錄']\n",
            "['韓國行政區劃', '2014年大韓民國地方選舉', '2010年大韓民國地方選舉', '世宗特別自治市', '地方政府']\n",
            "['毒魚豆', '雪卡毒素', '毒藥的歷史', '魚', '印度人']\n",
            "['臺灣總督府臺北高等學校', '臺灣總督府國語學校', '臺灣總督府高等商業學校', '林挺生', '臺北高等學校講堂']\n",
            "['程序設計實踐', '程序設計方法學', '高級程序員', '面向對象程序設計', '專業人士']\n",
            "['霍亨索倫統治者列表', '士瓦本公國', '霍亨索倫王朝', '朝代', '魏瑪憲法']\n",
            "['葉巒', '鄉試']\n",
            "['大波士頓', '波士頓', '波士頓環球報', '區域', '處_(佛教)']\n",
            "['社會']\n",
            "['酒瓶蘭', '肉莖', '變態莖', '葡萄', '果實']\n",
            "['順序性雌雄同體', '藍鳳冠鳩', '單性生殖', '鳩鴿科', '性別']\n",
            "['對日民間索賠', '特定常規武器公約', '武器', '第二次世界大戰', '朝鮮日治時期']\n",
            "['中央部屬高校', '技術型高級中等學校', '省部共建', '地方所屬高校', '高等學校']\n",
            "['蚩尤_(消歧義)', '蚩尤冢', '新著龍虎門', '龍虎門', '蚩尤']\n",
            "['詹姆斯·諾克斯·波爾克', '選舉']\n",
            "['基留希', '烏克蘭', '埃斯基謝希爾', '高樓_(消歧義)', '哈爾科夫']\n",
            "['披頭士樂隊獲獎與提名列表', '黑豹樂隊', '披頭四樂隊', '太極樂隊', '威猛樂隊']\n",
            "['湖口縣', '鄱陽湖', '漳田河', '洞庭湖', '鄱江']\n",
            "['馬克思學說研究會', '馬克思主義思想流派', '對馬克思主義的批評', '西方馬克思主義', '馬克思主義政治經濟學']\n",
            "['哈比人', '魔戒電影三部曲', '哈比人歷險記', '阿爾達的語言', '魔戒']\n",
            "['秀茂坪童黨燒屍案', '香港終身監禁列表', '波爾布特', '死刑案陪審團', '香港命案列表']\n",
            "['隋朝', '楊勇_(隋朝)', '楊侗', '楊暕', '楊杲']\n",
            "['林鈺婷', '青年藝術家獎', '汪明荃', '譚詠麟', '楊士琪卓越貢獻獎']\n",
            "['2-巰基乙醇', '錳酸鉀', '三氟乙醇', '伯醇氧化至羧酸', '乙二胺']\n",
            "['鯡形目', '綠頭石斑魚', '鱂形目', '鱉', '鮭魚']\n",
            "['東遼國', '現行君主制政權列表', '世襲君主制', '遼朝', '渤海國']\n",
            "['政治家', '美國', '阿爾·戈爾']\n",
            "['始祖動吻蟲', '寒武紀大爆發', '寒武紀_(消歧義)', '地球', '寒武紀']\n",
            "['爵士樂俱樂部', '自由爵士樂', '二十一世紀古典音樂', '二十世紀古典音樂', '早期古典音樂']\n",
            "['鄭氏鸞', '親子關係']\n",
            "['宋孝宗', '明達皇后', '宋高宗', '趙昺', '宋英宗']\n",
            "['新臺幣硬幣', '第四套橫式新臺幣', '新臺幣', '貨幣基數', '第二套直式新臺幣']\n",
            "['廖文毅', '黃紀男', '臺灣歷史', '中華民國政府遷臺', '廖仲愷']\n",
            "['排名', '愛丁堡大學', '愛丁堡']\n",
            "['計算機工程', '電子計算機', '計算機硬體歷史', '理論計算機科學', '亞洲藝術雙年展']\n",
            "['中國佛教', '初期佛教', '佛教', '佛教歷史', '漢傳佛教']\n",
            "['韓國電視劇', '電視劇', '橫濱市', '大學']\n",
            "['楊勇_(隋朝)', '隋朝', '楊暕', '楊昭', '楊浩']\n",
            "['密克羅尼西亞運動會', '卡皮托爾希爾', '.mp', '面積', '海洋性氣候']\n",
            "['列昂尼德·帕謝奇尼克', '夏威夷大學', '斯科特·謝潑德']\n",
            "['蛛形綱', '香港純蛛', '蜘蛛', '鷲蛛總科', '櫛足蛛科']\n",
            "['RAID', '磁碟清理', '程序設計', '簇', '程序']\n",
            "['蘇菲亞·柯波拉', '教父2', '第47屆奧斯卡金像獎', '教父咪搞', '第79屆奧斯卡金像獎']\n",
            "['社交網絡遊戲', '劍俠情緣網路版參', '傳奇系列作品列表', '網絡小說', '偶像大師系列作品列表']\n",
            "['洞庭湖', '三苗', '鄱陽湖平原', '2016年中國南方水災', '2011年中國南方水災']\n",
            "['宋史', '正史', '史通', '明史', '二十二史劄記']\n",
            "['伯茲克里克_(喬治亞州)', '瓦爾多斯塔', '墨西哥時區', '約翰·J·克里滕登', '阿茲特克']\n",
            "['美國總統列表', '伍德羅·威爾遜國際學者中心', '美國總統', '弗吉尼亞大學', '美國領土擴張']\n",
            "['熱能', '似哺乳爬行動物', '傳熱', '副爬行動物', '動物試驗']\n",
            "['劉培基', '劉丹_(香港)', '劉長瑜', '劉子厚', '周恩恩']\n",
            "['哈密頓力學', '拉格朗日方程式', '經典力學', '哈密頓原理', '分析力學']\n",
            "['馬克思學說研究會', '馬克思主義思想流派', '西方馬克思主義', '後馬克思主義', '新馬克思主義']\n",
            "['手工藝', '工藝', '手工藝人', '手工業', '手工作坊式生產模式']\n",
            "['2008年8月16日月食', '2006年9月7日月食', '月球', '2013年4月25日月食', '1972年1月16日日食']\n",
            "['俄羅斯人', '歐洲俄羅斯', '白俄羅斯人口', '俄羅斯城市和城鎮人口列表', '聖彼得堡省']\n",
            "['脊索動物', '昆蟲', '皮卡蟲', '食用昆蟲', '無脊椎動物']\n",
            "['墨西哥地理', '哈利斯科州', '墨西哥', '美國西南部', '何塞·瑪麗亞·莫雷洛斯']\n",
            "['2009年諾貝爾和平獎', '路易斯·伊納西奧·盧拉·達席爾瓦', '伊朗伊斯蘭革命', '伊朗', '希林·伊巴迪']\n",
            "['對日民間索賠', '特定常規武器公約', '武器', '禁止化學武器公約', '南京大屠殺']\n",
            "['京臺高速鐵路', '京九鐵路', '京廣鐵路', '慶全線', '花東線鐵路瓶頸路段雙軌化暨全線電氣化計劃']\n",
            "['城市規劃', '天津城市規劃', '南京大學城市規劃與設計系', '北京市城市管理委員會', '省域副中心城市']\n",
            "['微生物生態學', '真核轉錄', '微生物學', '古菌', '單細胞生物']\n",
            "['柯伊伯帶', '大熊座I矮星系', '獅子座I', '海王星特洛伊', '第五顆行星']\n",
            "['動作片演員', '成龍', '演員']\n",
            "['海冰', '冰架', '冰藻', '北冰洋', '洋']\n",
            "['臺北市政府捷運工程局', '新北市政府', '臺北市政府', '臺北市政府文化局', '臺北市政府觀光傳播局']\n",
            "['中央人民政府水利部', '中華人民共和國水利電力部', '中華人民共和國煤炭工業部', '中華人民共和國國務院', '中華人民共和國']\n",
            "['繼承', '扣還', '繼承人', '國家繼承', '瑞典王位繼承']\n",
            "['天王星', '太陽系', '太陽系天體列表', '行星定義', '天王星氣候']\n",
            "['阿里·本·阿比·塔利卜', '穆罕默德', '伊斯蘭教的先知', '伊斯蘭教', '古蘭經']\n",
            "['火星日食', '火星', '火衛一', '火星的衛星', '火星偵察軌道器']\n",
            "['溫室', '溫室效應', '熱氣球', '玻璃']\n",
            "['屋大維婭的馬塞盧斯', '奧古斯都', '羅馬皇帝', '第一公民', '亞維農教廷']\n",
            "['城市規劃', '天津城市規劃', '南京大學城市規劃與設計系', '北京市城市管理委員會', '中華人民共和國城市總體規劃']\n",
            "['光導纖維', '頭髮', '折射率', '頭髮胸罩', '植髮']\n",
            "['北極風情畫', '美國風情畫', '劇本', '弗朗西斯·科波拉']\n",
            "['英語人名', '蒲公英', 'CAT', 'Cat_(Unix)']\n",
            "['颱風', '食物']\n",
            "['伯茲克里克_(喬治亞州)', '墨西哥時區', '克羅地亞', '阿茲特克', '按人口排列的美國城市列表']\n",
            "['新興宗教', '世界主要宗教', '宗教的進化起源', '宗教社會學', '宗教改革']\n",
            "['小行星899', '伊俄卡斯忒', '厄忒俄克勒斯', '伊底帕斯王', '七將攻忒拜']\n",
            "['獎勵', '金馬獎獎項列表', '藝術']\n",
            "['聶華苓', '記者']\n",
            "['異性戀本位', '馬詩慧', '王曼喜', '非異性戀', '異性戀主義']\n",
            "['普路託', '冥王', '冥神', '神話_(書)', '羅馬神話']\n",
            "['馬克思主義政治經濟學', '古典經濟學', '馬克思學說研究會', '政治經濟學批判', '對馬克思主義的批評']\n",
            "['秀茂坪童黨燒屍案', '香港終身監禁列表', '米勒訴阿拉巴馬州案', '死刑案陪審團', '香港命案列表']\n",
            "['霍華德·菲利普斯·洛夫克拉夫特', '米哈伊爾·戈爾巴喬夫', '古典制約', '制約', '貓']\n",
            "['列昂尼德·帕謝奇尼克', '夏威夷大學', '斯科特·謝潑德']\n",
            "['暗殺', '人格暗殺', '時間膨脹', '聯合軍', '三股勢力']\n",
            "['趙孝成王', '趙惠文王', '賴青畇', '趙丹', '趙青']\n",
            "['埃塔', '泰米爾伊拉姆猛虎解放組織', '巴爾贊·易卜拉欣·提克里蒂', '胡塞運動', '伊斯蘭國']\n",
            "['兼職', '蔡卓妍', '高級中學', '模特兒']\n",
            "['印度教神話', '吠陀文化', '印度', '阿闥婆吠陀', '印度教歷史']\n",
            "['大同_(思想)', '思想', '康有爲']\n",
            "['宦官', '日本皇室', '王室', '過去']\n",
            "[]\n",
            "['釀造醋', '鎮江香醋', '油醋汁', '浙醋', '醋']\n",
            "['新竹科學園區', '竹東鎮', '東區_(新竹市)', '竹東林業展示館', '竹東圳']\n",
            "['天王星', '天王星氣候', '太陽系', '天王星大氣層', '行星定義']\n",
            "['婚姻', '親屬', '夫人']\n",
            "['人眼', '微分干涉相差顯微鏡', '相襯顯微技術', 'G顯帶', '視野']\n",
            "['鳳凰', '百鳥朝鳳', '丹鳥', '姐妹鳥龍鳥屬', '朱雀']\n",
            "['蒂姆·伯頓', '黑暗騎士：黎明升起', '凱瑟琳·赫本', '哥德次文化', '泰達·史雲頓']\n",
            "['螢光燈', '水銀燈', '螢光棒', '紫外線', '啓輝器']\n",
            "['歐洲俄羅斯', '瓦西里·康定斯基', '俄羅斯', '國籍']\n",
            "['臺南縣', '雲嘉南', '臺南縣縣長', '南瀛百景', '國立臺南第二高級中學']\n",
            "['臺鐵區間車', '臺灣鐵道史', '普悠瑪列車', '臺中市公車500路', '臺中市公車1路']\n",
            "['7月4日', '8月21日', '7月26日', '7月21日', '8月26日']\n",
            "['釣魚臺', '釣魚臺列嶼主權問題', '釣魚臺列嶼', '衝南巖']\n",
            "['後熱帶氣旋', '颱風', '風', '環狀熱帶氣旋', '風眼']\n",
            "['海王星的衛星', '海衛十一', '土星的衛星', '衛星', '太陽系']\n",
            "['清乾隆各種釉彩大瓶', '內畫壺', '紫砂壺', '忠於質材', '劃花芭蕉湖石執壺']\n",
            "['馬克思學說研究會', '馬克思主義思想流派', '西方馬克思主義', '後馬克思主義', '新馬克思主義']\n",
            "['馬克思學說研究會', '馬克思主義思想流派', '新馬克思主義', '西方馬克思主義', '對馬克思主義的批評']\n",
            "['乙炔', '硫化鈣', '有機鈣化學', '過氧化鋇', '氰氨化鈣']\n",
            "['天王星', '太陽系', '天王星氣候', '太陽', '太陽系天體列表']\n",
            "['第一公民', '奧古斯都', '提貝里烏斯', '提比略·格拉古', '御座']\n",
            "['麥金塔', '後個人電腦時代', '香港電燈', '中華電力', '蘋果地圖']\n",
            "['鈴木敏文', '艾鳴網路遊戲', '私人公司', '日本', '公司']\n",
            "['成龍', '2017年法國一週電影票房冠軍列表', '甄子丹', '傳奇系列', '中國大陸電影']\n",
            "['顯性', '相對性狀', '性狀', '基因']\n",
            "['環氧乙烷', '環氧化合物', '蓋普丹', '環硫乙烷', '毒殺芬']\n",
            "['博納羅蒂之家', '米開朗基羅', '義大利歷史', '奧地利美景宮美術館', '米開朗基羅號列車']\n",
            "['蒙山大佛', '樂山大佛', '大佛']\n",
            "['X射線', 'X射線天文學', 'X射線機', '倫琴_(單位)', '康普頓伽瑪射線天文臺']\n",
            "['棘皮動物', '八腕目', '後口動物', '動物', '腦幹']\n",
            "['香港癌症基金會', '癌症', '李賦寧', '中國', '教育家']\n",
            "['非物質文化遺產', '聯合國教科文組織人類非物質文化遺產代表作名錄中國項目', '日本料理', '香港非物質文化遺產', '文化遺產']\n",
            "['花椒', '日本大鯢', '尾', '龜甲', '龜鱉目']\n",
            "['潘恩', '托馬斯·潘恩', '羅伯特·崔特·潘恩', '迦勒·潘恩', '法語']\n",
            "['英國皇家徽章', '紋章', '風獅爺', '希臘國徽', '魁北克徽章']\n",
            "['晉國', '晉景公', '趙景子', '晉頃公', '漢惠帝']\n",
            "['蒂姆·伯頓', '死侍2', '惡棍英雄：死侍', '黑暗騎士：黎明升起', '哥德次文化']\n",
            "['聲爆', '爆炸', '爆震', '音障', '聲音']\n",
            "['大型多人線上角色扮演遊戲列表', '卡片遊戲', '遊戲', '圖版遊戲', '冒險遊戲']\n",
            "['張谷英村', '張谷英鎮', '建築結構', '龍圃花園', '亞洲']\n",
            "['香港大學附屬學院', '香港城市大學', '香港英文授課中學', '香港教育', '香港科技大學']\n",
            "['恐怖活動', '恐怖主義與中國', '恐怖主義', '2011年和田市“7·18”暴力恐怖襲擊事件', '買買提吐爾遜·依明']\n",
            "['9月26日', '1月2日', '1月4日', '1月3日', '1月5日']\n",
            "['隆背小沙丁魚', '白小沙丁魚', '繸鱗小沙丁魚', '沙丁魚罐頭', '沙丁魚']\n",
            "['手工藝', '工藝', '推銷員', '美學']\n",
            "['中國人民解放軍武漢軍區', '中國人民解放軍湖北省軍區', '中國人民解放軍北京軍區', '中國人民解放軍武漢軍區空軍', '中國人民解放軍陸軍邊海防學院']\n",
            "['愛爾蘭國家的名稱', '愛爾蘭島', '德國前東部領土', '愛爾蘭王國', '愛爾蘭']\n",
            "['馬克士威方程組的歷史', '馬克士威方程組', '保羅·德魯德', '馬克士威_(單位)', '詹姆斯·克拉克·麥克斯韋']\n",
            "['平等權利修正案', '美國州份', '平等保護條款', '捍衛婚姻法案', '唐納·川普']\n",
            "['岩石', '大陸地殼', '岩石圈', '板塊構造論', '海洋地殼']\n",
            "['表現主義', '文學流派', '蔡爾德·哈薩姆', '貝爾特·莫里索', '中世紀']\n",
            "['宋高宗', '明達皇后', '宋孝宗', '宋神宗', '南宋大事年表']\n",
            "['念奴嬌', '調笑令', '清平樂', '南鄉子', '離亭宴']\n",
            "['茶壺', '聶華苓']\n",
            "['克氏無齒翎電鰻', '尖頭翎電鰻', '電鰻', '委內瑞拉短身電鰻', '電鰻目']\n",
            "['民族國家', '無國家民族', '民族主義', '中國民族列表', '臺灣人']\n",
            "['爬山算法', '搜尋引擎最佳化', '局部搜索', '二分搜尋演算法', '效率市場假說']\n",
            "['福元路', '開元路_(臺南市北區)', '臺灣市區道路', '深圳市道路', '臺灣快速道路']\n",
            "['民族國家', '民族主義', '無國家民族', '中國語言', '中國民族列表']\n",
            "['地對地導彈', 'MIM-104愛國者導彈', '導彈']\n",
            "['慕容復', '金庸學', '武俠小說', '金庸', '悲劇']\n",
            "['樂山大佛', '921大地震', '汶川大地震', '中華民國大陸時期', '關東大地震']\n",
            "['胸圍', '鋼圈胸罩', '隱形胸罩', '乳房下垂', '注碗']\n",
            "['印度諾貝爾獎得主列表', '諾貝爾獎得主列表', '諾貝爾經濟學獎', '諾貝爾和平獎', '諾貝爾物理學獎']\n",
            "['顯微鏡', '顯微鏡學', '數碼顯微鏡', '掃描探針顯微鏡', '肉眼']\n",
            "['夏娃', '亞當', '芬妮·亞當', '亞當·迪凡', '耶和華']\n",
            "['量_(物理)', '雞', '求和符號', '熨斗', '世界']\n",
            "['貝爾格勒尼古拉·特斯拉機場', '貝爾格勒攻勢', '美國領土擴張', '尼克·貝爾格', '阿遜平克溪戰役']\n",
            "['李詩欽', '臺灣歷史', '中國科技大學', '好易通科技', '溫世仁']\n",
            "['臺北市客家文化主題公園', '臺北市立天文科學教育館', '川端公園', '國立臺灣博物館', '桃園市客家文化館']\n",
            "['王國之心繫列', '普密蓬·阿杜德', '泰國', '愛', '我的愛_(1986年電影)']\n",
            "['臺中市大里區益民國民小學', '臺中市大里區崇光國民小學', '臺中市大里區大元國民小學', '臺中市大里區內新國民小學', '原臺南長老教中學校講堂暨校長宿舍']\n",
            "['戊戌變法', '議會制君主立憲制', '戊戌六君子', '君主立憲制', '中國']\n",
            "['八小時工作制', '國際勞動節', '乾草市場事件', '加班', '密西西比公司']\n",
            "['桌上游戲', '卡片遊戲', '遊戲', '圖版遊戲', '大型多人線上角色扮演遊戲列表']\n",
            "['葡萄', '果實', '東方果實蠅', '轉化生長因子-α', '呼吸']\n",
            "['魯普薩烏帕齊拉', '杜穆里亞烏帕齊拉', '迪加里亞烏帕齊拉', '帕伊克加恰烏帕齊拉', '富爾塔拉烏帕齊拉']\n",
            "['奧斯卡最佳實景短片獎', '奧斯卡', '漫威漫畫', '金牌特務系列', '奧斯卡金像獎']\n",
            "['蘋果酒', '力嬌酒', '果酒', '梨酒', '氣泡酒']\n",
            "['中華人民共和國人權', '聯合國性傾向與性別認同議題', '阿拉伯聯合大公國人權', '人權護衛者', '美國人權']\n",
            "['行政法', '行政法務司', '行政機關', '公共行政學', '行政程序法']\n",
            "['微型計算機', '單片機']\n",
            "['天王星', '天王星氣候', '太陽系', '天王星大氣層', '冷木星']\n",
            "['毛細現象', '液體']\n",
            "['愛倫·坡', '威廉·戈德溫', '弗吉尼亞·伊莉莎·克萊姆·坡', '金甲蟲', '神探愛倫坡：黑鴉兇殺案']\n",
            "['中華人民共和國勞動人事部', '中華人民共和國人事部', '勞動部', '焦善民', '何光']\n",
            "['比爾·比紹普', '現在', '世', '比爾']\n",
            "['託尼·伯克', '斯科特·布赫茲', '民族區域自治制度', '烏克蘭政黨列表', '澳大利亞']\n",
            "['2-巰基乙醇', '硫酸氫鈉', '還原劑', '錳酸鉀', '碘酸']\n",
            "['梅庵_(肇慶)', '重慶市文物保護單位', '端州區', '肇慶堂']\n",
            "['民族國家', '貴州省民族構成列表', '新疆維吾爾自治區民族構成列表', '山東省民族構成列表', '海南省民族構成列表']\n",
            "['春達普K800摩托車', '摩托車類型', '中華人民共和國', '重慶建設雅馬哈摩托車', '雪上摩托車']\n",
            "['上座部', '二乘解脫道', '菩薩道', '部派佛教', '解脫道']\n",
            "['性幻想', '現實']\n",
            "['隋朝', '盛世', '清朝', '後_(消歧義)']\n",
            "['戴安娜_(電影)', '黛安娜', '威爾斯王妃戴安娜', '戴安娜廣場', '威爾士的喬治王子']\n",
            "['臺北市客家文化主題公園', '桃園市客家文化館', '川端公園', '國立臺灣博物館', '高雄市立美術館']\n",
            "['艾根訴加拿大案', '羅納德·里根', '德懷特·艾森豪威爾', '漢斯·摩根索', '美利堅合衆國訴進步案']\n",
            "['心肌梗死', '馬世莉', '兄弟姊妹']\n",
            "['臺北市私立新民國民小學', '蕃人公學校', '臺北市中山區長安國民小學', '臺北市博嘉實驗國民小學', '公學校']\n",
            "['硫酸鈰(IV)', '硫酸𨥙', '硫酸鎂', '碳酸水', '硫酸亞鉈']\n",
            "['列昂尼德·勃列日涅夫', '列昂尼德·勃列日涅夫的影響', '列昂尼德·勃列日涅夫遇刺案', '勃列日涅夫主義', '中央委員會']\n",
            "['杜鵑科', '杜鵑']\n",
            "['保羅·狄拉克', '朗道理論物理研究所', '朝永振一郎', '阿卜杜勒·薩拉姆', '物理學家']\n",
            "['Meebo', 'Kopete', 'YM', '信差', 'Adium']\n",
            "['汾河', '汾河谷地', '晉城市', '黃河', '哥倫比亞河']\n",
            "['劉子厚', '劉義慶', '劉長瑜', '劉培基', '劉丹_(香港)']\n",
            "['艾伯特_(科羅拉多州)', '科羅拉多州行政區劃', '艾伯特縣']\n",
            "['中國共產黨中央政治局', '中國共產黨中央政治局常務委員會', '韓正', '政治局', '朝鮮勞動黨中央委員會政治局']\n",
            "['捷列什卡河', '維捷格拉河', '舍克斯納河', '沃多霍季', '阿赫圖巴河']\n",
            "['鍀', '恆星演化', '恆星', '鍀星', '鉕']\n",
            "['王安石', '國族問題', '政治正確', '新生活運動', '王安禮']\n",
            "['歐陸舞曲', '在空中漫步', '北美洲', '電子舞曲', '2006年國際足協世界盃外圍賽']\n",
            "['虛擬教研中心', '香港城市大學', '任家萱', '中華大學', '中共中央黨校']\n",
            "['竹內瑪莉亞', '音樂產業', '宇多田光', '創作歌手', 'GUNDAM系列作品']\n",
            "['醫療疏失', '全球']\n",
            "['核裂變', '夸克星', '中子', '中子俘獲', '質子發射']\n",
            "['諾貝爾和平獎', '諾貝爾經濟學獎', '奧斯陸市政廳', '諾貝爾委員會', '諾貝爾物理學獎']\n",
            "['世僕', '奴隸制度', '無奴派', '古希臘奴隸制度', '美國奴隸制度']\n",
            "['細胞', '氣候', '咬鵑科', '熱帶']\n",
            "['斯科特·布赫茲', '烏克蘭政黨列表', '保守主義', '民族保守主義', '喬賽亞·威拉德·吉布斯']\n",
            "['戊戌變法', '慈禧太后', '戊戌六君子', '康有爲', '兩宮聽政']\n",
            "['專業倫理', '專業協會', '黃傑龍', '專業人士', '調酒師']\n",
            "['臺灣總督府臺北高等學校', '臺灣總督府臺南高等工業學校', '臺灣總督府國語學校', '臺灣日治時期', '臺灣日治時期高等教育機關']['獎勵', '金馬獎獎項列表', '英國電視學院獎', '沃爾夫藝術獎', '中華職棒獎項']\n",
            "\n",
            "['葡萄', '果實']\n",
            "['荷馬史詩', '荷馬', '澤諾多託斯', '學術', '史詩']\n",
            "['胸圍', '鋼圈胸罩', '隱形胸罩', '胸線', '乳頭']\n",
            "['成龍', '2017年法國一週電影票房冠軍列表', '詹姆斯·史都華', '湯姆·克魯斯', '貝蒂·戴維斯']\n",
            "['二連浩特市', '錫林浩特市', '錫林郭勒盟', '德穆楚克棟魯普', '多倫縣']\n",
            "['中華人民共和國國家級自然保護區列表', '臥龍國家級自然保護區', '中國自然保護區', '臺灣自然保護區', '國務院新聞辦公室']\n",
            "['莫氏硬度', '刻劃硬度', '材料硬度', '維氏硬度試驗', '鑽石']\n",
            "['閩南語維基百科', '白話字', '閩南語', '閩南語漢字訓讀', '臺灣閩南語推薦用字']\n",
            "['決定性問題', '動態規劃', '問題', '中國郵遞員問題', '計算複雜性理論']\n",
            "['加布艾萊西島', '杜布莫爾島', '設德蘭', '聖基爾達島', '艾因哈羅島']\n",
            "['小麥', '孟加拉國農業', '中非共和國經濟', '可維持產量', '玉米']\n",
            "['英國上議院司法職能', '第二次唐納德·特朗普彈劾案', '不信任及彈劾香港特別行政區行政長官', '憲法法庭', '中華民國總統']\n",
            "['共和黨革命', '政治議程', '社會民主主義', '議題建構', '國際經濟學']\n",
            "['側生動物', '腎管動物', '動物', '浮浪幼蟲樣動物', '扁蟲動物']\n",
            "['跆拳道歷史', '跆拳道', '許世友']\n",
            "['午夜巴黎', '六場危事', '伊雯·瑞秋·伍德', '喜劇', '魔力月光']\n",
            "['鍾凱瑩', '李嘉慧', '權相佑', '李美鳳', '何基佑']\n",
            "['臺獨', '一邊一國', '國', '中國']\n",
            "['李安', '第52屆柏林影展', '第64屆柏林影展', '鹿特丹影展', '臺北金馬影展執行委員會']\n",
            "['馬島靈貓', '獺狸貓', '短尾貓', '貓', '馬島長尾狸貓']\n",
            "['茶文化', '大觀茶論', '茶經', '茶學文獻列表', '中國茶文化']\n",
            "['毛皮', '氣候', '咬鵑科', '熱帶']\n",
            "['香港網上學府', '香港科技大學', '香港科技大學（廣州）', '香港', '科技大學']\n",
            "['初期佛教', '佛教藝術', '佛教', '中國佛教', '漢傳佛教']\n",
            "['希臘神話', '古希臘羅馬神話', '北歐神話', '神話學', '古希臘宗教']\n",
            "['1922年海底火山', '海底火山', '海底山', '海底火山列表', '火山列表']\n",
            "['鱸形目', '鯡形目', '世界上最小的魚類', '輻鰭魚', '輻鰭魚綱']\n",
            "['麗山', '臺北市立陽明高級中學', '臺北市內湖區南湖國民小學', '鄭顯三', '臺北']\n",
            "['答案', '問題', '決定性問題', '跳躍性思維', '生命、宇宙以及任何事情的終極答案']\n",
            "['臺中市政府陽明大樓', '臺中市政府', '臺中市政府教育局', '臺中市政府水利局', '臺中縣']\n",
            "['李祖德', '邱文達', '臺北醫學大學', '高雄醫學大學', '專業倫理']\n",
            "['土星的衛星', '土衛五十一', '土衛十', '土衛五', '衛星']\n",
            "['阿美族', '亞洲']\n",
            "['日本神話', '神話學', '神話', '朝鮮神話', '北歐神話']\n",
            "['新月沃土', '前9千紀', '二年生植物', '植物', '種子']\n",
            "['量_(物理)', '雞']\n",
            "['嶺南師範學院', '國立師範學院', '華南師範大學附屬中學', '韓山師範學院', '華南師範大學法學院']\n",
            "['穀梁傳', '春秋_(書)', '春秋']\n",
            "['中國河流列表', '海南河流列表', '紅河', '流域', '遼寧河流列表']\n",
            "['張飛', '關羽', '五虎將', '張鵬飛', '虎牢關之戰']\n",
            "['楊小凱', '古典經濟學', '奧地利學派', '約翰·加爾佈雷斯', '2004年7月逝世人物列表']\n",
            "['麻原彰晃', '虐待罪', '松本沙林毒氣事件', '危害人類罪', '殺害尊親屬罪']\n",
            "['從前…以後', '爲情所困', '丘丘合唱團', '鼓手', '音樂']\n",
            "['許世友', '代表', '紅四軍']\n",
            "['不平等條約', '天津條約', '神奈川條約', '中美共同防禦條約', '中日天津會議專條']\n",
            "['但以理書', '提多書', '大同書', '猶大書', '縱書與橫書']\n",
            "['一次文獻', '文獻綜述', '文獻', '醫學文獻', '二次文獻']\n",
            "['惠靈頓', '新西蘭國家圖書館', '威靈頓機場', '紐西蘭人口', '博物館']\n",
            "['京畿道', '京畿', '人口', '首爾特別市']\n",
            "['1984年羅傑尼希教生物恐怖攻擊', '泰米爾伊拉姆猛虎解放組織', '羅傑尼希社區', '忒修斯', '2001年美國炭疽攻擊事件']\n",
            "['1922年海底火山', '納米比亞', '海底火山', '火山']\n",
            "['食用昆蟲', '農藥', '昆蟲', '昆蟲養殖', '昆蟲採集']\n",
            "['韓國電視劇', '電視劇', '電視劇帝王', '橫濱市', '大學']\n",
            "['江戶時代', '江戶幕府', '幕府_(日本)', '徵夷大將軍', '德川家康']\n",
            "['兩面針', '花椒', '果實', '頂體', '龜鱉目']\n",
            "['汾河', '太原市', '水源', '河', '上游']\n",
            "['臺灣總督府臺北高等學校', '臺灣總督府國語學校', '臺灣總督府高等商業學校', '林挺生', '臺北高等學校講堂']\n",
            "['後印象派', '印象派', '貝爾特·莫里索', '19世紀哲學', '6世紀']\n",
            "['超大規模集成電路', '半導體器件製造', '半導體廠商銷售排名', '兆芯', '特殊應用積體電路']\n",
            "['馬克思學說研究會', '馬克思主義政治經濟學', '對馬克思主義的批評', '河上肇', '卡爾·馬克思']\n",
            "['地對地導彈', '戰術', '戰略轟炸', 'MIM-104愛國者導彈', '戰術核武器']\n",
            "['世界氣象組織', '非營利與志願部門季刊', '利潤', '.org', '國際民用航空組織']\n",
            "['金馬電影學院', '鼕鼕的假期', '童年往事', '第49屆金馬獎', '大唐榮耀']\n",
            "['基隆市', '新北市', '中華民國疆域', '中和區', '臺灣行政區劃']\n",
            "['民族國家', '無國家民族', '民族主義', '中國民族列表', '臺灣人']\n",
            "['皮埃爾·德·顧拜旦', '奧林匹克主義', '奧林匹克博物館', '1972年夏季奧林匹克運動會', '國家奧林匹克委員會']\n",
            "['電子藝術大獎', '獎勵']\n",
            "['香港獨立運動', '香港', '香港居民', '大公報']\n",
            "['李祖德', '邱文達', '臺北醫學大學', '高雄醫學大學', '專業倫理']\n",
            "['楚瓦什人', '楚瓦什語', '圖蘭人種', '斯拉夫語族', '尼夫赫人']\n",
            "['軍政_(政體)', '軍政府', '軍事管治', '路易斯·伊納西奧·盧拉·達席爾瓦', '臺灣戰後時期']\n",
            "['日本', '町名改正', '青葉町', '日本投降', '第二次世界大戰']\n",
            "['主席', '比爾·比紹普', '比爾']\n",
            "['馬寅初', '北京市', '校長', '高壽']\n",
            "['同心演習', '軍事演習', '樂山大佛', '中華民國大陸時期', '2020年中國人民解放軍西南空域演練']\n",
            "['趙奢', '秦滅趙之戰', '燕國', '趙國', '王翦']\n",
            "['臺中市政府陽明大樓', '臺中市政府', '桃園市政府辦公大樓', '臺中縣', '聯合報辦公大樓']\n",
            "['總體', '集合_(數學)', '未予評估', '元素週期表', '遞歸集合']\n",
            "['化石森林', '卿何薄命', '雙頭鷹之死', '斯坦利·多南', '黑色代碼']\n",
            "['卡拉卡爾帕克人', '穆薩·葉爾尼亞佐夫', '卡拉卡爾帕克語', '卡拉卡爾帕克斯坦共和國', '木伊那克']\n",
            "['李賦寧', '李賦都']\n",
            "['金星凌日', '2012年金星凌日', '1874年金星凌日', '天文常數', '天文單位系統']\n",
            "['中天電視海外頻道', '中天電視', '臺灣歷史', '內湖莊', '內湖區']\n",
            "['聲林之王', '許哲珮', '安七炫', '小剛', '陳央']\n",
            "['隱兵鯰', '大刺棘杆鮠', '亞馬遜河咽鱂', '黑帶直線脂鯉', '阿氏喉鰭魚']\n",
            "['中國東北地區', '育空市鎮列表', '中國大陸人口', '內蒙古自治區各盟市面積列表', '高雄人口']\n",
            "['SETI@home', '筆記型電腦', '個人電腦', '分佈式計算']\n",
            "['藤子不二雄', '藤子·F·不二雄', '藤子不二雄Ⓐ', '藤子·F·不二雄創作', '飛行']\n",
            "['釣魚臺列嶼', '保釣運動', '釣魚臺', '釣魚臺細辛', '北小島']\n",
            "['馬克士威方程組的歷史', '馬克士威方程組', '勞勃·華生-瓦特', '理查德·亨德森', '彎曲時空中的麥克斯韋方程組']\n",
            "['環氧乙烷', '蓋普丹', '環硫乙烷', '環氧化合物', '毒殺芬']\n",
            "['周開達', '雜交水稻國家重點實驗室', '袁隆平', '黃耀祥', '湖南雜交水稻研究中心']\n",
            "['疾病', '病理學', '遺傳性疾病', '預防醫學', '併發症']\n",
            "['天琴座', '天琴座ν', '天秤座', '天琴座V473', '天琴座19']\n",
            "['洋蔥', '維吾爾語', '羅布話', '艾努語', '維吾爾語文字']\n",
            "['活路外交', '外交政策', '一箇中國', '韓國外交', '孤立主義']\n",
            "['指南車', '記裏鼓車', '王振鐸', '王天木', '史記']\n",
            "['溫室', '溫室效應', '空氣調節', '煙囪效應', '空氣']\n",
            "['鞏俐', '蔡明亮', '侯孝賢', '第71屆威尼斯影展', '第50屆金馬獎']\n",
            "['奧德賽', '荷馬', '荷馬史詩', '伊利亞特', '盧濟塔尼亞人之歌']\n",
            "['貝尼託·胡亞雷斯', '羅伯特·託德·林肯', '林肯海', '法國武裝干涉墨西哥', '美墨戰爭']\n",
            "['滿族', '巴天族', '回族', '回族身份認同', '金姓']\n",
            "['史前時代', '史前歐洲', '新石器時代', '繩紋時代', '時代']\n",
            "['生物工程學', '植物學', '生物', '化學', '鄭集']\n",
            "['柏林工業大學', '精英大學', '柏林洪堡大學', 'CCTV體壇風雲人物評選', '柏林']\n",
            "['圖版遊戲', '卡片遊戲', '遊戲', '大型多人線上角色扮演遊戲列表', '世界遊戲大全51']\n",
            "['政治家', '阿爾·戈爾']\n",
            "['拜占庭皇帝列表', '奧古斯都', '羅馬皇帝', '奧古斯都·勞裏克殖民地', '奧古斯都·普金']\n",
            "['道格拉斯·麥克阿瑟', '小亞瑟·麥克阿瑟', '約翰·海克特·麥克阿瑟', '杜魯門總統解職道格拉斯·麥克阿瑟', '老亞瑟·麥克阿瑟']\n",
            "['臺鐵區間車', '沙崙線', '臺中市公車路線列表', '普悠瑪列車', '信濃號列車']\n",
            "['導演', '表演藝術', '視覺藝術', '新媒體藝術', '藝術種類']\n",
            "['網頁郵件', '免費網頁寄存服務', 'Google搜索', '互聯網託管服務', '郵件_(Windows)']\n",
            "['扶餘國', '漢朝行政區劃', '太守', '蜀漢', '玄菟郡']\n",
            "['明治天皇', '妙義山', '效用', '明治']\n",
            "['王國之心繫列', '克里特·安努艾德奇康', '格布哈德·萊貝雷希特·馮·布呂歇爾', '普密蓬·阿杜德', '以你的心詮釋我的愛']\n",
            "['袁隆平', '勳章', '周開達', '朴正熙', '雜交水稻國家重點實驗室']\n",
            "['丁香杜鵑', '玉山杜鵑', '嘉義縣', '關霧鳳仙花', '高山白珠']\n",
            "['雜交水稻國家重點實驗室', '雜交水稻', '袁隆平', '湖南雜交水稻研究中心', '稻']\n",
            "['護照', '中華民國護照', '中華人民共和國護照', '朝鮮護照', '2020年聯合王國內部市場法令']\n",
            "['冰島語', '古諾斯語', '冰島人', '冰島語語言純化主義', '冰島']\n",
            "['電動機', '異步電動機', '電動發電機', '發動機', '衝壓發動機']\n",
            "['黃忠', '五虎將', '趙雲', '馬超', '魏滅蜀漢之戰']\n",
            "['日本投降', '日本', '乙未戰爭', '町名改正', '青葉町']['鹿鼎記', '金庸', '作品']\n",
            "\n",
            "['中華人民共和國國家級自然保護區列表', '國務院新聞辦公室', '中國自然保護區', '中國太平洋保險', '臥龍國家級自然保護區']\n",
            "['野牛', '印度野牛', '美洲野牛', '野牛屬', '歐洲野牛']\n",
            "['唐朝', '象']\n",
            "['愛國歌曲', '天佑國王', '美麗的阿美利加', '哥倫比亞萬歲', '在那邊']\n",
            "['拜耳命名法', '變星命名法', '拜耳命名法恆星表', '古德命名法', '星座列表']\n",
            "['操作系統使用份額', '數據', '系統', 'MacOS']\n",
            "['產品經理', '色彩同步實用工具', '應用程序接口', '任天堂64', '面向對象程序設計']\n",
            "['金酸莓最佳贖莓獎', '獎勵', '金酸莓獎最差女主角', '第40屆金酸莓獎', '金掃帚獎']\n",
            "['航空交通管制', '空中接近', '航空管制員', '航空安全', '飛行員']\n",
            "['阿托品', '眼壓']\n",
            "['虛擬教研中心', '教研室']\n",
            "['第一公民', '奧古斯都', '提貝里烏斯', '提比略·格拉古', '御座']\n",
            "['伊迪斯·威爾遜', '加勒特·霍巴特', '伍德羅·威爾遜國際學者中心', '羅伯特·伍德羅·威爾遜', '愛倫·艾克森·威爾遜']\n",
            "['一隻雜種', '堤中納言物語', '弗朗茨·卡夫卡']\n",
            "['臺灣省政府', '臺東縣政府', '花蓮縣政府', '南投縣政府', '臺灣省政府功能業務與組織調整']\n",
            "['占卜', '中國占星術', '占星術', '算命', '西洋占星術']\n",
            "['形上學大綱', '現實', '實體', '原因論', '形上學']\n",
            "['海洋昆蟲', '昆蟲記', '昆蟲', '人類']\n",
            "['硫', '亞硫酸鈉', '亞硫酸', '二氧化硫', '木衛一的火山活動']\n",
            "['美洲野牛', '印度野牛', '狼', '野牛', '野牛屬']\n",
            "['烏蘭巴托', '蒙古高原', '蒙古國', '烏蘭浩特市', '駐臺北烏蘭巴托貿易經濟代表處']\n",
            "['金棕櫚獎', '獎勵', '電子藝術大獎', '金球獎最佳導演', '演藝動力大獎']\n",
            "['通用產品代碼', '二維碼', '目標代碼', 'QR碼', '均勻碼理事會']\n",
            "['航空交通管制', '航空公司', '航空管制員', '飛行員', '空中接近']\n",
            "['耶路撒冷舊城', '耶路撒冷', '耶路撒冷區', '新耶路撒冷', '耶路撒冷牧首']\n",
            "['康奈爾法學院', '老人院', '康乃爾大學文理學院', '美國', '康奈爾大學']\n",
            "['2014年金馬國際影展', '李安', '金馬國際影展', '臺灣國際女性影展', '臺灣國際動畫影展']\n",
            "['英格蘭足球全國聯賽', '英格蘭足球超級聯賽', '英格蘭甲組聯賽', '英格蘭足球代表隊', '英格蘭足球總會']\n",
            "['教父2', '教父3', '蘇菲亞·柯波拉', '同年獲兩項奧斯卡金像獎提名演員列表', '第79屆奧斯卡金像獎']\n",
            "['臺灣織布', '臺灣清治時期', '臺灣日治時期', '臺灣歷史', '臺灣日治時期師範教育機關']\n",
            "['葉黃素', '玉米黃素', '糯米雞', '原雞', '鹽焗雞']\n",
            "['天佑國王', '紅色歌曲', '我的中國心', '歌曲', '藝術歌曲']\n",
            "['明朝', '賈繼之']\n",
            "['中部學院大學短期大學部', '南山大學', '中部大學女子短期大學', '大學', '日本']\n",
            "['列昂尼德·帕謝奇尼克', '夏威夷大學', '斯科特·謝潑德']\n",
            "['披頭士樂隊獲獎與提名列表', '黑豹樂隊', '披頭四樂隊', '太極樂隊', '行進樂隊']\n",
            "['臺北州立臺北第一中學校', '臺北州立臺北第四中學校', '臺北州立臺北第三中學校', '北市六省中', '臺灣清治時期']\n",
            "['前哨淋巴結', '淋巴結', '淋巴結腫大']\n",
            "['指南車', '蘇保衡', '王振鐸', '張衡', '失敗國家']\n",
            "['意大利', '馬氏管', '解剖學', '馬爾切洛·馬爾皮吉', '名稱']\n",
            "['國際足協女子世界盃', '國際足協室內五人足球世界盃', '國際足協U-17世界盃', '2019年國際足協女子世界盃', '美洲盃足球賽']\n",
            "['流量管', '珠江', '中國', '全長', '流量']\n",
            "['葡萄', '果實', '無籽果實', '類']\n",
            "['木衛二', '銀道座標系', '表面等離子共振', '銀河系', '材料表面工程']\n",
            "['坦克人', '文獻紀錄片', '對毛澤東的評價', '姓名決定論', '歷史']\n",
            "['現代集團', '鄭周永', '公司集團', '星億賭場', '鄭成功']\n",
            "['川瀨夏菜', '藤澤志月', '矢神椎野', '八神健', '小林俊彥']\n",
            "['米開朗基羅', '米開朗基羅·樂孔特']\n",
            "['曾光爔', '瀘州直隸州', '潼川直隸州', '眉州直隸州', '忠州直隸州']\n",
            "['特攻隊', '二戰期間同盟國海軍對日炮擊', '橫須賀空襲', '特別攻擊隊', '跟蹤支援隊']\n",
            "['占卜', '占星術', '中國占星術', '占星術和天文學', '西洋占星術']\n",
            "['婦女參政論者', '1928年人民代表（平等投票權）法令', '後重建時期的剝奪投票權', '1964年民權法案', '美利堅合衆國憲法第十五條修正案']\n",
            "['政黨補助金', '無黨團結聯盟', '2001年中華民國立法委員選舉', '中華民國政黨歷年最高得票率', '2005年中國國民黨主席選舉']\n",
            "['墨索里尼之死', '吉亞科莫·馬泰奧蒂', '貝尼託·墨索里尼', '洛雷託廣場', '意大利社會共和國']\n",
            "['油畫', '即墨區', '圓明園', '艾中信', '中國油畫']\n",
            "['主席', '比爾·比紹普', '比爾']\n",
            "['維吾爾語', '羅布話', '洋蔥', '艾努語', '維吾爾語文字']\n",
            "['穀梁傳', '春秋_(書)', '春秋']\n",
            "['生物學哲學', '哲學', '心物問題', '東方哲學', '經院哲學']\n",
            "['2020年中華民國總統選舉', '2016年中華民國總統選舉', '1996年中華民國總統選舉', '2020年民主進步黨總統提名選舉', '馬英九']\n",
            "['喬治·卡特萊特·馬歇爾', '道格拉斯·麥克阿瑟', '約瑟夫·勞頓·科林斯', '喬治·巴頓掌摑事件', '羅斯福大學']\n",
            "['基隆市', '武陵農場', '基隆山', '國立基隆高級中學', '清境農場']\n",
            "['柯伊伯帶', '矮行星', '傑拉德·柯伊伯', '科學家', '行星']\n",
            "['查理曼', '主教座堂', '查理·曼紐爾']\n",
            "['手工藝', '手工藝人', '工藝']\n",
            "['異步電動機', '電動機', '氣動馬達', 'VS馬達', '變頻器']\n",
            "['大學']\n",
            "['德意志聯邦共和國功績勳章', '國際足協世界足球先生', '世界足球小姐', '國際足協U-20女子世界盃', '國際足協U-20世界盃']\n",
            "['科學哲學', '生物學哲學', '僞科學', '術語', '科學理論']\n",
            "['BOINC', 'Astropulse', '普適計算', '搜尋地外文明計劃', '併發計算']\n",
            "['地球一小時', '少年悍將GO！', '24小時', '小時', '震盪波蠕蟲']\n",
            "['東晉', '司馬俊', '南京國子監', '北方政策', '南京六部']\n",
            "['宋高宗', '宋孝宗', '宋欽宗', '高宗', '慈聖光獻皇后']\n",
            "['趙奢', '秦滅趙之戰', '燕國', '王翦', '趙國']\n",
            "['榴彈炮', '280毫米榴彈炮', 'M-68榴彈炮', 'M101榴彈炮', '炮兵']\n",
            "['豫劇']\n",
            "['各國立法機關列表', '立法機關', '議會', '不自由的民主', '自由民主制']\n",
            "['張學友', '江湖悲劇', '江湖兒女', '金馬獎最佳劇情長片', '金馬獎最佳導演']\n",
            "['音韻學', '音系學', '等韻學', '漢語史', '漢語']\n",
            "['列昂尼德·勃列日涅夫的影響', '列昂尼德·勃列日涅夫', '列昂尼德·勃列日涅夫遇刺案', '勃列日涅夫主義', '中國共產黨中央政治局']\n",
            "['派迪·康斯丁', '德斯汀·荷夫曼']\n",
            "['胭脂扣', '劉若英', '周冬雨', '陸弈靜', '少女小漁劉若英的美麗與哀愁']\n",
            "['慕容復', '慕容垂', '姑蘇慕容', '慕容博', '宇文莫槐']\n",
            "['獎盃', '獎勵', '獎章', '聯盟主席獎盃', '歐洲冠軍球會杯']\n",
            "['木衛四', '木衛五十', '木衛三', '木衛十四', '木星探測']\n",
            "['黛安娜', '猶太教與基督教', '異教', '新異教主義', '黛安娜·迪莫娃']\n",
            "['英屬婆羅洲', '汶萊', '邦', '國家']\n",
            "['岩石', '天衛四', '冰', '水']\n",
            "['秦邦憲舊居', '對蘇聯時代的懷念', '蘇聯總統', '蔣中正考察蘇聯', '蘇聯']\n",
            "['野牛', '美洲野牛', '印度野牛', '野牛屬', '狼']\n",
            "['南小島', '北小島', '橄欖門', '925臺灣保釣行動', '金山蹦火仔']\n",
            "['張忠謀', '劉德音', '中華民國總統及副總統在臺灣之公民直接選舉與罷免', '公民民主黨', '蔡力行']\n",
            "['皇家理工學院', 'QS世界大學排名', '倫敦大學城市學院', '布洛克大學', '賓夕法尼亞州立大學']\n",
            "['特定常規武器公約', '武器', '禁止化學武器公約', '對日民間索賠', '第二次世界大戰']\n",
            "['韓國國務總理', '金泳三', '韓國國務總理列表', '比利時聯邦政府', '林全內閣']\n",
            "['雙氫鍵', '氫氣焊接', '共價鍵', '分子', '氫氣']\n",
            "['鄧小平理論', '鄧小平同志辦公室', '社會主義國家', '鄧小平南巡', '1979年鄧小平訪問美國、日本']\n",
            "['克氏無齒翎電鰻', '尖頭翎電鰻', '委內瑞拉短身電鰻', '祕魯裸背電鰻', '斷線溪脂鯉']\n",
            "['芝加哥', '芝加哥大都市區', '美國', '城市']\n",
            "['埃塔', '泰米爾伊拉姆猛虎解放組織', '東亞反日武裝戰線', '胡塞運動', '古巴革命']\n",
            "['質子', '質子衰變', '質子發射', '核子', '中子']\n",
            "['土衛二', '土星的衛星', '土衛二生命發現者', '土衛十', '土衛一']\n",
            "['沙丘之變', '死六臣', '秦二世', '李舜臣', '子嬰']\n",
            "['順德菜', '廣西菜', '河北菜', '潮州菜', '粵菜']\n",
            "['川端町', '臺北市', '川端公園', '臺北市舊町名列表', '馬場町']\n",
            "['潛藩升府', '中國皇帝', '滿洲國皇帝', '重慶府', '鹹淳府']\n",
            "['質數', '合數', '數學家', '0的奇偶性', '環狀質數']\n",
            "['金馬獎獎項列表', '獎勵', '金棕櫚獎', '奧斯卡榮譽獎', '第33屆奧斯卡金像獎']\n",
            "['世界最佳宜居城市', '經濟學人信息社', '珀斯', '全球最昂貴城市', '中國2010年上海世界博覽會城市最佳實踐區']\n",
            "['魂斷藍橋', '16人的主角', '金球獎劇情類電影最佳女主角', '藍橋', '主人公']\n",
            "['回族', '伊斯蘭教的傳播', '穆斯林世界', '穆斯林', '中國伊斯蘭教']\n",
            "['市政府車站', '上海站', '東勢線', '小火車保津峽車站', '九一站']\n",
            "['冠蕉鵑', '膽綠素', '綠色', '火龍果', '紫冠蕉鵑']\n",
            "['脂類', '磷脂雙分子層', '親脂性', '脂肪酸代謝', '脂質體']\n",
            "['阿列日省市鎮列表', '穆斯圖菲·瑪瑪雷克', '阿卜杜勒-阿齊茲·本·阿卜杜拉赫曼·本·費薩爾·阿勒沙特', '阿卜杜勒侯賽因·米爾扎·法爾曼法爾馬', '阿卜杜勒-侯賽因·米爾扎·法爾曼法爾馬']\n",
            "['派系', '印象派', '後印象派', '民主進步黨派系列表', '教派']\n",
            "['特倫甘納邦', '海得拉巴_(印度)', '安得拉邦行政區劃', '卡因納加爾縣', '安得拉邦']\n",
            "['兒玉源太郎', '1904年斗六地震', '南投廳', '臺灣日治時期行政區劃', '斗六市']\n",
            "['疾病', '遺傳性疾病', '併發症', '病理學', '預防醫學']\n",
            "['曾光爔', '瀘州直隸州', '綿州', '潼川直隸州', '忠州直隸州']\n",
            "['惠靈頓', '紐西蘭人口', '華裔新西蘭人', '新西蘭', '聖公會雪梨教區']\n",
            "['北歐神話', '人文學科', '物理宇宙學', '天文學家', '哈佛-史密松天體物理中心']\n",
            "['西班牙內戰', '弗朗西斯科·佛朗哥獨裁', '弗朗西斯科·佛朗哥', '西班牙共和國流亡政府', '第二次世界大戰期間的西班牙']\n",
            "['愛', '我的愛_(1986年電影)', '心', '電影', '泰國']\n",
            "['韓江三角洲', '南海潮', '西北民歌', '潮南區', '臺南市']\n",
            "['形象', '饕餮', '身體意象', '企業識別', '現實']\n",
            "['下夸克', '夸克', '上夸克', '頂夸克', '底夸克']\n",
            "['唐朝', '臺北101']\n",
            "['歐洲中心主義', '西方世界', '歐洲', '歐洲懷疑主義', '歐洲史太林主義和納粹主義受害人紀念日']\n",
            "['波士頓', '英國通用電氣公司', '企業', '合資公司', '業務流程管理']\n",
            "['金朝', '丁卯戰爭', '金章宗', '義兵運動', '馬丁·路德·金']\n",
            "['數碼相機', '數碼無限擊', '時間膨脹', '時間競速', '市場趨勢']\n",
            "['行政法', '公共行政改革統籌委員會', '行政機關', '公共行政學', '行政法務司']\n",
            "['肥胖症', '妊娠', '減肥', '營養不良', '生物半衰期']\n",
            "['馬克思學說研究會', '馬克思主義思想流派', '新馬克思主義', '西方馬克思主義', '對馬克思主義的批評']\n",
            "['俄羅斯代理總統', '俄羅斯總理', '2010年俄羅斯人口普查', '普京主義', '烏克蘭總統']\n",
            "['南川區', '中華人民共和國曾變更代管關係縣級市列表', '市轄區_(中華人民共和國)', '2010年中華人民共和國縣級以上行政區劃變更列表', '2015年中華人民共和國縣級以上行政區劃變更列表']\n",
            "['趙孝成王', '趙惠文王', '賴青畇', '趙丹', '趙青']\n",
            "['花蓮縣議會', '花蓮縣花蓮市中華國民小學', '花蓮縣縣長', '花蓮縣公車', '花蓮縣議員列表']\n",
            "['李詩欽', '臺灣電視公司', '臺灣肥料', '臺灣歷史', '臺灣廣播公司']\n",
            "['泉州港', '中華人民共和國港口列表', '泉港區', '泉州市', '營口市']\n",
            "['東漢', '漢朝', '漢朝南擴', '漢朝經濟', '南越國']\n",
            "['香港經濟日報', '2016年香港立法會宣誓風波', '梁國雄2017年香港行政長官選舉活動', '葉國謙', '社會民主連線']\n",
            "['Dreamcast', '世嘉颯美控股', '世嘉土星', '第六世代遊戲機', 'GD-ROM']['沈申甫', '沈宗瀛', '格林威治大學', '副博士學位', '下村修']\n",
            "\n",
            "['鄭氏鸞', '兒子']\n",
            "['方言學', '歷史語言學', '語言', '計算語言學', '編程語言']\n",
            "['芝加哥']\n",
            "['西亞', '亞洲', '幾何學', '澳大拉西亞', '重合幾何']\n",
            "['丁丁_(丁丁歷險記)', '丁丁在蘇聯', '丁丁與流浪漢', '鼠族', '張充仁']\n",
            "['中華人民共和國紡織工業部', '中華人民共和國食品工業部', '曹魯', '中華人民共和國第二輕工業部', '輕工業']\n",
            "['桑吉巴蝴蝶魚', '黑鰭蝴蝶魚', '鰭斑蝴蝶魚', '安達曼島蝴蝶魚', '領蝴蝶魚']\n",
            "['葉巒', '清順治三年丙戌科浙江鄉試舉人列表', '鄉試', '福建省']\n",
            "['宋教仁', '臺灣國民黨', '游錫堃', '中國國民黨黨產爭議', '梁啓超']\n",
            "['納米比亞總統', '太平洋', '納米比亞', '平面']\n",
            "['2017年兩伊邊境地震', '伊朗歷史', '伊朗間奏曲', '波斯人', '伊朗伊斯蘭革命']\n",
            "['側生動物', '腎管動物', '動物', '浮浪幼蟲樣動物', '變形體']\n",
            "['個人電腦', 'SETI@home']\n",
            "['臺南市東區復興國民小學', '臺南市東區裕文國民小學', '臺南市東區東光國民小學', '復興國小', '關聖裏']\n",
            "['中國東北地區', '中國大陸人口', '內蒙古自治區各盟市面積列表', '育空市鎮列表', '內蒙古各市盟地區生產總值列表']\n",
            "['西廂記', '王實甫', '西廂傳奇', '牆頭馬上', '四大名劇']\n",
            "['棘皮動物', '脊柱後凸', '脊柱外科', '舒爾曼病', '無脊椎動物']\n",
            "['繼承人', '長子繼承製', '推定繼承人', '繼承', '儲君']\n",
            "['古典制約', '霍華德·菲利普斯·洛夫克拉夫特', '制約', '動物權利', '行爲主義']\n",
            "['寒武紀大爆發', '始祖動吻蟲', '三葉動物門', '寒武紀_(消歧義)', '半索動物門']\n",
            "['臺灣客家語', '臺灣國語', '峨眉鄉', '廣東語假名', '國語政策']\n",
            "['慕容復', '武俠小說', '金輪國師', '姑蘇慕容', '慕容博']\n",
            "['半費之訟', '阿爾弗雷德·塔斯基', '法律邏輯學', '芝諾悖論', '普羅泰戈拉']\n",
            "['港專學院', '2019冠狀病毒病疫情對教育的影響', '技術型高級中等學校', '專科學校', '國立空中大學']\n",
            "['戴安娜_(電影)', '黛安娜', '威爾斯王妃戴安娜', '戴安娜廣場', '國際反地雷組織']\n",
            "['蘋果酒', '葡萄酒釀製', '力嬌酒', '果酒', '葡萄酒']\n",
            "['木衛十五', '木星探測', '天問四號', '木星環', '木星']\n",
            "['南小島', '北小島', '橄欖門', '三仙臺', '大潭灣']\n",
            "['豫劇', '壯劇', '天津時調', '聲優白皮書', '白玉霜']\n",
            "['古希臘悲劇', '奠祭', '祭祀', '狄俄倪索斯', '酒神與太陽神']\n",
            "['醫師勞動條件改革小組', '聖彼得堡國立電子科技大學', '臺灣醫療勞動正義與病人安全促進聯盟', '電子科技大學']\n",
            "['史璧琦', '史超域', '聖保羅書院', '源迪恩', '英皇書院']\n",
            "['蔡卓妍', '原諒他77次', '歌手·當打之年', '歌手']\n",
            "['民間科學家', '科學家', '北京理工大學附屬中學', '南京理工大學', '江西理工大學']\n",
            "['鍾凱瑩', '何基佑', '香港', '藝人', '模特兒']\n",
            "['馬來西亞聯邦授勳及嘉獎制度', '香港授勳及嘉獎制度', '英國授勳及嘉獎制度', '香港2016年度授勳及嘉獎名單', '國會太空榮譽勳章']\n",
            "['桃園三結義', '關羽', '張飛', '反三國演義', '水滸傳']\n",
            "['黑斯堡足跡', '賽普勒斯']\n",
            "['特洛伊戰爭', '被縛的普羅米修斯', '普羅米修斯', '兒童']\n",
            "['我有一個夢想', '馬丁·路德·金', '馬丁·路德·金紀念日', '馬丁·路德·金國家歷史遺址', '林肯紀念堂']\n",
            "['網路論戰', '網路去抑制效應', '網路用戶', '言論自由']\n",
            "['元曲', '豫劇', '曲', '內蒙古自治區']\n",
            "['黎巴嫩', '伊斯蘭教', '穆斯林', '阿拉伯語變體', '猶太-阿拉伯語']\n",
            "['氏族', '氏_(消歧義)', '燧人氏', '河套', '父系制度']\n",
            "['墨西哥國徽', '草莓鳳仙花', '野鳳仙花', '關霧鳳仙花', '奇異鳳仙花']\n",
            "['溶液', '規則溶液', '共沸', '分餾', '化學物質']\n",
            "['臺灣客家語', '峨眉鄉', '臺灣國語', '香港本土語言', '廣東語假名']\n",
            "['貓', '外來物種', '鳥', '哺乳動物', '狼']\n",
            "['楊凱麟', '廈門大學校友列表', '楊小凱', '何志欽', '伊斯蘭對中古歐洲的貢獻']\n",
            "['蛋白質組學', '基因', '蛋白質交互作用', '蛋白質摺疊', '組織蛋白']\n",
            "['臺東飛行場', '臺東郡', '卑南莊', '臺灣日治時期行政區劃', '臺東街']['妊娠糖尿病', '糖尿病酮症酸中毒', '1型糖尿病', '2型糖尿病', '糖尿病']\n",
            "\n",
            "['波士頓', '英國通用電氣公司', '企業', '荷蘭', '合資公司']\n",
            "['硫酸𨥙', '硫酸鈰(IV)', '硫酸鎂', '硫酸亞鉈', '硫酸鈷銨']\n",
            "['伊普蘇斯戰役', '伊朗人民聖戰者組織', '馬倫哥戰役', '伊斯蘭國', '克拉特魯斯']\n",
            "['香港特別行政區海員身份證', '身分證', '澳門居民身份證', '護照', '乘坐民航飛機臨時身份證明']\n",
            "['普立茲公共服務獎', '普利茲克建築獎', '特別貢獻獎', '楊士琪卓越貢獻獎', '孫儷']\n",
            "['扶餘國', '王頎', '夫臺', '高句麗縣', '太守']\n",
            "['客運樓', '遊輪', '客輪', '維京客輪', '郵輪母港']\n",
            "['臺北', '臺北101']\n",
            "['臺灣電影院列表', '國泰電影院', '戶外電影院', '東山電影院', '南關電影院']\n",
            "['1812序曲', '俄法戰爭', '拿破崙戰爭', '拿破崙三世', '博羅金諾戰役']\n",
            "['健康', '尤里·安德羅波夫', '腎功能衰竭', '腎功能', '腎_(臟腑)']\n",
            "['木衛六', '宙斯', '木衛十', '美杜莎', '埃癸斯']\n",
            "['商業', '內線交易', '行爲', '行爲能力', '非營利組織']\n",
            "['徐有庠', '蕃人公學校', '臺灣專科學校', '臺灣總督府高等商業學校', '許勝發']\n",
            "['冰島語', '古諾斯語', '冰島人', '冰島語語言純化主義', '冰島']\n",
            "['行政法', '行政機關', '法國政府', '行政程序法', '行政法務司']\n",
            "['星際大戰電影列表', '背靠背電影製作', '電影', '集', '荷馬']\n",
            "['馬詩慧', '雙性戀自豪日', '王曼喜', '上官筠慧', '鄧慧詩']\n",
            "['貝雷特', '貝塔·雷·比爾', '愛']\n",
            "['漢朝', '漢初三傑', '叔孫通', '漢', '劉邦']\n",
            "['蒙山大佛', '樂山大佛', '大佛', '唐朝']\n",
            "['初期佛教', '漢傳佛教', '佛教', '佛教歷史', '印度佛教']\n",
            "['網紋長頸鹿', '長頸鹿', '馬賽長頸鹿', '始長頸鹿', '長頸鹿總科']\n",
            "['奧拉尼·若望·坦佩斯塔', '普拉桑塔·帕坦尼克', '教授', '哈佛大學']\n",
            "['生物學哲學', '科學哲學', '科學理論', '僞科學', '中心科學']\n",
            "['宋潢_(嘉慶壬戌進士)', '法律', '山東省', '山東省_(中華民國)', '字']\n",
            "['許世友反革命集團案', '中國武術', '許世友', '中國', '武術']\n",
            "['南京農業大學', '東南大學', '倪尚達', '南京大學', '南京師範大學']\n",
            "['北歐神話', '神話世紀', '神話學', '神話', '日本神話']\n",
            "['臺東垃圾焚化廠', '城西垃圾焚化廠', '臺灣垃圾焚化廠列表', '臺東縣', '臺東縣議會']\n",
            "['單片系統', '英特爾晶片組列表', '微處理器', '單板機', '4位元']\n",
            "['生物多樣性行動計劃', '生物多樣性國際日', '可持續性', '生物多樣性', '保護狀況']\n",
            "['蘋果酒', '世界', '酒']\n",
            "['杜斯木', '波爾託布福萊', '波爾布特', '沙洛特·蔡', '化名']\n",
            "['歐幾里得空間', '空間_(數學)', '希爾伯特空間', '巴拿赫空間', '對偶空間']\n",
            "['臺電大樓站', '南港車站', '南港展覽館站', '松山線', '板南線']\n",
            "['托洛茨基主義', '列夫·謝多夫旅', '列夫·托洛茨基', '蘇聯總統', '蘇聯']\n",
            "['真菌', '古菌', '真核生物', '菌異營', '細菌']\n",
            "['形狀', '形變', '用戶幫助', '構象改變', '媒介傳遞']\n",
            "['哲學', '法院', '客觀性', '葉百修', '心物問題']\n",
            "['島嶼國家', '島嶼國家列表', '分治島嶼列表', '中華人民共和國島嶼列表', '中華民國臺灣地區島嶼列表']\n",
            "['荷馬', '荷馬史詩', '赫拉', '蝴蝶', '史詩']\n",
            "['吳健雄學院', '雙雄', '小行星2752', '蘇州健雄職業技術學院', '吳健雄']\n",
            "['煉武臺站', '韓國外國語大學站', '片濱車站', '跨站式站房', '江景線']\n",
            "['臺東製糖', '臺灣製糖', '明治製糖', '帝國製糖', '鹽水港製糖']\n",
            "['生物藥理學', '藥物', '系統藥理學', '藥學', '藥物過量']\n",
            "['法輪功', '法輪功在香港', '法輪功在各地的發展及影響', '對法輪功的鎮壓', '香港獨立運動']\n",
            "['晉國', '晉靜公', '晉出公', '晉定公', '晉景公']\n",
            "['麝雉', '雉雞', '剃刀嘴鳳冠雉', '有羽毛恐龍', '雞形目']\n",
            "['印度教神話', '吠陀文化', '象頭神', '阿闥婆吠陀', '因陀羅']\n",
            "['天琴座', '天琴座ν', '天琴座V473', '天琴座19', '天琴座XY']\n",
            "['劇情片', '愛情片', '竹林中', '電影類型', '羅生門']\n",
            "['諾貝爾文學獎得主列表', '諾貝爾和平獎', '諾貝爾物理學獎', '薩繆爾·約瑟夫·阿格農', '諾貝爾委員會']\n",
            "['張衡', '黃巾之亂', '東漢', '蜀漢', '漢朝']\n",
            "['陳水扁政府', '陳水扁', '2000年中華民國總統選舉', '陳永興', '三一九槍擊事件']\n",
            "['臺北市文山區興華國民小學', '臺北市文山區萬芳國民小學', '臺北市政府', '臺中市政府教育局', '臺北市立萬芳醫院']\n",
            "['成龍', '一個好人', '美國電影', '你的名字。', '那些年，我們一起追的女孩']\n",
            "['變星命名法', '星座', '拜耳命名法', '古德命名法', '拜耳命名法恆星表']\n",
            "['馬克思學說研究會', '馬克思主義思想流派', '對馬克思主義的批評', '西方馬克思主義', '馬克思主義政治經濟學']\n",
            "['小查理·卓別林', '悉尼·約翰·卓別林', '老查理·卓別林', '尼古拉斯·尼克貝', '悉尼·厄爾·卓別林']\n",
            "['鍼灸', '電', '中國廣視索福瑞媒介研究', '白克蘭電流', '媒介依賴理論']\n",
            "['歐洲', '牛族', '捕食', '境', '白俄羅斯']\n",
            "['法櫃奇兵', '喬治·盧卡斯', '盧卡斯影業', '星際大戰正傳三部曲', '阿甘正傳']\n",
            "['什葉派', '伊普蘇斯戰役', '伊斯蘭國', '宰德派', '伊朗伊斯蘭革命']\n",
            "['金朝', '丁卯戰爭', '開禧北伐', '金章宗', '義兵運動']\n",
            "['金門炮戰', '六一九砲戰', '古寧頭戰役', '海峽兩岸關係', '中華民國外交史']\n",
            "['本傑明·富蘭克林', '富蘭克林_(維吉尼亞州)', '富蘭克林研究所', '富蘭克林·德拉諾·羅斯福', '費城市政廳']\n",
            "['東遼國', '遼朝', '世襲君主制', '渤海國', '現行君主制政權列表']\n",
            "['古希臘悲劇', '奠祭', '祭祀', '卡耳波', '中國酒文化']\n",
            "['大西洋', '洋', '南冰洋', '北冰洋', '弗拉姆海峽']\n",
            "['列昂尼德·勃列日涅夫', '列昂尼德·勃列日涅夫的影響', '布拉格之春', '蘇聯總統', '勃列日涅夫主義']\n",
            "['淄博市', '泰安市', '棗莊市', '常德市', '濟寧市']\n",
            "['吳君如', '張學友', '馮寶寶', '江湖悲劇', '江湖兒女']\n",
            "['臺北市文山區永建國民小學', '考試院院長', '考試院副院長', '考試院', '國民政府考試院舊址']\n",
            "['軍事', '路易十四']\n",
            "['軟件項目管理', '軟件開發', '軟件開發工具包', '軟件', '軟件開發工具']\n",
            "['藍寶石', '紅寶石', '海藍寶石', '紅寶石雷射', '砂金效應']\n",
            "['臺灣天文觀測', '林啓生', '蔡文祥', '王爲豪', '天文臺']\n",
            "['電子計算機', '計算機工程', '理論計算機科學', '清華大學計算機科學與技術系', '三維計算機圖形']\n",
            "['隆背小沙丁魚', '白小沙丁魚', '沙丁魚罐頭', '繸鱗小沙丁魚', '沙丁魚']\n",
            "['宋武帝', '東晉', '東晉演義', '魏晉南北朝', '東晉行政區劃']\n",
            "['卡拉卡爾帕克語', '卡拉卡爾帕克人', '木伊那克', '卡拉卡爾帕克斯坦共和國', '卡拉卡爾帕克蘇維埃社會主義自治共和國']\n",
            "['蒂姆·伯頓']\n",
            "['汽車品牌列表', '品牌長', '福斯集團汽車舞弊事件', '延伸品牌', '大衆交通']\n",
            "['外科學', '中國發明', '外科學歷史', '古埃及', '古埃及數學']\n",
            "['大衛·貝克漢姆', '威廉·麥金萊', '資產']\n",
            "['弗朗西斯科·佛朗哥獨裁', '弗朗西斯科·佛朗哥', '西班牙內戰', '西班牙君主', '法西斯主義']\n",
            "['金馬獎獎項列表', '獎勵', '電子藝術大獎']\n",
            "['馬六甲海峽歷史城市', '馬六甲海峽', '海峽', '現在', '馬六甲_(消歧義)']\n",
            "['木衛四', '木衛三', '聖保利足球俱樂部', '俱樂部', '地表']\n",
            "['國立臺灣科技大學管理研究所', '國立臺灣科技大學研揚大樓', '國立臺灣大學系統', '國立臺灣科技大學管理學院', '國立臺灣科技大學']\n",
            "['臺北市立聯合醫院', '臺北市政府衛生局', '臺北市立萬芳醫院', '臺中市政府衛生局', '新北市政府警察局']\n",
            "['軍政_(政體)', '軍政府', '希臘軍政府', '軍事管治', '不滿的冬天']\n",
            "['第二產業', '第一產業', '產業', '第三產業', '產品經理']\n",
            "['紐西蘭人口', '新西蘭王國', '華裔新西蘭人', '奧克蘭大區', '新澤西州']\n",
            "['康沃爾冰川', '迪圖瓦冰原島峯', '麥克貝恩山', '福派峯', '托爾冰川']\n",
            "['早期古典音樂', '冷爵士樂', '二十一世紀古典音樂', '自由爵士樂', '音樂']\n",
            "['馬克思學說研究會', '馬克思主義思想流派', '馬克思主義政治經濟學', '西方馬克思主義', '對馬克思主義的批評']\n",
            "['尼羅河流域文明', '四大文明古國', '印度河流域文明', '長江文明', '流域']\n",
            "['元素週期表', '元素週期律', '擴展元素週期表', '以科學家命名的化學元素列表', 'F區元素']\n",
            "['瘋城記', '安德魯·勞埃德·韋伯', 'CATS貓', '美麗的幽魂', '耶穌基督超級巨星']\n",
            "['政黨補助金', '無黨團結聯盟', '2001年中華民國立法委員選舉', '中華民國政黨歷年最高得票率', '2005年中國國民黨主席選舉']\n",
            "['荷馬史詩', '荷馬', '澤諾多託斯', '吉爾伽美什史詩', '史詩']\n",
            "['海衛一大氣層', '甲烷', '大氣層', '產甲烷作用', '天王星大氣層']\n",
            "['銀川平原', '銀川市', '中部']\n",
            "['張碧晨', '林俊逸', '黃致列', '孫勝妍', '嚴藝丹']\n",
            "['歐陸舞曲', '佈雷舞曲', '在空中漫步', '舞曲', '電子舞曲']\n",
            "['沈申甫', '沈宗瀛', '沈曾桐', '博士後', '英國']\n",
            "['白雪仙', '吳素英', '千里駒', '白駒榮', '陳輝玲']\n",
            "['決定性問題', '問題', '微分方程', '國族問題', '國語國字問題']\n",
            "['臺南縣', '臺南市文化資產', '臺南府', '臺南縣縣長', '嘉南平原']\n",
            "['氫化鈹', '壓縮氫氣', '氫氣', '氫氣閥門', '氫能載具']\n",
            "['亞當·斯密', '農業經濟學', '大衛·休謨', '歷史主義', '丹麥文學']\n",
            "['方言學', '歷史語言學', '漢語語法', '計算語言學', '藏語語法']\n",
            "['敏迷龍屬', '重龍屬', '木他龍屬', '迷惑龍屬', '近頜龍科']\n",
            "['七連滋養', '少女蝶', '3T_(香港音樂組合)', '湯寶如', '菊梓喬']\n",
            "['神經性暴食症', '肥胖症', '左旋安非他命', '亨丁頓舞蹈症']\n",
            "['馬島靈貓', '獺狸貓', '貓', '短尾貓', '馬島長尾狸貓']\n",
            "['問卷調查', '方法學', '跳躍性思維', '答案', '2021年香港人口普查']\n",
            "['代碼風格', '註解_(程式設計)', '縮進風格', '程序錯誤', 'XMLGUI']\n",
            "['馬克·吐溫', '海', '作家']\n",
            "['氰化鋰', '氰化鋁', '氫氧化鎵', '鹵化氫', '鹼性氧化物']\n",
            "['柏林工業大學', '柏林洪堡大學', 'CCTV體壇風雲人物評選', '柏林', '自由大學']\n",
            "['啤酒', '酒精發酵', '朝鮮民主主義人民共和國的啤酒', '貴腐甜白酒', '五星啤酒']\n",
            "['韓式泡菜', '四川泡菜', '泡菜', '酸梅', '泡菜鍋']\n",
            "['蒼鷺', '夜鷺屬', '草鷺', '鷺屬', '琵鷺']\n",
            "['男性不育症', '男男性行爲者', '不孕', '男男性行爲', '男性']\n",
            "['古希臘羅馬神話', '希臘神話', '北歐神話', '神話學', '希臘神祇及神話人物列表']\n",
            "['臺南避病院', '法定傳染病', '新加坡國家傳染病中心', '醫院', '國立臺灣大學醫學院附設醫院']\n",
            "['佛羅倫薩', '文藝復興藝術', '文藝復興時期的柏拉圖主義', '大衛像', '義大利文藝復興']\n",
            "['查理·卓別林影片輯', '老查理·卓別林', '漢娜·卓別林', '悉尼·厄爾·卓別林', '查理·卓別林']\n",
            "['紫微大帝', '滿洲國皇帝', '唐高宗', '紫微垣', '宮女']\n",
            "['木衛三', '木衛四', '表面等離子共振', '暗物質', '物質狀態']\n",
            "['癌症', '死亡', '思想家', '李賦寧', '中國']\n",
            "['土星的衛星', '天王星的衛星', '木星的衛星', '海王星的衛星', '木星日食']\n",
            "['珠江三角洲', '珠江三角洲經濟區', '珠江', '珠江城大廈', '遂溪河']\n",
            "['曾光爔', '瀘州直隸州', '綿州', '潼川直隸州', '五華縣']\n",
            "['黑池舞蹈節', '芭蕾舞裙', '女性']\n",
            "['希臘神話', '神話學', '裝飾藝術', '羅馬神話', '裝飾風藝術']\n",
            "['城市規劃', '城市規劃師', '上海城市規劃展示館', '南京大學城市規劃與設計系', '香港城市規劃委員會']\n",
            "['皮埃爾·德·顧拜旦', '奧林匹克博物館', '1972年夏季奧林匹克運動會', '國家奧林匹克委員會', '奧林匹克憲章']\n",
            "['寒武紀大爆發', '始祖動吻蟲', '寒武紀_(消歧義)', '生物', '地球']\n",
            "['卡拉卡爾帕克人', '穆薩·葉爾尼亞佐夫', '木伊那克', '卡拉卡爾帕克蘇維埃社會主義自治共和國', '卡拉卡爾帕克斯坦共和國']\n",
            "['拒絕領取諾貝爾獎人物列表', '印度諾貝爾獎得主列表', '諾貝爾獎得主列表', '諾貝爾經濟學獎', '諾貝爾委員會']\n",
            "['臺灣天文觀測', '林啓生', '蔡文祥', '王爲豪', '天文臺']\n",
            "['臺灣天文觀測', '林啓生', '蔡文祥', '王爲豪', '天文臺']\n",
            "['穀梁傳', '春秋_(書)', '春秋']\n",
            "['披頭士樂隊獲獎與提名列表', '黑豹樂隊', '披頭四樂隊', '太極樂隊', '威猛樂隊']\n",
            "['鰓棘杜父魚', '梳鰭鬼杜父魚', '光滑平鮋', '雲鰣', '細眉杜父魚']\n",
            "['臺北市文山區興華國民小學', '臺北市文山區萬芳國民小學', '臺中市政府教育局', '臺北市政府', '臺北市私立中興高級中學']\n",
            "['梁國雄', '香港獨立運動', '雷玉蓮', '2014年高雄氣爆事故', '香港警務處國家安全處搜查壹傳媒大樓事件']\n",
            "['十次革命起義', '黃岡起義', '黃花崗起義', '清朝民變', '奕劻']\n",
            "['臺灣氣候', '熱帶季風氣候', '亞熱帶', '2005年亞速爾亞熱帶風暴', '副熱帶溼潤氣候']\n",
            "['數位貨幣', '貨幣基數', '貨幣', '貨幣主義', '貨幣銀行學']\n",
            "['珠江三角洲', '東江', '珠江', '錦田河', '水利部珠江水利委員會']\n",
            "['內燃機', '爆炸', '空氣標準', '生物燃氣', '火']\n",
            "['金獅獎_(消歧義)', '金獅獎', '意大利', '電影節', '威尼斯']\n",
            "['前列腺癌', '死亡', '李賦寧', '中國', '教育家']\n",
            "['聶華苓', '自由中國_(雜誌)']\n",
            "['午夜巴黎', '魔力月光', '愛在午夜希臘時', '六場危事', '第64屆戛納電影節']\n",
            "['戰爭', '路易十四']\n",
            "['荷蘭飲食', '亞美尼亞飲食', '阿曼飲食', '土耳其飲食', '土耳其烤茄子']\n",
            "['戊戌變法', '慈禧太后', '戊戌六君子', '兩宮聽政', '光緒帝']\n",
            "['歌手·當打之年', '齊秦', '歌手', '齊豫', '親屬']\n",
            "['香港中文大學社會科學院', '中國社會科學院大學', '雲南省社會科學院', '中國社會科學院中國邊疆研究所', '胡喬木']['王安石', '生活', '認識']\n",
            "\n",
            "['水力帝國', '帝國', '康乃馨革命', '印度經濟', '計劃生育']\n",
            "['夫妻', '一夫多妻制', '婚姻', '父親', '郎君']\n",
            "['宜賓市', '宜賓縣', '資陽市', '仁懷市', '蘭溪市']\n",
            "['秦滅趙之戰', '秦昭襄王', '秦始皇', '秦國君主列表', '燕國']\n",
            "['馬純岱', '牛下女高音', '陳駿霖', '英雄好漢', '柏林國際電影節']\n",
            "['國民政府', '中華民國大陸時期', '中華民國國家元首列表', '大韓民國臨時政府', '國民革命']\n",
            "['Fairytale', '格林童話', '童話鎮', '超級拉奇傳說', '名字古怪的小矮人兒']\n",
            "['面積', '海洋性氣候', '氣候', '熱帶', '熱帶海洋性氣候']\n",
            "['淮揚菜', '上海菜', '梅菜', '蘇菜', '豫菜']\n",
            "['淡水河', '廣東河流列表', '臺灣河流列表', '奧富薩河', '遼寧河流列表']\n",
            "['聖彼得堡國立電子科技大學', '蘇州電器科學研究院', '格力電器', '電子科技大學']\n",
            "['赤足', '路']\n",
            "['阿斯泰·妮爾森', '杜絲先生', '謊言的烙印', '貝絲·杜魯門', '世紀末婚禮']\n",
            "['江湖兒女', '張學友', '江湖悲劇', '金馬獎最佳劇情長片', '金馬獎最佳導演']\n",
            "['許世友', '陳伯鈞', '黃克誠', '李聚奎', '許世友反革命集團案']\n",
            "['臺南孔子廟明倫堂', '孔廟列表', '臺中市孔廟', '臺南孔子廟', '孔廟']\n",
            "['愛爾蘭國家的名稱', '愛爾蘭自由邦', '愛爾蘭地理', '愛爾蘭語', '愛爾蘭']\n",
            "['湖塘站', '臺南車站', '日本鐵路車站', '塘湖站', '油塘站']\n",
            "['馬克思學說研究會', '馬克思主義思想流派', '西方馬克思主義', '後馬克思主義', '新馬克思主義']\n",
            "['釋迦牟尼', '牟尼', '喬達摩', '釋迦族', '佛']\n",
            "['阿爾瓦·古爾斯特蘭德', '諾貝爾物理學獎', '謝爾蓋·彼得羅維奇·諾維科夫', '布魯諾·羅西', '沃爾夫物理學獎']\n",
            "['遼朝', '騎馬民族征服王朝說', '遊牧帝國', '中山王墓', '中國朝鮮族']\n",
            "['桃園市', '本名', '名稱', '元智大學']\n",
            "['慕容復', '姑蘇慕容', '天龍八部角色列表', '慕容垂', '龍']\n",
            "['元培', '翰林院', '蔡元培', '點']\n",
            "['貝雷特', '仇恨', '貝塔·雷·比爾']\n",
            "['弗朗西斯科·戈雅', '美國風情畫', '弗朗西斯·科波拉', '小說']\n",
            "['楊小凱', '古典經濟學', '羅伯特·巴羅', '德里克·帕菲特', '哈佛燕京學社']\n",
            "['世界氣象組織', '美國國家資訊標準組織', '非營利與志願部門季刊', '法人', '.org']\n",
            "['木衛四', '木衛十五', '木衛三', '木衛十二', '木星的衛星']\n",
            "['千與千尋']\n",
            "['紫質症', '吡嗪酰胺', '張亭棟', '失智症', '砷中毒']\n",
            "['梁柏豪', '亦舒', '史瑞克', '歐文·威爾許', '朝花夕拾']\n",
            "['博納羅蒂之家', '米開朗基羅', '米開朗基羅·樂孔特']\n",
            "['豫劇']\n",
            "['天佑國王', '愛國歌曲', '天佑安圭拉', '美麗的阿美利加', '歌曲']\n",
            "['粵劇', '戲曲', '豫劇', '越劇', '滑稽戲']\n",
            "['嘉善縣', '浙北', '杭嘉湖地區', '嘉興市', '杭嘉湖平原']\n",
            "['瑞璸', '杜臻', '漢朝']\n",
            "['泰坦尼克號', '亨利·懷爾德', '約瑟夫·博克斯霍爾', '哈羅德·洛', '英國皇家郵輪']\n",
            "['1984年羅傑尼希教生物恐怖攻擊', '泰米爾伊拉姆猛虎解放組織', '羅傑尼希社區', '2001年美國炭疽攻擊事件', '忒修斯']\n",
            "['九月屠殺', '明末清初屠殺事件', '楊虎城', '自我屠殺', '屠殺']\n",
            "['臺北市立聯合醫院', '臺北市立萬芳醫院', '衛生福利部臺北醫院', '臺北市立聯合醫院中興院區', '臺北市立關渡醫院']\n",
            "['杜臻', '林則徐', '明朝兵部尚書', '福康安', '明朝吏部尚書']\n",
            "['羅斯福新政', '1964年民權法案', '西奧多·羅斯福', '俄羅斯經濟', '富蘭克林·羅斯福第四次總統就職典禮']\n",
            "['臺北市政府捷運工程局', '新北市政府', '臺北市政府', '臺北市政府文化局', '臺北市政府勞動局']\n",
            "['不飽和烴', '碘化汞', '二元化合物', '碘化汞鉀', '炔烴']\n",
            "['弗朗西斯科·佛朗哥獨裁', '弗朗西斯科·佛朗哥', '西班牙內戰', '第二次世界大戰期間的西班牙', '拉蒙·佛朗哥']\n",
            "['鰲拜', '班布爾善', '朝會', '康熙帝', '清朝君主列表']\n",
            "['城市規劃', '教育階段', '企劃']\n",
            "['狄仁傑', '新刻京本通俗演義增像包龍圖判百家公案全傳', '趙勉', '荀子', '公案_(消歧義)']\n",
            "['苗栗縣', '苗栗縣政府文化觀光局', '苗栗縣警察局', '苗栗縣歷史', '苗栗縣議會']\n",
            "['胡利亞卡', '胡利亞卡區', '卡拉爾', '卡斯蒂利亞聯合王國', '祕魯']\n",
            "['林俊逸', '安七炫', '導演', 'F4', '吳建豪']\n",
            "['南海潮', '歌仔', '西北民歌', '河北梆子', '南海']\n",
            "['楊迪', '山海逆戰', '饕餮', '靈獸', '恐龍戰隊獸連者']\n",
            "['特攻隊', '二戰期間同盟國海軍對日炮擊', '橫須賀空襲', '空軍', '特別攻擊隊']\n",
            "['許世友', '許世友反革命集團案']\n",
            "['日本神話', '神話學', '神話', '北歐神話', '朝鮮神話']\n",
            "['搖滾樂', '前衛搖滾', '另類搖滾', '瞪鞋搖滾', '獨立搖滾']\n",
            "['宗教信仰哲學', '宗教哲學', '無宗教', '宗教自由', '中國民間信仰']\n",
            "['于化虎', '義和團運動', '虹口公園爆炸事件', '中國人民解放軍進行曲', '中國人民解放軍特種部隊']\n",
            "['三年坂火之夢', '三姊妹偵探團', '這本推理小說真厲害！', '講談社出版文化賞', '銃夢']\n",
            "['中華人民共和國國家級自然保護區列表', '安徽省人民政府', '臺灣自然保護區', '國務院新聞辦公室', '中國自然保護區']\n",
            "['馬克思學說研究會', '馬克思主義思想流派', '西方馬克思主義', '後馬克思主義', '新馬克思主義']\n",
            "['聯合國海洋法公約', '專屬經濟區', '公海公約', '國際海底管理局', '聯合國總部大樓']\n",
            "['馬純岱', '馬六甲蘇丹國', '德國']\n",
            "['硝酸', '高氯酸', '鏹水', '酸', '硫酸']\n",
            "['仁皇后', '允䄉', '雍正帝', '孝恭仁皇后', '神仙·老師·狗']\n",
            "['許世友反革命集團案', '許世友']\n",
            "['許世友反革命集團案', '許世友']\n",
            "['懷化市第三中學', '懷化市', '鶴城區', '鶴溪街道', '花溪區']\n",
            "['流產', '產前診斷', '反覆流產', '妊娠', '妊娠毒血症']\n",
            "['臺北市政府民政局', '臺北市政府捷運工程局', '臺北市政府', '臺北市政府產業發展局', '臺北市政府勞動局']\n",
            "['墨西哥國徽', '月桂', '墨西哥國旗', '古巴國徽', '加蓬國徽']\n",
            "['終身總統', '卡扎菲治下的利比亞', '法耶茲·薩拉傑', '利比亞', '薩拉姆·法耶茲']\n",
            "['威廉·莎士比亞', '雙胞胎', '兒童', '英國', '運動員']\n",
            "['愛爾蘭華人', '愛爾蘭', '人口']\n",
            "['田中綱常', '鹿兒島縣', '兒玉源太郎', '瑯嶠十八社', '鹿兒島市']\n",
            "['乙炔', '硫化鈣', '氮化鎂', '氰氨化鈣', '矽化鎂']\n",
            "['半費之訟', '格利烏斯', '芝諾悖論', '法律邏輯學', '古羅馬']\n",
            "['蛛形綱', '香港純蛛', '蜘蛛', '鷲蛛總科', '櫛足蛛科']\n",
            "['柯伊伯帶', '彗星', '週期', '傑拉德·柯伊伯']\n",
            "['仄費羅斯', '玻瑞阿斯', '歐羅斯', '諾託斯', '奧林匹斯十二主神']\n",
            "['指南車', '王振鐸', '張衡', '宋朝科技', '志']\n",
            "['動感新時代', '橡皮靈魂', '披頭士樂隊獲獎與提名列表', '披頭四作品列表', '時代']\n",
            "['音樂創作', '音階', '音樂', '第2號匈牙利狂想曲', '爵士音階']\n",
            "['南小島', '北小島', '橄欖門', '三山頭島', '大潭灣']\n",
            "['鄭周永', '現代集團', '臺灣明鄭時期', 'TOM集團', '鄭成功']\n",
            "['漢語語法', '音系學', '藏語語法', '歷史語言學', '方言學']\n",
            "['臺南市美術館', '國立臺灣美術館', '新生四館', '桃園市立美術館', '國立臺灣史前文化博物館']\n",
            "['黃帝', '禹', '三苗', '中國', '時代']\n",
            "['三苗', '黃帝', '禹', '九黎', '扶餘國']\n",
            "['臺灣', '綽號', '西北', '名稱', '西北部_(越南)']\n",
            "['李祖德', '邱文達', '胡寶珍', '醫學院', '高雄醫學大學']\n",
            "['密碼學', '密碼學主題列表', '量子密碼學', '數學常數', '密碼分析']\n",
            "['晉國', '曲沃代翼', '晉景公', '晉頃公', '晉文公']\n",
            "['劉曜', '趙', '漢宣帝', '劉淵', '趙武']\n",
            "['心肌梗死', '馬世莉', '兄弟姊妹']\n",
            "['怦然心動的人生整理魔法', '近藤麻理惠', '實藤惠秀', '豐臣秀吉', '明智光秀']\n",
            "['大公報', '香港商報', '香港報業', '香港報業公會', '新民晚報']\n",
            "['破罐子阿廖沙', '亞斯納亞波利亞納', '托爾斯泰家族', '列昂尼德·尼古拉耶維奇·安德列耶夫', '伊萬·蒲寧']\n",
            "['信息及通信技術', '基於位置的服務', '技術', '首席技術官', '美國的加密技術出口管制']\n",
            "['貝爾格勒尼古拉·特斯拉機場', '貝爾格勒攻勢', '尼克·貝爾格', '阿遜平克溪戰役', '加拿大']\n",
            "['英屬婆羅洲', '馬來西亞協定', '沙巴', '東南亞', '英屬婆羅洲日佔時期']\n",
            "['維多利亞·貝克漢姆', '提姆·貝克漢', '大衛·貝克漢姆', '足球員']\n",
            "['光導纖維', '負折射率超材料', '折射率', '折射率列表', '負折射']\n",
            "['柏林工業大學', '精英大學', '柏林洪堡大學', 'CCTV體壇風雲人物評選', '柏林']\n",
            "['合併', 'STARSHIP娛樂']\n",
            "['複合材料', '樹脂基複合材料', '工程用水泥基複合材料', '建築材料', '碳纖維']\n",
            "['漢初三傑', '漢朝', '蕭何', '劉邦', '叔孫通']\n",
            "['昭和天皇', '天皇', '昭和', '名']\n",
            "['馬寅初', '校長', '北京市', '老年']\n",
            "['江戶時代', '安南屬明時期', '江戶川亂步', '妙義荒船佐久高原國定公園', '江戶']\n",
            "['托馬斯·潘恩', '吉倫特派', '托洛茨基主義', '基督教歷史', '基督教民主主義']\n",
            "['托馬斯·潘恩', '對基督教的批評', '個人無政府主義', '潘恩', '英格蘭人']\n",
            "['海星', '肉食性動物', '人類牙齒', '羊膜動物', '胃蠅']\n",
            "['星期六']\n",
            "['侯景之亂', '梁武帝', '侯安都', '宗教改革', '宋子仙']\n",
            "['京九鐵路', '京廣鐵路', '京臺高速鐵路', '板南線', '京雄商高速鐵路']\n",
            "['譜代家臣', '日本', '世僕', '約束']\n",
            "['墨索里尼之死', '吉亞科莫·馬泰奧蒂', '貝尼託·墨索里尼', '雷切爾·墨索里尼', '亞歷山德拉·墨索里尼']\n",
            "['木星的衛星', '土星的衛星', '太陽系天然衛星列表', '木星', '衛星']\n",
            "['怦然心動的人生整理魔法', '實藤惠秀', '中國', '日本人']\n",
            "['汝州站', '中國鐵路鄭州局集團', '戎莊站', '臨汝鎮站', '小屯街站']\n",
            "['林鈺婷', '丘丘合唱團', '譚詠麟', '汪明荃', '簡上仁']\n",
            "['魏瑪共和國', '魏瑪憲法', '聯邦大總統', '德國領土變遷', '德國']\n",
            "['內畫壺', '日本國寶', '大阪市立東洋陶瓷美術館', '工藝美術', '北京市']\n",
            "['櫟迷孔菌', '菌褶', '薄孔菌屬', '蕈類中毒', '粗糙擬迷孔菌']\n",
            "['煉武臺站', '跨站式站房', '炭峴站', '一山站', '片濱車站']\n",
            "['芝加哥', '芝加哥期貨交易所', '德國交通', '約旦經濟', '美國']\n",
            "['新竹科學園區', '竹東鎮', '東區_(新竹市)', '臺灣的科學園區', '竹東林業展示館']\n",
            "['甲殼質', '殼聚糖', '多糖', '氨基葡萄糖', 'N-乙酰葡糖胺']\n",
            "['婦女參政論者', '1928年人民代表（平等投票權）法令', '後重建時期的剝奪投票權', '美利堅合衆國憲法第十五條修正案', '女性參政權']\n",
            "['霍華德·菲利普斯·洛夫克拉夫特', '古典制約', '犬', '伊萬·巴甫洛夫']\n",
            "['淮揚菜', '蘇菜', '江浙菜', '龍江菜', '上海菜']\n",
            "['康沃爾冰川', '麥克貝恩山', '迪圖瓦冰原島峯', '康韋爾山', '福派峯']\n",
            "['幻燈片投影機', '幻燈機', '訊息', '幻燈片', '讀者_(雜誌)']\n",
            "['中華人民共和國', '汕頭市金山中學', '廣東以色列理工學院', '中華人民共和國政府', '香港']\n",
            "['鰲拜', '班布爾善', '康熙帝', '王登聯', '清朝君主列表']\n",
            "['北宋', '包拯', '郭希仁', '包繶', '包玉書']\n",
            "['草鴞屬', '草鴞科', '慄鴞屬', '非洲草鴞', '短耳鴞']\n",
            "['博古', '莫斯科']\n",
            "['臺灣大學卡通漫畫研究社', '臺灣漫畫月刊', '臺灣漫畫雜誌', '動漫向上推廣協會', '亞基拉']\n",
            "['審查制度', '投票制度', '制度', '隋朝']\n",
            "['關羽信仰', '關羽', '中國神話人物列表', '董奉', '羅士信']\n",
            "['魔力月光', '艾倫', '伍迪·艾倫']\n",
            "['澳門2010年度頒授勳章、獎章和獎狀名單', '澳門2019年度頒授勳章、獎章和獎狀名單', '澳門2011年度頒授勳章、獎章和獎狀名單', '澳門2018年度頒授勳章、獎章和獎狀名單', '澳門2016年度頒授勳章、獎章和獎狀名單']\n",
            "['政治']\n",
            "['李安', '臺灣電影', '柏林', '屏東縣', '臺灣']\n",
            "['維納斯', '紀念日', '4月2日', '羅馬']\n",
            "['歐陸舞曲', '在空中漫步', '電子舞曲', '北美洲', '兒歌']\n",
            "['核武器擁有國列表', '中華民國與大規模殺傷性武器', '核武器擴散', '核能流言終結者', '關於核武器的爭論']\n",
            "['信義安和站', '臺電大樓站', '西門地下街', '西門緊急停靠站', '西門站']\n",
            "['宦官', '日本皇室', '中國宦官', '王室', '血親']\n",
            "['貝尼託·胡亞雷斯', '羅伯特·託德·林肯', '林肯海', '法國武裝干涉墨西哥', '美墨戰爭']\n",
            "['癌細胞', '癌變', '突變', '壞死', '神經母細胞瘤']\n",
            "['排球', '虹口足球場', '約翰·克魯伊夫競技場', '足球場']\n",
            "['高行健', '童偉格', '人工合成牛胰島素與諾貝爾獎', '諾貝爾生理學或醫學獎', '各國諾貝爾獎得主人數']\n",
            "['硫', '超強鹼', '1,3-二甲基丙撐脲', '氧化鋅', '肥料']\n",
            "['殘唐五代史演義', '三國演義', '東周列國志', '隋唐演義', '於少保萃忠全傳']\n",
            "['軟氣槍', '槍械暴力', '抑制器', '開放式槍栓', '中折式']\n",
            "['日本投降', '第二次世界大戰', '第二次國共內戰', '第二次世界大戰對日戰爭勝利紀念日', '日本']\n",
            "['威拉德·博伊爾', '歐內斯特·勞倫斯', '伯特倫·布羅克豪斯', '歐內斯特·沃爾頓', '格哈德·赫茨貝格']\n",
            "['紐西蘭人口', '新西蘭王國', '奧克蘭大區', '華裔新西蘭人', '新澤西州']\n",
            "['輻射海百合', '海林檎', '脊椎動物', '假海百合', '半海百合']\n",
            "['氰化鋁', '氰化鋰', '鹼性氧化物', '氟硼酸', '鹼性電池']\n",
            "['總統制', '政府首腦', '立法機關', '國防部', '行政法']\n",
            "['五虎將', '張飛', '徐嬌', '廣東五虎之鐵拳無敵孫中山', '張鵬飛']\n",
            "['會員', '比爾', '比爾·比紹普']\n",
            "['京臺高速鐵路', '京奉鐵路', '京張鐵路', '京九直通車', '中華人民共和國鐵路運輸']\n",
            "['寒武紀大爆發', '始祖動吻蟲', '寒武紀_(消歧義)', '南北朝', '中國']\n",
            "['印度總理', '納倫德拉·莫迪', '印度獨立運動', '納爾遜·曼德拉', '瓦拉哈吉里·文卡塔·吉里']\n",
            "['中國人民解放軍武漢軍區', '中國人民解放軍河南省軍區', '中國人民解放軍湖北省軍區', '中國人民解放軍昆明軍區', '中國人民解放軍武漢軍區空軍']\n",
            "['第四套橫式新臺幣', '新臺幣', '臺北最高電影票房收入列表', '標示', '方法']\n",
            "['耶路撒冷舊城', '耶路撒冷', '耶路撒冷區', '新耶路撒冷', '耶路撒冷交通']\n",
            "['爻', '八卦', '六爻神卦', '穆天子傳', '周芷若']\n",
            "['天主教亞穆蘇克羅教區', '穆罕默德·米安·蘇姆羅', '阿比讓費利克斯·烏弗埃-博瓦尼國際機場', '人口超過十萬人之巴西城市列表', '若望-伯多祿·庫特瓦']\n",
            "['歐裔美國人', '華裔美國人', '亞裔美國人', '俄裔美國人', '臺灣裔美國人']\n",
            "['臺北美國學校', '臺北市私立新民國民小學', '中華人民共和國教育', '臺灣國中教育', '德育及國民教育科']\n",
            "['弗里德里希·阿道夫·艾伯特', '路德城維滕貝格', '萊比錫孟德爾頌音樂戲劇學院', '維多利亞和阿爾伯特博物館', '德累斯頓']\n",
            "['中國', '物流', '中國歷史', '中國猶太人', '中國人']\n",
            "['保羅·萊瑟', '艾米·舒默的內心世界', '上班狂人', '六場危事', '情迷巴塞隆拿']\n",
            "['佛羅倫薩', '佛羅倫薩共和國', '博納羅蒂之家', '佛羅倫斯公國', '城邦']\n",
            "['帝國生命保險臺北支店', '臺中市役所', '中華民國（臺灣）', '臺北市國定古蹟列表', '臺北市直轄市定古蹟列表']\n",
            "['臺灣省政府', '臺東縣政府', '南投縣政府', '花蓮縣政府', '臺灣省政府建設廳']\n",
            "['軟件測試', '自動化測試', '全國計算機技術與軟件專業技術資格（水平）考試', '氣相色譜法-質譜聯用', 'GRE']\n",
            "['軟實力', '銳實力', '巧實力', '硬實力', '國家實力綜合指數']\n",
            "['波士頓諮詢公司', '波士頓', '數碼港', '臺中市政府經濟發展局', '金融']\n",
            "['安德斯·海爾斯伯格', 'JBuilder', 'Borland', '丹麥議會', 'Delphi']\n",
            "['少女漫畫', '少女時代', '女孩', '地球一小時', '震盪波蠕蟲']\n",
            "['雙氫鍵', '氫氣焊接', '共價鍵', '氫氣', '分子']\n",
            "['隋朝']\n",
            "['輕量級標記語言', '語音合成標記語言', '標記_(程式語言)', '語言', 'XBRL']\n",
            "['軟實力', '銳實力', '硬實力', '巧實力', '國家實力綜合指數']\n",
            "['亞爾諾國王', 'AFI百年百大明星', '威爾第號列車', '蘇利·普呂多姆', '歐內斯特·海明威']\n",
            "['歐幾里得空間', '蟲洞', '空間_(數學)', '歐幾里得距離', '普通蚯蚓']\n",
            "['李祖德', '邱文達', '臺北醫學大學', '高雄醫學大學', '專業倫理']\n",
            "['中國科舉制度', '拔貢', '科舉', '投票制度', '審查制度']\n",
            "['歐洲聯盟成員國', '歐洲聯盟成員國政治制度列表', '歐洲聯盟專門機構', '地中海聯盟', '歐洲聯盟歷史']\n",
            "['博納羅蒂之家', '佛羅倫薩共和國', '佛羅倫薩大學', '佛羅倫薩', '佛羅倫斯公國']\n",
            "['怦然心動的人生整理魔法', '實藤惠秀', '近藤麻理惠', '豐臣秀吉', '釋印順']\n",
            "['綠山城縣', '伊沃瓦', '綠山城', '薩根', '茨韋西門']\n",
            "['馬世莉', '兄弟姊妹']\n",
            "['2000年俄羅斯總統選舉', '俄羅斯聯邦安全會議', '美國總統', '副總統', '俄羅斯副總統']\n",
            "['湖畔詩人', '英格蘭和威爾士', '赫爾維林峯', '威廉·赫茲利特', '英格蘭教會']\n",
            "['臺中市歷史', '屏東縣公車', '臺中市公共自行車租賃系統站點列表', '屏東縣東港鎮東光國民小學', '國立屏東高級中學']\n",
            "['馬丁·路德·金恩遇刺案', '孟斐斯', '馬丁·路德·金', '英格蘭人', '馬丁·路德·金紀念日']\n",
            "['克勒塔', '赫革摩涅', '奧克索', '歐芙洛緒涅', '希臘神祇及神話人物列表']\n",
            "['1812序曲', '俄法戰爭', '拿破崙戰爭', '拿破崙三世', '博羅金諾戰役']\n",
            "['鍼灸', '街頭報紙', 'Wow!訊號', '報紙', '線上報紙']\n",
            "['佛羅倫薩共和國', '佛羅倫薩', '佛羅倫斯公國', '城邦', '博納羅蒂之家']\n",
            "['馬克思學說研究會', '馬克思主義思想流派', '馬克思主義政治經濟學', '西方馬克思主義', '對馬克思主義的批評']\n",
            "['古寧頭戰役', '中華民國大陸時期', '金門八三一', '金門炮戰', '中蘇邊界衝突']\n",
            "['臺東垃圾焚化廠', '城西垃圾焚化廠', '臺東縣', '海渡發電廠', '臺灣垃圾焚化廠列表']\n",
            "['完顏氏', '女真', '漢姓', '女真大字', '金朝的民族歧視']\n",
            "['基隆市', '新北市', '中華民國疆域', '雨山區', '高雄市']\n",
            "['洋蔥', '維吾爾語', '羅布話', '艾努語', '維吾爾語文字']\n",
            "['吸血鬼', '地獄', '親屬', '定居', '處_(佛教)']\n",
            "['李祖德', '邱文達', '臺北醫學大學', '高雄醫學大學', '專業倫理']\n",
            "['北阿坎德邦', '奈尼塔爾', '奈尼塔爾總督府', '北阿坎德邦行政區劃', '魯德勒布勒亞格縣']\n",
            "['朝陽大學', '西北政法大學', '中國政法大學國際法學院', '中華人民共和國教育', '中國人民大學法學院']\n",
            "['伊薩基', '奧吉吉亞島', '索村', '讓·德貝當古', '伊卡洛斯']\n",
            "['力', '顏色', '實體', '屬性', '構象改變']\n",
            "['經典力學', '牛頓第二運動定律', '經濟物理學', '動力學', '現代物理學']\n",
            "['上籃', '烏龍球', '籃球']\n",
            "['俄法戰爭', '拿破崙戰爭', '低強度戰爭', '拿破崙一世', '砲艦戰爭']\n",
            "['大足石刻', '石壁石刻', '北', '中國', '中國北方航空']\n",
            "['聶華苓', '編輯', '自由中國_(雜誌)']\n",
            "['中華民國領土爭端', '中華人民共和國領土變化', '高雄市私立普門高級中學', '高雄市行政區劃', '高雄縣']\n",
            "['民族國家', '無國家民族', '民族主義', '中國民族列表', '臺灣人']\n",
            "['豫劇', '非金屬性']\n",
            "['湘鄂川黔革命根據地舊址', '九江市', '安慶市', '麻城市', '江西省']\n",
            "['軌跡', '拱點', '不動點', '距離', '原口證']\n",
            "['雲林定遠電臺', '臺南天馬電臺', '希望之聲國際廣播電臺', '第二次冷戰', '張銘清訪臺爭議與衝突']\n",
            "['馬克思學說研究會', '馬克思主義思想流派', '馬克思主義政治經濟學', '西方馬克思主義', '對馬克思主義的批評']\n",
            "['標準舞', '芭蕾舞裙', '女性']\n",
            "['古菌', '真核生物', '真菌', '細菌', '細菌結構']\n",
            "['中央部屬高校', '技術型高級中等學校', '省部共建', '地方所屬高校', '中國政法大學國際法學院']\n",
            "['國際生理科學聯合會', '電子科技大學', '聖彼得堡國立電子科技大學', '敏實科技大學', '萬能科技大學']\n",
            "['漢殤帝', '中國皇帝', '漢質帝', '漢文帝', '東漢']\n",
            "['弗朗西斯科·佛朗哥', '弗朗西斯科·佛朗哥獨裁', '西班牙內戰', '第二次世界大戰期間的西班牙', '法西斯主義']\n",
            "['臺東製糖', '臺灣製糖', '明治製糖', '鹽水港製糖', '臺東拓殖製糖']\n",
            "['中華民國總統', '中華民國國務總理', '韓國總統列表', '中華民國總統及副總統在臺灣之公民直接選舉與罷免', '2017年大韓民國總統選舉']\n",
            "['馬克思學說研究會', '馬克思主義思想流派', '對馬克思主義的批評', '西方馬克思主義', '馬克思主義政治經濟學']\n",
            "['徐翔_(投資家)', '提供侵入、非法控制計算機信息系統程序、工具罪', '內線交易', '非法制造、買賣、運輸、郵寄、儲存槍支、彈藥、爆炸物罪', '行政機關']\n",
            "['信息及通信技術', '首席技術官', '基於位置的服務', '低可偵測性技術', '技術就緒指數']\n",
            "['民族國家', '民族主義', '無國家民族', '中華人民共和國民族政策', '中國民族列表']\n",
            "['語言教育', '授課語言', '母語教學', '微調中學教學語言', '中國地方語言教學']\n",
            "['美洲臺灣時報', '自由時報', '臺灣電影', '臺北時報', '臺灣時報']\n",
            "['即墨區']\n",
            "['阿姆斯特丹']\n",
            "['剛果民主共和國華人', '約瑟夫·卡薩武布', '老楞佐·蒙森沃·帕辛亞', '剛果民主共和國', '首都']\n",
            "['海港–加州大學洛杉磯分校醫學中心', '聖地牙哥加利福尼亞大學', '蘇菲亞·柯波拉', '學生', '成人電影']\n",
            "['隋煬帝', '楊尚昆', '單一制', '中央集權', '除斥期間']\n",
            "['寒武紀大爆發', '始祖動吻蟲', '寒武紀_(消歧義)', '寒武紀科技', '石松門']\n",
            "['歐洲中心主義', '世界語', '感覺系統', '中東問題有關四方', '原始印歐語動詞']\n",
            "['國家元首', '楊尚昆', '隋煬帝', '單一制', '中華人民共和國政府']\n",
            "['永嘉之亂', '五胡十六國', '劉聰', '晉朝歷史', '胡亢']\n",
            "['中華民國領土爭端', '高雄縣', '臺灣歷史', '中國西南地區', '臺灣清治時期']\n",
            "['射鵰英雄傳續集', '射鵰英雄傳_(1977年電影)', '射鵰英雄傳', '射鵰英雄傳EAGLET', '射鵰三部曲']\n",
            "['謝磷', '明朝']\n",
            "['雀形目', '安第斯動冠傘鳥', '鳥']\n",
            "['印度', '不丹印度教', '印度教', '尼泊爾印度教', '印度基督教']\n",
            "['蠟筆小新動畫集數列表', '蠟筆小新', '作者', '臼井儀人', '情節']\n",
            "['信天翁科', '桑氏遠洋鳥', '黑腳信天翁', '風神翼龍屬', '印度洋-太平洋海域']\n",
            "['繸鱗小沙丁魚', '白小沙丁魚', '隆背小沙丁魚', '黃澤小沙丁魚', '沙丁魚']\n",
            "['楊小凱', '古典經濟學', '奧地利學派', '楊凱麟', '國際經濟學']\n",
            "['工藝美術', '日本國寶', '技術', '工業技術研究院', '王清霜']\n",
            "['微軟', '各國立法機關列表', '立法機關', '議會']\n",
            "['臺灣氣候', '亞熱帶', '副熱帶溼潤氣候', '1953年太平洋颱風季', '1952年太平洋颱風季']\n",
            "['遺傳性疾病', '疾病', '病理學', '併發症', '預防醫學']\n",
            "['紅磚大學', '伯明翰大學', '英格蘭', '伯明翰', '英國']\n",
            "['中華人民共和國大元帥', '英國陸軍元帥列表', '羅東進', '羅榮桓', '中國人民解放軍總幹部部']\n",
            "['網紋長頸鹿', '長頸鹿', '馬賽長頸鹿', '始長頸鹿', '長頸鹿總科']\n",
            "['世紀']\n",
            "['勞動價值理論', '中國歷史', '政績工程', '突厥語大詞典', '價值']\n",
            "['亞爾諾國王', '威廉·戈爾丁', '威爾第號列車', '朱塞佩·威爾第', '喜劇']\n",
            "['臺中市立後綜高級中學', '技術型高級中等學校', '藍衣社', '臺中市立大里高級中學', '社']\n",
            "['羽毛', '氣候', '亞熱帶', '咬鵑科', '熱帶']\n",
            "['音系學', '等韻學', '漢語史', '語言學', '漢語']\n",
            "['那加蘭邦', '七姐妹邦', '卡納塔克邦', '恰蒂斯加爾邦', '曼尼普爾邦']\n",
            "['民族國家', '貴州省民族構成列表', '新疆維吾爾自治區民族構成列表', '山東省民族構成列表', '海南省民族構成列表']\n",
            "['詞曲作家', '音樂出版社', '作曲家', '古典音樂作曲家列表', 'SKE48相關作品']\n",
            "['臺中市私立曉明女子高級中學', '臺中市立臺中女子高級中等學校', '花蓮縣私立海星高級中學', '國立彰化女子高級中學', '校園民歌']\n",
            "['穀梁傳', '春秋_(書)', '春秋']\n",
            "['包拯', '韋正貫', '神化', '雲南報銷案', '南宋']\n",
            "['徐太志']\n",
            "['2016年8月18日月食', '食_(天文現象)', '月球晝夜線', '2008年8月16日月食', '2006年9月7日月食']\n",
            "['基因工程', '政績工程', '細胞工程', '基因工程藥物', '基因水平轉移']\n",
            "['北子島', '南子島', '越南歷史', '黃巖島主權問題', '太平島']\n",
            "['粉末', '海洛因']\n",
            "['伊朗歷史', '波斯人', '伊朗間奏曲', '阿卜杜勒-麥立克·本·麥爾萬·本·赫凱姆', '阿卜杜勒-邁吉德一世']\n",
            "['小龍女', '楊過', '合']\n",
            "['詩人', '中國古典詩詞', '毛澤東詩詞', '詩詞', '音階']\n",
            "['懷孕初期出血', '陰道炎', '預防醫學', '流產', '死產']\n",
            "['人', '自然', '超自然現象', '生物地理學', '傳統']\n",
            "['臺灣', '阿美族']\n",
            "['天球赤道', '木星的衛星', '黃道塵', '黃道十二宮', '木星日食']\n",
            "['宋潢_(嘉慶壬戌進士)', '魏聯奎', '胡士相', '山西省革命委員會', '山西省']\n",
            "['印度教神話', '因陀羅', '印度', '阿闥婆吠陀', '吠陀梵語']\n",
            "['軌道共振', '長期共振', '軌道根數', '太陽系探索年表', '日心軌道']\n",
            "['露琵塔·尼詠歐', '湯姆·克魯斯', '征服情海', '保送入學', '喬治·湯姆斯']\n",
            "['香港電腦商會', 'PCM電腦廣場', 'SETI@home']\n",
            "['冰淇淋', '義式冰淇淋', '蛋卷冰淇淋', '甜品', '冰品']\n",
            "['臺灣大學卡通漫畫研究社', '臺灣漫畫雜誌', '臺灣動畫歷史', '臺灣漫畫月刊', '臺灣動畫']\n",
            "['新阿姆斯特丹', '美洲', '國際金融中心', '阿姆斯特丹']\n",
            "['艾伯特縣_(科羅拉多州)', '科羅拉多州行政區劃', '索科羅縣', '科羅拉多州市鎮列表', '科羅拉多斯普林斯']\n",
            "['楚文化', '鍾祥市', '湖湘文化', '吳越文化', '中國']\n",
            "['絲綢之路', '絲綢歷史', '海上絲綢之路', '中國', '羅盤方位']\n",
            "['同配生殖', '雌配子體', '配子', '性別', '世代交替']\n",
            "['白話字', '海南話白話字', '唐話番字初學', '客家白話字', '客語白話字']\n",
            "['南海潮', '歌仔', '西北民歌', '民歌', '南海']\n",
            "['鄭周永', '現代集團', '鄭成功', '公司集團', '臺灣明鄭時期']\n",
            "['卡夫卡博物館', '弗朗茨·卡夫卡', '作品']\n",
            "['納米比亞', '海平面']\n",
            "['擂茶', '茶', '草本茶', '茶葉蛋', '東方美人茶']\n",
            "['吳素英', '白雪仙', '千里駒', '陳輝玲', '白駒榮']\n",
            "['耶和華見證人和三位一體', '神之子', '聖靈', '三位一體', '聖子']\n",
            "['川瀨夏菜', '川井田夏海', '中元日芽香', '灰姑娘', '廣島縣']\n",
            "['維納斯', '三月', '紀念日', '羅馬']\n",
            "['猶太教與基督教', '基督教歷史', '猶太教', '密傳基督教', '基督教藝術']\n",
            "['薩特延德拉·納特·玻色', '玻爾-愛因斯坦之爭', '諾貝爾生理學或醫學獎', '阿爾伯特·愛因斯坦', '愛因斯坦-西拉德信']\n",
            "['1月1日', '8月26日', '7月4日', '7月26日', '8月21日']\n",
            "['海衛十一', '海王星的衛星', '土星的衛星', '土衛六', '小行星衛星']\n",
            "['查理·卓別林', '查理·卓別林影片輯', '日本流行文化', '老查理·卓別林', '悉尼·厄爾·卓別林']\n",
            "['臺東製糖', '臺灣製糖', '明治製糖', '南靖糖廠', '鹽水港製糖']\n",
            "['巴黎國立高等音樂舞蹈學院', '張安麟', '美靈', '阿希爾-克洛德·德彪西', '阿希爾克洛德·德彪西']\n",
            "['雲林定遠電臺', '臺南天馬電臺', '臺灣歷史', '臺灣日治時期', '中國華藝廣播公司']\n",
            "['鎖麟囊', '上海市']\n",
            "['莓果', '果實', '草莓', '腰果', '梨果']\n",
            "['仙女座IV', '仙女座X', '仙女座VII', '仙女座υb', '柯伊伯帶']\n",
            "['臺灣三山善社', '臺灣清治時期', '蔡兆章', '臺灣歷史', '潮州裔臺灣人']\n",
            "[]\n",
            "['穀梁傳', '春秋_(書)', '春秋']\n",
            "['韋羅莎', '竹內瑪莉亞', '演員', '山下達郎']\n",
            "['馬克思學說研究會', '馬克思主義思想流派', '西方馬克思主義', '後馬克思主義', '新馬克思主義']\n",
            "['新石器時代', '中石器時代', '中國中石器文化列表', '石器時代', '繩紋時代']\n",
            "['中國佛教', '部派佛教', '斯里蘭卡佛教', '上座部', '佛教歷史']\n",
            "['準穀物', '穀物', '大麥', '禾本科', '麥']\n",
            "['密碼學', '量子密鑰分發', '信息論', '密碼學歷史', '量子密碼學']\n",
            "['亞爾諾國王', 'AFI百年百大明星', '蘇利·普呂多姆', '威爾第號列車', '歐內斯特·海明威']\n",
            "['允䄉', '仁皇后', '孝懿仁皇后', '九子奪嫡', '孝恭章皇后']\n",
            "['黃道', '小行星', '太陽系小天體', '日心軌道', '主小行星帶']\n",
            "['峯景餐廳集團', '香港科技大學', '農場餐廳', '蒙民偉', '茶餐廳']\n",
            "['黃豆粉', '大豆', '麻婆豆腐', '豆漿', '純豆腐鍋']\n",
            "['被忽視熱帶病', '心血管疾病', '疾病', '恰加斯病', '自體免疫性疾病']\n",
            "['新生代', '植物', '被子植物', '植物激素', '哺乳動物']\n",
            "['苯乙烯', '二乙烯酮', '乙烯四甲酸二酐', '二苯乙烯酮', '氯乙烯']\n",
            "['伯茲克里克_(喬治亞州)', '阿拉斯加州行政區劃', '瓦爾多斯塔', '墨西哥時區', '按人口排列的美國城市列表']\n",
            "['排球', '北美洲', '體育運動']\n",
            "['徐太志', '婚姻']\n",
            "['徐志摩', '志摩', '家庭', '英國']\n",
            "['披頭士樂隊獲獎與提名列表', '行進樂隊', '披頭四樂隊']\n",
            "['通用產品代碼', '二維碼', 'QR碼', '目標代碼', '均勻碼理事會']\n",
            "['美國訴溫莎案', '艾奧瓦州同性婚姻', '奧貝格費爾訴霍奇斯案', '艾根訴加拿大案', '美國同性婚姻']\n",
            "['犬', '竹內瑪莉亞', '山下達郎']\n",
            "['新澤西州', '布魯內爾大學', '德魯大學', 'J·D·德魯']\n",
            "['艾科·伊本', '伊利諾伊大學威拉德機場', '伊利諾大學芝加哥分校', '伊利諾大學春田分校', '伊利諾伊大學厄巴納香檳分校']\n",
            "['天衛十三', '天衛九', '第一對開本', '威廉·莎士比亞', '愛丁堡公爵']\n",
            "['漢', '漢趙', '劉聰', '劉淵', '劉備']\n",
            "['稱謂', '拿督']\n",
            "['九江市', '湖口縣', '九江_(消歧義)', '九江市_(縣級)', '九江地區']\n",
            "['聖誕節', '行憲紀念日', '教會學校', '行憲']\n",
            "['馬島靈貓', '獺狸貓', '貓', '短尾貓', '馬島長尾狸貓']\n",
            "['公共廣播', '挪威廣播公司', '廣播', '韓國廣播公司', '英國廣播公司']\n",
            "['光學望遠鏡', '射電望遠鏡', '天象儀', '哈勃空間望遠鏡', '極大望遠鏡']\n",
            "['馬島靈貓', '獺狸貓', '豹貓', '短尾貓', '馬島長尾狸貓']\n",
            "['二胡', '蛇']\n",
            "['水星凌日_(土星)', '水星凌日', '金星凌日', '凌日', '水星']\n",
            "['薄熙來', '上訴']\n",
            "['活路外交', '外交政策', '韓國外交', '一箇中國', '孤立主義']\n",
            "['索爾', '半神', '雷神', '神', '索爾_(漫威漫畫)']\n",
            "['音樂劇']\n",
            "['糖尿病酮症酸中毒', '妊娠糖尿病', '糖尿病', '1型糖尿病', '抗糖尿病藥']\n",
            "['香港獨立運動', '香港郊野公園', '香港醫療改革', '香港浸信會醫院', '香港']\n",
            "['金朝', '漢服運動', '漢族對周邊民族服飾的影響', '華服', '漢服']\n",
            "['馬島靈貓', '獺狸貓', '貓', '短尾貓', '馬島長尾狸貓']\n",
            "['紅磚大學', '伯明翰大學', '伯明翰', '英國', '1000']\n",
            "['戊戌變法', '慈禧太后', '戊戌六君子', '兩宮聽政', '康有爲']\n",
            "['菲律賓航空', '富士膠片商業創新', '照之富士春雄', '民族服飾', '富士']\n",
            "['貝尼託·胡亞雷斯', '羅伯特·託德·林肯', '林肯海', '法國武裝干涉墨西哥', '胡齊斯坦省']\n",
            "['仄費羅斯', '玻瑞阿斯', '諾託斯', '歐羅斯', '梅斯羅斯']\n",
            "['戈登·拉姆齊', '斯特拉福德', '簡尼夫·班納', '西蒙·柏奇', '法蒂瑪的三個祕密']\n",
            "['蟲媒花', '食用昆蟲', '昆蟲', '蜂花粉', '蜂']\n",
            "['分鐘', '符號函數', '數', '數學符號', '複數_(數學)']\n",
            "['臺灣荷蘭統治時期', '臺灣經濟史', '臺灣歷史', '聯合尼德蘭主權公國', '糖業改良意見書']\n",
            "['馬世莉', '心肌梗死', '兄弟姊妹']\n",
            "['諾丁漢大學', '謝菲爾德大學', '紅磚大學', '伯明翰大學', '科林·倫福儒']\n",
            "['決定性問題', '代數組合學', '動態規劃', '問題', '計算複雜性理論']\n",
            "['南海學園', '臺北府城東門', '中華民國（臺灣）', '原臺灣軍司令部', '臺北市']\n",
            "['印度諾貝爾獎得主列表', '諾貝爾獎得主列表', '京都大學諾貝爾獎得主列表', '諾貝爾獎', '布魯塞爾首都大區市鎮列表']\n",
            "['英格蘭足球超級聯賽', '英超亞洲盃', '英超四大豪門', '英格蘭', '英格蘭足球代表隊']\n",
            "['新槐站', '上海站', '青峴嶺站', '哈爾濱站', '臺南車站']\n",
            "['烏拉圭']\n",
            "['印度教神話', '印度', '英屬印度', '印度民族起義', '印度教']\n",
            "['明憲宗', '明朝', '李賢_(大學士)', '明朝內閣', '明朝那些事兒']\n",
            "['沈鈞儒', '孫頤臣', '沈謙', '沈墉', '祖籍']\n",
            "['新聞聯播', 'CBS晚間新聞', '全國新聞聯播', 'NBC晚間新聞', '2009無線節目巡禮']\n",
            "['稻', '孟加拉國農業', '小麥', '食物', '中非共和國經濟']\n",
            "['瓜分非洲', '剛果民主共和國', '剛果民主共和國貧窮問題', '澳大利亞', '法國']\n",
            "['颱風', '氣候']\n",
            "['核心家庭', '社會', '核心', '家庭', '人類']\n",
            "['沙洛特·蔡', '波爾布特', '柬埔寨', '化名', '明星']\n",
            "['菊科', '真雙子葉植物', '雙子葉植物', '向日葵屬', '桔梗類植物']\n",
            "['吉林工業大學', '吉林大學東區', '吉林大學西區', '吉林省人民法院列表', '吉林大學南湖校區']\n",
            "['英國授勳及嘉獎制度', '馬來西亞聯邦授勳及嘉獎制度', '法國榮譽軍團勳章', '榮譽獎章', '中華民國勳章獎章列表']\n",
            "['哈佛-麻省理工醫療科技學院', '工程學分支列表', '南京大學', '工程學', '中華民國國家科學及技術委員會']\n",
            "['東帝汶']\n",
            "['印度總理', '2019年南非大選', '印度', '馬來西亞印度國民大會黨', '印度政治']\n",
            "['軌道共振', '軌道根數', '長期共振', '太陽系探索年表', '柯克伍德空隙']\n",
            "['馬克思學說研究會', '馬克思主義思想流派', '對馬克思主義的批評', '西方馬克思主義', '馬克思主義政治經濟學']\n",
            "['劉若英', '劇情片', '愛情片', '愛情呼叫轉移2：愛情左右', '周冬雨']\n",
            "['澎湖廳長', '澎湖縣', '臺灣海峽']\n",
            "['百科全書，或科學、藝術和工藝詳解詞典', '百科全書派', '德尼·狄德羅', '大美百科全書', '大英百科全書']\n",
            "['軟件開發工具包', '軟件', '開源硬件', '應用程序', '軟件開發']\n",
            "['澳門2011年度頒授勳章、獎章和獎狀名單', '澳門2012年度頒授勳章、獎章和獎狀名單', '澳門2019年度頒授勳章、獎章和獎狀名單', '澳門2010年度頒授勳章、獎章和獎狀名單', '澳門2018年度頒授勳章、獎章和獎狀名單']\n",
            "['臺北市私立道明外僑學校', '臺灣國際學校列表', '臺北市政府', '臺北市立陽明高級中學', '臺北市北投區明德國民小學']\n",
            "['電力電子學', '變流技術', '直流-直流轉換器', '直流電動機', '開關模式電源']\n",
            "['擂茶', '茶', '茶葉蛋', '草本茶', '東方美人茶']\n",
            "['臺東垃圾焚化廠', '城西垃圾焚化廠', '臺灣垃圾焚化廠列表', '臺東縣', '永康垃圾焚化廠']\n",
            "['裸子植物', '胚珠', '子房', '雙受精', '被子植物']\n",
            "['語言', '歐洲聯盟語言', '絕跡語言', '諾維亞語', '世界語']\n",
            "['路易斯·伊納西奧·盧拉·達席爾瓦', '伊朗伊斯蘭革命', '2009年諾貝爾和平獎', '伊朗', '希林·伊巴迪']\n",
            "['Metro', 'Dandelion', '百多祿', '蒲公英']\n",
            "['三角', '不等邊三角形', '三角學', '中點三角形', '黃金三角形']\n",
            "['特別攻擊隊', '奠邊府戰役', '大田戰役', '東京快車', '補給線']\n",
            "['海盆', '日本海', '海', '日本', '碟']\n",
            "['韓國電視劇', '電視劇', '橫濱市', '大學', '橫濱國立大學']\n",
            "['非分熟女', '原諒他77次', '蔡卓妍', '溫哥華', '舞者']\n",
            "['保送入學', '湯姆·克魯斯', '湯姆·漢克斯', '獎勵', '湯姆·班克斯']\n",
            "['獅子座', '獅子座56', '獅子座79', '獅子座ψ', '獅子座ρ']\n",
            "['保羅·狄拉克', '約翰·科克', '費米-狄拉克統計', '狄拉克方程式', '亨德里克·洛倫茲']\n",
            "['環境保護', '環境資源管理', '政府間氣候變化專門委員會', '質量守恆定律', '質量']\n",
            "['第五姓', '九方姓', '昭武九姓', '延姓', '閩人三十六姓']\n",
            "['史超域', '聖保羅書院', '史璧琦', '源迪恩', '英華書院']\n",
            "['清華學派', '陳寅恪', '王國維', '清華大學人文學院', '趙元任']\n",
            "['有限集合', '遞歸集合', '無限集合', '集合代數', '集合域']\n",
            "['昆蟲', '愛丁堡大學', '愛丁堡']\n",
            "['細菌結構', 'L型細菌', '細菌', '細菌形態分類', '革蘭氏染色']\n",
            "['史前時代', '石器時代', '中國史前文化', '新石器時代', '中國中石器文化列表']\n",
            "['馬克思學說研究會', '馬克思主義思想流派', '西方馬克思主義', '後馬克思主義', '新馬克思主義']\n",
            "['七姐妹邦', '那加蘭邦', '卡納塔克邦', '恰蒂斯加爾邦', '曼尼普爾邦']\n",
            "['奧斯卡', '葛萊美獎', '奧斯卡最佳實景短片獎', '奧斯卡金像獎', '奧斯卡最佳視覺效果獎']\n",
            "['幻燈片投影機', '幻燈機', '閱聽人', '濫發電子訊息', '災防告警細胞廣播訊息系統']\n",
            "['莫斯科小劇院', '莫斯科大劇院', '劇場', '莫斯科']\n",
            "['特別攻擊隊', '中國抗日戰爭', '奠邊府戰役', '大田戰役', '五號作戰']\n",
            "['秦腔', '無產階級', '文化', '大躍進', '1966年']\n",
            "['法律', '中華民國法律', '信賴保護原則', '臺灣法律', '古羅馬']\n",
            "['永嘉之亂', '劉聰', '五胡十六國', '劉粲', '盧志']\n",
            "['氣象衛星', '氣象衛星雲圖', '地球觀測衛星', '風雲系列衛星', '土星的衛星']\n",
            "['太平洋', '美國', '邦', '屬地']\n",
            "['珠江', '河流', '中國', '流量', '長度']\n",
            "['證明', '零知識證明', '交互式證明系統', '數學證明', '證明論']\n",
            "['漢殤帝', '中國皇帝', '漢質帝', '漢文帝', '東漢']\n",
            "['麻原彰晃', '真理標準大討論', '奧姆真理教的顛覆國家計劃', '真理國', '日本']\n",
            "['索馬利蘭國旗', '索馬里國旗', '索馬里蘭', '貝寧國旗', '北馬其頓國旗']\n",
            "['啤酒', '朝鮮民主主義人民共和國的啤酒', '自釀啤酒', '五星啤酒', '華潤啤酒']\n",
            "['新聞聯播', '公視新聞', '全國新聞聯播', '620新聞直播間', '焦點訪談']\n",
            "['星期五', '13號星期五', '星期中的日子', '耶穌基督後期聖徒教會', '基督教中的耶穌']\n",
            "['民族國家', '貴州省民族構成列表', '新疆維吾爾自治區民族構成列表', '山東省民族構成列表', '海南省民族構成列表']\n",
            "['原諒他77次', '我老婆唔夠秤II：我老公唔生性', '關心妍', '歌手·當打之年', '蔡卓妍']\n",
            "['絲綢之路', '戰爭', '漢朝', '漢', '羅盤方位']\n",
            "['護照', '中華人民共和國護照', '中華民國護照', '難民旅行證', '旅行證件']\n",
            "['核子', '中子', '核裂變', '中子截面', '中子俘獲']\n",
            "['漢光武帝', '淮海戰役', '耿忠', '耿秉', '粟裕']\n",
            "['湖畔詩人', '英格蘭和威爾士', '赫爾維林峯', '威廉·赫茲利特', '沃爾特·司各特']\n",
            "['清朝君主列表', '宋仁宗', '中國皇帝', '明神宗', '大韓帝國皇帝']\n",
            "['標準舞', '服裝', '女性']\n",
            "[]\n",
            "['菩薩道', '上座部', '佛教', '佛教修行制度', '部派佛教']\n",
            "['MacOS']\n",
            "['先決條件', '行爲能力', '商業', '行爲']\n",
            "['宗教信仰哲學', '宗教哲學', '無宗教', '宗教自由', '世界主要宗教']\n",
            "['迪卡儂', '奧迪', '電動方程式', '運動畫刊', '將門']\n",
            "['煎餅餜子', '油餅', '大餅雞蛋', '煎餅_(日本)', '油條']\n",
            "['臺南公園', '觀象山', '象山公園', '臺中公園', '公園']\n",
            "['生物分類法', '分類學', '屬', '分類單元', '能量條件']\n",
            "['馬克思主義政治經濟學', '古典經濟學', '馬克思學說研究會', '政治經濟學批判', '對馬克思主義的批評']\n",
            "['一邊一國', '國', '中國']\n",
            "['東部南極洲', '西恩·威廉·史考特', '雷利·史考特', '史考特·普魯特', '史考特·詹森']\n",
            "['兄弟姊妹', '齊秦', '齊豫', '科學家']\n",
            "['中華人民共和國人權', '零死亡願景', '人權護衛者', '灣東願景', '國家人權博物館']\n",
            "['宜賓市', '仁懷市', '宜賓五糧液機場', '五糧液', '蘭溪市']\n",
            "['第三次世界大戰', '第二次冷戰', '21世紀技能', '第二次世界大戰', '世界技能大賽']\n",
            "['瑤池', '王天君', '松山慈惠堂', '西王母', '洞天']\n",
            "['中國科舉制度', '科舉', '考試院', '考試', '普通高等學校招生全國統一考試']\n",
            "['埃爾多拉多_(加利福尼亞州)', '希登瓦利_(印地安納州)', '利希滕瓦爾德', '埃爾多拉多縣', '非建制地區']\n",
            "['汕頭市金山中學', '廣東以色列理工學院', '香港', '麥理浩', '中共八大元老']\n",
            "['軍事演習', '樂山大佛', '大佛']\n",
            "['托馬斯·潘恩', '羅伯特·崔特·潘恩', '潘恩', '法國', '法語']\n",
            "['木衛五十', '木衛十四', '木星的衛星', '木衛四', '衛星']\n",
            "['程序員', '高級程序員']\n",
            "['異教', '黛安娜', '崇拜', '黛安娜·羅斯', '黛安娜·迪莫娃']\n",
            "['棲息地破壞', '生物多樣性', '生物多樣性行動計劃', '對維基百科的破壞', '生物多樣性國際日']\n",
            "['互動百科訴百度百科侵權事件', '僞基百科', '對維基百科的批評', '中文維基百科', '韓語維基百科']\n",
            "['臺灣省政府', '臺東縣政府', '南投縣政府', '花蓮縣政府', '臺灣省政府功能業務與組織調整']\n",
            "['奧林匹亞宙斯神廟', '埃及神廟', '竈神廟', '埃德富神廟', '帕德嫩神廟']\n",
            "['臺灣省政府', '臺東縣政府', '花蓮縣政府', '南投縣政府', '雲林縣政府']\n",
            "['許世友反革命集團案', '功夫_(電影)', '功夫瑜伽', '功夫', '中國']\n",
            "['懷化市第三中學', '懷化市', '蘭溪市', '湖南省行政區劃', '鶴城區']\n",
            "['墨索里尼之死', '吉亞科莫·馬泰奧蒂', '貝尼託·墨索里尼', '雷切爾·墨索里尼', '妻子']\n",
            "['福元路', '深圳市道路', '臺灣市區道路', '開元路_(臺南市北區)', '臺灣快速道路']\n",
            "['小龍女', '合']\n",
            "['伊拉克戰爭', '贖罪日戰爭', '戰爭', '義土戰爭', '三十年戰爭']\n",
            "['那加蘭邦', '七姐妹邦', '曼尼普爾邦', '恰蒂斯加爾邦', '卡納塔克邦']\n",
            "['臺北州立臺北第一中學校', '臺北州立臺北第四中學校', '北市六省中', '臺灣日治時期', '臺灣清治時期']\n",
            "['真空磁導率', '真空電容率', '絕對真空', '超光速', '自然單位制']\n",
            "['王實甫', '崇天曆', '統天曆', '欽天曆', '董解元']\n",
            "['金朝', '馬丁·路德·金', '唐朝', '姓', '金']\n",
            "['重量', '質量與重量的比較', '物體', '重量分析法', '原理']\n",
            "['赤足', '路', '心理作用']\n",
            "['荷馬史詩', '史詩', '集', '荷馬', '吉爾伽美什史詩']\n",
            "['公海艦隊自沉事件', '麗蠅號佈雷巡洋艦', '牛虻號佈雷巡洋艦', '公海艦隊', '巴登號戰列艦']\n",
            "['音樂出版社', '詞曲作家', '作曲家', '上海音樂出版社', '古典音樂作曲家列表']\n",
            "['水木清華BBS', '華南木棉BBS', '中國高等院校院系調整', '地方所屬高校', '中西部高校綜合實力提升工程']\n",
            "['分工', '上海市生活垃圾分類制度', '器官移植', '職能治療師', '異種移植']\n",
            "['亞裔美國人', '華裔美國人', '歐裔美國人', '臺灣裔美國人', '印度裔美國人']\n",
            "['臺北市松山區松山國民小學', '臺北市立龍山國民中學', '臺北市萬華區老松國民小學', '臺北市萬華區雙園國民小學', '松山文創園區']\n",
            "['法國武裝干涉墨西哥', '藍紫陸寄居蟹', '墨西哥國家憲兵', '墨西哥飲食', '貝尼託·胡亞雷斯']\n",
            "['鄭氏鸞', '兒子']\n",
            "['韓國國務總理', '韓國國務總理列表', '比利時聯邦政府', '國務總理大臣', '第一屆哈達內閣']\n",
            "['約瑟夫·博克斯霍爾', '泰坦尼克號', '泰坦尼克號輪機艙英雄紀念碑', '泰坦尼克號紀念燈塔', '哈羅德·洛']\n",
            "['鳥類生理解剖學', '鳥', '女性']\n",
            "['界_(生物)', '古蟲界', '源真核生物界', '非傳統生物', '真核轉錄']\n",
            "['李詩欽', '合勤科技', '旭新科技', '臺灣歷史', '英皇國際集團']\n",
            "['火', '全球變暖的效應', '火三角', '全球災難危機', '人類滅絕']\n",
            "['何鏡堂', '廣東金融學院', '廣東實驗中學', '華南師範大學法學院', '華南師範大學附屬中學']\n",
            "['硫', '硫氰酸鈷', '還原劑', '金化銫', '硫氰酸']\n",
            "['博馬', '剛果民主共和國華人', '金夏沙', '姆班扎恩古恩古', '利薩拉']\n",
            "['張玉安', '外籍講師', '管致中', '大學', '母校']\n",
            "['濟北郡', '崇義郡', '東官郡', '竟陵郡', '南北朝行政區劃']\n",
            "['迷你裙', '裙', '芭蕾舞裙', '標準舞', '女性']\n",
            "['弗朗西斯科·佛朗哥', '弗朗西斯科·佛朗哥獨裁', '西班牙內戰', '西班牙歷史', '西班牙共和國流亡政府']\n",
            "['秦邦憲舊居', '蘇聯總統', '蘇聯', '蘇聯最高領導人列表', '蘇聯最高蘇維埃']\n",
            "['伯茲克里克_(喬治亞州)', '瓦爾多斯塔', '佐治亞州行政區劃', '特勞恩地區埃跟多夫', '喬治亞州']\n",
            "['安德斯·海爾斯伯格', '丹麥議會', 'GCC', '可移植C編譯器', '丹麥國家足球隊']\n",
            "['列昂尼德·勃列日涅夫', '列昂尼德·勃列日涅夫的影響', '布拉格之春', '勃列日涅夫主義', '蘇聯總統']\n",
            "['茶', '茶葉蛋', '東方美人茶', '草本茶', '臺灣茶']\n",
            "['袁宏道', '袁隆平', '雜交水稻國家重點實驗室', '中國', '稻']\n",
            "['林鈺婷', '丘丘合唱團', '汪明荃', '簡上仁', '譚詠麟']\n",
            "['伊什瓦爾迪烏帕齊拉', '吉紹爾甘傑烏帕齊拉', '米塔馬因烏帕齊拉', '福裏德布爾烏帕齊拉', '達什米納烏帕齊拉']\n",
            "['澎湖本島', '澎湖廳長', '澎湖縣', '澎湖鎮', '臺灣地區']\n",
            "['蔡英文政府', '蔡英文相關爭議', '習朱會', '2020年中國國民黨總統提名選舉', '2016年中國國民黨主席補選']\n",
            "['臺南市美術館', '國立臺灣美術館', '桃園市立美術館', '新生四館', '國立西洋美術館']\n",
            "['三國時期君主列表', '曹魏', '三國', '漢', '傀儡政權']\n",
            "['松柏塱', '三棟屋村', '圍頭人', '圍村', '香港']\n",
            "['蔡英文政府', '蔡英文', '2016年中國國民黨主席補選', '2020年中國國民黨總統提名選舉', '1998年中華民國直轄市市長暨市議員選舉']\n",
            "['狼', '歐洲野牛', '美洲野牛', '野牛', '歐洲']\n",
            "['開元路_(臺南市北區)', '福元路', '臺南市行政區劃', '臺南市', '臺南市文化資產']\n",
            "['曹髦', '曹真', '曹宗', '曹丕', '曹鼎']\n",
            "['流氓無產階級', '中國共產黨中央委員會關於無產階級文化大革命的決定', '秦腔', '無產階級', '革命']\n",
            "['波美拉尼亞省_(普魯士)', '西斯拉夫民族', '烏斯特卡', '泛斯拉夫主義', '波蘭第二共和國']\n",
            "['千與千尋']\n",
            "['吉勒摩·戴託羅之皮諾丘', '皮埃爾-夏爾·維爾納夫', '奧斯卡二世', '維多利亞王儲', '維多利亞與阿卜杜勒']\n",
            "['女節', '昌意', '嫘祖', '彤魚氏', '方雷氏']\n",
            "['惠靈頓', '紐西蘭人口', '華裔新西蘭人', '新西蘭王國', '新西蘭']\n",
            "['拖鞋', '赤足', '犬', '家', '習慣']\n",
            "['2016無線節目巡禮', '美國偶像', '美國革命', '偶像', '二十一世紀福斯']\n",
            "['向日葵', '向日葵屬', '柔荑花序', '苞片', '花梗']\n",
            "['琉球族', '琉球歷史', '美國統治琉球時期', '琉球獨立運動', '琉球文']\n",
            "['無政府共產主義', '修正主義_(馬克思主義)', '弗拉基米爾·列寧', '爭取工人自由聯盟', '上海工人三次武裝起義']\n",
            "['方言學', '歷史語言學', '詞彙功能語法', '漢語語法', '計算語言學']\n",
            "['印度總理', '印度政治', '印度獨立運動', '印度', '印度歷史']\n",
            "['楊諒', '楊昭', '楊素', '王道隆', '隋朝']\n",
            "['火', '全球變暖的效應', '火三角', '全球變暖', '人類滅絕']\n",
            "['組織創始人', '班長', '兒子', '元智大學']\n",
            "['各國立法機關列表', '立法機關', '行政機關', '總統制', '專制主義']\n",
            "['法定貨幣', '數位貨幣', '通貨', '貨幣基數', '流通貨幣列表']\n",
            "['尼克·貝爾格', '釋放']\n",
            "['加利福尼亞州州長', '加利福尼亞州州長列表', '羅伯特·伍德羅·威爾遜', '加利福尼亞州', '宇航員']\n",
            "['荷馬史詩', '荷馬', '伊利亞特', '尼可斯·卡贊扎基斯', '奧德賽']\n",
            "['CATS貓', '約瑟的神奇彩衣', '安德魯·勞埃德·韋伯', '約瑟_(舊約聖經)']\n",
            "['瓦西里島站', '涅瓦-瓦西里島線', '總督大道站', '海濱站', '基洛夫-維堡線']\n",
            "['蛛形綱', '香港純蛛', '櫛足蛛科', '無鞭目', '鷲蛛總科']\n",
            "['2x2x3魔術方塊', '2x2x4魔術方塊', '2x2x1魔術方塊', '3x3x7魔術方塊', '3x3x5魔術方塊']\n",
            "[]\n",
            "['少數民族', '漢族民系', '中國少數民族優惠政策', '大漢族主義', '在臺大陸少數民族']\n",
            "['中華人民共和國經濟史', '張五常', '中華人民共和國經濟', '中國經濟史', '中國']\n",
            "['馬六甲海峽歷史城市', '馬六甲海峽', '海峽', '現在', '馬六甲_(消歧義)']\n",
            "['奧斯卡最佳實景短片獎', '奧斯卡', '奧斯卡金像獎', '奧斯卡最佳視覺效果獎', '奧斯卡·埃爾南德斯']['中華人民共和國人權', '阿拉伯聯合大公國人權', '日惹原則', '行爲', '性與生殖健康及權利']\n",
            "\n",
            "['麻省理工學院經濟系', '哈佛-麻省理工醫療科技學院', '巴黎中央理工學院', '南京大學校友列表', '麻省理工學院理學院']\n",
            "['糧食', '五大營養素', '營養不良', '營養學', '營養']\n",
            "['美國的語言', '輕量級標記語言', '語音合成標記語言', '語言', '語言滅亡']\n",
            "['海冰', '北冰洋', '弗拉姆海峽', '冰藻', '永凍冰']\n",
            "['海洛因', '流體']\n",
            "['木衛五十', '衛星的命名', '天王星的衛星', '木星的衛星', '木衛五十三']\n",
            "['光速', '超光速', '宇宙', '萬有理論', '廣義相對論中的質量']\n",
            "['芝加哥', '芝加哥大都市區', '芝加哥太陽報', '美國', '倒數']\n",
            "['麝雉', '雉雞', '剃刀嘴鳳冠雉', '家禽', '有羽毛恐龍']\n",
            "['香港特別行政區海員身份證', '身分證', '護照', '澳門居民身份證', '中華人民共和國護照']\n",
            "['楊諒', '楊昭', '楊素', '王道隆', '楊玄感']\n",
            "['科米諾島', '中華人民共和國島嶼列表', '戈佐區', '島嶼灰狐', '南歐']\n",
            "['亞爾諾國王', '威爾第號列車', '朱塞佩·威爾第', '作品']\n",
            "['羅伯特·崔特·潘恩', '潘恩', '托馬斯·潘恩', '迦勒·潘恩', '國民公會']\n",
            "['活路外交', '韓國外交', '一箇中國', '外交政策', '大國外交']\n",
            "['楊虎城', '兵諫亭', '西安事變', '第三次西安戰鬥', '楊虎']\n",
            "['吳天威', '吳天任', '2020年香港中學文憑考試歷史科爭議']\n",
            "['奧古斯都', '第三羅馬', '英白拉多', '奧地利皇帝', '拜占庭皇帝列表']\n",
            "['鈴木敏文', '伊藤洋華堂']\n",
            "['鍾祥市', '城市', '歷史']\n",
            "['營養', '營養不良', '營養學', '糖類', '微量營養素']\n",
            "['魔力月光', '六場危事', '艾倫', '伍迪·艾倫']\n",
            "['美洲野牛', '野牛', '印度野牛', '狼', '歐洲野牛']\n",
            "['新加坡式英語', '美國英語', '和制英語', '通用美式英語', '港式英語']\n",
            "['軟件項目管理', '軟件開發', '軟件開發工具包', '軟件開發工具', '軟件']\n",
            "['錢偉長', '錢三強', '錢穆', '工程力學', '數學倫理學']\n",
            "['省部共建', '中央部屬高校', '地方所屬高校', '中西部高校綜合實力提升工程', '海南大學']\n",
            "['東石北迴歸線地標', '北迴歸線車站', '嘉義北迴歸線標誌', '臺灣氣候', '臺灣歷史']\n",
            "['太陽花', '向日葵', '向日葵屬', '柔荑花序', '殼鬥目']\n",
            "['約翰·韋恩', '亂世佳人', 'AFI百年百大明星', 'AFI百年百大電影臺詞', '維克托·弗萊明']\n",
            "['活路外交', '外交政策', '韓國外交', '外交', '大國外交']\n",
            "['鎖麟囊', '顧唱：顧正秋曲藝精華', '皇都戲院', '花田囍事2010', '翁偶虹']\n",
            "['墨西哥國徽', '月桂', '墨西哥國旗', '古巴國徽', '加蓬國徽']\n",
            "['臺北市立聯合醫院', '臺北市立萬芳醫院', '臺北市政府衛生局', '臺中市政府衛生局', '臺北市立關渡醫院']\n",
            "['農村', '許世友', '品質']\n",
            "['比重量', 'IPad', '重量']\n",
            "['街頭籃球', '籃球']\n",
            "['臺北市政府', '臺北市政府捷運工程局', '臺北市政府產業發展局', '臺北市政府勞動局', '臺北市政府民政局']\n",
            "['高雄州特高事件', '林宅血案', '美麗島事件', '鼓山事件', '八瑤灣事件']\n",
            "['珠江三角洲', '東江', '珠江', '水利部珠江水利委員會', '錦田河']\n",
            "['赤足', '平衡木']\n",
            "['桃園市', '桃園縣', '桃園區', '桃園市市長', '八德區']\n",
            "['植物', '被子植物', '新生代', '植物激素', '臺灣的裸子植物']\n",
            "['決定性問題', '問題', '運動生物力學', '運動學', '微分方程']\n",
            "['類星體', '金屬量', '活動星系核', '室女A星系', '螺旋星系']\n",
            "['壓力管理', '電子簡併壓力', '質量與重量的比較', '質量守恆定律', '質量']\n",
            "['魏晉南北朝', '康乾盛世', '南北朝', '晉朝', '盛世']\n",
            "['馬島靈貓', '獺狸貓', '馬島長尾狸貓', '出生', '狸']\n",
            "['高錳酸鹽', '草酸鈉', '安替比林', '錳酸鉀', '二氧化錳']\n",
            "['果實', '葡萄', '簇']\n",
            "['民族國家', '民族主義', '無國家民族', '中國語言', '中國民族列表']\n",
            "['陳寅恪', '陳師曾', '清華學派', '王國維', '陳三立']\n",
            "['暗殺', '人格暗殺', '無中生有', '釣魚執法', '執法']\n",
            "['食用昆蟲', '昆蟲']\n",
            "['北京航空航天大學出版社', '北京航空航天大學飛行學院', '北京航空航天大學校友列表', '南京航空航天大學', '北京航空航天大學沙河校區']\n",
            "['阿曼', '印度洋', '法屬印度洋諸島', '阿曼蘇丹']\n",
            "['海衛一大氣層', '土衛六', '大氣科學', '甲烷水合物', '甲烷']\n",
            "['加利福尼亞州州長', '加利福尼亞州州長列表', '喬希·霍利', '美國總統列表', '泰德·約霍']\n",
            "['後水尾天皇', '江戶幕府', '江戶時代', '後陽成天皇', '德川家康']\n",
            "['半神', '希臘神話', '神', '北歐神話', '神話世紀']\n",
            "['流星', '顏色', '散亂流星']\n",
            "['桃園市', '臺灣海峽', '桃園市政府', '新屋區', '桃園市市長']\n",
            "['林登·約翰遜', '美國陸軍附編韓軍', '戰爭', '朝鮮戰爭', '贖罪日戰爭']\n",
            "['天主教亞穆蘇克羅教區', '穆罕默德·米安·蘇姆羅', '阿比讓費利克斯·烏弗埃-博瓦尼國際機場', '若望-伯多祿·庫特瓦', '蘇克_(卑詩省)']\n",
            "['高安公寓', '建國公寓', '淮海公寓', '西湖公寓', '瑞華公寓']\n",
            "['高安公寓', '淮海公寓', '西湖公寓', '上海共青國家森林公園', '瑞華公寓']\n",
            "['兄弟姊妹', '齊秦', '歌手·當打之年', '齊豫', '歌手']\n",
            "['彗星', '百武二號彗星', '差異自轉', '海爾-博普彗星', '克魯茲族彗星']\n",
            "['新石器時代', '中石器時代', '中國中石器文化列表', '石器時代', '南亞石器時代']\n",
            "['大公報', '香港商報', '香港報業', '香港報業公會', '新晚報']\n",
            "['岩石', '大陸地殼', '冰', '岩石圈', '海洋地殼']\n",
            "['高氯酸', '硫酸', '鏹水', '酸', '硫酸鈰(IV)']\n",
            "['前首都列表', '冰島', '首都', '世界', '南端']\n",
            "['民族國家', '貴州省民族構成列表', '新疆維吾爾自治區民族構成列表', '山東省民族構成列表', '海南省民族構成列表']\n",
            "['國際籃球聯合會', '美國籃球協會', '2017–18年東南亞職業籃球聯賽賽季', '2009–10年東南亞職業籃球聯賽賽季', '艾倫·艾佛森']\n",
            "['臺東垃圾焚化廠', '城西垃圾焚化廠', '黃拓榮', '臺東縣議會', '臺東縣']\n",
            "['木衛五十三', '斯科特·謝潑德', '木衛三十八', '夏威夷主權運動', '木衛四']\n",
            "['花茶', '草本茶', '茶', '東方美人茶', '臺灣茶']\n",
            "['新聞聯播', '東方新聞', '全國新聞聯播', '2009無線節目巡禮', 'CBS晚間新聞']\n",
            "['南海學園', '臺中市役所', '臺北市國定古蹟列表', '中華民國（臺灣）', '臺北市直轄市定古蹟列表']\n",
            "['臺中市私立曉明女子高級中學', '花蓮縣私立海星高級中學', '臺中市立臺中女子高級中等學校', '校園民歌', '祁志英']\n",
            "['香港國際機場', '希思羅機場', '啓德機場', '機場', '吉隆坡國際機場']\n",
            "['信天翁科', '印度洋-太平洋海域', '洋', '除名太平洋颶風名稱列表', '鳩鴿科']\n",
            "['黃子韜', '歌手·當打之年', '歌手', '中國']\n",
            "['紅寶石', '藍寶石', '寶石', '紅寶石雷射', '紅寶石巧克力']\n",
            "['爻', '八卦', '六爻神卦', '十翼', '周芷若']\n",
            "['臺灣民報', '美洲臺灣時報', '臺灣時報', '自由時報', '臺灣文化協會']\n",
            "['阿美族', '臺灣人', '臺灣裔', '臺灣', '噶瑪蘭族']['季節', '星期六']\n",
            "\n",
            "['茶文化', '茶學文獻列表', '中國茶文化', '茶', '茶經']\n",
            "['通用美式英語', '美國英語', '港式英語', '新加坡式英語', '英國英語']\n",
            "['殼聚糖', '氨基葡萄糖', '甲殼質', 'N-乙酰葡糖胺', '玻尿酸']\n",
            "['臺灣總督府民政部', '臺灣總督府交通局遞信部', '臺灣總督府總督官房', '臺灣總督府評議會', '臺灣總督府交通局鐵道部']\n",
            "['埃塔', '公益_(消歧義)', '專業']\n",
            "['六和敬', '食譜', '風', '佛教用語列表']\n",
            "['瑤池', '松山慈惠堂', '王天君', '洞天', '西王母']\n",
            "['泰晤士高等教育-QS世界大學排名', 'QS世界大學排名', '世界', 'QS', '愛丁堡大學']\n",
            "['漢光武帝', '馬超', '耿忠', '八家將', '書信']\n",
            "['英語人名', 'Dandelion', '蒲公英']\n",
            "['張惠妹音樂作品列表', '有個人', '偷故事的人', '張惠妹', '鄧麗君']\n",
            "['社會結構', '社會規範', '規範', '自由']\n",
            "['希臘神話', '神話與政治之間', '神話學', '日本神話', '羅馬神話']\n",
            "['香港癌症基金會', '癌症', '死亡', '李賦寧', '中國']\n",
            "['紅磚大學', '伯明翰大學', '伯明翰', '英國', '1000']\n",
            "['老查理·卓別林', '查理·卓別林', '數學家']\n",
            "['馬薩諸塞州同性婚姻', '麻薩諸塞州', '體育運動']\n",
            "['昭武九姓', '隋朝', '隋書', '姓', '訊息']\n",
            "['國家廣播公司標誌', '美國隊長', '超級英雄', '隊長機', '超人']\n",
            "['神話', '北歐神話', '日本神話', '光神話系列', '神話世紀']\n",
            "['導演', '表演藝術', '新媒體藝術', '藝術種類', '中國電影表演藝術學會']\n",
            "['香港聖公會院校', '史超域', '香港聖公會聖基道兒童院', '聖保羅堂', '香港聖公會']\n",
            "['黃適卓', '張家祝', '組織創始人', '董事長', '父親']\n",
            "['蒙山大佛', '樂山大佛', '大佛']\n",
            "['投資型硬幣', '銀', '貴金屬', '金', '硬幣']\n",
            "['樂山大佛', '大佛']\n",
            "['幸運餅乾', '餅乾', '乾酪白汁', '巧克力片餅乾', '藍乾酪']\n",
            "['臺中市立後綜高級中學', '技術型高級中等學校', '臺中市葳格高級中學', '臺中市立大里高級中學', '香港中文授課中學']\n",
            "['妊娠糖尿病', '糖尿病酮症酸中毒', '抗糖尿病藥', '1型糖尿病', '糖尿病']\n",
            "['AFI百年百大明星', '亞爾諾國王', '威爾第號列車', '第67屆奧斯卡金像獎', '蘇利·普呂多姆']\n",
            "['民族學', '人種', '社會人類學', '民族誌', '語言']\n",
            "['中文維基百科', '韓語維基百科', '西班牙語維基百科', '抄襲', '維基百科']\n",
            "['亨利八世', '英格蘭國會', '中世紀', '16世紀', '17世紀']\n",
            "['馬寅初', '校長', '北京市', '老年', '東京大學']\n",
            "['麝雉', '雉雞', '剃刀嘴鳳冠雉', '有羽毛恐龍', '雞形目']\n",
            "['果酒', '水果', '蘋果酒', '果實', '酸乳']\n",
            "['高雄捷運路線圖抄襲事件', '抄襲', '人2', '郭敬明抄襲案', '西南交大副校長黃慶博士論文抄襲事件']\n",
            "['音樂出版社', '詞曲作家', '作曲家', '上海音樂出版社', '古典音樂作曲家列表']\n",
            "['顯微鏡', '數碼顯微鏡', '顯微鏡學', '掃描探針顯微鏡', '超高解析度顯微鏡學']\n",
            "['教育家', '李賦都', '李賦寧', '韓國教育', '公民教育']\n",
            "['再造人卡辛', '龍之子製作', '龍', '賽博格', '子']\n",
            "['金朝', '金章宗', '丁卯戰爭', '安南屬明時期', '中世紀後期']\n",
            "['朱夔', '清朝政府', '大韓民國臨時政府', '朱一貴', '清朝民變']\n",
            "['AFI百年百大電影臺詞', 'AFI百年百大驚悚電影', 'AFI百年百大愛情電影', '馬龍·白蘭度', 'AFI百年百大喜劇電影']\n",
            "['比薩斜塔', '泉州市', '面積', '比薩']\n",
            "['排球', '全球', '2008年夏季奧林匹克運動會排球比賽', '大前鋒', '體育運動']\n",
            "['香港聖公會院校', '史超域', '香港聖公會教堂列表', '香港聖公會聖基道兒童院', '基督教藝術']\n",
            "['國民議會', '議會', '國會議員', '全國人民代表大會', '國家行爲']\n",
            "['基因工程', '基因文庫', 'G蛋白偶聯受體', '聚合酶鏈式反應', '基因表達譜']\n",
            "['米夏埃爾·科爾曼', '彼得·高若尼茲克', '帕特里克·拉夫特', '世界大學學術排名', '米克爾·提爾斯特倫']\n",
            "['流星', '顏色', '散亂流星']\n",
            "['1984年羅傑尼希教生物恐怖攻擊', '羅傑尼希社區', '忒修斯', '2001年美國炭疽攻擊事件', '瑪·阿南德·席拉']\n",
            "['高行健', '童偉格', '人工合成牛胰島素與諾貝爾獎', '各國諾貝爾獎得主人數', '法國']\n",
            "['史前時代', '書寫', '石器時代', '史學方法', '歷史']\n",
            "['公共廣播', '廣播', '挪威廣播公司', '中華人民共和國國家新聞出版廣電總局', '國家象徵']\n",
            "['1984年羅傑尼希教生物恐怖攻擊', '泰米爾伊拉姆猛虎解放組織', '2001年美國炭疽攻擊事件', '羅傑尼希社區', '忒修斯']\n",
            "['芝加哥大都市區', '芝加哥', '美國', '大都市', '城市']\n",
            "['薄熙來', '法院']\n",
            "['馬達加斯加', '馬達加斯加的企鵝', '生物多樣性', '生物地理分佈區', '人口不足']\n",
            "['地方分權', '美國憲法中的權力分立', '行政一體', '行政國', '政權']\n",
            "['陳其昌', '自由']\n",
            "['柯伊伯帶', '第五顆行星', '海王星特洛伊', '矮行星', '太陽系']\n",
            "['鎖麟囊', '上海市']\n",
            "['顯微鏡', '顯微鏡學', '數碼顯微鏡', '掃描探針顯微鏡', '肉眼']\n",
            "['中華民國死刑制度', '死刑存廢問題', '死刑', '臺灣死刑存廢問題', '中華人民共和國死刑制度']\n",
            "['雞', '勺雞', '鳥', '飛行', '馴化']\n",
            "['樂山大佛', '大佛']\n",
            "['許世友', '許家窪', '許世友反革命集團案', '國民軍', '費俊龍']\n",
            "['魔力月光', '曼哈頓上城', '曼哈頓', '伍迪·艾倫', '單簧管']\n",
            "['麻省理工學院經濟系', '哈佛-麻省理工醫療科技學院', '加州-麻省理工學院競爭', '巴黎中央理工學院', '佐治亞理工學院']\n",
            "['越南戰爭', '寮國內戰', '林登·約翰遜', '中華民國駐越軍事顧問團', '越南民主共和國']\n",
            "['臺南市美術館', '國立臺灣美術館', '桃園市立美術館', '新生四館', '國立西洋美術館']\n",
            "['速率分佈函數', '熱力學狀態', '氣體常數', '物質狀態', '狀態']\n",
            "['1989–90年香港甲組足球聯賽', '體育運動', '球']\n",
            "['魏晉南北朝', '五胡十六國', '晉朝', '南北朝', '魏晉玄學']\n",
            "['軌道共振', '長期共振', '軌道根數', '太陽系探索年表', '日心軌道']\n",
            "['臺中市西大墩婦女中心', '臺中市婦女福利服務中心', '嘉義市政府社會處', '中國福利會', '天主教聖母聖心修女會']\n",
            "['中東問題有關四方', '西亞', '東方研究', '感覺系統', '次大陸']\n",
            "['硫酸', '溴化鉀', '高氯酸', '碳酸水', '酸']\n",
            "['國立臺灣海洋大學', '臺北海洋科技大學', '大連海洋大學', '上海海洋大學', '浙江海洋大學']\n",
            "['紅寶石', '藍寶石', '紅寶石雷射', '寶石', '紅寶石巧克力']\n",
            "['法國南部', '法國海外部分', '蔚藍海岸', '法國', '摩納哥']\n",
            "['薄孔菌屬', '擔子菌門', '接合菌門', '真核生物', '古菌']\n",
            "['哺乳動物', '魚', '哺乳動物學', '新生代', '香港哺乳動物列表']\n",
            "['臺灣總督', '臺灣總督府', '臺灣戰後時期', '臺灣省行政長官', '臺灣清治時期']\n",
            "['濱河糧液', '川酒', '五糧液', '糧食酒', '宜賓市']\n",
            "['格魯吉亞世界遺產列表', '尼泊爾世界遺產名錄', '布魯塞爾', '布魯塞爾法語化', '哥德復興式建築']\n",
            "['東北菜', '廣西菜', '順德菜', '粵菜', '潮州菜']\n",
            "['南小島', '北小島', '橄欖門', '東海', '渤海海峽']\n",
            "['全買', '雲林縣', '長頸鹿', '愛買', '雲嘉南']\n",
            "['俄羅斯君主列表', '亞歷山大一世·雅蓋隆契克', '亞歷山大大帝', '哈薩克裔俄羅斯人', '沙皇格勒']\n",
            "['佳娜·蒂佳', '小行星8573', '小行星7796', '小行星7896', '小行星7711']\n",
            "['山斑鳩', '齒鳩', '東方蠊', '冠鳩', '皇鳩屬']\n",
            "['喬治·盧卡斯', '法櫃奇兵', '盧卡斯影業', '星際大戰正傳三部曲', '星際大戰四部曲：曙光乍現']\n",
            "['趙匡濟', '趙弘殷', '宋英宗', '趙廷美', '宋太宗']\n",
            "['鞏俐', '第71屆威尼斯影展', '第62屆威尼斯國際電影節', '金馬電影學院', '悲情城市']\n",
            "['企劃', '主管支援系統', '決策', '全曜財經', '反對逃犯條例修訂草案運動中使用的策略和方法']\n",
            "['扶餘國', '玉衣', '張飛', '夫臺', '東扶余']\n",
            "['披頭士樂隊獲獎與提名列表', '酷玩樂團', '威猛樂隊', 'SCANDAL', '黑豹樂隊']\n",
            "['爲情所困', '漫情歌', '愛·情歌', '梁朝偉', '情歌']['泉州_(消歧義)', '泉州灣', '泉州市', '泉州市城東中學', '泉州港']\n",
            "\n",
            "['阿列日省市鎮列表', '阿卜杜勒-阿齊茲·本·阿卜杜拉赫曼·本·費薩爾·阿勒沙特', '阿卜杜勒侯賽因·米爾扎·法爾曼法爾馬', '阿卜杜勒-侯賽因·米爾扎·法爾曼法爾馬', '阿卜杜勒·馬吉德·米爾扎']\n",
            "['花蓮縣議會', '花蓮縣花蓮市中華國民小學', '花蓮縣縣長', '花蓮縣公車', '花蓮縣議員列表']\n",
            "['全州市', '全羅北道', '清州市', '忠清北道', '全羅南道']\n",
            "['中華民國駐越軍事顧問團', '越南戰爭', '林登·約翰遜', '中越戰爭', '美國總統']\n",
            "['鵜鶘', '白鵜鶘', '冰原', '北極點']\n",
            "['伊什瓦爾迪烏帕齊拉', '吉紹爾甘傑烏帕齊拉', '米塔馬因烏帕齊拉', '福裏德布爾烏帕齊拉', '達什米納烏帕齊拉']\n",
            "['第18屆金馬獎', '第35屆金馬獎', '第50屆金馬獎', '第24屆金馬獎', '萬千星輝頒獎典禮2009']\n",
            "['特洛伊戰爭', '被縛的普羅米修斯', '普羅米修斯', '教師', '神仙·老師·狗']\n",
            "['麗山', '臺北市立陽明高級中學', '鄭顯三', '高麗', '柯明樹']\n",
            "['老查理·卓別林', '悉尼·約翰·卓別林', '悉尼·厄爾·卓別林', '查理·卓別林']\n",
            "['紅寶石', '藍寶石', '紅寶石雷射', '寶石', '紅寶石巧克力']\n",
            "['琉球族', '琉球歷史', '美國統治琉球時期', '琉球文', '琉球獨立運動']\n",
            "['川端町', '臺北市舊町名列表', '町名改正', '川端公園', '馬場町']\n",
            "['神話', '日本神話', '北歐神話', '神話學', '神話世紀']\n",
            "['魏瑪憲法', '魏瑪共和國', '霍亨索倫王朝', '霍亨索倫統治者列表', '憲政主義']\n",
            "['素描']\n",
            "['吳天威', '2020年香港中學文憑考試歷史科爭議', '姚名達']\n",
            "['文森特·梵高']\n",
            "['水木清華BBS', '華南木棉BBS', '中國高等院校院系調整', '南京大學', '地方所屬高校']\n",
            "['超大規模集成電路', '半導體器件製造', '半導體廠商銷售排名', '兆芯', '龍芯中科']\n",
            "['燕山大學', '河北大學', '湖北工業大學', '河北農業大學', '趙丁選']\n",
            "['地獄新娘', '辛奇_(臺灣導演)', '臺語電影', '辛奇·羅卡', '韓式泡菜']\n",
            "['張惠妹音樂作品列表', '林清美', '張惠妹', '滾石雜誌五百大專輯', '關正傑']\n",
            "['化石森林', '黑色終結令', '豔屍案中案', '雙頭鷹之死', '卿何薄命']\n",
            "['北阿坎德邦', '奈尼塔爾總督府', '奈尼塔爾', '北阿坎德邦行政區劃', '魯德拉普拉耶格']\n",
            "['音階', '音樂', '音樂創作', '先鋒音樂', '半音音階']\n",
            "['基隆市', '國立基隆高級中學', '基隆山', '市鎮', '雍正']\n",
            "['健康', '尤里·安德羅波夫', '腎功能衰竭', '腎_(臟腑)', '腎功能']\n",
            "['西班牙內戰', '弗朗西斯科·佛朗哥獨裁', '弗朗西斯科·佛朗哥', '第二次世界大戰期間的西班牙', '西班牙共和國流亡政府']\n",
            "['內流湖', '中國鹹水湖泊列表', '鹹水湖', '鄱陽湖']\n",
            "['環境科學', '環境保護', '臺灣環境運動', '環境資源管理', '質量']\n",
            "['民族國家', '貴州省民族構成列表', '新疆維吾爾自治區民族構成列表', '海南省民族構成列表', '廣東省民族構成列表']\n",
            "['軟件開發', '電腦輔助軟體工程', '軟件開發工具包', '軟件項目管理', '工具鏈']\n",
            "['藍色', '漫威影業：傳奇角色', '藍血人', '漫畫', '勇度']\n",
            "['山斑鳩', '齒鳩', '皇鳩屬', '東方蠊', '冠鳩']\n",
            "['桃園市', '桃園區', '桃園縣', '桃園市旅遊景點列表', '八德區']\n",
            "['高錳酸鹽', '錳酸鉀', '真菌', '二氧化錳', '高錳酸鉀']\n",
            "['香港電影', '關貴敏', '全世界最好的你', '香港', '香港劇集']\n",
            "['再造人卡辛', '妖獸世紀', '龍之子製作', '龍', '子']\n",
            "['披頭士樂隊獲獎與提名列表', '黑豹樂隊', '披頭四樂隊', '太極樂隊', '橡皮靈魂']\n",
            "['臺北市立聯合醫院', '臺北市立萬芳醫院', '臺北市政府衛生局', '臺中市政府衛生局', '衛生福利部臺北醫院']\n",
            "['癡_(佛教)', '音癡', '梁朝偉']\n",
            "['馬克思學說研究會', '馬克思主義思想流派', '對馬克思主義的批評', '西方馬克思主義', '馬克思主義政治經濟學']\n",
            "['遺傳性疾病', '疾病', '併發症', '預防醫學', '流行病學']\n",
            "['硫酸鈰(IV)', '硫酸𨥙', '硫酸鎂', '硫酸', '硫酸亞鉈']\n",
            "['西班牙內戰', '弗朗西斯科·佛朗哥獨裁', '弗朗西斯科·佛朗哥', '第二次世界大戰期間的西班牙', '西班牙歷史']\n",
            "['長期共振', '軌道共振', '太陽系探索年表', '柯克伍德空隙', '太陽系']\n",
            "['馬丁·路德·金恩遇刺案', '孟斐斯', '馬丁·路德·金', '英格蘭人', '馬丁·路德·金紀念日']\n",
            "['中國科學院哲學社會科學部', '嚴愷', '中國社會科學院大學', '中國社會科學院中國邊疆研究所', '胡喬木']\n",
            "['郵政編碼', '東歐']\n",
            "['導演', '表演藝術', '新媒體藝術', '視覺藝術', '藝術種類']\n",
            "['太平鳥屬', '雀形目', '鳥', '陸鳥類', '新鳥小綱']\n",
            "['臺灣總督府民政部', '臺灣總督府評議會', '臺灣總督府', '臺灣總督府交通局鐵道部', '臺灣總督府交通局遞信部']\n",
            "['一貫道', '彌勒教', '青蓮教', '唸佛', '韓太湖']\n",
            "['中國人民解放軍武漢軍區', '中國人民解放軍昆明軍區', '中國人民解放軍武漢軍區空軍', '中國人民解放軍成都軍區', '大軍區']\n",
            "['逍遙學派', '古希臘哲學', '新柏拉圖主義', '淡水學派與鹹水學派', '奧地利學派']\n",
            "['寧靜革命', '中華民國總統及副總統在臺灣之公民直接選舉與罷免', '李登輝政府', '1995年李登輝總統康乃爾大學之行', '李登輝']\n",
            "['護照', '1954年公約旅行證', '中華人民共和國護照', '難民旅行證', '中華民國護照']\n",
            "['五代十國', '法統', '五德終始說', '遼朝', '五行']\n",
            "['糖類', '素食主義', '糖肽類抗生素', '抗生素', '抗生素濫用']\n",
            "['玉米', '稻', '穀物', '孟加拉國農業', '中非共和國經濟']\n",
            "['護照', '中華民國護照', '中華人民共和國護照', '難民旅行證', '旅行證件']\n",
            "['阿美族', '美國原住民', '美國']\n",
            "['三角', '三角學', '截角菱形三十面體', '三角函數', '黃金三角形']\n",
            "['技術型高級中等學校', '臺北市立大安高級工業職業學校', '國立臺南大學', '實業補習學校', '中華民國陸軍後勤訓練中心']\n",
            "['胡喬木', '中國社會科學院大學', '中國社會科學院', '喬木_(消歧義)']\n",
            "['鍀', '恆星演化', '恆星', '鍀星', '超新星核合成']\n",
            "['吉林大學附屬中學', '吉林大學', '吉林農業大學', '中華人民共和國', '中國教育部']\n",
            "['雌配子體', '性別', '配子', '同配生殖', '世代交替']\n",
            "['海盆', '日本海', '海', '日本', '碟']\n",
            "['唐朝', '臺北101']\n",
            "['軌跡', '不動點', '拱點', '距離', '不動點定理']\n",
            "['第三次世界大戰', '第一次世界大戰', '第二國際', '國際']\n",
            "['歐洲人', '歐洲聯盟語言', '民族國家', '歐亞語系', '非洲語言']\n",
            "['香港電影編劇家協會', '編劇', '香港']\n",
            "['合數', '質數', '環狀質數', '元因數', '質數冪']\n",
            "['蒂姆·伯頓', '黑暗騎士：黎明升起', '哥德次文化', '威廉·富特文格勒', '黑暗浪漫主義']\n",
            "['蜘蛛俠百戰曱甴精', '終極蜘蛛俠', '白額高腳蛛', '豹紋壁虎', '蜘蛛']\n",
            "['徐翔_(投資家)', '提供侵入、非法控制計算機信息系統程序、工具罪', '內線交易', '中華人民共和國腐敗案件列表', '安然醜聞案']\n",
            "['鄧小平南巡', '改革開放', '鄧小平', '王震']\n",
            "['國際足協女子世界盃', '2019年國際足協女子世界盃', '國際足協U-17世界盃', '2010年國際足協世界盃', '1998年國際足協世界盃']\n",
            "['宋高宗', '宋神宗', '宋孝宗', '南宋大事年表', '南宋']\n",
            "['李祖德', '邱文達', '臺北醫學大學', '高雄醫學大學', '專業倫理']\n",
            "['電子陶瓷', '陶瓷電容', '介電陶瓷', '陶瓷工程', '陶瓷材料']\n",
            "['勃列日涅夫_(消歧義)', '安德烈·尤里耶維奇·勃列日涅夫', '維多利亞·勃列日涅娃', '列昂尼德·勃列日涅夫所獲獎項列表', '勃列日涅夫主義']\n",
            "['愛丁堡舊城', '愛丁堡大學舊學院', '愛丁堡市政廳', '愛丁堡皇家天文臺', '蘇格蘭政府']\n",
            "['淄博市', '泰安交通', '德州市', '山東省', '海']\n",
            "['國民政府', '大韓民國臨時政府', '中國共產黨歷史', '國民革命', '國民政府主席']\n",
            "['羅馬神話', '古羅馬宗教', '古希臘羅馬神話', '希臘神話', '神話學']\n",
            "['馬克思學說研究會', '馬克思主義思想流派', '馬克思主義政治經濟學', '西方馬克思主義', '對馬克思主義的批評']\n",
            "['病理學', '古病理學', '植物病理學', '婦產科學', '遺傳性疾病']\n",
            "['松柏塱', '那座河', '雞嶺', '塱原', '三棟屋村']\n",
            "['釋真空', '一行', '法名和法號', '釋一行', '號']\n",
            "['海王星的衛星', '天王星的衛星', '海衛十一', '土星的衛星', '木星的衛星']\n",
            "['1974年2月英國大選', '2014年印度大選', '穩得議席', '1974年10月英國大選', '印度總理']\n",
            "['雜交水稻國家重點實驗室', '周開達', '袁隆平', '雜交水稻', '湖南雜交水稻研究中心']\n",
            "['化石森林', '黑色終結令', '豔屍案中案', '赫丘勒·白羅', '卿何薄命']\n",
            "['男性不育症', '女女性行爲者', '女性', '不孕', '女性不孕症']\n",
            "['關切人的木乃伊', '古埃及', '外科學', '古代太空人', '埃及歷史']\n",
            "['硫', '亞硫酸鈉', '亞硫酸', '溴磺酸', '二氧化硫']\n",
            "['桌上型電腦', '質量守恆定律', '狹義相對論中的質量', '質量', '操作系統']\n",
            "['性幻想', '現實']\n",
            "['胸節_(昆蟲)', '昆蟲', '皮節', '南美角蛙', '食用昆蟲']\n",
            "['天球赤道', '木星的衛星', '黃道塵', '黃道十二宮', '木星日食']\n",
            "['倪尚達', '南京大學', '成人高等學校招生全國統一考試', '南京師範大學', '技術型高級中等學校']\n",
            "['惠靈頓', '紐西蘭人口', '新西蘭王國', '新西蘭', '惠靈頓隊足球俱樂部']\n",
            "['麥克貝恩山', '康韋爾山', '迪圖瓦冰原島峯', '托爾冰川', '福派峯']\n",
            "['議題建構', '政治議程', '社會', '共和黨']\n",
            "['象山公園_(臺北市)', '觀象山', '臺南公園', '象山公園', '臺中公園']\n",
            "['臺中市政府陽明大樓', '臺中市政府', '臺中縣', '臺中市政府教育局', '桃園市政府辦公大樓']\n",
            "['轅門', '銅車馬', '馬車', '地址']\n",
            "['妮基·黑利', '特雷·霍靈斯沃斯', '喬希·霍利', '加利福尼亞州州長', '裏克·斯科特']\n",
            "['歐洲聯盟歷史', '歐洲聯盟專門機構', '臺灣歐洲聯盟中心', '歐洲聯盟']\n",
            "['亞美尼亞飲食', '荷蘭飲食', '土耳其烤茄子', '土耳其飲食', '俄羅斯飲食']\n",
            "['遺傳性疾病', '疾病', '併發症', '預防醫學', '流行病學']\n",
            "['臺中市大里區益民國民小學', '臺中市大里區內新國民小學', '臺中市大里區崇光國民小學', '臺中市大里區大元國民小學', '臺中市大里區草湖國民小學']\n",
            "['新華網', '世界社會主義網站', '中華人民共和國中央人民政府門戶網站', '中國新華新聞電視網', '國務院新聞辦公室']\n",
            "['工業設計', '定量構效關係', '中國科學技術史', '城市設計', '特徵標理論']\n",
            "['性別', '植物繁殖', '配子', '雌配子體', '世代交替']\n",
            "['盧卡斯·迪奧多斯基', '托斯卡納大區', '曼聯足球俱樂部球員列表', '足球']\n",
            "['唐朝', '象']\n",
            "['耶和華見證人和三位一體', '神之子', '聖靈', '三位一體', '聖子']\n",
            "['程序', '程序設計', '多元處理', '存儲程序', '多核心處理器']\n",
            "['伊薩基', '奧吉吉亞島', '索村', '讓·德貝當古', '伊卡洛斯']\n",
            "['指南車', '記裏鼓車', '宋朝科技', '王振鐸', '燕肅']\n",
            "['餅乾', '幸運餅乾', '巧克力片餅乾', '藍乾酪', '乾酪白汁']\n",
            "['世界語', '歐洲中心主義', '西亞', '東方研究', '感覺系統']\n",
            "['二硫代氨基甲酸銨', '硫', '四氯化硫', '硫氰酸鈷', '五氯化鏷']\n",
            "['天鵝湖', '芭蕾舞劇列表', '天鵝公主', '上海芭蕾舞團', '國立歌劇和芭蕾舞劇場']\n",
            "['民族國家', '無國家民族', '民族主義', '中國民族列表', '臺灣人']\n",
            "['阿比讓費利克斯·烏弗埃-博瓦尼國際機場', '天主教亞穆蘇克羅教區', '穆罕默德·米安·蘇姆羅', '尤斯頓車站', '若望-伯多祿·庫特瓦']\n",
            "['基隆市', '城市', '臺灣']\n",
            "['楊諒', '楊昭', '楊素', '王道隆', '隋朝']\n",
            "['火星日食', '火星的衛星', '衛星', '火衛二']\n",
            "['張五常', '反攻大陸', '勞動合同制', '中國經濟史', '中華人民共和國勞動合同法']\n",
            "['火雞', '野生火雞', '雞', '雞子', '家養火雞']\n",
            "['星期六', '禮拜_(伊斯蘭教)']\n",
            "['山斑鳩', '齒鳩', '皇鳩屬', '東方蠊', '冠鳩']\n",
            "['元素週期表', '鐒', 'F區元素', '擴展元素週期表', '3族元素']\n",
            "['芝諾', '伊利亞學派', '斯法埃魯斯', '法蘭克福學派', '韋利亞']\n",
            "['釣魚臺列嶼', '中華民國臺灣地區島嶼列表', '釣魚臺列嶼主權問題', '釣魚臺', '衝南巖']\n",
            "['漢科科柳山', '卡拉科柳山', '喜馬拉雅山脈', '奇亞拉錢卡山', '凌川峯']\n",
            "['中華東路_(臺南市)', '中華南路', '中華北路', '小東路', '臺灣市區道路']\n",
            "['張維洲', '臺東市第一公有零售市場', '謝長廷', '鹹水雞', '民國']\n",
            "['定食', '米飯', '方便米飯', '主食', '中國']\n",
            "['司馬倫', '司馬師', '晉元帝', '司馬保', '司馬懿']\n",
            "['金朝', '馬丁·路德·金', '唐朝', '姓', '金']\n",
            "['諾貝爾物理學獎得主列表', '普林斯頓大學諾貝爾獎得主列表', '印度諾貝爾獎得主列表', '諾貝爾獎得主列表', '諾貝爾委員會']\n",
            "['許世友反革命集團案', '中國', '中國武術', '許世友', '武術']\n",
            "['查理·卓別林', '偶像_(日本)']\n",
            "['安娜·哈里遜', '威廉·亨利·哈里森', '美國', '立法院']\n",
            "['韓國電視劇', '你的孩子不是你的孩子', '美國劇集', '愛的婦產科', '電視劇帝王']\n",
            "['泉州港', '泉州_(消歧義)', '泉州灣', '泉州市', '港埠都市']\n",
            "['暗殺', '人格暗殺', '執法', '釣魚執法', '無中生有']\n",
            "['F.I.R.飛兒樂團', '椅子樂團', '回聲樂團', '梵谷的左耳', 'TOP1男子漢']\n",
            "['關西服務區', '泰安服務區_(臺灣)', '江蘇臨海高等級公路', '清水服務區', '中壢服務區']\n",
            "['數碼相機', '數碼無限擊', '時間膨脹', '三腳架', '數位單眼相機']\n",
            "['張學良', '李登輝政府', '1995年李登輝總統康乃爾大學之行', '蔣經國之死', '李登輝之友會']\n",
            "['臺北', '臺北101']\n",
            "['答案']\n",
            "['布魯塞爾機場', '布魯塞爾首都大區旗', '布魯塞爾', '索爾維會議', '索爾·勒維特']\n",
            "['雞尾酒', '茶', '中國酒文化', '韓國茶文化', '南投縣']\n",
            "['克氏無齒翎電鰻', '線翎電鰻科', '尖頭翎電鰻', '線泥鰻', '電鰻']\n",
            "['楊貴妃', '楊貴妃傳奇', '唐玄宗', '文昭甄皇后', '王朝的女人·楊貴妃']\n",
            "['鄉村愛情', '夫妻那些事', '電視劇帝王', '韓國電視劇', '電視劇']\n",
            "['中華民國法務部', '法務部矯正署臺南監獄', '法務部矯正署臺北少年觀護所', '法務部矯正署臺北看守所', '新北市政府']\n",
            "['麻省理工學院經濟系', '加州-麻省理工學院競爭', '經紀公司', '公司金融學', '哈佛-麻省理工醫療科技學院']\n",
            "['李祖德', '國立臺中教育大學', '國立臺北科技大學', '國立臺北商業大學', '國立臺北護理健康大學']\n",
            "['環境監測', '污染源監測', '環境保護', '彭應登', '環境科學']\n",
            "['伊斯法罕', '伊斯法罕地鐵', '車站']\n",
            "['臺中市政府陽明大樓', '臺中市政府', '臺中縣', '臺中市政府教育局', '臺中市政府水利局']\n",
            "['高雄捷運路線圖抄襲事件', '抄襲', '人2', '郭敬明抄襲案', '西南交大副校長黃慶博士論文抄襲事件']\n",
            "['折射率', '光導纖維', '折射率列表', '負折射率超材料', '負折射']\n",
            "['小行星7672', '小行星9901', '小行星7799', '小行星9665', '小行星9028']\n",
            "['國立武昌高等師範學校', '倪尚達', '學校', '師範學校', '1915年']\n",
            "['李存矩', '李繼韜', '李存璋', '唐莊宗', '李存質']\n",
            "['三年坂火之夢', '三姊妹偵探團', '虛構推理', '講談社出版文化賞', '放學後再推理']\n",
            "['硬骨魚', '輻鰭魚', '鮎形目', '骨鰾類', '魚']\n",
            "['阿托品']\n",
            "['歌手·當打之年', '齊秦', '歌手', '齊豫', '兩人_(aiko單曲)']\n",
            "['臺南市立安平水產專修學校', '實業補習學校', '國立臺南大學', '專門職業及技術人員考試', '護理人員']\n",
            "['羅伯特·託德·林肯', '貝尼託·胡亞雷斯', '胡齊斯坦省', '亞伯拉罕·林肯', '總統']\n",
            "['徐志摩', '志摩', '家庭', '英國']\n",
            "['木衛五十三', '木衛五十', '木衛十一', '木星的衛星', '斯科特·謝潑德']\n",
            "['臺南市立安平水產專修學校', '技術型高級中等學校', '實業補習學校', '國立臺南大學', '學校']\n",
            "['土庫曼_(消歧義)', '蘇聯最高蘇維埃', '蘇聯', '土庫曼斯坦', '歧義']\n",
            "['罪己詔', '議會', '尊嚴', '許智峯', '危害人類罪']\n",
            "['自動櫃員機', '護照', '國內']\n",
            "['墨西哥地理', '墨西哥文化', '哈利斯科州', '阿特拉斯足球俱樂部', '墨西哥城']\n",
            "['斯里蘭卡馬來人', '美國墨西哥灣沿岸地區', '亞洲', '馬爾代夫', '南佐治亞']\n",
            "['2001年中華民國立法委員選舉', '政黨補助金', '無黨團結聯盟', '2005年中國國民黨主席選舉', '中華民國政黨歷年最高得票率']\n",
            "['煉武臺站', '日本']\n",
            "['臺灣總督府民政部', '臺灣總督府評議會', '臺灣總督府', '臺灣總督府交通局鐵道部', '臺灣總督府總督官房']\n",
            "['趙奢', '秦滅趙之戰', '燕國', '王翦', '趙國']\n",
            "['法國海外部分', '中部非洲', '法屬南部和南極領地', '南部非洲', '法國']\n",
            "['古希臘悲劇', '奠祭', '古希臘喜劇', '祭祀', '做牙']\n",
            "['太陽風', '風', '太陽圈', '己巳風災', '日球層頂']\n",
            "['神盾局特工角色列表', '玲子·艾爾斯沃斯', '亞洲', '身']\n",
            "['通用汽車', '德羅寧汽車公司', '福特汽車', '比亞迪', '奧迪A5']\n",
            "['智神星', '穀神星', '彗星', '天']\n",
            "['新北市區公車790路線', '桃園車站_(臺鐵)', '新北市區公車862路線', '基隆車站', '新北市區公車575路線']\n",
            "['列昂尼德·勃列日涅夫的影響', '列昂尼德·勃列日涅夫', '列昂尼德·勃列日涅夫遇刺案', '勃列日涅夫主義', '政治局']\n",
            "['仄費羅斯', '玻瑞阿斯', '歐羅斯', '諾託斯', '洛里斯_(沃克呂茲省)']\n",
            "['天鵝湖', '芭蕾舞劇列表', '上海芭蕾舞團', '天鵝公主', '國立歌劇和芭蕾舞劇場']\n",
            "['漂泊信天翁', '信天翁科', '桑氏遠洋鳥', '風神翼龍屬', '黑腳信天翁']\n",
            "['黑紗', '袖章', '沙漠', '漢語']\n",
            "['特別攻擊隊', '大田戰役', '奠邊府戰役', '美國陸軍第75遊騎兵團', '東京快車']\n",
            "['賀龍體育文化中心', '賀龍塑像', '賀龍橋', '哥德復興式建築', '天心閣']\n",
            "['吳健雄學院', '吳健雄', '小行星2752', '戴運軌', '吳氏實驗']\n",
            "['湖畔詩人', '英格蘭和威爾士', '威廉·赫茲利特', '赫爾維林峯', '英格蘭教會']\n",
            "['伍迪·艾倫', '托馬斯·列儂', '漫威漫畫', '安妮·霍爾', '伍迪·艾倫獲獎與提名列表']\n",
            "['臺東飛行場', '臺灣日治時期行政區劃', '臺東郡', '卑南莊', '臺灣日治時期高等教育機關']\n",
            "['胡利亞卡', '祕魯', '洞口縣', '數', '城市']\n",
            "['列昂尼德·勃列日涅夫', '列昂尼德·勃列日涅夫的影響', '布拉格之春', '勃列日涅夫主義', '蘇聯總統']\n",
            "['互聯網服務供應商', 'Google產品列表', '互聯網泡沫', '網頁郵件', 'Google']\n",
            "['昌意', '嚳', '黃帝', '嫘祖', '兒子']\n",
            "['普利策國際報道獎', '普利策獎']\n",
            "['史超域', '聖保羅書院', '史璧琦', '源迪恩', '英皇書院']\n",
            "['天衛三', '表面科學', '湖泊', '面_(幾何)']\n",
            "['魏雅欣', '羽毛球']\n",
            "['臺北市', '城']\n",
            "['2006年9月7日月食', '2008年8月16日月食', '月球晝夜線', '滿月', '2013年4月25日月食']\n",
            "['民族國家', '民族主義', '無國家民族', '中華人民共和國民族政策', '中國民族列表']\n",
            "['飛行員', '駕駛執照', '商用飛行執照', '香港駕駛執照', '暫準駕駛執照']\n",
            "['第18屆金馬獎', '第35屆金馬獎', '第50屆金馬獎', '第24屆金馬獎', '第25屆金馬獎']\n",
            "['印度總理', '印度政治', '印度總統', '印度獨立運動', '印度']\n",
            "['BBC一點新聞', '雲存儲', 'Gmail', '星期一', '月']\n",
            "['宋武帝', '魏晉南北朝', '東晉', '東晉演義', '東晉行政區劃']\n",
            "['雲存儲', 'GmailFS', 'Gmail', '新臺幣', '月']\n",
            "['湖畔詩人', '英格蘭和威爾士', '赫爾維林峯', '英格蘭教會', '威廉·赫茲利特']\n",
            "['一氟化碳', '有機氟化學', '碳氟化合物', '氟碳塗料', '氟利昂']\n",
            "['後印象派', '印象派', '貝爾特·莫里索', '非主流藝術', '法國']\n",
            "['絲綢之路', '絲綢', '路', '漢朝', '漢']\n",
            "['蔡英文政府', '蔡英文相關爭議', '2020年中國國民黨總統提名選舉', '習朱會', '2016年中國國民黨主席補選']\n",
            "['川端町', '臺北市', '臺北市舊町名列表', '川端公園', '馬場町']\n",
            "['元培', '蔡威廉', '蔡元培故居', '蔡元培舊居', '翰林院']\n",
            "['熱能', '動物', '動物試驗', '爬行動物', '副爬行動物']\n",
            "['多階段睡眠', '睡眠', '睡眠不足', '分子鐘', '能量均分定理']\n",
            "['日本神話', '神話學', '神話', '朝鮮神話', '北歐神話']\n",
            "['梁柏豪', '朝花夕拾', '亦舒', '倪匡', '原振俠系列']\n",
            "['約化質量', '質量', '重量', '狹義相對論中的質量', '物體']\n",
            "['臺北市', '臺北市萬華區新和國民小學', '臺北市萬華區雙園國民小學', '臺北市政府', '臺北市萬華區老松國民小學']\n",
            "['程序員', '李宗仁回憶錄', '唐鳳', '對百度的爭議', '中藥']\n",
            "['三苗', '唐虞', '黃帝', '禹', '舜']\n",
            "['披頭士樂隊獲獎與提名列表', 'SCANDAL', '威猛樂隊', '黑豹樂隊', '綠洲樂隊']\n",
            "['顯微鏡學', '顯微鏡', '相襯顯微技術', '掃描探針顯微鏡', '數碼顯微鏡']\n",
            "['臺中市立臺中女子高級中等學校', '上海市第三女子中學', '臺中市', '臺中_(大字)']\n",
            "['倪尚達', '南京大學', '南京師範大學', '成人高等學校招生全國統一考試', '國立武昌高等師範學校']\n",
            "['關西服務區', '泰安服務區_(臺灣)', '泰安休息站', '中壢服務區', '臺南公園']\n",
            "['新槐站', '上海北站', '上海站', '青峴嶺站', '臺南車站']['希登瓦利_(加利福尼亞州埃爾多拉多縣)', '印第安納州', '埃爾多拉多縣', '非建制地區', '數']\n",
            "\n",
            "['世界', '一邊一國', '臺獨', '國']\n",
            "['正壬醇', '正癸醇', '1-十一烷醇', '1-十四烷醇', '硝酸']\n",
            "['順序性雌雄同體', '性別', '雄性化', '雄性', '鳩鴿科']\n",
            "['植酸', '磷酸肌醇3-激酶', '脂類', '磷脂酶C', '磷酸酯']\n",
            "['北阿坎德邦', '北方邦', '戈默蒂河', '魯德勒布勒亞格縣', '南']\n",
            "['物理性質', '礦物學', '對比性質', '揮發性', '化學性質']\n",
            "['礦物學', '礦物', '物理性質', '稀土礦物', '對比性質']\n",
            "['廣州白雲國際機場', '2019冠狀病毒病疫情', '2019冠狀病毒病疫情對經濟的影響', '2019冠狀病毒病美國疫情', '2019冠狀病毒病疫情對航空業的影響']\n",
            "['國立臺灣民主紀念館', '國立臺灣博物館', '國立臺灣歷史博物館', '國立臺灣美術館', '國立國父紀念館']\n",
            "['國立臺灣大學應用力學研究所', '鮑亦興', '中央研究院', '研究所', '吳政忠']\n",
            "['瑤池', '松山慈惠堂', '西王母', '王天君', '洞天']\n",
            "['即墨區', '祭海節', '端午節', '中元節與盂蘭盆節', '雞籠中元祭']\n",
            "['航空交通管制', '航空管制員', '空中接近', '飛行員', '航空安全']\n",
            "['紫荊文化集團', '我們的少年時代', '鳳凰衛視香港臺', '孃親舅大', '鳳凰優悅']\n",
            "['糖類', '硫', '脫氧核糖核酸', '肥料', '糖生物學']\n",
            "['黃初平', '藝術品', '白玉', '飄然臺']\n",
            "['顏色', '流星', '氧化石墨']\n",
            "['音樂產業', '竹內瑪莉亞', '司徒夢巖', '樂壇風雲50年', '椎名林檎']\n",
            "['琉球歷史', '琉球族', '美國統治琉球時期', '琉球獨立運動', '臺灣語言列表']\n",
            "['資本主義政治經濟學', '無政府資本主義', '馬克思主義政治經濟學', '社會主義政治經濟學', '新世界秩序']\n",
            "['托洛茨基主義', '列夫·謝多夫旅', '列夫·托洛茨基', '蘇聯', '武力']\n",
            "['爬山算法', '搜尋引擎最佳化', '局部搜索', '二分搜尋演算法', '效率市場假說']\n",
            "['天佑國王', '天佑安圭拉', '約翰_(英格蘭國王)']\n",
            "['從前，有個好萊塢', '阿斯泰·妮爾森', '謊言的烙印', '杜絲先生', '伊莎貝爾·阿佳妮']\n",
            "['英格蘭足球全國聯賽', '英格蘭足球超級聯賽', '英格蘭甲組聯賽', '英格蘭足球全國聯賽北', '英格蘭足球丁級聯賽']\n",
            "['緹坦妮雅', '奧伯隆', '蘭斯洛特', '天衛五', '仲夏夜之夢']\n",
            "['臺南市美術館', '國立臺灣美術館', '桃園市立美術館', '臺南市立圖書館公園總館', '新生四館']\n",
            "['燕山_(消歧義)', '境', '燕山大學', '中國']\n",
            "['張家祝', '國立臺灣大學應用力學研究所', '組織創始人', '張進福', '許智銘']\n",
            "['複合材料', '樹脂基複合材料', '碳纖維', '建築材料', '工程用水泥基複合材料']\n",
            "['印度諾貝爾獎得主列表', '諾貝爾獎得主列表', '賓夕法尼亞大學諾貝爾獎得主列表', '普林斯頓大學諾貝爾獎得主列表', '各國諾貝爾獎得主人數']\n",
            "['亞伯拉罕諸教', '伊斯蘭教與基督教關係', '一神論', '格魯吉亞宗教', '世界三大宗教']\n",
            "['臺北市立大學天母校區', '臺北市立啓明學校', '臺北市立大學天母校區體育館', '臺北市立大學博愛校區', '臺北市立古亭國民中學']\n",
            "['王國之心繫列', '普密蓬·阿杜德', '泰國', '我的愛_(1986年電影)', '愛']\n",
            "['威爾斯王妃戴安娜', '國際反地雷組織', '威爾士的喬治王子', '黛安娜', '威爾斯親王威廉']\n",
            "['湯姆·漢克斯', '獎勵', '湯姆·克魯斯', '湯姆·班克斯', '財產']\n",
            "['軟件開發工具包', '軟件開發', '軟件項目管理', '軟件開發工具', '應用程序']\n",
            "['潘恩', '托馬斯·潘恩', '羅伯特·崔特·潘恩', '迦勒·潘恩', '法語']\n",
            "['丁丁_(丁丁歷險記)', '丁丁與流浪漢', '丁丁在蘇聯', '魔戒：力量之戒', '丁丁歷險記']\n",
            "['賽普勒斯問題', '賽普勒斯', '歷史', '人類']\n",
            "['遞歸集合', '總體', '集合_(數學)', '有限集合', '元素週期表']\n",
            "['漢唐盛世', '隋朝', '盛世', '唐朝', '奠基石']\n",
            "['海冰', '北冰洋', '弗拉姆海峽', '冰山', '大西洋']\n",
            "['麥金塔', '後個人電腦時代', '蘋果地圖', '香港電燈', '中華電力']\n",
            "['馬克思學說研究會', '馬克思主義思想流派', '馬克思主義政治經濟學', '西方馬克思主義', '對馬克思主義的批評']\n",
            "['硫酸鈰(IV)', '過二硫酸', '硫酸氫鈉', '硫酸𨥙', '硫酸鋇']\n",
            "['妙義山', '洞天', '日本']\n",
            "['諾丁漢大學', '大學', '英國', '康奈爾大學']\n",
            "['櫟迷孔菌', '薄孔菌屬', '粗糙擬迷孔菌', '菌褶', '蕈環']\n",
            "['逍遙學派', '古希臘哲學', '新柏拉圖主義', '淡水學派與鹹水學派', '京都學派']\n",
            "['螢光燈', '水銀燈', '螢光棒', '紫外線', '啓輝器']\n",
            "['臺灣產業園區列表', '潭子科技產業園區', '經濟部產業園區管理局', '前鎮科技產業園區', '臺南文化創意產業園區']\n",
            "['貝雷特', '愛', '貝塔·雷·比爾']\n",
            "['澎湖廳長', '澎湖鎮', '張其光', '澎湖縣', '衛生福利部澎湖醫院']\n",
            "['蔡爾德·哈薩姆', '表現主義', '奧匈帝國', '貝爾特·莫里索', '奧古斯都']\n",
            "['中華人民共和國曾變更代管關係縣級市列表', '市轄區_(中華人民共和國)', '2010年中華人民共和國縣級以上行政區劃變更列表', '南川區', '2015年中華人民共和國縣級以上行政區劃變更列表']\n",
            "['香港國際機場', '希思羅機場', '機場', '吉隆坡國際機場', '啓德機場']\n",
            "['宋潢_(嘉慶壬戌進士)', '魏聯奎', '胡士相', '劉星耀', '山東省']\n",
            "['國立臺灣大學昆蟲標本館', '上海昆蟲博物館', '昆蟲採集', '臺灣昆蟲館', '海洋昆蟲']\n",
            "['香港商報', '大公報', '香港報業公會', '新晚報', '港人講地']\n",
            "['中國皇帝', '潛藩升府', '滿洲國皇帝', '大韓帝國皇帝', '女皇帝']\n",
            "['艾力汗·吐烈', '波爾託布福萊', '穆罕默德·伊敏', '東突厥斯坦', '紹斯波特']\n",
            "['臺中市大里區大元國民小學', '臺中市大里區益民國民小學', '臺中市大里區崇光國民小學', '原臺南長老教中學校講堂暨校長宿舍', '臺中市大里區永隆國民小學']\n",
            "['京口區', '江蘇省鎮江第一中學', '潤州區', '鎮江市', '京口閘遺址']\n",
            "['靈長目', '物種', '環物種']\n",
            "['麻原彰晃', '奧姆真理教的顛覆國家計劃', '被認定的恐怖組織列表', '真理國', '松本沙林毒氣事件']\n",
            "['秦腔', '普羅文學', '無產階級', '無產階級專政', '革命']\n",
            "['綠山城縣', '伊沃瓦', '綠山城', '薩根', '卡爾戈瓦']\n",
            "['電動機', '異步電動機', '電動發電機', '發動機', '衝壓發動機']\n",
            "['印度教神話', '印度', '印度教歷史', '印度教', '印度民族起義']\n",
            "['陳姿蓉', '阿希爾克洛德·德彪西', '家庭']\n",
            "[]\n",
            "['民族國家', '民族主義', '無國家民族', '中國語言', '中國民族列表']\n",
            "['九江市_(縣級)', '九江_(消歧義)', '九江市', '湖口縣', '九江地區']\n",
            "['政治審查', '臺灣歷史', '傘後組織', '白賊七', '臺灣']\n",
            "['蒙山大佛', '樂山大佛', '大佛', '唐朝']\n",
            "['主小行星帶', '小行星衛星', '小行星', '阿莫爾型小行星', '半人馬小行星']\n",
            "['形上學大綱', '慣性', '形上學', '操作定義', '能量']\n",
            "['司馬光', '司馬邕', '司馬朗', '司馬進', '司馬瓌']\n",
            "['皮埃爾·德·顧拜旦', '奧林匹克博物館', '國家奧林匹克委員會', '美國奧林匹克與殘疾人奧林匹克委員會', '2012年夏季殘疾人奧林匹克運動會']\n",
            "['議會', '民主和平論', '行政一體', '民主史', '不自由的民主']\n",
            "['樞要寶石', '藍寶石', '莫氏硬度', '紅寶石', '鑽石']\n",
            "['中國共產黨中央政治局常務委員會', '中國共產黨中央政治局', '朝鮮勞動黨中央委員會政治局', '政治局', '越南共產黨中央政治局常務委員會']\n",
            "['三對三世界盃籃球賽', '街頭籃球', '籃球', '3x3籃球', '國際籃球聯合會']\n",
            "['國際臺', '八大電視', '三立綜合臺', '中天電視海外頻道', '廣東廣播電視臺國際頻道']\n",
            "['517嗆馬保臺大遊行', '113人民火大一路嗆馬大遊行', '劉兆玄內閣', '馬英九政府', '830百日怒吼大遊行']\n",
            "['馬克思學說研究會', '馬克思主義思想流派', '馬克思主義政治經濟學', '西方馬克思主義', '對馬克思主義的批評']\n",
            "['臺北市政府捷運工程局', '臺北市政府', '臺北市政府文化局', '臺北市政府民政局', '臺北市政府產業發展局']\n",
            "['妊娠', '流產', '反覆流產', '非侵入性胎兒染色體基因檢測', '染色體畸變']\n",
            "['鹼石灰']\n",
            "['從前…以後', '信樂團', '爲情所困', '中文流行音樂', '閃靈樂團']\n",
            "['格羅特·雷伯', '卡爾·央斯基', '射電天文學', '無線電', '央斯基']\n",
            "['愛丁堡舊城', '愛丁堡大學舊學院', '19世紀', '世紀', '愛丁堡大學']\n",
            "['廣告標語', '資本主義', '這什麼啊', '自由', '廣告']\n",
            "['2000年被中華人民共和國處決的死刑犯列表', '中華人民共和國死刑制度', '死刑', '中華民國死刑制度', '馬來西亞死刑制度']\n",
            "['88式通用機槍', '輕機槍', '機槍', '通用機槍', '大宇K3輕機槍']\n",
            "['彗星', '百武二號彗星', '天文單位', '大小']\n",
            "['筆記型電腦', '工業電腦', '後個人電腦時代', '家庭劇院個人電腦', '個人電腦']\n",
            "['太陽風', '熱帶輻合帶', '風', '太陽圈', '太陽']\n",
            "['朕即國家', '君主專制', '沙皇專制制度', '路易十五', '路易十四']\n",
            "['鰓棘杜父魚', '梳鰭鬼杜父魚', '光滑平鮋', '遠東多線魚', '連鰭杜父魚']\n",
            "['壓力管理', '質量與重量的比較', '電子簡併壓力', '平衡', '質量']\n",
            "['京畿道', '亞洲', '京畿', '人口']\n",
            "['巴黎天文臺', '讓-多米尼克·卡西尼', '讓多米尼克·卡西尼', '喬瓦尼·多梅尼科·卡西尼', '卡西尼']\n",
            "['軟件測試', '自動化測試', '軟件開發', '自動測試設備', '產品經理']\n",
            "['皮埃爾·德·顧拜旦', '奧林匹克博物館', '1972年夏季奧林匹克運動會', '塞巴斯蒂安·柯伊', '國家奧林匹克委員會']\n",
            "['廣島城', '備後國', '廣島', '小田縣', '廣島縣']\n",
            "['鞏俐', '第71屆威尼斯影展', '蔡明亮', '侯孝賢', '第50屆金馬獎']\n",
            "['蘋果酒', '葡萄酒釀製', '葡萄酒', '葡萄酒工藝學', '香檳酒']\n"
          ]
        }
      ],
      "source": [
        "doc_path_temp = f\"data/train_doc5_temp.jsonl\"\n",
        "\n",
        "if Path(doc_path).exists():\n",
        "    with open(doc_path, \"r\", encoding=\"utf8\") as f:\n",
        "        predicted_results = pd.Series([\n",
        "            set(json.loads(line)[\"predicted_pages\"])\n",
        "            for line in f\n",
        "        ])\n",
        "else:\n",
        "    pandarallel.initialize(progress_bar=True, verbose=0, nb_workers=3)\n",
        "    TRAIN_DATA_TEMP = load_json(doc_path_temp)\n",
        "    train_df_temp = pd.DataFrame(TRAIN_DATA_TEMP)\n",
        "    predicted_results = train_df_temp.parallel_apply(\n",
        "        partial(\n",
        "            get_pred_pages_tfidf,\n",
        "            tokenizing_method=partial(tokenize, stopwords=stopwords),\n",
        "            vectorizer=vectorizer,\n",
        "            tf_idf_matrix=X,\n",
        "            wiki_pages=wiki_pages,\n",
        "            topk=topk,\n",
        "            threshold=0,\n",
        "        ), axis=1)\n",
        "    save_doc(TRAIN_DATA, predicted_results, mode=\"train\")"
      ]
    },
    {
      "cell_type": "code",
      "execution_count": 52,
      "metadata": {},
      "outputs": [
        {
          "name": "stdout",
          "output_type": "stream",
          "text": [
            "On Data:\n",
            "Precision: 0.15619667856510017\n",
            "Recall: 0.8990392648287386\n",
            "0.26615269873052044\n"
          ]
        }
      ],
      "source": [
        "print(\"On Data:\")\n",
        "precision = calculate_precision(TRAIN_DATA[:500], predicted_results)\n",
        "recall = calculate_recall(TRAIN_DATA[:500], predicted_results)\n",
        "print(calculate_f1(precision, recall))"
      ]
    },
    {
      "attachments": {},
      "cell_type": "markdown",
      "metadata": {},
      "source": [
        "### Step 2. Calculate our results"
      ]
    },
    {
      "cell_type": "code",
      "execution_count": 34,
      "metadata": {},
      "outputs": [
        {
          "name": "stdout",
          "output_type": "stream",
          "text": [
            "0.23376082300456397\n"
          ]
        }
      ],
      "source": [
        "precision = 0.143234\n",
        "recall = 0.635255\n",
        "print(calculate_f1(precision, recall))"
      ]
    },
    {
      "cell_type": "code",
      "execution_count": 26,
      "metadata": {},
      "outputs": [
        {
          "name": "stdout",
          "output_type": "stream",
          "text": [
            "Precision: 0.18608478934260148\n",
            "Recall: 0.8965468750000001\n",
            "F1 Score: 0.3082003637339536\n"
          ]
        }
      ],
      "source": [
        "precision = calculate_precision(TRAIN_DATA, predicted_results)\n",
        "recall = calculate_recall(TRAIN_DATA, predicted_results)\n",
        "f1_score = 2*(precision*recall)/(precision+recall)\n",
        "print(f\"F1 Score: {f1_score}\")"
      ]
    },
    {
      "attachments": {},
      "cell_type": "markdown",
      "metadata": {},
      "source": [
        "### Step 3. Repeat the same process on test set\n",
        "Create parsing tree"
      ]
    },
    {
      "cell_type": "code",
      "execution_count": 19,
      "metadata": {},
      "outputs": [],
      "source": [
        "hanlp_test_file = f\"data/hanlp_con_test_results.pkl\"\n",
        "if Path(hanlp_test_file).exists():\n",
        "    with open(hanlp_test_file, \"rb\") as f:\n",
        "        hanlp_test_results = pickle.load(f)\n",
        "else:\n",
        "    hanlp_test_results = [get_nps_hanlp(predictor, d) for d in TEST_DATA]\n",
        "    with open(hanlp_test_file, \"wb\") as f:\n",
        "        pickle.dump(hanlp_test_results, f)"
      ]
    },
    {
      "attachments": {},
      "cell_type": "markdown",
      "metadata": {},
      "source": [
        "Get pages via wiki online api"
      ]
    },
    {
      "cell_type": "code",
      "execution_count": 20,
      "metadata": {},
      "outputs": [
        {
          "data": {
            "application/vnd.jupyter.widget-view+json": {
              "model_id": "c308e33ea0084bf8b128c494b53cfe86",
              "version_major": 2,
              "version_minor": 0
            },
            "text/plain": [
              "VBox(children=(HBox(children=(IntProgress(value=0, description='0.00%', max=330), Label(value='0 / 330'))), HB…"
            ]
          },
          "metadata": {},
          "output_type": "display_data"
        },
        {
          "name": "stderr",
          "output_type": "stream",
          "text": [
            "Building prefix dict from the default dictionary ...\n",
            "Loading model from cache /tmp/jieba.cache\n",
            "Loading model cost 0.409 seconds.\n",
            "Prefix dict has been built successfully.\n"
          ]
        },
        {
          "name": "stdout",
          "output_type": "stream",
          "text": [
            "['顯微鏡學', '顯微鏡', '數碼顯微鏡', '掃描探針顯微鏡', '肉眼']\n"
          ]
        },
        {
          "name": "stderr",
          "output_type": "stream",
          "text": [
            "Building prefix dict from the default dictionary ...\n",
            "Loading model from cache /tmp/jieba.cache\n",
            "Loading model cost 0.369 seconds.\n",
            "Prefix dict has been built successfully.\n"
          ]
        },
        {
          "name": "stdout",
          "output_type": "stream",
          "text": [
            "['蜜蜂屬', '巢蜜', '蜂蜜']\n",
            "['綠山城縣', '伊沃瓦', '綠山城']\n",
            "['百科全書派', '百科全書，或科學、藝術和工藝詳解詞典', '安·羅伯特·雅克·杜閣', '保羅派', '哈斯卡拉運動']\n",
            "['魂斷藍橋', '亨格福德橋和五十週年紀念橋']\n"
          ]
        },
        {
          "name": "stderr",
          "output_type": "stream",
          "text": [
            "Building prefix dict from the default dictionary ...\n",
            "Loading model from cache /tmp/jieba.cache\n"
          ]
        },
        {
          "name": "stdout",
          "output_type": "stream",
          "text": [
            "['京臺高速鐵路', '京九鐵路', '京廣鐵路', '慶全線', '京仁線']\n"
          ]
        },
        {
          "name": "stderr",
          "output_type": "stream",
          "text": [
            "Loading model cost 0.356 seconds.\n",
            "Prefix dict has been built successfully.\n"
          ]
        },
        {
          "name": "stdout",
          "output_type": "stream",
          "text": [
            "['指南車']\n",
            "['鼕鼕的假期', '侯孝賢', '泰迪熊獎', '刺客聶隱娘', '第27屆金馬獎']\n",
            "['希臘神話', '神話學', '羅馬神話', '北歐神話']\n",
            "[]\n",
            "[]\n",
            "[]\n",
            "['2012年金星凌日']\n",
            "['世界地質公園列表', '中國國家地質公園', '中國省級風景名勝區', '甘肅張掖國家地質公園', '中華人民共和國國家級風景名勝區']\n",
            "['馬克思學說研究會', '馬克思主義思想流派', '新馬克思主義', '西方馬克思主義', '對馬克思主義的批評']\n",
            "['蜜蜂屬', '蜂蜜']\n",
            "['投資型硬幣', '銀']\n",
            "['一貫道', '彌勒教', '漢傳佛教', '蓮花生', '慚愧祖師']\n",
            "['索馬利蘭國旗', '索馬里國旗', '北馬其頓國旗', '馬拉維國旗', '北萊茵-威斯特法倫州旗']\n",
            "[]\n",
            "['總統制', '行政法', '政府首腦', '立法機關', '行政機關']\n",
            "['歐幾里得空間']\n",
            "['愛爾蘭國家的名稱', '愛爾蘭自由邦']\n",
            "['新北市區公車790路線', '基隆捷運', '基隆車站', '臺中市公車131路', '新北市區公車575路線']\n",
            "['回族', '伊斯蘭教的傳播', '穆斯林', '穆斯林世界', '伊斯蘭教']\n",
            "['左鎮北極殿']\n",
            "[]\n",
            "['世界大學學術排名', '愛丁堡', '世界銀行', '愛丁堡納皮爾大學', '愛丁堡大學']\n",
            "['撞擊坑', '普維斯撞擊坑', '撞擊結構', '鷹撞擊坑']\n",
            "['希臘神話', '神', '北歐神話', '自然神論', '半神']\n",
            "['煉武臺站', '江景線', '一山站', '炭峴站', '江景站']\n",
            "[]\n",
            "[]\n",
            "['天鵝湖', '芭蕾舞劇列表']\n",
            "['法輪功', '法輪功在臺灣', '法輪功在各地的發展及影響', '對法輪功的鎮壓']\n",
            "['軍政府', '臺灣戰後時期', '軍事管治', '路易斯·伊納西奧·盧拉·達席爾瓦']\n",
            "['阿里·本·阿比·塔利卜', '伊斯蘭教的先知', '穆罕默德', '伊斯蘭教', '聖經與古蘭經的相似之處']\n",
            "[]\n",
            "['奧斯卡', '奧斯卡最佳實景短片獎', '奧斯卡金像獎']\n",
            "[]\n",
            "['歐內斯特·勞倫斯', '馬克·奧利芬特', '羅伯特·奧本海默', '格倫·西奧多·西博格']\n",
            "['地震波', '地震', '2011年日本東北地方太平洋近海地震', '海嘯']\n",
            "['通用產品代碼', '目標代碼', '二維碼', 'QR碼']\n",
            "['西奧多·羅斯福']\n",
            "['彌涅耳瓦', '奎裏努斯', '冥界神']\n",
            "[]\n",
            "['英屬婆羅洲', '英屬婆羅洲日佔時期', '北婆羅洲', '北婆羅洲渣打公司', '英國美洲殖民地']\n",
            "['馬克士威方程組的歷史', '馬克士威方程組']\n",
            "[]\n",
            "['文檔標記語言比較', '輕量級標記語言', '語音合成標記語言']\n",
            "['紐西蘭人口', '華裔新西蘭人', '新西蘭王國', '新澤西州', '奧克蘭大區']\n",
            "['民族國家', '貴州省民族構成列表', '新疆維吾爾自治區民族構成列表', '山東省民族構成列表', '海南省民族構成列表']\n",
            "['玩具總動員', '史蒂夫·喬布斯', '皮克斯動畫工作室', '電腦合成影像', '約翰·斯卡利']\n",
            "['釀造醋', '鎮江香醋', '油醋汁', '浙醋', '醋']\n",
            "['211工程', '985工程', '上海大學', '中西部高校基礎能力建設工程', '行政機關']\n",
            "['謝長廷', '林番王', '中國國民黨黨產爭議', '1947年中華民國國民大會代表選舉', '2014年中華民國直轄市議員及縣市議員選舉']\n",
            "['珠江三角洲']\n",
            "['昭武九姓', '第五姓', '九方姓', '孫武', '延姓']\n",
            "['伊斯蘭教與基督教關係', '拜星教', '亞伯拉罕諸教', '土耳其宗教', '亞伯拉罕']\n",
            "['航空交通管制', '航空管制員', '空中接近', '飛行員', '航空安全']\n",
            "[]\n",
            "['大波士頓']\n",
            "['麗臺科技', '創新', '黃崇源', '質量控制', '醫療衛生哲學']\n",
            "['張藝謀', '第7屆威尼斯影展', '王家衛', '侯孝賢', '第70屆威尼斯國際電影節']\n",
            "[]\n",
            "['吳健雄', '吳健雄學院', '戴運軌', '範緒筠', '真聖女王']\n",
            "[]\n",
            "['對日民間索賠', '收割炸彈', '郵包炸彈', '集束炸彈', '航空炸彈']\n",
            "['再造人卡辛']\n",
            "['馬克思學說研究會', '馬克思主義思想流派', '西方馬克思主義', '後馬克思主義', '新馬克思主義']\n",
            "['2018年臺中世界花卉博覽會', '2010年臺北國際花卉博覽會']\n",
            "['汾河', '晉中市', '呂梁市']\n",
            "['香港科技大學', '香港樹仁大學', '西貢半島', '香港科技大學（廣州）', '香港獨立運動']\n",
            "['真菌', '雙核亞界', '細菌', '藍菌門', '古菌']\n",
            "[]\n",
            "['果酒', '蘋果酒', '水果', '中國酒文化', '果實']\n",
            "['八家將', '漢光武帝', '淮海戰役', '耿忠']\n",
            "[]\n",
            "['香港電影編劇家協會', '香港電臺第二臺', '陳慕賢', '香港商業電臺節目列表', '香港電臺']\n",
            "[]\n",
            "['阿曼', '東阿拉伯半島', '阿曼地理', '阿曼蘇丹']\n",
            "[]\n",
            "[]\n",
            "['臺中市私立曉明女子高級中學', '臺中市立臺中女子高級中等學校', '祁志英', '花蓮縣私立海星高級中學', '國立彰化女子高級中學']\n",
            "['索爾']\n",
            "['行政法', '行政機關', '公共行政學', '行政程序法', '野草莓運動']\n",
            "['一貫道', '青蓮教', '彌勒教', '韓太湖', '唸佛']\n",
            "[]\n",
            "['東漢末年', '涼州之亂', '黃巾之亂', '戚宦之爭', '三國']\n",
            "['公共廣播', '廣播', '韓國廣播公司', '挪威廣播公司']\n",
            "['輻射海百合', '軟體動物', '半海百合', '太陽女神螺', '海林檎']\n",
            "['木星的衛星', '木星', '太陽系', '木星日食']\n",
            "['亞斯納亞波利亞納', '列夫·托爾斯泰區', '俄國社會民主工黨']\n",
            "['蛋白質組學', '蛋白質交互作用', '組織蛋白', '蛋白質結構', '蛋白質摺疊']\n",
            "[]\n",
            "['全買']\n",
            "['社會信用體系']\n",
            "[]\n",
            "['釣魚臺列嶼', '亞洲胡瓜魚', '南小島', '胡瓜魚', '釣魚臺']\n",
            "['懷化市第三中學', '懷化市', '蘭溪市', '鶴城區', '湖北省鄉級以上行政區列表']\n",
            "['臺北市立啓明學校', '臺北美國學校', '臺灣特殊教育學校列表', '國立臺中教育大學', '學校']\n",
            "[]\n",
            "['螺旋動物']\n",
            "['六和敬']\n",
            "['國立臺灣科技大學管理研究所', '國立臺灣科技大學研揚大樓']\n",
            "[]\n",
            "['證明', '零知識證明']\n",
            "['劉家妏', '認識的妻子']\n",
            "['虛擬教研中心']\n",
            "[]\n",
            "['IPod', '量綱']\n",
            "['吉爾伽美什史詩', '荷馬史詩', '荷馬', '澤諾多託斯']\n",
            "[]\n",
            "['正壬醇', '正癸醇', '1-十四烷醇', '脂肪醇', '1-己醇']\n",
            "[]\n",
            "['世界最佳宜居城市', '經濟學人信息社', '珀斯']\n",
            "['民族國家', '貴州省民族構成列表', '新疆維吾爾自治區民族構成列表', '海南省民族構成列表', '廣東省民族構成列表']\n",
            "[]\n",
            "['香港報業', '香港島', '香港傳媒', '香港獨立運動', '金庸']\n",
            "['晉元帝', '王舒', '五馬渡江', '東晉', '琅邪王氏']\n",
            "['Gmail']\n",
            "['香港語文', '聖瑪加利男女英文中小學']\n",
            "['田中綱常', '瑯嶠十八社', '鹿兒島縣', '兒玉源太郎', '兒玉利國']\n",
            "[]\n",
            "[]\n",
            "['南北朝']\n",
            "['赫爾維林峯', '威廉·赫茲利特', '沃爾特·司各特']\n",
            "['世界青年日', '科隆', '科隆納家族']\n",
            "['電子計算機', '軟件', '計算機硬體歷史', '理論計算機科學', '地理信息系統']\n",
            "['沈鈞儒', '王頌蔚']\n",
            "['湖塘站', '塘湖站', '濟寧站', '兗州站', '臺南車站']\n",
            "['變星命名法', '拜耳命名法', '拜耳命名法恆星表', '古德命名法']\n",
            "['小富蘭克林·德拉諾·羅斯福', '羅斯福家族', '羅斯福大學', '富蘭克林·德拉諾·羅斯福大橋']\n",
            "[]\n",
            "['電子陶瓷', '陶瓷電容', '介電陶瓷', '陶瓷工程', '陶瓷']\n",
            "['吉勒摩·戴託羅之皮諾丘', '皮埃爾-夏爾·維爾納夫', '伊麗莎白二世', '奧斯卡二世', '克里斯蒂娜女王']\n",
            "['氏族']\n",
            "['顏色', '毛主席語錄']\n",
            "['金姓', '回族']\n",
            "[]\n",
            "['虛擬團隊']\n",
            "['羅馬神話', '普路託', '冥神']\n",
            "[]\n",
            "['鍀', '恆星演化', '葉綠素d', '恆星', '葉綠素']\n",
            "[]\n",
            "['複合材料', '樹脂基複合材料', '碳纖維', '建築材料', '工程用水泥基複合材料']\n",
            "['馬丁·路德·金恩遇刺案']\n",
            "['哈比人', '阿爾達的語言', '哈比人列表', '第三紀元', '托爾金家族']\n",
            "['作曲家']\n",
            "[]\n",
            "[]\n",
            "[]\n",
            "[]\n",
            "[]\n",
            "['古希臘悲劇', '古希臘喜劇', '奠祭']\n",
            "['原日本勸業銀行臺南支店', '臺灣銀行列表', '臺灣西部', '勸業銀行舊廈', '臺灣清治時期']\n",
            "['臺灣日治時期師範教育機關', '臺灣紡績']\n",
            "['火星日食', '火星的衛星', '火衛一', '火星', '天王星的衛星']\n",
            "['楊小凱', '古典經濟學', '奧地利學派', '約翰·加爾佈雷斯', '2004年7月逝世人物列表']\n",
            "['軟件開發', '單元測試', '軟件開發工具包', '軟件項目管理', '軟件測試']\n",
            "[]\n",
            "['俄羅斯君主列表']\n",
            "['羅馬神話', '古羅馬宗教', '古希臘羅馬神話', '神話學', '希臘神話']\n",
            "['蔡爾德·哈薩姆', '表現主義', '奧匈帝國', '吉倫特派', '奧古斯都']\n",
            "['全羅北道', '全州市', '忠清北道', '清州市', '全羅南道']\n",
            "['莫子儀', '少女小漁劉若英的美麗與哀愁', '劉若英', '音樂劇', '李欣芸']\n",
            "['藍寶石']\n",
            "[]\n",
            "['亞當']\n",
            "['伍迪·艾倫', '時代雜誌百大英文小說', '漫威漫畫', '伍迪·艾倫獲獎與提名列表', 'DC漫畫']\n",
            "[]\n",
            "['護照', '難民旅行證', '中華民國護照', '1954年公約旅行證', '中華人民共和國護照']\n",
            "['釀造醋', '鎮江香醋', '油醋汁', '浙醋', '醋']\n",
            "['上座部', '同性戀與佛教', '根本分裂', '佛教派別', '漢傳佛教']\n",
            "['卡拉卡爾帕克人', '木伊那克', '卡拉卡爾帕克斯坦共和國', '卡爾梅克共和國', '穆薩·葉爾尼亞佐夫']\n",
            "['南京大學附屬中學', '南京師範大學附屬中學', '南京田家炳高級中學', '南京市金陵中學', '南京師範大學附屬小學']\n",
            "['現代汽車集團', '五菱汽車', '廣汽集團', '中國重型汽車集團']\n",
            "[]\n",
            "[]\n",
            "['馬克思學說研究會', '馬克思主義思想流派', '對馬克思主義的批評', '西方馬克思主義', '馬克思主義政治經濟學']\n",
            "[]\n",
            "['張其昀', '楊朝祥', '梅貽琦']\n",
            "['環境監測']\n",
            "['馬克思主義政治經濟學', '古典經濟學', '馬克思學說研究會', '政治經濟學批判', '對馬克思主義的批評']\n",
            "['乙烯基', '乙炔二醇', '氯乙烯', '苯乙炔', '乙炔']\n",
            "['臺中市立臺中女子高級中等學校', '上海市第三女子中學']\n",
            "['埃氏鱗魨', '帕氏窄額魨', '短尾短刺圓魨', '大鱗寬箬鰨', '裸四梳魨']\n",
            "['格奧爾格·康托爾', '康托爾函數']\n",
            "['劍橋大學三一學院']\n",
            "[]\n",
            "['張五常', '中華人民共和國勞動合同法', '勞動合同制', '中華人民共和國法治', '對習近平的爭議']\n",
            "['上座部', '根本分裂', '部派佛教', '天主教會大分裂', '漢傳佛教']\n",
            "[]\n",
            "['世紀']\n",
            "['臺灣大學卡通漫畫研究社', '臺灣漫畫月刊', '臺灣動畫歷史', '臺灣漫畫雜誌', '亞基拉']\n",
            "[]\n",
            "['關羽', '武神趙子龍', '反三國演義', '樊城之戰', '關維麟']\n",
            "['阿姆斯特丹證券交易所', '阿姆斯特丹舊證券交易所', '阿姆斯特丹史基浦機場', '阿姆斯特丹中央車站', '蒙特雷']\n",
            "['鱸形目', '鯡形目', '世界上最小的魚類', '棘鰭類', '輻鰭魚']\n",
            "['射影表示', '隊列研究', '分子對稱性']\n",
            "['李祖德', '邱文達', '臺北醫學大學']\n",
            "['土星的衛星', '天王星的衛星', '木星的衛星', '海王星的衛星', '木星日食']\n",
            "['古希臘悲劇', '奠祭', '古希臘喜劇', '祭祀']\n",
            "['邏輯史', '非經典邏輯', '邏輯']\n",
            "['鳳凰', '百鳥朝鳳', '朱雀']\n",
            "['高安公寓', '淮海公寓', '西湖公寓']\n",
            "['石灰', '石灰鹼釉', '氫氧化鈣', '鹼石灰']\n",
            "[]\n",
            "['產前發育', '胚胎髮育', '胎兒鏡檢查', '突變', '人工流產']\n",
            "['不平等條約', '天津條約', '神奈川條約', '中美共同防禦條約', '中日天津會議專條']\n",
            "['特倫甘納邦', '卡因納加爾縣']\n",
            "['分子', '雙原子分子', '化學鍵', '共價鍵', '雙氫鍵']\n",
            "[]\n",
            "['弗拉基米爾·普京的政治生涯', '弗拉基米爾·普京的公衆形象']\n",
            "['香港聖公會院校', '史超域', '史璧琦', '香港聖公會聖基道兒童院']\n",
            "['東官郡', '崇義郡', '南北朝行政區劃', '竟陵郡']\n",
            "['鱸形目', '齒頭鯡', '鯡形目', '輻鰭魚', '衣魚目']\n",
            "['情天恨海', '月亮和六便士']\n",
            "[]\n",
            "['軟實力', '巧實力', '銳實力', '硬實力']\n",
            "['臺北市萬華區老松國民小學', '高玉樹', '臺北市政府', '臺灣古蹟列表', '臺北市']\n",
            "[]\n",
            "[]\n",
            "['鈴木敏文']\n",
            "[]\n",
            "['慕容復', '慕容博', '金輪國師', '姑蘇慕容', '金庸學']\n",
            "['民主進步黨主席', '黨外運動', '民進']\n",
            "['形態分類', '原生生物', '病毒分類表', '生命', '生物']\n",
            "['弗洛裏安·畢卡索']\n",
            "['荷馬史詩', '荷馬']\n",
            "['翰林院', '汪士鍠']\n",
            "['南京大學附屬中學', '南京師範大學附屬中學', '江蘇省蘇州實驗中學', '南京市金陵中學', '南京田家炳高級中學']\n",
            "['一直在一起吧', '我們的夏日夢']\n",
            "[]\n",
            "['國民政府', '中華民國國家元首列表', '中華民國大陸時期', '國民政府主席', '國民政府軍事委員會']\n",
            "['胸圍', '哺乳胸罩', '隱形胸罩', '罩杯', '運動胸罩']\n",
            "[]\n",
            "[]\n",
            "['民族國家', '貴州省民族構成列表', '新疆維吾爾自治區民族構成列表', '山東省民族構成列表', '海南省民族構成列表']\n",
            "['桃園市立美術館', '國立臺灣美術館', '臺南市美術館', '國立臺灣大學機械工程館']\n",
            "[]\n",
            "['伊普蘇斯戰役', '克拉特魯斯', '對伊斯蘭國的軍事打擊', '巴德爾組織', '伊祖沙·古爾']\n",
            "['啤酒', '釀造酒', '朝鮮民主主義人民共和國的啤酒', '自釀啤酒', '酒精發酵']\n",
            "['日韓合併條約', '馬關條約', '中日和約', '第三次日韓協約', '日韓議定書']\n",
            "['蘇格拉底反詰法', '蘇格拉底', '蘇格拉底式的質疑']\n",
            "[]\n",
            "[]\n",
            "['漢趙', '劉淵', '趙', '劉曜', '趙浚']\n",
            "['民族國家', '貴州省民族構成列表', '新疆維吾爾自治區民族構成列表', '山東省民族構成列表', '海南省民族構成列表']\n",
            "['華南理工大學建築學院', '華南理工大學前沿軟物質學院', '華南理工大學校友列表', '華南理工大學軟件學院', '華南理工大學電子商務系']\n",
            "[]\n",
            "['臺南車站', '臺北車站', '西門站', '伊達車站', '金谷川車站']\n",
            "['遊輪', '客運樓', '維京客輪', '郵輪母港', '遠洋定期船']\n",
            "['特別攻擊隊', '日本投降', '自衛隊', '大日本帝國', '日本']\n",
            "['太行山', '臺灣山脈列表', '阿里山山脈', '中國山脈列表', '玉山山脈']\n",
            "[]\n",
            "['馬純岱']\n",
            "[]\n",
            "[]\n",
            "['敏迷龍屬', '重龍屬', '木他龍屬', '三角龍屬', '嘉年華龍屬']\n",
            "[]\n",
            "['伊拉克內戰', '尼克·貝爾格']\n",
            "['謝芳', '巍子', '孫紅雷', '魏積安', '戲劇']\n",
            "[]\n",
            "['奧斯卡最佳女配角獎', '哈維爾·巴登', '吉勒摩·戴託羅之皮諾丘', '安東尼·奎恩', '伊麗莎白二世']\n",
            "['行憲紀念日', '聖誕節']\n",
            "[]\n",
            "[]\n",
            "['溶液', '理想溶液', '溶解度', '高氯酸鎂', '緩衝溶液']\n",
            "['小查理·卓別林', '狄奧多爾·科穆寧·杜卡斯', '悉尼·約翰·卓別林']\n",
            "['狻猊']\n",
            "['文化大革命發動五十週年', '中國共產黨中央委員會關於無產階級文化大革命的決定', '秦腔']\n",
            "[]\n",
            "['梁柏豪', '原振俠系列', '朝花夕拾', '亦舒']\n",
            "[]\n",
            "['張谷英村', '國家點火設施', '地形', '中國給排水現狀', '基礎設施']\n",
            "['變流技術', '電力電子學', '迴轉變流機', '直流電動機', '直流-直流轉換器']\n",
            "[]\n",
            "['捷克人', '小行星7796', '小行星6801', '小行星7896', '小行星8573']\n",
            "['京杭大運河', '浙東運河', '大運河']\n",
            "['塞班島']\n",
            "['國立臺灣大學昆蟲標本館']\n",
            "['民族國家', '貴州省民族構成列表', '新疆維吾爾自治區民族構成列表', '山東省民族構成列表', '海南省民族構成列表']\n",
            "[]\n",
            "['裸子植物', '種子蕨門', '臺灣的裸子植物']\n",
            "['前波美拉尼亞-格賴夫斯瓦爾德縣', '西北梅克倫堡縣', '東前波美拉尼亞縣', '前波美拉尼亞-呂根縣', '梅克倫堡湖區郡']\n",
            "['一貫道', '高王觀世音經', '青蓮教', '韓太湖', '無生老母']\n",
            "[]\n",
            "['裏運河', '浙東運河', '京杭大運河', '嘉興市']\n",
            "['歐陸舞曲']\n",
            "['敏迷龍屬', '重龍屬', '木他龍屬', '三角龍屬', '嘉年華龍屬']\n",
            "['自由臺灣黨', '劉一德', '無黨團結聯盟']\n",
            "['棘皮動物', '海林檎', '輻射海百合', '半海百合', '後口動物']\n",
            "['基桑加尼', '老楞佐·蒙森沃·帕辛亞', '約瑟夫·卡薩武布']\n",
            "['轅門', '行轅', '第二次國共內戰', '士兵', '軍團士兵']\n",
            "['加布艾萊西島', '杜布莫爾島', '聖誕島', '羅斯島', '亞彭島']\n",
            "['贊育醫院', '香港醫院列表', '香港醫療改革', '香港佛教醫院', '香港公營醫療']\n",
            "[]\n",
            "['城市規劃', '天津城市規劃', '南京大學城市規劃與設計系', '北京市城市管理委員會', '省域副中心城市']\n",
            "['內燃機', '氣化反應', '燃燒', '生物質', '粉塵燃燒']\n",
            "['側生動物', '腎管動物', '動物', '浮浪幼蟲樣動物', '中生動物']\n",
            "[]\n",
            "[]\n",
            "['荷馬史詩']\n",
            "['霜凍優格', '凝脂奶油', '意式奶凍', '蛋卷冰淇淋', '冰淇淋']\n",
            "['澳門2011年度頒授勳章、獎章和獎狀名單', '澳門2012年度頒授勳章、獎章和獎狀名單', '澳門2019年度頒授勳章、獎章和獎狀名單', '澳門2010年度頒授勳章、獎章和獎狀名單', '澳門2017年度頒授勳章、獎章和獎狀名單']\n",
            "[]\n",
            "[]\n",
            "['阿霞', '尼古拉·阿列克謝耶維奇·涅克拉索夫']\n",
            "['安那託利亞語族', '歐洲語言', '拉丁歐洲', '亞非語系', '意大利語族']\n",
            "['石灰', '氫氧化鈣', '鹼石灰', '石灰鹼釉', '銅氨溶液']\n",
            "[]\n",
            "['安德斯·海爾斯伯格', '丹麥議會', 'GCC', '可移植C編譯器', '丹麥國家足球隊']\n",
            "['普立茲公共服務獎', '普利茲克建築獎', '諾貝爾文學獎', '特別貢獻獎', '楊士琪卓越貢獻獎']\n",
            "['江戶時代', '江戶幕府', '德川家康', '德川將軍家', '徵夷大將軍']\n",
            "[]\n",
            "['鹿鼎記', '月雲']\n",
            "['獎盃']\n",
            "['正壬醇', '正癸醇', '香葉醇', '香葉烯', '莰烯']\n",
            "[]\n",
            "['趙孝成王']\n",
            "['馬達加斯加', '馬達加斯加的企鵝', '生物多樣性', '生物多樣性熱點', '生物地理分佈區']\n",
            "['淄博市', '東南丘陵', '棗莊市', '濟寧市', '常德市']\n",
            "['鎮江市', '潤州區', '京口區', '揚州市', '江蘇省鎮江第一中學']\n",
            "[]\n",
            "['澎湖廳長', '澎湖縣']\n",
            "['相對性狀', '僞體染色體區', 'X染色體', '顯性', '性狀']\n",
            "[]\n",
            "[]\n",
            "['鍀', '恆星演化', '恆星', '鍀星', '紅巨星']\n",
            "['決定性問題', '動態規劃', '問題', '中國郵遞員問題', '計算複雜性理論']\n",
            "['馬島靈貓']\n",
            "['淮劇']\n",
            "[]\n",
            "['蟲川大杉車站', '上越市', '浦川原站', '犀潟車站', '北北線']\n",
            "['Meebo', 'Kopete', 'YM', 'Adium', '信差']\n",
            "['臺北市私立道明外僑學校', '臺灣國際學校列表', '臺北市立陽明高級中學', '臺北市立啓聰學校', '臺北市政府']\n",
            "[]\n",
            "['阿美族']\n",
            "[]\n",
            "['IST娛樂', '銀河娛樂', '英皇娛樂']\n",
            "['弗朗西斯科·佛朗哥獨裁', '弗朗西斯科·佛朗哥', '西班牙內戰', '西班牙王位繼承戰爭', '第二次世界大戰期間的西班牙']\n",
            "['臺中市私立曉明女子高級中學', '臺中市立臺中女子高級中等學校', '祁志英', '清華大學校園', '花蓮縣私立海星高級中學']\n",
            "['鹿兒島縣', '鹿兒島市', '兒玉源太郎', '瑯嶠十八社', '兒玉利國']\n",
            "['鐵達尼號船員列表']\n",
            "[]\n",
            "['冠蕉鵑', '綠色', '眼珠顏色', '色素細胞', '火龍果']\n",
            "['燕山大學', '河北大學', '湖北工業大學', '河北農業大學', '武漢紡織大學']\n",
            "['馬克思學說研究會', '馬克思主義思想流派', '馬克思主義政治經濟學', '西方馬克思主義', '對馬克思主義的批評']\n",
            "['計算機工程', '電子計算機', '計算機硬體歷史', '理論計算機科學', '地理信息系統']\n",
            "['神農', '神農本草經']\n",
            "['二二八和平紀念公園']\n",
            "['西亞', '澳大拉西亞', '全北界', '亞洲']\n",
            "['劉若英', '劇情片', '愛情呼叫轉移2：愛情左右', '愛情片', '少女小漁劉若英的美麗與哀愁']\n",
            "['汞', '汞中毒', '牙科用汞齊', '汞齊', '氯化亞汞']\n",
            "[]\n",
            "['法國最美村莊']\n",
            "['世界青年日', '中華基督教會全國總會']\n",
            "['道德義務', '行爲', '自由意志主義', '言論自由', '身體意象']\n",
            "['第19號作戰令', '公海艦隊自沉事件', '大艦隊']\n",
            "['猶太教與基督教', '基督教歷史', '猶太教', '基督教藝術', '密傳基督教']\n",
            "['毒魚豆']\n",
            "['喬伊魯科蒂亞', '賽普勒斯']\n",
            "['高安公寓', '淮海公寓', '西湖公寓', '瑞華公寓']\n",
            "['操作系統使用份額']\n",
            "['藥物', '藥物過量', '食物', '藥物測試', '約會強姦藥物']\n",
            "['慈禧太后', '戊戌變法', '光緒帝', '兩宮聽政']\n",
            "['海王星的衛星', '海衛十一', '土星的衛星', '木星的衛星', '衛星']\n",
            "['植酸', '肌醇三磷酸', '磷酸鈉', '肌醇單磷酸酶', '脂類']\n",
            "['吳天威']\n",
            "['新北市', '基隆市', '新竹市', '臺灣行政區劃', '橫濱市']\n",
            "['新興宗教', '原始宗教', '世界主要宗教', '宗教的進化起源', '宗教史']\n",
            "['蟲川大杉車站', '大杉站', '鵜杉車站', '燕三條車站', '杉戶高野臺站']\n",
            "['抒情歌曲', '另類搖滾', '蔡依林', '前衛搖滾', '紅色歌曲']\n",
            "['李祖德', '邱文達', '臺北醫學大學']\n",
            "['基隆市', '新北市', '欽州市', '中華民國疆域', '臺灣行政區劃']\n",
            "['操作系統使用份額', '操作系統']\n",
            "['美國領土擴張']\n",
            "[]\n",
            "[]\n",
            "['虛擬教研中心', '教研室']\n",
            "['網紋長頸鹿']\n",
            "[]\n",
            "[]\n",
            "['印度諾貝爾獎得主列表', '諾貝爾獎得主列表', '諾貝爾經濟學獎', '京都大學諾貝爾獎得主列表']\n",
            "['密克羅尼西亞運動會', '卡皮托爾希爾']\n",
            "['輕機槍', '88式通用機槍', 'T91戰鬥步槍', '95式自動步槍', '機槍']\n",
            "['亞裔美國人', '華裔美國人', '歐裔美國人', '臺灣裔美國人', '印度裔美國人']\n",
            "['有機發光晶體管']\n",
            "[]\n",
            "['臺灣產業園區列表', '臺南文化創意產業園區', '湖南中醫藥大學', '經濟部產業園區管理局', '新北產業園區']\n",
            "[]\n",
            "['馬克思學說研究會', '馬克思主義思想流派', '對馬克思主義的批評', '西方馬克思主義', '馬克思主義政治經濟學']\n",
            "['不飽和烴', '雙硫鍵', '炔烴', '1-丁炔', '環烴']\n",
            "[]\n",
            "[]\n",
            "[]\n",
            "['二氧化錳', '高錳酸鹽', '錳酸鉀', '核苷酸', '高錳酸鉀']\n",
            "['中華人民共和國人事部', '有關部門', '中華人民共和國勞動人事部', '中華人民共和國', '中華人民共和國勞動和社會保障部']\n",
            "['Astropulse', '搜尋地外文明計劃', 'BOINC', '普適計算', '加利福尼亞大學河濱分校']\n",
            "['李賦寧']\n",
            "['分治島嶼列表', '島嶼國家列表', '島嶼國家']\n",
            "['語言教育', '內容和語言整合學習']\n",
            "['馬克思學說研究會', '馬克思主義思想流派', '西方馬克思主義', '後馬克思主義', '新馬克思主義']\n",
            "['第8週期元素', '元素週期表', '擴展元素週期表', '11族元素', '元素週期律']\n",
            "['臺東飛行場']\n",
            "[]\n",
            "[]\n",
            "['下夸克', '上夸克', '夸克', '底夸克', '頂夸克']\n",
            "['臺北州立臺北第一中學校', '臺北市立建成國民中學', '臺北州立臺北第四中學校', '臺北', '臺灣日治時期高等教育機關']\n",
            "['宋武帝', '東晉', '魏晉南北朝', '劉暠', '東晉演義']\n",
            "[]\n",
            "[]\n",
            "['排卵', '左炔諾孕酮']\n",
            "['室女座110', '室女座20', '室女座']\n",
            "[]\n",
            "['主小行星帶', '小行星衛星', '小行星', '大遷徙假說', '阿莫爾型小行星']\n",
            "['大衛·貝克漢姆', '主觀價值理論', '最有價值選手', '勞動價值理論']\n",
            "[]\n",
            "['哈佛-麻省理工醫療科技學院', '第三次世界大戰', '第二次冷戰', '南京大學', '應用科學']\n",
            "['魔力月光']\n",
            "['數學', '古希臘數學', '宗教地理學']\n",
            "['昌意', '女節', '顓頊', '嫘祖', '嚳']\n",
            "['丁丁在蘇聯', '丁丁與流浪漢']\n",
            "['劍橋大學基督聖體學院', '劍橋大學']\n",
            "[]\n",
            "['大運河', '浙東運河', '京杭大運河']\n",
            "['1840年美國總統選舉', '安娜·哈里遜']\n",
            "['計算機工程', '電子計算機', '計算機硬體歷史', '理論計算機科學', '地理信息系統']\n",
            "[]\n",
            "[]\n",
            "['小麥', '玉米', '中非共和國經濟', '孟加拉國農業', '可維持產量']\n",
            "[]\n",
            "[]\n",
            "['蟲川大杉車站', '犀潟車站', '浦川原站', '上越市', '北北線']\n",
            "['殺真菌劑', '真菌', '真菌學', '細菌', '細菌結構']\n",
            "['奧利華·史東', '詹姆士·艾佛利', '艾瑪·史東', '第51屆奧斯卡金像獎', '詹姆斯·史都華']\n",
            "['中國史前文化', '中國中石器文化列表', '石器時代', '新石器時代', '中石器時代']\n",
            "['人類演化', '演化人類學', '人類多地起源說', '人亞科', '人科']\n",
            "['弗里德里希·阿道夫·艾伯特']\n",
            "[]\n",
            "['希臘神話', '神話學', '羅馬神話', '北歐神話']\n",
            "['變溫動物', '動物', '似哺乳爬行動物', '空有熱量', '爬行動物']\n",
            "[]\n",
            "['民族國家', '貴州省民族構成列表', '新疆維吾爾自治區民族構成列表', '山東省民族構成列表', '海南省民族構成列表']\n",
            "[]\n",
            "['伊拉克戰爭', '伊拉克空軍', '伊拉克內戰', '英國伊拉克戰爭', '伊拉克總理']\n",
            "[]\n",
            "['沈鈞儒']\n",
            "['徐有庠']\n",
            "[]\n",
            "['香港聖公會院校', '史超域', '史璧琦', '香港聖公會聖基道兒童院']\n",
            "['產前護理', '中世紀後期']\n",
            "[]\n",
            "['藥物', '生物藥理學', '藥物戒斷', '疾病', '藥物測試']\n",
            "['阿列日省市鎮列表', '伊曼扎德·哈利勒帕夏', '阿卜杜勒-阿齊茲·本·阿卜杜拉赫曼·本·費薩爾·阿勒沙特', '阿卜杜勒-侯賽因·米爾扎·法爾曼法爾馬', '阿卜杜勒·馬吉德·米爾扎']\n",
            "[]\n",
            "[]\n",
            "['蔡英文政府', '蔡英文相關爭議', '習朱會', '中國國民黨第十九次全國代表大會', '蔡英文']\n",
            "['丁丁在蘇聯', '丁丁與流浪漢']\n",
            "['氰化鋰', '氰化鋁', '氰化氫', '氰化鈉', '疊氮化鋰']\n",
            "['北宋']\n",
            "['泛斯拉夫主義', '西斯拉夫民族', '波蘭第二共和國', '三十年戰爭', '日耳曼人']\n",
            "['漢初三傑', '漢', '劉邦']\n",
            "['愛丁堡舊城', '愛丁堡皇家天文臺', '愛丁堡大學舊學院', '愛丁堡市政廳', '愛丁堡城堡']\n",
            "['香杏麗蘑', '杏香兔兒風', '黏小奧德蘑', '松口蘑']\n",
            "['狄仁傑', '新刻京本通俗演義增像包龍圖判百家公案全傳', '趙勉', '周墀', '宋朝宰相列表']\n",
            "['磁控濺射', '物理氣相沉積', '薄膜電晶體', '薄膜', '沉積']\n",
            "['路易十四', '法國曆史', '路易十三', '西班牙歷史', '納粹德國海軍']\n",
            "['雅虎空間']\n",
            "['阿氏喉鰭魚', '中脂䱀', '顆粒歧須鮠', '梅氏平鰭鮠', '瓦氏擬鱯']\n",
            "['嘉義縣']\n",
            "['中華民國國會在臺灣之全面選舉與罷免', '臺灣民主化', '臺灣清治時期', '中華民國總統及副總統在臺灣之公民直接選舉與罷免', '萬年國會']\n",
            "[]\n",
            "['綠色左派', '政黨領袖', '1974年2月英國大選']\n",
            "['希臘神話', '古希臘羅馬神話', '北歐神話']\n",
            "['過氧化酮', '環氧化合物', '環硫乙烷', '乙二醇二甲醚', '環氧乙烷']\n",
            "['瓜分非洲', '澳大利亞', '剛果民主共和國', '法國', '世界各國和地區面積列表']\n",
            "['拖鞋']\n",
            "[]\n",
            "['中世紀後期', '中世紀盛期', '中世紀', '政治家']\n",
            "['賀龍體育文化中心']\n",
            "['藤子不二雄Ⓐ', '藤子·F·不二雄', '藤子不二雄', '藤子·F·不二雄創作']\n",
            "['軟件開發工具包', '軟件開發', '編程語言']\n",
            "[]\n",
            "['貨幣符號', '$']\n",
            "['決策', '企劃', '主管支援系統', '反對逃犯條例修訂草案運動中使用的策略和方法']\n",
            "[]\n",
            "['馬丁·路德·金', '馬丁·路德·金紀念日', '聯合抵制蒙哥馬利公車運動', '馬丁·路德·金恩遇刺案', '馬丁·路德·金國家歷史遺址']\n",
            "['韓式泡菜', '韓國料理', '壽司', '酸梅', '飯饌']\n",
            "[]\n",
            "['李賦寧', '李賦都']\n",
            "[]\n",
            "['苯乙炔', '乙炔二醇', '乙炔', '丙炔', '乙炔銀']\n",
            "['敏迷龍屬', '甲龍亞目', '重龍屬', '木他龍屬']\n",
            "['永琮']\n",
            "[\"月刊Hero's\", '月刊Asuka', '封魔少年焰&陣', '青文出版社', '漫畫雜誌']\n",
            "['伊斯蘭教與兒童', '孤海浮燈']\n",
            "['馬丁·路德·金', '我有一個夢想', '馬丁·路德·金紀念日', '馬丁·路德·金國家歷史遺址', '跳棋演講']\n",
            "['雉雞', '麝雉']\n",
            "['國立臺灣科技大學管理研究所', '國立臺灣科技大學研揚大樓', '國立臺灣大學新生教學館', '國立臺灣大學系統', '國立臺灣科技大學']\n",
            "[]\n",
            "['天衛十三', '威廉·莎士比亞', '第一對開本', '天衛九', '莎士比亞戲劇故事集']\n",
            "['隆背小沙丁魚', '繸鱗小沙丁魚', '白小沙丁魚']\n",
            "['中華人民共和國', '中華人民共和國勞動人事部', '兩個中國', '機構', '中華人民共和國人事部']\n",
            "['康托爾函數', '德國數學學會', '康托爾環形山', '卡爾·龍格', '格奧爾格·康托爾獎章']\n",
            "[]\n",
            "['安德斯·海爾斯伯格', 'TypeScript', 'GCC', '中華開發金融控股', '中華開發資本']\n",
            "['2014年印度大選', '2019年印度大選', '穩得議席', '印度總理']\n",
            "['蘇格拉底反詰法', '蘇格拉底式的質疑', '蘇格拉底的申辯']\n",
            "['楊浩', '隋朝']\n",
            "['新華網', '中國新華新聞電視網', '新華社', '世界社會主義網站', '中華人民共和國中央人民政府門戶網站']\n",
            "['伍德羅·威爾遜國際學者中心', '加勒特·霍巴特', '保羅·薩繆爾森', '美國總統', '伊迪斯·威爾遜']\n",
            "['歌手2017', '滾石雜誌五百大歌曲', '歌手·當打之年', '張惠妹', '關正傑']\n",
            "['黃豆粉', '大豆', '豆漿', '豆瓣醬', '麻婆豆腐']\n",
            "['哈維爾人權獎', '阿馬蒂亞·庫馬爾·森', '奧斯卡自由人權獎', '2010年諾貝爾和平獎', '羅伯特·弗朗西斯·肯尼迪人權獎']\n",
            "['子房']\n",
            "['淄博市']\n",
            "['煉武臺站', '跨站式站房', '炭峴站', '一山站', '片濱車站']\n",
            "[]\n",
            "['戊戌變法', '慈禧太后', '戊戌六君子', '奕訢', '吳起變法']\n",
            "['臺灣總督府民政部', '臺灣總督府評議會', '臺灣總督府', '臺灣總督府交通局鐵道部', '臺灣總督府交通局遞信部']\n",
            "['蛋白質組學', '蛋白質交互作用', '蛋白質結構', '蛋白質摺疊', '組織蛋白']\n",
            "['國立臺灣大學昆蟲標本館', '臺灣蝴蝶列表']\n",
            "[]\n",
            "[]\n",
            "['藍色']\n",
            "['民族國家', '民族主義', '無國家民族', '中華人民共和國民族政策', '中國民族列表']\n",
            "['劍橋大學基督聖體學院', '劍橋大學三一學堂']\n",
            "[]\n",
            "['麝雉', '雉雞', '剃刀嘴鳳冠雉']\n",
            "['晶體學', 'X射線晶體學', '電子衍射', 'X射線衍射儀', '低能電子衍射']\n",
            "['電子', '傳輸介質', '電子學', '發電', '內燃機']\n",
            "['程序設計', '程序']\n",
            "['藥物相互作用', '藥物', '生物利用度', '藥物過量', '食物不耐症']\n",
            "['國際足協女子世界盃', '國際足協室內五人足球世界盃', '國際足協U-17世界盃', '2010年國際足協世界盃', '2019年國際足協女子世界盃']\n",
            "[]\n",
            "['惠靈頓', '紐西蘭人口']\n",
            "[]\n",
            "['古希臘葡萄酒']\n",
            "['雙氫鍵']\n",
            "[]\n",
            "['陳建斌', '黃秋生', '香港電影金像獎最佳男主角', '香港電影導演會年度大獎最佳新演員', '黃定謙']\n",
            "[]\n",
            "['人類演化', '傍人']\n",
            "[]\n",
            "['語言', '歐洲聯盟語言', '絕跡語言', '諾維亞語', '古諾斯語']\n",
            "[]\n",
            "['宗教信仰哲學', '宗教哲學', '無宗教', '宗教自由']\n",
            "[]\n",
            "['一天一點愛戀', '多一點愛戀', '愛戀二千小時', '錯點鴛鴦·戲點鴛鴦']\n",
            "['薩特延德拉·納特·玻色', '玻爾-愛因斯坦之爭', '諾貝爾生理學或醫學獎', '阿爾伯特·愛因斯坦', '愛因斯坦-西拉德信']\n",
            "['汽車動力性', '鐵路列車', '東風11型柴油機車', '軌道車輛速度紀錄', '速度']\n",
            "['科羅拉多州行政區劃', '索科羅縣', '密歇根州行政區劃', '密爾瓦基縣', '丹地縣']\n",
            "['爲情所困']\n",
            "[]\n",
            "['梅蘭芳']\n",
            "[]\n",
            "['桑比爾區', '舊桑比爾區', '圖爾卡區', '比爾桑', '舊桑比爾']\n",
            "['非營利組織', '居民組織', '天安門自焚事件', '議題建構', '六四事件']\n",
            "['果實']\n",
            "[]\n",
            "['俄刻阿諾斯', '斯堤克斯', '忒堤斯', '忒勒斯托', '俄刻阿尼得斯']\n",
            "['蔡英文政府', '蔡英文相關爭議', '蔡英文', '2020年中華民國總統選舉', '林右昌']\n",
            "['六和敬']\n",
            "['中華民國（臺灣）', '臺北市國定古蹟列表', '南海學園', '臺北市直轄市定古蹟列表', '南投縣文化資產']\n",
            "['臺灣客家語', '臺灣國語', '峨眉鄉', '新屋區', '廣東語假名']\n",
            "['爻', '八卦', '六爻神卦']\n",
            "['妊娠', '流產', '反覆流產', '非侵入性胎兒染色體基因檢測', '染色體畸變']\n",
            "['茨維坦·託多洛夫', '啓蒙文學', '黑暗浪漫主義', '現代主義文學', '維克多·雨果']\n",
            "['藤子·F·不二雄', '藤子不二雄Ⓐ', '藤子不二雄', '藤子·F·不二雄創作']\n",
            "['棘皮動物', '脊柱後凸', '脊柱外科', '舒爾曼病', '脊柱前凸']\n",
            "['天主教弗拉斯卡蒂羅馬城郊教區', '天主教韋萊特里-塞尼羅馬城郊教區', '歐洲歷史', '天主教波多-聖魯菲納羅馬城郊教區', '宗教改革']\n",
            "['果實']\n",
            "['伊拉克戰爭', '伊拉克空軍', '伊拉克內戰', '英國伊拉克戰爭', '伊拉克軍事']\n",
            "['橋段', '生活片段', '段落', '片尾彩蛋']\n",
            "['國民政府', '中華共和國', '大韓民國臨時政府', '中華民國國家元首列表', '1930年代中國']\n",
            "['馬克思學說研究會', '馬克思主義思想流派', '馬克思主義政治經濟學', '西方馬克思主義', '對馬克思主義的批評']\n",
            "[]\n",
            "['歐陸舞曲', '佈雷舞曲']\n",
            "['社會', '社會結構', '社會變遷']\n",
            "[]\n",
            "['國立臺灣民主紀念館', '國立中正紀念堂管理處組織條例', '中正紀念堂', '南海學園', '國立國父紀念館']\n",
            "['中華人民共和國', '香港', '麥理浩', '全球城市', '中華人民共和國政府']\n",
            "[]\n",
            "[]\n",
            "['光導纖維', '頭髮', '頭髮胸罩', '折射率', '植髮']\n",
            "['格奧爾格·康托爾', '康托爾集']\n",
            "['阿曼蘇丹', '阿曼']\n",
            "['溴', '氯化亞汞', '苯酚', '對氯間二甲苯酚', '絮凝']\n",
            "['隼', '隼形目', '猛禽', '巨隼亞科']\n",
            "['耶路撒冷舊城', '耶路撒冷', '耶路撒冷區', '新耶路撒冷']\n",
            "['失物招領：周慧敏精選']\n",
            "['顯微鏡', '顯微鏡學', '數碼顯微鏡', '掃描探針顯微鏡', '肉眼']\n",
            "['輕量級標記語言', '語音合成標記語言']\n",
            "['藍鳳冠鳩', '單性生殖', '鳩鴿科']\n",
            "['悲喜劇']\n",
            "[]\n",
            "['渦河', '洮河', '泗河', '汾河', '廢黃河']\n",
            "['太行山', '阿里山山脈', '臺灣山脈列表', '王屋山—黛眉山世界地質公園']\n",
            "[]\n",
            "['釣魚臺列嶼', '亞洲胡瓜魚', '胡瓜魚', '南小島', '釣魚臺']\n",
            "['韓國行政區劃', '縣級行政區', '中華人民共和國縣級以上行政區列表', '中國一級行政區', '地級行政區']\n",
            "['兒玉利國', '臺灣清治時期', '臺灣政治', '兒玉源太郎', '臺灣歷史']\n",
            "['石灰', '鹼石灰', '石灰鹼釉', '銅氨溶液', '氫氧化金']\n",
            "['大波士頓', '波士頓']\n",
            "['研究員', '學術', '英國國家學術院']\n",
            "['中華人民共和國國家級自然保護區列表']\n",
            "['西廂記']\n",
            "['澳門特別行政區全國人民代表大會代表', '第十一屆全國人民代表大會', '2005年中華民國國民大會代表選舉', '香港特別行政區全國人民代表大會代表', '廖澤雲']\n",
            "[]\n",
            "['荷馬史詩', '荷馬']\n",
            "['梁國雄', '2014年高雄氣爆事故', '香港警務處國家安全處搜查壹傳媒大樓事件', '新文化運動', '2014年越南排華暴動']\n",
            "['死產']\n",
            "['雀科', '漠百靈屬', '百靈屬', '雀形目', '百靈科']\n",
            "[]\n",
            "[]\n",
            "['七連滋養']\n",
            "['宋仁宗', '中國皇帝']\n",
            "['花茶', '草本茶', '茶', '東方美人茶', '臺灣茶']\n",
            "[]\n",
            "['魏晉南北朝', '曹魏', '傀儡政權', '五代十國', '三國']\n",
            "[]\n",
            "['民族國家', '貴州省民族構成列表', '新疆維吾爾自治區民族構成列表', '山東省民族構成列表', '海南省民族構成列表']\n",
            "['2012年金星凌日', '1874年金星凌日', '金星凌日']\n",
            "['本雅明·斯泰拉', '2005年教宗選舉祕密會議', '對立教宗', '教宗列表', '樞機']\n",
            "['骨鰾類', '硬骨魚', '輻鰭魚', '鮎形目', '魚']\n",
            "['法國地理']\n",
            "[]\n",
            "['琅琊', '王舒', '晉元帝']\n",
            "['密克羅尼西亞運動會', '卡皮托爾希爾']\n",
            "['2010年臺北國際花卉博覽會', '臺北國際電腦展覽會', '1999年昆明世界園藝博覽會', '2014年世界園藝博覽會', '2019年中國北京世界園藝博覽會']\n",
            "[]\n",
            "['唐詩', '柳枝', '唐詩別裁集', '賦得古原草送別', '靜夜思']\n",
            "['新華網', '中國新華新聞電視網', '新華社', '世界社會主義網站', '中華人民共和國中央人民政府門戶網站']\n",
            "['國際足協U-17女子世界盃', '國際足協女子世界盃', '國際足協室內五人足球世界盃', '2019年國際足協女子世界盃', '國際足協U-17世界盃']\n",
            "['狄仁傑', '新刻京本通俗演義增像包龍圖判百家公案全傳', '趙勉', '荀子', '淮南子']\n",
            "['盧卡斯·赫賈', '帕維爾·卡德沙貝克', '馬爾琴·卡明斯基', '托馬斯·索塞克', '雅庫布·揚克託']\n",
            "['東南大學土木工程學院', '管致中', '東南大學', '清華大學土木工程館', '國立中央大學']\n",
            "[]\n",
            "['GPS衛星', '土星的衛星']\n",
            "['古蘭經', '聖愛啓示', '聖經與古蘭經的相似之處']\n",
            "['癌細胞', '突變', '癌變', '壞死', '誘導性多能幹細胞']\n",
            "['宋史', '正史', '史通', '明史']\n",
            "['張京澤', '書記', '中國科技大學', '985工程', '上海大學']\n",
            "[]\n",
            "[]\n",
            "['印度教神話', '印度', '阿闥婆吠陀', '印度教', '吠陀梵語']\n",
            "['國家廣播公司標誌', '美國漫畫黃金時代', '超級英雄']\n",
            "['能量條件']\n",
            "['林鈺婷', '丘丘合唱團', '汪明荃', '譚詠麟', '簡上仁']\n",
            "['木衛五十三', '木星日食', '衛星的命名', '木衛一火山觀測者', '木星的衛星']\n",
            "['凍頂烏龍茶', '臺灣烏龍茶', '紅烏龍', '吳振鐸', '臺灣茶']\n",
            "['軌道共振', '長期共振', '太陽系探索年表', '軌道根數', '日心軌道']\n",
            "[]\n",
            "['斯科特·謝潑德']\n",
            "['浙東運河', '大運河', '運河', '京杭大運河', '沙烏地阿拉伯世界遺產名錄']\n",
            "[]\n",
            "[]\n",
            "[]\n",
            "['行進樂隊', '披頭士樂隊獲獎與提名列表', '黑豹樂隊']\n",
            "[]\n",
            "['卡爾文·墨菲', '休斯敦', '哈基姆·奧拉朱旺']\n",
            "['拒絕領取諾貝爾獎人物列表', '印度諾貝爾獎得主列表', '諾貝爾獎得主列表', '諾貝爾經濟學獎', '諾貝爾化學獎']\n",
            "['國立臺灣海洋大學', '教育部教育考試院', '海南大學', '臺北海洋科技大學', '浙江海洋大學']\n",
            "['民族國家', '無國家民族', '民族主義', '中國民族列表', '臺灣人']\n",
            "['魏晉南北朝', '三國', '晉朝', '南北朝', '五胡十六國']\n",
            "['中華人民共和國地質礦產部', '中華人民共和國', '馬歇爾計劃', '1970年代臺灣']\n",
            "['中國人民解放軍武漢軍區空軍', '中國人民解放軍陸軍第八綜合訓練基地', '中國人民解放軍昆明軍區', '中國人民解放軍武漢軍區', '中國人民解放軍內蒙古軍區']\n",
            "[]\n",
            "[]\n",
            "['詹姆斯·諾克斯·波爾克']\n",
            "['民族國家', '民族主義', '無國家民族', '中華人民共和國民族政策', '中國民族列表']\n",
            "['伊普蘇斯戰役', '對伊斯蘭國的軍事打擊', '伊斯蘭國', '巴勒斯坦伊斯蘭聖戰運動']\n",
            "['社會問題', '王安石', '中華人民共和國社會問題']\n",
            "['葉庸方']\n",
            "['希吉拉', '賴買丹月', '伊斯蘭教歷史年表']\n",
            "['柳枝', '唐詩', '李商隱', '千家詩', '宋詞三百首']\n",
            "['網頁', '網頁瀏覽器時間線', '離線網頁瀏覽器']\n",
            "['侯孝賢', '鼕鼕的假期', '第50屆金馬獎', '蔡明亮', '鞏俐']\n",
            "['瓦西里島站', '涅瓦-瓦西里島線', '海濱站', '基洛夫-維堡線', '御臺場海濱公園站']\n",
            "[]\n",
            "['金星凌日', '2012年金星凌日', '1874年金星凌日', '天文單位系統', '天文常數']\n",
            "[]\n",
            "[]\n",
            "['三年坂火之夢', '三姊妹偵探團', '講談社出版文化賞', '這本推理小說真厲害！', '江戶川亂步']\n",
            "['臺北市立啓明學校', '臺北市日僑學校', '臺北美國學校', '國立臺中教育大學', '臺中市立臺中工業高級中等學校']\n",
            "['RAID', '磁碟清理']\n",
            "[]\n",
            "['亞硫酸鋅', '亞硫酸', '三氧化硫', '硫', '亞硫酸鈉']\n",
            "['產品經理', '應用程序接口', '功能主義建築', '競爭法', '動態競爭']\n",
            "['二次創作', '迪安·雷·孔茨', '金甲蟲', '一生', '輕小說']\n",
            "[]\n",
            "[]\n",
            "['古蘭經', '聖經與古蘭經的相似之處', '爾撒', '伊斯蘭教', '耶路撒冷']\n",
            "['關西服務區', '泰安站', '中開高速公路', '中陽高速公路', '泰安休息站']\n",
            "['蓋茲堡演說', '亞伯拉罕·林肯', '基輔雞演說']\n",
            "[]\n",
            "['埃塔']\n",
            "['冷爵士樂', '早期古典音樂', '二十一世紀古典音樂', '爵士樂', '小號']\n",
            "['高行健', '印度諾貝爾獎得主列表', '諾貝爾獎得主列表', '人工合成牛胰島素與諾貝爾獎', '各國諾貝爾獎得主人數']\n",
            "['淋巴結', '前哨淋巴結']\n",
            "['決定性問題', '計算複雜性理論', '動態規劃', '中國郵遞員問題', '問題']\n",
            "[]\n",
            "['阿里·本·阿比·塔利卜', '伊斯蘭教的先知', '穆罕默德', '伊斯蘭教', '阿迦·穆罕默德汗']\n",
            "['臺北市客家文化主題公園', '中正紀念堂', '高雄市客家文物館', '國立臺灣博物館', '川端公園']\n",
            "['家牛', '印度']\n",
            "['朕即國家', '法國大革命', '君主專制', '沙皇專制制度', '法國七月革命']\n",
            "['路易十四', '日本神話', '古羅馬', '神話學', '西發里亞主權體系']\n",
            "['伊麗莎白二世', '吉勒摩·戴託羅之皮諾丘', '奧斯卡二世', '皮埃爾-夏爾·維爾納夫']\n",
            "[]\n",
            "['重量', '重量分析法']\n",
            "['伊斯蘭教與基督教關係', '亞伯拉罕諸教', '拜星教', '土耳其宗教', '一神論']\n",
            "[]\n",
            "['乙炔', '硫化鈣', '氰氨化鈣', '氧化', '六硼化鈣']\n",
            "[]\n",
            "['李祖德', '邱文達', '臺北醫學大學']\n",
            "['黃子韜', '鹿晗']\n",
            "['喬治·卡特萊特·馬歇爾', '道格拉斯·麥克阿瑟', '喬治·巴頓', '第一次世界大戰', '德懷特·艾森豪威爾']\n",
            "[]\n",
            "[]\n",
            "['晉元帝', '王舒', '五馬渡江', '東晉', '琅邪王氏']\n",
            "['網頁', '離線網頁瀏覽器', '網頁瀏覽器時間線']\n",
            "['特別貢獻獎', '鞏俐', '金音創作獎', '楊士琪卓越貢獻獎', '臺北電影獎卓越貢獻獎']\n",
            "['隋朝', '楊暕', '楊杲', '楊昭', '楊浩']\n",
            "['蘋果酒', '葡萄酒釀製', '葡萄酒', '力嬌酒', '果酒']\n",
            "[]\n",
            "['方法學', '思想']\n",
            "['胡德號戰列巡洋艦', '毛奇號大巡洋艦', '希佩爾海軍上將號重巡洋艦', '日德蘭海戰', '獅級戰列巡洋艦']\n",
            "['瑤池']\n",
            "['臺北市立啓明學校', '臺北市日僑學校', '臺中市立臺中工業高級中等學校', '國立臺中教育大學', '臺北美國學校']\n",
            "[]\n",
            "['真空電容率', '真空災變', '真空磁導率']\n",
            "['BOINC', 'Astropulse', '普適計算', '搜尋地外文明計劃', '併發計算']\n",
            "['2-巰基乙醇', '錳酸鉀', '碘酸', '氯酸鋰', '還原劑']\n",
            "['占卜', '占星術', '中國占星術', '西洋占星術', '算命']\n",
            "['HE0450-2958', '類星體']\n",
            "['新石器時代']\n",
            "['麻薩諸塞州', '企業', '美國革命', '聯合國總部大樓', '合資公司']\n",
            "['索馬利蘭國旗', '索馬里國旗', '厄瓜多爾國旗', '葡萄牙國旗']\n",
            "['楊諒', '楊昭', '王道隆', '隋朝', '楊素']\n",
            "['諾貝爾文學獎得主列表', '諾貝爾物理學獎', '諾貝爾和平獎', '薩繆爾·約瑟夫·阿格農', '諾貝爾委員會']\n",
            "['中子', '核裂變', '中子俘獲', '質子發射', '中子截面']\n",
            "[]\n",
            "['第五姓', '九方姓', '昭武九姓', '閩人三十六姓', '延姓']\n",
            "['馬克思主義政治經濟學', '古典經濟學', '馬克思學說研究會', '政治經濟學批判', '對馬克思主義的批評']\n",
            "['晶體結構', '晶體缺陷', '晶體', '固體物理學', '超原子']\n",
            "['于化虎', '虹口公園爆炸事件', '義和團運動', '淞滬會戰', '龐國興']\n",
            "['木衛六', '木衛十', '巴實抹', '木衛七', '繆斯']\n",
            "['詹姆斯·諾克斯·波爾克']\n",
            "['國立臺灣大學昆蟲標本館']\n",
            "['英國上議院司法職能', '第二次唐納德·特朗普彈劾案', '不信任及彈劾香港特別行政區行政長官', '第一次唐納·川普彈劾案', '朴槿惠彈劾案']\n",
            "['印度洋鋸鱗魚', '桑吉巴蝴蝶魚', '塞內加爾多鰭魚', '印度洋鱧鯙', '田邊辮魚']\n",
            "[]\n",
            "['高雄捷運路線圖抄襲事件']\n",
            "['寒武紀大爆發', '龐培壁畫', '始祖動吻蟲']\n",
            "[]\n",
            "[]\n",
            "['馬克思學說研究會', '馬克思主義思想流派', '新馬克思主義', '西方馬克思主義', '對馬克思主義的批評']\n",
            "['法輪功在臺灣', '對法輪功的鎮壓', '法輪功', '法輪功在各地的發展及影響', '天安門自焚事件']\n",
            "[]\n",
            "['新華網', '新華社', '中國新華新聞電視網', '世界社會主義網站', '中華人民共和國中央人民政府門戶網站']\n",
            "['卡爾文·墨菲', '休斯敦', '哈基姆·奧拉朱旺']\n",
            "['第二次唐納德·特朗普彈劾案', '憲法法庭', '不信任及彈劾香港特別行政區行政長官', '朴槿惠彈劾案', '第一次唐納·川普彈劾案']\n",
            "['諾貝爾文學獎得主列表', '諾貝爾和平獎', '諾貝爾物理學獎', '諾貝爾委員會', '諾貝爾化學獎']\n",
            "['臺南東嶽殿', '臺灣明鄭時期', '左鎮北極殿', '臺南北極殿', '明鄭']\n",
            "['胸圍']\n",
            "['姚明']\n",
            "['達悟族', '925臺灣保釣行動', '中國漁船與日本巡邏船釣魚島相撞事件', '飛魚灣', '雄風三型反艦飛彈誤射事件']\n",
            "[]\n",
            "['午夜巴黎']\n",
            "[]\n",
            "['懷化市第三中學', '湖南省林業局', '湖南省教育廳', '湖南省人民代表大會']\n",
            "['電動機', '異步電動機', '電動發電機', '噴氣發動機', '發動機']\n",
            "['全州市', '全羅北道', '忠清北道', '全羅南道', '行政督察區']\n",
            "['保羅·狄拉克', '扭量理論', 'BRST量子化', '路徑積分表述', '量子力學入門']\n",
            "['索爾', '半神', '雷神', '北歐神話', '神']\n",
            "['松柏塱']\n",
            "['馬丁·路德·金紀念日', '馬丁·路德·金', '馬丁·路德·金國家歷史遺址', '馬丁主義', '聖禮']\n",
            "['適用技術', '技術', '首席技術官', 'GUNDAM系列作品', '生物技術']\n",
            "['托洛茨基主義', '列夫·謝多夫旅']\n",
            "['非營利組織', '宏觀調控', '非政府組織', '501(c)組織']\n",
            "['杜軍案', '僑弼控股', '內幕交易審裁處', '提供侵入、非法控制計算機信息系統程序、工具罪', '內線交易']\n",
            "[]\n",
            "['質數', '合數', '環狀質數', '0的奇偶性', '極小質數']\n",
            "['薄熙來', '薄熙來事件', '王立軍事件', '王立軍案', '海伍德死亡案']\n",
            "['南子島', '黃巖島主權問題', '太平島', '越南歷史', '北子島']\n",
            "['捷克人', '阿茲特克', '佳娜·蒂佳', '安東寧·魯克', '嚴嘉樂']\n",
            "['美麗島事件', '林宅血案', '高雄州特高事件', '鼓山事件', '林義雄']\n",
            "['汽車動力性', '加速度', '車速表', '汽車種類', '鐵路列車']\n",
            "['艾山·買合蘇木', '買買提吐爾遜·依明', '奧薩馬·本·拉登之死', '買買提吐爾遜·阿布杜哈力克', '基地組織']\n",
            "['中華民國海軍', '納粹德國海軍', '韓國海軍', '英國皇家海軍', '美國海軍']\n",
            "['萜烯', '化合物', '氨基葡萄糖']\n",
            "['鍾凱瑩']\n",
            "['李祖德', '邱文達', '胡寶珍', '醫學院', '高雄醫學大學']\n",
            "[]\n",
            "['奧迪', '大衆汽車', '電動方程式', '開瑞', '奧茲摩比']\n",
            "['李祖德', '邱文達', '胡寶珍', '醫學院', '高雄醫學大學']\n",
            "[]\n",
            "['煎餅餜子', '大餅雞蛋', '中式麪餅', '臺灣小喫']\n",
            "['社區學院', '博雅教育']\n",
            "[]\n",
            "[]\n",
            "['新喜劇之王']\n",
            "['塘湖站', '湖塘站', '油塘站']\n",
            "['核心家庭', '家庭', '智慧家庭']\n",
            "['俄刻阿諾斯', '斯堤克斯', '忒堤斯', '忒勒斯托', '俄刻阿尼得斯']\n",
            "['英格蘭宗教改革', '亨利八世', '宗教改革', '新教', '蘇格蘭宗教改革']\n",
            "['正壬醇', '正癸醇', '1-十一烷醇', '香葉烯', '脂肪醇']\n",
            "[]\n",
            "[]\n",
            "['上座部', '根本分裂', '部派佛教', '漢傳佛教', '大衆部']\n",
            "['羅馬騎士階級', '古羅馬', '中華民國法律', '法律', '元首制']\n",
            "['手工藝', '工藝', '手工藝人', '手工作坊式生產模式', '手工業']\n",
            "['高錳酸鈉', '高錳酸銀', '二氧化錳', '高錳酸鹽', '錳酸鉀']\n",
            "[]\n",
            "['暗殺', '人格暗殺', '無中生有', '安全', '自殺方式']\n",
            "['亨利八世', '英格蘭宗教改革', '宗教改革', '英國宗教', '16世紀']\n",
            "[]\n",
            "['二戰期間同盟國海軍對日炮擊', '橫須賀空襲', '特別攻擊隊', '特攻隊']\n",
            "[]\n",
            "['新喜劇之王', '星輝海外有限公司', '周潤發', '低俗喜劇']\n",
            "['約翰·韋恩', '奧麗維亞·德哈維蘭']\n",
            "['怦然心動的人生整理魔法']\n",
            "['漢族民系']\n",
            "['東方美人茶', '茶', '茶葉蛋', '臺灣茶', '草本茶']\n",
            "['舊奧斯陸']\n",
            "['印象派', '後印象派']\n",
            "[]\n",
            "['馬來西亞鐵路電氣化項目', '臺灣交通', '電氣化鐵路', '臺灣鐵路運輸', '花東線鐵路瓶頸路段雙軌化暨全線電氣化計劃']\n",
            "['全北界', '西亞']\n",
            "['撞擊坑', '波泰士隕石坑', '溼婆隕石坑', '月球隕石坑', '程德隕石坑']\n",
            "['金貿街道', '秀英區', '華龍區', '包河區']\n",
            "['銀', '硬幣']\n",
            "['廖文毅', '黃紀男', '中華民國政府遷臺', '廖史豪', '臺灣歷史']\n",
            "[]\n",
            "['真靈長大目', '兔形目', '靈長目']\n",
            "['亞歷山大·誇黑', '中世紀科學史', '史蒂芬·古爾德']\n",
            "['白話字', '海南話白話字', '客家白話字', '唐話番字初學']\n",
            "['幻燈片投影機']\n",
            "['臺中市大里區益民國民小學', '臺中市大里區內新國民小學', '臺中市大里區崇光國民小學', '臺灣省政府主席', '臺中市大里區草湖國民小學']\n",
            "['肥胖症', '左旋安非他命', '飲食文化']\n",
            "['汾河']\n",
            "[]\n",
            "['回族', '伊斯蘭教與基督教關係', '伊斯蘭教']\n",
            "['性幻想']\n",
            "['戰爭', '東漢末年', '臺灣荷西統治時期', '贖罪日戰爭']\n",
            "['南廬吟社', '停雲詩社', '鯤瀛詩社', '主流詩社', '許錟輝']\n",
            "['文獻', '一次文獻', '文獻綜述', '中文古典典籍']\n",
            "['日本神話', '神話學', '神話', '埃及神話', '朝鮮神話']\n",
            "[]\n",
            "['領土糾紛']\n",
            "['阿列日省市鎮列表', '阿卜杜勒-阿齊茲·本·阿卜杜拉赫曼·本·費薩爾·阿勒沙特', '阿卜杜勒·馬吉德·米爾扎', '阿卜杜勒-侯賽因·米爾扎·法爾曼法爾馬', '賈邁勒·阿卜杜-納賽爾']\n",
            "['決定性問題', '問題', '動態規劃', '計算複雜性理論', '中國郵遞員問題']\n",
            "[]\n",
            "['杜鵑科']\n",
            "['天文學家', '希臘神話', '神話學', '物理宇宙學', '天體粒子物理學']\n",
            "['脂類']\n",
            "['普立茲公共服務獎', '普利茲克建築獎', '特別貢獻獎', '廣播金鐘獎特別貢獻獎', '電視金鐘獎特別貢獻獎']\n",
            "['中華民國領土爭端']\n",
            "[]\n",
            "['阿托品', '布洛芬', '地西泮', '納洛酮', '昂丹司瓊']\n",
            "['俄法戰爭', '博羅金諾戰役', '拿破崙戰爭', '低強度戰爭', '砲艦戰爭']\n",
            "[]\n",
            "['中華民國憲法', '印度憲法', '日本國憲法', '憲法', '中華民國國家象徵']\n",
            "[]\n",
            "['小型衛星', '氣象衛星', '土星的衛星', '風雲系列衛星', '衛星']\n",
            "['張谷英村', '地形', '國家點火設施', '自然紀念物', '舊香港海洋公園水上樂園']\n",
            "['二乙烯酮', '苯乙烯', '二苯乙烯酮', '乙烯四甲酸二酐', '氯乙烯']\n",
            "['歐洲中心主義']\n",
            "['硫酸𨥙', '硫酸鎂', '硫酸鈰(IV)', '碳酸水', '硫酸']\n",
            "['粵菜', '順德菜', '閩菜', '中國菜系', '臺灣料理']\n",
            "[]\n",
            "[]\n",
            "['蜘蛛俠百戰曱甴精', '終極蜘蛛俠']\n",
            "['維克多·雨果', '黑暗浪漫主義', '茨維坦·託多洛夫', '啓蒙文學', '中國文學']\n",
            "['木裏茴芹', '中甸茴芹', '景東茴芹']\n",
            "['馬丁·路德·金恩遇刺案', '馬丁·路德·金']\n",
            "[]\n",
            "['靈感', '手工藝']\n",
            "[]\n",
            "['科特迪瓦城市列表']\n",
            "[]\n",
            "['賽普勒斯', '賽普勒斯聯合國緩衝區', '北賽普勒斯國徽', '麻薩諸塞州']\n",
            "[]\n",
            "[]\n",
            "['馬克思學說研究會', '馬克思主義思想流派', '對馬克思主義的批評', '西方馬克思主義', '馬克思主義政治經濟學']\n",
            "['回族身份認同', '少數民族', '回族']\n",
            "[]\n",
            "['不飽和烴', '有機磷化合物', '炔烴', '二元化合物', '雙硫鍵']\n",
            "['晶體結構', 'X射線晶體學', '晶體學', '納米晶體', '晶體']\n",
            "['胡班', '關羽', '超電影版SD高達三國傳～BraveBattleWarriors～', '桃園三結義', '張飛']\n",
            "['俄派芭蕾', '芭蕾舞']\n",
            "[]\n",
            "['幸運餅乾', '餅乾']\n",
            "['園林設計', '景觀設計', '工業設計']\n",
            "['馬爾代夫']\n",
            "['林寶堅尼Miura', '跑車', '捷豹', '豪華汽車', '臺灣機車']\n",
            "[]\n",
            "['管致中', '東南大學', '清華大學電機工程與應用電子技術系', '國立中央大學', '陳鯨']\n",
            "['阿曼蘇丹']\n",
            "['南京大學計算機科學與技術系', '理論計算機科學', '計算機工程', '電子計算機', '計算機硬體歷史']\n",
            "['文獻']\n",
            "['馬克思學說研究會', '馬克思主義思想流派', '西方馬克思主義', '後馬克思主義', '新馬克思主義']\n",
            "['荷馬史詩']\n",
            "['泰國', '國家象徵', '家牛', '中國', '中華民國國家象徵']\n",
            "[]\n",
            "['世僕', '奴隸制度', '古希臘奴隸制度']\n",
            "['林鈺婷', '簡上仁', '丘丘合唱團', '拷秋勤', '汪明荃']\n",
            "[]\n",
            "[]\n",
            "['糖尿病酮症酸中毒', '妊娠糖尿病', '抗糖尿病藥', '1型糖尿病', '糖尿病']\n",
            "[]\n",
            "['第三次世界大戰', '第二次世界大戰', '日本', '日本投降', '第二次世界大戰歐戰勝利紀念日']\n",
            "['柬埔寨機場列表', '柬埔寨']\n",
            "[]\n",
            "['汾河']\n",
            "['第8週期元素', '元素週期表', '擴展元素週期表', '第1週期元素', '元素週期律']\n",
            "['無黨團結聯盟', '政黨補助金', '中華民國政黨歷年最高得票率', '2001年中華民國立法委員選舉', '新黨']\n",
            "['汾河谷地', '汾河', '塔里木河']\n",
            "['氰化鋁', '氰化鋰', '鹼性氧化物', '氫氧化鎵', '疊氮化鋰']\n",
            "['中華民國法律', '法律', '信賴保護原則', '法國高等法院', '古羅馬']\n",
            "['暗殺', '狙擊步槍', '勒萊耶', '縱深作戰', '人格暗殺']\n",
            "[]\n",
            "['出土文獻']\n",
            "[]\n",
            "['張五常', '反攻大陸', '中國猶太人', '中國', '勞動合同制']\n",
            "['臺北市立啓明學校', '臺北市日僑學校', '臺北美國學校', '國立臺中教育大學', '臺中市立臺中工業高級中等學校']\n",
            "['貓', '外來物種', '哺乳動物', '犬種', '貓科']\n",
            "['北京航空航天大學出版社', '北京航空航天大學飛行學院', '北京航空航天大學校友列表', '北京航空航天大學校史', '南京航空航天大學']\n",
            "['杜軍案', '提供侵入、非法控制計算機信息系統程序、工具罪', '僑弼控股', '有組織犯罪', '內幕交易審裁處']\n",
            "['總統制', '行政法', '行政機關', '立法機關', '政府首腦']\n",
            "['骨鰾類', '鳥', '燕鳥屬', '鳥翼類', '姐妹鳥龍鳥屬']\n",
            "[]\n",
            "['質數', '合數', '0的奇偶性', '極小質數', '環狀質數']\n",
            "['文森特·梵高', '新教傳教士與近代中國（1807-1953）']\n",
            "['明德學院', '北京理工大學附屬中學']\n",
            "['白鵜鶘', '美洲鵜鶘']\n",
            "[]\n",
            "[]\n",
            "[]\n",
            "['英格蘭足球全國聯賽', '英格蘭足球超級聯賽', '蘇格蘭足球聯賽超級聯賽', '蘇格蘭足球甲級聯賽', '英超亞洲盃']\n",
            "[]\n",
            "['元素週期表', '錒系元素', '擴展元素週期表', '鎶', '鿬']\n",
            "['撞擊坑', '愛明內斯庫撞擊坑', '波泰士隕石坑', '月球隕石坑', '弗拉姆撞擊坑']\n",
            "['冥王', '冥神']\n",
            "[]\n",
            "['格羅特·雷伯', '卡爾·央斯基', '央斯基', '耶魯大學藝術學院', '先驅']\n",
            "['曲樞', '文獻昭聖皇后']\n",
            "['法國武裝干涉墨西哥']\n",
            "['墨索里尼之死', '吉亞科莫·馬泰奧蒂']\n",
            "['天文臺', '臺灣天文觀測', '蔡章獻', '臺北市立天文科學教育館']\n",
            "['國民政府', '中華民國大陸時期', '1930年代中國', '中華民國國家元首列表', '汪精衛']\n",
            "['溫瑟·麥凱']\n",
            "['賽普勒斯', '賽普勒斯聯合國緩衝區', '北賽普勒斯國徽']\n",
            "['內畫壺']\n",
            "['三苗', '下江人', '古羅馬建築', '2016年中國南方水災', '古羅馬']\n",
            "['IPod', '比重量']\n",
            "[]\n",
            "['臺灣民報', '美洲臺灣時報', '臺灣時報', '自由時報', '臺灣文化協會']\n",
            "[]\n",
            "[]\n",
            "['達悟族', '925臺灣保釣行動', '中國漁船與日本巡邏船釣魚島相撞事件', '海', '浙江漁港列表']\n",
            "['雞子', '糯米雞', '鹽焗雞', '肉類食物', '白切雞']\n",
            "['印象派']\n",
            "['美國訴溫莎案']\n",
            "['洞庭湖', '2016年中國南方水災', '中國溼地', '三苗', '鄱陽湖平原']\n",
            "['哈比人歷險記', '生活片段', '神奇寶貝特別篇', '星際爭霸戰']\n",
            "[]\n",
            "['宗教信仰哲學', '宗教哲學', '世界主要宗教', '宗教自由', '無宗教']\n",
            "['第5週期元素', '第4週期元素', '元素週期表', '11族元素', '擴展元素週期表']\n",
            "['本傑明·富蘭克林']\n",
            "['湖塘站', '兗石鐵路', '塘湖站', '泰安車站', '臺南車站']\n",
            "['臺灣總督府臺北高等學校', '臺灣總督府臺南高等工業學校', '臺灣日治時期', '臺灣總督府國語學校', '臺灣總督府高等商業學校']\n",
            "['林鈺婷', '丘丘合唱團', '譚詠麟', '汪明荃', '簡上仁']\n",
            "['喬治·斯托克斯', '保羅·狄拉克', '劍橋大學三一學院', '大衛·奧利夫', '喬治·盧斯蒂格']\n",
            "['諾丁漢大學', 'QS世界大學排名', '倫敦國王學院', '中華人民共和國教育', '韓國教育']\n",
            "[]\n",
            "['湘江']\n",
            "['普利策國際報道獎']\n",
            "['市政府車站', '上海站', '盛車站', '九一站', '哈爾濱站']\n",
            "['分鐘', '角分符號', '國際單位制詞頭']\n",
            "[]\n",
            "['白話字', '臺灣漢字', '海南話白話字']\n",
            "['裕溪河', '湘江']\n",
            "['泰坦尼克號']\n",
            "['麗臺科技', '黃崇源', '創新', '醫療衛生哲學', '中國科技大學']\n",
            "['滯洪池']\n",
            "[]\n"
          ]
        }
      ],
      "source": [
        "test_doc_path = f\"data/test_doc5.jsonl\"\n",
        "test_doc_path_aicup = f\"data/test_doc5_aicup.jsonl\"\n",
        "test_doc_path_search = f\"data/test_doc5_search.jsonl\"\n",
        "test_doc_path_tfidf = f\"data/test_doc5_tfidf.jsonl\"\n",
        "\n",
        "if Path(test_doc_path).exists():\n",
        "    with open(test_doc_path, \"r\", encoding=\"utf8\") as f:\n",
        "        test_results = pd.Series([\n",
        "            set(json.loads(line)[\"predicted_pages\"])\n",
        "            for line in f\n",
        "        ])\n",
        "else:\n",
        "    if Path(test_doc_path_search).exists():\n",
        "        with open(test_doc_path_search, \"r\", encoding=\"utf8\") as f:\n",
        "            test_results_search = pd.Series([\n",
        "                set(json.loads(line)[\"predicted_pages\"])\n",
        "                for line in f\n",
        "            ], name=\"search\")\n",
        "    else:\n",
        "        pandarallel.initialize(progress_bar=True, verbose=0, nb_workers=10)\n",
        "        test_df = pd.DataFrame(TEST_DATA)\n",
        "        test_df.loc[:, \"hanlp_results\"] = hanlp_test_results\n",
        "        # predicted_results = test_df.progress_apply(get_pred_pages, axis=1)\n",
        "        test_results_search = test_df.parallel_apply(\n",
        "            get_pred_pages_search, axis=1)\n",
        "        save_doc(TEST_DATA, test_results_search, mode=\"test\", suffix=\"_search\")\n",
        "\n",
        "    if Path(test_doc_path_aicup).exists():\n",
        "        with open(test_doc_path_aicup, \"r\", encoding=\"utf8\") as f:\n",
        "            test_results_aicup = pd.Series([\n",
        "                set(json.loads(line)[\"predicted_pages\"])\n",
        "                for line in f\n",
        "            ], name=\"aicup\")\n",
        "    else:\n",
        "        pandarallel.initialize(progress_bar=True, verbose=0, nb_workers=10)\n",
        "        test_df = pd.DataFrame(TEST_DATA)\n",
        "        test_df.loc[:, \"hanlp_results\"] = hanlp_test_results\n",
        "        # predicted_results = test_df.progress_apply(get_pred_pages, axis=1)\n",
        "        test_results_aicup = test_df.parallel_apply(\n",
        "            get_pred_pages, axis=1)\n",
        "        save_doc(TEST_DATA, test_results_aicup, mode=\"test\", suffix=\"_aicup\")\n",
        "\n",
        "    if Path(test_doc_path_tfidf).exists():\n",
        "        with open(test_doc_path_tfidf, \"r\", encoding=\"utf8\") as f:\n",
        "            test_results_tfidf = pd.Series([\n",
        "                set(json.loads(line)[\"predicted_pages\"])\n",
        "                for line in f\n",
        "            ], name=\"tfidf\")\n",
        "    else:\n",
        "        pandarallel.initialize(progress_bar=True, verbose=0, nb_workers=3)\n",
        "        TEST_DATA_SEARCH = load_json(test_doc_path_search)\n",
        "        test_df_search = pd.DataFrame(TEST_DATA_SEARCH)\n",
        "        test_results_tfidf = test_df_search.parallel_apply(\n",
        "            partial(\n",
        "                get_pred_pages_tfidf,\n",
        "                tokenizing_method=partial(tokenize, stopwords=stopwords),\n",
        "                vectorizer=vectorizer,\n",
        "                tf_idf_matrix=X,\n",
        "                wiki_pages=wiki_pages,\n",
        "                topk=topk,\n",
        "            ), axis=1)\n",
        "        save_doc(TEST_DATA, test_results_tfidf, mode=\"test\", suffix=\"_tfidf\")"
      ]
    },
    {
      "cell_type": "code",
      "execution_count": 23,
      "metadata": {},
      "outputs": [
        {
          "name": "stdout",
          "output_type": "stream",
          "text": [
            "{'肉眼', '電磁學', '顯微鏡', '光學顯微鏡'} {'顯微鏡', '數碼顯微鏡', '掃描探針顯微鏡', '肉眼', '顯微鏡學'}\n",
            "{'昆蟲', '蜜蜂屬', '花蜜', '蠶', '絲綢'} {'蜂蜜', '蜜蜂屬', '巢蜜'}\n",
            "{'西部', '土地', '波蘭', '山城', '綠山城縣', '0', '綠山城'} {'綠山城', '綠山城縣', '伊沃瓦'}\n",
            "{'橋', '配角', '藍橋', '魂斷藍橋'} {'亨格福德橋和五十週年紀念橋', '魂斷藍橋'}\n",
            "{'金馬獎', '獎勵', '侯孝賢', '文學', '電影', '唐朝', '劇情片', '文言文'} {'侯孝賢', '第27屆金馬獎', '泰迪熊獎', '刺客聶隱娘', '鼕鼕的假期'}\n",
            "{'薄熙來', '副總理', '姪', '國務院'} set()\n",
            "{'凌日', '水星', '水星凌日'} {'2012年金星凌日'}\n",
            "{'作品', '馬克思·多爾穆瓦站', '政治經濟學', '海因裏希·馬克思', '馬克思主義', '馬克思主義政治經濟學', '格魯喬·馬克思', '卡爾·馬克思'} {'馬克思學說研究會', '馬克思主義思想流派', '新馬克思主義', '西方馬克思主義', '對馬克思主義的批評'}\n",
            "{'無生老母', '一貫道', '祖師', '路', '生', '母親', '彌勒菩薩', '神'} {'蓮花生', '一貫道', '慚愧祖師', '彌勒教', '漢傳佛教'}\n",
            "{'伊斯蘭教', '回族', '內蒙古自治區', '穆斯林', '新疆維吾爾自治區', '中亞', '西亞'} {'穆斯林世界', '回族', '伊斯蘭教', '伊斯蘭教的傳播', '穆斯林'}\n",
            "{'撞擊坑', '天衛四', '地形', '彗星', '行星', '面_(幾何)', '小行星'} {'撞擊結構', '撞擊坑', '鷹撞擊坑', '普維斯撞擊坑'}\n",
            "{'玲子·艾爾斯沃斯', '身', '血親', '美洲', '亞洲'} set()\n",
            "{'法輪功', '口耳相傳', '中國', '臺灣'} {'法輪功在各地的發展及影響', '法輪功', '對法輪功的鎮壓', '法輪功在臺灣'}\n",
            "{'獎勵', '奧斯卡', '小說', '名', '奧斯卡·埃爾南德斯'} {'奧斯卡', '奧斯卡金像獎', '奧斯卡最佳實景短片獎'}\n",
            "{'海嘯', '反射', '地震波', '地震', '檢測'} {'海嘯', '地震', '2011年日本東北地方太平洋近海地震', '地震波'}\n",
            "{'彌涅耳瓦', '命運', '宇宙'} {'冥界神', '彌涅耳瓦', '奎裏努斯'}\n",
            "{'樂山大佛', '大佛', '唐朝'} set()\n",
            "{'家庭', '韓國電視劇', '真善美', '人性', '電視劇'} set()\n",
            "{'置標語言', '標記_(程式語言)', 'XBRL'} {'文檔標記語言比較', '語音合成標記語言', '輕量級標記語言'}\n",
            "{'電子計算機', '史蒂夫·喬布斯', '蘋果公司', '蘋果', '喬布斯_(電影)'} {'電腦合成影像', '史蒂夫·喬布斯', '玩具總動員', '約翰·斯卡利', '皮克斯動畫工作室'}\n",
            "{'機構', '大學', '211工程', '中國政法大學', '211_(消歧義)', '工程'} {'行政機關', '211工程', '上海大學', '中西部高校基礎能力建設工程', '985工程'}\n",
            "{'三角洲', '珠江', '珠江三角洲'} {'珠江三角洲'}\n",
            "{'斯賓塞·亞伯拉罕', '亞伯拉罕', '亞伯拉罕·林肯總統圖書館和博物館', '亞伯拉罕·路易·佈雷蓋', '亞伯拉罕·範海辛', '亞伯拉罕諸教', '亞伯拉罕·林肯', 'F·莫瑞·亞伯拉罕'} {'亞伯拉罕', '亞伯拉罕諸教', '土耳其宗教', '伊斯蘭教與基督教關係', '拜星教'}\n",
            "{'獎勵', '電影節', '獅', '影片', '冠軍', '金獅獎_(消歧義)', '意大利', '金獅獎'} {'侯孝賢', '張藝謀', '第7屆威尼斯影展', '王家衛', '第70屆威尼斯國際電影節'}\n",
            "{'類型', '對日民間索賠', '創傷', '炸彈', '第二次世界大戰', '經濟補償'} {'收割炸彈', '對日民間索賠', '郵包炸彈', '集束炸彈', '航空炸彈'}\n",
            "{'太原市', '汾河', '上游', '山西省'} {'晉中市', '汾河', '呂梁市'}\n",
            "{'電影', '地區', '東帝汶'} set()\n",
            "{'1999', '弗拉基米爾·普京', '代理_(政治)', '總理', '羅曼·伊戈列維奇·普京', '1999年'} set()\n",
            "{'蘇丹_(稱謂)', '國', '半島', '阿拉伯半島', '阿曼', '印度洋', '阿曼蘇丹'} {'阿曼地理', '阿曼', '東阿拉伯半島', '阿曼蘇丹'}\n",
            "{'人間', '載具', '索爾', '北歐', '交通', '雷暴', '神', '費爾南多·索爾'} {'索爾'}\n",
            "{'行政法'} {'行政機關', '行政程序法', '野草莓運動', '行政法', '公共行政學'}\n",
            "{'英國廣播公司', '英國', '國家', '部長', '廣播'} {'韓國廣播公司', '挪威廣播公司', '公共廣播', '廣播'}\n",
            "{'作家', '戰爭與和平', '列夫·托爾斯泰', '函數', '托爾斯泰_(消歧義)', '俄羅斯'} {'俄國社會民主工黨', '列夫·托爾斯泰區', '亞斯納亞波利亞納'}\n",
            "{'河北省', '燕大', '鱷目', '燕山大學', '燕山_(消歧義)', '秦皇島市', '燕_(安史之亂)'} set()\n",
            "{'大韓民國', '高建', '政治家', '訊息', '高建_(韓國)'} {'社會信用體系'}\n",
            "{'市', '懷化市', '湖北省_(中華民國)', '中華人民共和國', '地級市', '湖北省'} {'懷化市', '懷化市第三中學', '蘭溪市', '湖北省鄉級以上行政區列表', '鶴城區'}\n",
            "{'口腔', '動物', '分支', '原口動物', '螺旋動物'} {'螺旋動物'}\n",
            "{'佛教用語列表', '態度', '六和敬'} {'六和敬'}\n",
            "{'弗朗茨·卡夫卡', '短篇小說'} set()\n",
            "{'國府', '皇帝', '標語', '金朝'} set()\n",
            "{'IPod', '物理量'} {'IPod', '量綱'}\n",
            "{'民族', '指', '歐洲', '國家', '歐洲民族', '腳趾'} {'民族國家', '貴州省民族構成列表', '新疆維吾爾自治區民族構成列表', '廣東省民族構成列表', '海南省民族構成列表'}\n",
            "{'牡丹社', '少將', '官僚', '明治', '兒玉利國', '牡丹', '鹿兒島縣'} {'兒玉源太郎', '瑯嶠十八社', '田中綱常', '兒玉利國', '鹿兒島縣'}\n",
            "{'朱棣文', '斯坦福', '史丹佛大學', '小利蘭·斯坦福'} set()\n",
            "{'蘇格蘭', '湖區', '威廉·華茲華斯'} {'赫爾維林峯', '威廉·赫茲利特', '沃爾特·司各特'}\n",
            "{'進士', '沈鈞儒', '祖籍', '嘉興市', '江蘇省_(中華民國)'} {'王頌蔚', '沈鈞儒'}\n",
            "{'血親', '法國', '伊麗莎白', '1990年', '世', '女王', '皮特·烏斯蒂諾夫', '伊麗莎白二世'} {'吉勒摩·戴託羅之皮諾丘', '克里斯蒂娜女王', '伊麗莎白二世', '皮埃爾-夏爾·維爾納夫', '奧斯卡二世'}\n",
            "{'顏色', '波長', '色', '毛主席語錄', '可見光'} {'毛主席語錄', '顏色'}\n",
            "{'神話_(書)', '羅馬神話', '普路託', '多米那特製', '陰間'} {'冥神', '普路託', '羅馬神話'}\n",
            "{'玻璃纖維', '電腦性能', '複合材料', '材料', '高性能轎車', '樹脂', '纖維'} {'碳纖維', '複合材料', '工程用水泥基複合材料', '樹脂基複合材料', '建築材料'}\n",
            "{'安娜·馬勒', '歌曲', '早晨', '阿爾瑪·馬勒', '奧地利', '交響曲', '古斯塔夫·馬勒', '作曲家'} {'作曲家'}\n",
            "{'1982年', '山下達郎', '身分標識方式', '竹內瑪莉亞'} set()\n",
            "{'楊小凱', '分析', '經濟學', '哈佛大學', '邊際', '經濟學家', '古典經濟學', '理論'} {'楊小凱', '約翰·加爾佈雷斯', '2004年7月逝世人物列表', '古典經濟學', '奧地利學派'}\n",
            "{'沙皇', '亞歷山大·克倫斯基', '治理', '俄羅斯人', '民主革命', '1917', '1917年', '俄羅斯'} {'俄羅斯君主列表'}\n",
            "{'羅', '大韓民國', '全羅北道', '首府', '賓州', '聯合國教育、科學及文化組織', '道_(行政區劃)'} {'全羅南道', '忠清北道', '全州市', '全羅北道', '清州市'}\n",
            "{'艾倫', '伍迪·艾倫', '神經質', '角色'} set()\n",
            "{'艾倫', '伍迪·艾倫', '時代', '時代雜誌'} {'伍迪·艾倫', '漫威漫畫', 'DC漫畫', '伍迪·艾倫獲獎與提名列表', '時代雜誌百大英文小說'}\n",
            "{'釀造醋', '原材料', '醋'} {'釀造醋', '油醋汁', '鎮江香醋', '醋', '浙醋'}\n",
            "{'斯坦', '突厥', '突厥語族', '本地人', '卡拉卡爾帕克斯坦共和國'} {'卡爾梅克共和國', '卡拉卡爾帕克人', '穆薩·葉爾尼亞佐夫', '木伊那克', '卡拉卡爾帕克斯坦共和國'}\n",
            "{'鎖麟囊', '上海市'} set()\n",
            "{'張其昀', '臺北市私立華岡藝術學校'} {'張其昀', '楊朝祥', '梅貽琦'}\n",
            "{'乙烯基', '乙炔', '炔烴', '烴', '需要'} {'氯乙烯', '乙烯基', '乙炔二醇', '苯乙炔', '乙炔'}\n",
            "{'數學', '數學家', '理論', '格奧爾格·康托爾', '埃迪·康托爾'} {'康托爾函數', '格奧爾格·康托爾'}\n",
            "{'上座部', '佛教歷史', '佛教', '分裂', '印度', '根本分裂', '印度佛教', '大衆部'} {'天主教會大分裂', '上座部', '根本分裂', '漢傳佛教', '部派佛教'}\n",
            "{'小說', '三國演義', '劉備', '章回小說', '關羽', '金蘭'} {'武神趙子龍', '關維麟', '反三國演義', '樊城之戰', '關羽'}\n",
            "{'向量', '規約符號', 'F', '對稱', '研究', '一般線性羣', 'GL', '向量空間'} {'隊列研究', '射影表示', '分子對稱性'}\n",
            "{'土衛十', '木星', '土衛十一', '土星的衛星'} {'木星的衛星', '木星日食', '土星的衛星', '海王星的衛星', '天王星的衛星'}\n",
            "{'邏輯', '墨家', '代表'} {'邏輯', '非經典邏輯', '邏輯史'}\n",
            "{'公寓', '號', '高安公寓', '康平路'} {'西湖公寓', '高安公寓', '淮海公寓'}\n",
            "{'突變', '基因', '流產', '胎兒'} {'突變', '胚胎髮育', '胎兒鏡檢查', '人工流產', '產前發育'}\n",
            "{'分子', '鍵', '雙原子分子', '長度', '氫氣', '原子', '鍵長'} {'共價鍵', '分子', '化學鍵', '雙原子分子', '雙氫鍵'}\n",
            "{'弗拉基米爾', '總統', '弗拉基米爾·普京'} {'弗拉基米爾·普京的公衆形象', '弗拉基米爾·普京的政治生涯'}\n",
            "{'崇義郡', '南北朝', '中國', '湖北省_(中華民國)', '北朝', '湖北省'} {'崇義郡', '竟陵郡', '東官郡', '南北朝行政區劃'}\n",
            "{'體積', '愛爾蘭'} set()\n",
            "{'臺北市_(州轄市)', '臺北市'} {'臺灣古蹟列表', '臺北市政府', '臺北市萬華區老松國民小學', '高玉樹', '臺北市'}\n",
            "{'禾本科', '世界', '中東', '植物', '麥', '大麥'} set()\n",
            "{'病毒', '生物', '生物分類學', '屬', '形容詞', '分類學_(消歧義)', '生物學'} {'病毒分類表', '生命', '原生生物', '生物', '形態分類'}\n",
            "{'荷馬史詩', '荷馬', '詩人', '美洲', '史詩'} {'荷馬史詩', '荷馬'}\n",
            "{'中學', '南京大學附屬中學', '江蘇省_(中華民國)', '南京大學'} {'南京大學附屬中學', '南京田家炳高級中學', '南京市金陵中學', '江蘇省蘇州實驗中學', '南京師範大學附屬中學'}\n",
            "{'世紀', '農業', '20世紀', '科隆'} set()\n",
            "{'漫畫', '勇度', '藍色', '人物'} set()\n",
            "{'臺南市', '西區_(臺南市)', '中西區_(臺灣)', '中西區', '臺南市美術館'} {'桃園市立美術館', '臺南市美術館', '國立臺灣大學機械工程館', '國立臺灣美術館'}\n",
            "{'大學', '泰國', '教師', '朱棣文', '神仙·老師·狗'} set()\n",
            "{'酒', '飲料', '啤酒', '食糖', '全球', '澱粉'} {'釀造酒', '朝鮮民主主義人民共和國的啤酒', '酒精發酵', '自釀啤酒', '啤酒'}\n",
            "{'價值', '不可否認', '中國', '工程'} set()\n",
            "{'程序員', '代碼風格'} set()\n",
            "{'中華人民共和國', '華南理工大學'} {'華南理工大學軟件學院', '華南理工大學校友列表', '華南理工大學建築學院', '華南理工大學前沿軟物質學院', '華南理工大學電子商務系'}\n",
            "{'特別攻擊隊', '日本', '資源_(計算機科學)', '跟蹤支援隊', '力_(佛教)', '同盟國_(第二次世界大戰)'} {'特別攻擊隊', '日本', '自衛隊', '日本投降', '大日本帝國'}\n",
            "{'尼克·貝爾格', '2004年'} set()\n",
            "{'茶', '酒', '南投縣', '臺灣'} set()\n",
            "{'北京大學', '馬寅初', '校長'} set()\n",
            "{'伊拉克', '尼克·貝爾格'} {'尼克·貝爾格', '伊拉克內戰'}\n",
            "{'大學', '美國', '康奈爾大學'} set()\n",
            "{'章伯鈞'} set()\n",
            "{'溶液', '濃度', '溫'} {'溶液', '緩衝溶液', '溶解度', '高氯酸鎂', '理想溶液'}\n",
            "{'文化大革命', '秦腔', '1966年', '革命'} {'中國共產黨中央委員會關於無產階級文化大革命的決定', '秦腔', '文化大革命發動五十週年'}\n",
            "{'北美洲', '全球', '排球'} set()\n",
            "{'交流電', '技術', '電流', '變流技術', '電', '直流電', '流'} {'電力電子學', '變流技術', '直流-直流轉換器', '迴轉變流機', '直流電動機'}\n",
            "{'大運河', '運河', '京杭大運河'} {'浙東運河', '大運河', '京杭大運河'}\n",
            "{'國立臺灣大學', '昆蟲', '國立臺灣大學昆蟲標本館', '標本'} {'國立臺灣大學昆蟲標本館'}\n",
            "{'東北部_(越南)', '梅克倫堡', '梅克倫堡前波美拉尼亞', '東北', '波美拉尼亞', '西波美拉尼亞', '德國', '州'} {'前波美拉尼亞-格賴夫斯瓦爾德縣', '梅克倫堡湖區郡', '東前波美拉尼亞縣', '前波美拉尼亞-呂根縣', '西北梅克倫堡縣'}\n",
            "{'教室'} set()\n",
            "{'龍', '過去', '恐龍', '目_(生物)', '敏迷龍屬'} {'三角龍屬', '木他龍屬', '重龍屬', '嘉年華龍屬', '敏迷龍屬'}\n",
            "{'士兵', '馬車', '地址', '轅門'} {'轅門', '行轅', '第二次國共內戰', '士兵', '軍團士兵'}\n",
            "{'臺灣', '李安', '屏東縣', '服裝設計', '李·安克里奇', '潮州鎮', '潮州_(大字)', '設計師'} set()\n",
            "{'禮拜', '基督徒', '耶穌受難', '教會', '聖週五', '日子'} set()\n",
            "{'荷馬', '集', '史詩'} {'荷馬史詩'}\n",
            "{'淡水湖', '蒙古國', '洞裏薩湖', '東南亞', '金邊'} set()\n",
            "{'詩人', '伊萬·屠格涅夫', '作家', '俄羅斯'} {'尼古拉·阿列克謝耶維奇·涅克拉索夫', '阿霞'}\n",
            "{'作品', '黑血_(漫畫)', '血液', '黑血', '人物'} set()\n",
            "{'安德斯·海爾斯伯格', '丹麥', '編譯器', '作者', '微軟', '安德斯'} {'安德斯·海爾斯伯格', '丹麥國家足球隊', 'GCC', '丹麥議會', '可移植C編譯器'}\n",
            "{'筆', '金庸', '鹿鼎記'} {'月雲', '鹿鼎記'}\n",
            "{'喬治·費茲傑羅', '薇拉·費茲傑羅', '了不起的蓋茨比', '弗朗西斯·斯科特·菲茨傑拉德'} set()\n",
            "{'熱點_(地質學)', '生物', '馬達加斯加', '生物多樣性'} {'生物多樣性熱點', '馬達加斯加的企鵝', '生物地理分佈區', '馬達加斯加', '生物多樣性'}\n",
            "{'臺灣', '現在', '澎湖羣島', '過去', '臺灣海峽', '名稱'} {'澎湖廳長', '澎湖縣'}\n",
            "{'法國', '瓦西里·康定斯基', '國籍', '1928年', '美國', '俄羅斯'} set()\n",
            "{'音系學', '方言', '概念', '淮劇', '腳', '入聲'} {'淮劇'}\n",
            "{'服務', '信使號'} {'信差', 'Adium', 'Kopete', 'YM', 'Meebo'}\n",
            "{'臺南市', '阿美族'} {'阿美族'}\n",
            "{'Starship', '娛樂', 'STARSHIP娛樂'} {'IST娛樂', '銀河娛樂', '英皇娛樂'}\n",
            "{'女性', '臺中市', '臺中市私立曉明女子高級中學', '中學'} {'臺中市立臺中女子高級中等學校', '花蓮縣私立海星高級中學', '祁志英', '清華大學校園', '臺中市私立曉明女子高級中學'}\n",
            "{'虛擬化'} set()\n",
            "{'燕山_(消歧義)', '燕山大學', '河北省'} {'武漢紡織大學', '河北農業大學', '燕山大學', '湖北工業大學', '河北大學'}\n",
            "{'馬克思·多爾穆瓦站', '資本論', '政治經濟學', '海因裏希·馬克思', '馬克思主義', '馬克思主義政治經濟學', '格魯喬·馬克思', '卡爾·馬克思'} {'馬克思學說研究會', '馬克思主義思想流派', '西方馬克思主義', '馬克思主義政治經濟學', '對馬克思主義的批評'}\n",
            "{'西亞', '中東', '亞洲'} {'澳大拉西亞', '西亞', '全北界', '亞洲'}\n",
            "{'喪慟', '現代史', '袖章'} set()\n",
            "{'事件', '斯卡帕灣', '公海艦隊', '公海艦隊自沉事件'} {'公海艦隊自沉事件', '第19號作戰令', '大艦隊'}\n",
            "{'基督教', '新約', '聖經', '猶太教', '猶太教與基督教'} {'基督教歷史', '基督教藝術', '密傳基督教', '猶太教', '猶太教與基督教'}\n",
            "{'公寓', '高安公寓', '康平路'} {'西湖公寓', '高安公寓', '淮海公寓', '瑞華公寓'}\n",
            "{'人類', '食物', '藥物'} {'食物', '藥物測試', '約會強姦藥物', '藥物過量', '藥物'}\n",
            "{'衛星', '太陽系', '行星', '海衛十'} {'木星的衛星', '衛星', '土星的衛星', '海王星的衛星', '海衛十一'}\n",
            "{'觀點_(哲學)', '世紀', '時間', '新興宗教', '宗教', '觀點'} {'世界主要宗教', '新興宗教', '原始宗教', '宗教史', '宗教的進化起源'}\n",
            "{'自然紀念物', '蟲川大杉車站', '國家'} {'燕三條車站', '蟲川大杉車站', '鵜杉車站', '杉戶高野臺站', '大杉站'}\n",
            "{'李祖德', '臺灣', '臺北醫學大學', '經營者'} {'李祖德', '邱文達', '臺北醫學大學'}\n",
            "{'共和黨', '華盛頓哥倫比亞特區', '今天', '公司', '總部', '共和黨_(美國)', '美國'} {'美國領土擴張'}\n",
            "{'人類', '數學', '賽普勒斯'} set()\n",
            "{'氣候', '面積', '熱帶', '海洋性氣候', '北马里亞納羣島', '熱帶海洋性氣候'} {'卡皮托爾希爾', '密克羅尼西亞運動會'}\n",
            "{'德州儀器', '世界', '晶體管', '德州', '年代'} {'有機發光晶體管'}\n",
            "{'北京理工大學'} {'臺南文化創意產業園區', '臺灣產業園區列表', '湖南中醫藥大學', '新北產業園區', '經濟部產業園區管理局'}\n",
            "{'三鍵', '鍵', '炔烴', '烴', '物質'} {'不飽和烴', '環烴', '炔烴', '1-丁炔', '雙硫鍵'}\n",
            "{'SETI@home', '計算', '加利福尼亞大學', '加利福尼亞大學柏克萊分校', '政府'} {'搜尋地外文明計劃', '加利福尼亞大學河濱分校', 'Astropulse', 'BOINC', '普適計算'}\n",
            "{'文森特·梵高', '語言', '教育'} {'內容和語言整合學習', '語言教育'}\n",
            "{'質量', '粒子衰變', '夸克', '過程', '下夸克', '上夸克', '衰變'} {'底夸克', '夸克', '下夸克', '上夸克', '頂夸克'}\n",
            "{'皇帝', '劉宋', '宋', '南北朝_(消歧義)', '南北朝時代_(日本)', '東晉'} {'宋武帝', '魏晉南北朝', '劉暠', '東晉演義', '東晉'}\n",
            "{'英國', '手語', '學校'} set()\n",
            "{'大衛·貝克漢姆', '世界', '價值', '足球員', '資產'} {'最有價值選手', '大衛·貝克漢姆', '勞動價值理論', '主觀價值理論'}\n",
            "{'文化', '大學', '中世紀', '數學', '世紀', '發展', '教授', '幾何學'} {'宗教地理學', '古希臘數學', '數學'}\n",
            "{'劍橋', '劍橋大學', '學院'} {'劍橋大學', '劍橋大學基督聖體學院'}\n",
            "{'情節', '臼井儀人', '蠟筆小新', '作者'} set()\n",
            "{'美國總統', '總統', '美國', '威廉·亨利·哈里森'} {'1840年美國總統選舉', '安娜·哈里遜'}\n",
            "{'禾本科', '世界', '糧食', '小麥', '植物', '麥'} {'玉米', '可維持產量', '小麥', '中非共和國經濟', '孟加拉國農業'}\n",
            "{'伯蒂·查爾斯·福布斯', '成龍', '邁爾康·福布斯', '福布斯'} set()\n",
            "{'自然紀念物', '上越市', '新潟縣', '蟲川大杉車站'} {'蟲川大杉車站', '犀潟車站', '浦川原站', '北北線', '上越市'}\n",
            "{'學說', '人類演化', '人科', '假說', '動物', '人類', '演化', '人屬', '分支', '猿'} {'人類演化', '人科', '人亞科', '人類多地起源說', '演化人類學'}\n",
            "{'神話', '證明', '考古學', '希臘神話', '希臘', '藝術品'} {'北歐神話', '希臘神話', '羅馬神話', '神話學'}\n",
            "{'醜聞', '伊拉克戰爭', '英國政府', '戰爭', '英國', '政府', '伊拉克'} {'伊拉克空軍', '伊拉克戰爭', '伊拉克總理', '英國伊拉克戰爭', '伊拉克內戰'}\n",
            "{'組織創始人', '遠東集團_(臺灣)', '徐有庠', '學校'} {'徐有庠'}\n",
            "{'聖保羅書院', '香港聖公會', '男性'} {'香港聖公會院校', '史超域', '史璧琦', '香港聖公會聖基道兒童院'}\n",
            "{'赤足'} set()\n",
            "{'政治局', '安德烈·尤里耶維奇·勃列日涅夫', '列昂尼德·勃列日涅夫', '尤里·勃列日涅夫', '中央委員會', '1952年'} set()\n",
            "{'中國國民黨', '蔡英文', '朱立倫'} {'蔡英文政府', '蔡英文', '習朱會', '蔡英文相關爭議', '中國國民黨第十九次全國代表大會'}\n",
            "{'包拯', '貪污', '北宋', '字'} {'北宋'}\n",
            "{'漢', '漢初三傑', '劉邦'} {'漢', '漢初三傑', '劉邦'}\n",
            "{'龍', '蒙古高原草原內蒙古草原東北草原', '草原', '蕈類', '味覺', '香杏麗蘑', '地方', '杏_(演員)'} {'杏香兔兒風', '松口蘑', '黏小奧德蘑', '香杏麗蘑'}\n",
            "{'物理氣相沉積', '濺射', '沉積'} {'薄膜', '薄膜電晶體', '物理氣相沉積', '沉積', '磁控濺射'}\n",
            "{'雅虎地球村', '地球村', '雅虎', '地球村_(消歧義)', '名稱', '相關性'} {'雅虎空間'}\n",
            "{'臺灣', '嘉義縣', '阿里山', '動物'} {'嘉義縣'}\n",
            "{'印度人民黨', '綠色聯盟'} {'政黨領袖', '1974年2月英國大選', '綠色左派'}\n",
            "{'化合物', '氧', '環氧乙烷', '有機化合物', '身體'} {'乙二醇二甲醚', '環氧乙烷', '過氧化酮', '環氧化合物', '環硫乙烷'}\n",
            "{'家', '赤足', '拖鞋', '習慣'} {'拖鞋'}\n",
            "{'建築學', '賀龍體育文化中心', '文化中心', '賀龍', '非洲'} {'賀龍體育文化中心'}\n",
            "{'橋', '主人公', '靈魂', '藍橋', '魂斷藍橋'} set()\n",
            "{'健康', '醃', '泡菜', '世界', '韓式泡菜', '法', '卡路里', '問題'} {'韓國料理', '韓式泡菜', '酸梅', '飯饌', '壽司'}\n",
            "{'李賦寧', '祖籍'} {'李賦都', '李賦寧'}\n",
            "{'苯', '乙炔', '炔烴', '溫度', '烴'} {'乙炔銀', '乙炔二醇', '苯乙炔', '乙炔', '丙炔'}\n",
            "{'子', '永琮', '乾隆'} {'永琮'}\n",
            "{'作品', '悲劇', '皆大歡喜', '天王星', '人物', '威廉·莎士比亞', '名稱', '天衛十三'} {'第一對開本', '天衛九', '威廉·莎士比亞', '莎士比亞戲劇故事集', '天衛十三'}\n",
            "{'格奧爾格·康托爾', '德國', '數學家'} {'康托爾環形山', '格奧爾格·康托爾獎章', '卡爾·龍格', '康托爾函數', '德國數學學會'}\n",
            "{'印度人民黨', 'NDA'} {'2014年印度大選', '印度總理', '穩得議席', '2019年印度大選'}\n",
            "{'伍德羅·威爾遜', '大學', '美國大學', '新澤西州', '教授', '公務員', '總統', '美國'} {'伊迪斯·威爾遜', '伍德羅·威爾遜國際學者中心', '美國總統', '保羅·薩繆爾森', '加勒特·霍巴特'}\n",
            "{'豆腐', '菜系', '麻婆豆腐', '豆瓣醬', '麻', '原材料', '大豆', '豆製品'} {'麻婆豆腐', '豆瓣醬', '大豆', '豆漿', '黃豆粉'}\n",
            "{'目標', '種子', '子房', '果實'} {'子房'}\n",
            "{'戊', '光緒帝', '光緒', '謠言', '權力', '戊戌變法', '戊戌', '康有爲'} {'戊戌六君子', '吳起變法', '奕訢', '慈禧太后', '戊戌變法'}\n",
            "{'蝴蝶_(2002年電影)', '國立臺灣大學', '蝴蝶', '標本', '國立臺灣大學昆蟲標本館'} {'臺灣蝴蝶列表', '國立臺灣大學昆蟲標本館'}\n",
            "{'母校', '中央大學', '中央大學·明星大學站', '管致中'} set()\n",
            "{'作品', '皮膚', '勇度', '藍色', '人物', '漫威'} {'藍色'}\n",
            "{'劍橋', '劍橋大學', '書院'} {'劍橋大學基督聖體學院', '劍橋大學三一學堂'}\n",
            "{'衍射', '晶體', '晶體學'} {'X射線衍射儀', '低能電子衍射', '晶體學', 'X射線晶體學', '電子衍射'}\n",
            "{'食物', 'SETI@home', '程序'} {'程序設計', '程序'}\n",
            "{'臺灣', '藝人', '劉文正', '寶麗金', '杭州駐防城'} set()\n",
            "{'金馬獎', '金馬獎最佳男主角', '演員', '黃秋生', '主人公', '香港', '最佳男主角', '喜劇電影'} {'香港電影導演會年度大獎最佳新演員', '黃秋生', '陳建斌', '香港電影金像獎最佳男主角', '黃定謙'}\n",
            "{'畢業生', '電視劇'} set()\n",
            "{'世界地質公園列表', '概率', '嵩山'} set()\n",
            "{'名稱', '梁朝偉', '音樂專輯', '一天一點愛戀'} {'錯點鴛鴦·戲點鴛鴦', '多一點愛戀', '愛戀二千小時', '一天一點愛戀'}\n",
            "{'科羅拉多州', '縣城', '東部', '艾伯特_(科羅拉多州)', '縣', '基奧瓦_(堪薩斯州)', '美國', '艾伯特縣'} {'索科羅縣', '密歇根州行政區劃', '密爾瓦基縣', '科羅拉多州行政區劃', '丹地縣'}\n",
            "{'幕', '張惠妹'} set()\n",
            "{'老亞瑟·麥克阿瑟', '約翰·海克特·麥克阿瑟', '杜魯門總統解職道格拉斯·麥克阿瑟', '小亞瑟·麥克阿瑟', '道格拉斯·麥克阿瑟', '湯姆·麥克阿瑟', '西點軍校', '美國'} set()\n",
            "{'果實', '漿果', '植物', '代表'} {'果實'}\n",
            "{'吉祥物', '民進', '蔡英文', '民主進步黨'} {'蔡英文政府', '蔡英文', '2020年中華民國總統選舉', '蔡英文相關爭議', '林右昌'}\n",
            "{'佛教用語列表', '態度', '六和敬'} {'六和敬'}\n",
            "{'君_(消歧義)', '爻', '孟嘗君'} {'八卦', '六爻神卦', '爻'}\n",
            "{'藤子·F·不二雄', '筆名'} {'藤子不二雄', '藤子·F·不二雄創作', '藤子不二雄Ⓐ', '藤子·F·不二雄'}\n",
            "{'段落', '圖書', '故事', '片段', '哈比人', '哈比人歷險記', '風之旅人', '旅途·愉快'} {'段落', '片尾彩蛋', '橋段', '生活片段'}\n",
            "{'馬克思·多爾穆瓦站', '資本論', '政治經濟學', '海因裏希·馬克思', '馬克思主義', '格魯喬·馬克思', '馬克思主義政治經濟學', '卡爾·馬克思'} {'馬克思學說研究會', '馬克思主義思想流派', '西方馬克思主義', '馬克思主義政治經濟學', '對馬克思主義的批評'}\n",
            "{'人類', '社會規範', '社會', '規範'} {'社會', '社會變遷', '社會結構'}\n",
            "{'路口', '京畿道', '大韓民國', '京畿'} set()\n",
            "{'穀梁傳', '春秋_(書)', '春秋'} set()\n",
            "{'格奧爾格·康托爾', '埃迪·康托爾', '廚師', '食譜'} {'康托爾集', '格奧爾格·康托爾'}\n",
            "{'溴', '藥物'} {'苯酚', '氯化亞汞', '溴', '絮凝', '對氯間二甲苯酚'}\n",
            "{'周慧敏·新曲+精選', '周慧敏·最愛V25', '歌手·當打之年', '歌手', '周慧敏', '黃大仙', '黃大仙區', '黃大仙_(香港地方)'} {'失物招領：周慧敏精選'}\n",
            "{'支流', '湖北省_(中華民國)', '黃河', '全長', '汾河', '山西省'} {'渦河', '泗河', '廢黃河', '汾河', '洮河'}\n",
            "{'釣魚臺', '西部', '島嶼', '土壤', '釣魚臺列嶼', '陸地', '波濤', '北海'} {'釣魚臺', '亞洲胡瓜魚', '南小島', '釣魚臺列嶼', '胡瓜魚'}\n",
            "{'氫氧化鈉', '溶液', '鹼石灰', '石灰', '氧化鈉', '氧化鈣'} {'氫氧化金', '鹼石灰', '石灰', '銅氨溶液', '石灰鹼釉'}\n",
            "{'境', '自然保護區', '中國'} {'中華人民共和國國家級自然保護區列表'}\n",
            "{'主席', '國', '葉國華', '澳門', '全國人民代表大會代表', '人民代表大會', '全國人民代表大會'} {'香港特別行政區全國人民代表大會代表', '2005年中華民國國民大會代表選舉', '澳門特別行政區全國人民代表大會代表', '廖澤雲', '第十一屆全國人民代表大會'}\n",
            "{'荷馬史詩', '文學', '荷馬', '古希臘', '古希臘文學', '希臘', '希臘文學', '史詩'} {'荷馬史詩', '荷馬'}\n",
            "{'一起_(政黨聯盟)', '花瓣', '簇', '葡萄'} set()\n",
            "{'御座', '皇帝', '中國', '宋仁宗'} {'宋仁宗', '中國皇帝'}\n",
            "{'民族', '指', '歐洲', '國家', '歐洲民族', '腳趾'} {'山東省民族構成列表', '民族國家', '貴州省民族構成列表', '新疆維吾爾自治區民族構成列表', '海南省民族構成列表'}\n",
            "{'金星凌日', '天文學'} {'2012年金星凌日', '金星凌日', '1874年金星凌日'}\n",
            "{'法國', '面', '摩納哥', '地中海', '南部'} {'法國地理'}\n",
            "{'氣候', '面積', '熱帶', '海洋性氣候', '北马里亞納羣島', '熱帶海洋性氣候'} {'卡皮托爾希爾', '密克羅尼西亞運動會'}\n",
            "{'詩人', '唐朝末年', '唐詩', '唐詩三百首', '李商隱'} {'賦得古原草送別', '靜夜思', '柳枝', '唐詩', '唐詩別裁集'}\n",
            "{'國', '國際足協世界盃', '2006年', '國際足球聯合會', '德', '德國'} {'2019年國際足協女子世界盃', '國際足協U-17世界盃', '國際足協U-17女子世界盃', '國際足協室內五人足球世界盃', '國際足協女子世界盃'}\n",
            "{'母校', '土木工程', '中央大學_(日本)', '科系', '管致中', '講師_(消歧義)'} {'國立中央大學', '清華大學土木工程館', '東南大學', '管致中', '東南大學土木工程學院'}\n",
            "{'土衛十', '土衛十一', '衛星', '土星的衛星'} {'GPS衛星', '土星的衛星'}\n",
            "{'二十四史', '宋史', '歷史書', '史', '中國', '丞相', '元朝', '宋'} {'宋史', '史通', '正史', '明史'}\n",
            "{'茴芹', '中國', '茴芹屬', '火山', '植物', '花'} set()\n",
            "{'行爲', '商業'} {'能量條件'}\n",
            "{'天體', '太陽系', '軌道', '軌道共振', '共振'} {'長期共振', '太陽系探索年表', '軌道根數', '軌道共振', '日心軌道'}\n",
            "{'杜鵑科', '杜鵑', '科'} set()\n",
            "{'女神', '木衛三十九', '實惠', '希臘', '名稱', '傳說'} set()\n",
            "{'黃初平', '飄然臺', '白玉'} set()\n",
            "{'獎勵', '化學', '諾貝爾獎', '化學家', '遺囑', '阿爾弗雷德·諾貝爾'} {'諾貝爾獎得主列表', '印度諾貝爾獎得主列表', '拒絕領取諾貝爾獎人物列表', '諾貝爾化學獎', '諾貝爾經濟學獎'}\n",
            "{'世界歷史', '時代', '南北朝', '中國', '魏晉南北朝', '三國', '特徵', '亂世'} {'南北朝', '魏晉南北朝', '三國', '晉朝', '五胡十六國'}\n",
            "{'軍區', '中國人民解放軍', '中國人民解放軍武漢軍區', '大軍區'} {'中國人民解放軍昆明軍區', '中國人民解放軍陸軍第八綜合訓練基地', '中國人民解放軍武漢軍區', '中國人民解放軍武漢軍區空軍', '中國人民解放軍內蒙古軍區'}\n",
            "{'馬世莉', '心肌梗死', '兄弟姊妹'} set()\n",
            "{'軍事', '古賽爾_(敘利亞)', '伊斯蘭教', '組織', '古賽爾戰役', '什葉派', '軍事組織'} {'伊普蘇斯戰役', '伊斯蘭國', '對伊斯蘭國的軍事打擊', '巴勒斯坦伊斯蘭聖戰運動'}\n",
            "{'伊斯蘭曆', 'BH', 'AD', '代號', 'Bh_(二合字母)', '希吉拉'} {'伊斯蘭教歷史年表', '希吉拉', '賴買丹月'}\n",
            "{'海濱站_(聖彼得堡地鐵)', '海濱站', '車站', '瓦西里島', '聖彼得堡地鐵', '瓦西里·貝科夫號巡邏艦', '聖彼得堡', '地鐵'} {'涅瓦-瓦西里島線', '海濱站', '瓦西里島站', '基洛夫-維堡線', '御臺場海濱公園站'}\n",
            "{'日本', '榮譽', '講談社·中國的歷史', '推理小說', '三年坂火之夢', '講談社'} {'江戶川亂步', '三年坂火之夢', '三姊妹偵探團', '這本推理小說真厲害！', '講談社出版文化賞'}\n",
            "{'共和國勳章', '突破', '勳章', '袁隆平', '穀物'} set()\n",
            "{'域', '域_(生物)', '界_(生物)', '生物', '法', '界'} set()\n",
            "{'蓋茲堡演說', '美國曆史', '林肯_(消歧義)', '亞伯拉罕·林肯', '美國總統', '總統', '美國'} {'蓋茲堡演說', '基輔雞演說', '亞伯拉罕·林肯'}\n",
            "{'小號', '古典音樂', '音樂', '爵士樂', '銅管樂器', '管樂器'} {'小號', '冷爵士樂', '二十一世紀古典音樂', '早期古典音樂', '爵士樂'}\n",
            "{'數學', '最短路問題', '路', '問題', '算法', '短路'} {'決定性問題', '問題', '中國郵遞員問題', '計算複雜性理論', '動態規劃'}\n",
            "{'穆罕默德·阿里帕夏', '穆罕默德·默罕馬杜拉', '穆罕默德·本·薩勒曼', '穆罕默德', '伊斯蘭教', '古蘭經', '穆罕默德·本·沙特'} {'穆罕默德', '阿里·本·阿比·塔利卜', '阿迦·穆罕默德汗', '伊斯蘭教', '伊斯蘭教的先知'}\n",
            "{'絕對君主制', '法國', '路易·德·奧爾良_(1703年—1752年)', '官僚', '路易十四', '歐洲', '法國大革命', '君主制', '霸權'} {'沙皇專制制度', '法國大革命', '朕即國家', '法國七月革命', '君主專制'}\n",
            "{'雙胞胎', '英國', '兒童', '威廉·莎士比亞', '導演'} set()\n",
            "{'碳', '鈣', '乙炔', '氧化', '星期三', '氧化鈣'} {'六硼化鈣', '乙炔', '氧化', '硫化鈣', '氰氨化鈣'}\n",
            "{'人口', '京畿道', '大韓民國', '京畿'} set()\n",
            "{'美國陸軍', '世界大戰', '陸軍參謀長_(印度)', '參謀長', '美國陸軍參謀長', '第一次世界大戰', '喬治·卡特萊特·馬歇爾', '美國'} {'喬治·巴頓', '第一次世界大戰', '喬治·卡特萊特·馬歇爾', '道格拉斯·麥克阿瑟', '德懷特·艾森豪威爾'}\n",
            "{'獅', '賽普勒斯'} set()\n",
            "{'林鈺婷', '領域', '職業'} {'楊士琪卓越貢獻獎', '金音創作獎', '特別貢獻獎', '臺北電影獎卓越貢獻獎', '鞏俐'}\n",
            "{'世紀', '巡洋艦', '英國皇家海軍', '英國', '胡德號戰列巡洋艦', '胡德', '20世紀', '戰列巡洋艦'} {'日德蘭海戰', '毛奇號大巡洋艦', '希佩爾海軍上將號重巡洋艦', '獅級戰列巡洋艦', '胡德號戰列巡洋艦'}\n",
            "{'瑤池', '名', '洞_(小說)', '西王母', '洞天'} {'瑤池'}\n",
            "{'運動_(物理學)', '天體', '體育運動', '占卜', '自然', '超自然現象', '位置', '占星術'} {'西洋占星術', '中國占星術', '占卜', '算命', '占星術'}\n",
            "{'企業', '麻薩諸塞州', '世界', '總部', '通用電氣', '奇異', '國家', '美國'} {'聯合國總部大樓', '企業', '麻薩諸塞州', '美國革命', '合資公司'}\n",
            "{'祖先', '昭武', '月氏', '小國', '姓', '信史', '歷史', '昭武九姓'} {'閩人三十六姓', '延姓', '第五姓', '九方姓', '昭武九姓'}\n",
            "{'神話', '女神', '木材', '木星的衛星', '衛', '希臘神話', '希臘', '木衛六', '埃裏希·瑪利亞·雷馬克'} {'木衛十', '木衛七', '繆斯', '木衛六', '巴實抹'}\n",
            "{'大韓民國', '刑法', '總統'} {'朴槿惠彈劾案', '第二次唐納德·特朗普彈劾案', '不信任及彈劾香港特別行政區行政長官', '英國上議院司法職能', '第一次唐納·川普彈劾案'}\n",
            "{'抄襲', '資源_(計算機科學)'} {'高雄捷運路線圖抄襲事件'}\n",
            "{'軍官·情人', '德川家康', '阿美族', '軍官'} set()\n",
            "{'休斯敦火箭', '南部', '美國南部', '城市', '人口', '休斯敦', '美國', '本名'} {'哈基姆·奧拉朱旺', '休斯敦', '卡爾文·墨菲'}\n",
            "{'文化', '外海街道', '蘭嶼', '達悟族', '海', '漁船', '海里', '行政院'} {'達悟族', '中國漁船與日本巡邏船釣魚島相撞事件', '雄風三型反艦飛彈誤射事件', '飛魚灣', '925臺灣保釣行動'}\n",
            "{'體積', '泉州市'} set()\n",
            "{'矩陣', '保羅_(人名)', '力學', '英國', '量子力學', '保羅·狄拉克', '矩陣力學', '物理學家', '理論物理學'} {'扭量理論', '量子力學入門', 'BRST量子化', '保羅·狄拉克', '路徑積分表述'}\n",
            "{'公共汽車', '浸禮宗', '蒙哥馬利', '馬丁·路德·金', '牧師', '馬丁·路德', '路德', '美國'} {'馬丁主義', '馬丁·路德·金紀念日', '馬丁·路德·金', '聖禮', '馬丁·路德·金國家歷史遺址'}\n",
            "{'蘇聯', '紅軍', '蘇聯紅軍', '列夫·托洛茨基', '管理學'} {'列夫·謝多夫旅', '托洛茨基主義'}\n",
            "{'組織', '利潤', '非營利組織'} {'非營利組織', '非政府組織', '501(c)組織', '宏觀調控'}\n",
            "{'90年', '臺北', '臺北101'} set()\n",
            "{'質數'} {'環狀質數', '合數', '極小質數', '質數', '0的奇偶性'}\n",
            "{'汽車理論', '指標', '坡度', '汽車'} {'車速表', '鐵路列車', '汽車種類', '加速度', '汽車動力性'}\n",
            "{'日本', '藝人', '何基佑', '配偶', '鍾凱瑩', '兩人_(aiko單曲)', '模特兒'} {'鍾凱瑩'}\n",
            "{'李祖德', '經營者', '牙醫學系', '臺北醫學大學', '臺北'} {'李祖德', '邱文達', '胡寶珍', '醫學院', '高雄醫學大學'}\n",
            "{'小喫', '煎餅_(日本)', '煎餅餜子'} {'大餅雞蛋', '中式麪餅', '煎餅餜子', '臺灣小喫'}\n",
            "{'毅進文憑', '香港都會大學李嘉誠專業進修學院', '香港神託會培敦中學'} {'博雅教育', '社區學院'}\n",
            "{'喜劇演員', '周星馳', '九龍'} {'新喜劇之王'}\n",
            "{'家', '家庭', '單位', '社會', '核心', '核心家庭'} {'家庭', '核心家庭', '智慧家庭'}\n",
            "{'現實生活', '婚姻', '角色', '婚姻生活', '現實', '董至成'} set()\n",
            "{'上座部', '佛教歷史', '佛教', '分裂', '印度', '根本分裂', '印度佛教', '大衆部'} {'上座部', '根本分裂', '漢傳佛教', '大衆部', '部派佛教'}\n",
            "{'高錳酸鉀', '化學式', '錳酸鉀', '星期三'} {'高錳酸銀', '高錳酸鹽', '二氧化錳', '錳酸鉀', '高錳酸鈉'}\n",
            "{'形狀', '疾病'} set()\n",
            "{'穀梁傳', '春秋_(書)', '春秋'} set()\n",
            "{'周星馳', '九龍', '演員', '喜劇'} {'星輝海外有限公司', '新喜劇之王', '低俗喜劇', '周潤發'}\n",
            "{'實藤惠秀', '日本人', '中國'} {'怦然心動的人生整理魔法'}\n",
            "{'北歐', '奧斯陸', '國家'} {'舊奧斯陸'}\n",
            "{'喬治·桑', '卟啉', '疾病', '喬治三世', '喬治·哈里森'} set()\n",
            "{'撞擊坑', '天衛四', '天衛三', '直徑', '量_(物理)', '面_(幾何)', '隕石'} {'程德隕石坑', '月球隕石坑', '撞擊坑', '溼婆隕石坑', '波泰士隕石坑'}\n",
            "{'光澤_(礦物)', '銀', '金屬', '金', '硬幣'} {'硬幣', '銀'}\n",
            "{'大學', '面積', '燕山大學', '中國', '三省六部', '燕山_(消歧義)', '省部共建'} set()\n",
            "{'臺南市', '雅各_(西庇太的兒子)', '馬雅各', '英國', '白話字', '白話', '英國長老會差會'} {'白話字', '客家白話字', '海南話白話字', '唐話番字初學'}\n",
            "{'幻燈片', '訊息'} {'幻燈片投影機'}\n",
            "{'個人', '園林', '園林設計'} set()\n",
            "{'東漢', '三國', '東漢末年', '戰爭'} {'戰爭', '臺灣荷西統治時期', '東漢末年', '贖罪日戰爭'}\n",
            "{'日本', '神話', '天武天皇', '日本神話', '歷史書', '民俗', '態度', '天皇'} {'神話', '日本神話', '朝鮮神話', '神話學', '埃及神話'}\n",
            "{'許世友', '功夫'} set()\n",
            "{'最短路問題', '路', '問題', '算法', '短路'} {'決定性問題', '問題', '中國郵遞員問題', '計算複雜性理論', '動態規劃'}\n",
            "{'獎勵', '金牌', '約瑟夫·普立茲', '報紙', '消防員', '普利策獎'} {'普立茲公共服務獎', '電視金鐘獎特別貢獻獎', '普利茲克建築獎', '廣播金鐘獎特別貢獻獎', '特別貢獻獎'}\n",
            "{'牛族', '文化', '人類', '1949年', '地區', '象徵', '印度憲法', '家牛'} {'日本國憲法', '中華民國國家象徵', '憲法', '印度憲法', '中華民國憲法'}\n",
            "{'氣象衛星', '衛星'} {'氣象衛星', '小型衛星', '風雲系列衛星', '衛星', '土星的衛星'}\n",
            "{'世界', '感覺', '中東', '歐洲', '國際組織', '名詞', '西亞'} {'歐洲中心主義'}\n",
            "{'法國', '瓦西里·康定斯基', '國籍', '德國', '俄羅斯'} set()\n",
            "{'文學史', '作家', '文學', '維克多·雨果', '法國', '雨果_(電影)', '浪漫主義文學', '浪漫主義'} {'啓蒙文學', '維克多·雨果', '黑暗浪漫主義', '茨維坦·託多洛夫', '中國文學'}\n",
            "{'馬丁·路德·金', '汽車旅館', '馬丁·路德'} {'馬丁·路德·金', '馬丁·路德·金恩遇刺案'}\n",
            "{'1959年', '獨立', '人類', '英國', '紀元', '古', '賽普勒斯'} {'賽普勒斯聯合國緩衝區', '北賽普勒斯國徽', '麻薩諸塞州', '賽普勒斯'}\n",
            "{'西北', '昭武', '中國', '回族', '姓', '少數民族', '維吾爾族', '昭武九姓'} {'回族身份認同', '回族', '少數民族'}\n",
            "{'古典', '法國', '浪漫主義', '古典芭蕾', '小提琴', '吉賽爾', '芭蕾舞', '派'} {'俄派芭蕾', '芭蕾舞'}\n",
            "{'園林', '園林設計'} {'工業設計', '園林設計', '景觀設計'}\n",
            "{'母校', '中央大學_(日本)', '電機', '管致中', '電機工程學', '科系', '講師_(消歧義)'} {'國立中央大學', '清華大學電機工程與應用電子技術系', '東南大學', '陳鯨', '管致中'}\n",
            "{'理論', '研究', '計算機科學', '概念'} {'計算機硬體歷史', '電子計算機', '計算機工程', '南京大學計算機科學與技術系', '理論計算機科學'}\n",
            "{'馬克思·多爾穆瓦站', '資本論', '政治經濟學', '海因裏希·馬克思', '馬克思主義', '格魯喬·馬克思', '馬克思主義政治經濟學', '卡爾·馬克思'} {'馬克思主義思想流派', '新馬克思主義', '西方馬克思主義', '後馬克思主義', '馬克思學說研究會'}\n",
            "{'日本', '奴隸制度', '身分標識方式', '制度', '奴婢', '世僕', '歷史'} {'世僕', '古希臘奴隸制度', '奴隸制度'}\n",
            "{'祖父母', '大司馬', '曹鼎'} set()\n",
            "{'上游', '母親', '太原市', '水源', '汾河', '河', '山西省'} {'汾河'}\n",
            "{'位置', '元素週期表'} {'擴展元素週期表', '第8週期元素', '元素週期表', '第1週期元素', '元素週期律'}\n",
            "{'羅馬元老院', '平民', '羅馬', '法律', '騎士', '古羅馬'} {'中華民國法律', '法國高等法院', '法律', '信賴保護原則', '古羅馬'}\n",
            "{'大災難', '洲', '中國', '中國大陸', '張五常', '災害', '經濟學家', '五常'} {'勞動合同制', '中國', '張五常', '中國猶太人', '反攻大陸'}\n",
            "{'公安_(消歧義)', '犯罪', '寧波人', '證券市場', '徐翔', '公安機關', '內線交易', '徐翔_(投資家)'} {'提供侵入、非法控制計算機信息系統程序、工具罪', '有組織犯罪', '僑弼控股', '杜軍案', '內幕交易審裁處'}\n",
            "{'質數', '問題'} {'環狀質數', '合數', '極小質數', '質數', '0的奇偶性'}\n",
            "{'湖區_(乍得)', '歐洲', '鵜鶘', '白鵜鶘', '亞洲'} {'白鵜鶘', '美洲鵜鶘'}\n",
            "{'語態', '物', '電子排布', '鐒', '元素週期表', '位置', '電子'} {'擴展元素週期表', '鎶', '鿬', '錒系元素', '元素週期表'}\n",
            "{'埃及', '冥王', '神話', '埃及神話'} {'冥神', '冥王'}\n",
            "{'武宗', '國公', '曲樞', '應國', '元朝', '元武宗', '部長', '忽必烈'} {'曲樞', '文獻昭聖皇后'}\n",
            "{'國民黨_(南非)', '忠烈祠', '國民政府', '國民', '中華民國', '中華民國國民', '詞', '忠烈祠_(臺灣)'} {'國民政府', '中華民國大陸時期', '1930年代中國', '中華民國國家元首列表', '汪精衛'}\n",
            "{'歐洲', '藤島康介', '職業', '卡通', '藝術家'} {'溫瑟·麥凱'}\n",
            "{'內畫壺', '工藝美術', '歐洲'} {'內畫壺'}\n",
            "{'IPod', '重量'} {'IPod', '比重量'}\n",
            "{'女性', '人類'} set()\n",
            "{'新臺幣', '方法'} set()\n",
            "{'啓蒙時代', '法國', '伏爾泰', '德尼·狄德羅', '讓雅克·盧梭', '孟德斯鳩', '尼古拉·德·孔多塞', '安託萬·德斯蒂·德·特拉西'} {'保羅派', '安·羅伯特·雅克·杜閣', '哈斯卡拉運動', '百科全書派', '百科全書，或科學、藝術和工藝詳解詞典'}\n",
            "{'京九鐵路'} {'京九鐵路', '京仁線', '慶全線', '京廣鐵路', '京臺高速鐵路'}\n",
            "{'神話', '考古學', '美學', '希臘', '證據', '希臘神話'} {'北歐神話', '希臘神話', '羅馬神話', '神話學'}\n",
            "{'西安市', '西安事變', '楊虎', '楊虎城', '人物'} set()\n",
            "{'昆蟲', '蜜蜂屬', '科學', '花蜜', '蠶', '利益', '絲綢'} {'蜂蜜', '蜜蜂屬'}\n",
            "{'光澤_(礦物)', '銀', '金屬', '硬幣', '投資型硬幣'} {'投資型硬幣', '銀'}\n",
            "{'金馬獎', '江湖', '張學友', '笑', '音樂劇'} set()\n",
            "{'積', '歐幾里得'} {'歐幾里得空間'}\n",
            "{'面積', '愛爾蘭'} {'愛爾蘭自由邦', '愛爾蘭國家的名稱'}\n",
            "{'北極殿', '黑帝', '明朝', '明鄭', '臺南北極殿', '臺灣明鄭時期'} {'左鎮北極殿'}\n",
            "{'神話', '木衛三', '神', '天文學家', '希臘', '希臘神話', '意大利', '安尼巴萊·德·加斯帕里斯'} {'半神', '神', '北歐神話', '希臘神話', '自然神論'}\n",
            "{'豫劇'} set()\n",
            "{'軍政府', '軍政_(政體)', '路易斯·伊納西奧·盧拉·達席爾瓦', '組織', '罷課'} {'臺灣戰後時期', '軍政府', '路易斯·伊納西奧·盧拉·達席爾瓦', '軍事管治'}\n",
            "{'物質', '鑽石', '今天'} set()\n",
            "{'歐內斯特·勞倫斯', '鐒'} {'馬克·奧利芬特', '歐內斯特·勞倫斯', '羅伯特·奧本海默', '格倫·西奧多·西博格'}\n",
            "{'後代', '均勻碼理事會', '目標'} {'通用產品代碼', 'QR碼', '目標代碼', '二維碼'}\n",
            "{'方程組', '形式', '馬克士威方程組', '英國', '馬克士威_(單位)', '雕塑家', '方程', '詹姆斯·克拉克·麥克斯韋'} {'馬克士威方程組的歷史', '馬克士威方程組'}\n",
            "{'奧克蘭', '島嶼', '城市', '人口', '新西蘭', '奧克蘭市', '北島', '都市圈'} {'新西蘭王國', '紐西蘭人口', '新澤西州', '奧克蘭大區', '華裔新西蘭人'}\n",
            "{'釀造醋', '原材料', '醋'} {'釀造醋', '油醋汁', '鎮江香醋', '醋', '浙醋'}\n",
            "{'國', '祖先', '昭武', '月氏', '小國', '姓', '隋書', '昭武九姓'} {'孫武', '延姓', '第五姓', '九方姓', '昭武九姓'}\n",
            "{'基隆市', '市鎮', '雍正'} set()\n",
            "{'信念', '品質', '麗臺科技', '全球', '創新'} {'質量控制', '麗臺科技', '醫療衛生哲學', '黃崇源', '創新'}\n",
            "{'帝', '明憲宗'} set()\n",
            "{'明朝', '謝磷', '考試'} set()\n",
            "{'馬克思·多爾穆瓦站', '資本論', '政治經濟學', '海因裏希·馬克思', '馬克思主義', '格魯喬·馬克思', '馬克思主義政治經濟學', '卡爾·馬克思'} {'馬克思主義思想流派', '新馬克思主義', '西方馬克思主義', '後馬克思主義', '馬克思學說研究會'}\n",
            "{'大學', '新界', '清水灣', '香港', '科技大學', '西貢區', '香港科技大學', '清水灣半島'} {'香港樹仁大學', '香港獨立運動', '西貢半島', '香港科技大學', '香港科技大學（廣州）'}\n",
            "{'馬援', '漢光武帝', '骨骼', '四方', '雞蛋', '書信'} {'漢光武帝', '耿忠', '淮海戰役', '八家將'}\n",
            "{'GCC', 'C_(音名)', '系統', 'C++'} set()\n",
            "{'臺中市私立曉明女子高級中學', '女性', '臺中市', '中學'} {'臺中市立臺中女子高級中等學校', '祁志英', '花蓮縣私立海星高級中學', '國立彰化女子高級中學', '臺中市私立曉明女子高級中學'}\n",
            "{'東漢末年', '東漢', '亂', '戰爭', '宦官', '黃巾之亂', '外戚', '毛巾'} {'戚宦之爭', '東漢末年', '涼州之亂', '三國', '黃巾之亂'}\n",
            "{'聚合酶鏈式反應', '酶', '蛋白質組', '時間', '即時聚合酶鏈式反應', '基因', '聚合', '蛋白質'} {'蛋白質摺疊', '蛋白質組學', '蛋白質交互作用', '組織蛋白', '蛋白質結構'}\n",
            "{'釣魚臺', '東海', '島嶼', '土壤', '釣魚臺列嶼', '陸地', '波濤', '南部'} {'釣魚臺', '亞洲胡瓜魚', '南小島', '釣魚臺列嶼', '胡瓜魚'}\n",
            "{'邦', '太平洋', '屬地', '北马里亞納羣島', '美國'} set()\n",
            "{'董至成', '龍虎綜藝王', '角色', '妻子'} {'認識的妻子', '劉家妏'}\n",
            "{'荷馬史詩', '文學', '荷馬', '古希臘', '古希臘文學', '希臘', '希臘文學', '史詩'} {'澤諾多託斯', '荷馬史詩', '吉爾伽美什史詩', '荷馬'}\n",
            "{'慢性病', '桂皮'} set()\n",
            "{'世界', '東京', '智庫', '經濟學人信息社', '世界最佳宜居城市', '報告'} {'經濟學人信息社', '世界最佳宜居城市', '珀斯'}\n",
            "{'晉元帝', '南京市', '琅邪王', '琅琊', '戰爭', '六朝', '朝代', '北', '東晉'} {'五馬渡江', '晉元帝', '王舒', '琅邪王氏', '東晉'}\n",
            "{'Gmail'} {'Gmail'}\n",
            "{'梁武帝', '南北朝', '梁_(南朝)'} {'南北朝'}\n",
            "{'摩爾門', '科隆', '摩爾門教'} {'世界青年日', '科隆', '科隆納家族'}\n",
            "{'約翰·拜耳', '字母', '希臘', '星座', '希臘字母', '格', '拉丁語', '拜耳命名法'} {'古德命名法', '拜耳命名法恆星表', '變星命名法', '拜耳命名法'}\n",
            "{'電荷', '材料', '電', '電子陶瓷', '陶瓷'} {'陶瓷電容', '陶瓷工程', '電子陶瓷', '介電陶瓷', '陶瓷'}\n",
            "{'氏_(消歧義)', '燧人氏', '父系制度', '河套', '氏族', '蒸汽機車'} {'氏族'}\n",
            "{'年代', '音樂專輯', '死者能舞'} set()\n",
            "{'最長壽命', '同位素', '鍀', '海', '壽命', '98', '紅巨星', '巨星'} {'恆星', '葉綠素', '恆星演化', '鍀', '葉綠素d'}\n",
            "{'小說', 'J·R·R·托爾金', '哈比', '民族', '哈比人', '哈比人歷險記', '前傳', '魔戒'} {'阿爾達的語言', '第三紀元', '托爾金家族', '哈比人', '哈比人列表'}\n",
            "{'湯姆·班克斯', '收入', '住宅', '湯姆·克魯斯', '湯姆·漢克斯'} set()\n",
            "{'酒', '悲劇', '古希臘', '希臘', '合唱', '酒神', '祭祀', '古希臘悲劇'} {'古希臘喜劇', '奠祭', '古希臘悲劇'}\n",
            "{'日治時期', '臺灣', '日本人', '臺灣織布'} {'臺灣紡績', '臺灣日治時期師範教育機關'}\n",
            "{'系統工程', '版本控制', '軟件開發', '軟件測試', '活動'} {'單元測試', '軟件項目管理', '軟件開發', '軟件測試', '軟件開發工具包'}\n",
            "{'神話', '宇宙', '羅馬神話', '羅馬', '天神', '朱庇特', '古羅馬'} {'古希臘羅馬神話', '羅馬神話', '希臘神話', '古羅馬宗教', '神話學'}\n",
            "{'亞太影展', '我的美麗與哀愁', '劉若英', '1995', '少女小漁_(電影)', '1995年'} {'莫子儀', '劉若英', '少女小漁劉若英的美麗與哀愁', '李欣芸', '音樂劇'}\n",
            "{'護照', '旅行證件', '政府', '駕駛執照', '中央政府'} {'中華民國護照', '護照', '1954年公約旅行證', '中華人民共和國護照', '難民旅行證'}\n",
            "{'大衆集團', '世界', '總部', '大衆汽車', '處_(佛教)', '品牌', '阿勒爾河'} {'中國重型汽車集團', '現代汽車集團', '五菱汽車', '廣汽集團'}\n",
            "{'素描'} set()\n",
            "{'羅馬', '四月', '維納斯', '紀念日'} set()\n",
            "{'馬克思·多爾穆瓦站', '資本論', '政治經濟學', '海因裏希·馬克思', '馬克思主義', '格魯喬·馬克思', '馬克思主義政治經濟學', '卡爾·馬克思'} {'馬克思學說研究會', '政治經濟學批判', '馬克思主義政治經濟學', '古典經濟學', '對馬克思主義的批評'}\n",
            "{'印度洋'} {'裸四梳魨', '帕氏窄額魨', '埃氏鱗魨', '大鱗寬箬鰨', '短尾短刺圓魨'}\n",
            "{'大災難', '中國', '批評', '災害', '張五常', '經濟學家', '五常'} {'中華人民共和國法治', '中華人民共和國勞動合同法', '勞動合同制', '對習近平的爭議', '張五常'}\n",
            "{'日本', '臺灣', '大學', '臺灣大學卡通漫畫研究社', '動漫', '國立臺灣大學', '卡通'} {'臺灣大學卡通漫畫研究社', '臺灣漫畫雜誌', '臺灣漫畫月刊', '亞基拉', '臺灣動畫歷史'}\n",
            "{'全球城市', '總部', '阿姆斯特丹', '城市', '證券交易所', '阿姆斯特丹證券交易所'} {'蒙特雷', '阿姆斯特丹史基浦機場', '阿姆斯特丹舊證券交易所', '阿姆斯特丹中央車站', '阿姆斯特丹證券交易所'}\n",
            "{'經營者', '北漂', '臺北醫學大學', '李祖德'} {'李祖德', '邱文達', '臺北醫學大學'}\n",
            "{'鳥', '王', '中國', '鳳凰'} {'鳳凰', '朱雀', '百鳥朝鳳'}\n",
            "{'酸', '溶液', '氫氧化鈣', '鹼石灰', '石灰', '鹼'} {'石灰', '鹼石灰', '氫氧化鈣', '石灰鹼釉'}\n",
            "{'第二次鴉片戰爭', '天津條約', '第一次鴉片戰爭', '鴉片'} {'中日天津會議專條', '神奈川條約', '不平等條約', '中美共同防禦條約', '天津條約'}\n",
            "{'目', '魚', '學名', '輻鰭魚綱', '鯡形目', '輻鰭魚', '脊索動物', '綱'} {'衣魚目', '鯡形目', '齒頭鯡', '輻鰭魚', '鱸形目'}\n",
            "{'殖民地'} {'硬實力', '巧實力', '銳實力', '軟實力'}\n",
            "{'硼'} set()\n",
            "{'日本', '子公司', '百貨公司', '2005年', '日本百貨公司', '伊藤洋華堂'} {'鈴木敏文'}\n",
            "{'世紀', '巴勃羅·畢卡索', '電影', '20世紀', '導演'} {'弗洛裏安·畢卡索'}\n",
            "{'日本', '創作歌手', '女性', '歌手·當打之年', '歌手', '竹內瑪莉亞', '山下達郎'} {'一直在一起吧', '我們的夏日夢'}\n",
            "{'民族', '指', '歐洲', '國家', '歐洲民族', '腳趾'} {'山東省民族構成列表', '民族國家', '貴州省民族構成列表', '新疆維吾爾自治區民族構成列表', '海南省民族構成列表'}\n",
            "{'日本', '帝國', '馬關條約', '清朝', '日韓合併', '朝鮮', '日韓合併條約', '宗主權'} {'日韓議定書', '馬關條約', '第三次日韓協約', '中日和約', '日韓合併條約'}\n",
            "{'民族', '指', '歐洲', '國家', '歐洲民族', '腳趾'} {'山東省民族構成列表', '民族國家', '貴州省民族構成列表', '新疆維吾爾自治區民族構成列表', '海南省民族構成列表'}\n",
            "{'烏克蘭'} set()\n",
            "{'客輪', '船', '遊輪', '遠洋定期船'} {'客運樓', '維京客輪', '郵輪母港', '遊輪', '遠洋定期船'}\n",
            "{'馬純岱', '柏林國際電影節'} {'馬純岱'}\n",
            "{'恐龍', '龍', '敏迷龍屬', '屬'} {'三角龍屬', '木他龍屬', '重龍屬', '嘉年華龍屬', '敏迷龍屬'}\n",
            "{'中國', '謝芳', '演員'} {'巍子', '魏積安', '孫紅雷', '戲劇', '謝芳'}\n",
            "{'日本', '1982年', '偶像', '身分標識方式', '竹內瑪莉亞', '山下達郎'} set()\n",
            "{'小說', '筆', '查理·卓別林', '童年', '倫敦'} {'小查理·卓別林', '狄奧多爾·科穆寧·杜卡斯', '悉尼·約翰·卓別林'}\n",
            "{'亦舒', '夏文汐', '名', '朝花夕拾', '電影', '方中信'} {'梁柏豪', '原振俠系列', '亦舒', '朝花夕拾'}\n",
            "{'千與千尋'} set()\n",
            "{'愛丁堡', '大學排名', 'QS', '愛丁堡大學', 'QS世界大學排名'} set()\n",
            "{'塞班島', '邦', '太平洋', '屬地', '北马里亞納羣島', '美國'} {'塞班島'}\n",
            "{'微處理器', '單片機', '集成電路'} set()\n",
            "{'裸子植物', '銀杏'} {'裸子植物', '臺灣的裸子植物', '種子蕨門'}\n",
            "{'洲', '歐陸舞曲', '北美洲', '舞曲', '南美洲'} {'歐陸舞曲'}\n",
            "{'政黨領袖', '劉一德', '臺灣', '臺灣團結聯盟'} {'自由臺灣黨', '劉一德', '無黨團結聯盟'}\n",
            "{'剛果民主共和國', '首都', '本名'} {'基桑加尼', '老楞佐·蒙森沃·帕辛亞', '約瑟夫·卡薩武布'}\n",
            "{'機構', '香港', '串列_(抽象資料型別)', '政府', '醫院', '香港醫院列表', '醫療'} {'贊育醫院', '香港佛教醫院', '香港公營醫療', '香港醫療改革', '香港醫院列表'}\n",
            "{'扁盤動物門', '門', '動物分類表', '動物'} {'中生動物', '側生動物', '動物', '浮浪幼蟲樣動物', '腎管動物'}\n",
            "{'人行道', '赤足'} set()\n",
            "{'鮮奶油', '甜品', '原材料', '冰淇淋', '奶油'} {'凝脂奶油', '霜凍優格', '冰淇淋', '意式奶凍', '蛋卷冰淇淋'}\n",
            "{'民族', '突厥語族', '歐洲', '語言', '語言系屬分類', '羅曼語族', '卡拉伊姆人', '歐洲民族', '印歐語系'} {'亞非語系', '歐洲語言', '安那託利亞語族', '意大利語族', '拉丁歐洲'}\n",
            "{'獎勵', '金牌', '公共服務', '約瑟夫·普立茲', '服務', '普利策獎'} {'楊士琪卓越貢獻獎', '普立茲公共服務獎', '諾貝爾文學獎', '普利茲克建築獎', '特別貢獻獎'}\n",
            "{'颱風', '氣候'} set()\n",
            "{'領域', '獎盃', '糧食', '人物', '杯子'} {'獎盃'}\n",
            "{'趙丹', '趙青', '妻子'} {'趙孝成王'}\n",
            "{'淄博市', '平原', '山東丘陵', '華北平原', '丘陵', '山東省', '山東_(古代)'} {'淄博市', '濟寧市', '常德市', '東南丘陵', '棗莊市'}\n",
            "{'犬', '伊萬·巴甫洛夫', '古典制約', '制約'} set()\n",
            "{'性狀', '染色體'} {'顯性', '性狀', 'X染色體', '相對性狀', '僞體染色體區'}\n",
            "{'最長壽命', '同位素', '鍀', '衛星', '壽命', '98', '紅巨星', '巨星'} {'恆星', '鍀星', '恆星演化', '鍀', '紅巨星'}\n",
            "{'貓', '馬島長尾狸貓', '狸'} {'馬島靈貓'}\n",
            "{'銀川市', '中部', '南亞'} set()\n",
            "{'球', '羅盤方位'} set()\n",
            "{'西班牙內戰', '內戰', '國民軍_(西班牙)', '大元帥', '獨裁', '弗朗西斯科·佛朗哥', '弗朗西斯科', '西班牙'} {'西班牙內戰', '西班牙王位繼承戰爭', '第二次世界大戰期間的西班牙', '弗朗西斯科·佛朗哥', '弗朗西斯科·佛朗哥獨裁'}\n",
            "{'泰坦尼克號', '美國', '首飛'} {'鐵達尼號船員列表'}\n",
            "{'計算機協會', '世界', '今天', '電子計算機', '學會', '計算機', '科學', '全球'} {'計算機硬體歷史', '電子計算機', '計算機工程', '理論計算機科學', '地理信息系統'}\n",
            "{'國定古蹟', '臺北賓館'} {'二二八和平紀念公園'}\n",
            "{'汞', '紫外線', '銀', '可見光', '牙齒', '熒光'} {'牙科用汞齊', '汞', '氯化亞汞', '汞中毒', '汞齊'}\n",
            "{'性別特徵', '義務', '國際LGBTI聯合會', '行爲', '身體'} {'自由意志主義', '道德義務', '言論自由', '身體意象', '行爲'}\n",
            "{'人類', '石器', '石器時代', '年', '新石器時代', '賽普勒斯', '喬伊魯科蒂亞', '迪亞布羅·科蒂'} {'喬伊魯科蒂亞', '賽普勒斯'}\n",
            "{'戊', '因果關係', '光緒帝', '光緒', '權力', '慈禧太后', '戊戌變法', '帝', '戊戌'} {'戊戌變法', '兩宮聽政', '光緒帝', '慈禧太后'}\n",
            "{'肌醇', '磷酸', '動物', '大豆'} {'肌醇單磷酸酶', '脂類', '磷酸鈉', '肌醇三磷酸', '植酸'}\n",
            "{'吳天威'} {'吳天威'}\n",
            "{'謠曲', '披頭四樂隊', '頭', '化學元素', '搖滾', '曲'} {'另類搖滾', '前衛搖滾', '蔡依林', '抒情歌曲', '紅色歌曲'}\n",
            "{'MacOS', '數據', '操作系統'} {'操作系統使用份額', '操作系統'}\n",
            "{'微處理器', '單片機', '集成電路'} set()\n",
            "{'教研室'} {'虛擬教研中心', '教研室'}\n",
            "{'90年', '長頸鹿'} {'網紋長頸鹿'}\n",
            "{'許世友', '紅軍'} set()\n",
            "{'步槍', '機槍', '班_(軍事)', '自動步槍', '輕機槍', '士兵', '通用機槍'} {'機槍', '95式自動步槍', 'T91戰鬥步槍', '輕機槍', '88式通用機槍'}\n",
            "{'美國風情畫', '弗朗西斯·科波拉', '劇本'} set()\n",
            "{'馬克思·多爾穆瓦站', '資本論', '政治經濟學', '海因裏希·馬克思', '馬克思主義', '格魯喬·馬克思', '馬克思主義政治經濟學', '卡爾·馬克思'} {'馬克思學說研究會', '馬克思主義思想流派', '西方馬克思主義', '馬克思主義政治經濟學', '對馬克思主義的批評'}\n",
            "{'貝雷特', '兒童', '貝塔·雷·比爾', '愛'} set()\n",
            "{'高錳酸鉀', '生物', '真核生物', '核', '錳酸鉀'} {'高錳酸鉀', '高錳酸鹽', '核苷酸', '二氧化錳', '錳酸鉀'}\n",
            "{'李賦寧', '中國'} {'李賦寧'}\n",
            "{'馬克思·多爾穆瓦站', '資本論', '政治經濟學', '海因裏希·馬克思', '馬克思主義', '格魯喬·馬克思', '馬克思主義政治經濟學', '卡爾·馬克思'} {'馬克思主義思想流派', '新馬克思主義', '西方馬克思主義', '後馬克思主義', '馬克思學說研究會'}\n",
            "{'臺東', '臺東飛行場'} {'臺東飛行場'}\n",
            "{'吳天威'} set()\n",
            "{'名', '臺北市立建國高級中學', '日治時期', '臺北'} {'臺北州立臺北第一中學校', '臺北市立建成國民中學', '臺北', '臺灣日治時期高等教育機關', '臺北州立臺北第四中學校'}\n",
            "{'恆星', 'Z', '星等', '室女座', '視星等'} {'室女座110', '室女座20', '室女座'}\n",
            "{'以色列', '巴哈歐拉'} set()\n",
            "{'冷戰', '應用科學', '世界大戰', '工程學', '技能', '麻省理工學院', '科學', '第二次世界大戰'} {'應用科學', '哈佛-麻省理工醫療科技學院', '南京大學', '第三次世界大戰', '第二次冷戰'}\n",
            "{'艾倫', '伍迪·艾倫'} {'魔力月光'}\n",
            "{'歐洲', '丁丁歷險記', '丁丁_(丁丁歷險記)', '如今'} {'丁丁與流浪漢', '丁丁在蘇聯'}\n",
            "{'大運河', '運河', '世界遺產', '京杭大運河'} {'浙東運河', '大運河', '京杭大運河'}\n",
            "{'加拉哈德', '亞瑟王傳說', '紅葡萄酒', '傳說', '耶穌', '亞瑟王'} set()\n",
            "{'肯尼迪', '奧利華·史東', '世紀', '史東', '午夜快車', '電影', '20世紀', '美國'} {'詹姆斯·史都華', '奧利華·史東', '第51屆奧斯卡金像獎', '詹姆士·艾佛利', '艾瑪·史東'}\n",
            "{'萊比錫', '弗里德里希·阿道夫·艾伯特', '艾伯特·金_(籃球運動員)', '圖書館', '市鎮', '學習', '勃蘭登堡_(1945年—1952年)', '弗里德里希·艾伯特', '青少年'} {'弗里德里希·阿道夫·艾伯特'}\n",
            "{'冷血動物_(歌曲)', '溫', '動物', '爬行動物', '熱量', '變溫動物', '冷血'} {'動物', '空有熱量', '似哺乳爬行動物', '爬行動物', '變溫動物'}\n",
            "{'國際組織', '電子科技大學'} set()\n",
            "{'泰坦尼克號', '首飛', '哥本哈根'} set()\n",
            "{'進士', '中國人', '沈鈞儒', '祖籍', '嘉興市'} {'沈鈞儒'}\n",
            "{'愛丁堡', '世界', '大學排名', 'QS', '愛丁堡大學', 'QS世界大學排名'} set()\n",
            "{'政治家', '兒子', '阿卜杜勒侯賽因·米爾扎·法爾曼法爾馬'} {'阿卜杜勒·馬吉德·米爾扎', '阿列日省市鎮列表', '伊曼扎德·哈利勒帕夏', '阿卜杜勒-阿齊茲·本·阿卜杜拉赫曼·本·費薩爾·阿勒沙特', '阿卜杜勒-侯賽因·米爾扎·法爾曼法爾馬'}\n",
            "{'德魯大學', 'J·D·德魯'} set()\n",
            "{'水溶液', '溶液', '氰化氫', '毒性', '氰化鋰', '氰化鈉', '頻率'} {'氰化鋁', '疊氮化鋰', '氰化氫', '氰化鋰', '氰化鈉'}\n",
            "{'愛丁堡', '英語世界', '大學', '英語', '公立大學', '首府', '愛丁堡大學', '蘇格蘭'} {'愛丁堡市政廳', '愛丁堡舊城', '愛丁堡大學舊學院', '愛丁堡城堡', '愛丁堡皇家天文臺'}\n",
            "{'狄仁傑', '武周', '中國', '唐朝', '公案小說', '宰相', '大理寺', '公案_(消歧義)'} {'狄仁傑', '宋朝宰相列表', '趙勉', '周墀', '新刻京本通俗演義增像包龍圖判百家公案全傳'}\n",
            "{'臺灣', '國民議會', '中華民國', '改革', '立法院', '年代', '中華民國國會在臺灣之全面選舉與罷免', '罷免'} {'萬年國會', '中華民國總統及副總統在臺灣之公民直接選舉與罷免', '臺灣清治時期', '臺灣民主化', '中華民國國會在臺灣之全面選舉與罷免'}\n",
            "{'神話', '文明', '古希臘', '歐洲', '希臘神話', '希臘'} {'北歐神話', '古希臘羅馬神話', '希臘神話'}\n",
            "{'本土', '納米比亞', '獨立', '政治家', '舉事'} {'政治家', '中世紀後期', '中世紀盛期', '中世紀'}\n",
            "{'語言', '警察局', '軟件開發', '程式'} {'編程語言', '軟件開發', '軟件開發工具包'}\n",
            "{'$', '新臺幣', '方法', '規約符號'} {'$', '貨幣符號'}\n",
            "{'穀梁傳', '春秋_(書)', '春秋'} set()\n",
            "{'大學', '1997年', '元智大學', '桃園市', '名稱', '綽號'} set()\n",
            "{'龍', '敏迷龍屬', '甲龍科', '屬'} {'木他龍屬', '敏迷龍屬', '甲龍亞目', '重龍屬'}\n",
            "{'奧黛麗·赫本演藝作品列表', '奧黛麗·赫本', '兒童', '國家', '奧黛麗_(搞笑組合)'} {'伊斯蘭教與兒童', '孤海浮燈'}\n",
            "{'馬丁·路德·金', '紐約', '馬丁·路德', '亞伯拉罕·林肯', '路德', '演講', '林肯紀念堂'} {'馬丁·路德·金紀念日', '馬丁·路德·金', '我有一個夢想', '跳棋演講', '馬丁·路德·金國家歷史遺址'}\n",
            "{'荷馬史詩', '東西_(作家)', '荷馬', '研究', '西班牙', '史詩'} set()\n",
            "{'機構', '中華人民共和國勞動人事部', '中華人民共和國'} {'機構', '中華人民共和國人事部', '兩個中國', '中華人民共和國', '中華人民共和國勞動人事部'}\n",
            "{'安德斯·海爾斯伯格', '發展研究', '編譯器', '作者', '微軟', '安德斯', 'TypeScript'} {'中華開發金融控股', '安德斯·海爾斯伯格', '中華開發資本', 'GCC', 'TypeScript'}\n",
            "{'新華網', '國務院', '網站', '英國', '事業單位', '新華社'} {'新華網', '中國新華新聞電視網', '世界社會主義網站', '新華社', '中華人民共和國中央人民政府門戶網站'}\n",
            "{'福利經濟學', '聯合國人權獎', '聯合國', '阿馬蒂亞·庫馬爾·森', '經濟學', '印度'} {'羅伯特·弗朗西斯·肯尼迪人權獎', '奧斯卡自由人權獎', '阿馬蒂亞·庫馬爾·森', '2010年諾貝爾和平獎', '哈維爾人權獎'}\n",
            "{'地面車站', '大韓民國', '煉武臺站'} {'炭峴站', '片濱車站', '一山站', '煉武臺站', '跨站式站房'}\n",
            "{'聚合酶鏈式反應', '酶', '蛋白質組', '反應', '即時聚合酶鏈式反應', '信息', '聚合', '蛋白質'} {'蛋白質摺疊', '蛋白質組學', '蛋白質交互作用', '組織蛋白', '蛋白質結構'}\n",
            "{'民族國家', '民族', '歐洲', '語言', '國家', '歐洲民族'} {'民族國家', '中華人民共和國民族政策', '民族主義', '無國家民族', '中國民族列表'}\n",
            "{'羽毛', '雉雞', '差異_(哲學)'} {'剃刀嘴鳳冠雉', '雉雞', '麝雉'}\n",
            "{'國際足協世界盃', '城市', '國際足球聯合會', '票', '德國'} {'2019年國際足協女子世界盃', '國際足協U-17世界盃', '國際足協室內五人足球世界盃', '國際足協女子世界盃', '2010年國際足協世界盃'}\n",
            "{'吟遊詩人', '加拉哈德', '亞瑟王傳說', '紅葡萄酒', '傳說', '耶穌', '亞瑟王'} {'古希臘葡萄酒'}\n",
            "{'分子', '氫氣'} {'雙氫鍵'}\n",
            "{'學說', '人類演化', '假說', '南', '人類', '演化', '人屬'} {'傍人', '人類演化'}\n",
            "{'宗教', '宗教哲學', '信仰'} {'宗教信仰哲學', '無宗教', '宗教哲學', '宗教自由'}\n",
            "{'樂山大佛', '大佛'} set()\n",
            "{'物理學', '光子', '光', '漢斯·愛因斯坦', '概念', '阿爾弗雷德·諾貝爾', '諾貝爾物理學獎', '阿爾伯特·愛因斯坦'} {'諾貝爾生理學或醫學獎', '愛因斯坦-西拉德信', '薩特延德拉·納特·玻色', '阿爾伯特·愛因斯坦', '玻爾-愛因斯坦之爭'}\n",
            "{'梁朝偉', '流行_(音樂類型)', '流行音樂', '歌手·當打之年', '歌手', '音樂', '男性'} {'爲情所困'}\n",
            "{'2020', '舊桑比爾', '桑比爾區', '桑比爾', '改革', '圖爾卡區', '荷蘭', '行政區劃', '舊桑比爾區'} {'舊桑比爾', '比爾桑', '桑比爾區', '圖爾卡區', '舊桑比爾區'}\n",
            "{'妻子', '提坦', '忒堤斯', '俄刻阿諾斯', '神', '水神'} {'俄刻阿尼得斯', '忒堤斯', '俄刻阿諾斯', '斯堤克斯', '忒勒斯托'}\n",
            "{'外交部', '中華民國外交部', '古蹟', '臺北賓館', '中華民國', '國定古蹟', '南投市'} {'中華民國（臺灣）', '南海學園', '臺北市國定古蹟列表', '臺北市直轄市定古蹟列表', '南投縣文化資產'}\n",
            "{'妊娠', '流產', '染色體'} {'反覆流產', '流產', '染色體畸變', '非侵入性胎兒染色體基因檢測', '妊娠'}\n",
            "{'脊柱', '棘皮動物', '印度洋', '動物'} {'脊柱前凸', '棘皮動物', '脊柱後凸', '脊柱外科', '舒爾曼病'}\n",
            "{'目標', '種子', '今天', '果實'} {'果實'}\n",
            "{'忠烈祠', '國民政府', '國民', '中華民國', '政府', '中華民國國民', '詞', '忠烈祠_(臺灣)'} {'國民政府', '大韓民國臨時政府', '1930年代中國', '中華民國國家元首列表', '中華共和國'}\n",
            "{'洲', '歐洲', '非洲', '鵜鶘', '白鵜鶘', '亞洲'} set()\n",
            "{'國立臺灣民主紀念館', '中正紀念堂'} {'中正紀念堂', '南海學園', '國立國父紀念館', '國立臺灣民主紀念館', '國立中正紀念堂管理處組織條例'}\n",
            "{'演員', '雙胞胎', '英國', '兒童', '威廉·莎士比亞'} set()\n",
            "{'邊界', '阿曼', '印度洋', '西南_(索馬里聯邦成員州)', '西亞', '阿曼蘇丹'} {'阿曼', '阿曼蘇丹'}\n",
            "{'城市', '耶路撒冷', '東西_(作家)'} {'耶路撒冷', '新耶路撒冷', '耶路撒冷舊城', '耶路撒冷區'}\n",
            "{'置標語言', '標記_(程式語言)', '語言', 'XBRL'} {'語音合成標記語言', '輕量級標記語言'}\n",
            "{'若奧·米蘭達·德索薩·菲略', '米蘭達·凱爾', '米蘭達·蘭伯特', '米蘭達·蔻思葛芙', '天衛五', '米蘭達·霍布斯', '胡安·米蘭達', '名稱'} {'悲喜劇'}\n",
            "{'河北省', '山脈', '中國', '太行山', '四川省'} {'太行山', '王屋山—黛眉山世界地質公園', '阿里山山脈', '臺灣山脈列表'}\n",
            "{'內衣', '透明', '神農', '軀幹'} set()\n",
            "{'兒玉利國', '縣_(中華民國)', '政府首腦', '臺灣縣'} {'兒玉源太郎', '臺灣清治時期', '臺灣歷史', '兒玉利國', '臺灣政治'}\n",
            "{'高層建築物', '美國', '大波士頓', '波士頓'} {'大波士頓', '波士頓'}\n",
            "{'越南人', '梁國雄', '中國共產黨', '中華人民共和國香港特別行政區維護國家安全法', '香港', '陳獨秀', '國家安全法', '綽號', '越南', '長毛'} {'梁國雄', '2014年越南排華暴動', '香港警務處國家安全處搜查壹傳媒大樓事件', '2014年高雄氣爆事故', '新文化運動'}\n",
            "{'流產', '胎兒'} {'死產'}\n",
            "{'少女蝶', '歌手·當打之年', '香港歌手列表', '3T_(香港音樂組合)', '歌手', '香港', '鄭希怡'} {'七連滋養'}\n",
            "{'淡水湖', '洞裏薩湖', '金邊', '東南亞'} set()\n",
            "{'約瑟的神奇彩衣', '約瑟_(舊約聖經)', '安德魯·勞埃德·韋伯'} set()\n",
            "{'2030年', '教宗', '樞機', '本雅明·斯泰拉'} {'本雅明·斯泰拉', '樞機', '對立教宗', '2005年教宗選舉祕密會議', '教宗列表'}\n",
            "{'松前城', '清水', '美國軍隊', '備後國', '福山城_(備後國)'} set()\n",
            "{'臺灣', '授權', '2010年臺北國際花卉博覽會', '國際園藝博覽會'} {'1999年昆明世界園藝博覽會', '臺北國際電腦展覽會', '2010年臺北國際花卉博覽會', '2014年世界園藝博覽會', '2019年中國北京世界園藝博覽會'}\n",
            "{'狄仁傑', '範式', '小說', '中國', '公案小說', '君主', '大理寺', '公案_(消歧義)'} {'狄仁傑', '荀子', '趙勉', '淮南子', '新刻京本通俗演義增像包龍圖判百家公案全傳'}\n",
            "{'書記', '穆罕默德', '啓示', '穆罕默德·伊本·阿卜杜勒·瓦哈卜', '古蘭經', '伊斯蘭教的神'} {'聖愛啓示', '古蘭經', '聖經與古蘭經的相似之處'}\n",
            "{'書記', '政治人物', '黨委書記', '類', '中國', '世界一流大學和一流學科建設', '張京澤', '中央民族大學'} {'書記', '上海大學', '中國科技大學', '張京澤', '985工程'}\n",
            "{'獨生子女', '普羅米修斯'} set()\n",
            "{'動作漫畫', '1938年', '超人'} {'超級英雄', '美國漫畫黃金時代', '國家廣播公司標誌'}\n",
            "{'木衛四', '木材', '木星的衛星', '衛', '衛星', '天文學家', '木星', '夏威夷大學'} {'木星的衛星', '木衛一火山觀測者', '木星日食', '衛星的命名', '木衛五十三'}\n",
            "{'運河', '世界遺產', '華東地區', '中國', '大運河', '東部', '京杭大運河'} {'運河', '沙烏地阿拉伯世界遺產名錄', '大運河', '京杭大運河', '浙東運河'}\n",
            "{'現在', '馬六甲海峽', '海峽', '國家', '馬六甲_(消歧義)'} set()\n",
            "{'休斯敦火箭', '聖地牙哥', '火箭', '南部', '美國南部', '人口', '休斯敦', '美國', '本名'} {'哈基姆·奧拉朱旺', '休斯敦', '卡爾文·墨菲'}\n",
            "{'大學', '政府', '中國海洋大學', '海洋大學', '教育部'} {'國立臺灣海洋大學', '海南大學', '教育部教育考試院', '臺北海洋科技大學', '浙江海洋大學'}\n",
            "{'1970年', '中華人民共和國', '中華人民共和國地質礦產部'} {'中華人民共和國地質礦產部', '1970年代臺灣', '中華人民共和國', '馬歇爾計劃'}\n",
            "{'許世友', '紅軍', '親屬'} set()\n",
            "{'班長', '選舉', '詹姆斯·諾克斯·波爾克'} {'詹姆斯·諾克斯·波爾克'}\n",
            "{'京劇四大名旦', '順天時報', '梅蘭芳', '首部', '京劇', '四大名旦'} {'葉庸方'}\n",
            "{'侯孝賢', '事件', '電影節', '威尼斯', '電視劇', '威尼斯電影節', '二二八事件', '金獅獎'} {'侯孝賢', '第50屆金馬獎', '蔡明亮', '鼕鼕的假期', '鞏俐'}\n",
            "{'金星凌日', '金星', '天文學家', '天文學', '日', '天文單位'} {'金星凌日', '1874年金星凌日', '天文常數', '2012年金星凌日', '天文單位系統'}\n",
            "{'臺灣', '臺中市立啓明學校', '臺中市', '后里區', '教育', '特殊教育', '學校'} {'臺中市立臺中工業高級中等學校', '臺北市日僑學校', '臺北市立啓明學校', '國立臺中教育大學', '臺北美國學校'}\n",
            "{'功能', '產品', '程序'} {'動態競爭', '應用程序接口', '功能主義建築', '產品經理', '競爭法'}\n",
            "{'穆罕默德', '廚師', '穆罕默德·伊本·阿卜杜勒·瓦哈卜', '古蘭經', '伊斯蘭教的神', '晚餐'} {'耶路撒冷', '聖經與古蘭經的相似之處', '爾撒', '伊斯蘭教', '古蘭經'}\n",
            "{'埃塔', '公民'} {'埃塔'}\n",
            "{'淋巴結', '淋巴結腫大'} {'前哨淋巴結', '淋巴結'}\n",
            "{'商店', '歌手·當打之年', '歌手', '蔡卓妍', '紅館'} set()\n",
            "{'臺北市客家文化主題公園', '中正區_(臺北市)', '臺北市'} {'臺北市客家文化主題公園', '中正紀念堂', '高雄市客家文物館', '國立臺灣博物館', '川端公園'}\n",
            "{'路易·德·奧爾良_(1703年—1752年)', '主權', '主權國家', '路易十四', '記錄', '勝利_(歌手)', '君主', '國家', '神聖羅馬帝國'} {'日本神話', '路易十四', '神話學', '古羅馬', '西發里亞主權體系'}\n",
            "{'重量', '物體', '原理'} {'重量', '重量分析法'}\n",
            "{'北京理工大學'} set()\n",
            "{'李祖德', '臺灣', '臺北醫學大學', '經營者'} {'李祖德', '邱文達', '臺北醫學大學'}\n",
            "{'晉元帝', '南京市', '琅邪王', '琅琊', '戰爭', '六朝', '北', '東晉'} {'五馬渡江', '晉元帝', '王舒', '琅邪王氏', '東晉'}\n",
            "{'網頁', '網景通訊家', '網景', '網頁瀏覽器'} {'網頁', '網頁瀏覽器時間線', '離線網頁瀏覽器'}\n",
            "{'酒', '蘋果酒', '果酒', '世界', '葡萄酒'} {'葡萄酒釀製', '蘋果酒', '果酒', '力嬌酒', '葡萄酒'}\n",
            "{'方法', '思想', '真相', '答案'} {'方法學', '思想'}\n",
            "{'隋朝', '日本', '後_(消歧義)', '文明'} set()\n",
            "{'真空', '常數', '物理常數'} {'真空磁導率', '真空電容率', '真空災變'}\n",
            "{'乙醇', '水', '高錳酸鉀', '化學式', '氧化劑', '錳酸鉀'} {'碘酸', '氯酸鋰', '還原劑', '錳酸鉀', '2-巰基乙醇'}\n",
            "{'時代', '人類', '石器', '石器時代', '新石器時代', '賽普勒斯'} {'新石器時代'}\n",
            "{'楊素', '隋煬帝', '舉事'} {'王道隆', '隋朝', '楊昭', '楊諒', '楊素'}\n",
            "{'諾貝爾文學獎', '艾略特·克雷松獎章', '喬治·艾略特', '文學獎', '查爾斯·艾略特', 'T·S·艾略特', '艾略特·高登索', '艾略特·內斯', '阿爾弗雷德·諾貝爾', '艾略特'} {'薩繆爾·約瑟夫·阿格農', '諾貝爾文學獎得主列表', '諾貝爾物理學獎', '諾貝爾和平獎', '諾貝爾委員會'}\n",
            "{'爆炸', '中國人民解放軍', '虎', '趙守福', '于化虎', '上海市', '武將', '全國戰鬥英雄代表會議'} {'龐國興', '義和團運動', '于化虎', '虹口公園爆炸事件', '淞滬會戰'}\n",
            "{'動物', '國立臺灣大學', '針', '標本', '國立臺灣大學昆蟲標本館'} {'國立臺灣大學昆蟲標本館'}\n",
            "{'日本', '妙義山'} set()\n",
            "{'作品', '馬克思·多爾穆瓦站', '政治經濟學', '海因裏希·馬克思', '馬克思主義', '格魯喬·馬克思', '馬克思主義政治經濟學', '卡爾·馬克思'} {'馬克思學說研究會', '馬克思主義思想流派', '新馬克思主義', '西方馬克思主義', '對馬克思主義的批評'}\n",
            "{'法輪功', '臺灣', '文字'} {'法輪功在各地的發展及影響', '法輪功', '天安門自焚事件', '法輪功在臺灣', '對法輪功的鎮壓'}\n",
            "{'徐太志'} set()\n",
            "{'大韓民國', '總理', '韓國總統', '憲法法院'} {'朴槿惠彈劾案', '第二次唐納德·特朗普彈劾案', '不信任及彈劾香港特別行政區行政長官', '憲法法庭', '第一次唐納·川普彈劾案'}\n",
            "{'艾略特·克雷松獎章', '喬治·艾略特', '查爾斯·艾略特', 'T·S·艾略特', '艾略特·高登索', '艾略特·內斯', '阿爾弗雷德·諾貝爾', '艾略特'} {'諾貝爾文學獎得主列表', '諾貝爾化學獎', '諾貝爾和平獎', '諾貝爾物理學獎', '諾貝爾委員會'}\n",
            "{'襪子', '胸圍', '乳房'} {'胸圍'}\n",
            "{'背景', '伍迪·艾倫', '悲劇', '動畫', '巴黎', '午夜巴黎', '艾倫'} {'午夜巴黎'}\n",
            "{'羅', '大韓民國', '全羅北道', '首府', '聯合國教育、科學及文化組織', '州', '道_(行政區劃)'} {'全羅南道', '忠清北道', '全州市', '全羅北道', '行政督察區'}\n",
            "{'現在', '練馬師', '松柏塱', '香港', '圍村', '村長', '本地人', '簡炳墀'} {'松柏塱'}\n",
            "{'浙江省', '寧波市', '犯罪', '寧波人', '證券市場', '徐翔', '內線交易', '徐翔_(投資家)'} {'提供侵入、非法控制計算機信息系統程序、工具罪', '僑弼控股', '杜軍案', '內線交易', '內幕交易審裁處'}\n",
            "{'主權', '島嶼', '太平島', '太平_(霹靂)', '總督府'} {'北子島', '黃巖島主權問題', '太平島', '越南歷史', '南子島'}\n",
            "{'土壤', '茲德內克·莫拉維克', '天文學家', '捷克'} {'捷克人', '阿茲特克', '安東寧·魯克', '佳娜·蒂佳', '嚴嘉樂'}\n",
            "{'恐怖主義', '艾山·買合蘇木', '奧薩馬·本·拉登', '伊斯蘭教'} {'買買提吐爾遜·依明', '基地組織', '買買提吐爾遜·阿布杜哈力克', '艾山·買合蘇木', '奧薩馬·本·拉登之死'}\n",
            "{'化合物', '體育運動', '葡萄糖', '殼', '昆蟲'} {'化合物', '萜烯', '氨基葡萄糖'}\n",
            "{'第二次世界大戰', '行政區劃', '若竹町', '日本'} set()\n",
            "{'地區', '2002', '東帝汶'} set()\n",
            "{'郵政編碼', '鐵路車站', '塘湖站'} {'油塘站', '湖塘站', '塘湖站'}\n",
            "{'亨利八世', '約瑟·亨利', '王', '歐·亨利', '世', '蒂埃裏·亨利', '亨利', '16世紀'} {'新教', '亨利八世', '宗教改革', '英格蘭宗教改革', '蘇格蘭宗教改革'}\n",
            "{'政治局', '安德烈·尤里耶維奇·勃列日涅夫', '列昂尼德·勃列日涅夫', '尤里·勃列日涅夫', '中央委員會'} set()\n",
            "{'平民', '法律', '古羅馬', '羅馬'} {'元首制', '中華民國法律', '法律', '古羅馬', '羅馬騎士階級'}\n",
            "{'單位_(社會組織)', '意外事故', '暗殺', '幻覺', '目標', '執法'} {'安全', '人格暗殺', '無中生有', '自殺方式', '暗殺'}\n",
            "{'特別攻擊隊', '跟蹤支援隊', '品質'} {'橫須賀空襲', '特別攻擊隊', '二戰期間同盟國海軍對日炮擊', '特攻隊'}\n",
            "{'徐太志'} set()\n",
            "{'民族', '中國', '漢族', '中國民族列表'} {'漢族民系'}\n",
            "{'西南', '西亞', '中東', '亞洲'} {'全北界', '西亞'}\n",
            "{'人口', '面積', '九江市'} {'包河區', '金貿街道', '華龍區', '秀英區'}\n",
            "{'真靈長大目', '兔', '目', '兔形目', '靈長大目', '目標', '形狀'} {'真靈長大目', '靈長目', '兔形目'}\n",
            "{'父親', '上游', '太原市', '水源', '汾河', '河', '山西省'} {'汾河'}\n",
            "{'伊斯蘭教', '回族', '信仰'} {'回族', '伊斯蘭教與基督教關係', '伊斯蘭教'}\n",
            "{'功能', '文', '文獻', '信息', '知識'} {'中文古典典籍', '一次文獻', '文獻', '文獻綜述'}\n",
            "{'領土', '國家'} {'領土糾紛'}\n",
            "{'淡水', '今天', '海南島', '中國', '鄱陽湖'} set()\n",
            "{'鳥', '杜鵑科', '杜鵑', '科'} {'杜鵑科'}\n",
            "{'大豆'} {'脂類'}\n",
            "{'美國', '高雄縣'} {'中華民國領土爭端'}\n",
            "{'異教', '黛安娜', '黛安·韋斯特', '黛安娜·羅斯', '黛安娜·馬西森', '黛安娜·迪莫娃', '黛安娜·羅', '新異教主義'} set()\n",
            "{'拿破崙戰爭', '戰爭與和平', '拿破崙_(消歧義)'} {'砲艦戰爭', '博羅金諾戰役', '拿破崙戰爭', '低強度戰爭', '俄法戰爭'}\n",
            "{'桃園市', '海'} set()\n",
            "{'明成皇后', '李美妍', '主人公', '皇后'} set()\n",
            "{'苯', '氯', '乙烯', '烴', '芳香烴', '苯乙烯'} {'氯乙烯', '乙烯四甲酸二酐', '苯乙烯', '二苯乙烯酮', '二乙烯酮'}\n",
            "{'溫度', '硫酸', '水'} {'硫酸鈰(IV)', '硫酸𨥙', '硫酸鎂', '硫酸', '碳酸水'}\n",
            "{'精', '蟑螂', '菲律賓', '蜘蛛俠百戰曱甴精', '主人公', '電視劇', '蜘蛛', '蜘蛛人'} {'終極蜘蛛俠', '蜘蛛俠百戰曱甴精'}\n",
            "{'女兒', '組織創始人', '元智大學', '董事長'} set()\n",
            "{'鄭集', '化學', '生物', '亞洲'} set()\n",
            "{'科特迪瓦', '阿比讓'} {'科特迪瓦城市列表'}\n",
            "{'柯伊伯帶', '天體', '傑拉德·柯伊伯', '週期'} set()\n",
            "{'馬克思·多爾穆瓦站', '資本論', '政治經濟學', '海因裏希·馬克思', '馬克思主義', '馬克思主義政治經濟學', '格魯喬·馬克思', '卡爾·馬克思'} {'馬克思學說研究會', '馬克思主義思想流派', '西方馬克思主義', '馬克思主義政治經濟學', '對馬克思主義的批評'}\n",
            "{'化合物', '鍵', '碳', '烴', '炔烴', '三鍵'} {'不飽和烴', '二元化合物', '炔烴', '雙硫鍵', '有機磷化合物'}\n",
            "{'小說', '義', '劉備', '張飛', '關羽', '金蘭'} {'胡班', '張飛', '桃園三結義', '超電影版SD高達三國傳～BraveBattleWarriors～', '關羽'}\n",
            "{'餅乾', '乾酪', '祭品'} {'餅乾', '幸運餅乾'}\n",
            "{'馬爾代夫', '南部', '人類發展指數', '亞洲'} {'馬爾代夫'}\n",
            "{'齊豫', '歌手·當打之年', '歌手', '兄弟姊妹', '齊秦'} set()\n",
            "{'功能', '文', '文獻', '信息', '知識'} {'文獻'}\n",
            "{'民俗學', '東西_(作家)', '荷馬', '荷馬史詩', '研究', '民俗', '史詩'} {'荷馬史詩'}\n",
            "{'明朝', '賈繼之', '朝廷'} set()\n",
            "{'肇慶市', '梅庵_(肇慶)'} set()\n",
            "{'桂皮', '糖尿病'} {'糖尿病酮症酸中毒', '1型糖尿病', '抗糖尿病藥', '妊娠糖尿病', '糖尿病'}\n",
            "{'日本', '世界大戰', '若竹町_(臺南市)', '第二次世界大戰', '行政區劃', '若竹町'} {'日本', '日本投降', '第三次世界大戰', '第二次世界大戰歐戰勝利紀念日', '第二次世界大戰'}\n",
            "{'菲律賓', '妙義山'} set()\n",
            "{'支流', '盆地', '塔里木盆地', '汾河', '山西省', '塔里木'} {'汾河', '汾河谷地', '塔里木河'}\n",
            "{'暗殺', '目標'} {'勒萊耶', '人格暗殺', '縱深作戰', '狙擊步槍', '暗殺'}\n",
            "{'古', '文獻'} {'出土文獻'}\n",
            "{'磁暴', '音階', '極光'} set()\n",
            "{'貓', '世界', '入侵物種', '生命', '世界百大外來入侵種', '物種'} {'外來物種', '貓', '犬種', '哺乳動物', '貓科'}\n",
            "{'鳥', '生活', '寄生', '骨鰾類'} {'鳥翼類', '骨鰾類', '鳥', '燕鳥屬', '姐妹鳥龍鳥屬'}\n",
            "{'城市', '人口', '聖彼得堡', '世界人口', '俄羅斯'} set()\n",
            "{'論文', '文森特·梵高'} set()\n",
            "{'穀梁傳', '春秋_(書)', '春秋'} set()\n",
            "{'英國', '杭州駐防城', '澳大利亞', '死者能舞'} set()\n",
            "{'墨西哥', '唐玄宗', '墨西哥總統', '總統', '貝尼託·胡亞雷斯'} {'法國武裝干涉墨西哥'}\n",
            "{'臺灣', '臺灣天文觀測', '天文觀測'} {'蔡章獻', '天文臺', '臺灣天文觀測', '臺北市立天文科學教育館'}\n",
            "{'1959年', '獨立', '人類', '很久', '久', '英國', '古', '賽普勒斯'} {'賽普勒斯聯合國緩衝區', '北賽普勒斯國徽', '賽普勒斯'}\n",
            "{'臺灣時報', '1909年'} {'臺灣時報', '自由時報', '美洲臺灣時報', '臺灣民報', '臺灣文化協會'}\n",
            "{'穀梁傳', '春秋_(書)', '春秋'} set()\n",
            "{'原雞', '食物', '蛋白質', '原雞屬', '雞'} {'糯米雞', '肉類食物', '白切雞', '雞子', '鹽焗雞'}\n",
            "{'曼弗雷德·艾根', '案', '奧林·艾根', '各地LGBT權利', '人民', '同性戀', '艾根訴加拿大案', '加拿大'} {'美國訴溫莎案'}\n",
            "{'征途', '圖書', '贅生物', '故事', '片段', '哈比人', '章節', '哈比人歷險記'} {'哈比人歷險記', '星際爭霸戰', '生活片段', '神奇寶貝特別篇'}\n",
            "{'宗教', '宗教哲學'} {'無宗教', '世界主要宗教', '宗教哲學', '宗教信仰哲學', '宗教自由'}\n",
            "{'金屬', '化學元素', '元素週期表'} {'擴展元素週期表', '第5週期元素', '元素週期表', '11族元素', '第4週期元素'}\n",
            "{'山東省', '郵政編碼', '鐵路車站', '塘湖站'} {'泰安車站', '臺南車站', '塘湖站', '兗石鐵路', '湖塘站'}\n",
            "{'林鈺婷', '客家民系'} {'林鈺婷', '譚詠麟', '汪明荃', '丘丘合唱團', '簡上仁'}\n",
            "{'盧卡斯數學教授席位', '劍橋', '劍橋大學', '盧卡斯', '英國', '保羅·狄拉克', '物理學家', '理論物理學'} {'喬治·盧斯蒂格', '大衛·奧利夫', '保羅·狄拉克', '喬治·斯托克斯', '劍橋大學三一學院'}\n",
            "{'蛇', '二胡'} set()\n",
            "{'普利策獎'} {'普利策國際報道獎'}\n",
            "{'臺中市', '市政府站_(臺北市)', '站'} {'上海站', '哈爾濱站', '盛車站', '九一站', '市政府車站'}\n",
            "{'歷史書', '指南車', '王天木'} {'指南車'}\n",
            "{'政治', '星海', '字', '山東省_(中華民國)', '宋潢_(嘉慶壬戌進士)', '山東省'} set()\n",
            "{'中國', '地質公園', '嵩山'} {'世界地質公園列表', '中華人民共和國國家級風景名勝區', '甘肅張掖國家地質公園', '中國國家地質公園', '中國省級風景名勝區'}\n",
            "{'索馬里蘭', '國旗', '言', '清真言', '旗幟', '索馬利蘭國旗', '海陸', '索馬利蘭國'} {'北萊茵-威斯特法倫州旗', '索馬里國旗', '北馬其頓國旗', '索馬利蘭國旗', '馬拉維國旗'}\n",
            "{'行政機關', '政府首腦', '祕魯', '立法機關', '總統', '總統制'} {'行政機關', '政府首腦', '立法機關', '行政法', '總統制'}\n",
            "{'公車', '新北市區公車790路線', '竹圍漁港', '新北市', '金山', '基隆市', '班距', '竹圍_(桃園市)'} {'新北市區公車790路線', '基隆捷運', '新北市區公車575路線', '基隆車站', '臺中市公車131路'}\n",
            "{'形上學'} set()\n",
            "{'愛丁堡', '排名', '世界', '大學排名', '愛丁堡大學'} {'愛丁堡', '世界銀行', '世界大學學術排名', '愛丁堡大學', '愛丁堡納皮爾大學'}\n",
            "{'地面車站', '江景線', '煉武臺站'} {'炭峴站', '江景站', '一山站', '煉武臺站', '江景線'}\n",
            "{'莫斯科大劇院', '莫斯科', '天鵝湖', '芭蕾舞', '劇場'} {'芭蕾舞劇列表', '天鵝湖'}\n",
            "{'穆罕默德·阿里帕夏', '穆罕默德·默罕馬杜拉', '穆罕默德·本·薩勒曼', '穆罕默德', '伊斯蘭教', '古蘭經', '穆罕默德·本·沙特'} {'穆罕默德', '聖經與古蘭經的相似之處', '阿里·本·阿比·塔利卜', '伊斯蘭教', '伊斯蘭教的先知'}\n",
            "{'教父', '弗朗西斯·科波拉', '續集'} set()\n",
            "{'政策', '交易', '象', '動物', '西奧多·羅斯福', '公平交易', '羅斯福', '法案'} {'西奧多·羅斯福'}\n",
            "{'汶萊', '殖民地', '英國', '婆羅洲', '東南亞', '國家'} {'北婆羅洲', '北婆羅洲渣打公司', '英國美洲殖民地', '英屬婆羅洲', '英屬婆羅洲日佔時期'}\n",
            "{'民族', '指', '歐洲', '國家', '歐洲民族', '腳趾'} {'山東省民族構成列表', '民族國家', '貴州省民族構成列表', '新疆維吾爾自治區民族構成列表', '海南省民族構成列表'}\n",
            "{'臺北市_(省轄市)', '身分標識方式', '籍', '中國', '民國', '中國國民黨', '臺北市議員列表', '謝長廷'} {'中國國民黨黨產爭議', '1947年中華民國國民大會代表選舉', '林番王', '2014年中華民國直轄市議員及縣市議員選舉', '謝長廷'}\n",
            "{'航空管制員', '航空', '交通管制', '效率', '航空交通管制', '陸地', '意外事故', '航空器'} {'航空管制員', '航空安全', '航空交通管制', '飛行員', '空中接近'}\n",
            "{'大波士頓', '波士頓'} {'大波士頓'}\n",
            "{'物理學家', '女性', '核子', '華僑華人', '美國物理學會', '女王', '吳健雄'} {'戴運軌', '吳健雄學院', '範緒筠', '吳健雄', '真聖女王'}\n",
            "{'龍', '再造人卡辛', '子', '龍之子製作', '賽博格'} {'再造人卡辛'}\n",
            "{'2010年臺北國際花卉博覽會'} {'2018年臺中世界花卉博覽會', '2010年臺北國際花卉博覽會'}\n",
            "{'動物', '獨立', '細菌', '界_(生物)', '生物', '真菌', '植物', '染色體', '界'} {'古菌', '雙核亞界', '細菌', '真菌', '藍菌門'}\n",
            "{'酒', '果酒', '人類', '原材料', '果實'} {'水果', '果酒', '蘋果酒', '中國酒文化', '果實'}\n",
            "{'陳韻文', '香港', '編劇', '香港電臺', '音樂節目'} {'香港商業電臺節目列表', '香港電影編劇家協會', '香港電臺', '香港電臺第二臺', '陳慕賢'}\n",
            "{'KDE Plasma 4', '虛擬社區列表', '國立臺灣大學綜合教學館', '硬件虛擬化', 'Inferno (網站服務)', '遙距教育', '實踐大學設計學院', '資訊共享空間', '獅子會中學', '虛擬現實'} set()\n",
            "{'尤里·安德羅波夫', '腎_(臟腑)', '腎功能', '腎功能衰竭'} set()\n",
            "{'無生老母', '一貫道', '路', '神', '彌勒菩薩', '佛', '經濟', '路中一'} {'唸佛', '一貫道', '青蓮教', '彌勒教', '韓太湖'}\n",
            "{'鄉試', '葉巒'} set()\n",
            "{'軟體動物', '海百合', '氣門', '海', '始海百合', '百合屬', '百合_(消歧義)'} {'軟體動物', '太陽女神螺', '海林檎', '半海百合', '輻射海百合'}\n",
            "{'木星'} {'木星的衛星', '木星', '太陽系', '木星日食'}\n",
            "{'商店', '代表', '買', '象徵', '全買', '長頸鹿'} {'全買'}\n",
            "{'貝雷特', '財富', '貝塔·雷·比爾'} set()\n",
            "{'臺灣', '臺中市立啓明學校', '臺中市', '教育', '特殊教育', '中部', '中臺灣', '學校'} {'臺北市立啓明學校', '國立臺中教育大學', '臺灣特殊教育學校列表', '臺北美國學校', '學校'}\n",
            "{'國立臺灣科技大學研揚大樓', '國立臺灣科技大學', '科技大學_(臺灣學制)'} {'國立臺灣科技大學研揚大樓', '國立臺灣科技大學管理研究所'}\n",
            "{'證明完畢', '證明'} {'證明', '零知識證明'}\n",
            "{'教學研究', '線上學習', '模式'} {'虛擬教研中心'}\n",
            "{'正壬醇', '脂肪醇', '橘', '碳', '壬醇', '液體'} {'正壬醇', '1-己醇', '脂肪醇', '正癸醇', '1-十四烷醇'}\n",
            "{'總部', '蔬果', '花旗銀行', '城市', '美國'} set()\n",
            "{'女性', '山下智久', '竹內瑪莉亞'} set()\n",
            "{'東區_(香港)', '作家', '東區', '香港', '地區', '明報', '金庸', '香港島'} {'香港報業', '香港獨立運動', '香港傳媒', '金庸', '香港島'}\n",
            "{'香港大學', '英語', '編程語言'} {'香港語文', '聖瑪加利男女英文中小學'}\n",
            "{'艾倫', '伍迪·艾倫'} set()\n",
            "{'現在', '計算機協會', '世界', '電子計算機', '學會', '計算機', '科學', '全球'} {'計算機硬體歷史', '軟件', '電子計算機', '理論計算機科學', '地理信息系統'}\n",
            "{'郵政編碼', '濟寧市', '鐵路車站', '塘湖站'} {'濟寧站', '臺南車站', '塘湖站', '兗州站', '湖塘站'}\n",
            "{'富蘭克林·德拉諾·羅斯福', '德國', '總統', '1945年'} {'小富蘭克林·德拉諾·羅斯福', '羅斯福家族', '羅斯福大學', '富蘭克林·德拉諾·羅斯福大橋'}\n",
            "{'地方政府', '大韓民國'} set()\n",
            "{'昭武', '中國', '回族', '姓', '胡', '維吾爾族', '昭武九姓'} {'回族', '金姓'}\n",
            "{'團隊'} {'虛擬團隊'}\n",
            "{'穀梁傳', '春秋_(書)', '春秋'} set()\n",
            "{'北京市', '歧義', '北平_(消歧義)', '北平市', '西方'} set()\n",
            "{'馬丁·路德·金', '醫院', '馬丁·路德', '孟菲斯_(田納西州)'} {'馬丁·路德·金恩遇刺案'}\n",
            "{'美國人口', '總部', '花旗銀行', '城市', '人口', '美國'} set()\n",
            "{'金屬', '化學元素'} set()\n",
            "{'90年', '樂山大佛', '大佛', '唐朝'} set()\n",
            "{'土地銀行', '臺灣', '臺灣土地銀行'} {'原日本勸業銀行臺南支店', '勸業銀行舊廈', '臺灣銀行列表', '臺灣清治時期', '臺灣西部'}\n",
            "{'火星', '衛星', '火衛二'} {'火星日食', '火星的衛星', '火衛一', '火星', '天王星的衛星'}\n",
            "{'邏輯', '墨家', '代表'} set()\n",
            "{'作品', '表現主義', '世紀', '詞_(文學)', '20世紀', '詞', '印象派', '商人'} {'表現主義', '吉倫特派', '奧匈帝國', '奧古斯都', '蔡爾德·哈薩姆'}\n",
            "{'美度', '鑽石', '今天'} {'藍寶石'}\n",
            "{'亞當', '亞當·列維', '亞當·斯密', '亞當·溫賴特', '平特爾·亞當', '聖經', '亞當·魏薩普', '芬妮·亞當'} {'亞當'}\n",
            "{'理論', '名稱', '語態'} set()\n",
            "{'上座部', '佛教歷史', '佛教', '分裂', '印度', '印度佛教', '教派', '大衆部'} {'上座部', '佛教派別', '同性戀與佛教', '根本分裂', '漢傳佛教'}\n",
            "{'南京大學附屬中學', '江西省', '中學', '南京大學'} {'南京大學附屬中學', '南京田家炳高級中學', '南京市金陵中學', '南京師範大學附屬小學', '南京師範大學附屬中學'}\n",
            "{'馬克思·多爾穆瓦站', '資本論', '政治經濟學', '海因裏希·馬克思', '馬克思主義', '馬克思主義政治經濟學', '格魯喬·馬克思', '卡爾·馬克思'} {'馬克思學說研究會', '馬克思主義思想流派', '西方馬克思主義', '馬克思主義政治經濟學', '對馬克思主義的批評'}\n",
            "{'污染物', '監測', '污染', '環境監測', '分析'} {'環境監測'}\n",
            "{'臺中市', '臺中市立臺中女子高級中等學校', '臺中_(大字)'} {'上海市第三女子中學', '臺中市立臺中女子高級中等學校'}\n",
            "{'西方哲學', '劍橋', '劍橋大學', '哲學', '哲學史', '教授', '伯特蘭·羅素', '西方哲學史'} {'劍橋大學三一學院'}\n",
            "{'蓋烏斯·屋大維', '提比略·克勞狄烏斯·尼祿', '奧古斯都', '提貝里烏斯', '御座', '提比略·格拉古'} set()\n",
            "{'夫人', '女性', '婚姻'} set()\n",
            "{'數', '世紀'} {'世紀'}\n",
            "{'機構', '議會', '國家'} set()\n",
            "{'目', '魚', '學名', '輻鰭魚綱', '鯡形目', '輻鰭魚', '脊索動物', '綱'} {'世界上最小的魚類', '棘鰭類', '鯡形目', '輻鰭魚', '鱸形目'}\n",
            "{'酒', '悲劇', '古希臘', '舞蹈', '希臘', '合唱', '祭祀', '古希臘悲劇'} {'古希臘喜劇', '祭祀', '奠祭', '古希臘悲劇'}\n",
            "{'醫學院', '哈佛大學', '普拉桑塔·帕坦尼克', '教授', '博士'} set()\n",
            "{'海得拉巴_(印度)', '總站', '鐵路列車', '阿馬拉瓦蒂', '海得拉巴', '特倫甘納邦'} {'卡因納加爾縣', '特倫甘納邦'}\n",
            "{'馬世莉', '兄弟姊妹'} set()\n",
            "{'聖保羅書院', '香港聖公會', '學生'} {'香港聖公會院校', '史超域', '史璧琦', '香港聖公會聖基道兒童院'}\n",
            "{'家庭', '成功', '威廉·薩默塞特·毛姆', '小說'} {'月亮和六便士', '情天恨海'}\n",
            "{'東方哲學', '東方哲學史', '劍橋', '劍橋大學', '哲學史', '教授', '羅素', '伯特蘭·羅素'} set()\n",
            "{'悲劇', '武俠', '圖書', '反派角色', '燕國', '金庸', '武俠小說', '慕容復'} {'慕容博', '姑蘇慕容', '金輪國師', '金庸學', '慕容復'}\n",
            "{'民進', '民主進步黨', '黨', '謝長廷'} {'黨外運動', '民主進步黨主席', '民進'}\n",
            "{'工程師', '元培', '庶吉士', '蔡元培', 'Google', '翰林院'} {'汪士鍠', '翰林院'}\n",
            "{'軍事', '忠烈祠', '國民政府', '中華民國', '中華民國國民', '中國國民黨', '詞', '忠烈祠_(臺灣)'} {'國民政府', '中華民國大陸時期', '國民政府軍事委員會', '中華民國國家元首列表', '國民政府主席'}\n",
            "{'胸罩', '胸', '胸圍', '乳房'} {'哺乳胸罩', '胸圍', '罩杯', '隱形胸罩', '運動胸罩'}\n",
            "{'維基', '百科全書', '維基百科'} set()\n",
            "{'軍事', '古賽爾_(敘利亞)', '伊斯蘭教', '遜尼派', '組織', '古賽爾戰役', '軍事組織'} {'克拉特魯斯', '伊普蘇斯戰役', '巴德爾組織', '對伊斯蘭國的軍事打擊', '伊祖沙·古爾'}\n",
            "{'作品', '若瑟·蘇格拉底', '柏拉圖', '學生', '蘇格拉底·布拉濟萊羅·奧利維拉', '蘇格拉底'} {'蘇格拉底反詰法', '蘇格拉底式的質疑', '蘇格拉底'}\n",
            "{'政權', '國號', '劉淵', '漢趙', '趙', '君主制'} {'劉淵', '漢趙', '趙浚', '劉曜', '趙'}\n",
            "{'萬華區', '中正區_(臺北市)', '車站', '西門站_(臺北捷運)', '西門站'} {'伊達車站', '臺北車站', '金谷川車站', '臺南車站', '西門站'}\n",
            "{'山西省_(中華民國)', '河北省', '山脈', '中國', '太行山', '女媧'} {'阿里山山脈', '臺灣山脈列表', '太行山', '玉山山脈', '中國山脈列表'}\n",
            "{'地區', '東帝汶'} set()\n",
            "{'奧斯卡', '演員', '皮特·烏斯蒂諾夫', '英國', '女王', '英國君主', '奧斯卡最佳男配角獎', '伊麗莎白二世'} {'安東尼·奎恩', '奧斯卡最佳女配角獎', '吉勒摩·戴託羅之皮諾丘', '哈維爾·巴登', '伊麗莎白二世'}\n",
            "{'行憲', '聖誕節', '教會學校', '行憲紀念日'} {'聖誕節', '行憲紀念日'}\n",
            "{'龍', '狻猊', '龍生九子', '黃鈴馨', '獅', '文獻', '中國', '子'} {'狻猊'}\n",
            "{'排水', '法國', '佈局_(圍棋)', '地形', '張谷英', '張谷英村', '語氣'} {'中國給排水現狀', '地形', '國家點火設施', '張谷英村', '基礎設施'}\n",
            "{'茲德內克·莫拉維克', '行星', '捷克'} {'捷克人', '小行星7896', '小行星8573', '小行星7796', '小行星6801'}\n",
            "{'民族', '指', '歐洲', '國家', '歐洲民族', '腳趾'} {'山東省民族構成列表', '民族國家', '貴州省民族構成列表', '新疆維吾爾自治區民族構成列表', '海南省民族構成列表'}\n",
            "{'無生老母', '觀世音菩薩', '一貫道', '路', '神', '路中一'} {'無生老母', '一貫道', '青蓮教', '高王觀世音經', '韓太湖'}\n",
            "{'地勢', '運河', '京杭大運河', '嘉興市'} {'浙東運河', '裏運河', '京杭大運河', '嘉興市'}\n",
            "{'海百合', '棘皮動物', '海', '始海百合', '百合屬', '百合_(消歧義)'} {'後口動物', '棘皮動物', '海林檎', '半海百合', '輻射海百合'}\n",
            "{'加布艾萊西島', '島嶼', '大西洋', '高度', '海', '英國', '無人島', '海拔'} {'加布艾萊西島', '聖誕島', '羅斯島', '亞彭島', '杜布莫爾島'}\n",
            "{'龍頭', '城市規劃', '首部'} {'省域副中心城市', '城市規劃', '南京大學城市規劃與設計系', '天津城市規劃', '北京市城市管理委員會'}\n",
            "{'動能', '內燃機', '燃燒', '介質'} {'燃燒', '生物質', '內燃機', '氣化反應', '粉塵燃燒'}\n",
            "{'澳門特別行政區政府', '劇場', '文化中心', '澳門文化中心'} {'澳門2012年度頒授勳章、獎章和獎狀名單', '澳門2010年度頒授勳章、獎章和獎狀名單', '澳門2017年度頒授勳章、獎章和獎狀名單', '澳門2011年度頒授勳章、獎章和獎狀名單', '澳門2019年度頒授勳章、獎章和獎狀名單'}\n",
            "{'少年', '小時', '震盪波蠕蟲', '德國', '清潔'} set()\n",
            "{'氫氧化鈉', '溶液', '氫氧化鈣', '鹼石灰', '鹼', '石灰', '氧化鈉'} {'氫氧化鈣', '鹼石灰', '石灰', '銅氨溶液', '石灰鹼釉'}\n",
            "{'徵夷大將軍', '陽成天皇', '大將軍_(東亞)', '慶長', '夷', '後陽成天皇', '德川家康', '詔令文書'} {'徵夷大將軍', '江戶幕府', '江戶時代', '德川將軍家', '德川家康'}\n",
            "{'正壬醇', '脂肪醇', '橘', '碳', '液體', '香茅', '壬醇', '鏈'} {'正壬醇', '香葉烯', '香葉醇', '正癸醇', '莰烯'}\n",
            "{'地級市', '市', '江蘇省', '長江', '鎮江市', '古', '京口區', '江蘇省_(中華民國)', '南部', '潤州_(隋朝)'} {'揚州市', '江蘇省鎮江第一中學', '鎮江市', '京口區', '潤州區'}\n",
            "{'國內', '冰島', '世界', '首都', '城市'} set()\n",
            "{'數學', '最短路問題', '問題', '算法', '短路', '離散', '離散數學'} {'決定性問題', '問題', '中國郵遞員問題', '計算複雜性理論', '動態規劃'}\n",
            "{'蟲川大杉車站', '新潟縣', '上越市', '國家', '自然紀念物'} {'蟲川大杉車站', '浦川原站', '犀潟車站', '北北線', '上越市'}\n",
            "{'臺北市私立道明外僑學校', '中學', '原住民', '臺北市'} {'臺北市立陽明高級中學', '臺灣國際學校列表', '臺北市立啓聰學校', '臺北市政府', '臺北市私立道明外僑學校'}\n",
            "{'紐約', '泰坦尼克號', '首飛'} set()\n",
            "{'牡丹社', '明治', '兒玉利國', '牡丹', '總統', '鹿兒島縣'} {'兒玉源太郎', '瑯嶠十八社', '鹿兒島市', '兒玉利國', '鹿兒島縣'}\n",
            "{'綠色', '蕉鵑', '鳥', '冠蕉鵑', '鸚形目'} {'色素細胞', '綠色', '眼珠顏色', '冠蕉鵑', '火龍果'}\n",
            "{'先秦', '神農', '文字', '氏', '傳說'} {'神農本草經', '神農'}\n",
            "{'亞太影展', '我的美麗與哀愁', '劉若英', '1995', '少女小漁_(電影)', '1995年'} {'愛情片', '劉若英', '少女小漁劉若英的美麗與哀愁', '劇情片', '愛情呼叫轉移2：愛情左右'}\n",
            "{'張谷英', '張谷英村', '村莊'} {'法國最美村莊'}\n",
            "{'教會', '科隆'} {'世界青年日', '中華基督教會全國總會'}\n",
            "{'原住民', '毒魚豆', '東', '魚'} {'毒魚豆'}\n",
            "{'MacOS', '數據', '操作系統'} {'操作系統使用份額'}\n",
            "{'市', '市_(中華民國)', '臺灣', '新北市', '土地', '丘', '新竹市', '新竹市_(州轄市)', '丘陵'} {'橫濱市', '新北市', '新竹市', '基隆市', '臺灣行政區劃'}\n",
            "{'市', '氣候', '臺灣', '東北部_(越南)', '市_(中華民國)', '雨', '基隆市', '東北', '丘陵'} {'中華民國疆域', '新北市', '基隆市', '臺灣行政區劃', '欽州市'}\n",
            "{'情感', '貝雷特', '貝塔·雷·比爾'} set()\n",
            "{'阿馬蒂亞·庫馬爾·森', '經濟學', '福利經濟學', '諾貝爾獎'} {'諾貝爾獎得主列表', '印度諾貝爾獎得主列表', '京都大學諾貝爾獎得主列表', '諾貝爾經濟學獎'}\n",
            "{'定義', '亞裔美國人', '美國', '美國人'} {'臺灣裔美國人', '印度裔美國人', '歐裔美國人', '華裔美國人', '亞裔美國人'}\n",
            "{'價值', '不可否認', '中國', '工程'} set()\n",
            "{'球', '羅盤方位'} set()\n",
            "{'收入', '門票', '千與千尋'} set()\n",
            "{'單位_(社會組織)', '中華人民共和國勞動人事部', '中華人民共和國'} {'有關部門', '中華人民共和國人事部', '中華人民共和國勞動和社會保障部', '中華人民共和國', '中華人民共和國勞動人事部'}\n",
            "{'島嶼', '世界', '島嶼國家'} {'分治島嶼列表', '島嶼國家列表', '島嶼國家'}\n",
            "{'金屬', '元素週期表'} {'擴展元素週期表', '第8週期元素', '元素週期表', '11族元素', '元素週期律'}\n",
            "{'許世友', '中國', '農村'} set()\n",
            "{'李賦寧', '中國', '教育家', '慢性病', '死亡'} set()\n",
            "{'排卵', '藥學'} {'排卵', '左炔諾孕酮'}\n",
            "{'太陽', '軌道', '行星', '小行星', '軌道_(力學)'} {'主小行星帶', '小行星衛星', '大遷徙假說', '小行星', '阿莫爾型小行星'}\n",
            "{'穀梁傳', '春秋_(書)', '春秋'} set()\n",
            "{'傳說_(2010年電視劇)', '昌意', '元妃', '傳說', '黃帝', '軒轅', '帝', '嫘祖', '子'} {'昌意', '顓頊', '嚳', '女節', '嫘祖'}\n",
            "{'現在', '計算機協會', '世界', '電子計算機', '學會', '計算機', '科學', '全球'} {'計算機硬體歷史', '電子計算機', '計算機工程', '理論計算機科學', '地理信息系統'}\n",
            "{'銀川市', '西部', '銀川平原'} set()\n",
            "{'世紀', '詞', '稱謂', '拿督'} set()\n",
            "{'細菌', '界_(生物)', '生物', '生物分類學', '真菌', '植物'} {'真菌學', '細菌', '真菌', '殺真菌劑', '細菌結構'}\n",
            "{'石器時代', '人類', '石器', '史前時代'} {'中國史前文化', '中石器時代', '石器時代', '中國中石器文化列表', '新石器時代'}\n",
            "{'釋一行', '一行', '禪師', '行', '名稱'} set()\n",
            "{'民族', '指', '歐洲', '國家', '歐洲民族', '腳趾'} {'山東省民族構成列表', '民族國家', '貴州省民族構成列表', '新疆維吾爾自治區民族構成列表', '海南省民族構成列表'}\n",
            "{'南京市', '歧義', '北平_(消歧義)', '北平市', '北'} set()\n",
            "{'本土', '納米比亞', '獨立', '世紀', '孕婦', '20世紀'} {'中世紀後期', '產前護理'}\n",
            "{'身體質量指數', '藥理學', '疾病', '精神', '精神狀態', '物質', '藥物'} {'藥物戒斷', '藥物測試', '疾病', '生物藥理學', '藥物'}\n",
            "{'埃爾熱', '丁丁歷險記', '如今', '歐洲', '丁丁_(丁丁歷險記)'} {'丁丁與流浪漢', '丁丁在蘇聯'}\n",
            "{'民族', '海港', '城市', '波蘭', '格但斯克', '岸', '焦點'} {'波蘭第二共和國', '三十年戰爭', '日耳曼人', '西斯拉夫民族', '泛斯拉夫主義'}\n",
            "{'陸', '路易·德·奧爾良_(1703年—1752年)', '盧福瓦侯爵', '路易十四', '建築施工', '量_(物理)', '王國', '法蘭西王國', '陸軍'} {'西班牙歷史', '納粹德國海軍', '路易十四', '法國曆史', '路易十三'}\n",
            "{'綱', '生物分類法', '輻鰭魚綱', '輻鰭魚'} {'瓦氏擬鱯', '中脂䱀', '顆粒歧須鮠', '梅氏平鰭鮠', '阿氏喉鰭魚'}\n",
            "{'城', '臺北市'} set()\n",
            "{'共和制', '剛果民主共和國', '陸地', '半總統制', '北非', '非洲', '馬格里布', '總統制'} {'法國', '剛果民主共和國', '瓜分非洲', '世界各國和地區面積列表', '澳大利亞'}\n",
            "{'貴之富士三造', '富士', '血親', '越南', '身'} set()\n",
            "{'日本', '作品', '藤子·F·不二雄'} {'藤子不二雄', '藤子·F·不二雄創作', '藤子不二雄Ⓐ', '藤子·F·不二雄'}\n",
            "{'決策', 'BI', '企業', '工具'} {'反對逃犯條例修訂草案運動中使用的策略和方法', '決策', '企劃', '主管支援系統'}\n",
            "{'基督教', '體育運動', '馬丁·路德·金', '牧師', '馬丁·路德', '路德', '美國'} {'馬丁·路德·金恩遇刺案', '聯合抵制蒙哥馬利公車運動', '馬丁·路德·金紀念日', '馬丁·路德·金', '馬丁·路德·金國家歷史遺址'}\n",
            "{'作品', '歌手·當打之年', '香港歌手列表', 'T', '歌手', '香港', '鄭希怡', '3T'} set()\n",
            "{'漫畫', '漫畫雜誌', '天使怪盜', '杉崎由綺琉'} {\"月刊Hero's\", '封魔少年焰&陣', '青文出版社', '月刊Asuka', '漫畫雜誌'}\n",
            "{'洲', '雉雞', '語言', '差異_(哲學)'} {'雉雞', '麝雉'}\n",
            "{'公館_(臺北市)', '國立臺灣科技大學研揚大樓', '國立臺灣科技大學', '科技大學_(臺灣學制)'} {'國立臺灣科技大學研揚大樓', '國立臺灣科技大學管理研究所', '國立臺灣大學系統', '國立臺灣大學新生教學館', '國立臺灣科技大學'}\n",
            "{'物種', '沙丁魚'} {'繸鱗小沙丁魚', '白小沙丁魚', '隆背小沙丁魚'}\n",
            "{'目標', '種子', '子房', '果實'} set()\n",
            "{'對話', '若瑟·蘇格拉底', '蘇格拉底', '蘇格拉底·布拉濟萊羅·奧利維拉'} {'蘇格拉底反詰法', '蘇格拉底式的質疑', '蘇格拉底的申辯'}\n",
            "{'隋煬帝', '隋文帝'} {'隋朝', '楊浩'}\n",
            "{'卑南族', '歌手·當打之年', '漢名', '歌手', '張惠妹', '滾石_(雜誌)', '2021', '名_(人名)'} {'滾石雜誌五百大歌曲', '歌手·當打之年', '張惠妹', '關正傑', '歌手2017'}\n",
            "{'平原', '淄博市', '山東省'} {'淄博市'}\n",
            "{'阿爾·戈爾', '美國', '牧場'} set()\n",
            "{'臺灣', '民政部', '臺灣總督府', '總督府', '臺灣總督府民政部'} {'臺灣總督府評議會', '臺灣總督府', '臺灣總督府交通局遞信部', '臺灣總督府民政部', '臺灣總督府交通局鐵道部'}\n",
            "{'解剖學', '馬爾切洛·馬爾皮吉', '馬氏管', '名稱', '西班牙'} set()\n",
            "{'法國', '瓦西里·康定斯基', '國籍', '1928年', '德國', '俄羅斯'} set()\n",
            "{'動能', '內燃機', '電子', '介質'} {'內燃機', '發電', '傳輸介質', '電子學', '電子'}\n",
            "{'人類', '藥', '藥物', '食物'} {'藥物相互作用', '生物利用度', '藥物過量', '藥物', '食物不耐症'}\n",
            "{'首都', '城市', '大洋洲', '新西蘭', '惠靈頓', '人種'} {'紐西蘭人口', '惠靈頓'}\n",
            "set() set()\n",
            "{'艾倫', '伍迪·艾倫', '角色', '正能量'} set()\n",
            "{'民族', '丹麥', '語言學', '丹麥語', '語言', '語言學家列表', '諾維亞語'} {'歐洲聯盟語言', '絕跡語言', '諾維亞語', '語言', '古諾斯語'}\n",
            "{'競爭力', '市場'} set()\n",
            "{'汽車理論', '速度', '指標', '坡度', '汽車'} {'鐵路列車', '東風11型柴油機車', '汽車動力性', '速度', '軌道車輛速度紀錄'}\n",
            "{'京劇四大名旦', '順天時報', '梅蘭芳'} {'梅蘭芳'}\n",
            "{'組織', '利潤', '個人', '非營利組織'} {'天安門自焚事件', '議題建構', '居民組織', '六四事件', '非營利組織'}\n",
            "{'微型計算機', '單片機'} set()\n",
            "{'臺灣', '四縣話', '腔', '中華民國', '臺灣客家語', '桃園市', '楊梅_(大字)', '楊梅區'} {'臺灣客家語', '新屋區', '廣東語假名', '峨眉鄉', '臺灣國語'}\n",
            "{'文學史', '文學', '維克多·雨果', '法國', '代表', '雨果_(電影)', '浪漫主義文學', '浪漫主義'} {'啓蒙文學', '維克多·雨果', '現代主義文學', '黑暗浪漫主義', '茨維坦·託多洛夫'}\n",
            "{'莫斯科', '天主教會', '羅馬', '博古'} {'歐洲歷史', '宗教改革', '天主教波多-聖魯菲納羅馬城郊教區', '天主教韋萊特里-塞尼羅馬城郊教區', '天主教弗拉斯卡蒂羅馬城郊教區'}\n",
            "{'醜聞', '伊拉克戰爭', '戰爭', '美國聯邦政府', '政府', '伊拉克', '美國'} {'伊拉克軍事', '伊拉克空軍', '伊拉克戰爭', '英國伊拉克戰爭', '伊拉克內戰'}\n",
            "{'洲', '歐陸舞曲', '北美洲', '舞曲', '歐洲大陸', '南美洲', '美國'} {'佈雷舞曲', '歐陸舞曲'}\n",
            "{'大學', '汕頭大學', '廣東省', '城市', '中華人民共和國', '全球', '私人基金會'} {'麥理浩', '中華人民共和國政府', '全球城市', '香港', '中華人民共和國'}\n",
            "{'光導纖維', '折射率', '頭髮'} {'植髮', '折射率', '頭髮胸罩', '頭髮', '光導纖維'}\n",
            "{'肉食性動物', '科', '隼', '性', '隼科', '雙翅目', '猛禽'} {'隼形目', '猛禽', '隼', '巨隼亞科'}\n",
            "{'光學', '肉眼', '顯微鏡', '光學顯微鏡'} {'顯微鏡', '數碼顯微鏡', '掃描探針顯微鏡', '肉眼', '顯微鏡學'}\n",
            "{'食', '鳩鴿科', '玉米'} {'藍鳳冠鳩', '單性生殖', '鳩鴿科'}\n",
            "{'主教座堂', '查理·曼紐爾', '查理曼'} set()\n",
            "{'自治區', '區_(英格蘭)', '自治市', '國', '郡', '大韓民國', '行政區劃', '韓國行政區劃'} {'地級行政區', '中華人民共和國縣級以上行政區列表', '縣級行政區', '中國一級行政區', '韓國行政區劃'}\n",
            "{'大學', '公司', '學術', '研究', 'UCL'} {'學術', '研究員', '英國國家學術院'}\n",
            "{'西廂記', '元朝', '王實甫'} {'西廂記'}\n",
            "{'龍', '天龍八部', '天龍', '部', '反派角色', '慕容復', '名稱', '德國'} set()\n",
            "{'雀百靈屬', '目', '百靈屬', '鳥', '雀形目', '屬', '百靈科'} {'雀科', '百靈屬', '漠百靈屬', '雀形目', '百靈科'}\n",
            "{'天衛十', '稱謂'} set()\n",
            "{'茶', '氣味', '花', '花茶'} {'草本茶', '花茶', '臺灣茶', '東方美人茶', '茶'}\n",
            "{'政權', '曹魏', '人口', '三國', '魏', '曹', '領土', '北'} {'五代十國', '曹魏', '魏晉南北朝', '傀儡政權', '三國'}\n",
            "{'生活', '寄生', '魚', '骨鰾類', '淡水魚'} {'鮎形目', '魚', '骨鰾類', '輻鰭魚', '硬骨魚'}\n",
            "{'晉元帝', '琅邪王', '琅琊', '公主', '東晉'} {'琅琊', '晉元帝', '王舒'}\n",
            "{'氏_(消歧義)', '狩獵', '燧人氏', '黃河', '父系制度', '地區', '河漫灘', '氏族'} set()\n",
            "{'新華網', '網站', '中華人民共和國國務院', '國務院_(聖座)', '事業單位', '新華社'} {'新華網', '中國新華新聞電視網', '世界社會主義網站', '新華社', '中華人民共和國中央人民政府門戶網站'}\n",
            "{'後衛', '捷克國家足球隊', '場', '捷克', '位置', '盧卡斯·赫賈'} {'帕維爾·卡德沙貝克', '馬爾琴·卡明斯基', '雅庫布·揚克託', '托馬斯·索塞克', '盧卡斯·赫賈'}\n",
            "{'隋朝', '唐朝', '盛世'} set()\n",
            "{'癌細胞', '突變', '基因組', '細胞'} {'突變', '癌變', '壞死', '癌細胞', '誘導性多能幹細胞'}\n",
            "{'印度教神話', '系統', '吠陀', '民族', '印度', '語言系屬分類', '組合', '印度教'} {'印度教神話', '印度', '印度教', '吠陀梵語', '阿闥婆吠陀'}\n",
            "{'林鈺婷', '客家民系', '工作人員'} {'林鈺婷', '譚詠麟', '汪明荃', '丘丘合唱團', '簡上仁'}\n",
            "{'紹興酒', '玉山', '南投縣', '香蕉', '烏龍茶', '凍頂烏龍茶'} {'吳振鐸', '臺灣茶', '紅烏龍', '凍頂烏龍茶', '臺灣烏龍茶'}\n",
            "{'木衛三', '木衛三十九', '木材', '木星的衛星', '衛', '溫度'} {'斯科特·謝潑德'}\n",
            "{'鄭集', '生物', '中國'} set()\n",
            "{'搖滾樂', '披頭四樂隊'} {'披頭士樂隊獲獎與提名列表', '行進樂隊', '黑豹樂隊'}\n",
            "{'民族國家', '民族', '歐洲', '地區', '語言', '歐洲民族'} {'臺灣人', '民族國家', '民族主義', '無國家民族', '中國民族列表'}\n",
            "{'民族國家', '民族', '歐洲', '語言', '國家', '歐洲民族'} {'民族國家', '中華人民共和國民族政策', '民族主義', '無國家民族', '中國民族列表'}\n",
            "{'生活', '認識', '社會問題', '王安石'} {'中華人民共和國社會問題', '社會問題', '王安石'}\n",
            "{'詩人', '詞_(文學)', '唐朝末年', '唐詩', '李商隱', '宋詞三百首'} {'唐詩', '千家詩', '柳枝', '李商隱', '宋詞三百首'}\n",
            "{'網頁', '網景通訊家', '網景', '網頁瀏覽器'} {'網頁', '網頁瀏覽器時間線', '離線網頁瀏覽器'}\n",
            "{'江戶時代', '江戶', '妙義山'} set()\n",
            "{'一生', '蘋果公司', '喬布斯_(電影)', '史蒂夫·喬布斯'} set()\n",
            "{'基隆市', '康熙', '市鎮'} set()\n",
            "{'SETI@home', '程序'} {'RAID', '磁碟清理'}\n",
            "{'二氧化硫', '木星的衛星', '平原', '木衛一', '硫', '固體'} {'亞硫酸鈉', '亞硫酸鋅', '亞硫酸', '硫', '三氧化硫'}\n",
            "{'驚悚', '作品', '作家', '法國', '小說', '一生', '愛倫·坡'} {'迪安·雷·孔茨', '一生', '二次創作', '輕小說', '金甲蟲'}\n",
            "{'錫克教', '阿薩姆邦', '錫克人', '信徒'} set()\n",
            "{'公路服務區', '臺南市', '公路', '泰安服務區_(臺灣)', '中山高速公路', '中山', '泰安市'} {'泰安休息站', '泰安站', '中陽高速公路', '關西服務區', '中開高速公路'}\n",
            "{'徐太志'} set()\n",
            "{'高行健', '法國', '小說', '諾貝爾獎', '藝術', '公民', '道路', '戲劇'} {'諾貝爾獎得主列表', '高行健', '各國諾貝爾獎得主人數', '人工合成牛胰島素與諾貝爾獎', '印度諾貝爾獎得主列表'}\n",
            "{'家', '牛族', '文化', '人類', '1949年', '地區', '象徵', '家牛'} {'印度', '家牛'}\n",
            "{'獎勵', '奧斯卡', '英國君主', '英國', '女王', '皮特·烏斯蒂諾夫', '伊麗莎白二世', '奧斯卡金像獎'} {'伊麗莎白二世', '皮埃爾-夏爾·維爾納夫', '吉勒摩·戴託羅之皮諾丘', '奧斯卡二世'}\n",
            "{'斯賓塞·亞伯拉罕', '亞伯拉罕', '亞伯拉罕·林肯總統圖書館和博物館', '亞伯拉罕·路易·佈雷蓋', '亞伯拉罕·範海辛', '亞伯拉罕諸教', '亞伯拉罕·林肯', 'F·莫瑞·亞伯拉罕'} {'一神論', '亞伯拉罕諸教', '土耳其宗教', '伊斯蘭教與基督教關係', '拜星教'}\n",
            "{'會計師', '男子音樂組合', '大韓民國', '中國', 'EXOM', '黃子韜', 'EXO'} {'鹿晗', '黃子韜'}\n",
            "{'透明', '神農', '軀幹', '內臟'} set()\n",
            "{'太子_(香港)', '庶出子女', '長子', '楊勇_(隋朝)', '隋煬帝', '老年', '隋文帝', '隋朝'} {'隋朝', '楊昭', '楊杲', '楊浩', '楊暕'}\n",
            "{'住宅', '蓋烏斯·屋大維', '提比略·克勞狄烏斯·尼祿', '70', '奧古斯都', '提貝里烏斯', '提比略·格拉古'} set()\n",
            "{'臺灣', '流浪貓', '臺中市立啓明學校', '臺中市', '后里區', '教育', '特殊教育', '學校'} {'臺中市立臺中工業高級中等學校', '臺北市日僑學校', '臺北市立啓明學校', '國立臺中教育大學', '臺北美國學校'}\n",
            "{'SETI@home', '計算', '紐約州', '加利福尼亞大學柏克萊分校', '政府'} {'併發計算', 'Astropulse', 'BOINC', '搜尋地外文明計劃', '普適計算'}\n",
            "{'類星體', '圖像'} {'HE0450-2958', '類星體'}\n",
            "{'綠色', '索馬里蘭', '國旗', '言', '清真言', '索馬利蘭國旗', '索馬利蘭國'} {'厄瓜多爾國旗', '索馬里國旗', '索馬利蘭國旗', '葡萄牙國旗'}\n",
            "{'核', '中子'} {'核裂變', '中子截面', '中子俘獲', '質子發射', '中子'}\n",
            "{'司馬光'} set()\n",
            "{'馬克思·多爾穆瓦站', '資本論', '政治經濟學', '海因裏希·馬克思', '馬克思主義', '格魯喬·馬克思', '馬克思主義政治經濟學', '卡爾·馬克思'} {'馬克思學說研究會', '政治經濟學批判', '馬克思主義政治經濟學', '古典經濟學', '對馬克思主義的批評'}\n",
            "{'馮端', '中國人', '中國', '晶體', '原子'} {'晶體缺陷', '固體物理學', '晶體結構', '晶體', '超原子'}\n",
            "{'選舉', '總統', '詹姆斯·諾克斯·波爾克'} {'詹姆斯·諾克斯·波爾克'}\n",
            "{'腕鰭魚綱', '分類學', '生物分類學', '桑吉巴蝴蝶魚', '印度洋', '綱'} {'田邊辮魚', '印度洋鱧鯙', '印度洋鋸鱗魚', '塞內加爾多鰭魚', '桑吉巴蝴蝶魚'}\n",
            "{'世界', '寒武紀', '寒武紀大爆發', '壁畫', '寒武紀_(消歧義)'} {'始祖動吻蟲', '龐培壁畫', '寒武紀大爆發'}\n",
            "{'唐朝', '象'} set()\n",
            "{'新華網', '世界', '網站', '事業單位', '新華社'} {'新華網', '中國新華新聞電視網', '世界社會主義網站', '新華社', '中華人民共和國中央人民政府門戶網站'}\n",
            "{'北極殿', '寺廟', '明朝', '神', '明鄭', '臺南北極殿', '臺灣明鄭時期'} {'臺南東嶽殿', '明鄭', '臺南北極殿', '臺灣明鄭時期', '左鎮北極殿'}\n",
            "{'J·R·史密斯', '今天', '奈史密斯籃球名人紀念堂', '詹姆斯·奈史密斯', '姚明', '威爾·史密斯', '凱蒂·史密斯', '考·奈史密斯'} {'姚明'}\n",
            "{'均勻碼理事會', '碼'} set()\n",
            "{'懷化市', '湖南省', '中華人民共和國'} {'懷化市第三中學', '湖南省林業局', '湖南省教育廳', '湖南省人民代表大會'}\n",
            "{'發動機', '電動機', '差異_(哲學)'} {'發動機', '噴氣發動機', '電動機', '異步電動機', '電動發電機'}\n",
            "{'索爾', '雷神_(電影)', '索爾_(漫威漫畫)', '神', '北歐神話', '索爾·巴斯', '費爾南多·索爾', '雷神'} {'索爾', '半神', '神', '北歐神話', '雷神'}\n",
            "{'內畫壺', '作品', '世紀', '技術'} {'技術', '適用技術', 'GUNDAM系列作品', '首席技術官', '生物技術'}\n",
            "{'事件', '國務院', '副總理', '王立軍事件', '王立_(1966年)', '薄熙來', '王立軍', '兒子'} {'海伍德死亡案', '薄熙來事件', '王立軍事件', '薄熙來', '王立軍案'}\n",
            "{'美麗島', '事件', '美麗島事件', '親屬', '政府', '林義雄'} {'鼓山事件', '美麗島事件', '高雄州特高事件', '林義雄', '林宅血案'}\n",
            "{'海軍', '法國', '路易·德·奧爾良_(1703年—1752年)', '軍艦', '路易十四', '戰爭'} {'納粹德國海軍', '英國皇家海軍', '韓國海軍', '美國海軍', '中華民國海軍'}\n",
            "{'李祖德', '經營者', '牙醫學系', '臺北醫學大學', '臺北'} {'李祖德', '邱文達', '胡寶珍', '醫學院', '高雄醫學大學'}\n",
            "{'奧迪', '環'} {'奧迪', '大衆汽車', '電動方程式', '開瑞', '奧茲摩比'}\n",
            "{'共和黨'} set()\n",
            "{'用戶_(計算機)', 'SETI@home', '程序'} set()\n",
            "{'妻子', '提坦', '忒堤斯', '太平洋', '俄刻阿諾斯', '神'} {'俄刻阿尼得斯', '忒堤斯', '俄刻阿諾斯', '斯堤克斯', '忒勒斯托'}\n",
            "{'正壬醇', '脂肪醇', '碳', '汽油', '壬醇', '液體'} {'正壬醇', '脂肪醇', '香葉烯', '1-十一烷醇', '正癸醇'}\n",
            "{'工藝', '美學', '手工藝', '餐'} {'手工藝人', '手工藝', '工藝', '手工作坊式生產模式', '手工業'}\n",
            "{'教會', '亨利八世', '世紀', '宗教改革', '英格蘭', '改革', '王', '世', '亨利', '16世紀', '英格蘭教會'} {'英國宗教', '亨利八世', '宗教改革', '英格蘭宗教改革', '16世紀'}\n",
            "{'美國電影學會', '亂世佳人', '費雯·麗', '亂世佳人_(2007年電視劇)', '明星'} {'奧麗維亞·德哈維蘭', '約翰·韋恩'}\n",
            "{'茶', '茶葉蛋'} {'草本茶', '茶葉蛋', '臺灣茶', '東方美人茶', '茶'}\n",
            "{'印象派', '香港'} {'後印象派', '印象派'}\n",
            "{'臺灣', '電氣化鐵路', '交通', '臺灣交通', '發展'} {'電氣化鐵路', '花東線鐵路瓶頸路段雙軌化暨全線電氣化計劃', '臺灣交通', '臺灣鐵路運輸', '馬來西亞鐵路電氣化項目'}\n",
            "{'臺灣民族主義', '臺灣', '1965年', '中華民國', '中華民國政府', '政府', '民族主義', '廖文毅', '先驅', '臺灣獨立運動'} {'中華民國政府遷臺', '臺灣歷史', '廖文毅', '黃紀男', '廖史豪'}\n",
            "{'作品', '科學革命的結構', '科學革命', '托馬斯·庫恩', '科學史', '庫恩'} {'亞歷山大·誇黑', '中世紀科學史', '史蒂芬·古爾德'}\n",
            "{'民國', '臺中市大里區大元國民小學', '臺灣省政府'} {'臺中市大里區崇光國民小學', '臺中市大里區內新國民小學', '臺中市大里區草湖國民小學', '臺灣省政府主席', '臺中市大里區益民國民小學'}\n",
            "{'肥胖症'} {'左旋安非他命', '飲食文化', '肥胖症'}\n",
            "{'鐵路列車', '性幻想', '幻想'} {'性幻想'}\n",
            "{'臺灣', '停雲詩社', '國立臺灣師範大學', '中國語文學系', '教授', '主幹_(軟件)'} {'鯤瀛詩社', '停雲詩社', '南廬吟社', '許錟輝', '主流詩社'}\n",
            "{'政治家', '兒子', '阿卜杜勒侯賽因·米爾扎·法爾曼法爾馬'} {'阿卜杜勒·馬吉德·米爾扎', '賈邁勒·阿卜杜-納賽爾', '阿列日省市鎮列表', '阿卜杜勒-阿齊茲·本·阿卜杜拉赫曼·本·費薩爾·阿勒沙特', '阿卜杜勒-侯賽因·米爾扎·法爾曼法爾馬'}\n",
            "{'神話', '木衛三', '神話_(組合)', '處_(佛教)', '希臘神話', '希臘', '天體物理學', '名稱'} {'天體粒子物理學', '天文學家', '希臘神話', '神話學', '物理宇宙學'}\n",
            "{'注射', '小時', '劑量', '阿托品', '靜脈注射', '癲癇', '藥物'} {'地西泮', '阿托品', '布洛芬', '納洛酮', '昂丹司瓊'}\n",
            "{'水', '佈局_(圍棋)', '地形', '漢族', '張谷英', '中國', '張谷英村', '語氣'} {'地形', '國家點火設施', '張谷英村', '舊香港海洋公園水上樂園', '自然紀念物'}\n",
            "{'興盛', '菜系', '廣東省', '粵菜', '貿易'} {'中國菜系', '粵菜', '臺灣料理', '閩菜', '順德菜'}\n",
            "{'城市', '中部', '銀川平原', '銀川市'} set()\n",
            "{'茴芹', '動物', '中國', '茴芹屬', '植物', '花'} {'中甸茴芹', '木裏茴芹', '景東茴芹'}\n",
            "{'作品', '手工藝', '工藝', '靈感'} {'手工藝', '靈感'}\n",
            "{'喬治·費茲傑羅', '薇拉·費茲傑羅', '了不起的蓋茨比', '弗朗西斯·斯科特·菲茨傑拉德'} set()\n",
            "{'總部', '花旗銀行', '城市', '人口', '美洲'} set()\n",
            "{'祭_(日本)', '臺灣', '祭祀', '阿美族'} set()\n",
            "{'衍射', '波', '晶體', '晶體學'} {'晶體結構', '晶體', '晶體學', 'X射線晶體學', '納米晶體'}\n",
            "{'美國', '廚師', '成功', '餐廳', '好萊塢', '成龍'} set()\n",
            "{'奧迪', '總部', '臺灣機車', '超級跑車', '非洲', '豪華汽車', '跑車', '汽車'} {'林寶堅尼Miura', '臺灣機車', '捷豹', '豪華汽車', '跑車'}\n",
            "{'蘇丹_(稱謂)', '國', '阿曼', '拉丁美洲', '阿曼蘇丹'} {'阿曼蘇丹'}\n",
            "{'牛族', '2020', '文化', '人類', '地區', '象徵', '法律', '家牛'} {'泰國', '中國', '中華民國國家象徵', '國家象徵', '家牛'}\n",
            "{'林鈺婷', '竹東_(大字)', '客家民系'} {'林鈺婷', '汪明荃', '丘丘合唱團', '簡上仁', '拷秋勤'}\n",
            "{'德國', '少年', '震盪波蠕蟲'} set()\n",
            "{'世界', '柬埔寨', '淡水湖', '洞裏薩湖', '金邊'} {'柬埔寨', '柬埔寨機場列表'}\n",
            "{'2020', '主席', '黨', '國', '臺灣團結聯盟', '政黨領袖', '全國不分區及僑居國外國民立法委員選舉區', '劉一德', '立法院立法委員選舉'} {'政黨補助金', '無黨團結聯盟', '中華民國政黨歷年最高得票率', '2001年中華民國立法委員選舉', '新黨'}\n",
            "{'水溶液', '溶液', '氰化氫', '氰化鋰', '鹼', '氰化鈉', '頻率'} {'氫氧化鎵', '氰化鋁', '疊氮化鋰', '鹼性氧化物', '氰化鋰'}\n",
            "{'勇度', '漫威漫畫', '漫畫', '藍色', '人物', '漫威'} set()\n",
            "{'臺灣', '臺中市立啓明學校', '臺中市', '教育', '特殊教育', '學校'} {'臺中市立臺中工業高級中等學校', '臺北市日僑學校', '臺北市立啓明學校', '國立臺中教育大學', '臺北美國學校'}\n",
            "{'上海市', '北京航空航天大學', '本名'} {'南京航空航天大學', '北京航空航天大學出版社', '北京航空航天大學校史', '北京航空航天大學飛行學院', '北京航空航天大學校友列表'}\n",
            "{'行政機關', '政府首腦', '立法機關', '總統', '總統制'} {'行政機關', '政府首腦', '立法機關', '行政法', '總統制'}\n",
            "{'小龍女', '楊過'} set()\n",
            "{'傳教士', '文森特·梵高'} {'文森特·梵高', '新教傳教士與近代中國（1807-1953）'}\n",
            "{'北京理工大學', '學院'} {'明德學院', '北京理工大學附屬中學'}\n",
            "{'金馬獎', '艾略特·克雷松獎章', '喬治·艾略特', '查爾斯·艾略特', 'T·S·艾略特', '艾略特·高登索', '艾略特·內斯', '艾略特'} set()\n",
            "{'蘇格蘭足球聯賽', '英格蘭足球超級聯賽', '蘇格蘭', '蘇格蘭足球聯賽系統'} {'英格蘭足球全國聯賽', '英格蘭足球超級聯賽', '蘇格蘭足球聯賽超級聯賽', '蘇格蘭足球甲級聯賽', '英超亞洲盃'}\n",
            "{'撞擊坑', '天衛四', '天衛三', '量_(物理)', '面_(幾何)', '隕石'} {'月球隕石坑', '撞擊坑', '愛明內斯庫撞擊坑', '弗拉姆撞擊坑', '波泰士隕石坑'}\n",
            "{'無線電', '央斯基', '卡爾·央斯基', '卡爾', '天文學', '先驅', '美國', '射電天文學'} {'央斯基', '耶魯大學藝術學院', '卡爾·央斯基', '格羅特·雷伯', '先驅'}\n",
            "{'妻子', '羅曼諾·貝尼託·弗洛里亞尼·墨索里尼', '屍體', '雷切爾·墨索里尼', '亞歷山德拉·墨索里尼', '貝尼託·墨索里尼'} {'墨索里尼之死', '吉亞科莫·馬泰奧蒂'}\n",
            "{'古希臘', '人物_(美國雜誌)', '苗', '戰國_(漫畫)', '三苗', '河南省', '長江', '部落', '上古時代', '戰國時期', '古羅馬'} {'下江人', '三苗', '古羅馬建築', '2016年中國南方水災', '古羅馬'}\n",
            "{'行政院', '外海街道', '蘭嶼', '達悟族', '海', '漁船', '兒童節', '海里'} {'浙江漁港列表', '達悟族', '海', '中國漁船與日本巡邏船釣魚島相撞事件', '925臺灣保釣行動'}\n",
            "{'世紀', '印象派', '法國'} {'印象派'}\n",
            "{'人物_(美國雜誌)', '苗', '戰國_(漫畫)', '三苗', '河南省', '長江', '部落', '上古時代', '戰國時期'} {'洞庭湖', '三苗', '中國溼地', '2016年中國南方水災', '鄱陽湖平原'}\n",
            "{'演員', '英國', '兒童', '小孩_(電影)', '威廉·莎士比亞'} set()\n",
            "{'第一人', '富蘭克林_(維吉尼亞州)', '通信系統', '本傑明·富蘭克林'} {'本傑明·富蘭克林'}\n",
            "{'日治時期', '臺灣', '1922年', '臺北', '臺灣總督府臺北高等學校', '臺灣總督府', '總督府', '學校'} {'臺灣總督府高等商業學校', '臺灣日治時期', '臺灣總督府臺北高等學校', '臺灣總督府國語學校', '臺灣總督府臺南高等工業學校'}\n",
            "{'倫敦大學', '大學', '高等教育', '泰晤士', '倫敦大學學院', '泰晤士高等教育', '英國', '泰晤士高等教育世界大學排名'} {'倫敦國王學院', '諾丁漢大學', '韓國教育', 'QS世界大學排名', '中華人民共和國教育'}\n",
            "{'資興市', '魚', '湘江'} {'湘江'}\n",
            "{'分', '字', '分鐘', '複數', 'Min'} {'角分符號', '國際單位制詞頭', '分鐘'}\n",
            "{'管理學', '威廉·亨利·哈里森'} set()\n",
            "{'臺灣', '主流', '白話字', '文字', '白話'} {'臺灣漢字', '白話字', '海南話白話字'}\n",
            "{'長江', '汾河', '中國'} {'裕溪河', '湘江'}\n",
            "{'紐約', '贊助', '泰坦尼克號', '首飛'} {'泰坦尼克號'}\n",
            "{'信念', '品質', '麗臺科技', '創新', '亞洲'} {'中國科技大學', '麗臺科技', '醫療衛生哲學', '黃崇源', '創新'}\n",
            "{'秋紅谷廣場', '功能', '自然災害'} {'滯洪池'}\n",
            "{'斯科特·布赫茲', '政黨', '澳大利亞', '主義', '保守主義'} set()\n"
          ]
        }
      ],
      "source": [
        "results_df = pd.merge(pd.Series([line for line in test_results_aicup], name=\"aicup\"), \n",
        "                      pd.Series([line for line in test_results_tfidf], name=\"tfidf\"), right_index=True, left_index=True)\n",
        "test_results = results_df.apply(union_result, axis=1)\n",
        "save_doc(TEST_DATA, test_results, mode=\"test\")"
      ]
    },
    {
      "attachments": {},
      "cell_type": "markdown",
      "metadata": {
        "id": "Ol4zFkSbjgXF"
      },
      "source": [
        "notebook2\n",
        "## PART 2. Sentence retrieval"
      ]
    },
    {
      "attachments": {},
      "cell_type": "markdown",
      "metadata": {},
      "source": [
        "Import some libs"
      ]
    },
    {
      "cell_type": "code",
      "execution_count": 1,
      "metadata": {
        "id": "GlliDsgXjisj"
      },
      "outputs": [],
      "source": [
        "from pathlib import Path\n",
        "from typing import Dict, List, Set, Tuple, Union\n",
        "\n",
        "# third-party libs\n",
        "import numpy as np\n",
        "import pandas as pd\n",
        "from pandarallel import pandarallel\n",
        "from sklearn.model_selection import train_test_split\n",
        "from tqdm.auto import tqdm\n",
        "\n",
        "import torch\n",
        "import torch.nn as nn\n",
        "from torch.optim import AdamW\n",
        "from torch.utils.data import DataLoader\n",
        "from torch.utils.tensorboard import SummaryWriter\n",
        "from transformers import (\n",
        "    AutoModelForSequenceClassification,\n",
        "    AutoTokenizer,\n",
        "    get_scheduler,\n",
        ")\n",
        "\n",
        "from dataset import BERTDataset, Dataset\n",
        "\n",
        "# local libs\n",
        "from utils import (\n",
        "    generate_evidence_to_wiki_pages_mapping,\n",
        "    jsonl_dir_to_df,\n",
        "    load_json,\n",
        "    load_model,\n",
        "    save_checkpoint,\n",
        "    set_lr_scheduler,\n",
        ")\n",
        "\n",
        "pandarallel.initialize(progress_bar=True, verbose=0, nb_workers=10)"
      ]
    },
    {
      "attachments": {},
      "cell_type": "markdown",
      "metadata": {},
      "source": [
        "Global variable"
      ]
    },
    {
      "cell_type": "code",
      "execution_count": 2,
      "metadata": {
        "id": "J3BBLE3_hlPi"
      },
      "outputs": [],
      "source": [
        "SEED = 42\n",
        "\n",
        "TRAIN_DATA = load_json(\"data/public_train.jsonl\")\n",
        "TEST_DATA = load_json(\"data/public_test.jsonl\")\n",
        "DOC_DATA = load_json(\"data/train_doc5.jsonl\")\n",
        "\n",
        "LABEL2ID: Dict[str, int] = {\n",
        "    \"supports\": 0,\n",
        "    \"refutes\": 1,\n",
        "    \"NOT ENOUGH INFO\": 2,\n",
        "}\n",
        "ID2LABEL: Dict[int, str] = {v: k for k, v in LABEL2ID.items()}\n",
        "\n",
        "_y = [LABEL2ID[data[\"label\"]] for data in TRAIN_DATA]\n",
        "# GT means Ground Truth\n",
        "TRAIN_GT, DEV_GT = train_test_split(\n",
        "    DOC_DATA,\n",
        "    test_size=0.2,\n",
        "    random_state=SEED,\n",
        "    shuffle=True,\n",
        "    stratify=_y,\n",
        ")"
      ]
    },
    {
      "attachments": {},
      "cell_type": "markdown",
      "metadata": {},
      "source": [
        "Preload wiki database (1 min)"
      ]
    },
    {
      "cell_type": "code",
      "execution_count": 3,
      "metadata": {},
      "outputs": [
        {
          "name": "stdout",
          "output_type": "stream",
          "text": [
            "Reading and concatenating jsonl files in data/wiki-pages\n",
            "Generate parse mapping\n"
          ]
        },
        {
          "data": {
            "application/vnd.jupyter.widget-view+json": {
              "model_id": "a1f39eb088fe4b4c9bc54563b7d3230c",
              "version_major": 2,
              "version_minor": 0
            },
            "text/plain": [
              "VBox(children=(HBox(children=(IntProgress(value=0, description='0.00%', max=118776), Label(value='0 / 118776')…"
            ]
          },
          "metadata": {},
          "output_type": "display_data"
        },
        {
          "name": "stdout",
          "output_type": "stream",
          "text": [
            "Transform to id to evidence_map mapping\n"
          ]
        }
      ],
      "source": [
        "wiki_pages = jsonl_dir_to_df(\"data/wiki-pages\")\n",
        "mapping = generate_evidence_to_wiki_pages_mapping(wiki_pages)\n",
        "del wiki_pages"
      ]
    },
    {
      "attachments": {},
      "cell_type": "markdown",
      "metadata": {},
      "source": [
        "### Helper function"
      ]
    },
    {
      "attachments": {},
      "cell_type": "markdown",
      "metadata": {},
      "source": [
        "Calculate precision for sentence retrieval"
      ]
    },
    {
      "cell_type": "code",
      "execution_count": 4,
      "metadata": {},
      "outputs": [],
      "source": [
        "def evidence_macro_precision(\n",
        "    instance: Dict,\n",
        "    top_rows: pd.DataFrame,\n",
        ") -> Tuple[float, float]:\n",
        "    \"\"\"Calculate precision for sentence retrieval\n",
        "    This function is modified from fever-scorer.\n",
        "    https://github.com/sheffieldnlp/fever-scorer/blob/master/src/fever/scorer.py\n",
        "\n",
        "    Args:\n",
        "        instance (dict): a row of the dev set (dev.jsonl) of test set (test.jsonl)\n",
        "        top_rows (pd.DataFrame): our predictions with the top probabilities\n",
        "\n",
        "        IMPORTANT!!!\n",
        "        instance (dict) should have the key of `evidence`.\n",
        "        top_rows (pd.DataFrame) should have a column `predicted_evidence`.\n",
        "\n",
        "    Returns:\n",
        "        Tuple[float, float]:\n",
        "        [1]: relevant and retrieved (numerator of precision)\n",
        "        [2]: retrieved (denominator of precision)\n",
        "    \"\"\"\n",
        "    this_precision = 0.0\n",
        "    this_precision_hits = 0.0\n",
        "\n",
        "    # Return 0, 0 if label is not enough info since not enough info does not\n",
        "    # contain any evidence.\n",
        "    if instance[\"label\"].upper() != \"NOT ENOUGH INFO\":\n",
        "        # e[2] is the page title, e[3] is the sentence index\n",
        "        all_evi = [[e[2], e[3]]\n",
        "                   for eg in instance[\"evidence\"]\n",
        "                   for e in eg\n",
        "                   if e[3] is not None]\n",
        "        claim = instance[\"claim\"]\n",
        "        predicted_evidence = top_rows[top_rows[\"claim\"] ==\n",
        "                                      claim][\"predicted_evidence\"].tolist()\n",
        "\n",
        "        for prediction in predicted_evidence:\n",
        "            if prediction in all_evi:\n",
        "                this_precision += 1.0\n",
        "            this_precision_hits += 1.0\n",
        "\n",
        "        return (this_precision /\n",
        "                this_precision_hits) if this_precision_hits > 0 else 1.0, 1.0\n",
        "\n",
        "    return 0.0, 0.0"
      ]
    },
    {
      "attachments": {},
      "cell_type": "markdown",
      "metadata": {},
      "source": [
        "Calculate recall for sentence retrieval"
      ]
    },
    {
      "cell_type": "code",
      "execution_count": 5,
      "metadata": {},
      "outputs": [],
      "source": [
        "def evidence_macro_recall(\n",
        "    instance: Dict,\n",
        "    top_rows: pd.DataFrame,\n",
        ") -> Tuple[float, float]:\n",
        "    \"\"\"Calculate recall for sentence retrieval\n",
        "    This function is modified from fever-scorer.\n",
        "    https://github.com/sheffieldnlp/fever-scorer/blob/master/src/fever/scorer.py\n",
        "\n",
        "    Args:\n",
        "        instance (dict): a row of the dev set (dev.jsonl) of test set (test.jsonl)\n",
        "        top_rows (pd.DataFrame): our predictions with the top probabilities\n",
        "\n",
        "        IMPORTANT!!!\n",
        "        instance (dict) should have the key of `evidence`.\n",
        "        top_rows (pd.DataFrame) should have a column `predicted_evidence`.\n",
        "\n",
        "    Returns:\n",
        "        Tuple[float, float]:\n",
        "        [1]: relevant and retrieved (numerator of recall)\n",
        "        [2]: relevant (denominator of recall)\n",
        "    \"\"\"\n",
        "    # We only want to score F1/Precision/Recall of recalled evidence for NEI claims\n",
        "    if instance[\"label\"].upper() != \"NOT ENOUGH INFO\":\n",
        "        # If there's no evidence to predict, return 1\n",
        "        if len(instance[\"evidence\"]) == 0 or all(\n",
        "            [len(eg) == 0 for eg in instance]):\n",
        "            return 1.0, 1.0\n",
        "\n",
        "        claim = instance[\"claim\"]\n",
        "\n",
        "        predicted_evidence = top_rows[top_rows[\"claim\"] ==\n",
        "                                      claim][\"predicted_evidence\"].tolist()\n",
        "\n",
        "        for evidence_group in instance[\"evidence\"]:\n",
        "            evidence = [[e[2], e[3]] for e in evidence_group]\n",
        "            if all([item in predicted_evidence for item in evidence]):\n",
        "                # We only want to score complete groups of evidence. Incomplete\n",
        "                # groups are worthless.\n",
        "                return 1.0, 1.0\n",
        "        return 0.0, 1.0\n",
        "    return 0.0, 0.0"
      ]
    },
    {
      "attachments": {},
      "cell_type": "markdown",
      "metadata": {},
      "source": [
        "Calculate the scores of sentence retrieval"
      ]
    },
    {
      "cell_type": "code",
      "execution_count": 6,
      "metadata": {},
      "outputs": [],
      "source": [
        "def evaluate_retrieval(\n",
        "    probs: np.ndarray,\n",
        "    df_evidences: pd.DataFrame,\n",
        "    ground_truths: pd.DataFrame,\n",
        "    top_n: int = 5,\n",
        "    cal_scores: bool = True,\n",
        "    save_name: str = None,\n",
        ") -> Dict[str, float]:\n",
        "    \"\"\"Calculate the scores of sentence retrieval\n",
        "\n",
        "    Args:\n",
        "        probs (np.ndarray): probabilities of the candidate retrieved sentences\n",
        "        df_evidences (pd.DataFrame): the candiate evidence sentences paired with claims\n",
        "        ground_truths (pd.DataFrame): the loaded data of dev.jsonl or test.jsonl\n",
        "        top_n (int, optional): the number of the retrieved sentences. Defaults to 2.\n",
        "\n",
        "    Returns:\n",
        "        Dict[str, float]: F1 score, precision, and recall\n",
        "    \"\"\"\n",
        "    df_evidences[\"prob\"] = probs\n",
        "    top_rows = (\n",
        "        df_evidences.groupby(\"claim\").apply(\n",
        "        lambda x: x.nlargest(top_n, \"prob\"))\n",
        "        .reset_index(drop=True)\n",
        "    )\n",
        "\n",
        "    if cal_scores:\n",
        "        macro_precision = 0\n",
        "        macro_precision_hits = 0\n",
        "        macro_recall = 0\n",
        "        macro_recall_hits = 0\n",
        "\n",
        "        for i, instance in enumerate(ground_truths):\n",
        "            macro_prec = evidence_macro_precision(instance, top_rows)\n",
        "            macro_precision += macro_prec[0]\n",
        "            macro_precision_hits += macro_prec[1]\n",
        "\n",
        "            macro_rec = evidence_macro_recall(instance, top_rows)\n",
        "            macro_recall += macro_rec[0]\n",
        "            macro_recall_hits += macro_rec[1]\n",
        "\n",
        "        pr = (macro_precision /\n",
        "              macro_precision_hits) if macro_precision_hits > 0 else 1.0\n",
        "        rec = (macro_recall /\n",
        "               macro_recall_hits) if macro_recall_hits > 0 else 0.0\n",
        "        f1 = 2.0 * pr * rec / (pr + rec)\n",
        "\n",
        "    if save_name is not None:\n",
        "        # write doc7_sent5 file\n",
        "        with open(f\"data/{save_name}\", \"w\", encoding=\"utf8\") as f:\n",
        "            for instance in ground_truths:\n",
        "                claim = instance[\"claim\"]\n",
        "                predicted_evidence = top_rows[\n",
        "                    top_rows[\"claim\"] == claim][\"predicted_evidence\"].tolist()\n",
        "                instance[\"predicted_evidence\"] = predicted_evidence\n",
        "                f.write(json.dumps(instance, ensure_ascii=False) + \"\\n\")\n",
        "\n",
        "    if cal_scores:\n",
        "        return {\"F1 score\": f1, \"Precision\": pr, \"Recall\": rec}"
      ]
    },
    {
      "attachments": {},
      "cell_type": "markdown",
      "metadata": {},
      "source": [
        "Inference script to get probabilites for the candidate evidence sentences"
      ]
    },
    {
      "cell_type": "code",
      "execution_count": 7,
      "metadata": {},
      "outputs": [],
      "source": [
        "def get_predicted_probs(\n",
        "    model: nn.Module,\n",
        "    dataloader: Dataset,\n",
        "    device: torch.device,\n",
        ") -> np.ndarray:\n",
        "    \"\"\"Inference script to get probabilites for the candidate evidence sentences\n",
        "\n",
        "    Args:\n",
        "        model: the one from HuggingFace Transformers\n",
        "        dataloader: devset or testset in torch dataloader\n",
        "\n",
        "    Returns:\n",
        "        np.ndarray: probabilites of the candidate evidence sentences\n",
        "    \"\"\"\n",
        "    model.eval()\n",
        "    probs = []\n",
        "\n",
        "    with torch.no_grad():\n",
        "        for batch in tqdm(dataloader):\n",
        "            batch = {k: v.to(device) for k, v in batch.items()}\n",
        "            outputs = model(**batch)\n",
        "            logits = outputs.logits\n",
        "            probs.extend(torch.softmax(logits, dim=1)[:, 1].tolist())\n",
        "\n",
        "    return np.array(probs)"
      ]
    },
    {
      "attachments": {},
      "cell_type": "markdown",
      "metadata": {},
      "source": [
        "AicupTopkEvidenceBERTDataset class for AICUP dataset with top-k evidence sentences"
      ]
    },
    {
      "cell_type": "code",
      "execution_count": 8,
      "metadata": {},
      "outputs": [],
      "source": [
        "class SentRetrievalBERTDataset(BERTDataset):\n",
        "    \"\"\"AicupTopkEvidenceBERTDataset class for AICUP dataset with top-k evidence sentences.\"\"\"\n",
        "\n",
        "    def __getitem__(\n",
        "        self,\n",
        "        idx: int,\n",
        "        **kwargs,\n",
        "    ) -> Tuple[Dict[str, torch.Tensor], int]:\n",
        "        item = self.data.iloc[idx]\n",
        "        sentA = item[\"claim\"]\n",
        "        sentB = item[\"text\"]\n",
        "\n",
        "        # claim [SEP] text\n",
        "        concat = self.tokenizer(\n",
        "            sentA,\n",
        "            sentB,\n",
        "            padding=\"max_length\",\n",
        "            max_length=self.max_length,\n",
        "            truncation=True,\n",
        "        )\n",
        "        concat_ten = {k: torch.tensor(v) for k, v in concat.items()}\n",
        "        if \"label\" in item:\n",
        "            concat_ten[\"labels\"] = torch.tensor(item[\"label\"])\n",
        "\n",
        "        return concat_ten"
      ]
    },
    {
      "attachments": {},
      "cell_type": "markdown",
      "metadata": {},
      "source": [
        "### Main function for sentence retrieval"
      ]
    },
    {
      "cell_type": "code",
      "execution_count": 9,
      "metadata": {
        "id": "gpvXpFwXszfv"
      },
      "outputs": [],
      "source": [
        "def pair_with_wiki_sentences(\n",
        "    mapping: Dict[str, Dict[int, str]],\n",
        "    df: pd.DataFrame,\n",
        "    negative_ratio: float,\n",
        ") -> pd.DataFrame:\n",
        "    \"\"\"Only for creating train sentences.\"\"\"\n",
        "    claims = []\n",
        "    sentences = []\n",
        "    labels = []\n",
        "\n",
        "    # positive\n",
        "    for i in range(len(df)):\n",
        "        if df[\"label\"].iloc[i] == \"NOT ENOUGH INFO\":\n",
        "            continue\n",
        "\n",
        "        claim = df[\"claim\"].iloc[i]\n",
        "        evidence_sets = df[\"evidence\"].iloc[i]\n",
        "        for evidence_set in evidence_sets:\n",
        "            sents = []\n",
        "            for evidence in evidence_set:\n",
        "                # evidence[2] is the page title\n",
        "                page = evidence[2].replace(\" \", \"_\")\n",
        "                # the only page with weird name\n",
        "                if page == \"臺灣海峽危機#第二次臺灣海峽危機（1958）\":\n",
        "                    continue\n",
        "                # evidence[3] is in form of int however, mapping requires str\n",
        "                sent_idx = str(evidence[3])\n",
        "                sents.append(mapping[page][sent_idx])\n",
        "\n",
        "            whole_evidence = \" \".join(sents)\n",
        "\n",
        "            claims.append(claim)\n",
        "            sentences.append(whole_evidence)\n",
        "            labels.append(1)\n",
        "\n",
        "    # negative\n",
        "    for i in range(len(df)):\n",
        "        if df[\"label\"].iloc[i] == \"NOT ENOUGH INFO\":\n",
        "            continue\n",
        "        claim = df[\"claim\"].iloc[i]\n",
        "\n",
        "        evidence_set = set([(evidence[2], evidence[3])\n",
        "                            for evidences in df[\"evidence\"][i]\n",
        "                            for evidence in evidences])\n",
        "        predicted_pages = df[\"predicted_pages\"][i]\n",
        "        for page in predicted_pages:\n",
        "            page = page.replace(\" \", \"_\")\n",
        "            try:\n",
        "                page_sent_id_pairs = [\n",
        "                    (page, sent_idx) for sent_idx in mapping[page].keys()\n",
        "                ]\n",
        "            except KeyError:\n",
        "                # print(f\"{page} is not in our Wiki db.\")\n",
        "                continue\n",
        "\n",
        "            for pair in page_sent_id_pairs:\n",
        "                if pair in evidence_set:\n",
        "                    continue\n",
        "                text = mapping[page][pair[1]]\n",
        "                # `np.random.rand(1) <= 0.05`: Control not to add too many negative samples\n",
        "                if text != \"\" and np.random.rand(1) <= negative_ratio:\n",
        "                    claims.append(claim)\n",
        "                    sentences.append(text)\n",
        "                    labels.append(0)\n",
        "\n",
        "    return pd.DataFrame({\"claim\": claims, \"text\": sentences, \"label\": labels})\n",
        "\n",
        "\n",
        "def pair_with_wiki_sentences_eval(\n",
        "    mapping: Dict[str, Dict[int, str]],\n",
        "    df: pd.DataFrame,\n",
        "    is_testset: bool = False,\n",
        ") -> pd.DataFrame:\n",
        "    \"\"\"Only for creating dev and test sentences.\"\"\"\n",
        "    claims = []\n",
        "    sentences = []\n",
        "    evidence = []\n",
        "    predicted_evidence = []\n",
        "\n",
        "    # negative\n",
        "    for i in range(len(df)):\n",
        "        # if df[\"label\"].iloc[i] == \"NOT ENOUGH INFO\":\n",
        "        #     continue\n",
        "        claim = df[\"claim\"].iloc[i]\n",
        "\n",
        "        predicted_pages = df[\"predicted_pages\"][i]\n",
        "        for page in predicted_pages:\n",
        "            page = page.replace(\" \", \"_\")\n",
        "            try:\n",
        "                page_sent_id_pairs = [(page, k) for k in mapping[page]]\n",
        "            except KeyError:\n",
        "                # print(f\"{page} is not in our Wiki db.\")\n",
        "                continue\n",
        "\n",
        "            for page_name, sentence_id in page_sent_id_pairs:\n",
        "                text = mapping[page][sentence_id]\n",
        "                if text != \"\":\n",
        "                    claims.append(claim)\n",
        "                    sentences.append(text)\n",
        "                    if not is_testset:\n",
        "                        evidence.append(df[\"evidence\"].iloc[i])\n",
        "                    predicted_evidence.append([page_name, int(sentence_id)])\n",
        "\n",
        "    return pd.DataFrame({\n",
        "        \"claim\": claims,\n",
        "        \"text\": sentences,\n",
        "        \"evidence\": evidence if not is_testset else None,\n",
        "        \"predicted_evidence\": predicted_evidence,\n",
        "    })"
      ]
    },
    {
      "attachments": {},
      "cell_type": "markdown",
      "metadata": {},
      "source": [
        "### Step 1. Setup training environment"
      ]
    },
    {
      "attachments": {},
      "cell_type": "markdown",
      "metadata": {},
      "source": [
        "Hyperparams"
      ]
    },
    {
      "cell_type": "code",
      "execution_count": 31,
      "metadata": {},
      "outputs": [],
      "source": [
        "MODEL_NAME = \"bert-base-chinese\"  #@param {type:\"string\"}\n",
        "NUM_EPOCHS = 1  #@param {type:\"integer\"}\n",
        "LR = 2e-5  #@param {type:\"number\"}\n",
        "TRAIN_BATCH_SIZE = 32  #@param {type:\"integer\"}\n",
        "TEST_BATCH_SIZE = 256  #@param {type:\"integer\"}\n",
        "NEGATIVE_RATIO = 0.05  #@param {type:\"number\"}\n",
        "VALIDATION_STEP = 50  #@param {type:\"integer\"}\n",
        "TOP_N = 5  #@param {type:\"integer\"}\n",
        "#@title  { display-mode: \"form\" }"
      ]
    },
    {
      "attachments": {},
      "cell_type": "markdown",
      "metadata": {},
      "source": [
        "Experiment Directory"
      ]
    },
    {
      "cell_type": "code",
      "execution_count": 32,
      "metadata": {
        "id": "ToLvE9oxIXQo"
      },
      "outputs": [],
      "source": [
        "EXP_DIR = f\"sent_retrieval/e{NUM_EPOCHS}_bs{TRAIN_BATCH_SIZE}_\" + f\"{LR}_neg{NEGATIVE_RATIO}_top{TOP_N}\"\n",
        "LOG_DIR = \"logs/\" + EXP_DIR\n",
        "CKPT_DIR = \"checkpoints/\" + EXP_DIR\n",
        "\n",
        "if not Path(LOG_DIR).exists():\n",
        "    Path(LOG_DIR).mkdir(parents=True)\n",
        "\n",
        "if not Path(CKPT_DIR).exists():\n",
        "    Path(CKPT_DIR).mkdir(parents=True)"
      ]
    },
    {
      "attachments": {},
      "cell_type": "markdown",
      "metadata": {},
      "source": [
        "### Step 2. Combine claims and evidences"
      ]
    },
    {
      "cell_type": "code",
      "execution_count": 33,
      "metadata": {
        "id": "4A5vWEzPiXGF"
      },
      "outputs": [
        {
          "name": "stdout",
          "output_type": "stream",
          "text": [
            "Now using the following train data with 0 (Negative) and 1 (Positive)\n",
            "0    7933\n",
            "1    2774\n",
            "Name: label, dtype: int64\n"
          ]
        }
      ],
      "source": [
        "train_df = pair_with_wiki_sentences(\n",
        "    mapping,\n",
        "    pd.DataFrame(TRAIN_GT),\n",
        "    NEGATIVE_RATIO,\n",
        ")\n",
        "counts = train_df[\"label\"].value_counts()\n",
        "print(\"Now using the following train data with 0 (Negative) and 1 (Positive)\")\n",
        "print(counts)\n",
        "\n",
        "dev_evidences = pair_with_wiki_sentences_eval(mapping, pd.DataFrame(DEV_GT))"
      ]
    },
    {
      "attachments": {},
      "cell_type": "markdown",
      "metadata": {},
      "source": [
        "### Step 3. Start training"
      ]
    },
    {
      "attachments": {},
      "cell_type": "markdown",
      "metadata": {},
      "source": [
        "Dataloader things"
      ]
    },
    {
      "cell_type": "code",
      "execution_count": 34,
      "metadata": {
        "id": "l48WifjeIGui"
      },
      "outputs": [],
      "source": [
        "tokenizer = AutoTokenizer.from_pretrained(MODEL_NAME)\n",
        "\n",
        "train_dataset = SentRetrievalBERTDataset(train_df, tokenizer=tokenizer)\n",
        "val_dataset = SentRetrievalBERTDataset(dev_evidences, tokenizer=tokenizer)\n",
        "\n",
        "train_dataloader = DataLoader(\n",
        "    train_dataset,\n",
        "    shuffle=True,\n",
        "    batch_size=TRAIN_BATCH_SIZE,\n",
        ")\n",
        "eval_dataloader = DataLoader(val_dataset, batch_size=TEST_BATCH_SIZE)"
      ]
    },
    {
      "attachments": {},
      "cell_type": "markdown",
      "metadata": {},
      "source": [
        "Save your memory."
      ]
    },
    {
      "cell_type": "code",
      "execution_count": 2,
      "metadata": {},
      "outputs": [
        {
          "ename": "NameError",
          "evalue": "name 'train_df' is not defined",
          "output_type": "error",
          "traceback": [
            "\u001b[0;31m---------------------------------------------------------------------------\u001b[0m",
            "\u001b[0;31mNameError\u001b[0m                                 Traceback (most recent call last)",
            "\u001b[0;32m/tmp/ipykernel_681818/670852095.py\u001b[0m in \u001b[0;36m<module>\u001b[0;34m\u001b[0m\n\u001b[0;32m----> 1\u001b[0;31m \u001b[0;32mdel\u001b[0m \u001b[0mtrain_df\u001b[0m\u001b[0;34m\u001b[0m\u001b[0;34m\u001b[0m\u001b[0m\n\u001b[0m",
            "\u001b[0;31mNameError\u001b[0m: name 'train_df' is not defined"
          ]
        }
      ],
      "source": [
        "del train_df"
      ]
    },
    {
      "attachments": {},
      "cell_type": "markdown",
      "metadata": {},
      "source": [
        "Trainer"
      ]
    },
    {
      "cell_type": "code",
      "execution_count": 36,
      "metadata": {
        "id": "4rl_u0YbeQtY"
      },
      "outputs": [
        {
          "name": "stdout",
          "output_type": "stream",
          "text": [
            "True\n"
          ]
        },
        {
          "name": "stderr",
          "output_type": "stream",
          "text": [
            "Some weights of the model checkpoint at bert-base-chinese were not used when initializing BertForSequenceClassification: ['cls.seq_relationship.weight', 'cls.predictions.decoder.weight', 'cls.predictions.transform.LayerNorm.weight', 'cls.predictions.transform.LayerNorm.bias', 'cls.seq_relationship.bias', 'cls.predictions.bias', 'cls.predictions.transform.dense.bias', 'cls.predictions.transform.dense.weight']\n",
            "- This IS expected if you are initializing BertForSequenceClassification from the checkpoint of a model trained on another task or with another architecture (e.g. initializing a BertForSequenceClassification model from a BertForPreTraining model).\n",
            "- This IS NOT expected if you are initializing BertForSequenceClassification from the checkpoint of a model that you expect to be exactly identical (initializing a BertForSequenceClassification model from a BertForSequenceClassification model).\n",
            "Some weights of BertForSequenceClassification were not initialized from the model checkpoint at bert-base-chinese and are newly initialized: ['classifier.weight', 'classifier.bias']\n",
            "You should probably TRAIN this model on a down-stream task to be able to use it for predictions and inference.\n"
          ]
        }
      ],
      "source": [
        "device = torch.device(\"cuda\") if torch.cuda.is_available() else torch.device(\n",
        "    \"cpu\")\n",
        "print(torch.cuda.is_available())\n",
        "model = AutoModelForSequenceClassification.from_pretrained(MODEL_NAME)\n",
        "model.to(device)\n",
        "\n",
        "optimizer = AdamW(model.parameters(), lr=LR)\n",
        "num_training_steps = NUM_EPOCHS * len(train_dataloader)\n",
        "lr_scheduler = set_lr_scheduler(optimizer, num_training_steps)\n",
        "\n",
        "writer = SummaryWriter(LOG_DIR)"
      ]
    },
    {
      "attachments": {},
      "cell_type": "markdown",
      "metadata": {},
      "source": [
        "Please make sure that you are using gpu when training (5 min)"
      ]
    },
    {
      "cell_type": "code",
      "execution_count": 28,
      "metadata": {},
      "outputs": [],
      "source": [
        "torch.cuda.empty_cache()"
      ]
    },
    {
      "cell_type": "code",
      "execution_count": 18,
      "metadata": {
        "id": "1AHGaKh1eKmg"
      },
      "outputs": [
        {
          "data": {
            "application/vnd.jupyter.widget-view+json": {
              "model_id": "0d795b0c4441443d931575959a849169",
              "version_major": 2,
              "version_minor": 0
            },
            "text/plain": [
              "  0%|          | 0/136 [00:00<?, ?it/s]"
            ]
          },
          "metadata": {},
          "output_type": "display_data"
        },
        {
          "name": "stdout",
          "output_type": "stream",
          "text": [
            "Start validation\n"
          ]
        },
        {
          "data": {
            "application/vnd.jupyter.widget-view+json": {
              "model_id": "f0f26ec80c574ec28d4a4d2ec019aa1e",
              "version_major": 2,
              "version_minor": 0
            },
            "text/plain": [
              "  0%|          | 0/189 [00:00<?, ?it/s]"
            ]
          },
          "metadata": {},
          "output_type": "display_data"
        },
        {
          "name": "stdout",
          "output_type": "stream",
          "text": [
            "{'F1 score': 0.38156865612499047, 'Precision': 0.2522656249999999, 'Recall': 0.7828125}\n",
            "Start validation\n"
          ]
        },
        {
          "data": {
            "application/vnd.jupyter.widget-view+json": {
              "model_id": "d8d49d18fb184dfe887ac60463bc7311",
              "version_major": 2,
              "version_minor": 0
            },
            "text/plain": [
              "  0%|          | 0/189 [00:00<?, ?it/s]"
            ]
          },
          "metadata": {},
          "output_type": "display_data"
        },
        {
          "name": "stdout",
          "output_type": "stream",
          "text": [
            "{'F1 score': 0.3842702317557939, 'Precision': 0.25414062499999995, 'Recall': 0.7875}\n",
            "Finished training!\n"
          ]
        }
      ],
      "source": [
        "progress_bar = tqdm(range(num_training_steps))\n",
        "current_steps = 0\n",
        "\n",
        "for epoch in range(NUM_EPOCHS):\n",
        "    model.train()\n",
        "\n",
        "    for batch in train_dataloader:\n",
        "        torch.cuda.empty_cache()\n",
        "        batch = {k: v.to(device) for k, v in batch.items()}\n",
        "        outputs = model(**batch)\n",
        "        loss = outputs.loss\n",
        "        loss.backward()\n",
        "\n",
        "        optimizer.step()\n",
        "        lr_scheduler.step()\n",
        "        optimizer.zero_grad()\n",
        "        progress_bar.update(1)\n",
        "        writer.add_scalar(\"training_loss\", loss.item(), current_steps)\n",
        "\n",
        "        y_pred = torch.argmax(outputs.logits, dim=1).tolist()\n",
        "        y_true = batch[\"labels\"].tolist()\n",
        "\n",
        "        current_steps += 1\n",
        "\n",
        "        if current_steps % VALIDATION_STEP == 0 and current_steps > 0:\n",
        "            print(\"Start validation\")\n",
        "            probs = get_predicted_probs(model, eval_dataloader, device)\n",
        "\n",
        "            val_results = evaluate_retrieval(\n",
        "                probs=probs,\n",
        "                df_evidences=dev_evidences,\n",
        "                ground_truths=DEV_GT,\n",
        "                top_n=TOP_N,\n",
        "            )\n",
        "            print(val_results)\n",
        "\n",
        "            # log each metric separately to TensorBoard\n",
        "            for metric_name, metric_value in val_results.items():\n",
        "                writer.add_scalar(\n",
        "                    f\"dev_{metric_name}\",\n",
        "                    metric_value,\n",
        "                    current_steps,\n",
        "                )\n",
        "\n",
        "            save_checkpoint(model, CKPT_DIR, current_steps)\n",
        "\n",
        "print(\"Finished training!\")"
      ]
    },
    {
      "cell_type": "code",
      "execution_count": 34,
      "metadata": {},
      "outputs": [
        {
          "data": {
            "text/plain": [
              "Reusing TensorBoard on port 6006 (pid 17672), started 0:15:52 ago. (Use '!kill 17672' to kill it.)"
            ]
          },
          "metadata": {},
          "output_type": "display_data"
        },
        {
          "data": {
            "text/html": [
              "\n",
              "      <iframe id=\"tensorboard-frame-cc81d59ee39cb06f\" width=\"100%\" height=\"800\" frameborder=\"0\">\n",
              "      </iframe>\n",
              "      <script>\n",
              "        (function() {\n",
              "          const frame = document.getElementById(\"tensorboard-frame-cc81d59ee39cb06f\");\n",
              "          const url = new URL(\"http://localhost\");\n",
              "          const port = 6006;\n",
              "          if (port) {\n",
              "            url.port = port;\n",
              "          }\n",
              "          frame.src = url;\n",
              "        })();\n",
              "      </script>\n",
              "    "
            ],
            "text/plain": [
              "<IPython.core.display.HTML object>"
            ]
          },
          "metadata": {},
          "output_type": "display_data"
        }
      ],
      "source": [
        "%load_ext tensorboard\n",
        "%tensorboard --logdir logs"
      ]
    },
    {
      "attachments": {},
      "cell_type": "markdown",
      "metadata": {},
      "source": [
        "Validation part (15 mins)"
      ]
    },
    {
      "cell_type": "code",
      "execution_count": 37,
      "metadata": {},
      "outputs": [],
      "source": [
        "torch.cuda.empty_cache()"
      ]
    },
    {
      "cell_type": "code",
      "execution_count": 38,
      "metadata": {
        "id": "QS1Ei5DAIO5p"
      },
      "outputs": [
        {
          "name": "stdout",
          "output_type": "stream",
          "text": [
            "Start final evaluations and write prediction files.\n",
            "Start calculating training scores\n"
          ]
        },
        {
          "data": {
            "application/vnd.jupyter.widget-view+json": {
              "model_id": "0974c9cd7d5244a5888a710242f38313",
              "version_major": 2,
              "version_minor": 0
            },
            "text/plain": [
              "  0%|          | 0/748 [00:00<?, ?it/s]"
            ]
          },
          "metadata": {},
          "output_type": "display_data"
        },
        {
          "name": "stdout",
          "output_type": "stream",
          "text": [
            "Training scores => {'F1 score': 0.4020991641337401, 'Precision': 0.26822916666666796, 'Recall': 0.802734375}\n",
            "Start validation\n"
          ]
        },
        {
          "data": {
            "application/vnd.jupyter.widget-view+json": {
              "model_id": "1c5b6106ab8047bea56693eae5236abd",
              "version_major": 2,
              "version_minor": 0
            },
            "text/plain": [
              "  0%|          | 0/189 [00:00<?, ?it/s]"
            ]
          },
          "metadata": {},
          "output_type": "display_data"
        },
        {
          "name": "stdout",
          "output_type": "stream",
          "text": [
            "Validation scores => {'F1 score': 0.38408393111995776, 'Precision': 0.25414062499999984, 'Recall': 0.7859375}\n"
          ]
        }
      ],
      "source": [
        "import json\n",
        "ckpt_name = \"model.200.pt\"  #@param {type:\"string\"}\n",
        "model = load_model(model, ckpt_name, CKPT_DIR)\n",
        "print(\"Start final evaluations and write prediction files.\")\n",
        "\n",
        "train_evidences = pair_with_wiki_sentences_eval(\n",
        "    mapping=mapping,\n",
        "    df=pd.DataFrame(TRAIN_GT),\n",
        ")\n",
        "train_set = SentRetrievalBERTDataset(train_evidences, tokenizer)\n",
        "train_dataloader = DataLoader(train_set, batch_size=TEST_BATCH_SIZE)\n",
        "\n",
        "print(\"Start calculating training scores\")\n",
        "probs = get_predicted_probs(model, train_dataloader, device)\n",
        "train_results = evaluate_retrieval(\n",
        "    probs=probs,\n",
        "    df_evidences=train_evidences,\n",
        "    ground_truths=TRAIN_GT,\n",
        "    top_n=TOP_N,\n",
        "    save_name=f\"train_doc5sent{TOP_N}.jsonl\",\n",
        ")\n",
        "print(f\"Training scores => {train_results}\")\n",
        "\n",
        "print(\"Start validation\")\n",
        "probs = get_predicted_probs(model, eval_dataloader, device)\n",
        "val_results = evaluate_retrieval(\n",
        "    probs=probs,\n",
        "    df_evidences=dev_evidences,\n",
        "    ground_truths=DEV_GT,\n",
        "    top_n=TOP_N,\n",
        "    save_name=f\"dev_doc5sent{TOP_N}.jsonl\",\n",
        ")\n",
        "\n",
        "print(f\"Validation scores => {val_results}\")"
      ]
    },
    {
      "attachments": {},
      "cell_type": "markdown",
      "metadata": {},
      "source": [
        "Load the model we want."
      ]
    },
    {
      "cell_type": "code",
      "execution_count": 29,
      "metadata": {},
      "outputs": [],
      "source": [
        "ckpt_name = \"model.200.pt\"\n",
        "model = load_model(model, ckpt_name, CKPT_DIR)"
      ]
    },
    {
      "attachments": {},
      "cell_type": "markdown",
      "metadata": {},
      "source": [
        "### Step 4. Check on our test data\n",
        "(5 min)"
      ]
    },
    {
      "cell_type": "code",
      "execution_count": 30,
      "metadata": {
        "id": "lVFusJqjmex-"
      },
      "outputs": [
        {
          "name": "stdout",
          "output_type": "stream",
          "text": [
            "Start predicting the test data\n"
          ]
        },
        {
          "data": {
            "application/vnd.jupyter.widget-view+json": {
              "model_id": "d34e956e76c0459bb222306eb460266b",
              "version_major": 2,
              "version_minor": 0
            },
            "text/plain": [
              "  0%|          | 0/259 [00:00<?, ?it/s]"
            ]
          },
          "metadata": {},
          "output_type": "display_data"
        }
      ],
      "source": [
        "test_data = load_json(\"data/test_doc5.jsonl\")\n",
        "\n",
        "test_evidences = pair_with_wiki_sentences_eval(\n",
        "    mapping,\n",
        "    pd.DataFrame(test_data),\n",
        "    is_testset=True,\n",
        ")\n",
        "test_set = SentRetrievalBERTDataset(test_evidences, tokenizer)\n",
        "test_dataloader = DataLoader(test_set, batch_size=TEST_BATCH_SIZE)\n",
        "\n",
        "print(\"Start predicting the test data\")\n",
        "probs = get_predicted_probs(model, test_dataloader, device)\n",
        "evaluate_retrieval(\n",
        "    probs=probs,\n",
        "    df_evidences=test_evidences,\n",
        "    ground_truths=test_data,\n",
        "    top_n=TOP_N,\n",
        "    cal_scores=False,\n",
        "    save_name=f\"test_doc5sent{TOP_N}.jsonl\",\n",
        ")"
      ]
    },
    {
      "cell_type": "code",
      "execution_count": null,
      "metadata": {},
      "outputs": [],
      "source": [
        "del wiki_pages"
      ]
    },
    {
      "attachments": {},
      "cell_type": "markdown",
      "metadata": {
        "id": "lGzl8a5JteT7"
      },
      "source": [
        "notebook3\n",
        "## PART 3. Claim verification"
      ]
    },
    {
      "attachments": {},
      "cell_type": "markdown",
      "metadata": {},
      "source": [
        "import libs"
      ]
    },
    {
      "cell_type": "code",
      "execution_count": 1,
      "metadata": {
        "id": "tgA1vcUyzjlx"
      },
      "outputs": [],
      "source": [
        "import pickle\n",
        "from pathlib import Path\n",
        "from typing import Dict, Tuple\n",
        "\n",
        "import numpy as np\n",
        "import pandas as pd\n",
        "from pandarallel import pandarallel\n",
        "from tqdm.auto import tqdm\n",
        "\n",
        "import torch\n",
        "from sklearn.metrics import accuracy_score\n",
        "from torch.optim import AdamW\n",
        "from torch.utils.data import DataLoader\n",
        "from torch.utils.tensorboard import SummaryWriter\n",
        "from transformers import (\n",
        "    AutoModelForSequenceClassification,\n",
        "    AutoTokenizer,\n",
        "    get_scheduler,\n",
        ")\n",
        "\n",
        "from dataset import BERTDataset\n",
        "from utils import (\n",
        "    generate_evidence_to_wiki_pages_mapping,\n",
        "    jsonl_dir_to_df,\n",
        "    load_json,\n",
        "    load_model,\n",
        "    save_checkpoint,\n",
        "    set_lr_scheduler,\n",
        ")\n",
        "\n",
        "pandarallel.initialize(progress_bar=True, verbose=0, nb_workers=4)"
      ]
    },
    {
      "attachments": {},
      "cell_type": "markdown",
      "metadata": {},
      "source": [
        "Global variables"
      ]
    },
    {
      "cell_type": "code",
      "execution_count": 2,
      "metadata": {},
      "outputs": [],
      "source": [
        "LABEL2ID: Dict[str, int] = {\n",
        "    \"supports\": 0,\n",
        "    \"refutes\": 1,\n",
        "    \"NOT ENOUGH INFO\": 2,\n",
        "}\n",
        "ID2LABEL: Dict[int, str] = {v: k for k, v in LABEL2ID.items()}\n",
        "\n",
        "TRAIN_DATA = load_json(\"data/train_doc5sent5.jsonl\")\n",
        "DEV_DATA = load_json(\"data/dev_doc5sent5.jsonl\")\n",
        "\n",
        "TRAIN_PKL_FILE = Path(\"data/train_doc5sent5.pkl\")\n",
        "DEV_PKL_FILE = Path(\"data/dev_doc5sent5.pkl\")"
      ]
    },
    {
      "attachments": {},
      "cell_type": "markdown",
      "metadata": {},
      "source": [
        "Preload wiki database (same as part 2.)"
      ]
    },
    {
      "cell_type": "code",
      "execution_count": 3,
      "metadata": {},
      "outputs": [
        {
          "name": "stdout",
          "output_type": "stream",
          "text": [
            "Reading and concatenating jsonl files in data/wiki-pages\n",
            "Generate parse mapping\n"
          ]
        },
        {
          "data": {
            "application/vnd.jupyter.widget-view+json": {
              "model_id": "b9e93eb6c1054d0492c4ade114b3979d",
              "version_major": 2,
              "version_minor": 0
            },
            "text/plain": [
              "VBox(children=(HBox(children=(IntProgress(value=0, description='0.00%', max=296938), Label(value='0 / 296938')…"
            ]
          },
          "metadata": {},
          "output_type": "display_data"
        },
        {
          "name": "stdout",
          "output_type": "stream",
          "text": [
            "Transform to id to evidence_map mapping\n"
          ]
        }
      ],
      "source": [
        "wiki_pages = jsonl_dir_to_df(\"data/wiki-pages\")\n",
        "mapping = generate_evidence_to_wiki_pages_mapping(wiki_pages,)\n",
        "del wiki_pages"
      ]
    },
    {
      "attachments": {},
      "cell_type": "markdown",
      "metadata": {},
      "source": [
        "### Helper function"
      ]
    },
    {
      "attachments": {},
      "cell_type": "markdown",
      "metadata": {},
      "source": [
        "AICUP dataset with top-k evidence sentences."
      ]
    },
    {
      "cell_type": "code",
      "execution_count": 4,
      "metadata": {},
      "outputs": [],
      "source": [
        "class AicupTopkEvidenceBERTDataset(BERTDataset):\n",
        "    \"\"\"AICUP dataset with top-k evidence sentences.\"\"\"\n",
        "\n",
        "    def __getitem__(\n",
        "        self,\n",
        "        idx: int,\n",
        "        **kwargs,\n",
        "    ) -> Tuple[Dict[str, torch.Tensor], int]:\n",
        "        item = self.data.iloc[idx]\n",
        "        claim = item[\"claim\"]\n",
        "        evidence = item[\"evidence_list\"]\n",
        "\n",
        "        # In case there are less than topk evidence sentences\n",
        "        pad = [\"[PAD]\"] * (self.topk - len(evidence))\n",
        "        evidence += pad\n",
        "        concat_claim_evidence = \" [SEP] \".join([*claim, *evidence])\n",
        "\n",
        "        concat = self.tokenizer(\n",
        "            concat_claim_evidence,\n",
        "            padding=\"max_length\",\n",
        "            max_length=self.max_length,\n",
        "            truncation=True,\n",
        "        )\n",
        "        label = LABEL2ID[item[\"label\"]] if \"label\" in item else -1\n",
        "        concat_ten = {k: torch.tensor(v) for k, v in concat.items()}\n",
        "\n",
        "        if \"label\" in item:\n",
        "            concat_ten[\"labels\"] = torch.tensor(label)\n",
        "\n",
        "        return concat_ten"
      ]
    },
    {
      "attachments": {},
      "cell_type": "markdown",
      "metadata": {},
      "source": [
        "Evaluation function"
      ]
    },
    {
      "cell_type": "code",
      "execution_count": 5,
      "metadata": {},
      "outputs": [],
      "source": [
        "def run_evaluation(model: torch.nn.Module, dataloader: DataLoader, device):\n",
        "    model.eval()\n",
        "\n",
        "    loss = 0\n",
        "    y_true = []\n",
        "    y_pred = []\n",
        "    with torch.no_grad():\n",
        "        for batch in tqdm(dataloader):\n",
        "            y_true.extend(batch[\"labels\"].tolist())\n",
        "\n",
        "            batch = {k: v.to(device) for k, v in batch.items()}\n",
        "            outputs = model(**batch)\n",
        "            loss += outputs.loss.item()\n",
        "            logits = outputs.logits\n",
        "            y_pred.extend(torch.argmax(logits, dim=1).tolist())\n",
        "\n",
        "    acc = accuracy_score(y_true, y_pred)\n",
        "\n",
        "    return {\"val_loss\": loss / len(dataloader), \"val_acc\": acc}"
      ]
    },
    {
      "attachments": {},
      "cell_type": "markdown",
      "metadata": {},
      "source": [
        "Prediction"
      ]
    },
    {
      "cell_type": "code",
      "execution_count": 6,
      "metadata": {},
      "outputs": [],
      "source": [
        "def run_predict(model: torch.nn.Module, test_dl: DataLoader, device) -> list:\n",
        "    model.eval()\n",
        "\n",
        "    preds = []\n",
        "    for batch in tqdm(test_dl,\n",
        "                      total=len(test_dl),\n",
        "                      leave=False,\n",
        "                      desc=\"Predicting\"):\n",
        "        batch = {k: v.to(device) for k, v in batch.items()}\n",
        "        pred = model(**batch).logits\n",
        "        pred = torch.argmax(pred, dim=1)\n",
        "        preds.extend(pred.tolist())\n",
        "    return preds"
      ]
    },
    {
      "attachments": {},
      "cell_type": "markdown",
      "metadata": {},
      "source": [
        "### Main function"
      ]
    },
    {
      "cell_type": "code",
      "execution_count": 7,
      "metadata": {},
      "outputs": [],
      "source": [
        "def join_with_topk_evidence(\n",
        "    df: pd.DataFrame,\n",
        "    mapping: dict,\n",
        "    mode: str = \"train\",\n",
        "    topk: int = 5,\n",
        ") -> pd.DataFrame:\n",
        "    \"\"\"join_with_topk_evidence join the dataset with topk evidence.\n",
        "\n",
        "    Note:\n",
        "        After extraction, the dataset will be like this:\n",
        "               id     label         claim                           evidence            evidence_list\n",
        "        0    4604  supports       高行健...     [[[3393, 3552, 高行健, 0], [...  [高行健 （ ）江西赣州出...\n",
        "        ..    ...       ...            ...                                ...                     ...\n",
        "        945  2095  supports       美國總...  [[[1879, 2032, 吉米·卡特, 16], [...  [卸任后 ， 卡特積極參與...\n",
        "        停各种战争及人質危機的斡旋工作 ， 反对美国小布什政府攻打伊拉克...\n",
        "\n",
        "        [946 rows x 5 columns]\n",
        "\n",
        "    Args:\n",
        "        df (pd.DataFrame): The dataset with evidence.\n",
        "        wiki_pages (pd.DataFrame): The wiki pages dataframe\n",
        "        topk (int, optional): The topk evidence. Defaults to 5.\n",
        "        cache(Union[Path, str], optional): The cache file path. Defaults to None.\n",
        "            If cache is None, return the result directly.\n",
        "\n",
        "    Returns:\n",
        "        pd.DataFrame: The dataset with topk evidence_list.\n",
        "            The `evidence_list` column will be: List[str]\n",
        "    \"\"\"\n",
        "\n",
        "    # format evidence column to List[List[Tuple[str, str, str, str]]]\n",
        "    if \"evidence\" in df.columns:\n",
        "        df[\"evidence\"] = df[\"evidence\"].parallel_map(\n",
        "            lambda x: [[x]] if not isinstance(x[0], list) else [x]\n",
        "            if not isinstance(x[0][0], list) else x)\n",
        "\n",
        "    print(f\"Extracting evidence_list for the {mode} mode ...\")\n",
        "    if mode == \"eval\":\n",
        "        # extract evidence\n",
        "        df[\"evidence_list\"] = df[\"predicted_evidence\"].parallel_map(lambda x: [\n",
        "            mapping.get(evi_id, {}).get(str(evi_idx), \"\")\n",
        "            for evi_id, evi_idx in x  # for each evidence list\n",
        "        ][:topk] if isinstance(x, list) else [])\n",
        "        print(df[\"evidence_list\"][:5])\n",
        "    else:\n",
        "        # extract evidence\n",
        "        df[\"evidence_list\"] = df[\"evidence\"].parallel_map(lambda x: [\n",
        "            \" \".join([  # join evidence\n",
        "                mapping.get(evi_id, {}).get(str(evi_idx), \"\")\n",
        "                for _, _, evi_id, evi_idx in evi_list\n",
        "            ]) if isinstance(evi_list, list) else \"\"\n",
        "            for evi_list in x  # for each evidence list\n",
        "        ][:1] if isinstance(x, list) else [])\n",
        "\n",
        "    return df"
      ]
    },
    {
      "attachments": {},
      "cell_type": "markdown",
      "metadata": {},
      "source": [
        "### Step 1. Setup training environment"
      ]
    },
    {
      "attachments": {},
      "cell_type": "markdown",
      "metadata": {},
      "source": [
        "Hyperparams"
      ]
    },
    {
      "cell_type": "code",
      "execution_count": 8,
      "metadata": {},
      "outputs": [],
      "source": [
        "#@title  { display-mode: \"form\" }\n",
        "\n",
        "MODEL_NAME = \"bert-base-chinese\"  #@param {type:\"string\"}\n",
        "TRAIN_BATCH_SIZE = 16  #@param {type:\"integer\"}\n",
        "TEST_BATCH_SIZE = 32  #@param {type:\"integer\"}\n",
        "SEED = 42  #@param {type:\"integer\"}\n",
        "LR = 7e-5  #@param {type:\"number\"}\n",
        "NUM_EPOCHS = 20  #@param {type:\"integer\"}\n",
        "MAX_SEQ_LEN = 256  #@param {type:\"integer\"}\n",
        "EVIDENCE_TOPK = 5  #@param {type:\"integer\"}\n",
        "VALIDATION_STEP = 25  #@param {type:\"integer\"}\n"
      ]
    },
    {
      "attachments": {},
      "cell_type": "markdown",
      "metadata": {},
      "source": [
        "Experiment Directory"
      ]
    },
    {
      "cell_type": "code",
      "execution_count": 9,
      "metadata": {},
      "outputs": [],
      "source": [
        "OUTPUT_FILENAME = \"submission.jsonl\"\n",
        "\n",
        "EXP_DIR = f\"claim_verification/e{NUM_EPOCHS}_bs{TRAIN_BATCH_SIZE}_\" + f\"{LR}_top{EVIDENCE_TOPK}\"\n",
        "LOG_DIR = \"logs/\" + EXP_DIR\n",
        "CKPT_DIR = \"checkpoints/\" + EXP_DIR\n",
        "\n",
        "if not Path(LOG_DIR).exists():\n",
        "    Path(LOG_DIR).mkdir(parents=True)\n",
        "\n",
        "if not Path(CKPT_DIR).exists():\n",
        "    Path(CKPT_DIR).mkdir(parents=True)"
      ]
    },
    {
      "attachments": {},
      "cell_type": "markdown",
      "metadata": {},
      "source": [
        "### Step 2. Concat claim and evidences\n",
        "join topk evidence"
      ]
    },
    {
      "cell_type": "code",
      "execution_count": 15,
      "metadata": {},
      "outputs": [
        {
          "data": {
            "application/vnd.jupyter.widget-view+json": {
              "model_id": "6865c1c4d15e4d1f8b62c568fa603b13",
              "version_major": 2,
              "version_minor": 0
            },
            "text/plain": [
              "VBox(children=(HBox(children=(IntProgress(value=0, description='0.00%', max=794), Label(value='0 / 794'))), HB…"
            ]
          },
          "metadata": {},
          "output_type": "display_data"
        },
        {
          "name": "stdout",
          "output_type": "stream",
          "text": [
            "Extracting evidence_list for the train mode ...\n"
          ]
        },
        {
          "data": {
            "application/vnd.jupyter.widget-view+json": {
              "model_id": "cc3817209db64e13bfb89377bcae4209",
              "version_major": 2,
              "version_minor": 0
            },
            "text/plain": [
              "VBox(children=(HBox(children=(IntProgress(value=0, description='0.00%', max=794), Label(value='0 / 794'))), HB…"
            ]
          },
          "metadata": {},
          "output_type": "display_data"
        }
      ],
      "source": [
        "if not TRAIN_PKL_FILE.exists():\n",
        "    train_df = join_with_topk_evidence(\n",
        "        pd.DataFrame(TRAIN_DATA),\n",
        "        mapping,\n",
        "        topk=EVIDENCE_TOPK,\n",
        "    )\n",
        "    train_df.to_pickle(TRAIN_PKL_FILE, protocol=4)\n",
        "else:\n",
        "    with open(TRAIN_PKL_FILE, \"rb\") as f:\n",
        "        train_df = pickle.load(f)\n",
        "\n",
        "if not DEV_PKL_FILE.exists():\n",
        "    dev_df = join_with_topk_evidence(\n",
        "        pd.DataFrame(DEV_DATA),\n",
        "        mapping,\n",
        "        mode=\"eval\",\n",
        "        topk=EVIDENCE_TOPK,\n",
        "    )\n",
        "    dev_df.to_pickle(DEV_PKL_FILE, protocol=4)\n",
        "else:\n",
        "    with open(DEV_PKL_FILE, \"rb\") as f:\n",
        "        dev_df = pickle.load(f)"
      ]
    },
    {
      "attachments": {},
      "cell_type": "markdown",
      "metadata": {},
      "source": [
        "### Step 3. Training"
      ]
    },
    {
      "attachments": {},
      "cell_type": "markdown",
      "metadata": {},
      "source": [
        "Prevent CUDA out of memory"
      ]
    },
    {
      "cell_type": "code",
      "execution_count": 16,
      "metadata": {},
      "outputs": [],
      "source": [
        "torch.cuda.empty_cache()"
      ]
    },
    {
      "cell_type": "code",
      "execution_count": 17,
      "metadata": {
        "id": "O0rVk3990DlD"
      },
      "outputs": [],
      "source": [
        "tokenizer = AutoTokenizer.from_pretrained(MODEL_NAME)\n",
        "\n",
        "train_dataset = AicupTopkEvidenceBERTDataset(\n",
        "    train_df,\n",
        "    tokenizer=tokenizer,\n",
        "    max_length=MAX_SEQ_LEN,\n",
        ")\n",
        "val_dataset = AicupTopkEvidenceBERTDataset(\n",
        "    dev_df,\n",
        "    tokenizer=tokenizer,\n",
        "    max_length=MAX_SEQ_LEN,\n",
        ")\n",
        "\n",
        "train_dataloader = DataLoader(\n",
        "    train_dataset,\n",
        "    shuffle=True,\n",
        "    batch_size=TRAIN_BATCH_SIZE,\n",
        "    num_workers=0,\n",
        ")\n",
        "eval_dataloader = DataLoader(val_dataset, batch_size=TEST_BATCH_SIZE, num_workers=0,)"
      ]
    },
    {
      "cell_type": "code",
      "execution_count": 18,
      "metadata": {
        "id": "CzMgs-Zs3sTN"
      },
      "outputs": [
        {
          "name": "stderr",
          "output_type": "stream",
          "text": [
            "Some weights of the model checkpoint at bert-base-chinese were not used when initializing BertForSequenceClassification: ['cls.predictions.bias', 'cls.predictions.transform.dense.bias', 'cls.predictions.decoder.weight', 'cls.predictions.transform.dense.weight', 'cls.seq_relationship.bias', 'cls.seq_relationship.weight', 'cls.predictions.transform.LayerNorm.bias', 'cls.predictions.transform.LayerNorm.weight']\n",
            "- This IS expected if you are initializing BertForSequenceClassification from the checkpoint of a model trained on another task or with another architecture (e.g. initializing a BertForSequenceClassification model from a BertForPreTraining model).\n",
            "- This IS NOT expected if you are initializing BertForSequenceClassification from the checkpoint of a model that you expect to be exactly identical (initializing a BertForSequenceClassification model from a BertForSequenceClassification model).\n",
            "Some weights of BertForSequenceClassification were not initialized from the model checkpoint at bert-base-chinese and are newly initialized: ['classifier.weight', 'classifier.bias']\n",
            "You should probably TRAIN this model on a down-stream task to be able to use it for predictions and inference.\n"
          ]
        }
      ],
      "source": [
        "device = torch.device(\"cuda\") if torch.cuda.is_available() else torch.device(\"cpu\")\n",
        "# device = torch.device(\"cpu\")\n",
        "\n",
        "model = AutoModelForSequenceClassification.from_pretrained(\n",
        "    MODEL_NAME,\n",
        "    num_labels=len(LABEL2ID),\n",
        ")\n",
        "torch.cuda.empty_cache()\n",
        "model.to(device)\n",
        "optimizer = AdamW(model.parameters(), lr=LR)\n",
        "num_training_steps = NUM_EPOCHS * len(train_dataloader)\n",
        "lr_scheduler = set_lr_scheduler(optimizer, num_training_steps)\n",
        "\n",
        "writer = SummaryWriter(LOG_DIR)"
      ]
    },
    {
      "attachments": {},
      "cell_type": "markdown",
      "metadata": {},
      "source": [
        "Training (30 mins)"
      ]
    },
    {
      "cell_type": "code",
      "execution_count": 113,
      "metadata": {
        "id": "_aqMjEek3wmu"
      },
      "outputs": [
        {
          "data": {
            "application/vnd.jupyter.widget-view+json": {
              "model_id": "c334f0cb02ff4063b9a5476587788aad",
              "version_major": 2,
              "version_minor": 0
            },
            "text/plain": [
              "  0%|          | 0/3960 [00:00<?, ?it/s]"
            ]
          },
          "metadata": {},
          "output_type": "display_data"
        },
        {
          "name": "stdout",
          "output_type": "stream",
          "text": [
            "Start validation: current_steps=25, epoch=0\n"
          ]
        },
        {
          "data": {
            "application/vnd.jupyter.widget-view+json": {
              "model_id": "28550231e7df4be5b5b7c3b895e6b290",
              "version_major": 2,
              "version_minor": 0
            },
            "text/plain": [
              "  0%|          | 0/25 [00:00<?, ?it/s]"
            ]
          },
          "metadata": {},
          "output_type": "display_data"
        },
        {
          "name": "stdout",
          "output_type": "stream",
          "text": [
            "val_loss: 1.0586568212509155\n",
            "val_acc: 0.4005069708491762\n",
            "Start validation: current_steps=50, epoch=0\n"
          ]
        },
        {
          "data": {
            "application/vnd.jupyter.widget-view+json": {
              "model_id": "a76bab188a3c44308d6d6740fb67a057",
              "version_major": 2,
              "version_minor": 0
            },
            "text/plain": [
              "  0%|          | 0/25 [00:00<?, ?it/s]"
            ]
          },
          "metadata": {},
          "output_type": "display_data"
        },
        {
          "name": "stdout",
          "output_type": "stream",
          "text": [
            "val_loss: 1.0530587577819823\n",
            "val_acc: 0.4055766793409379\n",
            "Start validation: current_steps=75, epoch=0\n"
          ]
        },
        {
          "data": {
            "application/vnd.jupyter.widget-view+json": {
              "model_id": "314d800b7a9541fcabd7cbc3814783cc",
              "version_major": 2,
              "version_minor": 0
            },
            "text/plain": [
              "  0%|          | 0/25 [00:00<?, ?it/s]"
            ]
          },
          "metadata": {},
          "output_type": "display_data"
        },
        {
          "name": "stdout",
          "output_type": "stream",
          "text": [
            "val_loss: 1.0530607318878173\n",
            "val_acc: 0.4055766793409379\n",
            "Start validation: current_steps=100, epoch=0\n"
          ]
        },
        {
          "data": {
            "application/vnd.jupyter.widget-view+json": {
              "model_id": "fc8e33e6a754473a944f1e83273f4ec1",
              "version_major": 2,
              "version_minor": 0
            },
            "text/plain": [
              "  0%|          | 0/25 [00:00<?, ?it/s]"
            ]
          },
          "metadata": {},
          "output_type": "display_data"
        },
        {
          "name": "stdout",
          "output_type": "stream",
          "text": [
            "val_loss: 1.0511259865760803\n",
            "val_acc: 0.4055766793409379\n",
            "Start validation: current_steps=125, epoch=0\n"
          ]
        },
        {
          "data": {
            "application/vnd.jupyter.widget-view+json": {
              "model_id": "c9d781ebfb1f4a2e9d25130eb06ab36f",
              "version_major": 2,
              "version_minor": 0
            },
            "text/plain": [
              "  0%|          | 0/25 [00:00<?, ?it/s]"
            ]
          },
          "metadata": {},
          "output_type": "display_data"
        },
        {
          "name": "stdout",
          "output_type": "stream",
          "text": [
            "val_loss: 1.0520166015625\n",
            "val_acc: 0.4005069708491762\n",
            "Start validation: current_steps=150, epoch=0\n"
          ]
        },
        {
          "data": {
            "application/vnd.jupyter.widget-view+json": {
              "model_id": "0dc5eec3dbf24570831b598a3042f4ab",
              "version_major": 2,
              "version_minor": 0
            },
            "text/plain": [
              "  0%|          | 0/25 [00:00<?, ?it/s]"
            ]
          },
          "metadata": {},
          "output_type": "display_data"
        },
        {
          "name": "stdout",
          "output_type": "stream",
          "text": [
            "val_loss: 1.0510822820663452\n",
            "val_acc: 0.4055766793409379\n",
            "Start validation: current_steps=175, epoch=0\n"
          ]
        },
        {
          "data": {
            "application/vnd.jupyter.widget-view+json": {
              "model_id": "87dc514f1e324967805e28c80d083009",
              "version_major": 2,
              "version_minor": 0
            },
            "text/plain": [
              "  0%|          | 0/25 [00:00<?, ?it/s]"
            ]
          },
          "metadata": {},
          "output_type": "display_data"
        },
        {
          "name": "stdout",
          "output_type": "stream",
          "text": [
            "val_loss: 1.053131411075592\n",
            "val_acc: 0.4055766793409379\n",
            "Start validation: current_steps=200, epoch=1\n"
          ]
        },
        {
          "data": {
            "application/vnd.jupyter.widget-view+json": {
              "model_id": "20745e8d36dc46d89580a1fbc4f7abab",
              "version_major": 2,
              "version_minor": 0
            },
            "text/plain": [
              "  0%|          | 0/25 [00:00<?, ?it/s]"
            ]
          },
          "metadata": {},
          "output_type": "display_data"
        },
        {
          "name": "stdout",
          "output_type": "stream",
          "text": [
            "val_loss: 1.0550677824020385\n",
            "val_acc: 0.4055766793409379\n",
            "Start validation: current_steps=225, epoch=1\n"
          ]
        },
        {
          "data": {
            "application/vnd.jupyter.widget-view+json": {
              "model_id": "7aaf40abaf7048aeafea907727c90dbe",
              "version_major": 2,
              "version_minor": 0
            },
            "text/plain": [
              "  0%|          | 0/25 [00:00<?, ?it/s]"
            ]
          },
          "metadata": {},
          "output_type": "display_data"
        },
        {
          "name": "stdout",
          "output_type": "stream",
          "text": [
            "val_loss: 1.054353940486908\n",
            "val_acc: 0.4055766793409379\n",
            "Start validation: current_steps=250, epoch=1\n"
          ]
        },
        {
          "data": {
            "application/vnd.jupyter.widget-view+json": {
              "model_id": "7e41c6f5368042a0adbcf9c6d6ab5182",
              "version_major": 2,
              "version_minor": 0
            },
            "text/plain": [
              "  0%|          | 0/25 [00:00<?, ?it/s]"
            ]
          },
          "metadata": {},
          "output_type": "display_data"
        },
        {
          "name": "stdout",
          "output_type": "stream",
          "text": [
            "val_loss: 1.0548763990402221\n",
            "val_acc: 0.4005069708491762\n",
            "Start validation: current_steps=275, epoch=1\n"
          ]
        },
        {
          "data": {
            "application/vnd.jupyter.widget-view+json": {
              "model_id": "a16840d2d992478da4d6ad9e0cdd0ff2",
              "version_major": 2,
              "version_minor": 0
            },
            "text/plain": [
              "  0%|          | 0/25 [00:00<?, ?it/s]"
            ]
          },
          "metadata": {},
          "output_type": "display_data"
        },
        {
          "name": "stdout",
          "output_type": "stream",
          "text": [
            "val_loss: 1.056468813419342\n",
            "val_acc: 0.4055766793409379\n",
            "Start validation: current_steps=300, epoch=1\n"
          ]
        },
        {
          "data": {
            "application/vnd.jupyter.widget-view+json": {
              "model_id": "a9ebfc5a953f4a748c454d341bd7381e",
              "version_major": 2,
              "version_minor": 0
            },
            "text/plain": [
              "  0%|          | 0/25 [00:00<?, ?it/s]"
            ]
          },
          "metadata": {},
          "output_type": "display_data"
        },
        {
          "name": "stdout",
          "output_type": "stream",
          "text": [
            "val_loss: 1.0586045265197754\n",
            "val_acc: 0.4005069708491762\n",
            "Start validation: current_steps=325, epoch=1\n"
          ]
        },
        {
          "data": {
            "application/vnd.jupyter.widget-view+json": {
              "model_id": "fe84111500a74b06af3eb3cbb16ac520",
              "version_major": 2,
              "version_minor": 0
            },
            "text/plain": [
              "  0%|          | 0/25 [00:00<?, ?it/s]"
            ]
          },
          "metadata": {},
          "output_type": "display_data"
        },
        {
          "name": "stdout",
          "output_type": "stream",
          "text": [
            "val_loss: 1.0524008917808532\n",
            "val_acc: 0.4055766793409379\n",
            "Start validation: current_steps=350, epoch=1\n"
          ]
        },
        {
          "data": {
            "application/vnd.jupyter.widget-view+json": {
              "model_id": "9a03c6f10fd44220a36cc35859a4e167",
              "version_major": 2,
              "version_minor": 0
            },
            "text/plain": [
              "  0%|          | 0/25 [00:00<?, ?it/s]"
            ]
          },
          "metadata": {},
          "output_type": "display_data"
        },
        {
          "name": "stdout",
          "output_type": "stream",
          "text": [
            "val_loss: 1.0533544206619263\n",
            "val_acc: 0.4005069708491762\n",
            "Start validation: current_steps=375, epoch=1\n"
          ]
        },
        {
          "data": {
            "application/vnd.jupyter.widget-view+json": {
              "model_id": "604ed59ecac946bfa559f43b0eb4bc7f",
              "version_major": 2,
              "version_minor": 0
            },
            "text/plain": [
              "  0%|          | 0/25 [00:00<?, ?it/s]"
            ]
          },
          "metadata": {},
          "output_type": "display_data"
        },
        {
          "name": "stdout",
          "output_type": "stream",
          "text": [
            "val_loss: 1.0524596977233887\n",
            "val_acc: 0.4055766793409379\n",
            "Start validation: current_steps=400, epoch=2\n"
          ]
        },
        {
          "data": {
            "application/vnd.jupyter.widget-view+json": {
              "model_id": "93ec0c1093a541e894659ed75883c112",
              "version_major": 2,
              "version_minor": 0
            },
            "text/plain": [
              "  0%|          | 0/25 [00:00<?, ?it/s]"
            ]
          },
          "metadata": {},
          "output_type": "display_data"
        },
        {
          "name": "stdout",
          "output_type": "stream",
          "text": [
            "val_loss: 1.0509712743759154\n",
            "val_acc: 0.4055766793409379\n",
            "Start validation: current_steps=425, epoch=2\n"
          ]
        },
        {
          "data": {
            "application/vnd.jupyter.widget-view+json": {
              "model_id": "f9c83eb2433d4994b5de8a7195115285",
              "version_major": 2,
              "version_minor": 0
            },
            "text/plain": [
              "  0%|          | 0/25 [00:00<?, ?it/s]"
            ]
          },
          "metadata": {},
          "output_type": "display_data"
        },
        {
          "name": "stdout",
          "output_type": "stream",
          "text": [
            "val_loss: 1.054891767501831\n",
            "val_acc: 0.4055766793409379\n",
            "Start validation: current_steps=450, epoch=2\n"
          ]
        },
        {
          "data": {
            "application/vnd.jupyter.widget-view+json": {
              "model_id": "3242ca956c9344acacbfed617ad39a90",
              "version_major": 2,
              "version_minor": 0
            },
            "text/plain": [
              "  0%|          | 0/25 [00:00<?, ?it/s]"
            ]
          },
          "metadata": {},
          "output_type": "display_data"
        },
        {
          "name": "stdout",
          "output_type": "stream",
          "text": [
            "val_loss: 1.058493902683258\n",
            "val_acc: 0.4005069708491762\n",
            "Start validation: current_steps=475, epoch=2\n"
          ]
        },
        {
          "data": {
            "application/vnd.jupyter.widget-view+json": {
              "model_id": "fd39cf25ef4c428ebe35530ac0783c05",
              "version_major": 2,
              "version_minor": 0
            },
            "text/plain": [
              "  0%|          | 0/25 [00:00<?, ?it/s]"
            ]
          },
          "metadata": {},
          "output_type": "display_data"
        },
        {
          "name": "stdout",
          "output_type": "stream",
          "text": [
            "val_loss: 1.05332852602005\n",
            "val_acc: 0.4055766793409379\n",
            "Start validation: current_steps=500, epoch=2\n"
          ]
        },
        {
          "data": {
            "application/vnd.jupyter.widget-view+json": {
              "model_id": "a3e3df4264d7445b885e7fd575acadbb",
              "version_major": 2,
              "version_minor": 0
            },
            "text/plain": [
              "  0%|          | 0/25 [00:00<?, ?it/s]"
            ]
          },
          "metadata": {},
          "output_type": "display_data"
        },
        {
          "name": "stdout",
          "output_type": "stream",
          "text": [
            "val_loss: 1.0528052997589112\n",
            "val_acc: 0.4005069708491762\n",
            "Start validation: current_steps=525, epoch=2\n"
          ]
        },
        {
          "data": {
            "application/vnd.jupyter.widget-view+json": {
              "model_id": "1bec2f4fe4564a649427414d56ccf80e",
              "version_major": 2,
              "version_minor": 0
            },
            "text/plain": [
              "  0%|          | 0/25 [00:00<?, ?it/s]"
            ]
          },
          "metadata": {},
          "output_type": "display_data"
        },
        {
          "name": "stdout",
          "output_type": "stream",
          "text": [
            "val_loss: 1.0512285113334656\n",
            "val_acc: 0.4055766793409379\n",
            "Start validation: current_steps=550, epoch=2\n"
          ]
        },
        {
          "data": {
            "application/vnd.jupyter.widget-view+json": {
              "model_id": "c1b5196c49574d07ad7479c269312dbb",
              "version_major": 2,
              "version_minor": 0
            },
            "text/plain": [
              "  0%|          | 0/25 [00:00<?, ?it/s]"
            ]
          },
          "metadata": {},
          "output_type": "display_data"
        },
        {
          "name": "stdout",
          "output_type": "stream",
          "text": [
            "val_loss: 1.0565139174461364\n",
            "val_acc: 0.4005069708491762\n",
            "Start validation: current_steps=575, epoch=2\n"
          ]
        },
        {
          "data": {
            "application/vnd.jupyter.widget-view+json": {
              "model_id": "3b15312618b74e33b6733bd69cfe1993",
              "version_major": 2,
              "version_minor": 0
            },
            "text/plain": [
              "  0%|          | 0/25 [00:00<?, ?it/s]"
            ]
          },
          "metadata": {},
          "output_type": "display_data"
        },
        {
          "name": "stdout",
          "output_type": "stream",
          "text": [
            "val_loss: 1.0518564295768738\n",
            "val_acc: 0.4055766793409379\n",
            "Start validation: current_steps=600, epoch=3\n"
          ]
        },
        {
          "data": {
            "application/vnd.jupyter.widget-view+json": {
              "model_id": "da1ed40e3717416cbed3d2db0940fa1b",
              "version_major": 2,
              "version_minor": 0
            },
            "text/plain": [
              "  0%|          | 0/25 [00:00<?, ?it/s]"
            ]
          },
          "metadata": {},
          "output_type": "display_data"
        },
        {
          "name": "stdout",
          "output_type": "stream",
          "text": [
            "val_loss: 1.0597576808929443\n",
            "val_acc: 0.4055766793409379\n",
            "Start validation: current_steps=625, epoch=3\n"
          ]
        },
        {
          "data": {
            "application/vnd.jupyter.widget-view+json": {
              "model_id": "417881ee67a74dd28d55e939db05567d",
              "version_major": 2,
              "version_minor": 0
            },
            "text/plain": [
              "  0%|          | 0/25 [00:00<?, ?it/s]"
            ]
          },
          "metadata": {},
          "output_type": "display_data"
        },
        {
          "name": "stdout",
          "output_type": "stream",
          "text": [
            "val_loss: 1.0542137098312379\n",
            "val_acc: 0.4055766793409379\n",
            "Start validation: current_steps=650, epoch=3\n"
          ]
        },
        {
          "data": {
            "application/vnd.jupyter.widget-view+json": {
              "model_id": "86e12a176d7a4983b0e0a9c6f8f6c2f6",
              "version_major": 2,
              "version_minor": 0
            },
            "text/plain": [
              "  0%|          | 0/25 [00:00<?, ?it/s]"
            ]
          },
          "metadata": {},
          "output_type": "display_data"
        },
        {
          "name": "stdout",
          "output_type": "stream",
          "text": [
            "val_loss: 1.0513928866386413\n",
            "val_acc: 0.4005069708491762\n",
            "Start validation: current_steps=675, epoch=3\n"
          ]
        },
        {
          "data": {
            "application/vnd.jupyter.widget-view+json": {
              "model_id": "60ad2476d3214a39919a2958a7f4e390",
              "version_major": 2,
              "version_minor": 0
            },
            "text/plain": [
              "  0%|          | 0/25 [00:00<?, ?it/s]"
            ]
          },
          "metadata": {},
          "output_type": "display_data"
        },
        {
          "name": "stdout",
          "output_type": "stream",
          "text": [
            "val_loss: 1.0535266399383545\n",
            "val_acc: 0.4055766793409379\n",
            "Start validation: current_steps=700, epoch=3\n"
          ]
        },
        {
          "data": {
            "application/vnd.jupyter.widget-view+json": {
              "model_id": "de2afdaef456400dad2ee69ffed91db4",
              "version_major": 2,
              "version_minor": 0
            },
            "text/plain": [
              "  0%|          | 0/25 [00:00<?, ?it/s]"
            ]
          },
          "metadata": {},
          "output_type": "display_data"
        },
        {
          "name": "stdout",
          "output_type": "stream",
          "text": [
            "val_loss: 1.0517081141471862\n",
            "val_acc: 0.4055766793409379\n",
            "Start validation: current_steps=725, epoch=3\n"
          ]
        },
        {
          "data": {
            "application/vnd.jupyter.widget-view+json": {
              "model_id": "c76882863e194871a14920d14c578229",
              "version_major": 2,
              "version_minor": 0
            },
            "text/plain": [
              "  0%|          | 0/25 [00:00<?, ?it/s]"
            ]
          },
          "metadata": {},
          "output_type": "display_data"
        },
        {
          "name": "stdout",
          "output_type": "stream",
          "text": [
            "val_loss: 1.051801278591156\n",
            "val_acc: 0.4055766793409379\n",
            "Start validation: current_steps=750, epoch=3\n"
          ]
        },
        {
          "data": {
            "application/vnd.jupyter.widget-view+json": {
              "model_id": "4b8c2e7b90e5446f8ca3147d7820594c",
              "version_major": 2,
              "version_minor": 0
            },
            "text/plain": [
              "  0%|          | 0/25 [00:00<?, ?it/s]"
            ]
          },
          "metadata": {},
          "output_type": "display_data"
        },
        {
          "name": "stdout",
          "output_type": "stream",
          "text": [
            "val_loss: 1.0526907134056092\n",
            "val_acc: 0.4055766793409379\n",
            "Start validation: current_steps=775, epoch=3\n"
          ]
        },
        {
          "data": {
            "application/vnd.jupyter.widget-view+json": {
              "model_id": "7fcb674a72c64348ad478495fac5c271",
              "version_major": 2,
              "version_minor": 0
            },
            "text/plain": [
              "  0%|          | 0/25 [00:00<?, ?it/s]"
            ]
          },
          "metadata": {},
          "output_type": "display_data"
        },
        {
          "name": "stdout",
          "output_type": "stream",
          "text": [
            "val_loss: 1.054605734348297\n",
            "val_acc: 0.4005069708491762\n",
            "Start validation: current_steps=800, epoch=4\n"
          ]
        },
        {
          "data": {
            "application/vnd.jupyter.widget-view+json": {
              "model_id": "ce939d6d1b074000a597154878cfe656",
              "version_major": 2,
              "version_minor": 0
            },
            "text/plain": [
              "  0%|          | 0/25 [00:00<?, ?it/s]"
            ]
          },
          "metadata": {},
          "output_type": "display_data"
        },
        {
          "name": "stdout",
          "output_type": "stream",
          "text": [
            "val_loss: 1.0593572282791137\n",
            "val_acc: 0.4005069708491762\n",
            "Start validation: current_steps=825, epoch=4\n"
          ]
        },
        {
          "data": {
            "application/vnd.jupyter.widget-view+json": {
              "model_id": "3e385047c5034e24b75b6a794b03d3f9",
              "version_major": 2,
              "version_minor": 0
            },
            "text/plain": [
              "  0%|          | 0/25 [00:00<?, ?it/s]"
            ]
          },
          "metadata": {},
          "output_type": "display_data"
        },
        {
          "name": "stdout",
          "output_type": "stream",
          "text": [
            "val_loss: 1.0509924077987671\n",
            "val_acc: 0.4055766793409379\n",
            "Start validation: current_steps=850, epoch=4\n"
          ]
        },
        {
          "data": {
            "application/vnd.jupyter.widget-view+json": {
              "model_id": "4f967401dd524ff7ab91e4eb9c71a0a8",
              "version_major": 2,
              "version_minor": 0
            },
            "text/plain": [
              "  0%|          | 0/25 [00:00<?, ?it/s]"
            ]
          },
          "metadata": {},
          "output_type": "display_data"
        },
        {
          "name": "stdout",
          "output_type": "stream",
          "text": [
            "val_loss: 1.0516110920906068\n",
            "val_acc: 0.4055766793409379\n",
            "Start validation: current_steps=875, epoch=4\n"
          ]
        },
        {
          "data": {
            "application/vnd.jupyter.widget-view+json": {
              "model_id": "7df24b02d64b42f8a88988a6ce4e5bf7",
              "version_major": 2,
              "version_minor": 0
            },
            "text/plain": [
              "  0%|          | 0/25 [00:00<?, ?it/s]"
            ]
          },
          "metadata": {},
          "output_type": "display_data"
        },
        {
          "name": "stdout",
          "output_type": "stream",
          "text": [
            "val_loss: 1.0513437581062317\n",
            "val_acc: 0.4005069708491762\n",
            "Start validation: current_steps=900, epoch=4\n"
          ]
        },
        {
          "data": {
            "application/vnd.jupyter.widget-view+json": {
              "model_id": "1efa1861948c4b47b95da60b45564e59",
              "version_major": 2,
              "version_minor": 0
            },
            "text/plain": [
              "  0%|          | 0/25 [00:00<?, ?it/s]"
            ]
          },
          "metadata": {},
          "output_type": "display_data"
        },
        {
          "name": "stdout",
          "output_type": "stream",
          "text": [
            "val_loss: 1.0526290607452393\n",
            "val_acc: 0.4055766793409379\n",
            "Start validation: current_steps=925, epoch=4\n"
          ]
        },
        {
          "data": {
            "application/vnd.jupyter.widget-view+json": {
              "model_id": "393042e57b7e4c5fb3f228ceb3948ab8",
              "version_major": 2,
              "version_minor": 0
            },
            "text/plain": [
              "  0%|          | 0/25 [00:00<?, ?it/s]"
            ]
          },
          "metadata": {},
          "output_type": "display_data"
        },
        {
          "name": "stdout",
          "output_type": "stream",
          "text": [
            "val_loss: 1.0514304113388062\n",
            "val_acc: 0.4055766793409379\n",
            "Start validation: current_steps=950, epoch=4\n"
          ]
        },
        {
          "data": {
            "application/vnd.jupyter.widget-view+json": {
              "model_id": "c0e444b81200419e9a6d778f9a9edde4",
              "version_major": 2,
              "version_minor": 0
            },
            "text/plain": [
              "  0%|          | 0/25 [00:00<?, ?it/s]"
            ]
          },
          "metadata": {},
          "output_type": "display_data"
        },
        {
          "name": "stdout",
          "output_type": "stream",
          "text": [
            "val_loss: 1.054460289478302\n",
            "val_acc: 0.4005069708491762\n",
            "Start validation: current_steps=975, epoch=4\n"
          ]
        },
        {
          "data": {
            "application/vnd.jupyter.widget-view+json": {
              "model_id": "3e22b38067864282ab242ac3545fb27f",
              "version_major": 2,
              "version_minor": 0
            },
            "text/plain": [
              "  0%|          | 0/25 [00:00<?, ?it/s]"
            ]
          },
          "metadata": {},
          "output_type": "display_data"
        },
        {
          "name": "stdout",
          "output_type": "stream",
          "text": [
            "val_loss: 1.051000645160675\n",
            "val_acc: 0.4055766793409379\n",
            "Start validation: current_steps=1000, epoch=5\n"
          ]
        },
        {
          "data": {
            "application/vnd.jupyter.widget-view+json": {
              "model_id": "f0730e8e541d450399c40ad633bc2d1b",
              "version_major": 2,
              "version_minor": 0
            },
            "text/plain": [
              "  0%|          | 0/25 [00:00<?, ?it/s]"
            ]
          },
          "metadata": {},
          "output_type": "display_data"
        },
        {
          "name": "stdout",
          "output_type": "stream",
          "text": [
            "val_loss: 1.060796353816986\n",
            "val_acc: 0.4055766793409379\n",
            "Start validation: current_steps=1025, epoch=5\n"
          ]
        },
        {
          "data": {
            "application/vnd.jupyter.widget-view+json": {
              "model_id": "ba645bef00f14dc7b1be07e479a3d511",
              "version_major": 2,
              "version_minor": 0
            },
            "text/plain": [
              "  0%|          | 0/25 [00:00<?, ?it/s]"
            ]
          },
          "metadata": {},
          "output_type": "display_data"
        },
        {
          "name": "stdout",
          "output_type": "stream",
          "text": [
            "val_loss: 1.0517918252944947\n",
            "val_acc: 0.4005069708491762\n",
            "Start validation: current_steps=1050, epoch=5\n"
          ]
        },
        {
          "data": {
            "application/vnd.jupyter.widget-view+json": {
              "model_id": "b71a11df94444514969546daea480cef",
              "version_major": 2,
              "version_minor": 0
            },
            "text/plain": [
              "  0%|          | 0/25 [00:00<?, ?it/s]"
            ]
          },
          "metadata": {},
          "output_type": "display_data"
        },
        {
          "name": "stdout",
          "output_type": "stream",
          "text": [
            "val_loss: 1.0532822847366332\n",
            "val_acc: 0.4005069708491762\n",
            "Start validation: current_steps=1075, epoch=5\n"
          ]
        },
        {
          "data": {
            "application/vnd.jupyter.widget-view+json": {
              "model_id": "dc8dfa2f3f14496bbcf6403001948691",
              "version_major": 2,
              "version_minor": 0
            },
            "text/plain": [
              "  0%|          | 0/25 [00:00<?, ?it/s]"
            ]
          },
          "metadata": {},
          "output_type": "display_data"
        },
        {
          "name": "stdout",
          "output_type": "stream",
          "text": [
            "val_loss: 1.0510389709472656\n",
            "val_acc: 0.4005069708491762\n",
            "Start validation: current_steps=1100, epoch=5\n"
          ]
        },
        {
          "data": {
            "application/vnd.jupyter.widget-view+json": {
              "model_id": "a3968635445f4b8588ee860d97ebde2e",
              "version_major": 2,
              "version_minor": 0
            },
            "text/plain": [
              "  0%|          | 0/25 [00:00<?, ?it/s]"
            ]
          },
          "metadata": {},
          "output_type": "display_data"
        },
        {
          "name": "stdout",
          "output_type": "stream",
          "text": [
            "val_loss: 1.0543621492385864\n",
            "val_acc: 0.4005069708491762\n",
            "Start validation: current_steps=1125, epoch=5\n"
          ]
        },
        {
          "data": {
            "application/vnd.jupyter.widget-view+json": {
              "model_id": "fa78456a7d4140168f7ecd1fbc60deb3",
              "version_major": 2,
              "version_minor": 0
            },
            "text/plain": [
              "  0%|          | 0/25 [00:00<?, ?it/s]"
            ]
          },
          "metadata": {},
          "output_type": "display_data"
        },
        {
          "name": "stdout",
          "output_type": "stream",
          "text": [
            "val_loss: 1.0532384634017944\n",
            "val_acc: 0.4005069708491762\n",
            "Start validation: current_steps=1150, epoch=5\n"
          ]
        },
        {
          "data": {
            "application/vnd.jupyter.widget-view+json": {
              "model_id": "33799a3d72bb4a12b5c4f59b78ea02ce",
              "version_major": 2,
              "version_minor": 0
            },
            "text/plain": [
              "  0%|          | 0/25 [00:00<?, ?it/s]"
            ]
          },
          "metadata": {},
          "output_type": "display_data"
        },
        {
          "name": "stdout",
          "output_type": "stream",
          "text": [
            "val_loss: 1.0527436804771424\n",
            "val_acc: 0.4055766793409379\n",
            "Start validation: current_steps=1175, epoch=5\n"
          ]
        },
        {
          "data": {
            "application/vnd.jupyter.widget-view+json": {
              "model_id": "5189d5de2f2f4dfaa3aa7a3e9d94bf95",
              "version_major": 2,
              "version_minor": 0
            },
            "text/plain": [
              "  0%|          | 0/25 [00:00<?, ?it/s]"
            ]
          },
          "metadata": {},
          "output_type": "display_data"
        },
        {
          "name": "stdout",
          "output_type": "stream",
          "text": [
            "val_loss: 1.0614780712127685\n",
            "val_acc: 0.4055766793409379\n",
            "Start validation: current_steps=1200, epoch=6\n"
          ]
        },
        {
          "data": {
            "application/vnd.jupyter.widget-view+json": {
              "model_id": "2cd1196d380b45ae9715148c3ae0613b",
              "version_major": 2,
              "version_minor": 0
            },
            "text/plain": [
              "  0%|          | 0/25 [00:00<?, ?it/s]"
            ]
          },
          "metadata": {},
          "output_type": "display_data"
        },
        {
          "name": "stdout",
          "output_type": "stream",
          "text": [
            "val_loss: 1.0513241171836853\n",
            "val_acc: 0.4055766793409379\n",
            "Start validation: current_steps=1225, epoch=6\n"
          ]
        },
        {
          "data": {
            "application/vnd.jupyter.widget-view+json": {
              "model_id": "02b7b1f327e849b99d420137d38a1d87",
              "version_major": 2,
              "version_minor": 0
            },
            "text/plain": [
              "  0%|          | 0/25 [00:00<?, ?it/s]"
            ]
          },
          "metadata": {},
          "output_type": "display_data"
        },
        {
          "name": "stdout",
          "output_type": "stream",
          "text": [
            "val_loss: 1.0552083706855775\n",
            "val_acc: 0.4055766793409379\n",
            "Start validation: current_steps=1250, epoch=6\n"
          ]
        },
        {
          "data": {
            "application/vnd.jupyter.widget-view+json": {
              "model_id": "bd1500f9043e480f881989252eef735d",
              "version_major": 2,
              "version_minor": 0
            },
            "text/plain": [
              "  0%|          | 0/25 [00:00<?, ?it/s]"
            ]
          },
          "metadata": {},
          "output_type": "display_data"
        },
        {
          "name": "stdout",
          "output_type": "stream",
          "text": [
            "val_loss: 1.051074004173279\n",
            "val_acc: 0.4055766793409379\n",
            "Start validation: current_steps=1275, epoch=6\n"
          ]
        },
        {
          "data": {
            "application/vnd.jupyter.widget-view+json": {
              "model_id": "53a290aadee24b698c6e8d494bb9d666",
              "version_major": 2,
              "version_minor": 0
            },
            "text/plain": [
              "  0%|          | 0/25 [00:00<?, ?it/s]"
            ]
          },
          "metadata": {},
          "output_type": "display_data"
        },
        {
          "name": "stdout",
          "output_type": "stream",
          "text": [
            "val_loss: 1.051888916492462\n",
            "val_acc: 0.4005069708491762\n",
            "Start validation: current_steps=1300, epoch=6\n"
          ]
        },
        {
          "data": {
            "application/vnd.jupyter.widget-view+json": {
              "model_id": "d4958a35f2e8479bafab613932fdccd3",
              "version_major": 2,
              "version_minor": 0
            },
            "text/plain": [
              "  0%|          | 0/25 [00:00<?, ?it/s]"
            ]
          },
          "metadata": {},
          "output_type": "display_data"
        },
        {
          "name": "stdout",
          "output_type": "stream",
          "text": [
            "val_loss: 1.0519771575927734\n",
            "val_acc: 0.4055766793409379\n",
            "Start validation: current_steps=1325, epoch=6\n"
          ]
        },
        {
          "data": {
            "application/vnd.jupyter.widget-view+json": {
              "model_id": "cb3602fafd89401099594a07fc05730e",
              "version_major": 2,
              "version_minor": 0
            },
            "text/plain": [
              "  0%|          | 0/25 [00:00<?, ?it/s]"
            ]
          },
          "metadata": {},
          "output_type": "display_data"
        },
        {
          "name": "stdout",
          "output_type": "stream",
          "text": [
            "val_loss: 1.0533633494377137\n",
            "val_acc: 0.4055766793409379\n",
            "Start validation: current_steps=1350, epoch=6\n"
          ]
        },
        {
          "data": {
            "application/vnd.jupyter.widget-view+json": {
              "model_id": "6be691145fb44d7b9dda94eb5e6a2452",
              "version_major": 2,
              "version_minor": 0
            },
            "text/plain": [
              "  0%|          | 0/25 [00:00<?, ?it/s]"
            ]
          },
          "metadata": {},
          "output_type": "display_data"
        },
        {
          "name": "stdout",
          "output_type": "stream",
          "text": [
            "val_loss: 1.0523918294906616\n",
            "val_acc: 0.4005069708491762\n",
            "Start validation: current_steps=1375, epoch=6\n"
          ]
        },
        {
          "data": {
            "application/vnd.jupyter.widget-view+json": {
              "model_id": "c3b592bef375456d9f53df05ad10ad00",
              "version_major": 2,
              "version_minor": 0
            },
            "text/plain": [
              "  0%|          | 0/25 [00:00<?, ?it/s]"
            ]
          },
          "metadata": {},
          "output_type": "display_data"
        },
        {
          "name": "stdout",
          "output_type": "stream",
          "text": [
            "val_loss: 1.0516190457344055\n",
            "val_acc: 0.4005069708491762\n",
            "Start validation: current_steps=1400, epoch=7\n"
          ]
        },
        {
          "data": {
            "application/vnd.jupyter.widget-view+json": {
              "model_id": "1993d99b06794cb9bdfa87a0c08f4c87",
              "version_major": 2,
              "version_minor": 0
            },
            "text/plain": [
              "  0%|          | 0/25 [00:00<?, ?it/s]"
            ]
          },
          "metadata": {},
          "output_type": "display_data"
        },
        {
          "name": "stdout",
          "output_type": "stream",
          "text": [
            "val_loss: 1.0532483887672424\n",
            "val_acc: 0.4055766793409379\n",
            "Start validation: current_steps=1425, epoch=7\n"
          ]
        },
        {
          "data": {
            "application/vnd.jupyter.widget-view+json": {
              "model_id": "56c6821b002f481180f22510aa8ca944",
              "version_major": 2,
              "version_minor": 0
            },
            "text/plain": [
              "  0%|          | 0/25 [00:00<?, ?it/s]"
            ]
          },
          "metadata": {},
          "output_type": "display_data"
        },
        {
          "name": "stdout",
          "output_type": "stream",
          "text": [
            "val_loss: 1.0563092255592346\n",
            "val_acc: 0.4055766793409379\n",
            "Start validation: current_steps=1450, epoch=7\n"
          ]
        },
        {
          "data": {
            "application/vnd.jupyter.widget-view+json": {
              "model_id": "0f2f7a06c747498390f6c14329e3239b",
              "version_major": 2,
              "version_minor": 0
            },
            "text/plain": [
              "  0%|          | 0/25 [00:00<?, ?it/s]"
            ]
          },
          "metadata": {},
          "output_type": "display_data"
        },
        {
          "name": "stdout",
          "output_type": "stream",
          "text": [
            "val_loss: 1.0541542434692384\n",
            "val_acc: 0.4005069708491762\n",
            "Start validation: current_steps=1475, epoch=7\n"
          ]
        },
        {
          "data": {
            "application/vnd.jupyter.widget-view+json": {
              "model_id": "ceaf3477772a4673b22026d9f56b418e",
              "version_major": 2,
              "version_minor": 0
            },
            "text/plain": [
              "  0%|          | 0/25 [00:00<?, ?it/s]"
            ]
          },
          "metadata": {},
          "output_type": "display_data"
        },
        {
          "name": "stdout",
          "output_type": "stream",
          "text": [
            "val_loss: 1.051806035041809\n",
            "val_acc: 0.4055766793409379\n",
            "Start validation: current_steps=1500, epoch=7\n"
          ]
        },
        {
          "data": {
            "application/vnd.jupyter.widget-view+json": {
              "model_id": "c1f0f685709649fcacaa1c1ef636f1f1",
              "version_major": 2,
              "version_minor": 0
            },
            "text/plain": [
              "  0%|          | 0/25 [00:00<?, ?it/s]"
            ]
          },
          "metadata": {},
          "output_type": "display_data"
        },
        {
          "name": "stdout",
          "output_type": "stream",
          "text": [
            "val_loss: 1.0537846159934998\n",
            "val_acc: 0.4055766793409379\n",
            "Start validation: current_steps=1525, epoch=7\n"
          ]
        },
        {
          "data": {
            "application/vnd.jupyter.widget-view+json": {
              "model_id": "a36cce1f6bba49f39767bd6893e62b69",
              "version_major": 2,
              "version_minor": 0
            },
            "text/plain": [
              "  0%|          | 0/25 [00:00<?, ?it/s]"
            ]
          },
          "metadata": {},
          "output_type": "display_data"
        },
        {
          "name": "stdout",
          "output_type": "stream",
          "text": [
            "val_loss: 1.051306712627411\n",
            "val_acc: 0.4055766793409379\n",
            "Start validation: current_steps=1550, epoch=7\n"
          ]
        },
        {
          "data": {
            "application/vnd.jupyter.widget-view+json": {
              "model_id": "e5f1f8fb266e41a1bfa752e7d5a62b07",
              "version_major": 2,
              "version_minor": 0
            },
            "text/plain": [
              "  0%|          | 0/25 [00:00<?, ?it/s]"
            ]
          },
          "metadata": {},
          "output_type": "display_data"
        },
        {
          "name": "stdout",
          "output_type": "stream",
          "text": [
            "val_loss: 1.0535626888275147\n",
            "val_acc: 0.4005069708491762\n",
            "Start validation: current_steps=1575, epoch=7\n"
          ]
        },
        {
          "data": {
            "application/vnd.jupyter.widget-view+json": {
              "model_id": "87efa29df2484602819590ab59a542b7",
              "version_major": 2,
              "version_minor": 0
            },
            "text/plain": [
              "  0%|          | 0/25 [00:00<?, ?it/s]"
            ]
          },
          "metadata": {},
          "output_type": "display_data"
        },
        {
          "name": "stdout",
          "output_type": "stream",
          "text": [
            "val_loss: 1.0551443958282472\n",
            "val_acc: 0.4005069708491762\n",
            "Start validation: current_steps=1600, epoch=8\n"
          ]
        },
        {
          "data": {
            "application/vnd.jupyter.widget-view+json": {
              "model_id": "7827589d5ae649988cf19dd3a8b75e56",
              "version_major": 2,
              "version_minor": 0
            },
            "text/plain": [
              "  0%|          | 0/25 [00:00<?, ?it/s]"
            ]
          },
          "metadata": {},
          "output_type": "display_data"
        },
        {
          "name": "stdout",
          "output_type": "stream",
          "text": [
            "val_loss: 1.0512309002876281\n",
            "val_acc: 0.4055766793409379\n",
            "Start validation: current_steps=1625, epoch=8\n"
          ]
        },
        {
          "data": {
            "application/vnd.jupyter.widget-view+json": {
              "model_id": "c1a06f62a1ae413a8a3a5006d42a6d26",
              "version_major": 2,
              "version_minor": 0
            },
            "text/plain": [
              "  0%|          | 0/25 [00:00<?, ?it/s]"
            ]
          },
          "metadata": {},
          "output_type": "display_data"
        },
        {
          "name": "stdout",
          "output_type": "stream",
          "text": [
            "val_loss: 1.052865855693817\n",
            "val_acc: 0.4055766793409379\n",
            "Start validation: current_steps=1650, epoch=8\n"
          ]
        },
        {
          "data": {
            "application/vnd.jupyter.widget-view+json": {
              "model_id": "54339461fddc4ec795a95d300947e10c",
              "version_major": 2,
              "version_minor": 0
            },
            "text/plain": [
              "  0%|          | 0/25 [00:00<?, ?it/s]"
            ]
          },
          "metadata": {},
          "output_type": "display_data"
        },
        {
          "name": "stdout",
          "output_type": "stream",
          "text": [
            "val_loss: 1.0526265335083007\n",
            "val_acc: 0.4005069708491762\n",
            "Start validation: current_steps=1675, epoch=8\n"
          ]
        },
        {
          "data": {
            "application/vnd.jupyter.widget-view+json": {
              "model_id": "98673d41c2c84bcba36ae40f9bb002c2",
              "version_major": 2,
              "version_minor": 0
            },
            "text/plain": [
              "  0%|          | 0/25 [00:00<?, ?it/s]"
            ]
          },
          "metadata": {},
          "output_type": "display_data"
        },
        {
          "name": "stdout",
          "output_type": "stream",
          "text": [
            "val_loss: 1.0527037286758423\n",
            "val_acc: 0.4005069708491762\n",
            "Start validation: current_steps=1700, epoch=8\n"
          ]
        },
        {
          "data": {
            "application/vnd.jupyter.widget-view+json": {
              "model_id": "14c5db55d3bc4d0fa7fd0d9f61f39c26",
              "version_major": 2,
              "version_minor": 0
            },
            "text/plain": [
              "  0%|          | 0/25 [00:00<?, ?it/s]"
            ]
          },
          "metadata": {},
          "output_type": "display_data"
        },
        {
          "name": "stdout",
          "output_type": "stream",
          "text": [
            "val_loss: 1.0510646390914917\n",
            "val_acc: 0.4055766793409379\n",
            "Start validation: current_steps=1725, epoch=8\n"
          ]
        },
        {
          "data": {
            "application/vnd.jupyter.widget-view+json": {
              "model_id": "6b68d0b809a14483a10929325925da52",
              "version_major": 2,
              "version_minor": 0
            },
            "text/plain": [
              "  0%|          | 0/25 [00:00<?, ?it/s]"
            ]
          },
          "metadata": {},
          "output_type": "display_data"
        },
        {
          "name": "stdout",
          "output_type": "stream",
          "text": [
            "val_loss: 1.0533668851852418\n",
            "val_acc: 0.4005069708491762\n",
            "Start validation: current_steps=1750, epoch=8\n"
          ]
        },
        {
          "data": {
            "application/vnd.jupyter.widget-view+json": {
              "model_id": "583dfc2eb2cf493f9c6d78343a785959",
              "version_major": 2,
              "version_minor": 0
            },
            "text/plain": [
              "  0%|          | 0/25 [00:00<?, ?it/s]"
            ]
          },
          "metadata": {},
          "output_type": "display_data"
        },
        {
          "name": "stdout",
          "output_type": "stream",
          "text": [
            "val_loss: 1.051292221546173\n",
            "val_acc: 0.4055766793409379\n",
            "Start validation: current_steps=1775, epoch=8\n"
          ]
        },
        {
          "data": {
            "application/vnd.jupyter.widget-view+json": {
              "model_id": "a3a5971180bb42ab9579408b34748b75",
              "version_major": 2,
              "version_minor": 0
            },
            "text/plain": [
              "  0%|          | 0/25 [00:00<?, ?it/s]"
            ]
          },
          "metadata": {},
          "output_type": "display_data"
        },
        {
          "name": "stdout",
          "output_type": "stream",
          "text": [
            "val_loss: 1.051653378009796\n",
            "val_acc: 0.4005069708491762\n",
            "Start validation: current_steps=1800, epoch=9\n"
          ]
        },
        {
          "data": {
            "application/vnd.jupyter.widget-view+json": {
              "model_id": "394eb62ef13e4396b6b7e05d263937a1",
              "version_major": 2,
              "version_minor": 0
            },
            "text/plain": [
              "  0%|          | 0/25 [00:00<?, ?it/s]"
            ]
          },
          "metadata": {},
          "output_type": "display_data"
        },
        {
          "name": "stdout",
          "output_type": "stream",
          "text": [
            "val_loss: 1.057795329093933\n",
            "val_acc: 0.4055766793409379\n",
            "Start validation: current_steps=1825, epoch=9\n"
          ]
        },
        {
          "data": {
            "application/vnd.jupyter.widget-view+json": {
              "model_id": "7d3eebd1fd7948d883f9a9d2767c97d1",
              "version_major": 2,
              "version_minor": 0
            },
            "text/plain": [
              "  0%|          | 0/25 [00:00<?, ?it/s]"
            ]
          },
          "metadata": {},
          "output_type": "display_data"
        },
        {
          "name": "stdout",
          "output_type": "stream",
          "text": [
            "val_loss: 1.0539766073226928\n",
            "val_acc: 0.4005069708491762\n",
            "Start validation: current_steps=1850, epoch=9\n"
          ]
        },
        {
          "data": {
            "application/vnd.jupyter.widget-view+json": {
              "model_id": "df94aa800a8347229b2c18b275c36f73",
              "version_major": 2,
              "version_minor": 0
            },
            "text/plain": [
              "  0%|          | 0/25 [00:00<?, ?it/s]"
            ]
          },
          "metadata": {},
          "output_type": "display_data"
        },
        {
          "name": "stdout",
          "output_type": "stream",
          "text": [
            "val_loss: 1.051338722705841\n",
            "val_acc: 0.4005069708491762\n",
            "Start validation: current_steps=1875, epoch=9\n"
          ]
        },
        {
          "data": {
            "application/vnd.jupyter.widget-view+json": {
              "model_id": "a9cec8701b5042e480bb0547f97dce25",
              "version_major": 2,
              "version_minor": 0
            },
            "text/plain": [
              "  0%|          | 0/25 [00:00<?, ?it/s]"
            ]
          },
          "metadata": {},
          "output_type": "display_data"
        },
        {
          "name": "stdout",
          "output_type": "stream",
          "text": [
            "val_loss: 1.0524135613441468\n",
            "val_acc: 0.4005069708491762\n",
            "Start validation: current_steps=1900, epoch=9\n"
          ]
        },
        {
          "data": {
            "application/vnd.jupyter.widget-view+json": {
              "model_id": "b429802d94084a6b83cf966b6c884af7",
              "version_major": 2,
              "version_minor": 0
            },
            "text/plain": [
              "  0%|          | 0/25 [00:00<?, ?it/s]"
            ]
          },
          "metadata": {},
          "output_type": "display_data"
        },
        {
          "name": "stdout",
          "output_type": "stream",
          "text": [
            "val_loss: 1.0512792587280273\n",
            "val_acc: 0.4005069708491762\n",
            "Start validation: current_steps=1925, epoch=9\n"
          ]
        },
        {
          "data": {
            "application/vnd.jupyter.widget-view+json": {
              "model_id": "10256eeb19c64750aaaebf28c67136d3",
              "version_major": 2,
              "version_minor": 0
            },
            "text/plain": [
              "  0%|          | 0/25 [00:00<?, ?it/s]"
            ]
          },
          "metadata": {},
          "output_type": "display_data"
        },
        {
          "name": "stdout",
          "output_type": "stream",
          "text": [
            "val_loss: 1.0518719816207887\n",
            "val_acc: 0.4055766793409379\n",
            "Start validation: current_steps=1950, epoch=9\n"
          ]
        },
        {
          "data": {
            "application/vnd.jupyter.widget-view+json": {
              "model_id": "4a39b9fadbc84d739a5361a59dbc1e3c",
              "version_major": 2,
              "version_minor": 0
            },
            "text/plain": [
              "  0%|          | 0/25 [00:00<?, ?it/s]"
            ]
          },
          "metadata": {},
          "output_type": "display_data"
        },
        {
          "name": "stdout",
          "output_type": "stream",
          "text": [
            "val_loss: 1.0514254570007324\n",
            "val_acc: 0.4055766793409379\n",
            "Start validation: current_steps=1975, epoch=9\n"
          ]
        },
        {
          "data": {
            "application/vnd.jupyter.widget-view+json": {
              "model_id": "6884db35146e4b84907cf43594cecde9",
              "version_major": 2,
              "version_minor": 0
            },
            "text/plain": [
              "  0%|          | 0/25 [00:00<?, ?it/s]"
            ]
          },
          "metadata": {},
          "output_type": "display_data"
        },
        {
          "name": "stdout",
          "output_type": "stream",
          "text": [
            "val_loss: 1.0511100029945373\n",
            "val_acc: 0.4005069708491762\n",
            "Start validation: current_steps=2000, epoch=10\n"
          ]
        },
        {
          "data": {
            "application/vnd.jupyter.widget-view+json": {
              "model_id": "54fffc5f2af64f49b71982c2f33d026a",
              "version_major": 2,
              "version_minor": 0
            },
            "text/plain": [
              "  0%|          | 0/25 [00:00<?, ?it/s]"
            ]
          },
          "metadata": {},
          "output_type": "display_data"
        },
        {
          "name": "stdout",
          "output_type": "stream",
          "text": [
            "val_loss: 1.0525540113449097\n",
            "val_acc: 0.4005069708491762\n",
            "Start validation: current_steps=2025, epoch=10\n"
          ]
        },
        {
          "data": {
            "application/vnd.jupyter.widget-view+json": {
              "model_id": "3739a74d86d847f1a75f56b6f72d5f27",
              "version_major": 2,
              "version_minor": 0
            },
            "text/plain": [
              "  0%|          | 0/25 [00:00<?, ?it/s]"
            ]
          },
          "metadata": {},
          "output_type": "display_data"
        },
        {
          "name": "stdout",
          "output_type": "stream",
          "text": [
            "val_loss: 1.0512613773345947\n",
            "val_acc: 0.4055766793409379\n",
            "Start validation: current_steps=2050, epoch=10\n"
          ]
        },
        {
          "data": {
            "application/vnd.jupyter.widget-view+json": {
              "model_id": "6f6af7535c774c719d8e572497fbbd09",
              "version_major": 2,
              "version_minor": 0
            },
            "text/plain": [
              "  0%|          | 0/25 [00:00<?, ?it/s]"
            ]
          },
          "metadata": {},
          "output_type": "display_data"
        },
        {
          "name": "stdout",
          "output_type": "stream",
          "text": [
            "val_loss: 1.051292130947113\n",
            "val_acc: 0.4055766793409379\n",
            "Start validation: current_steps=2075, epoch=10\n"
          ]
        },
        {
          "data": {
            "application/vnd.jupyter.widget-view+json": {
              "model_id": "3f2d201cb5b34de89833e60a2704cd2a",
              "version_major": 2,
              "version_minor": 0
            },
            "text/plain": [
              "  0%|          | 0/25 [00:00<?, ?it/s]"
            ]
          },
          "metadata": {},
          "output_type": "display_data"
        },
        {
          "name": "stdout",
          "output_type": "stream",
          "text": [
            "val_loss: 1.0526139664649963\n",
            "val_acc: 0.4055766793409379\n",
            "Start validation: current_steps=2100, epoch=10\n"
          ]
        },
        {
          "data": {
            "application/vnd.jupyter.widget-view+json": {
              "model_id": "699d9dd41d504fbfa3641053cb387c0e",
              "version_major": 2,
              "version_minor": 0
            },
            "text/plain": [
              "  0%|          | 0/25 [00:00<?, ?it/s]"
            ]
          },
          "metadata": {},
          "output_type": "display_data"
        },
        {
          "name": "stdout",
          "output_type": "stream",
          "text": [
            "val_loss: 1.0515999627113342\n",
            "val_acc: 0.4005069708491762\n",
            "Start validation: current_steps=2125, epoch=10\n"
          ]
        },
        {
          "data": {
            "application/vnd.jupyter.widget-view+json": {
              "model_id": "2e58caf0443e4774ada5f0f8934ec186",
              "version_major": 2,
              "version_minor": 0
            },
            "text/plain": [
              "  0%|          | 0/25 [00:00<?, ?it/s]"
            ]
          },
          "metadata": {},
          "output_type": "display_data"
        },
        {
          "name": "stdout",
          "output_type": "stream",
          "text": [
            "val_loss: 1.0513003993034362\n",
            "val_acc: 0.4055766793409379\n",
            "Start validation: current_steps=2150, epoch=10\n"
          ]
        },
        {
          "data": {
            "application/vnd.jupyter.widget-view+json": {
              "model_id": "c2674d9d5be044aa9bd4bae6b7f0675e",
              "version_major": 2,
              "version_minor": 0
            },
            "text/plain": [
              "  0%|          | 0/25 [00:00<?, ?it/s]"
            ]
          },
          "metadata": {},
          "output_type": "display_data"
        },
        {
          "name": "stdout",
          "output_type": "stream",
          "text": [
            "val_loss: 1.0529651975631713\n",
            "val_acc: 0.4055766793409379\n",
            "Start validation: current_steps=2175, epoch=10\n"
          ]
        },
        {
          "data": {
            "application/vnd.jupyter.widget-view+json": {
              "model_id": "ca19f43388074d07bc7af0ad0b438a89",
              "version_major": 2,
              "version_minor": 0
            },
            "text/plain": [
              "  0%|          | 0/25 [00:00<?, ?it/s]"
            ]
          },
          "metadata": {},
          "output_type": "display_data"
        },
        {
          "name": "stdout",
          "output_type": "stream",
          "text": [
            "val_loss: 1.0521283197402953\n",
            "val_acc: 0.4005069708491762\n",
            "Start validation: current_steps=2200, epoch=11\n"
          ]
        },
        {
          "data": {
            "application/vnd.jupyter.widget-view+json": {
              "model_id": "4adb81c1300e44e5943669264490b8e9",
              "version_major": 2,
              "version_minor": 0
            },
            "text/plain": [
              "  0%|          | 0/25 [00:00<?, ?it/s]"
            ]
          },
          "metadata": {},
          "output_type": "display_data"
        },
        {
          "name": "stdout",
          "output_type": "stream",
          "text": [
            "val_loss: 1.0539650797843934\n",
            "val_acc: 0.4005069708491762\n",
            "Start validation: current_steps=2225, epoch=11\n"
          ]
        },
        {
          "data": {
            "application/vnd.jupyter.widget-view+json": {
              "model_id": "08bbc3c9f25c4f6fa119dc73cacdf2ef",
              "version_major": 2,
              "version_minor": 0
            },
            "text/plain": [
              "  0%|          | 0/25 [00:00<?, ?it/s]"
            ]
          },
          "metadata": {},
          "output_type": "display_data"
        },
        {
          "name": "stdout",
          "output_type": "stream",
          "text": [
            "val_loss: 1.0514495038986207\n",
            "val_acc: 0.4005069708491762\n",
            "Start validation: current_steps=2250, epoch=11\n"
          ]
        },
        {
          "data": {
            "application/vnd.jupyter.widget-view+json": {
              "model_id": "eb5d0c59a8464eb5949d6692b0b5a49b",
              "version_major": 2,
              "version_minor": 0
            },
            "text/plain": [
              "  0%|          | 0/25 [00:00<?, ?it/s]"
            ]
          },
          "metadata": {},
          "output_type": "display_data"
        },
        {
          "name": "stdout",
          "output_type": "stream",
          "text": [
            "val_loss: 1.0514671325683593\n",
            "val_acc: 0.4005069708491762\n",
            "Start validation: current_steps=2275, epoch=11\n"
          ]
        },
        {
          "data": {
            "application/vnd.jupyter.widget-view+json": {
              "model_id": "3ba30c25f10a4b41a2873a02a253e6dc",
              "version_major": 2,
              "version_minor": 0
            },
            "text/plain": [
              "  0%|          | 0/25 [00:00<?, ?it/s]"
            ]
          },
          "metadata": {},
          "output_type": "display_data"
        },
        {
          "name": "stdout",
          "output_type": "stream",
          "text": [
            "val_loss: 1.0514268732070924\n",
            "val_acc: 0.4005069708491762\n",
            "Start validation: current_steps=2300, epoch=11\n"
          ]
        },
        {
          "data": {
            "application/vnd.jupyter.widget-view+json": {
              "model_id": "3ada16a48b374a26aa14e069f5b52f77",
              "version_major": 2,
              "version_minor": 0
            },
            "text/plain": [
              "  0%|          | 0/25 [00:00<?, ?it/s]"
            ]
          },
          "metadata": {},
          "output_type": "display_data"
        },
        {
          "name": "stdout",
          "output_type": "stream",
          "text": [
            "val_loss: 1.0510554385185242\n",
            "val_acc: 0.4055766793409379\n",
            "Start validation: current_steps=2325, epoch=11\n"
          ]
        },
        {
          "data": {
            "application/vnd.jupyter.widget-view+json": {
              "model_id": "701088a387b448cca9f193004104caa7",
              "version_major": 2,
              "version_minor": 0
            },
            "text/plain": [
              "  0%|          | 0/25 [00:00<?, ?it/s]"
            ]
          },
          "metadata": {},
          "output_type": "display_data"
        },
        {
          "name": "stdout",
          "output_type": "stream",
          "text": [
            "val_loss: 1.0513278889656066\n",
            "val_acc: 0.4055766793409379\n",
            "Start validation: current_steps=2350, epoch=11\n"
          ]
        },
        {
          "data": {
            "application/vnd.jupyter.widget-view+json": {
              "model_id": "e410b296730346b1818700b51da6447b",
              "version_major": 2,
              "version_minor": 0
            },
            "text/plain": [
              "  0%|          | 0/25 [00:00<?, ?it/s]"
            ]
          },
          "metadata": {},
          "output_type": "display_data"
        },
        {
          "name": "stdout",
          "output_type": "stream",
          "text": [
            "val_loss: 1.0511753630638123\n",
            "val_acc: 0.4055766793409379\n",
            "Start validation: current_steps=2375, epoch=11\n"
          ]
        },
        {
          "data": {
            "application/vnd.jupyter.widget-view+json": {
              "model_id": "c49c1932b928441c998dd1beafc0855f",
              "version_major": 2,
              "version_minor": 0
            },
            "text/plain": [
              "  0%|          | 0/25 [00:00<?, ?it/s]"
            ]
          },
          "metadata": {},
          "output_type": "display_data"
        },
        {
          "name": "stdout",
          "output_type": "stream",
          "text": [
            "val_loss: 1.0514762163162232\n",
            "val_acc: 0.4005069708491762\n",
            "Start validation: current_steps=2400, epoch=12\n"
          ]
        },
        {
          "data": {
            "application/vnd.jupyter.widget-view+json": {
              "model_id": "020e02593b1c4e4ca60a5f9252e63115",
              "version_major": 2,
              "version_minor": 0
            },
            "text/plain": [
              "  0%|          | 0/25 [00:00<?, ?it/s]"
            ]
          },
          "metadata": {},
          "output_type": "display_data"
        },
        {
          "name": "stdout",
          "output_type": "stream",
          "text": [
            "val_loss: 1.0514092302322389\n",
            "val_acc: 0.4055766793409379\n",
            "Start validation: current_steps=2425, epoch=12\n"
          ]
        },
        {
          "data": {
            "application/vnd.jupyter.widget-view+json": {
              "model_id": "1499f917e84944bb955ec224c66dd666",
              "version_major": 2,
              "version_minor": 0
            },
            "text/plain": [
              "  0%|          | 0/25 [00:00<?, ?it/s]"
            ]
          },
          "metadata": {},
          "output_type": "display_data"
        },
        {
          "name": "stdout",
          "output_type": "stream",
          "text": [
            "val_loss: 1.0522051072120666\n",
            "val_acc: 0.4055766793409379\n",
            "Start validation: current_steps=2450, epoch=12\n"
          ]
        },
        {
          "data": {
            "application/vnd.jupyter.widget-view+json": {
              "model_id": "0090a0982b6846a3b12ffd6da81b1ee1",
              "version_major": 2,
              "version_minor": 0
            },
            "text/plain": [
              "  0%|          | 0/25 [00:00<?, ?it/s]"
            ]
          },
          "metadata": {},
          "output_type": "display_data"
        },
        {
          "name": "stdout",
          "output_type": "stream",
          "text": [
            "val_loss: 1.051109368801117\n",
            "val_acc: 0.4055766793409379\n",
            "Start validation: current_steps=2475, epoch=12\n"
          ]
        },
        {
          "data": {
            "application/vnd.jupyter.widget-view+json": {
              "model_id": "02b980f93aea492d9d083c63521fac08",
              "version_major": 2,
              "version_minor": 0
            },
            "text/plain": [
              "  0%|          | 0/25 [00:00<?, ?it/s]"
            ]
          },
          "metadata": {},
          "output_type": "display_data"
        },
        {
          "name": "stdout",
          "output_type": "stream",
          "text": [
            "val_loss: 1.0510739827156066\n",
            "val_acc: 0.4055766793409379\n",
            "Start validation: current_steps=2500, epoch=12\n"
          ]
        },
        {
          "data": {
            "application/vnd.jupyter.widget-view+json": {
              "model_id": "dfb78d9244a3420aa87aed7c81412634",
              "version_major": 2,
              "version_minor": 0
            },
            "text/plain": [
              "  0%|          | 0/25 [00:00<?, ?it/s]"
            ]
          },
          "metadata": {},
          "output_type": "display_data"
        },
        {
          "name": "stdout",
          "output_type": "stream",
          "text": [
            "val_loss: 1.051381425857544\n",
            "val_acc: 0.4005069708491762\n",
            "Start validation: current_steps=2525, epoch=12\n"
          ]
        },
        {
          "data": {
            "application/vnd.jupyter.widget-view+json": {
              "model_id": "d11412acaa404c8f9db50047946627e3",
              "version_major": 2,
              "version_minor": 0
            },
            "text/plain": [
              "  0%|          | 0/25 [00:00<?, ?it/s]"
            ]
          },
          "metadata": {},
          "output_type": "display_data"
        },
        {
          "name": "stdout",
          "output_type": "stream",
          "text": [
            "val_loss: 1.0514412665367125\n",
            "val_acc: 0.4005069708491762\n",
            "Start validation: current_steps=2550, epoch=12\n"
          ]
        },
        {
          "data": {
            "application/vnd.jupyter.widget-view+json": {
              "model_id": "e1a5718d60df4a0397d7eb9d95a66b16",
              "version_major": 2,
              "version_minor": 0
            },
            "text/plain": [
              "  0%|          | 0/25 [00:00<?, ?it/s]"
            ]
          },
          "metadata": {},
          "output_type": "display_data"
        },
        {
          "name": "stdout",
          "output_type": "stream",
          "text": [
            "val_loss: 1.0523195552825928\n",
            "val_acc: 0.4005069708491762\n",
            "Start validation: current_steps=2575, epoch=13\n"
          ]
        },
        {
          "data": {
            "application/vnd.jupyter.widget-view+json": {
              "model_id": "76773dcac393406985594cde83c4c37f",
              "version_major": 2,
              "version_minor": 0
            },
            "text/plain": [
              "  0%|          | 0/25 [00:00<?, ?it/s]"
            ]
          },
          "metadata": {},
          "output_type": "display_data"
        },
        {
          "name": "stdout",
          "output_type": "stream",
          "text": [
            "val_loss: 1.050977849960327\n",
            "val_acc: 0.4055766793409379\n",
            "Start validation: current_steps=2600, epoch=13\n"
          ]
        },
        {
          "data": {
            "application/vnd.jupyter.widget-view+json": {
              "model_id": "768c70a7d0734eb182210c6d4182be14",
              "version_major": 2,
              "version_minor": 0
            },
            "text/plain": [
              "  0%|          | 0/25 [00:00<?, ?it/s]"
            ]
          },
          "metadata": {},
          "output_type": "display_data"
        },
        {
          "name": "stdout",
          "output_type": "stream",
          "text": [
            "val_loss: 1.0513328838348388\n",
            "val_acc: 0.4055766793409379\n",
            "Start validation: current_steps=2625, epoch=13\n"
          ]
        },
        {
          "data": {
            "application/vnd.jupyter.widget-view+json": {
              "model_id": "149cfa33fa824ed1ab0f5e95342e7eaf",
              "version_major": 2,
              "version_minor": 0
            },
            "text/plain": [
              "  0%|          | 0/25 [00:00<?, ?it/s]"
            ]
          },
          "metadata": {},
          "output_type": "display_data"
        },
        {
          "name": "stdout",
          "output_type": "stream",
          "text": [
            "val_loss: 1.0521399426460265\n",
            "val_acc: 0.4055766793409379\n",
            "Start validation: current_steps=2650, epoch=13\n"
          ]
        },
        {
          "data": {
            "application/vnd.jupyter.widget-view+json": {
              "model_id": "c313937b74a04a31a9d8f64cbcf7cbec",
              "version_major": 2,
              "version_minor": 0
            },
            "text/plain": [
              "  0%|          | 0/25 [00:00<?, ?it/s]"
            ]
          },
          "metadata": {},
          "output_type": "display_data"
        },
        {
          "name": "stdout",
          "output_type": "stream",
          "text": [
            "val_loss: 1.0519284391403199\n",
            "val_acc: 0.4055766793409379\n",
            "Start validation: current_steps=2675, epoch=13\n"
          ]
        },
        {
          "data": {
            "application/vnd.jupyter.widget-view+json": {
              "model_id": "631bb50da87246e0b69ae1ea89faf744",
              "version_major": 2,
              "version_minor": 0
            },
            "text/plain": [
              "  0%|          | 0/25 [00:00<?, ?it/s]"
            ]
          },
          "metadata": {},
          "output_type": "display_data"
        },
        {
          "name": "stdout",
          "output_type": "stream",
          "text": [
            "val_loss: 1.051427481174469\n",
            "val_acc: 0.4055766793409379\n",
            "Start validation: current_steps=2700, epoch=13\n"
          ]
        },
        {
          "data": {
            "application/vnd.jupyter.widget-view+json": {
              "model_id": "6524a3d1cf3947828d8f5afc963d5155",
              "version_major": 2,
              "version_minor": 0
            },
            "text/plain": [
              "  0%|          | 0/25 [00:00<?, ?it/s]"
            ]
          },
          "metadata": {},
          "output_type": "display_data"
        },
        {
          "name": "stdout",
          "output_type": "stream",
          "text": [
            "val_loss: 1.0510151505470275\n",
            "val_acc: 0.4055766793409379\n",
            "Start validation: current_steps=2725, epoch=13\n"
          ]
        },
        {
          "data": {
            "application/vnd.jupyter.widget-view+json": {
              "model_id": "38cbbe85c43e4a748044f78975553073",
              "version_major": 2,
              "version_minor": 0
            },
            "text/plain": [
              "  0%|          | 0/25 [00:00<?, ?it/s]"
            ]
          },
          "metadata": {},
          "output_type": "display_data"
        },
        {
          "name": "stdout",
          "output_type": "stream",
          "text": [
            "val_loss: 1.0509913396835326\n",
            "val_acc: 0.4055766793409379\n",
            "Start validation: current_steps=2750, epoch=13\n"
          ]
        },
        {
          "data": {
            "application/vnd.jupyter.widget-view+json": {
              "model_id": "a86cf02e97534b2c86afa29f028b693e",
              "version_major": 2,
              "version_minor": 0
            },
            "text/plain": [
              "  0%|          | 0/25 [00:00<?, ?it/s]"
            ]
          },
          "metadata": {},
          "output_type": "display_data"
        },
        {
          "name": "stdout",
          "output_type": "stream",
          "text": [
            "val_loss: 1.0509489393234253\n",
            "val_acc: 0.4055766793409379\n",
            "Start validation: current_steps=2775, epoch=14\n"
          ]
        },
        {
          "data": {
            "application/vnd.jupyter.widget-view+json": {
              "model_id": "a34124ecfbf64c7da12acda7bd02be8b",
              "version_major": 2,
              "version_minor": 0
            },
            "text/plain": [
              "  0%|          | 0/25 [00:00<?, ?it/s]"
            ]
          },
          "metadata": {},
          "output_type": "display_data"
        },
        {
          "name": "stdout",
          "output_type": "stream",
          "text": [
            "val_loss: 1.0511043667793274\n",
            "val_acc: 0.4005069708491762\n",
            "Start validation: current_steps=2800, epoch=14\n"
          ]
        },
        {
          "data": {
            "application/vnd.jupyter.widget-view+json": {
              "model_id": "f76cf8d6e22642658f3185557dda6c28",
              "version_major": 2,
              "version_minor": 0
            },
            "text/plain": [
              "  0%|          | 0/25 [00:00<?, ?it/s]"
            ]
          },
          "metadata": {},
          "output_type": "display_data"
        },
        {
          "name": "stdout",
          "output_type": "stream",
          "text": [
            "val_loss: 1.0510071158409118\n",
            "val_acc: 0.4055766793409379\n",
            "Start validation: current_steps=2825, epoch=14\n"
          ]
        },
        {
          "data": {
            "application/vnd.jupyter.widget-view+json": {
              "model_id": "6f35fd777d434100afad84302dd276fb",
              "version_major": 2,
              "version_minor": 0
            },
            "text/plain": [
              "  0%|          | 0/25 [00:00<?, ?it/s]"
            ]
          },
          "metadata": {},
          "output_type": "display_data"
        },
        {
          "name": "stdout",
          "output_type": "stream",
          "text": [
            "val_loss: 1.050959300994873\n",
            "val_acc: 0.4055766793409379\n",
            "Start validation: current_steps=2850, epoch=14\n"
          ]
        },
        {
          "data": {
            "application/vnd.jupyter.widget-view+json": {
              "model_id": "4967ca517f95409cb7d40310bb0c753a",
              "version_major": 2,
              "version_minor": 0
            },
            "text/plain": [
              "  0%|          | 0/25 [00:00<?, ?it/s]"
            ]
          },
          "metadata": {},
          "output_type": "display_data"
        },
        {
          "name": "stdout",
          "output_type": "stream",
          "text": [
            "val_loss: 1.051074001789093\n",
            "val_acc: 0.4005069708491762\n",
            "Start validation: current_steps=2875, epoch=14\n"
          ]
        },
        {
          "data": {
            "application/vnd.jupyter.widget-view+json": {
              "model_id": "dcb61e129b0e4c498fe62f742af4fe8b",
              "version_major": 2,
              "version_minor": 0
            },
            "text/plain": [
              "  0%|          | 0/25 [00:00<?, ?it/s]"
            ]
          },
          "metadata": {},
          "output_type": "display_data"
        },
        {
          "name": "stdout",
          "output_type": "stream",
          "text": [
            "val_loss: 1.051096622943878\n",
            "val_acc: 0.4005069708491762\n",
            "Start validation: current_steps=2900, epoch=14\n"
          ]
        },
        {
          "data": {
            "application/vnd.jupyter.widget-view+json": {
              "model_id": "cdf193a88adb4778bb1cd634a4e0c1d2",
              "version_major": 2,
              "version_minor": 0
            },
            "text/plain": [
              "  0%|          | 0/25 [00:00<?, ?it/s]"
            ]
          },
          "metadata": {},
          "output_type": "display_data"
        },
        {
          "name": "stdout",
          "output_type": "stream",
          "text": [
            "val_loss: 1.0511027097702026\n",
            "val_acc: 0.4005069708491762\n",
            "Start validation: current_steps=2925, epoch=14\n"
          ]
        },
        {
          "data": {
            "application/vnd.jupyter.widget-view+json": {
              "model_id": "8345de16b2c74a76bc2f31386a1444d7",
              "version_major": 2,
              "version_minor": 0
            },
            "text/plain": [
              "  0%|          | 0/25 [00:00<?, ?it/s]"
            ]
          },
          "metadata": {},
          "output_type": "display_data"
        },
        {
          "name": "stdout",
          "output_type": "stream",
          "text": [
            "val_loss: 1.0510496520996093\n",
            "val_acc: 0.4005069708491762\n",
            "Start validation: current_steps=2950, epoch=14\n"
          ]
        },
        {
          "data": {
            "application/vnd.jupyter.widget-view+json": {
              "model_id": "74e38cb3dcfc4ce69782a3f0e06d2528",
              "version_major": 2,
              "version_minor": 0
            },
            "text/plain": [
              "  0%|          | 0/25 [00:00<?, ?it/s]"
            ]
          },
          "metadata": {},
          "output_type": "display_data"
        },
        {
          "name": "stdout",
          "output_type": "stream",
          "text": [
            "val_loss: 1.0510465550422667\n",
            "val_acc: 0.4005069708491762\n",
            "Start validation: current_steps=2975, epoch=15\n"
          ]
        },
        {
          "data": {
            "application/vnd.jupyter.widget-view+json": {
              "model_id": "e7965da56ac043229cff03b220cbad74",
              "version_major": 2,
              "version_minor": 0
            },
            "text/plain": [
              "  0%|          | 0/25 [00:00<?, ?it/s]"
            ]
          },
          "metadata": {},
          "output_type": "display_data"
        },
        {
          "name": "stdout",
          "output_type": "stream",
          "text": [
            "val_loss: 1.0510486102104186\n",
            "val_acc: 0.4005069708491762\n",
            "Start validation: current_steps=3000, epoch=15\n"
          ]
        },
        {
          "data": {
            "application/vnd.jupyter.widget-view+json": {
              "model_id": "ebda944df9b14911ac3b8c77d35d5968",
              "version_major": 2,
              "version_minor": 0
            },
            "text/plain": [
              "  0%|          | 0/25 [00:00<?, ?it/s]"
            ]
          },
          "metadata": {},
          "output_type": "display_data"
        },
        {
          "name": "stdout",
          "output_type": "stream",
          "text": [
            "val_loss: 1.0510486102104186\n",
            "val_acc: 0.4005069708491762\n",
            "Start validation: current_steps=3025, epoch=15\n"
          ]
        },
        {
          "data": {
            "application/vnd.jupyter.widget-view+json": {
              "model_id": "f495fbc8b86341318b2422702a5ed0e6",
              "version_major": 2,
              "version_minor": 0
            },
            "text/plain": [
              "  0%|          | 0/25 [00:00<?, ?it/s]"
            ]
          },
          "metadata": {},
          "output_type": "display_data"
        },
        {
          "name": "stdout",
          "output_type": "stream",
          "text": [
            "val_loss: 1.0510486102104186\n",
            "val_acc: 0.4005069708491762\n",
            "Start validation: current_steps=3050, epoch=15\n"
          ]
        },
        {
          "data": {
            "application/vnd.jupyter.widget-view+json": {
              "model_id": "5da579b6d7124b3da1812487b2b90a50",
              "version_major": 2,
              "version_minor": 0
            },
            "text/plain": [
              "  0%|          | 0/25 [00:00<?, ?it/s]"
            ]
          },
          "metadata": {},
          "output_type": "display_data"
        },
        {
          "name": "stdout",
          "output_type": "stream",
          "text": [
            "val_loss: 1.0510486102104186\n",
            "val_acc: 0.4005069708491762\n",
            "Start validation: current_steps=3075, epoch=15\n"
          ]
        },
        {
          "data": {
            "application/vnd.jupyter.widget-view+json": {
              "model_id": "d27cf8227fa549338fe77378d156e8c7",
              "version_major": 2,
              "version_minor": 0
            },
            "text/plain": [
              "  0%|          | 0/25 [00:00<?, ?it/s]"
            ]
          },
          "metadata": {},
          "output_type": "display_data"
        },
        {
          "name": "stdout",
          "output_type": "stream",
          "text": [
            "val_loss: 1.0510486102104186\n",
            "val_acc: 0.4005069708491762\n",
            "Start validation: current_steps=3100, epoch=15\n"
          ]
        },
        {
          "data": {
            "application/vnd.jupyter.widget-view+json": {
              "model_id": "7eddab52b0a4440bb63cddd8f6284304",
              "version_major": 2,
              "version_minor": 0
            },
            "text/plain": [
              "  0%|          | 0/25 [00:00<?, ?it/s]"
            ]
          },
          "metadata": {},
          "output_type": "display_data"
        },
        {
          "name": "stdout",
          "output_type": "stream",
          "text": [
            "val_loss: 1.0510486102104186\n",
            "val_acc: 0.4005069708491762\n",
            "Start validation: current_steps=3125, epoch=15\n"
          ]
        },
        {
          "data": {
            "application/vnd.jupyter.widget-view+json": {
              "model_id": "eef5541d4ddc46519f46611f1d582a04",
              "version_major": 2,
              "version_minor": 0
            },
            "text/plain": [
              "  0%|          | 0/25 [00:00<?, ?it/s]"
            ]
          },
          "metadata": {},
          "output_type": "display_data"
        },
        {
          "name": "stdout",
          "output_type": "stream",
          "text": [
            "val_loss: 1.0510486102104186\n",
            "val_acc: 0.4005069708491762\n",
            "Start validation: current_steps=3150, epoch=15\n"
          ]
        },
        {
          "data": {
            "application/vnd.jupyter.widget-view+json": {
              "model_id": "0bcbde829490436e9e386a054d09e7fd",
              "version_major": 2,
              "version_minor": 0
            },
            "text/plain": [
              "  0%|          | 0/25 [00:00<?, ?it/s]"
            ]
          },
          "metadata": {},
          "output_type": "display_data"
        },
        {
          "name": "stdout",
          "output_type": "stream",
          "text": [
            "val_loss: 1.0510486102104186\n",
            "val_acc: 0.4005069708491762\n",
            "Start validation: current_steps=3175, epoch=16\n"
          ]
        },
        {
          "data": {
            "application/vnd.jupyter.widget-view+json": {
              "model_id": "c22e49966e74488da64b2d2c548057c3",
              "version_major": 2,
              "version_minor": 0
            },
            "text/plain": [
              "  0%|          | 0/25 [00:00<?, ?it/s]"
            ]
          },
          "metadata": {},
          "output_type": "display_data"
        },
        {
          "name": "stdout",
          "output_type": "stream",
          "text": [
            "val_loss: 1.0510486102104186\n",
            "val_acc: 0.4005069708491762\n",
            "Start validation: current_steps=3200, epoch=16\n"
          ]
        },
        {
          "data": {
            "application/vnd.jupyter.widget-view+json": {
              "model_id": "482a606649fc4cb9adef0f490f78e12c",
              "version_major": 2,
              "version_minor": 0
            },
            "text/plain": [
              "  0%|          | 0/25 [00:00<?, ?it/s]"
            ]
          },
          "metadata": {},
          "output_type": "display_data"
        },
        {
          "name": "stdout",
          "output_type": "stream",
          "text": [
            "val_loss: 1.0510486102104186\n",
            "val_acc: 0.4005069708491762\n",
            "Start validation: current_steps=3225, epoch=16\n"
          ]
        },
        {
          "data": {
            "application/vnd.jupyter.widget-view+json": {
              "model_id": "960115a3230746f3b415b3ca2acc1b72",
              "version_major": 2,
              "version_minor": 0
            },
            "text/plain": [
              "  0%|          | 0/25 [00:00<?, ?it/s]"
            ]
          },
          "metadata": {},
          "output_type": "display_data"
        },
        {
          "name": "stdout",
          "output_type": "stream",
          "text": [
            "val_loss: 1.0510486102104186\n",
            "val_acc: 0.4005069708491762\n",
            "Start validation: current_steps=3250, epoch=16\n"
          ]
        },
        {
          "data": {
            "application/vnd.jupyter.widget-view+json": {
              "model_id": "e84829b09a084e97aa8308637d7bd103",
              "version_major": 2,
              "version_minor": 0
            },
            "text/plain": [
              "  0%|          | 0/25 [00:00<?, ?it/s]"
            ]
          },
          "metadata": {},
          "output_type": "display_data"
        },
        {
          "name": "stdout",
          "output_type": "stream",
          "text": [
            "val_loss: 1.0510486102104186\n",
            "val_acc: 0.4005069708491762\n",
            "Start validation: current_steps=3275, epoch=16\n"
          ]
        },
        {
          "data": {
            "application/vnd.jupyter.widget-view+json": {
              "model_id": "5818f573cf1c439093ac7ecaa2e0f714",
              "version_major": 2,
              "version_minor": 0
            },
            "text/plain": [
              "  0%|          | 0/25 [00:00<?, ?it/s]"
            ]
          },
          "metadata": {},
          "output_type": "display_data"
        },
        {
          "name": "stdout",
          "output_type": "stream",
          "text": [
            "val_loss: 1.0510486102104186\n",
            "val_acc: 0.4005069708491762\n",
            "Start validation: current_steps=3300, epoch=16\n"
          ]
        },
        {
          "data": {
            "application/vnd.jupyter.widget-view+json": {
              "model_id": "cdbbfce81aa545808fd480722092a017",
              "version_major": 2,
              "version_minor": 0
            },
            "text/plain": [
              "  0%|          | 0/25 [00:00<?, ?it/s]"
            ]
          },
          "metadata": {},
          "output_type": "display_data"
        },
        {
          "name": "stdout",
          "output_type": "stream",
          "text": [
            "val_loss: 1.0510486102104186\n",
            "val_acc: 0.4005069708491762\n",
            "Start validation: current_steps=3325, epoch=16\n"
          ]
        },
        {
          "data": {
            "application/vnd.jupyter.widget-view+json": {
              "model_id": "ec7ccfdd8d5d4f729f32ff1c7475cac6",
              "version_major": 2,
              "version_minor": 0
            },
            "text/plain": [
              "  0%|          | 0/25 [00:00<?, ?it/s]"
            ]
          },
          "metadata": {},
          "output_type": "display_data"
        },
        {
          "name": "stdout",
          "output_type": "stream",
          "text": [
            "val_loss: 1.0510486102104186\n",
            "val_acc: 0.4005069708491762\n",
            "Start validation: current_steps=3350, epoch=16\n"
          ]
        },
        {
          "data": {
            "application/vnd.jupyter.widget-view+json": {
              "model_id": "3a5e9b29bbb1495e8cfcc38280d754a4",
              "version_major": 2,
              "version_minor": 0
            },
            "text/plain": [
              "  0%|          | 0/25 [00:00<?, ?it/s]"
            ]
          },
          "metadata": {},
          "output_type": "display_data"
        },
        {
          "name": "stdout",
          "output_type": "stream",
          "text": [
            "val_loss: 1.0510486102104186\n",
            "val_acc: 0.4005069708491762\n",
            "Start validation: current_steps=3375, epoch=17\n"
          ]
        },
        {
          "data": {
            "application/vnd.jupyter.widget-view+json": {
              "model_id": "4e8e5828dc2441429770f9d47ec88525",
              "version_major": 2,
              "version_minor": 0
            },
            "text/plain": [
              "  0%|          | 0/25 [00:00<?, ?it/s]"
            ]
          },
          "metadata": {},
          "output_type": "display_data"
        },
        {
          "name": "stdout",
          "output_type": "stream",
          "text": [
            "val_loss: 1.0510486102104186\n",
            "val_acc: 0.4005069708491762\n",
            "Start validation: current_steps=3400, epoch=17\n"
          ]
        },
        {
          "data": {
            "application/vnd.jupyter.widget-view+json": {
              "model_id": "d398d64f888749a98f0f6f64e0816245",
              "version_major": 2,
              "version_minor": 0
            },
            "text/plain": [
              "  0%|          | 0/25 [00:00<?, ?it/s]"
            ]
          },
          "metadata": {},
          "output_type": "display_data"
        },
        {
          "name": "stdout",
          "output_type": "stream",
          "text": [
            "val_loss: 1.0510486102104186\n",
            "val_acc: 0.4005069708491762\n",
            "Start validation: current_steps=3425, epoch=17\n"
          ]
        },
        {
          "data": {
            "application/vnd.jupyter.widget-view+json": {
              "model_id": "db790b1ad02c44e5a797c82125195c92",
              "version_major": 2,
              "version_minor": 0
            },
            "text/plain": [
              "  0%|          | 0/25 [00:00<?, ?it/s]"
            ]
          },
          "metadata": {},
          "output_type": "display_data"
        },
        {
          "name": "stdout",
          "output_type": "stream",
          "text": [
            "val_loss: 1.0510486102104186\n",
            "val_acc: 0.4005069708491762\n",
            "Start validation: current_steps=3450, epoch=17\n"
          ]
        },
        {
          "data": {
            "application/vnd.jupyter.widget-view+json": {
              "model_id": "fd83253ee1274dd5a166cdc43a2b6a68",
              "version_major": 2,
              "version_minor": 0
            },
            "text/plain": [
              "  0%|          | 0/25 [00:00<?, ?it/s]"
            ]
          },
          "metadata": {},
          "output_type": "display_data"
        },
        {
          "name": "stdout",
          "output_type": "stream",
          "text": [
            "val_loss: 1.0510486102104186\n",
            "val_acc: 0.4005069708491762\n",
            "Start validation: current_steps=3475, epoch=17\n"
          ]
        },
        {
          "data": {
            "application/vnd.jupyter.widget-view+json": {
              "model_id": "c4a6479415e149c283c36ec0840d525f",
              "version_major": 2,
              "version_minor": 0
            },
            "text/plain": [
              "  0%|          | 0/25 [00:00<?, ?it/s]"
            ]
          },
          "metadata": {},
          "output_type": "display_data"
        },
        {
          "name": "stdout",
          "output_type": "stream",
          "text": [
            "val_loss: 1.0510486102104186\n",
            "val_acc: 0.4005069708491762\n",
            "Start validation: current_steps=3500, epoch=17\n"
          ]
        },
        {
          "data": {
            "application/vnd.jupyter.widget-view+json": {
              "model_id": "d8e4a56d9cff484d93323e31bd322a3c",
              "version_major": 2,
              "version_minor": 0
            },
            "text/plain": [
              "  0%|          | 0/25 [00:00<?, ?it/s]"
            ]
          },
          "metadata": {},
          "output_type": "display_data"
        },
        {
          "name": "stdout",
          "output_type": "stream",
          "text": [
            "val_loss: 1.0510486102104186\n",
            "val_acc: 0.4005069708491762\n",
            "Start validation: current_steps=3525, epoch=17\n"
          ]
        },
        {
          "data": {
            "application/vnd.jupyter.widget-view+json": {
              "model_id": "538af6aa10424c85821afb455ae25d75",
              "version_major": 2,
              "version_minor": 0
            },
            "text/plain": [
              "  0%|          | 0/25 [00:00<?, ?it/s]"
            ]
          },
          "metadata": {},
          "output_type": "display_data"
        },
        {
          "name": "stdout",
          "output_type": "stream",
          "text": [
            "val_loss: 1.0510486102104186\n",
            "val_acc: 0.4005069708491762\n",
            "Start validation: current_steps=3550, epoch=17\n"
          ]
        },
        {
          "data": {
            "application/vnd.jupyter.widget-view+json": {
              "model_id": "6a0db44d4ae44770ad300f31b70cc0b8",
              "version_major": 2,
              "version_minor": 0
            },
            "text/plain": [
              "  0%|          | 0/25 [00:00<?, ?it/s]"
            ]
          },
          "metadata": {},
          "output_type": "display_data"
        },
        {
          "name": "stdout",
          "output_type": "stream",
          "text": [
            "val_loss: 1.0510486102104186\n",
            "val_acc: 0.4005069708491762\n",
            "Start validation: current_steps=3575, epoch=18\n"
          ]
        },
        {
          "data": {
            "application/vnd.jupyter.widget-view+json": {
              "model_id": "2251c4163a98421991da4b1d6895a96f",
              "version_major": 2,
              "version_minor": 0
            },
            "text/plain": [
              "  0%|          | 0/25 [00:00<?, ?it/s]"
            ]
          },
          "metadata": {},
          "output_type": "display_data"
        },
        {
          "name": "stdout",
          "output_type": "stream",
          "text": [
            "val_loss: 1.0510486102104186\n",
            "val_acc: 0.4005069708491762\n",
            "Start validation: current_steps=3600, epoch=18\n"
          ]
        },
        {
          "data": {
            "application/vnd.jupyter.widget-view+json": {
              "model_id": "f923b043d6d1484280bb4df133d2615c",
              "version_major": 2,
              "version_minor": 0
            },
            "text/plain": [
              "  0%|          | 0/25 [00:00<?, ?it/s]"
            ]
          },
          "metadata": {},
          "output_type": "display_data"
        },
        {
          "name": "stdout",
          "output_type": "stream",
          "text": [
            "val_loss: 1.0510486102104186\n",
            "val_acc: 0.4005069708491762\n",
            "Start validation: current_steps=3625, epoch=18\n"
          ]
        },
        {
          "data": {
            "application/vnd.jupyter.widget-view+json": {
              "model_id": "f7d6d9ac62bb40788b72fcd017ff8493",
              "version_major": 2,
              "version_minor": 0
            },
            "text/plain": [
              "  0%|          | 0/25 [00:00<?, ?it/s]"
            ]
          },
          "metadata": {},
          "output_type": "display_data"
        },
        {
          "name": "stdout",
          "output_type": "stream",
          "text": [
            "val_loss: 1.0510486102104186\n",
            "val_acc: 0.4005069708491762\n",
            "Start validation: current_steps=3650, epoch=18\n"
          ]
        },
        {
          "data": {
            "application/vnd.jupyter.widget-view+json": {
              "model_id": "472c7519fd314a6781ee6435377af767",
              "version_major": 2,
              "version_minor": 0
            },
            "text/plain": [
              "  0%|          | 0/25 [00:00<?, ?it/s]"
            ]
          },
          "metadata": {},
          "output_type": "display_data"
        },
        {
          "name": "stdout",
          "output_type": "stream",
          "text": [
            "val_loss: 1.0510486102104186\n",
            "val_acc: 0.4005069708491762\n",
            "Start validation: current_steps=3675, epoch=18\n"
          ]
        },
        {
          "data": {
            "application/vnd.jupyter.widget-view+json": {
              "model_id": "acbe96b8b1ef454fb5af6405e386717f",
              "version_major": 2,
              "version_minor": 0
            },
            "text/plain": [
              "  0%|          | 0/25 [00:00<?, ?it/s]"
            ]
          },
          "metadata": {},
          "output_type": "display_data"
        },
        {
          "name": "stdout",
          "output_type": "stream",
          "text": [
            "val_loss: 1.0510486102104186\n",
            "val_acc: 0.4005069708491762\n",
            "Start validation: current_steps=3700, epoch=18\n"
          ]
        },
        {
          "data": {
            "application/vnd.jupyter.widget-view+json": {
              "model_id": "c2d845265a604013a1c0607b20362ab3",
              "version_major": 2,
              "version_minor": 0
            },
            "text/plain": [
              "  0%|          | 0/25 [00:00<?, ?it/s]"
            ]
          },
          "metadata": {},
          "output_type": "display_data"
        },
        {
          "name": "stdout",
          "output_type": "stream",
          "text": [
            "val_loss: 1.0510486102104186\n",
            "val_acc: 0.4005069708491762\n",
            "Start validation: current_steps=3725, epoch=18\n"
          ]
        },
        {
          "data": {
            "application/vnd.jupyter.widget-view+json": {
              "model_id": "68e2ac1f5e4b4980a46d81128e3bf79a",
              "version_major": 2,
              "version_minor": 0
            },
            "text/plain": [
              "  0%|          | 0/25 [00:00<?, ?it/s]"
            ]
          },
          "metadata": {},
          "output_type": "display_data"
        },
        {
          "name": "stdout",
          "output_type": "stream",
          "text": [
            "val_loss: 1.0510486102104186\n",
            "val_acc: 0.4005069708491762\n",
            "Start validation: current_steps=3750, epoch=18\n"
          ]
        },
        {
          "data": {
            "application/vnd.jupyter.widget-view+json": {
              "model_id": "f3a045d5cbd4488c8055f2cd8d0036a9",
              "version_major": 2,
              "version_minor": 0
            },
            "text/plain": [
              "  0%|          | 0/25 [00:00<?, ?it/s]"
            ]
          },
          "metadata": {},
          "output_type": "display_data"
        },
        {
          "name": "stdout",
          "output_type": "stream",
          "text": [
            "val_loss: 1.0510486102104186\n",
            "val_acc: 0.4005069708491762\n",
            "Start validation: current_steps=3775, epoch=19\n"
          ]
        },
        {
          "data": {
            "application/vnd.jupyter.widget-view+json": {
              "model_id": "5d681ee0f9284967b64dba86da1a5101",
              "version_major": 2,
              "version_minor": 0
            },
            "text/plain": [
              "  0%|          | 0/25 [00:00<?, ?it/s]"
            ]
          },
          "metadata": {},
          "output_type": "display_data"
        },
        {
          "name": "stdout",
          "output_type": "stream",
          "text": [
            "val_loss: 1.0510486102104186\n",
            "val_acc: 0.4005069708491762\n",
            "Start validation: current_steps=3800, epoch=19\n"
          ]
        },
        {
          "data": {
            "application/vnd.jupyter.widget-view+json": {
              "model_id": "9647cfdd98394cf8ac8af27acabd5dae",
              "version_major": 2,
              "version_minor": 0
            },
            "text/plain": [
              "  0%|          | 0/25 [00:00<?, ?it/s]"
            ]
          },
          "metadata": {},
          "output_type": "display_data"
        },
        {
          "name": "stdout",
          "output_type": "stream",
          "text": [
            "val_loss: 1.0510486102104186\n",
            "val_acc: 0.4005069708491762\n",
            "Start validation: current_steps=3825, epoch=19\n"
          ]
        },
        {
          "data": {
            "application/vnd.jupyter.widget-view+json": {
              "model_id": "d26329f8c51a4512ac18fdb76a2dd567",
              "version_major": 2,
              "version_minor": 0
            },
            "text/plain": [
              "  0%|          | 0/25 [00:00<?, ?it/s]"
            ]
          },
          "metadata": {},
          "output_type": "display_data"
        },
        {
          "name": "stdout",
          "output_type": "stream",
          "text": [
            "val_loss: 1.0510486102104186\n",
            "val_acc: 0.4005069708491762\n",
            "Start validation: current_steps=3850, epoch=19\n"
          ]
        },
        {
          "data": {
            "application/vnd.jupyter.widget-view+json": {
              "model_id": "8fe17235b2c44da9ac8587ecaf178a8b",
              "version_major": 2,
              "version_minor": 0
            },
            "text/plain": [
              "  0%|          | 0/25 [00:00<?, ?it/s]"
            ]
          },
          "metadata": {},
          "output_type": "display_data"
        },
        {
          "name": "stdout",
          "output_type": "stream",
          "text": [
            "val_loss: 1.0510486102104186\n",
            "val_acc: 0.4005069708491762\n",
            "Start validation: current_steps=3875, epoch=19\n"
          ]
        },
        {
          "data": {
            "application/vnd.jupyter.widget-view+json": {
              "model_id": "ca02856e4cc44d0987e1bd79ba32ef5a",
              "version_major": 2,
              "version_minor": 0
            },
            "text/plain": [
              "  0%|          | 0/25 [00:00<?, ?it/s]"
            ]
          },
          "metadata": {},
          "output_type": "display_data"
        },
        {
          "name": "stdout",
          "output_type": "stream",
          "text": [
            "val_loss: 1.0510486102104186\n",
            "val_acc: 0.4005069708491762\n",
            "Start validation: current_steps=3900, epoch=19\n"
          ]
        },
        {
          "data": {
            "application/vnd.jupyter.widget-view+json": {
              "model_id": "f18264f340bb4b699357d352b82c3ebf",
              "version_major": 2,
              "version_minor": 0
            },
            "text/plain": [
              "  0%|          | 0/25 [00:00<?, ?it/s]"
            ]
          },
          "metadata": {},
          "output_type": "display_data"
        },
        {
          "name": "stdout",
          "output_type": "stream",
          "text": [
            "val_loss: 1.0510486102104186\n",
            "val_acc: 0.4005069708491762\n",
            "Start validation: current_steps=3925, epoch=19\n"
          ]
        },
        {
          "data": {
            "application/vnd.jupyter.widget-view+json": {
              "model_id": "b99c56d7fc644dfea11b1cdacb624c76",
              "version_major": 2,
              "version_minor": 0
            },
            "text/plain": [
              "  0%|          | 0/25 [00:00<?, ?it/s]"
            ]
          },
          "metadata": {},
          "output_type": "display_data"
        },
        {
          "name": "stdout",
          "output_type": "stream",
          "text": [
            "val_loss: 1.0510486102104186\n",
            "val_acc: 0.4005069708491762\n",
            "Start validation: current_steps=3950, epoch=19\n"
          ]
        },
        {
          "data": {
            "application/vnd.jupyter.widget-view+json": {
              "model_id": "889cb0e0590042edb1ee71c2b6c54690",
              "version_major": 2,
              "version_minor": 0
            },
            "text/plain": [
              "  0%|          | 0/25 [00:00<?, ?it/s]"
            ]
          },
          "metadata": {},
          "output_type": "display_data"
        },
        {
          "name": "stdout",
          "output_type": "stream",
          "text": [
            "val_loss: 1.0510486102104186\n",
            "val_acc: 0.4005069708491762\n",
            "Finished training!\n"
          ]
        }
      ],
      "source": [
        "progress_bar = tqdm(range(num_training_steps))\n",
        "current_steps = 0\n",
        "\n",
        "for epoch in range(NUM_EPOCHS):\n",
        "    model.train()\n",
        "\n",
        "    for batch in train_dataloader:\n",
        "        torch.cuda.empty_cache()\n",
        "        batch = {k: v.to(device) for k, v in batch.items()}\n",
        "        outputs = model(**batch)\n",
        "        loss = outputs.loss\n",
        "        loss.backward()\n",
        "\n",
        "        optimizer.step()\n",
        "        lr_scheduler.step()\n",
        "        optimizer.zero_grad()\n",
        "        progress_bar.update(1)\n",
        "        writer.add_scalar(\"training_loss\", loss.item(), current_steps)\n",
        "\n",
        "        y_pred = torch.argmax(outputs.logits, dim=1).tolist()\n",
        "        y_true = batch[\"labels\"].tolist()\n",
        "\n",
        "        current_steps += 1\n",
        "\n",
        "        if current_steps % VALIDATION_STEP == 0 and current_steps > 0:\n",
        "            print(f\"Start validation: current_steps={current_steps}, epoch={epoch}\")\n",
        "            val_results = run_evaluation(model, eval_dataloader, device)\n",
        "\n",
        "            # log each metric separately to TensorBoard\n",
        "            for metric_name, metric_value in val_results.items():\n",
        "                print(f\"{metric_name}: {metric_value}\")\n",
        "                writer.add_scalar(f\"{metric_name}\", metric_value, current_steps)\n",
        "\n",
        "            val_acc = val_results['val_acc']\n",
        "            if val_acc > 0.4:\n",
        "                save_checkpoint(\n",
        "                    model,\n",
        "                    CKPT_DIR,\n",
        "                    current_steps,\n",
        "                    mark=f\"val_acc={val_acc:.4f}\",\n",
        "                )\n",
        "\n",
        "print(\"Finished training!\")"
      ]
    },
    {
      "attachments": {},
      "cell_type": "markdown",
      "metadata": {},
      "source": [
        "### Step 4. Make your submission"
      ]
    },
    {
      "cell_type": "code",
      "execution_count": 19,
      "metadata": {
        "id": "zLkfuoAE49mz"
      },
      "outputs": [],
      "source": [
        "TEST_DATA = load_json(\"data/test_doc5sent5.jsonl\")\n",
        "TEST_PKL_FILE = Path(\"data/test_doc5sent5.pkl\")\n",
        "\n",
        "if not TEST_PKL_FILE.exists():\n",
        "    test_df = join_with_topk_evidence(\n",
        "        pd.DataFrame(TEST_DATA),\n",
        "        mapping,\n",
        "        mode=\"eval\",\n",
        "        topk=EVIDENCE_TOPK,\n",
        "    )\n",
        "    test_df.to_pickle(TEST_PKL_FILE, protocol=4)\n",
        "else:\n",
        "    with open(TEST_PKL_FILE, \"rb\") as f:\n",
        "        test_df = pickle.load(f)\n",
        "\n",
        "test_dataset = AicupTopkEvidenceBERTDataset(\n",
        "    test_df,\n",
        "    tokenizer=tokenizer,\n",
        "    max_length=MAX_SEQ_LEN,\n",
        ")\n",
        "test_dataloader = DataLoader(test_dataset, batch_size=TEST_BATCH_SIZE)"
      ]
    },
    {
      "attachments": {},
      "cell_type": "markdown",
      "metadata": {},
      "source": [
        "Prediction"
      ]
    },
    {
      "cell_type": "code",
      "execution_count": 118,
      "metadata": {},
      "outputs": [],
      "source": [
        "torch.cuda.empty_cache()"
      ]
    },
    {
      "cell_type": "code",
      "execution_count": 119,
      "metadata": {
        "id": "tqIjlht8yCMA"
      },
      "outputs": [
        {
          "ename": "OutOfMemoryError",
          "evalue": "CUDA out of memory. Tried to allocate 20.00 MiB (GPU 0; 7.93 GiB total capacity; 7.16 GiB already allocated; 19.19 MiB free; 7.21 GiB reserved in total by PyTorch) If reserved memory is >> allocated memory try setting max_split_size_mb to avoid fragmentation.  See documentation for Memory Management and PYTORCH_CUDA_ALLOC_CONF",
          "output_type": "error",
          "traceback": [
            "\u001b[0;31m---------------------------------------------------------------------------\u001b[0m",
            "\u001b[0;31mOutOfMemoryError\u001b[0m                          Traceback (most recent call last)",
            "\u001b[0;32m/tmp/ipykernel_627435/2787348569.py\u001b[0m in \u001b[0;36m<module>\u001b[0;34m\u001b[0m\n\u001b[1;32m      1\u001b[0m \u001b[0mckpt_name\u001b[0m \u001b[0;34m=\u001b[0m \u001b[0;34m\"val_acc=0.4056_model.1000.pt\"\u001b[0m  \u001b[0;31m#@param {type:\"string\"}\u001b[0m\u001b[0;34m\u001b[0m\u001b[0;34m\u001b[0m\u001b[0m\n\u001b[0;32m----> 2\u001b[0;31m \u001b[0mmodel\u001b[0m \u001b[0;34m=\u001b[0m \u001b[0mload_model\u001b[0m\u001b[0;34m(\u001b[0m\u001b[0mmodel\u001b[0m\u001b[0;34m,\u001b[0m \u001b[0mckpt_name\u001b[0m\u001b[0;34m,\u001b[0m \u001b[0mCKPT_DIR\u001b[0m\u001b[0;34m)\u001b[0m\u001b[0;34m\u001b[0m\u001b[0;34m\u001b[0m\u001b[0m\n\u001b[0m\u001b[1;32m      3\u001b[0m \u001b[0mpredicted_label\u001b[0m \u001b[0;34m=\u001b[0m \u001b[0mrun_predict\u001b[0m\u001b[0;34m(\u001b[0m\u001b[0mmodel\u001b[0m\u001b[0;34m,\u001b[0m \u001b[0mtest_dataloader\u001b[0m\u001b[0;34m,\u001b[0m \u001b[0mdevice\u001b[0m\u001b[0;34m)\u001b[0m\u001b[0;34m\u001b[0m\u001b[0;34m\u001b[0m\u001b[0m\n",
            "\u001b[0;32m~/Gaber_AICUP2023/utils.py\u001b[0m in \u001b[0;36mload_model\u001b[0;34m(model, ckpt_name, ckpt_dir)\u001b[0m\n\u001b[1;32m    126\u001b[0m \u001b[0;34m\u001b[0m\u001b[0m\n\u001b[1;32m    127\u001b[0m \u001b[0;32mdef\u001b[0m \u001b[0mload_model\u001b[0m\u001b[0;34m(\u001b[0m\u001b[0mmodel\u001b[0m\u001b[0;34m,\u001b[0m \u001b[0mckpt_name\u001b[0m\u001b[0;34m,\u001b[0m \u001b[0mckpt_dir\u001b[0m\u001b[0;34m:\u001b[0m \u001b[0mstr\u001b[0m\u001b[0;34m)\u001b[0m\u001b[0;34m:\u001b[0m\u001b[0;34m\u001b[0m\u001b[0;34m\u001b[0m\u001b[0m\n\u001b[0;32m--> 128\u001b[0;31m     \u001b[0mmodel\u001b[0m\u001b[0;34m.\u001b[0m\u001b[0mload_state_dict\u001b[0m\u001b[0;34m(\u001b[0m\u001b[0mtorch\u001b[0m\u001b[0;34m.\u001b[0m\u001b[0mload\u001b[0m\u001b[0;34m(\u001b[0m\u001b[0;34mf\"{ckpt_dir}/{ckpt_name}\"\u001b[0m\u001b[0;34m)\u001b[0m\u001b[0;34m)\u001b[0m\u001b[0;34m\u001b[0m\u001b[0;34m\u001b[0m\u001b[0m\n\u001b[0m\u001b[1;32m    129\u001b[0m     \u001b[0;32mreturn\u001b[0m \u001b[0mmodel\u001b[0m\u001b[0;34m\u001b[0m\u001b[0;34m\u001b[0m\u001b[0m\n",
            "\u001b[0;32m~/.local/lib/python3.8/site-packages/torch/serialization.py\u001b[0m in \u001b[0;36mload\u001b[0;34m(f, map_location, pickle_module, weights_only, **pickle_load_args)\u001b[0m\n\u001b[1;32m    787\u001b[0m                     \u001b[0;32mexcept\u001b[0m \u001b[0mRuntimeError\u001b[0m \u001b[0;32mas\u001b[0m \u001b[0me\u001b[0m\u001b[0;34m:\u001b[0m\u001b[0;34m\u001b[0m\u001b[0;34m\u001b[0m\u001b[0m\n\u001b[1;32m    788\u001b[0m                         \u001b[0;32mraise\u001b[0m \u001b[0mpickle\u001b[0m\u001b[0;34m.\u001b[0m\u001b[0mUnpicklingError\u001b[0m\u001b[0;34m(\u001b[0m\u001b[0mUNSAFE_MESSAGE\u001b[0m \u001b[0;34m+\u001b[0m \u001b[0mstr\u001b[0m\u001b[0;34m(\u001b[0m\u001b[0me\u001b[0m\u001b[0;34m)\u001b[0m\u001b[0;34m)\u001b[0m \u001b[0;32mfrom\u001b[0m \u001b[0;32mNone\u001b[0m\u001b[0;34m\u001b[0m\u001b[0;34m\u001b[0m\u001b[0m\n\u001b[0;32m--> 789\u001b[0;31m                 \u001b[0;32mreturn\u001b[0m \u001b[0m_load\u001b[0m\u001b[0;34m(\u001b[0m\u001b[0mopened_zipfile\u001b[0m\u001b[0;34m,\u001b[0m \u001b[0mmap_location\u001b[0m\u001b[0;34m,\u001b[0m \u001b[0mpickle_module\u001b[0m\u001b[0;34m,\u001b[0m \u001b[0;34m**\u001b[0m\u001b[0mpickle_load_args\u001b[0m\u001b[0;34m)\u001b[0m\u001b[0;34m\u001b[0m\u001b[0;34m\u001b[0m\u001b[0m\n\u001b[0m\u001b[1;32m    790\u001b[0m         \u001b[0;32mif\u001b[0m \u001b[0mweights_only\u001b[0m\u001b[0;34m:\u001b[0m\u001b[0;34m\u001b[0m\u001b[0;34m\u001b[0m\u001b[0m\n\u001b[1;32m    791\u001b[0m             \u001b[0;32mtry\u001b[0m\u001b[0;34m:\u001b[0m\u001b[0;34m\u001b[0m\u001b[0;34m\u001b[0m\u001b[0m\n",
            "\u001b[0;32m~/.local/lib/python3.8/site-packages/torch/serialization.py\u001b[0m in \u001b[0;36m_load\u001b[0;34m(zip_file, map_location, pickle_module, pickle_file, **pickle_load_args)\u001b[0m\n\u001b[1;32m   1129\u001b[0m     \u001b[0munpickler\u001b[0m \u001b[0;34m=\u001b[0m \u001b[0mUnpicklerWrapper\u001b[0m\u001b[0;34m(\u001b[0m\u001b[0mdata_file\u001b[0m\u001b[0;34m,\u001b[0m \u001b[0;34m**\u001b[0m\u001b[0mpickle_load_args\u001b[0m\u001b[0;34m)\u001b[0m\u001b[0;34m\u001b[0m\u001b[0;34m\u001b[0m\u001b[0m\n\u001b[1;32m   1130\u001b[0m     \u001b[0munpickler\u001b[0m\u001b[0;34m.\u001b[0m\u001b[0mpersistent_load\u001b[0m \u001b[0;34m=\u001b[0m \u001b[0mpersistent_load\u001b[0m\u001b[0;34m\u001b[0m\u001b[0;34m\u001b[0m\u001b[0m\n\u001b[0;32m-> 1131\u001b[0;31m     \u001b[0mresult\u001b[0m \u001b[0;34m=\u001b[0m \u001b[0munpickler\u001b[0m\u001b[0;34m.\u001b[0m\u001b[0mload\u001b[0m\u001b[0;34m(\u001b[0m\u001b[0;34m)\u001b[0m\u001b[0;34m\u001b[0m\u001b[0;34m\u001b[0m\u001b[0m\n\u001b[0m\u001b[1;32m   1132\u001b[0m \u001b[0;34m\u001b[0m\u001b[0m\n\u001b[1;32m   1133\u001b[0m     \u001b[0mtorch\u001b[0m\u001b[0;34m.\u001b[0m\u001b[0m_utils\u001b[0m\u001b[0;34m.\u001b[0m\u001b[0m_validate_loaded_sparse_tensors\u001b[0m\u001b[0;34m(\u001b[0m\u001b[0;34m)\u001b[0m\u001b[0;34m\u001b[0m\u001b[0;34m\u001b[0m\u001b[0m\n",
            "\u001b[0;32m~/.local/lib/python3.8/site-packages/torch/serialization.py\u001b[0m in \u001b[0;36mpersistent_load\u001b[0;34m(saved_id)\u001b[0m\n\u001b[1;32m   1099\u001b[0m         \u001b[0;32mif\u001b[0m \u001b[0mkey\u001b[0m \u001b[0;32mnot\u001b[0m \u001b[0;32min\u001b[0m \u001b[0mloaded_storages\u001b[0m\u001b[0;34m:\u001b[0m\u001b[0;34m\u001b[0m\u001b[0;34m\u001b[0m\u001b[0m\n\u001b[1;32m   1100\u001b[0m             \u001b[0mnbytes\u001b[0m \u001b[0;34m=\u001b[0m \u001b[0mnumel\u001b[0m \u001b[0;34m*\u001b[0m \u001b[0mtorch\u001b[0m\u001b[0;34m.\u001b[0m\u001b[0m_utils\u001b[0m\u001b[0;34m.\u001b[0m\u001b[0m_element_size\u001b[0m\u001b[0;34m(\u001b[0m\u001b[0mdtype\u001b[0m\u001b[0;34m)\u001b[0m\u001b[0;34m\u001b[0m\u001b[0;34m\u001b[0m\u001b[0m\n\u001b[0;32m-> 1101\u001b[0;31m             \u001b[0mload_tensor\u001b[0m\u001b[0;34m(\u001b[0m\u001b[0mdtype\u001b[0m\u001b[0;34m,\u001b[0m \u001b[0mnbytes\u001b[0m\u001b[0;34m,\u001b[0m \u001b[0mkey\u001b[0m\u001b[0;34m,\u001b[0m \u001b[0m_maybe_decode_ascii\u001b[0m\u001b[0;34m(\u001b[0m\u001b[0mlocation\u001b[0m\u001b[0;34m)\u001b[0m\u001b[0;34m)\u001b[0m\u001b[0;34m\u001b[0m\u001b[0;34m\u001b[0m\u001b[0m\n\u001b[0m\u001b[1;32m   1102\u001b[0m \u001b[0;34m\u001b[0m\u001b[0m\n\u001b[1;32m   1103\u001b[0m         \u001b[0;32mreturn\u001b[0m \u001b[0mloaded_storages\u001b[0m\u001b[0;34m[\u001b[0m\u001b[0mkey\u001b[0m\u001b[0;34m]\u001b[0m\u001b[0;34m\u001b[0m\u001b[0;34m\u001b[0m\u001b[0m\n",
            "\u001b[0;32m~/.local/lib/python3.8/site-packages/torch/serialization.py\u001b[0m in \u001b[0;36mload_tensor\u001b[0;34m(dtype, numel, key, location)\u001b[0m\n\u001b[1;32m   1081\u001b[0m         \u001b[0;31m# stop wrapping with TypedStorage\u001b[0m\u001b[0;34m\u001b[0m\u001b[0;34m\u001b[0m\u001b[0;34m\u001b[0m\u001b[0m\n\u001b[1;32m   1082\u001b[0m         loaded_storages[key] = torch.storage.TypedStorage(\n\u001b[0;32m-> 1083\u001b[0;31m             \u001b[0mwrap_storage\u001b[0m\u001b[0;34m=\u001b[0m\u001b[0mrestore_location\u001b[0m\u001b[0;34m(\u001b[0m\u001b[0mstorage\u001b[0m\u001b[0;34m,\u001b[0m \u001b[0mlocation\u001b[0m\u001b[0;34m)\u001b[0m\u001b[0;34m,\u001b[0m\u001b[0;34m\u001b[0m\u001b[0;34m\u001b[0m\u001b[0m\n\u001b[0m\u001b[1;32m   1084\u001b[0m             dtype=dtype)\n\u001b[1;32m   1085\u001b[0m \u001b[0;34m\u001b[0m\u001b[0m\n",
            "\u001b[0;32m~/.local/lib/python3.8/site-packages/torch/serialization.py\u001b[0m in \u001b[0;36mdefault_restore_location\u001b[0;34m(storage, location)\u001b[0m\n\u001b[1;32m    213\u001b[0m \u001b[0;32mdef\u001b[0m \u001b[0mdefault_restore_location\u001b[0m\u001b[0;34m(\u001b[0m\u001b[0mstorage\u001b[0m\u001b[0;34m,\u001b[0m \u001b[0mlocation\u001b[0m\u001b[0;34m)\u001b[0m\u001b[0;34m:\u001b[0m\u001b[0;34m\u001b[0m\u001b[0;34m\u001b[0m\u001b[0m\n\u001b[1;32m    214\u001b[0m     \u001b[0;32mfor\u001b[0m \u001b[0m_\u001b[0m\u001b[0;34m,\u001b[0m \u001b[0m_\u001b[0m\u001b[0;34m,\u001b[0m \u001b[0mfn\u001b[0m \u001b[0;32min\u001b[0m \u001b[0m_package_registry\u001b[0m\u001b[0;34m:\u001b[0m\u001b[0;34m\u001b[0m\u001b[0;34m\u001b[0m\u001b[0m\n\u001b[0;32m--> 215\u001b[0;31m         \u001b[0mresult\u001b[0m \u001b[0;34m=\u001b[0m \u001b[0mfn\u001b[0m\u001b[0;34m(\u001b[0m\u001b[0mstorage\u001b[0m\u001b[0;34m,\u001b[0m \u001b[0mlocation\u001b[0m\u001b[0;34m)\u001b[0m\u001b[0;34m\u001b[0m\u001b[0;34m\u001b[0m\u001b[0m\n\u001b[0m\u001b[1;32m    216\u001b[0m         \u001b[0;32mif\u001b[0m \u001b[0mresult\u001b[0m \u001b[0;32mis\u001b[0m \u001b[0;32mnot\u001b[0m \u001b[0;32mNone\u001b[0m\u001b[0;34m:\u001b[0m\u001b[0;34m\u001b[0m\u001b[0;34m\u001b[0m\u001b[0m\n\u001b[1;32m    217\u001b[0m             \u001b[0;32mreturn\u001b[0m \u001b[0mresult\u001b[0m\u001b[0;34m\u001b[0m\u001b[0;34m\u001b[0m\u001b[0m\n",
            "\u001b[0;32m~/.local/lib/python3.8/site-packages/torch/serialization.py\u001b[0m in \u001b[0;36m_cuda_deserialize\u001b[0;34m(obj, location)\u001b[0m\n\u001b[1;32m    185\u001b[0m                 \u001b[0;32mreturn\u001b[0m \u001b[0mtorch\u001b[0m\u001b[0;34m.\u001b[0m\u001b[0mUntypedStorage\u001b[0m\u001b[0;34m(\u001b[0m\u001b[0mobj\u001b[0m\u001b[0;34m.\u001b[0m\u001b[0mnbytes\u001b[0m\u001b[0;34m(\u001b[0m\u001b[0;34m)\u001b[0m\u001b[0;34m,\u001b[0m \u001b[0mdevice\u001b[0m\u001b[0;34m=\u001b[0m\u001b[0mtorch\u001b[0m\u001b[0;34m.\u001b[0m\u001b[0mdevice\u001b[0m\u001b[0;34m(\u001b[0m\u001b[0mlocation\u001b[0m\u001b[0;34m)\u001b[0m\u001b[0;34m)\u001b[0m\u001b[0;34m\u001b[0m\u001b[0;34m\u001b[0m\u001b[0m\n\u001b[1;32m    186\u001b[0m         \u001b[0;32melse\u001b[0m\u001b[0;34m:\u001b[0m\u001b[0;34m\u001b[0m\u001b[0;34m\u001b[0m\u001b[0m\n\u001b[0;32m--> 187\u001b[0;31m             \u001b[0;32mreturn\u001b[0m \u001b[0mobj\u001b[0m\u001b[0;34m.\u001b[0m\u001b[0mcuda\u001b[0m\u001b[0;34m(\u001b[0m\u001b[0mdevice\u001b[0m\u001b[0;34m)\u001b[0m\u001b[0;34m\u001b[0m\u001b[0;34m\u001b[0m\u001b[0m\n\u001b[0m\u001b[1;32m    188\u001b[0m \u001b[0;34m\u001b[0m\u001b[0m\n\u001b[1;32m    189\u001b[0m \u001b[0;32mdef\u001b[0m \u001b[0m_mps_deserialize\u001b[0m\u001b[0;34m(\u001b[0m\u001b[0mobj\u001b[0m\u001b[0;34m,\u001b[0m \u001b[0mlocation\u001b[0m\u001b[0;34m)\u001b[0m\u001b[0;34m:\u001b[0m\u001b[0;34m\u001b[0m\u001b[0;34m\u001b[0m\u001b[0m\n",
            "\u001b[0;32m~/.local/lib/python3.8/site-packages/torch/_utils.py\u001b[0m in \u001b[0;36m_cuda\u001b[0;34m(self, device, non_blocking, **kwargs)\u001b[0m\n\u001b[1;32m     78\u001b[0m             \u001b[0;32mreturn\u001b[0m \u001b[0mnew_type\u001b[0m\u001b[0;34m(\u001b[0m\u001b[0mindices\u001b[0m\u001b[0;34m,\u001b[0m \u001b[0mvalues\u001b[0m\u001b[0;34m,\u001b[0m \u001b[0mself\u001b[0m\u001b[0;34m.\u001b[0m\u001b[0msize\u001b[0m\u001b[0;34m(\u001b[0m\u001b[0;34m)\u001b[0m\u001b[0;34m)\u001b[0m\u001b[0;34m\u001b[0m\u001b[0;34m\u001b[0m\u001b[0m\n\u001b[1;32m     79\u001b[0m         \u001b[0;32melse\u001b[0m\u001b[0;34m:\u001b[0m\u001b[0;34m\u001b[0m\u001b[0;34m\u001b[0m\u001b[0m\n\u001b[0;32m---> 80\u001b[0;31m             untyped_storage = torch.UntypedStorage(\n\u001b[0m\u001b[1;32m     81\u001b[0m                 \u001b[0mself\u001b[0m\u001b[0;34m.\u001b[0m\u001b[0msize\u001b[0m\u001b[0;34m(\u001b[0m\u001b[0;34m)\u001b[0m\u001b[0;34m,\u001b[0m \u001b[0mdevice\u001b[0m\u001b[0;34m=\u001b[0m\u001b[0mtorch\u001b[0m\u001b[0;34m.\u001b[0m\u001b[0mdevice\u001b[0m\u001b[0;34m(\u001b[0m\u001b[0;34m\"cuda\"\u001b[0m\u001b[0;34m)\u001b[0m\u001b[0;34m\u001b[0m\u001b[0;34m\u001b[0m\u001b[0m\n\u001b[1;32m     82\u001b[0m             )\n",
            "\u001b[0;31mOutOfMemoryError\u001b[0m: CUDA out of memory. Tried to allocate 20.00 MiB (GPU 0; 7.93 GiB total capacity; 7.16 GiB already allocated; 19.19 MiB free; 7.21 GiB reserved in total by PyTorch) If reserved memory is >> allocated memory try setting max_split_size_mb to avoid fragmentation.  See documentation for Memory Management and PYTORCH_CUDA_ALLOC_CONF"
          ]
        }
      ],
      "source": [
        "ckpt_name = \"val_acc=0.4056_model.1000.pt\"  #@param {type:\"string\"}\n",
        "model = load_model(model, ckpt_name, CKPT_DIR)\n",
        "predicted_label = run_predict(model, test_dataloader, device)"
      ]
    },
    {
      "attachments": {},
      "cell_type": "markdown",
      "metadata": {},
      "source": [
        "Write files"
      ]
    },
    {
      "cell_type": "code",
      "execution_count": 18,
      "metadata": {
        "id": "Gl9I3ZWW4pHo"
      },
      "outputs": [],
      "source": [
        "predict_dataset = test_df.copy()\n",
        "predict_dataset[\"predicted_label\"] = list(map(ID2LABEL.get, predicted_label))\n",
        "predict_dataset[[\"id\", \"predicted_label\", \"predicted_evidence\"]].to_json(\n",
        "    f\"submission/{ckpt_name[:14]}_{OUTPUT_FILENAME}\",\n",
        "    orient=\"records\",\n",
        "    lines=True,\n",
        "    force_ascii=False,\n",
        ")"
      ]
    }
  ],
  "metadata": {
    "accelerator": "GPU",
    "colab": {
      "provenance": []
    },
    "gpuClass": "standard",
    "kernelspec": {
      "display_name": "Python 3",
      "language": "python",
      "name": "python3"
    },
    "language_info": {
      "codemirror_mode": {
        "name": "ipython",
        "version": 3
      },
      "file_extension": ".py",
      "mimetype": "text/x-python",
      "name": "python",
      "nbconvert_exporter": "python",
      "pygments_lexer": "ipython3",
      "version": "3.8.10"
    },
    "vscode": {
      "interpreter": {
        "hash": "916dbcbb3f70747c44a77c7bcd40155683ae19c65e1c03b4aa3499c5328201f1"
      }
    }
  },
  "nbformat": 4,
  "nbformat_minor": 0
}
